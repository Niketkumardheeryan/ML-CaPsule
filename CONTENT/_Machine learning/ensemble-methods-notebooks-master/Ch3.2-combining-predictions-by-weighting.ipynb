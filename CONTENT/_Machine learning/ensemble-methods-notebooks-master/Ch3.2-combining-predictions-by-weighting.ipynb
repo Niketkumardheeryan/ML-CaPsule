{
 "cells": [
  {
   "cell_type": "markdown",
   "metadata": {},
   "source": [
    "_This notebook contains code and comments from Section 3.2 of the book [Ensemble Methods for Machine Learning](https://www.manning.com/books/ensemble-methods-for-machine-learning). Please see the book for additional details on this topic. This notebook and code are released under the [MIT license](https://github.com/gkunapuli/ensemble-methods-notebooks/blob/master/LICENSE)._\n",
    "\n",
    "---\n",
    "\n",
    "## 3.2 Combining predictions by weighting\n",
    "\n",
    "First, we copy over the data generation stuff and the functions ``fit`` and ``predict_individual`` exactly as is from Section 3.1. (An alternate way to do this would be to import the functions from the notebook using the ``ipynb`` package)."
   ]
  },
  {
   "cell_type": "code",
   "execution_count": 18,
   "metadata": {},
   "outputs": [],
   "source": [
    "from sklearn.datasets import make_moons\n",
    "from sklearn.model_selection import train_test_split\n",
    "\n",
    "X, y = make_moons(600, noise=0.25, random_state=13)\n",
    "X, Xval, y, yval = train_test_split(X, y, test_size=0.25)        # Set aside 25% of data for validation\n",
    "Xtrn, Xtst, ytrn, ytst = train_test_split(X, y, test_size=0.25)  # Set aside a further 25% of data for hold-out test"
   ]
  },
  {
   "cell_type": "code",
   "execution_count": 2,
   "metadata": {},
   "outputs": [],
   "source": [
    "# --- Some code to suppress warnings generated due to versioning changes in sklearn and scipy\n",
    "import warnings\n",
    "warnings.filterwarnings(\"ignore\", message=\"numpy.dtype size changed\")\n",
    "warnings.filterwarnings(\"ignore\", message=\"numpy.ufunc size changed\")\n",
    "# --- Can be removed at a future date\n",
    "\n",
    "from sklearn.tree import DecisionTreeClassifier\n",
    "from sklearn.svm import SVC\n",
    "from sklearn.neighbors import KNeighborsClassifier\n",
    "from sklearn.gaussian_process import GaussianProcessClassifier\n",
    "from sklearn.gaussian_process.kernels import RBF\n",
    "from sklearn.ensemble import RandomForestClassifier\n",
    "from sklearn.naive_bayes import GaussianNB\n",
    "\n",
    "estimators = [('dt', DecisionTreeClassifier(max_depth=5)),\n",
    "              ('svm', SVC(gamma=1.0, C=1.0, probability=True)),\n",
    "              ('gp', GaussianProcessClassifier(RBF(1.0))),\n",
    "           \t  ('3nn', KNeighborsClassifier(n_neighbors=3)),\n",
    "              ('rf',RandomForestClassifier(max_depth=3, n_estimators=25)),\n",
    "              ('gnb', GaussianNB())]\n",
    "\n",
    "def fit(estimators, X, y):\n",
    "    for model, estimator in estimators:\n",
    "        estimator.fit(X, y)\n",
    "    return estimators"
   ]
  },
  {
   "cell_type": "code",
   "execution_count": 3,
   "metadata": {},
   "outputs": [],
   "source": [
    "import numpy as np\n",
    "\n",
    "def predict_individual(X, estimators, proba=False):\n",
    "    n_estimators = len(estimators)\n",
    "    n_samples = X.shape[0] \n",
    "\n",
    "    y = np.zeros((n_samples, n_estimators))\n",
    "    for i, (model, estimator) in enumerate(estimators):\n",
    "        if proba:\n",
    "            y[:, i] = estimator.predict_proba(X)[:, 1]  \n",
    "        else:\n",
    "            y[:, i] = estimator.predict(X)              \n",
    "    return y"
   ]
  },
  {
   "cell_type": "markdown",
   "metadata": {},
   "source": [
    "Fit the estimators to the synthetic data set."
   ]
  },
  {
   "cell_type": "code",
   "execution_count": 4,
   "metadata": {},
   "outputs": [],
   "source": [
    "estimators = fit(estimators, Xtrn, ytrn)"
   ]
  },
  {
   "cell_type": "markdown",
   "metadata": {},
   "source": [
    "---\n",
    "\n",
    "### 3.2.1\tMajority Vote\n",
    "\n",
    "**Listing 3.3**: Combine predictions using majority vote. \n",
    "The listing below combines the individual predictions y_individual from a heterogeneous set of base estimators using majority voting. Note that since the weights of the base estimators are all equal, we do not explicitly compute them."
   ]
  },
  {
   "cell_type": "code",
   "execution_count": 5,
   "metadata": {},
   "outputs": [],
   "source": [
    "from scipy.stats import mode\n",
    "\n",
    "def combine_using_majority_vote(X, estimators):\n",
    "    y_individual = predict_individual(X, estimators, proba=False)\n",
    "    y_final = mode(y_individual, axis=1)\n",
    "    return y_final[0].reshape(-1, )"
   ]
  },
  {
   "cell_type": "code",
   "execution_count": 6,
   "metadata": {},
   "outputs": [
    {
     "data": {
      "text/plain": [
       "0.03539823008849563"
      ]
     },
     "execution_count": 6,
     "metadata": {},
     "output_type": "execute_result"
    }
   ],
   "source": [
    "from sklearn.metrics import accuracy_score\n",
    "ypred = combine_using_majority_vote(Xtst, estimators)\n",
    "tst_err = 1 - accuracy_score(ytst, ypred)\n",
    "tst_err"
   ]
  },
  {
   "cell_type": "markdown",
   "metadata": {},
   "source": [
    "---\n",
    "### 3.2.2 Accuracy weighting\n",
    "\n",
    "**Listing 3.4**: Combine using accuracy weighting\n",
    "\n",
    "Accuracy weighting is a performance-based weighting strategy, where higher-performing base estimators in the ensemble are assigned higher weights, so that they contribute more to the final prediction.\n",
    "\n",
    "Once we have trained each base classifier, we evaluate its performance on a validation set. Let $\\alpha_t$ be the validation accuracy of the $t$-th classifier, $H_t$. The weight of each base classifier is then computed as $w_t =  \\frac{\\alpha_t}{\\sum_{t=1}^m \\, \\alpha_t}$.\n",
    "\n",
    "The denominator is a normalization term: the sum of all the individual validation accuracies. This computation ensures that a classifier’s weight is proportional to its accuracy and all the weights sum to 1. "
   ]
  },
  {
   "cell_type": "code",
   "execution_count": 7,
   "metadata": {},
   "outputs": [],
   "source": [
    "def combine_using_accuracy_weighting(X, estimators, Xval, yval):\n",
    "    n_estimators = len(estimators)\n",
    "    yval_individual = predict_individual(Xval, estimators, proba=False)\n",
    "    \n",
    "    wts = [accuracy_score(yval, yval_individual[:, i]) \n",
    "       for i in range(n_estimators)] \n",
    "    wts /= np.sum(wts)\n",
    "\n",
    "    ypred_individual = predict_individual(X, estimators, proba=False)\n",
    "    y_final = np.dot(ypred_individual, wts) \n",
    "\n",
    "    return np.round(y_final)"
   ]
  },
  {
   "cell_type": "code",
   "execution_count": 8,
   "metadata": {},
   "outputs": [
    {
     "data": {
      "text/plain": [
       "0.03539823008849563"
      ]
     },
     "execution_count": 8,
     "metadata": {},
     "output_type": "execute_result"
    }
   ],
   "source": [
    "ypred = combine_using_accuracy_weighting(Xtst, estimators, Xval, yval)\n",
    "tst_err = 1 - accuracy_score(ytst, ypred)\n",
    "tst_err"
   ]
  },
  {
   "cell_type": "markdown",
   "metadata": {},
   "source": [
    "---\n",
    "\n",
    "### 3.2.3 Entropy weighting\n",
    "\n",
    "The entropy weighting approach is another performance-based weighting approach, except that it uses entropy as the evaluation metric to judge the value of each base estimator. [Entropy](https://en.wikipedia.org/wiki/Entropy_(information_theory)) is a measure of uncertainty or impurity in a set; a more disorderly set will have higher entropy. \n",
    "\n",
    "**Listing 3.5** Computing entropy."
   ]
  },
  {
   "cell_type": "code",
   "execution_count": 9,
   "metadata": {},
   "outputs": [],
   "source": [
    "def entropy(y):\n",
    "    _, counts = np.unique(y, return_counts=True) \n",
    "    p = np.array(counts.astype('float') / len(y))\n",
    "    ent = -p.T @ np.log2(p) \n",
    "\n",
    "    return ent"
   ]
  },
  {
   "cell_type": "markdown",
   "metadata": {},
   "source": [
    "**Listing 3.6**: Combine using entropy weighting\n",
    "\n",
    "Let $E_t$ be the validation entropy of the $t$-th classifier, $H_t$. The weight of each base classifier is then computed as \\frac{(1/E_t)}{\\sum_{t=1}^m \\, (1/E_t)}$. Contrast this with accuracy weighting, and observe that the entropies are inverted. This is because lower entropies are desirable, much like higher accuracies are desirable in a model."
   ]
  },
  {
   "cell_type": "code",
   "execution_count": 10,
   "metadata": {},
   "outputs": [],
   "source": [
    "def combine_using_entropy_weighting(X, estimators, Xval, yval):\n",
    "    n_estimators = len(estimators)\n",
    "    yval_individual = predict_individual(Xval, estimators, proba=False)\n",
    "    \n",
    "    wts = [1/entropy(yval_individual[:, i]) \n",
    "           for i in range(n_estimators)]\n",
    "    wts /= np.sum(wts)\n",
    "\n",
    "    ypred_individual = predict_individual(X, estimators, proba=False)\n",
    "    y_final = np.dot(ypred_individual, wts)\n",
    "    \n",
    "    return np.round(y_final)"
   ]
  },
  {
   "cell_type": "code",
   "execution_count": 11,
   "metadata": {},
   "outputs": [
    {
     "data": {
      "text/plain": [
       "0.03539823008849563"
      ]
     },
     "execution_count": 11,
     "metadata": {},
     "output_type": "execute_result"
    }
   ],
   "source": [
    "ypred = combine_using_entropy_weighting(Xtst, estimators, Xval, yval)\n",
    "tst_err = 1 - accuracy_score(ytst, ypred)\n",
    "tst_err"
   ]
  },
  {
   "cell_type": "markdown",
   "metadata": {},
   "source": [
    "--- \n",
    "### 3.2.4\tDempster-Shafer combination\n",
    "\n",
    "[Dempster-Shafer Theory](https://en.wikipedia.org/wiki/Dempster%E2%80%93Shafer_theory) is a generalization of probability theory that supports reasoning under uncertainty and with incomplete knowledge. While the foundations of DST are beyond the scope of this book, the theory itself provides a way to fuse beliefs and evidence from multiple sources into one single belief. \n",
    "\n",
    "DST uses a number between 0 and 1 to indicate belief in a proposition, such as “the test example x belongs to Class 1”.  This number is known as a basic probability assignment (BPA) and expresses the certainty that the text example x belongs to Class 1. BPA values closer to 1 characterize decisions made with more certainty. The BPA allows us to translate an estimator’s confidence to a belief over what the true label is.\n",
    "\n",
    "**Listing 3.7**: Combining using Dempster-Shafer"
   ]
  },
  {
   "cell_type": "code",
   "execution_count": 12,
   "metadata": {},
   "outputs": [],
   "source": [
    "def combine_using_Dempster_Schafer(X, estimators):\n",
    "    p_individual = predict_individual(X, estimators, proba=True)\n",
    "    bpa0 = 1.0 - np.prod(p_individual, axis=1) - 1e-6\n",
    "    bpa1 = 1.0 - np.prod(1.0 - p_individual, axis=1) - 1e-6\n",
    "\n",
    "    belief = np.vstack([bpa0 / (1 - bpa0), bpa1 / (1 - bpa1)]).T\n",
    "    y_final = np.argmax(belief, axis=1)\n",
    "    return y_final"
   ]
  },
  {
   "cell_type": "code",
   "execution_count": 13,
   "metadata": {},
   "outputs": [
    {
     "data": {
      "text/plain": [
       "0.03539823008849563"
      ]
     },
     "execution_count": 13,
     "metadata": {},
     "output_type": "execute_result"
    }
   ],
   "source": [
    "ypred = combine_using_Dempster_Schafer(Xtst, estimators)\n",
    "tst_err = 1 - accuracy_score(ytst, ypred)\n",
    "tst_err"
   ]
  },
  {
   "cell_type": "markdown",
   "metadata": {},
   "source": [
    "---\n",
    "**Unlisted**: Logarithmic opinion pooling (LOP), first described in [Heskes98](https://papers.nips.cc/paper/1413-selecting-weighting-factors-in-logarithmic-opinion-pools.pdf)."
   ]
  },
  {
   "cell_type": "code",
   "execution_count": 14,
   "metadata": {},
   "outputs": [],
   "source": [
    "def combine_using_LOP(X, estimators, Xval, yval):\n",
    "    n_estimators = len(estimators)\n",
    "    yval_individual = predict_individual(Xval, estimators, proba=False)\n",
    "    wts = [1 - accuracy_score(yval, yval_individual[:, i]) for i in range(n_estimators)]\n",
    "    wts /= np.sum(wts)\n",
    "\n",
    "    p_individual = predict_individual(X, estimators, proba=True)\n",
    "    p_LOP = np.exp(np.dot(np.log(p_individual), wts))\n",
    "    return np.round(p_LOP)"
   ]
  },
  {
   "cell_type": "markdown",
   "metadata": {},
   "source": [
    "---\n",
    "\n",
    "### Visualizing the decision boundaries of all 4 weighting methods"
   ]
  },
  {
   "cell_type": "code",
   "execution_count": 17,
   "metadata": {},
   "outputs": [
    {
     "data": {
      "image/png": "[encoded data removed]",
      "text/plain": [
       "<Figure size 432x432 with 4 Axes>"
      ]
     },
     "metadata": {},
     "output_type": "display_data"
    }
   ],
   "source": [
    "%matplotlib inline\n",
    "import matplotlib.pyplot as plt\n",
    "from visualization import plot_2d_classifier, get_colors\n",
    "\n",
    "\n",
    "combination_methods = [('Majority Vote', combine_using_majority_vote),\n",
    "                       ('Dempster-Shafer', combine_using_Dempster_Schafer),\n",
    "                       ('Accuracy Weighting', combine_using_accuracy_weighting),\n",
    "                       ('Entropy Weighting', combine_using_entropy_weighting)]\n",
    "# ('Logarithmic Opinion Pool', combine_using_LOP)]\n",
    "\n",
    "nrows, ncols = 2, 2\n",
    "cm = get_colors(colormap='RdBu')\n",
    "\n",
    "# Init plotting\n",
    "xMin, xMax = Xtrn[:, 0].min() - 0.25, Xtrn[:, 0].max() + 0.25\n",
    "yMin, yMax = Xtrn[:, 1].min() - 0.25, Xtrn[:, 1].max() + 0.25\n",
    "xMesh, yMesh = np.meshgrid(np.arange(xMin, xMax, 0.05),\n",
    "                           np.arange(yMin, yMax, 0.05))\n",
    "fig, ax = plt.subplots(nrows=nrows, ncols=ncols, figsize=(6, 6))\n",
    "\n",
    "for i, (method, combiner) in enumerate(combination_methods):\n",
    "    c, r = divmod(i, 2)\n",
    "    if i < 2:\n",
    "        zMesh = combiner(np.c_[xMesh.ravel(), yMesh.ravel()], estimators)\n",
    "        ypred = combiner(Xtst, estimators)\n",
    "    else:\n",
    "        zMesh = combiner(np.c_[xMesh.ravel(), yMesh.ravel()], estimators, Xval, yval)\n",
    "        ypred = combiner(Xtst, estimators, Xval, yval)\n",
    "    zMesh = zMesh.reshape(xMesh.shape)\n",
    "\n",
    "    ax[r, c].contourf(xMesh, yMesh, zMesh, cmap='RdBu', alpha=0.65)\n",
    "    ax[r, c].contour(xMesh, yMesh, zMesh, [0.5], colors='k', linewidths=2.5)\n",
    "    ax[r, c].scatter(Xtrn[ytrn == 0, 0], Xtrn[ytrn == 0, 1], marker='o', c=cm[0], edgecolors='k')\n",
    "    ax[r, c].scatter(Xtrn[ytrn == 1, 0], Xtrn[ytrn == 1, 1], marker='s', c=cm[1], edgecolors='k')\n",
    "\n",
    "    # tst_err = 1 - accuracy_score(ytst, ypred)\n",
    "    # title = '{0} (err = {1:4.2f}%)'.format(method, tst_err*100) \n",
    "    title = '{0}'.format(method) \n",
    "\n",
    "    ax[r, c].set_xticks([])\n",
    "    ax[r, c].set_yticks([])\n",
    "    ax[r, c].set_title(title)\n",
    "\n",
    "fig.tight_layout()\n",
    "plt.savefig('./figures/CH03_F10_Kunapuli.png', dpi=300, bbox_inches='tight');"
   ]
  },
  {
   "cell_type": "code",
   "execution_count": null,
   "metadata": {},
   "outputs": [],
   "source": []
  }
 ],
 "metadata": {
  "kernelspec": {
   "display_name": "Python 3",
   "language": "python",
   "name": "python3"
  },
  "language_info": {
   "codemirror_mode": {
    "name": "ipython",
    "version": 3
   },
   "file_extension": ".py",
   "mimetype": "text/x-python",
   "name": "python",
   "nbconvert_exporter": "python",
   "pygments_lexer": "ipython3",
   "version": "3.6.4"
  }
 },
 "nbformat": 4,
 "nbformat_minor": 2
}
