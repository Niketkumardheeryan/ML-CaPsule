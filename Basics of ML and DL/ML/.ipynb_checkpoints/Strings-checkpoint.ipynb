{
 "cells": [
  {
   "cell_type": "code",
   "execution_count": 1,
   "metadata": {},
   "outputs": [
    {
     "name": "stdout",
     "output_type": "stream",
     "text": [
      "this is a string\n",
      "<class 'str'>\n",
      "16\n",
      "t g\n"
     ]
    }
   ],
   "source": [
    "# strings and its properties\n",
    "\n",
    "a = \"this is a string\"\n",
    "\n",
    "print(a)\n",
    "\n",
    "print(type(a))\n",
    "\n",
    "print(len(a))\n",
    "\n",
    "print(a[0],a[len(a)-1])"
   ]
  },
  {
   "cell_type": "code",
   "execution_count": 2,
   "metadata": {},
   "outputs": [
    {
     "name": "stdout",
     "output_type": "stream",
     "text": [
      "this can be done\n"
     ]
    }
   ],
   "source": [
    "# strings are immutable\n",
    "\n",
    "# a[2]=\"q\"  invalid\n",
    "\n",
    "a = \"this can be done\"  # valid bcos now it is pointing to a different string\n",
    "print(a)"
   ]
  },
  {
   "cell_type": "code",
   "execution_count": 2,
   "metadata": {},
   "outputs": [
    {
     "name": "stdout",
     "output_type": "stream",
     "text": [
      "abcdef\n",
      "abcabcabc\n",
      "2abc\n"
     ]
    }
   ],
   "source": [
    "str1 = \"abc\"\n",
    "str2 = \"def\"\n",
    "\n",
    "print(str1 + str2)\n",
    "print(str1 *3)\n",
    "# print(2 + str1)  invalid concatenation\n",
    "\n",
    "print(str(2)+str1)"
   ]
  },
  {
   "cell_type": "code",
   "execution_count": 9,
   "metadata": {},
   "outputs": [
    {
     "name": "stdout",
     "output_type": "stream",
     "text": [
      " Abc123 \n",
      " abc123 \n",
      " ABC123 \n",
      "Abc123\n",
      "False\n",
      "False\n",
      " dbc123 \n",
      "1\n"
     ]
    }
   ],
   "source": [
    "# functions of string\n",
    "\n",
    "str = \" Abc123 \"\n",
    "\n",
    "print(str)\n",
    "print(str.lower()) # creates a new string\n",
    "print(str.upper())\n",
    "print(str.strip()) # remove leading and trailing zeros\n",
    "print(str.isalpha())\n",
    "print(str.isalnum())\n",
    "new = str.replace('A','d') # Replace an element of a string\n",
    "print(new)\n",
    "# new1 = new.clear()  there is no clear() in string\n",
    "# print(new1)\n",
    "print(str.index('A'))"
   ]
  },
  {
   "cell_type": "code",
   "execution_count": 5,
   "metadata": {},
   "outputs": [
    {
     "name": "stdout",
     "output_type": "stream",
     "text": [
      "aaaaaaa\n",
      "aaaaaaa\n",
      "<class 'str'>\n"
     ]
    }
   ],
   "source": [
    "# user input\n",
    "a = input()  # it takes everything in string format\n",
    "print(a)\n",
    "print(type(a))"
   ]
  },
  {
   "cell_type": "code",
   "execution_count": 7,
   "metadata": {},
   "outputs": [
    {
     "name": "stdout",
     "output_type": "stream",
     "text": [
      "enter something \"aassdsds\"\n",
      "aassdsds\n",
      "<class 'str'>\n"
     ]
    }
   ],
   "source": [
    "a=eval(input(\"enter something \")) # automatically convert karega but agar stringinput karoge to double quotes mai dena hoga\n",
    "print(a)\n",
    "print(type(a))"
   ]
  },
  {
   "cell_type": "code",
   "execution_count": 8,
   "metadata": {},
   "outputs": [
    {
     "name": "stdout",
     "output_type": "stream",
     "text": [
      "a\n",
      "f\n",
      "abcdef\n",
      "f\n",
      "abcdef\n",
      "cde\n",
      "bd\n"
     ]
    }
   ],
   "source": [
    "# slicing\n",
    "str = \"abcdef\"\n",
    "\n",
    "print(str[0])\n",
    "print(str[-1])\n",
    "print(str[0:])\n",
    "print(str[-1:])\n",
    "print(str[:])\n",
    "print(str[-4:-1])\n",
    "print(str[1:5:2])"
   ]
  },
  {
   "cell_type": "code",
   "execution_count": 9,
   "metadata": {},
   "outputs": [
    {
     "name": "stdout",
     "output_type": "stream",
     "text": [
      "a\n",
      "b\n",
      "c\n",
      "d\n",
      "e\n"
     ]
    }
   ],
   "source": [
    "# fast iteartion in strings\n",
    "str = \"abcde\"\n",
    "for i in str:\n",
    "    print(i)"
   ]
  },
  {
   "cell_type": "code",
   "execution_count": 10,
   "metadata": {},
   "outputs": [
    {
     "name": "stdout",
     "output_type": "stream",
     "text": [
      "enter two numbers\n",
      "1 2\n",
      "n1: 1 n2: 2\n"
     ]
    }
   ],
   "source": [
    "# steps for taking 2 numbers input can be written in one line of code as follows:\n",
    "\n",
    "print('enter two numbers')\n",
    "n1, n2 = [int(item) for item in input().strip().split(' ')]\n",
    "print('n1:',n1, 'n2:',n2)"
   ]
  },
  {
   "cell_type": "code",
   "execution_count": 1,
   "metadata": {},
   "outputs": [],
   "source": [
    "# Triple quotes for strings\n",
    "bigString = \"\"\"Hi. My name is Sam.\n",
    "               I like to play chess.\"\"\""
   ]
  },
  {
   "cell_type": "code",
   "execution_count": 2,
   "metadata": {},
   "outputs": [
    {
     "name": "stdout",
     "output_type": "stream",
     "text": [
      "suyash\n",
      "hsayus\n"
     ]
    }
   ],
   "source": [
    "# reverse each word of string\n",
    "\n",
    "def reverseEachWord(string) :\n",
    "    str = \" \"\n",
    "    l = string.strip().split(\" \")\n",
    "    for i in range(0,len(l)):\n",
    "        l[i] = l[i][::-1]\n",
    "    str = str.join(l)\n",
    "    print(str)\n",
    "\n",
    "string = input()\n",
    "reverseEachWord(string)"
   ]
  }
 ],
 "metadata": {
  "kernelspec": {
   "display_name": "Python 3",
   "language": "python",
   "name": "python3"
  },
  "language_info": {
   "codemirror_mode": {
    "name": "ipython",
    "version": 3
   },
   "file_extension": ".py",
   "mimetype": "text/x-python",
   "name": "python",
   "nbconvert_exporter": "python",
   "pygments_lexer": "ipython3",
   "version": "3.8.1"
  }
 },
 "nbformat": 4,
 "nbformat_minor": 4
}
