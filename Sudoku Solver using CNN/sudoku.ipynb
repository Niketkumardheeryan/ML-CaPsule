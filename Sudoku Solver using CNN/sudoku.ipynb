{
 "cells": [
  {
   "cell_type": "markdown",
   "metadata": {},
   "source": [
    "# **Sudoku Solver**"
   ]
  },
  {
   "cell_type": "markdown",
   "metadata": {},
   "source": [
    "# Importing Required Libraries"
   ]
  },
  {
   "cell_type": "code",
   "execution_count": 2,
   "metadata": {},
   "outputs": [],
   "source": [
    "import copy\n",
    "import keras\n",
    "import numpy as np\n",
    "import pandas as pd\n",
    "from sklearn.model_selection import train_test_split\n",
    "from my_model import get_my_model\n",
    "import time"
   ]
  },
  {
   "cell_type": "markdown",
   "metadata": {},
   "source": [
    "# **Method to read and collect Data from Dataset**"
   ]
  },
  {
   "cell_type": "code",
   "execution_count": 3,
   "metadata": {},
   "outputs": [],
   "source": [
    "def get_data(file): \n",
    "\n",
    "    data = pd.read_csv(file)\n",
    "\n",
    "    feat_raw = data['quizzes']\n",
    "    label_raw = data['solutions']\n",
    "\n",
    "    feat = []\n",
    "    label = []\n",
    "\n",
    "    for i in feat_raw:\n",
    "    \n",
    "        x = np.array([int(j) for j in i]).reshape((9,9,1))\n",
    "        feat.append(x)\n",
    "    \n",
    "    feat = np.array(feat)\n",
    "    feat = feat/9\n",
    "    feat -= .5    \n",
    "    \n",
    "    for i in label_raw:\n",
    "    \n",
    "        x = np.array([int(j) for j in i]).reshape((81,1)) - 1\n",
    "        label.append(x)   \n",
    "    \n",
    "    label = np.array(label)\n",
    "    \n",
    "    del(feat_raw)\n",
    "    del(label_raw)    \n",
    "\n",
    "    x_train, x_test, y_train, y_test = train_test_split(feat, label, test_size=0.2, random_state=42)\n",
    "    \n",
    "    return x_train, x_test, y_train, y_test"
   ]
  },
  {
   "cell_type": "code",
   "execution_count": null,
   "metadata": {},
   "outputs": [],
   "source": [
    "pip install tensorflow"
   ]
  },
  {
   "cell_type": "code",
   "execution_count": null,
   "metadata": {},
   "outputs": [],
   "source": [
    "pip install keras"
   ]
  },
  {
   "cell_type": "code",
   "execution_count": 29,
   "metadata": {},
   "outputs": [
    {
     "name": "stdout",
     "output_type": "stream",
     "text": [
      "Collecting sklearn\n",
      "  Downloading sklearn-0.0.tar.gz (1.1 kB)\n",
      "Requirement already satisfied: scikit-learn in c:\\users\\prince\\anaconda3\\lib\\site-packages (from sklearn) (0.22.1)\n",
      "Requirement already satisfied: joblib>=0.11 in c:\\users\\prince\\anaconda3\\lib\\site-packages (from scikit-learn->sklearn) (0.14.1)\n",
      "Requirement already satisfied: scipy>=0.17.0 in c:\\users\\prince\\anaconda3\\lib\\site-packages (from scikit-learn->sklearn) (1.4.1)\n",
      "Requirement already satisfied: numpy>=1.11.0 in c:\\users\\prince\\anaconda3\\lib\\site-packages (from scikit-learn->sklearn) (1.18.1)\n",
      "Building wheels for collected packages: sklearn\n",
      "  Building wheel for sklearn (setup.py): started\n",
      "  Building wheel for sklearn (setup.py): finished with status 'done'\n",
      "  Created wheel for sklearn: filename=sklearn-0.0-py2.py3-none-any.whl size=1320 sha256=5ff6d07c97e68e633260d64acdca3d2abd295954e3307ed37d6f448619d2ad14\n",
      "  Stored in directory: c:\\users\\prince\\appdata\\local\\pip\\cache\\wheels\\46\\ef\\c3\\157e41f5ee1372d1be90b09f74f82b10e391eaacca8f22d33e\n",
      "Successfully built sklearn\n",
      "Installing collected packages: sklearn\n",
      "Successfully installed sklearn-0.0\n",
      "Note: you may need to restart the kernel to use updated packages.\n"
     ]
    }
   ],
   "source": [
    "pip install scikilearn"
   ]
  },
  {
   "cell_type": "markdown",
   "metadata": {},
   "source": [
    "## Load the data"
   ]
  },
  {
   "cell_type": "code",
   "execution_count": 4,
   "metadata": {},
   "outputs": [],
   "source": [
    "x_train, x_test, y_train, y_test = get_data('sudoku.csv')"
   ]
  },
  {
   "cell_type": "markdown",
   "metadata": {},
   "source": [
    "## Train your own Model"
   ]
  },
  {
   "cell_type": "code",
   "execution_count": 39,
   "metadata": {},
   "outputs": [
    {
     "name": "stdout",
     "output_type": "stream",
     "text": [
      "Epoch 1/2\n",
      "25000/25000 [==============================] - 1846s 74ms/step - loss: 0.4464\n",
      "Epoch 2/2\n",
      "25000/25000 [==============================] - 1643s 66ms/step - loss: 0.3598\n"
     ]
    },
    {
     "data": {
      "text/plain": [
       "<tensorflow.python.keras.callbacks.History at 0x1b20255b248>"
      ]
     },
     "execution_count": 39,
     "metadata": {},
     "output_type": "execute_result"
    }
   ],
   "source": [
    "my_model = get_my_model()\n",
    "\n",
    "adam = keras.optimizers.Adam(lr=.001)\n",
    "my_model.compile(loss='sparse_categorical_crossentropy', optimizer=adam)\n",
    "\n",
    "my_model.fit(x_train, y_train, batch_size=32, epochs=2)"
   ]
  },
  {
   "cell_type": "markdown",
   "metadata": {},
   "source": [
    "## Or load pretrained model"
   ]
  },
  {
   "cell_type": "code",
   "execution_count": 5,
   "metadata": {},
   "outputs": [],
   "source": [
    "my_model = keras.models.load_model('model/sudoku.model')"
   ]
  },
  {
   "cell_type": "markdown",
   "metadata": {},
   "source": [
    "## Solve Sudoku by filling blank positions one by one"
   ]
  },
  {
   "cell_type": "code",
   "execution_count": 6,
   "metadata": {},
   "outputs": [],
   "source": [
    "def sudoku_result(flag):\n",
    "    \n",
    "    feature = copy.copy(flag)\n",
    "    \n",
    "    while(1):\n",
    "    \n",
    "        output = my_model.predict(feature.reshape((1,9,9,1)))  \n",
    "        output = output.squeeze()\n",
    "\n",
    "        predict_ = np.argmax(output, axis=1).reshape((9,9))+1 \n",
    "        problem = np.around(np.max(output, axis=1).reshape((9,9)), 2) \n",
    "        \n",
    "        feature = ((feature+.5)*9).reshape((9,9))\n",
    "        mask = (feature==0)\n",
    "     \n",
    "        if(mask.sum()==0):\n",
    "            break\n",
    "            \n",
    "        problem_new = problem*mask\n",
    "    \n",
    "        ind = np.argmax(problem_new)\n",
    "        x, y = (ind//9), (ind%9)\n",
    "\n",
    "        value = predict_[x][y]\n",
    "        feature[x][y] = value\n",
    "        feature = (feature/9)-.5\n",
    "    \n",
    "    return predict_"
   ]
  },
  {
   "cell_type": "markdown",
   "metadata": {},
   "source": [
    "## Testing 100 games"
   ]
  },
  {
   "cell_type": "code",
   "execution_count": 7,
   "metadata": {},
   "outputs": [],
   "source": [
    "def accuracy_test(features, y_out):\n",
    "    \n",
    "    right_ones = 0\n",
    "    \n",
    "    for i,feature in enumerate(features):\n",
    "        \n",
    "        predict = sudoku_result(feature)\n",
    "        \n",
    "        true = y_out[i].reshape((9,9))+1\n",
    "        \n",
    "        if(abs(true - predict).sum()==0):\n",
    "            right_ones += 1\n",
    "        \n",
    "    print(right_ones/features.shape[0])"
   ]
  },
  {
   "cell_type": "code",
   "execution_count": 7,
   "metadata": {},
   "outputs": [
    {
     "name": "stdout",
     "output_type": "stream",
     "text": [
      "1.0\n"
     ]
    }
   ],
   "source": [
    "accuracy_test(x_test[:100], y_test[:100])"
   ]
  },
  {
   "cell_type": "markdown",
   "metadata": {},
   "source": [
    "## Test your own game"
   ]
  },
  {
   "cell_type": "code",
   "execution_count": 8,
   "metadata": {},
   "outputs": [],
   "source": [
    "def sudoku_solver(input_puzzle):\n",
    "    \n",
    "    input_puzzle = input_puzzle.replace('\\n', '')\n",
    "    input_puzzle = input_puzzle.replace(' ', '')\n",
    "    input_puzzle = np.array([int(j) for j in input_puzzle]).reshape((9,9,1))\n",
    "    input_puzzle = (input_puzzle/9)-.5\n",
    "    input_puzzle = sudoku_result(input_puzzle)\n",
    "    return input_puzzle"
   ]
  },
  {
   "cell_type": "code",
   "execution_count": 9,
   "metadata": {},
   "outputs": [
    {
     "name": "stdout",
     "output_type": "stream",
     "text": [
      "solved puzzle:\n",
      "\n",
      "[[1 2 3 6 8 5 4 9 7]\n",
      " [5 8 9 7 3 4 1 2 6]\n",
      " [7 4 6 2 1 9 5 8 3]\n",
      " [8 1 7 9 2 6 3 5 4]\n",
      " [3 9 4 8 5 1 7 6 2]\n",
      " [2 6 5 4 7 3 8 1 9]\n",
      " [4 7 2 5 6 8 9 3 1]\n",
      " [6 3 8 1 9 7 2 4 5]\n",
      " [9 5 1 3 4 2 6 7 8]]\n",
      "2.2502987384796143\n"
     ]
    }
   ],
   "source": [
    "puzzle = '''\n",
    "          1 2 3 0 8 5 4 0 0\n",
    "          0 0 0 0 3 4 0 2 6\n",
    "          0 0 6 0 1 0 0 0 3\n",
    "          0 0 7 9 2 0 0 0 0\n",
    "          3 9 0 0 0 0 0 6 2\n",
    "          0 0 5 4 7 3 0 0 9\n",
    "          0 7 2 0 0 0 9 0 1\n",
    "          0 0 0 1 0 7 0 4 0\n",
    "          9 5 0 3 4 2 0 0 8\n",
    "      '''\n",
    "start=time.time()\n",
    "puzzle = sudoku_solver(puzzle)\n",
    "\n",
    "print('solved puzzle:\\n')\n",
    "print(puzzle)\n",
    "end=time.time()\n",
    "print(end-start)"
   ]
  },
  {
   "cell_type": "code",
   "execution_count": 10,
   "metadata": {},
   "outputs": [
    {
     "data": {
      "text/plain": [
       "array([45, 45, 45, 45, 45, 45, 45, 45, 45], dtype=int64)"
      ]
     },
     "execution_count": 10,
     "metadata": {},
     "output_type": "execute_result"
    }
   ],
   "source": [
    "np.sum(puzzle, axis=1)"
   ]
  },
  {
   "cell_type": "code",
   "execution_count": 13,
   "metadata": {},
   "outputs": [
    {
     "name": "stdout",
     "output_type": "stream",
     "text": [
      "solved puzzle:\n",
      "\n",
      "[[4 8 9 5 3 2 7 6 1]\n",
      " [7 1 3 4 8 6 5 9 2]\n",
      " [5 6 2 9 1 7 8 3 4]\n",
      " [2 5 8 3 4 1 9 7 6]\n",
      " [6 3 1 7 5 9 2 4 8]\n",
      " [9 4 7 2 6 8 1 5 3]\n",
      " [1 2 5 6 7 3 4 8 9]\n",
      " [8 7 6 1 9 4 3 2 5]\n",
      " [3 9 4 8 2 5 6 1 7]]\n",
      "1.7136952877044678\n"
     ]
    }
   ],
   "source": [
    "puzzle = '''\n",
    "          0 8 0 0 3 2 0 0 1\n",
    "          7 0 3 0 8 0 0 0 2\n",
    "          5 0 0 0 0 7 0 3 0\n",
    "          0 5 0 0 0 1 9 7 0\n",
    "          6 0 0 7 0 9 0 0 8\n",
    "          0 4 7 2 0 0 0 5 0\n",
    "          0 2 0 6 0 0 0 0 9\n",
    "          8 0 0 0 9 0 3 0 5\n",
    "          3 0 0 8 2 0 0 1 0\n",
    "      '''\n",
    "start=time.time()\n",
    "puzzle = sudoku_solver(puzzle)\n",
    "\n",
    "print('solved puzzle:\\n')\n",
    "print(puzzle)\n",
    "end=time.time()\n",
    "print(end-start)"
   ]
  },
  {
   "cell_type": "code",
   "execution_count": null,
   "metadata": {},
   "outputs": [],
   "source": []
  }
 ],
 "metadata": {
  "kernelspec": {
   "display_name": "Python 3",
   "language": "python",
   "name": "python3"
  },
  "language_info": {
   "codemirror_mode": {
    "name": "ipython",
    "version": 3
   },
   "file_extension": ".py",
   "mimetype": "text/x-python",
   "name": "python",
   "nbconvert_exporter": "python",
   "pygments_lexer": "ipython3",
   "version": "3.7.6"
  }
 },
 "nbformat": 4,
 "nbformat_minor": 2
}
