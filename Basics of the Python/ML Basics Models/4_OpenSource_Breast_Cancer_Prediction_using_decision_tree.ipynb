{
  "nbformat": 4,
  "nbformat_minor": 0,
  "metadata": {
    "kernelspec": {
      "display_name": "Python 3",
      "language": "python",
      "name": "python3"
    },
    "language_info": {
      "codemirror_mode": {
        "name": "ipython",
        "version": 3
      },
      "file_extension": ".py",
      "mimetype": "text/x-python",
      "name": "python",
      "nbconvert_exporter": "python",
      "pygments_lexer": "ipython3",
      "version": "3.7.1"
    },
    "colab": {
      "name": "4.OpenSource_Breast_Cancer_Prediction_using_decision_tree.ipynb",
      "provenance": [],
      "collapsed_sections": []
    }
  },
  "cells": [
    {
      "cell_type": "code",
      "metadata": {
        "id": "nrch_ByVg6Ty"
      },
      "source": [
        "#import the required libraries\n",
        "import numpy as np\n",
        "import pandas as pd\n",
        "import matplotlib.pyplot as plt\n",
        "import seaborn as sns"
      ],
      "execution_count": 2,
      "outputs": []
    },
    {
      "cell_type": "code",
      "metadata": {
        "colab": {
          "base_uri": "https://localhost:8080/"
        },
        "id": "9x6h6P-Ig-lK",
        "outputId": "9a1b9f97-f618-43a2-cec0-6ce9709b4f77"
      },
      "source": [
        "from google.colab import drive\n",
        "drive.mount('/content/drive')"
      ],
      "execution_count": 3,
      "outputs": [
        {
          "output_type": "stream",
          "text": [
            "Mounted at /content/drive\n"
          ],
          "name": "stdout"
        }
      ]
    },
    {
      "cell_type": "code",
      "metadata": {
        "id": "8O9cwKrshA7L"
      },
      "source": [
        "path='drive/My Drive/'"
      ],
      "execution_count": 4,
      "outputs": []
    },
    {
      "cell_type": "code",
      "metadata": {
        "colab": {
          "base_uri": "https://localhost:8080/"
        },
        "id": "2KTzVGbahEE0",
        "outputId": "6774ee0c-bb2f-42e3-eb86-02bccbef0dc4"
      },
      "source": [
        "# Importing the dataset\n",
        "from __future__ import division, print_function, unicode_literals\n",
        "import pandas as pd\n",
        "Rcancer=pd.read_csv(path+\"/breast-cancer-wisconsin.csv\", sep=\",\", header=None, \n",
        "                     names=[\"Sample code number\", \"Clump Thickness\", \n",
        "                            \"Uniformity of Cell Size\", \"Uniformity of Cell Shape\", \n",
        "                            \"Marginal Adhesion\", \"Single Epithelial Cell Size\", \"Bare Nuclei\" ,\n",
        "                            \"Bland Chromatin\", \"Normal Nucleoli\", \"Mitoses\", \"Class\"])\n",
        "pd.DataFrame.count(Rcancer)"
      ],
      "execution_count": 9,
      "outputs": [
        {
          "output_type": "execute_result",
          "data": {
            "text/plain": [
              "Sample code number             699\n",
              "Clump Thickness                699\n",
              "Uniformity of Cell Size        699\n",
              "Uniformity of Cell Shape       699\n",
              "Marginal Adhesion              699\n",
              "Single Epithelial Cell Size    699\n",
              "Bare Nuclei                    699\n",
              "Bland Chromatin                699\n",
              "Normal Nucleoli                699\n",
              "Mitoses                        699\n",
              "Class                          699\n",
              "dtype: int64"
            ]
          },
          "metadata": {
            "tags": []
          },
          "execution_count": 9
        }
      ]
    },
    {
      "cell_type": "code",
      "metadata": {
        "colab": {
          "base_uri": "https://localhost:8080/"
        },
        "id": "_3UesKE4g0nX",
        "outputId": "6fe286bd-8fc0-4039-af7a-e4c031f8640b"
      },
      "source": [
        "#delete the missing value\n",
        "Rcancer=Rcancer.replace(to_replace=\"?\", value=np.nan)\n",
        "cancer=Rcancer.dropna()\n",
        "pd.DataFrame.count(cancer)"
      ],
      "execution_count": 10,
      "outputs": [
        {
          "output_type": "execute_result",
          "data": {
            "text/plain": [
              "Sample code number             683\n",
              "Clump Thickness                683\n",
              "Uniformity of Cell Size        683\n",
              "Uniformity of Cell Shape       683\n",
              "Marginal Adhesion              683\n",
              "Single Epithelial Cell Size    683\n",
              "Bare Nuclei                    683\n",
              "Bland Chromatin                683\n",
              "Normal Nucleoli                683\n",
              "Mitoses                        683\n",
              "Class                          683\n",
              "dtype: int64"
            ]
          },
          "metadata": {
            "tags": []
          },
          "execution_count": 10
        }
      ]
    },
    {
      "cell_type": "code",
      "metadata": {
        "colab": {
          "base_uri": "https://localhost:8080/",
          "height": 314
        },
        "id": "Urvdm-wsg0nY",
        "outputId": "6ad9a495-0b4e-4076-c26c-23da2cfe0a02"
      },
      "source": [
        "cancer.describe()"
      ],
      "execution_count": 11,
      "outputs": [
        {
          "output_type": "execute_result",
          "data": {
            "text/html": [
              "<div>\n",
              "<style scoped>\n",
              "    .dataframe tbody tr th:only-of-type {\n",
              "        vertical-align: middle;\n",
              "    }\n",
              "\n",
              "    .dataframe tbody tr th {\n",
              "        vertical-align: top;\n",
              "    }\n",
              "\n",
              "    .dataframe thead th {\n",
              "        text-align: right;\n",
              "    }\n",
              "</style>\n",
              "<table border=\"1\" class=\"dataframe\">\n",
              "  <thead>\n",
              "    <tr style=\"text-align: right;\">\n",
              "      <th></th>\n",
              "      <th>Sample code number</th>\n",
              "      <th>Clump Thickness</th>\n",
              "      <th>Uniformity of Cell Size</th>\n",
              "      <th>Uniformity of Cell Shape</th>\n",
              "      <th>Marginal Adhesion</th>\n",
              "      <th>Single Epithelial Cell Size</th>\n",
              "      <th>Bland Chromatin</th>\n",
              "      <th>Normal Nucleoli</th>\n",
              "      <th>Mitoses</th>\n",
              "      <th>Class</th>\n",
              "    </tr>\n",
              "  </thead>\n",
              "  <tbody>\n",
              "    <tr>\n",
              "      <th>count</th>\n",
              "      <td>6.830000e+02</td>\n",
              "      <td>683.000000</td>\n",
              "      <td>683.000000</td>\n",
              "      <td>683.000000</td>\n",
              "      <td>683.000000</td>\n",
              "      <td>683.000000</td>\n",
              "      <td>683.000000</td>\n",
              "      <td>683.000000</td>\n",
              "      <td>683.000000</td>\n",
              "      <td>683.000000</td>\n",
              "    </tr>\n",
              "    <tr>\n",
              "      <th>mean</th>\n",
              "      <td>1.076720e+06</td>\n",
              "      <td>4.442167</td>\n",
              "      <td>3.150805</td>\n",
              "      <td>3.215227</td>\n",
              "      <td>2.830161</td>\n",
              "      <td>3.234261</td>\n",
              "      <td>3.445095</td>\n",
              "      <td>2.869693</td>\n",
              "      <td>1.603221</td>\n",
              "      <td>2.699854</td>\n",
              "    </tr>\n",
              "    <tr>\n",
              "      <th>std</th>\n",
              "      <td>6.206440e+05</td>\n",
              "      <td>2.820761</td>\n",
              "      <td>3.065145</td>\n",
              "      <td>2.988581</td>\n",
              "      <td>2.864562</td>\n",
              "      <td>2.223085</td>\n",
              "      <td>2.449697</td>\n",
              "      <td>3.052666</td>\n",
              "      <td>1.732674</td>\n",
              "      <td>0.954592</td>\n",
              "    </tr>\n",
              "    <tr>\n",
              "      <th>min</th>\n",
              "      <td>6.337500e+04</td>\n",
              "      <td>1.000000</td>\n",
              "      <td>1.000000</td>\n",
              "      <td>1.000000</td>\n",
              "      <td>1.000000</td>\n",
              "      <td>1.000000</td>\n",
              "      <td>1.000000</td>\n",
              "      <td>1.000000</td>\n",
              "      <td>1.000000</td>\n",
              "      <td>2.000000</td>\n",
              "    </tr>\n",
              "    <tr>\n",
              "      <th>25%</th>\n",
              "      <td>8.776170e+05</td>\n",
              "      <td>2.000000</td>\n",
              "      <td>1.000000</td>\n",
              "      <td>1.000000</td>\n",
              "      <td>1.000000</td>\n",
              "      <td>2.000000</td>\n",
              "      <td>2.000000</td>\n",
              "      <td>1.000000</td>\n",
              "      <td>1.000000</td>\n",
              "      <td>2.000000</td>\n",
              "    </tr>\n",
              "    <tr>\n",
              "      <th>50%</th>\n",
              "      <td>1.171795e+06</td>\n",
              "      <td>4.000000</td>\n",
              "      <td>1.000000</td>\n",
              "      <td>1.000000</td>\n",
              "      <td>1.000000</td>\n",
              "      <td>2.000000</td>\n",
              "      <td>3.000000</td>\n",
              "      <td>1.000000</td>\n",
              "      <td>1.000000</td>\n",
              "      <td>2.000000</td>\n",
              "    </tr>\n",
              "    <tr>\n",
              "      <th>75%</th>\n",
              "      <td>1.238705e+06</td>\n",
              "      <td>6.000000</td>\n",
              "      <td>5.000000</td>\n",
              "      <td>5.000000</td>\n",
              "      <td>4.000000</td>\n",
              "      <td>4.000000</td>\n",
              "      <td>5.000000</td>\n",
              "      <td>4.000000</td>\n",
              "      <td>1.000000</td>\n",
              "      <td>4.000000</td>\n",
              "    </tr>\n",
              "    <tr>\n",
              "      <th>max</th>\n",
              "      <td>1.345435e+07</td>\n",
              "      <td>10.000000</td>\n",
              "      <td>10.000000</td>\n",
              "      <td>10.000000</td>\n",
              "      <td>10.000000</td>\n",
              "      <td>10.000000</td>\n",
              "      <td>10.000000</td>\n",
              "      <td>10.000000</td>\n",
              "      <td>10.000000</td>\n",
              "      <td>4.000000</td>\n",
              "    </tr>\n",
              "  </tbody>\n",
              "</table>\n",
              "</div>"
            ],
            "text/plain": [
              "       Sample code number  Clump Thickness  ...     Mitoses       Class\n",
              "count        6.830000e+02       683.000000  ...  683.000000  683.000000\n",
              "mean         1.076720e+06         4.442167  ...    1.603221    2.699854\n",
              "std          6.206440e+05         2.820761  ...    1.732674    0.954592\n",
              "min          6.337500e+04         1.000000  ...    1.000000    2.000000\n",
              "25%          8.776170e+05         2.000000  ...    1.000000    2.000000\n",
              "50%          1.171795e+06         4.000000  ...    1.000000    2.000000\n",
              "75%          1.238705e+06         6.000000  ...    1.000000    4.000000\n",
              "max          1.345435e+07        10.000000  ...   10.000000    4.000000\n",
              "\n",
              "[8 rows x 10 columns]"
            ]
          },
          "metadata": {
            "tags": []
          },
          "execution_count": 11
        }
      ]
    },
    {
      "cell_type": "code",
      "metadata": {
        "id": "Z2Ndy1CGg0nY"
      },
      "source": [
        "from sklearn import linear_model\n",
        "from sklearn.model_selection import train_test_split\n",
        "from sklearn.metrics import accuracy_score, f1_score, classification_report, confusion_matrix\n",
        "X=pd.DataFrame(cancer, columns= [\"Clump Thickness\", \"Uniformity of Cell Size\", \"Uniformity of Cell Shape\", \n",
        "                            \"Marginal Adhesion\", \"Single Epithelial Cell Size\", \"Bare Nuclei\" ,\n",
        "                            \"Bland Chromatin\", \"Normal Nucleoli\", \"Mitoses\"])\n",
        "y = pd.DataFrame(cancer, columns = [\"Class\"])\n",
        "\n",
        "# Split validation\n",
        "X_train, X_test, y_train, y_test = train_test_split(X, y, test_size=0.4, random_state=1, stratify=y)\n"
      ],
      "execution_count": 12,
      "outputs": []
    },
    {
      "cell_type": "code",
      "metadata": {
        "colab": {
          "base_uri": "https://localhost:8080/",
          "height": 1000
        },
        "id": "ILj4HKHig0nZ",
        "outputId": "83afa3ee-81cb-4d1c-c591-c82348c1be1f"
      },
      "source": [
        "from sklearn import tree\n",
        "from sklearn.tree import DecisionTreeClassifier\n",
        "from sklearn.tree import export_graphviz\n",
        "import graphviz \n",
        "\n",
        "\n",
        "# Information gain\n",
        "clf_infoG = tree.DecisionTreeClassifier(criterion=\"entropy\", max_depth=6)\n",
        "clf_infoG = clf_infoG.fit(X_train, y_train)\n",
        "feature_names = list(X.columns)\n",
        "infoG_tree = tree.export_graphviz(clf_infoG, out_file= None, \n",
        "                                feature_names=feature_names,\n",
        "                                class_names='24',\n",
        "                                filled=True, rounded=True,  \n",
        "                                special_characters=True)\n",
        "\n",
        "infoG_graph = graphviz.Source(infoG_tree)\n",
        "infoG_graph"
      ],
      "execution_count": 13,
      "outputs": [
        {
          "output_type": "execute_result",
          "data": {
            "text/plain": [
              "<graphviz.files.Source at 0x7ffacf229750>"
            ],
            "image/svg+xml": "<?xml version=\"1.0\" encoding=\"UTF-8\" standalone=\"no\"?>\n<!DOCTYPE svg PUBLIC \"-//W3C//DTD SVG 1.1//EN\"\n \"http://www.w3.org/Graphics/SVG/1.1/DTD/svg11.dtd\">\n<!-- Generated by graphviz version 2.40.1 (20161225.0304)\n -->\n<!-- Title: Tree Pages: 1 -->\n<svg width=\"1123pt\" height=\"790pt\"\n viewBox=\"0.00 0.00 1122.50 790.00\" xmlns=\"http://www.w3.org/2000/svg\" xmlns:xlink=\"http://www.w3.org/1999/xlink\">\n<g id=\"graph0\" class=\"graph\" transform=\"scale(1 1) rotate(0) translate(4 786)\">\n<title>Tree</title>\n<polygon fill=\"#ffffff\" stroke=\"transparent\" points=\"-4,4 -4,-786 1118.5,-786 1118.5,4 -4,4\"/>\n<!-- 0 -->\n<g id=\"node1\" class=\"node\">\n<title>0</title>\n<path fill=\"#f3c5a3\" stroke=\"#000000\" d=\"M531.5,-782C531.5,-782 362.5,-782 362.5,-782 356.5,-782 350.5,-776 350.5,-770 350.5,-770 350.5,-711 350.5,-711 350.5,-705 356.5,-699 362.5,-699 362.5,-699 531.5,-699 531.5,-699 537.5,-699 543.5,-705 543.5,-711 543.5,-711 543.5,-770 543.5,-770 543.5,-776 537.5,-782 531.5,-782\"/>\n<text text-anchor=\"start\" x=\"358.5\" y=\"-766.8\" font-family=\"Helvetica,sans-Serif\" font-size=\"14.00\" fill=\"#000000\">Uniformity of Cell Size ≤ 2.5</text>\n<text text-anchor=\"start\" x=\"396\" y=\"-751.8\" font-family=\"Helvetica,sans-Serif\" font-size=\"14.00\" fill=\"#000000\">entropy = 0.934</text>\n<text text-anchor=\"start\" x=\"399\" y=\"-736.8\" font-family=\"Helvetica,sans-Serif\" font-size=\"14.00\" fill=\"#000000\">samples = 409</text>\n<text text-anchor=\"start\" x=\"389\" y=\"-721.8\" font-family=\"Helvetica,sans-Serif\" font-size=\"14.00\" fill=\"#000000\">value = [266, 143]</text>\n<text text-anchor=\"start\" x=\"418\" y=\"-706.8\" font-family=\"Helvetica,sans-Serif\" font-size=\"14.00\" fill=\"#000000\">class = 2</text>\n</g>\n<!-- 1 -->\n<g id=\"node2\" class=\"node\">\n<title>1</title>\n<path fill=\"#e6853f\" stroke=\"#000000\" d=\"M415,-663C415,-663 275,-663 275,-663 269,-663 263,-657 263,-651 263,-651 263,-592 263,-592 263,-586 269,-580 275,-580 275,-580 415,-580 415,-580 421,-580 427,-586 427,-592 427,-592 427,-651 427,-651 427,-657 421,-663 415,-663\"/>\n<text text-anchor=\"start\" x=\"271\" y=\"-647.8\" font-family=\"Helvetica,sans-Serif\" font-size=\"14.00\" fill=\"#000000\">Clump Thickness ≤ 6.5</text>\n<text text-anchor=\"start\" x=\"294\" y=\"-632.8\" font-family=\"Helvetica,sans-Serif\" font-size=\"14.00\" fill=\"#000000\">entropy = 0.202</text>\n<text text-anchor=\"start\" x=\"297\" y=\"-617.8\" font-family=\"Helvetica,sans-Serif\" font-size=\"14.00\" fill=\"#000000\">samples = 253</text>\n<text text-anchor=\"start\" x=\"295\" y=\"-602.8\" font-family=\"Helvetica,sans-Serif\" font-size=\"14.00\" fill=\"#000000\">value = [245, 8]</text>\n<text text-anchor=\"start\" x=\"316\" y=\"-587.8\" font-family=\"Helvetica,sans-Serif\" font-size=\"14.00\" fill=\"#000000\">class = 2</text>\n</g>\n<!-- 0&#45;&gt;1 -->\n<g id=\"edge1\" class=\"edge\">\n<title>0&#45;&gt;1</title>\n<path fill=\"none\" stroke=\"#000000\" d=\"M411.3253,-698.8796C403.6057,-689.8733 395.3695,-680.2644 387.4197,-670.9897\"/>\n<polygon fill=\"#000000\" stroke=\"#000000\" points=\"389.9923,-668.6129 380.8269,-663.2981 384.6775,-673.1684 389.9923,-668.6129\"/>\n<text text-anchor=\"middle\" x=\"378.9095\" y=\"-684.5244\" font-family=\"Helvetica,sans-Serif\" font-size=\"14.00\" fill=\"#000000\">True</text>\n</g>\n<!-- 10 -->\n<g id=\"node11\" class=\"node\">\n<title>10</title>\n<path fill=\"#58ace9\" stroke=\"#000000\" d=\"M640.5,-663C640.5,-663 457.5,-663 457.5,-663 451.5,-663 445.5,-657 445.5,-651 445.5,-651 445.5,-592 445.5,-592 445.5,-586 451.5,-580 457.5,-580 457.5,-580 640.5,-580 640.5,-580 646.5,-580 652.5,-586 652.5,-592 652.5,-592 652.5,-651 652.5,-651 652.5,-657 646.5,-663 640.5,-663\"/>\n<text text-anchor=\"start\" x=\"453.5\" y=\"-647.8\" font-family=\"Helvetica,sans-Serif\" font-size=\"14.00\" fill=\"#000000\">Uniformity of Cell Shape ≤ 2.5</text>\n<text text-anchor=\"start\" x=\"502\" y=\"-632.8\" font-family=\"Helvetica,sans-Serif\" font-size=\"14.00\" fill=\"#000000\">entropy = 0.57</text>\n<text text-anchor=\"start\" x=\"501\" y=\"-617.8\" font-family=\"Helvetica,sans-Serif\" font-size=\"14.00\" fill=\"#000000\">samples = 156</text>\n<text text-anchor=\"start\" x=\"495\" y=\"-602.8\" font-family=\"Helvetica,sans-Serif\" font-size=\"14.00\" fill=\"#000000\">value = [21, 135]</text>\n<text text-anchor=\"start\" x=\"520\" y=\"-587.8\" font-family=\"Helvetica,sans-Serif\" font-size=\"14.00\" fill=\"#000000\">class = 4</text>\n</g>\n<!-- 0&#45;&gt;10 -->\n<g id=\"edge10\" class=\"edge\">\n<title>0&#45;&gt;10</title>\n<path fill=\"none\" stroke=\"#000000\" d=\"M482.6747,-698.8796C490.3943,-689.8733 498.6305,-680.2644 506.5803,-670.9897\"/>\n<polygon fill=\"#000000\" stroke=\"#000000\" points=\"509.3225,-673.1684 513.1731,-663.2981 504.0077,-668.6129 509.3225,-673.1684\"/>\n<text text-anchor=\"middle\" x=\"515.0905\" y=\"-684.5244\" font-family=\"Helvetica,sans-Serif\" font-size=\"14.00\" fill=\"#000000\">False</text>\n</g>\n<!-- 2 -->\n<g id=\"node3\" class=\"node\">\n<title>2</title>\n<path fill=\"#e5833b\" stroke=\"#000000\" d=\"M266.5,-544C266.5,-544 163.5,-544 163.5,-544 157.5,-544 151.5,-538 151.5,-532 151.5,-532 151.5,-473 151.5,-473 151.5,-467 157.5,-461 163.5,-461 163.5,-461 266.5,-461 266.5,-461 272.5,-461 278.5,-467 278.5,-473 278.5,-473 278.5,-532 278.5,-532 278.5,-538 272.5,-544 266.5,-544\"/>\n<text text-anchor=\"start\" x=\"159.5\" y=\"-528.8\" font-family=\"Helvetica,sans-Serif\" font-size=\"14.00\" fill=\"#000000\">Bare Nuclei ≤ 4.5</text>\n<text text-anchor=\"start\" x=\"164\" y=\"-513.8\" font-family=\"Helvetica,sans-Serif\" font-size=\"14.00\" fill=\"#000000\">entropy = 0.094</text>\n<text text-anchor=\"start\" x=\"167\" y=\"-498.8\" font-family=\"Helvetica,sans-Serif\" font-size=\"14.00\" fill=\"#000000\">samples = 248</text>\n<text text-anchor=\"start\" x=\"165\" y=\"-483.8\" font-family=\"Helvetica,sans-Serif\" font-size=\"14.00\" fill=\"#000000\">value = [245, 3]</text>\n<text text-anchor=\"start\" x=\"186\" y=\"-468.8\" font-family=\"Helvetica,sans-Serif\" font-size=\"14.00\" fill=\"#000000\">class = 2</text>\n</g>\n<!-- 1&#45;&gt;2 -->\n<g id=\"edge2\" class=\"edge\">\n<title>1&#45;&gt;2</title>\n<path fill=\"none\" stroke=\"#000000\" d=\"M299.5323,-579.8796C289.3983,-570.6031 278.566,-560.6874 268.1535,-551.1559\"/>\n<polygon fill=\"#000000\" stroke=\"#000000\" points=\"270.4013,-548.4685 260.6618,-544.2981 265.6748,-553.6319 270.4013,-548.4685\"/>\n</g>\n<!-- 9 -->\n<g id=\"node10\" class=\"node\">\n<title>9</title>\n<path fill=\"#399de5\" stroke=\"#000000\" d=\"M385.5,-536.5C385.5,-536.5 308.5,-536.5 308.5,-536.5 302.5,-536.5 296.5,-530.5 296.5,-524.5 296.5,-524.5 296.5,-480.5 296.5,-480.5 296.5,-474.5 302.5,-468.5 308.5,-468.5 308.5,-468.5 385.5,-468.5 385.5,-468.5 391.5,-468.5 397.5,-474.5 397.5,-480.5 397.5,-480.5 397.5,-524.5 397.5,-524.5 397.5,-530.5 391.5,-536.5 385.5,-536.5\"/>\n<text text-anchor=\"start\" x=\"304.5\" y=\"-521.3\" font-family=\"Helvetica,sans-Serif\" font-size=\"14.00\" fill=\"#000000\">entropy = 0.0</text>\n<text text-anchor=\"start\" x=\"307.5\" y=\"-506.3\" font-family=\"Helvetica,sans-Serif\" font-size=\"14.00\" fill=\"#000000\">samples = 5</text>\n<text text-anchor=\"start\" x=\"305.5\" y=\"-491.3\" font-family=\"Helvetica,sans-Serif\" font-size=\"14.00\" fill=\"#000000\">value = [0, 5]</text>\n<text text-anchor=\"start\" x=\"318\" y=\"-476.3\" font-family=\"Helvetica,sans-Serif\" font-size=\"14.00\" fill=\"#000000\">class = 4</text>\n</g>\n<!-- 1&#45;&gt;9 -->\n<g id=\"edge9\" class=\"edge\">\n<title>1&#45;&gt;9</title>\n<path fill=\"none\" stroke=\"#000000\" d=\"M345.6995,-579.8796C345.8788,-569.2134 346.0722,-557.7021 346.2538,-546.9015\"/>\n<polygon fill=\"#000000\" stroke=\"#000000\" points=\"349.7546,-546.8724 346.4233,-536.8149 342.7556,-546.7547 349.7546,-546.8724\"/>\n</g>\n<!-- 3 -->\n<g id=\"node4\" class=\"node\">\n<title>3</title>\n<path fill=\"#e58139\" stroke=\"#000000\" d=\"M104,-417.5C104,-417.5 12,-417.5 12,-417.5 6,-417.5 0,-411.5 0,-405.5 0,-405.5 0,-361.5 0,-361.5 0,-355.5 6,-349.5 12,-349.5 12,-349.5 104,-349.5 104,-349.5 110,-349.5 116,-355.5 116,-361.5 116,-361.5 116,-405.5 116,-405.5 116,-411.5 110,-417.5 104,-417.5\"/>\n<text text-anchor=\"start\" x=\"15.5\" y=\"-402.3\" font-family=\"Helvetica,sans-Serif\" font-size=\"14.00\" fill=\"#000000\">entropy = 0.0</text>\n<text text-anchor=\"start\" x=\"10\" y=\"-387.3\" font-family=\"Helvetica,sans-Serif\" font-size=\"14.00\" fill=\"#000000\">samples = 240</text>\n<text text-anchor=\"start\" x=\"8\" y=\"-372.3\" font-family=\"Helvetica,sans-Serif\" font-size=\"14.00\" fill=\"#000000\">value = [240, 0]</text>\n<text text-anchor=\"start\" x=\"29\" y=\"-357.3\" font-family=\"Helvetica,sans-Serif\" font-size=\"14.00\" fill=\"#000000\">class = 2</text>\n</g>\n<!-- 2&#45;&gt;3 -->\n<g id=\"edge3\" class=\"edge\">\n<title>2&#45;&gt;3</title>\n<path fill=\"none\" stroke=\"#000000\" d=\"M160.089,-460.8796C144.2006,-448.8368 126.8909,-435.7167 111.1143,-423.7586\"/>\n<polygon fill=\"#000000\" stroke=\"#000000\" points=\"113.1031,-420.8743 103.0195,-417.623 108.8747,-426.4529 113.1031,-420.8743\"/>\n</g>\n<!-- 4 -->\n<g id=\"node5\" class=\"node\">\n<title>4</title>\n<path fill=\"#f5cdb0\" stroke=\"#000000\" d=\"M286,-425C286,-425 146,-425 146,-425 140,-425 134,-419 134,-413 134,-413 134,-354 134,-354 134,-348 140,-342 146,-342 146,-342 286,-342 286,-342 292,-342 298,-348 298,-354 298,-354 298,-413 298,-413 298,-419 292,-425 286,-425\"/>\n<text text-anchor=\"start\" x=\"142\" y=\"-409.8\" font-family=\"Helvetica,sans-Serif\" font-size=\"14.00\" fill=\"#000000\">Clump Thickness ≤ 3.5</text>\n<text text-anchor=\"start\" x=\"165\" y=\"-394.8\" font-family=\"Helvetica,sans-Serif\" font-size=\"14.00\" fill=\"#000000\">entropy = 0.954</text>\n<text text-anchor=\"start\" x=\"176.5\" y=\"-379.8\" font-family=\"Helvetica,sans-Serif\" font-size=\"14.00\" fill=\"#000000\">samples = 8</text>\n<text text-anchor=\"start\" x=\"174.5\" y=\"-364.8\" font-family=\"Helvetica,sans-Serif\" font-size=\"14.00\" fill=\"#000000\">value = [5, 3]</text>\n<text text-anchor=\"start\" x=\"187\" y=\"-349.8\" font-family=\"Helvetica,sans-Serif\" font-size=\"14.00\" fill=\"#000000\">class = 2</text>\n</g>\n<!-- 2&#45;&gt;4 -->\n<g id=\"edge4\" class=\"edge\">\n<title>2&#45;&gt;4</title>\n<path fill=\"none\" stroke=\"#000000\" d=\"M215.3498,-460.8796C215.4186,-452.6838 215.4917,-443.9891 215.563,-435.5013\"/>\n<polygon fill=\"#000000\" stroke=\"#000000\" points=\"219.0645,-435.3272 215.6488,-425.2981 212.0648,-435.2683 219.0645,-435.3272\"/>\n</g>\n<!-- 5 -->\n<g id=\"node6\" class=\"node\">\n<title>5</title>\n<path fill=\"#e58139\" stroke=\"#000000\" d=\"M249.5,-298.5C249.5,-298.5 172.5,-298.5 172.5,-298.5 166.5,-298.5 160.5,-292.5 160.5,-286.5 160.5,-286.5 160.5,-242.5 160.5,-242.5 160.5,-236.5 166.5,-230.5 172.5,-230.5 172.5,-230.5 249.5,-230.5 249.5,-230.5 255.5,-230.5 261.5,-236.5 261.5,-242.5 261.5,-242.5 261.5,-286.5 261.5,-286.5 261.5,-292.5 255.5,-298.5 249.5,-298.5\"/>\n<text text-anchor=\"start\" x=\"168.5\" y=\"-283.3\" font-family=\"Helvetica,sans-Serif\" font-size=\"14.00\" fill=\"#000000\">entropy = 0.0</text>\n<text text-anchor=\"start\" x=\"171.5\" y=\"-268.3\" font-family=\"Helvetica,sans-Serif\" font-size=\"14.00\" fill=\"#000000\">samples = 4</text>\n<text text-anchor=\"start\" x=\"169.5\" y=\"-253.3\" font-family=\"Helvetica,sans-Serif\" font-size=\"14.00\" fill=\"#000000\">value = [4, 0]</text>\n<text text-anchor=\"start\" x=\"182\" y=\"-238.3\" font-family=\"Helvetica,sans-Serif\" font-size=\"14.00\" fill=\"#000000\">class = 2</text>\n</g>\n<!-- 4&#45;&gt;5 -->\n<g id=\"edge5\" class=\"edge\">\n<title>4&#45;&gt;5</title>\n<path fill=\"none\" stroke=\"#000000\" d=\"M214.2512,-341.8796C213.8031,-331.2134 213.3194,-319.7021 212.8656,-308.9015\"/>\n<polygon fill=\"#000000\" stroke=\"#000000\" points=\"216.3586,-308.6592 212.4418,-298.8149 209.3648,-308.9531 216.3586,-308.6592\"/>\n</g>\n<!-- 6 -->\n<g id=\"node7\" class=\"node\">\n<title>6</title>\n<path fill=\"#7bbeee\" stroke=\"#000000\" d=\"M440,-306C440,-306 292,-306 292,-306 286,-306 280,-300 280,-294 280,-294 280,-235 280,-235 280,-229 286,-223 292,-223 292,-223 440,-223 440,-223 446,-223 452,-229 452,-235 452,-235 452,-294 452,-294 452,-300 446,-306 440,-306\"/>\n<text text-anchor=\"start\" x=\"288\" y=\"-290.8\" font-family=\"Helvetica,sans-Serif\" font-size=\"14.00\" fill=\"#000000\">Marginal Adhesion ≤ 7.5</text>\n<text text-anchor=\"start\" x=\"315\" y=\"-275.8\" font-family=\"Helvetica,sans-Serif\" font-size=\"14.00\" fill=\"#000000\">entropy = 0.811</text>\n<text text-anchor=\"start\" x=\"326.5\" y=\"-260.8\" font-family=\"Helvetica,sans-Serif\" font-size=\"14.00\" fill=\"#000000\">samples = 4</text>\n<text text-anchor=\"start\" x=\"324.5\" y=\"-245.8\" font-family=\"Helvetica,sans-Serif\" font-size=\"14.00\" fill=\"#000000\">value = [1, 3]</text>\n<text text-anchor=\"start\" x=\"337\" y=\"-230.8\" font-family=\"Helvetica,sans-Serif\" font-size=\"14.00\" fill=\"#000000\">class = 4</text>\n</g>\n<!-- 4&#45;&gt;6 -->\n<g id=\"edge6\" class=\"edge\">\n<title>4&#45;&gt;6</title>\n<path fill=\"none\" stroke=\"#000000\" d=\"M268.4627,-341.8796C280.4521,-332.368 293.2887,-322.1843 305.5816,-312.432\"/>\n<polygon fill=\"#000000\" stroke=\"#000000\" points=\"307.9081,-315.054 313.5669,-306.0969 303.5575,-309.5701 307.9081,-315.054\"/>\n</g>\n<!-- 7 -->\n<g id=\"node8\" class=\"node\">\n<title>7</title>\n<path fill=\"#399de5\" stroke=\"#000000\" d=\"M287.5,-179.5C287.5,-179.5 210.5,-179.5 210.5,-179.5 204.5,-179.5 198.5,-173.5 198.5,-167.5 198.5,-167.5 198.5,-123.5 198.5,-123.5 198.5,-117.5 204.5,-111.5 210.5,-111.5 210.5,-111.5 287.5,-111.5 287.5,-111.5 293.5,-111.5 299.5,-117.5 299.5,-123.5 299.5,-123.5 299.5,-167.5 299.5,-167.5 299.5,-173.5 293.5,-179.5 287.5,-179.5\"/>\n<text text-anchor=\"start\" x=\"206.5\" y=\"-164.3\" font-family=\"Helvetica,sans-Serif\" font-size=\"14.00\" fill=\"#000000\">entropy = 0.0</text>\n<text text-anchor=\"start\" x=\"209.5\" y=\"-149.3\" font-family=\"Helvetica,sans-Serif\" font-size=\"14.00\" fill=\"#000000\">samples = 3</text>\n<text text-anchor=\"start\" x=\"207.5\" y=\"-134.3\" font-family=\"Helvetica,sans-Serif\" font-size=\"14.00\" fill=\"#000000\">value = [0, 3]</text>\n<text text-anchor=\"start\" x=\"220\" y=\"-119.3\" font-family=\"Helvetica,sans-Serif\" font-size=\"14.00\" fill=\"#000000\">class = 4</text>\n</g>\n<!-- 6&#45;&gt;7 -->\n<g id=\"edge7\" class=\"edge\">\n<title>6&#45;&gt;7</title>\n<path fill=\"none\" stroke=\"#000000\" d=\"M325.0791,-222.8796C313.7272,-211.3337 301.4018,-198.7976 290.043,-187.2446\"/>\n<polygon fill=\"#000000\" stroke=\"#000000\" points=\"292.2449,-184.4919 282.7382,-179.8149 287.2534,-189.3995 292.2449,-184.4919\"/>\n</g>\n<!-- 8 -->\n<g id=\"node9\" class=\"node\">\n<title>8</title>\n<path fill=\"#e58139\" stroke=\"#000000\" d=\"M406.5,-179.5C406.5,-179.5 329.5,-179.5 329.5,-179.5 323.5,-179.5 317.5,-173.5 317.5,-167.5 317.5,-167.5 317.5,-123.5 317.5,-123.5 317.5,-117.5 323.5,-111.5 329.5,-111.5 329.5,-111.5 406.5,-111.5 406.5,-111.5 412.5,-111.5 418.5,-117.5 418.5,-123.5 418.5,-123.5 418.5,-167.5 418.5,-167.5 418.5,-173.5 412.5,-179.5 406.5,-179.5\"/>\n<text text-anchor=\"start\" x=\"325.5\" y=\"-164.3\" font-family=\"Helvetica,sans-Serif\" font-size=\"14.00\" fill=\"#000000\">entropy = 0.0</text>\n<text text-anchor=\"start\" x=\"328.5\" y=\"-149.3\" font-family=\"Helvetica,sans-Serif\" font-size=\"14.00\" fill=\"#000000\">samples = 1</text>\n<text text-anchor=\"start\" x=\"326.5\" y=\"-134.3\" font-family=\"Helvetica,sans-Serif\" font-size=\"14.00\" fill=\"#000000\">value = [1, 0]</text>\n<text text-anchor=\"start\" x=\"339\" y=\"-119.3\" font-family=\"Helvetica,sans-Serif\" font-size=\"14.00\" fill=\"#000000\">class = 2</text>\n</g>\n<!-- 6&#45;&gt;8 -->\n<g id=\"edge8\" class=\"edge\">\n<title>6&#45;&gt;8</title>\n<path fill=\"none\" stroke=\"#000000\" d=\"M366.6995,-222.8796C366.8788,-212.2134 367.0722,-200.7021 367.2538,-189.9015\"/>\n<polygon fill=\"#000000\" stroke=\"#000000\" points=\"370.7546,-189.8724 367.4233,-179.8149 363.7556,-189.7547 370.7546,-189.8724\"/>\n</g>\n<!-- 11 -->\n<g id=\"node12\" class=\"node\">\n<title>11</title>\n<path fill=\"#eca06a\" stroke=\"#000000\" d=\"M614,-544C614,-544 478,-544 478,-544 472,-544 466,-538 466,-532 466,-532 466,-473 466,-473 466,-467 472,-461 478,-461 478,-461 614,-461 614,-461 620,-461 626,-467 626,-473 626,-473 626,-532 626,-532 626,-538 620,-544 614,-544\"/>\n<text text-anchor=\"start\" x=\"474\" y=\"-528.8\" font-family=\"Helvetica,sans-Serif\" font-size=\"14.00\" fill=\"#000000\">Bland Chromatin ≤ 3.5</text>\n<text text-anchor=\"start\" x=\"495\" y=\"-513.8\" font-family=\"Helvetica,sans-Serif\" font-size=\"14.00\" fill=\"#000000\">entropy = 0.722</text>\n<text text-anchor=\"start\" x=\"502\" y=\"-498.8\" font-family=\"Helvetica,sans-Serif\" font-size=\"14.00\" fill=\"#000000\">samples = 15</text>\n<text text-anchor=\"start\" x=\"500.5\" y=\"-483.8\" font-family=\"Helvetica,sans-Serif\" font-size=\"14.00\" fill=\"#000000\">value = [12, 3]</text>\n<text text-anchor=\"start\" x=\"517\" y=\"-468.8\" font-family=\"Helvetica,sans-Serif\" font-size=\"14.00\" fill=\"#000000\">class = 2</text>\n</g>\n<!-- 10&#45;&gt;11 -->\n<g id=\"edge11\" class=\"edge\">\n<title>10&#45;&gt;11</title>\n<path fill=\"none\" stroke=\"#000000\" d=\"M547.9507,-579.8796C547.7441,-571.6838 547.5249,-562.9891 547.311,-554.5013\"/>\n<polygon fill=\"#000000\" stroke=\"#000000\" points=\"550.8047,-554.2067 547.0537,-544.2981 543.807,-554.3831 550.8047,-554.2067\"/>\n</g>\n<!-- 14 -->\n<g id=\"node15\" class=\"node\">\n<title>14</title>\n<path fill=\"#46a4e7\" stroke=\"#000000\" d=\"M762.5,-544C762.5,-544 659.5,-544 659.5,-544 653.5,-544 647.5,-538 647.5,-532 647.5,-532 647.5,-473 647.5,-473 647.5,-467 653.5,-461 659.5,-461 659.5,-461 762.5,-461 762.5,-461 768.5,-461 774.5,-467 774.5,-473 774.5,-473 774.5,-532 774.5,-532 774.5,-538 768.5,-544 762.5,-544\"/>\n<text text-anchor=\"start\" x=\"655.5\" y=\"-528.8\" font-family=\"Helvetica,sans-Serif\" font-size=\"14.00\" fill=\"#000000\">Bare Nuclei ≤ 8.5</text>\n<text text-anchor=\"start\" x=\"660\" y=\"-513.8\" font-family=\"Helvetica,sans-Serif\" font-size=\"14.00\" fill=\"#000000\">entropy = 0.342</text>\n<text text-anchor=\"start\" x=\"663\" y=\"-498.8\" font-family=\"Helvetica,sans-Serif\" font-size=\"14.00\" fill=\"#000000\">samples = 141</text>\n<text text-anchor=\"start\" x=\"661\" y=\"-483.8\" font-family=\"Helvetica,sans-Serif\" font-size=\"14.00\" fill=\"#000000\">value = [9, 132]</text>\n<text text-anchor=\"start\" x=\"682\" y=\"-468.8\" font-family=\"Helvetica,sans-Serif\" font-size=\"14.00\" fill=\"#000000\">class = 4</text>\n</g>\n<!-- 10&#45;&gt;14 -->\n<g id=\"edge14\" class=\"edge\">\n<title>10&#45;&gt;14</title>\n<path fill=\"none\" stroke=\"#000000\" d=\"M605.6597,-579.8796C618.7316,-570.2774 632.7359,-559.9903 646.1273,-550.1534\"/>\n<polygon fill=\"#000000\" stroke=\"#000000\" points=\"648.385,-552.8378 654.3723,-544.0969 644.2409,-547.1963 648.385,-552.8378\"/>\n</g>\n<!-- 12 -->\n<g id=\"node13\" class=\"node\">\n<title>12</title>\n<path fill=\"#e58139\" stroke=\"#000000\" d=\"M465.5,-417.5C465.5,-417.5 382.5,-417.5 382.5,-417.5 376.5,-417.5 370.5,-411.5 370.5,-405.5 370.5,-405.5 370.5,-361.5 370.5,-361.5 370.5,-355.5 376.5,-349.5 382.5,-349.5 382.5,-349.5 465.5,-349.5 465.5,-349.5 471.5,-349.5 477.5,-355.5 477.5,-361.5 477.5,-361.5 477.5,-405.5 477.5,-405.5 477.5,-411.5 471.5,-417.5 465.5,-417.5\"/>\n<text text-anchor=\"start\" x=\"381.5\" y=\"-402.3\" font-family=\"Helvetica,sans-Serif\" font-size=\"14.00\" fill=\"#000000\">entropy = 0.0</text>\n<text text-anchor=\"start\" x=\"380\" y=\"-387.3\" font-family=\"Helvetica,sans-Serif\" font-size=\"14.00\" fill=\"#000000\">samples = 12</text>\n<text text-anchor=\"start\" x=\"378.5\" y=\"-372.3\" font-family=\"Helvetica,sans-Serif\" font-size=\"14.00\" fill=\"#000000\">value = [12, 0]</text>\n<text text-anchor=\"start\" x=\"395\" y=\"-357.3\" font-family=\"Helvetica,sans-Serif\" font-size=\"14.00\" fill=\"#000000\">class = 2</text>\n</g>\n<!-- 11&#45;&gt;12 -->\n<g id=\"edge12\" class=\"edge\">\n<title>11&#45;&gt;12</title>\n<path fill=\"none\" stroke=\"#000000\" d=\"M503.3303,-460.8796C491.3806,-449.2237 478.3963,-436.5587 466.4589,-424.9148\"/>\n<polygon fill=\"#000000\" stroke=\"#000000\" points=\"468.7825,-422.292 459.18,-417.8149 463.8947,-427.303 468.7825,-422.292\"/>\n</g>\n<!-- 13 -->\n<g id=\"node14\" class=\"node\">\n<title>13</title>\n<path fill=\"#399de5\" stroke=\"#000000\" d=\"M584.5,-417.5C584.5,-417.5 507.5,-417.5 507.5,-417.5 501.5,-417.5 495.5,-411.5 495.5,-405.5 495.5,-405.5 495.5,-361.5 495.5,-361.5 495.5,-355.5 501.5,-349.5 507.5,-349.5 507.5,-349.5 584.5,-349.5 584.5,-349.5 590.5,-349.5 596.5,-355.5 596.5,-361.5 596.5,-361.5 596.5,-405.5 596.5,-405.5 596.5,-411.5 590.5,-417.5 584.5,-417.5\"/>\n<text text-anchor=\"start\" x=\"503.5\" y=\"-402.3\" font-family=\"Helvetica,sans-Serif\" font-size=\"14.00\" fill=\"#000000\">entropy = 0.0</text>\n<text text-anchor=\"start\" x=\"506.5\" y=\"-387.3\" font-family=\"Helvetica,sans-Serif\" font-size=\"14.00\" fill=\"#000000\">samples = 3</text>\n<text text-anchor=\"start\" x=\"504.5\" y=\"-372.3\" font-family=\"Helvetica,sans-Serif\" font-size=\"14.00\" fill=\"#000000\">value = [0, 3]</text>\n<text text-anchor=\"start\" x=\"517\" y=\"-357.3\" font-family=\"Helvetica,sans-Serif\" font-size=\"14.00\" fill=\"#000000\">class = 4</text>\n</g>\n<!-- 11&#45;&gt;13 -->\n<g id=\"edge13\" class=\"edge\">\n<title>11&#45;&gt;13</title>\n<path fill=\"none\" stroke=\"#000000\" d=\"M546,-460.8796C546,-450.2134 546,-438.7021 546,-427.9015\"/>\n<polygon fill=\"#000000\" stroke=\"#000000\" points=\"549.5001,-427.8149 546,-417.8149 542.5001,-427.815 549.5001,-427.8149\"/>\n</g>\n<!-- 15 -->\n<g id=\"node16\" class=\"node\">\n<title>15</title>\n<path fill=\"#5caeea\" stroke=\"#000000\" d=\"M795.5,-425C795.5,-425 626.5,-425 626.5,-425 620.5,-425 614.5,-419 614.5,-413 614.5,-413 614.5,-354 614.5,-354 614.5,-348 620.5,-342 626.5,-342 626.5,-342 795.5,-342 795.5,-342 801.5,-342 807.5,-348 807.5,-354 807.5,-354 807.5,-413 807.5,-413 807.5,-419 801.5,-425 795.5,-425\"/>\n<text text-anchor=\"start\" x=\"622.5\" y=\"-409.8\" font-family=\"Helvetica,sans-Serif\" font-size=\"14.00\" fill=\"#000000\">Uniformity of Cell Size ≤ 4.5</text>\n<text text-anchor=\"start\" x=\"664\" y=\"-394.8\" font-family=\"Helvetica,sans-Serif\" font-size=\"14.00\" fill=\"#000000\">entropy = 0.61</text>\n<text text-anchor=\"start\" x=\"667\" y=\"-379.8\" font-family=\"Helvetica,sans-Serif\" font-size=\"14.00\" fill=\"#000000\">samples = 60</text>\n<text text-anchor=\"start\" x=\"665.5\" y=\"-364.8\" font-family=\"Helvetica,sans-Serif\" font-size=\"14.00\" fill=\"#000000\">value = [9, 51]</text>\n<text text-anchor=\"start\" x=\"682\" y=\"-349.8\" font-family=\"Helvetica,sans-Serif\" font-size=\"14.00\" fill=\"#000000\">class = 4</text>\n</g>\n<!-- 14&#45;&gt;15 -->\n<g id=\"edge15\" class=\"edge\">\n<title>14&#45;&gt;15</title>\n<path fill=\"none\" stroke=\"#000000\" d=\"M711,-460.8796C711,-452.6838 711,-443.9891 711,-435.5013\"/>\n<polygon fill=\"#000000\" stroke=\"#000000\" points=\"714.5001,-435.298 711,-425.2981 707.5001,-435.2981 714.5001,-435.298\"/>\n</g>\n<!-- 28 -->\n<g id=\"node29\" class=\"node\">\n<title>28</title>\n<path fill=\"#399de5\" stroke=\"#000000\" d=\"M920.5,-417.5C920.5,-417.5 837.5,-417.5 837.5,-417.5 831.5,-417.5 825.5,-411.5 825.5,-405.5 825.5,-405.5 825.5,-361.5 825.5,-361.5 825.5,-355.5 831.5,-349.5 837.5,-349.5 837.5,-349.5 920.5,-349.5 920.5,-349.5 926.5,-349.5 932.5,-355.5 932.5,-361.5 932.5,-361.5 932.5,-405.5 932.5,-405.5 932.5,-411.5 926.5,-417.5 920.5,-417.5\"/>\n<text text-anchor=\"start\" x=\"836.5\" y=\"-402.3\" font-family=\"Helvetica,sans-Serif\" font-size=\"14.00\" fill=\"#000000\">entropy = 0.0</text>\n<text text-anchor=\"start\" x=\"835\" y=\"-387.3\" font-family=\"Helvetica,sans-Serif\" font-size=\"14.00\" fill=\"#000000\">samples = 81</text>\n<text text-anchor=\"start\" x=\"833.5\" y=\"-372.3\" font-family=\"Helvetica,sans-Serif\" font-size=\"14.00\" fill=\"#000000\">value = [0, 81]</text>\n<text text-anchor=\"start\" x=\"850\" y=\"-357.3\" font-family=\"Helvetica,sans-Serif\" font-size=\"14.00\" fill=\"#000000\">class = 4</text>\n</g>\n<!-- 14&#45;&gt;28 -->\n<g id=\"edge28\" class=\"edge\">\n<title>14&#45;&gt;28</title>\n<path fill=\"none\" stroke=\"#000000\" d=\"M769.7582,-460.8796C786.9158,-448.7263 805.6223,-435.4759 822.6286,-423.4297\"/>\n<polygon fill=\"#000000\" stroke=\"#000000\" points=\"824.6891,-426.2593 830.8263,-417.623 820.643,-420.5472 824.6891,-426.2593\"/>\n</g>\n<!-- 16 -->\n<g id=\"node17\" class=\"node\">\n<title>16</title>\n<path fill=\"#d7ebfa\" stroke=\"#000000\" d=\"M775,-306C775,-306 645,-306 645,-306 639,-306 633,-300 633,-294 633,-294 633,-235 633,-235 633,-229 639,-223 645,-223 645,-223 775,-223 775,-223 781,-223 787,-229 787,-235 787,-235 787,-294 787,-294 787,-300 781,-306 775,-306\"/>\n<text text-anchor=\"start\" x=\"641\" y=\"-290.8\" font-family=\"Helvetica,sans-Serif\" font-size=\"14.00\" fill=\"#000000\">Normal Nucleoli ≤ 3.5</text>\n<text text-anchor=\"start\" x=\"659\" y=\"-275.8\" font-family=\"Helvetica,sans-Serif\" font-size=\"14.00\" fill=\"#000000\">entropy = 0.991</text>\n<text text-anchor=\"start\" x=\"666\" y=\"-260.8\" font-family=\"Helvetica,sans-Serif\" font-size=\"14.00\" fill=\"#000000\">samples = 18</text>\n<text text-anchor=\"start\" x=\"664.5\" y=\"-245.8\" font-family=\"Helvetica,sans-Serif\" font-size=\"14.00\" fill=\"#000000\">value = [8, 10]</text>\n<text text-anchor=\"start\" x=\"681\" y=\"-230.8\" font-family=\"Helvetica,sans-Serif\" font-size=\"14.00\" fill=\"#000000\">class = 4</text>\n</g>\n<!-- 15&#45;&gt;16 -->\n<g id=\"edge16\" class=\"edge\">\n<title>15&#45;&gt;16</title>\n<path fill=\"none\" stroke=\"#000000\" d=\"M710.6502,-341.8796C710.5814,-333.6838 710.5083,-324.9891 710.437,-316.5013\"/>\n<polygon fill=\"#000000\" stroke=\"#000000\" points=\"713.9352,-316.2683 710.3512,-306.2981 706.9355,-316.3272 713.9352,-316.2683\"/>\n</g>\n<!-- 23 -->\n<g id=\"node24\" class=\"node\">\n<title>23</title>\n<path fill=\"#3e9fe6\" stroke=\"#000000\" d=\"M981,-306C981,-306 833,-306 833,-306 827,-306 821,-300 821,-294 821,-294 821,-235 821,-235 821,-229 827,-223 833,-223 833,-223 981,-223 981,-223 987,-223 993,-229 993,-235 993,-235 993,-294 993,-294 993,-300 987,-306 981,-306\"/>\n<text text-anchor=\"start\" x=\"829\" y=\"-290.8\" font-family=\"Helvetica,sans-Serif\" font-size=\"14.00\" fill=\"#000000\">Marginal Adhesion ≤ 1.5</text>\n<text text-anchor=\"start\" x=\"856\" y=\"-275.8\" font-family=\"Helvetica,sans-Serif\" font-size=\"14.00\" fill=\"#000000\">entropy = 0.162</text>\n<text text-anchor=\"start\" x=\"863\" y=\"-260.8\" font-family=\"Helvetica,sans-Serif\" font-size=\"14.00\" fill=\"#000000\">samples = 42</text>\n<text text-anchor=\"start\" x=\"861.5\" y=\"-245.8\" font-family=\"Helvetica,sans-Serif\" font-size=\"14.00\" fill=\"#000000\">value = [1, 41]</text>\n<text text-anchor=\"start\" x=\"878\" y=\"-230.8\" font-family=\"Helvetica,sans-Serif\" font-size=\"14.00\" fill=\"#000000\">class = 4</text>\n</g>\n<!-- 15&#45;&gt;23 -->\n<g id=\"edge23\" class=\"edge\">\n<title>15&#45;&gt;23</title>\n<path fill=\"none\" stroke=\"#000000\" d=\"M779.5513,-341.8796C795.8143,-332.0056 813.2701,-321.4075 829.8858,-311.3193\"/>\n<polygon fill=\"#000000\" stroke=\"#000000\" points=\"831.756,-314.2785 838.4874,-306.0969 828.1231,-308.295 831.756,-314.2785\"/>\n</g>\n<!-- 17 -->\n<g id=\"node18\" class=\"node\">\n<title>17</title>\n<path fill=\"#eca572\" stroke=\"#000000\" d=\"M593,-187C593,-187 453,-187 453,-187 447,-187 441,-181 441,-175 441,-175 441,-116 441,-116 441,-110 447,-104 453,-104 453,-104 593,-104 593,-104 599,-104 605,-110 605,-116 605,-116 605,-175 605,-175 605,-181 599,-187 593,-187\"/>\n<text text-anchor=\"start\" x=\"449\" y=\"-171.8\" font-family=\"Helvetica,sans-Serif\" font-size=\"14.00\" fill=\"#000000\">Clump Thickness ≤ 6.5</text>\n<text text-anchor=\"start\" x=\"472\" y=\"-156.8\" font-family=\"Helvetica,sans-Serif\" font-size=\"14.00\" fill=\"#000000\">entropy = 0.764</text>\n<text text-anchor=\"start\" x=\"483.5\" y=\"-141.8\" font-family=\"Helvetica,sans-Serif\" font-size=\"14.00\" fill=\"#000000\">samples = 9</text>\n<text text-anchor=\"start\" x=\"481.5\" y=\"-126.8\" font-family=\"Helvetica,sans-Serif\" font-size=\"14.00\" fill=\"#000000\">value = [7, 2]</text>\n<text text-anchor=\"start\" x=\"494\" y=\"-111.8\" font-family=\"Helvetica,sans-Serif\" font-size=\"14.00\" fill=\"#000000\">class = 2</text>\n</g>\n<!-- 16&#45;&gt;17 -->\n<g id=\"edge17\" class=\"edge\">\n<title>16&#45;&gt;17</title>\n<path fill=\"none\" stroke=\"#000000\" d=\"M644.5965,-222.8796C629.2226,-213.0962 612.7315,-202.6019 597.0098,-192.5971\"/>\n<polygon fill=\"#000000\" stroke=\"#000000\" points=\"598.6823,-189.5129 588.3666,-187.0969 594.9241,-195.4185 598.6823,-189.5129\"/>\n</g>\n<!-- 20 -->\n<g id=\"node21\" class=\"node\">\n<title>20</title>\n<path fill=\"#52a9e8\" stroke=\"#000000\" d=\"M784,-187C784,-187 636,-187 636,-187 630,-187 624,-181 624,-175 624,-175 624,-116 624,-116 624,-110 630,-104 636,-104 636,-104 784,-104 784,-104 790,-104 796,-110 796,-116 796,-116 796,-175 796,-175 796,-181 790,-187 784,-187\"/>\n<text text-anchor=\"start\" x=\"632\" y=\"-171.8\" font-family=\"Helvetica,sans-Serif\" font-size=\"14.00\" fill=\"#000000\">Marginal Adhesion ≤ 4.5</text>\n<text text-anchor=\"start\" x=\"659\" y=\"-156.8\" font-family=\"Helvetica,sans-Serif\" font-size=\"14.00\" fill=\"#000000\">entropy = 0.503</text>\n<text text-anchor=\"start\" x=\"670.5\" y=\"-141.8\" font-family=\"Helvetica,sans-Serif\" font-size=\"14.00\" fill=\"#000000\">samples = 9</text>\n<text text-anchor=\"start\" x=\"668.5\" y=\"-126.8\" font-family=\"Helvetica,sans-Serif\" font-size=\"14.00\" fill=\"#000000\">value = [1, 8]</text>\n<text text-anchor=\"start\" x=\"681\" y=\"-111.8\" font-family=\"Helvetica,sans-Serif\" font-size=\"14.00\" fill=\"#000000\">class = 4</text>\n</g>\n<!-- 16&#45;&gt;20 -->\n<g id=\"edge20\" class=\"edge\">\n<title>16&#45;&gt;20</title>\n<path fill=\"none\" stroke=\"#000000\" d=\"M710,-222.8796C710,-214.6838 710,-205.9891 710,-197.5013\"/>\n<polygon fill=\"#000000\" stroke=\"#000000\" points=\"713.5001,-197.298 710,-187.2981 706.5001,-197.2981 713.5001,-197.298\"/>\n</g>\n<!-- 18 -->\n<g id=\"node19\" class=\"node\">\n<title>18</title>\n<path fill=\"#e58139\" stroke=\"#000000\" d=\"M433.5,-68C433.5,-68 356.5,-68 356.5,-68 350.5,-68 344.5,-62 344.5,-56 344.5,-56 344.5,-12 344.5,-12 344.5,-6 350.5,0 356.5,0 356.5,0 433.5,0 433.5,0 439.5,0 445.5,-6 445.5,-12 445.5,-12 445.5,-56 445.5,-56 445.5,-62 439.5,-68 433.5,-68\"/>\n<text text-anchor=\"start\" x=\"352.5\" y=\"-52.8\" font-family=\"Helvetica,sans-Serif\" font-size=\"14.00\" fill=\"#000000\">entropy = 0.0</text>\n<text text-anchor=\"start\" x=\"355.5\" y=\"-37.8\" font-family=\"Helvetica,sans-Serif\" font-size=\"14.00\" fill=\"#000000\">samples = 6</text>\n<text text-anchor=\"start\" x=\"353.5\" y=\"-22.8\" font-family=\"Helvetica,sans-Serif\" font-size=\"14.00\" fill=\"#000000\">value = [6, 0]</text>\n<text text-anchor=\"start\" x=\"366\" y=\"-7.8\" font-family=\"Helvetica,sans-Serif\" font-size=\"14.00\" fill=\"#000000\">class = 2</text>\n</g>\n<!-- 17&#45;&gt;18 -->\n<g id=\"edge18\" class=\"edge\">\n<title>17&#45;&gt;18</title>\n<path fill=\"none\" stroke=\"#000000\" d=\"M475.3375,-103.9815C464.4703,-94.5151 452.9295,-84.462 442.0865,-75.0168\"/>\n<polygon fill=\"#000000\" stroke=\"#000000\" points=\"444.1734,-72.1929 434.3341,-68.2637 439.5755,-77.4712 444.1734,-72.1929\"/>\n</g>\n<!-- 19 -->\n<g id=\"node20\" class=\"node\">\n<title>19</title>\n<path fill=\"#9ccef2\" stroke=\"#000000\" d=\"M570,-68C570,-68 476,-68 476,-68 470,-68 464,-62 464,-56 464,-56 464,-12 464,-12 464,-6 470,0 476,0 476,0 570,0 570,0 576,0 582,-6 582,-12 582,-12 582,-56 582,-56 582,-62 576,-68 570,-68\"/>\n<text text-anchor=\"start\" x=\"472\" y=\"-52.8\" font-family=\"Helvetica,sans-Serif\" font-size=\"14.00\" fill=\"#000000\">entropy = 0.918</text>\n<text text-anchor=\"start\" x=\"483.5\" y=\"-37.8\" font-family=\"Helvetica,sans-Serif\" font-size=\"14.00\" fill=\"#000000\">samples = 3</text>\n<text text-anchor=\"start\" x=\"481.5\" y=\"-22.8\" font-family=\"Helvetica,sans-Serif\" font-size=\"14.00\" fill=\"#000000\">value = [1, 2]</text>\n<text text-anchor=\"start\" x=\"494\" y=\"-7.8\" font-family=\"Helvetica,sans-Serif\" font-size=\"14.00\" fill=\"#000000\">class = 4</text>\n</g>\n<!-- 17&#45;&gt;19 -->\n<g id=\"edge19\" class=\"edge\">\n<title>17&#45;&gt;19</title>\n<path fill=\"none\" stroke=\"#000000\" d=\"M523,-103.9815C523,-95.618 523,-86.7965 523,-78.3409\"/>\n<polygon fill=\"#000000\" stroke=\"#000000\" points=\"526.5001,-78.2636 523,-68.2637 519.5001,-78.2637 526.5001,-78.2636\"/>\n</g>\n<!-- 21 -->\n<g id=\"node22\" class=\"node\">\n<title>21</title>\n<path fill=\"#399de5\" stroke=\"#000000\" d=\"M689.5,-68C689.5,-68 612.5,-68 612.5,-68 606.5,-68 600.5,-62 600.5,-56 600.5,-56 600.5,-12 600.5,-12 600.5,-6 606.5,0 612.5,0 612.5,0 689.5,0 689.5,0 695.5,0 701.5,-6 701.5,-12 701.5,-12 701.5,-56 701.5,-56 701.5,-62 695.5,-68 689.5,-68\"/>\n<text text-anchor=\"start\" x=\"608.5\" y=\"-52.8\" font-family=\"Helvetica,sans-Serif\" font-size=\"14.00\" fill=\"#000000\">entropy = 0.0</text>\n<text text-anchor=\"start\" x=\"611.5\" y=\"-37.8\" font-family=\"Helvetica,sans-Serif\" font-size=\"14.00\" fill=\"#000000\">samples = 6</text>\n<text text-anchor=\"start\" x=\"609.5\" y=\"-22.8\" font-family=\"Helvetica,sans-Serif\" font-size=\"14.00\" fill=\"#000000\">value = [0, 6]</text>\n<text text-anchor=\"start\" x=\"622\" y=\"-7.8\" font-family=\"Helvetica,sans-Serif\" font-size=\"14.00\" fill=\"#000000\">class = 4</text>\n</g>\n<!-- 20&#45;&gt;21 -->\n<g id=\"edge21\" class=\"edge\">\n<title>20&#45;&gt;21</title>\n<path fill=\"none\" stroke=\"#000000\" d=\"M688.0306,-103.9815C683.4105,-95.2504 678.5264,-86.0202 673.874,-77.2281\"/>\n<polygon fill=\"#000000\" stroke=\"#000000\" points=\"676.9013,-75.4655 669.1306,-68.2637 670.7141,-78.7395 676.9013,-75.4655\"/>\n</g>\n<!-- 22 -->\n<g id=\"node23\" class=\"node\">\n<title>22</title>\n<path fill=\"#9ccef2\" stroke=\"#000000\" d=\"M826,-68C826,-68 732,-68 732,-68 726,-68 720,-62 720,-56 720,-56 720,-12 720,-12 720,-6 726,0 732,0 732,0 826,0 826,0 832,0 838,-6 838,-12 838,-12 838,-56 838,-56 838,-62 832,-68 826,-68\"/>\n<text text-anchor=\"start\" x=\"728\" y=\"-52.8\" font-family=\"Helvetica,sans-Serif\" font-size=\"14.00\" fill=\"#000000\">entropy = 0.918</text>\n<text text-anchor=\"start\" x=\"739.5\" y=\"-37.8\" font-family=\"Helvetica,sans-Serif\" font-size=\"14.00\" fill=\"#000000\">samples = 3</text>\n<text text-anchor=\"start\" x=\"737.5\" y=\"-22.8\" font-family=\"Helvetica,sans-Serif\" font-size=\"14.00\" fill=\"#000000\">value = [1, 2]</text>\n<text text-anchor=\"start\" x=\"750\" y=\"-7.8\" font-family=\"Helvetica,sans-Serif\" font-size=\"14.00\" fill=\"#000000\">class = 4</text>\n</g>\n<!-- 20&#45;&gt;22 -->\n<g id=\"edge22\" class=\"edge\">\n<title>20&#45;&gt;22</title>\n<path fill=\"none\" stroke=\"#000000\" d=\"M735.6931,-103.9815C741.1531,-95.1585 746.9284,-85.8258 752.4207,-76.9506\"/>\n<polygon fill=\"#000000\" stroke=\"#000000\" points=\"755.5104,-78.609 757.7965,-68.2637 749.558,-74.9254 755.5104,-78.609\"/>\n</g>\n<!-- 24 -->\n<g id=\"node25\" class=\"node\">\n<title>24</title>\n<path fill=\"#6ab6ec\" stroke=\"#000000\" d=\"M977,-187C977,-187 837,-187 837,-187 831,-187 825,-181 825,-175 825,-175 825,-116 825,-116 825,-110 831,-104 837,-104 837,-104 977,-104 977,-104 983,-104 989,-110 989,-116 989,-116 989,-175 989,-175 989,-181 983,-187 977,-187\"/>\n<text text-anchor=\"start\" x=\"833\" y=\"-171.8\" font-family=\"Helvetica,sans-Serif\" font-size=\"14.00\" fill=\"#000000\">Clump Thickness ≤ 7.0</text>\n<text text-anchor=\"start\" x=\"856\" y=\"-156.8\" font-family=\"Helvetica,sans-Serif\" font-size=\"14.00\" fill=\"#000000\">entropy = 0.722</text>\n<text text-anchor=\"start\" x=\"867.5\" y=\"-141.8\" font-family=\"Helvetica,sans-Serif\" font-size=\"14.00\" fill=\"#000000\">samples = 5</text>\n<text text-anchor=\"start\" x=\"865.5\" y=\"-126.8\" font-family=\"Helvetica,sans-Serif\" font-size=\"14.00\" fill=\"#000000\">value = [1, 4]</text>\n<text text-anchor=\"start\" x=\"878\" y=\"-111.8\" font-family=\"Helvetica,sans-Serif\" font-size=\"14.00\" fill=\"#000000\">class = 4</text>\n</g>\n<!-- 23&#45;&gt;24 -->\n<g id=\"edge24\" class=\"edge\">\n<title>23&#45;&gt;24</title>\n<path fill=\"none\" stroke=\"#000000\" d=\"M907,-222.8796C907,-214.6838 907,-205.9891 907,-197.5013\"/>\n<polygon fill=\"#000000\" stroke=\"#000000\" points=\"910.5001,-197.298 907,-187.2981 903.5001,-197.2981 910.5001,-197.298\"/>\n</g>\n<!-- 27 -->\n<g id=\"node28\" class=\"node\">\n<title>27</title>\n<path fill=\"#399de5\" stroke=\"#000000\" d=\"M1102.5,-179.5C1102.5,-179.5 1019.5,-179.5 1019.5,-179.5 1013.5,-179.5 1007.5,-173.5 1007.5,-167.5 1007.5,-167.5 1007.5,-123.5 1007.5,-123.5 1007.5,-117.5 1013.5,-111.5 1019.5,-111.5 1019.5,-111.5 1102.5,-111.5 1102.5,-111.5 1108.5,-111.5 1114.5,-117.5 1114.5,-123.5 1114.5,-123.5 1114.5,-167.5 1114.5,-167.5 1114.5,-173.5 1108.5,-179.5 1102.5,-179.5\"/>\n<text text-anchor=\"start\" x=\"1018.5\" y=\"-164.3\" font-family=\"Helvetica,sans-Serif\" font-size=\"14.00\" fill=\"#000000\">entropy = 0.0</text>\n<text text-anchor=\"start\" x=\"1017\" y=\"-149.3\" font-family=\"Helvetica,sans-Serif\" font-size=\"14.00\" fill=\"#000000\">samples = 37</text>\n<text text-anchor=\"start\" x=\"1015.5\" y=\"-134.3\" font-family=\"Helvetica,sans-Serif\" font-size=\"14.00\" fill=\"#000000\">value = [0, 37]</text>\n<text text-anchor=\"start\" x=\"1032\" y=\"-119.3\" font-family=\"Helvetica,sans-Serif\" font-size=\"14.00\" fill=\"#000000\">class = 4</text>\n</g>\n<!-- 23&#45;&gt;27 -->\n<g id=\"edge27\" class=\"edge\">\n<title>23&#45;&gt;27</title>\n<path fill=\"none\" stroke=\"#000000\" d=\"M960.8617,-222.8796C976.2304,-211.0038 992.9547,-198.0804 1008.2559,-186.2568\"/>\n<polygon fill=\"#000000\" stroke=\"#000000\" points=\"1010.8196,-188.699 1016.5924,-179.8149 1006.5395,-183.1599 1010.8196,-188.699\"/>\n</g>\n<!-- 25 -->\n<g id=\"node26\" class=\"node\">\n<title>25</title>\n<path fill=\"#e58139\" stroke=\"#000000\" d=\"M945.5,-68C945.5,-68 868.5,-68 868.5,-68 862.5,-68 856.5,-62 856.5,-56 856.5,-56 856.5,-12 856.5,-12 856.5,-6 862.5,0 868.5,0 868.5,0 945.5,0 945.5,0 951.5,0 957.5,-6 957.5,-12 957.5,-12 957.5,-56 957.5,-56 957.5,-62 951.5,-68 945.5,-68\"/>\n<text text-anchor=\"start\" x=\"864.5\" y=\"-52.8\" font-family=\"Helvetica,sans-Serif\" font-size=\"14.00\" fill=\"#000000\">entropy = 0.0</text>\n<text text-anchor=\"start\" x=\"867.5\" y=\"-37.8\" font-family=\"Helvetica,sans-Serif\" font-size=\"14.00\" fill=\"#000000\">samples = 1</text>\n<text text-anchor=\"start\" x=\"865.5\" y=\"-22.8\" font-family=\"Helvetica,sans-Serif\" font-size=\"14.00\" fill=\"#000000\">value = [1, 0]</text>\n<text text-anchor=\"start\" x=\"878\" y=\"-7.8\" font-family=\"Helvetica,sans-Serif\" font-size=\"14.00\" fill=\"#000000\">class = 2</text>\n</g>\n<!-- 24&#45;&gt;25 -->\n<g id=\"edge25\" class=\"edge\">\n<title>24&#45;&gt;25</title>\n<path fill=\"none\" stroke=\"#000000\" d=\"M907,-103.9815C907,-95.618 907,-86.7965 907,-78.3409\"/>\n<polygon fill=\"#000000\" stroke=\"#000000\" points=\"910.5001,-78.2636 907,-68.2637 903.5001,-78.2637 910.5001,-78.2636\"/>\n</g>\n<!-- 26 -->\n<g id=\"node27\" class=\"node\">\n<title>26</title>\n<path fill=\"#399de5\" stroke=\"#000000\" d=\"M1064.5,-68C1064.5,-68 987.5,-68 987.5,-68 981.5,-68 975.5,-62 975.5,-56 975.5,-56 975.5,-12 975.5,-12 975.5,-6 981.5,0 987.5,0 987.5,0 1064.5,0 1064.5,0 1070.5,0 1076.5,-6 1076.5,-12 1076.5,-12 1076.5,-56 1076.5,-56 1076.5,-62 1070.5,-68 1064.5,-68\"/>\n<text text-anchor=\"start\" x=\"983.5\" y=\"-52.8\" font-family=\"Helvetica,sans-Serif\" font-size=\"14.00\" fill=\"#000000\">entropy = 0.0</text>\n<text text-anchor=\"start\" x=\"986.5\" y=\"-37.8\" font-family=\"Helvetica,sans-Serif\" font-size=\"14.00\" fill=\"#000000\">samples = 4</text>\n<text text-anchor=\"start\" x=\"984.5\" y=\"-22.8\" font-family=\"Helvetica,sans-Serif\" font-size=\"14.00\" fill=\"#000000\">value = [0, 4]</text>\n<text text-anchor=\"start\" x=\"997\" y=\"-7.8\" font-family=\"Helvetica,sans-Serif\" font-size=\"14.00\" fill=\"#000000\">class = 4</text>\n</g>\n<!-- 24&#45;&gt;26 -->\n<g id=\"edge26\" class=\"edge\">\n<title>24&#45;&gt;26</title>\n<path fill=\"none\" stroke=\"#000000\" d=\"M951.3112,-103.9815C961.3163,-94.607 971.9354,-84.6572 981.9304,-75.2921\"/>\n<polygon fill=\"#000000\" stroke=\"#000000\" points=\"984.5274,-77.6551 989.4316,-68.2637 979.7412,-72.547 984.5274,-77.6551\"/>\n</g>\n</g>\n</svg>\n"
          },
          "metadata": {
            "tags": []
          },
          "execution_count": 13
        }
      ]
    },
    {
      "cell_type": "code",
      "metadata": {
        "colab": {
          "base_uri": "https://localhost:8080/"
        },
        "id": "_c6Z6XjYg0na",
        "outputId": "cb5d4ece-77ce-4a3a-8a56-fca0f21340cc"
      },
      "source": [
        "#model evaluation\n",
        "y_pred_infoG = clf_infoG.predict(X_test)               \n",
        "infoG_matrix = confusion_matrix(y_test, y_pred_infoG)\n",
        "print (infoG_matrix) \n",
        "\n",
        "print(classification_report(y_test, y_pred_infoG, target_names=[\"benign\", \"malignant\"]))"
      ],
      "execution_count": 14,
      "outputs": [
        {
          "output_type": "stream",
          "text": [
            "[[167  11]\n",
            " [  5  91]]\n",
            "              precision    recall  f1-score   support\n",
            "\n",
            "      benign       0.97      0.94      0.95       178\n",
            "   malignant       0.89      0.95      0.92        96\n",
            "\n",
            "    accuracy                           0.94       274\n",
            "   macro avg       0.93      0.94      0.94       274\n",
            "weighted avg       0.94      0.94      0.94       274\n",
            "\n"
          ],
          "name": "stdout"
        }
      ]
    },
    {
      "cell_type": "code",
      "metadata": {
        "colab": {
          "base_uri": "https://localhost:8080/"
        },
        "id": "7Z0fKXJ8g0na",
        "outputId": "bcbdf40d-2f3b-4a80-f4e6-215180e8816b"
      },
      "source": [
        "print(\"Accuracy:\",accuracy_score(y_test, y_pred_infoG))"
      ],
      "execution_count": 15,
      "outputs": [
        {
          "output_type": "stream",
          "text": [
            "Accuracy: 0.9416058394160584\n"
          ],
          "name": "stdout"
        }
      ]
    },
    {
      "cell_type": "code",
      "metadata": {
        "colab": {
          "base_uri": "https://localhost:8080/"
        },
        "id": "z6bvU7Ogg0nb",
        "outputId": "058cf3e6-cac3-4298-f160-a394e12c1136"
      },
      "source": [
        "print(\"Accuracy:\",accuracy_score(y_test, y_pred_infoG)*100)"
      ],
      "execution_count": 16,
      "outputs": [
        {
          "output_type": "stream",
          "text": [
            "Accuracy: 94.16058394160584\n"
          ],
          "name": "stdout"
        }
      ]
    }
  ]
}