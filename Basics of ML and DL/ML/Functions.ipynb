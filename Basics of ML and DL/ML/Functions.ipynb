{
 "cells": [
  {
   "cell_type": "code",
   "execution_count": 1,
   "metadata": {},
   "outputs": [
    {
     "name": "stdout",
     "output_type": "stream",
     "text": [
      "50\n"
     ]
    }
   ],
   "source": [
    "# functions\n",
    "\n",
    "x = 50          # global x\n",
    "def change(x):  # note: ye jo fuction ka x hai is different from the global x \n",
    "     x = 2\n",
    "change(x)\n",
    "print(x)        # prints global x"
   ]
  },
  {
   "cell_type": "code",
   "execution_count": 2,
   "metadata": {},
   "outputs": [
    {
     "name": "stdout",
     "output_type": "stream",
     "text": [
      "60\n",
      "6\n",
      "15\n",
      "24\n",
      "32\n"
     ]
    }
   ],
   "source": [
    "# default argument to function\n",
    "\n",
    "def sum(a=1, b=2, c=3):\n",
    "    return a+b+c\n",
    "\n",
    "print(sum(10,20,30))\n",
    "print(sum())\n",
    "print(sum(a=10))\n",
    "print(sum(b=20))\n",
    "print(sum(a=10,c=20))"
   ]
  },
  {
   "cell_type": "code",
   "execution_count": 3,
   "metadata": {},
   "outputs": [
    {
     "name": "stdout",
     "output_type": "stream",
     "text": [
      "()\n",
      "<class 'tuple'>\n",
      "3\n",
      "()\n",
      "<class 'tuple'>\n",
      "5\n",
      "()\n",
      "<class 'tuple'>\n",
      "7\n",
      "()\n",
      "<class 'tuple'>\n",
      "9\n",
      "(1,)\n",
      "<class 'tuple'>\n",
      "10\n",
      "(3,)\n",
      "<class 'tuple'>\n",
      "10\n"
     ]
    }
   ],
   "source": [
    "# variable no. of inputs to function\n",
    "\n",
    "def add(a,b,c=1,*d):\n",
    "    sum = a+b+c\n",
    "    for i in d:\n",
    "        sum=sum+i\n",
    "    print(d)\n",
    "    print(type(d))\n",
    "    return sum\n",
    "\n",
    "print(add(1,1))       # a=1, b=1\n",
    "print(add(1,1,3))     # a=1, b=3, c=1  \n",
    "print(add(1,3,3))     # a=3, b=3, c=1\n",
    "print(add(3,3,3))     # a=3, b=3, c=3\n",
    "print(add(3,3,3,1))   # a=3, b=3, c=3, d=1\n",
    "print(add(3,3,1,3))   # a=3, b=3, c=1, d=3"
   ]
  },
  {
   "cell_type": "code",
   "execution_count": 4,
   "metadata": {},
   "outputs": [
    {
     "name": "stdout",
     "output_type": "stream",
     "text": [
      "(5, -1, 6) <class 'tuple'>\n",
      "5 -1 6\n",
      "6\n"
     ]
    }
   ],
   "source": [
    "# when you want to return more than one value in a function\n",
    "\n",
    "def num(a,b):\n",
    "    return a+b, a-b, a*b\n",
    "\n",
    "a = num(2,3)                   # if function returns more than one value then it will return in tuple form\n",
    "print(a, type(a))\n",
    "\n",
    "sum, diff, multi = a           # automatically assigns the 3 values to variables\n",
    "print(sum, diff, multi)\n",
    "\n",
    "multiply = a[2]                # if you want only a particular value of a tuple, you can achieve it by indexing\n",
    "print(multiply)"
   ]
  }
 ],
 "metadata": {
  "kernelspec": {
   "display_name": "Python 3",
   "language": "python",
   "name": "python3"
  },
  "language_info": {
   "codemirror_mode": {
    "name": "ipython",
    "version": 3
   },
   "file_extension": ".py",
   "mimetype": "text/x-python",
   "name": "python",
   "nbconvert_exporter": "python",
   "pygments_lexer": "ipython3",
   "version": "3.8.5"
  }
 },
 "nbformat": 4,
 "nbformat_minor": 4
}
