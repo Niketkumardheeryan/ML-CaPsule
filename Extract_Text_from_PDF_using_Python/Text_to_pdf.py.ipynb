{
 "cells": [
  {
   "cell_type": "code",
   "execution_count": 25,
   "metadata": {},
   "outputs": [],
   "source": [
    "# Import the Module\n",
    "import PyPDF2\n",
    "\n",
    "# Reading our PDF, for extracting text\n",
    "a = PyPDF2.PdfFileReader('The_Complete_Reference_C++.pdf')\n",
    "\n",
    "# Initialize an empty string\n",
    "pdf_text = \"\"\n",
    "\n",
    "# getNumPages() gives the number of pages in our pdf\n",
    "pgno = a.getNumPages()\n",
    "\n",
    "\n",
    "# Parsing through each page number\n",
    "for i in range(1, pgno):\n",
    "    \n",
    "    # extractText() will give us the text associated with the corresponding ith page\n",
    "    pdf_text += a.getPage(i).extractText()\n",
    "    \n",
    "    \n",
    "# we create \"extracted_text.txt\" file, where we write our extracted text\n",
    "# using the string above\n",
    "\n",
    "with open('extracted_text.txt', 'w', encoding = 'utf-8') as f:\n",
    "    f.write(pdf_text)"
   ]
  },
  {
   "cell_type": "markdown",
   "metadata": {},
   "source": [
    "### for more information:-\n",
    "\n",
    "### PyPDF2 Docs:    https://pythonhosted.org/PyPDF2/\n",
    "\n",
    "### UTF-8: https://stackoverflow.com/questions/2241348/what-is-unicode-utf-8-utf-16"
   ]
  }
 ],
 "metadata": {
  "kernelspec": {
   "display_name": "Python 3",
   "language": "python",
   "name": "python3"
  },
  "language_info": {
   "codemirror_mode": {
    "name": "ipython",
    "version": 3
   },
   "file_extension": ".py",
   "mimetype": "text/x-python",
   "name": "python",
   "nbconvert_exporter": "python",
   "pygments_lexer": "ipython3",
   "version": "3.8.5"
  }
 },
 "nbformat": 4,
 "nbformat_minor": 4
}
