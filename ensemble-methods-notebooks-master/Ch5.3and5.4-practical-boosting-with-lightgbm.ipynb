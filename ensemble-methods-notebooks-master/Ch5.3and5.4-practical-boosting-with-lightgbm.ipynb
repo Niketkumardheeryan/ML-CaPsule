{
 "cells": [
  {
   "cell_type": "markdown",
   "metadata": {},
   "source": [
    "_This notebook contains code and comments from Section 5.3 of the book [Ensemble Methods for Machine Learning](https://www.manning.com/books/ensemble-methods-for-machine-learning). Please see the book for additional details on this topic. This notebook and code are released under the [MIT license](https://github.com/gkunapuli/ensemble-methods-notebooks/blob/master/LICENSE)._\n",
    "\n",
    "## 5.3  LightGBM: A Framework for Gradient Boosting \n",
    "\n",
    "[LightGBM](https://lightgbm.readthedocs.io/en/latest/), or Light Gradient Boosted Machines, is an open source gradient boosting framework that was originally developed and released by Microsoft. \n",
    "At its core, LightGBM is essentially a histogram-based gradient boosting approach. However, it also has several modeling and algorithmic features that enable it to handle large-scale data. In particular, LightGBM offers the following advantages:\n",
    "\n",
    "* Algorithmic speedups such as gradient based one-sided sampling and exclusive feature bundling that result in faster training and lower memory usage; these are described in more detail in Section 5.3.1;\n",
    "* Support for a large number of loss functions for classification, regression and ranking as well as application-specific custom loss functions (Section 5.3.2);\n",
    "* Support for parallel and GPU learning, which enables it handle large-scale data sets (parallel/GPU-based machine learning is out-of-scope for this book).\n",
    "\n",
    "\n",
    "### 5.3.2 Gradient Boosting with LightGBM\n",
    "LightGBM is available for various platforms including Windows, Linux and MacOS, and can either be built from scratch or installed using tools such as ``pip``. See the documentation of LightGBM for [installation instructions](https://lightgbm.readthedocs.io/en/latest/). Its usage syntax is quite similar to ``scikit-learn``’s. "
   ]
  },
  {
   "cell_type": "markdown",
   "metadata": {},
   "source": [
    "Continuing with the breast cancer data set from Section 5.2.3, we can learn a gradient boosting model using LightGBM as follows:"
   ]
  },
  {
   "cell_type": "code",
   "execution_count": 1,
   "metadata": {},
   "outputs": [],
   "source": [
    "from sklearn.datasets import load_breast_cancer\n",
    "from sklearn.model_selection import train_test_split\n",
    "X, y = load_breast_cancer(return_X_y=True)\n",
    "Xtrn, Xtst, ytrn, ytst = train_test_split(X, y, test_size=0.2, shuffle=True, random_state=42)"
   ]
  },
  {
   "cell_type": "markdown",
   "metadata": {},
   "source": [
    "Train a gradient boosting classifier using LightGBM"
   ]
  },
  {
   "cell_type": "code",
   "execution_count": 2,
   "metadata": {},
   "outputs": [
    {
     "data": {
      "text/plain": [
       "LGBMClassifier(max_depth=1, n_estimators=20)"
      ]
     },
     "execution_count": 2,
     "metadata": {},
     "output_type": "execute_result"
    }
   ],
   "source": [
    "from lightgbm import LGBMClassifier\n",
    "gbm = LGBMClassifier(boosting_type='gbdt', n_estimators=20, max_depth=1)\n",
    "gbm.fit(Xtrn, ytrn)"
   ]
  },
  {
   "cell_type": "code",
   "execution_count": 3,
   "metadata": {},
   "outputs": [
    {
     "data": {
      "text/plain": [
       "0.9473684210526315"
      ]
     },
     "execution_count": 3,
     "metadata": {},
     "output_type": "execute_result"
    }
   ],
   "source": [
    "from sklearn.metrics import accuracy_score\n",
    "ypred = gbm.predict(Xtst)\n",
    "accuracy_score(ytst, ypred)"
   ]
  },
  {
   "cell_type": "markdown",
   "metadata": {},
   "source": [
    "---\n",
    "\n",
    "## 5.4 LigthGBM in Practice\n",
    "\n",
    "As with any ML algorithm, we need to ensure that we avoid overfitting during training. We look to set the learning rate (Section 5.4.1) or employ early stopping (Section 5.4.2) as a means to control overfitting. Specifically,  \n",
    "* by selecting an effective learning rate, we try to control the rate at which the model learns so that it doesn’t rapidly fit, and then overfit the training data. We can think of this a proactive modeling approach, where we try to identify a good training strategy so that it leads to a good model. \n",
    "* by enforcing early stopping, we try to stop training as soon as we observe that the model is starting to overfit. We can think of this as a reactive modeling approach, where we contemplate terminating training as soon as we think we have a good model.\n",
    "\n",
    "### 5.4.1 Learning Rate\n",
    "As with AdaBoost, we can aim to avoid overfitting by training with an appropriate [learning rate](https://lightgbm.readthedocs.io/en/latest/Parameters.html#learning_rate), which adjusts the contribution of each estimator to the ensemble. ``LightGBM`` plays nicely with ``scikit-learn``, and we can combine the relevant functionalities from both packages to perform effective model learning.\n",
    "\n",
    "LightGBM provides its own functionality to perform cross validation (CV) with given parameter choices through a function called ``cv``. \n",
    "\n",
    "**Listing 5.5**: Cross Validation with LightGBM and scikit-learn"
   ]
  },
  {
   "cell_type": "code",
   "execution_count": 4,
   "metadata": {},
   "outputs": [
    {
     "data": {
      "image/png": "[encoded data removed]",
      "text/plain": [
       "<Figure size 432x288 with 1 Axes>"
      ]
     },
     "metadata": {
      "needs_background": "light"
     },
     "output_type": "display_data"
    }
   ],
   "source": [
    "from lightgbm import cv, Dataset\n",
    "\n",
    "trn_data = Dataset(Xtrn, label=ytrn)\n",
    "params = {'boosting_type': 'gbdt', 'learning_rate': 0.25, \n",
    "          'max_depth': 1, 'objective': 'cross_entropy'}\n",
    "\n",
    "cv_results = cv(params, trn_data, \n",
    "                num_boost_round=100,\n",
    "                nfold=5, stratified=True, shuffle=True)\n",
    "\n",
    "import numpy as np\n",
    "import matplotlib.pyplot as plt\n",
    "%matplotlib inline\n",
    "\n",
    "fig, ax = plt.subplots(nrows=1, ncols=1, figsize=(6, 4))\n",
    "m = np.array(cv_results['cross_entropy-mean'])\n",
    "s = np.array(cv_results['cross_entropy-stdv'])\n",
    "ax.fill_between(range(100), m + s, m - s, alpha=0.5)\n",
    "ax.plot(range(100), m)\n",
    "ax.set_xlabel('Number of boosting iterations (estimators)')\n",
    "ax.set_ylabel('Mean/std of 5-fold cross entropy');\n",
    "\n",
    "fig.tight_layout()\n",
    "pngFile = './figures/CH05_F19_Kunapuli.png'\n",
    "plt.savefig(pngFile, dpi=300, pad_inches=0)"
   ]
  },
  {
   "cell_type": "markdown",
   "metadata": {},
   "source": [
    "Alternately, LightGBM plays nicely with scikit-learn, and we can combine the relevant functionalities from both packages to perform effective model learning.\n",
    "\n",
    "In the experiment below, we combine ``scikit-learn``'s [``StratifiedKFold``](https://scikit-learn.org/stable/modules/generated/sklearn.model_selection.StratifiedKFold.html) class to split the training data into several folds of training and validation sets. ``StratifiedKFold`` ensures that we preserve class distributions, that is, the fractions of different classes across the folds.\n",
    "\n",
    "**Listing 5.4**: Cross Validation with LightGBM and scikit-learn"
   ]
  },
  {
   "cell_type": "code",
   "execution_count": 5,
   "metadata": {},
   "outputs": [],
   "source": [
    "from sklearn.model_selection import StratifiedKFold\n",
    "import numpy as np\n",
    "\n",
    "# Initialize choices of learning rates, number of cross-validation folds\n",
    "n_learning_rate_steps, n_folds = 10, 10\n",
    "learning_rates = np.linspace(0.1, 1.0, num=n_learning_rate_steps)\n",
    "\n",
    "# Split the data into training and validation folds\n",
    "splitter = StratifiedKFold(n_splits=n_folds, shuffle=True, random_state=42)\n",
    "\n",
    "# Initialize some structures to save training and validation errors\n",
    "trn_err = np.zeros((n_learning_rate_steps, n_folds))\n",
    "val_err = np.zeros((n_learning_rate_steps, n_folds))\n",
    "\n",
    "# Train LightGBM classifier for different learning rates and plot the results\n",
    "for i, rate in enumerate(learning_rates):\n",
    "    for j, (trn, val) in enumerate(splitter.split(X, y)):\n",
    "        gbm = LGBMClassifier(boosting_type='gbdt', n_estimators=10, max_depth=1, learning_rate=rate)\n",
    "        gbm.fit(X[trn, :], y[trn])\n",
    "\n",
    "        trn_err[i, j] = (1 - accuracy_score(y[trn], gbm.predict(X[trn, :]))) * 100\n",
    "        val_err[i, j] = (1 - accuracy_score(y[val], gbm.predict(X[val, :]))) * 100\n",
    "\n",
    "        \n",
    "trn_err = np.mean(trn_err, axis=1)\n",
    "val_err = np.mean(val_err, axis=1)"
   ]
  },
  {
   "cell_type": "code",
   "execution_count": 6,
   "metadata": {},
   "outputs": [
    {
     "data": {
      "image/png": "[encoded data removed]",
      "text/plain": [
       "<Figure size 360x288 with 1 Axes>"
      ]
     },
     "metadata": {
      "needs_background": "light"
     },
     "output_type": "display_data"
    }
   ],
   "source": [
    "import matplotlib.pyplot as plt\n",
    "from visualization import get_colors\n",
    "cm = get_colors(colormap='RdBu', n_colors=2)\n",
    "\n",
    "%matplotlib inline\n",
    "fig, ax = plt.subplots(nrows=1, ncols=1, figsize=(5, 4))\n",
    "\n",
    "ax.plot(learning_rates, trn_err, marker='o', c=cm[0], markeredgecolor='w', linewidth=2)\n",
    "ax.plot(learning_rates, val_err, marker='s', c=cm[1], markeredgecolor='w', linewidth=2)\n",
    "ax.legend(['Train err', 'Validation err'])\n",
    "ax.set_xlabel('Learning rate')\n",
    "ax.set_ylabel('Error (%)')\n",
    "\n",
    "fig.tight_layout()\n",
    "pngFile = './figures/CH05_F18_Kunapuli.png'\n",
    "plt.savefig(pngFile, dpi=300, pad_inches=0)"
   ]
  },
  {
   "cell_type": "markdown",
   "metadata": {},
   "source": [
    "### 5.4.2\tEarly Stopping\n",
    "\n",
    "As with AdaBoost, the other important consideration for practical boosting is the number of base learners, which can be hard to specifiy ahead of time. Identifying the least number of base estimators in order to build an effective ensemble is known as early stopping. \n",
    "\n",
    "[Early stopping](https://lightgbm.readthedocs.io/en/latest/Parameters.html#early_stopping_round) with ``LightGBM`` works slightly differently than AdaBoost. In ``LightGBM``, we specify a value for the parameter ``early_stopping_rounds``. As long as the overall score (say accuracy) improves over the last ``early_stopping_rounds``, ``LightGBM`` will continue to train. However, when the score does not improve after ``early_stopping_rounds``, ``LightGBM`` stops.\n",
    "\n",
    "Small values of ``early_stopping_rounds`` make ``LightGBM`` very \"impatient\" and aggressive in that it does not wait too long to see if there is any improvement before stopping learning early. This may lead to underfitting. Large values of ``early_stopping_rounds`` make ``LightGBM`` overly patient and too passive in that it waits for longer periods to see if there is any improvement. This may lead to overfitting.\n",
    "\n",
    "``LightGBM`` needs us to **explicitly specify a validation set as well as [scoring metric](https://lightgbm.readthedocs.io/en/latest/Parameters.html#metric)**. In the experiment below, we split the training data further into a smaller training set and a separate validation set for early stopping. The metric we will use is accuracy score.\n",
    "\n",
    "**Listing 5.6**: Early Stopping with LightGBM"
   ]
  },
  {
   "cell_type": "code",
   "execution_count": 7,
   "metadata": {},
   "outputs": [
    {
     "name": "stdout",
     "output_type": "stream",
     "text": [
      "[1]\tvalid_0's auc: 0.885522\tvalid_0's binary_logloss: 0.602321\n",
      "Training until validation scores don't improve for 5 rounds\n",
      "[2]\tvalid_0's auc: 0.961022\tvalid_0's binary_logloss: 0.542925\n",
      "[3]\tvalid_0's auc: 0.96528\tvalid_0's binary_logloss: 0.497678\n",
      "[4]\tvalid_0's auc: 0.989846\tvalid_0's binary_logloss: 0.451922\n",
      "[5]\tvalid_0's auc: 0.986243\tvalid_0's binary_logloss: 0.421817\n",
      "[6]\tvalid_0's auc: 0.985588\tvalid_0's binary_logloss: 0.393713\n",
      "[7]\tvalid_0's auc: 0.989846\tvalid_0's binary_logloss: 0.364781\n",
      "[8]\tvalid_0's auc: 0.990501\tvalid_0's binary_logloss: 0.338063\n",
      "[9]\tvalid_0's auc: 0.989191\tvalid_0's binary_logloss: 0.319267\n",
      "[10]\tvalid_0's auc: 0.990501\tvalid_0's binary_logloss: 0.299509\n",
      "[11]\tvalid_0's auc: 0.989519\tvalid_0's binary_logloss: 0.286114\n",
      "[12]\tvalid_0's auc: 0.989519\tvalid_0's binary_logloss: 0.269481\n",
      "[13]\tvalid_0's auc: 0.992303\tvalid_0's binary_logloss: 0.255033\n",
      "[14]\tvalid_0's auc: 0.993285\tvalid_0's binary_logloss: 0.241218\n",
      "[15]\tvalid_0's auc: 0.992958\tvalid_0's binary_logloss: 0.231917\n",
      "[16]\tvalid_0's auc: 0.993285\tvalid_0's binary_logloss: 0.221174\n",
      "[17]\tvalid_0's auc: 0.994923\tvalid_0's binary_logloss: 0.210735\n",
      "[18]\tvalid_0's auc: 0.994595\tvalid_0's binary_logloss: 0.204185\n",
      "[19]\tvalid_0's auc: 0.994595\tvalid_0's binary_logloss: 0.195894\n",
      "[20]\tvalid_0's auc: 0.994595\tvalid_0's binary_logloss: 0.187605\n",
      "[21]\tvalid_0's auc: 0.995414\tvalid_0's binary_logloss: 0.183288\n",
      "[22]\tvalid_0's auc: 0.995087\tvalid_0's binary_logloss: 0.177604\n",
      "[23]\tvalid_0's auc: 0.995414\tvalid_0's binary_logloss: 0.170961\n",
      "[24]\tvalid_0's auc: 0.995087\tvalid_0's binary_logloss: 0.167818\n",
      "[25]\tvalid_0's auc: 0.995742\tvalid_0's binary_logloss: 0.165031\n",
      "[26]\tvalid_0's auc: 0.995742\tvalid_0's binary_logloss: 0.158768\n",
      "[27]\tvalid_0's auc: 0.996069\tvalid_0's binary_logloss: 0.156152\n",
      "[28]\tvalid_0's auc: 0.996069\tvalid_0's binary_logloss: 0.153942\n",
      "[29]\tvalid_0's auc: 0.996069\tvalid_0's binary_logloss: 0.15031\n",
      "[30]\tvalid_0's auc: 0.996069\tvalid_0's binary_logloss: 0.145113\n",
      "[31]\tvalid_0's auc: 0.995742\tvalid_0's binary_logloss: 0.143901\n",
      "[32]\tvalid_0's auc: 0.996069\tvalid_0's binary_logloss: 0.139801\n",
      "Early stopping, best iteration is:\n",
      "[27]\tvalid_0's auc: 0.996069\tvalid_0's binary_logloss: 0.156152\n"
     ]
    },
    {
     "name": "stderr",
     "output_type": "stream",
     "text": [
      "c:\\users\\gauta\\appdata\\local\\programs\\python\\python36\\lib\\site-packages\\lightgbm\\engine.py:153: UserWarning: Found `early_stopping` in params. Will use it instead of argument\n",
      "  warnings.warn(\"Found `{}` in params. Will use it instead of argument\".format(alias))\n"
     ]
    },
    {
     "data": {
      "text/plain": [
       "LGBMClassifier(early_stopping=5, max_depth=1, n_estimators=50)"
      ]
     },
     "execution_count": 7,
     "metadata": {},
     "output_type": "execute_result"
    }
   ],
   "source": [
    "# Create a single split of training and validation sets\n",
    "Xtrn, Xval, ytrn, yval = train_test_split(X, y, test_size=0.2, shuffle=True, random_state=42)\n",
    "gbm = LGBMClassifier(boosting_type='gbdt', n_estimators=50, max_depth=1, early_stopping=5)\n",
    "gbm.fit(Xtrn, ytrn, eval_set=[(Xval, yval)], eval_metric='auc')"
   ]
  },
  {
   "cell_type": "markdown",
   "metadata": {},
   "source": [
    "We also visualize the training and validation errors as well as the ensemble size for different choices of early_stopping_rounds."
   ]
  },
  {
   "cell_type": "code",
   "execution_count": 9,
   "metadata": {},
   "outputs": [
    {
     "name": "stdout",
     "output_type": "stream",
     "text": [
      "[1]\tvalid_0's auc: 0.885522\tvalid_0's binary_logloss: 0.602321\n",
      "Training until validation scores don't improve for 1 rounds\n",
      "[2]\tvalid_0's auc: 0.961022\tvalid_0's binary_logloss: 0.542925\n",
      "[3]\tvalid_0's auc: 0.96528\tvalid_0's binary_logloss: 0.497678\n",
      "[4]\tvalid_0's auc: 0.989846\tvalid_0's binary_logloss: 0.451922\n",
      "[5]\tvalid_0's auc: 0.986243\tvalid_0's binary_logloss: 0.421817\n",
      "Early stopping, best iteration is:\n",
      "[4]\tvalid_0's auc: 0.989846\tvalid_0's binary_logloss: 0.451922\n",
      "[1]\tvalid_0's auc: 0.885522\tvalid_0's binary_logloss: 0.602321\n",
      "Training until validation scores don't improve for 2 rounds\n",
      "[2]\tvalid_0's auc: 0.961022\tvalid_0's binary_logloss: 0.542925\n",
      "[3]\tvalid_0's auc: 0.96528\tvalid_0's binary_logloss: 0.497678\n",
      "[4]\tvalid_0's auc: 0.989846\tvalid_0's binary_logloss: 0.451922\n",
      "[5]\tvalid_0's auc: 0.986243\tvalid_0's binary_logloss: 0.421817\n",
      "[6]\tvalid_0's auc: 0.985588\tvalid_0's binary_logloss: 0.393713\n",
      "Early stopping, best iteration is:\n",
      "[4]\tvalid_0's auc: 0.989846\tvalid_0's binary_logloss: 0.451922\n",
      "[1]\tvalid_0's auc: 0.885522\tvalid_0's binary_logloss: 0.602321\n",
      "Training until validation scores don't improve for 3 rounds\n",
      "[2]\tvalid_0's auc: 0.961022\tvalid_0's binary_logloss: 0.542925\n",
      "[3]\tvalid_0's auc: 0.96528\tvalid_0's binary_logloss: 0.497678\n",
      "[4]\tvalid_0's auc: 0.989846\tvalid_0's binary_logloss: 0.451922\n",
      "[5]\tvalid_0's auc: 0.986243\tvalid_0's binary_logloss: 0.421817\n",
      "[6]\tvalid_0's auc: 0.985588\tvalid_0's binary_logloss: 0.393713\n",
      "[7]\tvalid_0's auc: 0.989846\tvalid_0's binary_logloss: 0.364781\n",
      "Early stopping, best iteration is:\n",
      "[4]\tvalid_0's auc: 0.989846\tvalid_0's binary_logloss: 0.451922\n",
      "[1]\tvalid_0's auc: 0.885522\tvalid_0's binary_logloss: 0.602321\n",
      "Training until validation scores don't improve for 4 rounds\n",
      "[2]\tvalid_0's auc: 0.961022\tvalid_0's binary_logloss: 0.542925\n",
      "[3]\tvalid_0's auc: 0.96528\tvalid_0's binary_logloss: 0.497678\n",
      "[4]\tvalid_0's auc: 0.989846\tvalid_0's binary_logloss: 0.451922\n",
      "[5]\tvalid_0's auc: 0.986243\tvalid_0's binary_logloss: 0.421817\n",
      "[6]\tvalid_0's auc: 0.985588\tvalid_0's binary_logloss: 0.393713\n",
      "[7]\tvalid_0's auc: 0.989846\tvalid_0's binary_logloss: 0.364781\n",
      "[8]\tvalid_0's auc: 0.990501\tvalid_0's binary_logloss: 0.338063\n",
      "[9]\tvalid_0's auc: 0.989191\tvalid_0's binary_logloss: 0.319267\n",
      "[10]\tvalid_0's auc: 0.990501\tvalid_0's binary_logloss: 0.299509\n",
      "[11]\tvalid_0's auc: 0.989519\tvalid_0's binary_logloss: 0.286114\n",
      "[12]\tvalid_0's auc: 0.989519\tvalid_0's binary_logloss: 0.269481\n",
      "Early stopping, best iteration is:\n",
      "[8]\tvalid_0's auc: 0.990501\tvalid_0's binary_logloss: 0.338063\n",
      "[1]\tvalid_0's auc: 0.885522\tvalid_0's binary_logloss: 0.602321\n",
      "Training until validation scores don't improve for 5 rounds\n",
      "[2]\tvalid_0's auc: 0.961022\tvalid_0's binary_logloss: 0.542925\n",
      "[3]\tvalid_0's auc: 0.96528\tvalid_0's binary_logloss: 0.497678\n",
      "[4]\tvalid_0's auc: 0.989846\tvalid_0's binary_logloss: 0.451922\n",
      "[5]\tvalid_0's auc: 0.986243\tvalid_0's binary_logloss: 0.421817\n",
      "[6]\tvalid_0's auc: 0.985588\tvalid_0's binary_logloss: 0.393713\n",
      "[7]\tvalid_0's auc: 0.989846\tvalid_0's binary_logloss: 0.364781\n",
      "[8]\tvalid_0's auc: 0.990501\tvalid_0's binary_logloss: 0.338063\n",
      "[9]\tvalid_0's auc: 0.989191\tvalid_0's binary_logloss: 0.319267\n",
      "[10]\tvalid_0's auc: 0.990501\tvalid_0's binary_logloss: 0.299509\n",
      "[11]\tvalid_0's auc: 0.989519\tvalid_0's binary_logloss: 0.286114\n",
      "[12]\tvalid_0's auc: 0.989519\tvalid_0's binary_logloss: 0.269481\n",
      "[13]\tvalid_0's auc: 0.992303\tvalid_0's binary_logloss: 0.255033\n",
      "[14]\tvalid_0's auc: 0.993285\tvalid_0's binary_logloss: 0.241218\n",
      "[15]\tvalid_0's auc: 0.992958\tvalid_0's binary_logloss: 0.231917\n",
      "[16]\tvalid_0's auc: 0.993285\tvalid_0's binary_logloss: 0.221174\n",
      "[17]\tvalid_0's auc: 0.994923\tvalid_0's binary_logloss: 0.210735\n",
      "[18]\tvalid_0's auc: 0.994595\tvalid_0's binary_logloss: 0.204185\n",
      "[19]\tvalid_0's auc: 0.994595\tvalid_0's binary_logloss: 0.195894\n",
      "[20]\tvalid_0's auc: 0.994595\tvalid_0's binary_logloss: 0.187605\n",
      "[21]\tvalid_0's auc: 0.995414\tvalid_0's binary_logloss: 0.183288\n",
      "[22]\tvalid_0's auc: 0.995087\tvalid_0's binary_logloss: 0.177604\n",
      "[23]\tvalid_0's auc: 0.995414\tvalid_0's binary_logloss: 0.170961\n",
      "[24]\tvalid_0's auc: 0.995087\tvalid_0's binary_logloss: 0.167818\n",
      "[25]\tvalid_0's auc: 0.995742\tvalid_0's binary_logloss: 0.165031\n",
      "[26]\tvalid_0's auc: 0.995742\tvalid_0's binary_logloss: 0.158768\n",
      "[27]\tvalid_0's auc: 0.996069\tvalid_0's binary_logloss: 0.156152\n",
      "[28]\tvalid_0's auc: 0.996069\tvalid_0's binary_logloss: 0.153942\n",
      "[29]\tvalid_0's auc: 0.996069\tvalid_0's binary_logloss: 0.15031\n",
      "[30]\tvalid_0's auc: 0.996069\tvalid_0's binary_logloss: 0.145113\n",
      "[31]\tvalid_0's auc: 0.995742\tvalid_0's binary_logloss: 0.143901\n",
      "[32]\tvalid_0's auc: 0.996069\tvalid_0's binary_logloss: 0.139801\n",
      "Early stopping, best iteration is:\n",
      "[27]\tvalid_0's auc: 0.996069\tvalid_0's binary_logloss: 0.156152\n",
      "[1]\tvalid_0's auc: 0.885522\tvalid_0's binary_logloss: 0.602321\n",
      "Training until validation scores don't improve for 6 rounds\n",
      "[2]\tvalid_0's auc: 0.961022\tvalid_0's binary_logloss: 0.542925\n",
      "[3]\tvalid_0's auc: 0.96528\tvalid_0's binary_logloss: 0.497678\n",
      "[4]\tvalid_0's auc: 0.989846\tvalid_0's binary_logloss: 0.451922\n",
      "[5]\tvalid_0's auc: 0.986243\tvalid_0's binary_logloss: 0.421817\n",
      "[6]\tvalid_0's auc: 0.985588\tvalid_0's binary_logloss: 0.393713\n",
      "[7]\tvalid_0's auc: 0.989846\tvalid_0's binary_logloss: 0.364781\n",
      "[8]\tvalid_0's auc: 0.990501\tvalid_0's binary_logloss: 0.338063\n",
      "[9]\tvalid_0's auc: 0.989191\tvalid_0's binary_logloss: 0.319267\n",
      "[10]\tvalid_0's auc: 0.990501\tvalid_0's binary_logloss: 0.299509\n",
      "[11]\tvalid_0's auc: 0.989519\tvalid_0's binary_logloss: 0.286114\n",
      "[12]\tvalid_0's auc: 0.989519\tvalid_0's binary_logloss: 0.269481\n",
      "[13]\tvalid_0's auc: 0.992303\tvalid_0's binary_logloss: 0.255033\n",
      "[14]\tvalid_0's auc: 0.993285\tvalid_0's binary_logloss: 0.241218\n",
      "[15]\tvalid_0's auc: 0.992958\tvalid_0's binary_logloss: 0.231917\n",
      "[16]\tvalid_0's auc: 0.993285\tvalid_0's binary_logloss: 0.221174\n",
      "[17]\tvalid_0's auc: 0.994923\tvalid_0's binary_logloss: 0.210735\n",
      "[18]\tvalid_0's auc: 0.994595\tvalid_0's binary_logloss: 0.204185\n",
      "[19]\tvalid_0's auc: 0.994595\tvalid_0's binary_logloss: 0.195894\n",
      "[20]\tvalid_0's auc: 0.994595\tvalid_0's binary_logloss: 0.187605\n",
      "[21]\tvalid_0's auc: 0.995414\tvalid_0's binary_logloss: 0.183288\n",
      "[22]\tvalid_0's auc: 0.995087\tvalid_0's binary_logloss: 0.177604\n",
      "[23]\tvalid_0's auc: 0.995414\tvalid_0's binary_logloss: 0.170961\n",
      "[24]\tvalid_0's auc: 0.995087\tvalid_0's binary_logloss: 0.167818\n",
      "[25]\tvalid_0's auc: 0.995742\tvalid_0's binary_logloss: 0.165031\n",
      "[26]\tvalid_0's auc: 0.995742\tvalid_0's binary_logloss: 0.158768\n",
      "[27]\tvalid_0's auc: 0.996069\tvalid_0's binary_logloss: 0.156152\n",
      "[28]\tvalid_0's auc: 0.996069\tvalid_0's binary_logloss: 0.153942\n",
      "[29]\tvalid_0's auc: 0.996069\tvalid_0's binary_logloss: 0.15031\n",
      "[30]\tvalid_0's auc: 0.996069\tvalid_0's binary_logloss: 0.145113\n",
      "[31]\tvalid_0's auc: 0.995742\tvalid_0's binary_logloss: 0.143901\n",
      "[32]\tvalid_0's auc: 0.996069\tvalid_0's binary_logloss: 0.139801\n",
      "[33]\tvalid_0's auc: 0.995742\tvalid_0's binary_logloss: 0.13718\n",
      "Early stopping, best iteration is:\n",
      "[27]\tvalid_0's auc: 0.996069\tvalid_0's binary_logloss: 0.156152\n",
      "[1]\tvalid_0's auc: 0.885522\tvalid_0's binary_logloss: 0.602321\n",
      "Training until validation scores don't improve for 7 rounds\n",
      "[2]\tvalid_0's auc: 0.961022\tvalid_0's binary_logloss: 0.542925\n",
      "[3]\tvalid_0's auc: 0.96528\tvalid_0's binary_logloss: 0.497678\n",
      "[4]\tvalid_0's auc: 0.989846\tvalid_0's binary_logloss: 0.451922\n",
      "[5]\tvalid_0's auc: 0.986243\tvalid_0's binary_logloss: 0.421817\n",
      "[6]\tvalid_0's auc: 0.985588\tvalid_0's binary_logloss: 0.393713\n",
      "[7]\tvalid_0's auc: 0.989846\tvalid_0's binary_logloss: 0.364781\n",
      "[8]\tvalid_0's auc: 0.990501\tvalid_0's binary_logloss: 0.338063\n",
      "[9]\tvalid_0's auc: 0.989191\tvalid_0's binary_logloss: 0.319267\n",
      "[10]\tvalid_0's auc: 0.990501\tvalid_0's binary_logloss: 0.299509\n",
      "[11]\tvalid_0's auc: 0.989519\tvalid_0's binary_logloss: 0.286114\n",
      "[12]\tvalid_0's auc: 0.989519\tvalid_0's binary_logloss: 0.269481\n",
      "[13]\tvalid_0's auc: 0.992303\tvalid_0's binary_logloss: 0.255033\n",
      "[14]\tvalid_0's auc: 0.993285\tvalid_0's binary_logloss: 0.241218\n",
      "[15]\tvalid_0's auc: 0.992958\tvalid_0's binary_logloss: 0.231917\n",
      "[16]\tvalid_0's auc: 0.993285\tvalid_0's binary_logloss: 0.221174\n",
      "[17]\tvalid_0's auc: 0.994923\tvalid_0's binary_logloss: 0.210735\n",
      "[18]\tvalid_0's auc: 0.994595\tvalid_0's binary_logloss: 0.204185\n",
      "[19]\tvalid_0's auc: 0.994595\tvalid_0's binary_logloss: 0.195894\n",
      "[20]\tvalid_0's auc: 0.994595\tvalid_0's binary_logloss: 0.187605\n",
      "[21]\tvalid_0's auc: 0.995414\tvalid_0's binary_logloss: 0.183288\n",
      "[22]\tvalid_0's auc: 0.995087\tvalid_0's binary_logloss: 0.177604\n",
      "[23]\tvalid_0's auc: 0.995414\tvalid_0's binary_logloss: 0.170961\n",
      "[24]\tvalid_0's auc: 0.995087\tvalid_0's binary_logloss: 0.167818\n",
      "[25]\tvalid_0's auc: 0.995742\tvalid_0's binary_logloss: 0.165031\n",
      "[26]\tvalid_0's auc: 0.995742\tvalid_0's binary_logloss: 0.158768\n",
      "[27]\tvalid_0's auc: 0.996069\tvalid_0's binary_logloss: 0.156152\n",
      "[28]\tvalid_0's auc: 0.996069\tvalid_0's binary_logloss: 0.153942\n",
      "[29]\tvalid_0's auc: 0.996069\tvalid_0's binary_logloss: 0.15031\n",
      "[30]\tvalid_0's auc: 0.996069\tvalid_0's binary_logloss: 0.145113\n",
      "[31]\tvalid_0's auc: 0.995742\tvalid_0's binary_logloss: 0.143901\n",
      "[32]\tvalid_0's auc: 0.996069\tvalid_0's binary_logloss: 0.139801\n",
      "[33]\tvalid_0's auc: 0.995742\tvalid_0's binary_logloss: 0.13718\n",
      "[34]\tvalid_0's auc: 0.995414\tvalid_0's binary_logloss: 0.135961\n",
      "Early stopping, best iteration is:\n",
      "[27]\tvalid_0's auc: 0.996069\tvalid_0's binary_logloss: 0.156152\n",
      "[1]\tvalid_0's auc: 0.885522\tvalid_0's binary_logloss: 0.602321\n",
      "Training until validation scores don't improve for 8 rounds\n",
      "[2]\tvalid_0's auc: 0.961022\tvalid_0's binary_logloss: 0.542925\n",
      "[3]\tvalid_0's auc: 0.96528\tvalid_0's binary_logloss: 0.497678\n",
      "[4]\tvalid_0's auc: 0.989846\tvalid_0's binary_logloss: 0.451922\n",
      "[5]\tvalid_0's auc: 0.986243\tvalid_0's binary_logloss: 0.421817\n",
      "[6]\tvalid_0's auc: 0.985588\tvalid_0's binary_logloss: 0.393713\n",
      "[7]\tvalid_0's auc: 0.989846\tvalid_0's binary_logloss: 0.364781\n",
      "[8]\tvalid_0's auc: 0.990501\tvalid_0's binary_logloss: 0.338063\n",
      "[9]\tvalid_0's auc: 0.989191\tvalid_0's binary_logloss: 0.319267\n",
      "[10]\tvalid_0's auc: 0.990501\tvalid_0's binary_logloss: 0.299509\n",
      "[11]\tvalid_0's auc: 0.989519\tvalid_0's binary_logloss: 0.286114\n",
      "[12]\tvalid_0's auc: 0.989519\tvalid_0's binary_logloss: 0.269481\n",
      "[13]\tvalid_0's auc: 0.992303\tvalid_0's binary_logloss: 0.255033\n",
      "[14]\tvalid_0's auc: 0.993285\tvalid_0's binary_logloss: 0.241218\n",
      "[15]\tvalid_0's auc: 0.992958\tvalid_0's binary_logloss: 0.231917\n",
      "[16]\tvalid_0's auc: 0.993285\tvalid_0's binary_logloss: 0.221174\n",
      "[17]\tvalid_0's auc: 0.994923\tvalid_0's binary_logloss: 0.210735\n",
      "[18]\tvalid_0's auc: 0.994595\tvalid_0's binary_logloss: 0.204185\n",
      "[19]\tvalid_0's auc: 0.994595\tvalid_0's binary_logloss: 0.195894\n",
      "[20]\tvalid_0's auc: 0.994595\tvalid_0's binary_logloss: 0.187605\n",
      "[21]\tvalid_0's auc: 0.995414\tvalid_0's binary_logloss: 0.183288\n",
      "[22]\tvalid_0's auc: 0.995087\tvalid_0's binary_logloss: 0.177604\n",
      "[23]\tvalid_0's auc: 0.995414\tvalid_0's binary_logloss: 0.170961\n",
      "[24]\tvalid_0's auc: 0.995087\tvalid_0's binary_logloss: 0.167818\n",
      "[25]\tvalid_0's auc: 0.995742\tvalid_0's binary_logloss: 0.165031\n",
      "[26]\tvalid_0's auc: 0.995742\tvalid_0's binary_logloss: 0.158768\n",
      "[27]\tvalid_0's auc: 0.996069\tvalid_0's binary_logloss: 0.156152\n",
      "[28]\tvalid_0's auc: 0.996069\tvalid_0's binary_logloss: 0.153942\n",
      "[29]\tvalid_0's auc: 0.996069\tvalid_0's binary_logloss: 0.15031\n",
      "[30]\tvalid_0's auc: 0.996069\tvalid_0's binary_logloss: 0.145113\n",
      "[31]\tvalid_0's auc: 0.995742\tvalid_0's binary_logloss: 0.143901\n",
      "[32]\tvalid_0's auc: 0.996069\tvalid_0's binary_logloss: 0.139801\n",
      "[33]\tvalid_0's auc: 0.995742\tvalid_0's binary_logloss: 0.13718\n",
      "[34]\tvalid_0's auc: 0.995414\tvalid_0's binary_logloss: 0.135961\n",
      "[35]\tvalid_0's auc: 0.995414\tvalid_0's binary_logloss: 0.132684\n",
      "Early stopping, best iteration is:\n",
      "[27]\tvalid_0's auc: 0.996069\tvalid_0's binary_logloss: 0.156152\n",
      "[1]\tvalid_0's auc: 0.885522\tvalid_0's binary_logloss: 0.602321\n",
      "Training until validation scores don't improve for 9 rounds\n",
      "[2]\tvalid_0's auc: 0.961022\tvalid_0's binary_logloss: 0.542925\n",
      "[3]\tvalid_0's auc: 0.96528\tvalid_0's binary_logloss: 0.497678\n",
      "[4]\tvalid_0's auc: 0.989846\tvalid_0's binary_logloss: 0.451922\n",
      "[5]\tvalid_0's auc: 0.986243\tvalid_0's binary_logloss: 0.421817\n",
      "[6]\tvalid_0's auc: 0.985588\tvalid_0's binary_logloss: 0.393713\n",
      "[7]\tvalid_0's auc: 0.989846\tvalid_0's binary_logloss: 0.364781\n",
      "[8]\tvalid_0's auc: 0.990501\tvalid_0's binary_logloss: 0.338063\n",
      "[9]\tvalid_0's auc: 0.989191\tvalid_0's binary_logloss: 0.319267\n",
      "[10]\tvalid_0's auc: 0.990501\tvalid_0's binary_logloss: 0.299509\n",
      "[11]\tvalid_0's auc: 0.989519\tvalid_0's binary_logloss: 0.286114\n",
      "[12]\tvalid_0's auc: 0.989519\tvalid_0's binary_logloss: 0.269481\n",
      "[13]\tvalid_0's auc: 0.992303\tvalid_0's binary_logloss: 0.255033\n",
      "[14]\tvalid_0's auc: 0.993285\tvalid_0's binary_logloss: 0.241218\n",
      "[15]\tvalid_0's auc: 0.992958\tvalid_0's binary_logloss: 0.231917\n",
      "[16]\tvalid_0's auc: 0.993285\tvalid_0's binary_logloss: 0.221174\n",
      "[17]\tvalid_0's auc: 0.994923\tvalid_0's binary_logloss: 0.210735\n",
      "[18]\tvalid_0's auc: 0.994595\tvalid_0's binary_logloss: 0.204185\n",
      "[19]\tvalid_0's auc: 0.994595\tvalid_0's binary_logloss: 0.195894\n",
      "[20]\tvalid_0's auc: 0.994595\tvalid_0's binary_logloss: 0.187605\n",
      "[21]\tvalid_0's auc: 0.995414\tvalid_0's binary_logloss: 0.183288\n",
      "[22]\tvalid_0's auc: 0.995087\tvalid_0's binary_logloss: 0.177604\n",
      "[23]\tvalid_0's auc: 0.995414\tvalid_0's binary_logloss: 0.170961\n",
      "[24]\tvalid_0's auc: 0.995087\tvalid_0's binary_logloss: 0.167818\n",
      "[25]\tvalid_0's auc: 0.995742\tvalid_0's binary_logloss: 0.165031\n",
      "[26]\tvalid_0's auc: 0.995742\tvalid_0's binary_logloss: 0.158768\n",
      "[27]\tvalid_0's auc: 0.996069\tvalid_0's binary_logloss: 0.156152\n",
      "[28]\tvalid_0's auc: 0.996069\tvalid_0's binary_logloss: 0.153942\n",
      "[29]\tvalid_0's auc: 0.996069\tvalid_0's binary_logloss: 0.15031\n",
      "[30]\tvalid_0's auc: 0.996069\tvalid_0's binary_logloss: 0.145113\n",
      "[31]\tvalid_0's auc: 0.995742\tvalid_0's binary_logloss: 0.143901\n",
      "[32]\tvalid_0's auc: 0.996069\tvalid_0's binary_logloss: 0.139801\n",
      "[33]\tvalid_0's auc: 0.995742\tvalid_0's binary_logloss: 0.13718\n",
      "[34]\tvalid_0's auc: 0.995414\tvalid_0's binary_logloss: 0.135961\n",
      "[35]\tvalid_0's auc: 0.995414\tvalid_0's binary_logloss: 0.132684\n",
      "[36]\tvalid_0's auc: 0.995414\tvalid_0's binary_logloss: 0.132215\n",
      "Early stopping, best iteration is:\n",
      "[27]\tvalid_0's auc: 0.996069\tvalid_0's binary_logloss: 0.156152\n"
     ]
    },
    {
     "name": "stderr",
     "output_type": "stream",
     "text": [
      "c:\\users\\gauta\\appdata\\local\\programs\\python\\python36\\lib\\site-packages\\lightgbm\\engine.py:153: UserWarning: Found `early_stopping` in params. Will use it instead of argument\n",
      "  warnings.warn(\"Found `{}` in params. Will use it instead of argument\".format(alias))\n",
      "c:\\users\\gauta\\appdata\\local\\programs\\python\\python36\\lib\\site-packages\\lightgbm\\engine.py:153: UserWarning: Found `early_stopping` in params. Will use it instead of argument\n",
      "  warnings.warn(\"Found `{}` in params. Will use it instead of argument\".format(alias))\n",
      "c:\\users\\gauta\\appdata\\local\\programs\\python\\python36\\lib\\site-packages\\lightgbm\\engine.py:153: UserWarning: Found `early_stopping` in params. Will use it instead of argument\n",
      "  warnings.warn(\"Found `{}` in params. Will use it instead of argument\".format(alias))\n",
      "c:\\users\\gauta\\appdata\\local\\programs\\python\\python36\\lib\\site-packages\\lightgbm\\engine.py:153: UserWarning: Found `early_stopping` in params. Will use it instead of argument\n",
      "  warnings.warn(\"Found `{}` in params. Will use it instead of argument\".format(alias))\n",
      "c:\\users\\gauta\\appdata\\local\\programs\\python\\python36\\lib\\site-packages\\lightgbm\\engine.py:153: UserWarning: Found `early_stopping` in params. Will use it instead of argument\n",
      "  warnings.warn(\"Found `{}` in params. Will use it instead of argument\".format(alias))\n",
      "c:\\users\\gauta\\appdata\\local\\programs\\python\\python36\\lib\\site-packages\\lightgbm\\engine.py:153: UserWarning: Found `early_stopping` in params. Will use it instead of argument\n",
      "  warnings.warn(\"Found `{}` in params. Will use it instead of argument\".format(alias))\n",
      "c:\\users\\gauta\\appdata\\local\\programs\\python\\python36\\lib\\site-packages\\lightgbm\\engine.py:153: UserWarning: Found `early_stopping` in params. Will use it instead of argument\n",
      "  warnings.warn(\"Found `{}` in params. Will use it instead of argument\".format(alias))\n",
      "c:\\users\\gauta\\appdata\\local\\programs\\python\\python36\\lib\\site-packages\\lightgbm\\engine.py:153: UserWarning: Found `early_stopping` in params. Will use it instead of argument\n",
      "  warnings.warn(\"Found `{}` in params. Will use it instead of argument\".format(alias))\n",
      "c:\\users\\gauta\\appdata\\local\\programs\\python\\python36\\lib\\site-packages\\lightgbm\\engine.py:153: UserWarning: Found `early_stopping` in params. Will use it instead of argument\n",
      "  warnings.warn(\"Found `{}` in params. Will use it instead of argument\".format(alias))\n"
     ]
    }
   ],
   "source": [
    "number_of_steps = np.arange(1, 10, 1)\n",
    "\n",
    "\n",
    "trn_err = np.zeros((len(number_of_steps), ))\n",
    "val_err = np.zeros((len(number_of_steps), ))\n",
    "n_iters = np.zeros((len(number_of_steps), ))\n",
    "\n",
    "for i, rounds in enumerate(number_of_steps):\n",
    "    gbm = LGBMClassifier(boosting_type='gbdt', n_estimators=50, max_depth=1, early_stopping=rounds)\n",
    "    gbm.fit(Xtrn, ytrn, eval_set=[(Xval, yval)], eval_metric='auc')\n",
    "                     \n",
    "    trn_err[i] = 1 - accuracy_score(ytrn,  gbm.predict(Xtrn))\n",
    "    val_err[i] = 1 - accuracy_score(yval,  gbm.predict(Xval))\n",
    "    n_iters[i] = len(gbm.evals_result_['valid_0']['auc']) # Get the number of estimators in the ensemble in a roundabout way  "
   ]
  },
  {
   "cell_type": "code",
   "execution_count": 10,
   "metadata": {},
   "outputs": [
    {
     "data": {
      "image/png": "[encoded data removed]",
      "text/plain": [
       "<Figure size 648x288 with 2 Axes>"
      ]
     },
     "metadata": {
      "needs_background": "light"
     },
     "output_type": "display_data"
    }
   ],
   "source": [
    "%matplotlib inline\n",
    "fig, ax = plt.subplots(nrows=1, ncols=2, figsize=(9, 4))\n",
    "\n",
    "ax[0].plot(number_of_steps, trn_err, marker='o', c=cm[0], markeredgecolor='w', linewidth=2)\n",
    "ax[0].plot(number_of_steps, val_err, marker='s', c=cm[1], markeredgecolor='w', linewidth=2)\n",
    "ax[0].legend(['Train err', 'Validation err'])\n",
    "ax[0].set_xlabel('early_stopping_rounds')\n",
    "ax[0].set_ylabel('Error (%)')\n",
    "ax[0].set_xticks(range(10))\n",
    "\n",
    "ax[1].plot(number_of_steps, n_iters, marker='o', c=cm[0], markeredgecolor='w', linewidth=2)\n",
    "ax[1].set_xlabel('early_stopping_rounds')\n",
    "ax[1].set_ylabel('Ensemble size at early stopping')\n",
    "ax[1].set_xticks(range(10))\n",
    "\n",
    "fig.tight_layout()\n",
    "pngFile = './figures/CH05_F20_Kunapuli.png'\n",
    "plt.savefig(pngFile, dpi=300, pad_inches=0)"
   ]
  },
  {
   "cell_type": "markdown",
   "metadata": {},
   "source": [
    "### 5.4.3. Custom Loss Functions\n",
    "The **training loss** is the function that is optimized during training. Recall that we used squared error as the loss while building our own gradient boosting algorithm; ``LightGBM`` uses cross-entropy, otherwise known as the logistic loss. \n",
    "\n",
    "The **focal loss** is a new loss function introduced by [Lin et al.](https://arxiv.org/abs/1708.02002) for object detection. It is a modification of the classical cross-entropy loss that puts more focus on harder-to-classify examples, while ignoring the easier examples. The extent of this \"focus\" is determined by a user-controllable parameter, $\\gamma \\geq 0$.\n",
    "\n",
    "Let's define the model's predicted probability of $y_{pred} = 1$ as $p$. For a binary classification problem, since the only other label is $y=0$, the probability of $y_{pred} = 0$ will be $1-p$. The classical cross-entropy loss (for binary classification) is:\n",
    "\n",
    "\\\\[\n",
    "L(y_{true}, y_{pred}) = - y_{true} \\log{p} -  (1 - y_{true}) \\log{(1 - p)}.\n",
    "\\\\]\n",
    "\n",
    "The focal loss introduces a **modulating factor** to each term:\n",
    "\n",
    "\\\\[\n",
    "L(y_{true}, y_{pred}) = - (1 - y_{true}) p^\\gamma \\log{(1 - p)} -  y_{true} (1 - p)^\\gamma \\log{p}.\n",
    "\\\\]\n",
    "\n",
    "The modulating factor essentially suppresses the contribution of well-classified examples, forcing the algorithm that uses this loss to learn a model that focuses on poorly-classified examples. This effect can be seen below, where the focal loss is plotted for different values of $\\gamma$."
   ]
  },
  {
   "cell_type": "code",
   "execution_count": 11,
   "metadata": {},
   "outputs": [
    {
     "data": {
      "image/png": "[encoded data removed]",
      "text/plain": [
       "<Figure size 360x288 with 1 Axes>"
      ]
     },
     "metadata": {
      "needs_background": "light"
     },
     "output_type": "display_data"
    }
   ],
   "source": [
    "%matplotlib inline \n",
    "\n",
    "p = np.linspace(0.001, 1.0, num=100)\n",
    "fig, ax = plt.subplots(nrows=1, ncols=1, figsize=(5, 4))\n",
    "\n",
    "for g in [0, 0.5, 1, 2, 5, 10]:\n",
    "    f = -(1 - p)**g * np.log(p)\n",
    "    \n",
    "    if g == 0.0:\n",
    "        ax.plot(p, f, linewidth=4)\n",
    "    elif 0.5 <= g < 5:\n",
    "        ax.plot(p, f, linewidth=2.5)\n",
    "    else:\n",
    "        ax.plot(p, f, linewidth=1)\n",
    "        \n",
    "ax.set_xlabel('probability of $y = 1$')\n",
    "ax.set_ylabel('Loss')\n",
    "ax.legend(['$\\gamma = {0}$'.format(g) for g in [0, 0.5, 1, 2, 5, 10]])\n",
    "\n",
    "fig.tight_layout()\n",
    "pngFile = './figures/CH05_F21_Kunapuli.png'\n",
    "plt.savefig(pngFile, dpi=300, pad_inches=0)"
   ]
  },
  {
   "cell_type": "markdown",
   "metadata": {},
   "source": [
    "When $\\gamma=0$, the original cross-entropy loss is recovered. As $\\gamma$ increases, the part of the curve corresponding to \"well-classified\" examples becomes longer, reflecting the loss function's focus on poor classification.\n",
    "\n",
    "In order to use this focal loss to train gradient boosted decision trees, we have to provide ``LightGBM`` with two functions:\n",
    "* the actual loss function itself, which can be used for evaluation\n",
    "* the first derivative (gradient) and second derivative (Hessian), which will be used for learning\n",
    "\n",
    "**Listing 5.7**: Defining Custom Loss Functions"
   ]
  },
  {
   "cell_type": "code",
   "execution_count": 12,
   "metadata": {},
   "outputs": [],
   "source": [
    "from scipy.misc import derivative\n",
    "\n",
    "def focal_loss(ytrue, ypred, gamma=2.0):   \n",
    "    p = 1 / (1 + np.exp(-ypred))\n",
    "    loss = -(1 - ytrue) * p**gamma * np.log(1 - p) - ytrue * (1 - p)**gamma * np.log(p)\n",
    "    return loss\n",
    "\n",
    "\n",
    "def focal_loss_metric(ytrue, ypred):\n",
    "    return 'focal_loss_metric', np.mean(focal_loss(ytrue, ypred)), False\n",
    "\n",
    "\n",
    "def focal_loss_objective(ytrue, ypred):\n",
    "    func = lambda z: focal_loss(ytrue, z)\n",
    "    grad = derivative(func, ypred, n=1, dx=1e-6)\n",
    "    hess = derivative(func, ypred, n=2, dx=1e-6)\n",
    "    return grad, hess"
   ]
  },
  {
   "cell_type": "code",
   "execution_count": 13,
   "metadata": {},
   "outputs": [
    {
     "name": "stdout",
     "output_type": "stream",
     "text": [
      "[1]\tvalid_0's focal_loss_metric: 0.141808\n",
      "[2]\tvalid_0's focal_loss_metric: 0.11333\n",
      "[3]\tvalid_0's focal_loss_metric: 0.0952922\n",
      "[4]\tvalid_0's focal_loss_metric: 0.0790233\n",
      "[5]\tvalid_0's focal_loss_metric: 0.0677255\n",
      "[6]\tvalid_0's focal_loss_metric: 0.0606197\n",
      "[7]\tvalid_0's focal_loss_metric: 0.0537766\n",
      "[8]\tvalid_0's focal_loss_metric: 0.0482069\n",
      "[9]\tvalid_0's focal_loss_metric: 0.0459177\n",
      "[10]\tvalid_0's focal_loss_metric: 0.0438938\n",
      "[11]\tvalid_0's focal_loss_metric: 0.0396912\n",
      "[12]\tvalid_0's focal_loss_metric: 0.0373091\n",
      "[13]\tvalid_0's focal_loss_metric: 0.0354938\n",
      "[14]\tvalid_0's focal_loss_metric: 0.0325854\n",
      "[15]\tvalid_0's focal_loss_metric: 0.0325117\n",
      "[16]\tvalid_0's focal_loss_metric: 0.0321897\n",
      "[17]\tvalid_0's focal_loss_metric: 0.03054\n",
      "[18]\tvalid_0's focal_loss_metric: 0.0303324\n",
      "[19]\tvalid_0's focal_loss_metric: 0.0283734\n",
      "[20]\tvalid_0's focal_loss_metric: 0.0272042\n"
     ]
    },
    {
     "data": {
      "text/plain": [
       "0.9736842105263158"
      ]
     },
     "execution_count": 13,
     "metadata": {},
     "output_type": "execute_result"
    }
   ],
   "source": [
    "gbm_focal_loss = LGBMClassifier(objective=focal_loss_objective, learning_rate=0.25, n_estimators=20, max_depth=1)\n",
    "gbm_focal_loss.fit(Xtrn, ytrn, eval_set=[(Xval, yval)], eval_metric=focal_loss_metric)\n",
    "accuracy_score(yval, gbm_focal_loss.predict(Xval))"
   ]
  },
  {
   "cell_type": "code",
   "execution_count": 14,
   "metadata": {},
   "outputs": [
    {
     "data": {
      "text/plain": [
       "0.956140350877193"
      ]
     },
     "execution_count": 14,
     "metadata": {},
     "output_type": "execute_result"
    }
   ],
   "source": [
    "gbm_standard = LGBMClassifier(boosting_type='gbdt', learning_rate=0.25, n_estimators=20, max_depth=1)\n",
    "gbm_standard.fit(Xtrn, ytrn)\n",
    "accuracy_score(yval, gbm_standard.predict(Xval))"
   ]
  }
 ],
 "metadata": {
  "kernelspec": {
   "display_name": "Python 3",
   "language": "python",
   "name": "python3"
  },
  "language_info": {
   "codemirror_mode": {
    "name": "ipython",
    "version": 3
   },
   "file_extension": ".py",
   "mimetype": "text/x-python",
   "name": "python",
   "nbconvert_exporter": "python",
   "pygments_lexer": "ipython3",
   "version": "3.6.4"
  }
 },
 "nbformat": 4,
 "nbformat_minor": 2
}
