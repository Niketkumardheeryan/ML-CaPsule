{
  "nbformat": 4,
  "nbformat_minor": 0,
  "metadata": {
    "colab": {
      "name": "content_based_recommendation.ipynb",
      "provenance": []
    },
    "kernelspec": {
      "name": "python3",
      "display_name": "Python 3"
    },
    "language_info": {
      "name": "python"
    }
  },
  "cells": [
    {
      "cell_type": "markdown",
      "metadata": {
        "id": "lpefr_Y0aBc-"
      },
      "source": [
        "#Content based Movie Recommendation"
      ]
    },
    {
      "cell_type": "code",
      "metadata": {
        "id": "EGbUW2D1Ptoz"
      },
      "source": [
        "# Importing Required Libraries\n",
        "import pandas as pd\n",
        "import numpy as np\n",
        "from sklearn.feature_extraction.text import CountVectorizer\n",
        "from sklearn.metrics.pairwise import cosine_similarity"
      ],
      "execution_count": 34,
      "outputs": []
    },
    {
      "cell_type": "code",
      "metadata": {
        "id": "eRq9WlUMQj20"
      },
      "source": [
        "# Function to access index from movie title and vice versa\n",
        "def get_title_from_index(index):\n",
        "\treturn df[df.index == index][\"title\"].values[0]\n",
        "\n",
        "def get_index_from_title(title):\n",
        "\treturn df[df.title == title][\"index\"].values[0]"
      ],
      "execution_count": 35,
      "outputs": []
    },
    {
      "cell_type": "code",
      "metadata": {
        "id": "o4KzXOqgQoJ3"
      },
      "source": [
        "# Reading data as df\n",
        "df = pd.read_csv(\"movie_dataset.csv\")"
      ],
      "execution_count": 36,
      "outputs": []
    },
    {
      "cell_type": "markdown",
      "metadata": {
        "id": "jTOQqlQtamjP"
      },
      "source": [
        "Visualizing Data"
      ]
    },
    {
      "cell_type": "code",
      "metadata": {
        "colab": {
          "base_uri": "https://localhost:8080/"
        },
        "id": "1H5EX7VkQrcI",
        "outputId": "25b33dcb-5e7b-4cf1-b7cc-2eb0f08b0be6"
      },
      "source": [
        "df.info()"
      ],
      "execution_count": 37,
      "outputs": [
        {
          "output_type": "stream",
          "text": [
            "<class 'pandas.core.frame.DataFrame'>\n",
            "RangeIndex: 4803 entries, 0 to 4802\n",
            "Data columns (total 24 columns):\n",
            " #   Column                Non-Null Count  Dtype  \n",
            "---  ------                --------------  -----  \n",
            " 0   index                 4803 non-null   int64  \n",
            " 1   budget                4803 non-null   int64  \n",
            " 2   genres                4775 non-null   object \n",
            " 3   homepage              1712 non-null   object \n",
            " 4   id                    4803 non-null   int64  \n",
            " 5   keywords              4391 non-null   object \n",
            " 6   original_language     4803 non-null   object \n",
            " 7   original_title        4803 non-null   object \n",
            " 8   overview              4800 non-null   object \n",
            " 9   popularity            4803 non-null   float64\n",
            " 10  production_companies  4803 non-null   object \n",
            " 11  production_countries  4803 non-null   object \n",
            " 12  release_date          4802 non-null   object \n",
            " 13  revenue               4803 non-null   int64  \n",
            " 14  runtime               4801 non-null   float64\n",
            " 15  spoken_languages      4803 non-null   object \n",
            " 16  status                4803 non-null   object \n",
            " 17  tagline               3959 non-null   object \n",
            " 18  title                 4803 non-null   object \n",
            " 19  vote_average          4803 non-null   float64\n",
            " 20  vote_count            4803 non-null   int64  \n",
            " 21  cast                  4760 non-null   object \n",
            " 22  crew                  4803 non-null   object \n",
            " 23  director              4773 non-null   object \n",
            "dtypes: float64(3), int64(5), object(16)\n",
            "memory usage: 900.7+ KB\n"
          ],
          "name": "stdout"
        }
      ]
    },
    {
      "cell_type": "code",
      "metadata": {
        "colab": {
          "base_uri": "https://localhost:8080/",
          "height": 295
        },
        "id": "bo1aw-jSRJEb",
        "outputId": "e0a9d21c-f151-49f0-ba9e-fe2be7bd901f"
      },
      "source": [
        "df.describe()"
      ],
      "execution_count": 38,
      "outputs": [
        {
          "output_type": "execute_result",
          "data": {
            "text/html": [
              "<div>\n",
              "<style scoped>\n",
              "    .dataframe tbody tr th:only-of-type {\n",
              "        vertical-align: middle;\n",
              "    }\n",
              "\n",
              "    .dataframe tbody tr th {\n",
              "        vertical-align: top;\n",
              "    }\n",
              "\n",
              "    .dataframe thead th {\n",
              "        text-align: right;\n",
              "    }\n",
              "</style>\n",
              "<table border=\"1\" class=\"dataframe\">\n",
              "  <thead>\n",
              "    <tr style=\"text-align: right;\">\n",
              "      <th></th>\n",
              "      <th>index</th>\n",
              "      <th>budget</th>\n",
              "      <th>id</th>\n",
              "      <th>popularity</th>\n",
              "      <th>revenue</th>\n",
              "      <th>runtime</th>\n",
              "      <th>vote_average</th>\n",
              "      <th>vote_count</th>\n",
              "    </tr>\n",
              "  </thead>\n",
              "  <tbody>\n",
              "    <tr>\n",
              "      <th>count</th>\n",
              "      <td>4803.000000</td>\n",
              "      <td>4.803000e+03</td>\n",
              "      <td>4803.000000</td>\n",
              "      <td>4803.000000</td>\n",
              "      <td>4.803000e+03</td>\n",
              "      <td>4801.000000</td>\n",
              "      <td>4803.000000</td>\n",
              "      <td>4803.000000</td>\n",
              "    </tr>\n",
              "    <tr>\n",
              "      <th>mean</th>\n",
              "      <td>2401.000000</td>\n",
              "      <td>2.904504e+07</td>\n",
              "      <td>57165.484281</td>\n",
              "      <td>21.492301</td>\n",
              "      <td>8.226064e+07</td>\n",
              "      <td>106.875859</td>\n",
              "      <td>6.092172</td>\n",
              "      <td>690.217989</td>\n",
              "    </tr>\n",
              "    <tr>\n",
              "      <th>std</th>\n",
              "      <td>1386.651002</td>\n",
              "      <td>4.072239e+07</td>\n",
              "      <td>88694.614033</td>\n",
              "      <td>31.816650</td>\n",
              "      <td>1.628571e+08</td>\n",
              "      <td>22.611935</td>\n",
              "      <td>1.194612</td>\n",
              "      <td>1234.585891</td>\n",
              "    </tr>\n",
              "    <tr>\n",
              "      <th>min</th>\n",
              "      <td>0.000000</td>\n",
              "      <td>0.000000e+00</td>\n",
              "      <td>5.000000</td>\n",
              "      <td>0.000000</td>\n",
              "      <td>0.000000e+00</td>\n",
              "      <td>0.000000</td>\n",
              "      <td>0.000000</td>\n",
              "      <td>0.000000</td>\n",
              "    </tr>\n",
              "    <tr>\n",
              "      <th>25%</th>\n",
              "      <td>1200.500000</td>\n",
              "      <td>7.900000e+05</td>\n",
              "      <td>9014.500000</td>\n",
              "      <td>4.668070</td>\n",
              "      <td>0.000000e+00</td>\n",
              "      <td>94.000000</td>\n",
              "      <td>5.600000</td>\n",
              "      <td>54.000000</td>\n",
              "    </tr>\n",
              "    <tr>\n",
              "      <th>50%</th>\n",
              "      <td>2401.000000</td>\n",
              "      <td>1.500000e+07</td>\n",
              "      <td>14629.000000</td>\n",
              "      <td>12.921594</td>\n",
              "      <td>1.917000e+07</td>\n",
              "      <td>103.000000</td>\n",
              "      <td>6.200000</td>\n",
              "      <td>235.000000</td>\n",
              "    </tr>\n",
              "    <tr>\n",
              "      <th>75%</th>\n",
              "      <td>3601.500000</td>\n",
              "      <td>4.000000e+07</td>\n",
              "      <td>58610.500000</td>\n",
              "      <td>28.313505</td>\n",
              "      <td>9.291719e+07</td>\n",
              "      <td>118.000000</td>\n",
              "      <td>6.800000</td>\n",
              "      <td>737.000000</td>\n",
              "    </tr>\n",
              "    <tr>\n",
              "      <th>max</th>\n",
              "      <td>4802.000000</td>\n",
              "      <td>3.800000e+08</td>\n",
              "      <td>459488.000000</td>\n",
              "      <td>875.581305</td>\n",
              "      <td>2.787965e+09</td>\n",
              "      <td>338.000000</td>\n",
              "      <td>10.000000</td>\n",
              "      <td>13752.000000</td>\n",
              "    </tr>\n",
              "  </tbody>\n",
              "</table>\n",
              "</div>"
            ],
            "text/plain": [
              "             index        budget  ...  vote_average    vote_count\n",
              "count  4803.000000  4.803000e+03  ...   4803.000000   4803.000000\n",
              "mean   2401.000000  2.904504e+07  ...      6.092172    690.217989\n",
              "std    1386.651002  4.072239e+07  ...      1.194612   1234.585891\n",
              "min       0.000000  0.000000e+00  ...      0.000000      0.000000\n",
              "25%    1200.500000  7.900000e+05  ...      5.600000     54.000000\n",
              "50%    2401.000000  1.500000e+07  ...      6.200000    235.000000\n",
              "75%    3601.500000  4.000000e+07  ...      6.800000    737.000000\n",
              "max    4802.000000  3.800000e+08  ...     10.000000  13752.000000\n",
              "\n",
              "[8 rows x 8 columns]"
            ]
          },
          "metadata": {
            "tags": []
          },
          "execution_count": 38
        }
      ]
    },
    {
      "cell_type": "code",
      "metadata": {
        "colab": {
          "base_uri": "https://localhost:8080/",
          "height": 744
        },
        "id": "P3y4Xmh7RKsC",
        "outputId": "4258beca-729c-4c39-9fb2-b65f6ea288c1"
      },
      "source": [
        "df.head()"
      ],
      "execution_count": 39,
      "outputs": [
        {
          "output_type": "execute_result",
          "data": {
            "text/html": [
              "<div>\n",
              "<style scoped>\n",
              "    .dataframe tbody tr th:only-of-type {\n",
              "        vertical-align: middle;\n",
              "    }\n",
              "\n",
              "    .dataframe tbody tr th {\n",
              "        vertical-align: top;\n",
              "    }\n",
              "\n",
              "    .dataframe thead th {\n",
              "        text-align: right;\n",
              "    }\n",
              "</style>\n",
              "<table border=\"1\" class=\"dataframe\">\n",
              "  <thead>\n",
              "    <tr style=\"text-align: right;\">\n",
              "      <th></th>\n",
              "      <th>index</th>\n",
              "      <th>budget</th>\n",
              "      <th>genres</th>\n",
              "      <th>homepage</th>\n",
              "      <th>id</th>\n",
              "      <th>keywords</th>\n",
              "      <th>original_language</th>\n",
              "      <th>original_title</th>\n",
              "      <th>overview</th>\n",
              "      <th>popularity</th>\n",
              "      <th>production_companies</th>\n",
              "      <th>production_countries</th>\n",
              "      <th>release_date</th>\n",
              "      <th>revenue</th>\n",
              "      <th>runtime</th>\n",
              "      <th>spoken_languages</th>\n",
              "      <th>status</th>\n",
              "      <th>tagline</th>\n",
              "      <th>title</th>\n",
              "      <th>vote_average</th>\n",
              "      <th>vote_count</th>\n",
              "      <th>cast</th>\n",
              "      <th>crew</th>\n",
              "      <th>director</th>\n",
              "    </tr>\n",
              "  </thead>\n",
              "  <tbody>\n",
              "    <tr>\n",
              "      <th>0</th>\n",
              "      <td>0</td>\n",
              "      <td>237000000</td>\n",
              "      <td>Action Adventure Fantasy Science Fiction</td>\n",
              "      <td>http://www.avatarmovie.com/</td>\n",
              "      <td>19995</td>\n",
              "      <td>culture clash future space war space colony so...</td>\n",
              "      <td>en</td>\n",
              "      <td>Avatar</td>\n",
              "      <td>In the 22nd century, a paraplegic Marine is di...</td>\n",
              "      <td>150.437577</td>\n",
              "      <td>[{\"name\": \"Ingenious Film Partners\", \"id\": 289...</td>\n",
              "      <td>[{\"iso_3166_1\": \"US\", \"name\": \"United States o...</td>\n",
              "      <td>2009-12-10</td>\n",
              "      <td>2787965087</td>\n",
              "      <td>162.0</td>\n",
              "      <td>[{\"iso_639_1\": \"en\", \"name\": \"English\"}, {\"iso...</td>\n",
              "      <td>Released</td>\n",
              "      <td>Enter the World of Pandora.</td>\n",
              "      <td>Avatar</td>\n",
              "      <td>7.2</td>\n",
              "      <td>11800</td>\n",
              "      <td>Sam Worthington Zoe Saldana Sigourney Weaver S...</td>\n",
              "      <td>[{'name': 'Stephen E. Rivkin', 'gender': 0, 'd...</td>\n",
              "      <td>James Cameron</td>\n",
              "    </tr>\n",
              "    <tr>\n",
              "      <th>1</th>\n",
              "      <td>1</td>\n",
              "      <td>300000000</td>\n",
              "      <td>Adventure Fantasy Action</td>\n",
              "      <td>http://disney.go.com/disneypictures/pirates/</td>\n",
              "      <td>285</td>\n",
              "      <td>ocean drug abuse exotic island east india trad...</td>\n",
              "      <td>en</td>\n",
              "      <td>Pirates of the Caribbean: At World's End</td>\n",
              "      <td>Captain Barbossa, long believed to be dead, ha...</td>\n",
              "      <td>139.082615</td>\n",
              "      <td>[{\"name\": \"Walt Disney Pictures\", \"id\": 2}, {\"...</td>\n",
              "      <td>[{\"iso_3166_1\": \"US\", \"name\": \"United States o...</td>\n",
              "      <td>2007-05-19</td>\n",
              "      <td>961000000</td>\n",
              "      <td>169.0</td>\n",
              "      <td>[{\"iso_639_1\": \"en\", \"name\": \"English\"}]</td>\n",
              "      <td>Released</td>\n",
              "      <td>At the end of the world, the adventure begins.</td>\n",
              "      <td>Pirates of the Caribbean: At World's End</td>\n",
              "      <td>6.9</td>\n",
              "      <td>4500</td>\n",
              "      <td>Johnny Depp Orlando Bloom Keira Knightley Stel...</td>\n",
              "      <td>[{'name': 'Dariusz Wolski', 'gender': 2, 'depa...</td>\n",
              "      <td>Gore Verbinski</td>\n",
              "    </tr>\n",
              "    <tr>\n",
              "      <th>2</th>\n",
              "      <td>2</td>\n",
              "      <td>245000000</td>\n",
              "      <td>Action Adventure Crime</td>\n",
              "      <td>http://www.sonypictures.com/movies/spectre/</td>\n",
              "      <td>206647</td>\n",
              "      <td>spy based on novel secret agent sequel mi6</td>\n",
              "      <td>en</td>\n",
              "      <td>Spectre</td>\n",
              "      <td>A cryptic message from Bond’s past sends him o...</td>\n",
              "      <td>107.376788</td>\n",
              "      <td>[{\"name\": \"Columbia Pictures\", \"id\": 5}, {\"nam...</td>\n",
              "      <td>[{\"iso_3166_1\": \"GB\", \"name\": \"United Kingdom\"...</td>\n",
              "      <td>2015-10-26</td>\n",
              "      <td>880674609</td>\n",
              "      <td>148.0</td>\n",
              "      <td>[{\"iso_639_1\": \"fr\", \"name\": \"Fran\\u00e7ais\"},...</td>\n",
              "      <td>Released</td>\n",
              "      <td>A Plan No One Escapes</td>\n",
              "      <td>Spectre</td>\n",
              "      <td>6.3</td>\n",
              "      <td>4466</td>\n",
              "      <td>Daniel Craig Christoph Waltz L\\u00e9a Seydoux ...</td>\n",
              "      <td>[{'name': 'Thomas Newman', 'gender': 2, 'depar...</td>\n",
              "      <td>Sam Mendes</td>\n",
              "    </tr>\n",
              "    <tr>\n",
              "      <th>3</th>\n",
              "      <td>3</td>\n",
              "      <td>250000000</td>\n",
              "      <td>Action Crime Drama Thriller</td>\n",
              "      <td>http://www.thedarkknightrises.com/</td>\n",
              "      <td>49026</td>\n",
              "      <td>dc comics crime fighter terrorist secret ident...</td>\n",
              "      <td>en</td>\n",
              "      <td>The Dark Knight Rises</td>\n",
              "      <td>Following the death of District Attorney Harve...</td>\n",
              "      <td>112.312950</td>\n",
              "      <td>[{\"name\": \"Legendary Pictures\", \"id\": 923}, {\"...</td>\n",
              "      <td>[{\"iso_3166_1\": \"US\", \"name\": \"United States o...</td>\n",
              "      <td>2012-07-16</td>\n",
              "      <td>1084939099</td>\n",
              "      <td>165.0</td>\n",
              "      <td>[{\"iso_639_1\": \"en\", \"name\": \"English\"}]</td>\n",
              "      <td>Released</td>\n",
              "      <td>The Legend Ends</td>\n",
              "      <td>The Dark Knight Rises</td>\n",
              "      <td>7.6</td>\n",
              "      <td>9106</td>\n",
              "      <td>Christian Bale Michael Caine Gary Oldman Anne ...</td>\n",
              "      <td>[{'name': 'Hans Zimmer', 'gender': 2, 'departm...</td>\n",
              "      <td>Christopher Nolan</td>\n",
              "    </tr>\n",
              "    <tr>\n",
              "      <th>4</th>\n",
              "      <td>4</td>\n",
              "      <td>260000000</td>\n",
              "      <td>Action Adventure Science Fiction</td>\n",
              "      <td>http://movies.disney.com/john-carter</td>\n",
              "      <td>49529</td>\n",
              "      <td>based on novel mars medallion space travel pri...</td>\n",
              "      <td>en</td>\n",
              "      <td>John Carter</td>\n",
              "      <td>John Carter is a war-weary, former military ca...</td>\n",
              "      <td>43.926995</td>\n",
              "      <td>[{\"name\": \"Walt Disney Pictures\", \"id\": 2}]</td>\n",
              "      <td>[{\"iso_3166_1\": \"US\", \"name\": \"United States o...</td>\n",
              "      <td>2012-03-07</td>\n",
              "      <td>284139100</td>\n",
              "      <td>132.0</td>\n",
              "      <td>[{\"iso_639_1\": \"en\", \"name\": \"English\"}]</td>\n",
              "      <td>Released</td>\n",
              "      <td>Lost in our world, found in another.</td>\n",
              "      <td>John Carter</td>\n",
              "      <td>6.1</td>\n",
              "      <td>2124</td>\n",
              "      <td>Taylor Kitsch Lynn Collins Samantha Morton Wil...</td>\n",
              "      <td>[{'name': 'Andrew Stanton', 'gender': 2, 'depa...</td>\n",
              "      <td>Andrew Stanton</td>\n",
              "    </tr>\n",
              "  </tbody>\n",
              "</table>\n",
              "</div>"
            ],
            "text/plain": [
              "   index  ...           director\n",
              "0      0  ...      James Cameron\n",
              "1      1  ...     Gore Verbinski\n",
              "2      2  ...         Sam Mendes\n",
              "3      3  ...  Christopher Nolan\n",
              "4      4  ...     Andrew Stanton\n",
              "\n",
              "[5 rows x 24 columns]"
            ]
          },
          "metadata": {
            "tags": []
          },
          "execution_count": 39
        }
      ]
    },
    {
      "cell_type": "code",
      "metadata": {
        "colab": {
          "base_uri": "https://localhost:8080/"
        },
        "id": "iw4y74xKRRdv",
        "outputId": "b4acf64e-7cee-438b-d0d7-c8d337c07b31"
      },
      "source": [
        "df.columns"
      ],
      "execution_count": 40,
      "outputs": [
        {
          "output_type": "execute_result",
          "data": {
            "text/plain": [
              "Index(['index', 'budget', 'genres', 'homepage', 'id', 'keywords',\n",
              "       'original_language', 'original_title', 'overview', 'popularity',\n",
              "       'production_companies', 'production_countries', 'release_date',\n",
              "       'revenue', 'runtime', 'spoken_languages', 'status', 'tagline', 'title',\n",
              "       'vote_average', 'vote_count', 'cast', 'crew', 'director'],\n",
              "      dtype='object')"
            ]
          },
          "metadata": {
            "tags": []
          },
          "execution_count": 40
        }
      ]
    },
    {
      "cell_type": "code",
      "metadata": {
        "colab": {
          "base_uri": "https://localhost:8080/",
          "height": 35
        },
        "id": "ZFTUhdU_a_-2",
        "outputId": "2b086844-16d6-40bf-9318-744cbde0102b"
      },
      "source": [
        "\"\"\" There are four features that affect recommendation the most, keywords, genres, cast, and director.\"\"\""
      ],
      "execution_count": 41,
      "outputs": [
        {
          "output_type": "execute_result",
          "data": {
            "application/vnd.google.colaboratory.intrinsic+json": {
              "type": "string"
            },
            "text/plain": [
              "' There are four features that affect recommendation the most, keywords, genres, cast, and director.'"
            ]
          },
          "metadata": {
            "tags": []
          },
          "execution_count": 41
        }
      ]
    },
    {
      "cell_type": "markdown",
      "metadata": {
        "id": "rNi7dcHKcDa4"
      },
      "source": [
        "Using all four features"
      ]
    },
    {
      "cell_type": "code",
      "metadata": {
        "id": "i_i7NQcZRz-F"
      },
      "source": [
        "features = ['keywords','cast','genres','director']"
      ],
      "execution_count": 42,
      "outputs": []
    },
    {
      "cell_type": "code",
      "metadata": {
        "id": "iNoOg4eZRz7s"
      },
      "source": [
        "# Replacing null values by empty string\n",
        "for feature in features:\n",
        "    df[feature] = df[feature].fillna('')"
      ],
      "execution_count": 43,
      "outputs": []
    },
    {
      "cell_type": "code",
      "metadata": {
        "id": "S3WLA7naSWws"
      },
      "source": [
        "# Combining features into a single column\n",
        "def combine_features(row):\n",
        "    return row['keywords']+\" \"+row['cast']+\" \"+row['genres']+\" \"+row['director']\n",
        "df[\"combined_features\"] = df.apply(combine_features,axis=1)"
      ],
      "execution_count": 44,
      "outputs": []
    },
    {
      "cell_type": "code",
      "metadata": {
        "colab": {
          "base_uri": "https://localhost:8080/"
        },
        "id": "WUowCsj3Sg-A",
        "outputId": "1b2590ce-c2c1-4332-c6dc-be82dd8127c9"
      },
      "source": [
        "df['combined_features'].head()"
      ],
      "execution_count": 45,
      "outputs": [
        {
          "output_type": "execute_result",
          "data": {
            "text/plain": [
              "0    culture clash future space war space colony so...\n",
              "1    ocean drug abuse exotic island east india trad...\n",
              "2    spy based on novel secret agent sequel mi6 Dan...\n",
              "3    dc comics crime fighter terrorist secret ident...\n",
              "4    based on novel mars medallion space travel pri...\n",
              "Name: combined_features, dtype: object"
            ]
          },
          "metadata": {
            "tags": []
          },
          "execution_count": 45
        }
      ]
    },
    {
      "cell_type": "code",
      "metadata": {
        "id": "Opd0tcrfSkCG"
      },
      "source": [
        "cv = CountVectorizer()\n",
        "count_matrix = cv.fit_transform(df['combined_features'])"
      ],
      "execution_count": 46,
      "outputs": []
    },
    {
      "cell_type": "code",
      "metadata": {
        "id": "5VyFKR_jS8Hl"
      },
      "source": [
        "cosine_sim = cosine_similarity(count_matrix)\n",
        "movie_user_likes = \"Avatar\""
      ],
      "execution_count": 47,
      "outputs": []
    },
    {
      "cell_type": "code",
      "metadata": {
        "id": "-LkmcFz1S_HF"
      },
      "source": [
        "movie_index = get_index_from_title(movie_user_likes)\n",
        "similar_movies = list(enumerate(cosine_sim[movie_index]))"
      ],
      "execution_count": 48,
      "outputs": []
    },
    {
      "cell_type": "code",
      "metadata": {
        "id": "PB3sVqjcTG1N"
      },
      "source": [
        "sorted_similar_movies = sorted(similar_movies,key = lambda x:x[1],reverse=True)"
      ],
      "execution_count": 49,
      "outputs": []
    },
    {
      "cell_type": "code",
      "metadata": {
        "colab": {
          "base_uri": "https://localhost:8080/"
        },
        "id": "9D-mr3nUTMZl",
        "outputId": "946cc247-9a1f-4a55-d2f7-9fef027156b7"
      },
      "source": [
        "i=0\n",
        "for movie in sorted_similar_movies:\n",
        "    print(get_title_from_index(movie[0]))\n",
        "    i+=1\n",
        "    if i>10:\n",
        "        break"
      ],
      "execution_count": 50,
      "outputs": [
        {
          "output_type": "stream",
          "text": [
            "Avatar\n",
            "Guardians of the Galaxy\n",
            "Aliens\n",
            "Star Wars: Clone Wars: Volume 1\n",
            "Star Trek Into Darkness\n",
            "Star Trek Beyond\n",
            "Alien\n",
            "Lockout\n",
            "Jason X\n",
            "The Helix... Loaded\n",
            "Moonraker\n"
          ],
          "name": "stdout"
        }
      ]
    },
    {
      "cell_type": "markdown",
      "metadata": {
        "id": "i-vZprGxTd-X"
      },
      "source": [
        "Using Genre and Keywords only"
      ]
    },
    {
      "cell_type": "code",
      "metadata": {
        "id": "n8mQrlD2TQpA"
      },
      "source": [
        "features_1 = ['keywords','genres']"
      ],
      "execution_count": 51,
      "outputs": []
    },
    {
      "cell_type": "code",
      "metadata": {
        "id": "gUDofLG5Tudi"
      },
      "source": [
        "def combine_features_1(row):\n",
        "    return row['keywords']+\" \"+row['genres']\n",
        "df[\"combined_features_1\"] = df.apply(combine_features_1,axis=1)"
      ],
      "execution_count": 52,
      "outputs": []
    },
    {
      "cell_type": "code",
      "metadata": {
        "colab": {
          "base_uri": "https://localhost:8080/"
        },
        "id": "1wHQeLxgT7jS",
        "outputId": "4152066f-b684-4749-d1b5-04b511d4bf88"
      },
      "source": [
        "df[\"combined_features_1\"].head()"
      ],
      "execution_count": 53,
      "outputs": [
        {
          "output_type": "execute_result",
          "data": {
            "text/plain": [
              "0    culture clash future space war space colony so...\n",
              "1    ocean drug abuse exotic island east india trad...\n",
              "2    spy based on novel secret agent sequel mi6 Act...\n",
              "3    dc comics crime fighter terrorist secret ident...\n",
              "4    based on novel mars medallion space travel pri...\n",
              "Name: combined_features_1, dtype: object"
            ]
          },
          "metadata": {
            "tags": []
          },
          "execution_count": 53
        }
      ]
    },
    {
      "cell_type": "code",
      "metadata": {
        "id": "xZSYqLr6T_26"
      },
      "source": [
        "cv_1 = CountVectorizer()\n",
        "count_matrix_1 = cv_1.fit_transform(df['combined_features_1'])"
      ],
      "execution_count": 54,
      "outputs": []
    },
    {
      "cell_type": "code",
      "metadata": {
        "id": "gHqn4G3wUQ9C"
      },
      "source": [
        "cosine_sim_1 = cosine_similarity(count_matrix_1)\n",
        "movie_user_likes = \"Avatar\""
      ],
      "execution_count": 55,
      "outputs": []
    },
    {
      "cell_type": "code",
      "metadata": {
        "id": "qlUjWX_PUWKS"
      },
      "source": [
        "movie_index = get_index_from_title(movie_user_likes)\n",
        "similar_movies = list(enumerate(cosine_sim_1[movie_index]))"
      ],
      "execution_count": 56,
      "outputs": []
    },
    {
      "cell_type": "code",
      "metadata": {
        "id": "tr34S3cwUdGp"
      },
      "source": [
        "sorted_similar_movies = sorted(similar_movies,key = lambda x:x[1],reverse=True)"
      ],
      "execution_count": 57,
      "outputs": []
    },
    {
      "cell_type": "code",
      "metadata": {
        "colab": {
          "base_uri": "https://localhost:8080/"
        },
        "id": "-ea3w7J_Ui-l",
        "outputId": "7444bc1d-c9df-49ce-96c6-2314774d1c3e"
      },
      "source": [
        "i=0\n",
        "for movie in sorted_similar_movies:\n",
        "    print(get_title_from_index(movie[0]))\n",
        "    i+=1\n",
        "    if i>10:\n",
        "        break"
      ],
      "execution_count": 58,
      "outputs": [
        {
          "output_type": "stream",
          "text": [
            "Avatar\n",
            "Star Wars: Clone Wars: Volume 1\n",
            "Guardians of the Galaxy\n",
            "Planet of the Apes\n",
            "Jupiter Ascending\n",
            "Star Trek Into Darkness\n",
            "Star Trek Beyond\n",
            "Moonraker\n",
            "Jason X\n",
            "Silent Running\n",
            "Oblivion\n"
          ],
          "name": "stdout"
        }
      ]
    },
    {
      "cell_type": "markdown",
      "metadata": {
        "id": "k9Wfs8lVUzfO"
      },
      "source": [
        "Using cast and director"
      ]
    },
    {
      "cell_type": "code",
      "metadata": {
        "id": "T4H97riRUl10"
      },
      "source": [
        "features_2 = ['cast','director']"
      ],
      "execution_count": 59,
      "outputs": []
    },
    {
      "cell_type": "code",
      "metadata": {
        "id": "xmRFYuCVU49e"
      },
      "source": [
        "def combine_features_2(row):\n",
        "    return row['cast']+\" \"+row['director']\n",
        "df[\"combined_features_2\"] = df.apply(combine_features_2,axis=1)"
      ],
      "execution_count": 60,
      "outputs": []
    },
    {
      "cell_type": "code",
      "metadata": {
        "colab": {
          "base_uri": "https://localhost:8080/"
        },
        "id": "3Z3iXyn3VIPf",
        "outputId": "76873ece-af6d-43c3-bf38-6f802412da02"
      },
      "source": [
        "df[\"combined_features_2\"].head()"
      ],
      "execution_count": 61,
      "outputs": [
        {
          "output_type": "execute_result",
          "data": {
            "text/plain": [
              "0    Sam Worthington Zoe Saldana Sigourney Weaver S...\n",
              "1    Johnny Depp Orlando Bloom Keira Knightley Stel...\n",
              "2    Daniel Craig Christoph Waltz L\\u00e9a Seydoux ...\n",
              "3    Christian Bale Michael Caine Gary Oldman Anne ...\n",
              "4    Taylor Kitsch Lynn Collins Samantha Morton Wil...\n",
              "Name: combined_features_2, dtype: object"
            ]
          },
          "metadata": {
            "tags": []
          },
          "execution_count": 61
        }
      ]
    },
    {
      "cell_type": "code",
      "metadata": {
        "id": "b4hO3-I6VMuf"
      },
      "source": [
        "cv_2 = CountVectorizer()\n",
        "count_matrix_2 = cv_2.fit_transform(df['combined_features_2'])"
      ],
      "execution_count": 62,
      "outputs": []
    },
    {
      "cell_type": "code",
      "metadata": {
        "id": "3Df9dspVVTHn"
      },
      "source": [
        "cosine_sim_2 = cosine_similarity(count_matrix_2)\n",
        "movie_user_likes = \"Avatar\""
      ],
      "execution_count": 63,
      "outputs": []
    },
    {
      "cell_type": "code",
      "metadata": {
        "id": "kz_KgcYJVYnJ"
      },
      "source": [
        "movie_index = get_index_from_title(movie_user_likes)\n",
        "similar_movies = list(enumerate(cosine_sim_2[movie_index]))"
      ],
      "execution_count": 64,
      "outputs": []
    },
    {
      "cell_type": "code",
      "metadata": {
        "id": "n9YzDjCKVc3x"
      },
      "source": [
        "sorted_similar_movies = sorted(similar_movies,key = lambda x:x[1],reverse=True)"
      ],
      "execution_count": 65,
      "outputs": []
    },
    {
      "cell_type": "code",
      "metadata": {
        "id": "5vM9B6m0Vf33",
        "colab": {
          "base_uri": "https://localhost:8080/"
        },
        "outputId": "4d1c3163-61e9-4056-df6c-c6e80ee523f5"
      },
      "source": [
        "i=0\n",
        "for movie in sorted_similar_movies:\n",
        "    print(get_title_from_index(movie[0]))\n",
        "    i+=1\n",
        "    if i>10:\n",
        "        break"
      ],
      "execution_count": 66,
      "outputs": [
        {
          "output_type": "stream",
          "text": [
            "Avatar\n",
            "Aliens\n",
            "Oz: The Great and Powerful\n",
            "Furious 7\n",
            "Guardians of the Galaxy\n",
            "Galaxy Quest\n",
            "Colombiana\n",
            "Snow White: A Tale of Terror\n",
            "Gettysburg\n",
            "Out of the Furnace\n",
            "Imaginary Heroes\n"
          ],
          "name": "stdout"
        }
      ]
    },
    {
      "cell_type": "code",
      "metadata": {
        "id": "BtC7GuW4Vie0"
      },
      "source": [
        ""
      ],
      "execution_count": 66,
      "outputs": []
    }
  ]
}