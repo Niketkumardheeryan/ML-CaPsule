{
  "nbformat": 4,
  "nbformat_minor": 0,
  "metadata": {
    "colab": {
      "provenance": []
    },
    "kernelspec": {
      "name": "python3",
      "display_name": "Python 3"
    },
    "language_info": {
      "name": "python"
    }
  },
  "cells": [
    {
      "cell_type": "markdown",
      "source": [
        "**Feature:**\n",
        "\n",
        "In the context of machine learning, a feature (also known as a variable or attribute) is an individual measurable property or characteristic of a data point that is used as input for a machine learning algorithm. Features can be numerical, categorical, or text-based, and they represent different aspects of the data that are relevant to the problem at hand.\n",
        "\n",
        "For example, in a dataset of housing prices, features could include the number of bedrooms, the square footage, the location, and the age of the property. In a dataset of customer demographics, features could include age, gender, income level, and occupation."
      ],
      "metadata": {
        "id": "FJM4Iw0bkgWB"
      }
    },
    {
      "cell_type": "markdown",
      "source": [
        "**What is Feature Engineering?**\n",
        "\n",
        "Feature engineering is the process of transforming raw data into features that are suitable for machine learning models. In other words, it is the process of selecting, extracting, and transforming the most relevant features from the available data to build more accurate and efficient machine learning models."
      ],
      "metadata": {
        "id": "nBd_QOYEkqjS"
      }
    },
    {
      "cell_type": "markdown",
      "source": [
        "**Why need it?**\n",
        "\n",
        "*Improve User Experience:* The primary reason we engineer features is to enhance the user experience of a product or service. By adding new features, we can make the product more intuitive, efficient, and user-friendly, which can increase user satisfaction and engagement.\n",
        "\n",
        "*Competitive Advantage:* Another reason we engineer features is to gain a competitive advantage in the marketplace. By offering unique and innovative features, we can differentiate our product from competitors and attract more customers.\n",
        "\n",
        "*Meet Customer Needs:* We engineer features to meet the evolving needs of customers. By analyzing user feedback, market trends, and customer behavior, we can identify areas where new features could enhance the product’s value and meet customer needs.\n",
        "\n",
        "*Increase Revenue:*Features can also be engineered to generate more revenue. For example, a new feature that streamlines the checkout process can increase sales, or a feature that provides additional functionality could lead to more upsells or cross-sells.\n",
        "\n",
        "*Future-Proofing:* Engineering features can also be done to future-proof a product or service. By anticipating future trends and potential customer needs, we can develop features that ensure the product remains relevant and useful in the long term."
      ],
      "metadata": {
        "id": "YMjhm2ttk3-u"
      }
    },
    {
      "cell_type": "markdown",
      "source": [
        "![FE.jpeg](data:image/jpeg;base64,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)\n"
      ],
      "metadata": {
        "id": "mo-RDRBBnaqS"
      }
    },
    {
      "cell_type": "markdown",
      "source": [
        "**Processes involved:-**\n",
        "\n",
        "\n",
        "\n",
        "*   Feature Transformation\n",
        "*  Feature Construction\n",
        "\n",
        "*   Feature Extraction\n",
        "*   Feature Selection\n",
        "\n",
        "\n",
        "\n",
        "\n"
      ],
      "metadata": {
        "id": "5ktJo71NlOWX"
      }
    },
    {
      "cell_type": "markdown",
      "source": [
        "**FEATURE TRANSFORMATION:-**\n",
        "\n",
        "Feature Transformation is the process of transforming the features into a more suitable representation for the machine learning model. This is done to ensure that the model can effectively learn from the data.\n",
        "\n",
        "\n",
        "*   Missing Value Imputation\n",
        "*   Handling Categorical Values\n",
        "*   Outlier Detection\n",
        "*   Feature Scaling\n",
        "\n",
        "\n",
        "\n"
      ],
      "metadata": {
        "id": "UwP0whdOln-9"
      }
    },
    {
      "cell_type": "markdown",
      "source": [
        "1.) Missing Value Imputation\n",
        "\n",
        "Missing value imputation is a critical step in data preprocessing where missing data points are filled in with estimated values.\n",
        "\n",
        "\n",
        "\n",
        "*   Simple Imputation\n",
        "\n",
        "*   K-Nearest Neighbours (KNN) Imputation\n",
        "*   Multivariate Imputation by Chained Equations (MICE)\n",
        "\n",
        "\n",
        "\n"
      ],
      "metadata": {
        "id": "doS0PSS1pxu4"
      }
    },
    {
      "cell_type": "markdown",
      "source": [
        "**SIMPLE IMPUTATION**"
      ],
      "metadata": {
        "id": "VcKzkrNjmBdf"
      }
    },
    {
      "cell_type": "code",
      "source": [
        "#Simple Imputation\n",
        "#Lets first create Some sample dataset\n",
        "import numpy as np\n",
        "import pandas as pd\n",
        "\n",
        "# Sample DataFrame\n",
        "data = {\n",
        "    'A': [1, 2, np.nan, 4, 5],\n",
        "    'B': [np.nan, 2, 3, 4, 5],\n",
        "    'C': ['cat', 'dog', np.nan, 'mouse', 'rabbit']\n",
        "}\n",
        "df = pd.DataFrame(data)\n",
        "print(\"Original DataFrame:\")\n",
        "print(df)\n"
      ],
      "metadata": {
        "colab": {
          "base_uri": "https://localhost:8080/"
        },
        "id": "ymWRE6I2n4kn",
        "outputId": "fcd03b07-cb99-4bd4-8959-edf3cb3bbf18"
      },
      "execution_count": null,
      "outputs": [
        {
          "output_type": "stream",
          "name": "stdout",
          "text": [
            "Original DataFrame:\n",
            "     A    B       C\n",
            "0  1.0  NaN     cat\n",
            "1  2.0  2.0     dog\n",
            "2  NaN  3.0     NaN\n",
            "3  4.0  4.0   mouse\n",
            "4  5.0  5.0  rabbit\n"
          ]
        }
      ]
    },
    {
      "cell_type": "markdown",
      "source": [
        "Mean Imputation"
      ],
      "metadata": {
        "id": "PsTMpskGrA-c"
      }
    },
    {
      "cell_type": "code",
      "source": [
        "from sklearn.impute import SimpleImputer\n",
        "\n",
        "# Mean Imputation for numerical columns\n",
        "mean_imputer = SimpleImputer(strategy='mean')\n",
        "df['A'] = mean_imputer.fit_transform(df[['A']])\n",
        "\n",
        "print(\"\\nDataFrame after Mean Imputation:\")\n",
        "print(df)\n"
      ],
      "metadata": {
        "id": "0SZqftySrGF8",
        "colab": {
          "base_uri": "https://localhost:8080/"
        },
        "outputId": "f9b05fb8-3d64-42d3-b712-773644890db6"
      },
      "execution_count": null,
      "outputs": [
        {
          "output_type": "stream",
          "name": "stdout",
          "text": [
            "\n",
            "DataFrame after Mean Imputation:\n",
            "     A    B       C\n",
            "0  1.0  NaN     cat\n",
            "1  2.0  2.0     dog\n",
            "2  3.0  3.0     NaN\n",
            "3  4.0  4.0   mouse\n",
            "4  5.0  5.0  rabbit\n"
          ]
        }
      ]
    },
    {
      "cell_type": "markdown",
      "source": [
        "The above code performs Mean imputation.\n",
        "\n",
        "Replacing missing values with the mean of the column\n",
        "\n",
        "`SimpleImputer` is a class in the `sklearn.impute` module of the Scikit-learn library, used for handling missing data by providing basic strategies for imputing missing values. It replaces missing values with specified constant values or statistical values (like mean, median, or mode) of the corresponding column.\n",
        "\n",
        "Above code selects the column A and then replaces `NaN` with mean of the column"
      ],
      "metadata": {
        "id": "KAuVwSqmrLhG"
      }
    },
    {
      "cell_type": "code",
      "source": [
        "# Median Imputation for numerical columns\n",
        "median_imputer = SimpleImputer(strategy='median')\n",
        "df['B'] = median_imputer.fit_transform(df[['B']])\n",
        "\n",
        "print(\"\\nDataFrame after Median Imputation:\")\n",
        "print(df)\n"
      ],
      "metadata": {
        "colab": {
          "base_uri": "https://localhost:8080/"
        },
        "id": "1T52n51_lRjY",
        "outputId": "540ccf54-4c1f-468d-c501-dff7effbbd47"
      },
      "execution_count": null,
      "outputs": [
        {
          "output_type": "stream",
          "name": "stdout",
          "text": [
            "\n",
            "DataFrame after Median Imputation:\n",
            "     A    B       C\n",
            "0  1.0  3.5     cat\n",
            "1  2.0  2.0     dog\n",
            "2  3.0  3.0     NaN\n",
            "3  4.0  4.0   mouse\n",
            "4  5.0  5.0  rabbit\n"
          ]
        }
      ]
    },
    {
      "cell_type": "markdown",
      "source": [
        "Above code is for median imputation.\n",
        "\n",
        "Replacing missing values with the median of the column. Useful for skewed distributions.\n",
        "\n",
        "Above code selects the column B and then replaces `Nan` with the median of the column."
      ],
      "metadata": {
        "id": "cUhXgXZ9loow"
      }
    },
    {
      "cell_type": "markdown",
      "source": [
        "**KNN IMPUTATION**"
      ],
      "metadata": {
        "id": "M8GaZwqGmHIf"
      }
    },
    {
      "cell_type": "code",
      "source": [
        "import numpy as np\n",
        "import pandas as pd\n",
        "from sklearn.impute import KNNImputer\n",
        "# Sample DataFrame\n",
        "data = {\n",
        "    'A': [1, 2, np.nan, 4, 5],\n",
        "    'B': [np.nan, 2, 3, 4, 5],\n",
        "    'C': [7, 8, 9, np.nan, 11]\n",
        "}\n",
        "df = pd.DataFrame(data)\n",
        "print(\"Original DataFrame:\")\n",
        "print(df)\n",
        "# Initialize the KNNImputer\n",
        "knn_imputer = KNNImputer(n_neighbors=3)\n",
        "\n",
        "# Fit the imputer and transform the data\n",
        "df_imputed = pd.DataFrame(knn_imputer.fit_transform(df), columns=df.columns)\n",
        "\n",
        "print(\"\\nDataFrame after KNN Imputation:\")\n",
        "print(df_imputed)\n"
      ],
      "metadata": {
        "colab": {
          "base_uri": "https://localhost:8080/"
        },
        "id": "ezve_Zhdl56r",
        "outputId": "08252ec3-9679-4237-8eb1-cda3e32776a1"
      },
      "execution_count": null,
      "outputs": [
        {
          "output_type": "stream",
          "name": "stdout",
          "text": [
            "Original DataFrame:\n",
            "     A    B     C\n",
            "0  1.0  NaN   7.0\n",
            "1  2.0  2.0   8.0\n",
            "2  NaN  3.0   9.0\n",
            "3  4.0  4.0   NaN\n",
            "4  5.0  5.0  11.0\n",
            "\n",
            "DataFrame after KNN Imputation:\n",
            "          A    B          C\n",
            "0  1.000000  3.0   7.000000\n",
            "1  2.000000  2.0   8.000000\n",
            "2  2.333333  3.0   9.000000\n",
            "3  4.000000  4.0   9.333333\n",
            "4  5.000000  5.0  11.000000\n"
          ]
        }
      ]
    },
    {
      "cell_type": "markdown",
      "source": [
        "KNN (K-Nearest Neighbors) imputation is a method that replaces missing values by considering the values of the nearest neighbors. The KNN imputer finds the k-nearest neighbors of an instance with missing values and then uses their values to fill in the gaps. This method can handle both numerical and categorical data, and it tends to be more robust than simpler imputation methods like mean or median imputation.\n",
        "\n",
        "Scikit-learn provides a `KNNImputer` class in the `sklearn.impute` module, which makes it straightforward to perform KNN imputation."
      ],
      "metadata": {
        "id": "rD29hCf7mvhk"
      }
    },
    {
      "cell_type": "markdown",
      "source": [
        "**MULTIVARIATE IMPUTATION BY CHAINED EQUATIONS**"
      ],
      "metadata": {
        "id": "eLbSBNJ1m6pt"
      }
    },
    {
      "cell_type": "code",
      "source": [
        "import numpy as np\n",
        "import pandas as pd\n",
        "from sklearn.experimental import enable_iterative_imputer\n",
        "from sklearn.impute import IterativeImputer\n",
        "\n",
        "# Sample DataFrame\n",
        "data = {\n",
        "    'A': [1, 2, np.nan, 4, 5],\n",
        "    'B': [np.nan, 2, 3, 4, 5],\n",
        "    'C': [7, 8, 9, np.nan, 11]\n",
        "}\n",
        "df = pd.DataFrame(data)\n",
        "print(\"Original DataFrame:\")\n",
        "print(df)\n",
        "\n",
        "# Initialize the IterativeImputer\n",
        "mice_imputer = IterativeImputer(max_iter=10, random_state=0)\n",
        "\n",
        "# Fit the imputer and transform the data\n",
        "df_imputed = pd.DataFrame(mice_imputer.fit_transform(df), columns=df.columns)\n",
        "\n",
        "print(\"\\nDataFrame after MICE Imputation:\")\n",
        "print(df_imputed)\n"
      ],
      "metadata": {
        "colab": {
          "base_uri": "https://localhost:8080/"
        },
        "id": "kWowQuK7m4mp",
        "outputId": "ee640f49-9dec-4584-c7f8-58f5a7664d65"
      },
      "execution_count": null,
      "outputs": [
        {
          "output_type": "stream",
          "name": "stdout",
          "text": [
            "Original DataFrame:\n",
            "     A    B     C\n",
            "0  1.0  NaN   7.0\n",
            "1  2.0  2.0   8.0\n",
            "2  NaN  3.0   9.0\n",
            "3  4.0  4.0   NaN\n",
            "4  5.0  5.0  11.0\n",
            "\n",
            "DataFrame after MICE Imputation:\n",
            "         A         B          C\n",
            "0  1.00000  0.999988   7.000000\n",
            "1  2.00000  2.000000   8.000000\n",
            "2  3.00005  3.000000   9.000000\n",
            "3  4.00000  4.000000   9.999993\n",
            "4  5.00000  5.000000  11.000000\n"
          ]
        }
      ]
    },
    {
      "cell_type": "markdown",
      "source": [
        "Multivariate Imputation by Chained Equations (MICE), also known as Fully Conditional Specification (FCS), is a method for handling missing data by iteratively imputing each missing value using a regression model. It allows for complex relationships between variables and can provide more accurate imputations than simpler methods.\n",
        "\n",
        "In this example, the `IterativeImputer` iteratively imputes the missing values in columns 'A', 'B', and 'C' using regression models. This imputation method takes into account the relationships between all the columns, providing a more accurate imputation than simpler methods."
      ],
      "metadata": {
        "id": "YkR9FGZ_nVB8"
      }
    },
    {
      "cell_type": "markdown",
      "source": [
        "2.)Handling categorical values\n",
        "Handling categorical values is a critical step in feature transformation for machine learning. Categorical data can be transformed into numerical values in various ways to make them suitable for modeling.\n",
        "\n",
        "Common techniques used to handle categorical values:-\n",
        "\n",
        "\n",
        "\n",
        "*   One Hot Encoding\n",
        "*   Label Encoding\n",
        "\n",
        "*   Ordinal Encoding\n",
        "\n",
        "\n",
        "\n",
        "\n"
      ],
      "metadata": {
        "id": "qiD2mX7fnw95"
      }
    },
    {
      "cell_type": "markdown",
      "source": [
        "**One-Hot Encoding**\n",
        "\n",
        "One-hot encoding transforms categorical variables into a set of binary columns. Each category is represented as a binary column (0 or 1)."
      ],
      "metadata": {
        "id": "uKpUDh4CoLNQ"
      }
    },
    {
      "cell_type": "code",
      "source": [
        "import pandas as pd\n",
        "from sklearn.preprocessing import OneHotEncoder\n",
        "\n",
        "# Sample DataFrame\n",
        "data = {'Color': ['Red', 'Blue', 'Green', 'Blue', 'Red']}\n",
        "df = pd.DataFrame(data)\n",
        "\n",
        "# Initialize the OneHotEncoder\n",
        "onehot_encoder = OneHotEncoder(sparse_output=False)\n",
        "\n",
        "# Fit and transform the data\n",
        "onehot_encoded = onehot_encoder.fit_transform(df[['Color']])\n",
        "\n",
        "# Create a DataFrame with the encoded features\n",
        "onehot_encoded_df = pd.DataFrame(onehot_encoded, columns=onehot_encoder.get_feature_names_out(['Color']))\n",
        "\n",
        "print(onehot_encoded_df)\n"
      ],
      "metadata": {
        "colab": {
          "base_uri": "https://localhost:8080/"
        },
        "id": "O63hkc4En70c",
        "outputId": "ce6aca14-0138-4abf-c8eb-e4873d95aaab"
      },
      "execution_count": null,
      "outputs": [
        {
          "output_type": "stream",
          "name": "stdout",
          "text": [
            "   Color_Blue  Color_Green  Color_Red\n",
            "0         0.0          0.0        1.0\n",
            "1         1.0          0.0        0.0\n",
            "2         0.0          1.0        0.0\n",
            "3         1.0          0.0        0.0\n",
            "4         0.0          0.0        1.0\n"
          ]
        }
      ]
    },
    {
      "cell_type": "markdown",
      "source": [
        "Above code performs one hot encoding. `get_features_names_out` extracts the features present in the dataset."
      ],
      "metadata": {
        "id": "c3gPwUGXojrW"
      }
    },
    {
      "cell_type": "code",
      "source": [],
      "metadata": {
        "id": "KuxPHJqio6Hb"
      },
      "execution_count": null,
      "outputs": []
    },
    {
      "cell_type": "markdown",
      "source": [
        "**Label Encoding**\n",
        "\n",
        "Label encoding converts each category into a numerical value. This can be useful for ordinal data but may not be suitable for nominal data since it introduces an ordinal relationship between categories."
      ],
      "metadata": {
        "id": "eCZlI20opC46"
      }
    },
    {
      "cell_type": "code",
      "source": [
        "from sklearn.preprocessing import LabelEncoder\n",
        "\n",
        "# Sample DataFrame\n",
        "data = {'Color': ['Red', 'Blue', 'Green', 'Blue', 'Red']}\n",
        "df = pd.DataFrame(data)\n",
        "\n",
        "# Initialize the LabelEncoder\n",
        "label_encoder = LabelEncoder()\n",
        "\n",
        "# Fit and transform the data\n",
        "df['Color_Encoded'] = label_encoder.fit_transform(df['Color'])\n",
        "\n",
        "print(df)\n"
      ],
      "metadata": {
        "colab": {
          "base_uri": "https://localhost:8080/"
        },
        "id": "cZOTxL1DpKED",
        "outputId": "488b8473-b883-4ff8-dd0b-8bd344910069"
      },
      "execution_count": null,
      "outputs": [
        {
          "output_type": "stream",
          "name": "stdout",
          "text": [
            "   Color  Color_Encoded\n",
            "0    Red              2\n",
            "1   Blue              0\n",
            "2  Green              1\n",
            "3   Blue              0\n",
            "4    Red              2\n"
          ]
        }
      ]
    },
    {
      "cell_type": "markdown",
      "source": [
        "`LabelEncoder` assigns each color in the above code with a numerical value.\n",
        "\n",
        "Blue - 0\n",
        "\n",
        "Green - 1\n",
        "\n",
        "Red - 2"
      ],
      "metadata": {
        "id": "OmujDyE8pNsQ"
      }
    },
    {
      "cell_type": "markdown",
      "source": [
        "**Ordinal Encoding**\n",
        "\n",
        "Ordinal encoding is useful for ordinal categorical data where there is an inherent order. It assigns integers to categories while preserving the order."
      ],
      "metadata": {
        "id": "KgoQ8EC5pfsl"
      }
    },
    {
      "cell_type": "code",
      "source": [
        "from sklearn.preprocessing import OrdinalEncoder\n",
        "\n",
        "# Sample DataFrame\n",
        "data = {'Size': ['Small', 'Medium', 'Large', 'Medium', 'Small']}\n",
        "df = pd.DataFrame(data)\n",
        "\n",
        "# Initialize the OrdinalEncoder\n",
        "ordinal_encoder = OrdinalEncoder(categories=[['Small', 'Medium', 'Large']])\n",
        "\n",
        "# Fit and transform the data\n",
        "df['Size_Encoded'] = ordinal_encoder.fit_transform(df[['Size']])\n",
        "\n",
        "print(df)\n"
      ],
      "metadata": {
        "colab": {
          "base_uri": "https://localhost:8080/"
        },
        "id": "-wc7gjADpV1F",
        "outputId": "63ec25a4-ba15-4c2e-96db-d9696a7d921d"
      },
      "execution_count": null,
      "outputs": [
        {
          "output_type": "stream",
          "name": "stdout",
          "text": [
            "     Size  Size_Encoded\n",
            "0   Small           0.0\n",
            "1  Medium           1.0\n",
            "2   Large           2.0\n",
            "3  Medium           1.0\n",
            "4   Small           0.0\n"
          ]
        }
      ]
    },
    {
      "cell_type": "markdown",
      "source": [
        "Above code encodes the ordinal data [Small,Medium,Large] based on their ranking by assigning a numerical value to it ."
      ],
      "metadata": {
        "id": "X0PFqbkGqie4"
      }
    },
    {
      "cell_type": "markdown",
      "source": [
        "3.)Outlier Detection:Outlier detection is an important step in data preprocessing as outliers can significantly affect the performance of machine learning models. Outliers are data points that differ significantly from other observations in the dataset. Detecting and handling outliers can improve model accuracy and reliability.\n",
        "\n",
        "Here are some common techniques for detecting outliers:\n",
        "\n",
        "\n",
        "*   Z-score\n",
        "*   Interquartile Range (IQR)\n",
        "\n"
      ],
      "metadata": {
        "id": "71FgOCXzqyWt"
      }
    },
    {
      "cell_type": "markdown",
      "source": [
        " **Z-Score (Standard Score)**\n",
        "\n",
        "Z-score is a measure of how many standard deviations a data point is from the mean. It assumes that the data follows a Gaussian (normal) distribution.\n",
        "\n",
        "![Zscore](https://tse4.mm.bing.net/th?id=OIP.WF_pHaZPSWI5RNvMOcH8zQAAAA&pid=Api&P=0&h=180)"
      ],
      "metadata": {
        "id": "69EnmpJ4rYpZ"
      }
    },
    {
      "cell_type": "code",
      "source": [
        "import numpy as np\n",
        "import pandas as pd\n",
        "\n",
        "# Sample DataFrame\n",
        "data = {'Value': [10, 12, 12, 13, 12, 14, 100, 12, 15, 10, 12]}\n",
        "df = pd.DataFrame(data)\n",
        "\n",
        "# Calculate Z-scores\n",
        "df['Z-Score'] = (df['Value'] - df['Value'].mean()) / df['Value'].std()\n",
        "\n",
        "# Identify outliers\n",
        "threshold = 3\n",
        "df['Outlier'] = df['Z-Score'].abs() > threshold\n",
        "\n",
        "print(df)\n"
      ],
      "metadata": {
        "colab": {
          "base_uri": "https://localhost:8080/"
        },
        "id": "C84Qz5tiqvrc",
        "outputId": "2925fe35-cc45-499f-9519-1048b5ad330c"
      },
      "execution_count": null,
      "outputs": [
        {
          "output_type": "stream",
          "name": "stdout",
          "text": [
            "    Value   Z-Score  Outlier\n",
            "0      10 -0.384024    False\n",
            "1      12 -0.308591    False\n",
            "2      12 -0.308591    False\n",
            "3      13 -0.270874    False\n",
            "4      12 -0.308591    False\n",
            "5      14 -0.233158    False\n",
            "6     100  3.010478     True\n",
            "7      12 -0.308591    False\n",
            "8      15 -0.195441    False\n",
            "9      10 -0.384024    False\n",
            "10     12 -0.308591    False\n"
          ]
        }
      ]
    },
    {
      "cell_type": "markdown",
      "source": [
        "Particular data item z-score is calculated and if value is greater than given threshold value then it returns `True` else `False`"
      ],
      "metadata": {
        "id": "wsL6SaaTsADa"
      }
    },
    {
      "cell_type": "markdown",
      "source": [
        "Interquartile Range (IQR)\n",
        "\n",
        "The IQR method is based on the quartiles of the data. Outliers are defined as points outside the range [Q1 - 1.5 * IQR, Q3 + 1.5 * IQR], where Q1 is the first quartile and Q3 is the third quartile."
      ],
      "metadata": {
        "id": "QGLYZmaksSkg"
      }
    },
    {
      "cell_type": "code",
      "source": [
        "# Calculate IQR\n",
        "Q1 = df['Value'].quantile(0.25)\n",
        "Q3 = df['Value'].quantile(0.75)\n",
        "IQR = Q3 - Q1\n",
        "\n",
        "# Define outlier thresholds\n",
        "lower_bound = Q1 - 1.5 * IQR\n",
        "upper_bound = Q3 + 1.5 * IQR\n",
        "\n",
        "# Identify outliers\n",
        "df['Outlier'] = (df['Value'] < lower_bound) | (df['Value'] > upper_bound)\n",
        "\n",
        "print(df)\n"
      ],
      "metadata": {
        "colab": {
          "base_uri": "https://localhost:8080/"
        },
        "id": "tDYtoa1PsQDq",
        "outputId": "ec9ceef1-0fc9-4b77-b412-817ed344fd4e"
      },
      "execution_count": null,
      "outputs": [
        {
          "output_type": "stream",
          "name": "stdout",
          "text": [
            "    Value   Z-Score  Outlier\n",
            "0      10 -0.384024    False\n",
            "1      12 -0.308591    False\n",
            "2      12 -0.308591    False\n",
            "3      13 -0.270874    False\n",
            "4      12 -0.308591    False\n",
            "5      14 -0.233158    False\n",
            "6     100  3.010478     True\n",
            "7      12 -0.308591    False\n",
            "8      15 -0.195441    False\n",
            "9      10 -0.384024    False\n",
            "10     12 -0.308591    False\n"
          ]
        }
      ]
    },
    {
      "cell_type": "markdown",
      "source": [
        "lower_bound and upper_bound mentions the range. Below lower_bound or above upper_bound then data point is said to be an outlier"
      ],
      "metadata": {
        "id": "OcWSMnENsj8e"
      }
    },
    {
      "cell_type": "code",
      "source": [
        "import matplotlib.pyplot as plt\n",
        "\n",
        "# Create a box plot\n",
        "plt.boxplot(df['Value'])\n",
        "plt.title('Box Plot for Outlier Detection')\n",
        "plt.ylabel('Value')\n",
        "plt.show()\n"
      ],
      "metadata": {
        "colab": {
          "base_uri": "https://localhost:8080/",
          "height": 452
        },
        "id": "4w9Wtf0_s1gi",
        "outputId": "e1669bfb-ed3c-4b73-e18c-f82c03e74d89"
      },
      "execution_count": null,
      "outputs": [
        {
          "output_type": "display_data",
          "data": {
            "text/plain": [
              "<Figure size 640x480 with 1 Axes>"
            ],
            "image/png": "[encoded data removed]"
          },
          "metadata": {}
        }
      ]
    },
    {
      "cell_type": "markdown",
      "source": [
        "Box plot helps in visualizing the outliers."
      ],
      "metadata": {
        "id": "VpZy2C2CtADT"
      }
    },
    {
      "cell_type": "markdown",
      "source": [
        "4.)Feature Scaling:Feature scaling is a crucial step in data preprocessing for machine learning. It ensures that the numerical features are on a similar scale, which can improve the performance of many machine learning algorithms.\n",
        "\n",
        "Here are some common methods of feature scaling:\n",
        "\n",
        "\n",
        "*   Standardization\n",
        "*   Normalisation\n",
        "\n",
        "\n",
        "  \n",
        "\n",
        "\n",
        "\n",
        "\n",
        "\n",
        "\n",
        "\n"
      ],
      "metadata": {
        "id": "kZJ1n3l3tLC8"
      }
    },
    {
      "cell_type": "markdown",
      "source": [
        "**Standardization**\n",
        "\n",
        "It is also called z-score Normalisation.\n",
        "\n",
        "`Z = (X - μ) / σ`\n",
        "\n"
      ],
      "metadata": {
        "id": "8kMW8dUTtp7q"
      }
    },
    {
      "cell_type": "code",
      "source": [
        "from sklearn.preprocessing import StandardScaler\n",
        "\n",
        "# Initialize the StandardScaler\n",
        "scaler = StandardScaler()\n",
        "\n",
        "# Fit and transform the data\n",
        "df['Value_Standardized'] = scaler.fit_transform(df[['Value']])\n",
        "\n",
        "print(df)\n"
      ],
      "metadata": {
        "colab": {
          "base_uri": "https://localhost:8080/"
        },
        "id": "j9vvGV-Lt4kY",
        "outputId": "9373f0fc-98a6-45b7-84e3-25528f7e00f5"
      },
      "execution_count": null,
      "outputs": [
        {
          "output_type": "stream",
          "name": "stdout",
          "text": [
            "    Value   Z-Score  Outlier  Value_Standardized\n",
            "0      10 -0.384024    False           -0.402768\n",
            "1      12 -0.308591    False           -0.323653\n",
            "2      12 -0.308591    False           -0.323653\n",
            "3      13 -0.270874    False           -0.284095\n",
            "4      12 -0.308591    False           -0.323653\n",
            "5      14 -0.233158    False           -0.244538\n",
            "6     100  3.010478     True            3.157416\n",
            "7      12 -0.308591    False           -0.323653\n",
            "8      15 -0.195441    False           -0.204980\n",
            "9      10 -0.384024    False           -0.402768\n",
            "10     12 -0.308591    False           -0.323653\n"
          ]
        }
      ]
    },
    {
      "cell_type": "markdown",
      "source": [
        "Above code uses `StandardScaler` to standardize the values"
      ],
      "metadata": {
        "id": "R_Mkxw1muuCY"
      }
    },
    {
      "cell_type": "markdown",
      "source": [
        "**Normalisation**\n",
        "\n",
        "\n",
        "\n",
        "*   MinMax Scaling\n",
        "*   Robust Scaling\n",
        "\n",
        "*   MaxAbs Scaling\n",
        "\n",
        "\n",
        "\n",
        "\n"
      ],
      "metadata": {
        "id": "DsEutBJVvRtE"
      }
    },
    {
      "cell_type": "markdown",
      "source": [
        "**MinMax Scaling**\n",
        "\n",
        "Min-max scaling transforms the features to a fixed range, usually [0, 1].\n",
        "\n",
        "![MinMax](https://tse4.mm.bing.net/th?id=OIP.vBO3wyehnnOLY67eMrXt7wHaCS&pid=Api&P=0&h=180)\n",
        "\n",
        "\n"
      ],
      "metadata": {
        "id": "cr-Lvh-1vi3e"
      }
    },
    {
      "cell_type": "code",
      "source": [
        "import pandas as pd\n",
        "from sklearn.preprocessing import MinMaxScaler\n",
        "\n",
        "# Sample DataFrame\n",
        "data = {'Value': [10, 20, 30, 40, 50]}\n",
        "df = pd.DataFrame(data)\n",
        "\n",
        "# Initialize the MinMaxScaler\n",
        "scaler = MinMaxScaler()\n",
        "\n",
        "# Fit and transform the data\n",
        "df['Value_Scaled'] = scaler.fit_transform(df[['Value']])\n",
        "\n",
        "print(df)\n"
      ],
      "metadata": {
        "colab": {
          "base_uri": "https://localhost:8080/"
        },
        "id": "s2IEsDN4wTGF",
        "outputId": "f5452a2b-4b45-4a8a-b642-b7d3a3bd4af3"
      },
      "execution_count": null,
      "outputs": [
        {
          "output_type": "stream",
          "name": "stdout",
          "text": [
            "   Value  Value_Scaled\n",
            "0     10          0.00\n",
            "1     20          0.25\n",
            "2     30          0.50\n",
            "3     40          0.75\n",
            "4     50          1.00\n"
          ]
        }
      ]
    },
    {
      "cell_type": "markdown",
      "source": [
        "`MinMaxScaler` is used to perform MinMaxScaling."
      ],
      "metadata": {
        "id": "QjlkSl0swXRd"
      }
    },
    {
      "cell_type": "markdown",
      "source": [
        "**Robust Scaling**\n",
        "\n",
        "Robust scaling uses the median and the interquartile range (IQR). It is useful for data with outliers.\n",
        "\n",
        "![Robust](https://tse1.mm.bing.net/th?id=OIP.g0PtmCXLTAQJmzKyAUJQPAAAAA&pid=Api&P=0&h=180)\n",
        "\n"
      ],
      "metadata": {
        "id": "yK0mwNHO4YsZ"
      }
    },
    {
      "cell_type": "code",
      "source": [
        "from sklearn.preprocessing import RobustScaler\n",
        "\n",
        "# Initialize the RobustScaler\n",
        "scaler = RobustScaler()\n",
        "\n",
        "# Fit and transform the data\n",
        "df['Value_Robust'] = scaler.fit_transform(df[['Value']])\n",
        "\n",
        "print(df)\n"
      ],
      "metadata": {
        "colab": {
          "base_uri": "https://localhost:8080/"
        },
        "id": "tr778Gz54d0i",
        "outputId": "828f56cf-3839-43e3-9d3a-7be028ced9f1"
      },
      "execution_count": null,
      "outputs": [
        {
          "output_type": "stream",
          "name": "stdout",
          "text": [
            "   Value  Value_Scaled  Value_Robust\n",
            "0     10          0.00          -1.0\n",
            "1     20          0.25          -0.5\n",
            "2     30          0.50           0.0\n",
            "3     40          0.75           0.5\n",
            "4     50          1.00           1.0\n"
          ]
        }
      ]
    },
    {
      "cell_type": "markdown",
      "source": [
        "`RobustScaler'  is used for performing Robust Scaling"
      ],
      "metadata": {
        "id": "eeG-nYC14gZW"
      }
    },
    {
      "cell_type": "markdown",
      "source": [
        "**MaxAbs Scaling**\n",
        "\n",
        "MaxAbs scaling scales each feature by its maximum absolute value. The result is a dataset where each feature has a range of [-1, 1].\n",
        "\n",
        "![MaxAbs](https://tse4.mm.bing.net/th?id=OIP.dQzNvcQua99b3Pwyk0VnoAAAAA&pid=Api&P=0&h=180)\n"
      ],
      "metadata": {
        "id": "P_2kSGwo4jpL"
      }
    },
    {
      "cell_type": "code",
      "source": [
        "from sklearn.preprocessing import MaxAbsScaler\n",
        "\n",
        "# Initialize the MaxAbsScaler\n",
        "scaler = MaxAbsScaler()\n",
        "\n",
        "# Fit and transform the data\n",
        "df['Value_MaxAbs'] = scaler.fit_transform(df[['Value']])\n",
        "\n",
        "print(df)\n"
      ],
      "metadata": {
        "colab": {
          "base_uri": "https://localhost:8080/"
        },
        "id": "ATKtNvjz4nQp",
        "outputId": "ea83c152-680e-49ed-a601-8a2743c078db"
      },
      "execution_count": null,
      "outputs": [
        {
          "output_type": "stream",
          "name": "stdout",
          "text": [
            "   Value  Value_Scaled  Value_Robust  Value_MaxAbs\n",
            "0     10          0.00          -1.0           0.2\n",
            "1     20          0.25          -0.5           0.4\n",
            "2     30          0.50           0.0           0.6\n",
            "3     40          0.75           0.5           0.8\n",
            "4     50          1.00           1.0           1.0\n"
          ]
        }
      ]
    },
    {
      "cell_type": "markdown",
      "source": [
        "`MaxAbsScaler` performs the MaxAbs Scaling\n"
      ],
      "metadata": {
        "id": "K63g-_hO4q1k"
      }
    },
    {
      "cell_type": "markdown",
      "source": [
        "**FEATURE CONSTRUCTION**\n",
        "\n",
        "Feature construction, involves creating new features from the existing ones to improve the performance of machine learning models.\n",
        "\n",
        "\n",
        "*   Polynomial Features\n",
        "*   Interaction Features\n",
        "\n",
        "*   Logarithmic and Exponential Transformations\n",
        "\n",
        "\n",
        "\n",
        "\n"
      ],
      "metadata": {
        "id": "ptiDogHP5ai8"
      }
    },
    {
      "cell_type": "markdown",
      "source": [
        "**Polynomial Features**\n",
        "\n",
        "Creating polynomial features involves generating new features by taking combinations of existing features to a certain power."
      ],
      "metadata": {
        "id": "fiY_V-QW6yIg"
      }
    },
    {
      "cell_type": "code",
      "source": [
        "from sklearn.preprocessing import PolynomialFeatures\n",
        "\n",
        "# Sample data\n",
        "X = [[2, 3], [3, 4], [4, 5]]\n",
        "\n",
        "# Create polynomial features\n",
        "poly = PolynomialFeatures(degree=2)\n",
        "X_poly = poly.fit_transform(X)\n",
        "\n",
        "print(X_poly)\n"
      ],
      "metadata": {
        "colab": {
          "base_uri": "https://localhost:8080/"
        },
        "id": "CaYd_I1s6j__",
        "outputId": "ca3e972f-5205-40f7-cdc5-3f03379aface"
      },
      "execution_count": null,
      "outputs": [
        {
          "output_type": "stream",
          "name": "stdout",
          "text": [
            "[[ 1.  2.  3.  4.  6.  9.]\n",
            " [ 1.  3.  4.  9. 12. 16.]\n",
            " [ 1.  4.  5. 16. 20. 25.]]\n"
          ]
        }
      ]
    },
    {
      "cell_type": "markdown",
      "source": [
        "If you have a feature\n",
        "X , polynomial features could be X^2, X^3\n",
        "\n"
      ],
      "metadata": {
        "id": "nH5rEUOe7CLj"
      }
    },
    {
      "cell_type": "markdown",
      "source": [
        "**Interaction Features**\n",
        "\n",
        "Interaction features are created by multiplying two or more existing features to capture interactions between variables."
      ],
      "metadata": {
        "id": "NHfrsjOQ7b78"
      }
    },
    {
      "cell_type": "code",
      "source": [
        "import pandas as pd\n",
        "\n",
        "# Sample data\n",
        "X = pd.DataFrame({'X1': [1, 2, 3], 'X2': [4, 5, 6]})\n",
        "\n",
        "# Create interaction features\n",
        "X['X1_X2'] = X['X1'] * X['X2']\n",
        "\n",
        "print(X)\n"
      ],
      "metadata": {
        "colab": {
          "base_uri": "https://localhost:8080/"
        },
        "id": "lsUSUEhu7s_g",
        "outputId": "c9026340-9043-4f2a-b2da-fe0232917b34"
      },
      "execution_count": null,
      "outputs": [
        {
          "output_type": "stream",
          "name": "stdout",
          "text": [
            "   X1  X2  X1_X2\n",
            "0   1   4      4\n",
            "1   2   5     10\n",
            "2   3   6     18\n"
          ]
        }
      ]
    },
    {
      "cell_type": "markdown",
      "source": [
        "For features\n",
        "𝑋1 and 𝑋2, interaction features could be\n",
        "𝑋\n",
        "1\n",
        "×\n",
        "𝑋\n",
        "2\n"
      ],
      "metadata": {
        "id": "xzQQVX7x7wHE"
      }
    },
    {
      "cell_type": "markdown",
      "source": [
        "**Logarithmic and Exponential Transformations**\n",
        "\n",
        "Applying logarithmic or exponential transformations can stabilize variance and make the data more normally distributed."
      ],
      "metadata": {
        "id": "X29gXdlr8Fy4"
      }
    },
    {
      "cell_type": "code",
      "source": [
        "import numpy as np\n",
        "\n",
        "# Sample data\n",
        "X = np.array([1, 2, 3, 4, 5])\n",
        "\n",
        "# Apply logarithmic transformation\n",
        "X_log = np.log(X)\n",
        "\n",
        "print(X_log)\n"
      ],
      "metadata": {
        "colab": {
          "base_uri": "https://localhost:8080/"
        },
        "id": "je0xx6x58B22",
        "outputId": "9b0e5b83-76de-4ce3-98d6-df099bc3a978"
      },
      "execution_count": null,
      "outputs": [
        {
          "output_type": "stream",
          "name": "stdout",
          "text": [
            "[0.         0.69314718 1.09861229 1.38629436 1.60943791]\n"
          ]
        }
      ]
    },
    {
      "cell_type": "markdown",
      "source": [
        "For a feature\n",
        "𝑋\n",
        ", a logarithmic transformation could be\n",
        "log\n",
        "(\n",
        "𝑋\n",
        ")\n"
      ],
      "metadata": {
        "id": "OEOVJIBm8Pqs"
      }
    },
    {
      "cell_type": "markdown",
      "source": [
        "**FEATURE EXTRACTION**\n",
        "\n",
        "Feature extraction is a process of transforming raw data into a set of features that can be used for machine learning models. The goal is to reduce the dimensionality of the data while preserving its relevant information.\n",
        "\n",
        "\n",
        "\n",
        "\n",
        "*  Principal Component Analysis\n",
        "*  Linear Discriminant Analysis\n",
        "\n"
      ],
      "metadata": {
        "id": "WTfU8mu-8WeM"
      }
    },
    {
      "cell_type": "markdown",
      "source": [
        "**Principal Component Analysis (PCA)**\n",
        "\n",
        "Principal Component Analysis (PCA) is a technique that transforms the data into a new coordinate system such that the greatest variances by any projection of the data come to lie on the first coordinates (called principal components)."
      ],
      "metadata": {
        "id": "v8lJJ65I8tg6"
      }
    },
    {
      "cell_type": "code",
      "source": [
        "from sklearn.decomposition import PCA\n",
        "import numpy as np\n",
        "\n",
        "# Sample data\n",
        "X = np.array([[1, 2], [3, 4], [5, 6], [7, 8]])\n",
        "\n",
        "# Apply PCA\n",
        "pca = PCA(n_components=1)\n",
        "X_pca = pca.fit_transform(X)\n",
        "\n",
        "print(X_pca)"
      ],
      "metadata": {
        "colab": {
          "base_uri": "https://localhost:8080/"
        },
        "id": "hkCxNdPW9IGt",
        "outputId": "e4bc7067-0cc4-4002-da66-07acde5d3e9a"
      },
      "execution_count": null,
      "outputs": [
        {
          "output_type": "stream",
          "name": "stdout",
          "text": [
            "[[ 4.24264069]\n",
            " [ 1.41421356]\n",
            " [-1.41421356]\n",
            " [-4.24264069]]\n"
          ]
        }
      ]
    },
    {
      "cell_type": "markdown",
      "source": [
        "`PCA` is used for Principal component analysis"
      ],
      "metadata": {
        "id": "G8iUPghM9W9z"
      }
    },
    {
      "cell_type": "markdown",
      "source": [
        "**Linear Discriminant Analysis (LDA)**\n",
        "\n",
        "Linear Discriminant Analysis (LDA) is a technique used to find a linear combination of features that separates two or more classes of objects or events."
      ],
      "metadata": {
        "id": "FBa59WmB9Nel"
      }
    },
    {
      "cell_type": "code",
      "source": [
        "from sklearn.discriminant_analysis import LinearDiscriminantAnalysis as LDA\n",
        "import numpy as np\n",
        "\n",
        "# Sample data\n",
        "X = np.array([[1, 2], [3, 4], [5, 6], [7, 8]])\n",
        "y = np.array([0, 1, 0, 1])\n",
        "\n",
        "# Apply LDA\n",
        "lda = LDA(n_components=1)\n",
        "X_lda = lda.fit_transform(X, y)\n",
        "\n",
        "print(X_lda)\n"
      ],
      "metadata": {
        "colab": {
          "base_uri": "https://localhost:8080/"
        },
        "id": "l93RMNMp9S7K",
        "outputId": "8a80e496-8a91-455d-b3a5-1ffa1854b217"
      },
      "execution_count": null,
      "outputs": [
        {
          "output_type": "stream",
          "name": "stdout",
          "text": [
            "[[-1.06066017]\n",
            " [-0.35355339]\n",
            " [ 0.35355339]\n",
            " [ 1.06066017]]\n"
          ]
        }
      ]
    },
    {
      "cell_type": "markdown",
      "source": [
        "`LinearDiscriminantAnalysis` is used"
      ],
      "metadata": {
        "id": "Tt7IbjxP9dNx"
      }
    },
    {
      "cell_type": "markdown",
      "source": [
        "**Feature Selection**\n",
        "\n",
        "Feature selection is the process of selecting a subset of relevant features (variables, predictors) for use in model construction. It helps in improving model performance, reducing overfitting, and decreasing computational cost.\n",
        "\n",
        "\n",
        "\n",
        "*   Filter methods\n",
        "*   Wrapper methods\n",
        "\n",
        "*   Embedded methods\n",
        "\n",
        "\n",
        "\n",
        "\n"
      ],
      "metadata": {
        "id": "ukRKA2UP9zcX"
      }
    },
    {
      "cell_type": "markdown",
      "source": [
        "**Filter Methods**\n",
        "\n",
        "Filter methods apply statistical measures to score the relevance of features. They are computationally efficient and independent of any machine learning algorithms.\n",
        "\n",
        "Examples:\n",
        "1. Correlation Coefficient\n",
        "2. Chi-Square Test\n",
        "3. ANOVA"
      ],
      "metadata": {
        "id": "UexBvsXX9_yN"
      }
    },
    {
      "cell_type": "markdown",
      "source": [
        "**Wrapper Methods**\n",
        "\n",
        "Wrapper methods evaluate the performance of a subset of features using a specific machine learning algorithm. They are more computationally intensive compared to filter methods.\n",
        "\n",
        "Examples:\n",
        "1. Forward Selection\n",
        "2. Backward Elimination\n",
        "3. Recursive Feature Elimination (RFE)"
      ],
      "metadata": {
        "id": "mBxaDRXr-Ixu"
      }
    },
    {
      "cell_type": "markdown",
      "source": [
        "**Embedded Methods**\n",
        "\n",
        "Embedded methods perform feature selection as part of the model training process. They include methods like regularization and tree-based methods.\n",
        "\n",
        "Examples:\n",
        "1. Lasso (L1 Regularization)\n",
        "2. Ridge (L2 Regularization)\n",
        "3. Decision Trees"
      ],
      "metadata": {
        "id": "PocHfw8k-QbV"
      }
    }
  ]
}