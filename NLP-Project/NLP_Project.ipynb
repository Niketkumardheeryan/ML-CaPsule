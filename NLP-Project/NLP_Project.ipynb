{
  "nbformat": 4,
  "nbformat_minor": 0,
  "metadata": {
    "colab": {
      "provenance": [],
      "authorship_tag": "ABX9TyPNBVapApQvxNCKx3+H+XOD",
      "include_colab_link": true
    },
    "kernelspec": {
      "name": "python3",
      "display_name": "Python 3"
    },
    "language_info": {
      "name": "python"
    }
  },
  "cells": [
    {
      "cell_type": "markdown",
      "metadata": {
        "id": "view-in-github",
        "colab_type": "text"
      },
      "source": [
        "<a href=\"https://colab.research.google.com/github/Apoorva57/NLP-Project/blob/main/NLP_Project.ipynb\" target=\"_parent\"><img src=\"https://colab.research.google.com/assets/colab-badge.svg\" alt=\"Open In Colab\"/></a>"
      ]
    },
    {
      "cell_type": "markdown",
      "source": [
        "## Import nltk, punkt package and tokenizer"
      ],
      "metadata": {
        "id": "5sAws_EYG6Er"
      }
    },
    {
      "cell_type": "code",
      "execution_count": 1,
      "metadata": {
        "colab": {
          "base_uri": "https://localhost:8080/"
        },
        "id": "pw0WZGz79kw1",
        "outputId": "c4f3f3ad-6581-4558-f079-c2129152e8f9"
      },
      "outputs": [
        {
          "output_type": "stream",
          "name": "stderr",
          "text": [
            "[nltk_data] Downloading package punkt to /root/nltk_data...\n",
            "[nltk_data]   Unzipping tokenizers/punkt.zip.\n"
          ]
        }
      ],
      "source": [
        "import nltk\n",
        "nltk.download('punkt')\n",
        "nltk.download\n",
        "from nltk.tokenize import sent_tokenize, word_tokenize"
      ]
    },
    {
      "cell_type": "markdown",
      "source": [
        "## Tokenizer"
      ],
      "metadata": {
        "id": "yMlnfZXYHFMZ"
      }
    },
    {
      "cell_type": "code",
      "source": [
        "Steve_Jobs=\"Your time is limited, so don’t waste it living someone else’s life. Don’t be trapped by dogma – which is living with the results of other people’s thinking.\""
      ],
      "metadata": {
        "id": "i3px4mW7CTis"
      },
      "execution_count": 2,
      "outputs": []
    },
    {
      "cell_type": "code",
      "source": [
        "sent_tokenize(Steve_Jobs)"
      ],
      "metadata": {
        "colab": {
          "base_uri": "https://localhost:8080/"
        },
        "id": "kdciYqCT99gy",
        "outputId": "d47ea01a-9678-4470-ab2e-705793b51ab8"
      },
      "execution_count": 3,
      "outputs": [
        {
          "output_type": "execute_result",
          "data": {
            "text/plain": [
              "['Your time is limited, so don’t waste it living someone else’s life.',\n",
              " 'Don’t be trapped by dogma – which is living with the results of other people’s thinking.']"
            ]
          },
          "metadata": {},
          "execution_count": 3
        }
      ]
    },
    {
      "cell_type": "code",
      "source": [
        "word_tokenize(Steve_Jobs)"
      ],
      "metadata": {
        "colab": {
          "base_uri": "https://localhost:8080/"
        },
        "id": "M6PqJrIx-crH",
        "outputId": "87ef8c32-158b-44bb-e88b-1923d36bc048"
      },
      "execution_count": 4,
      "outputs": [
        {
          "output_type": "execute_result",
          "data": {
            "text/plain": [
              "['Your',\n",
              " 'time',\n",
              " 'is',\n",
              " 'limited',\n",
              " ',',\n",
              " 'so',\n",
              " 'don',\n",
              " '’',\n",
              " 't',\n",
              " 'waste',\n",
              " 'it',\n",
              " 'living',\n",
              " 'someone',\n",
              " 'else',\n",
              " '’',\n",
              " 's',\n",
              " 'life',\n",
              " '.',\n",
              " 'Don',\n",
              " '’',\n",
              " 't',\n",
              " 'be',\n",
              " 'trapped',\n",
              " 'by',\n",
              " 'dogma',\n",
              " '–',\n",
              " 'which',\n",
              " 'is',\n",
              " 'living',\n",
              " 'with',\n",
              " 'the',\n",
              " 'results',\n",
              " 'of',\n",
              " 'other',\n",
              " 'people',\n",
              " '’',\n",
              " 's',\n",
              " 'thinking',\n",
              " '.']"
            ]
          },
          "metadata": {},
          "execution_count": 4
        }
      ]
    },
    {
      "cell_type": "markdown",
      "source": [
        "## Stopwords"
      ],
      "metadata": {
        "id": "8OtJsEusHK_M"
      }
    },
    {
      "cell_type": "code",
      "source": [
        "nltk.download(\"stopwords\")"
      ],
      "metadata": {
        "colab": {
          "base_uri": "https://localhost:8080/"
        },
        "id": "YsSCnaJZ-itI",
        "outputId": "0fc83990-ba09-4cf4-85dd-e018deaa78bf"
      },
      "execution_count": 5,
      "outputs": [
        {
          "output_type": "stream",
          "name": "stderr",
          "text": [
            "[nltk_data] Downloading package stopwords to /root/nltk_data...\n",
            "[nltk_data]   Unzipping corpora/stopwords.zip.\n"
          ]
        },
        {
          "output_type": "execute_result",
          "data": {
            "text/plain": [
              "True"
            ]
          },
          "metadata": {},
          "execution_count": 5
        }
      ]
    },
    {
      "cell_type": "code",
      "source": [
        "from nltk.corpus import stopwords"
      ],
      "metadata": {
        "id": "nrZehD7Y-klQ"
      },
      "execution_count": 6,
      "outputs": []
    },
    {
      "cell_type": "code",
      "source": [
        "Will_Smith=\"Money and success don’t change people; they merely amplify what is already there.\""
      ],
      "metadata": {
        "id": "vMIy1FsRCtKs"
      },
      "execution_count": 7,
      "outputs": []
    },
    {
      "cell_type": "code",
      "source": [
        "words_in_quote = word_tokenize(Will_Smith)"
      ],
      "metadata": {
        "id": "KWdTfYkm-1pX"
      },
      "execution_count": 8,
      "outputs": []
    },
    {
      "cell_type": "code",
      "source": [
        "words_in_quote"
      ],
      "metadata": {
        "colab": {
          "base_uri": "https://localhost:8080/"
        },
        "id": "xV3iKuEB-664",
        "outputId": "921d6e33-9578-4ac7-bbec-42c8ed8d4a90"
      },
      "execution_count": 9,
      "outputs": [
        {
          "output_type": "execute_result",
          "data": {
            "text/plain": [
              "['Money',\n",
              " 'and',\n",
              " 'success',\n",
              " 'don',\n",
              " '’',\n",
              " 't',\n",
              " 'change',\n",
              " 'people',\n",
              " ';',\n",
              " 'they',\n",
              " 'merely',\n",
              " 'amplify',\n",
              " 'what',\n",
              " 'is',\n",
              " 'already',\n",
              " 'there',\n",
              " '.']"
            ]
          },
          "metadata": {},
          "execution_count": 9
        }
      ]
    },
    {
      "cell_type": "code",
      "source": [
        "stop_words = set(stopwords.words(\"english\"))"
      ],
      "metadata": {
        "id": "EqfT9Da1Q_fH"
      },
      "execution_count": 10,
      "outputs": []
    },
    {
      "cell_type": "code",
      "source": [
        "filtered_list = [\n",
        "    word for word in words_in_quote if word.casefold() not in stop_words\n",
        "    ]"
      ],
      "metadata": {
        "id": "sNA_cynZRU63"
      },
      "execution_count": 11,
      "outputs": []
    },
    {
      "cell_type": "code",
      "source": [
        "filtered_list"
      ],
      "metadata": {
        "colab": {
          "base_uri": "https://localhost:8080/"
        },
        "id": "zmbN5KBpRb2v",
        "outputId": "d607a11b-860e-488d-b6da-79e6677906c2"
      },
      "execution_count": 12,
      "outputs": [
        {
          "output_type": "execute_result",
          "data": {
            "text/plain": [
              "['Money',\n",
              " 'success',\n",
              " '’',\n",
              " 'change',\n",
              " 'people',\n",
              " ';',\n",
              " 'merely',\n",
              " 'amplify',\n",
              " 'already',\n",
              " '.']"
            ]
          },
          "metadata": {},
          "execution_count": 12
        }
      ]
    },
    {
      "cell_type": "markdown",
      "source": [
        "## Stemmer"
      ],
      "metadata": {
        "id": "3mNy8l6vHXDC"
      }
    },
    {
      "cell_type": "code",
      "source": [
        "from nltk.stem import PorterStemmer"
      ],
      "metadata": {
        "id": "fiEamGsC_GuW"
      },
      "execution_count": 13,
      "outputs": []
    },
    {
      "cell_type": "code",
      "source": [
        "stemmer = PorterStemmer()"
      ],
      "metadata": {
        "id": "WrZe_clO_J6v"
      },
      "execution_count": 14,
      "outputs": []
    },
    {
      "cell_type": "code",
      "source": [
        "string_for_stemming = \"\"\"The crew of the USS Discovery discovered many discoveries. Discovering is what explorers do.\"\"\""
      ],
      "metadata": {
        "id": "AlkX1z5R_Mmn"
      },
      "execution_count": 15,
      "outputs": []
    },
    {
      "cell_type": "code",
      "source": [
        "words = word_tokenize(string_for_stemming)"
      ],
      "metadata": {
        "id": "kYrVVMoY_QQp"
      },
      "execution_count": 16,
      "outputs": []
    },
    {
      "cell_type": "code",
      "source": [
        "words"
      ],
      "metadata": {
        "colab": {
          "base_uri": "https://localhost:8080/"
        },
        "id": "IABE15Xz_Xt2",
        "outputId": "e077942f-16fa-456c-bdac-287ee1b707fd"
      },
      "execution_count": 17,
      "outputs": [
        {
          "output_type": "execute_result",
          "data": {
            "text/plain": [
              "['The',\n",
              " 'crew',\n",
              " 'of',\n",
              " 'the',\n",
              " 'USS',\n",
              " 'Discovery',\n",
              " 'discovered',\n",
              " 'many',\n",
              " 'discoveries',\n",
              " '.',\n",
              " 'Discovering',\n",
              " 'is',\n",
              " 'what',\n",
              " 'explorers',\n",
              " 'do',\n",
              " '.']"
            ]
          },
          "metadata": {},
          "execution_count": 17
        }
      ]
    },
    {
      "cell_type": "code",
      "source": [
        "stemmed_words = [stemmer.stem(word) for word in words]"
      ],
      "metadata": {
        "id": "JE6_-09u_bCX"
      },
      "execution_count": 18,
      "outputs": []
    },
    {
      "cell_type": "code",
      "source": [
        "stemmed_words"
      ],
      "metadata": {
        "colab": {
          "base_uri": "https://localhost:8080/"
        },
        "id": "JF7rVjjR_jX1",
        "outputId": "9970a822-dfd6-4d00-c2f6-62a0c139f6ae"
      },
      "execution_count": 19,
      "outputs": [
        {
          "output_type": "execute_result",
          "data": {
            "text/plain": [
              "['the',\n",
              " 'crew',\n",
              " 'of',\n",
              " 'the',\n",
              " 'uss',\n",
              " 'discoveri',\n",
              " 'discov',\n",
              " 'mani',\n",
              " 'discoveri',\n",
              " '.',\n",
              " 'discov',\n",
              " 'is',\n",
              " 'what',\n",
              " 'explor',\n",
              " 'do',\n",
              " '.']"
            ]
          },
          "metadata": {},
          "execution_count": 19
        }
      ]
    },
    {
      "cell_type": "markdown",
      "source": [
        "## POS Tagger"
      ],
      "metadata": {
        "id": "7a64h2yHHcQb"
      }
    },
    {
      "cell_type": "code",
      "source": [
        "Oprah_Winfrey = \"\"\"The biggest adventure you can take is to live the life of your dreams.\"\"\""
      ],
      "metadata": {
        "id": "jhmvVPhq_sct"
      },
      "execution_count": 20,
      "outputs": []
    },
    {
      "cell_type": "code",
      "source": [
        "words_in_quote = word_tokenize(Oprah_Winfrey)"
      ],
      "metadata": {
        "id": "NkJThf8y_yKJ"
      },
      "execution_count": 21,
      "outputs": []
    },
    {
      "cell_type": "code",
      "source": [
        "words_in_quote"
      ],
      "metadata": {
        "colab": {
          "base_uri": "https://localhost:8080/"
        },
        "id": "z_BIqECL_1X3",
        "outputId": "4244ab10-50b2-49f5-d767-72a9fb937d95"
      },
      "execution_count": 22,
      "outputs": [
        {
          "output_type": "execute_result",
          "data": {
            "text/plain": [
              "['The',\n",
              " 'biggest',\n",
              " 'adventure',\n",
              " 'you',\n",
              " 'can',\n",
              " 'take',\n",
              " 'is',\n",
              " 'to',\n",
              " 'live',\n",
              " 'the',\n",
              " 'life',\n",
              " 'of',\n",
              " 'your',\n",
              " 'dreams',\n",
              " '.']"
            ]
          },
          "metadata": {},
          "execution_count": 22
        }
      ]
    },
    {
      "cell_type": "code",
      "source": [
        "import nltk\n",
        "nltk.download('averaged_perceptron_tagger')"
      ],
      "metadata": {
        "colab": {
          "base_uri": "https://localhost:8080/"
        },
        "id": "_MdZ7UBsAHmG",
        "outputId": "87822c86-0cd5-4419-c497-1cdf5e392d51"
      },
      "execution_count": 23,
      "outputs": [
        {
          "output_type": "stream",
          "name": "stderr",
          "text": [
            "[nltk_data] Downloading package averaged_perceptron_tagger to\n",
            "[nltk_data]     /root/nltk_data...\n",
            "[nltk_data]   Unzipping taggers/averaged_perceptron_tagger.zip.\n"
          ]
        },
        {
          "output_type": "execute_result",
          "data": {
            "text/plain": [
              "True"
            ]
          },
          "metadata": {},
          "execution_count": 23
        }
      ]
    },
    {
      "cell_type": "code",
      "source": [
        "nltk.pos_tag(words_in_quote)"
      ],
      "metadata": {
        "colab": {
          "base_uri": "https://localhost:8080/"
        },
        "id": "iUmNV4w1AOFR",
        "outputId": "681476fb-0087-458c-fd11-24209e0c5e5c"
      },
      "execution_count": 24,
      "outputs": [
        {
          "output_type": "execute_result",
          "data": {
            "text/plain": [
              "[('The', 'DT'),\n",
              " ('biggest', 'JJS'),\n",
              " ('adventure', 'NN'),\n",
              " ('you', 'PRP'),\n",
              " ('can', 'MD'),\n",
              " ('take', 'VB'),\n",
              " ('is', 'VBZ'),\n",
              " ('to', 'TO'),\n",
              " ('live', 'VB'),\n",
              " ('the', 'DT'),\n",
              " ('life', 'NN'),\n",
              " ('of', 'IN'),\n",
              " ('your', 'PRP$'),\n",
              " ('dreams', 'NNS'),\n",
              " ('.', '.')]"
            ]
          },
          "metadata": {},
          "execution_count": 24
        }
      ]
    },
    {
      "cell_type": "markdown",
      "source": [
        "## Lemmatizer"
      ],
      "metadata": {
        "id": "LxqCDje_HqQb"
      }
    },
    {
      "cell_type": "code",
      "source": [
        "from nltk.stem import WordNetLemmatizer\n",
        "nltk.download('omw-1.4')"
      ],
      "metadata": {
        "colab": {
          "base_uri": "https://localhost:8080/"
        },
        "id": "mgcZdH99AeYA",
        "outputId": "6aef5c55-88c5-418b-ed41-2590e59b281a"
      },
      "execution_count": 25,
      "outputs": [
        {
          "output_type": "stream",
          "name": "stderr",
          "text": [
            "[nltk_data] Downloading package omw-1.4 to /root/nltk_data...\n"
          ]
        },
        {
          "output_type": "execute_result",
          "data": {
            "text/plain": [
              "True"
            ]
          },
          "metadata": {},
          "execution_count": 25
        }
      ]
    },
    {
      "cell_type": "code",
      "source": [
        "lemmatizer = WordNetLemmatizer()"
      ],
      "metadata": {
        "id": "U38d4xpxAjOh"
      },
      "execution_count": 26,
      "outputs": []
    },
    {
      "cell_type": "code",
      "source": [
        "nltk.download('wordnet')"
      ],
      "metadata": {
        "colab": {
          "base_uri": "https://localhost:8080/"
        },
        "id": "QTDnEbT-9k3R",
        "outputId": "0b42ccdc-b326-429c-e44d-68dd2b4c2bc2"
      },
      "execution_count": 27,
      "outputs": [
        {
          "output_type": "stream",
          "name": "stderr",
          "text": [
            "[nltk_data] Downloading package wordnet to /root/nltk_data...\n"
          ]
        },
        {
          "output_type": "execute_result",
          "data": {
            "text/plain": [
              "True"
            ]
          },
          "metadata": {},
          "execution_count": 27
        }
      ]
    },
    {
      "cell_type": "code",
      "source": [
        "print(\"runners :\", lemmatizer.lemmatize(\"runners\"))\n",
        "print(\"items :\", lemmatizer.lemmatize(\"items\"))"
      ],
      "metadata": {
        "colab": {
          "base_uri": "https://localhost:8080/"
        },
        "id": "K4LGDz2lAmRe",
        "outputId": "419e2439-65fe-4934-f952-02f954d10456"
      },
      "execution_count": 28,
      "outputs": [
        {
          "output_type": "stream",
          "name": "stdout",
          "text": [
            "runners : runner\n",
            "items : item\n"
          ]
        }
      ]
    },
    {
      "cell_type": "code",
      "source": [
        "string_for_lemmatizing = \"The world needs dreamers and the world needs doers. But above all, the world needs dreamers who do.\""
      ],
      "metadata": {
        "id": "mwYiPG4ABlqQ"
      },
      "execution_count": 29,
      "outputs": []
    },
    {
      "cell_type": "code",
      "source": [
        "words = word_tokenize(string_for_lemmatizing)"
      ],
      "metadata": {
        "id": "UahTAXDzBheJ"
      },
      "execution_count": 30,
      "outputs": []
    },
    {
      "cell_type": "code",
      "source": [
        "words"
      ],
      "metadata": {
        "colab": {
          "base_uri": "https://localhost:8080/"
        },
        "id": "9sZMURQlBqRR",
        "outputId": "1604774d-29b5-420a-da61-c2dc8aaaeae8"
      },
      "execution_count": 31,
      "outputs": [
        {
          "output_type": "execute_result",
          "data": {
            "text/plain": [
              "['The',\n",
              " 'world',\n",
              " 'needs',\n",
              " 'dreamers',\n",
              " 'and',\n",
              " 'the',\n",
              " 'world',\n",
              " 'needs',\n",
              " 'doers',\n",
              " '.',\n",
              " 'But',\n",
              " 'above',\n",
              " 'all',\n",
              " ',',\n",
              " 'the',\n",
              " 'world',\n",
              " 'needs',\n",
              " 'dreamers',\n",
              " 'who',\n",
              " 'do',\n",
              " '.']"
            ]
          },
          "metadata": {},
          "execution_count": 31
        }
      ]
    },
    {
      "cell_type": "code",
      "source": [
        "lemmatized_words = [lemmatizer.lemmatize(word) for word in words]"
      ],
      "metadata": {
        "id": "j4lP1Wq8BtgT"
      },
      "execution_count": 32,
      "outputs": []
    },
    {
      "cell_type": "code",
      "source": [
        "lemmatized_words"
      ],
      "metadata": {
        "colab": {
          "base_uri": "https://localhost:8080/"
        },
        "id": "i_Si1p6pBweW",
        "outputId": "1500e6dc-8c60-4f53-8f1a-46d3aedcb4f4"
      },
      "execution_count": 33,
      "outputs": [
        {
          "output_type": "execute_result",
          "data": {
            "text/plain": [
              "['The',\n",
              " 'world',\n",
              " 'need',\n",
              " 'dreamer',\n",
              " 'and',\n",
              " 'the',\n",
              " 'world',\n",
              " 'need',\n",
              " 'doer',\n",
              " '.',\n",
              " 'But',\n",
              " 'above',\n",
              " 'all',\n",
              " ',',\n",
              " 'the',\n",
              " 'world',\n",
              " 'need',\n",
              " 'dreamer',\n",
              " 'who',\n",
              " 'do',\n",
              " '.']"
            ]
          },
          "metadata": {},
          "execution_count": 33
        }
      ]
    },
    {
      "cell_type": "markdown",
      "source": [
        "## Hindi POS Tagger"
      ],
      "metadata": {
        "id": "YItOA5t5Hu9U"
      }
    },
    {
      "cell_type": "code",
      "source": [
        "from nltk.corpus import indian\n",
        "from nltk.tag import tnt\n",
        "import string"
      ],
      "metadata": {
        "id": "CLBQMY7TPrAg"
      },
      "execution_count": 34,
      "outputs": []
    },
    {
      "cell_type": "code",
      "source": [
        "nltk.download('indian')"
      ],
      "metadata": {
        "colab": {
          "base_uri": "https://localhost:8080/"
        },
        "id": "RvjEyk3zLWr-",
        "outputId": "ffa17b51-da5f-48e7-bef6-a0672b97b33a"
      },
      "execution_count": 35,
      "outputs": [
        {
          "output_type": "stream",
          "name": "stderr",
          "text": [
            "[nltk_data] Downloading package indian to /root/nltk_data...\n",
            "[nltk_data]   Unzipping corpora/indian.zip.\n"
          ]
        },
        {
          "output_type": "execute_result",
          "data": {
            "text/plain": [
              "True"
            ]
          },
          "metadata": {},
          "execution_count": 35
        }
      ]
    },
    {
      "cell_type": "code",
      "source": [
        "tagged_set = 'hindi.pos'\n",
        "word_set = indian.sents(tagged_set)\n",
        "count = 0\n",
        "for sen in word_set:\n",
        "    count = count + 1\n",
        "    sen = \"\".join([\" \"+i if not i.startswith(\"'\") and i not in string.punctuation else i for i in sen]).strip()\n",
        "    print (count, sen)\n",
        "print ('Total sentences in the tagged file are',count)\n",
        "\n",
        "train_perc = .9\n",
        "\n",
        "train_rows = int(train_perc*count)\n",
        "test_rows = train_rows + 1\n",
        "\n",
        "print ('Sentences to be trained',train_rows, 'Sentences to be tested against',test_rows)"
      ],
      "metadata": {
        "colab": {
          "base_uri": "https://localhost:8080/"
        },
        "id": "JPw0jGlDLZB2",
        "outputId": "90707273-3944-43b7-9109-16b63468b771"
      },
      "execution_count": 36,
      "outputs": [
        {
          "output_type": "stream",
          "name": "stdout",
          "text": [
            "1 पूर्ण प्रतिबंध हटाओ: इराक\n",
            "2 संयुक्त राष्ट्र ।\n",
            "3 इराक के विदेश मंत्री ने अमरीका के उस प्रस्ताव का मजाक उड़ाया है, जिसमें अमरीका ने संयुक्त राष्ट्र के प्रतिबंधों को इराकी नागरिकों के लिए कम हानिकारक बनाने के लिए कहा है ।\n",
            "4 विदेश मंत्री का कहना है कि चूंकि बगदाद संयुक्त राष्ट्र की मांगों का पालन करते हुए अपने भारी विनाशकारी हथियारों को नष्ट कर रहा है ।\n",
            "5 लिहाजा प्रतिबंधों को पूर्ण रूप से उठा दिया जाना चाहिए ।\n",
            "6 विदेश मंत्री मोहम्मद सईद का कहना है कि वे इसे'सुव्यवस्थित प्रतिबंध' कह कर आम राय और सुरक्षा परिषद को छल रहे हैं ।\n",
            "7 बेनजीर की सुनवाई स्थगित\n",
            "8 कराची ।\n",
            "9 पाकिस्तान की पूर्व प्रधानमंत्री बेनजीर भुट्टो पर लगे भ्रष्टाचार के आरोपों के खिलाफ भुट्टो द्वारा दायर की गई याचिका की सुनवाई मंगलवार को वकीलों की हड़ताल के कारण स्थगित कर दी गई ।\n",
            "10 सिंध हाईकोर्ट बार एसोसिएशन के अध्यक्ष रशीद रिजवी के मुताबिक यह हड़ताल उच्च न्यायालय और निचली अदालतों के स्तर पर सफल रही ।\n",
            "11 देश में पुन: प्रजातंत्र की स्थापना की मांग को लेकर यह हड़ताल की गई थी ।\n",
            "12 सुप्रीम कोर्ट में भुट्टो के उक्त मामले की सुनवाई सोमवार से शुरू हुई, जो फिलहाल बुधवार तक स्थगित है ।\n",
            "13 मुशर्रफ सऊदी अरब को मनाएंगे\n",
            "14 इस्लामाबाद ।\n",
            "15 पाकिस्तानी सैन्य प्रशासक जनरल परवेज मुशर्रफ द्वारा सऊदी अरब को कश्मीर विवाद मुद्दे पर भारत और पाकिस्तान की मध्यस्थता के लिए मनाने की संभावना व्यक्त की गई है ।\n",
            "16 आधिकारिक सूत्रों के हवाले से कहा गया है कि मुशर्रफ की बुधवार से शुरू हो रही हज यात्रा इस मायने में काफी महत्वपूर्ण हो सकती है ।\n",
            "17 मुशर्रफ अपने इस हज यात्रा के दौरान कश्मीर के अलावा फिलीस्तिन, अमरीका द्वारा ओसमा बिन लादेन के प्रत्यर्पण की मांग आदि पर चर्चा करेंगे ।\n",
            "18 इस दौरान मुशर्रफ सऊदी राजा फाहद, उप प्रधानमंत्री सहित कई बड़ी हस्तियों से मिलेंगे ।\n",
            "19 पाकिस्तान के बर्खास्त पूर्व प्रधानमंत्री नवाज शरीफ के मामले में भी यहां चर्चा होगी ।\n",
            "20 पत्रकारों के लिए कल्याण कोष\n",
            "21 नई दिल्ली ।\n",
            "22 वित्तमंत्री यशवंत सिन्हा ने अपने बजट में पत्रकारों के लिए कल्याण कोष स्थापित करने की घोषणा की है ।\n",
            "23 कोष में सूचना एवं प्रसारण मंत्रालय १ करोड़ की सहायता देगा ।\n",
            "24 बजट प्रस्तुत करते हुए सिन्हा ने कहा कि पत्रकार कई अवसरों पर कवरेज के लिए जोखिम उठाते हैं यह कोष उनकी सेवा एवं संघर्ष के लिए होगा ।\n",
            "25 उन्होंने कहा कि पांच वर्ष में एक बार मान्यता प्राप्त पत्रकार को करमुक्त आयात द्वारा व्यक्तिगत उपयोग के लिए सामग्री मंगाने की सुविधा अब दो वर्ष कर दी गई है ।\n",
            "26 फिलहाल मान्यता प्राप्त पत्रकार एवं कैमरामैन कैमरा, फैक्स, कम्प्यूटर आदि जिनकी अधिकतम लागत १ लाख रुपए तक हो बिना कस्टम ड्यूटी चुकाए पांच साल में एक बार मंगा सकते थे ।\n",
            "27 बजट विकास को गति देगा: वाजपेयी\n",
            "28 नई दिल्ली ।\n",
            "29 प्रधानमंत्री अटलबिहारी वाजपेयी ने कहा है कि वित्तमंत्री यशवंत सिन्हा द्वारा प्रस्तुत बजट विकास की गति को तेज करेगा ।\n",
            "30 उन्होंने वित्तमंत्री एवं उनके सहयोगी अधिकारियों को संतुलित बजट प्रस्तुत करने पर बधाई देते हुए कहा कि बजटमें विभिन्न क्षेत्रों के लिए कई कदम उठाए गए हैं, प्रस्ताव किए गए हैं साथ ही किसानों की मस्याओं को ध्यान रखकर कदम उठाए गए हैं ।\n",
            "31 प्रधानमंत्री ने कहा कि अब किसानों को किसी प्रकार का भय नहीं होना चाहिए ।\n",
            "32 उन्होंने कहा कि बजट प्रस्तावों से बेरोजगारी तथा गरीबी को कम करने में मदद मिलेगी ।\n",
            "33 साथ ही ग्रामीण विकास को नया आयाम मिलेगा ।\n",
            "34 प्रधानमंत्री ने कहा कि बजट में ग्रामीण क्षेत्रों की खास चिंता की गई है ।\n",
            "35 वाजपेयी ने कहा कि दो वर्ष के लिए एलटीसी समाप्त करने से कर्मचारी प्रभावित हुए किंतु उन्हें वेतन आयोग ने फायदा पहुंचाया ।\n",
            "36 उन्होंने कहा कि कृषि, उद्योग तथा निर्यात सभी क्षेत्रों को बजट में राहत दी गई है इससे दुनिया के नक्शे में भारत को विकास का मौका मिलेगा ।\n",
            "37 आंग सान सूकी से मिले अमरीकी अधिकारी\n",
            "38 बैंकाक ।\n",
            "39 म्यामांर की विपक्षी नेता आंग सानसूकी से अमरीकी अधिकारियों ने मुलाकात की ।\n",
            "40 सूकी गत ५ माह से नजरबंद हैं । अमरीकी अधिकारी म्यांमार में शासन कर रहे सैनिक शासकों से भी मिले ।\n",
            "41 अमरीका में राष्ट्रपति जार्ज बुश के पदभार संभालने के बाद यह यात्रा कूटनीतिक दृष्टि से बड़ी पहल मानी जा रही है ।\n",
            "42 अमरीका के डिपुटी असिस्टेंट सेकेट्ररी राल्फे बयाक जो इन दिनों'आशियान' देशों के दौरे पर हैं सूकी से उनके उसी आवास पर मिले जहां वे नजरबंद हैं ।\n",
            "43 बाद में अमरीकी अधिकारी ने म्यांमार में शासन कर रहे सैनिक शासकों से भी लगभग दो घंटे चर्चा की ।\n",
            "44 अमरीकी अधिकारी ने कहा कि उनके म्यांमार दौरे का उद्देश्य बर्मा एवं अमरीका के बीच संवाद शुरू करना है जो दोनों देशों एवं दुनिया के व्यापक हित में है ।\n",
            "45 अधिकारियों ने म्यांमार में लोकतंत्र के लिए संघर्ष कर रहे नेताओं से भी मुलाकात कर एक बैठक की ।\n",
            "46 आतंकवाद, निरक्षरता और बलात्कार यानि पाकिस्तान\n",
            "47 मुजफ्फर हुसैन\n",
            "48 पाकिस्तान के बिगड़े हालात की चर्चा अंतर्राष्ट्रीय प्रसार माध्यम में अब रोजमर्रा की बात हो गई है ।\n",
            "49 इसके उपरांत भी न तो राष्ट्र संघ उस पर किसी प्रकार के आर्थिक और राजनीतिक प्रतिबंध लगाता है और न ही अमेरिका जैसी ताकत के कान पर जूं रेंगती है ।\n",
            "50 यदि भारत का मीडिया उसके बारे में असलियत बतलाए तो दुनिया के अनेक देश उसे अतिशयोतिपूर्ण मानते हैं लेकिन जब मानव अधिकार आयोग जैसी प्रतिष्ठित संस्था उस पर उंगली उठाती है तब सच्चाई को नकारा नहीं जा सकता ।\n",
            "51 पाकिस्तान में राजनीतिक और सैनिक उठापटक ने वहां के समाज को किस प्रकार खोखला कर दिया है इस के साक्षात दर्शन होते हैं ।\n",
            "52 कश्मीरी आतंकवाद ने वहां की महिलाओं की मानसिकता को कितना प्रभावित किया है कि १९९६ में आतंकवाद से दुखी हो कर घाटी में १५ महिलाओं ने आत्महत्या की थी ।\n",
            "53 सन दो हजार समाप्त होते होते यह आंकड़ा बढ़कर ४०० हो गया है ।\n",
            "54 घाटी के मूल निवासियों का कहना है कि यह सब कुछ पाकिस्तान द्वारा संचालित आतंकवाद का नतीजा है ।\n",
            "55 सन २००० में पाकिस्तान में जो कुछ घटा है उस की रपट मानव अधिकार आयोग ने पिछले दिनों प्रस्तुत कर दी है ।\n",
            "56 राष्ट्र संघ को सौंपी गई इस रपट में कुछ तो ऐसे चौंका देने वाले तथ्य हैं जिन पर २१वीं शताब्दी का आदमी विश्वास नहीं कर सकता ।\n",
            "57 धन के बदले में स्त्री पुरुष को रहन रखने और अपनी जायदाद को बचाने के लिए कुरान से अपनी पुत्री का विवाह कर देने की घटनाएं सिंध में सामान्य हैं ।\n",
            "58 यह रपट सेना द्वारा पाकिस्तान में किये जाने वाले अत्याचारों का पुलिंदा है ।\n",
            "59 सैनिक शासन अपनी कठोरता और अनुशासन की दुहाई देता है लेकिन वास्तविकता यह है कि इस से कुछ भी परिवर्तन नहीं आया है ।\n",
            "60 न तो अपराध थमे हैं और न ही अपराधों में कमी आई है बल्कि कुछ विशेष प्रकार के अपराधों में तेजी से बढ़ोतरी हुई है ।\n",
            "61 आयोग सब से अधिक चिंतित महिला सम्बंधी अपराधों से है ।\n",
            "62 महिलाओं के साथ बलात्कार तो अब सामान्य बात हो गई हैै ।\n",
            "63 आयोग को इस बात का आश्चर्य है कि पाकिस्तान धार्मिक कटटरता का देश है ।\n",
            "64 वहां पर्दा अनिवार्य है ।\n",
            "65 पाकिस्तानी समाज एकदम संकीर्ण और रूढ़िवादी है लेकिन फिर भी बलात्कार होते रहना आश्चर्य की बात है ।\n",
            "66 रपट में इस बात की जानकारी नहीं दी गई है लेकिन पाकिस्तान की अग्रणी महिला नेताओं का कहना है कि पाकिस्तान में २० बलात्कार में केवल एक बलात्कार की रपट थाने में दर्ज होती है ।\n",
            "67 पाकिस्तान में इस्लामी कानून कुछ इस प्रकार के हैं जिनमें एक बलात्कार से पीड़ित महिला को न्याय नहीं मिलता है, यदि मिलता है तो बहुत विलम्ब से ।\n",
            "68 एक साल में आयोग की रपट के अुनासर ५०० बलात्कार होते हैं यानी प्रति दिन डेढ़ के आसपास ।\n",
            "69 मानव अधिकार आयोग की सदस्या असमां जहांगीर कहती हैं कि आयोग ने यह सब कुछ पुलिस रपट के आधार पर लिखा है लेकिन वास्तविकता यह है कि पाकिस्तान में औसतन प्रति दिन १३ बलात्कार होते हैं ।\n",
            "70 देहातों में होने वाले बलात्कारों की सुनवाई नहीं होती है ।\n",
            "71 इन आंकड़ों में वह यौन उत्पीड़न शामिल नहीं है जो जमींदारों और समाज में प्रभावशाली लोगों द्वारा किया जाता है ।\n",
            "72 सम्पूर्ण पाकिस्तान में ही साक्षरता की दर बहुत कम है । राष्ट्र संघ की एक रपट में पाकिस्तान को दक्षिण एशिया का सर्वाधिक अनपढ़ देश कहा गया है ।\n",
            "73 ब्लूचिस्तान और सरहदी सूबे में केवल साक्षरता की दर १५ प्रतिशत है ।\n",
            "74 इन में महिला साक्षर केवल दो प्रतिशत है ।\n",
            "75 सिंध और पंजाब में क्रमश: २७ और ३२ प्रतिशत है ।\n",
            "76 पाकिस्तान में ७० से ७० से ७५ प्रतिशत महिलाएं निरक्षर हैं ।\n",
            "77 ६५ प्रतिशत लड़कियां दूसरी कक्षा पढ़ कर छोड़ देती है ।\n",
            "78 २२ प्रतिशत हाई स्कूल तक पहुंचती हैं और ८ प्रतिशत के लगभग महाविद्यालयीन स्तर की पढ़ाई करती हैं ।\n",
            "79 पुराने रिवाज, बाल विवाह और पर्दा इस निरक्षर के सब से बड़े कारण हैं ।\n",
            "80 जिन मदरसों के माध्यम से लड़कियों की पढ़ाई होती थी अब वहां पढ़ाई के स्थान पर जिहाद की ट्रेंनिंग दी जाती है ।\n",
            "81 लड़कियों को हथियार चलाना, जासूसी करना और मानव बम बन कर इस्लाम के नाम पर शहीद होने की ट्रेनिंग खुलेआम दी जाती है ।\n",
            "82 आने वाले समय में इस कारण यदि साक्षरता का प्रतिशत और भी घट जाए तो आश्चर्य की बात नहीं ।\n",
            "83 पाकिस्तान मानवअधिकार आयोग ने बतलाया है कि सैनिक शासन के दौरान धार्मिक कटटरता बढ़ी है ।\n",
            "84 फौजी सरकार अपनी रक्षा के लिये इस्लाम के नाम का उपयोग करती है और यह बतलाने की कोशिश करती है कि लोकतंत्र से इस्लाम का कोई लेना देना नहीं ।\n",
            "85 यहां तक कहा जाता है कि उदाहरण के लिये इजिप्ट और सऊदी की सरकार है ।\n",
            "86 दोनों ही प्राचीनतम इस्लामी देश हैं ।\n",
            "87 क्या वहां लोकतंत्र है?\n",
            "88 यदि नहीं तो फिर पाकिस्तान में क्या आवश्यकता है ।\n",
            "89 इसलाम और लोकतंत्र का कोई मेल नहीं यह स्पष्ट कहा जाता है ।\n",
            "90 आयोग का कहना है कि धार्मिक कानूनों का दुरूपयोग बढ़ता जा रहा है ।\n",
            "91 मानव अधिकार आयोग पाकिस्तान के आतंकवादी संगठनों को पाकिस्तान सरकार द्वारा संरक्षण दिये जाने का भी विरोधी है ।\n",
            "92 उस का कहना है कि सैनिक शासन में आतंकवाद को प्रशिक्षण देने वाले मदरसे अधिक सक्रिय हो गए हैं ।\n",
            "93 उनकी इस सक्रियता से पाकिस्तान में मानव अधिकारों की स्थिति खराब होती जा रही है ।\n",
            "94 आयोग का आंकलन है कि इस से पाकिस्तान के आसपास जितने देश हैं उनमें आतंकवाद विकसित होगा ।\n",
            "95 जहां कहीं आतंकवाद चलेगा वहां मानव अधिकार के घटने और उस पर रोक लगने के अवसर अधिक बढ़ जाएंगे ।\n",
            "96 मानव अधिकार आयोग ने खुल्लम खुल्ला पाक सरकार को कहा है कि वह उन मदरसों को बंद कर दें जहां आतंकवाद सिखाया जाता है ।\n",
            "97 देश के धर्म गुरूओं से भी कहा कि वे धर्म को हिंसा और अराजकता के लिये नहीं अपितु मानव के कल्याण के लिए उपयोगी बनाएं ।\n",
            "98 मानव आयोग ने अपनी रपट में पाकिस्तान में बढ़ती बेरोजगारी का भी उल्लेख किया है ।\n",
            "99 सरकारी आंकड़ों के अनुसार पाकिस्तान में बेकारी की दर ३८ प्रतिशत है लेकिन आयोग का कहना है कि यह दर ४५ तक पहुंच सकती है ।\n",
            "100 बेकारी अनेक दुर्गुणों की जन्मदाता है ।\n",
            "101 अपराध और अनैतिकता के फैलाव में वह महत्व का भाग बनती है ।\n",
            "102 जब किसी देश से पूंजी और बौद्धिक कौशल का पलायन होता है तो उस समाज और देश को दीवालिया होने से कोई रोक नहीं सकता ।\n",
            "103 मानव अधिकार आयोग की रपट को पाकिस्तान के गृह मंत्री ने झूठ और बकवास के पुलिंदे की संज्ञा दी है और आयोग की रपट को स्वीकार करने स े इनकार कर दिया है ।\n",
            "104 रेल बजट पर बीजद नाराज\n",
            "105 भुवनेश्वर ।\n",
            "106 राष्ट्रीय जनतांत्रिक गठबंधन की सहयोगी पार्टी बीजू जनता दल ने रेल बजट में उड़ीसा की उपेक्षा पर अपनी नाराजगी जताई है ।\n",
            "107 दल में राजग से समर्थन वापस लेने की आवाजें भी उठने लगी हैं ।\n",
            "108 बीजू जनता दल के अध्यक्ष एवं उड़ीसा के मुख्यमंत्री नवीन पटनायक ने प्रधानमंत्री अटलबिहारी वाजपेयी को लिखे पत्र में इस मुद्दे पर अपनी नाराजगी जताते हुए कहा है कि बजट में सिर्फ बंगाल का ख्याल रखा गया है ।\n",
            "109 इसके साथ ही बीजद के सांसद ममता से इस्तीफे की मांग उठा रहे हैं ।\n",
            "110 उन्होंने कहा है कि'बीजद-राजग का सहयोगी है अत: अपनी मांगों पर हम चर्चा करना चाहते हैं ।\n",
            "111 हम इन जायज मांगों को लेकर लड़ते रहेंगे ।\n",
            "112 ' नवीन ने कहा कि हमारे राज्य को सिर्फ एक एक्सप्रेस ट्रेन दी गई ।\n",
            "113 उन्होंने कहा कि उड़ीसा के साथ अन्याय हुआ है ।\n",
            "114 बताया जाता है कि पार्टी के भीतर इस मामले पर राजग सरकार से समर्थन वापस लेने का नवीन पटनायक पर खासा दबाव है ।\n",
            "115 इसके चलते ही नवीन मुखर होकर इस मामले पर आगे आए हैं ।\n",
            "116 हालंकि बीजद नेता प्रसन्न पटसानी कहते हैं कि-''समर्थन वापस लेना समस्या का हल नहीं है ।\n",
            "117 इसलिए हम प्रधानमंत्री से अपील कर रहे हैं कि वे इस ओर ध्यान दें ।''\n",
            "118 इजराइल में हिंसक घटनाएं जारी\n",
            "119 येरूशलम ।\n",
            "120 इजराइल में नई सरकार के विस्तार के प्रयास तेज हैं और प्रधानमंत्री एरियल शेरोन की कोशिश है कि राष्ट्रीय सरकार में सभी शामिल हों ।\n",
            "121 इस बीच हिंसा की घटनाएं जारी हैं ।\n",
            "122 इनमें जहां एक फिलिस्तीनी को उसके घर में घुसकर मार डाला गया वहीं फिलिस्तीनियों के हमले में ५ इजराइली घायल हुए हैं ।\n",
            "123 नवनिर्वाचित प्रधानमंत्री, एरियल शेरोन जिन्होंने गत दिनों एहुद बराक को हराकर सत्ता प्राप्त की थी नेे अभी कार्यालय में कार्यभार नहीं संभाला है, वे मिलीजुली सरकार बनाने के प्रयासों में हैं ताकि संसद में बहुमत प्राप्त कर सकें ।\n",
            "124 इस राजनीतिक कसरत के बीच गाजापट्टी तथा दक्षिणी किनारों पर इजराइलियों तथा फिलिस्तीनियों के बीच संघर्ष जारी है ।\n",
            "125 बताया जाता है कि पिछले ५ महीनों में दोनों पक्षों में हुए संघर्ष में ४११ लोग मारे गए हैं ।\n",
            "126 नए प्रधानमंत्री शेरोन को कट्टरवादी माना जाता है, ऐसे में आशंका है कि संघर्ष और भड़क सकता है ।\n",
            "127 इस बीच लेबर पार्टी द्वारा शेरोन को समर्थन देने की घोषणा के बाद मंगलवार को विभिन्न पक्षों के बीच सरकार बनाने को लेकर चर्चाएं जारी रहीं ।\n",
            "128 सरकार में पद एवं स्थान पाने को लेकर पार्टियों के बीच बातचीत चल रही है ।\n",
            "129 हरियाणा व दिल्ली में भूकंप के झटके\n",
            "130 नई दिल्ली ।\n",
            "131 दिल्ली और हरियाणा के कुछ क्षेत्रों में बुधवार प्रात: भूकंप के हल्के झटके महसूस किए गए ।\n",
            "132 भूकंप की तीव्रता को ४. ०५ रिक्टर स्केल पर मापा गया ।\n",
            "133 मौसम विभाग के मुताबिक भूकंप भारतीय समयानुसार प्रात: ८. १२ बजे आया, इसके झटके चरखी दादरी, भिवानी तथा राजधानी दिल्ली के कुछ क्षेत्रों में महसूस किए गए ।\n",
            "134 घटना में किसी नुकसान या जनहानि की कोई सूचना नहीं है ।\n",
            "135 अन्नान भारतीय उपमहाद्वीप की यात्रा पर\n",
            "136 न्यूयार्क ।\n",
            "137 संयुक्त राष्ट्र के महासचिव कोफी अन्नान अगले माह भारतीय उपमहाद्वीप की यात्रा पर आ रहे हैं ।\n",
            "138 संयुक्त राष्ट्र के प्रवक्ता के मुताबिक कोफी अन्नान ९ मार्च को न्यूयार्क से रवाना होंगे तथा सबसे पहले पाकिस्तान की राजधानी इस्लामाबाद पहुंचेगे ।\n",
            "139 वे यहां पाक के राष्ट्रपति रफीक तरार, पाक के मुख्य कार्यकारी जनरल परवेज मुशर्रफ, विदेश मंत्री अब्दुल सत्तार से मिलेंगे ।\n",
            "140 पाक के बाद अन्नान १३ मार्च को बंग्लादेश पहुंचेंगे, जहां राष्ट्रपति शहाबुद्दीन अहमद, प्रधानमंत्री शेख हसीना से मिलेंगे तथा पर्यावरण पर एक व्याख्यान भी देंगे ।\n",
            "141 अन्नान १५ से १७ मार्च तक भारत प्रवास पर रहेंगे ।\n",
            "142 उनका दौरा मुख्यत: भारत-पाकिस्तान के बीच तनावों के मद्देनजर महत्वपूर्ण माना जा रहा है ।\n",
            "143 इस दौरे में वे राष्ट्रपति के. आर. नारायणन, प्रधानमंत्री अटलबिहारी वाजपेयी, विदेश मंत्री जसवंत सिंह से चर्चा करेंगे ।\n",
            "144 अन्नान १८ मार्च को न्यूयार्क लौट जाएंगे ।\n",
            "145 ब्रैडमैन का अंतिम संस्कार गुरुवार को\n",
            "146 एडिलेड ।\n",
            "147 क्रिकेट के सर्वकालीन महान खिलाड़ी सर डॉन ब्रैडमैन का अंतिम संस्कार एडिलेड में गुरुवार को किया जायेगा ।\n",
            "148 ब्रैडमैन के पुत्र जॉन ने एक संवाददाता सम्मेलन में बुधवार को कहा कि उनके पिता का अंतिम संस्कार केेंसिंग्टन पार्क स्थित ब्रैडमैन के पारिवारिक घर से निकलने वाली एक जुलूस के बाद सेेंटिनियल पार्क में निजी स्तर पर किया जायेगा ।\n",
            "149 जॉन ने कहा कि उनके पिता ब्रैडमैन ने उनसे आग्रह किया था कि उनका अंतिम संस्कार निजी स्तर पर ही किया जाये ।\n",
            "150 लेकिन आगामी २५ मार्च को सेंट पीटर्स कैथेडरल में लोग ब्रैडमैन को श्रद्धांजलि दे सकते हैं ।\n",
            "151 ऑस्ट्रेलिया के पूर्व कप्तना रिची बेनो और ऑस्ट्रेलियाई गवर्नर जनरल सर विलियम डिन प्रवक्ता होंगे ।\n",
            "152 पास में एडिलेड ओवल में ब्रैडमैन की यादगार बल्लेबाजी के फिल्म आम जनता के लिए उपलब्ध कराये जायेंगे ।\n",
            "153 जॉन ब्रैडमैन ने कहा,'शाम में ओवल से कैथेडरल बहुत सुंदर दिखाई देता है ।\n",
            "154 एक बड़े पर्दे पर ब्रैडमैन की बल्लेबाजी के फिल्म दिखायेे जायेंगे ।'\n",
            "155 ट्रेवर चैपल बंागलादेश को करेेंगे कोच\n",
            "156 ढाका ।\n",
            "157 इस माह की शुरुआत में ऑस्ट्रेलिया और बांगलादेश क्रिकेट बोर्ड केबीच हुए अनुबंध के तहत टेस्ट क्रिकेट में दाखिल हो चुकी बांगलादेश क्रिकेट टीम को ऑस्ट्रेलिया के ट्रेवर चैपल कोच करेंगे ।\n",
            "158 यह खबर विश्वसनीय सूत्रों से बुधवार को मिली ।\n",
            "159 ट्रेवर ऑस्ट्र्रेलिया के दो महान क्रिकेटरों इयान और ग्रेग चैपल के भाई हैं ।\n",
            "160 ट्रेवर की चर्चा १९८१ में जोरों से हुई जब उन्हें उनके भाई ग्रेग ने एक महत्त्वपूर्ण एकदिवसीय मैच में न्यू जीलैंड को जीत से वंचित करने के लिए अंतिम गेंद अंडरआर्म डालने का आदेश दिया था ।\n",
            "161 उस अंतिम गंेद को छक्का के लिए मैदान से बाहर कर न्यू जीलैंड की टीम मैच जीत जा सकती थी ।\n",
            "162 सूत्र के अनुसार टीम के फिजियो जॉन ग्लास्टर होंगे ।\n",
            "163 ट्रेवर और जॉन जल्दी ही अपने कार्यभार संभाल लेंगे ।\n",
            "164 अनुबंध के तहत हर वर्ष बांगलादेश के दो क्रिकेटरों को ऑस्ट्रेलियाई क्रिकेट अकादमी में प्रशिक्षण दिया जायेगा ।\n",
            "165 ऑस्ट्रेलिया के क्रिकेट विशेषज्ञ ढाका का दौरा कर क्रिकेट प्रशासकों, वित्तीय और विपणन विभाग के अधिकारियों को क्रिकेट के विकास के लिए प्रशिक्षण देंगे ।\n",
            "166 दहिया बोर्ड अध्यक्ष एकादश के कप्तान\n",
            "167 मुंबई ।\n",
            "168 भारत दौरे पर आयी ऑस्ट्रेलियाई टीम के विरूद्ध छह मार्च से दिल्ली में खेले जानेवाले तीन दिवसीय मैच में बोर्ड अध्यक्ष एकादश के कप्तान विकेटकीपर विजय दहिया होंगे ।\n",
            "169 दहिया के नेतृत्व में खेलने वाली टीम इस प्रकार है- विजय दहिया( कप्तान), विनायक माने, मोहम्मद कैफ, जैकोब मार्टिन, दिनेश मोंगिया, एस. श्रीराम, हृषिकेश कानितकर, नरेंद्र हिरवानी, राकेश पटेल, सुरिंदर सिंह, जे.पी.यादव, शरणदीप सिंह, गौतम गंभीर और रमेश पवार ।\n",
            "170 'केंट' टीम में द्रविड़ की जगह कलिनन\n",
            "171 लंडन ।\n",
            "172 इंग्लिश काउंटी'केंट' ने मंगलवार को घोषणा कर दी कि आगामी क्रिकेट सीजन में उनकी टीम का समुद्रपार खिलाड़ी दक्षिण अफ्रीका के डैरिल कलिनन होंगे ।\n",
            "173 दायें हाथ के बल्लेबाज कलिनन ने अपने देश के लिए ६५ टेस्ट और १३८ एकदिवसीय मैच खेले हैं ।\n",
            "174 अंतरराष्ट्रीय मैचों के व्यस्ततम कार्यक्रम के कारण आगामी सीजन में केंट की तरफ से भारत के राहुल द्रविड़ के नहीं खेल पाने की वजह से केेंट ने कलिनन को अनुबंधित किया ।\n",
            "175 डर्बीशायर की तरफ से खेल चुके कलिनन ने टेस्ट में कुल ४०९५ रन बनाये हैं और उनका ४३. ५६ का औसत सम्मानजनक है ।\n",
            "176 उन्होंने बारह टेस्ट शतक बनाये हैं ।\n",
            "177 अगले सप्ताह ३४ वर्ष के हो जाने वाले कलिनन इंग्लैंड समय पर पहुंचेेंगे ।\n",
            "178 केंट का पहला होम काउंटी चैंपियनशिप यॉर्कशायर के विरूद्ध २५ अप्रैल को खेला जायेगा ।\n",
            "179 अगासी डेविस कप में नहीं खेलेेंगे\n",
            "180 सान जोस( कैलिफोर्निया) ।\n",
            "181 अमरीकी डेविस कप इतिहास के महान खिलाड़ियों में से एक आंद्रे अगासी ने कहा कि वे अब कभी भी अपने देश के लिए स्पर्धात्मक टेनिस में नहीं खेलेंगे ।\n",
            "182 डेविस कप में तीस एकल मैच जीतने वाले अगासी ने कहा,' मैं बारह साल खेल चुका हूं और मैं डेविस कप में अपने समर्पण और रिकॉर्ड के प्रति गर्वांवित हूं ।\n",
            "183 मेरा रिकॉर्ड ही टेनिस के प्रति मेरे समर्पण भाव को दर्शाता है ।'\n",
            "184 अमरीका के जॉन मेकेन्रो ने अपने देश के लिए डेविस कप में सर्वाधिक एकल मैच जीते हैं ।\n",
            "185 साइबस ओपन के तहत खेले गये पहले चक्र के मैच में जीत दर्ज करने के बाद अगासी ने कहा,'समय आ गया है कि मैं अब नौजवान खिलाड़ियों को खेलने का मौका दूं ।\n",
            "186 मुझे विश्वास नहीं कि मैं अब उसी समर्पण भाव से खेल पाऊं ।'\n",
            "187 ऑस्ट्रेलियाई ओपन चैंपियन अगासी ने कहा,'यह बिल्कुल साफ है कि मैं अब डेविस कप में नहीं खेलूंगा ।'\n",
            "188 इससे पहले अमरीका के ही सुपरस्टार टेनिस खिलाड़ी पीट सैम्प्रास कह चुके हैं कि वे डेविस कप में नहीं खेलेेंगे ।\n",
            "189 अमरीकी डेविस कप के कप्तान पैट्रिक मेकेन्रो के लिए यह एक धक्का से कम नहीं होगा ।\n",
            "190 दो विकेट खो भारत ११५ रन पीछे\n",
            "191 मुंबई ।\n",
            "192 ऑस्ट्रेलिया से पहली पारी के आधार पर १७३ रनों से पिछड़ जाने के बाद भारत ने अपनी दूसरी पारी मेें दूसरे दिन का खेल समाप्त होने तक दो विकेट खोकर ५८ रन बनाये हैं ।\n",
            "193 राहुल द्रविड़ छह रन पर खेल रहे हैं जबकि सचिन तेंदुलकर ने अपना खाता नहीं खोला है ।\n",
            "194 भारत की शुरुआत अच्छी हुई जब दोनों सलामी बल्लेबाजों रमेश और दास ने पारी को जमाने के लिए प्रशंसनीय कोशिश की ।\n",
            "195 लेकिन भारत को पहला झटका तब लगा जब दास को जेसन गिलेस्पी ने सात रन पर स्टीव वॉ के हाथों लपकवा दिया ।\n",
            "196 दास ने ५० गेंदों का सामना किया और वे बहुत ही चौकन्ना होकर बल्लेबाजी कर रहे थे ।\n",
            "197 ३३ रन पर पहला विकेट खोने के बाद भारत ने दूसरा विकेट रमेश का ५७ रन पर खोया ।\n",
            "198 रमेश ने ४४ रनों की पारी खेली ।\n",
            "199 रमेश ने ८४ गेंदों का सामना कर सात चौके लगाये ।\n",
            "200 उन्हेें मैक्ग्रा ने पोंटिंग के हाथों लपकवाया ।\n",
            "201 ऑस्ट्रेलिया ने पहली पारी के आधार पर भारत पर १७३ रनों की बढ़त ली ।\n",
            "202 वानखेड़े स्टेडियम पर शृंखला के पहले टेस्ट मैच क े दूसरे दिन ऑस्ट्रेलिया की पारी ३४९ रनों पर सिमटी ।\n",
            "203 मैथ्यू हेडन और एडम गिलक्रिस्ट ने शतकीय पारी खेली ।\n",
            "204 इन दोनों बल्लेबाजों के बीच छठे विकेट के लिए १९७ रनों की भागीदारी हुई ।\n",
            "205 इससे पहले एक विकेट पर ४९ रन से आगे खेलते हुए ऑस्ट्रेलिया ने दूसरे दिन पहले सत्र के खेल में ही जल्दी-जल्दी जस्टीन लैंगर, मार्क वॉ, स्टीव वॉ और रिकी पोंटिंग के विकेट खो दिये ।\n",
            "206 पहला विकेट लैंगर का गिरा जब हरभजन सिंह ने उन्हें १९ रन पर स्लीप में राहुल द्रविड़ के हाथों लपकवाया ।\n",
            "207 लैंगर ने ५३ गेंदों का सामना कर दो चौके लगाये ।\n",
            "208 लैंगर की जगह बल्लेबाजी के लिए आये मार्क वॉ को पहली ही गेंद पर हरभजन ने कप्तान सौरभ गांगुली के हाथोें स्लीप क्षेत्र में ही विलक्षण तरीके से लपकवा दिया ।\n",
            "209 लेकिन फिर विकेट पर आये कप्तान स्टीव वॉ ने हरभजन को हैट्रिक से वंचित कर किया ।\n",
            "210 ७१ रन पर ही लैंगर और मार्क के विकेट खोने के बाद ऑस्ट्रेलिया का अगला विकेट ९८ रन पर स्टीव वॉ के रूप में गिरा जिन्हें राहुल संघवी ने द्रविड़ के हाथों लपकवाया ।\n",
            "211 वॉ ने तीन चौकों की मदद से १५ रन बनाये । रिकी पोंटिंग को शून्य पर ही हरभजन सिंह ने दास के हाथों लपकवाया ।\n",
            "212 लेकिन इसके बाद विकेट के एक छोर को संभाले रहने वाले मैथ्यू हेडन का साथ देने विकेट पर उपकप्तान एडम गिलक्रिस्ट आये और दोनों ही बल्लेबाजों ने मिलकर छठे विकेट के लिए १९७ रनों की तेज भागीदारी की ।\n",
            "213 इस दौरान दोनों ही बल्लेबाजों ने हरभजन, संघवी और तेेंदुलकर की जमकर धुलाई की ।\n",
            "214 हेडन ने १७२ गेंदों का सामना करते हुए १८ चौकों और एक छक्के की मदद से ११९ रन की पारी खेली ।\n",
            "215 उन्हें जवागल श्रीनाथ ने विकेटकीपर मोंगिया के हाथों लपकवाया ।\n",
            "216 हरभजन की गेंद पर मोंगिया द्वारा स्टम्प कर दिये जाने से पूर्व गिलक्रिस्ट ने ११२ गेंदों में १२३ रनों की पारी खेली ।\n",
            "217 उन्होंने १५ चौके और चार छक्के उड़ाये ।\n",
            "218 फिर ठिक एक रन बाद ३२७ पर ऑस्ट्रेलिया ने गिलेस्पी के रूप में आठवां विकेट खोया ।\n",
            "219 श्रीनाथ ने उन्हें मोंगिया के हाथों ही लपकवाया ।\n",
            "220 नौवां विकेट डेमियन फ्लेमिंग का और दसवां व अंतिम विकेट शेन वार्न का गिरा ।\n",
            "221 ऑस्ट्रेलिया ने ये दोनो ही विकेट ३४९ के योग पर खोये । वार्न ने ३९ रनों की पारी खेली ।\n",
            "222 उन्होंने ३७ गेंदों में दो चौके और तीन छक्के लगाये ।\n",
            "223 उन्हें संघवी ने तेेंदुलकर के हाथों कैच कराया ।\n",
            "224 भारत की तरफ से हरभजन ने चार और श्रीनाथ, संघवी तथा आगरकर ने दो-दो विकेट लिये ।\n",
            "225 सचिन की श्रेणी अलग है -वार्न\n",
            "226 मुंबई ।\n",
            "227 मंगलवार को पहले टेस्ट मैच के पहले दिन का खेल समाप्त होने के बाद ऑस्ट्रेलिया की तरफ से सबसे सफल रहे गेंदबाज शेन वार्न ने कहा,' ग्लेन मैक्ग्रा ने बहुत सही समय पर तेेंदुलकर को आउट किया ।\n",
            "228 हमें ऐसा लग रहा था कि सचिन समस्या बन जायेंगे ।\n",
            "229 वार्न ने कहा कि सचिन एक असाधारण बल्लेबाज हैं और उनकी श्रेणी बिल्कुल अलग है ।\n",
            "230 भारत की पहली पारी में अपनी गेंदबाजी से वार्न संतुष्ट लगे ।\n",
            "231 वार्न ने पिच तैयार करने वाले क्यूरेटर की प्रशंसा करते हुए कहा,'टेस्ट मैच के लिए यह पिच शानदार है ।'\n",
            "232 भारत को पहली पारी में मात्र १७६ रन पर आउट करने में वार्न ने चार बहुमूल्य विकेट लिये ।\n",
            "233 वार्न ने कहा कि इस मैच के परिणाम के बारे अभी कुछ भी नहीं कहा जा सकता है ।\n",
            "234 अगले चार दिनों में कुछ दिलचस्प परिस्थितियां बन सकती हैं ।\n",
            "235 न्यू जीलैंड ने पाक से एकदिवसीय शृंखला जीती\n",
            "236 डुनेडिन ।\n",
            "237 न्यू जीलैंड ने पाकिस्तान को पांचवें और अंतिम एकदिवसीय मैच में चार विकेट से हराकर शृंखला ३-२ से जीत ली ।\n",
            "238 न्यू जीलैंड ने पाकिस्तान द्वारा निर्धारित २८६ रनों का लक्ष्य ४८. १ ओवर में छह विकेट खोकर पूरे कर लिये ।\n",
            "239 हैरिस १४ और ओरम १६ रन बनाकर नाबाद रहे । शतक बनाने वाले नाथन एस्टल को मैन ऑफ द मैच घोषित किया गया ।\n",
            "240 न्यू जीलैंड की पारी की शुरुआत जबरदस्त रही । फ्लेमिंग और एस्टल की सलामी जोड़ी ने मिलकर पहले विकेट के लिए १९३ रनों की भागीदारी की ।\n",
            "241 वकार की गेंद पर बोल्ड होने से पूर्व फ्लेमिंग ने ९१ गेंदों का सामना करते हुए पांच चौकों और दो छक्के की मदद से ६० रनों की पारी खेली ।\n",
            "242 दूसरा विकेट रोजर टुस का गिरा जिन्हें वसीम अकरम ने शाहिद आफरिदी के हाथों १७ रन पर लपकवाया ।\n",
            "243 तीसरा विकेट नाथन एस्टल का गिरा जिन्होंने ११९ रनों की पारी खेली ।\n",
            "244 उन्होंने ११६ गेंदों का सामना कर २१ चौके लगाए ।\n",
            "245 उन्हें वकार ने सलीम ईलाही के हाथों कैच कराया ।\n",
            "246 मैकमिलन ने १३, विंसेट ने १२ रन बनाये जबकि परोरे को शून्य पर ही अख्तर ने बोल्ड कर दिया ।\n",
            "247 पाकिस्तान की तरफ से वकार यूनुस ने तीन, शोएब अख्तर ने दो तथा वसीम अकरम ने एक विकेट लिया ।\n",
            "248 इससे पूर्व पाकिस्तान ने टॉस जीतकर पहले बल्लेबाजी करने का निर्णय लिया ।\n",
            "249 पाक का पहला विकेट अनवर के रूप में ४३ रन पर गिरा ।\n",
            "250 दूसरा विकेट आफरीदी का गिरा जिन्होंने ६५ रनों की पारी खेली ।\n",
            "251 उन्होंने ग्यारह चौके और एक छक्का लगाया ।\n",
            "252 अब्दुर रज्जाक और यूसुफ योहाना ने मिलकर तीसरे विकेट के लिए ६४ रनों की भागीदारी की ।\n",
            "253 रज्जाक ने दो चौकों की मदद से ४१ रन बनाये ।\n",
            "254 आउट होनेवाले चौथे बल्लेबाज योहाना रहे जिन्होंने ७३ गेंदों में पंाच चौकों और एक छक्के की मदद से ६८ रनों की पारी खेली ।\n",
            "255 इमरान फरहत ने ३३ रन बनाये ।\n",
            "256 कप्तान मोईन खान ने चार चौकों और दो छक्कों की मदद से ३६ रन की पारी खेली ।\n",
            "257 अकरम छह और वकार दो रन बनाकर आउट हुए ।\n",
            "258 अजहर महमूद को शून्य पर ही ओरम ने टफी के हाथों लपकवा दिया ।\n",
            "259 न्यू जीलैंड की तरफ से मैकमिलन ने तीन, ओरम और टफी ने दो-दो तथा फ्रैंक्लीन और हैरिस ने एक-एक विकेट लिये ।\n",
            "260 ऑस्ट्रेलिया को १७३ रनों की बढ़त\n",
            "261 मुंबई ।\n",
            "262 ऑस्ट्रेलिया ने पहली पारी के आधार पर भारत पर १७३ रनों की बढ़त ले ली है ।\n",
            "263 वानखेड़े स्टेडियम पर शृंखला के पहले टेस्ट मैच के दूसरे दिन ऑस्ट्रेलिया की पारी ३४९ रनों पर सिमटी ।\n",
            "264 मैथ्यू हेडन और एडम गिलक्रिस्ट ने शतकीय पारी खेली ।\n",
            "265 इन दोनों बल्लेबाजों के बीच छठे विकेट के लिए १९७ रनों की भागीदारी हुई ।\n",
            "266 इससे पहले एक विकेट पर ४९ रन से आगे खेलते हुए ऑस्ट्रेलिया ने दूसरे दिन पहले सत्र के खेल में ही जल्दी-जल्दी जस्टीन लैंगर, मार्क वॉ, स्टीव वॉ और रिकी पोंटिंग के विकेट खो दिये ।\n",
            "267 पहला विकेट लैंगर का गिरा जब हरभजन सिंह ने उन्हें १९ रन पर स्लीप में राहुल द्रविड़ के हाथों लपकवाया ।\n",
            "268 लैंगर ने ५३ गेंदों का सामना कर दो चौके लगाये ।\n",
            "269 लैंगर की जगह बल्लेबाजी के लिए आये मार्क वॉ को पहली ही गेंद पर हरभजन ने कप्तान सौरभ गांगुली के हाथोें स्लीप क्षेत्र में ही विलक्षण तरीके से लपकवा दिया ।\n",
            "270 लेकिन फिर विकेट पर आये कप्तान स्टीव वॉ ने हरभजन को हैट्रिक से वंचित कर किया ।\n",
            "271 ७१ रन पर ही लैंगर और मार्क के विकेट खोने के बाद ऑस्ट्रेलिया का अगला विकेट ९८ रन पर स्टीव वॉ के रूप में गिरा जिन्हें राहुल संघवी ने द्रविड़ के हाथों लपकवाया ।\n",
            "272 वॉ ने तीन चौकों की मदद से १५ रन बनाये ।\n",
            "273 रिकी पोंटिंग को शून्य पर ही हरभजन सिंह ने दास के हाथों लपकवाया ।\n",
            "274 लेकिन इसके बाद विकेट के एक छोर को संभाले रहने वाले मैथ्यू हेडन का साथ देने विकेट पर उपकप्तान एडम गिलक्रिस्ट आये और दोनों ही बल्लेबाजों ने मिलकर छठे विकेट के लिए १९७ रनों की तेज भागीदारी की ।\n",
            "275 इस दौरान दोनों ही बल्लेबाजों ने हरभजन, संघवी और तेेंदुलकर की जमकर धुलाई की ।\n",
            "276 हेडन ने १७२ गेंदों का सामना करते हुए १८ चौकों और एक छक्के की मदद से ११९ रन की पारी खेली ।\n",
            "277 उन्हें जवागल श्रीनाथ ने विकेटकीपर मोंगिया के हाथों लपकवाया ।\n",
            "278 हरभजन की गेंद पर मोंगिया द्वारा स्टम्प कर दिये जाने से पूर्व गिलक्रिस्ट ने ११२ गेंदों में १२३ रनों की पारी खेली ।\n",
            "279 उन्होंने १५ चौके और चार छक्के उड़ाये ।\n",
            "280 फिर ठिक एक रन बाद ३२७ पर ऑस्ट्रेलिया ने गिलेस्पी के रूप में आठवां विकेट खोया ।\n",
            "281 श्रीनाथ ने उन्हें मोंगिया के हाथों ही लपकवाया ।\n",
            "282 नौवां विकेट डेमियन फ्लेमिंग का और दसवां व अंतिम विकेट शेन वार्न का गिरा ।\n",
            "283 ऑस्ट्रेलिया ने ये दोनो ही विकेट ३४९ के योग पर खोये ।\n",
            "284 वार्न ने ३९ रनों की पारी खेली ।\n",
            "285 उन्होंने ३७ गेंदों में दो चौके और तीन छक्के लगाये ।\n",
            "286 उन्हें संघवी ने तेेंदुलकर के हाथों कैच कराया ।\n",
            "287 भारत की तरफ से हरभजन ने चार और श्रीनाथ, संघवी तथा आगरकर ने दो-दो विकेट लिये ।\n",
            "288 'धोती' की जीत\n",
            "289 जयपुर ।\n",
            "290 राजस्थान उच्च न्यायालय में एक वकील ने'धोती' पहनने के मामले में जीत दर्ज कराई है ।\n",
            "291 वेदपाल चौधरी जो करीब २२ वर्षों से यहां वकालत कर रहे हैं ।\n",
            "292 १६ फरवरी को एक मामला पेश करने के दौरान न्यायाधीश राजाराम यादव ने उनकी पोशाक को लेकर आपत्ति जाहिर की और उन्हें'ड्रेस कोड' का कड़ाई से पालन करने के लिए कहा ।\n",
            "293 शास्त्री ने धोती पहन रखी थी, उन्होंने दावा किया कि १९६१ की बार काउंसिल ऑफ इंडिया की'ड्रेस कोड' में धोती शामिल थी ।\n",
            "294 उन्होंने कहा कि उच्च न्यायालय पतलून अथवा धोती पहनने के नियम को लेकर मौन है ।\n",
            "295 आखिरकार पांच दिनों की बहस के बाद फैसला धोती पहनने के पक्ष में गया ।\n",
            "296 इस मामले में न्यायाधीश को यह बताया गया कि बार काउंसिल द्वारा जनवरी १९८० में भारत के मुख्य न्यायाधीश से भी इसकी( धोती पहनने) अनुमति प्राप्त कर ली गई थी ।\n",
            "297 करमापा सारनाथ पहुंचे\n",
            "298 वाराणसी ।\n",
            "299 १७वें ग्यालवा करमापा का सारनाथ पहुंचने पर पारंपरिक बौद्धधर्मी रिवाज से गर्मजोशी से स्वागत किया गया ।\n",
            "300 करमापा दिल्ली से कड़ी सुरक्षा व्यवस्था के बीच यहां पहुंचे ।\n",
            "301 तीर्थ यात्रा पर आए करमापा का बौद्धधर्मी श्रद्धालुओं ने पारंपरिक संगीत से स्वागत किया ।\n",
            "302 करमापा के ठहरने के स्थान बजरा वैद्य संस्थान पर भी कड़ी सुरक्षा व्यवस्था रखी गई है ।\n",
            "303 करमापा १४ दिनों तक सारनाथ में ठहरेंगे ।\n",
            "304 इस दौरान वे मुलगंधा कुटी विहार में प्रार्थना करेंगे और विभिन्न कार्यक्रमों में हिस्सा लेंगे ।\n",
            "305 इनमें तिब्बत इंस्टीट्यूट एण्ड डॉ. संपूर्णानंद संस्कृत यूनिवर्सिटी का कार्यक्रम भी शामिल है ।\n",
            "306 पवार से दोस्ती का सवाल नहीं: ठाकरे\n",
            "307 मुंबई ।\n",
            "308 शिवसेना प्रमुख बाल ठाकरे ने महाराष्ट्र में सेना-भाजपा गठबंधन द्वारा राष्ट्रवादी कांग्रेस पार्टी( एनसीपी) के साथ जुड़ने की संभावना से स्पष्ट रूप से इनकार किया है ।\n",
            "309 लेकिन साथ में यह भी संकेत दिया है कि भाजपा केंद्र में राष्ट्रीय जनतांत्रिक गठबंंधन( एनडीए) सरकार की संख्या को बढ़ाने के लिए एनसीपी के अध्यक्ष शरद पवार से सांठगांठ कर सकती है ।\n",
            "310 ठाकरे ने अपने मुखपत्र'सामना' में अपने बयान में कहा है कि'मैं सेना-भाजपा के एनसीपी से गठबंधन के लिए तैयार नहीं हूं और मैंने किसी के साथ इस मुद्दे पर चर्चा भी नहीं की है ।'\n",
            "311 केंद्रीय आपदा प्रबंध समिति का शरद पवार को उपाध्यक्ष नियुक्त करने के मुद्दे पर ठाकरे ने कहा कि'यह शायद उनका( भाजपा) प्रयोग हो सकता है ।\n",
            "312 ठाकरे ने कहा कि यह मेरी व्यक्तिगत भविष्यवाणी है कि भाजपा व पवार के बीच आदान-प्रदान केवल एनडीए सरकार के संख्या मजबूती को लेकर होनी चाहिए ।\n",
            "313 हमले आयोजित नहीं थे: आयोग\n",
            "314 भुवनेश्वर ।\n",
            "315 राष्ट्रीय अल्पसंख्यक आयोग ने कहा है कि हाल ही में देश के विभिन्न हिस्सों में ईसाइयों पर हुए हमले आयोजित नहीं थे ।\n",
            "316 आयोग के सदस्यों ने बताया कि सभी राज्यों में ईसाइयों पर हुए हमले की घटनाओं की हमने जांच की ।\n",
            "317 इससे पता चला कि वे आकस्मिक घटनाएं थीं, जिसके लिए किसी संगठित समूह को जिम्मेदार नहीं ठहराया जा सकता ।\n",
            "318 आयोग के अध्यक्ष न्यायाधीश मोहम्मद शमीम, उपाध्यक्ष त्रिलोचन सिंह व सदस्य जॉन जोसेफ उड़ीसा के दौरे पर आए हुए हैं ।\n",
            "319 आयोग ने ईसाइयों पर हुए हमले से पैदा हुए विवाद को ईसाइयों के नेताओं और हिंदू संगठनों के बीच आपसी बातचीत से खत्म करने लिए कहा है ताकि शांति बहाल की जा सके ।\n",
            "320 जोसेफ ने कहा कि आगामी मार्च-अप्रैल में नई दिल्ली में एक राष्ट्रीय संवाद का आयोजन किया जाएगा, जिसमें ईसाई समुदाय के नेताओं, विश्व हिंदू परिषद औरराष्ट्रीय स्वयं सेवक संघ के नेताओं को आमंत्रित किया जाएगा ।\n",
            "321 बिहार\n",
            "322 बजट सत्र शुक्र से\n",
            "323 पटना ।\n",
            "324 बिहार विधानसभा का बजट सत्र शुक्रवार से शुरू हो रहा है ।\n",
            "325 इसमें पंचायत चुनाव में आरक्षण का मुद्दा मुख्य रहेगा ।\n",
            "326 इस मुद्दे पर सभी विपक्षी दलों ने अपनी कमर कस ली है ।\n",
            "327 इस आरक्षण को लेकर अधिसूचना पहले ही जारी कर दी गई थी ।\n",
            "328 इस मुद्दे को लेकर सदन में शोर-शराबा हो सकता है ।\n",
            "329 विपक्ष के नेता सुशील कुमार मोदी ने कहा कि उनकी पार्टी पंचायत चुनाव में आरक्षण के मुद्दे के अलावा राज्य सरकार और बिहार कैडर के आईएएस अधिकारियों के बीच चल रहे संघर्ष के मुद्दे को भी उठाएगी ।\n",
            "330 मोदी ने कहा कि भविष्य की रणनीति की योजना भारतीय जनता पार्टी लेजिस्लेटर पार्टी के बैठक में ली जाएगी ।\n",
            "331 बिहार के राज्यपाल वी. सी. पांडे बजट सत्र की शुरुआत में संयुक्त सत्र को संबोधित करेंगे ।\n",
            "332 युद्ध विराम कमजोरी नहीं: मिश्र\n",
            "333 नई दिल्ली ।\n",
            "334 राष्ट्रीय सुरक्षा सलाहकार बृजेश मिश्र ने कहा है कि जम्मू और कश्मीर में युद्ध विराम की अवधि बढ़ाने को कमजोरी और अनिर्णयता नहीं समझना चाहिए ।\n",
            "335 मिश्र ने कहा कि'हम पड़ोसियों के साथ मित्रता व शांति चाहते हैं ।\n",
            "336 यह किसी भी समय हमारी कमजोरी व अनिर्णयता के रूप में नहीं देखी जानी चाहिए ।\n",
            "337 एक पुस्तक विमोचन समारोह में पत्रकारों से बातचीत के दौरान मिश्र ने यह प्रतिक्रिया व्यक्त की ।\n",
            "338 उन्होंने बताया कि हमारे पास ठोस सबूत थे, जो दर्शाते थे कि पाकिस्तान हिंसा के स्तर को नियंत्रित कर सकता था ।\n",
            "339 लेकिन उसने ऐसा नहीं किया ।\n",
            "340 उसने जम्मू-कश्मीर में आतंकवादी गतिविधियों के लिए अपना सहयोग जारी रखा है ।\n",
            "341 मिश्र ने पिछले वर्ष जुलाई-अगस्त में पहले युद्ध विराम को निरस्त करने के लिए पाकिस्तान को जिम्मेदार ठहराया है ।\n",
            "342 उन्होंने कहा कि भारत द्वारा नवम्बर में किए गए एकतरफा युद्ध विराम से घाटी में हिंसा में कमी आई थी, लेकिन अगले दो महीनों के भीतर हिंसा में बढ़ोतरी हो गई ।\n",
            "343 लादेन से जुड़े उग्रवादी गिरफ्तार\n",
            "344 लंदन ।\n",
            "345 पिछले दिनों यूरोप में गिरफ्तार किए गए संदेहास्पद मुस्लिम उग्रवादियों के मामले में यूरोपभर में गुप्तचरों द्वारा कड़ी छानबीन की जा रही है ।\n",
            "346 इन संदेहास्पद उग्रवादियों के कुख्यात अपराधी ओसमा बिना लादेन से जुड़े होने का संदेह है ।\n",
            "347 कुछ सप्ताह पहले १० संदेहास्पद मुस्लिम उग्रवादियों को गिरफ्तार किया गया था, जबकि करीब दो दर्जन उग्रवादियों पर यूरोप में मुकदमा चलाने की तैयारी जारी है ।\n",
            "348 ये उग्रवादी फ्रांस, ब्रिटेन, व जर्मनी में गिरफ्तार किए गए हैं ।\n",
            "349 इनमें से करीब दो दर्जन आतंकवादी, जिन पर मुस्लिम आतंकवादियों को फर्जी दस्तावेज बनाने में सहयता करने का आरोप है ।\n",
            "350 इन पर मुकदमा चलाया जा रहा है ।\n",
            "351 ८८ कश्मीर नेताओं ने वीजा मांगे\n",
            "352 नई दिल्ली ।\n",
            "353 जम्मू और कश्मीर लिबरेशन फ्रंट( जेकेएलएफ) के अध्यक्ष अमानुल्ला खान सहित ८७ अन्य नेताओं व बुद्धिजीवियों ने भारत सरकार से'वीजा' मांगे हैं ।\n",
            "354 जम्मू में आगामी १७ और १८ मार्च को होने वाली दो दिवसीय कांफ्रेंस में ये नेतागण शामिल होना चाहते हैं ।\n",
            "355 इस कांफ्रेंस का आयोजन भूतपूर्व मुख्यमंत्री जी. एम. शाह द्वारा किया जा रहा है ।\n",
            "356 इस कांफ्रेंस का विषय'जम्मू व कश्मीर: शांति व हल की तलाश में' है ।\n",
            "357 इस कांफ्रेंस में कश्मीर समस्या को लेकर दोनों पक्षों में खुली चर्चा होगी ।\n",
            "358 इस्लामाबाद स्थित भारतीय उच्चायोग का कहना है कि उसे इन ८८ व्यक्तियों में से किसी की भी वीजा की अर्जी प्राप्त नहीं हुई है ।\n",
            "359 इस मामले में जेकेएलएफ अध्यक्ष खान का कहना है कि चूंकि ये व्यक्ति विवादास्पद हैं ।\n",
            "360 लिहाजा संवेदनशीलता को देखते हुए शाह द्वारा उचित तरीके से भारत सरकार द्वारा स्वीकृत करवाए जाने के प्रयास किए जाने चाहिए ।\n",
            "361 केवल वीजा अर्जी भरने से काम नहीं चलेगा ।\n",
            "362 इन नेताओं में वैरिस्टर सुल्तान महमूद, सरदार कय्यूम, नवाज खान आदि का समावेश है ।\n",
            "363 करगिल रिपोर्ट २६ को\n",
            "364 नईदिल्ली ।\n",
            "365 करगिल विवाद पर रिपोर्ट आगामी २६ फरवरी को प्रधानमंत्री अटलबिहारी वाजपेयी को सौंपी जाएगी ।\n",
            "366 सुब्रह्मणयम समिति की सिफारिश पर मंत्रियों के एक पैनल का गठन किया गया था, जो कारगिल विवाद पर गहरा अध्ययन कर चुका है ।\n",
            "367 इस पैनल का गठन केंद्रीय गृहमंत्री लालकृष्ण आडवाणी की अध्यक्षता में किया गया है ।\n",
            "368 राष्ट्रीय सुरक्षा सलाहकार बृजेश मिश्र ने'करगिल एण्ड आफ्टर: चैलेंजेस फॉर इंडियन पॉलिसी' का विमोजन करते हुए कहा कि'हालांंकि करगिल प्रकरण सैन्य व राजनीतिक जीत रही, लेकिन इस दौरान हमारी नीतियों में कुछ खामियां भी उभरकर सामने आई हैं ।\n",
            "369 मिश्र ने कहा कि इन खामियों को दूर करने के लिए उचित विश्लेषण किया जा रहा है ।\n",
            "370 इसी के मद्देनजर यह पैनल गठित किया गया है ।\n",
            "371 इस पैनल की रिपोर्ट पर अंतिम बैठक १९ फरवरी को हुई, जिसमें रिपोर्ट के प्रारूप को स्वीकृति दे दी गई ।\n",
            "372 इस रिपोर्ट म ें राष्ट्रीय सुरक्षा का गहन विश्लेषण किया गया है ।\n",
            "373 अफगानी शरणार्थी स्वदेश जाएं: पाक\n",
            "374 पेशावर ।\n",
            "375 पाकिस्तान ने अफगानी शरणार्थियों से कहा कि वे अपने देश लौट जाएं ।\n",
            "376 पाक के एक राज्य में रह रहे लगभग १० हजार अफगानी शरणार्थियों से कहा गया है कि वे अपने २० साल पुराने कैंपों में लौट जाएं या स्वदेश चले जाएं ।\n",
            "377 पाक के आवास विकास विभाग के मुताबिक उनके देश की नार्थ-वेस्ट फ्रांटियर प्रोविंस की सरकार ने शरणार्थियों से कहा है कि वे अपने दूसरे कैंपों में जाएं या स्वदेश लौटें ।\n",
            "378 इसके चलते सूखे तथा युद्ध का संकट झेल रहे शरणार्थियों के सामने एक नए निष्क्रमण की चुनौती सामने है ।\n",
            "379 लगभग १७ हजार शरणार्थी सितंबर में यहां आए थे ।\n",
            "380 लेकिन स्थानीय राज्य सरकार ने उन्हें नए कैंप बनाने के लिए जगह नहीं दी ।\n",
            "381 संयुक्त राष्ट्र के मुताबिक अफगानिस्तान में तालिबानों के शासन के बाद लगभग १ लाख लोग शरणार्थियों का जीवन बिता रहे हैं ।\n",
            "382 संयुक्त राष्ट्र के मानवाधिकार पर्यवेक्षक केंजो ओसीमा ने पिछले दिनों यहां के एक शरणार्थी कैंप का दौरा किया ।\n",
            "383 जहां वे खराब हालात और अस्वास्थ्यकर परिस्थितियों में रह रहे हैं ।\n",
            "384 पाकिस्तान में लगभग एक लाख से अधिक शरणार्थी हैं, जिनमें ज्यादातर १९७९-८९ के युद्ध के दौरान यहां आए थे ।\n",
            "385 उग्रवादी संगठनों ने युद्धविराम को ठुकराया\n",
            "386 श्रीनगर ।\n",
            "387 पाक प्रेरित ज्यादातर उग्रवादी संगठनों ने केंद्र सरकार द्वारा शांति प्रक्रिया के तहत बढ़ाए गए युद्ध विराम को ठुकरा दिया है और इसे बेमतलब व धोखा बताया है ।\n",
            "388 जबकि घाटी के आम लोगों ने इस फैसले को सराहा है और कहा कि इससे समस्या का हल निकालने में मदद मिलेगी ।\n",
            "389 उल्लेखनीय है कि केंद्र सरकार ने २६ फरवरी को समाप्त हो रहे युद्ध विराम की अवधि ३ माह तक बढ़ाने का फैसला किया है तथा गुरुवार को लोकसभा में प्रधानमंत्री ने यह घोषणा भी की ।\n",
            "390 पाक समर्थक तहरीक-उल-मुजाहिदीन के प्रवक्ता का कहना है कि'यह फैसला कश्मीर के आजादी के संघर्ष को भटकाने तथा विश्व समुदाय को गुमराह करने वाला है ।\n",
            "391 उनके मुताबिक पुलिस हिरासत में हो रही मौतों, मुठभेड़ों में लोगों की हत्याओं तथा घाटी में जारी आतंक को छिपाने के लिए सरकार ये नाटक कर रही है ।\n",
            "392 प्रवक्ता के मुताबिक भारत एक तरफ शांति की बात करता है तो दूसरी ओर टैंक खरीदता है व मिसाइलें बनाता है ।\n",
            "393 पाक समर्थक दूसरे संगठन अल-उमर मुजाहिदीन के प्रमुख मुश्ताक अहमद जरगर ने युद्धविराम को ठुकराते हुए कहा कि उनका संगठन भारतीय सैनिक एवं उनकी छावनियों पर हमले जारी रखेगा ।\n",
            "394 जरगर ने कहा कि हम कश्मीर के सवाल पर कोई समझौता नहीं कर सकते ।\n",
            "395 जरगर को १९९९ में उस समय रिहा किया था जब आईसी ८१४ नामक यात्री विमान का अपहरण काठमांडू से कर लिया गया था ।\n",
            "396 इसके अलावा लश्करे-तोयबा, हरकत-उल-मुजाहिदीन, जैस-ए-मोहम्मद जैसे संगठन भी युद्धविराम को ठुकरा चुके हैं ।\n",
            "397 इस सबके बीच यह अच्छा संकेत है कि घाटी एवं सीमा पर रहने वाले स्थानीय नागरिक केंद्र सरकार द्वारा लागू किए गए युद्धविराम का स्वागत कर रहे हैं ।\n",
            "398 निवासियों ने अपनी भावनाएं व्यक्त करते हुए कहा कि'युद्धविराम का फैसला सही है और इसके चलते हम पिछले १० सालों में पहली बार राहत महसूस कर रहे हैं ।'\n",
            "399 श्रीनगर के लालचौक में सब्जी बेचने वाले एक व्यक्ति ने प्रधानमंत्री को इस फैसले पर सराहा और कहा कि मुठभेड़ें तथा पुलिस हिरासत में हो रही मौतों को रोका जाना चाहिए ।\n",
            "400 आल पार्टी हुर्रियत कांफ्रेंस ने अपनी प्रतिक्रिया में कहा है कि इस अवधि का उपयोग कुछ परिणामकारक पहल के लिए होना चाहिए ।\n",
            "401 हुर्रियत के अध्यक्ष प्रो. अब्दुल गनी भट्ट के मुताबिक'हमें सही समय से ५३ सालों से विवादित इस विषय को हल करने के लिए आगे आना होगा, तभी युद्ध विराम के सही परिणाम पाए जा सकते हैं ।\n",
            "402 'उधर बारामूला में एक सभा में हुर्रियत नेता अहमद शाह गिलानी ने कहा कि'भारतीय सेनाओं की जम्मू कश्मीर से पूर्ण वापसी ही इस समस्या का सही समाधान हो सकता है ।'\n",
            "403 घटिया भवन निर्माण: मंत्री पुत्र पर मामला दर्ज\n",
            "404 राजकोट ।\n",
            "405 गुजरात के वित्तमंत्री वजूभाई वाला के पुत्र केतन वजूभाई वाला के खिलाफ घटिया भवन निर्माण का मामला दर्ज किया गया है ।\n",
            "406 उल्लेखनीय है कि गुजरात पुलिस इन दिनों भूकंप में घटिया निर्माण से प्रभावित हुए भवनों के बिल्डरों के खिलाफ मामले दर्ज कर रही है ।\n",
            "407 वित्तमंत्री वाला के पुत्र पर आरोप है कि उन्होंने रेसकोर्स काम्पलेक्स में बहुमंजिली इमारत का घटिया निर्माण किया है ।\n",
            "408 वाला पर भारतीय पैनल कोड ४०६, ४२० तथा ११४ के तहत मामला दर्ज किया गया है ।\n",
            "409 भवन निर्माण में लापरवाही बरतने की शिकायत रेसकोर्स काम्पलेक्स के निवासियों ने पुलिस को दर्ज कराई थी ।\n",
            "410 पिछले दिनों २६ जनवरी को आए भयानक भूकंप में वाला द्वारा बनाई गई बहुमंजिला इमारत में दरारें पड़ गई थीं ।\n",
            "411 इसके अलावा तीन अन्य बिल्डरों दिलखुश सेठ, अतुल सेठ व नाजाभाई पटेल पर भी मामला दर्ज किया गया है ।\n",
            "412 इस बीच अहमदाबाद के'गिरिराज एवेन्यू' बिल्डिंग के २ निर्माताओं को पुलिस ने गिरफ्तार कर लिया है ।\n",
            "413 २६ जनवरी को इस भवन के गिरने से १० लोगों की मौत हो गई थी ।\n",
            "414 पुलिस के मुताबिक अभी अन्य कई बिल्डरों की तलाश जारी है ।\n",
            "415 पेरु में भूकंप से कई मकान क्षतिग्रस्त\n",
            "416 लीमा( पेरु) ।\n",
            "417 पेरु के मध्य क्षेत्र में आए भूकंप से कई मकान क्षतिग्रस्त हो गए हैं लेकिन लोगों को कोई नुकसान नहीं पहुंचा है ।\n",
            "418 पेरु के सरकारी अधिकारियों के मुताबिक भारतीय समयानुसार लगभग प्रात: १०. २० बजे २८० कि. मी. क्षेत्र में भूकंप के लगभग ५ झटके महसूस किए गए ।\n",
            "419 पेरु के शहर सन मार्टिन तथा कुछ जंगली क्षेत्रों में बने मकानों को नुकसान पहुंचा ।\n",
            "420 देवगौड़ा की पत्नी पर तेजाब फेंका\n",
            "421 बंगलौर ।\n",
            "422 पूर्व प्रधानमंत्री एच. डी. देवगौड़ा की धर्मपत्नी चेनम्मा देवगौड़ा पर तेजाब फेंककर उनके ही रिश्तेदार ने उन्हें घायल कर दिया ।\n",
            "423 बंगलौर से २४० कि. मी. दूर पूर्व प्रधानमंत्री के गांव हरदनहल्ली में बुधवार शाम को यह घटना घटी ।\n",
            "424 पुलिस के मुताबिक श्रीमती देवगौड़ा पर उनके १८ वर्षीय भतीजे ने गांव के एक मंदिर में तेजाब फेंका जब वे शिवरात्रि पर पूजा-अर्चना के लिए वहां गई थीं ।\n",
            "425 उनके साथ उनकी पुत्रवधू तथा एसपीजी के एक जवान पर भी तेजाब के छीटें पड़े और वे भी झुलस गए ।\n",
            "426 उधर कर्नाटक के गृहमंत्री मल्लिकार्जुन खड़गे ने घटना की न्यायिक जांच के आदेश दिए हैं ।\n",
            "427 तीनों घायलों का इलाज बंगलौर के एक अस्पताल में चल रहा है ।\n",
            "428 पुलिस के मुताबिक ५९ वर्षीय श्रीमती देवगौड़ा ३० से ३५ प्रतिशत तक झुलस गई हैं ।\n",
            "429 उन्हें पीठ, हाथ, पैर व सिर पर चोटे आई हैं ।\n",
            "430 डाक्टरों ने उन्हें मंदिर में ही प्राथमिक उपचार कर बंगलौर रवाना किया ।\n",
            "431 पुलिस ने देवगौड़ा के भतीजे १८ वर्षीय वासन गौड़ा के गिरफ्तार कर लिया है ।\n",
            "432 देवगौड़ा ने घटना पर अपनी प्रतिक्रिया व्यक्त करते हुए शांति की अपील की और कहा कि उनके भतीजे को उनके विरोधी उनके खिलाफ इस्तेमाल कर रहे हैं ।\n",
            "433 गुजरात कांग्रेस अध्यक्ष पटेल का निधन\n",
            "434 अहमदाबाद ।\n",
            "435 गुजरात प्रदेश कांग्रेस के अध्यक्ष सीडी पटेल का गुरुवार प्रात: ४ बजकर ५० मिनट पर निधन हो गया ।\n",
            "436 वे ७० वर्ष के थे । पटेल के परिवार में उनकी पत्नी, पुत्र और २ पुत्रियां हैं ।\n",
            "437 गुजरात कांग्रेस के प्रवक्ता जयंती लाल परमार के मुताबिक पटेल को दिल का दौरा पड़ने के बाद सोमवार को स्थानीय कृष्णा हार्ट अस्पताल में दाखिल कराया गया था ।\n",
            "438 पटेल पूर्व में सूरत से लोकसभा के लिए चुने जा चुके थे तथा ३ बार विधानसभा के सदस्य भी रहे ।\n",
            "439 वे १९९० में विधानसभा में प्रतिपक्ष के नेता भी थे ।\n",
            "440 बाद में पटेल चिमनभाई पटेल की सरकार में गृहमंत्री बने ।\n",
            "441 पटेल छबीलदास मेहता की सरकार में उपमुख्यमंत्री के रूप में भी दायित्व निभा चुके थे ।\n",
            "442 राजीव गांधी और सीताराम केसरी की अध्यक्षता में वे अखिल भारतीय कांग्रेस कमेटी में सचिव थे ।\n",
            "443 १९९८ में उन्हें प्रदेश कांग्रेस का अध्यक्ष बनाया गया था ।\n",
            "444 कश्मीर में युद्ध विराम की अवधि ३ माह बढ़ी\n",
            "445 नई दिल्ली ।\n",
            "446 प्रधानमंत्री अटलबिहारी वाजपेयी ने गुरुवार को लोकसभा में कश्मीर में जारी युद्ध विराम की अवधि ३ माह के लिए बढ़ाने की घोषणा की ।\n",
            "447 प्रधानमंत्री ने लोकसभा में सरकार के इस निर्णय की जानकारी देते हुए कहा कि युद्ध विराम की अवधि में शांति प्रक्रिया को आगे बढ़ाने के लिए सैन्य बलों द्वारा आतंकवादियों के खिलाफ कार्रवाई रुकी रहेगी ।\n",
            "448 उन्होंने पाकिस्तान से कहा कि वह शांति प्रक्रिया को आगे बढ़ाने में सहयोग करे और आतंकवादी गुटों को मदद देना बंद जो कश्मीर घाटी में दहशत फैला रहे हैं ।\n",
            "449 प्रधानमंत्री ने कहा कि उन्हें उम्मीद है कि पड़ोसी देश पाकिस्तान, भारत विरोधी दुष्प्रचार रोक कर सीमा पार आतंकवाद को रोकने में सहयोग करेगा ।\n",
            "450 इसके पूर्व बुधवार रात्रि सर्वदलीय बैठक में कश्मीर में शांति प्रक्रिया को आगे बढ़ाने के लिए फैसला ले लिया गया था ।\n",
            "451 लगभग ८० मिनट लंबी चली इस बैठक में आमसहमति से कश्मीर में युद्ध विराम को जारी रखने का फैसला हुआ ।\n",
            "452 प्रधानमंत्री ने इसकी औपचारिक घोषणा आज लोकसभा में की ।\n",
            "453 पंजाब राष्ट्रीय खेलों की तैयारी में\n",
            "454 चंडीगढ़ ।\n",
            "455 सितम्बर में पंजाब में आयोजित होेनेवाले राष्ट्रीय खेलों की तैयारी जोरों पर है ।\n",
            "456 खेलों से संबंधित आधारिक संरचनाओें के नवीनीवकरण किये जा रहे हैं ।\n",
            "457 राज्य के खेल विभाग के एक प्रवक्ता ने गुरुवार को कहा कि मरम्मत और नवीनीकरण के काम में २४ करोड़ रूपये खर्च किये जा रहे हैं ।\n",
            "458 छह करोड़ कीमत की खेलों से संबंधित उपकरण खरीदे या आयात किये जा रहे हैं ।\n",
            "459 सभी खेल कॉम्प्लेक्स अगले दो माह के अंदर तैयार हो जायेेंगे ।\n",
            "460 प्रवक्ता ने कहा कि राष्ट्रीय खेल पांच भिन्न स्थलों पर आयोजित किये जायेेंगे ।\n",
            "461 ये स्थल पटियाला स्थित पोलो ग्राउंड एंड नेशनल इंस्टीट्युट ऑफ स्पोर्ट्स, लुधियाना स्थित गुरुनानक स्टेडियम एंड पंजाब एग्रीकल्चर युनिवर्सिटी, जालंधर स्थित हंस राज स्टेडियम एंड सुरजीत हॉकी स्टेडियम, आनंदपुर साहिब और चंडीगढ़ हैं ।\n",
            "462 प्रवक्ता ने बताया कि जालंधर में सिंथेटिक एथलेटिक ट्रैक और लुधियाना में एस्ट्रो टर्फ हॉकी मैदान का निर्माण पांच करोड़ की लागत से किया जा चुका है ।\n",
            "463 युगल मैचों में नहीं खेलेगी हिंगिस\n",
            "464 दुबई ।\n",
            "465 मार्टिना हिंगिस ने इस सीजन में युगल मैच नहीं खेलने की घोषणा कर दी है ।\n",
            "466 विश्व की नंबर एक टेनिस खिलाड़ी हिंगिस इस वर्ष मोनिका सेलेस के साथ मिलकर कई युगल टेनिस मैचों में खेलना चाहती थीं ।\n",
            "467 लेकिन अब वह केवल एकल मैचोें में भाग लेने की बात कर रही है ।\n",
            "468 हिंगिस ने कहा,'मैं युगल मैचोें में खेलकर थक गई हूं । मुझे केवल एकल मैचों में खेलकर अच्छा लग रहा है ।\n",
            "469 पिछले सप्ताह दोहा में मैं प्रायोजकों के साथ कुछ पार्टियों में शरीक हुई ।\n",
            "470 इससे मुझे थोड़ा खाली समय मिलने के साथ-साथ एकान्त भी मिला ।\n",
            "471 अत: अब मैं उन सभी पार्टियों में शामिल होऊंगी जिनमें सामान्य तौर पर मैं शामिल नहीं हुआ करती थी ।'\n",
            "472 हिंगिस ने कहा,' इस साल मैं युगल मैचोें में खेलना नहीं चाहती ।\n",
            "473 लेकिन यदि मुझे ऐसा लगा कि मैं सबकुछ हैंडल कर ले सकती हूं, तब हो सकता है कि मैं युगल मैचोें में भी खेलूं ।'\n",
            "474 ऑस्ट्रेलियन ओपन के फाइनल में जेनिफर कैप्रियाती से हार जाने के लिए अपने व्यस्ततम कार्यक्रम को दोष देते हुए हिंगिस ने कहा,'मैं ज्यादा अभ्यास करना चाहती हूं क्योेंकि युगल मैच बहुत कठिन होते हैं और दबाव भी खूब बन जाता है ।'\n",
            "475 नवंबर, २००० में चिली में एक प्रदर्शनी मैच के दौरान कोर्ट पर ही झड़प हो जाने के कारण इस वर्ष की शुरुआत में हिंगिस ने अपनी पूर्व युगल साथी खिलाड़ी रूस की अन्ना कोर्निकोवा का साथ छोड़ दिया ।\n",
            "476 इस जोड़ी ने मिलकर १९९९ के ऑस्ट्रेलियन ओपन सहित कुल नौ खिताब जीते ।\n",
            "477 श्रीलंका दो विकेट पर २२१ रन\n",
            "478 गाले ।\n",
            "479 श्रीलंका ने इंग्लैंड के साथ खेले जा रहे पहले टेस्ट मैच के पहले दिन दो विकेट खोकर २२१ रन बना लिये हैं ।\n",
            "480 सलामी बल्लेबाज मर्वन अटापट्टु ८५ और डिसिल्वा ५६ रन बनाकर खेल रहे हैं ।\n",
            "481 श्रीलंका ने टॉस जीतकर पहले बल्लेबाजी करने का निर्णय लिया ।\n",
            "482 लेकिन पारी की शुरुआत अच्छी नहीं रही जब टीम के १८ रन के योग पर सनथ जयसूर्या का विकेट गिर गया ।\n",
            "483 उन्हें गॉफ ने १४ रन पर व्हाइट के हाथों कैच कराया ।\n",
            "484 जयसूर्या ने १६ गेंदों का सामना कर तीन चौके लगाये ।\n",
            "485 लेकिन फिर अटापट्टु और सांगकारा ने मिलकर दूसरे विकेट क े लिए ९२ रनों की भागीदारी की ।\n",
            "486 सांगकारा ने १२५ गेंदों का सामने करते हुए पांच चौकों की मदद से ५८ रनों की पारी खेली ।\n",
            "487 सांगकारा को क्रॉफ्ट ने व्हाइट के हाथों कैच कराया ।\n",
            "488 फिर इसके बाद डिसिल्वा ने अटापट्टु के साथ मिलकर पहले दिन का खेल समाप्त होने तक तीसरे विकेट के लिए १११ रनों की महत्त्वपूर्ण भागीदारी की ।\n",
            "489 अटापट्टु ने ८५ रनों की पारी में आठ चौके और डिसिल्वा ने ५६ रनों की पारी में छह चौके और एक छक्का लगाया है ।\n",
            "490 इंग्लैंड की तरफ से गॉफ और क्रॉफ्ट ने एक-एक विकेट लिये हैं ।\n",
            "491 मुंबई के नौ पर ३२८ रन\n",
            "492 मुंबई ।\n",
            "493 ऑस्ट्रेलिया के खिलाफ ब्रेबोर्न स्टेडियम पर शुरू हुए तीनदिवसीय मैचके पहले दिन मुंबई ने नौ विकेट खोकर ३२८ रन बना लिये ।\n",
            "494 स्टम्प के समय राजेश पवार ६५ और निलेश कुलकर्णी १४ रन बनाकर खेल रहे हैं ।\n",
            "495 पवार ने ६७ गेंदों का सामना करते हुए १३ और कुलकर्णी ने २६ गेंदों का सामना करते हुए तीन चौके लगाये हैं ।\n",
            "496 इससे पहले टॉस जीतकर पहले बल्लेबाजी करनेवाली मुंबई की शुरुआत अच्छी नहीं रही ।\n",
            "497 लंच के समय तक मुंबई ने ७८ रन पर चार शीर्ष क्रम के बल्लेबाजों के विकेट खो दिये ।\n",
            "498 और लंच के बाद जब खेल शुरू हुआ तब परांजपे के आउट होते ही मुंबई के ८२ रन पर पांच विकेट हो गये ।\n",
            "499 परांजपे को वार्न ने फ्लेमिंग के हाथोें लपकवाया ।\n",
            "500 सलामी बल्लेबाजों जाफर और माने ने ऑस्ट्रेलिया के तेज गेंदबाजों का मुकाबला बिना किसी खास परेशानी के की ।\n",
            "501 लेकिन पारी के नौवें ओवर में मैक्ग्रा की एक आउट स्वींगर गेंद ने जाफर के बल्ले का बाहरी किनारा लेकर दूसरे स्लिप में मार्क वॉ के हाथों में चली गई ।\n",
            "502 जाफर ने १६ रन बनाये और तब मुंबई की रन संख्या २७ थी ।\n",
            "503 इस सीजन में परीक्षा के कारण अब तक एक भी मैच नहीं खेल पाने वाले जतिन परांजपे ने माने के साथ मिलकर दूसरे विकेट के लिए २५ रन जोड़े ।\n",
            "504 दूसरा विकेट माने का गिरा जिन्होंने १९ रन बनाये ।\n",
            "505 वे हेडन की एक गेंद को पुल करने की कोशिश में बिट हो कर बोल्ड हो गये ।\n",
            "506 तीसरा विकेट अमोल मजुमदार का गिरा जो स्टम्प के सामने सफल करते समय मिलर की मीडियम पेस पर प्लम्ब हो गये ।\n",
            "507 साईंराज बहुतुले और कप्तान समीर दिघे ने मिलकर छठे विकेट के लिए ११७ रनों की भागीदारी की ।\n",
            "508 बहुतुले ने ५१ रनों की पारी खेली ।\n",
            "509 आठवें विकेट के लिए दिघे और पवार ने मिलकर ६३ रन जोड़े ।\n",
            "510 गिलक्रिस्ट द्वारा लपके जाने से पूर्व दिघे ने ८४ रनों की शानदार पारी खेली ।\n",
            "511 पवार ने मैदान पर चौतरफा शॉट खेले ।\n",
            "512 वे दसवेें विकेट के लिए कुलकर्णी के साथ ३२ रनों की भागीदारी कर चुके हैं ।\n",
            "513 मैक्ग्रा की शुरुआती गेंदबाजी अच्छी रही, लेकिन फिर बाद में मुंबई के पुछल्ले बल्लेबाजों ने ऑस्ट्रेलिया के सभी गेंदबाजों को खासा परेशान किया ।\n",
            "514 पवार और म्हांब्रे ने मिलकर मैक्ग्रा की अच्छी धुलाई की ।\n",
            "515 वार्न की गेंदबाजी प्रभावशाली नहीं रही । मैक्ग्रा ने ४६ रन देकर तीन और पोंटिग ने १० रन देकर दो बल्लेबाजों का आउट किया ।\n",
            "516 तीसरा एकदिवसीय मैच पाक ने जीता\n",
            "517 वेलिंग्टन ।\n",
            "518 पाकिस्तान ने पंाच एकदिवसीय मैचों की शृंखला के तीसरे मैच में न्यू जीलैंड को २८ रनों से हरा दिया ।\n",
            "519 न्यू जीलैंड को जीत के लिए २४४ रन बनाने थे लेकिन उनकी पारी ४८. २ ओवर में २१५ रन पर सिमट गई ।\n",
            "520 मैकमिलन, विंसेट और परोरे को छोड़ टीम का कोई भी बल्लेबाज महत्त्वपूर्ण योगदान नहीं दे सका ।\n",
            "521 तीन विकेट लेने वाले ऑफ स्पिनर सक लैन मुश्ताक को मैन ऑफ द मैच घोषित किया गया ।\n",
            "522 न्यू जीलैंड की शुरुआत अच्छी नहीं रही जब उनके तीन बल्लेबाज फ्लेमिंग, टुज और एस्टल को टीम के १८ रन के योग पर ही पैवेलियन लौट जाना पड़ा ।\n",
            "523 अकरम ने फ्लेमिंग को एक रन पर और एस्टल को दस रन पर बोल्ड किया ।\n",
            "524 टुज को वकार यूनुस ने विकेट के पीछे मोइन खान के हाथों एक रन पर लपकवाया ।\n",
            "525 लेकिन फिर विंसेट और मैकमिलन के बीच चौथे विकेट के लिए १०० रनों की भागीदारी हुई ।\n",
            "526 विंसेट ने ६१ गेंदों में तीन चौकों की मदद से ४३ रनों की पारी खेली ।\n",
            "527 उन्हें सकलैन ने मोइन के हाथों स्टम्प कराया ।\n",
            "528 मैकमिलन ने ८३ गेंदों में छह चौकों और एक छक्के की मदद से ६४ रनों की पारी खेली ।\n",
            "529 न्यू जीलैंड के १५२ रन के योग पर मैकमिलन को अब्दुर रज्जाक ने यूसुफ योहाना के हाथों लपकवाया ।\n",
            "530 छठा विकेट भी १५२ रन पर ही गिरा जब क्रिस हैरिस को अब्दुर रज्जाक ने ११ रन पर बोल्ड कर दिया ।\n",
            "531 विट्टोरी, टफी, फ्रैक्लीन और मार्टिन तेज बल्लेबाजी नही कर पाये और न्यू जीलैंड की पारी २१५ रनों पर सिमट गई ।\n",
            "532 ३९ गेंदों में दो चौकों और एक छक्के की मदद से ३४ रन बनाने वाले परोरे अंत तक आउट नहीं हुए ।\n",
            "533 अकरम और सकलैन ने तीन-तीन, रज्जाक ने दो और युनूस तथा महमूद ने एक-एक विकेट लिये ।\n",
            "534 इससे पहले पाकिस्तान ने निर्धारित ५० ओवर में नौ विकेट खोकर २४३ रन बनाये ।\n",
            "535 सईद अनवर ने ५७, इमरान नजीर ने ३२, सलीम ईलाही ने ३० और यूसुफ योहाना ने ४७ रनों की पारी खेली ।\n",
            "536 अनवर और नजीर ने पहले विकेट के लिए ४५ और फिर दूसरे विकेट के लिए अनवर और ईलाही ने मिलकर ६० रनों की भागीदारी की ।\n",
            "537 पाक के पुछल्ले बल्लेबाजों में अजहर महमूद ने १७ रन बनाये ।\n",
            "538 कप्तान मोइन खान ने १५ रनों का योगदान दिया ।\n",
            "539 न्यू जीलैंड की तरफ से टफी और फ्रैंक्लीन ने तीन-तीन और हैरिस ने दो विकेट लिये ।\n",
            "540 अनवर को विंसेट ने रन आउट किया ।\n",
            "Total sentences in the tagged file are 540\n",
            "Sentences to be trained 486 Sentences to be tested against 487\n"
          ]
        }
      ]
    },
    {
      "cell_type": "code",
      "source": [
        "data = indian.tagged_sents(tagged_set)\n",
        "train_data = data[:train_rows]\n",
        "test_data = data[test_rows:]\n",
        "\n",
        "\n",
        "pos_tagger = tnt.TnT()\n",
        "pos_tagger.train(train_data)\n",
        "pos_tagger.evaluate(test_data)"
      ],
      "metadata": {
        "colab": {
          "base_uri": "https://localhost:8080/"
        },
        "id": "MKKQUk8sLdh-",
        "outputId": "4c8d2bf8-2045-4937-9791-12441757f88c"
      },
      "execution_count": 37,
      "outputs": [
        {
          "output_type": "stream",
          "name": "stderr",
          "text": [
            "<ipython-input-37-d2db1e6d2bf6>:8: DeprecationWarning: \n",
            "  Function evaluate() has been deprecated.  Use accuracy(gold)\n",
            "  instead.\n",
            "  pos_tagger.evaluate(test_data)\n"
          ]
        },
        {
          "output_type": "execute_result",
          "data": {
            "text/plain": [
              "0.8111964873765093"
            ]
          },
          "metadata": {},
          "execution_count": 37
        }
      ]
    },
    {
      "cell_type": "code",
      "source": [
        "sentence_to_be_tagged = \"प्रधानमंत्री ने कहा कि उन्हें उम्मीद है कि पड़ोसी देश पाकिस्तान, भारत विरोधी दुष्प्रचार रोक कर सीमा पार आतंकवाद को रोकने में सहयोग करेगा ।\"\n",
        "\n",
        "tokenized = nltk.word_tokenize(sentence_to_be_tagged)"
      ],
      "metadata": {
        "id": "-yzI1JOiLhQO"
      },
      "execution_count": 38,
      "outputs": []
    },
    {
      "cell_type": "code",
      "source": [
        "hindi_pos = pos_tagger.tag(tokenized)"
      ],
      "metadata": {
        "id": "vVb-3-YwLmrd"
      },
      "execution_count": 39,
      "outputs": []
    },
    {
      "cell_type": "code",
      "source": [
        "hindi_pos"
      ],
      "metadata": {
        "colab": {
          "base_uri": "https://localhost:8080/"
        },
        "id": "8I-4_7J-LrJl",
        "outputId": "02c1ec8c-7f76-4a1d-8a83-1cf9f6de443e"
      },
      "execution_count": 40,
      "outputs": [
        {
          "output_type": "execute_result",
          "data": {
            "text/plain": [
              "[('प्रधानमंत्री', 'NN'),\n",
              " ('ने', 'PREP'),\n",
              " ('कहा', 'VFM'),\n",
              " ('कि', 'CC'),\n",
              " ('उन्हें', 'PRP'),\n",
              " ('उम्मीद', 'NN'),\n",
              " ('है', 'VFM'),\n",
              " ('कि', 'CC'),\n",
              " ('पड़ोसी', 'NNC'),\n",
              " ('देश', 'NN'),\n",
              " ('पाकिस्तान', 'NNP'),\n",
              " (',', 'PUNC'),\n",
              " ('भारत', 'NNP'),\n",
              " ('विरोधी', 'JJ'),\n",
              " ('दुष्प्रचार', 'NN'),\n",
              " ('रोक', 'VFM'),\n",
              " ('कर', 'VRB'),\n",
              " ('सीमा', 'NNC'),\n",
              " ('पार', 'NNC'),\n",
              " ('आतंकवाद', 'NN'),\n",
              " ('को', 'PREP'),\n",
              " ('रोकने', 'VNN'),\n",
              " ('में', 'PREP'),\n",
              " ('सहयोग', 'NVB'),\n",
              " ('करेगा', 'VFM'),\n",
              " ('।', 'PUNC')]"
            ]
          },
          "metadata": {},
          "execution_count": 40
        }
      ]
    },
    {
      "cell_type": "markdown",
      "source": [
        "## Uploading Hindi dataset"
      ],
      "metadata": {
        "id": "g9Z5FrggHzx5"
      }
    },
    {
      "cell_type": "code",
      "source": [
        "from google.colab import files\n",
        "uploaded = files.upload()"
      ],
      "metadata": {
        "colab": {
          "base_uri": "https://localhost:8080/",
          "height": 73
        },
        "id": "sh2i_PMkBHDs",
        "outputId": "797c59c2-439f-4629-9095-410f72fb72a7"
      },
      "execution_count": 41,
      "outputs": [
        {
          "output_type": "display_data",
          "data": {
            "text/plain": [
              "<IPython.core.display.HTML object>"
            ],
            "text/html": [
              "\n",
              "     <input type=\"file\" id=\"files-4e2aa87b-271e-43d7-9c78-1a6bfd91d184\" name=\"files[]\" multiple disabled\n",
              "        style=\"border:none\" />\n",
              "     <output id=\"result-4e2aa87b-271e-43d7-9c78-1a6bfd91d184\">\n",
              "      Upload widget is only available when the cell has been executed in the\n",
              "      current browser session. Please rerun this cell to enable.\n",
              "      </output>\n",
              "      <script>// Copyright 2017 Google LLC\n",
              "//\n",
              "// Licensed under the Apache License, Version 2.0 (the \"License\");\n",
              "// you may not use this file except in compliance with the License.\n",
              "// You may obtain a copy of the License at\n",
              "//\n",
              "//      http://www.apache.org/licenses/LICENSE-2.0\n",
              "//\n",
              "// Unless required by applicable law or agreed to in writing, software\n",
              "// distributed under the License is distributed on an \"AS IS\" BASIS,\n",
              "// WITHOUT WARRANTIES OR CONDITIONS OF ANY KIND, either express or implied.\n",
              "// See the License for the specific language governing permissions and\n",
              "// limitations under the License.\n",
              "\n",
              "/**\n",
              " * @fileoverview Helpers for google.colab Python module.\n",
              " */\n",
              "(function(scope) {\n",
              "function span(text, styleAttributes = {}) {\n",
              "  const element = document.createElement('span');\n",
              "  element.textContent = text;\n",
              "  for (const key of Object.keys(styleAttributes)) {\n",
              "    element.style[key] = styleAttributes[key];\n",
              "  }\n",
              "  return element;\n",
              "}\n",
              "\n",
              "// Max number of bytes which will be uploaded at a time.\n",
              "const MAX_PAYLOAD_SIZE = 100 * 1024;\n",
              "\n",
              "function _uploadFiles(inputId, outputId) {\n",
              "  const steps = uploadFilesStep(inputId, outputId);\n",
              "  const outputElement = document.getElementById(outputId);\n",
              "  // Cache steps on the outputElement to make it available for the next call\n",
              "  // to uploadFilesContinue from Python.\n",
              "  outputElement.steps = steps;\n",
              "\n",
              "  return _uploadFilesContinue(outputId);\n",
              "}\n",
              "\n",
              "// This is roughly an async generator (not supported in the browser yet),\n",
              "// where there are multiple asynchronous steps and the Python side is going\n",
              "// to poll for completion of each step.\n",
              "// This uses a Promise to block the python side on completion of each step,\n",
              "// then passes the result of the previous step as the input to the next step.\n",
              "function _uploadFilesContinue(outputId) {\n",
              "  const outputElement = document.getElementById(outputId);\n",
              "  const steps = outputElement.steps;\n",
              "\n",
              "  const next = steps.next(outputElement.lastPromiseValue);\n",
              "  return Promise.resolve(next.value.promise).then((value) => {\n",
              "    // Cache the last promise value to make it available to the next\n",
              "    // step of the generator.\n",
              "    outputElement.lastPromiseValue = value;\n",
              "    return next.value.response;\n",
              "  });\n",
              "}\n",
              "\n",
              "/**\n",
              " * Generator function which is called between each async step of the upload\n",
              " * process.\n",
              " * @param {string} inputId Element ID of the input file picker element.\n",
              " * @param {string} outputId Element ID of the output display.\n",
              " * @return {!Iterable<!Object>} Iterable of next steps.\n",
              " */\n",
              "function* uploadFilesStep(inputId, outputId) {\n",
              "  const inputElement = document.getElementById(inputId);\n",
              "  inputElement.disabled = false;\n",
              "\n",
              "  const outputElement = document.getElementById(outputId);\n",
              "  outputElement.innerHTML = '';\n",
              "\n",
              "  const pickedPromise = new Promise((resolve) => {\n",
              "    inputElement.addEventListener('change', (e) => {\n",
              "      resolve(e.target.files);\n",
              "    });\n",
              "  });\n",
              "\n",
              "  const cancel = document.createElement('button');\n",
              "  inputElement.parentElement.appendChild(cancel);\n",
              "  cancel.textContent = 'Cancel upload';\n",
              "  const cancelPromise = new Promise((resolve) => {\n",
              "    cancel.onclick = () => {\n",
              "      resolve(null);\n",
              "    };\n",
              "  });\n",
              "\n",
              "  // Wait for the user to pick the files.\n",
              "  const files = yield {\n",
              "    promise: Promise.race([pickedPromise, cancelPromise]),\n",
              "    response: {\n",
              "      action: 'starting',\n",
              "    }\n",
              "  };\n",
              "\n",
              "  cancel.remove();\n",
              "\n",
              "  // Disable the input element since further picks are not allowed.\n",
              "  inputElement.disabled = true;\n",
              "\n",
              "  if (!files) {\n",
              "    return {\n",
              "      response: {\n",
              "        action: 'complete',\n",
              "      }\n",
              "    };\n",
              "  }\n",
              "\n",
              "  for (const file of files) {\n",
              "    const li = document.createElement('li');\n",
              "    li.append(span(file.name, {fontWeight: 'bold'}));\n",
              "    li.append(span(\n",
              "        `(${file.type || 'n/a'}) - ${file.size} bytes, ` +\n",
              "        `last modified: ${\n",
              "            file.lastModifiedDate ? file.lastModifiedDate.toLocaleDateString() :\n",
              "                                    'n/a'} - `));\n",
              "    const percent = span('0% done');\n",
              "    li.appendChild(percent);\n",
              "\n",
              "    outputElement.appendChild(li);\n",
              "\n",
              "    const fileDataPromise = new Promise((resolve) => {\n",
              "      const reader = new FileReader();\n",
              "      reader.onload = (e) => {\n",
              "        resolve(e.target.result);\n",
              "      };\n",
              "      reader.readAsArrayBuffer(file);\n",
              "    });\n",
              "    // Wait for the data to be ready.\n",
              "    let fileData = yield {\n",
              "      promise: fileDataPromise,\n",
              "      response: {\n",
              "        action: 'continue',\n",
              "      }\n",
              "    };\n",
              "\n",
              "    // Use a chunked sending to avoid message size limits. See b/62115660.\n",
              "    let position = 0;\n",
              "    do {\n",
              "      const length = Math.min(fileData.byteLength - position, MAX_PAYLOAD_SIZE);\n",
              "      const chunk = new Uint8Array(fileData, position, length);\n",
              "      position += length;\n",
              "\n",
              "      const base64 = btoa(String.fromCharCode.apply(null, chunk));\n",
              "      yield {\n",
              "        response: {\n",
              "          action: 'append',\n",
              "          file: file.name,\n",
              "          data: base64,\n",
              "        },\n",
              "      };\n",
              "\n",
              "      let percentDone = fileData.byteLength === 0 ?\n",
              "          100 :\n",
              "          Math.round((position / fileData.byteLength) * 100);\n",
              "      percent.textContent = `${percentDone}% done`;\n",
              "\n",
              "    } while (position < fileData.byteLength);\n",
              "  }\n",
              "\n",
              "  // All done.\n",
              "  yield {\n",
              "    response: {\n",
              "      action: 'complete',\n",
              "    }\n",
              "  };\n",
              "}\n",
              "\n",
              "scope.google = scope.google || {};\n",
              "scope.google.colab = scope.google.colab || {};\n",
              "scope.google.colab._files = {\n",
              "  _uploadFiles,\n",
              "  _uploadFilesContinue,\n",
              "};\n",
              "})(self);\n",
              "</script> "
            ]
          },
          "metadata": {}
        },
        {
          "output_type": "stream",
          "name": "stdout",
          "text": [
            "Saving Hindi_English_Truncated_Corpus.csv to Hindi_English_Truncated_Corpus.csv\n"
          ]
        }
      ]
    },
    {
      "cell_type": "code",
      "source": [
        "import warnings\n",
        "warnings.filterwarnings('ignore')"
      ],
      "metadata": {
        "id": "j6cJrBk6BJW-"
      },
      "execution_count": 42,
      "outputs": []
    },
    {
      "cell_type": "code",
      "source": [
        "import pandas as pd\n",
        "import io\n",
        " \n",
        "df = pd.read_csv(io.BytesIO(uploaded['Hindi_English_Truncated_Corpus.csv']))"
      ],
      "metadata": {
        "id": "s41mZISkBLpE"
      },
      "execution_count": 43,
      "outputs": []
    },
    {
      "cell_type": "code",
      "source": [
        "df.head()"
      ],
      "metadata": {
        "colab": {
          "base_uri": "https://localhost:8080/",
          "height": 206
        },
        "id": "sAZ-K2QNBO61",
        "outputId": "cbfa4b6d-f6a3-4c03-e0d2-99aea0bda1d7"
      },
      "execution_count": 44,
      "outputs": [
        {
          "output_type": "execute_result",
          "data": {
            "text/plain": [
              "      source                                   english_sentence  \\\n",
              "0        ted  politicians do not have permission to do what ...   \n",
              "1        ted         I'd like to tell you about one such child,   \n",
              "2  indic2012  This percentage is even greater than the perce...   \n",
              "3        ted  what we really mean is that they're bad at not...   \n",
              "4  indic2012  .The ending portion of these Vedas is called U...   \n",
              "\n",
              "                                      hindi_sentence  \n",
              "0  राजनीतिज्ञों के पास जो कार्य करना चाहिए, वह कर...  \n",
              "1  मई आपको ऐसे ही एक बच्चे के बारे में बताना चाहू...  \n",
              "2   यह प्रतिशत भारत में हिन्दुओं प्रतिशत से अधिक है।  \n",
              "3     हम ये नहीं कहना चाहते कि वो ध्यान नहीं दे पाते  \n",
              "4        इन्हीं वेदों का अंतिम भाग उपनिषद कहलाता है।  "
            ],
            "text/html": [
              "\n",
              "  <div id=\"df-070de28a-db2f-49e1-9861-d46495e67103\">\n",
              "    <div class=\"colab-df-container\">\n",
              "      <div>\n",
              "<style scoped>\n",
              "    .dataframe tbody tr th:only-of-type {\n",
              "        vertical-align: middle;\n",
              "    }\n",
              "\n",
              "    .dataframe tbody tr th {\n",
              "        vertical-align: top;\n",
              "    }\n",
              "\n",
              "    .dataframe thead th {\n",
              "        text-align: right;\n",
              "    }\n",
              "</style>\n",
              "<table border=\"1\" class=\"dataframe\">\n",
              "  <thead>\n",
              "    <tr style=\"text-align: right;\">\n",
              "      <th></th>\n",
              "      <th>source</th>\n",
              "      <th>english_sentence</th>\n",
              "      <th>hindi_sentence</th>\n",
              "    </tr>\n",
              "  </thead>\n",
              "  <tbody>\n",
              "    <tr>\n",
              "      <th>0</th>\n",
              "      <td>ted</td>\n",
              "      <td>politicians do not have permission to do what ...</td>\n",
              "      <td>राजनीतिज्ञों के पास जो कार्य करना चाहिए, वह कर...</td>\n",
              "    </tr>\n",
              "    <tr>\n",
              "      <th>1</th>\n",
              "      <td>ted</td>\n",
              "      <td>I'd like to tell you about one such child,</td>\n",
              "      <td>मई आपको ऐसे ही एक बच्चे के बारे में बताना चाहू...</td>\n",
              "    </tr>\n",
              "    <tr>\n",
              "      <th>2</th>\n",
              "      <td>indic2012</td>\n",
              "      <td>This percentage is even greater than the perce...</td>\n",
              "      <td>यह प्रतिशत भारत में हिन्दुओं प्रतिशत से अधिक है।</td>\n",
              "    </tr>\n",
              "    <tr>\n",
              "      <th>3</th>\n",
              "      <td>ted</td>\n",
              "      <td>what we really mean is that they're bad at not...</td>\n",
              "      <td>हम ये नहीं कहना चाहते कि वो ध्यान नहीं दे पाते</td>\n",
              "    </tr>\n",
              "    <tr>\n",
              "      <th>4</th>\n",
              "      <td>indic2012</td>\n",
              "      <td>.The ending portion of these Vedas is called U...</td>\n",
              "      <td>इन्हीं वेदों का अंतिम भाग उपनिषद कहलाता है।</td>\n",
              "    </tr>\n",
              "  </tbody>\n",
              "</table>\n",
              "</div>\n",
              "      <button class=\"colab-df-convert\" onclick=\"convertToInteractive('df-070de28a-db2f-49e1-9861-d46495e67103')\"\n",
              "              title=\"Convert this dataframe to an interactive table.\"\n",
              "              style=\"display:none;\">\n",
              "        \n",
              "  <svg xmlns=\"http://www.w3.org/2000/svg\" height=\"24px\"viewBox=\"0 0 24 24\"\n",
              "       width=\"24px\">\n",
              "    <path d=\"M0 0h24v24H0V0z\" fill=\"none\"/>\n",
              "    <path d=\"M18.56 5.44l.94 2.06.94-2.06 2.06-.94-2.06-.94-.94-2.06-.94 2.06-2.06.94zm-11 1L8.5 8.5l.94-2.06 2.06-.94-2.06-.94L8.5 2.5l-.94 2.06-2.06.94zm10 10l.94 2.06.94-2.06 2.06-.94-2.06-.94-.94-2.06-.94 2.06-2.06.94z\"/><path d=\"M17.41 7.96l-1.37-1.37c-.4-.4-.92-.59-1.43-.59-.52 0-1.04.2-1.43.59L10.3 9.45l-7.72 7.72c-.78.78-.78 2.05 0 2.83L4 21.41c.39.39.9.59 1.41.59.51 0 1.02-.2 1.41-.59l7.78-7.78 2.81-2.81c.8-.78.8-2.07 0-2.86zM5.41 20L4 18.59l7.72-7.72 1.47 1.35L5.41 20z\"/>\n",
              "  </svg>\n",
              "      </button>\n",
              "      \n",
              "  <style>\n",
              "    .colab-df-container {\n",
              "      display:flex;\n",
              "      flex-wrap:wrap;\n",
              "      gap: 12px;\n",
              "    }\n",
              "\n",
              "    .colab-df-convert {\n",
              "      background-color: #E8F0FE;\n",
              "      border: none;\n",
              "      border-radius: 50%;\n",
              "      cursor: pointer;\n",
              "      display: none;\n",
              "      fill: #1967D2;\n",
              "      height: 32px;\n",
              "      padding: 0 0 0 0;\n",
              "      width: 32px;\n",
              "    }\n",
              "\n",
              "    .colab-df-convert:hover {\n",
              "      background-color: #E2EBFA;\n",
              "      box-shadow: 0px 1px 2px rgba(60, 64, 67, 0.3), 0px 1px 3px 1px rgba(60, 64, 67, 0.15);\n",
              "      fill: #174EA6;\n",
              "    }\n",
              "\n",
              "    [theme=dark] .colab-df-convert {\n",
              "      background-color: #3B4455;\n",
              "      fill: #D2E3FC;\n",
              "    }\n",
              "\n",
              "    [theme=dark] .colab-df-convert:hover {\n",
              "      background-color: #434B5C;\n",
              "      box-shadow: 0px 1px 3px 1px rgba(0, 0, 0, 0.15);\n",
              "      filter: drop-shadow(0px 1px 2px rgba(0, 0, 0, 0.3));\n",
              "      fill: #FFFFFF;\n",
              "    }\n",
              "  </style>\n",
              "\n",
              "      <script>\n",
              "        const buttonEl =\n",
              "          document.querySelector('#df-070de28a-db2f-49e1-9861-d46495e67103 button.colab-df-convert');\n",
              "        buttonEl.style.display =\n",
              "          google.colab.kernel.accessAllowed ? 'block' : 'none';\n",
              "\n",
              "        async function convertToInteractive(key) {\n",
              "          const element = document.querySelector('#df-070de28a-db2f-49e1-9861-d46495e67103');\n",
              "          const dataTable =\n",
              "            await google.colab.kernel.invokeFunction('convertToInteractive',\n",
              "                                                     [key], {});\n",
              "          if (!dataTable) return;\n",
              "\n",
              "          const docLinkHtml = 'Like what you see? Visit the ' +\n",
              "            '<a target=\"_blank\" href=https://colab.research.google.com/notebooks/data_table.ipynb>data table notebook</a>'\n",
              "            + ' to learn more about interactive tables.';\n",
              "          element.innerHTML = '';\n",
              "          dataTable['output_type'] = 'display_data';\n",
              "          await google.colab.output.renderOutput(dataTable, element);\n",
              "          const docLink = document.createElement('div');\n",
              "          docLink.innerHTML = docLinkHtml;\n",
              "          element.appendChild(docLink);\n",
              "        }\n",
              "      </script>\n",
              "    </div>\n",
              "  </div>\n",
              "  "
            ]
          },
          "metadata": {},
          "execution_count": 44
        }
      ]
    },
    {
      "cell_type": "markdown",
      "source": [
        "## Installation of torch and inltk"
      ],
      "metadata": {
        "id": "Sa9210MRIVhT"
      }
    },
    {
      "cell_type": "code",
      "source": [
        "pip install torch==1.12.1+cpu -f https://download.pytorch.org/whl/torch_stable.html"
      ],
      "metadata": {
        "colab": {
          "base_uri": "https://localhost:8080/"
        },
        "id": "IW9RwQdGA7gq",
        "outputId": "c5efbecf-052f-4c8d-f68d-21232d4bd95b"
      },
      "execution_count": 45,
      "outputs": [
        {
          "output_type": "stream",
          "name": "stdout",
          "text": [
            "Looking in indexes: https://pypi.org/simple, https://us-python.pkg.dev/colab-wheels/public/simple/\n",
            "Looking in links: https://download.pytorch.org/whl/torch_stable.html\n",
            "Collecting torch==1.12.1+cpu\n",
            "  Downloading https://download.pytorch.org/whl/cpu/torch-1.12.1%2Bcpu-cp38-cp38-linux_x86_64.whl (189.2 MB)\n",
            "\u001b[2K     \u001b[90m━━━━━━━━━━━━━━━━━━━━━━━━━━━━━━━━━━━━━━━\u001b[0m \u001b[32m189.2/189.2 MB\u001b[0m \u001b[31m5.2 MB/s\u001b[0m eta \u001b[36m0:00:00\u001b[0m\n",
            "\u001b[?25hRequirement already satisfied: typing-extensions in /usr/local/lib/python3.8/dist-packages (from torch==1.12.1+cpu) (4.4.0)\n",
            "Installing collected packages: torch\n",
            "  Attempting uninstall: torch\n",
            "    Found existing installation: torch 1.13.1+cu116\n",
            "    Uninstalling torch-1.13.1+cu116:\n",
            "      Successfully uninstalled torch-1.13.1+cu116\n",
            "\u001b[31mERROR: pip's dependency resolver does not currently take into account all the packages that are installed. This behaviour is the source of the following dependency conflicts.\n",
            "torchvision 0.14.1+cu116 requires torch==1.13.1, but you have torch 1.12.1+cpu which is incompatible.\n",
            "torchtext 0.14.1 requires torch==1.13.1, but you have torch 1.12.1+cpu which is incompatible.\n",
            "torchaudio 0.13.1+cu116 requires torch==1.13.1, but you have torch 1.12.1+cpu which is incompatible.\u001b[0m\u001b[31m\n",
            "\u001b[0mSuccessfully installed torch-1.12.1+cpu\n"
          ]
        }
      ]
    },
    {
      "cell_type": "code",
      "source": [
        "pip install inltk"
      ],
      "metadata": {
        "colab": {
          "base_uri": "https://localhost:8080/",
          "height": 1000
        },
        "id": "ilXYwuZiBAg8",
        "outputId": "bd1eaff6-f1b5-4a8e-c68d-7890c12b5911"
      },
      "execution_count": 46,
      "outputs": [
        {
          "output_type": "stream",
          "name": "stdout",
          "text": [
            "Looking in indexes: https://pypi.org/simple, https://us-python.pkg.dev/colab-wheels/public/simple/\n",
            "Collecting inltk\n",
            "  Downloading inltk-0.9-py3-none-any.whl (13 kB)\n",
            "Collecting bottleneck\n",
            "  Downloading Bottleneck-1.3.6-cp38-cp38-manylinux_2_5_x86_64.manylinux1_x86_64.manylinux_2_17_x86_64.manylinux2014_x86_64.whl (355 kB)\n",
            "\u001b[2K     \u001b[90m━━━━━━━━━━━━━━━━━━━━━━━━━━━━━━━━━━━━━━\u001b[0m \u001b[32m355.2/355.2 KB\u001b[0m \u001b[31m11.4 MB/s\u001b[0m eta \u001b[36m0:00:00\u001b[0m\n",
            "\u001b[?25hRequirement already satisfied: packaging in /usr/local/lib/python3.8/dist-packages (from inltk) (23.0)\n",
            "Requirement already satisfied: pandas in /usr/local/lib/python3.8/dist-packages (from inltk) (1.3.5)\n",
            "Requirement already satisfied: Pillow in /usr/local/lib/python3.8/dist-packages (from inltk) (7.1.2)\n",
            "Requirement already satisfied: numexpr in /usr/local/lib/python3.8/dist-packages (from inltk) (2.8.4)\n",
            "Collecting fastai==1.0.57\n",
            "  Downloading fastai-1.0.57-py3-none-any.whl (233 kB)\n",
            "\u001b[2K     \u001b[90m━━━━━━━━━━━━━━━━━━━━━━━━━━━━━━━━━━━━━━\u001b[0m \u001b[32m233.3/233.3 KB\u001b[0m \u001b[31m24.9 MB/s\u001b[0m eta \u001b[36m0:00:00\u001b[0m\n",
            "\u001b[?25hRequirement already satisfied: pyyaml in /usr/local/lib/python3.8/dist-packages (from inltk) (6.0)\n",
            "Requirement already satisfied: aiohttp>=3.5.4 in /usr/local/lib/python3.8/dist-packages (from inltk) (3.8.3)\n",
            "Requirement already satisfied: beautifulsoup4 in /usr/local/lib/python3.8/dist-packages (from inltk) (4.6.3)\n",
            "Collecting nvidia-ml-py3\n",
            "  Downloading nvidia-ml-py3-7.352.0.tar.gz (19 kB)\n",
            "  Preparing metadata (setup.py) ... \u001b[?25l\u001b[?25hdone\n",
            "Requirement already satisfied: numpy>=1.15 in /usr/local/lib/python3.8/dist-packages (from inltk) (1.21.6)\n",
            "Requirement already satisfied: matplotlib in /usr/local/lib/python3.8/dist-packages (from inltk) (3.2.2)\n",
            "Collecting sentencepiece\n",
            "  Downloading sentencepiece-0.1.97-cp38-cp38-manylinux_2_17_x86_64.manylinux2014_x86_64.whl (1.3 MB)\n",
            "\u001b[2K     \u001b[90m━━━━━━━━━━━━━━━━━━━━━━━━━━━━━━━━━━━━━━━━\u001b[0m \u001b[32m1.3/1.3 MB\u001b[0m \u001b[31m28.2 MB/s\u001b[0m eta \u001b[36m0:00:00\u001b[0m\n",
            "\u001b[?25hCollecting typing\n",
            "  Downloading typing-3.7.4.3.tar.gz (78 kB)\n",
            "\u001b[2K     \u001b[90m━━━━━━━━━━━━━━━━━━━━━━━━━━━━━━━━━━━━━━━━\u001b[0m \u001b[32m78.6/78.6 KB\u001b[0m \u001b[31m8.5 MB/s\u001b[0m eta \u001b[36m0:00:00\u001b[0m\n",
            "\u001b[?25h  Preparing metadata (setup.py) ... \u001b[?25l\u001b[?25hdone\n",
            "Requirement already satisfied: fastprogress>=0.1.19 in /usr/local/lib/python3.8/dist-packages (from inltk) (1.0.3)\n",
            "Requirement already satisfied: async-timeout>=3.0.1 in /usr/local/lib/python3.8/dist-packages (from inltk) (4.0.2)\n",
            "Requirement already satisfied: scipy in /usr/local/lib/python3.8/dist-packages (from inltk) (1.7.3)\n",
            "Requirement already satisfied: spacy>=2.0.18 in /usr/local/lib/python3.8/dist-packages (from inltk) (3.4.4)\n",
            "Requirement already satisfied: requests in /usr/local/lib/python3.8/dist-packages (from inltk) (2.25.1)\n",
            "Requirement already satisfied: torchvision in /usr/local/lib/python3.8/dist-packages (from fastai==1.0.57->inltk) (0.14.1+cu116)\n",
            "Requirement already satisfied: torch>=1.0.0 in /usr/local/lib/python3.8/dist-packages (from fastai==1.0.57->inltk) (1.12.1+cpu)\n",
            "Requirement already satisfied: frozenlist>=1.1.1 in /usr/local/lib/python3.8/dist-packages (from aiohttp>=3.5.4->inltk) (1.3.3)\n",
            "Requirement already satisfied: aiosignal>=1.1.2 in /usr/local/lib/python3.8/dist-packages (from aiohttp>=3.5.4->inltk) (1.3.1)\n",
            "Requirement already satisfied: attrs>=17.3.0 in /usr/local/lib/python3.8/dist-packages (from aiohttp>=3.5.4->inltk) (22.2.0)\n",
            "Requirement already satisfied: yarl<2.0,>=1.0 in /usr/local/lib/python3.8/dist-packages (from aiohttp>=3.5.4->inltk) (1.8.2)\n",
            "Requirement already satisfied: multidict<7.0,>=4.5 in /usr/local/lib/python3.8/dist-packages (from aiohttp>=3.5.4->inltk) (6.0.4)\n",
            "Requirement already satisfied: charset-normalizer<3.0,>=2.0 in /usr/local/lib/python3.8/dist-packages (from aiohttp>=3.5.4->inltk) (2.1.1)\n",
            "Requirement already satisfied: pathy>=0.3.5 in /usr/local/lib/python3.8/dist-packages (from spacy>=2.0.18->inltk) (0.10.1)\n",
            "Requirement already satisfied: spacy-loggers<2.0.0,>=1.0.0 in /usr/local/lib/python3.8/dist-packages (from spacy>=2.0.18->inltk) (1.0.4)\n",
            "Requirement already satisfied: thinc<8.2.0,>=8.1.0 in /usr/local/lib/python3.8/dist-packages (from spacy>=2.0.18->inltk) (8.1.7)\n",
            "Requirement already satisfied: catalogue<2.1.0,>=2.0.6 in /usr/local/lib/python3.8/dist-packages (from spacy>=2.0.18->inltk) (2.0.8)\n",
            "Requirement already satisfied: typer<0.8.0,>=0.3.0 in /usr/local/lib/python3.8/dist-packages (from spacy>=2.0.18->inltk) (0.7.0)\n",
            "Requirement already satisfied: murmurhash<1.1.0,>=0.28.0 in /usr/local/lib/python3.8/dist-packages (from spacy>=2.0.18->inltk) (1.0.9)\n",
            "Requirement already satisfied: jinja2 in /usr/local/lib/python3.8/dist-packages (from spacy>=2.0.18->inltk) (2.11.3)\n",
            "Requirement already satisfied: preshed<3.1.0,>=3.0.2 in /usr/local/lib/python3.8/dist-packages (from spacy>=2.0.18->inltk) (3.0.8)\n",
            "Requirement already satisfied: tqdm<5.0.0,>=4.38.0 in /usr/local/lib/python3.8/dist-packages (from spacy>=2.0.18->inltk) (4.64.1)\n",
            "Requirement already satisfied: smart-open<7.0.0,>=5.2.1 in /usr/local/lib/python3.8/dist-packages (from spacy>=2.0.18->inltk) (6.3.0)\n",
            "Requirement already satisfied: wasabi<1.1.0,>=0.9.1 in /usr/local/lib/python3.8/dist-packages (from spacy>=2.0.18->inltk) (0.10.1)\n",
            "Requirement already satisfied: srsly<3.0.0,>=2.4.3 in /usr/local/lib/python3.8/dist-packages (from spacy>=2.0.18->inltk) (2.4.5)\n",
            "Requirement already satisfied: langcodes<4.0.0,>=3.2.0 in /usr/local/lib/python3.8/dist-packages (from spacy>=2.0.18->inltk) (3.3.0)\n",
            "Requirement already satisfied: spacy-legacy<3.1.0,>=3.0.10 in /usr/local/lib/python3.8/dist-packages (from spacy>=2.0.18->inltk) (3.0.12)\n",
            "Requirement already satisfied: setuptools in /usr/local/lib/python3.8/dist-packages (from spacy>=2.0.18->inltk) (57.4.0)\n",
            "Requirement already satisfied: cymem<2.1.0,>=2.0.2 in /usr/local/lib/python3.8/dist-packages (from spacy>=2.0.18->inltk) (2.0.7)\n",
            "Requirement already satisfied: pydantic!=1.8,!=1.8.1,<1.11.0,>=1.7.4 in /usr/local/lib/python3.8/dist-packages (from spacy>=2.0.18->inltk) (1.10.4)\n",
            "Requirement already satisfied: chardet<5,>=3.0.2 in /usr/local/lib/python3.8/dist-packages (from requests->inltk) (4.0.0)\n",
            "Requirement already satisfied: certifi>=2017.4.17 in /usr/local/lib/python3.8/dist-packages (from requests->inltk) (2022.12.7)\n",
            "Requirement already satisfied: urllib3<1.27,>=1.21.1 in /usr/local/lib/python3.8/dist-packages (from requests->inltk) (1.24.3)\n",
            "Requirement already satisfied: idna<3,>=2.5 in /usr/local/lib/python3.8/dist-packages (from requests->inltk) (2.10)\n",
            "Requirement already satisfied: pyparsing!=2.0.4,!=2.1.2,!=2.1.6,>=2.0.1 in /usr/local/lib/python3.8/dist-packages (from matplotlib->inltk) (3.0.9)\n",
            "Requirement already satisfied: cycler>=0.10 in /usr/local/lib/python3.8/dist-packages (from matplotlib->inltk) (0.11.0)\n",
            "Requirement already satisfied: python-dateutil>=2.1 in /usr/local/lib/python3.8/dist-packages (from matplotlib->inltk) (2.8.2)\n",
            "Requirement already satisfied: kiwisolver>=1.0.1 in /usr/local/lib/python3.8/dist-packages (from matplotlib->inltk) (1.4.4)\n",
            "Requirement already satisfied: pytz>=2017.3 in /usr/local/lib/python3.8/dist-packages (from pandas->inltk) (2022.7.1)\n",
            "Requirement already satisfied: typing-extensions>=4.2.0 in /usr/local/lib/python3.8/dist-packages (from pydantic!=1.8,!=1.8.1,<1.11.0,>=1.7.4->spacy>=2.0.18->inltk) (4.4.0)\n",
            "Requirement already satisfied: six>=1.5 in /usr/local/lib/python3.8/dist-packages (from python-dateutil>=2.1->matplotlib->inltk) (1.15.0)\n",
            "Requirement already satisfied: confection<1.0.0,>=0.0.1 in /usr/local/lib/python3.8/dist-packages (from thinc<8.2.0,>=8.1.0->spacy>=2.0.18->inltk) (0.0.4)\n",
            "Requirement already satisfied: blis<0.8.0,>=0.7.8 in /usr/local/lib/python3.8/dist-packages (from thinc<8.2.0,>=8.1.0->spacy>=2.0.18->inltk) (0.7.9)\n",
            "Requirement already satisfied: click<9.0.0,>=7.1.1 in /usr/local/lib/python3.8/dist-packages (from typer<0.8.0,>=0.3.0->spacy>=2.0.18->inltk) (7.1.2)\n",
            "Requirement already satisfied: MarkupSafe>=0.23 in /usr/local/lib/python3.8/dist-packages (from jinja2->spacy>=2.0.18->inltk) (2.0.1)\n",
            "Collecting torch>=1.0.0\n",
            "  Downloading torch-1.13.1-cp38-cp38-manylinux1_x86_64.whl (887.4 MB)\n",
            "\u001b[2K     \u001b[90m━━━━━━━━━━━━━━━━━━━━━━━━━━━━━━━━━━━━━━━\u001b[0m \u001b[32m887.4/887.4 MB\u001b[0m \u001b[31m1.3 MB/s\u001b[0m eta \u001b[36m0:00:00\u001b[0m\n",
            "\u001b[?25hCollecting nvidia-cudnn-cu11==8.5.0.96\n",
            "  Downloading nvidia_cudnn_cu11-8.5.0.96-2-py3-none-manylinux1_x86_64.whl (557.1 MB)\n",
            "\u001b[2K     \u001b[90m━━━━━━━━━━━━━━━━━━━━━━━━━━━━━━━━━━━━━━━\u001b[0m \u001b[32m557.1/557.1 MB\u001b[0m \u001b[31m2.3 MB/s\u001b[0m eta \u001b[36m0:00:00\u001b[0m\n",
            "\u001b[?25hCollecting nvidia-cuda-nvrtc-cu11==11.7.99\n",
            "  Downloading nvidia_cuda_nvrtc_cu11-11.7.99-2-py3-none-manylinux1_x86_64.whl (21.0 MB)\n",
            "\u001b[2K     \u001b[90m━━━━━━━━━━━━━━━━━━━━━━━━━━━━━━━━━━━━━━━━\u001b[0m \u001b[32m21.0/21.0 MB\u001b[0m \u001b[31m58.1 MB/s\u001b[0m eta \u001b[36m0:00:00\u001b[0m\n",
            "\u001b[?25hCollecting nvidia-cublas-cu11==11.10.3.66\n",
            "  Downloading nvidia_cublas_cu11-11.10.3.66-py3-none-manylinux1_x86_64.whl (317.1 MB)\n",
            "\u001b[2K     \u001b[90m━━━━━━━━━━━━━━━━━━━━━━━━━━━━━━━━━━━━━━━\u001b[0m \u001b[32m317.1/317.1 MB\u001b[0m \u001b[31m4.2 MB/s\u001b[0m eta \u001b[36m0:00:00\u001b[0m\n",
            "\u001b[?25hCollecting nvidia-cuda-runtime-cu11==11.7.99\n",
            "  Downloading nvidia_cuda_runtime_cu11-11.7.99-py3-none-manylinux1_x86_64.whl (849 kB)\n",
            "\u001b[2K     \u001b[90m━━━━━━━━━━━━━━━━━━━━━━━━━━━━━━━━━━━━━━\u001b[0m \u001b[32m849.3/849.3 KB\u001b[0m \u001b[31m47.1 MB/s\u001b[0m eta \u001b[36m0:00:00\u001b[0m\n",
            "\u001b[?25hRequirement already satisfied: wheel in /usr/local/lib/python3.8/dist-packages (from nvidia-cublas-cu11==11.10.3.66->torch>=1.0.0->fastai==1.0.57->inltk) (0.38.4)\n",
            "Building wheels for collected packages: nvidia-ml-py3, typing\n",
            "  Building wheel for nvidia-ml-py3 (setup.py) ... \u001b[?25l\u001b[?25hdone\n",
            "  Created wheel for nvidia-ml-py3: filename=nvidia_ml_py3-7.352.0-py3-none-any.whl size=19190 sha256=65cd6ccd87d952db5429afcacabbf385951ce85118839399de3a3c5c87fb7feb\n",
            "  Stored in directory: /root/.cache/pip/wheels/b9/b1/68/cb4feab29709d4155310d29a421389665dcab9eb3b679b527b\n",
            "  Building wheel for typing (setup.py) ... \u001b[?25l\u001b[?25hdone\n",
            "  Created wheel for typing: filename=typing-3.7.4.3-py3-none-any.whl size=26323 sha256=6d8313d95746015c3cdd6e4f94dc564ee362b780cc389191ffa3d30bd46f78b1\n",
            "  Stored in directory: /root/.cache/pip/wheels/5e/5d/01/3083e091b57809dad979ea543def62d9d878950e3e74f0c930\n",
            "Successfully built nvidia-ml-py3 typing\n",
            "Installing collected packages: sentencepiece, nvidia-ml-py3, typing, nvidia-cuda-runtime-cu11, nvidia-cuda-nvrtc-cu11, nvidia-cublas-cu11, bottleneck, nvidia-cudnn-cu11, torch, fastai, inltk\n",
            "  Attempting uninstall: torch\n",
            "    Found existing installation: torch 1.12.1+cpu\n",
            "    Uninstalling torch-1.12.1+cpu:\n",
            "      Successfully uninstalled torch-1.12.1+cpu\n",
            "  Attempting uninstall: fastai\n",
            "    Found existing installation: fastai 2.7.10\n",
            "    Uninstalling fastai-2.7.10:\n",
            "      Successfully uninstalled fastai-2.7.10\n",
            "Successfully installed bottleneck-1.3.6 fastai-1.0.57 inltk-0.9 nvidia-cublas-cu11-11.10.3.66 nvidia-cuda-nvrtc-cu11-11.7.99 nvidia-cuda-runtime-cu11-11.7.99 nvidia-cudnn-cu11-8.5.0.96 nvidia-ml-py3-7.352.0 sentencepiece-0.1.97 torch-1.13.1 typing-3.7.4.3\n"
          ]
        },
        {
          "output_type": "display_data",
          "data": {
            "application/vnd.colab-display-data+json": {
              "pip_warning": {
                "packages": [
                  "typing"
                ]
              }
            }
          },
          "metadata": {}
        }
      ]
    },
    {
      "cell_type": "code",
      "source": [
        "from inltk.inltk import setup\n",
        "setup('hi')"
      ],
      "metadata": {
        "colab": {
          "base_uri": "https://localhost:8080/",
          "height": 345
        },
        "id": "q1124el2BSac",
        "outputId": "ef62ca99-39c4-44d3-d2d5-6d206655c39f"
      },
      "execution_count": 53,
      "outputs": [
        {
          "output_type": "error",
          "ename": "RuntimeError",
          "evalue": "ignored",
          "traceback": [
            "\u001b[0;31m---------------------------------------------------------------------------\u001b[0m",
            "\u001b[0;31mRuntimeError\u001b[0m                              Traceback (most recent call last)",
            "\u001b[0;32m<ipython-input-53-ea8b68f1926d>\u001b[0m in \u001b[0;36m<module>\u001b[0;34m\u001b[0m\n\u001b[1;32m      1\u001b[0m \u001b[0;32mfrom\u001b[0m \u001b[0minltk\u001b[0m\u001b[0;34m.\u001b[0m\u001b[0minltk\u001b[0m \u001b[0;32mimport\u001b[0m \u001b[0msetup\u001b[0m\u001b[0;34m\u001b[0m\u001b[0;34m\u001b[0m\u001b[0m\n\u001b[0;32m----> 2\u001b[0;31m \u001b[0msetup\u001b[0m\u001b[0;34m(\u001b[0m\u001b[0;34m'hi'\u001b[0m\u001b[0;34m)\u001b[0m\u001b[0;34m\u001b[0m\u001b[0;34m\u001b[0m\u001b[0m\n\u001b[0m",
            "\u001b[0;32m/usr/local/lib/python3.8/dist-packages/inltk/inltk.py\u001b[0m in \u001b[0;36msetup\u001b[0;34m(language_code)\u001b[0m\n\u001b[1;32m     31\u001b[0m     \u001b[0mloop\u001b[0m \u001b[0;34m=\u001b[0m \u001b[0masyncio\u001b[0m\u001b[0;34m.\u001b[0m\u001b[0mget_event_loop\u001b[0m\u001b[0;34m(\u001b[0m\u001b[0;34m)\u001b[0m\u001b[0;34m\u001b[0m\u001b[0;34m\u001b[0m\u001b[0m\n\u001b[1;32m     32\u001b[0m     \u001b[0mtasks\u001b[0m \u001b[0;34m=\u001b[0m \u001b[0;34m[\u001b[0m\u001b[0masyncio\u001b[0m\u001b[0;34m.\u001b[0m\u001b[0mensure_future\u001b[0m\u001b[0;34m(\u001b[0m\u001b[0mdownload\u001b[0m\u001b[0;34m(\u001b[0m\u001b[0mlanguage_code\u001b[0m\u001b[0;34m)\u001b[0m\u001b[0;34m)\u001b[0m\u001b[0;34m]\u001b[0m\u001b[0;34m\u001b[0m\u001b[0;34m\u001b[0m\u001b[0m\n\u001b[0;32m---> 33\u001b[0;31m     \u001b[0mlearn\u001b[0m \u001b[0;34m=\u001b[0m \u001b[0mloop\u001b[0m\u001b[0;34m.\u001b[0m\u001b[0mrun_until_complete\u001b[0m\u001b[0;34m(\u001b[0m\u001b[0masyncio\u001b[0m\u001b[0;34m.\u001b[0m\u001b[0mgather\u001b[0m\u001b[0;34m(\u001b[0m\u001b[0;34m*\u001b[0m\u001b[0mtasks\u001b[0m\u001b[0;34m)\u001b[0m\u001b[0;34m)\u001b[0m\u001b[0;34m[\u001b[0m\u001b[0;36m0\u001b[0m\u001b[0;34m]\u001b[0m\u001b[0;34m\u001b[0m\u001b[0;34m\u001b[0m\u001b[0m\n\u001b[0m\u001b[1;32m     34\u001b[0m     \u001b[0mloop\u001b[0m\u001b[0;34m.\u001b[0m\u001b[0mclose\u001b[0m\u001b[0;34m(\u001b[0m\u001b[0;34m)\u001b[0m\u001b[0;34m\u001b[0m\u001b[0;34m\u001b[0m\u001b[0m\n\u001b[1;32m     35\u001b[0m \u001b[0;34m\u001b[0m\u001b[0m\n",
            "\u001b[0;32m/usr/lib/python3.8/asyncio/base_events.py\u001b[0m in \u001b[0;36mrun_until_complete\u001b[0;34m(self, future)\u001b[0m\n\u001b[1;32m    590\u001b[0m         \"\"\"\n\u001b[1;32m    591\u001b[0m         \u001b[0mself\u001b[0m\u001b[0;34m.\u001b[0m\u001b[0m_check_closed\u001b[0m\u001b[0;34m(\u001b[0m\u001b[0;34m)\u001b[0m\u001b[0;34m\u001b[0m\u001b[0;34m\u001b[0m\u001b[0m\n\u001b[0;32m--> 592\u001b[0;31m         \u001b[0mself\u001b[0m\u001b[0;34m.\u001b[0m\u001b[0m_check_running\u001b[0m\u001b[0;34m(\u001b[0m\u001b[0;34m)\u001b[0m\u001b[0;34m\u001b[0m\u001b[0;34m\u001b[0m\u001b[0m\n\u001b[0m\u001b[1;32m    593\u001b[0m \u001b[0;34m\u001b[0m\u001b[0m\n\u001b[1;32m    594\u001b[0m         \u001b[0mnew_task\u001b[0m \u001b[0;34m=\u001b[0m \u001b[0;32mnot\u001b[0m \u001b[0mfutures\u001b[0m\u001b[0;34m.\u001b[0m\u001b[0misfuture\u001b[0m\u001b[0;34m(\u001b[0m\u001b[0mfuture\u001b[0m\u001b[0;34m)\u001b[0m\u001b[0;34m\u001b[0m\u001b[0;34m\u001b[0m\u001b[0m\n",
            "\u001b[0;32m/usr/lib/python3.8/asyncio/base_events.py\u001b[0m in \u001b[0;36m_check_running\u001b[0;34m(self)\u001b[0m\n\u001b[1;32m    550\u001b[0m     \u001b[0;32mdef\u001b[0m \u001b[0m_check_running\u001b[0m\u001b[0;34m(\u001b[0m\u001b[0mself\u001b[0m\u001b[0;34m)\u001b[0m\u001b[0;34m:\u001b[0m\u001b[0;34m\u001b[0m\u001b[0;34m\u001b[0m\u001b[0m\n\u001b[1;32m    551\u001b[0m         \u001b[0;32mif\u001b[0m \u001b[0mself\u001b[0m\u001b[0;34m.\u001b[0m\u001b[0mis_running\u001b[0m\u001b[0;34m(\u001b[0m\u001b[0;34m)\u001b[0m\u001b[0;34m:\u001b[0m\u001b[0;34m\u001b[0m\u001b[0;34m\u001b[0m\u001b[0m\n\u001b[0;32m--> 552\u001b[0;31m             \u001b[0;32mraise\u001b[0m \u001b[0mRuntimeError\u001b[0m\u001b[0;34m(\u001b[0m\u001b[0;34m'This event loop is already running'\u001b[0m\u001b[0;34m)\u001b[0m\u001b[0;34m\u001b[0m\u001b[0;34m\u001b[0m\u001b[0m\n\u001b[0m\u001b[1;32m    553\u001b[0m         \u001b[0;32mif\u001b[0m \u001b[0mevents\u001b[0m\u001b[0;34m.\u001b[0m\u001b[0m_get_running_loop\u001b[0m\u001b[0;34m(\u001b[0m\u001b[0;34m)\u001b[0m \u001b[0;32mis\u001b[0m \u001b[0;32mnot\u001b[0m \u001b[0;32mNone\u001b[0m\u001b[0;34m:\u001b[0m\u001b[0;34m\u001b[0m\u001b[0;34m\u001b[0m\u001b[0m\n\u001b[1;32m    554\u001b[0m             raise RuntimeError(\n",
            "\u001b[0;31mRuntimeError\u001b[0m: This event loop is already running"
          ]
        },
        {
          "output_type": "stream",
          "name": "stdout",
          "text": [
            "Done!\n"
          ]
        }
      ]
    },
    {
      "cell_type": "code",
      "source": [
        "from inltk.inltk import tokenize"
      ],
      "metadata": {
        "id": "8pfxpCUjBWIl"
      },
      "execution_count": 54,
      "outputs": []
    },
    {
      "cell_type": "markdown",
      "source": [
        "## Tokenizing from dataset"
      ],
      "metadata": {
        "id": "jdFasDIfIBiD"
      }
    },
    {
      "cell_type": "code",
      "source": [
        "tokenize(df.hindi_sentence[0],\"hi\")"
      ],
      "metadata": {
        "colab": {
          "base_uri": "https://localhost:8080/"
        },
        "id": "6at6r2fGBYlU",
        "outputId": "71b71fa1-8a70-4fc2-ee78-185aab7df06c"
      },
      "execution_count": 55,
      "outputs": [
        {
          "output_type": "execute_result",
          "data": {
            "text/plain": [
              "['▁राजनीतिज्ञों',\n",
              " '▁के',\n",
              " '▁पास',\n",
              " '▁जो',\n",
              " '▁कार्य',\n",
              " '▁करना',\n",
              " '▁चाहिए',\n",
              " ',',\n",
              " '▁वह',\n",
              " '▁करने',\n",
              " '▁कि',\n",
              " '▁अनुमति',\n",
              " '▁नहीं',\n",
              " '▁है',\n",
              " '▁.']"
            ]
          },
          "metadata": {},
          "execution_count": 55
        }
      ]
    },
    {
      "cell_type": "code",
      "source": [
        "tokenize(df.hindi_sentence[1],\"hi\")"
      ],
      "metadata": {
        "colab": {
          "base_uri": "https://localhost:8080/"
        },
        "id": "QERbS5_jBakf",
        "outputId": "bd3fe286-0ed6-4ef4-97ef-25255bde2b62"
      },
      "execution_count": 56,
      "outputs": [
        {
          "output_type": "execute_result",
          "data": {
            "text/plain": [
              "['▁मई',\n",
              " '▁आपको',\n",
              " '▁ऐसे',\n",
              " '▁ही',\n",
              " '▁एक',\n",
              " '▁बच्चे',\n",
              " '▁के',\n",
              " '▁बारे',\n",
              " '▁में',\n",
              " '▁बताना',\n",
              " '▁चाह',\n",
              " 'ू',\n",
              " 'ंगी',\n",
              " ',']"
            ]
          },
          "metadata": {},
          "execution_count": 56
        }
      ]
    },
    {
      "cell_type": "code",
      "source": [
        "tokenize(df.hindi_sentence[2],\"hi\")"
      ],
      "metadata": {
        "colab": {
          "base_uri": "https://localhost:8080/"
        },
        "id": "OX6na353BbSb",
        "outputId": "78abe0fb-9902-4b14-b77e-a3dfb524413b"
      },
      "execution_count": 57,
      "outputs": [
        {
          "output_type": "execute_result",
          "data": {
            "text/plain": [
              "['▁यह',\n",
              " '▁प्रतिशत',\n",
              " '▁भारत',\n",
              " '▁में',\n",
              " '▁हिन्दुओं',\n",
              " '▁प्रतिशत',\n",
              " '▁से',\n",
              " '▁अधिक',\n",
              " '▁है',\n",
              " '।']"
            ]
          },
          "metadata": {},
          "execution_count": 57
        }
      ]
    },
    {
      "cell_type": "code",
      "source": [
        "tokenize(df.hindi_sentence[3],\"hi\")"
      ],
      "metadata": {
        "colab": {
          "base_uri": "https://localhost:8080/"
        },
        "id": "ebcL_hfkBdlY",
        "outputId": "b859a6fa-2c45-498f-b2a4-4317b1d8dab9"
      },
      "execution_count": 58,
      "outputs": [
        {
          "output_type": "execute_result",
          "data": {
            "text/plain": [
              "['▁हम',\n",
              " '▁ये',\n",
              " '▁नहीं',\n",
              " '▁कहना',\n",
              " '▁चाहते',\n",
              " '▁कि',\n",
              " '▁वो',\n",
              " '▁ध्यान',\n",
              " '▁नहीं',\n",
              " '▁दे',\n",
              " '▁पाते']"
            ]
          },
          "metadata": {},
          "execution_count": 58
        }
      ]
    },
    {
      "cell_type": "code",
      "source": [
        "tokenize(df.hindi_sentence[4],\"hi\")"
      ],
      "metadata": {
        "colab": {
          "base_uri": "https://localhost:8080/"
        },
        "id": "tIQUyJz2BfGR",
        "outputId": "97185601-961b-48c2-9bf3-05f89dbc9a0f"
      },
      "execution_count": 59,
      "outputs": [
        {
          "output_type": "execute_result",
          "data": {
            "text/plain": [
              "['▁इन्हीं',\n",
              " '▁वेदों',\n",
              " '▁का',\n",
              " '▁अंतिम',\n",
              " '▁भाग',\n",
              " '▁उपनिषद',\n",
              " '▁कहलाता',\n",
              " '▁है',\n",
              " '।']"
            ]
          },
          "metadata": {},
          "execution_count": 59
        }
      ]
    },
    {
      "cell_type": "markdown",
      "source": [
        "## Tokenizing user input sentence"
      ],
      "metadata": {
        "id": "K362QHvqIFdz"
      }
    },
    {
      "cell_type": "code",
      "source": [
        "hindi_input = \"\"\"प्राचीन काल में विक्रमादित्य नाम के एक आदर्श राजा हुआ करते थे।\n",
        "अपने साहस, पराक्रम और शौर्य के लिए  राजा विक्रम मशहूर थे। \n",
        "ऐसा भी कहा जाता है कि राजा विक्रम अपनी प्राजा के जीवन के दुख दर्द जानने के लिए रात्री के पहर में भेष बदल कर नगर में घूमते थे।\"\"\""
      ],
      "metadata": {
        "id": "QfSzv1gxBig0"
      },
      "execution_count": 60,
      "outputs": []
    },
    {
      "cell_type": "code",
      "source": [
        "tokenize(hindi_input, \"hi\")"
      ],
      "metadata": {
        "colab": {
          "base_uri": "https://localhost:8080/"
        },
        "id": "gmXoUQcaBlIj",
        "outputId": "1b72fe7f-3ee6-4b40-98d9-8eb89bc97abf"
      },
      "execution_count": 61,
      "outputs": [
        {
          "output_type": "execute_result",
          "data": {
            "text/plain": [
              "['▁प्राचीन',\n",
              " '▁काल',\n",
              " '▁में',\n",
              " '▁विक्रमादित्य',\n",
              " '▁नाम',\n",
              " '▁के',\n",
              " '▁एक',\n",
              " '▁आदर्श',\n",
              " '▁राजा',\n",
              " '▁हुआ',\n",
              " '▁करते',\n",
              " '▁थे',\n",
              " '।',\n",
              " '▁अपने',\n",
              " '▁साहस',\n",
              " ',',\n",
              " '▁पराक्रम',\n",
              " '▁और',\n",
              " '▁शौर्य',\n",
              " '▁के',\n",
              " '▁लिए',\n",
              " '▁राजा',\n",
              " '▁विक्रम',\n",
              " '▁मशहूर',\n",
              " '▁थे',\n",
              " '।',\n",
              " '▁ऐसा',\n",
              " '▁भी',\n",
              " '▁कहा',\n",
              " '▁जाता',\n",
              " '▁है',\n",
              " '▁कि',\n",
              " '▁राजा',\n",
              " '▁विक्रम',\n",
              " '▁अपनी',\n",
              " '▁प्रा',\n",
              " 'जा',\n",
              " '▁के',\n",
              " '▁जीवन',\n",
              " '▁के',\n",
              " '▁दुख',\n",
              " '▁दर्द',\n",
              " '▁जानने',\n",
              " '▁के',\n",
              " '▁लिए',\n",
              " '▁रात्री',\n",
              " '▁के',\n",
              " '▁पहर',\n",
              " '▁में',\n",
              " '▁भेष',\n",
              " '▁बदल',\n",
              " '▁कर',\n",
              " '▁नगर',\n",
              " '▁में',\n",
              " '▁घूमते',\n",
              " '▁थे',\n",
              " '।']"
            ]
          },
          "metadata": {},
          "execution_count": 61
        }
      ]
    },
    {
      "cell_type": "markdown",
      "source": [
        "## Remove foreign languages"
      ],
      "metadata": {
        "id": "WnvQvwQ-IK1h"
      }
    },
    {
      "cell_type": "code",
      "source": [
        "from inltk.inltk import remove_foreign_languages"
      ],
      "metadata": {
        "id": "y7e-CwDnBnqE"
      },
      "execution_count": 62,
      "outputs": []
    },
    {
      "cell_type": "code",
      "source": [
        "remove_foreign_languages(\"इस्लाम धर्म (الإسلام) ईसाई धर्म के बाद अनुयाइयों के आधार पर दुनिया का दूसरा सब से बड़ा धर्म है।\", \"hi\")"
      ],
      "metadata": {
        "colab": {
          "base_uri": "https://localhost:8080/"
        },
        "id": "RtxGc8JDBoN0",
        "outputId": "ba5c17b1-9044-4dc8-b002-06d6111a9847"
      },
      "execution_count": 63,
      "outputs": [
        {
          "output_type": "execute_result",
          "data": {
            "text/plain": [
              "['▁इस्लाम',\n",
              " '▁धर्म',\n",
              " '▁',\n",
              " '<unk>',\n",
              " ')',\n",
              " '▁ईसाई',\n",
              " '▁धर्म',\n",
              " '▁के',\n",
              " '▁बाद',\n",
              " '▁अनु',\n",
              " 'या',\n",
              " 'इयों',\n",
              " '▁के',\n",
              " '▁आधार',\n",
              " '▁पर',\n",
              " '▁दुनिया',\n",
              " '▁का',\n",
              " '▁दूसरा',\n",
              " '▁सब',\n",
              " '▁से',\n",
              " '▁बड़ा',\n",
              " '▁धर्म',\n",
              " '▁है',\n",
              " '।']"
            ]
          },
          "metadata": {},
          "execution_count": 63
        }
      ]
    },
    {
      "cell_type": "code",
      "source": [
        "remove_foreign_languages(\"विकिपीडिया सभी विषयों ਇੱਕ ਅਲੌਕਿਕ ਨਜ਼ਾਰਾ ਬੱਝਾ ਹੋਇਆ ਸਾਹਮਣੇ ਆ ਖਲੋਂਦਾ ਸੀ पर प्रामाणिक और 维基百科:关于中文维基百科 उपयोग, परिवर्तन 维基百科:关于中文维基百科\", \"hi\")"
      ],
      "metadata": {
        "colab": {
          "base_uri": "https://localhost:8080/"
        },
        "id": "3jAhSXpqBqYc",
        "outputId": "30484c04-b96a-467d-ffc1-7ccbfd2feefa"
      },
      "execution_count": 64,
      "outputs": [
        {
          "output_type": "execute_result",
          "data": {
            "text/plain": [
              "['▁विकिपीडिया',\n",
              " '▁सभी',\n",
              " '▁विषयों',\n",
              " '▁',\n",
              " '<unk>',\n",
              " '▁',\n",
              " '<unk>',\n",
              " '▁',\n",
              " '<unk>',\n",
              " '▁',\n",
              " '<unk>',\n",
              " '▁',\n",
              " '<unk>',\n",
              " '▁',\n",
              " '<unk>',\n",
              " '▁',\n",
              " '<unk>',\n",
              " '▁',\n",
              " '<unk>',\n",
              " '▁',\n",
              " '<unk>',\n",
              " '▁पर',\n",
              " '▁प्रामाणिक',\n",
              " '▁और',\n",
              " '▁',\n",
              " '<unk>',\n",
              " ':',\n",
              " '<unk>',\n",
              " '▁उपयोग',\n",
              " ',',\n",
              " '▁परिवर्तन',\n",
              " '▁',\n",
              " '<unk>',\n",
              " ':',\n",
              " '<unk>']"
            ]
          },
          "metadata": {},
          "execution_count": 64
        }
      ]
    }
  ]
}