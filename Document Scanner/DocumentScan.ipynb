{
 "cells": [
  {
   "cell_type": "markdown",
   "id": "85739915",
   "metadata": {},
   "source": [
    " Loading and importing all the libraries"
   ]
  },
  {
   "cell_type": "code",
   "execution_count": 1,
   "id": "2f971500-2d6a-4b9b-8594-48e009cb0510",
   "metadata": {},
   "outputs": [],
   "source": [
    "import cv2\n",
    "import numpy as np"
   ]
  },
  {
   "cell_type": "code",
   "execution_count": 2,
   "id": "469a6385-7a0b-410c-9787-3fe59d32d768",
   "metadata": {},
   "outputs": [],
   "source": [
    "def drawRec(biggestNew, mainFrame):\n",
    "        cv2.line(mainFrame, (biggestNew[0][0][0], biggestNew[0][0][1]), (biggestNew[1][0][0], biggestNew[1][0][1]), (0, 255, 0), 20)\n",
    "        cv2.line(mainFrame, (biggestNew[0][0][0], biggestNew[0][0][1]), (biggestNew[2][0][0], biggestNew[2][0][1]), (0, 255, 0), 20)\n",
    "        cv2.line(mainFrame, (biggestNew[3][0][0], biggestNew[3][0][1]), (biggestNew[2][0][0], biggestNew[2][0][1]), (0, 255, 0), 20)\n",
    "        cv2.line(mainFrame, (biggestNew[3][0][0], biggestNew[3][0][1]), (biggestNew[1][0][0], biggestNew[1][0][1]), (0, 255, 0), 20)"
   ]
  },
  {
   "cell_type": "markdown",
   "id": "ce8529ba-5724-4e85-8215-f42aee7fc677",
   "metadata": {},
   "source": [
    "# Initializing"
   ]
  },
  {
   "cell_type": "markdown",
   "id": "01a8a1e5",
   "metadata": {},
   "source": [
    "Loading the image"
   ]
  },
  {
   "cell_type": "code",
   "execution_count": null,
   "id": "26427c88-5ff4-4a54-a41f-3acd8a82b6e7",
   "metadata": {},
   "outputs": [],
   "source": [
    "img = cv2.imread(\"your_image_path\")\n",
    "img = cv2.resize(img, (int(480*2), int(640*2)))\n",
    "w, h = 480, 640\n",
    "imgWarp = img.copy()"
   ]
  },
  {
   "cell_type": "markdown",
   "id": "86abad24",
   "metadata": {},
   "source": [
    "Preprocessing and finding the document contour"
   ]
  },
  {
   "cell_type": "code",
   "execution_count": null,
   "id": "d6e2513a-b970-4472-84db-6d12e45f2737",
   "metadata": {},
   "outputs": [],
   "source": [
    "GrayImg = cv2.cvtColor(img, cv2.COLOR_BGR2GRAY)\n",
    "BlurredFrame = cv2.GaussianBlur(GrayImg, (5, 5), 1)\n",
    "CannyFrame = cv2.Canny(BlurredFrame, 190, 190)\n",
    "contours, _ = cv2.findContours(CannyFrame, cv2.RETR_EXTERNAL, cv2.CHAIN_APPROX_SIMPLE)\n",
    "ContourFrame = img.copy()\n",
    "ContourFrame = cv2.drawContours(ContourFrame, contours, -1, (255, 0, 255), 4)\n",
    "CornerFrame = img.copy()\n",
    "maxArea = 0\n",
    "biggest = []\n",
    "for i in contours :\n",
    "    area = cv2.contourArea(i)\n",
    "    if area > 500 :\n",
    "        peri = cv2.arcLength(i, True)\n",
    "        edges = cv2.approxPolyDP(i, 0.02*peri, True)\n",
    "        if area > maxArea and len(edges) == 4 :\n",
    "            biggest = edges\n",
    "            maxArea = area\n",
    "if len(biggest) != 0 :\n",
    "   # drawRec(biggest, CornerFrame)\n",
    "    biggest = biggest.reshape((4, 2))\n",
    "    biggestNew = np.zeros((4, 1, 2), dtype= np.int32)\n",
    "    add = biggest.sum(1)\n",
    "    biggestNew[0] = biggest[np.argmin(add)]\n",
    "    biggestNew[3] = biggest[np.argmax(add)]\n",
    "    dif = np.diff(biggest, axis = 1)\n",
    "    biggestNew[1] = biggest[np.argmin(dif)]\n",
    "    biggestNew[2] = biggest[np.argmax(dif)]\n",
    "    drawRec(biggestNew, CornerFrame)\n",
    "    CornerFrame = cv2.drawContours(CornerFrame, biggestNew, -1, (255, 0, 255), 25)\n",
    "    pts1 = np.float32(biggestNew)\n",
    "    pts2 = np.float32([[0, 0], [w, 0], [0, h], [w, h]])\n",
    "    matrix = cv2.getPerspectiveTransform(pts1, pts2)\n",
    "    imgWarp = cv2.warpPerspective(img, matrix, (w, h))"
   ]
  },
  {
   "cell_type": "markdown",
   "id": "dd9e56b3-e283-4dac-b7db-3a9b90bd91a4",
   "metadata": {},
   "source": [
    "# resizing"
   ]
  },
  {
   "cell_type": "markdown",
   "id": "6770326f",
   "metadata": {},
   "source": [
    "Perspective transformation"
   ]
  },
  {
   "cell_type": "code",
   "execution_count": null,
   "id": "2e4e78ab-2ea9-479e-b021-7db0febdb818",
   "metadata": {},
   "outputs": [],
   "source": [
    "img = cv2.resize(img, (480, 640))\n",
    "GrayImg = cv2.resize(GrayImg, (480, 640))\n",
    "BlurredFrame = cv2.resize(BlurredFrame, (480, 640))\n",
    "CannyFrame = cv2.resize(CannyFrame, (480, 640))\n",
    "ContourFrame = cv2.resize(ContourFrame, (480, 640))\n",
    "CornerFrame = cv2.resize(CornerFrame, (480, 640))\n",
    "\n"
   ]
  },
  {
   "cell_type": "markdown",
   "id": "2f255141",
   "metadata": {},
   "source": [
    "# displaying\n"
   ]
  },
  {
   "cell_type": "code",
   "execution_count": null,
   "id": "6efe5def",
   "metadata": {},
   "outputs": [],
   "source": [
    "cv2.imshow(\"img\", img)\n",
    "cv2.imshow(\"GrayImg\", GrayImg)\n",
    "cv2.imshow(\"BlurredFrame\", BlurredFrame)\n",
    "cv2.imshow(\"CannyFrame\", CannyFrame)\n",
    "cv2.imshow(\"ContourFrame\", ContourFrame)\n",
    "cv2.imshow(\"CornerFrame\", CornerFrame)\n",
    "cv2.imshow(\"outputImage\", imgWarp)\n",
    "cv2.waitKey(0)"
   ]
  }
 ],
 "metadata": {
  "kernelspec": {
   "display_name": "Python 3 (ipykernel)",
   "language": "python",
   "name": "python3"
  },
  "language_info": {
   "codemirror_mode": {
    "name": "ipython",
    "version": 3
   },
   "file_extension": ".py",
   "mimetype": "text/x-python",
   "name": "python",
   "nbconvert_exporter": "python",
   "pygments_lexer": "ipython3",
   "version": "3.11.4"
  }
 },
 "nbformat": 4,
 "nbformat_minor": 5
}
