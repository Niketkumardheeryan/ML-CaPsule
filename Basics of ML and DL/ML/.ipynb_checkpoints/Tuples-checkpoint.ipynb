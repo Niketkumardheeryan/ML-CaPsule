{
 "cells": [
  {
   "cell_type": "code",
   "execution_count": 1,
   "metadata": {},
   "outputs": [
    {
     "name": "stdout",
     "output_type": "stream",
     "text": [
      "(1, 2, 3, 4, 5, 'a', 1.23, (2+3j))\n",
      "<class 'tuple'>\n",
      "True\n",
      "(2, 3, 4, 5)\n"
     ]
    }
   ],
   "source": [
    "# tuple\n",
    "\n",
    "t1 = () # empty tuple\n",
    "t2 = (1,2,3,4)\n",
    "t3 = (5,\"a\", 1.23, 2+3j)\n",
    "\n",
    "t4 = t2 + t3\n",
    "\n",
    "print(t4)\n",
    "print(type(t4))\n",
    "print(3 in t4)\n",
    "print(t4[1:5])\n",
    "\n",
    "# t = t3 * t4  invalid\n",
    "# tuples are immutable"
   ]
  },
  {
   "cell_type": "code",
   "execution_count": 2,
   "metadata": {},
   "outputs": [
    {
     "name": "stdout",
     "output_type": "stream",
     "text": [
      "<class 'tuple'>\n",
      "<class 'tuple'>\n",
      "(1, 2, 3)\n"
     ]
    }
   ],
   "source": [
    "t1 = (1,2)\n",
    "t2 = (3,) # tuple of 1 element\n",
    "t3 = ()\n",
    "\n",
    "print(type(t2))\n",
    "print(type(t3))\n",
    "\n",
    "t=t1+t2\n",
    "print(t)"
   ]
  },
  {
   "cell_type": "code",
   "execution_count": 3,
   "metadata": {},
   "outputs": [
    {
     "name": "stdout",
     "output_type": "stream",
     "text": [
      "1\n",
      "2\n",
      "3\n",
      "4\n"
     ]
    }
   ],
   "source": [
    "# fast iteration in tuples\n",
    "t=(1,2,3,4)\n",
    "for i in t:\n",
    "    print(i)"
   ]
  }
 ],
 "metadata": {
  "kernelspec": {
   "display_name": "Python 3",
   "language": "python",
   "name": "python3"
  },
  "language_info": {
   "codemirror_mode": {
    "name": "ipython",
    "version": 3
   },
   "file_extension": ".py",
   "mimetype": "text/x-python",
   "name": "python",
   "nbconvert_exporter": "python",
   "pygments_lexer": "ipython3",
   "version": "3.8.1"
  }
 },
 "nbformat": 4,
 "nbformat_minor": 4
}
