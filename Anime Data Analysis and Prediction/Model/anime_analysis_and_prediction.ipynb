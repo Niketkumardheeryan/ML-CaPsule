{
 "cells": [
  {
   "cell_type": "markdown",
   "id": "3763689a",
   "metadata": {},
   "source": [
    "# Title: Anime Exploratory Data Analysis and Prediction"
   ]
  },
  {
   "cell_type": "markdown",
   "id": "07e83cc8",
   "metadata": {},
   "source": [
    "## Importing the libraries"
   ]
  },
  {
   "cell_type": "code",
   "execution_count": 1,
   "id": "9a123c96",
   "metadata": {},
   "outputs": [],
   "source": [
    "import pandas as pd\n",
    "import numpy as np\n",
    "import seaborn as sns"
   ]
  },
  {
   "cell_type": "code",
   "execution_count": 2,
   "id": "86766010",
   "metadata": {
    "scrolled": true
   },
   "outputs": [
    {
     "data": {
      "text/html": [
       "<div>\n",
       "<style scoped>\n",
       "    .dataframe tbody tr th:only-of-type {\n",
       "        vertical-align: middle;\n",
       "    }\n",
       "\n",
       "    .dataframe tbody tr th {\n",
       "        vertical-align: top;\n",
       "    }\n",
       "\n",
       "    .dataframe thead th {\n",
       "        text-align: right;\n",
       "    }\n",
       "</style>\n",
       "<table border=\"1\" class=\"dataframe\">\n",
       "  <thead>\n",
       "    <tr style=\"text-align: right;\">\n",
       "      <th></th>\n",
       "      <th>Unnamed: 0</th>\n",
       "      <th>Name_of_Anime</th>\n",
       "      <th>Story</th>\n",
       "      <th>Year</th>\n",
       "      <th>Duration</th>\n",
       "      <th>Certificate</th>\n",
       "      <th>Genre</th>\n",
       "      <th>Rating</th>\n",
       "    </tr>\n",
       "  </thead>\n",
       "  <tbody>\n",
       "    <tr>\n",
       "      <th>0</th>\n",
       "      <td>0</td>\n",
       "      <td>Attack on Titan</td>\n",
       "      <td>After his hometown is destroyed and his mother...</td>\n",
       "      <td>2013-2023</td>\n",
       "      <td>24 min</td>\n",
       "      <td>TV-MA</td>\n",
       "      <td>Animation, Action, Adventure</td>\n",
       "      <td>0.0</td>\n",
       "    </tr>\n",
       "    <tr>\n",
       "      <th>1</th>\n",
       "      <td>1</td>\n",
       "      <td>Bastard!! Heavy Metal, Dark Fantasy</td>\n",
       "      <td>When evil forces threaten to resurrect Anthras...</td>\n",
       "      <td>2022</td>\n",
       "      <td>25 min</td>\n",
       "      <td>TV-MA</td>\n",
       "      <td>Animation, Action, Adventure</td>\n",
       "      <td>6.8</td>\n",
       "    </tr>\n",
       "    <tr>\n",
       "      <th>2</th>\n",
       "      <td>2</td>\n",
       "      <td>One Piece</td>\n",
       "      <td>Follows the adventures of Monkey D. Luffy and ...</td>\n",
       "      <td>1999</td>\n",
       "      <td>24 min</td>\n",
       "      <td>TV-14</td>\n",
       "      <td>Animation, Action, Adventure</td>\n",
       "      <td>8.8</td>\n",
       "    </tr>\n",
       "    <tr>\n",
       "      <th>3</th>\n",
       "      <td>3</td>\n",
       "      <td>Spy x Family</td>\n",
       "      <td>A spy on an undercover mission gets married an...</td>\n",
       "      <td>2022</td>\n",
       "      <td>NaN</td>\n",
       "      <td>TV-14</td>\n",
       "      <td>Animation, Action, Comedy</td>\n",
       "      <td>8.7</td>\n",
       "    </tr>\n",
       "    <tr>\n",
       "      <th>4</th>\n",
       "      <td>4</td>\n",
       "      <td>Demon Slayer: Kimetsu no Yaiba</td>\n",
       "      <td>A family is attacked by demons and only two me...</td>\n",
       "      <td>2019</td>\n",
       "      <td>24 min</td>\n",
       "      <td>TV-MA</td>\n",
       "      <td>Animation, Action, Adventure</td>\n",
       "      <td>8.7</td>\n",
       "    </tr>\n",
       "  </tbody>\n",
       "</table>\n",
       "</div>"
      ],
      "text/plain": [
       "   Unnamed: 0                        Name_of_Anime  \\\n",
       "0           0                      Attack on Titan   \n",
       "1           1  Bastard!! Heavy Metal, Dark Fantasy   \n",
       "2           2                            One Piece   \n",
       "3           3                         Spy x Family   \n",
       "4           4       Demon Slayer: Kimetsu no Yaiba   \n",
       "\n",
       "                                               Story       Year Duration  \\\n",
       "0  After his hometown is destroyed and his mother...  2013-2023   24 min   \n",
       "1  When evil forces threaten to resurrect Anthras...       2022   25 min   \n",
       "2  Follows the adventures of Monkey D. Luffy and ...       1999   24 min   \n",
       "3  A spy on an undercover mission gets married an...       2022      NaN   \n",
       "4  A family is attacked by demons and only two me...       2019   24 min   \n",
       "\n",
       "  Certificate                         Genre  Rating  \n",
       "0       TV-MA  Animation, Action, Adventure     0.0  \n",
       "1       TV-MA  Animation, Action, Adventure     6.8  \n",
       "2       TV-14  Animation, Action, Adventure     8.8  \n",
       "3       TV-14     Animation, Action, Comedy     8.7  \n",
       "4       TV-MA  Animation, Action, Adventure     8.7  "
      ]
     },
     "execution_count": 2,
     "metadata": {},
     "output_type": "execute_result"
    }
   ],
   "source": [
    "data = pd.read_csv(\"../Dataset/All_Anime.csv\")\n",
    "data.head()"
   ]
  },
  {
   "cell_type": "markdown",
   "id": "2f45cae2",
   "metadata": {},
   "source": [
    "## Extracting the dataset and deriving the general model"
   ]
  },
  {
   "cell_type": "code",
   "execution_count": 3,
   "id": "8e36f166",
   "metadata": {},
   "outputs": [
    {
     "data": {
      "text/plain": [
       "(6069, 8)"
      ]
     },
     "execution_count": 3,
     "metadata": {},
     "output_type": "execute_result"
    }
   ],
   "source": [
    "data.shape"
   ]
  },
  {
   "cell_type": "code",
   "execution_count": 4,
   "id": "aa5bd863",
   "metadata": {},
   "outputs": [
    {
     "data": {
      "text/plain": [
       "0       After his hometown is destroyed and his mother...\n",
       "1       When evil forces threaten to resurrect Anthras...\n",
       "2       Follows the adventures of Monkey D. Luffy and ...\n",
       "3       A spy on an undercover mission gets married an...\n",
       "4       A family is attacked by demons and only two me...\n",
       "                              ...                        \n",
       "6064    The Numbers come under attack from terrorists ...\n",
       "6065    The Sekirei attend a mandatory measurement che...\n",
       "6066                                           Add a Plot\n",
       "6067                                           Add a Plot\n",
       "6068    Wakana and Shinju's secret plan was a success,...\n",
       "Name: Story, Length: 6069, dtype: object"
      ]
     },
     "execution_count": 4,
     "metadata": {},
     "output_type": "execute_result"
    }
   ],
   "source": [
    "data['Story']"
   ]
  },
  {
   "cell_type": "code",
   "execution_count": 5,
   "id": "6295c807",
   "metadata": {},
   "outputs": [],
   "source": [
    "data.drop(\"Story\", axis = 1, inplace = True)"
   ]
  },
  {
   "cell_type": "code",
   "execution_count": 6,
   "id": "9ed9aa8b",
   "metadata": {},
   "outputs": [
    {
     "data": {
      "text/html": [
       "<div>\n",
       "<style scoped>\n",
       "    .dataframe tbody tr th:only-of-type {\n",
       "        vertical-align: middle;\n",
       "    }\n",
       "\n",
       "    .dataframe tbody tr th {\n",
       "        vertical-align: top;\n",
       "    }\n",
       "\n",
       "    .dataframe thead th {\n",
       "        text-align: right;\n",
       "    }\n",
       "</style>\n",
       "<table border=\"1\" class=\"dataframe\">\n",
       "  <thead>\n",
       "    <tr style=\"text-align: right;\">\n",
       "      <th></th>\n",
       "      <th>Unnamed: 0</th>\n",
       "      <th>Name_of_Anime</th>\n",
       "      <th>Year</th>\n",
       "      <th>Duration</th>\n",
       "      <th>Certificate</th>\n",
       "      <th>Genre</th>\n",
       "      <th>Rating</th>\n",
       "    </tr>\n",
       "  </thead>\n",
       "  <tbody>\n",
       "    <tr>\n",
       "      <th>0</th>\n",
       "      <td>0</td>\n",
       "      <td>Attack on Titan</td>\n",
       "      <td>2013-2023</td>\n",
       "      <td>24 min</td>\n",
       "      <td>TV-MA</td>\n",
       "      <td>Animation, Action, Adventure</td>\n",
       "      <td>0.0</td>\n",
       "    </tr>\n",
       "    <tr>\n",
       "      <th>1</th>\n",
       "      <td>1</td>\n",
       "      <td>Bastard!! Heavy Metal, Dark Fantasy</td>\n",
       "      <td>2022</td>\n",
       "      <td>25 min</td>\n",
       "      <td>TV-MA</td>\n",
       "      <td>Animation, Action, Adventure</td>\n",
       "      <td>6.8</td>\n",
       "    </tr>\n",
       "    <tr>\n",
       "      <th>2</th>\n",
       "      <td>2</td>\n",
       "      <td>One Piece</td>\n",
       "      <td>1999</td>\n",
       "      <td>24 min</td>\n",
       "      <td>TV-14</td>\n",
       "      <td>Animation, Action, Adventure</td>\n",
       "      <td>8.8</td>\n",
       "    </tr>\n",
       "    <tr>\n",
       "      <th>3</th>\n",
       "      <td>3</td>\n",
       "      <td>Spy x Family</td>\n",
       "      <td>2022</td>\n",
       "      <td>NaN</td>\n",
       "      <td>TV-14</td>\n",
       "      <td>Animation, Action, Comedy</td>\n",
       "      <td>8.7</td>\n",
       "    </tr>\n",
       "    <tr>\n",
       "      <th>4</th>\n",
       "      <td>4</td>\n",
       "      <td>Demon Slayer: Kimetsu no Yaiba</td>\n",
       "      <td>2019</td>\n",
       "      <td>24 min</td>\n",
       "      <td>TV-MA</td>\n",
       "      <td>Animation, Action, Adventure</td>\n",
       "      <td>8.7</td>\n",
       "    </tr>\n",
       "  </tbody>\n",
       "</table>\n",
       "</div>"
      ],
      "text/plain": [
       "   Unnamed: 0                        Name_of_Anime       Year Duration  \\\n",
       "0           0                      Attack on Titan  2013-2023   24 min   \n",
       "1           1  Bastard!! Heavy Metal, Dark Fantasy       2022   25 min   \n",
       "2           2                            One Piece       1999   24 min   \n",
       "3           3                         Spy x Family       2022      NaN   \n",
       "4           4       Demon Slayer: Kimetsu no Yaiba       2019   24 min   \n",
       "\n",
       "  Certificate                         Genre  Rating  \n",
       "0       TV-MA  Animation, Action, Adventure     0.0  \n",
       "1       TV-MA  Animation, Action, Adventure     6.8  \n",
       "2       TV-14  Animation, Action, Adventure     8.8  \n",
       "3       TV-14     Animation, Action, Comedy     8.7  \n",
       "4       TV-MA  Animation, Action, Adventure     8.7  "
      ]
     },
     "execution_count": 6,
     "metadata": {},
     "output_type": "execute_result"
    }
   ],
   "source": [
    "data.head()"
   ]
  },
  {
   "cell_type": "code",
   "execution_count": 7,
   "id": "8a2b2b12",
   "metadata": {},
   "outputs": [
    {
     "data": {
      "text/plain": [
       "array(['TV-MA', 'TV-14', nan, 'TV-PG', 'PG', 'Not Rated', 'PG-13',\n",
       "       'TV-Y7', 'R', 'G', 'TV-Y7-FV', 'TV-Y', 'Unrated', 'X', 'TV-G',\n",
       "       'TV-13', 'T', 'AO', 'M', 'E', 'Approved', 'E10+', 'K-A'],\n",
       "      dtype=object)"
      ]
     },
     "execution_count": 7,
     "metadata": {},
     "output_type": "execute_result"
    }
   ],
   "source": [
    "data['Certificate'].unique()"
   ]
  },
  {
   "cell_type": "code",
   "execution_count": 8,
   "id": "a33a7951",
   "metadata": {},
   "outputs": [],
   "source": [
    "data.drop(\"Certificate\", axis = 1, inplace = True)"
   ]
  },
  {
   "cell_type": "code",
   "execution_count": 9,
   "id": "d6cb81db",
   "metadata": {},
   "outputs": [
    {
     "data": {
      "text/html": [
       "<div>\n",
       "<style scoped>\n",
       "    .dataframe tbody tr th:only-of-type {\n",
       "        vertical-align: middle;\n",
       "    }\n",
       "\n",
       "    .dataframe tbody tr th {\n",
       "        vertical-align: top;\n",
       "    }\n",
       "\n",
       "    .dataframe thead th {\n",
       "        text-align: right;\n",
       "    }\n",
       "</style>\n",
       "<table border=\"1\" class=\"dataframe\">\n",
       "  <thead>\n",
       "    <tr style=\"text-align: right;\">\n",
       "      <th></th>\n",
       "      <th>Unnamed: 0</th>\n",
       "      <th>Name_of_Anime</th>\n",
       "      <th>Year</th>\n",
       "      <th>Duration</th>\n",
       "      <th>Genre</th>\n",
       "      <th>Rating</th>\n",
       "    </tr>\n",
       "  </thead>\n",
       "  <tbody>\n",
       "    <tr>\n",
       "      <th>0</th>\n",
       "      <td>0</td>\n",
       "      <td>Attack on Titan</td>\n",
       "      <td>2013-2023</td>\n",
       "      <td>24 min</td>\n",
       "      <td>Animation, Action, Adventure</td>\n",
       "      <td>0.0</td>\n",
       "    </tr>\n",
       "    <tr>\n",
       "      <th>1</th>\n",
       "      <td>1</td>\n",
       "      <td>Bastard!! Heavy Metal, Dark Fantasy</td>\n",
       "      <td>2022</td>\n",
       "      <td>25 min</td>\n",
       "      <td>Animation, Action, Adventure</td>\n",
       "      <td>6.8</td>\n",
       "    </tr>\n",
       "    <tr>\n",
       "      <th>2</th>\n",
       "      <td>2</td>\n",
       "      <td>One Piece</td>\n",
       "      <td>1999</td>\n",
       "      <td>24 min</td>\n",
       "      <td>Animation, Action, Adventure</td>\n",
       "      <td>8.8</td>\n",
       "    </tr>\n",
       "    <tr>\n",
       "      <th>3</th>\n",
       "      <td>3</td>\n",
       "      <td>Spy x Family</td>\n",
       "      <td>2022</td>\n",
       "      <td>NaN</td>\n",
       "      <td>Animation, Action, Comedy</td>\n",
       "      <td>8.7</td>\n",
       "    </tr>\n",
       "    <tr>\n",
       "      <th>4</th>\n",
       "      <td>4</td>\n",
       "      <td>Demon Slayer: Kimetsu no Yaiba</td>\n",
       "      <td>2019</td>\n",
       "      <td>24 min</td>\n",
       "      <td>Animation, Action, Adventure</td>\n",
       "      <td>8.7</td>\n",
       "    </tr>\n",
       "  </tbody>\n",
       "</table>\n",
       "</div>"
      ],
      "text/plain": [
       "   Unnamed: 0                        Name_of_Anime       Year Duration  \\\n",
       "0           0                      Attack on Titan  2013-2023   24 min   \n",
       "1           1  Bastard!! Heavy Metal, Dark Fantasy       2022   25 min   \n",
       "2           2                            One Piece       1999   24 min   \n",
       "3           3                         Spy x Family       2022      NaN   \n",
       "4           4       Demon Slayer: Kimetsu no Yaiba       2019   24 min   \n",
       "\n",
       "                          Genre  Rating  \n",
       "0  Animation, Action, Adventure     0.0  \n",
       "1  Animation, Action, Adventure     6.8  \n",
       "2  Animation, Action, Adventure     8.8  \n",
       "3     Animation, Action, Comedy     8.7  \n",
       "4  Animation, Action, Adventure     8.7  "
      ]
     },
     "execution_count": 9,
     "metadata": {},
     "output_type": "execute_result"
    }
   ],
   "source": [
    "data.head()"
   ]
  },
  {
   "cell_type": "code",
   "execution_count": 10,
   "id": "6e1c92d1",
   "metadata": {},
   "outputs": [
    {
     "data": {
      "text/plain": [
       "array(['2013-2023', '2022', '1999', '2019', '2007-2017', '2011-2014',\n",
       "       '2016', '2006-2007', '2001', '2002-2007', '2020', '1992',\n",
       "       '2004-2012', '2009-2012', '2012', '2015-2019', '2004', '2017',\n",
       "       '1989-2003', '2017-2021', '2012-2018', '2015', '1998-1999', '1988',\n",
       "       '2021', '1997-1998', '1997', '2014-2020', '1995-1996', '2005-2018',\n",
       "       '2006-2012', '2004-2010', '2015-2018', '2018-2020', '2014-2021',\n",
       "       '2014', '1986-1989', '2011-2015', '2019-2021', '2009-2019',\n",
       "       '2005-2008', '2010-2011', '2008', 'I 2000-2006', '2013-2016',\n",
       "       '1995', '2018', '1998', '2021-2022', '2014-2015', '1989', '2006',\n",
       "       '2010-2012', '1986', '1984', '2013', '2016-2017', '1996',\n",
       "       '2008-2010', '2000', '2012-2014', '2010', '2004-2005', '2003-2004',\n",
       "       'I 2021', '2017-2019', '2012-2015', '2015-2016', '2002',\n",
       "       '2000-2004', '1989-1996', '1992-1995', '2007-2008', '1992-1997',\n",
       "       '2011-2012', '2001-2007', '1995-2003', '1991', '2023', '2013-2014',\n",
       "       '2011', '2020-2022', '1993-1996', '2007', '1988-1997', '1999-2001',\n",
       "       '2008-2011', '2011-2013', '1985', '1993', '1973', '2003',\n",
       "       '1995-2000', '2008-2009', '2014-2016', '2009-2015', '1999-2007',\n",
       "       '2003-2006', '2005', '2005-2006', '2001-2002', '1996-1999', '1994',\n",
       "       '2009-2010', '1996-2003', '2002-2005', '1987', '2017-2022',\n",
       "       '2000-2002', '1999-2000', 'I 2017', '2000-2001', '2009', '1979',\n",
       "       '2010-2013', '1979-1980', '1993-2002', '2007-2010', '2001-2005',\n",
       "       '2016-2018', '2018-2021', 'II 2000-2004', '1977-1980', '2026', nan,\n",
       "       '2020-2021', '2015-2017', '2006-2008', '2012-2013', '2018-2019',\n",
       "       '2004-2008', '2007-2009', '1970', '2007-2011', '2002-2003',\n",
       "       '1984-1988', '1981-1986', '1998-2000', '1990', 'I 2004',\n",
       "       '2009-2013', '1967-1968', '1983-1995', '2008-2019', '1978-1980',\n",
       "       '2010-2018', '2006-2009', '2011-2016', '1988-1989', '1983', '1978',\n",
       "       '2006-2014', '2012-2017', '1990-1992', '2017-2020', 'I 2020',\n",
       "       '2019-2020', '1969', '1979-2005', '1971-1972', '1976-1979',\n",
       "       '1979-1984', '1985-1986', '1982-1983', '1990-2003', '2009-2016',\n",
       "       '2004-2006', '1974', '1995-2009', '1975', '1989-1995', '1995-1998',\n",
       "       '1990-1991', '1970-1971', '1999-2018', '1987-1991', '2010-2014',\n",
       "       '1999-2003', '1996-2013', '2006-2011', '2014-2018', '1981-1982',\n",
       "       '1982', 'I 2019', '2002-2008', '1986-1990', '1995-2002',\n",
       "       '1985-1988', '1973-1977', '2008-2015', '1972-1973', '2017-2018',\n",
       "       '1981', '1994-1995', '1993-1994', '1988-1994', '1980', '1972-1974',\n",
       "       'II 2020', '1986-1988', '2003-2005', '1978-1987', '1984-1985',\n",
       "       '1989-1992', '1999-2004', '1978-1979', '1989-2020', '1975-1977',\n",
       "       '2009-2014', 'II 2021', '2005-2010', '1975-1980', '1963-1965',\n",
       "       '2009-2011', '1974-1975', '1988-1995', '2006-2019', '1980-1981',\n",
       "       '2000-2006', '2002-2004', '1978-1981', '1983-1985', '1964',\n",
       "       '2001-2003', '1972', '1987-1989', '1977-1978', 'I 2000-2001',\n",
       "       '1994-1998', '1988-1996', '1968-1969', '2004-2011', '1989-1990',\n",
       "       '1991-1992', '1987-1988', '1965-1967', '2002-2006', '1968',\n",
       "       '2011-2019', '2010-2015', '1980-2004', '1993-2018', '1996-1997',\n",
       "       'I 2018', '1996-1998', 'I 2013', '1992-1994', '1975-1976',\n",
       "       'I 2012', '2012-2016', '1983-1984', '2013-2018', '1985-1987',\n",
       "       '1986-1987', '1996-2008', '1997-2000', '1971', '1997-1999',\n",
       "       '1989-1991', '1960', '1995-1997', '1958', '1994-1997', '1976-1977',\n",
       "       '1992-1998', '1994-2005', '1976', '1969-1971', '2004-2014',\n",
       "       'I 2005', '2022-2023', '1993-2008', '2005-2007', '2013-2015',\n",
       "       '1983-1986', '1981-1987', '1966', '1977', '1959', '1981-1983',\n",
       "       '1973-1974', '1998-2003', '1997-2002', '1966-1967', '1945',\n",
       "       '2000-2003', '2001-2010', '2015-2022', '2005-2015', '2016-2021',\n",
       "       '1980-1982', '2006-2018', '1992-1996', '1975-1982', '2011-2017',\n",
       "       '1992-1993', '1977-1979', '1972-1975', '1963', '1993-1995',\n",
       "       '1977-2012', '1968-1971', 'II 1990', '2000-2005', 'II 1992',\n",
       "       '1962', '2018-2022', '1969-1970', '1998-2002', '1963-1964',\n",
       "       '1966-1968', 'I 2015', '1988-1992', '1967', '1994-1996',\n",
       "       '1963-1966', '1917', '1907', '2001-2004', '1943', '2013-2017',\n",
       "       '1965-1966', 'II 2017', 'II 2000', '1934', 'II 2016', '1978-1988',\n",
       "       '1931', '1947', '1933', '1961', '1982-1984', '1948', 'I 2008',\n",
       "       '1946', '1991-1993', '1935', 'II 2005', '1944', '1925', '1924',\n",
       "       '1929', '1918', '1938', 'IV 2015', '1932', '1950', 'III 2018',\n",
       "       '1928', 'IV 2014', 'Vide'], dtype=object)"
      ]
     },
     "execution_count": 10,
     "metadata": {},
     "output_type": "execute_result"
    }
   ],
   "source": [
    "data['Year'].unique()"
   ]
  },
  {
   "cell_type": "code",
   "execution_count": 11,
   "id": "0f18289c",
   "metadata": {},
   "outputs": [
    {
     "data": {
      "text/plain": [
       "array([0. , 6.8, 8.8, 8.7, 7.3, 8.4, 8.6, 8.5, 6.9, 8.2, 9.1, 7.6, 8.3,\n",
       "       7.7, 8.9, 7.9, 7.5, 7.2, 6.7, 8.1, 7.8, 7.4, 6.2, nan, 6.3, 6.1,\n",
       "       7.1, 6.6, 6.5, 5.7, 6.4, 5.9, 5.8, 5.1, 5.5, 5.6, 5.4, 5.2, 4.9,\n",
       "       1.3, 4.5, 1.8, 4.1, 4.3, 5.3, 4.8, 3.8, 2.7, 9.2, 3.9, 4.7, 4.4,\n",
       "       3.3, 3.6, 3.7, 4.6, 4.2, 2.4, 2.6, 1.7, 3.2, 3.5, 3.4, 2.5, 3.1,\n",
       "       2.8, 2.1, 2.2, 9.4])"
      ]
     },
     "execution_count": 11,
     "metadata": {},
     "output_type": "execute_result"
    }
   ],
   "source": [
    "data['Rating'].unique()"
   ]
  },
  {
   "cell_type": "code",
   "execution_count": 12,
   "id": "648c4fdc",
   "metadata": {},
   "outputs": [],
   "source": [
    "data['Rating'] = data[\"Rating\"].replace(np.nan, 0)"
   ]
  },
  {
   "cell_type": "code",
   "execution_count": 13,
   "id": "d1ab5af9",
   "metadata": {},
   "outputs": [
    {
     "data": {
      "text/plain": [
       "array([0. , 6.8, 8.8, 8.7, 7.3, 8.4, 8.6, 8.5, 6.9, 8.2, 9.1, 7.6, 8.3,\n",
       "       7.7, 8.9, 7.9, 7.5, 7.2, 6.7, 8.1, 7.8, 7.4, 6.2, 6.3, 6.1, 7.1,\n",
       "       6.6, 6.5, 5.7, 6.4, 5.9, 5.8, 5.1, 5.5, 5.6, 5.4, 5.2, 4.9, 1.3,\n",
       "       4.5, 1.8, 4.1, 4.3, 5.3, 4.8, 3.8, 2.7, 9.2, 3.9, 4.7, 4.4, 3.3,\n",
       "       3.6, 3.7, 4.6, 4.2, 2.4, 2.6, 1.7, 3.2, 3.5, 3.4, 2.5, 3.1, 2.8,\n",
       "       2.1, 2.2, 9.4])"
      ]
     },
     "execution_count": 13,
     "metadata": {},
     "output_type": "execute_result"
    }
   ],
   "source": [
    "data['Rating'].unique()"
   ]
  },
  {
   "cell_type": "code",
   "execution_count": 14,
   "id": "058f80d4",
   "metadata": {},
   "outputs": [
    {
     "data": {
      "text/plain": [
       "Unnamed: 0          0\n",
       "Name_of_Anime       0\n",
       "Year               52\n",
       "Duration         1921\n",
       "Genre              24\n",
       "Rating              0\n",
       "dtype: int64"
      ]
     },
     "execution_count": 14,
     "metadata": {},
     "output_type": "execute_result"
    }
   ],
   "source": [
    "data.isna().sum()"
   ]
  },
  {
   "cell_type": "code",
   "execution_count": 15,
   "id": "92e2e348",
   "metadata": {
    "scrolled": false
   },
   "outputs": [
    {
     "data": {
      "text/plain": [
       "array(['24 min', '25 min', nan, '120 min', '125 min', '180 min', '30 min',\n",
       "       '119 min', '106 min', '23 min', '89 min', '112 min', '134 min',\n",
       "       '45 min', '325 min', '121 min', '124 min', '86 min', '81 min',\n",
       "       '117 min', '130 min', '13 min', '264 min', '101 min', '83 min',\n",
       "       '87 min', '103 min', '90 min', '22 min', '100 min', '126 min',\n",
       "       '10 min', '50 min', '94 min', '109 min', '113 min', '111 min',\n",
       "       '137 min', '75 min', '26 min', '154 min', '316 min', '91 min',\n",
       "       '63 min', '115 min', '46 min', '84 min', '165 min', '300 min',\n",
       "       '71 min', '12 min', '21 min', '27 min', '104 min', '360 min',\n",
       "       '95 min', '80 min', '102 min', '110 min', '76 min', '82 min',\n",
       "       '85 min', '96 min', '60 min', '98 min', '92 min', '20 min',\n",
       "       '97 min', '151 min', '122 min', '114 min', '16 min', '33 min',\n",
       "       '51 min', '384 min', '47 min', '160 min', '99 min', '253 min',\n",
       "       '108 min', '118 min', '4 min', '15 min', '93 min', '116 min',\n",
       "       '136 min', '701 min', '88 min', '129 min', '72 min', '74 min',\n",
       "       '172 min', '70 min', '288 min', '54 min', '49 min', '59 min',\n",
       "       '128 min', '57 min', '29 min', '58 min', '38 min', '28 min',\n",
       "       '6 min', '5 min', '131 min', '8 min', '68 min', '48 min',\n",
       "       '140 min', '34 min', '14 min', '55 min', '162 min', '17 min',\n",
       "       '41 min', '150 min', '105 min', '135 min', '155 min', '307 min',\n",
       "       '544 min', '61 min', '53 min', '36 min', '35 min', '65 min',\n",
       "       '11 min', '64 min', '7 min', '19 min', '42 min', '9 min', '43 min',\n",
       "       '107 min', '195 min', '73 min', '3 min', '159 min', '52 min',\n",
       "       '580 min', '148 min', '40 min', '132 min', '1 min', '31 min',\n",
       "       '44 min', '78 min', '210 min', '200 min', '1,080 min', '139 min',\n",
       "       '69 min', '207 min', '2 min', '168 min', '79 min', '275 min',\n",
       "       '77 min', '144 min', '629 min', '174 min', '185 min', '62 min',\n",
       "       '32 min', '56 min', '66 min', '18 min', '152 min', '235 min',\n",
       "       '67 min', '190 min', '390 min', '1,329 min', '420 min', '153 min',\n",
       "       '260 min', '598 min', '196 min', '39 min', '780 min', '214 min',\n",
       "       '145 min', '270 min', '263 min', '37 min', '138 min', '175 min',\n",
       "       '499 min'], dtype=object)"
      ]
     },
     "execution_count": 15,
     "metadata": {},
     "output_type": "execute_result"
    }
   ],
   "source": [
    "data[\"Duration\"].unique()"
   ]
  },
  {
   "cell_type": "markdown",
   "id": "ca93f1d1",
   "metadata": {},
   "source": [
    "## Data filtering"
   ]
  },
  {
   "cell_type": "code",
   "execution_count": 16,
   "id": "f624c193",
   "metadata": {},
   "outputs": [],
   "source": [
    "data[\"Duration\"] = data[\"Duration\"].str.replace(\" min\", \"\")"
   ]
  },
  {
   "cell_type": "code",
   "execution_count": 17,
   "id": "7c470a4c",
   "metadata": {},
   "outputs": [
    {
     "data": {
      "text/plain": [
       "0        24\n",
       "1        25\n",
       "2        24\n",
       "3       NaN\n",
       "4        24\n",
       "       ... \n",
       "6064    NaN\n",
       "6065     28\n",
       "6066     23\n",
       "6067     24\n",
       "6068     24\n",
       "Name: Duration, Length: 6069, dtype: object"
      ]
     },
     "execution_count": 17,
     "metadata": {},
     "output_type": "execute_result"
    }
   ],
   "source": [
    "data['Duration']"
   ]
  },
  {
   "cell_type": "code",
   "execution_count": 18,
   "id": "f19bed8f",
   "metadata": {},
   "outputs": [],
   "source": [
    "data[\"Duration\"] = data[\"Duration\"].str.replace(\",\", \"\")"
   ]
  },
  {
   "cell_type": "code",
   "execution_count": 19,
   "id": "66847a83",
   "metadata": {
    "scrolled": true
   },
   "outputs": [
    {
     "data": {
      "text/plain": [
       "1921"
      ]
     },
     "execution_count": 19,
     "metadata": {},
     "output_type": "execute_result"
    }
   ],
   "source": [
    "data['Duration'].isna().sum()"
   ]
  },
  {
   "cell_type": "code",
   "execution_count": 20,
   "id": "57570e7c",
   "metadata": {},
   "outputs": [],
   "source": [
    "data[\"Duration\"] = data[\"Duration\"].replace(np.nan, 0)"
   ]
  },
  {
   "cell_type": "code",
   "execution_count": 21,
   "id": "054444fe",
   "metadata": {},
   "outputs": [],
   "source": [
    "data['Duration'] = data['Duration'].astype(\"int64\")"
   ]
  },
  {
   "cell_type": "code",
   "execution_count": 22,
   "id": "4c18c4e6",
   "metadata": {},
   "outputs": [
    {
     "data": {
      "text/html": [
       "<div>\n",
       "<style scoped>\n",
       "    .dataframe tbody tr th:only-of-type {\n",
       "        vertical-align: middle;\n",
       "    }\n",
       "\n",
       "    .dataframe tbody tr th {\n",
       "        vertical-align: top;\n",
       "    }\n",
       "\n",
       "    .dataframe thead th {\n",
       "        text-align: right;\n",
       "    }\n",
       "</style>\n",
       "<table border=\"1\" class=\"dataframe\">\n",
       "  <thead>\n",
       "    <tr style=\"text-align: right;\">\n",
       "      <th></th>\n",
       "      <th>Unnamed: 0</th>\n",
       "      <th>Name_of_Anime</th>\n",
       "      <th>Year</th>\n",
       "      <th>Duration</th>\n",
       "      <th>Genre</th>\n",
       "      <th>Rating</th>\n",
       "    </tr>\n",
       "  </thead>\n",
       "  <tbody>\n",
       "    <tr>\n",
       "      <th>0</th>\n",
       "      <td>0</td>\n",
       "      <td>Attack on Titan</td>\n",
       "      <td>2013-2023</td>\n",
       "      <td>24</td>\n",
       "      <td>Animation, Action, Adventure</td>\n",
       "      <td>0.0</td>\n",
       "    </tr>\n",
       "    <tr>\n",
       "      <th>1</th>\n",
       "      <td>1</td>\n",
       "      <td>Bastard!! Heavy Metal, Dark Fantasy</td>\n",
       "      <td>2022</td>\n",
       "      <td>25</td>\n",
       "      <td>Animation, Action, Adventure</td>\n",
       "      <td>6.8</td>\n",
       "    </tr>\n",
       "    <tr>\n",
       "      <th>2</th>\n",
       "      <td>2</td>\n",
       "      <td>One Piece</td>\n",
       "      <td>1999</td>\n",
       "      <td>24</td>\n",
       "      <td>Animation, Action, Adventure</td>\n",
       "      <td>8.8</td>\n",
       "    </tr>\n",
       "    <tr>\n",
       "      <th>3</th>\n",
       "      <td>3</td>\n",
       "      <td>Spy x Family</td>\n",
       "      <td>2022</td>\n",
       "      <td>0</td>\n",
       "      <td>Animation, Action, Comedy</td>\n",
       "      <td>8.7</td>\n",
       "    </tr>\n",
       "    <tr>\n",
       "      <th>4</th>\n",
       "      <td>4</td>\n",
       "      <td>Demon Slayer: Kimetsu no Yaiba</td>\n",
       "      <td>2019</td>\n",
       "      <td>24</td>\n",
       "      <td>Animation, Action, Adventure</td>\n",
       "      <td>8.7</td>\n",
       "    </tr>\n",
       "  </tbody>\n",
       "</table>\n",
       "</div>"
      ],
      "text/plain": [
       "   Unnamed: 0                        Name_of_Anime       Year  Duration  \\\n",
       "0           0                      Attack on Titan  2013-2023        24   \n",
       "1           1  Bastard!! Heavy Metal, Dark Fantasy       2022        25   \n",
       "2           2                            One Piece       1999        24   \n",
       "3           3                         Spy x Family       2022         0   \n",
       "4           4       Demon Slayer: Kimetsu no Yaiba       2019        24   \n",
       "\n",
       "                          Genre  Rating  \n",
       "0  Animation, Action, Adventure     0.0  \n",
       "1  Animation, Action, Adventure     6.8  \n",
       "2  Animation, Action, Adventure     8.8  \n",
       "3     Animation, Action, Comedy     8.7  \n",
       "4  Animation, Action, Adventure     8.7  "
      ]
     },
     "execution_count": 22,
     "metadata": {},
     "output_type": "execute_result"
    }
   ],
   "source": [
    "data.head()"
   ]
  },
  {
   "cell_type": "code",
   "execution_count": 23,
   "id": "d7c1f1c8",
   "metadata": {},
   "outputs": [
    {
     "data": {
      "text/plain": [
       "Name_of_Anime\n",
       " Rebelde                                                         439\n",
       " SMG4                                                             14\n",
       " Corncast                                                          6\n",
       " World's End Harem                                                 5\n",
       " Crying Freeman                                                    5\n",
       "                                                                ... \n",
       "Mobile Police Patlabor: The Early Days                             1\n",
       "Tekkaman Blade                                                     1\n",
       "The Disappearance of Nagato Yuki-chan                              1\n",
       "Orenchi no Furo Jijou                                              1\n",
       "UQ Holder! Mahou Sensei Negima! Setsuna de Eien na First Kiss      1\n",
       "Name: count, Length: 5504, dtype: int64"
      ]
     },
     "execution_count": 23,
     "metadata": {},
     "output_type": "execute_result"
    }
   ],
   "source": [
    "data[\"Name_of_Anime\"].value_counts()"
   ]
  },
  {
   "cell_type": "code",
   "execution_count": 24,
   "id": "88550b9a",
   "metadata": {},
   "outputs": [],
   "source": [
    "data.rename(\n",
    "    columns = {\"Name_of_Anime\":\"name\"}, inplace = True\n",
    ")"
   ]
  },
  {
   "cell_type": "code",
   "execution_count": 25,
   "id": "35619c8f",
   "metadata": {},
   "outputs": [
    {
     "data": {
      "text/plain": [
       "dtype('O')"
      ]
     },
     "execution_count": 25,
     "metadata": {},
     "output_type": "execute_result"
    }
   ],
   "source": [
    "data.Year.dtype"
   ]
  },
  {
   "cell_type": "code",
   "execution_count": 26,
   "id": "09ffc457",
   "metadata": {},
   "outputs": [],
   "source": [
    "data['Year'] = data[\"Year\"].str.replace(\"-\", \" \")"
   ]
  },
  {
   "cell_type": "code",
   "execution_count": 27,
   "id": "a140eee4",
   "metadata": {},
   "outputs": [
    {
     "data": {
      "text/plain": [
       "0    2013 2023\n",
       "1         2022\n",
       "2         1999\n",
       "3         2022\n",
       "4         2019\n",
       "Name: Year, dtype: object"
      ]
     },
     "execution_count": 27,
     "metadata": {},
     "output_type": "execute_result"
    }
   ],
   "source": [
    "data[\"Year\"].head()"
   ]
  },
  {
   "cell_type": "code",
   "execution_count": null,
   "id": "6f959cb5",
   "metadata": {
    "scrolled": true
   },
   "outputs": [],
   "source": []
  },
  {
   "cell_type": "code",
   "execution_count": 28,
   "id": "3e5a999c",
   "metadata": {
    "scrolled": true
   },
   "outputs": [
    {
     "data": {
      "text/plain": [
       "array(['2013 2023', '2022', '1999', '2019', '2007 2017', '2011 2014',\n",
       "       '2016', '2006 2007', '2001', '2002 2007', '2020', '1992',\n",
       "       '2004 2012', '2009 2012', '2012', '2015 2019', '2004', '2017',\n",
       "       '1989 2003', '2017 2021', '2012 2018', '2015', '1998 1999', '1988',\n",
       "       '2021', '1997 1998', '1997', '2014 2020', '1995 1996', '2005 2018',\n",
       "       '2006 2012', '2004 2010', '2015 2018', '2018 2020', '2014 2021',\n",
       "       '2014', '1986 1989', '2011 2015', '2019 2021', '2009 2019',\n",
       "       '2005 2008', '2010 2011', '2008', 'I 2000 2006', '2013 2016',\n",
       "       '1995', '2018', '1998', '2021 2022', '2014 2015', '1989', '2006',\n",
       "       '2010 2012', '1986', '1984', '2013', '2016 2017', '1996',\n",
       "       '2008 2010', '2000', '2012 2014', '2010', '2004 2005', '2003 2004',\n",
       "       'I 2021', '2017 2019', '2012 2015', '2015 2016', '2002',\n",
       "       '2000 2004', '1989 1996', '1992 1995', '2007 2008', '1992 1997',\n",
       "       '2011 2012', '2001 2007', '1995 2003', '1991', '2023', '2013 2014',\n",
       "       '2011', '2020 2022', '1993 1996', '2007', '1988 1997', '1999 2001',\n",
       "       '2008 2011', '2011 2013', '1985', '1993', '1973', '2003',\n",
       "       '1995 2000', '2008 2009', '2014 2016', '2009 2015', '1999 2007',\n",
       "       '2003 2006', '2005', '2005 2006', '2001 2002', '1996 1999', '1994',\n",
       "       '2009 2010', '1996 2003', '2002 2005', '1987', '2017 2022',\n",
       "       '2000 2002', '1999 2000', 'I 2017', '2000 2001', '2009', '1979',\n",
       "       '2010 2013', '1979 1980', '1993 2002', '2007 2010', '2001 2005',\n",
       "       '2016 2018', '2018 2021', 'II 2000 2004', '1977 1980', '2026', nan,\n",
       "       '2020 2021', '2015 2017', '2006 2008', '2012 2013', '2018 2019',\n",
       "       '2004 2008', '2007 2009', '1970', '2007 2011', '2002 2003',\n",
       "       '1984 1988', '1981 1986', '1998 2000', '1990', 'I 2004',\n",
       "       '2009 2013', '1967 1968', '1983 1995', '2008 2019', '1978 1980',\n",
       "       '2010 2018', '2006 2009', '2011 2016', '1988 1989', '1983', '1978',\n",
       "       '2006 2014', '2012 2017', '1990 1992', '2017 2020', 'I 2020',\n",
       "       '2019 2020', '1969', '1979 2005', '1971 1972', '1976 1979',\n",
       "       '1979 1984', '1985 1986', '1982 1983', '1990 2003', '2009 2016',\n",
       "       '2004 2006', '1974', '1995 2009', '1975', '1989 1995', '1995 1998',\n",
       "       '1990 1991', '1970 1971', '1999 2018', '1987 1991', '2010 2014',\n",
       "       '1999 2003', '1996 2013', '2006 2011', '2014 2018', '1981 1982',\n",
       "       '1982', 'I 2019', '2002 2008', '1986 1990', '1995 2002',\n",
       "       '1985 1988', '1973 1977', '2008 2015', '1972 1973', '2017 2018',\n",
       "       '1981', '1994 1995', '1993 1994', '1988 1994', '1980', '1972 1974',\n",
       "       'II 2020', '1986 1988', '2003 2005', '1978 1987', '1984 1985',\n",
       "       '1989 1992', '1999 2004', '1978 1979', '1989 2020', '1975 1977',\n",
       "       '2009 2014', 'II 2021', '2005 2010', '1975 1980', '1963 1965',\n",
       "       '2009 2011', '1974 1975', '1988 1995', '2006 2019', '1980 1981',\n",
       "       '2000 2006', '2002 2004', '1978 1981', '1983 1985', '1964',\n",
       "       '2001 2003', '1972', '1987 1989', '1977 1978', 'I 2000 2001',\n",
       "       '1994 1998', '1988 1996', '1968 1969', '2004 2011', '1989 1990',\n",
       "       '1991 1992', '1987 1988', '1965 1967', '2002 2006', '1968',\n",
       "       '2011 2019', '2010 2015', '1980 2004', '1993 2018', '1996 1997',\n",
       "       'I 2018', '1996 1998', 'I 2013', '1992 1994', '1975 1976',\n",
       "       'I 2012', '2012 2016', '1983 1984', '2013 2018', '1985 1987',\n",
       "       '1986 1987', '1996 2008', '1997 2000', '1971', '1997 1999',\n",
       "       '1989 1991', '1960', '1995 1997', '1958', '1994 1997', '1976 1977',\n",
       "       '1992 1998', '1994 2005', '1976', '1969 1971', '2004 2014',\n",
       "       'I 2005', '2022 2023', '1993 2008', '2005 2007', '2013 2015',\n",
       "       '1983 1986', '1981 1987', '1966', '1977', '1959', '1981 1983',\n",
       "       '1973 1974', '1998 2003', '1997 2002', '1966 1967', '1945',\n",
       "       '2000 2003', '2001 2010', '2015 2022', '2005 2015', '2016 2021',\n",
       "       '1980 1982', '2006 2018', '1992 1996', '1975 1982', '2011 2017',\n",
       "       '1992 1993', '1977 1979', '1972 1975', '1963', '1993 1995',\n",
       "       '1977 2012', '1968 1971', 'II 1990', '2000 2005', 'II 1992',\n",
       "       '1962', '2018 2022', '1969 1970', '1998 2002', '1963 1964',\n",
       "       '1966 1968', 'I 2015', '1988 1992', '1967', '1994 1996',\n",
       "       '1963 1966', '1917', '1907', '2001 2004', '1943', '2013 2017',\n",
       "       '1965 1966', 'II 2017', 'II 2000', '1934', 'II 2016', '1978 1988',\n",
       "       '1931', '1947', '1933', '1961', '1982 1984', '1948', 'I 2008',\n",
       "       '1946', '1991 1993', '1935', 'II 2005', '1944', '1925', '1924',\n",
       "       '1929', '1918', '1938', 'IV 2015', '1932', '1950', 'III 2018',\n",
       "       '1928', 'IV 2014', 'Vide'], dtype=object)"
      ]
     },
     "execution_count": 28,
     "metadata": {},
     "output_type": "execute_result"
    }
   ],
   "source": [
    "data[\"Year\"].unique()"
   ]
  },
  {
   "cell_type": "code",
   "execution_count": 29,
   "id": "0364dd7d",
   "metadata": {},
   "outputs": [
    {
     "data": {
      "text/plain": [
       "dtype('O')"
      ]
     },
     "execution_count": 29,
     "metadata": {},
     "output_type": "execute_result"
    }
   ],
   "source": [
    "data[\"Year\"].dtype"
   ]
  },
  {
   "cell_type": "code",
   "execution_count": 30,
   "id": "f7f7d714",
   "metadata": {},
   "outputs": [],
   "source": [
    "data[\"Year\"] = data[\"Year\"].str.replace(\"I\", \"\")\n",
    "data[\"Year\"] = data[\"Year\"].str.replace(\"II\", \"\")\n",
    "data[\"Year\"] = data[\"Year\"].str.replace(\"III\", \"\")\n",
    "data[\"Year\"] = data[\"Year\"].str.replace(\"IV\", \"\")\n",
    "data[\"Year\"] = data[\"Year\"].str.replace(\"Vide\", \"\")"
   ]
  },
  {
   "cell_type": "code",
   "execution_count": 31,
   "id": "cba44def",
   "metadata": {
    "scrolled": false
   },
   "outputs": [
    {
     "data": {
      "text/plain": [
       "array(['2013 2023', '2022', '1999', '2019', '2007 2017', '2011 2014',\n",
       "       '2016', '2006 2007', '2001', '2002 2007', '2020', '1992',\n",
       "       '2004 2012', '2009 2012', '2012', '2015 2019', '2004', '2017',\n",
       "       '1989 2003', '2017 2021', '2012 2018', '2015', '1998 1999', '1988',\n",
       "       '2021', '1997 1998', '1997', '2014 2020', '1995 1996', '2005 2018',\n",
       "       '2006 2012', '2004 2010', '2015 2018', '2018 2020', '2014 2021',\n",
       "       '2014', '1986 1989', '2011 2015', '2019 2021', '2009 2019',\n",
       "       '2005 2008', '2010 2011', '2008', ' 2000 2006', '2013 2016',\n",
       "       '1995', '2018', '1998', '2021 2022', '2014 2015', '1989', '2006',\n",
       "       '2010 2012', '1986', '1984', '2013', '2016 2017', '1996',\n",
       "       '2008 2010', '2000', '2012 2014', '2010', '2004 2005', '2003 2004',\n",
       "       ' 2021', '2017 2019', '2012 2015', '2015 2016', '2002',\n",
       "       '2000 2004', '1989 1996', '1992 1995', '2007 2008', '1992 1997',\n",
       "       '2011 2012', '2001 2007', '1995 2003', '1991', '2023', '2013 2014',\n",
       "       '2011', '2020 2022', '1993 1996', '2007', '1988 1997', '1999 2001',\n",
       "       '2008 2011', '2011 2013', '1985', '1993', '1973', '2003',\n",
       "       '1995 2000', '2008 2009', '2014 2016', '2009 2015', '1999 2007',\n",
       "       '2003 2006', '2005', '2005 2006', '2001 2002', '1996 1999', '1994',\n",
       "       '2009 2010', '1996 2003', '2002 2005', '1987', '2017 2022',\n",
       "       '2000 2002', '1999 2000', ' 2017', '2000 2001', '2009', '1979',\n",
       "       '2010 2013', '1979 1980', '1993 2002', '2007 2010', '2001 2005',\n",
       "       '2016 2018', '2018 2021', ' 2000 2004', '1977 1980', '2026', nan,\n",
       "       '2020 2021', '2015 2017', '2006 2008', '2012 2013', '2018 2019',\n",
       "       '2004 2008', '2007 2009', '1970', '2007 2011', '2002 2003',\n",
       "       '1984 1988', '1981 1986', '1998 2000', '1990', ' 2004',\n",
       "       '2009 2013', '1967 1968', '1983 1995', '2008 2019', '1978 1980',\n",
       "       '2010 2018', '2006 2009', '2011 2016', '1988 1989', '1983', '1978',\n",
       "       '2006 2014', '2012 2017', '1990 1992', '2017 2020', ' 2020',\n",
       "       '2019 2020', '1969', '1979 2005', '1971 1972', '1976 1979',\n",
       "       '1979 1984', '1985 1986', '1982 1983', '1990 2003', '2009 2016',\n",
       "       '2004 2006', '1974', '1995 2009', '1975', '1989 1995', '1995 1998',\n",
       "       '1990 1991', '1970 1971', '1999 2018', '1987 1991', '2010 2014',\n",
       "       '1999 2003', '1996 2013', '2006 2011', '2014 2018', '1981 1982',\n",
       "       '1982', ' 2019', '2002 2008', '1986 1990', '1995 2002',\n",
       "       '1985 1988', '1973 1977', '2008 2015', '1972 1973', '2017 2018',\n",
       "       '1981', '1994 1995', '1993 1994', '1988 1994', '1980', '1972 1974',\n",
       "       '1986 1988', '2003 2005', '1978 1987', '1984 1985', '1989 1992',\n",
       "       '1999 2004', '1978 1979', '1989 2020', '1975 1977', '2009 2014',\n",
       "       '2005 2010', '1975 1980', '1963 1965', '2009 2011', '1974 1975',\n",
       "       '1988 1995', '2006 2019', '1980 1981', '2000 2006', '2002 2004',\n",
       "       '1978 1981', '1983 1985', '1964', '2001 2003', '1972', '1987 1989',\n",
       "       '1977 1978', ' 2000 2001', '1994 1998', '1988 1996', '1968 1969',\n",
       "       '2004 2011', '1989 1990', '1991 1992', '1987 1988', '1965 1967',\n",
       "       '2002 2006', '1968', '2011 2019', '2010 2015', '1980 2004',\n",
       "       '1993 2018', '1996 1997', ' 2018', '1996 1998', ' 2013',\n",
       "       '1992 1994', '1975 1976', ' 2012', '2012 2016', '1983 1984',\n",
       "       '2013 2018', '1985 1987', '1986 1987', '1996 2008', '1997 2000',\n",
       "       '1971', '1997 1999', '1989 1991', '1960', '1995 1997', '1958',\n",
       "       '1994 1997', '1976 1977', '1992 1998', '1994 2005', '1976',\n",
       "       '1969 1971', '2004 2014', ' 2005', '2022 2023', '1993 2008',\n",
       "       '2005 2007', '2013 2015', '1983 1986', '1981 1987', '1966', '1977',\n",
       "       '1959', '1981 1983', '1973 1974', '1998 2003', '1997 2002',\n",
       "       '1966 1967', '1945', '2000 2003', '2001 2010', '2015 2022',\n",
       "       '2005 2015', '2016 2021', '1980 1982', '2006 2018', '1992 1996',\n",
       "       '1975 1982', '2011 2017', '1992 1993', '1977 1979', '1972 1975',\n",
       "       '1963', '1993 1995', '1977 2012', '1968 1971', ' 1990',\n",
       "       '2000 2005', ' 1992', '1962', '2018 2022', '1969 1970',\n",
       "       '1998 2002', '1963 1964', '1966 1968', ' 2015', '1988 1992',\n",
       "       '1967', '1994 1996', '1963 1966', '1917', '1907', '2001 2004',\n",
       "       '1943', '2013 2017', '1965 1966', ' 2000', '1934', ' 2016',\n",
       "       '1978 1988', '1931', '1947', '1933', '1961', '1982 1984', '1948',\n",
       "       ' 2008', '1946', '1991 1993', '1935', '1944', '1925', '1924',\n",
       "       '1929', '1918', '1938', 'V 2015', '1932', '1950', '1928', 'V 2014',\n",
       "       ''], dtype=object)"
      ]
     },
     "execution_count": 31,
     "metadata": {},
     "output_type": "execute_result"
    }
   ],
   "source": [
    "data[\"Year\"].unique()"
   ]
  },
  {
   "cell_type": "code",
   "execution_count": 32,
   "id": "53b995d9",
   "metadata": {
    "scrolled": false
   },
   "outputs": [],
   "source": [
    "data[\"Year\"] = data[\"Year\"].str.replace(\"V\", \"\")"
   ]
  },
  {
   "cell_type": "code",
   "execution_count": 33,
   "id": "0c6970ad",
   "metadata": {},
   "outputs": [],
   "source": [
    "data[\"Year\"] = data[\"Year\"].str.replace(\" \", \"\")"
   ]
  },
  {
   "cell_type": "code",
   "execution_count": 34,
   "id": "6b017750",
   "metadata": {
    "scrolled": false
   },
   "outputs": [
    {
     "data": {
      "text/plain": [
       "array(['20132023', '2022', '1999', '2019', '20072017', '20112014', '2016',\n",
       "       '20062007', '2001', '20022007', '2020', '1992', '20042012',\n",
       "       '20092012', '2012', '20152019', '2004', '2017', '19892003',\n",
       "       '20172021', '20122018', '2015', '19981999', '1988', '2021',\n",
       "       '19971998', '1997', '20142020', '19951996', '20052018', '20062012',\n",
       "       '20042010', '20152018', '20182020', '20142021', '2014', '19861989',\n",
       "       '20112015', '20192021', '20092019', '20052008', '20102011', '2008',\n",
       "       '20002006', '20132016', '1995', '2018', '1998', '20212022',\n",
       "       '20142015', '1989', '2006', '20102012', '1986', '1984', '2013',\n",
       "       '20162017', '1996', '20082010', '2000', '20122014', '2010',\n",
       "       '20042005', '20032004', '20172019', '20122015', '20152016', '2002',\n",
       "       '20002004', '19891996', '19921995', '20072008', '19921997',\n",
       "       '20112012', '20012007', '19952003', '1991', '2023', '20132014',\n",
       "       '2011', '20202022', '19931996', '2007', '19881997', '19992001',\n",
       "       '20082011', '20112013', '1985', '1993', '1973', '2003', '19952000',\n",
       "       '20082009', '20142016', '20092015', '19992007', '20032006', '2005',\n",
       "       '20052006', '20012002', '19961999', '1994', '20092010', '19962003',\n",
       "       '20022005', '1987', '20172022', '20002002', '19992000', '20002001',\n",
       "       '2009', '1979', '20102013', '19791980', '19932002', '20072010',\n",
       "       '20012005', '20162018', '20182021', '19771980', '2026', nan,\n",
       "       '20202021', '20152017', '20062008', '20122013', '20182019',\n",
       "       '20042008', '20072009', '1970', '20072011', '20022003', '19841988',\n",
       "       '19811986', '19982000', '1990', '20092013', '19671968', '19831995',\n",
       "       '20082019', '19781980', '20102018', '20062009', '20112016',\n",
       "       '19881989', '1983', '1978', '20062014', '20122017', '19901992',\n",
       "       '20172020', '20192020', '1969', '19792005', '19711972', '19761979',\n",
       "       '19791984', '19851986', '19821983', '19902003', '20092016',\n",
       "       '20042006', '1974', '19952009', '1975', '19891995', '19951998',\n",
       "       '19901991', '19701971', '19992018', '19871991', '20102014',\n",
       "       '19992003', '19962013', '20062011', '20142018', '19811982', '1982',\n",
       "       '20022008', '19861990', '19952002', '19851988', '19731977',\n",
       "       '20082015', '19721973', '20172018', '1981', '19941995', '19931994',\n",
       "       '19881994', '1980', '19721974', '19861988', '20032005', '19781987',\n",
       "       '19841985', '19891992', '19992004', '19781979', '19892020',\n",
       "       '19751977', '20092014', '20052010', '19751980', '19631965',\n",
       "       '20092011', '19741975', '19881995', '20062019', '19801981',\n",
       "       '20022004', '19781981', '19831985', '1964', '20012003', '1972',\n",
       "       '19871989', '19771978', '19941998', '19881996', '19681969',\n",
       "       '20042011', '19891990', '19911992', '19871988', '19651967',\n",
       "       '20022006', '1968', '20112019', '20102015', '19802004', '19932018',\n",
       "       '19961997', '19961998', '19921994', '19751976', '20122016',\n",
       "       '19831984', '20132018', '19851987', '19861987', '19962008',\n",
       "       '19972000', '1971', '19971999', '19891991', '1960', '19951997',\n",
       "       '1958', '19941997', '19761977', '19921998', '19942005', '1976',\n",
       "       '19691971', '20042014', '20222023', '19932008', '20052007',\n",
       "       '20132015', '19831986', '19811987', '1966', '1977', '1959',\n",
       "       '19811983', '19731974', '19982003', '19972002', '19661967', '1945',\n",
       "       '20002003', '20012010', '20152022', '20052015', '20162021',\n",
       "       '19801982', '20062018', '19921996', '19751982', '20112017',\n",
       "       '19921993', '19771979', '19721975', '1963', '19931995', '19772012',\n",
       "       '19681971', '20002005', '1962', '20182022', '19691970', '19982002',\n",
       "       '19631964', '19661968', '19881992', '1967', '19941996', '19631966',\n",
       "       '1917', '1907', '20012004', '1943', '20132017', '19651966', '1934',\n",
       "       '19781988', '1931', '1947', '1933', '1961', '19821984', '1948',\n",
       "       '1946', '19911993', '1935', '1944', '1925', '1924', '1929', '1918',\n",
       "       '1938', '1932', '1950', '1928', ''], dtype=object)"
      ]
     },
     "execution_count": 34,
     "metadata": {},
     "output_type": "execute_result"
    }
   ],
   "source": [
    "data[\"Year\"].unique()"
   ]
  },
  {
   "cell_type": "code",
   "execution_count": 35,
   "id": "082a7c5d",
   "metadata": {},
   "outputs": [],
   "source": [
    "data[\"Year\"] = data[\"Year\"].astype(\"str\")"
   ]
  },
  {
   "cell_type": "code",
   "execution_count": 36,
   "id": "0a0d8e42",
   "metadata": {
    "scrolled": true
   },
   "outputs": [],
   "source": [
    "length = len(data[\"Year\"])"
   ]
  },
  {
   "cell_type": "code",
   "execution_count": 37,
   "id": "fa08aadb",
   "metadata": {},
   "outputs": [
    {
     "data": {
      "text/plain": [
       "dtype('O')"
      ]
     },
     "execution_count": 37,
     "metadata": {},
     "output_type": "execute_result"
    }
   ],
   "source": [
    "data[\"Year\"].dtype"
   ]
  },
  {
   "cell_type": "code",
   "execution_count": 38,
   "id": "f903be77",
   "metadata": {},
   "outputs": [],
   "source": [
    "vals = []\n",
    "\n",
    "for i in range(length):\n",
    "    vals.append(data[\"Year\"][i][0:4])"
   ]
  },
  {
   "cell_type": "code",
   "execution_count": 39,
   "id": "879ce9fd",
   "metadata": {
    "scrolled": true
   },
   "outputs": [
    {
     "data": {
      "text/plain": [
       "['2013',\n",
       " '2022',\n",
       " '1999',\n",
       " '2022',\n",
       " '2019',\n",
       " '2022',\n",
       " '2007',\n",
       " '2011',\n",
       " '2016',\n",
       " '2006',\n",
       " '2001',\n",
       " '2002',\n",
       " '2020',\n",
       " '2019',\n",
       " '2019',\n",
       " '1992',\n",
       " '2004',\n",
       " '2009',\n",
       " '2012',\n",
       " '2015',\n",
       " '2004',\n",
       " '2017',\n",
       " '1989',\n",
       " '2017',\n",
       " '2016',\n",
       " '2012',\n",
       " '2017',\n",
       " '2015',\n",
       " '1998',\n",
       " '1988',\n",
       " '2021',\n",
       " '1997',\n",
       " '1997',\n",
       " '1997',\n",
       " '2022',\n",
       " '2014',\n",
       " '2017',\n",
       " '2021',\n",
       " '1995',\n",
       " '2005',\n",
       " '2006',\n",
       " '2004',\n",
       " '2019',\n",
       " '2015',\n",
       " '2018',\n",
       " '2021',\n",
       " '2014',\n",
       " '2012',\n",
       " '1988',\n",
       " '2014',\n",
       " '2022',\n",
       " '1988',\n",
       " '1997',\n",
       " '2021',\n",
       " '1986',\n",
       " '2021',\n",
       " '2011',\n",
       " '2020',\n",
       " '2016',\n",
       " '2021',\n",
       " '2022',\n",
       " '2020',\n",
       " '2019',\n",
       " '2016',\n",
       " '2009',\n",
       " '2005',\n",
       " '2019',\n",
       " '2012',\n",
       " '2016',\n",
       " '2010',\n",
       " '2021',\n",
       " '2008',\n",
       " '2016',\n",
       " '2022',\n",
       " '2000',\n",
       " '2013',\n",
       " '2019',\n",
       " '2022',\n",
       " '1995',\n",
       " '2018',\n",
       " '2022',\n",
       " '1998',\n",
       " '2021',\n",
       " '2012',\n",
       " '2014',\n",
       " '1997',\n",
       " '1989',\n",
       " '2006',\n",
       " '2010',\n",
       " '2018',\n",
       " '2019',\n",
       " '2019',\n",
       " '1986',\n",
       " '2018',\n",
       " '2022',\n",
       " '1984',\n",
       " '2022',\n",
       " '2022',\n",
       " '2018',\n",
       " '2014',\n",
       " '2013',\n",
       " '2016',\n",
       " '2021',\n",
       " '1996',\n",
       " '2004',\n",
       " '2014',\n",
       " '2021',\n",
       " '2015',\n",
       " '2018',\n",
       " '2008',\n",
       " '2022',\n",
       " '2021',\n",
       " '2006',\n",
       " '2000',\n",
       " '2006',\n",
       " '2012',\n",
       " '2016',\n",
       " '2021',\n",
       " '2015',\n",
       " '2019',\n",
       " '2012',\n",
       " '2021',\n",
       " '2022',\n",
       " '2010',\n",
       " '2004',\n",
       " '2003',\n",
       " '2021',\n",
       " '2018',\n",
       " '2017',\n",
       " '2012',\n",
       " '2016',\n",
       " '2020',\n",
       " '2021',\n",
       " '2015',\n",
       " '1995',\n",
       " '2018',\n",
       " '2018',\n",
       " '2016',\n",
       " '2013',\n",
       " '2021',\n",
       " '2002',\n",
       " '2018',\n",
       " '2000',\n",
       " '1998',\n",
       " '2020',\n",
       " '2019',\n",
       " '1989',\n",
       " '1992',\n",
       " '2007',\n",
       " '2021',\n",
       " '2021',\n",
       " '2022',\n",
       " '2022',\n",
       " '1992',\n",
       " '1992',\n",
       " '2011',\n",
       " '2013',\n",
       " '2021',\n",
       " '2001',\n",
       " '1995',\n",
       " '2020',\n",
       " '1991',\n",
       " '2022',\n",
       " '2021',\n",
       " '1998',\n",
       " '2022',\n",
       " '2023',\n",
       " '2014',\n",
       " '2013',\n",
       " '2011',\n",
       " '2022',\n",
       " '2019',\n",
       " '2020',\n",
       " '2018',\n",
       " '2022',\n",
       " '1993',\n",
       " '2007',\n",
       " '2006',\n",
       " '2015',\n",
       " '2013',\n",
       " '1988',\n",
       " '1986',\n",
       " '2018',\n",
       " '2022',\n",
       " '2018',\n",
       " '1999',\n",
       " '2008',\n",
       " '2013',\n",
       " '2010',\n",
       " '2011',\n",
       " '2021',\n",
       " '1995',\n",
       " '2012',\n",
       " '2013',\n",
       " '2001',\n",
       " '2015',\n",
       " '2019',\n",
       " '1985',\n",
       " '2019',\n",
       " '1993',\n",
       " '2022',\n",
       " '2019',\n",
       " '1973',\n",
       " '2022',\n",
       " '2019',\n",
       " '2011',\n",
       " '2003',\n",
       " '2015',\n",
       " '2022',\n",
       " '1995',\n",
       " '2008',\n",
       " '2006',\n",
       " '2019',\n",
       " '2008',\n",
       " '2022',\n",
       " '2014',\n",
       " '2022',\n",
       " '2009',\n",
       " '2017',\n",
       " '2022',\n",
       " '2006',\n",
       " '2020',\n",
       " '1999',\n",
       " '2003',\n",
       " '2022',\n",
       " '2021',\n",
       " '2011',\n",
       " '2021',\n",
       " '2022',\n",
       " '2005',\n",
       " '2012',\n",
       " '2020',\n",
       " '2008',\n",
       " '2022',\n",
       " '1995',\n",
       " '2015',\n",
       " '2005',\n",
       " '2008',\n",
       " '2011',\n",
       " '2001',\n",
       " '2020',\n",
       " '1996',\n",
       " '2011',\n",
       " '2004',\n",
       " '1994',\n",
       " '2009',\n",
       " '2022',\n",
       " '2016',\n",
       " '2008',\n",
       " '1985',\n",
       " '1996',\n",
       " '1994',\n",
       " '2020',\n",
       " '2014',\n",
       " '2012',\n",
       " '2002',\n",
       " '2022',\n",
       " '2013',\n",
       " '2012',\n",
       " '1987',\n",
       " '1989',\n",
       " '2014',\n",
       " '2017',\n",
       " '2012',\n",
       " '1998',\n",
       " '2007',\n",
       " '2015',\n",
       " '2015',\n",
       " '2018',\n",
       " '2021',\n",
       " '2006',\n",
       " '2003',\n",
       " '2000',\n",
       " '2020',\n",
       " '2017',\n",
       " '2008',\n",
       " '2011',\n",
       " '1999',\n",
       " '2007',\n",
       " '2023',\n",
       " '2022',\n",
       " '2022',\n",
       " '2017',\n",
       " '2006',\n",
       " '2004',\n",
       " '2000',\n",
       " '2008',\n",
       " '1998',\n",
       " '2021',\n",
       " '2009',\n",
       " '2015',\n",
       " '2020',\n",
       " '2014',\n",
       " '2006',\n",
       " '2003',\n",
       " '2020',\n",
       " '2021',\n",
       " '2021',\n",
       " '1979',\n",
       " '2014',\n",
       " '2021',\n",
       " '2007',\n",
       " '2018',\n",
       " '2018',\n",
       " '1993',\n",
       " '2020',\n",
       " '2022',\n",
       " '2021',\n",
       " '2015',\n",
       " '2010',\n",
       " '2021',\n",
       " '2022',\n",
       " '2015',\n",
       " '2010',\n",
       " '1979',\n",
       " '2018',\n",
       " '2008',\n",
       " '2011',\n",
       " '2015',\n",
       " '2019',\n",
       " '2016',\n",
       " '2011',\n",
       " '2012',\n",
       " '2014',\n",
       " '2021',\n",
       " '2020',\n",
       " '2007',\n",
       " '2009',\n",
       " '1993',\n",
       " '2007',\n",
       " '2021',\n",
       " '2020',\n",
       " '2021',\n",
       " '2021',\n",
       " '2017',\n",
       " '2001',\n",
       " '2014',\n",
       " '2016',\n",
       " '2021',\n",
       " '2015',\n",
       " '2020',\n",
       " '2021',\n",
       " '2017',\n",
       " '2001',\n",
       " '2020',\n",
       " '2018',\n",
       " '2010',\n",
       " '2014',\n",
       " '2021',\n",
       " '2018',\n",
       " '2016',\n",
       " '2000',\n",
       " '2021',\n",
       " '2000',\n",
       " '2007',\n",
       " '2008',\n",
       " '2013',\n",
       " '2014',\n",
       " '2021',\n",
       " '2016',\n",
       " '2018',\n",
       " '2016',\n",
       " '2020',\n",
       " '2021',\n",
       " '2013',\n",
       " '2022',\n",
       " '1992',\n",
       " '2017',\n",
       " '2021',\n",
       " '2018',\n",
       " '1999',\n",
       " '2011',\n",
       " '2021',\n",
       " '1977',\n",
       " '2000',\n",
       " '2016',\n",
       " '1999',\n",
       " '2020',\n",
       " '2016',\n",
       " '2018',\n",
       " '2010',\n",
       " '2009',\n",
       " '2005',\n",
       " '2018',\n",
       " '2018',\n",
       " '2016',\n",
       " '2018',\n",
       " '2026',\n",
       " '2011',\n",
       " '2019',\n",
       " 'nan',\n",
       " '2012',\n",
       " '1999',\n",
       " '2022',\n",
       " '2015',\n",
       " '2019',\n",
       " '2020',\n",
       " '2006',\n",
       " '2019',\n",
       " '1995',\n",
       " '2019',\n",
       " '2019',\n",
       " '2015',\n",
       " '2018',\n",
       " '2008',\n",
       " '2021',\n",
       " '2007',\n",
       " '1986',\n",
       " '2018',\n",
       " '2019',\n",
       " '2014',\n",
       " '2013',\n",
       " '2013',\n",
       " '2006',\n",
       " '2004',\n",
       " '2020',\n",
       " '2015',\n",
       " '2006',\n",
       " '2012',\n",
       " '2010',\n",
       " '2001',\n",
       " '2012',\n",
       " '2015',\n",
       " '2009',\n",
       " '2014',\n",
       " '2016',\n",
       " '2006',\n",
       " '2007',\n",
       " '2022',\n",
       " '2021',\n",
       " '2022',\n",
       " '2012',\n",
       " '2022',\n",
       " '2006',\n",
       " '2012',\n",
       " '2016',\n",
       " '2016',\n",
       " '2021',\n",
       " '2020',\n",
       " '2018',\n",
       " '2004',\n",
       " '2017',\n",
       " '2007',\n",
       " '2011',\n",
       " '2000',\n",
       " '2012',\n",
       " '1970',\n",
       " '2011',\n",
       " '2011',\n",
       " '2014',\n",
       " '2007',\n",
       " '2010',\n",
       " '2011',\n",
       " '2002',\n",
       " '2012',\n",
       " '2017',\n",
       " '2016',\n",
       " '1984',\n",
       " '2012',\n",
       " '1981',\n",
       " '2004',\n",
       " '2009',\n",
       " '2008',\n",
       " '1998',\n",
       " '2004',\n",
       " '2021',\n",
       " '1990',\n",
       " '2022',\n",
       " '2020',\n",
       " '2004',\n",
       " '2019',\n",
       " '2009',\n",
       " '2014',\n",
       " '2020',\n",
       " '2011',\n",
       " '2015',\n",
       " '2015',\n",
       " '2022',\n",
       " '2010',\n",
       " '2020',\n",
       " '2013',\n",
       " '2009',\n",
       " '2021',\n",
       " '2015',\n",
       " '2017',\n",
       " '2020',\n",
       " '2020',\n",
       " '2017',\n",
       " '2011',\n",
       " '2021',\n",
       " '2015',\n",
       " '1997',\n",
       " '2016',\n",
       " '2020',\n",
       " '2018',\n",
       " '2021',\n",
       " '2022',\n",
       " '2007',\n",
       " '2010',\n",
       " '2020',\n",
       " '2017',\n",
       " '2013',\n",
       " '2007',\n",
       " '2017',\n",
       " '2020',\n",
       " '2003',\n",
       " '2019',\n",
       " '2010',\n",
       " '2010',\n",
       " '2016',\n",
       " '1997',\n",
       " '2017',\n",
       " '2009',\n",
       " '2010',\n",
       " '1993',\n",
       " '2021',\n",
       " '2020',\n",
       " '2019',\n",
       " '2019',\n",
       " '2023',\n",
       " '2013',\n",
       " '2000',\n",
       " '2018',\n",
       " '1967',\n",
       " '2012',\n",
       " '2015',\n",
       " '2017',\n",
       " '1983',\n",
       " '2014',\n",
       " '2016',\n",
       " '2021',\n",
       " '2013',\n",
       " '2020',\n",
       " '2008',\n",
       " '2022',\n",
       " '2017',\n",
       " '2016',\n",
       " '1978',\n",
       " '2011',\n",
       " '2021',\n",
       " '2010',\n",
       " '1985',\n",
       " '2017',\n",
       " '2006',\n",
       " '1989',\n",
       " '2017',\n",
       " '2004',\n",
       " '2008',\n",
       " '2001',\n",
       " '2011',\n",
       " '2009',\n",
       " '2018',\n",
       " '2002',\n",
       " '2016',\n",
       " '1986',\n",
       " '1988',\n",
       " '2018',\n",
       " '1983',\n",
       " '2015',\n",
       " '2003',\n",
       " '2021',\n",
       " '2014',\n",
       " '2020',\n",
       " '1978',\n",
       " '2019',\n",
       " '1989',\n",
       " '2020',\n",
       " '2002',\n",
       " '2021',\n",
       " '2018',\n",
       " '2020',\n",
       " '2015',\n",
       " '1998',\n",
       " '2013',\n",
       " '2014',\n",
       " '2022',\n",
       " '2021',\n",
       " '2009',\n",
       " '2006',\n",
       " '2012',\n",
       " '2016',\n",
       " '2013',\n",
       " '2017',\n",
       " '2018',\n",
       " '2017',\n",
       " '2003',\n",
       " '1999',\n",
       " '2007',\n",
       " '1989',\n",
       " '2018',\n",
       " '2015',\n",
       " '1993',\n",
       " '2020',\n",
       " '1990',\n",
       " '2017',\n",
       " '2012',\n",
       " '2021',\n",
       " '2018',\n",
       " '2011',\n",
       " '2014',\n",
       " '2007',\n",
       " '2020',\n",
       " '2020',\n",
       " '2019',\n",
       " '2014',\n",
       " '2020',\n",
       " '2019',\n",
       " '2007',\n",
       " '2016',\n",
       " '2015',\n",
       " '2017',\n",
       " '1969',\n",
       " '2015',\n",
       " '1995',\n",
       " '2008',\n",
       " '2022',\n",
       " '2015',\n",
       " '2014',\n",
       " '2019',\n",
       " '1988',\n",
       " '1979',\n",
       " '1987',\n",
       " '2013',\n",
       " '2020',\n",
       " '2007',\n",
       " '2020',\n",
       " '2022',\n",
       " '1971',\n",
       " '2018',\n",
       " '2004',\n",
       " '1998',\n",
       " '1986',\n",
       " '2019',\n",
       " '2020',\n",
       " '2016',\n",
       " '2004',\n",
       " '2014',\n",
       " '2008',\n",
       " '1976',\n",
       " '2007',\n",
       " '2008',\n",
       " '2010',\n",
       " '2019',\n",
       " '2019',\n",
       " '2017',\n",
       " '2016',\n",
       " '2018',\n",
       " '2003',\n",
       " '1992',\n",
       " '1998',\n",
       " '2018',\n",
       " '2021',\n",
       " '2006',\n",
       " '1979',\n",
       " '1987',\n",
       " '2022',\n",
       " '2019',\n",
       " '2015',\n",
       " '2022',\n",
       " '2021',\n",
       " '2022',\n",
       " '2009',\n",
       " '1985',\n",
       " '2010',\n",
       " '2016',\n",
       " '2022',\n",
       " '2022',\n",
       " '2010',\n",
       " '2008',\n",
       " '2004',\n",
       " '2017',\n",
       " '2020',\n",
       " '2019',\n",
       " '2012',\n",
       " '2021',\n",
       " '2001',\n",
       " '2008',\n",
       " '2016',\n",
       " '2022',\n",
       " '2019',\n",
       " '2012',\n",
       " '2022',\n",
       " '2019',\n",
       " '2002',\n",
       " '2017',\n",
       " '2014',\n",
       " '2011',\n",
       " '2012',\n",
       " '2021',\n",
       " '2007',\n",
       " '2003',\n",
       " '2022',\n",
       " '2015',\n",
       " '1982',\n",
       " '2014',\n",
       " '2020',\n",
       " '2019',\n",
       " '2018',\n",
       " '1982',\n",
       " '1990',\n",
       " '1996',\n",
       " '2021',\n",
       " '1986',\n",
       " '2020',\n",
       " '1987',\n",
       " '2013',\n",
       " '2011',\n",
       " '2008',\n",
       " '2021',\n",
       " '2017',\n",
       " '2018',\n",
       " '2017',\n",
       " '2019',\n",
       " '2009',\n",
       " '2008',\n",
       " '2020',\n",
       " '2018',\n",
       " '2012',\n",
       " '2020',\n",
       " '2004',\n",
       " '1974',\n",
       " '2019',\n",
       " '2012',\n",
       " '2009',\n",
       " '2007',\n",
       " '2019',\n",
       " '2012',\n",
       " '2020',\n",
       " '2015',\n",
       " '2021',\n",
       " '2010',\n",
       " '2012',\n",
       " '2005',\n",
       " '2007',\n",
       " '1995',\n",
       " '2018',\n",
       " '2002',\n",
       " '2018',\n",
       " '2008',\n",
       " '2017',\n",
       " '2015',\n",
       " '2004',\n",
       " '2018',\n",
       " '2003',\n",
       " '2013',\n",
       " '2001',\n",
       " '1975',\n",
       " '1989',\n",
       " '2014',\n",
       " '2021',\n",
       " '2005',\n",
       " '1999',\n",
       " '2021',\n",
       " '2019',\n",
       " '2000',\n",
       " '2016',\n",
       " '2014',\n",
       " '1995',\n",
       " '2010',\n",
       " '2021',\n",
       " '2020',\n",
       " '1990',\n",
       " '2013',\n",
       " '1995',\n",
       " '2003',\n",
       " '2013',\n",
       " '2018',\n",
       " '2019',\n",
       " '2004',\n",
       " '2016',\n",
       " '2018',\n",
       " '2012',\n",
       " '2009',\n",
       " 'nan',\n",
       " '2013',\n",
       " '2022',\n",
       " '1984',\n",
       " '2003',\n",
       " '2013',\n",
       " '2006',\n",
       " '2019',\n",
       " '2019',\n",
       " '1994',\n",
       " '1986',\n",
       " '2007',\n",
       " '2022',\n",
       " '2019',\n",
       " '2021',\n",
       " '2010',\n",
       " '2018',\n",
       " '2010',\n",
       " '2022',\n",
       " '2021',\n",
       " '1970',\n",
       " '1999',\n",
       " '2014',\n",
       " '2002',\n",
       " '2019',\n",
       " '2021',\n",
       " '2022',\n",
       " '2007',\n",
       " '2017',\n",
       " '2011',\n",
       " '2013',\n",
       " '2018',\n",
       " '2002',\n",
       " '2000',\n",
       " '1994',\n",
       " '2020',\n",
       " '2003',\n",
       " '1987',\n",
       " '2021',\n",
       " '2018',\n",
       " '2004',\n",
       " '2011',\n",
       " '2004',\n",
       " '2013',\n",
       " '1999',\n",
       " '2021',\n",
       " '2009',\n",
       " '2020',\n",
       " '2010',\n",
       " '2018',\n",
       " '2010',\n",
       " '1979',\n",
       " '1995',\n",
       " '2011',\n",
       " '2019',\n",
       " '2021',\n",
       " '2011',\n",
       " '2001',\n",
       " '2018',\n",
       " '1990',\n",
       " '2011',\n",
       " '2013',\n",
       " '2016',\n",
       " '2021',\n",
       " '2019',\n",
       " '2015',\n",
       " '2015',\n",
       " '2021',\n",
       " '2022',\n",
       " '2015',\n",
       " '2017',\n",
       " '2000',\n",
       " '2010',\n",
       " '1999',\n",
       " '2001',\n",
       " '1990',\n",
       " '2016',\n",
       " '2016',\n",
       " '2019',\n",
       " '1994',\n",
       " '2013',\n",
       " '2014',\n",
       " '2012',\n",
       " '2013',\n",
       " '2005',\n",
       " '2015',\n",
       " '2017',\n",
       " '2000',\n",
       " '2008',\n",
       " '2019',\n",
       " '2013',\n",
       " '1996',\n",
       " '1988',\n",
       " '1983',\n",
       " '2016',\n",
       " '2017',\n",
       " '2013',\n",
       " '2008',\n",
       " '1987',\n",
       " '2019',\n",
       " '2019',\n",
       " '2018',\n",
       " '2022',\n",
       " '2006',\n",
       " '2018',\n",
       " '2016',\n",
       " '1994',\n",
       " '2018',\n",
       " '2014',\n",
       " '1979',\n",
       " '2011',\n",
       " '1989',\n",
       " '2010',\n",
       " '2010',\n",
       " '1988',\n",
       " '2005',\n",
       " '2018',\n",
       " '2019',\n",
       " '2019',\n",
       " '2017',\n",
       " '1988',\n",
       " '2020',\n",
       " '2005',\n",
       " '2022',\n",
       " '2014',\n",
       " '2014',\n",
       " '2016',\n",
       " '2014',\n",
       " '2013',\n",
       " '2010',\n",
       " '2018',\n",
       " '2014',\n",
       " '2017',\n",
       " '2002',\n",
       " '2017',\n",
       " '2021',\n",
       " '2017',\n",
       " '2003',\n",
       " '1981',\n",
       " '2015',\n",
       " '2017',\n",
       " '2021',\n",
       " '2006',\n",
       " '1982',\n",
       " '2020',\n",
       " '2011',\n",
       " '1993',\n",
       " '2019',\n",
       " '2008',\n",
       " '2009',\n",
       " '2008',\n",
       " '2021',\n",
       " '1983',\n",
       " '2018',\n",
       " '2020',\n",
       " '2010',\n",
       " '2018',\n",
       " '2020',\n",
       " '2021',\n",
       " '2019',\n",
       " '1991',\n",
       " '2002',\n",
       " '2018',\n",
       " '1986',\n",
       " '2012',\n",
       " '2003',\n",
       " '2001',\n",
       " '2018',\n",
       " '2020',\n",
       " '2019',\n",
       " '1995',\n",
       " '2005',\n",
       " '2017',\n",
       " '2018',\n",
       " '2010',\n",
       " '2018',\n",
       " '2022',\n",
       " '1990',\n",
       " '2021',\n",
       " '2010',\n",
       " '2000',\n",
       " '2012',\n",
       " '2004',\n",
       " '1985',\n",
       " '1973',\n",
       " '2008',\n",
       " '2012',\n",
       " '2013',\n",
       " '2021',\n",
       " '1972',\n",
       " '2009',\n",
       " '2019',\n",
       " '2003',\n",
       " '2017',\n",
       " '2020',\n",
       " '2006',\n",
       " '1993',\n",
       " '2021',\n",
       " '2017',\n",
       " '2019',\n",
       " '2017',\n",
       " '1988',\n",
       " '1991',\n",
       " '2001',\n",
       " '2017',\n",
       " '2018',\n",
       " '2020',\n",
       " '2019',\n",
       " '2013',\n",
       " '2005',\n",
       " '2016',\n",
       " '1991',\n",
       " '2018',\n",
       " '2008',\n",
       " '2019',\n",
       " '2017',\n",
       " '2015',\n",
       " '2014',\n",
       " '2018',\n",
       " '2010',\n",
       " '2007',\n",
       " '2010',\n",
       " '2010',\n",
       " '2014',\n",
       " '2012',\n",
       " '2008',\n",
       " '2018',\n",
       " ...]"
      ]
     },
     "execution_count": 39,
     "metadata": {},
     "output_type": "execute_result"
    }
   ],
   "source": [
    "vals"
   ]
  },
  {
   "cell_type": "code",
   "execution_count": 40,
   "id": "277eb4dd",
   "metadata": {
    "scrolled": false
   },
   "outputs": [
    {
     "data": {
      "text/html": [
       "<div>\n",
       "<style scoped>\n",
       "    .dataframe tbody tr th:only-of-type {\n",
       "        vertical-align: middle;\n",
       "    }\n",
       "\n",
       "    .dataframe tbody tr th {\n",
       "        vertical-align: top;\n",
       "    }\n",
       "\n",
       "    .dataframe thead th {\n",
       "        text-align: right;\n",
       "    }\n",
       "</style>\n",
       "<table border=\"1\" class=\"dataframe\">\n",
       "  <thead>\n",
       "    <tr style=\"text-align: right;\">\n",
       "      <th></th>\n",
       "      <th>Unnamed: 0</th>\n",
       "      <th>name</th>\n",
       "      <th>Year</th>\n",
       "      <th>Duration</th>\n",
       "      <th>Genre</th>\n",
       "      <th>Rating</th>\n",
       "    </tr>\n",
       "  </thead>\n",
       "  <tbody>\n",
       "    <tr>\n",
       "      <th>0</th>\n",
       "      <td>0</td>\n",
       "      <td>Attack on Titan</td>\n",
       "      <td>2013</td>\n",
       "      <td>24</td>\n",
       "      <td>Animation, Action, Adventure</td>\n",
       "      <td>0.0</td>\n",
       "    </tr>\n",
       "    <tr>\n",
       "      <th>1</th>\n",
       "      <td>1</td>\n",
       "      <td>Bastard!! Heavy Metal, Dark Fantasy</td>\n",
       "      <td>2022</td>\n",
       "      <td>25</td>\n",
       "      <td>Animation, Action, Adventure</td>\n",
       "      <td>6.8</td>\n",
       "    </tr>\n",
       "    <tr>\n",
       "      <th>2</th>\n",
       "      <td>2</td>\n",
       "      <td>One Piece</td>\n",
       "      <td>1999</td>\n",
       "      <td>24</td>\n",
       "      <td>Animation, Action, Adventure</td>\n",
       "      <td>8.8</td>\n",
       "    </tr>\n",
       "    <tr>\n",
       "      <th>3</th>\n",
       "      <td>3</td>\n",
       "      <td>Spy x Family</td>\n",
       "      <td>2022</td>\n",
       "      <td>0</td>\n",
       "      <td>Animation, Action, Comedy</td>\n",
       "      <td>8.7</td>\n",
       "    </tr>\n",
       "    <tr>\n",
       "      <th>4</th>\n",
       "      <td>4</td>\n",
       "      <td>Demon Slayer: Kimetsu no Yaiba</td>\n",
       "      <td>2019</td>\n",
       "      <td>24</td>\n",
       "      <td>Animation, Action, Adventure</td>\n",
       "      <td>8.7</td>\n",
       "    </tr>\n",
       "  </tbody>\n",
       "</table>\n",
       "</div>"
      ],
      "text/plain": [
       "   Unnamed: 0                                 name  Year  Duration  \\\n",
       "0           0                      Attack on Titan  2013        24   \n",
       "1           1  Bastard!! Heavy Metal, Dark Fantasy  2022        25   \n",
       "2           2                            One Piece  1999        24   \n",
       "3           3                         Spy x Family  2022         0   \n",
       "4           4       Demon Slayer: Kimetsu no Yaiba  2019        24   \n",
       "\n",
       "                          Genre  Rating  \n",
       "0  Animation, Action, Adventure     0.0  \n",
       "1  Animation, Action, Adventure     6.8  \n",
       "2  Animation, Action, Adventure     8.8  \n",
       "3     Animation, Action, Comedy     8.7  \n",
       "4  Animation, Action, Adventure     8.7  "
      ]
     },
     "execution_count": 40,
     "metadata": {},
     "output_type": "execute_result"
    }
   ],
   "source": [
    "data[\"Year\"] = vals\n",
    "data.head()"
   ]
  },
  {
   "cell_type": "code",
   "execution_count": 41,
   "id": "cb2f13c2",
   "metadata": {},
   "outputs": [],
   "source": [
    "data[\"Year\"] = data[\"Year\"].replace(\"\", \"0\")"
   ]
  },
  {
   "cell_type": "code",
   "execution_count": 42,
   "id": "c4543692",
   "metadata": {
    "scrolled": true
   },
   "outputs": [
    {
     "data": {
      "text/plain": [
       "array(['2013', '2022', '1999', '2019', '2007', '2011', '2016', '2006',\n",
       "       '2001', '2002', '2020', '1992', '2004', '2009', '2012', '2015',\n",
       "       '2017', '1989', '1998', '1988', '2021', '1997', '2014', '1995',\n",
       "       '2005', '2018', '1986', '2010', '2008', '2000', '1984', '1996',\n",
       "       '2003', '1991', '2023', '1993', '1985', '1973', '1994', '1987',\n",
       "       '1979', '1977', '2026', 'nan', '1970', '1981', '1990', '1967',\n",
       "       '1983', '1978', '1969', '1971', '1976', '1982', '1974', '1975',\n",
       "       '1972', '1980', '1963', '1964', '1968', '1965', '1960', '1958',\n",
       "       '1966', '1959', '1945', '1962', '1917', '1907', '1943', '1934',\n",
       "       '1931', '1947', '1933', '1961', '1948', '1946', '1935', '1944',\n",
       "       '1925', '1924', '1929', '1918', '1938', '1932', '1950', '1928',\n",
       "       '0'], dtype=object)"
      ]
     },
     "execution_count": 42,
     "metadata": {},
     "output_type": "execute_result"
    }
   ],
   "source": [
    "data[\"Year\"].unique()"
   ]
  },
  {
   "cell_type": "code",
   "execution_count": 43,
   "id": "26518a08",
   "metadata": {},
   "outputs": [],
   "source": [
    "data[\"Year\"] = data[\"Year\"].replace(\"nan\", \"0\")"
   ]
  },
  {
   "cell_type": "code",
   "execution_count": 44,
   "id": "b27e2b8e",
   "metadata": {
    "scrolled": false
   },
   "outputs": [],
   "source": [
    "data['Year'] = data[\"Year\"].astype(\"int64\")"
   ]
  },
  {
   "cell_type": "code",
   "execution_count": 45,
   "id": "01c640a3",
   "metadata": {},
   "outputs": [],
   "source": [
    "data.drop(\"Unnamed: 0\", axis = 1, inplace = True)"
   ]
  },
  {
   "cell_type": "markdown",
   "id": "a6e1bffe",
   "metadata": {},
   "source": [
    "## Data Visualization and EDA Report creation"
   ]
  },
  {
   "cell_type": "code",
   "execution_count": 46,
   "id": "4377d527",
   "metadata": {},
   "outputs": [
    {
     "data": {
      "text/plain": [
       "<seaborn.axisgrid.PairGrid at 0x2662132db50>"
      ]
     },
     "execution_count": 46,
     "metadata": {},
     "output_type": "execute_result"
    },
    {
     "data": {
      "image/png": "[encoded data removed]",
      "text/plain": [
       "<Figure size 750x750 with 12 Axes>"
      ]
     },
     "metadata": {},
     "output_type": "display_data"
    }
   ],
   "source": [
    "sns.pairplot(data)"
   ]
  },
  {
   "cell_type": "code",
   "execution_count": 47,
   "id": "4378b5a1",
   "metadata": {},
   "outputs": [],
   "source": [
    "numeric_data = data.select_dtypes(include=[np.number])\n",
    "co_relation = numeric_data.corr()\n"
   ]
  },
  {
   "cell_type": "code",
   "execution_count": 48,
   "id": "82a4edef",
   "metadata": {},
   "outputs": [
    {
     "data": {
      "text/html": [
       "<div>\n",
       "<style scoped>\n",
       "    .dataframe tbody tr th:only-of-type {\n",
       "        vertical-align: middle;\n",
       "    }\n",
       "\n",
       "    .dataframe tbody tr th {\n",
       "        vertical-align: top;\n",
       "    }\n",
       "\n",
       "    .dataframe thead th {\n",
       "        text-align: right;\n",
       "    }\n",
       "</style>\n",
       "<table border=\"1\" class=\"dataframe\">\n",
       "  <thead>\n",
       "    <tr style=\"text-align: right;\">\n",
       "      <th></th>\n",
       "      <th>Year</th>\n",
       "      <th>Duration</th>\n",
       "      <th>Rating</th>\n",
       "    </tr>\n",
       "  </thead>\n",
       "  <tbody>\n",
       "    <tr>\n",
       "      <th>Year</th>\n",
       "      <td>1.000000</td>\n",
       "      <td>0.047318</td>\n",
       "      <td>0.136880</td>\n",
       "    </tr>\n",
       "    <tr>\n",
       "      <th>Duration</th>\n",
       "      <td>0.047318</td>\n",
       "      <td>1.000000</td>\n",
       "      <td>0.172583</td>\n",
       "    </tr>\n",
       "    <tr>\n",
       "      <th>Rating</th>\n",
       "      <td>0.136880</td>\n",
       "      <td>0.172583</td>\n",
       "      <td>1.000000</td>\n",
       "    </tr>\n",
       "  </tbody>\n",
       "</table>\n",
       "</div>"
      ],
      "text/plain": [
       "              Year  Duration    Rating\n",
       "Year      1.000000  0.047318  0.136880\n",
       "Duration  0.047318  1.000000  0.172583\n",
       "Rating    0.136880  0.172583  1.000000"
      ]
     },
     "execution_count": 48,
     "metadata": {},
     "output_type": "execute_result"
    }
   ],
   "source": [
    "co_relation"
   ]
  },
  {
   "cell_type": "code",
   "execution_count": 49,
   "id": "d58454f9",
   "metadata": {},
   "outputs": [
    {
     "data": {
      "text/plain": [
       "<Axes: >"
      ]
     },
     "execution_count": 49,
     "metadata": {},
     "output_type": "execute_result"
    },
    {
     "data": {
      "image/png": "[encoded data removed]",
      "text/plain": [
       "<Figure size 640x480 with 2 Axes>"
      ]
     },
     "metadata": {},
     "output_type": "display_data"
    }
   ],
   "source": [
    "sns.heatmap(co_relation)"
   ]
  },
  {
   "cell_type": "code",
   "execution_count": 50,
   "id": "550ff8c5",
   "metadata": {},
   "outputs": [],
   "source": [
    "from matplotlib import pyplot as plt"
   ]
  },
  {
   "cell_type": "code",
   "execution_count": 51,
   "id": "657ba17f",
   "metadata": {
    "scrolled": false
   },
   "outputs": [
    {
     "data": {
      "image/png": "[encoded data removed]",
      "text/plain": [
       "<Figure size 1500x700 with 1 Axes>"
      ]
     },
     "metadata": {},
     "output_type": "display_data"
    }
   ],
   "source": [
    "import matplotlib.pyplot as plt\n",
    "\n",
    "plt.figure(figsize=(15, 7))\n",
    "plt.title(\"Per Year Rating Analysis\")\n",
    "plt.xlabel(\"Year\")\n",
    "plt.ylabel(\"Rating\")\n",
    "\n",
    "# Set x-axis limits\n",
    "plt.xlim(1900, data['Year'].max())\n",
    "\n",
    "plt.bar(data['Year'], data['Rating'])\n",
    "plt.show()\n"
   ]
  },
  {
   "cell_type": "code",
   "execution_count": 52,
   "id": "f02f3069",
   "metadata": {},
   "outputs": [
    {
     "data": {
      "text/plain": [
       "Text(0.5, 1.0, 'Rating pattern per year')"
      ]
     },
     "execution_count": 52,
     "metadata": {},
     "output_type": "execute_result"
    },
    {
     "data": {
      "image/png": "[encoded data removed]",
      "text/plain": [
       "<Figure size 1500x700 with 1 Axes>"
      ]
     },
     "metadata": {},
     "output_type": "display_data"
    }
   ],
   "source": [
    "plt.figure(figsize = (15, 7))\n",
    "plotter_data = data[data[\"Year\"]>2000]\n",
    "sns.boxplot(x = \"Year\", y = \"Rating\", data = plotter_data)\n",
    "plt.title(\"Rating pattern per year\")"
   ]
  },
  {
   "cell_type": "code",
   "execution_count": 53,
   "id": "42376311",
   "metadata": {},
   "outputs": [
    {
     "data": {
      "text/plain": [
       "2026"
      ]
     },
     "execution_count": 53,
     "metadata": {},
     "output_type": "execute_result"
    }
   ],
   "source": [
    "min(data['Year'])\n",
    "max(data['Year'])"
   ]
  },
  {
   "cell_type": "code",
   "execution_count": 54,
   "id": "271b322f",
   "metadata": {},
   "outputs": [
    {
     "data": {
      "text/html": [
       "<div>\n",
       "<style scoped>\n",
       "    .dataframe tbody tr th:only-of-type {\n",
       "        vertical-align: middle;\n",
       "    }\n",
       "\n",
       "    .dataframe tbody tr th {\n",
       "        vertical-align: top;\n",
       "    }\n",
       "\n",
       "    .dataframe thead th {\n",
       "        text-align: right;\n",
       "    }\n",
       "</style>\n",
       "<table border=\"1\" class=\"dataframe\">\n",
       "  <thead>\n",
       "    <tr style=\"text-align: right;\">\n",
       "      <th></th>\n",
       "      <th>name</th>\n",
       "      <th>Year</th>\n",
       "      <th>Duration</th>\n",
       "      <th>Genre</th>\n",
       "      <th>Rating</th>\n",
       "    </tr>\n",
       "  </thead>\n",
       "  <tbody>\n",
       "    <tr>\n",
       "      <th>2909</th>\n",
       "      <td>Psycho Diver: Soul Siren</td>\n",
       "      <td>1997</td>\n",
       "      <td>48</td>\n",
       "      <td>Animation, Action, Horror</td>\n",
       "      <td>5.5</td>\n",
       "    </tr>\n",
       "    <tr>\n",
       "      <th>3732</th>\n",
       "      <td>Saber Marionette J Again</td>\n",
       "      <td>1997</td>\n",
       "      <td>50</td>\n",
       "      <td>Animation, Action, Comedy</td>\n",
       "      <td>7.2</td>\n",
       "    </tr>\n",
       "    <tr>\n",
       "      <th>3728</th>\n",
       "      <td>Battle Athletes</td>\n",
       "      <td>1997</td>\n",
       "      <td>195</td>\n",
       "      <td>Animation, Action, Comedy</td>\n",
       "      <td>6.6</td>\n",
       "    </tr>\n",
       "    <tr>\n",
       "      <th>5537</th>\n",
       "      <td>Psychic Force: Puzzle Taisen</td>\n",
       "      <td>1997</td>\n",
       "      <td>0</td>\n",
       "      <td>Action</td>\n",
       "      <td>0.0</td>\n",
       "    </tr>\n",
       "    <tr>\n",
       "      <th>4570</th>\n",
       "      <td>Eight Clouds Rising</td>\n",
       "      <td>1997</td>\n",
       "      <td>60</td>\n",
       "      <td>Animation, Adventure, History</td>\n",
       "      <td>4.9</td>\n",
       "    </tr>\n",
       "  </tbody>\n",
       "</table>\n",
       "</div>"
      ],
      "text/plain": [
       "                              name  Year  Duration  \\\n",
       "2909      Psycho Diver: Soul Siren  1997        48   \n",
       "3732      Saber Marionette J Again  1997        50   \n",
       "3728               Battle Athletes  1997       195   \n",
       "5537  Psychic Force: Puzzle Taisen  1997         0   \n",
       "4570           Eight Clouds Rising  1997        60   \n",
       "\n",
       "                              Genre  Rating  \n",
       "2909      Animation, Action, Horror     5.5  \n",
       "3732      Animation, Action, Comedy     7.2  \n",
       "3728      Animation, Action, Comedy     6.6  \n",
       "5537                         Action     0.0  \n",
       "4570  Animation, Adventure, History     4.9  "
      ]
     },
     "execution_count": 54,
     "metadata": {},
     "output_type": "execute_result"
    }
   ],
   "source": [
    "sample_df = data[data['Year'] > 1996].sort_values(\"Year\", ascending = True)\n",
    "sample_df.head()"
   ]
  },
  {
   "cell_type": "code",
   "execution_count": 55,
   "id": "2c191741",
   "metadata": {
    "scrolled": false
   },
   "outputs": [
    {
     "data": {
      "image/png": "[encoded data removed]",
      "text/plain": [
       "<Figure size 1500x700 with 1 Axes>"
      ]
     },
     "metadata": {},
     "output_type": "display_data"
    }
   ],
   "source": [
    "plt.figure(figsize = (15, 7))\n",
    "plt.xlabel(\"Year\")\n",
    "plt.ylabel(\"Rating\")\n",
    "plt.bar(sample_df['Year'], sample_df['Rating'])\n",
    "plt.show()"
   ]
  },
  {
   "cell_type": "code",
   "execution_count": 56,
   "id": "179cd251",
   "metadata": {
    "scrolled": false
   },
   "outputs": [
    {
     "data": {
      "image/png": "[encoded data removed]",
      "text/plain": [
       "<Figure size 1500x700 with 1 Axes>"
      ]
     },
     "metadata": {},
     "output_type": "display_data"
    }
   ],
   "source": [
    "plt.figure(figsize = (15, 7))\n",
    "plt.xlabel(\"Year\")\n",
    "plt.ylabel(\"Rating\")\n",
    "plt.scatter(sample_df['Year'], sample_df['Rating'])\n",
    "plt.show()"
   ]
  },
  {
   "cell_type": "code",
   "execution_count": 57,
   "id": "13a25bd2",
   "metadata": {},
   "outputs": [],
   "source": [
    "ordered_df = data.sort_values(\"Year\")"
   ]
  },
  {
   "cell_type": "code",
   "execution_count": 58,
   "id": "5dcb9a2e",
   "metadata": {},
   "outputs": [
    {
     "data": {
      "text/html": [
       "<div>\n",
       "<style scoped>\n",
       "    .dataframe tbody tr th:only-of-type {\n",
       "        vertical-align: middle;\n",
       "    }\n",
       "\n",
       "    .dataframe tbody tr th {\n",
       "        vertical-align: top;\n",
       "    }\n",
       "\n",
       "    .dataframe thead th {\n",
       "        text-align: right;\n",
       "    }\n",
       "</style>\n",
       "<table border=\"1\" class=\"dataframe\">\n",
       "  <thead>\n",
       "    <tr style=\"text-align: right;\">\n",
       "      <th></th>\n",
       "      <th>name</th>\n",
       "      <th>Year</th>\n",
       "      <th>Duration</th>\n",
       "      <th>Genre</th>\n",
       "      <th>Rating</th>\n",
       "    </tr>\n",
       "  </thead>\n",
       "  <tbody>\n",
       "    <tr>\n",
       "      <th>390</th>\n",
       "      <td>Twilight of the Gods</td>\n",
       "      <td>0</td>\n",
       "      <td>0</td>\n",
       "      <td>Animation, Action, Adventure</td>\n",
       "      <td>0.0</td>\n",
       "    </tr>\n",
       "    <tr>\n",
       "      <th>4856</th>\n",
       "      <td>The Samaritan</td>\n",
       "      <td>0</td>\n",
       "      <td>0</td>\n",
       "      <td>Short, Drama</td>\n",
       "      <td>0.0</td>\n",
       "    </tr>\n",
       "    <tr>\n",
       "      <th>4857</th>\n",
       "      <td>Untitled Hatsune Miku Series</td>\n",
       "      <td>0</td>\n",
       "      <td>0</td>\n",
       "      <td>Animation, Comedy, Fantasy</td>\n",
       "      <td>0.0</td>\n",
       "    </tr>\n",
       "    <tr>\n",
       "      <th>4583</th>\n",
       "      <td>Megazone 23 SIN</td>\n",
       "      <td>0</td>\n",
       "      <td>0</td>\n",
       "      <td>Animation, Action, Sci-Fi</td>\n",
       "      <td>0.0</td>\n",
       "    </tr>\n",
       "    <tr>\n",
       "      <th>4587</th>\n",
       "      <td>The Idolmaster Million Live!</td>\n",
       "      <td>0</td>\n",
       "      <td>0</td>\n",
       "      <td>Animation, Music</td>\n",
       "      <td>0.0</td>\n",
       "    </tr>\n",
       "  </tbody>\n",
       "</table>\n",
       "</div>"
      ],
      "text/plain": [
       "                              name  Year  Duration  \\\n",
       "390           Twilight of the Gods     0         0   \n",
       "4856                 The Samaritan     0         0   \n",
       "4857  Untitled Hatsune Miku Series     0         0   \n",
       "4583               Megazone 23 SIN     0         0   \n",
       "4587  The Idolmaster Million Live!     0         0   \n",
       "\n",
       "                             Genre  Rating  \n",
       "390   Animation, Action, Adventure     0.0  \n",
       "4856                  Short, Drama     0.0  \n",
       "4857    Animation, Comedy, Fantasy     0.0  \n",
       "4583     Animation, Action, Sci-Fi     0.0  \n",
       "4587              Animation, Music     0.0  "
      ]
     },
     "execution_count": 58,
     "metadata": {},
     "output_type": "execute_result"
    }
   ],
   "source": [
    "ordered_df.set_index(\"name\")\n",
    "ordered_df.head()"
   ]
  },
  {
   "cell_type": "markdown",
   "id": "0551933e",
   "metadata": {},
   "source": [
    "### Taking out the rows with higest ratings and more duration "
   ]
  },
  {
   "cell_type": "code",
   "execution_count": 59,
   "id": "4abf533d",
   "metadata": {},
   "outputs": [],
   "source": [
    "ordered_df = ordered_df[(ordered_df['Year']>0) & (ordered_df['Duration'] > 5) & (ordered_df[\"Rating\"] > 0.0)]"
   ]
  },
  {
   "cell_type": "code",
   "execution_count": 60,
   "id": "eb84eeef",
   "metadata": {},
   "outputs": [
    {
     "data": {
      "text/html": [
       "<div>\n",
       "<style scoped>\n",
       "    .dataframe tbody tr th:only-of-type {\n",
       "        vertical-align: middle;\n",
       "    }\n",
       "\n",
       "    .dataframe tbody tr th {\n",
       "        vertical-align: top;\n",
       "    }\n",
       "\n",
       "    .dataframe thead th {\n",
       "        text-align: right;\n",
       "    }\n",
       "</style>\n",
       "<table border=\"1\" class=\"dataframe\">\n",
       "  <thead>\n",
       "    <tr style=\"text-align: right;\">\n",
       "      <th></th>\n",
       "      <th>name</th>\n",
       "      <th>Year</th>\n",
       "      <th>Duration</th>\n",
       "      <th>Genre</th>\n",
       "      <th>Rating</th>\n",
       "    </tr>\n",
       "  </thead>\n",
       "  <tbody>\n",
       "    <tr>\n",
       "      <th>5365</th>\n",
       "      <td>Dobutsu olympic taikai</td>\n",
       "      <td>1928</td>\n",
       "      <td>8</td>\n",
       "      <td>Animation, Short</td>\n",
       "      <td>5.8</td>\n",
       "    </tr>\n",
       "    <tr>\n",
       "      <th>4955</th>\n",
       "      <td>The Stolen Lump</td>\n",
       "      <td>1929</td>\n",
       "      <td>10</td>\n",
       "      <td>Animation, Short, Fantasy</td>\n",
       "      <td>6.9</td>\n",
       "    </tr>\n",
       "    <tr>\n",
       "      <th>5090</th>\n",
       "      <td>Tarô-san no kisha</td>\n",
       "      <td>1929</td>\n",
       "      <td>15</td>\n",
       "      <td>Animation, Short</td>\n",
       "      <td>6.4</td>\n",
       "    </tr>\n",
       "    <tr>\n",
       "      <th>5243</th>\n",
       "      <td>Momotaro's Sky Adventure</td>\n",
       "      <td>1931</td>\n",
       "      <td>10</td>\n",
       "      <td>Animation, Short</td>\n",
       "      <td>6.2</td>\n",
       "    </tr>\n",
       "    <tr>\n",
       "      <th>4382</th>\n",
       "      <td>Ugokie kori no tatehiki</td>\n",
       "      <td>1933</td>\n",
       "      <td>11</td>\n",
       "      <td>Animation, Short</td>\n",
       "      <td>6.8</td>\n",
       "    </tr>\n",
       "  </tbody>\n",
       "</table>\n",
       "</div>"
      ],
      "text/plain": [
       "                          name  Year  Duration                      Genre  \\\n",
       "5365    Dobutsu olympic taikai  1928         8           Animation, Short   \n",
       "4955           The Stolen Lump  1929        10  Animation, Short, Fantasy   \n",
       "5090         Tarô-san no kisha  1929        15           Animation, Short   \n",
       "5243  Momotaro's Sky Adventure  1931        10           Animation, Short   \n",
       "4382   Ugokie kori no tatehiki  1933        11           Animation, Short   \n",
       "\n",
       "      Rating  \n",
       "5365     5.8  \n",
       "4955     6.9  \n",
       "5090     6.4  \n",
       "5243     6.2  \n",
       "4382     6.8  "
      ]
     },
     "execution_count": 60,
     "metadata": {},
     "output_type": "execute_result"
    }
   ],
   "source": [
    "ordered_df.head()"
   ]
  },
  {
   "cell_type": "code",
   "execution_count": 61,
   "id": "a22ad320",
   "metadata": {},
   "outputs": [
    {
     "data": {
      "text/plain": [
       "array([[<Axes: title={'center': 'Year'}>,\n",
       "        <Axes: title={'center': 'Duration'}>],\n",
       "       [<Axes: title={'center': 'Rating'}>, <Axes: >]], dtype=object)"
      ]
     },
     "execution_count": 61,
     "metadata": {},
     "output_type": "execute_result"
    },
    {
     "data": {
      "image/png": "[encoded data removed]",
      "text/plain": [
       "<Figure size 1500x700 with 4 Axes>"
      ]
     },
     "metadata": {},
     "output_type": "display_data"
    }
   ],
   "source": [
    "ordered_df.hist(figsize = (15, 7), legend = True)"
   ]
  },
  {
   "cell_type": "code",
   "execution_count": 62,
   "id": "f2a01558",
   "metadata": {},
   "outputs": [
    {
     "data": {
      "text/plain": [
       "<seaborn.axisgrid.FacetGrid at 0x266267829f0>"
      ]
     },
     "execution_count": 62,
     "metadata": {},
     "output_type": "execute_result"
    },
    {
     "data": {
      "image/png": "[encoded data removed]",
      "text/plain": [
       "<Figure size 500x500 with 1 Axes>"
      ]
     },
     "metadata": {},
     "output_type": "display_data"
    }
   ],
   "source": [
    "sns.displot(ordered_df.groupby(['Rating'])['Year'].mean(), discrete = True)"
   ]
  },
  {
   "cell_type": "markdown",
   "id": "705ae30b",
   "metadata": {},
   "source": [
    "## Extracting columns that have ratings greater than 0, years av=bove 2000 and duration greater than 5 minutes"
   ]
  },
  {
   "cell_type": "code",
   "execution_count": 63,
   "id": "68ba3c15",
   "metadata": {},
   "outputs": [],
   "source": [
    "latest_df = ordered_df[(ordered_df['Year']>2000) & (ordered_df['Duration'] > 5) & (ordered_df[\"Rating\"] > 0.0)]"
   ]
  },
  {
   "cell_type": "code",
   "execution_count": 64,
   "id": "7c6768af",
   "metadata": {},
   "outputs": [
    {
     "data": {
      "text/html": [
       "<div>\n",
       "<style scoped>\n",
       "    .dataframe tbody tr th:only-of-type {\n",
       "        vertical-align: middle;\n",
       "    }\n",
       "\n",
       "    .dataframe tbody tr th {\n",
       "        vertical-align: top;\n",
       "    }\n",
       "\n",
       "    .dataframe thead th {\n",
       "        text-align: right;\n",
       "    }\n",
       "</style>\n",
       "<table border=\"1\" class=\"dataframe\">\n",
       "  <thead>\n",
       "    <tr style=\"text-align: right;\">\n",
       "      <th></th>\n",
       "      <th>name</th>\n",
       "      <th>Year</th>\n",
       "      <th>Duration</th>\n",
       "      <th>Genre</th>\n",
       "      <th>Rating</th>\n",
       "    </tr>\n",
       "  </thead>\n",
       "  <tbody>\n",
       "    <tr>\n",
       "      <th>2211</th>\n",
       "      <td>Mazinkaiser</td>\n",
       "      <td>2001</td>\n",
       "      <td>210</td>\n",
       "      <td>Animation, Sci-Fi</td>\n",
       "      <td>7.7</td>\n",
       "    </tr>\n",
       "    <tr>\n",
       "      <th>3379</th>\n",
       "      <td>Hanaukyô meido-tai</td>\n",
       "      <td>2001</td>\n",
       "      <td>15</td>\n",
       "      <td>Animation, Comedy, Romance</td>\n",
       "      <td>6.4</td>\n",
       "    </tr>\n",
       "    <tr>\n",
       "      <th>2833</th>\n",
       "      <td>Battle Doll Angelic Layer</td>\n",
       "      <td>2001</td>\n",
       "      <td>25</td>\n",
       "      <td>Animation, Action, Comedy</td>\n",
       "      <td>6.9</td>\n",
       "    </tr>\n",
       "    <tr>\n",
       "      <th>3386</th>\n",
       "      <td>Figure 17</td>\n",
       "      <td>2001</td>\n",
       "      <td>780</td>\n",
       "      <td>Animation, Adventure, Drama</td>\n",
       "      <td>7.7</td>\n",
       "    </tr>\n",
       "    <tr>\n",
       "      <th>1522</th>\n",
       "      <td>Hikaru no Go</td>\n",
       "      <td>2001</td>\n",
       "      <td>23</td>\n",
       "      <td>Animation, Adventure, Drama</td>\n",
       "      <td>8.3</td>\n",
       "    </tr>\n",
       "  </tbody>\n",
       "</table>\n",
       "</div>"
      ],
      "text/plain": [
       "                           name  Year  Duration                        Genre  \\\n",
       "2211                Mazinkaiser  2001       210            Animation, Sci-Fi   \n",
       "3379         Hanaukyô meido-tai  2001        15   Animation, Comedy, Romance   \n",
       "2833  Battle Doll Angelic Layer  2001        25    Animation, Action, Comedy   \n",
       "3386                  Figure 17  2001       780  Animation, Adventure, Drama   \n",
       "1522               Hikaru no Go  2001        23  Animation, Adventure, Drama   \n",
       "\n",
       "      Rating  \n",
       "2211     7.7  \n",
       "3379     6.4  \n",
       "2833     6.9  \n",
       "3386     7.7  \n",
       "1522     8.3  "
      ]
     },
     "execution_count": 64,
     "metadata": {},
     "output_type": "execute_result"
    }
   ],
   "source": [
    "latest_df.head()"
   ]
  },
  {
   "cell_type": "code",
   "execution_count": 65,
   "id": "36c8ccd3",
   "metadata": {},
   "outputs": [
    {
     "data": {
      "text/plain": [
       "array([[<Axes: title={'center': 'Year'}>,\n",
       "        <Axes: title={'center': 'Duration'}>],\n",
       "       [<Axes: title={'center': 'Rating'}>, <Axes: >]], dtype=object)"
      ]
     },
     "execution_count": 65,
     "metadata": {},
     "output_type": "execute_result"
    },
    {
     "data": {
      "image/png": "[encoded data removed]",
      "text/plain": [
       "<Figure size 1500x700 with 4 Axes>"
      ]
     },
     "metadata": {},
     "output_type": "display_data"
    }
   ],
   "source": [
    "latest_df.hist(figsize = (15, 7), legend = True)"
   ]
  },
  {
   "cell_type": "markdown",
   "id": "34176daa",
   "metadata": {},
   "source": [
    "## Latest data frame data visualization phase"
   ]
  },
  {
   "cell_type": "code",
   "execution_count": 66,
   "id": "30c1a97c",
   "metadata": {},
   "outputs": [
    {
     "data": {
      "text/plain": [
       "<Axes: xlabel='Duration', ylabel='Rating'>"
      ]
     },
     "execution_count": 66,
     "metadata": {},
     "output_type": "execute_result"
    },
    {
     "data": {
      "image/png": "[encoded data removed]",
      "text/plain": [
       "<Figure size 1500x700 with 1 Axes>"
      ]
     },
     "metadata": {},
     "output_type": "display_data"
    }
   ],
   "source": [
    "latest_df.plot(kind = \"scatter\", x = \"Duration\", y = \"Rating\", figsize = (15, 7), fontsize = 14)"
   ]
  },
  {
   "cell_type": "code",
   "execution_count": 67,
   "id": "20b45d72",
   "metadata": {},
   "outputs": [
    {
     "data": {
      "text/plain": [
       "<Axes: ylabel='Density'>"
      ]
     },
     "execution_count": 67,
     "metadata": {},
     "output_type": "execute_result"
    },
    {
     "data": {
      "image/png": "[encoded data removed]",
      "text/plain": [
       "<Figure size 1500x700 with 1 Axes>"
      ]
     },
     "metadata": {},
     "output_type": "display_data"
    }
   ],
   "source": [
    "latest_df.plot(kind = \"kde\", x = \"Duration\", y = \"Rating\", figsize = (15, 7), fontsize = 14)"
   ]
  },
  {
   "cell_type": "code",
   "execution_count": 68,
   "id": "8769b650",
   "metadata": {},
   "outputs": [
    {
     "name": "stdout",
     "output_type": "stream",
     "text": [
      "<class 'pandas.core.frame.DataFrame'>\n",
      "Index: 2023 entries, 2211 to 477\n",
      "Data columns (total 5 columns):\n",
      " #   Column    Non-Null Count  Dtype  \n",
      "---  ------    --------------  -----  \n",
      " 0   name      2023 non-null   object \n",
      " 1   Year      2023 non-null   int64  \n",
      " 2   Duration  2023 non-null   int64  \n",
      " 3   Genre     2021 non-null   object \n",
      " 4   Rating    2023 non-null   float64\n",
      "dtypes: float64(1), int64(2), object(2)\n",
      "memory usage: 94.8+ KB\n"
     ]
    }
   ],
   "source": [
    "latest_df.info()"
   ]
  },
  {
   "cell_type": "code",
   "execution_count": 69,
   "id": "493e75fc",
   "metadata": {},
   "outputs": [
    {
     "data": {
      "text/html": [
       "<div>\n",
       "<style scoped>\n",
       "    .dataframe tbody tr th:only-of-type {\n",
       "        vertical-align: middle;\n",
       "    }\n",
       "\n",
       "    .dataframe tbody tr th {\n",
       "        vertical-align: top;\n",
       "    }\n",
       "\n",
       "    .dataframe thead th {\n",
       "        text-align: right;\n",
       "    }\n",
       "</style>\n",
       "<table border=\"1\" class=\"dataframe\">\n",
       "  <thead>\n",
       "    <tr style=\"text-align: right;\">\n",
       "      <th></th>\n",
       "      <th>Year</th>\n",
       "      <th>Duration</th>\n",
       "      <th>Rating</th>\n",
       "    </tr>\n",
       "  </thead>\n",
       "  <tbody>\n",
       "    <tr>\n",
       "      <th>count</th>\n",
       "      <td>2023.000000</td>\n",
       "      <td>2023.000000</td>\n",
       "      <td>2023.000000</td>\n",
       "    </tr>\n",
       "    <tr>\n",
       "      <th>mean</th>\n",
       "      <td>2011.939199</td>\n",
       "      <td>48.747405</td>\n",
       "      <td>6.905833</td>\n",
       "    </tr>\n",
       "    <tr>\n",
       "      <th>std</th>\n",
       "      <td>6.054138</td>\n",
       "      <td>59.560988</td>\n",
       "      <td>0.938265</td>\n",
       "    </tr>\n",
       "    <tr>\n",
       "      <th>min</th>\n",
       "      <td>2001.000000</td>\n",
       "      <td>6.000000</td>\n",
       "      <td>1.300000</td>\n",
       "    </tr>\n",
       "    <tr>\n",
       "      <th>25%</th>\n",
       "      <td>2007.000000</td>\n",
       "      <td>24.000000</td>\n",
       "      <td>6.400000</td>\n",
       "    </tr>\n",
       "    <tr>\n",
       "      <th>50%</th>\n",
       "      <td>2012.000000</td>\n",
       "      <td>25.000000</td>\n",
       "      <td>6.900000</td>\n",
       "    </tr>\n",
       "    <tr>\n",
       "      <th>75%</th>\n",
       "      <td>2017.000000</td>\n",
       "      <td>75.000000</td>\n",
       "      <td>7.500000</td>\n",
       "    </tr>\n",
       "    <tr>\n",
       "      <th>max</th>\n",
       "      <td>2022.000000</td>\n",
       "      <td>1329.000000</td>\n",
       "      <td>9.400000</td>\n",
       "    </tr>\n",
       "  </tbody>\n",
       "</table>\n",
       "</div>"
      ],
      "text/plain": [
       "              Year     Duration       Rating\n",
       "count  2023.000000  2023.000000  2023.000000\n",
       "mean   2011.939199    48.747405     6.905833\n",
       "std       6.054138    59.560988     0.938265\n",
       "min    2001.000000     6.000000     1.300000\n",
       "25%    2007.000000    24.000000     6.400000\n",
       "50%    2012.000000    25.000000     6.900000\n",
       "75%    2017.000000    75.000000     7.500000\n",
       "max    2022.000000  1329.000000     9.400000"
      ]
     },
     "execution_count": 69,
     "metadata": {},
     "output_type": "execute_result"
    }
   ],
   "source": [
    "latest_df.describe()"
   ]
  },
  {
   "cell_type": "code",
   "execution_count": 70,
   "id": "e5ae4656",
   "metadata": {},
   "outputs": [
    {
     "data": {
      "text/plain": [
       "name        0\n",
       "Year        0\n",
       "Duration    0\n",
       "Genre       2\n",
       "Rating      0\n",
       "dtype: int64"
      ]
     },
     "execution_count": 70,
     "metadata": {},
     "output_type": "execute_result"
    }
   ],
   "source": [
    "latest_df.isna().sum()"
   ]
  },
  {
   "cell_type": "code",
   "execution_count": 71,
   "id": "919cc333",
   "metadata": {
    "scrolled": false
   },
   "outputs": [
    {
     "data": {
      "text/html": [
       "<div>\n",
       "<style scoped>\n",
       "    .dataframe tbody tr th:only-of-type {\n",
       "        vertical-align: middle;\n",
       "    }\n",
       "\n",
       "    .dataframe tbody tr th {\n",
       "        vertical-align: top;\n",
       "    }\n",
       "\n",
       "    .dataframe thead th {\n",
       "        text-align: right;\n",
       "    }\n",
       "</style>\n",
       "<table border=\"1\" class=\"dataframe\">\n",
       "  <thead>\n",
       "    <tr style=\"text-align: right;\">\n",
       "      <th></th>\n",
       "      <th>name</th>\n",
       "      <th>Year</th>\n",
       "      <th>Duration</th>\n",
       "      <th>Genre</th>\n",
       "      <th>Rating</th>\n",
       "    </tr>\n",
       "  </thead>\n",
       "  <tbody>\n",
       "    <tr>\n",
       "      <th>2211</th>\n",
       "      <td>Mazinkaiser</td>\n",
       "      <td>2001</td>\n",
       "      <td>210</td>\n",
       "      <td>Animation, Sci-Fi</td>\n",
       "      <td>7.7</td>\n",
       "    </tr>\n",
       "    <tr>\n",
       "      <th>3379</th>\n",
       "      <td>Hanaukyô meido-tai</td>\n",
       "      <td>2001</td>\n",
       "      <td>15</td>\n",
       "      <td>Animation, Comedy, Romance</td>\n",
       "      <td>6.4</td>\n",
       "    </tr>\n",
       "    <tr>\n",
       "      <th>2833</th>\n",
       "      <td>Battle Doll Angelic Layer</td>\n",
       "      <td>2001</td>\n",
       "      <td>25</td>\n",
       "      <td>Animation, Action, Comedy</td>\n",
       "      <td>6.9</td>\n",
       "    </tr>\n",
       "    <tr>\n",
       "      <th>3386</th>\n",
       "      <td>Figure 17</td>\n",
       "      <td>2001</td>\n",
       "      <td>780</td>\n",
       "      <td>Animation, Adventure, Drama</td>\n",
       "      <td>7.7</td>\n",
       "    </tr>\n",
       "    <tr>\n",
       "      <th>1522</th>\n",
       "      <td>Hikaru no Go</td>\n",
       "      <td>2001</td>\n",
       "      <td>23</td>\n",
       "      <td>Animation, Adventure, Drama</td>\n",
       "      <td>8.3</td>\n",
       "    </tr>\n",
       "    <tr>\n",
       "      <th>...</th>\n",
       "      <td>...</td>\n",
       "      <td>...</td>\n",
       "      <td>...</td>\n",
       "      <td>...</td>\n",
       "      <td>...</td>\n",
       "    </tr>\n",
       "    <tr>\n",
       "      <th>6068</th>\n",
       "      <td>My Dress-Up Darling</td>\n",
       "      <td>2022</td>\n",
       "      <td>24</td>\n",
       "      <td>Animation, Comedy, Romance</td>\n",
       "      <td>8.2</td>\n",
       "    </tr>\n",
       "    <tr>\n",
       "      <th>615</th>\n",
       "      <td>Shenmue</td>\n",
       "      <td>2022</td>\n",
       "      <td>24</td>\n",
       "      <td>Animation, Action, Adventure</td>\n",
       "      <td>7.5</td>\n",
       "    </tr>\n",
       "    <tr>\n",
       "      <th>534</th>\n",
       "      <td>The Strongest Sage with the Weakest Crest</td>\n",
       "      <td>2022</td>\n",
       "      <td>24</td>\n",
       "      <td>Animation, Adventure, Fantasy</td>\n",
       "      <td>6.2</td>\n",
       "    </tr>\n",
       "    <tr>\n",
       "      <th>496</th>\n",
       "      <td>The Quintessential Quintuplets Movie</td>\n",
       "      <td>2022</td>\n",
       "      <td>136</td>\n",
       "      <td>Animation, Comedy, Drama</td>\n",
       "      <td>7.6</td>\n",
       "    </tr>\n",
       "    <tr>\n",
       "      <th>477</th>\n",
       "      <td>The Executioner and Her Way of Life</td>\n",
       "      <td>2022</td>\n",
       "      <td>23</td>\n",
       "      <td>Animation, Action, Adventure</td>\n",
       "      <td>6.2</td>\n",
       "    </tr>\n",
       "  </tbody>\n",
       "</table>\n",
       "<p>2021 rows × 5 columns</p>\n",
       "</div>"
      ],
      "text/plain": [
       "                                           name  Year  Duration  \\\n",
       "2211                                Mazinkaiser  2001       210   \n",
       "3379                         Hanaukyô meido-tai  2001        15   \n",
       "2833                  Battle Doll Angelic Layer  2001        25   \n",
       "3386                                  Figure 17  2001       780   \n",
       "1522                               Hikaru no Go  2001        23   \n",
       "...                                         ...   ...       ...   \n",
       "6068                        My Dress-Up Darling  2022        24   \n",
       "615                                     Shenmue  2022        24   \n",
       "534   The Strongest Sage with the Weakest Crest  2022        24   \n",
       "496        The Quintessential Quintuplets Movie  2022       136   \n",
       "477         The Executioner and Her Way of Life  2022        23   \n",
       "\n",
       "                              Genre  Rating  \n",
       "2211              Animation, Sci-Fi     7.7  \n",
       "3379     Animation, Comedy, Romance     6.4  \n",
       "2833      Animation, Action, Comedy     6.9  \n",
       "3386    Animation, Adventure, Drama     7.7  \n",
       "1522    Animation, Adventure, Drama     8.3  \n",
       "...                             ...     ...  \n",
       "6068     Animation, Comedy, Romance     8.2  \n",
       "615    Animation, Action, Adventure     7.5  \n",
       "534   Animation, Adventure, Fantasy     6.2  \n",
       "496        Animation, Comedy, Drama     7.6  \n",
       "477    Animation, Action, Adventure     6.2  \n",
       "\n",
       "[2021 rows x 5 columns]"
      ]
     },
     "execution_count": 71,
     "metadata": {},
     "output_type": "execute_result"
    }
   ],
   "source": [
    "latest_df.dropna()"
   ]
  },
  {
   "cell_type": "markdown",
   "id": "ae3fda28",
   "metadata": {},
   "source": [
    "## Extraction of random genre types"
   ]
  },
  {
   "cell_type": "code",
   "execution_count": 72,
   "id": "d5c6f12c",
   "metadata": {},
   "outputs": [],
   "source": [
    "feature_1_df = latest_df[(latest_df[\"Genre\"] == \"Animation, Action, Comedy\") | (latest_df[\"Genre\"] == \"Animation, Adventure, Drama\") | (latest_df[\"Genre\"] == \"Animation, Comedy, Fantasy\")]"
   ]
  },
  {
   "cell_type": "code",
   "execution_count": 73,
   "id": "f7b87160",
   "metadata": {},
   "outputs": [
    {
     "data": {
      "text/html": [
       "<div>\n",
       "<style scoped>\n",
       "    .dataframe tbody tr th:only-of-type {\n",
       "        vertical-align: middle;\n",
       "    }\n",
       "\n",
       "    .dataframe tbody tr th {\n",
       "        vertical-align: top;\n",
       "    }\n",
       "\n",
       "    .dataframe thead th {\n",
       "        text-align: right;\n",
       "    }\n",
       "</style>\n",
       "<table border=\"1\" class=\"dataframe\">\n",
       "  <thead>\n",
       "    <tr style=\"text-align: right;\">\n",
       "      <th></th>\n",
       "      <th>name</th>\n",
       "      <th>Year</th>\n",
       "      <th>Duration</th>\n",
       "      <th>Genre</th>\n",
       "      <th>Rating</th>\n",
       "    </tr>\n",
       "  </thead>\n",
       "  <tbody>\n",
       "    <tr>\n",
       "      <th>2833</th>\n",
       "      <td>Battle Doll Angelic Layer</td>\n",
       "      <td>2001</td>\n",
       "      <td>25</td>\n",
       "      <td>Animation, Action, Comedy</td>\n",
       "      <td>6.9</td>\n",
       "    </tr>\n",
       "    <tr>\n",
       "      <th>3386</th>\n",
       "      <td>Figure 17</td>\n",
       "      <td>2001</td>\n",
       "      <td>780</td>\n",
       "      <td>Animation, Adventure, Drama</td>\n",
       "      <td>7.7</td>\n",
       "    </tr>\n",
       "    <tr>\n",
       "      <th>1522</th>\n",
       "      <td>Hikaru no Go</td>\n",
       "      <td>2001</td>\n",
       "      <td>23</td>\n",
       "      <td>Animation, Adventure, Drama</td>\n",
       "      <td>8.3</td>\n",
       "    </tr>\n",
       "    <tr>\n",
       "      <th>4478</th>\n",
       "      <td>Yobarete tobidete! Akubi-chan</td>\n",
       "      <td>2001</td>\n",
       "      <td>25</td>\n",
       "      <td>Animation, Comedy, Fantasy</td>\n",
       "      <td>7.7</td>\n",
       "    </tr>\n",
       "    <tr>\n",
       "      <th>1956</th>\n",
       "      <td>Mahoromatic</td>\n",
       "      <td>2001</td>\n",
       "      <td>24</td>\n",
       "      <td>Animation, Action, Comedy</td>\n",
       "      <td>6.7</td>\n",
       "    </tr>\n",
       "  </tbody>\n",
       "</table>\n",
       "</div>"
      ],
      "text/plain": [
       "                               name  Year  Duration  \\\n",
       "2833      Battle Doll Angelic Layer  2001        25   \n",
       "3386                      Figure 17  2001       780   \n",
       "1522                   Hikaru no Go  2001        23   \n",
       "4478  Yobarete tobidete! Akubi-chan  2001        25   \n",
       "1956                    Mahoromatic  2001        24   \n",
       "\n",
       "                            Genre  Rating  \n",
       "2833    Animation, Action, Comedy     6.9  \n",
       "3386  Animation, Adventure, Drama     7.7  \n",
       "1522  Animation, Adventure, Drama     8.3  \n",
       "4478   Animation, Comedy, Fantasy     7.7  \n",
       "1956    Animation, Action, Comedy     6.7  "
      ]
     },
     "execution_count": 73,
     "metadata": {},
     "output_type": "execute_result"
    }
   ],
   "source": [
    "feature_1_df.head()"
   ]
  },
  {
   "cell_type": "code",
   "execution_count": 74,
   "id": "33a6ca3e",
   "metadata": {
    "scrolled": true
   },
   "outputs": [
    {
     "data": {
      "text/plain": [
       "(251, 5)"
      ]
     },
     "execution_count": 74,
     "metadata": {},
     "output_type": "execute_result"
    }
   ],
   "source": [
    "feature_1_df.shape"
   ]
  },
  {
   "cell_type": "code",
   "execution_count": 75,
   "id": "13edee08",
   "metadata": {},
   "outputs": [
    {
     "name": "stderr",
     "output_type": "stream",
     "text": [
      "C:\\Users\\priya\\AppData\\Local\\Temp\\ipykernel_76736\\1221678597.py:1: SettingWithCopyWarning: \n",
      "A value is trying to be set on a copy of a slice from a DataFrame\n",
      "\n",
      "See the caveats in the documentation: https://pandas.pydata.org/pandas-docs/stable/user_guide/indexing.html#returning-a-view-versus-a-copy\n",
      "  feature_1_df.drop(\"name\", axis = 1, inplace = True)\n"
     ]
    }
   ],
   "source": [
    "feature_1_df.drop(\"name\", axis = 1, inplace = True)"
   ]
  },
  {
   "cell_type": "code",
   "execution_count": 76,
   "id": "86f6fb30",
   "metadata": {
    "scrolled": true
   },
   "outputs": [
    {
     "data": {
      "text/html": [
       "<div>\n",
       "<style scoped>\n",
       "    .dataframe tbody tr th:only-of-type {\n",
       "        vertical-align: middle;\n",
       "    }\n",
       "\n",
       "    .dataframe tbody tr th {\n",
       "        vertical-align: top;\n",
       "    }\n",
       "\n",
       "    .dataframe thead th {\n",
       "        text-align: right;\n",
       "    }\n",
       "</style>\n",
       "<table border=\"1\" class=\"dataframe\">\n",
       "  <thead>\n",
       "    <tr style=\"text-align: right;\">\n",
       "      <th></th>\n",
       "      <th>Year</th>\n",
       "      <th>Duration</th>\n",
       "      <th>Genre</th>\n",
       "      <th>Rating</th>\n",
       "    </tr>\n",
       "  </thead>\n",
       "  <tbody>\n",
       "    <tr>\n",
       "      <th>2833</th>\n",
       "      <td>2001</td>\n",
       "      <td>25</td>\n",
       "      <td>Animation, Action, Comedy</td>\n",
       "      <td>6.9</td>\n",
       "    </tr>\n",
       "    <tr>\n",
       "      <th>3386</th>\n",
       "      <td>2001</td>\n",
       "      <td>780</td>\n",
       "      <td>Animation, Adventure, Drama</td>\n",
       "      <td>7.7</td>\n",
       "    </tr>\n",
       "    <tr>\n",
       "      <th>1522</th>\n",
       "      <td>2001</td>\n",
       "      <td>23</td>\n",
       "      <td>Animation, Adventure, Drama</td>\n",
       "      <td>8.3</td>\n",
       "    </tr>\n",
       "    <tr>\n",
       "      <th>4478</th>\n",
       "      <td>2001</td>\n",
       "      <td>25</td>\n",
       "      <td>Animation, Comedy, Fantasy</td>\n",
       "      <td>7.7</td>\n",
       "    </tr>\n",
       "    <tr>\n",
       "      <th>1956</th>\n",
       "      <td>2001</td>\n",
       "      <td>24</td>\n",
       "      <td>Animation, Action, Comedy</td>\n",
       "      <td>6.7</td>\n",
       "    </tr>\n",
       "  </tbody>\n",
       "</table>\n",
       "</div>"
      ],
      "text/plain": [
       "      Year  Duration                        Genre  Rating\n",
       "2833  2001        25    Animation, Action, Comedy     6.9\n",
       "3386  2001       780  Animation, Adventure, Drama     7.7\n",
       "1522  2001        23  Animation, Adventure, Drama     8.3\n",
       "4478  2001        25   Animation, Comedy, Fantasy     7.7\n",
       "1956  2001        24    Animation, Action, Comedy     6.7"
      ]
     },
     "execution_count": 76,
     "metadata": {},
     "output_type": "execute_result"
    }
   ],
   "source": [
    "feature_1_df.head()"
   ]
  },
  {
   "cell_type": "code",
   "execution_count": 77,
   "id": "8b7cab5b",
   "metadata": {},
   "outputs": [],
   "source": [
    "categorical = [col for col in feature_1_df.columns if feature_1_df[col].dtype == 'O']"
   ]
  },
  {
   "cell_type": "code",
   "execution_count": 78,
   "id": "e4054f1c",
   "metadata": {},
   "outputs": [],
   "source": [
    "genre = feature_1_df[categorical]"
   ]
  },
  {
   "cell_type": "code",
   "execution_count": 79,
   "id": "f82d6910",
   "metadata": {},
   "outputs": [],
   "source": [
    "genre_type = pd.get_dummies(genre, drop_first = True)"
   ]
  },
  {
   "cell_type": "code",
   "execution_count": 80,
   "id": "e9cea797",
   "metadata": {
    "scrolled": true
   },
   "outputs": [
    {
     "data": {
      "text/html": [
       "<div>\n",
       "<style scoped>\n",
       "    .dataframe tbody tr th:only-of-type {\n",
       "        vertical-align: middle;\n",
       "    }\n",
       "\n",
       "    .dataframe tbody tr th {\n",
       "        vertical-align: top;\n",
       "    }\n",
       "\n",
       "    .dataframe thead th {\n",
       "        text-align: right;\n",
       "    }\n",
       "</style>\n",
       "<table border=\"1\" class=\"dataframe\">\n",
       "  <thead>\n",
       "    <tr style=\"text-align: right;\">\n",
       "      <th></th>\n",
       "      <th>Genre_Animation, Adventure, Drama</th>\n",
       "      <th>Genre_Animation, Comedy, Fantasy</th>\n",
       "    </tr>\n",
       "  </thead>\n",
       "  <tbody>\n",
       "    <tr>\n",
       "      <th>2833</th>\n",
       "      <td>False</td>\n",
       "      <td>False</td>\n",
       "    </tr>\n",
       "    <tr>\n",
       "      <th>3386</th>\n",
       "      <td>True</td>\n",
       "      <td>False</td>\n",
       "    </tr>\n",
       "    <tr>\n",
       "      <th>1522</th>\n",
       "      <td>True</td>\n",
       "      <td>False</td>\n",
       "    </tr>\n",
       "    <tr>\n",
       "      <th>4478</th>\n",
       "      <td>False</td>\n",
       "      <td>True</td>\n",
       "    </tr>\n",
       "    <tr>\n",
       "      <th>1956</th>\n",
       "      <td>False</td>\n",
       "      <td>False</td>\n",
       "    </tr>\n",
       "  </tbody>\n",
       "</table>\n",
       "</div>"
      ],
      "text/plain": [
       "      Genre_Animation, Adventure, Drama  Genre_Animation, Comedy, Fantasy\n",
       "2833                              False                             False\n",
       "3386                               True                             False\n",
       "1522                               True                             False\n",
       "4478                              False                              True\n",
       "1956                              False                             False"
      ]
     },
     "execution_count": 80,
     "metadata": {},
     "output_type": "execute_result"
    }
   ],
   "source": [
    "genre_type.head()"
   ]
  },
  {
   "cell_type": "markdown",
   "id": "03d7688e",
   "metadata": {},
   "source": [
    "## Creating a new data frame and listing the features"
   ]
  },
  {
   "cell_type": "code",
   "execution_count": 81,
   "id": "74493896",
   "metadata": {},
   "outputs": [],
   "source": [
    "new_data = pd.concat([feature_1_df, genre_type], axis = 1)"
   ]
  },
  {
   "cell_type": "code",
   "execution_count": 82,
   "id": "7052a84a",
   "metadata": {},
   "outputs": [
    {
     "data": {
      "text/html": [
       "<div>\n",
       "<style scoped>\n",
       "    .dataframe tbody tr th:only-of-type {\n",
       "        vertical-align: middle;\n",
       "    }\n",
       "\n",
       "    .dataframe tbody tr th {\n",
       "        vertical-align: top;\n",
       "    }\n",
       "\n",
       "    .dataframe thead th {\n",
       "        text-align: right;\n",
       "    }\n",
       "</style>\n",
       "<table border=\"1\" class=\"dataframe\">\n",
       "  <thead>\n",
       "    <tr style=\"text-align: right;\">\n",
       "      <th></th>\n",
       "      <th>Year</th>\n",
       "      <th>Duration</th>\n",
       "      <th>Genre</th>\n",
       "      <th>Rating</th>\n",
       "      <th>Genre_Animation, Adventure, Drama</th>\n",
       "      <th>Genre_Animation, Comedy, Fantasy</th>\n",
       "    </tr>\n",
       "  </thead>\n",
       "  <tbody>\n",
       "    <tr>\n",
       "      <th>2833</th>\n",
       "      <td>2001</td>\n",
       "      <td>25</td>\n",
       "      <td>Animation, Action, Comedy</td>\n",
       "      <td>6.9</td>\n",
       "      <td>False</td>\n",
       "      <td>False</td>\n",
       "    </tr>\n",
       "    <tr>\n",
       "      <th>3386</th>\n",
       "      <td>2001</td>\n",
       "      <td>780</td>\n",
       "      <td>Animation, Adventure, Drama</td>\n",
       "      <td>7.7</td>\n",
       "      <td>True</td>\n",
       "      <td>False</td>\n",
       "    </tr>\n",
       "    <tr>\n",
       "      <th>1522</th>\n",
       "      <td>2001</td>\n",
       "      <td>23</td>\n",
       "      <td>Animation, Adventure, Drama</td>\n",
       "      <td>8.3</td>\n",
       "      <td>True</td>\n",
       "      <td>False</td>\n",
       "    </tr>\n",
       "    <tr>\n",
       "      <th>4478</th>\n",
       "      <td>2001</td>\n",
       "      <td>25</td>\n",
       "      <td>Animation, Comedy, Fantasy</td>\n",
       "      <td>7.7</td>\n",
       "      <td>False</td>\n",
       "      <td>True</td>\n",
       "    </tr>\n",
       "    <tr>\n",
       "      <th>1956</th>\n",
       "      <td>2001</td>\n",
       "      <td>24</td>\n",
       "      <td>Animation, Action, Comedy</td>\n",
       "      <td>6.7</td>\n",
       "      <td>False</td>\n",
       "      <td>False</td>\n",
       "    </tr>\n",
       "  </tbody>\n",
       "</table>\n",
       "</div>"
      ],
      "text/plain": [
       "      Year  Duration                        Genre  Rating  \\\n",
       "2833  2001        25    Animation, Action, Comedy     6.9   \n",
       "3386  2001       780  Animation, Adventure, Drama     7.7   \n",
       "1522  2001        23  Animation, Adventure, Drama     8.3   \n",
       "4478  2001        25   Animation, Comedy, Fantasy     7.7   \n",
       "1956  2001        24    Animation, Action, Comedy     6.7   \n",
       "\n",
       "      Genre_Animation, Adventure, Drama  Genre_Animation, Comedy, Fantasy  \n",
       "2833                              False                             False  \n",
       "3386                               True                             False  \n",
       "1522                               True                             False  \n",
       "4478                              False                              True  \n",
       "1956                              False                             False  "
      ]
     },
     "execution_count": 82,
     "metadata": {},
     "output_type": "execute_result"
    }
   ],
   "source": [
    "new_data.head()"
   ]
  },
  {
   "cell_type": "code",
   "execution_count": 83,
   "id": "4654aa83",
   "metadata": {},
   "outputs": [],
   "source": [
    "new_data.drop(\"Genre\", axis = 1, inplace = True)"
   ]
  },
  {
   "cell_type": "code",
   "execution_count": 84,
   "id": "c82a1c8d",
   "metadata": {},
   "outputs": [
    {
     "data": {
      "text/html": [
       "<div>\n",
       "<style scoped>\n",
       "    .dataframe tbody tr th:only-of-type {\n",
       "        vertical-align: middle;\n",
       "    }\n",
       "\n",
       "    .dataframe tbody tr th {\n",
       "        vertical-align: top;\n",
       "    }\n",
       "\n",
       "    .dataframe thead th {\n",
       "        text-align: right;\n",
       "    }\n",
       "</style>\n",
       "<table border=\"1\" class=\"dataframe\">\n",
       "  <thead>\n",
       "    <tr style=\"text-align: right;\">\n",
       "      <th></th>\n",
       "      <th>Year</th>\n",
       "      <th>Duration</th>\n",
       "      <th>Genre_Animation, Adventure, Drama</th>\n",
       "      <th>Genre_Animation, Comedy, Fantasy</th>\n",
       "    </tr>\n",
       "  </thead>\n",
       "  <tbody>\n",
       "    <tr>\n",
       "      <th>2833</th>\n",
       "      <td>2001</td>\n",
       "      <td>25</td>\n",
       "      <td>False</td>\n",
       "      <td>False</td>\n",
       "    </tr>\n",
       "    <tr>\n",
       "      <th>3386</th>\n",
       "      <td>2001</td>\n",
       "      <td>780</td>\n",
       "      <td>True</td>\n",
       "      <td>False</td>\n",
       "    </tr>\n",
       "    <tr>\n",
       "      <th>1522</th>\n",
       "      <td>2001</td>\n",
       "      <td>23</td>\n",
       "      <td>True</td>\n",
       "      <td>False</td>\n",
       "    </tr>\n",
       "    <tr>\n",
       "      <th>4478</th>\n",
       "      <td>2001</td>\n",
       "      <td>25</td>\n",
       "      <td>False</td>\n",
       "      <td>True</td>\n",
       "    </tr>\n",
       "    <tr>\n",
       "      <th>1956</th>\n",
       "      <td>2001</td>\n",
       "      <td>24</td>\n",
       "      <td>False</td>\n",
       "      <td>False</td>\n",
       "    </tr>\n",
       "  </tbody>\n",
       "</table>\n",
       "</div>"
      ],
      "text/plain": [
       "      Year  Duration  Genre_Animation, Adventure, Drama  \\\n",
       "2833  2001        25                              False   \n",
       "3386  2001       780                               True   \n",
       "1522  2001        23                               True   \n",
       "4478  2001        25                              False   \n",
       "1956  2001        24                              False   \n",
       "\n",
       "      Genre_Animation, Comedy, Fantasy  \n",
       "2833                             False  \n",
       "3386                             False  \n",
       "1522                             False  \n",
       "4478                              True  \n",
       "1956                             False  "
      ]
     },
     "execution_count": 84,
     "metadata": {},
     "output_type": "execute_result"
    }
   ],
   "source": [
    "x = new_data.drop(\"Rating\", axis = 1)\n",
    "x.head()"
   ]
  },
  {
   "cell_type": "code",
   "execution_count": 85,
   "id": "846d9f8a",
   "metadata": {},
   "outputs": [
    {
     "data": {
      "text/plain": [
       "2833    6.9\n",
       "3386    7.7\n",
       "1522    8.3\n",
       "4478    7.7\n",
       "1956    6.7\n",
       "       ... \n",
       "1097    7.3\n",
       "1681    7.4\n",
       "1682    6.7\n",
       "665     6.4\n",
       "233     7.2\n",
       "Name: Rating, Length: 251, dtype: float64"
      ]
     },
     "execution_count": 85,
     "metadata": {},
     "output_type": "execute_result"
    }
   ],
   "source": [
    "y = new_data['Rating']\n",
    "y"
   ]
  },
  {
   "cell_type": "markdown",
   "id": "1ea39f9e",
   "metadata": {},
   "source": [
    "## Extracting the ML models for the purpose"
   ]
  },
  {
   "cell_type": "code",
   "execution_count": 95,
   "id": "786b166b",
   "metadata": {},
   "outputs": [],
   "source": [
    "from sklearn.model_selection import train_test_split"
   ]
  },
  {
   "cell_type": "code",
   "execution_count": 96,
   "id": "403eba96",
   "metadata": {},
   "outputs": [],
   "source": [
    "X_train, X_test, y_train, y_test = train_test_split(x, y, test_size = 0.33)"
   ]
  },
  {
   "cell_type": "code",
   "execution_count": 97,
   "id": "d63bad13",
   "metadata": {},
   "outputs": [],
   "source": [
    "def predict(ml_model, dump):\n",
    "    model = ml_model.fit(X_train,y_train)\n",
    "    print('Training score : {}'.format(model.score(X_train,y_train)))\n",
    "    y_prediction = model.predict(X_test)\n",
    "    \n",
    "    print('predictions are: \\n {}'.format(y_prediction))\n",
    "    print('\\n')\n",
    "    \n",
    "    r2_score = metrics.r2_score(y_test,y_prediction)\n",
    "    \n",
    "    print('r2 score: {}'.format(r2_score))\n",
    "    print('Mean Absolute Error:',metrics.mean_absolute_error(y_test,y_prediction))\n",
    "    print('Mean Squared Error:',metrics.mean_squared_error(y_test,y_prediction))\n",
    "    print('Root Mean Squared Error:',np.sqrt(metrics.mean_squared_error(y_test,y_prediction)))\n",
    "    \n",
    "    sns.distplot(y_test-y_prediction)\n",
    "    \n",
    "    if dump==1:\n",
    "        ##dump your model using pickle so that we will re-use\n",
    "        file = open(\"model_1.pkl\",'wb')\n",
    "        pickle.dump(model,file)\n",
    "    "
   ]
  },
  {
   "cell_type": "code",
   "execution_count": 98,
   "id": "5a4ec361",
   "metadata": {},
   "outputs": [],
   "source": [
    "from sklearn import metrics\n",
    "import pickle\n",
    "from sklearn.linear_model import LinearRegression"
   ]
  },
  {
   "cell_type": "code",
   "execution_count": 99,
   "id": "6d3301c9",
   "metadata": {},
   "outputs": [
    {
     "name": "stdout",
     "output_type": "stream",
     "text": [
      "Training score : 0.008018195262750383\n",
      "predictions are: \n",
      " [6.97071246 6.8962579  6.94251496 6.93691231 7.01562813 7.12394442\n",
      " 6.90693261 6.91049084 7.07797422 7.17247374 6.89091747 7.36133115\n",
      " 7.00322049 8.34296071 7.00275505 6.90515041 6.92741016 6.91226688\n",
      " 6.93361629 7.04056656 7.08834975 6.97646291 6.9262376  7.04056656\n",
      " 6.89981614 6.87403663 6.88735308 6.89803394 7.08657371 7.13997803\n",
      " 6.91578817 6.88913528 6.88826957 6.85624546 6.89803394 6.89980998\n",
      " 6.91404292 7.12394442 6.89090516 7.00411851 7.10258269 6.92827586\n",
      " 6.88024277 6.86422763 6.93895673 6.93097456 6.93015043 6.86600983\n",
      " 7.09731    6.85980369 6.8731263  6.99562627 7.00319586 6.91234078\n",
      " 7.03523229 6.91584359 7.92095935 6.8722606  7.06022615 7.01206989\n",
      " 6.93005806 6.87668453 6.92479152 6.8722606  6.88199417 6.8722606\n",
      " 7.04946523 6.85980369 6.94224658 6.90074495 7.20594393 6.8962579\n",
      " 6.92927241 6.93716837 6.8704784  6.8962579  7.13115942 6.91404292\n",
      " 6.88735924 6.93895673 6.92029985 6.90693261 6.90159218]\n",
      "\n",
      "\n",
      "r2 score: -0.06200290210860637\n",
      "Mean Absolute Error: 0.650492754135589\n",
      "Mean Squared Error: 0.6510976538208424\n",
      "Root Mean Squared Error: 0.8069062236845385\n"
     ]
    },
    {
     "name": "stderr",
     "output_type": "stream",
     "text": [
      "C:\\Users\\priya\\AppData\\Local\\Temp\\ipykernel_76736\\725888271.py:16: UserWarning: \n",
      "\n",
      "`distplot` is a deprecated function and will be removed in seaborn v0.14.0.\n",
      "\n",
      "Please adapt your code to use either `displot` (a figure-level function with\n",
      "similar flexibility) or `histplot` (an axes-level function for histograms).\n",
      "\n",
      "For a guide to updating your code to use the new functions, please see\n",
      "https://gist.github.com/mwaskom/de44147ed2974457ad6372750bbe5751\n",
      "\n",
      "  sns.distplot(y_test-y_prediction)\n"
     ]
    },
    {
     "data": {
      "image/png": "[encoded data removed]",
      "text/plain": [
       "<Figure size 640x480 with 1 Axes>"
      ]
     },
     "metadata": {},
     "output_type": "display_data"
    }
   ],
   "source": [
    "predict(LinearRegression(), 0)"
   ]
  },
  {
   "cell_type": "code",
   "execution_count": 100,
   "id": "28b9f3eb",
   "metadata": {},
   "outputs": [],
   "source": [
    "from sklearn.tree import DecisionTreeRegressor\n",
    "from sklearn.ensemble import RandomForestRegressor"
   ]
  },
  {
   "cell_type": "code",
   "execution_count": 101,
   "id": "df687254",
   "metadata": {
    "scrolled": false
   },
   "outputs": [
    {
     "name": "stdout",
     "output_type": "stream",
     "text": [
      "Training score : 0.837377407534279\n",
      "predictions are: \n",
      " [6.4        6.5        6.8        7.7        4.4        7.2\n",
      " 6.3        6.3        8.2        6.7        7.15       6.7\n",
      " 8.6        6.7        6.2        6.25       6.6        6.6\n",
      " 6.9        7.4        6.9        7.4        6.4        7.4\n",
      " 7.15       7.2        5.6        6.86666667 6.9        7.2\n",
      " 6.6        5.6        7.2        5.7        6.86666667 7.2\n",
      " 6.8        7.2        7.8        6.2        6.9        7.5\n",
      " 7.26666667 7.2        6.8        6.8        6.3        8.5\n",
      " 6.3        5.2        6.8        7.7        6.1        6.4\n",
      " 7.4        7.6        6.7        6.1        7.6        4.4\n",
      " 6.9        6.8        6.5        6.1        6.6        6.1\n",
      " 8.2        5.2        7.75       7.6        6.7        6.5\n",
      " 6.8        6.6        6.4        6.5        5.8        6.8\n",
      " 7.65       6.8        6.8        6.3        5.9       ]\n",
      "\n",
      "\n",
      "r2 score: -0.8566820329234082\n",
      "Mean Absolute Error: 0.8845381526104417\n",
      "Mean Squared Error: 1.1383032128514055\n",
      "Root Mean Squared Error: 1.0669129359284222\n"
     ]
    },
    {
     "name": "stderr",
     "output_type": "stream",
     "text": [
      "C:\\Users\\priya\\AppData\\Local\\Temp\\ipykernel_76736\\725888271.py:16: UserWarning: \n",
      "\n",
      "`distplot` is a deprecated function and will be removed in seaborn v0.14.0.\n",
      "\n",
      "Please adapt your code to use either `displot` (a figure-level function with\n",
      "similar flexibility) or `histplot` (an axes-level function for histograms).\n",
      "\n",
      "For a guide to updating your code to use the new functions, please see\n",
      "https://gist.github.com/mwaskom/de44147ed2974457ad6372750bbe5751\n",
      "\n",
      "  sns.distplot(y_test-y_prediction)\n"
     ]
    },
    {
     "data": {
      "image/png": "[encoded data removed]",
      "text/plain": [
       "<Figure size 640x480 with 1 Axes>"
      ]
     },
     "metadata": {},
     "output_type": "display_data"
    }
   ],
   "source": [
    "predict(DecisionTreeRegressor(), 1)"
   ]
  },
  {
   "cell_type": "code",
   "execution_count": 102,
   "id": "a23f1026",
   "metadata": {},
   "outputs": [],
   "source": [
    "def predict(ml_model, dump):\n",
    "    model = ml_model.fit(X_train,y_train)\n",
    "    print('Training score : {}'.format(model.score(X_train,y_train)))\n",
    "    y_prediction = model.predict(X_test)\n",
    "    \n",
    "    print('predictions are: \\n {}'.format(y_prediction))\n",
    "    print('\\n')\n",
    "    \n",
    "    r2_score = metrics.r2_score(y_test,y_prediction)\n",
    "    \n",
    "    print('r2 score: {}'.format(r2_score))\n",
    "    print('Mean Absolute Error:',metrics.mean_absolute_error(y_test,y_prediction))\n",
    "    print('Mean Squared Error:',metrics.mean_squared_error(y_test,y_prediction))\n",
    "    print('Root Mean Squared Error:',np.sqrt(metrics.mean_squared_error(y_test,y_prediction)))\n",
    "    \n",
    "    sns.distplot(y_test-y_prediction)\n",
    "    \n",
    "    if dump==1:\n",
    "        ##dump your model using pickle so that we will re-use\n",
    "        file = open(\"model_2.pkl\",'wb')\n",
    "        pickle.dump(model,file)\n",
    "    "
   ]
  },
  {
   "cell_type": "code",
   "execution_count": 103,
   "id": "ab20a09c",
   "metadata": {
    "scrolled": false
   },
   "outputs": [
    {
     "name": "stdout",
     "output_type": "stream",
     "text": [
      "Training score : 0.7014787319074895\n",
      "predictions are: \n",
      " [6.79627857 7.07365    7.255      7.28878333 6.25528571 7.166\n",
      " 6.34026429 6.64404524 7.682      6.819      7.12258333 6.811\n",
      " 6.682      6.905      7.111      6.30321667 7.07566667 6.61749802\n",
      " 6.783      7.43       6.786      6.8925     6.9328     7.43\n",
      " 7.15653333 7.17896667 6.67886667 6.86196786 6.624      7.236\n",
      " 6.871      5.93486667 6.95998333 6.13768333 6.86196786 6.91148333\n",
      " 6.95079524 7.166      7.54003571 6.96283333 6.85       7.11783333\n",
      " 7.25521429 7.02968333 7.225      7.26978571 6.63958333 8.01724762\n",
      " 6.80966667 6.20083333 7.19733333 7.425      6.9015     7.12313333\n",
      " 6.68928571 6.95225    6.998      6.38680476 7.7445     6.641\n",
      " 6.83625    6.9423     6.61515    6.38680476 7.80403571 6.38680476\n",
      " 7.738      6.20083333 7.75476429 6.85033333 6.691      7.07365\n",
      " 6.93323333 6.898      6.44496667 7.07365    6.82       6.95079524\n",
      " 7.73819286 7.225      7.17778571 6.34026429 6.14921667]\n",
      "\n",
      "\n",
      "r2 score: -0.2315192186393238\n",
      "Mean Absolute Error: 0.7296671208644108\n",
      "Mean Squared Error: 0.7550255016246089\n",
      "Root Mean Squared Error: 0.8689220342611924\n"
     ]
    },
    {
     "name": "stderr",
     "output_type": "stream",
     "text": [
      "C:\\Users\\priya\\AppData\\Local\\Temp\\ipykernel_76736\\787181375.py:16: UserWarning: \n",
      "\n",
      "`distplot` is a deprecated function and will be removed in seaborn v0.14.0.\n",
      "\n",
      "Please adapt your code to use either `displot` (a figure-level function with\n",
      "similar flexibility) or `histplot` (an axes-level function for histograms).\n",
      "\n",
      "For a guide to updating your code to use the new functions, please see\n",
      "https://gist.github.com/mwaskom/de44147ed2974457ad6372750bbe5751\n",
      "\n",
      "  sns.distplot(y_test-y_prediction)\n"
     ]
    },
    {
     "data": {
      "image/png": "[encoded data removed]",
      "text/plain": [
       "<Figure size 640x480 with 1 Axes>"
      ]
     },
     "metadata": {},
     "output_type": "display_data"
    }
   ],
   "source": [
    "predict(RandomForestRegressor(), 1)"
   ]
  },
  {
   "cell_type": "markdown",
   "id": "72503704",
   "metadata": {},
   "source": [
    "## Conclusion\n",
    "### We tried to implement three model on our analyzed data. \n",
    "#### 1. Linear Regression\n",
    "#### 2. Decision Tree Regressor\n",
    "#### 3. Random Forest Regressor\n",
    "\n",
    "### This was a continuous data thus, we applied the Regression Algorithms for this purpose.\n",
    "### The training paramter was \"Rating\": This depicts the Anime ratings on scale of 10. We trained and tested our model with two random types of Anime Genres: \n",
    "#### 1. Animation, Adventure, Drama\n",
    "#### 2. Animation, Comedy, Fantasy\n",
    "## Results say that:\n",
    "### 1. Linear Regression and Random Forest Algorithms show a very low training score and a high error values and due to which they are not the best fit models. The predictions of <u>Ratings</u> based on those models is also very low for the future years.\n",
    "### 2. The Decision Tree on the other hand makes a very good predictions of ratings and we can say that the type of Animes we selected can catch more attention of audiences in the coming years. The evaluation metrics are stable and error results are very low this makes it fit to create a good predictive analysis example."
   ]
  }
 ],
 "metadata": {
  "kernelspec": {
   "display_name": "Python 3 (ipykernel)",
   "language": "python",
   "name": "python3"
  },
  "language_info": {
   "codemirror_mode": {
    "name": "ipython",
    "version": 3
   },
   "file_extension": ".py",
   "mimetype": "text/x-python",
   "name": "python",
   "nbconvert_exporter": "python",
   "pygments_lexer": "ipython3",
   "version": "3.12.3"
  }
 },
 "nbformat": 4,
 "nbformat_minor": 5
}
