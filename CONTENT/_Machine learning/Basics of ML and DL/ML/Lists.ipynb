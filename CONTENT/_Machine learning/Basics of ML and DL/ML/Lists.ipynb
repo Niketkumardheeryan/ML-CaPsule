{
 "cells": [
  {
   "cell_type": "code",
   "execution_count": 2,
   "metadata": {},
   "outputs": [
    {
     "name": "stdout",
     "output_type": "stream",
     "text": [
      "<class 'list'>\n",
      "<class 'list'>\n",
      "<class 'list'>\n",
      "[]\n",
      "<class 'list'>\n",
      "<class 'list'>\n",
      "[1, 2, 3]\n",
      "['a', 'b', 'c', '1', '2', '3']\n"
     ]
    }
   ],
   "source": [
    "# lists are mutable\n",
    "# lists are like arrays in java except it can store any datatype\n",
    "\n",
    "l1 = []\n",
    "print(type(l1))\n",
    "\n",
    "l2 = [1,2,3]\n",
    "print(type(l2))\n",
    "\n",
    "l3 = [1, 2.34, \"aaa\", True]\n",
    "print(type(l3))\n",
    "\n",
    "l4 = list()\n",
    "print(l4)\n",
    "print(type(l4))\n",
    "\n",
    "l5 = list(l2)\n",
    "print(type(l5))\n",
    "print(l5)\n",
    "\n",
    "l6 = list(\"abc123\")\n",
    "print(l6)"
   ]
  },
  {
   "cell_type": "code",
   "execution_count": 12,
   "metadata": {},
   "outputs": [
    {
     "name": "stdout",
     "output_type": "stream",
     "text": [
      "[0, 1, 4, 9, 16, 25, 36, 49, 64, 81]\n",
      "<class 'list'>\n"
     ]
    }
   ],
   "source": [
    "# another way of creating a list\n",
    "\n",
    "l = [i*i for i in range (10)]\n",
    "print(l)\n",
    "print(type(l))"
   ]
  },
  {
   "cell_type": "code",
   "execution_count": 17,
   "metadata": {},
   "outputs": [
    {
     "name": "stdout",
     "output_type": "stream",
     "text": [
      "[1, 2.34, 'aaa', True]\n",
      "[1, 2.34, 'aaa', True]\n",
      "1\n",
      "[1, 'aaa']\n",
      "[1, 2.34]\n",
      "True\n",
      "1\n",
      "[1, 2.34]\n",
      "[]\n"
     ]
    }
   ],
   "source": [
    "# accessing data from the list\n",
    "\n",
    "print(l3)\n",
    "print(l3[:])\n",
    "print(l3[0])\n",
    "print(l3[0:3:2])\n",
    "print(l3[:2])\n",
    "print(l3[-1])\n",
    "print(l3[-4])\n",
    "print(l3[-4:-2])\n",
    "print(l3[-2:-4])"
   ]
  },
  {
   "cell_type": "code",
   "execution_count": 19,
   "metadata": {},
   "outputs": [
    {
     "data": {
      "text/plain": [
       "4"
      ]
     },
     "execution_count": 19,
     "metadata": {},
     "output_type": "execute_result"
    }
   ],
   "source": [
    "len(l3)"
   ]
  },
  {
   "cell_type": "code",
   "execution_count": 20,
   "metadata": {},
   "outputs": [
    {
     "name": "stdout",
     "output_type": "stream",
     "text": [
      "1\n",
      "2.34\n",
      "aaa\n",
      "True\n"
     ]
    }
   ],
   "source": [
    "for i in l3:\n",
    "    print(i)"
   ]
  },
  {
   "cell_type": "code",
   "execution_count": 28,
   "metadata": {},
   "outputs": [
    {
     "name": "stdout",
     "output_type": "stream",
     "text": [
      "['1', '2', '3', '4', '5']\n",
      "['', 'p', 'q', 'r', 's', 't', '']\n",
      "['p', 'q', 'r', 's', 't']\n",
      "[1, 2, 3, 4, 5]\n"
     ]
    }
   ],
   "source": [
    "# very important\n",
    "\n",
    "str1 = \"a b c d e\"\n",
    "l1 = str.split(\" \")  # split(\"delimiter\") divide the string according to delimiter and convert it into list \n",
    "print(l1) # but lists mai bhi characetrs honge\n",
    "\n",
    "str2 = \" p q r s t \"\n",
    "l2 = str2.split(\" \") # since p ke pehle and t ke baad extra space thi so list mai empty string bhi aa gyi \n",
    "print(l2)\n",
    "\n",
    "str3 = str2.strip()\n",
    "l3 = str3.split(\" \")\n",
    "print(l3)\n",
    "\n",
    "\n",
    "# to convert the strings inside list into integers (detailed method)\n",
    "\n",
    "str = \"   1 2 3 4 5  \"      # step 1: take input\n",
    "str = str.strip()           # step 2: remove extra spaces at the beginning and at the end\n",
    "l = str.split(\" \")          # step 3: convert the string into list\n",
    "for i in range(0,len(l)):   # step 4: typecast each element of the list from string to int\n",
    "    l[i] = int(l[i])\n",
    "print(l)"
   ]
  },
  {
   "cell_type": "code",
   "execution_count": 31,
   "metadata": {},
   "outputs": [
    {
     "name": "stdout",
     "output_type": "stream",
     "text": [
      "   1 2 3 4 5   \n",
      "[1, 2, 3, 4, 5]\n"
     ]
    }
   ],
   "source": [
    "# to convert the strings inside list into integers (shortcut method)\n",
    "\n",
    "str = input()\n",
    "l = [int(i) for i in str.strip().split(\" \")]\n",
    "print(l)"
   ]
  },
  {
   "cell_type": "code",
   "execution_count": 16,
   "metadata": {},
   "outputs": [
    {
     "name": "stdout",
     "output_type": "stream",
     "text": [
      "[1, True, 2.34, 5]\n",
      "[1, True, '@', 2.34, 5]\n",
      "[1, True, '@', 2.34, 5, 6, 7, 8]\n",
      "None\n"
     ]
    }
   ],
   "source": [
    "# 3 ways to add elements in a list\n",
    "\n",
    "l = [1, True, 2.34]\n",
    "\n",
    "l.append(5)\n",
    "print(l)\n",
    "\n",
    "l.insert(2,'@')\n",
    "print(l)\n",
    "\n",
    "l2 = [6,7,8]\n",
    "l.extend(l2) # l mai hi change kr dega\n",
    "print(l)\n",
    "\n",
    "l1 = l.clear()\n",
    "print(l1)"
   ]
  },
  {
   "cell_type": "code",
   "execution_count": 25,
   "metadata": {},
   "outputs": [
    {
     "name": "stdout",
     "output_type": "stream",
     "text": [
      "[1, True, '@', 2.34, 5, 6, 7, 8]\n",
      "7\n",
      "[1, True, '@', 2.34, 5, 6]\n",
      "[1, '@', 2.34, 5, 6]\n",
      "[1, '@', 5, 6]\n",
      "[1, 5, 6]\n"
     ]
    }
   ],
   "source": [
    "# 3 ways to delete elements from a list\n",
    "\n",
    "l = [1, True, '@', 2.34, 5, 6, 7, 8]\n",
    "print(l)\n",
    "\n",
    "l.pop()   # without argument it is going to remove last element of the list\n",
    "print(l.pop())\n",
    "print(l)\n",
    "\n",
    "l.pop(1)  # removes the element at index 1\n",
    "print(l)\n",
    "\n",
    "l.remove(2.34)  # directly remove the first occurenve of the element\n",
    "print(l)\n",
    "\n",
    "del(l[1])  # removes one index or complete slice\n",
    "print(l)\n"
   ]
  },
  {
   "cell_type": "code",
   "execution_count": 59,
   "metadata": {},
   "outputs": [
    {
     "name": "stdout",
     "output_type": "stream",
     "text": [
      "[1, 2, 3, 4]\n",
      "[1, 2, 3, 4, 1, 2, 3, 4]\n"
     ]
    }
   ],
   "source": [
    "# addition of list with integers is not ok\n",
    "# multiplication of list with integers is fine\n",
    "\n",
    "l = [1,2,3,4]\n",
    "l1 = l*2  # note: it will not change the original list\n",
    "print(l)\n",
    "print(l1)"
   ]
  },
  {
   "cell_type": "code",
   "execution_count": 64,
   "metadata": {},
   "outputs": [
    {
     "name": "stdout",
     "output_type": "stream",
     "text": [
      "3\n",
      "7\n",
      "[0, 1, 1, 2, 2, 2, 3, 4, 5, 6, 7, 7, 7, 9]\n",
      "[9, 7, 7, 7, 6, 5, 4, 3, 2, 2, 2, 1, 1, 0]\n"
     ]
    }
   ],
   "source": [
    "l = [5,6,7,7,9,0,1,2,3,4,2,1,2,7]\n",
    "\n",
    "print(l.count(7))  # count the no. of occurence of the element 7\n",
    "print(l.index(2))  # returns the index of the first occuence of that element\n",
    "\n",
    "l.sort()\n",
    "print(l)\n",
    "\n",
    "l.reverse()\n",
    "print(l)"
   ]
  },
  {
   "cell_type": "code",
   "execution_count": 65,
   "metadata": {},
   "outputs": [
    {
     "name": "stdout",
     "output_type": "stream",
     "text": [
      "found\n"
     ]
    }
   ],
   "source": [
    "# searching in list\n",
    "\n",
    "if 7 in l:\n",
    "    print(\"found\")\n",
    "else:\n",
    "    print(\"not\")"
   ]
  },
  {
   "cell_type": "code",
   "execution_count": 66,
   "metadata": {},
   "outputs": [
    {
     "name": "stdout",
     "output_type": "stream",
     "text": [
      "9\n",
      "0\n"
     ]
    }
   ],
   "source": [
    "print(max(l))\n",
    "print(min(l))"
   ]
  },
  {
   "cell_type": "code",
   "execution_count": 3,
   "metadata": {},
   "outputs": [
    {
     "name": "stdout",
     "output_type": "stream",
     "text": [
      "0 1 2 4 5 6 9 "
     ]
    }
   ],
   "source": [
    "# Bubble Sort\n",
    "\n",
    "l = [5,6,1,9,0,2,4]\n",
    "n = len(l)\n",
    "for i in range(1,n):\n",
    "    for j in range(0,n-i):\n",
    "        if(l[j]>l[j+1]):\n",
    "            l[j+1], l[j] = l[j], l[j+1]\n",
    "for i in l:\n",
    "    print(i,end=\" \")"
   ]
  },
  {
   "cell_type": "code",
   "execution_count": 4,
   "metadata": {},
   "outputs": [
    {
     "name": "stdout",
     "output_type": "stream",
     "text": [
      "0 1 2 4 5 6 9 "
     ]
    }
   ],
   "source": [
    "# Selection Sort\n",
    "\n",
    "l = [5,6,1,9,0,2,4]\n",
    "n = len(l)\n",
    "for i in range(0,n-1):\n",
    "    for j in range(i+1,n):\n",
    "        if(l[i]>l[j]):\n",
    "            l[i], l[j] = l[j], l[i]\n",
    "for i in l:\n",
    "    print(i,end=\" \")"
   ]
  },
  {
   "cell_type": "code",
   "execution_count": 5,
   "metadata": {},
   "outputs": [
    {
     "data": {
      "text/plain": [
       "2"
      ]
     },
     "execution_count": 5,
     "metadata": {},
     "output_type": "execute_result"
    }
   ],
   "source": [
    "# Array Equilibrium Index\n",
    "\n",
    "def arrayEquilibriumIndex(arr, n) :\n",
    "    for i in range(1,n-1):\n",
    "        sumj = 0\n",
    "        for j in range(0,i):\n",
    "            sumj = sumj + arr[j]\n",
    "        sumk=0\n",
    "        for k in range(i+1,n):\n",
    "            sumk = sumk + arr[k]\n",
    "        if(sumj==sumk):\n",
    "            return i\n",
    "    return -1\n",
    "\n",
    "arr = [2, 3, 10, -10, 4, 2, 9]\n",
    "n = len(arr)\n",
    "arrayEquilibriumIndex(arr,n)"
   ]
  },
  {
   "cell_type": "code",
   "execution_count": 8,
   "metadata": {},
   "outputs": [
    {
     "data": {
      "text/plain": [
       "2"
      ]
     },
     "execution_count": 8,
     "metadata": {},
     "output_type": "execute_result"
    }
   ],
   "source": [
    "# best approach for the above problem\n",
    "\n",
    "def arrayEquilibriumIndex(arr, n): \n",
    "  \n",
    "    # finding the sum of whole array \n",
    "    total_sum = sum(arr) \n",
    "    leftsum = 0\n",
    "    for i, num in enumerate(arr): \n",
    "          \n",
    "        # total_sum is now right sum \n",
    "        # for index i \n",
    "        total_sum -= num \n",
    "          \n",
    "        if leftsum == total_sum: \n",
    "            return i \n",
    "        leftsum += num \n",
    "       \n",
    "      # If no equilibrium index found,  \n",
    "      # then return -1 \n",
    "    return -1\n",
    "\n",
    "arr = [2, 3, 10, -10, 4, 2, 9]\n",
    "n = len(arr)\n",
    "arrayEquilibriumIndex(arr,n)"
   ]
  },
  {
   "cell_type": "code",
   "execution_count": 20,
   "metadata": {},
   "outputs": [
    {
     "name": "stdout",
     "output_type": "stream",
     "text": [
      "hello, i am suryansh\n",
      ",olleh i ma hsnayrus\n"
     ]
    }
   ],
   "source": [
    "# reverse every word\n",
    "\n",
    "def reverseEachWord(string) :\n",
    "    str = \" \"\n",
    "    l = string.strip().split(\" \")\n",
    "    for i in range(0,len(l)):\n",
    "        l[i] = l[i][::-1]\n",
    "    str = str.join(l)\n",
    "    return str\n",
    "    \n",
    "string = input()\n",
    "ans = reverseEachWord(string)\n",
    "print(ans)"
   ]
  },
  {
   "cell_type": "code",
   "execution_count": 27,
   "metadata": {},
   "outputs": [
    {
     "name": "stdout",
     "output_type": "stream",
     "text": [
      "hi i am sam\n",
      "sam am i hi\n"
     ]
    }
   ],
   "source": [
    "# reverse a string word wise\n",
    "s = input()\n",
    "l = s.strip().split(\" \")\n",
    "l = reversed(l)\n",
    "st = \" \"\n",
    "st = st.join(l)\n",
    "print(st)"
   ]
  },
  {
   "cell_type": "code",
   "execution_count": 5,
   "metadata": {},
   "outputs": [
    {
     "name": "stdout",
     "output_type": "stream",
     "text": [
      "[1, 2, 3, 4]\n",
      "[]\n"
     ]
    }
   ],
   "source": [
    "l1 = [1,2,3,4]\n",
    "l2 = l1.copy()\n",
    "print(l2)\n",
    "\n",
    "l1.clear()\n",
    "print(l1)\n",
    "\n",
    "del(l1)"
   ]
  },
  {
   "cell_type": "code",
   "execution_count": 6,
   "metadata": {},
   "outputs": [
    {
     "name": "stdout",
     "output_type": "stream",
     "text": [
      "[[1, 2, 3], [4, 5, 6]]\n",
      "[4, 5, 6]\n",
      "3\n"
     ]
    }
   ],
   "source": [
    "# 2D lists\n",
    "\n",
    "l = [[1,2,3], [4,5,6]]\n",
    "print(l)\n",
    "print(l[1])\n",
    "print(l[0][2])"
   ]
  },
  {
   "cell_type": "code",
   "execution_count": 11,
   "metadata": {},
   "outputs": [
    {
     "name": "stdout",
     "output_type": "stream",
     "text": [
      "[0, 1, 2, 3, 4, 5, 6, 7, 8, 9]\n",
      "[[0, 0, 0], [0, 0, 0], [0, 0, 0], [0, 0, 0], [0, 0, 0], [0, 0, 0], [0, 0, 0], [0, 0, 0], [0, 0, 0], [0, 0, 0]]\n",
      "[[0, 1, 2, 3, 4], [0, 1, 2, 3, 4], [0, 1, 2, 3, 4], [0, 1, 2, 3, 4], [0, 1, 2, 3, 4], [0, 1, 2, 3, 4], [0, 1, 2, 3, 4], [0, 1, 2, 3, 4], [0, 1, 2, 3, 4], [0, 1, 2, 3, 4]]\n",
      "[[0, 1, 2, 3, 4], [5, 6, 7, 8, 9], [10, 11, 12, 13, 14], [15, 16, 17, 18, 19], [20, 21, 22, 23, 24], [25, 26, 27, 28, 29], [30, 31, 32, 33, 34], [35, 36, 37, 38, 39], [40, 41, 42, 43, 44], [45, 46, 47, 48, 49]]\n"
     ]
    }
   ],
   "source": [
    "# how to create 2D arrays/lists\n",
    "\n",
    "l1 = [i for i in range(10)]\n",
    "print(l1)\n",
    "\n",
    "l2 = [[0, 0, 0] for i in range(10)]\n",
    "print(l2)\n",
    "\n",
    "l3 = [[j for j in range(5)] for i in range(10)]\n",
    "print(l3)\n",
    "\n",
    "l4 = [[5*i+j for j in range(5)] for i in range(10)]\n",
    "print(l4)"
   ]
  },
  {
   "cell_type": "code",
   "execution_count": 14,
   "metadata": {},
   "outputs": [
    {
     "name": "stdout",
     "output_type": "stream",
     "text": [
      "1\n",
      "2\n",
      "3\n",
      "4\n",
      "5\n",
      "6\n",
      "7\n",
      "8\n",
      "9\n",
      "10\n",
      "11\n",
      "12\n",
      "[[1, 2, 3, 4], [5, 6, 7, 8], [9, 10, 11, 12]]\n"
     ]
    }
   ],
   "source": [
    "# how to take input in 2D array\n",
    "\n",
    "# 1st way by pressing enter\n",
    "\n",
    "l = [[int(input()) for j in range(4)] for i in range(3)]\n",
    "print(l)"
   ]
  },
  {
   "cell_type": "code",
   "execution_count": 2,
   "metadata": {},
   "outputs": [
    {
     "name": "stdout",
     "output_type": "stream",
     "text": [
      "enter row and column3 4\n",
      "enter numbers1 2 3 4 5 6 7 8 9 10 11 12\n",
      "[[1, 2, 3, 4], [5, 6, 7, 8], [9, 10, 11, 12]]\n"
     ]
    }
   ],
   "source": [
    "# 2nd way by pressing space (long method)\n",
    "\n",
    "row, col = [int(i) for i in input(\"enter row and column\").strip().split(\" \")]\n",
    "\n",
    "l = [int(i) for i in input(\"enter numbers\").strip().split(\" \")]\n",
    "\n",
    "out = []\n",
    "\n",
    "for i in range(row):\n",
    "    out.append([])\n",
    "    for j in range(col):\n",
    "        out[i].append(l[col*i + j])\n",
    "print(out)"
   ]
  },
  {
   "cell_type": "code",
   "execution_count": 5,
   "metadata": {},
   "outputs": [
    {
     "name": "stdout",
     "output_type": "stream",
     "text": [
      "enter row and column2 3\n",
      "enter numbers1 2 3 4 5 6\n"
     ]
    },
    {
     "data": {
      "text/plain": [
       "[[1, 2, 3], [4, 5, 6]]"
      ]
     },
     "execution_count": 5,
     "metadata": {},
     "output_type": "execute_result"
    }
   ],
   "source": [
    "# 2nd way (short method)\n",
    "\n",
    "row, col = [int(i) for i in input(\"enter row and column\").strip().split(\" \")]\n",
    "\n",
    "l = [int(i) for i in input(\"enter numbers\").strip().split(\" \")]\n",
    "\n",
    "out = [[l[col*i + j] for j in range(col)] for i in range(row)]\n",
    "\n",
    "out"
   ]
  },
  {
   "cell_type": "code",
   "execution_count": 7,
   "metadata": {},
   "outputs": [
    {
     "name": "stdout",
     "output_type": "stream",
     "text": [
      "1 4 7 8 5 2 3 6 9 "
     ]
    }
   ],
   "source": [
    "# wave print\n",
    "\n",
    "l = [[1,2,3],[4,5,6],[7,8,9]]\n",
    "row = len(l)\n",
    "col = len(l[0])\n",
    "for j in range(col):\n",
    "    if(j%2==0):\n",
    "        for i in range(row):\n",
    "            print(l[i][j], end=\" \")\n",
    "    else:\n",
    "        for i in range(row-1,-1,-1):\n",
    "            print(l[i][j], end=\" \")"
   ]
  },
  {
   "cell_type": "code",
   "execution_count": 14,
   "metadata": {},
   "outputs": [
    {
     "name": "stdout",
     "output_type": "stream",
     "text": [
      "row 0 2\n"
     ]
    }
   ],
   "source": [
    "# largest row or column\n",
    "\n",
    "def findLargest(arr, nRows, mCols):\n",
    "    \n",
    "    maxRow=[]\n",
    "    maxCol=[]\n",
    "\n",
    "    for i in range(nRows):\n",
    "        k = sum(arr[i])\n",
    "        maxRow.append(k)\n",
    "        \n",
    "    for j in range(mCols):\n",
    "        s=0\n",
    "        for i in range(nRows):\n",
    "            s=s+arr[i][j]\n",
    "        maxCol.append(s)\n",
    "        \n",
    "    if maxRow==[]:\n",
    "        print(\"row 0 -2147483648\")\n",
    "    else:\n",
    "        rMax=max(maxRow)\n",
    "        cMax=max(maxCol)\n",
    "    \n",
    "        if(cMax>rMax):\n",
    "            print(\"column\",maxCol.index(cMax),cMax)        \n",
    "        elif(rMax>=cMax):\n",
    "            print(\"row\",maxRow.index(rMax),rMax)\n",
    "\n",
    "arr = [[1,1],[1,1]]\n",
    "findLargest(arr,2,2)"
   ]
  },
  {
   "cell_type": "code",
   "execution_count": 12,
   "metadata": {},
   "outputs": [
    {
     "name": "stdout",
     "output_type": "stream",
     "text": [
      "1 2 3 4 8 12 16 15 14 13 9 5 6 7 11 10 "
     ]
    }
   ],
   "source": [
    "# spiral print\n",
    "\n",
    "def spiralPrint(m, n, a): \n",
    "    k = 0\n",
    "    l = 0\n",
    "\n",
    "    ''' k - starting row index \n",
    "        m - ending row index \n",
    "        l - starting column index \n",
    "        n - ending column index \n",
    "        i - iterator '''\n",
    "\n",
    "    while (k < m and l < n): \n",
    "\n",
    "        # Print the first row from \n",
    "        # the remaining rows \n",
    "        for i in range(l, n): \n",
    "            print(a[k][i], end=\" \") \n",
    "\n",
    "        k += 1\n",
    "\n",
    "        # Print the last column from \n",
    "        # the remaining columns \n",
    "        for i in range(k, m): \n",
    "            print(a[i][n - 1], end=\" \") \n",
    "\n",
    "        n -= 1\n",
    "\n",
    "        # Print the last row from \n",
    "        # the remaining rows \n",
    "        if (k < m): \n",
    "\n",
    "            for i in range(n - 1, (l - 1), -1): \n",
    "                print(a[m - 1][i], end=\" \") \n",
    "\n",
    "            m -= 1\n",
    "\n",
    "        # Print the first column from \n",
    "        # the remaining columns \n",
    "        if (l < n): \n",
    "            for i in range(m - 1, k - 1, -1): \n",
    "                print(a[i][l], end=\" \") \n",
    "\n",
    "            l += 1\n",
    "\n",
    "            \n",
    "m = 4\n",
    "n = 4\n",
    "a = [[1, 2, 3, 4], [5, 6, 7, 8], [9, 10, 11, 12], [13, 14, 15, 16]]\n",
    "spiralPrint(m,n,a)"
   ]
  },
  {
   "cell_type": "code",
   "execution_count": 3,
   "metadata": {},
   "outputs": [
    {
     "name": "stdout",
     "output_type": "stream",
     "text": [
      "6\n",
      "3 12 34 2 0 -1\n",
      "34 2 0 -1 "
     ]
    }
   ],
   "source": [
    "# leaders in array\n",
    "n = int(input())\n",
    "A = [ int(i) for i in input().strip().split(\" \") ]\n",
    "for i in range(0,n):\n",
    "    flag = True\n",
    "    for j in range(i+1, n):\n",
    "        if A[j] > A[i]:\n",
    "            flag = False\n",
    "            break\n",
    "    if flag:\n",
    "        print(A[i], end=\" \")\n",
    "        "
   ]
  },
  {
   "cell_type": "code",
   "execution_count": 1,
   "metadata": {},
   "outputs": [
    {
     "name": "stdout",
     "output_type": "stream",
     "text": [
      "6\n",
      "1 5 10 15 20 25\n",
      "5\n",
      "2 4 5 9 15\n",
      "81\n"
     ]
    }
   ],
   "source": [
    "# max path sum\n",
    "\n",
    "def maxPathSum(ar1,ar2 , m , n): \n",
    "    i, j = 0, 0\n",
    "    result, sum1, sum2= 0, 0, 0\n",
    "    while (i < m and j < n): \n",
    "        if ar1[i] < ar2[j]: \n",
    "            sum1 += ar1[i] \n",
    "            i+=1    \n",
    "        elif ar1[i] > ar2[j]: \n",
    "            sum2 += ar2[j] \n",
    "            j+=1\n",
    "          \n",
    "        else:\n",
    "            result+= max(sum1,sum2)  \n",
    "            sum1, sum2 = 0, 0\n",
    "            while (i < m and j < n and ar1[i]==ar2[j]): \n",
    "                result += ar1[i] \n",
    "                i+=1\n",
    "                j+=1\n",
    "    while i < m: \n",
    "        sum1 += ar1[i] \n",
    "        i+=1\n",
    "    while j < n: \n",
    "        sum2 += ar2[j] \n",
    "        j+=1\n",
    "    result += max(sum1,sum2) \n",
    "      \n",
    "    return result \n",
    "  \n",
    "a=int(input())\n",
    "ar1=[int(i) for i in input().strip().split()]\n",
    "b=int(input())\n",
    "ar2=[int(i) for i in input().strip().split()]\n",
    "m = len(ar1) \n",
    "n = len(ar2) \n",
    "print (maxPathSum(ar1, ar2, m, n))"
   ]
  }
 ],
 "metadata": {
  "kernelspec": {
   "display_name": "Python 3",
   "language": "python",
   "name": "python3"
  },
  "language_info": {
   "codemirror_mode": {
    "name": "ipython",
    "version": 3
   },
   "file_extension": ".py",
   "mimetype": "text/x-python",
   "name": "python",
   "nbconvert_exporter": "python",
   "pygments_lexer": "ipython3",
   "version": "3.8.5"
  }
 },
 "nbformat": 4,
 "nbformat_minor": 4
}
