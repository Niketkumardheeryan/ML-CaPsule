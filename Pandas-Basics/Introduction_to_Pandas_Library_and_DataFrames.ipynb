{
 "cells": [
  {
   "cell_type": "markdown",
   "id": "a5d993f5-d176-4035-a178-69fe41e2173c",
   "metadata": {},
   "source": [
    "# Introduction_to_Pandas_Library_and_DataFrames"
   ]
  },
  {
   "cell_type": "markdown",
   "id": "53f8f643-5ab2-4ae3-bb98-7f4d9cb3e7cb",
   "metadata": {},
   "source": [
    "**As you have learnt Python Programming , now it's time for some applications.**\n",
    "\n",
    "- Machine Learning and Data Science is the emerging field of today's time , to work in this this field your first step should be `Data Science` as Machine Learning is all about data.\n",
    "- To begin with Data Science your first tool will be `Pandas Library`."
   ]
  },
  {
   "cell_type": "markdown",
   "id": "70cce10c-591f-4298-9646-6253ada41054",
   "metadata": {},
   "source": [
    "## Introduction of Pandas Library\n",
    "\n",
    "Pandas is a data analysis and manipulation tool, built on top of the python programming language. Pandas got its name from the term Panel data (‘Pa’ from Panel and ‘da’ from data). Panel data is a data which have rows and columns in it like excel spreadsheets, csv files etc.\n",
    "\n",
    "**To use Pandas, first we’ve to import it.**\n",
    "\n",
    "## Why pandas?\n",
    "\n",
    "* Pandas provides a simple-to-use but very capable set of functions that you can use on your data.\n",
    "* It is  also associate with other machine learning libraries , so it is important to learn it.\n",
    "\n",
    "* For example - It is highly used to transform tha data which will be use by machine learning model during the training."
   ]
  },
  {
   "cell_type": "code",
   "execution_count": 1,
   "id": "79a1867f-2bb8-44ac-9a45-a7e2c9968cb1",
   "metadata": {},
   "outputs": [],
   "source": [
    "# Importing the pandas\n",
    "import pandas as pd"
   ]
  },
  {
   "cell_type": "markdown",
   "id": "24e522e9-7f9d-490a-b679-60998564fe21",
   "metadata": {},
   "source": [
    "*To import any module in Python use “import 'module name' ” command, I used “pd” as pandas abbreviation because we don’t need to type pandas every time only type “pd” to use pandas.*"
   ]
  },
  {
   "cell_type": "code",
   "execution_count": 5,
   "id": "cbbb5d7c-1016-4c20-bd60-7611e415de4b",
   "metadata": {},
   "outputs": [
    {
     "name": "stdout",
     "output_type": "stream",
     "text": [
      "Pandas Version is : 2.1.4\n"
     ]
    }
   ],
   "source": [
    "# To check available pandas version\n",
    "print(f\"Pandas Version is : {pd.__version__}\")"
   ]
  },
  {
   "cell_type": "markdown",
   "id": "661e8e60-612e-49e5-b8c9-10e9c17d3f3a",
   "metadata": {},
   "source": [
    "## Understanding Pandas data types\n",
    "\n",
    "Pandas has two main data types : `Series` and `DataFrames`\n",
    "\n",
    "* `pandas.Series` is a 1-dimensional column of data.\n",
    "* `pandas.DataFrames` is 2 -dimensional data table having rows and columns."
   ]
  },
  {
   "cell_type": "markdown",
   "id": "ef4fea67-f617-4d9a-bc57-1d8c2837cd60",
   "metadata": {},
   "source": [
    "### 1. Series datatype\n",
    "\n",
    "**To creeate a series you can use `pd.Series()` and passing a python list inside()**.\n",
    "\n",
    "Note: S in Series is capital if you use small s it will give you an error.\n",
    "\n",
    "> Let's create a series\n"
   ]
  },
  {
   "cell_type": "code",
   "execution_count": 23,
   "id": "0cd7176e-6b7b-49b6-824f-1983b96cc354",
   "metadata": {},
   "outputs": [
    {
     "data": {
      "text/plain": [
       "0    Honda\n",
       "1     Audi\n",
       "2     Thar\n",
       "3      BMW\n",
       "dtype: object"
      ]
     },
     "execution_count": 23,
     "metadata": {},
     "output_type": "execute_result"
    }
   ],
   "source": [
    "# Creating a series of car companies\n",
    "cars = pd.Series([\"Honda\",\"Audi\",\"Thar\",\"BMW\"])\n",
    "cars"
   ]
  },
  {
   "cell_type": "markdown",
   "id": "1c8ac0d6-6d25-448e-8a43-653dd6ecaed3",
   "metadata": {},
   "source": [
    "The above code creates a Series of cars companies the name of series is “cars” the code “pd.Series([“Honda” , “Audi” , “Thar”, \"BMW\"])” means Hey! pandas (pd) create a Series of cars named \"Honda\" , \"Audi\" , \"Thar\" and \"BMW\".\n",
    "\n",
    "The default index of a series is 0,1,2….(Remember it starts from 0)"
   ]
  },
  {
   "cell_type": "markdown",
   "id": "8b8c9ef0-1be7-46a9-a1ae-5031802a52d2",
   "metadata": {},
   "source": [
    "To change the index of any series set the “index” parameter accordingly. It takes the list of index values:"
   ]
  },
  {
   "cell_type": "code",
   "execution_count": 22,
   "id": "d16e36df-c4ef-4f80-8f50-73f7816b4303",
   "metadata": {},
   "outputs": [
    {
     "data": {
      "text/plain": [
       "A    Honda\n",
       "B     Audi\n",
       "C     Thar\n",
       "D      BMW\n",
       "dtype: object"
      ]
     },
     "execution_count": 22,
     "metadata": {},
     "output_type": "execute_result"
    }
   ],
   "source": [
    "cars = pd.Series([\"Honda\",\"Audi\",\"Thar\",\"BMW\"],index = [\"A\" , \"B\" , \"C\" ,\"D\"])\n",
    "cars"
   ]
  },
  {
   "cell_type": "markdown",
   "id": "47b658e8-f749-418b-bef1-2c9e17fc57f6",
   "metadata": {},
   "source": [
    "You can see that the index has been changed from numbers to A, B ,C and D.\n",
    "\n",
    "And the mentioned ‘dtype’ tells us about the type of data we have in the series."
   ]
  },
  {
   "cell_type": "markdown",
   "id": "24fb425a-c9f9-4eb0-be3d-85104808005c",
   "metadata": {},
   "source": [
    "### 2. DataFrames datatype\n",
    "\n",
    "DataFrame contains rows and columns like a csv file have.\n",
    "\n",
    "You can also create a DataFrame by using `pd.DataFrame()` and passing it a Python dictionary."
   ]
  },
  {
   "cell_type": "code",
   "execution_count": 21,
   "id": "27dee704-dd12-43ac-810a-831b3d8aa4c7",
   "metadata": {},
   "outputs": [
    {
     "data": {
      "text/html": [
       "<div>\n",
       "<style scoped>\n",
       "    .dataframe tbody tr th:only-of-type {\n",
       "        vertical-align: middle;\n",
       "    }\n",
       "\n",
       "    .dataframe tbody tr th {\n",
       "        vertical-align: top;\n",
       "    }\n",
       "\n",
       "    .dataframe thead th {\n",
       "        text-align: right;\n",
       "    }\n",
       "</style>\n",
       "<table border=\"1\" class=\"dataframe\">\n",
       "  <thead>\n",
       "    <tr style=\"text-align: right;\">\n",
       "      <th></th>\n",
       "      <th>Cars</th>\n",
       "      <th>Colour</th>\n",
       "    </tr>\n",
       "  </thead>\n",
       "  <tbody>\n",
       "    <tr>\n",
       "      <th>0</th>\n",
       "      <td>BMW</td>\n",
       "      <td>Black</td>\n",
       "    </tr>\n",
       "    <tr>\n",
       "      <th>1</th>\n",
       "      <td>Audi</td>\n",
       "      <td>White</td>\n",
       "    </tr>\n",
       "    <tr>\n",
       "      <th>2</th>\n",
       "      <td>Thar</td>\n",
       "      <td>Red</td>\n",
       "    </tr>\n",
       "    <tr>\n",
       "      <th>3</th>\n",
       "      <td>Honda</td>\n",
       "      <td>Green</td>\n",
       "    </tr>\n",
       "  </tbody>\n",
       "</table>\n",
       "</div>"
      ],
      "text/plain": [
       "    Cars Colour\n",
       "0    BMW  Black\n",
       "1   Audi  White\n",
       "2   Thar    Red\n",
       "3  Honda  Green"
      ]
     },
     "execution_count": 21,
     "metadata": {},
     "output_type": "execute_result"
    }
   ],
   "source": [
    "# Let's create\n",
    "cars_with_colours = pd.DataFrame({\"Cars\" : [\"BMW\",\"Audi\",\"Thar\",\"Honda\"],\n",
    "                                \"Colour\" : [\"Black\",\"White\",\"Red\",\"Green\"]})\n",
    "cars_with_colours"
   ]
  },
  {
   "cell_type": "markdown",
   "id": "45107a84-11c2-4427-a767-59950a61b2e4",
   "metadata": {},
   "source": [
    "The dictionary key is the `column name` and value are the `column data`."
   ]
  },
  {
   "cell_type": "markdown",
   "id": "a920b07a-ea3c-4daa-9d24-9b6ab9efd409",
   "metadata": {},
   "source": [
    "*You can also create a DataFrame with the help of series.*"
   ]
  },
  {
   "cell_type": "code",
   "execution_count": 20,
   "id": "f53dbc1a-b3c2-4046-ad9a-01f6ceed67d9",
   "metadata": {},
   "outputs": [
    {
     "data": {
      "text/plain": [
       "0        Ram\n",
       "1      Mohan\n",
       "2    Krishna\n",
       "3     Shivam\n",
       "dtype: object"
      ]
     },
     "execution_count": 20,
     "metadata": {},
     "output_type": "execute_result"
    }
   ],
   "source": [
    "# Let's create two series\n",
    "students = pd.Series([\"Ram\",\"Mohan\",\"Krishna\",\"Shivam\"])\n",
    "age = pd.Series([19,20,21,24])\n",
    "\n",
    "students"
   ]
  },
  {
   "cell_type": "code",
   "execution_count": 19,
   "id": "dcb04cb1-3294-44a9-bfc1-e0ba156d11b0",
   "metadata": {},
   "outputs": [
    {
     "data": {
      "text/plain": [
       "0    19\n",
       "1    20\n",
       "2    21\n",
       "3    24\n",
       "dtype: int64"
      ]
     },
     "execution_count": 19,
     "metadata": {},
     "output_type": "execute_result"
    }
   ],
   "source": [
    "age"
   ]
  },
  {
   "cell_type": "code",
   "execution_count": 25,
   "id": "b23e45f8-9f76-4b17-81fa-38127bd1a58a",
   "metadata": {},
   "outputs": [
    {
     "data": {
      "text/html": [
       "<div>\n",
       "<style scoped>\n",
       "    .dataframe tbody tr th:only-of-type {\n",
       "        vertical-align: middle;\n",
       "    }\n",
       "\n",
       "    .dataframe tbody tr th {\n",
       "        vertical-align: top;\n",
       "    }\n",
       "\n",
       "    .dataframe thead th {\n",
       "        text-align: right;\n",
       "    }\n",
       "</style>\n",
       "<table border=\"1\" class=\"dataframe\">\n",
       "  <thead>\n",
       "    <tr style=\"text-align: right;\">\n",
       "      <th></th>\n",
       "      <th>Student_Name</th>\n",
       "      <th>Age</th>\n",
       "    </tr>\n",
       "  </thead>\n",
       "  <tbody>\n",
       "    <tr>\n",
       "      <th>0</th>\n",
       "      <td>Ram</td>\n",
       "      <td>19</td>\n",
       "    </tr>\n",
       "    <tr>\n",
       "      <th>1</th>\n",
       "      <td>Mohan</td>\n",
       "      <td>20</td>\n",
       "    </tr>\n",
       "    <tr>\n",
       "      <th>2</th>\n",
       "      <td>Krishna</td>\n",
       "      <td>21</td>\n",
       "    </tr>\n",
       "    <tr>\n",
       "      <th>3</th>\n",
       "      <td>Shivam</td>\n",
       "      <td>24</td>\n",
       "    </tr>\n",
       "  </tbody>\n",
       "</table>\n",
       "</div>"
      ],
      "text/plain": [
       "  Student_Name  Age\n",
       "0          Ram   19\n",
       "1        Mohan   20\n",
       "2      Krishna   21\n",
       "3       Shivam   24"
      ]
     },
     "execution_count": 25,
     "metadata": {},
     "output_type": "execute_result"
    }
   ],
   "source": [
    "# Now let's create a dataframe with the help of above series\n",
    "# pass the series name to the dictionary value\n",
    "\n",
    "record = pd.DataFrame({\"Student_Name\":students , \n",
    "                      \"Age\" :age})\n",
    "record"
   ]
  },
  {
   "cell_type": "code",
   "execution_count": 27,
   "id": "807bb961-a7fd-49ac-add4-bec70771fd40",
   "metadata": {},
   "outputs": [
    {
     "data": {
      "text/plain": [
       "Index(['Student_Name', 'Age'], dtype='object')"
      ]
     },
     "execution_count": 27,
     "metadata": {},
     "output_type": "execute_result"
    }
   ],
   "source": [
    "# To print the list of columns names\n",
    "record.columns"
   ]
  },
  {
   "cell_type": "markdown",
   "id": "070d6105-c79c-4a59-b506-ef52cfd481f2",
   "metadata": {},
   "source": [
    "### Describe Data \n",
    "\n",
    "**The good news is that pandas has many built-in functions which allow you to quickly get information about a DataFrame.**\n",
    "Let's explore the `record` dataframe"
   ]
  },
  {
   "cell_type": "markdown",
   "id": "206b6ea0-7204-4404-9023-1755bd6fbe8d",
   "metadata": {},
   "source": [
    "#### 1. Use `.dtypes` to find what datatype a column contains"
   ]
  },
  {
   "cell_type": "code",
   "execution_count": 28,
   "id": "96864687-146e-45bf-84c4-3e81670e9734",
   "metadata": {},
   "outputs": [
    {
     "data": {
      "text/plain": [
       "Student_Name    object\n",
       "Age              int64\n",
       "dtype: object"
      ]
     },
     "execution_count": 28,
     "metadata": {},
     "output_type": "execute_result"
    }
   ],
   "source": [
    "record.dtypes"
   ]
  },
  {
   "cell_type": "markdown",
   "id": "b7698e44-a13e-4908-90d4-5a4467acd261",
   "metadata": {},
   "source": [
    "#### 2. use `.describe()` for statistical overview."
   ]
  },
  {
   "cell_type": "code",
   "execution_count": 30,
   "id": "05eec1fe-7774-4e87-8a53-f763c8c26e83",
   "metadata": {},
   "outputs": [
    {
     "data": {
      "text/html": [
       "<div>\n",
       "<style scoped>\n",
       "    .dataframe tbody tr th:only-of-type {\n",
       "        vertical-align: middle;\n",
       "    }\n",
       "\n",
       "    .dataframe tbody tr th {\n",
       "        vertical-align: top;\n",
       "    }\n",
       "\n",
       "    .dataframe thead th {\n",
       "        text-align: right;\n",
       "    }\n",
       "</style>\n",
       "<table border=\"1\" class=\"dataframe\">\n",
       "  <thead>\n",
       "    <tr style=\"text-align: right;\">\n",
       "      <th></th>\n",
       "      <th>Age</th>\n",
       "    </tr>\n",
       "  </thead>\n",
       "  <tbody>\n",
       "    <tr>\n",
       "      <th>count</th>\n",
       "      <td>4.000000</td>\n",
       "    </tr>\n",
       "    <tr>\n",
       "      <th>mean</th>\n",
       "      <td>21.000000</td>\n",
       "    </tr>\n",
       "    <tr>\n",
       "      <th>std</th>\n",
       "      <td>2.160247</td>\n",
       "    </tr>\n",
       "    <tr>\n",
       "      <th>min</th>\n",
       "      <td>19.000000</td>\n",
       "    </tr>\n",
       "    <tr>\n",
       "      <th>25%</th>\n",
       "      <td>19.750000</td>\n",
       "    </tr>\n",
       "    <tr>\n",
       "      <th>50%</th>\n",
       "      <td>20.500000</td>\n",
       "    </tr>\n",
       "    <tr>\n",
       "      <th>75%</th>\n",
       "      <td>21.750000</td>\n",
       "    </tr>\n",
       "    <tr>\n",
       "      <th>max</th>\n",
       "      <td>24.000000</td>\n",
       "    </tr>\n",
       "  </tbody>\n",
       "</table>\n",
       "</div>"
      ],
      "text/plain": [
       "             Age\n",
       "count   4.000000\n",
       "mean   21.000000\n",
       "std     2.160247\n",
       "min    19.000000\n",
       "25%    19.750000\n",
       "50%    20.500000\n",
       "75%    21.750000\n",
       "max    24.000000"
      ]
     },
     "execution_count": 30,
     "metadata": {},
     "output_type": "execute_result"
    }
   ],
   "source": [
    "record.describe()  # It only display the results for numeric data"
   ]
  },
  {
   "cell_type": "markdown",
   "id": "c9d313b6-005f-44ac-b8c4-40e7f4ccac42",
   "metadata": {},
   "source": [
    "#### 3. Use `.info()` to find information about the dataframe"
   ]
  },
  {
   "cell_type": "code",
   "execution_count": 31,
   "id": "19e60acf-be9e-4abd-ba6c-e0b512c5220e",
   "metadata": {},
   "outputs": [
    {
     "name": "stdout",
     "output_type": "stream",
     "text": [
      "<class 'pandas.core.frame.DataFrame'>\n",
      "RangeIndex: 4 entries, 0 to 3\n",
      "Data columns (total 2 columns):\n",
      " #   Column        Non-Null Count  Dtype \n",
      "---  ------        --------------  ----- \n",
      " 0   Student_Name  4 non-null      object\n",
      " 1   Age           4 non-null      int64 \n",
      "dtypes: int64(1), object(1)\n",
      "memory usage: 196.0+ bytes\n"
     ]
    }
   ],
   "source": [
    "record.info()"
   ]
  }
 ],
 "metadata": {
  "kernelspec": {
   "display_name": "Python 3 (ipykernel)",
   "language": "python",
   "name": "python3"
  },
  "language_info": {
   "codemirror_mode": {
    "name": "ipython",
    "version": 3
   },
   "file_extension": ".py",
   "mimetype": "text/x-python",
   "name": "python",
   "nbconvert_exporter": "python",
   "pygments_lexer": "ipython3",
   "version": "3.12.0"
  }
 },
 "nbformat": 4,
 "nbformat_minor": 5
}
