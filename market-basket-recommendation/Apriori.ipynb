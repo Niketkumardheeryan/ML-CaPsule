{
 "cells": [
  {
   "cell_type": "markdown",
   "metadata": {},
   "source": [
    "## Market Basket Analysis using Apriori Algorithm\n",
    "\n",
    "Market Basket Analysis is a popular data mining technique used to identify associations between items in large datasets. This notebook demonstrates the use of the Apriori algorithm to find frequent itemsets and generate association rules from a transactional dataset.\n",
    "\n",
    "The Apriori algorithm works by identifying the frequent individual items in the dataset and extending them to larger and larger itemsets as long as those itemsets appear sufficiently often in the dataset. The key concepts involved in this process are:\n",
    "- **Support**: The proportion of transactions that contain the itemset.\n",
    "- **Confidence**: The likelihood that a transaction containing item A also contains item B.\n",
    "- **Lift**: The ratio of the observed support to that expected if A and B were independent.\n",
    "\n",
    "In this notebook, we will:\n",
    "1. Load and preprocess the dataset.\n",
    "2. Generate frequent itemsets using the Apriori algorithm.\n",
    "3. Derive association rules from the frequent itemsets.\n",
    "4. Visualize the top associations.\n",
    "5. Build a simple recommendation system based on the association rules."
   ]
  },
  {
   "cell_type": "markdown",
   "metadata": {},
   "source": [
    "### Apriori\n",
    "All subsets of a frequent itemset must be frequent(Apriori property). If an itemset is infrequent, all its supersets will be infrequent.\n",
    "\n",
    "Original application in market basket analysis, the Apriori algorithm has found use in diverse fields like recommendation systems, bioinformatics, and network analysis. Its adaptability and simplicity have inspired various enhancements, addressing scalability and extending its capabilities to capture more complex relationships."
   ]
  },
  {
   "cell_type": "code",
   "execution_count": 1,
   "metadata": {
    "colab": {
     "base_uri": "https://localhost:8080/"
    },
    "id": "s3jd0f1f6vk9",
    "outputId": "b6c5d74e-c2d7-467e-f3cf-506133e66df3"
   },
   "outputs": [
    {
     "name": "stdout",
     "output_type": "stream",
     "text": [
      "Requirement already satisfied: apyori in /Users/poojaharihar/anaconda3/lib/python3.11/site-packages (1.1.2)\n",
      "\u001b[33mWARNING: There was an error checking the latest version of pip.\u001b[0m\u001b[33m\n",
      "\u001b[0m"
     ]
    }
   ],
   "source": [
    "!pip install apyori"
   ]
  },
  {
   "cell_type": "code",
   "execution_count": 2,
   "metadata": {
    "colab": {
     "base_uri": "https://localhost:8080/",
     "height": 295
    },
    "id": "vPC6lGzs7Oc8",
    "outputId": "10bafff1-fc36-4471-aebd-01142b172389"
   },
   "outputs": [
    {
     "data": {
      "text/html": [
       "<div>\n",
       "<style scoped>\n",
       "    .dataframe tbody tr th:only-of-type {\n",
       "        vertical-align: middle;\n",
       "    }\n",
       "\n",
       "    .dataframe tbody tr th {\n",
       "        vertical-align: top;\n",
       "    }\n",
       "\n",
       "    .dataframe thead th {\n",
       "        text-align: right;\n",
       "    }\n",
       "</style>\n",
       "<table border=\"1\" class=\"dataframe\">\n",
       "  <thead>\n",
       "    <tr style=\"text-align: right;\">\n",
       "      <th></th>\n",
       "      <th>chutney</th>\n",
       "      <th>Unnamed: 1</th>\n",
       "      <th>Unnamed: 2</th>\n",
       "      <th>Unnamed: 3</th>\n",
       "      <th>Unnamed: 4</th>\n",
       "      <th>Unnamed: 5</th>\n",
       "      <th>Unnamed: 6</th>\n",
       "      <th>Unnamed: 7</th>\n",
       "      <th>Unnamed: 8</th>\n",
       "      <th>Unnamed: 9</th>\n",
       "      <th>Unnamed: 10</th>\n",
       "      <th>Unnamed: 11</th>\n",
       "      <th>Unnamed: 12</th>\n",
       "      <th>Unnamed: 13</th>\n",
       "      <th>Unnamed: 14</th>\n",
       "      <th>Unnamed: 15</th>\n",
       "      <th>Unnamed: 16</th>\n",
       "      <th>Unnamed: 17</th>\n",
       "      <th>Unnamed: 18</th>\n",
       "      <th>Unnamed: 19</th>\n",
       "    </tr>\n",
       "  </thead>\n",
       "  <tbody>\n",
       "    <tr>\n",
       "      <th>0</th>\n",
       "      <td>knor</td>\n",
       "      <td>ginger garlic paste</td>\n",
       "      <td>MTR Idli</td>\n",
       "      <td>NaN</td>\n",
       "      <td>NaN</td>\n",
       "      <td>NaN</td>\n",
       "      <td>NaN</td>\n",
       "      <td>NaN</td>\n",
       "      <td>NaN</td>\n",
       "      <td>NaN</td>\n",
       "      <td>NaN</td>\n",
       "      <td>NaN</td>\n",
       "      <td>NaN</td>\n",
       "      <td>NaN</td>\n",
       "      <td>NaN</td>\n",
       "      <td>NaN</td>\n",
       "      <td>NaN</td>\n",
       "      <td>NaN</td>\n",
       "      <td>NaN</td>\n",
       "      <td>NaN</td>\n",
       "    </tr>\n",
       "    <tr>\n",
       "      <th>1</th>\n",
       "      <td>turkey</td>\n",
       "      <td>spirit fish</td>\n",
       "      <td>tomatoes</td>\n",
       "      <td>spaghetti</td>\n",
       "      <td>mineral water</td>\n",
       "      <td>patanjali tea</td>\n",
       "      <td>salmon</td>\n",
       "      <td>eggs</td>\n",
       "      <td>chicken</td>\n",
       "      <td>cadbury white chocolate</td>\n",
       "      <td>NaN</td>\n",
       "      <td>NaN</td>\n",
       "      <td>NaN</td>\n",
       "      <td>NaN</td>\n",
       "      <td>NaN</td>\n",
       "      <td>NaN</td>\n",
       "      <td>NaN</td>\n",
       "      <td>NaN</td>\n",
       "      <td>NaN</td>\n",
       "      <td>NaN</td>\n",
       "    </tr>\n",
       "    <tr>\n",
       "      <th>2</th>\n",
       "      <td>eggs</td>\n",
       "      <td>NaN</td>\n",
       "      <td>NaN</td>\n",
       "      <td>NaN</td>\n",
       "      <td>NaN</td>\n",
       "      <td>NaN</td>\n",
       "      <td>NaN</td>\n",
       "      <td>NaN</td>\n",
       "      <td>NaN</td>\n",
       "      <td>NaN</td>\n",
       "      <td>NaN</td>\n",
       "      <td>NaN</td>\n",
       "      <td>NaN</td>\n",
       "      <td>NaN</td>\n",
       "      <td>NaN</td>\n",
       "      <td>NaN</td>\n",
       "      <td>NaN</td>\n",
       "      <td>NaN</td>\n",
       "      <td>NaN</td>\n",
       "      <td>NaN</td>\n",
       "    </tr>\n",
       "    <tr>\n",
       "      <th>3</th>\n",
       "      <td>kinley</td>\n",
       "      <td>NaN</td>\n",
       "      <td>NaN</td>\n",
       "      <td>NaN</td>\n",
       "      <td>NaN</td>\n",
       "      <td>NaN</td>\n",
       "      <td>NaN</td>\n",
       "      <td>NaN</td>\n",
       "      <td>NaN</td>\n",
       "      <td>NaN</td>\n",
       "      <td>NaN</td>\n",
       "      <td>NaN</td>\n",
       "      <td>NaN</td>\n",
       "      <td>NaN</td>\n",
       "      <td>NaN</td>\n",
       "      <td>NaN</td>\n",
       "      <td>NaN</td>\n",
       "      <td>NaN</td>\n",
       "      <td>NaN</td>\n",
       "      <td>NaN</td>\n",
       "    </tr>\n",
       "    <tr>\n",
       "      <th>4</th>\n",
       "      <td>mineral water</td>\n",
       "      <td>eggs</td>\n",
       "      <td>chicken</td>\n",
       "      <td>chocolate</td>\n",
       "      <td>french fries</td>\n",
       "      <td>NaN</td>\n",
       "      <td>NaN</td>\n",
       "      <td>NaN</td>\n",
       "      <td>NaN</td>\n",
       "      <td>NaN</td>\n",
       "      <td>NaN</td>\n",
       "      <td>NaN</td>\n",
       "      <td>NaN</td>\n",
       "      <td>NaN</td>\n",
       "      <td>NaN</td>\n",
       "      <td>NaN</td>\n",
       "      <td>NaN</td>\n",
       "      <td>NaN</td>\n",
       "      <td>NaN</td>\n",
       "      <td>NaN</td>\n",
       "    </tr>\n",
       "  </tbody>\n",
       "</table>\n",
       "</div>"
      ],
      "text/plain": [
       "         chutney           Unnamed: 1 Unnamed: 2 Unnamed: 3     Unnamed: 4  \\\n",
       "0           knor  ginger garlic paste   MTR Idli        NaN            NaN   \n",
       "1         turkey          spirit fish   tomatoes  spaghetti  mineral water   \n",
       "2           eggs                  NaN        NaN        NaN            NaN   \n",
       "3         kinley                  NaN        NaN        NaN            NaN   \n",
       "4  mineral water                 eggs    chicken  chocolate   french fries   \n",
       "\n",
       "      Unnamed: 5 Unnamed: 6 Unnamed: 7 Unnamed: 8               Unnamed: 9  \\\n",
       "0            NaN        NaN        NaN        NaN                      NaN   \n",
       "1  patanjali tea     salmon       eggs    chicken  cadbury white chocolate   \n",
       "2            NaN        NaN        NaN        NaN                      NaN   \n",
       "3            NaN        NaN        NaN        NaN                      NaN   \n",
       "4            NaN        NaN        NaN        NaN                      NaN   \n",
       "\n",
       "  Unnamed: 10 Unnamed: 11 Unnamed: 12 Unnamed: 13 Unnamed: 14 Unnamed: 15  \\\n",
       "0         NaN         NaN         NaN         NaN         NaN         NaN   \n",
       "1         NaN         NaN         NaN         NaN         NaN         NaN   \n",
       "2         NaN         NaN         NaN         NaN         NaN         NaN   \n",
       "3         NaN         NaN         NaN         NaN         NaN         NaN   \n",
       "4         NaN         NaN         NaN         NaN         NaN         NaN   \n",
       "\n",
       "  Unnamed: 16 Unnamed: 17 Unnamed: 18 Unnamed: 19  \n",
       "0         NaN         NaN         NaN         NaN  \n",
       "1         NaN         NaN         NaN         NaN  \n",
       "2         NaN         NaN         NaN         NaN  \n",
       "3         NaN         NaN         NaN         NaN  \n",
       "4         NaN         NaN         NaN         NaN  "
      ]
     },
     "execution_count": 2,
     "metadata": {},
     "output_type": "execute_result"
    }
   ],
   "source": [
    "from apyori import apriori\n",
    "import pandas as pd\n",
    "\n",
    "# Load CSV file\n",
    "df = pd.read_csv(\"data.csv\")\n",
    "df.head()\n",
    "\n",
    "#this dataset contains 7500 rows"
   ]
  },
  {
   "cell_type": "code",
   "execution_count": 3,
   "metadata": {
    "colab": {
     "base_uri": "https://localhost:8080/",
     "height": 582
    },
    "id": "LFMhFshIxFn1",
    "outputId": "2d55b450-54fd-44f9-9c57-870664789b59"
   },
   "outputs": [
    {
     "data": {
      "image/png": "[encoded data removed]",
      "text/plain": [
       "<Figure size 640x480 with 1 Axes>"
      ]
     },
     "metadata": {},
     "output_type": "display_data"
    }
   ],
   "source": [
    "#data visualisation\n",
    "from matplotlib import pyplot as plt\n",
    "\n",
    "# Flatten the DataFrame into a single list of items\n",
    "items = [item for row in df.values for item in row]\n",
    "\n",
    "# Drop NaN values and count the frequency of each item\n",
    "item_counts = pd.Series(items).dropna().value_counts()\n",
    "\n",
    "# Plot histogram\n",
    "item_counts[:20].plot(kind='bar')\n",
    "plt.xlabel('Items')\n",
    "plt.ylabel('Frequency')\n",
    "plt.title('Bar Graph')\n",
    "plt.show()\n"
   ]
  },
  {
   "cell_type": "code",
   "execution_count": 4,
   "metadata": {},
   "outputs": [],
   "source": [
    "#preprocess data into a list of transactions\n",
    "transactions = []\n",
    "\n",
    "for i in range(0, 7218):\n",
    "  transactions.append([str(df.values[i,j]) for j in range(0, 20)])"
   ]
  },
  {
   "cell_type": "markdown",
   "metadata": {},
   "source": [
    "## Apriori Training on Dataset"
   ]
  },
  {
   "cell_type": "code",
   "execution_count": 5,
   "metadata": {},
   "outputs": [],
   "source": [
    "from apyori import apriori\n",
    "rules = apriori(\n",
    "    transactions=transactions,\n",
    "    min_support=0.005,\n",
    "    min_confidence=0.1,\n",
    "    min_lift=3,\n",
    "    min_length=2,\n",
    "    max_length=2\n",
    ")"
   ]
  },
  {
   "cell_type": "code",
   "execution_count": 6,
   "metadata": {},
   "outputs": [],
   "source": [
    "res=list(rules)\n"
   ]
  },
  {
   "cell_type": "code",
   "execution_count": 7,
   "metadata": {},
   "outputs": [
    {
     "name": "stdout",
     "output_type": "stream",
     "text": [
      "[RelationRecord(items=frozenset({'burgers', 'almonds'}), support=0.005403158769742311, ordered_statistics=[OrderedStatistic(items_base=frozenset({'almonds'}), items_add=frozenset({'burgers'}), confidence=0.26530612244897955, lift=3.059072830410119)]), RelationRecord(items=frozenset({'paneer', 'buns'}), support=0.016070933776669436, ordered_statistics=[OrderedStatistic(items_base=frozenset({'buns'}), items_add=frozenset({'paneer'}), confidence=0.3240223463687151, lift=3.2848220450693617), OrderedStatistic(items_base=frozenset({'paneer'}), items_add=frozenset({'buns'}), confidence=0.16292134831460675, lift=3.2848220450693617)]), RelationRecord(items=frozenset({'vegetable basket', 'fruit basket'}), support=0.005541701302299806, ordered_statistics=[OrderedStatistic(items_base=frozenset({'fruit basket'}), items_add=frozenset({'vegetable basket'}), confidence=0.29411764705882354, lift=3.0811918381285754)]), RelationRecord(items=frozenset({'kissan puree', 'paneer'}), support=0.005403158769742311, ordered_statistics=[OrderedStatistic(items_base=frozenset({'kissan puree'}), items_add=frozenset({'paneer'}), confidence=0.3786407766990291, lift=3.838524053670776)]), RelationRecord(items=frozenset({'mushroom', 'pasta'}), support=0.005403158769742311, ordered_statistics=[OrderedStatistic(items_base=frozenset({'pasta'}), items_add=frozenset({'mushroom'}), confidence=0.3861386138613861, lift=4.8726372637263715)]), RelationRecord(items=frozenset({'mushroom', 'pepper spray'}), support=0.005818786367414797, ordered_statistics=[OrderedStatistic(items_base=frozenset({'pepper spray'}), items_add=frozenset({'mushroom'}), confidence=0.302158273381295, lift=3.8128993308849424)]), RelationRecord(items=frozenset({'whole wheat pasta', 'olive oil'}), support=0.0077583818232197285, ordered_statistics=[OrderedStatistic(items_base=frozenset({'olive oil'}), items_add=frozenset({'whole wheat pasta'}), confidence=0.11814345991561183, lift=4.060759493670886), OrderedStatistic(items_base=frozenset({'whole wheat pasta'}), items_add=frozenset({'olive oil'}), confidence=0.26666666666666666, lift=4.060759493670886)])]\n"
     ]
    }
   ],
   "source": [
    "print(res)"
   ]
  },
  {
   "cell_type": "markdown",
   "metadata": {},
   "source": [
    "## Proper Display"
   ]
  },
  {
   "cell_type": "code",
   "execution_count": 8,
   "metadata": {},
   "outputs": [],
   "source": [
    "def inspect(results):\n",
    "    product1         = [tuple(result[2][0][0])[0] for result in results]\n",
    "    product2         = [tuple(result[2][0][1])[0] for result in results]\n",
    "    supports    = [result[1] for result in results]\n",
    "    confidences = [result[2][0][2] for result in results]\n",
    "    lifts       = [result[2][0][3] for result in results]\n",
    "    return list(zip(product1, product2, supports, confidences, lifts))\n",
    "DataFrame_intelligence = pd.DataFrame(inspect(res), columns = ['product1', 'product2', 'Support', 'Confidence', 'Lift'])\n",
    "     "
   ]
  },
  {
   "cell_type": "code",
   "execution_count": 9,
   "metadata": {},
   "outputs": [
    {
     "data": {
      "text/html": [
       "<div>\n",
       "<style scoped>\n",
       "    .dataframe tbody tr th:only-of-type {\n",
       "        vertical-align: middle;\n",
       "    }\n",
       "\n",
       "    .dataframe tbody tr th {\n",
       "        vertical-align: top;\n",
       "    }\n",
       "\n",
       "    .dataframe thead th {\n",
       "        text-align: right;\n",
       "    }\n",
       "</style>\n",
       "<table border=\"1\" class=\"dataframe\">\n",
       "  <thead>\n",
       "    <tr style=\"text-align: right;\">\n",
       "      <th></th>\n",
       "      <th>product1</th>\n",
       "      <th>product2</th>\n",
       "      <th>Support</th>\n",
       "      <th>Confidence</th>\n",
       "      <th>Lift</th>\n",
       "    </tr>\n",
       "  </thead>\n",
       "  <tbody>\n",
       "    <tr>\n",
       "      <th>0</th>\n",
       "      <td>almonds</td>\n",
       "      <td>burgers</td>\n",
       "      <td>0.005403</td>\n",
       "      <td>0.265306</td>\n",
       "      <td>3.059073</td>\n",
       "    </tr>\n",
       "    <tr>\n",
       "      <th>1</th>\n",
       "      <td>buns</td>\n",
       "      <td>paneer</td>\n",
       "      <td>0.016071</td>\n",
       "      <td>0.324022</td>\n",
       "      <td>3.284822</td>\n",
       "    </tr>\n",
       "    <tr>\n",
       "      <th>2</th>\n",
       "      <td>fruit basket</td>\n",
       "      <td>vegetable basket</td>\n",
       "      <td>0.005542</td>\n",
       "      <td>0.294118</td>\n",
       "      <td>3.081192</td>\n",
       "    </tr>\n",
       "    <tr>\n",
       "      <th>3</th>\n",
       "      <td>kissan puree</td>\n",
       "      <td>paneer</td>\n",
       "      <td>0.005403</td>\n",
       "      <td>0.378641</td>\n",
       "      <td>3.838524</td>\n",
       "    </tr>\n",
       "    <tr>\n",
       "      <th>4</th>\n",
       "      <td>pasta</td>\n",
       "      <td>mushroom</td>\n",
       "      <td>0.005403</td>\n",
       "      <td>0.386139</td>\n",
       "      <td>4.872637</td>\n",
       "    </tr>\n",
       "    <tr>\n",
       "      <th>5</th>\n",
       "      <td>pepper spray</td>\n",
       "      <td>mushroom</td>\n",
       "      <td>0.005819</td>\n",
       "      <td>0.302158</td>\n",
       "      <td>3.812899</td>\n",
       "    </tr>\n",
       "    <tr>\n",
       "      <th>6</th>\n",
       "      <td>olive oil</td>\n",
       "      <td>whole wheat pasta</td>\n",
       "      <td>0.007758</td>\n",
       "      <td>0.118143</td>\n",
       "      <td>4.060759</td>\n",
       "    </tr>\n",
       "  </tbody>\n",
       "</table>\n",
       "</div>"
      ],
      "text/plain": [
       "       product1           product2   Support  Confidence      Lift\n",
       "0       almonds            burgers  0.005403    0.265306  3.059073\n",
       "1          buns             paneer  0.016071    0.324022  3.284822\n",
       "2  fruit basket   vegetable basket  0.005542    0.294118  3.081192\n",
       "3  kissan puree             paneer  0.005403    0.378641  3.838524\n",
       "4         pasta           mushroom  0.005403    0.386139  4.872637\n",
       "5  pepper spray           mushroom  0.005819    0.302158  3.812899\n",
       "6     olive oil  whole wheat pasta  0.007758    0.118143  4.060759"
      ]
     },
     "execution_count": 9,
     "metadata": {},
     "output_type": "execute_result"
    }
   ],
   "source": [
    "DataFrame_intelligence\n"
   ]
  },
  {
   "cell_type": "code",
   "execution_count": 10,
   "metadata": {},
   "outputs": [
    {
     "name": "stdout",
     "output_type": "stream",
     "text": [
      "Top Associations:\n",
      "       product1           product2   Support  Confidence      Lift\n",
      "4         pasta           mushroom  0.005403    0.386139  4.872637\n",
      "6     olive oil  whole wheat pasta  0.007758    0.118143  4.060759\n",
      "3  kissan puree             paneer  0.005403    0.378641  3.838524\n",
      "5  pepper spray           mushroom  0.005819    0.302158  3.812899\n",
      "1          buns             paneer  0.016071    0.324022  3.284822\n",
      "2  fruit basket   vegetable basket  0.005542    0.294118  3.081192\n",
      "0       almonds            burgers  0.005403    0.265306  3.059073\n"
     ]
    }
   ],
   "source": [
    "top_associations = DataFrame_intelligence.nlargest(n=20, columns='Lift')\n",
    "print(\"Top Associations:\")\n",
    "print(top_associations)\n"
   ]
  },
  {
   "cell_type": "code",
   "execution_count": 11,
   "metadata": {},
   "outputs": [
    {
     "data": {
      "image/png": "[encoded data removed]",
      "text/plain": [
       "<Figure size 1000x600 with 1 Axes>"
      ]
     },
     "metadata": {},
     "output_type": "display_data"
    }
   ],
   "source": [
    "plt.figure(figsize=(10, 6))\n",
    "plt.barh(top_associations['product1'] + ' & ' + top_associations['product2'], top_associations['Lift'])\n",
    "plt.xlabel('Lift')\n",
    "plt.ylabel('Product Association')\n",
    "plt.title('Top Associations by Lift')\n",
    "plt.show()\n",
    "     "
   ]
  },
  {
   "cell_type": "markdown",
   "metadata": {},
   "source": [
    "## Recommendation System"
   ]
  },
  {
   "cell_type": "code",
   "execution_count": 12,
   "metadata": {},
   "outputs": [
    {
     "name": "stdout",
     "output_type": "stream",
     "text": [
      "Enter an item: paneer\n",
      "Related Items:\n",
      "buns\n",
      "kissan puree\n",
      "\n",
      "You may also need:\n",
      "buns\n",
      "kissan puree\n"
     ]
    }
   ],
   "source": [
    "# User Input\n",
    "user_item = input(\"Enter an item: \")\n",
    "\n",
    "# Find related items using association rules\n",
    "related_items = []\n",
    "for result in res:\n",
    "    items = list(result.items)\n",
    "    if user_item in items:\n",
    "        related_items.extend([item for item in items if item != user_item])\n",
    "\n",
    "# Display related items and recommendations\n",
    "print(\"Related Items:\")\n",
    "for item in related_items:\n",
    "    print(item)\n",
    "\n",
    "# Select top N items for recommendations\n",
    "top_recommendations = sorted(related_items, key=lambda item: result.ordered_statistics[0].confidence, reverse=True)[:3]\n",
    "\n",
    "print(\"\\nYou may also need:\")\n",
    "for recommendation in top_recommendations:\n",
    "    print(recommendation)\n"
   ]
  },
  {
   "cell_type": "markdown",
   "metadata": {},
   "source": [
    "The above is small recommendation system which can handle only known values"
   ]
  },
  {
   "cell_type": "code",
   "execution_count": 13,
   "metadata": {},
   "outputs": [
    {
     "name": "stdout",
     "output_type": "stream",
     "text": [
      "Enter an item: almonds\n",
      "\n",
      "You may also need:\n",
      "burgers (Confidence: 0.27, Lift: 3.06)\n"
     ]
    }
   ],
   "source": [
    "def get_recommendations(user_item, rules_df):\n",
    "    related_items = []\n",
    "    for _, row in rules_df.iterrows():\n",
    "        if user_item == row['product1']:\n",
    "            related_items.append((row['product2'], row['Confidence'], row['Lift']))\n",
    "        elif user_item == row['product2']:\n",
    "            related_items.append((row['product1'], row['Confidence'], row['Lift']))\n",
    "    \n",
    "    if related_items:\n",
    "        # Sort related items by confidence and lift\n",
    "        related_items.sort(key=lambda x: (x[1], x[2]), reverse=True)\n",
    "        top_recommendations = related_items[:3]\n",
    "        return top_recommendations\n",
    "    else:\n",
    "        # If no related items, return an empty list\n",
    "        return []\n",
    "\n",
    "# User Input\n",
    "user_item = input(\"Enter an item: \")\n",
    "\n",
    "# Get recommendations\n",
    "recommendations = get_recommendations(user_item, DataFrame_intelligence)\n",
    "\n",
    "# Display recommendations\n",
    "if recommendations:\n",
    "    print(\"\\nYou may also need:\")\n",
    "    for item, confidence, lift in recommendations:\n",
    "        print(f\"{item} (Confidence: {confidence:.2f}, Lift: {lift:.2f})\")\n",
    "else:\n",
    "    print(\"No recommendations found for the item you entered.\")\n"
   ]
  },
  {
   "cell_type": "markdown",
   "metadata": {},
   "source": [
    "Here I am trying to handle inputs which is not there in the data"
   ]
  },
  {
   "cell_type": "markdown",
   "metadata": {},
   "source": [
    "## Taking user feedback for recommendations"
   ]
  },
  {
   "cell_type": "markdown",
   "metadata": {},
   "source": [
    "Here we will take users feedback if item is not found and this will allow increase our data and give recommendations"
   ]
  },
  {
   "cell_type": "code",
   "execution_count": 14,
   "metadata": {},
   "outputs": [
    {
     "name": "stdout",
     "output_type": "stream",
     "text": [
      "\n",
      "Enter an item (or type 'exit' to quit): sugar\n",
      "No strong recommendations found for the item you entered.\n",
      "What would you like to buy along with sugar? (Enter items separated by commas): milk, cofee powder\n",
      "New association added: sugar -> ['milk', 'cofee powder']\n",
      "\n",
      "You may also need:\n",
      "['milk', 'cofee powder'] (Confidence: 0.50, Lift: 2.00) - because customers who bought sugar also bought ['milk', 'cofee powder'].\n",
      "\n",
      "Enter an item (or type 'exit' to quit): sugar\n",
      "\n",
      "You may also need:\n",
      "['milk', 'cofee powder'] (Confidence: 0.50, Lift: 2.00) - because customers who bought sugar also bought ['milk', 'cofee powder'].\n",
      "\n",
      "Enter an item (or type 'exit' to quit): ketchup\n",
      "No strong recommendations found for the item you entered.\n",
      "What would you like to buy along with ketchup? (Enter items separated by commas): chilli, maggi, potato\n",
      "New association added: ketchup -> ['chilli', 'maggi', 'potato']\n",
      "\n",
      "You may also need:\n",
      "['chilli', 'maggi', 'potato'] (Confidence: 0.50, Lift: 2.00) - because customers who bought ketchup also bought ['chilli', 'maggi', 'potato'].\n",
      "\n",
      "Enter an item (or type 'exit' to quit): ketchup\n",
      "\n",
      "You may also need:\n",
      "['chilli', 'maggi', 'potato'] (Confidence: 0.50, Lift: 2.00) - because customers who bought ketchup also bought ['chilli', 'maggi', 'potato'].\n",
      "\n",
      "Enter an item (or type 'exit' to quit): exit\n",
      "Thank you for using the recommendation system!\n"
     ]
    }
   ],
   "source": [
    "import pandas as pd\n",
    "\n",
    "def inspect(results):\n",
    "    product1 = [tuple(result[2][0][0])[0] for result in results]\n",
    "    product2 = [tuple(result[2][0][1])[0] for result in results]\n",
    "    supports = [result[1] for result in results]\n",
    "    confidences = [result[2][0][2] for result in results]\n",
    "    lifts = [result[2][0][3] for result in results]\n",
    "    return list(zip(product1, product2, supports, confidences, lifts))\n",
    "\n",
    "# Convert results to a DataFrame\n",
    "DataFrame_intelligence = pd.DataFrame(inspect(res), columns=['product1', 'product2', 'Support', 'Confidence', 'Lift'])\n",
    "\n",
    "# Function get recommendation based on user input\n",
    "def get_recommendations(user_item, rules_df, confidence_threshold=0.2, lift_threshold=1.0):\n",
    "    related_items = []\n",
    "    for _, row in rules_df.iterrows():\n",
    "        if user_item == row['product1'] and row['Confidence'] >= confidence_threshold and row['Lift'] >= lift_threshold:\n",
    "            related_items.append((row['product2'], row['Confidence'], row['Lift']))\n",
    "        elif user_item == row['product2'] and row['Confidence'] >= confidence_threshold and row['Lift'] >= lift_threshold:\n",
    "            related_items.append((row['product1'], row['Confidence'], row['Lift']))\n",
    "    \n",
    "    if related_items:\n",
    "        # Sort related items by confidence and lift\n",
    "        related_items.sort(key=lambda x: (x[1], x[2]), reverse=True)\n",
    "        top_recommendations = related_items[:3]\n",
    "        return top_recommendations\n",
    "    else:\n",
    "        #empty list if no related items are found\n",
    "        return []\n",
    "\n",
    "# Function to display recommendations with justifications\n",
    "def display_recommendations(user_item):\n",
    "    recommendations = get_recommendations(user_item, DataFrame_intelligence)\n",
    "\n",
    "    if recommendations:\n",
    "        print(\"\\nYou may also need:\")\n",
    "        for item, confidence, lift in recommendations:\n",
    "            print(f\"{item} (Confidence: {confidence:.2f}, Lift: {lift:.2f}) - because customers who bought {user_item} also bought {item}.\")\n",
    "    else:\n",
    "        print(\"No strong recommendations found for the item you entered.\")\n",
    "        new_items = input(f\"What would you like to buy along with {user_item}? (Enter items separated by commas): \").strip().split(',')\n",
    "        new_items = [item.strip() for item in new_items]\n",
    "        add_new_association(user_item, new_items)\n",
    "        # Display recommendations after adding new \n",
    "        display_recommendations(user_item)\n",
    "\n",
    "# Function to add a new association\n",
    "def add_new_association(item1, item2):\n",
    "    global DataFrame_intelligence\n",
    "    new_row = pd.DataFrame({\n",
    "        'product1': [item1],\n",
    "        'product2': [item2],\n",
    "        'Support': [0.001],  \n",
    "        'Confidence': [0.5],  \n",
    "        'Lift': [2.0]  #\n",
    "    })\n",
    "    DataFrame_intelligence = pd.concat([DataFrame_intelligence, new_row], ignore_index=True)\n",
    "    print(f\"New association added: {item1} -> {item2}\")\n",
    "\n",
    "# Main loop for user interaction\n",
    "while True:\n",
    "    user_item = input(\"\\nEnter an item (or type 'exit' to quit): \").strip()\n",
    "    if user_item.lower() == 'exit':\n",
    "        break\n",
    "    display_recommendations(user_item)\n",
    "\n",
    "print(\"Thank you for using the recommendation system!\")\n"
   ]
  },
  {
   "cell_type": "markdown",
   "metadata": {},
   "source": [
    "## Report:\n",
    "\n",
    "In this Colab, we apply the Apriori algorithm, a classical technique for mining associations in transactional data, to uncover meaningful relationships within a dataset of shopping cart items. Here's a breakdown of what each section of the code accomplishes:\n",
    "\n",
    "### -Data Loading and Preprocessing\n",
    "we have a .csv file with transactional data done in Big Basket Application. The data is then preprocessed to create a list of transactions, where each transaction is a list of items purchased.\n",
    "\n",
    "### -Apriori Algorithm Application\n",
    "We use the apyori library to apply the Apriori algorithm on the transaction data. The algorithm is configured with various parameters like min_support, min_confidence, and min_lift to filter the associations. Associations with a specific item count (min_length and max_length) are considered.\n",
    "\n",
    "### -Results Extraction and Organization: \n",
    "The raw results from the Apriori algorithm are stored in the results list. We define the inspect function to extract and organize relevant information from the results, including product pairs, support, confidence, and lift. \n",
    "\n",
    "### -DataFrame Creation and Formatting:\n",
    "We create a DataFrame named DataFrame_intelligence using the inspect function to format the results for easier analysis.\n",
    "\n",
    "### -Top Associations and Visualization: \n",
    "\n",
    "The top associations are extracted from the DataFrame based on the highest lift values using the nlargest function. The code can be further expanded to visualize the associations using appropriate charts or graphs.\n",
    "\n",
    "\n"
   ]
  },
  {
   "cell_type": "markdown",
   "metadata": {},
   "source": [
    "# Recommendation System Evolution\n",
    "\n",
    "## Basic Recommendation System\n",
    "\n",
    "The initial version of our recommendation system provided recommendations based on association rules mined from transaction data. It allowed users to enter an item, and the system would suggest related items based on predefined rules.\n",
    "\n",
    "### Workflow:\n",
    "1. User inputs an item.\n",
    "2. The system retrieves associated items based on predefined rules.\n",
    "3. Recommendations are displayed to the user.\n",
    "\n",
    "## Enhanced Recommendation System\n",
    "\n",
    "To improve the recommendation system, we added the capability for users to provide their recommendations, which are then incorporated into the system's data. This allows for a more dynamic and personalized recommendation experience.\n",
    "\n",
    "### Workflow:\n",
    "1. User inputs an item.\n",
    "2. If no strong recommendations are found, the system prompts the user to enter additional items they would like to buy along with the input item.\n",
    "3. User provides additional items separated by commas.\n",
    "4. The system adds these associations to its data.\n",
    "5. Recommendations are displayed to the user, including the newly added associations.\n",
    "\n",
    "### Code Changes:\n",
    "- Added functionality to prompt users for additional items and incorporate their recommendations into the system's data.\n",
    "- Modified the `add_new_association` function to handle multiple associations.\n",
    "- Updated the `display_recommendations` function to handle user input for additional items and to display recommendations after adding new associations."
   ]
  },
  {
   "cell_type": "code",
   "execution_count": null,
   "metadata": {},
   "outputs": [],
   "source": []
  },
  {
   "cell_type": "code",
   "execution_count": null,
   "metadata": {},
   "outputs": [],
   "source": []
  }
 ],
 "metadata": {
  "colab": {
   "provenance": []
  },
  "kernelspec": {
   "display_name": "Python 3 (ipykernel)",
   "language": "python",
   "name": "python3"
  },
  "language_info": {
   "codemirror_mode": {
    "name": "ipython",
    "version": 3
   },
   "file_extension": ".py",
   "mimetype": "text/x-python",
   "name": "python",
   "nbconvert_exporter": "python",
   "pygments_lexer": "ipython3",
   "version": "3.11.5"
  }
 },
 "nbformat": 4,
 "nbformat_minor": 1
}
