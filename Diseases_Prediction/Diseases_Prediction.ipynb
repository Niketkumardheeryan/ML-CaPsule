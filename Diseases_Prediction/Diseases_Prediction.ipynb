{
 "cells": [
  {
   "cell_type": "code",
   "execution_count": null,
   "id": "2d77a561-3d1d-40a6-a11f-ae3f24234503",
   "metadata": {},
   "outputs": [],
   "source": [
    "!pip install numpy pandas scikit-learn catboost langchain-openai langchain"
   ]
  },
  {
   "cell_type": "code",
   "execution_count": 5,
   "id": "4d9753af-d97c-49be-b54f-fa779ec2e8f6",
   "metadata": {},
   "outputs": [],
   "source": [
    "import numpy as np\n",
    "import pandas as pd\n",
    "import os\n",
    "\n",
    "from sklearn.utils import shuffle\n",
    "from sklearn.preprocessing import OneHotEncoder\n",
    "from catboost import CatBoostClassifier\n",
    "from sklearn.metrics import accuracy_score\n",
    "from langchain_core.prompts import ChatPromptTemplate\n",
    "from langchain_openai import ChatOpenAI"
   ]
  },
  {
   "cell_type": "code",
   "execution_count": 24,
   "id": "284832f1-c143-4d97-a6ac-3b7fb68b37dc",
   "metadata": {},
   "outputs": [
    {
     "data": {
      "text/html": [
       "<div>\n",
       "<style scoped>\n",
       "    .dataframe tbody tr th:only-of-type {\n",
       "        vertical-align: middle;\n",
       "    }\n",
       "\n",
       "    .dataframe tbody tr th {\n",
       "        vertical-align: top;\n",
       "    }\n",
       "\n",
       "    .dataframe thead th {\n",
       "        text-align: right;\n",
       "    }\n",
       "</style>\n",
       "<table border=\"1\" class=\"dataframe\">\n",
       "  <thead>\n",
       "    <tr style=\"text-align: right;\">\n",
       "      <th></th>\n",
       "      <th>index</th>\n",
       "      <th>itching</th>\n",
       "      <th>skin_rash</th>\n",
       "      <th>nodal_skin_eruptions</th>\n",
       "      <th>continuous_sneezing</th>\n",
       "      <th>shivering</th>\n",
       "      <th>chills</th>\n",
       "      <th>joint_pain</th>\n",
       "      <th>stomach_pain</th>\n",
       "      <th>acidity</th>\n",
       "      <th>...</th>\n",
       "      <th>blackheads</th>\n",
       "      <th>scurring</th>\n",
       "      <th>skin_peeling</th>\n",
       "      <th>silver_like_dusting</th>\n",
       "      <th>small_dents_in_nails</th>\n",
       "      <th>inflammatory_nails</th>\n",
       "      <th>blister</th>\n",
       "      <th>red_sore_around_nose</th>\n",
       "      <th>yellow_crust_ooze</th>\n",
       "      <th>prognosis</th>\n",
       "    </tr>\n",
       "  </thead>\n",
       "  <tbody>\n",
       "    <tr>\n",
       "      <th>0</th>\n",
       "      <td>2414</td>\n",
       "      <td>0</td>\n",
       "      <td>0</td>\n",
       "      <td>0</td>\n",
       "      <td>0</td>\n",
       "      <td>0</td>\n",
       "      <td>0</td>\n",
       "      <td>0</td>\n",
       "      <td>0</td>\n",
       "      <td>0</td>\n",
       "      <td>...</td>\n",
       "      <td>0</td>\n",
       "      <td>0</td>\n",
       "      <td>0</td>\n",
       "      <td>0</td>\n",
       "      <td>0</td>\n",
       "      <td>0</td>\n",
       "      <td>0</td>\n",
       "      <td>0</td>\n",
       "      <td>0</td>\n",
       "      <td>(vertigo) Paroymsal  Positional Vertigo</td>\n",
       "    </tr>\n",
       "    <tr>\n",
       "      <th>1</th>\n",
       "      <td>3378</td>\n",
       "      <td>1</td>\n",
       "      <td>1</td>\n",
       "      <td>0</td>\n",
       "      <td>0</td>\n",
       "      <td>0</td>\n",
       "      <td>0</td>\n",
       "      <td>0</td>\n",
       "      <td>0</td>\n",
       "      <td>0</td>\n",
       "      <td>...</td>\n",
       "      <td>0</td>\n",
       "      <td>0</td>\n",
       "      <td>0</td>\n",
       "      <td>0</td>\n",
       "      <td>0</td>\n",
       "      <td>0</td>\n",
       "      <td>0</td>\n",
       "      <td>0</td>\n",
       "      <td>0</td>\n",
       "      <td>Chicken pox</td>\n",
       "    </tr>\n",
       "    <tr>\n",
       "      <th>2</th>\n",
       "      <td>2235</td>\n",
       "      <td>0</td>\n",
       "      <td>0</td>\n",
       "      <td>0</td>\n",
       "      <td>0</td>\n",
       "      <td>0</td>\n",
       "      <td>1</td>\n",
       "      <td>0</td>\n",
       "      <td>0</td>\n",
       "      <td>0</td>\n",
       "      <td>...</td>\n",
       "      <td>0</td>\n",
       "      <td>0</td>\n",
       "      <td>0</td>\n",
       "      <td>0</td>\n",
       "      <td>0</td>\n",
       "      <td>0</td>\n",
       "      <td>0</td>\n",
       "      <td>0</td>\n",
       "      <td>0</td>\n",
       "      <td>Typhoid</td>\n",
       "    </tr>\n",
       "    <tr>\n",
       "      <th>3</th>\n",
       "      <td>201</td>\n",
       "      <td>1</td>\n",
       "      <td>0</td>\n",
       "      <td>0</td>\n",
       "      <td>0</td>\n",
       "      <td>0</td>\n",
       "      <td>0</td>\n",
       "      <td>0</td>\n",
       "      <td>0</td>\n",
       "      <td>0</td>\n",
       "      <td>...</td>\n",
       "      <td>0</td>\n",
       "      <td>0</td>\n",
       "      <td>0</td>\n",
       "      <td>0</td>\n",
       "      <td>0</td>\n",
       "      <td>0</td>\n",
       "      <td>0</td>\n",
       "      <td>0</td>\n",
       "      <td>0</td>\n",
       "      <td>Hepatitis B</td>\n",
       "    </tr>\n",
       "    <tr>\n",
       "      <th>4</th>\n",
       "      <td>4860</td>\n",
       "      <td>0</td>\n",
       "      <td>0</td>\n",
       "      <td>0</td>\n",
       "      <td>0</td>\n",
       "      <td>0</td>\n",
       "      <td>0</td>\n",
       "      <td>1</td>\n",
       "      <td>0</td>\n",
       "      <td>0</td>\n",
       "      <td>...</td>\n",
       "      <td>0</td>\n",
       "      <td>0</td>\n",
       "      <td>0</td>\n",
       "      <td>0</td>\n",
       "      <td>0</td>\n",
       "      <td>0</td>\n",
       "      <td>0</td>\n",
       "      <td>0</td>\n",
       "      <td>0</td>\n",
       "      <td>Hepatitis D</td>\n",
       "    </tr>\n",
       "  </tbody>\n",
       "</table>\n",
       "<p>5 rows × 134 columns</p>\n",
       "</div>"
      ],
      "text/plain": [
       "   index  itching  skin_rash  nodal_skin_eruptions  continuous_sneezing  \\\n",
       "0   2414        0          0                     0                    0   \n",
       "1   3378        1          1                     0                    0   \n",
       "2   2235        0          0                     0                    0   \n",
       "3    201        1          0                     0                    0   \n",
       "4   4860        0          0                     0                    0   \n",
       "\n",
       "   shivering  chills  joint_pain  stomach_pain  acidity  ...  blackheads  \\\n",
       "0          0       0           0             0        0  ...           0   \n",
       "1          0       0           0             0        0  ...           0   \n",
       "2          0       1           0             0        0  ...           0   \n",
       "3          0       0           0             0        0  ...           0   \n",
       "4          0       0           1             0        0  ...           0   \n",
       "\n",
       "   scurring  skin_peeling  silver_like_dusting  small_dents_in_nails  \\\n",
       "0         0             0                    0                     0   \n",
       "1         0             0                    0                     0   \n",
       "2         0             0                    0                     0   \n",
       "3         0             0                    0                     0   \n",
       "4         0             0                    0                     0   \n",
       "\n",
       "   inflammatory_nails  blister  red_sore_around_nose  yellow_crust_ooze  \\\n",
       "0                   0        0                     0                  0   \n",
       "1                   0        0                     0                  0   \n",
       "2                   0        0                     0                  0   \n",
       "3                   0        0                     0                  0   \n",
       "4                   0        0                     0                  0   \n",
       "\n",
       "                                 prognosis  \n",
       "0  (vertigo) Paroymsal  Positional Vertigo  \n",
       "1                              Chicken pox  \n",
       "2                                  Typhoid  \n",
       "3                              Hepatitis B  \n",
       "4                              Hepatitis D  \n",
       "\n",
       "[5 rows x 134 columns]"
      ]
     },
     "execution_count": 24,
     "metadata": {},
     "output_type": "execute_result"
    }
   ],
   "source": [
    "train_df = shuffle(pd.read_csv('Training.csv').iloc[:, :-1])\n",
    "test_df = pd.read_csv('Testing.csv')\n",
    "\n",
    "train_df.reset_index().head(5)"
   ]
  },
  {
   "cell_type": "code",
   "execution_count": 27,
   "id": "07d3289d-6fd6-49c4-ae3d-018864f4fa99",
   "metadata": {},
   "outputs": [
    {
     "data": {
      "text/plain": [
       "['Fungal infection', 'Allergy', 'GERD', 'Chronic cholestasis', 'Drug Reaction']"
      ]
     },
     "execution_count": 27,
     "metadata": {},
     "output_type": "execute_result"
    }
   ],
   "source": [
    "train_x = train_df.iloc[:, :-1]\n",
    "train_y = train_df.iloc[:, -1]\n",
    "\n",
    "test_x = test_df.iloc[:, :-1]\n",
    "test_y = test_df.iloc[:, -1]"
   ]
  },
  {
   "cell_type": "markdown",
   "id": "2e3e36da-67b6-4348-9841-bb7a33ada05c",
   "metadata": {},
   "source": [
    "# Targets"
   ]
  },
  {
   "cell_type": "code",
   "execution_count": 25,
   "id": "0812cc81-2a72-4521-bea3-afe9ceecaa1b",
   "metadata": {},
   "outputs": [
    {
     "name": "stdout",
     "output_type": "stream",
     "text": [
      "['Fungal infection' 'Allergy' 'GERD' 'Chronic cholestasis' 'Drug Reaction'\n",
      " 'Peptic ulcer diseae' 'AIDS' 'Diabetes ' 'Gastroenteritis'\n",
      " 'Bronchial Asthma' 'Hypertension ' 'Migraine' 'Cervical spondylosis'\n",
      " 'Paralysis (brain hemorrhage)' 'Jaundice' 'Malaria' 'Chicken pox'\n",
      " 'Dengue' 'Typhoid' 'hepatitis A' 'Hepatitis B' 'Hepatitis C'\n",
      " 'Hepatitis D' 'Hepatitis E' 'Alcoholic hepatitis' 'Tuberculosis'\n",
      " 'Common Cold' 'Pneumonia' 'Dimorphic hemmorhoids(piles)' 'Heart attack'\n",
      " 'Varicose veins' 'Hypothyroidism' 'Hyperthyroidism' 'Hypoglycemia'\n",
      " 'Osteoarthristis' 'Arthritis' '(vertigo) Paroymsal  Positional Vertigo'\n",
      " 'Acne' 'Urinary tract infection' 'Psoriasis' 'Impetigo']\n"
     ]
    }
   ],
   "source": [
    "print(test_y.unique().tolist())"
   ]
  },
  {
   "cell_type": "code",
   "execution_count": 9,
   "id": "053a3485-afef-421b-b156-4609f547ea3c",
   "metadata": {},
   "outputs": [
    {
     "name": "stdout",
     "output_type": "stream",
     "text": [
      "Accuracy: 0.9761904761904762\n"
     ]
    }
   ],
   "source": [
    "model = CatBoostClassifier(iterations=50, learning_rate=0.1, depth=2, loss_function='MultiClass', verbose=False)\n",
    "model.fit(train_x, train_y)\n",
    "\n",
    "predictions = model.predict(test_x)\n",
    "accuracy = accuracy_score(test_y, predictions)\n",
    "print(f\"Accuracy: {accuracy}\")"
   ]
  },
  {
   "cell_type": "code",
   "execution_count": null,
   "id": "5acdfbc2-9ff4-4c8e-be0f-3b1dffdbded8",
   "metadata": {},
   "outputs": [],
   "source": []
  },
  {
   "cell_type": "code",
   "execution_count": 10,
   "id": "704042ab-20d5-48b7-8c29-4e261f5a82a6",
   "metadata": {},
   "outputs": [],
   "source": [
    "llm = ChatOpenAI(model=\"gpt-3.5-turbo-0125\", temperature=0, api_key=\"\")"
   ]
  },
  {
   "cell_type": "code",
   "execution_count": 14,
   "id": "37a5cf86-a165-475e-a5fd-678c110ceb1a",
   "metadata": {},
   "outputs": [],
   "source": [
    "prompt = ChatPromptTemplate.from_messages(\n",
    "    [\n",
    "        (\"system\",\"You are an expert in medical science.\"),\n",
    "        (\"human\", \"Please provide general prescriptions for {user_input}\"),\n",
    "    ]\n",
    ")\n",
    "\n",
    "chain = prompt | llm"
   ]
  },
  {
   "cell_type": "code",
   "execution_count": null,
   "id": "04623ed6-a4b1-48de-a901-c83a213f76a8",
   "metadata": {},
   "outputs": [],
   "source": []
  },
  {
   "cell_type": "code",
   "execution_count": 32,
   "id": "a2fe0e89-1549-48ff-8949-5bc83828200d",
   "metadata": {},
   "outputs": [],
   "source": [
    "def expert_advice():\n",
    "    disease=model.predict(train_x.head(1))\n",
    "    print(\"Judging from symptoms, you are most likely facing:\",disease.tolist())\n",
    "    print()\n",
    "    response=chain.invoke({\"user_input\": disease})\n",
    "    print(response.content)"
   ]
  },
  {
   "cell_type": "code",
   "execution_count": 33,
   "id": "2c14b076-9ab4-47d7-93a0-bce0c366af01",
   "metadata": {},
   "outputs": [
    {
     "name": "stdout",
     "output_type": "stream",
     "text": [
      "Judging from symptoms, you are most likely facing: [['(vertigo) Paroymsal  Positional Vertigo']]\n",
      "\n",
      "Paroxysmal Positional Vertigo (PPV) is a common type of vertigo that is typically triggered by changes in head position. The following general prescriptions are commonly recommended for managing PPV:\n",
      "\n",
      "1. Epley maneuver: This is a series of head movements that can help reposition the displaced crystals in the inner ear that are causing the vertigo. A healthcare provider or physical therapist can demonstrate how to perform the Epley maneuver correctly.\n",
      "\n",
      "2. Medications: In some cases, medications such as meclizine or dimenhydrinate may be prescribed to help alleviate symptoms of vertigo. These medications can help reduce dizziness and nausea.\n",
      "\n",
      "3. Vestibular rehabilitation therapy: This is a type of physical therapy that focuses on exercises and maneuvers to improve balance and reduce symptoms of vertigo. A physical therapist can create a customized exercise program to help manage PPV.\n",
      "\n",
      "4. Lifestyle modifications: Avoiding sudden head movements, staying hydrated, and getting an adequate amount of rest can help manage symptoms of PPV.\n",
      "\n",
      "It is important to consult with a healthcare provider for a proper diagnosis and individualized treatment plan for Paroxysmal Positional Vertigo.\n"
     ]
    }
   ],
   "source": [
    "expert_advice()"
   ]
  },
  {
   "cell_type": "code",
   "execution_count": null,
   "id": "696616eb-3c60-4197-bcfe-423c812bacab",
   "metadata": {},
   "outputs": [],
   "source": []
  }
 ],
 "metadata": {
  "kernelspec": {
   "display_name": "Python 3 (ipykernel)",
   "language": "python",
   "name": "python3"
  },
  "language_info": {
   "codemirror_mode": {
    "name": "ipython",
    "version": 3
   },
   "file_extension": ".py",
   "mimetype": "text/x-python",
   "name": "python",
   "nbconvert_exporter": "python",
   "pygments_lexer": "ipython3",
   "version": "3.10.12"
  }
 },
 "nbformat": 4,
 "nbformat_minor": 5
}
