{
 "cells": [
  {
   "cell_type": "code",
   "execution_count": 1,
   "metadata": {},
   "outputs": [],
   "source": [
    "import pymongo"
   ]
  },
  {
   "cell_type": "code",
   "execution_count": 2,
   "metadata": {},
   "outputs": [],
   "source": [
    "# To create a database in MongoDB, first create a MongoClient object\n",
    "\n",
    "client = pymongo.MongoClient('mongodb://127.0.0.1:27017/')\n",
    "\n",
    "# mongodb is the protocol\n",
    "# 127.0.0.1 is the localhost name\n",
    "# 27017 is the port no."
   ]
  },
  {
   "cell_type": "code",
   "execution_count": 3,
   "metadata": {},
   "outputs": [
    {
     "data": {
      "text/plain": [
       "['admin', 'config', 'local']"
      ]
     },
     "execution_count": 3,
     "metadata": {},
     "output_type": "execute_result"
    }
   ],
   "source": [
    "# to see all databases present\n",
    "\n",
    "client.list_database_names()"
   ]
  },
  {
   "cell_type": "code",
   "execution_count": 31,
   "metadata": {},
   "outputs": [],
   "source": [
    "# to create a database of name college\n",
    "\n",
    "db = client[\"college\"]"
   ]
  },
  {
   "cell_type": "code",
   "execution_count": 6,
   "metadata": {},
   "outputs": [
    {
     "data": {
      "text/plain": [
       "Database(MongoClient(host=['127.0.0.1:27017'], document_class=dict, tz_aware=False, connect=True), 'college')"
      ]
     },
     "execution_count": 6,
     "metadata": {},
     "output_type": "execute_result"
    }
   ],
   "source": [
    "db"
   ]
  },
  {
   "cell_type": "code",
   "execution_count": 32,
   "metadata": {},
   "outputs": [],
   "source": [
    "# to create a collection of name student\n",
    "\n",
    "collection = db.student\n",
    "\n",
    "# another way to create:  collection = db[\"student\"]"
   ]
  },
  {
   "cell_type": "code",
   "execution_count": 8,
   "metadata": {},
   "outputs": [
    {
     "data": {
      "text/plain": [
       "[]"
      ]
     },
     "execution_count": 8,
     "metadata": {},
     "output_type": "execute_result"
    }
   ],
   "source": [
    "# to see the collections present, it is showing empty list bcos we have not entered any document to the collection\n",
    "\n",
    "db.list_collection_names()"
   ]
  },
  {
   "cell_type": "code",
   "execution_count": 33,
   "metadata": {},
   "outputs": [],
   "source": [
    "# creating document\n",
    "\n",
    "records = [\n",
    "    {'_id' : 1 , 'name' : \"suryansh\" , 'age' : 20},\n",
    "    {'_id' : 2 , 'name' : \"ram\" , 'age' : 22},\n",
    "    {'_id' : 3 , 'name' : \"shyam\" , 'age' : 19},\n",
    "    {'_id' : 4 , 'name' : \"harshad\" , 'age' : 21},\n",
    "    {'_id' : 5 , 'name' : \"sam\" , 'age' : 20},\n",
    "    {'_id' : 6 , 'name' : \"aryan\" , 'age' : 30},\n",
    "    {'_id' : 7 , 'name' : \"divyansh\" , 'age' : 10}\n",
    "          ]"
   ]
  },
  {
   "cell_type": "code",
   "execution_count": 34,
   "metadata": {},
   "outputs": [
    {
     "data": {
      "text/plain": [
       "<pymongo.results.InsertManyResult at 0x1cacf2d7240>"
      ]
     },
     "execution_count": 34,
     "metadata": {},
     "output_type": "execute_result"
    }
   ],
   "source": [
    "# inserting documents in a collection\n",
    "\n",
    "collection.insert_many(records)"
   ]
  },
  {
   "cell_type": "code",
   "execution_count": 35,
   "metadata": {},
   "outputs": [
    {
     "data": {
      "text/plain": [
       "7"
      ]
     },
     "execution_count": 35,
     "metadata": {},
     "output_type": "execute_result"
    }
   ],
   "source": [
    "collection.count_documents({})"
   ]
  },
  {
   "cell_type": "code",
   "execution_count": 12,
   "metadata": {},
   "outputs": [
    {
     "data": {
      "text/plain": [
       "['student']"
      ]
     },
     "execution_count": 12,
     "metadata": {},
     "output_type": "execute_result"
    }
   ],
   "source": [
    "db.list_collection_names()"
   ]
  },
  {
   "cell_type": "markdown",
   "metadata": {},
   "source": [
    "# Querying"
   ]
  },
  {
   "cell_type": "code",
   "execution_count": 13,
   "metadata": {},
   "outputs": [
    {
     "data": {
      "text/plain": [
       "{'_id': 1, 'name': 'suryansh', 'age': 20}"
      ]
     },
     "execution_count": 13,
     "metadata": {},
     "output_type": "execute_result"
    }
   ],
   "source": [
    "# returns the first occurrence in the selection.\n",
    "\n",
    "collection.find_one()"
   ]
  },
  {
   "cell_type": "code",
   "execution_count": 14,
   "metadata": {},
   "outputs": [
    {
     "name": "stdout",
     "output_type": "stream",
     "text": [
      "{'_id': 1, 'name': 'suryansh', 'age': 20}\n",
      "{'_id': 2, 'name': 'ram', 'age': 22}\n",
      "{'_id': 3, 'name': 'shyam', 'age': 19}\n",
      "{'_id': 4, 'name': 'harshad', 'age': 21}\n",
      "{'_id': 5, 'name': 'sam', 'age': 20}\n",
      "{'_id': 6, 'name': 'aryan', 'age': 30}\n",
      "{'_id': 7, 'name': 'divyansh', 'age': 10}\n"
     ]
    }
   ],
   "source": [
    "# returns all document\n",
    "\n",
    "for i in collection.find():\n",
    "    print(i)"
   ]
  },
  {
   "cell_type": "code",
   "execution_count": 15,
   "metadata": {},
   "outputs": [
    {
     "name": "stdout",
     "output_type": "stream",
     "text": [
      "{'name': 'suryansh', 'age': 20}\n",
      "{'name': 'ram', 'age': 22}\n",
      "{'name': 'shyam', 'age': 19}\n",
      "{'name': 'harshad', 'age': 21}\n",
      "{'name': 'sam', 'age': 20}\n",
      "{'name': 'aryan', 'age': 30}\n",
      "{'name': 'divyansh', 'age': 10}\n"
     ]
    }
   ],
   "source": [
    "for i in collection.find({},{ \"_id\": 0, \"name\": 1, \"age\": 1 }):\n",
    "    print(i)"
   ]
  },
  {
   "cell_type": "code",
   "execution_count": 17,
   "metadata": {},
   "outputs": [
    {
     "name": "stdout",
     "output_type": "stream",
     "text": [
      "{'name': 'suryansh', 'age': 20}\n"
     ]
    }
   ],
   "source": [
    "for i in collection.find({'name' : 'suryansh'} , {'_id' : 0 , 'name' : 1 , 'age' : 1}):\n",
    "    print(i)"
   ]
  },
  {
   "cell_type": "code",
   "execution_count": 18,
   "metadata": {},
   "outputs": [
    {
     "name": "stdout",
     "output_type": "stream",
     "text": [
      "{'name': 'suryansh', 'age': 20}\n",
      "{'name': 'shyam', 'age': 19}\n"
     ]
    }
   ],
   "source": [
    "for i in collection.find({'name' : {'$gt' : 's'}} , {'_id' : 0 , 'name' : 1 , 'age' : 1}).limit(2):\n",
    "    print(i)"
   ]
  },
  {
   "cell_type": "code",
   "execution_count": 20,
   "metadata": {},
   "outputs": [
    {
     "name": "stdout",
     "output_type": "stream",
     "text": [
      "{'name': 'suryansh', 'age': 20}\n",
      "{'name': 'sam', 'age': 20}\n"
     ]
    }
   ],
   "source": [
    "for i in collection.find({'$and' : [{'name' : {'$gt' : 's'}} , {'age' : {'$eq' : 20}}]} , {'_id' : 0 , 'name' : 1 , 'age' : 1}):\n",
    "    print(i)"
   ]
  },
  {
   "cell_type": "code",
   "execution_count": 21,
   "metadata": {},
   "outputs": [
    {
     "name": "stdout",
     "output_type": "stream",
     "text": [
      "{'name': 'sam', 'age': 20}\n",
      "{'name': 'shyam', 'age': 19}\n",
      "{'name': 'suryansh', 'age': 20}\n"
     ]
    }
   ],
   "source": [
    "# query to find the name that starts with s\n",
    "# note to apply filter to strings use:   $regex\n",
    "# sort() to sort the data in ascending(1) and descending order(-1) based ona paricular feild \n",
    "\n",
    "for i in collection.find({ \"name\": { \"$regex\": \"^s\" }} , {'_id' : 0 , 'name' : 1 , 'age' : 1}).sort(\"name\", 1):\n",
    "    print(i)"
   ]
  },
  {
   "cell_type": "code",
   "execution_count": 22,
   "metadata": {},
   "outputs": [
    {
     "name": "stdout",
     "output_type": "stream",
     "text": [
      "{'_id': 1, 'name': 'suryansh', 'age': 20}\n",
      "{'_id': 2, 'name': 'ram', 'age': 22}\n",
      "{'_id': 3, 'name': 'shyam', 'age': 19}\n",
      "{'_id': 4, 'name': 'harshad', 'age': 21}\n",
      "{'_id': 5, 'name': 'sam', 'age': 20}\n",
      "{'_id': 6, 'name': 'aryan', 'age': 30}\n",
      "{'_id': 7, 'name': 'divyansh', 'age': 10}\n"
     ]
    }
   ],
   "source": [
    "for i in collection.find():\n",
    "    print(i)"
   ]
  },
  {
   "cell_type": "code",
   "execution_count": 23,
   "metadata": {},
   "outputs": [
    {
     "data": {
      "text/plain": [
       "<pymongo.results.DeleteResult at 0x1cacf0f0640>"
      ]
     },
     "execution_count": 23,
     "metadata": {},
     "output_type": "execute_result"
    }
   ],
   "source": [
    "# deletes first document\n",
    "\n",
    "collection.delete_one({})"
   ]
  },
  {
   "cell_type": "code",
   "execution_count": 24,
   "metadata": {},
   "outputs": [
    {
     "name": "stdout",
     "output_type": "stream",
     "text": [
      "{'_id': 2, 'name': 'ram', 'age': 22}\n",
      "{'_id': 3, 'name': 'shyam', 'age': 19}\n",
      "{'_id': 4, 'name': 'harshad', 'age': 21}\n",
      "{'_id': 5, 'name': 'sam', 'age': 20}\n",
      "{'_id': 6, 'name': 'aryan', 'age': 30}\n",
      "{'_id': 7, 'name': 'divyansh', 'age': 10}\n"
     ]
    }
   ],
   "source": [
    "for i in collection.find():\n",
    "    print(i)"
   ]
  },
  {
   "cell_type": "code",
   "execution_count": 27,
   "metadata": {},
   "outputs": [
    {
     "data": {
      "text/plain": [
       "<pymongo.results.DeleteResult at 0x1cacf2dff80>"
      ]
     },
     "execution_count": 27,
     "metadata": {},
     "output_type": "execute_result"
    }
   ],
   "source": [
    "# deletes all documents \n",
    "\n",
    "collection.delete_many({})"
   ]
  },
  {
   "cell_type": "code",
   "execution_count": 28,
   "metadata": {},
   "outputs": [],
   "source": [
    "for i in collection.find():\n",
    "    print(i)"
   ]
  },
  {
   "cell_type": "code",
   "execution_count": 25,
   "metadata": {},
   "outputs": [
    {
     "data": {
      "text/plain": [
       "<pymongo.results.DeleteResult at 0x1cacf2d7c00>"
      ]
     },
     "execution_count": 25,
     "metadata": {},
     "output_type": "execute_result"
    }
   ],
   "source": [
    "collection.delete_many({'name' : {'$gt': \"s\"}})"
   ]
  },
  {
   "cell_type": "code",
   "execution_count": 26,
   "metadata": {},
   "outputs": [
    {
     "name": "stdout",
     "output_type": "stream",
     "text": [
      "{'_id': 2, 'name': 'ram', 'age': 22}\n",
      "{'_id': 4, 'name': 'harshad', 'age': 21}\n",
      "{'_id': 6, 'name': 'aryan', 'age': 30}\n",
      "{'_id': 7, 'name': 'divyansh', 'age': 10}\n"
     ]
    }
   ],
   "source": [
    "for i in collection.find():\n",
    "    print(i)"
   ]
  },
  {
   "cell_type": "code",
   "execution_count": 29,
   "metadata": {},
   "outputs": [],
   "source": [
    "# drop() method returns true if the collection was dropped successfully, and false if the collection does not exist\n",
    "\n",
    "collection.drop()"
   ]
  },
  {
   "cell_type": "code",
   "execution_count": 36,
   "metadata": {},
   "outputs": [
    {
     "name": "stderr",
     "output_type": "stream",
     "text": [
      "<ipython-input-36-896185ff0974>:1: DeprecationWarning: database_names is deprecated. Use list_database_names instead.\n",
      "  client.database_names()\n"
     ]
    },
    {
     "data": {
      "text/plain": [
       "['admin', 'college', 'config', 'local']"
      ]
     },
     "execution_count": 36,
     "metadata": {},
     "output_type": "execute_result"
    }
   ],
   "source": [
    "client.database_names()"
   ]
  },
  {
   "cell_type": "code",
   "execution_count": 37,
   "metadata": {},
   "outputs": [
    {
     "data": {
      "text/plain": [
       "<pymongo.results.UpdateResult at 0x1cacf2f9dc0>"
      ]
     },
     "execution_count": 37,
     "metadata": {},
     "output_type": "execute_result"
    }
   ],
   "source": [
    "myquery = { \"name\": \"aryan\" }\n",
    "newvalues = { \"$set\": { \"name\": \"akarsh\" } }\n",
    "\n",
    "collection.update_one(myquery, newvalues)"
   ]
  },
  {
   "cell_type": "code",
   "execution_count": 38,
   "metadata": {},
   "outputs": [
    {
     "name": "stdout",
     "output_type": "stream",
     "text": [
      "{'_id': 1, 'name': 'suryansh', 'age': 20}\n",
      "{'_id': 2, 'name': 'ram', 'age': 22}\n",
      "{'_id': 3, 'name': 'shyam', 'age': 19}\n",
      "{'_id': 4, 'name': 'harshad', 'age': 21}\n",
      "{'_id': 5, 'name': 'sam', 'age': 20}\n",
      "{'_id': 6, 'name': 'akarsh', 'age': 30}\n",
      "{'_id': 7, 'name': 'divyansh', 'age': 10}\n"
     ]
    }
   ],
   "source": [
    "for i in collection.find():\n",
    "    print(i)"
   ]
  },
  {
   "cell_type": "code",
   "execution_count": 49,
   "metadata": {},
   "outputs": [
    {
     "data": {
      "text/plain": [
       "<pymongo.results.UpdateResult at 0x1cacf2e6b00>"
      ]
     },
     "execution_count": 49,
     "metadata": {},
     "output_type": "execute_result"
    }
   ],
   "source": [
    "myquery = { \"name\": { \"$regex\": \"^S\" } }\n",
    "newvalues = { \"$set\": { \"name\": \"Minnie\" } }\n",
    "\n",
    "collection.update_many(myquery, newvalues)"
   ]
  },
  {
   "cell_type": "code",
   "execution_count": 50,
   "metadata": {},
   "outputs": [
    {
     "name": "stdout",
     "output_type": "stream",
     "text": [
      "{'_id': 1, 'name': 'suryansh', 'age': 20}\n",
      "{'_id': 2, 'name': 'ram', 'age': 22}\n",
      "{'_id': 3, 'name': 'shyam', 'age': 19}\n",
      "{'_id': 4, 'name': 'harshad', 'age': 21}\n",
      "{'_id': 5, 'name': 'sam', 'age': 20}\n",
      "{'_id': 6, 'name': 'akarsh', 'age': 30}\n",
      "{'_id': 7, 'name': 'divyansh', 'age': 10}\n"
     ]
    }
   ],
   "source": [
    "for i in collection.find():\n",
    "    print(i)"
   ]
  }
 ],
 "metadata": {
  "kernelspec": {
   "display_name": "Python 3",
   "language": "python",
   "name": "python3"
  },
  "language_info": {
   "codemirror_mode": {
    "name": "ipython",
    "version": 3
   },
   "file_extension": ".py",
   "mimetype": "text/x-python",
   "name": "python",
   "nbconvert_exporter": "python",
   "pygments_lexer": "ipython3",
   "version": "3.8.5"
  }
 },
 "nbformat": 4,
 "nbformat_minor": 4
}
