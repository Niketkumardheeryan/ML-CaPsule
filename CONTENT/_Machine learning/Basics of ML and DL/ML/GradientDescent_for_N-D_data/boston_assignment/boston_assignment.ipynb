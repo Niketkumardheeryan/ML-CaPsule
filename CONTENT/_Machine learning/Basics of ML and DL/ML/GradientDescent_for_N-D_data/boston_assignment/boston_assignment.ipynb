{
 "cells": [
  {
   "cell_type": "code",
   "execution_count": 1,
   "metadata": {},
   "outputs": [],
   "source": [
    "import numpy as np\n",
    "import pandas as pd\n",
    "import matplotlib.pyplot as plt\n",
    "from sklearn.preprocessing import MinMaxScaler\n",
    "scaler = MinMaxScaler()"
   ]
  },
  {
   "cell_type": "markdown",
   "metadata": {},
   "source": [
    "## Defining all required functions for Gradient Descent"
   ]
  },
  {
   "cell_type": "code",
   "execution_count": 2,
   "metadata": {},
   "outputs": [],
   "source": [
    "def cost(x_train,y_train,m):\n",
    "    total_cost=0\n",
    "    for i in range(len(x_train)):\n",
    "        total_cost+=(1/len(x_train))*((y_train[i]-(m*x_train[i]).sum())**2)\n",
    "    return total_cost"
   ]
  },
  {
   "cell_type": "code",
   "execution_count": 3,
   "metadata": {},
   "outputs": [],
   "source": [
    "def step_gradient(x_train,y_train,learning_rate,m):\n",
    "    M=len(x_train)\n",
    "    N=len(x_train[0])\n",
    "    m_slope=np.zeros(N)\n",
    "    for i in range(M):\n",
    "        for j in range(N):\n",
    "            x=x_train[i]\n",
    "            y=y_train[i]\n",
    "            m_slope[j]+=(-2/M)*((y-(m*x).sum())*x[j])\n",
    "    m=m-learning_rate*m_slope\n",
    "    return m"
   ]
  },
  {
   "cell_type": "code",
   "execution_count": 4,
   "metadata": {},
   "outputs": [],
   "source": [
    "def gd(x_train,y_train,learning_rate,no_of_iterations):\n",
    "    M=len(x_train)\n",
    "    m=np.zeros(len(x_train[0]))\n",
    "    for i in range(no_of_iterations):\n",
    "        m=step_gradient(x_train,y_train,learning_rate,m)\n",
    "        #print(i,\"Cost:\",cost(x_train,y_train,m))\n",
    "    print(\"Cost:\",cost(x_train,y_train,m))\n",
    "    return m"
   ]
  },
  {
   "cell_type": "code",
   "execution_count": 5,
   "metadata": {},
   "outputs": [],
   "source": [
    "def predict(x_test, m):\n",
    "    y_predict = np.zeros(len(x_test)) \n",
    "    for i in range(len(x_test)):\n",
    "        y_predict[i] = (x_test[i] * m).sum()\n",
    "    return y_predict"
   ]
  },
  {
   "cell_type": "code",
   "execution_count": 6,
   "metadata": {},
   "outputs": [],
   "source": [
    "def score(x , y , m):\n",
    "    u = 0\n",
    "    v = 0\n",
    "    mean = y.mean()\n",
    "    for i in range(len(x)):\n",
    "        u = u + ( y[i] - ( m * x[i] ).sum() ) ** 2\n",
    "        v = v + ( y[i] - mean ) ** 2\n",
    "    print(\"score :\" , 1- (u/v))"
   ]
  },
  {
   "cell_type": "code",
   "execution_count": 7,
   "metadata": {},
   "outputs": [],
   "source": [
    "def stocastic_step_gradient(x_train,y_train,learning_rate,m):\n",
    "    M=len(x_train)\n",
    "    N=len(x_train[0])\n",
    "    m_slope=np.zeros(N)    \n",
    "    for i in range (M):\n",
    "        for j in range(N):\n",
    "            x=x_train[i]\n",
    "            y=y_train[i]\n",
    "            m_slope[j] += (-2/M)*(y-(m*x).sum())*x[j]\n",
    "            m[j]=m[j]-learning_rate*m_slope[j]            \n",
    "    m = m - learning_rate * m_slope\n",
    "    return m"
   ]
  },
  {
   "cell_type": "code",
   "execution_count": 8,
   "metadata": {},
   "outputs": [],
   "source": [
    "def stocastic_gd(x_train,y_train,learning_rate,no_of_iterations):\n",
    "    M=len(x_train)\n",
    "    m=np.zeros(len(x_train[0]))\n",
    "    for i in range(no_of_iterations):\n",
    "        m=stocastic_step_gradient(x_train,y_train,learning_rate,m)\n",
    "        #print(i,\"Cost:\",cost(x_train,y_train,m))\n",
    "    print(\"Cost:\",cost(x_train,y_train,m))\n",
    "    return m"
   ]
  },
  {
   "cell_type": "markdown",
   "metadata": {},
   "source": [
    "## Data Preprocessing"
   ]
  },
  {
   "cell_type": "code",
   "execution_count": 9,
   "metadata": {},
   "outputs": [
    {
     "data": {
      "text/html": [
       "<div>\n",
       "<style scoped>\n",
       "    .dataframe tbody tr th:only-of-type {\n",
       "        vertical-align: middle;\n",
       "    }\n",
       "\n",
       "    .dataframe tbody tr th {\n",
       "        vertical-align: top;\n",
       "    }\n",
       "\n",
       "    .dataframe thead th {\n",
       "        text-align: right;\n",
       "    }\n",
       "</style>\n",
       "<table border=\"1\" class=\"dataframe\">\n",
       "  <thead>\n",
       "    <tr style=\"text-align: right;\">\n",
       "      <th></th>\n",
       "      <th># CRIM</th>\n",
       "      <th>ZN</th>\n",
       "      <th>INDUS</th>\n",
       "      <th>CHAS</th>\n",
       "      <th>NOX</th>\n",
       "      <th>RM</th>\n",
       "      <th>AGE</th>\n",
       "      <th>DIS</th>\n",
       "      <th>RAD</th>\n",
       "      <th>TAX</th>\n",
       "      <th>PTRATIO</th>\n",
       "      <th>B</th>\n",
       "      <th>LSTAT</th>\n",
       "      <th>Y</th>\n",
       "    </tr>\n",
       "  </thead>\n",
       "  <tbody>\n",
       "    <tr>\n",
       "      <th>0</th>\n",
       "      <td>-0.407850</td>\n",
       "      <td>-0.487722</td>\n",
       "      <td>-1.266023</td>\n",
       "      <td>-0.272599</td>\n",
       "      <td>-0.576134</td>\n",
       "      <td>1.239974</td>\n",
       "      <td>0.840122</td>\n",
       "      <td>-0.520264</td>\n",
       "      <td>-0.752922</td>\n",
       "      <td>-1.278354</td>\n",
       "      <td>-0.303094</td>\n",
       "      <td>0.410571</td>\n",
       "      <td>-1.097990</td>\n",
       "      <td>37.9</td>\n",
       "    </tr>\n",
       "    <tr>\n",
       "      <th>1</th>\n",
       "      <td>-0.407374</td>\n",
       "      <td>-0.487722</td>\n",
       "      <td>0.247057</td>\n",
       "      <td>-0.272599</td>\n",
       "      <td>-1.016689</td>\n",
       "      <td>0.001946</td>\n",
       "      <td>-0.838337</td>\n",
       "      <td>0.336351</td>\n",
       "      <td>-0.523001</td>\n",
       "      <td>-0.060801</td>\n",
       "      <td>0.113032</td>\n",
       "      <td>0.291169</td>\n",
       "      <td>-0.520474</td>\n",
       "      <td>21.4</td>\n",
       "    </tr>\n",
       "    <tr>\n",
       "      <th>2</th>\n",
       "      <td>0.125179</td>\n",
       "      <td>-0.487722</td>\n",
       "      <td>1.015999</td>\n",
       "      <td>-0.272599</td>\n",
       "      <td>1.367490</td>\n",
       "      <td>-0.439699</td>\n",
       "      <td>0.687212</td>\n",
       "      <td>-0.577309</td>\n",
       "      <td>1.661245</td>\n",
       "      <td>1.530926</td>\n",
       "      <td>0.806576</td>\n",
       "      <td>-3.795795</td>\n",
       "      <td>0.891076</td>\n",
       "      <td>12.7</td>\n",
       "    </tr>\n",
       "    <tr>\n",
       "      <th>3</th>\n",
       "      <td>0.028304</td>\n",
       "      <td>-0.487722</td>\n",
       "      <td>1.015999</td>\n",
       "      <td>-0.272599</td>\n",
       "      <td>1.859875</td>\n",
       "      <td>-0.047918</td>\n",
       "      <td>0.801005</td>\n",
       "      <td>-0.712836</td>\n",
       "      <td>1.661245</td>\n",
       "      <td>1.530926</td>\n",
       "      <td>0.806576</td>\n",
       "      <td>-0.066050</td>\n",
       "      <td>0.215438</td>\n",
       "      <td>19.9</td>\n",
       "    </tr>\n",
       "    <tr>\n",
       "      <th>4</th>\n",
       "      <td>-0.412408</td>\n",
       "      <td>-0.487722</td>\n",
       "      <td>-0.969827</td>\n",
       "      <td>-0.272599</td>\n",
       "      <td>-0.913029</td>\n",
       "      <td>-0.384137</td>\n",
       "      <td>-0.834781</td>\n",
       "      <td>0.300508</td>\n",
       "      <td>-0.752922</td>\n",
       "      <td>-0.957633</td>\n",
       "      <td>0.020560</td>\n",
       "      <td>0.431074</td>\n",
       "      <td>0.029007</td>\n",
       "      <td>22.5</td>\n",
       "    </tr>\n",
       "    <tr>\n",
       "      <th>...</th>\n",
       "      <td>...</td>\n",
       "      <td>...</td>\n",
       "      <td>...</td>\n",
       "      <td>...</td>\n",
       "      <td>...</td>\n",
       "      <td>...</td>\n",
       "      <td>...</td>\n",
       "      <td>...</td>\n",
       "      <td>...</td>\n",
       "      <td>...</td>\n",
       "      <td>...</td>\n",
       "      <td>...</td>\n",
       "      <td>...</td>\n",
       "      <td>...</td>\n",
       "    </tr>\n",
       "    <tr>\n",
       "      <th>374</th>\n",
       "      <td>-0.204929</td>\n",
       "      <td>-0.487722</td>\n",
       "      <td>1.231945</td>\n",
       "      <td>3.668398</td>\n",
       "      <td>0.434551</td>\n",
       "      <td>2.161728</td>\n",
       "      <td>1.053485</td>\n",
       "      <td>-0.833960</td>\n",
       "      <td>-0.523001</td>\n",
       "      <td>-0.031105</td>\n",
       "      <td>-1.736418</td>\n",
       "      <td>0.361122</td>\n",
       "      <td>-1.504494</td>\n",
       "      <td>50.0</td>\n",
       "    </tr>\n",
       "    <tr>\n",
       "      <th>375</th>\n",
       "      <td>0.231398</td>\n",
       "      <td>-0.487722</td>\n",
       "      <td>1.015999</td>\n",
       "      <td>-0.272599</td>\n",
       "      <td>1.367490</td>\n",
       "      <td>0.215644</td>\n",
       "      <td>0.687212</td>\n",
       "      <td>-0.703186</td>\n",
       "      <td>1.661245</td>\n",
       "      <td>1.530926</td>\n",
       "      <td>0.806576</td>\n",
       "      <td>-2.812183</td>\n",
       "      <td>0.499991</td>\n",
       "      <td>14.3</td>\n",
       "    </tr>\n",
       "    <tr>\n",
       "      <th>376</th>\n",
       "      <td>-0.408311</td>\n",
       "      <td>-0.487722</td>\n",
       "      <td>0.247057</td>\n",
       "      <td>-0.272599</td>\n",
       "      <td>-1.016689</td>\n",
       "      <td>-0.206055</td>\n",
       "      <td>-0.809889</td>\n",
       "      <td>0.140451</td>\n",
       "      <td>-0.523001</td>\n",
       "      <td>-0.060801</td>\n",
       "      <td>0.113032</td>\n",
       "      <td>0.332066</td>\n",
       "      <td>-0.334043</td>\n",
       "      <td>20.8</td>\n",
       "    </tr>\n",
       "    <tr>\n",
       "      <th>377</th>\n",
       "      <td>-0.410620</td>\n",
       "      <td>-0.487722</td>\n",
       "      <td>-1.152214</td>\n",
       "      <td>-0.272599</td>\n",
       "      <td>-0.818007</td>\n",
       "      <td>0.068904</td>\n",
       "      <td>-1.826921</td>\n",
       "      <td>0.674814</td>\n",
       "      <td>-0.637962</td>\n",
       "      <td>0.129256</td>\n",
       "      <td>-0.719220</td>\n",
       "      <td>0.203235</td>\n",
       "      <td>-0.744752</td>\n",
       "      <td>22.6</td>\n",
       "    </tr>\n",
       "    <tr>\n",
       "      <th>378</th>\n",
       "      <td>0.342909</td>\n",
       "      <td>-0.487722</td>\n",
       "      <td>1.015999</td>\n",
       "      <td>3.668398</td>\n",
       "      <td>0.659147</td>\n",
       "      <td>1.041946</td>\n",
       "      <td>1.028593</td>\n",
       "      <td>-1.232462</td>\n",
       "      <td>1.661245</td>\n",
       "      <td>1.530926</td>\n",
       "      <td>0.806576</td>\n",
       "      <td>0.387875</td>\n",
       "      <td>-1.358713</td>\n",
       "      <td>50.0</td>\n",
       "    </tr>\n",
       "  </tbody>\n",
       "</table>\n",
       "<p>379 rows × 14 columns</p>\n",
       "</div>"
      ],
      "text/plain": [
       "       # CRIM        ZN     INDUS      CHAS       NOX        RM       AGE  \\\n",
       "0   -0.407850 -0.487722 -1.266023 -0.272599 -0.576134  1.239974  0.840122   \n",
       "1   -0.407374 -0.487722  0.247057 -0.272599 -1.016689  0.001946 -0.838337   \n",
       "2    0.125179 -0.487722  1.015999 -0.272599  1.367490 -0.439699  0.687212   \n",
       "3    0.028304 -0.487722  1.015999 -0.272599  1.859875 -0.047918  0.801005   \n",
       "4   -0.412408 -0.487722 -0.969827 -0.272599 -0.913029 -0.384137 -0.834781   \n",
       "..        ...       ...       ...       ...       ...       ...       ...   \n",
       "374 -0.204929 -0.487722  1.231945  3.668398  0.434551  2.161728  1.053485   \n",
       "375  0.231398 -0.487722  1.015999 -0.272599  1.367490  0.215644  0.687212   \n",
       "376 -0.408311 -0.487722  0.247057 -0.272599 -1.016689 -0.206055 -0.809889   \n",
       "377 -0.410620 -0.487722 -1.152214 -0.272599 -0.818007  0.068904 -1.826921   \n",
       "378  0.342909 -0.487722  1.015999  3.668398  0.659147  1.041946  1.028593   \n",
       "\n",
       "          DIS       RAD       TAX   PTRATIO         B     LSTAT     Y  \n",
       "0   -0.520264 -0.752922 -1.278354 -0.303094  0.410571 -1.097990  37.9  \n",
       "1    0.336351 -0.523001 -0.060801  0.113032  0.291169 -0.520474  21.4  \n",
       "2   -0.577309  1.661245  1.530926  0.806576 -3.795795  0.891076  12.7  \n",
       "3   -0.712836  1.661245  1.530926  0.806576 -0.066050  0.215438  19.9  \n",
       "4    0.300508 -0.752922 -0.957633  0.020560  0.431074  0.029007  22.5  \n",
       "..        ...       ...       ...       ...       ...       ...   ...  \n",
       "374 -0.833960 -0.523001 -0.031105 -1.736418  0.361122 -1.504494  50.0  \n",
       "375 -0.703186  1.661245  1.530926  0.806576 -2.812183  0.499991  14.3  \n",
       "376  0.140451 -0.523001 -0.060801  0.113032  0.332066 -0.334043  20.8  \n",
       "377  0.674814 -0.637962  0.129256 -0.719220  0.203235 -0.744752  22.6  \n",
       "378 -1.232462  1.661245  1.530926  0.806576  0.387875 -1.358713  50.0  \n",
       "\n",
       "[379 rows x 14 columns]"
      ]
     },
     "execution_count": 9,
     "metadata": {},
     "output_type": "execute_result"
    }
   ],
   "source": [
    "boston = pd.read_csv('0000000000002417_training_boston_x_y_train.csv')\n",
    "boston"
   ]
  },
  {
   "cell_type": "code",
   "execution_count": 10,
   "metadata": {},
   "outputs": [
    {
     "data": {
      "text/plain": [
       "(379, 14)"
      ]
     },
     "execution_count": 10,
     "metadata": {},
     "output_type": "execute_result"
    }
   ],
   "source": [
    "boston.shape"
   ]
  },
  {
   "cell_type": "code",
   "execution_count": 11,
   "metadata": {},
   "outputs": [
    {
     "data": {
      "text/plain": [
       "# CRIM      0\n",
       " ZN         0\n",
       " INDUS      0\n",
       " CHAS       0\n",
       " NOX        0\n",
       " RM         0\n",
       " AGE        0\n",
       " DIS        0\n",
       " RAD        0\n",
       " TAX        0\n",
       " PTRATIO    0\n",
       " B          0\n",
       " LSTAT      0\n",
       " Y          0\n",
       "dtype: int64"
      ]
     },
     "execution_count": 11,
     "metadata": {},
     "output_type": "execute_result"
    }
   ],
   "source": [
    "boston.isnull().sum()"
   ]
  },
  {
   "cell_type": "code",
   "execution_count": 12,
   "metadata": {},
   "outputs": [
    {
     "data": {
      "text/plain": [
       "Index(['# CRIM', ' ZN', ' INDUS', ' CHAS', ' NOX', ' RM', ' AGE', ' DIS',\n",
       "       ' RAD', ' TAX', ' PTRATIO', ' B', ' LSTAT', ' Y'],\n",
       "      dtype='object')"
      ]
     },
     "execution_count": 12,
     "metadata": {},
     "output_type": "execute_result"
    }
   ],
   "source": [
    "boston.columns"
   ]
  },
  {
   "cell_type": "code",
   "execution_count": 13,
   "metadata": {},
   "outputs": [
    {
     "data": {
      "text/plain": [
       "(379,)"
      ]
     },
     "execution_count": 13,
     "metadata": {},
     "output_type": "execute_result"
    }
   ],
   "source": [
    "y_train = boston[' Y']\n",
    "y_train = np.array(y_train)\n",
    "boston.drop(\" Y\", inplace = True , axis = 1)\n",
    "y_train.shape"
   ]
  },
  {
   "cell_type": "code",
   "execution_count": 14,
   "metadata": {},
   "outputs": [
    {
     "data": {
      "text/plain": [
       "(379, 13)"
      ]
     },
     "execution_count": 14,
     "metadata": {},
     "output_type": "execute_result"
    }
   ],
   "source": [
    "x_train = np.array(boston)\n",
    "x_train.shape"
   ]
  },
  {
   "cell_type": "code",
   "execution_count": 15,
   "metadata": {},
   "outputs": [
    {
     "data": {
      "text/html": [
       "<div>\n",
       "<style scoped>\n",
       "    .dataframe tbody tr th:only-of-type {\n",
       "        vertical-align: middle;\n",
       "    }\n",
       "\n",
       "    .dataframe tbody tr th {\n",
       "        vertical-align: top;\n",
       "    }\n",
       "\n",
       "    .dataframe thead th {\n",
       "        text-align: right;\n",
       "    }\n",
       "</style>\n",
       "<table border=\"1\" class=\"dataframe\">\n",
       "  <thead>\n",
       "    <tr style=\"text-align: right;\">\n",
       "      <th></th>\n",
       "      <th>0</th>\n",
       "      <th>1</th>\n",
       "      <th>2</th>\n",
       "      <th>3</th>\n",
       "      <th>4</th>\n",
       "      <th>5</th>\n",
       "      <th>6</th>\n",
       "      <th>7</th>\n",
       "      <th>8</th>\n",
       "      <th>9</th>\n",
       "      <th>10</th>\n",
       "      <th>11</th>\n",
       "      <th>12</th>\n",
       "    </tr>\n",
       "  </thead>\n",
       "  <tbody>\n",
       "    <tr>\n",
       "      <th>0</th>\n",
       "      <td>-0.407850</td>\n",
       "      <td>-0.487722</td>\n",
       "      <td>-1.266023</td>\n",
       "      <td>-0.272599</td>\n",
       "      <td>-0.576134</td>\n",
       "      <td>1.239974</td>\n",
       "      <td>0.840122</td>\n",
       "      <td>-0.520264</td>\n",
       "      <td>-0.752922</td>\n",
       "      <td>-1.278354</td>\n",
       "      <td>-0.303094</td>\n",
       "      <td>0.410571</td>\n",
       "      <td>-1.097990</td>\n",
       "    </tr>\n",
       "    <tr>\n",
       "      <th>1</th>\n",
       "      <td>-0.407374</td>\n",
       "      <td>-0.487722</td>\n",
       "      <td>0.247057</td>\n",
       "      <td>-0.272599</td>\n",
       "      <td>-1.016689</td>\n",
       "      <td>0.001946</td>\n",
       "      <td>-0.838337</td>\n",
       "      <td>0.336351</td>\n",
       "      <td>-0.523001</td>\n",
       "      <td>-0.060801</td>\n",
       "      <td>0.113032</td>\n",
       "      <td>0.291169</td>\n",
       "      <td>-0.520474</td>\n",
       "    </tr>\n",
       "    <tr>\n",
       "      <th>2</th>\n",
       "      <td>0.125179</td>\n",
       "      <td>-0.487722</td>\n",
       "      <td>1.015999</td>\n",
       "      <td>-0.272599</td>\n",
       "      <td>1.367490</td>\n",
       "      <td>-0.439699</td>\n",
       "      <td>0.687212</td>\n",
       "      <td>-0.577309</td>\n",
       "      <td>1.661245</td>\n",
       "      <td>1.530926</td>\n",
       "      <td>0.806576</td>\n",
       "      <td>-3.795795</td>\n",
       "      <td>0.891076</td>\n",
       "    </tr>\n",
       "    <tr>\n",
       "      <th>3</th>\n",
       "      <td>0.028304</td>\n",
       "      <td>-0.487722</td>\n",
       "      <td>1.015999</td>\n",
       "      <td>-0.272599</td>\n",
       "      <td>1.859875</td>\n",
       "      <td>-0.047918</td>\n",
       "      <td>0.801005</td>\n",
       "      <td>-0.712836</td>\n",
       "      <td>1.661245</td>\n",
       "      <td>1.530926</td>\n",
       "      <td>0.806576</td>\n",
       "      <td>-0.066050</td>\n",
       "      <td>0.215438</td>\n",
       "    </tr>\n",
       "    <tr>\n",
       "      <th>4</th>\n",
       "      <td>-0.412408</td>\n",
       "      <td>-0.487722</td>\n",
       "      <td>-0.969827</td>\n",
       "      <td>-0.272599</td>\n",
       "      <td>-0.913029</td>\n",
       "      <td>-0.384137</td>\n",
       "      <td>-0.834781</td>\n",
       "      <td>0.300508</td>\n",
       "      <td>-0.752922</td>\n",
       "      <td>-0.957633</td>\n",
       "      <td>0.020560</td>\n",
       "      <td>0.431074</td>\n",
       "      <td>0.029007</td>\n",
       "    </tr>\n",
       "    <tr>\n",
       "      <th>...</th>\n",
       "      <td>...</td>\n",
       "      <td>...</td>\n",
       "      <td>...</td>\n",
       "      <td>...</td>\n",
       "      <td>...</td>\n",
       "      <td>...</td>\n",
       "      <td>...</td>\n",
       "      <td>...</td>\n",
       "      <td>...</td>\n",
       "      <td>...</td>\n",
       "      <td>...</td>\n",
       "      <td>...</td>\n",
       "      <td>...</td>\n",
       "    </tr>\n",
       "    <tr>\n",
       "      <th>374</th>\n",
       "      <td>-0.204929</td>\n",
       "      <td>-0.487722</td>\n",
       "      <td>1.231945</td>\n",
       "      <td>3.668398</td>\n",
       "      <td>0.434551</td>\n",
       "      <td>2.161728</td>\n",
       "      <td>1.053485</td>\n",
       "      <td>-0.833960</td>\n",
       "      <td>-0.523001</td>\n",
       "      <td>-0.031105</td>\n",
       "      <td>-1.736418</td>\n",
       "      <td>0.361122</td>\n",
       "      <td>-1.504494</td>\n",
       "    </tr>\n",
       "    <tr>\n",
       "      <th>375</th>\n",
       "      <td>0.231398</td>\n",
       "      <td>-0.487722</td>\n",
       "      <td>1.015999</td>\n",
       "      <td>-0.272599</td>\n",
       "      <td>1.367490</td>\n",
       "      <td>0.215644</td>\n",
       "      <td>0.687212</td>\n",
       "      <td>-0.703186</td>\n",
       "      <td>1.661245</td>\n",
       "      <td>1.530926</td>\n",
       "      <td>0.806576</td>\n",
       "      <td>-2.812183</td>\n",
       "      <td>0.499991</td>\n",
       "    </tr>\n",
       "    <tr>\n",
       "      <th>376</th>\n",
       "      <td>-0.408311</td>\n",
       "      <td>-0.487722</td>\n",
       "      <td>0.247057</td>\n",
       "      <td>-0.272599</td>\n",
       "      <td>-1.016689</td>\n",
       "      <td>-0.206055</td>\n",
       "      <td>-0.809889</td>\n",
       "      <td>0.140451</td>\n",
       "      <td>-0.523001</td>\n",
       "      <td>-0.060801</td>\n",
       "      <td>0.113032</td>\n",
       "      <td>0.332066</td>\n",
       "      <td>-0.334043</td>\n",
       "    </tr>\n",
       "    <tr>\n",
       "      <th>377</th>\n",
       "      <td>-0.410620</td>\n",
       "      <td>-0.487722</td>\n",
       "      <td>-1.152214</td>\n",
       "      <td>-0.272599</td>\n",
       "      <td>-0.818007</td>\n",
       "      <td>0.068904</td>\n",
       "      <td>-1.826921</td>\n",
       "      <td>0.674814</td>\n",
       "      <td>-0.637962</td>\n",
       "      <td>0.129256</td>\n",
       "      <td>-0.719220</td>\n",
       "      <td>0.203235</td>\n",
       "      <td>-0.744752</td>\n",
       "    </tr>\n",
       "    <tr>\n",
       "      <th>378</th>\n",
       "      <td>0.342909</td>\n",
       "      <td>-0.487722</td>\n",
       "      <td>1.015999</td>\n",
       "      <td>3.668398</td>\n",
       "      <td>0.659147</td>\n",
       "      <td>1.041946</td>\n",
       "      <td>1.028593</td>\n",
       "      <td>-1.232462</td>\n",
       "      <td>1.661245</td>\n",
       "      <td>1.530926</td>\n",
       "      <td>0.806576</td>\n",
       "      <td>0.387875</td>\n",
       "      <td>-1.358713</td>\n",
       "    </tr>\n",
       "  </tbody>\n",
       "</table>\n",
       "<p>379 rows × 13 columns</p>\n",
       "</div>"
      ],
      "text/plain": [
       "           0         1         2         3         4         5         6   \\\n",
       "0   -0.407850 -0.487722 -1.266023 -0.272599 -0.576134  1.239974  0.840122   \n",
       "1   -0.407374 -0.487722  0.247057 -0.272599 -1.016689  0.001946 -0.838337   \n",
       "2    0.125179 -0.487722  1.015999 -0.272599  1.367490 -0.439699  0.687212   \n",
       "3    0.028304 -0.487722  1.015999 -0.272599  1.859875 -0.047918  0.801005   \n",
       "4   -0.412408 -0.487722 -0.969827 -0.272599 -0.913029 -0.384137 -0.834781   \n",
       "..        ...       ...       ...       ...       ...       ...       ...   \n",
       "374 -0.204929 -0.487722  1.231945  3.668398  0.434551  2.161728  1.053485   \n",
       "375  0.231398 -0.487722  1.015999 -0.272599  1.367490  0.215644  0.687212   \n",
       "376 -0.408311 -0.487722  0.247057 -0.272599 -1.016689 -0.206055 -0.809889   \n",
       "377 -0.410620 -0.487722 -1.152214 -0.272599 -0.818007  0.068904 -1.826921   \n",
       "378  0.342909 -0.487722  1.015999  3.668398  0.659147  1.041946  1.028593   \n",
       "\n",
       "           7         8         9         10        11        12  \n",
       "0   -0.520264 -0.752922 -1.278354 -0.303094  0.410571 -1.097990  \n",
       "1    0.336351 -0.523001 -0.060801  0.113032  0.291169 -0.520474  \n",
       "2   -0.577309  1.661245  1.530926  0.806576 -3.795795  0.891076  \n",
       "3   -0.712836  1.661245  1.530926  0.806576 -0.066050  0.215438  \n",
       "4    0.300508 -0.752922 -0.957633  0.020560  0.431074  0.029007  \n",
       "..        ...       ...       ...       ...       ...       ...  \n",
       "374 -0.833960 -0.523001 -0.031105 -1.736418  0.361122 -1.504494  \n",
       "375 -0.703186  1.661245  1.530926  0.806576 -2.812183  0.499991  \n",
       "376  0.140451 -0.523001 -0.060801  0.113032  0.332066 -0.334043  \n",
       "377  0.674814 -0.637962  0.129256 -0.719220  0.203235 -0.744752  \n",
       "378 -1.232462  1.661245  1.530926  0.806576  0.387875 -1.358713  \n",
       "\n",
       "[379 rows x 13 columns]"
      ]
     },
     "execution_count": 15,
     "metadata": {},
     "output_type": "execute_result"
    }
   ],
   "source": [
    "df = pd.DataFrame(x_train)\n",
    "df"
   ]
  },
  {
   "cell_type": "code",
   "execution_count": 16,
   "metadata": {},
   "outputs": [
    {
     "data": {
      "text/plain": [
       "(379, 53)"
      ]
     },
     "execution_count": 16,
     "metadata": {},
     "output_type": "execute_result"
    }
   ],
   "source": [
    "features = df.columns\n",
    "b=13\n",
    "for a in features:\n",
    "    df[b]=df[a]*df[a]\n",
    "    b+=1\n",
    "c=26\n",
    "for a in features:\n",
    "    df[c]=df[a]*df[a]*df[a]\n",
    "    c+=1\n",
    "d=39\n",
    "for a in features:\n",
    "    df[d]=df[a]*df[a]*df[a]*df[a]\n",
    "    d+=1\n",
    "x_train = np.array(df)\n",
    "x_train = np.append(x_train , np.ones((len(x_train),1), dtype = int) , axis = 1)\n",
    "x_train = scaler.fit_transform(x_train)\n",
    "x_train.shape"
   ]
  },
  {
   "cell_type": "code",
   "execution_count": 17,
   "metadata": {},
   "outputs": [
    {
     "data": {
      "text/plain": [
       "(127, 53)"
      ]
     },
     "execution_count": 17,
     "metadata": {},
     "output_type": "execute_result"
    }
   ],
   "source": [
    "x_test = pd.read_csv('0000000000002417_test_boston_x_test.csv',header=None)\n",
    "df = x_test\n",
    "features = df.columns\n",
    "b=13\n",
    "for a in features:\n",
    "    df[b]=df[a]*df[a]\n",
    "    b+=1\n",
    "c=26\n",
    "for a in features:\n",
    "    df[c]=df[a]*df[a]*df[a]\n",
    "    c+=1\n",
    "d=39\n",
    "for a in features:\n",
    "    df[d]=df[a]*df[a]*df[a]*df[a]\n",
    "    d+=1\n",
    "x_test = np.array(df)\n",
    "x_test = np.append(x_test , np.ones((len(x_test),1), dtype = int) , axis = 1)\n",
    "x_test = scaler.transform(x_test)\n",
    "x_test.shape"
   ]
  },
  {
   "cell_type": "markdown",
   "metadata": {},
   "source": [
    "## Applying in-built Linear Regression"
   ]
  },
  {
   "cell_type": "code",
   "execution_count": 18,
   "metadata": {},
   "outputs": [
    {
     "name": "stdout",
     "output_type": "stream",
     "text": [
      "0.8521712084300799\n",
      "Wall time: 66 ms\n"
     ]
    }
   ],
   "source": [
    "%%time\n",
    "from sklearn.linear_model import LinearRegression\n",
    "alg = LinearRegression()\n",
    "alg.fit(x_train , y_train)\n",
    "print(alg.score(x_train , y_train))"
   ]
  },
  {
   "cell_type": "markdown",
   "metadata": {},
   "source": [
    "## Applying stocastic GD"
   ]
  },
  {
   "cell_type": "code",
   "execution_count": 21,
   "metadata": {},
   "outputs": [
    {
     "name": "stdout",
     "output_type": "stream",
     "text": [
      "Cost: 16.69247387223295\n",
      "score : 0.8101679173520975\n",
      "Wall time: 32.3 s\n"
     ]
    }
   ],
   "source": [
    "%%time\n",
    "learning_rate = 0.01\n",
    "num_iterations = 300\n",
    "m = stocastic_gd(x_train,y_train, learning_rate, num_iterations)\n",
    "score(x_train , y_train , m)"
   ]
  },
  {
   "cell_type": "markdown",
   "metadata": {},
   "source": [
    "## Applying GD"
   ]
  },
  {
   "cell_type": "code",
   "execution_count": 20,
   "metadata": {},
   "outputs": [
    {
     "name": "stdout",
     "output_type": "stream",
     "text": [
      "Cost: 15.936646208455949\n",
      "score : 0.8187634281575007\n",
      "Wall time: 3min 10s\n"
     ]
    }
   ],
   "source": [
    "%%time\n",
    "learning_rate = 0.12\n",
    "num_iterations = 2000\n",
    "m = gd(x_train,y_train, learning_rate, num_iterations)\n",
    "score(x_train , y_train , m)"
   ]
  },
  {
   "cell_type": "markdown",
   "metadata": {},
   "source": [
    "## Making predictions using Gradient Descent"
   ]
  },
  {
   "cell_type": "code",
   "execution_count": 22,
   "metadata": {},
   "outputs": [],
   "source": [
    "y_predict = predict(x_test,m)\n",
    "#y_predict = np.around(y_predict , 5)\n",
    "np.savetxt('0000000000002417_test_boston_y_test.csv' , y_predict)"
   ]
  }
 ],
 "metadata": {
  "kernelspec": {
   "display_name": "Python 3",
   "language": "python",
   "name": "python3"
  },
  "language_info": {
   "codemirror_mode": {
    "name": "ipython",
    "version": 3
   },
   "file_extension": ".py",
   "mimetype": "text/x-python",
   "name": "python",
   "nbconvert_exporter": "python",
   "pygments_lexer": "ipython3",
   "version": "3.8.5"
  }
 },
 "nbformat": 4,
 "nbformat_minor": 4
}
