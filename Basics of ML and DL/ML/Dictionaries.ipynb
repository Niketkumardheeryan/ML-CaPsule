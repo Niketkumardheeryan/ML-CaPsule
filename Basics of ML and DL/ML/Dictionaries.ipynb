{
 "cells": [
  {
   "cell_type": "code",
   "execution_count": 40,
   "metadata": {},
   "outputs": [
    {
     "name": "stdout",
     "output_type": "stream",
     "text": [
      "{1: 'a', 2.1: ['a', 1.2, (9.0, 'aasa')], 'hello': 'hi'}\n",
      "{1: 'l', 2.1: ['a', 1.2, (9.0, 'aasa')], 'hello': 'hi', 6: 'hi'}\n",
      "['a', 1.2, (9.0, 'aasa')]\n",
      "['a', 1.2, (9.0, 'aasa')]\n"
     ]
    }
   ],
   "source": [
    "# create a dictionary\n",
    "# A dictionary is an unordered and mutable \n",
    "# keys are unique and immutable like tuple, string, float, int\n",
    "# values are mutable like list, tuple, string, float, int\n",
    "\n",
    "d1 = {}  # empty dictionary\n",
    "\n",
    "d2 = {1:'a', 2.1:['a', 1.2, (9.0, \"aasa\")], \"hello\":\"hi\"}\n",
    "print(d2)\n",
    "\n",
    "d2[6]=\"hi\"\n",
    "d2[1]=\"l\"\n",
    "\n",
    "print(d2)\n",
    "\n",
    "print(d2[2.1])\n",
    "\n",
    "print(d2.get(2.1))"
   ]
  },
  {
   "cell_type": "code",
   "execution_count": 29,
   "metadata": {},
   "outputs": [
    {
     "name": "stdout",
     "output_type": "stream",
     "text": [
      "1:l  2.1:['a', 1.2, (9.0, 'aasa')]  hello:hi  6:hi  "
     ]
    }
   ],
   "source": [
    "# iterate over a dictionary\n",
    "\n",
    "for i in d2:\n",
    "    print(i, end=\":\")\n",
    "    print(d2[i], end=\"  \")"
   ]
  },
  {
   "cell_type": "code",
   "execution_count": 33,
   "metadata": {},
   "outputs": [
    {
     "data": {
      "text/plain": [
       "{1: 'l', 'hello': 'hi', 6: 'hi'}"
      ]
     },
     "execution_count": 33,
     "metadata": {},
     "output_type": "execute_result"
    }
   ],
   "source": [
    "# delete a element\n",
    "\n",
    "del(d2[2.1])\n",
    "d2"
   ]
  },
  {
   "cell_type": "code",
   "execution_count": 38,
   "metadata": {},
   "outputs": [
    {
     "name": "stdout",
     "output_type": "stream",
     "text": [
      "4\n",
      "dict_keys([1, 2.1, 'hello', 6])\n",
      "dict_values(['l', ['a', 1.2, (9.0, 'aasa')], 'hi', 'hi'])\n",
      "True\n",
      "True\n",
      "False\n"
     ]
    }
   ],
   "source": [
    "# some functions\n",
    "\n",
    "print(len(d2))\n",
    "\n",
    "print(d2.keys())\n",
    "print(d2.values())\n",
    "\n",
    "print(\"hello\" in d2)\n",
    "print(7 not in d2)\n",
    "\n",
    "d1={}\n",
    "print(d1 == d2)\n",
    "\n",
    "d2.clear()"
   ]
  },
  {
   "cell_type": "code",
   "execution_count": 39,
   "metadata": {},
   "outputs": [
    {
     "data": {
      "text/plain": [
       "{}"
      ]
     },
     "execution_count": 39,
     "metadata": {},
     "output_type": "execute_result"
    }
   ],
   "source": [
    "d2"
   ]
  }
 ],
 "metadata": {
  "kernelspec": {
   "display_name": "Python 3",
   "language": "python",
   "name": "python3"
  },
  "language_info": {
   "codemirror_mode": {
    "name": "ipython",
    "version": 3
   },
   "file_extension": ".py",
   "mimetype": "text/x-python",
   "name": "python",
   "nbconvert_exporter": "python",
   "pygments_lexer": "ipython3",
   "version": "3.8.5"
  }
 },
 "nbformat": 4,
 "nbformat_minor": 4
}
