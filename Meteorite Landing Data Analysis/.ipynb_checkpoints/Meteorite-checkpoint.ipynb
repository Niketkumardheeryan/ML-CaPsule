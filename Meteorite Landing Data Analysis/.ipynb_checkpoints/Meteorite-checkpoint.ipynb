{
 "cells": [
  {
   "cell_type": "markdown",
   "metadata": {
    "id": "rOEt4Cn0_3sV"
   },
   "source": [
    "# **Data Analysis Project on Meteorite Landings Dataset (Recorded by The Meteoritical Society and Provided by NASA)**\n",
    "\n",
    "**Abhinav Dubey**\n",
    "\n",
    "https://data.nasa.gov/Space-Science/Meteorite-Landings/gh4g-9sfh\n",
    "\n",
    "https://www.kaggle.com/nasa/meteorite-landings"
   ]
  },
  {
   "cell_type": "markdown",
   "metadata": {
    "id": "_mf0e_TZPfzl"
   },
   "source": [
    "***Metadata***\n",
    "* name: the name of the meteorite\n",
    "\n",
    "* id: a unique identifier for the meteorite\n",
    "* nametype: one of:\n",
    "-- valid: a typical meteorite\n",
    "-- relict: a meteorite that has been highly degraded by weather on Earth\n",
    "* recclass: the class of the meteorite (see the Wikipedia article on meteorite classification)\n",
    "* mass: the mass of the meteorite, in grams\n",
    "* fall: whether the meteorite was seen falling, or was discovered after its impact; one of:\n",
    "-- Fell: the meteorite's fall was observed\n",
    "-- Found: the meteorite's fall was not observed\n",
    "* year: the year the meteorite fell, or the year it was found (Any year before 860 CE or 2016 are in BCE)\n",
    "* reclat: the latitude of the meteorite's landing\n",
    "* reclong: the longitude of the meteorite's landing\n",
    "* GeoLocation: a parentheses-enclose, comma-separated tuple that combines reclat and reclong"
   ]
  },
  {
   "cell_type": "markdown",
   "metadata": {
    "id": "Z8o1EFSRA0fc"
   },
   "source": [
    "***Importing Libraries***"
   ]
  },
  {
   "cell_type": "code",
   "execution_count": null,
   "metadata": {
    "id": "QZkvXper0-Mz"
   },
   "outputs": [],
   "source": [
    "import numpy as np\n",
    "import pandas as pd\n",
    "import seaborn as sns\n",
    "import matplotlib.pyplot as plt\n",
    "from sklearn import preprocessing"
   ]
  },
  {
   "cell_type": "markdown",
   "metadata": {
    "id": "Rtj1XOPIA8rp"
   },
   "source": [
    "***Importing Dataset***"
   ]
  },
  {
   "cell_type": "code",
   "execution_count": null,
   "metadata": {
    "id": "nWI6sNbH4RXu"
   },
   "outputs": [],
   "source": [
    "data = pd.read_csv('Meteorite_Landings.csv')"
   ]
  },
  {
   "cell_type": "markdown",
   "metadata": {
    "id": "NN3inbZ3MSBM"
   },
   "source": [
    "***Dataset***"
   ]
  },
  {
   "cell_type": "code",
   "execution_count": null,
   "metadata": {
    "colab": {
     "base_uri": "https://localhost:8080/",
     "height": 589
    },
    "id": "5O8qAbtD4YlW",
    "outputId": "ec48aa45-75d0-4354-a074-8a133b113159"
   },
   "outputs": [
    {
     "data": {
      "text/html": [
       "<div>\n",
       "<style scoped>\n",
       "    .dataframe tbody tr th:only-of-type {\n",
       "        vertical-align: middle;\n",
       "    }\n",
       "\n",
       "    .dataframe tbody tr th {\n",
       "        vertical-align: top;\n",
       "    }\n",
       "\n",
       "    .dataframe thead th {\n",
       "        text-align: right;\n",
       "    }\n",
       "</style>\n",
       "<table border=\"1\" class=\"dataframe\">\n",
       "  <thead>\n",
       "    <tr style=\"text-align: right;\">\n",
       "      <th></th>\n",
       "      <th>name</th>\n",
       "      <th>id</th>\n",
       "      <th>nametype</th>\n",
       "      <th>recclass</th>\n",
       "      <th>mass</th>\n",
       "      <th>fall</th>\n",
       "      <th>year</th>\n",
       "      <th>reclat</th>\n",
       "      <th>reclong</th>\n",
       "      <th>GeoLocation</th>\n",
       "    </tr>\n",
       "  </thead>\n",
       "  <tbody>\n",
       "    <tr>\n",
       "      <th>0</th>\n",
       "      <td>Aachen</td>\n",
       "      <td>1</td>\n",
       "      <td>Valid</td>\n",
       "      <td>L5</td>\n",
       "      <td>21.0</td>\n",
       "      <td>Fell</td>\n",
       "      <td>1880.0</td>\n",
       "      <td>50.77500</td>\n",
       "      <td>6.08333</td>\n",
       "      <td>(50.775000, 6.083330)</td>\n",
       "    </tr>\n",
       "    <tr>\n",
       "      <th>1</th>\n",
       "      <td>Aarhus</td>\n",
       "      <td>2</td>\n",
       "      <td>Valid</td>\n",
       "      <td>H6</td>\n",
       "      <td>720.0</td>\n",
       "      <td>Fell</td>\n",
       "      <td>1951.0</td>\n",
       "      <td>56.18333</td>\n",
       "      <td>10.23333</td>\n",
       "      <td>(56.183330, 10.233330)</td>\n",
       "    </tr>\n",
       "    <tr>\n",
       "      <th>2</th>\n",
       "      <td>Abee</td>\n",
       "      <td>6</td>\n",
       "      <td>Valid</td>\n",
       "      <td>EH4</td>\n",
       "      <td>107000.0</td>\n",
       "      <td>Fell</td>\n",
       "      <td>1952.0</td>\n",
       "      <td>54.21667</td>\n",
       "      <td>-113.00000</td>\n",
       "      <td>(54.216670, -113.000000)</td>\n",
       "    </tr>\n",
       "    <tr>\n",
       "      <th>3</th>\n",
       "      <td>Acapulco</td>\n",
       "      <td>10</td>\n",
       "      <td>Valid</td>\n",
       "      <td>Acapulcoite</td>\n",
       "      <td>1914.0</td>\n",
       "      <td>Fell</td>\n",
       "      <td>1976.0</td>\n",
       "      <td>16.88333</td>\n",
       "      <td>-99.90000</td>\n",
       "      <td>(16.883330, -99.900000)</td>\n",
       "    </tr>\n",
       "    <tr>\n",
       "      <th>4</th>\n",
       "      <td>Achiras</td>\n",
       "      <td>370</td>\n",
       "      <td>Valid</td>\n",
       "      <td>L6</td>\n",
       "      <td>780.0</td>\n",
       "      <td>Fell</td>\n",
       "      <td>1902.0</td>\n",
       "      <td>-33.16667</td>\n",
       "      <td>-64.95000</td>\n",
       "      <td>(-33.166670, -64.950000)</td>\n",
       "    </tr>\n",
       "    <tr>\n",
       "      <th>...</th>\n",
       "      <td>...</td>\n",
       "      <td>...</td>\n",
       "      <td>...</td>\n",
       "      <td>...</td>\n",
       "      <td>...</td>\n",
       "      <td>...</td>\n",
       "      <td>...</td>\n",
       "      <td>...</td>\n",
       "      <td>...</td>\n",
       "      <td>...</td>\n",
       "    </tr>\n",
       "    <tr>\n",
       "      <th>45711</th>\n",
       "      <td>Zillah 002</td>\n",
       "      <td>31356</td>\n",
       "      <td>Valid</td>\n",
       "      <td>Eucrite</td>\n",
       "      <td>172.0</td>\n",
       "      <td>Found</td>\n",
       "      <td>1990.0</td>\n",
       "      <td>29.03700</td>\n",
       "      <td>17.01850</td>\n",
       "      <td>(29.037000, 17.018500)</td>\n",
       "    </tr>\n",
       "    <tr>\n",
       "      <th>45712</th>\n",
       "      <td>Zinder</td>\n",
       "      <td>30409</td>\n",
       "      <td>Valid</td>\n",
       "      <td>Pallasite, ungrouped</td>\n",
       "      <td>46.0</td>\n",
       "      <td>Found</td>\n",
       "      <td>1999.0</td>\n",
       "      <td>13.78333</td>\n",
       "      <td>8.96667</td>\n",
       "      <td>(13.783330, 8.966670)</td>\n",
       "    </tr>\n",
       "    <tr>\n",
       "      <th>45713</th>\n",
       "      <td>Zlin</td>\n",
       "      <td>30410</td>\n",
       "      <td>Valid</td>\n",
       "      <td>H4</td>\n",
       "      <td>3.3</td>\n",
       "      <td>Found</td>\n",
       "      <td>1939.0</td>\n",
       "      <td>49.25000</td>\n",
       "      <td>17.66667</td>\n",
       "      <td>(49.250000, 17.666670)</td>\n",
       "    </tr>\n",
       "    <tr>\n",
       "      <th>45714</th>\n",
       "      <td>Zubkovsky</td>\n",
       "      <td>31357</td>\n",
       "      <td>Valid</td>\n",
       "      <td>L6</td>\n",
       "      <td>2167.0</td>\n",
       "      <td>Found</td>\n",
       "      <td>2003.0</td>\n",
       "      <td>49.78917</td>\n",
       "      <td>41.50460</td>\n",
       "      <td>(49.789170, 41.504600)</td>\n",
       "    </tr>\n",
       "    <tr>\n",
       "      <th>45715</th>\n",
       "      <td>Zulu Queen</td>\n",
       "      <td>30414</td>\n",
       "      <td>Valid</td>\n",
       "      <td>L3.7</td>\n",
       "      <td>200.0</td>\n",
       "      <td>Found</td>\n",
       "      <td>1976.0</td>\n",
       "      <td>33.98333</td>\n",
       "      <td>-115.68333</td>\n",
       "      <td>(33.983330, -115.683330)</td>\n",
       "    </tr>\n",
       "  </tbody>\n",
       "</table>\n",
       "<p>45716 rows × 10 columns</p>\n",
       "</div>"
      ],
      "text/plain": [
       "             name     id  ...    reclong               GeoLocation\n",
       "0          Aachen      1  ...    6.08333     (50.775000, 6.083330)\n",
       "1          Aarhus      2  ...   10.23333    (56.183330, 10.233330)\n",
       "2            Abee      6  ... -113.00000  (54.216670, -113.000000)\n",
       "3        Acapulco     10  ...  -99.90000   (16.883330, -99.900000)\n",
       "4         Achiras    370  ...  -64.95000  (-33.166670, -64.950000)\n",
       "...           ...    ...  ...        ...                       ...\n",
       "45711  Zillah 002  31356  ...   17.01850    (29.037000, 17.018500)\n",
       "45712      Zinder  30409  ...    8.96667     (13.783330, 8.966670)\n",
       "45713        Zlin  30410  ...   17.66667    (49.250000, 17.666670)\n",
       "45714   Zubkovsky  31357  ...   41.50460    (49.789170, 41.504600)\n",
       "45715  Zulu Queen  30414  ... -115.68333  (33.983330, -115.683330)\n",
       "\n",
       "[45716 rows x 10 columns]"
      ]
     },
     "execution_count": 3,
     "metadata": {
      "tags": []
     },
     "output_type": "execute_result"
    }
   ],
   "source": [
    "data"
   ]
  },
  {
   "cell_type": "markdown",
   "metadata": {
    "id": "PtKH9MmdBPeC"
   },
   "source": [
    "***Converting year column from float data type to integer data type***"
   ]
  },
  {
   "cell_type": "code",
   "execution_count": null,
   "metadata": {
    "colab": {
     "base_uri": "https://localhost:8080/"
    },
    "id": "Rq2i-sGIBO_1",
    "outputId": "0983b1bf-c5fe-4a12-e04b-df36fb09c444"
   },
   "outputs": [
    {
     "data": {
      "text/plain": [
       "dtype('float64')"
      ]
     },
     "execution_count": 4,
     "metadata": {
      "tags": []
     },
     "output_type": "execute_result"
    }
   ],
   "source": [
    "data['year'].dtype"
   ]
  },
  {
   "cell_type": "code",
   "execution_count": null,
   "metadata": {
    "id": "Qom0B_a3BsYh"
   },
   "outputs": [],
   "source": [
    "data['year'] = data['year'].astype(pd.Int64Dtype())"
   ]
  },
  {
   "cell_type": "code",
   "execution_count": null,
   "metadata": {
    "colab": {
     "base_uri": "https://localhost:8080/"
    },
    "id": "aBThcW-7Brkt",
    "outputId": "6483318e-10f3-41d9-e589-ad2ae1df8b10"
   },
   "outputs": [
    {
     "data": {
      "text/plain": [
       "Int64Dtype()"
      ]
     },
     "execution_count": 6,
     "metadata": {
      "tags": []
     },
     "output_type": "execute_result"
    }
   ],
   "source": [
    "data['year'].dtype"
   ]
  },
  {
   "cell_type": "code",
   "execution_count": null,
   "metadata": {
    "id": "DWPEO2JQBnAP"
   },
   "outputs": [],
   "source": [
    "#Sorting dataset on basis of year in ascending order\n",
    "data.sort_values(by=['year'],inplace=True)"
   ]
  },
  {
   "cell_type": "code",
   "execution_count": null,
   "metadata": {
    "colab": {
     "base_uri": "https://localhost:8080/",
     "height": 589
    },
    "id": "RnL_1w6PBlIp",
    "outputId": "0a2f9f1b-dbb5-4216-c769-158fa5a985ad"
   },
   "outputs": [
    {
     "data": {
      "text/html": [
       "<div>\n",
       "<style scoped>\n",
       "    .dataframe tbody tr th:only-of-type {\n",
       "        vertical-align: middle;\n",
       "    }\n",
       "\n",
       "    .dataframe tbody tr th {\n",
       "        vertical-align: top;\n",
       "    }\n",
       "\n",
       "    .dataframe thead th {\n",
       "        text-align: right;\n",
       "    }\n",
       "</style>\n",
       "<table border=\"1\" class=\"dataframe\">\n",
       "  <thead>\n",
       "    <tr style=\"text-align: right;\">\n",
       "      <th></th>\n",
       "      <th>name</th>\n",
       "      <th>id</th>\n",
       "      <th>nametype</th>\n",
       "      <th>recclass</th>\n",
       "      <th>mass</th>\n",
       "      <th>fall</th>\n",
       "      <th>year</th>\n",
       "      <th>reclat</th>\n",
       "      <th>reclong</th>\n",
       "      <th>GeoLocation</th>\n",
       "    </tr>\n",
       "  </thead>\n",
       "  <tbody>\n",
       "    <tr>\n",
       "      <th>16356</th>\n",
       "      <td>Havana</td>\n",
       "      <td>11857</td>\n",
       "      <td>Valid</td>\n",
       "      <td>Iron, IAB complex</td>\n",
       "      <td>NaN</td>\n",
       "      <td>Found</td>\n",
       "      <td>301</td>\n",
       "      <td>40.33333</td>\n",
       "      <td>-90.05000</td>\n",
       "      <td>(40.333330, -90.050000)</td>\n",
       "    </tr>\n",
       "    <tr>\n",
       "      <th>38301</th>\n",
       "      <td>Wietrzno-Bobrka</td>\n",
       "      <td>24259</td>\n",
       "      <td>Valid</td>\n",
       "      <td>Iron</td>\n",
       "      <td>376.0</td>\n",
       "      <td>Found</td>\n",
       "      <td>601</td>\n",
       "      <td>49.41667</td>\n",
       "      <td>21.70000</td>\n",
       "      <td>(49.416670, 21.700000)</td>\n",
       "    </tr>\n",
       "    <tr>\n",
       "      <th>703</th>\n",
       "      <td>Nogata</td>\n",
       "      <td>16988</td>\n",
       "      <td>Valid</td>\n",
       "      <td>L6</td>\n",
       "      <td>472.0</td>\n",
       "      <td>Fell</td>\n",
       "      <td>860</td>\n",
       "      <td>33.72500</td>\n",
       "      <td>130.75000</td>\n",
       "      <td>(33.725000, 130.750000)</td>\n",
       "    </tr>\n",
       "    <tr>\n",
       "      <th>678</th>\n",
       "      <td>Narni</td>\n",
       "      <td>16914</td>\n",
       "      <td>Valid</td>\n",
       "      <td>Stone-uncl</td>\n",
       "      <td>NaN</td>\n",
       "      <td>Fell</td>\n",
       "      <td>920</td>\n",
       "      <td>42.51667</td>\n",
       "      <td>12.51667</td>\n",
       "      <td>(42.516670, 12.516670)</td>\n",
       "    </tr>\n",
       "    <tr>\n",
       "      <th>278</th>\n",
       "      <td>Elbogen</td>\n",
       "      <td>7823</td>\n",
       "      <td>Valid</td>\n",
       "      <td>Iron, IID</td>\n",
       "      <td>107000.0</td>\n",
       "      <td>Fell</td>\n",
       "      <td>1399</td>\n",
       "      <td>50.18333</td>\n",
       "      <td>12.73333</td>\n",
       "      <td>(50.183330, 12.733330)</td>\n",
       "    </tr>\n",
       "    <tr>\n",
       "      <th>...</th>\n",
       "      <td>...</td>\n",
       "      <td>...</td>\n",
       "      <td>...</td>\n",
       "      <td>...</td>\n",
       "      <td>...</td>\n",
       "      <td>...</td>\n",
       "      <td>...</td>\n",
       "      <td>...</td>\n",
       "      <td>...</td>\n",
       "      <td>...</td>\n",
       "    </tr>\n",
       "    <tr>\n",
       "      <th>38128</th>\n",
       "      <td>Um-Hadid</td>\n",
       "      <td>24114</td>\n",
       "      <td>Valid</td>\n",
       "      <td>Mesosiderite</td>\n",
       "      <td>15400.0</td>\n",
       "      <td>Found</td>\n",
       "      <td>&lt;NA&gt;</td>\n",
       "      <td>21.69500</td>\n",
       "      <td>50.59667</td>\n",
       "      <td>(21.695000, 50.596670)</td>\n",
       "    </tr>\n",
       "    <tr>\n",
       "      <th>38201</th>\n",
       "      <td>Valencia</td>\n",
       "      <td>24147</td>\n",
       "      <td>Valid</td>\n",
       "      <td>H5</td>\n",
       "      <td>33500.0</td>\n",
       "      <td>Found</td>\n",
       "      <td>&lt;NA&gt;</td>\n",
       "      <td>39.00000</td>\n",
       "      <td>-0.03333</td>\n",
       "      <td>(39.000000, -0.033330)</td>\n",
       "    </tr>\n",
       "    <tr>\n",
       "      <th>38224</th>\n",
       "      <td>Villa Regina</td>\n",
       "      <td>53827</td>\n",
       "      <td>Valid</td>\n",
       "      <td>Iron, IIIAB</td>\n",
       "      <td>5030.0</td>\n",
       "      <td>Found</td>\n",
       "      <td>&lt;NA&gt;</td>\n",
       "      <td>-39.10000</td>\n",
       "      <td>-67.06667</td>\n",
       "      <td>(-39.100000, -67.066670)</td>\n",
       "    </tr>\n",
       "    <tr>\n",
       "      <th>38328</th>\n",
       "      <td>Wiltshire</td>\n",
       "      <td>56143</td>\n",
       "      <td>Valid</td>\n",
       "      <td>H5</td>\n",
       "      <td>92750.0</td>\n",
       "      <td>Found</td>\n",
       "      <td>&lt;NA&gt;</td>\n",
       "      <td>51.14967</td>\n",
       "      <td>-1.81000</td>\n",
       "      <td>(51.149670, -1.810000)</td>\n",
       "    </tr>\n",
       "    <tr>\n",
       "      <th>45700</th>\n",
       "      <td>Zaragoza</td>\n",
       "      <td>48916</td>\n",
       "      <td>Valid</td>\n",
       "      <td>Iron, IVA-an</td>\n",
       "      <td>162000.0</td>\n",
       "      <td>Found</td>\n",
       "      <td>&lt;NA&gt;</td>\n",
       "      <td>41.65000</td>\n",
       "      <td>-0.86667</td>\n",
       "      <td>(41.650000, -0.866670)</td>\n",
       "    </tr>\n",
       "  </tbody>\n",
       "</table>\n",
       "<p>45716 rows × 10 columns</p>\n",
       "</div>"
      ],
      "text/plain": [
       "                  name     id  ...    reclong               GeoLocation\n",
       "16356           Havana  11857  ...  -90.05000   (40.333330, -90.050000)\n",
       "38301  Wietrzno-Bobrka  24259  ...   21.70000    (49.416670, 21.700000)\n",
       "703             Nogata  16988  ...  130.75000   (33.725000, 130.750000)\n",
       "678              Narni  16914  ...   12.51667    (42.516670, 12.516670)\n",
       "278            Elbogen   7823  ...   12.73333    (50.183330, 12.733330)\n",
       "...                ...    ...  ...        ...                       ...\n",
       "38128         Um-Hadid  24114  ...   50.59667    (21.695000, 50.596670)\n",
       "38201         Valencia  24147  ...   -0.03333    (39.000000, -0.033330)\n",
       "38224     Villa Regina  53827  ...  -67.06667  (-39.100000, -67.066670)\n",
       "38328        Wiltshire  56143  ...   -1.81000    (51.149670, -1.810000)\n",
       "45700         Zaragoza  48916  ...   -0.86667    (41.650000, -0.866670)\n",
       "\n",
       "[45716 rows x 10 columns]"
      ]
     },
     "execution_count": 8,
     "metadata": {
      "tags": []
     },
     "output_type": "execute_result"
    }
   ],
   "source": [
    "data"
   ]
  },
  {
   "cell_type": "markdown",
   "metadata": {
    "id": "Ni8RQPHGBN9l"
   },
   "source": [
    "***Checking abnormality specific to the Dataset***"
   ]
  },
  {
   "cell_type": "code",
   "execution_count": null,
   "metadata": {
    "colab": {
     "base_uri": "https://localhost:8080/",
     "height": 111
    },
    "id": "3-4bDkopA-kS",
    "outputId": "eb85e304-b5cb-4f3b-d452-343b082870f5"
   },
   "outputs": [
    {
     "data": {
      "text/html": [
       "<div>\n",
       "<style scoped>\n",
       "    .dataframe tbody tr th:only-of-type {\n",
       "        vertical-align: middle;\n",
       "    }\n",
       "\n",
       "    .dataframe tbody tr th {\n",
       "        vertical-align: top;\n",
       "    }\n",
       "\n",
       "    .dataframe thead th {\n",
       "        text-align: right;\n",
       "    }\n",
       "</style>\n",
       "<table border=\"1\" class=\"dataframe\">\n",
       "  <thead>\n",
       "    <tr style=\"text-align: right;\">\n",
       "      <th></th>\n",
       "      <th>name</th>\n",
       "      <th>id</th>\n",
       "      <th>nametype</th>\n",
       "      <th>recclass</th>\n",
       "      <th>mass</th>\n",
       "      <th>fall</th>\n",
       "      <th>year</th>\n",
       "      <th>reclat</th>\n",
       "      <th>reclong</th>\n",
       "      <th>GeoLocation</th>\n",
       "    </tr>\n",
       "  </thead>\n",
       "  <tbody>\n",
       "    <tr>\n",
       "      <th>30679</th>\n",
       "      <td>Northwest Africa 7701</td>\n",
       "      <td>57150</td>\n",
       "      <td>Valid</td>\n",
       "      <td>CK6</td>\n",
       "      <td>55.0</td>\n",
       "      <td>Found</td>\n",
       "      <td>2101</td>\n",
       "      <td>0.0</td>\n",
       "      <td>0.00000</td>\n",
       "      <td>(0.000000, 0.000000)</td>\n",
       "    </tr>\n",
       "    <tr>\n",
       "      <th>38188</th>\n",
       "      <td>Ur</td>\n",
       "      <td>24125</td>\n",
       "      <td>Valid</td>\n",
       "      <td>Iron</td>\n",
       "      <td>NaN</td>\n",
       "      <td>Found</td>\n",
       "      <td>2501</td>\n",
       "      <td>30.9</td>\n",
       "      <td>46.01667</td>\n",
       "      <td>(30.900000, 46.016670)</td>\n",
       "    </tr>\n",
       "  </tbody>\n",
       "</table>\n",
       "</div>"
      ],
      "text/plain": [
       "                        name     id  ...   reclong             GeoLocation\n",
       "30679  Northwest Africa 7701  57150  ...   0.00000    (0.000000, 0.000000)\n",
       "38188                     Ur  24125  ...  46.01667  (30.900000, 46.016670)\n",
       "\n",
       "[2 rows x 10 columns]"
      ]
     },
     "execution_count": 9,
     "metadata": {
      "tags": []
     },
     "output_type": "execute_result"
    }
   ],
   "source": [
    "#This dataset has data till 2016\n",
    "data[data['year']>2016]"
   ]
  },
  {
   "cell_type": "code",
   "execution_count": null,
   "metadata": {
    "id": "29qhX6eNBBDw"
   },
   "outputs": [],
   "source": [
    "#Dataset has rows which are >2016 but it is in BCE (Before Common Era), though it is not correct still it is abnormailty in our dataset\n",
    "data.drop(data[data['year']>2016].index, inplace=True)"
   ]
  },
  {
   "cell_type": "code",
   "execution_count": null,
   "metadata": {
    "colab": {
     "base_uri": "https://localhost:8080/",
     "height": 49
    },
    "id": "N5ZfnEn5BEaD",
    "outputId": "b590b7ed-f393-4598-8f03-190e34fc5ffb"
   },
   "outputs": [
    {
     "data": {
      "text/html": [
       "<div>\n",
       "<style scoped>\n",
       "    .dataframe tbody tr th:only-of-type {\n",
       "        vertical-align: middle;\n",
       "    }\n",
       "\n",
       "    .dataframe tbody tr th {\n",
       "        vertical-align: top;\n",
       "    }\n",
       "\n",
       "    .dataframe thead th {\n",
       "        text-align: right;\n",
       "    }\n",
       "</style>\n",
       "<table border=\"1\" class=\"dataframe\">\n",
       "  <thead>\n",
       "    <tr style=\"text-align: right;\">\n",
       "      <th></th>\n",
       "      <th>name</th>\n",
       "      <th>id</th>\n",
       "      <th>nametype</th>\n",
       "      <th>recclass</th>\n",
       "      <th>mass</th>\n",
       "      <th>fall</th>\n",
       "      <th>year</th>\n",
       "      <th>reclat</th>\n",
       "      <th>reclong</th>\n",
       "      <th>GeoLocation</th>\n",
       "    </tr>\n",
       "  </thead>\n",
       "  <tbody>\n",
       "  </tbody>\n",
       "</table>\n",
       "</div>"
      ],
      "text/plain": [
       "Empty DataFrame\n",
       "Columns: [name, id, nametype, recclass, mass, fall, year, reclat, reclong, GeoLocation]\n",
       "Index: []"
      ]
     },
     "execution_count": 11,
     "metadata": {
      "tags": []
     },
     "output_type": "execute_result"
    }
   ],
   "source": [
    "#Assuring\n",
    "data[data['year']>2016]"
   ]
  },
  {
   "cell_type": "markdown",
   "metadata": {
    "id": "LsrZ3ryVOY0a"
   },
   "source": [
    "***Checking for Null Values***"
   ]
  },
  {
   "cell_type": "code",
   "execution_count": null,
   "metadata": {
    "colab": {
     "base_uri": "https://localhost:8080/",
     "height": 419
    },
    "id": "CrifqwIXOTb6",
    "outputId": "cc3ada7d-db9f-461a-abab-1ac58bfcf280"
   },
   "outputs": [
    {
     "data": {
      "text/html": [
       "<div>\n",
       "<style scoped>\n",
       "    .dataframe tbody tr th:only-of-type {\n",
       "        vertical-align: middle;\n",
       "    }\n",
       "\n",
       "    .dataframe tbody tr th {\n",
       "        vertical-align: top;\n",
       "    }\n",
       "\n",
       "    .dataframe thead th {\n",
       "        text-align: right;\n",
       "    }\n",
       "</style>\n",
       "<table border=\"1\" class=\"dataframe\">\n",
       "  <thead>\n",
       "    <tr style=\"text-align: right;\">\n",
       "      <th></th>\n",
       "      <th>name</th>\n",
       "      <th>id</th>\n",
       "      <th>nametype</th>\n",
       "      <th>recclass</th>\n",
       "      <th>mass</th>\n",
       "      <th>fall</th>\n",
       "      <th>year</th>\n",
       "      <th>reclat</th>\n",
       "      <th>reclong</th>\n",
       "      <th>GeoLocation</th>\n",
       "    </tr>\n",
       "  </thead>\n",
       "  <tbody>\n",
       "    <tr>\n",
       "      <th>16356</th>\n",
       "      <td>False</td>\n",
       "      <td>False</td>\n",
       "      <td>False</td>\n",
       "      <td>False</td>\n",
       "      <td>True</td>\n",
       "      <td>False</td>\n",
       "      <td>False</td>\n",
       "      <td>False</td>\n",
       "      <td>False</td>\n",
       "      <td>False</td>\n",
       "    </tr>\n",
       "    <tr>\n",
       "      <th>38301</th>\n",
       "      <td>False</td>\n",
       "      <td>False</td>\n",
       "      <td>False</td>\n",
       "      <td>False</td>\n",
       "      <td>False</td>\n",
       "      <td>False</td>\n",
       "      <td>False</td>\n",
       "      <td>False</td>\n",
       "      <td>False</td>\n",
       "      <td>False</td>\n",
       "    </tr>\n",
       "    <tr>\n",
       "      <th>703</th>\n",
       "      <td>False</td>\n",
       "      <td>False</td>\n",
       "      <td>False</td>\n",
       "      <td>False</td>\n",
       "      <td>False</td>\n",
       "      <td>False</td>\n",
       "      <td>False</td>\n",
       "      <td>False</td>\n",
       "      <td>False</td>\n",
       "      <td>False</td>\n",
       "    </tr>\n",
       "    <tr>\n",
       "      <th>678</th>\n",
       "      <td>False</td>\n",
       "      <td>False</td>\n",
       "      <td>False</td>\n",
       "      <td>False</td>\n",
       "      <td>True</td>\n",
       "      <td>False</td>\n",
       "      <td>False</td>\n",
       "      <td>False</td>\n",
       "      <td>False</td>\n",
       "      <td>False</td>\n",
       "    </tr>\n",
       "    <tr>\n",
       "      <th>278</th>\n",
       "      <td>False</td>\n",
       "      <td>False</td>\n",
       "      <td>False</td>\n",
       "      <td>False</td>\n",
       "      <td>False</td>\n",
       "      <td>False</td>\n",
       "      <td>False</td>\n",
       "      <td>False</td>\n",
       "      <td>False</td>\n",
       "      <td>False</td>\n",
       "    </tr>\n",
       "    <tr>\n",
       "      <th>...</th>\n",
       "      <td>...</td>\n",
       "      <td>...</td>\n",
       "      <td>...</td>\n",
       "      <td>...</td>\n",
       "      <td>...</td>\n",
       "      <td>...</td>\n",
       "      <td>...</td>\n",
       "      <td>...</td>\n",
       "      <td>...</td>\n",
       "      <td>...</td>\n",
       "    </tr>\n",
       "    <tr>\n",
       "      <th>38128</th>\n",
       "      <td>False</td>\n",
       "      <td>False</td>\n",
       "      <td>False</td>\n",
       "      <td>False</td>\n",
       "      <td>False</td>\n",
       "      <td>False</td>\n",
       "      <td>True</td>\n",
       "      <td>False</td>\n",
       "      <td>False</td>\n",
       "      <td>False</td>\n",
       "    </tr>\n",
       "    <tr>\n",
       "      <th>38201</th>\n",
       "      <td>False</td>\n",
       "      <td>False</td>\n",
       "      <td>False</td>\n",
       "      <td>False</td>\n",
       "      <td>False</td>\n",
       "      <td>False</td>\n",
       "      <td>True</td>\n",
       "      <td>False</td>\n",
       "      <td>False</td>\n",
       "      <td>False</td>\n",
       "    </tr>\n",
       "    <tr>\n",
       "      <th>38224</th>\n",
       "      <td>False</td>\n",
       "      <td>False</td>\n",
       "      <td>False</td>\n",
       "      <td>False</td>\n",
       "      <td>False</td>\n",
       "      <td>False</td>\n",
       "      <td>True</td>\n",
       "      <td>False</td>\n",
       "      <td>False</td>\n",
       "      <td>False</td>\n",
       "    </tr>\n",
       "    <tr>\n",
       "      <th>38328</th>\n",
       "      <td>False</td>\n",
       "      <td>False</td>\n",
       "      <td>False</td>\n",
       "      <td>False</td>\n",
       "      <td>False</td>\n",
       "      <td>False</td>\n",
       "      <td>True</td>\n",
       "      <td>False</td>\n",
       "      <td>False</td>\n",
       "      <td>False</td>\n",
       "    </tr>\n",
       "    <tr>\n",
       "      <th>45700</th>\n",
       "      <td>False</td>\n",
       "      <td>False</td>\n",
       "      <td>False</td>\n",
       "      <td>False</td>\n",
       "      <td>False</td>\n",
       "      <td>False</td>\n",
       "      <td>True</td>\n",
       "      <td>False</td>\n",
       "      <td>False</td>\n",
       "      <td>False</td>\n",
       "    </tr>\n",
       "  </tbody>\n",
       "</table>\n",
       "<p>45714 rows × 10 columns</p>\n",
       "</div>"
      ],
      "text/plain": [
       "        name     id  nametype  recclass  ...   year  reclat  reclong  GeoLocation\n",
       "16356  False  False     False     False  ...  False   False    False        False\n",
       "38301  False  False     False     False  ...  False   False    False        False\n",
       "703    False  False     False     False  ...  False   False    False        False\n",
       "678    False  False     False     False  ...  False   False    False        False\n",
       "278    False  False     False     False  ...  False   False    False        False\n",
       "...      ...    ...       ...       ...  ...    ...     ...      ...          ...\n",
       "38128  False  False     False     False  ...   True   False    False        False\n",
       "38201  False  False     False     False  ...   True   False    False        False\n",
       "38224  False  False     False     False  ...   True   False    False        False\n",
       "38328  False  False     False     False  ...   True   False    False        False\n",
       "45700  False  False     False     False  ...   True   False    False        False\n",
       "\n",
       "[45714 rows x 10 columns]"
      ]
     },
     "execution_count": 12,
     "metadata": {
      "tags": []
     },
     "output_type": "execute_result"
    }
   ],
   "source": [
    "data.isnull()"
   ]
  },
  {
   "cell_type": "code",
   "execution_count": null,
   "metadata": {
    "colab": {
     "base_uri": "https://localhost:8080/"
    },
    "id": "pQCdKkb6Olrl",
    "outputId": "f3e93a89-e449-46d4-ea99-8575674170aa"
   },
   "outputs": [
    {
     "data": {
      "text/plain": [
       "name           False\n",
       "id             False\n",
       "nametype       False\n",
       "recclass       False\n",
       "mass            True\n",
       "fall           False\n",
       "year            True\n",
       "reclat          True\n",
       "reclong         True\n",
       "GeoLocation     True\n",
       "dtype: bool"
      ]
     },
     "execution_count": 13,
     "metadata": {
      "tags": []
     },
     "output_type": "execute_result"
    }
   ],
   "source": [
    "data.isnull().any()"
   ]
  },
  {
   "cell_type": "markdown",
   "metadata": {
    "id": "u7TWU7o1PL6O"
   },
   "source": [
    "***Counting Null Values in each column***"
   ]
  },
  {
   "cell_type": "code",
   "execution_count": null,
   "metadata": {
    "colab": {
     "base_uri": "https://localhost:8080/"
    },
    "id": "us-WMJWXOpwj",
    "outputId": "4a1525ec-8424-4c54-e7b0-ed091cce2a9e"
   },
   "outputs": [
    {
     "data": {
      "text/plain": [
       "name              0\n",
       "id                0\n",
       "nametype          0\n",
       "recclass          0\n",
       "mass            130\n",
       "fall              0\n",
       "year            288\n",
       "reclat         7315\n",
       "reclong        7315\n",
       "GeoLocation    7315\n",
       "dtype: int64"
      ]
     },
     "execution_count": 14,
     "metadata": {
      "tags": []
     },
     "output_type": "execute_result"
    }
   ],
   "source": [
    "#Count of null values\n",
    "data.isnull().sum()"
   ]
  },
  {
   "cell_type": "markdown",
   "metadata": {
    "id": "2-divFjzdrAo"
   },
   "source": [
    "***Removing Null values from the Dataset***"
   ]
  },
  {
   "cell_type": "code",
   "execution_count": null,
   "metadata": {
    "colab": {
     "base_uri": "https://localhost:8080/"
    },
    "id": "frwayCuvk5Pq",
    "outputId": "3899e11b-8212-403a-8e98-b8fefed28134"
   },
   "outputs": [
    {
     "data": {
      "text/plain": [
       "name           45714\n",
       "id             45714\n",
       "nametype       45714\n",
       "recclass       45714\n",
       "mass           45584\n",
       "fall           45714\n",
       "year           45426\n",
       "reclat         38399\n",
       "reclong        38399\n",
       "GeoLocation    38399\n",
       "dtype: int64"
      ]
     },
     "execution_count": 15,
     "metadata": {
      "tags": []
     },
     "output_type": "execute_result"
    }
   ],
   "source": [
    "#Dataset count row-wise for each column before removing null values\n",
    "data.count()"
   ]
  },
  {
   "cell_type": "code",
   "execution_count": null,
   "metadata": {
    "id": "BywpdnRYdqTn"
   },
   "outputs": [],
   "source": [
    "#Dropping null values from the Dataset\n",
    "data.dropna(inplace=True)"
   ]
  },
  {
   "cell_type": "code",
   "execution_count": null,
   "metadata": {
    "colab": {
     "base_uri": "https://localhost:8080/"
    },
    "id": "5lrOdE8-PY-m",
    "outputId": "30d90bc3-40d4-4cd4-d747-5bf46975eabe"
   },
   "outputs": [
    {
     "data": {
      "text/plain": [
       "name           0\n",
       "id             0\n",
       "nametype       0\n",
       "recclass       0\n",
       "mass           0\n",
       "fall           0\n",
       "year           0\n",
       "reclat         0\n",
       "reclong        0\n",
       "GeoLocation    0\n",
       "dtype: int64"
      ]
     },
     "execution_count": 17,
     "metadata": {
      "tags": []
     },
     "output_type": "execute_result"
    }
   ],
   "source": [
    "#Count of null values after dropping null values\n",
    "data.isnull().sum()"
   ]
  },
  {
   "cell_type": "code",
   "execution_count": null,
   "metadata": {
    "colab": {
     "base_uri": "https://localhost:8080/"
    },
    "id": "5TozcvD4kyEM",
    "outputId": "3d33acf2-158f-4a42-a1dc-d2a4231198ce"
   },
   "outputs": [
    {
     "data": {
      "text/plain": [
       "name           38115\n",
       "id             38115\n",
       "nametype       38115\n",
       "recclass       38115\n",
       "mass           38115\n",
       "fall           38115\n",
       "year           38115\n",
       "reclat         38115\n",
       "reclong        38115\n",
       "GeoLocation    38115\n",
       "dtype: int64"
      ]
     },
     "execution_count": 18,
     "metadata": {
      "tags": []
     },
     "output_type": "execute_result"
    }
   ],
   "source": [
    "#Dataset count row-wise for each column after removing null values\n",
    "data.count()"
   ]
  },
  {
   "cell_type": "markdown",
   "metadata": {
    "id": "-KL-2OHfKIcr"
   },
   "source": [
    "***Dropping rows where mass is zero***"
   ]
  },
  {
   "cell_type": "code",
   "execution_count": null,
   "metadata": {
    "colab": {
     "base_uri": "https://localhost:8080/"
    },
    "id": "wE49cl-SKKxE",
    "outputId": "3552fb82-6823-4caa-8e06-2d879212822c"
   },
   "outputs": [
    {
     "data": {
      "text/plain": [
       "name           19\n",
       "id             19\n",
       "nametype       19\n",
       "recclass       19\n",
       "mass           19\n",
       "fall           19\n",
       "year           19\n",
       "reclat         19\n",
       "reclong        19\n",
       "GeoLocation    19\n",
       "dtype: int64"
      ]
     },
     "execution_count": 19,
     "metadata": {
      "tags": []
     },
     "output_type": "execute_result"
    }
   ],
   "source": [
    "#Counting rows where mass is zero before dropping\n",
    "data[data['mass']==0].count()"
   ]
  },
  {
   "cell_type": "code",
   "execution_count": null,
   "metadata": {
    "id": "46mNz5vZKiQo"
   },
   "outputs": [],
   "source": [
    "#Dropping rows where mass is zero\n",
    "data.drop(data[data['mass']==0].index, inplace=True)"
   ]
  },
  {
   "cell_type": "code",
   "execution_count": null,
   "metadata": {
    "colab": {
     "base_uri": "https://localhost:8080/"
    },
    "id": "KAwCTvefK2EC",
    "outputId": "b32d13be-b5ab-46c8-d5c1-6bfbb87e5b52"
   },
   "outputs": [
    {
     "data": {
      "text/plain": [
       "name           0\n",
       "id             0\n",
       "nametype       0\n",
       "recclass       0\n",
       "mass           0\n",
       "fall           0\n",
       "year           0\n",
       "reclat         0\n",
       "reclong        0\n",
       "GeoLocation    0\n",
       "dtype: int64"
      ]
     },
     "execution_count": 21,
     "metadata": {
      "tags": []
     },
     "output_type": "execute_result"
    }
   ],
   "source": [
    "#Counting rows where mass is zero after dropping\n",
    "data[data['mass']==0].count()"
   ]
  },
  {
   "cell_type": "markdown",
   "metadata": {
    "id": "B9O29lmePlHI"
   },
   "source": [
    "***Checking for GeoLocation Coordinates***"
   ]
  },
  {
   "cell_type": "code",
   "execution_count": null,
   "metadata": {
    "colab": {
     "base_uri": "https://localhost:8080/",
     "height": 606
    },
    "id": "724Nq--QPw2K",
    "outputId": "0e2e8b6f-abb0-4f64-f0ad-3c14658d4687"
   },
   "outputs": [
    {
     "name": "stdout",
     "output_type": "stream",
     "text": [
      "name           6184\n",
      "id             6184\n",
      "nametype       6184\n",
      "recclass       6184\n",
      "mass           6184\n",
      "fall           6184\n",
      "year           6184\n",
      "reclat         6184\n",
      "reclong        6184\n",
      "GeoLocation    6184\n",
      "dtype: int64\n"
     ]
    },
    {
     "data": {
      "text/html": [
       "<div>\n",
       "<style scoped>\n",
       "    .dataframe tbody tr th:only-of-type {\n",
       "        vertical-align: middle;\n",
       "    }\n",
       "\n",
       "    .dataframe tbody tr th {\n",
       "        vertical-align: top;\n",
       "    }\n",
       "\n",
       "    .dataframe thead th {\n",
       "        text-align: right;\n",
       "    }\n",
       "</style>\n",
       "<table border=\"1\" class=\"dataframe\">\n",
       "  <thead>\n",
       "    <tr style=\"text-align: right;\">\n",
       "      <th></th>\n",
       "      <th>name</th>\n",
       "      <th>id</th>\n",
       "      <th>nametype</th>\n",
       "      <th>recclass</th>\n",
       "      <th>mass</th>\n",
       "      <th>fall</th>\n",
       "      <th>year</th>\n",
       "      <th>reclat</th>\n",
       "      <th>reclong</th>\n",
       "      <th>GeoLocation</th>\n",
       "    </tr>\n",
       "  </thead>\n",
       "  <tbody>\n",
       "    <tr>\n",
       "      <th>26374</th>\n",
       "      <td>New York</td>\n",
       "      <td>55760</td>\n",
       "      <td>Valid</td>\n",
       "      <td>Iron, IIIAB</td>\n",
       "      <td>2950.00</td>\n",
       "      <td>Found</td>\n",
       "      <td>1965</td>\n",
       "      <td>0.0</td>\n",
       "      <td>0.0</td>\n",
       "      <td>(0.000000, 0.000000)</td>\n",
       "    </tr>\n",
       "    <tr>\n",
       "      <th>44893</th>\n",
       "      <td>Yamato 983064</td>\n",
       "      <td>39686</td>\n",
       "      <td>Valid</td>\n",
       "      <td>L6</td>\n",
       "      <td>40.94</td>\n",
       "      <td>Found</td>\n",
       "      <td>1998</td>\n",
       "      <td>0.0</td>\n",
       "      <td>0.0</td>\n",
       "      <td>(0.000000, 0.000000)</td>\n",
       "    </tr>\n",
       "    <tr>\n",
       "      <th>44892</th>\n",
       "      <td>Yamato 983063</td>\n",
       "      <td>39685</td>\n",
       "      <td>Valid</td>\n",
       "      <td>LL3</td>\n",
       "      <td>3.38</td>\n",
       "      <td>Found</td>\n",
       "      <td>1998</td>\n",
       "      <td>0.0</td>\n",
       "      <td>0.0</td>\n",
       "      <td>(0.000000, 0.000000)</td>\n",
       "    </tr>\n",
       "    <tr>\n",
       "      <th>44891</th>\n",
       "      <td>Yamato 983056</td>\n",
       "      <td>39678</td>\n",
       "      <td>Valid</td>\n",
       "      <td>H5</td>\n",
       "      <td>362.40</td>\n",
       "      <td>Found</td>\n",
       "      <td>1998</td>\n",
       "      <td>0.0</td>\n",
       "      <td>0.0</td>\n",
       "      <td>(0.000000, 0.000000)</td>\n",
       "    </tr>\n",
       "    <tr>\n",
       "      <th>45095</th>\n",
       "      <td>Yamato 983366</td>\n",
       "      <td>39988</td>\n",
       "      <td>Valid</td>\n",
       "      <td>Eucrite-unbr</td>\n",
       "      <td>138.90</td>\n",
       "      <td>Found</td>\n",
       "      <td>1998</td>\n",
       "      <td>0.0</td>\n",
       "      <td>0.0</td>\n",
       "      <td>(0.000000, 0.000000)</td>\n",
       "    </tr>\n",
       "    <tr>\n",
       "      <th>...</th>\n",
       "      <td>...</td>\n",
       "      <td>...</td>\n",
       "      <td>...</td>\n",
       "      <td>...</td>\n",
       "      <td>...</td>\n",
       "      <td>...</td>\n",
       "      <td>...</td>\n",
       "      <td>...</td>\n",
       "      <td>...</td>\n",
       "      <td>...</td>\n",
       "    </tr>\n",
       "    <tr>\n",
       "      <th>30773</th>\n",
       "      <td>Northwest Africa 7857</td>\n",
       "      <td>57422</td>\n",
       "      <td>Valid</td>\n",
       "      <td>LL6</td>\n",
       "      <td>246.00</td>\n",
       "      <td>Found</td>\n",
       "      <td>2013</td>\n",
       "      <td>0.0</td>\n",
       "      <td>0.0</td>\n",
       "      <td>(0.000000, 0.000000)</td>\n",
       "    </tr>\n",
       "    <tr>\n",
       "      <th>30774</th>\n",
       "      <td>Northwest Africa 7858</td>\n",
       "      <td>57423</td>\n",
       "      <td>Valid</td>\n",
       "      <td>H4</td>\n",
       "      <td>459.00</td>\n",
       "      <td>Found</td>\n",
       "      <td>2013</td>\n",
       "      <td>0.0</td>\n",
       "      <td>0.0</td>\n",
       "      <td>(0.000000, 0.000000)</td>\n",
       "    </tr>\n",
       "    <tr>\n",
       "      <th>30776</th>\n",
       "      <td>Northwest Africa 7861</td>\n",
       "      <td>57425</td>\n",
       "      <td>Valid</td>\n",
       "      <td>L5</td>\n",
       "      <td>611.00</td>\n",
       "      <td>Found</td>\n",
       "      <td>2013</td>\n",
       "      <td>0.0</td>\n",
       "      <td>0.0</td>\n",
       "      <td>(0.000000, 0.000000)</td>\n",
       "    </tr>\n",
       "    <tr>\n",
       "      <th>30777</th>\n",
       "      <td>Northwest Africa 7862</td>\n",
       "      <td>57426</td>\n",
       "      <td>Valid</td>\n",
       "      <td>L4/5</td>\n",
       "      <td>317.00</td>\n",
       "      <td>Found</td>\n",
       "      <td>2013</td>\n",
       "      <td>0.0</td>\n",
       "      <td>0.0</td>\n",
       "      <td>(0.000000, 0.000000)</td>\n",
       "    </tr>\n",
       "    <tr>\n",
       "      <th>30759</th>\n",
       "      <td>Northwest Africa 7812</td>\n",
       "      <td>57258</td>\n",
       "      <td>Valid</td>\n",
       "      <td>Angrite</td>\n",
       "      <td>46.20</td>\n",
       "      <td>Found</td>\n",
       "      <td>2013</td>\n",
       "      <td>0.0</td>\n",
       "      <td>0.0</td>\n",
       "      <td>(0.000000, 0.000000)</td>\n",
       "    </tr>\n",
       "  </tbody>\n",
       "</table>\n",
       "<p>6184 rows × 10 columns</p>\n",
       "</div>"
      ],
      "text/plain": [
       "                        name     id  ... reclong           GeoLocation\n",
       "26374               New York  55760  ...     0.0  (0.000000, 0.000000)\n",
       "44893          Yamato 983064  39686  ...     0.0  (0.000000, 0.000000)\n",
       "44892          Yamato 983063  39685  ...     0.0  (0.000000, 0.000000)\n",
       "44891          Yamato 983056  39678  ...     0.0  (0.000000, 0.000000)\n",
       "45095          Yamato 983366  39988  ...     0.0  (0.000000, 0.000000)\n",
       "...                      ...    ...  ...     ...                   ...\n",
       "30773  Northwest Africa 7857  57422  ...     0.0  (0.000000, 0.000000)\n",
       "30774  Northwest Africa 7858  57423  ...     0.0  (0.000000, 0.000000)\n",
       "30776  Northwest Africa 7861  57425  ...     0.0  (0.000000, 0.000000)\n",
       "30777  Northwest Africa 7862  57426  ...     0.0  (0.000000, 0.000000)\n",
       "30759  Northwest Africa 7812  57258  ...     0.0  (0.000000, 0.000000)\n",
       "\n",
       "[6184 rows x 10 columns]"
      ]
     },
     "execution_count": 22,
     "metadata": {
      "tags": []
     },
     "output_type": "execute_result"
    }
   ],
   "source": [
    "#Checking GeoLocations\n",
    "print(data[data['GeoLocation']=='(0.000000, 0.000000)'].count())\n",
    "data[data['GeoLocation']=='(0.000000, 0.000000)']"
   ]
  },
  {
   "cell_type": "code",
   "execution_count": null,
   "metadata": {
    "id": "0aojH_yfSaT-"
   },
   "outputs": [],
   "source": [
    "#Dropping abnormal GeoLocations\n",
    "data.drop(data[data['GeoLocation']=='(0.000000, 0.000000)'].index, inplace=True)"
   ]
  },
  {
   "cell_type": "code",
   "execution_count": null,
   "metadata": {
    "colab": {
     "base_uri": "https://localhost:8080/",
     "height": 236
    },
    "id": "iEsOytCbSoV0",
    "outputId": "87d4d58b-2615-4457-a890-59c76476699c"
   },
   "outputs": [
    {
     "name": "stdout",
     "output_type": "stream",
     "text": [
      "name           0\n",
      "id             0\n",
      "nametype       0\n",
      "recclass       0\n",
      "mass           0\n",
      "fall           0\n",
      "year           0\n",
      "reclat         0\n",
      "reclong        0\n",
      "GeoLocation    0\n",
      "dtype: int64\n"
     ]
    },
    {
     "data": {
      "text/html": [
       "<div>\n",
       "<style scoped>\n",
       "    .dataframe tbody tr th:only-of-type {\n",
       "        vertical-align: middle;\n",
       "    }\n",
       "\n",
       "    .dataframe tbody tr th {\n",
       "        vertical-align: top;\n",
       "    }\n",
       "\n",
       "    .dataframe thead th {\n",
       "        text-align: right;\n",
       "    }\n",
       "</style>\n",
       "<table border=\"1\" class=\"dataframe\">\n",
       "  <thead>\n",
       "    <tr style=\"text-align: right;\">\n",
       "      <th></th>\n",
       "      <th>name</th>\n",
       "      <th>id</th>\n",
       "      <th>nametype</th>\n",
       "      <th>recclass</th>\n",
       "      <th>mass</th>\n",
       "      <th>fall</th>\n",
       "      <th>year</th>\n",
       "      <th>reclat</th>\n",
       "      <th>reclong</th>\n",
       "      <th>GeoLocation</th>\n",
       "    </tr>\n",
       "  </thead>\n",
       "  <tbody>\n",
       "  </tbody>\n",
       "</table>\n",
       "</div>"
      ],
      "text/plain": [
       "Empty DataFrame\n",
       "Columns: [name, id, nametype, recclass, mass, fall, year, reclat, reclong, GeoLocation]\n",
       "Index: []"
      ]
     },
     "execution_count": 24,
     "metadata": {
      "tags": []
     },
     "output_type": "execute_result"
    }
   ],
   "source": [
    "#Assuring\n",
    "print(data[data['GeoLocation']=='(0.000000, 0.000000)'].count())\n",
    "data[data['GeoLocation']=='(0.000000, 0.000000)']"
   ]
  },
  {
   "cell_type": "markdown",
   "metadata": {
    "id": "3e42rb19GcK2"
   },
   "source": [
    "***Reset Index after removing Null values, Zero Mass Rows, Invalid GeoLocations***"
   ]
  },
  {
   "cell_type": "code",
   "execution_count": null,
   "metadata": {
    "colab": {
     "base_uri": "https://localhost:8080/"
    },
    "id": "4txjy8zYGio6",
    "outputId": "66f74377-1de4-4372-c288-fced8873d819"
   },
   "outputs": [
    {
     "data": {
      "text/plain": [
       "Int64Index([38301,   703,   278,   852,   283,  5329,   174, 26166,   410,\n",
       "              956,\n",
       "            ...\n",
       "              965,  3403,  5371,    86, 17387, 17386, 37733, 36403, 30514,\n",
       "              194],\n",
       "           dtype='int64', length=31912)"
      ]
     },
     "execution_count": 25,
     "metadata": {
      "tags": []
     },
     "output_type": "execute_result"
    }
   ],
   "source": [
    "#Displaying index of Dataset before reindexing\n",
    "data.index"
   ]
  },
  {
   "cell_type": "code",
   "execution_count": null,
   "metadata": {
    "id": "K5va6iBg-rtd"
   },
   "outputs": [],
   "source": [
    "#Reset index of Dataset\n",
    "data.reset_index(inplace=True)"
   ]
  },
  {
   "cell_type": "code",
   "execution_count": null,
   "metadata": {
    "colab": {
     "base_uri": "https://localhost:8080/"
    },
    "id": "9_AEzEmt_k5O",
    "outputId": "306780c6-f3ed-44f6-be70-d509d2e974d7"
   },
   "outputs": [
    {
     "data": {
      "text/plain": [
       "RangeIndex(start=0, stop=31912, step=1)"
      ]
     },
     "execution_count": 27,
     "metadata": {
      "tags": []
     },
     "output_type": "execute_result"
    }
   ],
   "source": [
    "#Displaying index of Dataset after reindexing\n",
    "data.index"
   ]
  },
  {
   "cell_type": "code",
   "execution_count": null,
   "metadata": {
    "id": "cuI71dLKMNDV"
   },
   "outputs": [],
   "source": [
    "#Deleting previous index row\n",
    "del data['index']"
   ]
  },
  {
   "cell_type": "code",
   "execution_count": null,
   "metadata": {
    "colab": {
     "base_uri": "https://localhost:8080/",
     "height": 589
    },
    "id": "LAIq6SMkImeB",
    "outputId": "6ee39c3d-0efe-47ed-9dad-8aede39965ce"
   },
   "outputs": [
    {
     "data": {
      "text/html": [
       "<div>\n",
       "<style scoped>\n",
       "    .dataframe tbody tr th:only-of-type {\n",
       "        vertical-align: middle;\n",
       "    }\n",
       "\n",
       "    .dataframe tbody tr th {\n",
       "        vertical-align: top;\n",
       "    }\n",
       "\n",
       "    .dataframe thead th {\n",
       "        text-align: right;\n",
       "    }\n",
       "</style>\n",
       "<table border=\"1\" class=\"dataframe\">\n",
       "  <thead>\n",
       "    <tr style=\"text-align: right;\">\n",
       "      <th></th>\n",
       "      <th>name</th>\n",
       "      <th>id</th>\n",
       "      <th>nametype</th>\n",
       "      <th>recclass</th>\n",
       "      <th>mass</th>\n",
       "      <th>fall</th>\n",
       "      <th>year</th>\n",
       "      <th>reclat</th>\n",
       "      <th>reclong</th>\n",
       "      <th>GeoLocation</th>\n",
       "    </tr>\n",
       "  </thead>\n",
       "  <tbody>\n",
       "    <tr>\n",
       "      <th>0</th>\n",
       "      <td>Wietrzno-Bobrka</td>\n",
       "      <td>24259</td>\n",
       "      <td>Valid</td>\n",
       "      <td>Iron</td>\n",
       "      <td>376.0</td>\n",
       "      <td>Found</td>\n",
       "      <td>601</td>\n",
       "      <td>49.41667</td>\n",
       "      <td>21.70000</td>\n",
       "      <td>(49.416670, 21.700000)</td>\n",
       "    </tr>\n",
       "    <tr>\n",
       "      <th>1</th>\n",
       "      <td>Nogata</td>\n",
       "      <td>16988</td>\n",
       "      <td>Valid</td>\n",
       "      <td>L6</td>\n",
       "      <td>472.0</td>\n",
       "      <td>Fell</td>\n",
       "      <td>860</td>\n",
       "      <td>33.72500</td>\n",
       "      <td>130.75000</td>\n",
       "      <td>(33.725000, 130.750000)</td>\n",
       "    </tr>\n",
       "    <tr>\n",
       "      <th>2</th>\n",
       "      <td>Elbogen</td>\n",
       "      <td>7823</td>\n",
       "      <td>Valid</td>\n",
       "      <td>Iron, IID</td>\n",
       "      <td>107000.0</td>\n",
       "      <td>Fell</td>\n",
       "      <td>1399</td>\n",
       "      <td>50.18333</td>\n",
       "      <td>12.73333</td>\n",
       "      <td>(50.183330, 12.733330)</td>\n",
       "    </tr>\n",
       "    <tr>\n",
       "      <th>3</th>\n",
       "      <td>Rivolta de Bassi</td>\n",
       "      <td>22614</td>\n",
       "      <td>Valid</td>\n",
       "      <td>Stone-uncl</td>\n",
       "      <td>103.3</td>\n",
       "      <td>Fell</td>\n",
       "      <td>1490</td>\n",
       "      <td>45.48333</td>\n",
       "      <td>9.51667</td>\n",
       "      <td>(45.483330, 9.516670)</td>\n",
       "    </tr>\n",
       "    <tr>\n",
       "      <th>4</th>\n",
       "      <td>Ensisheim</td>\n",
       "      <td>10039</td>\n",
       "      <td>Valid</td>\n",
       "      <td>LL6</td>\n",
       "      <td>127000.0</td>\n",
       "      <td>Fell</td>\n",
       "      <td>1491</td>\n",
       "      <td>47.86667</td>\n",
       "      <td>7.35000</td>\n",
       "      <td>(47.866670, 7.350000)</td>\n",
       "    </tr>\n",
       "    <tr>\n",
       "      <th>...</th>\n",
       "      <td>...</td>\n",
       "      <td>...</td>\n",
       "      <td>...</td>\n",
       "      <td>...</td>\n",
       "      <td>...</td>\n",
       "      <td>...</td>\n",
       "      <td>...</td>\n",
       "      <td>...</td>\n",
       "      <td>...</td>\n",
       "      <td>...</td>\n",
       "    </tr>\n",
       "    <tr>\n",
       "      <th>31907</th>\n",
       "      <td>Ksar Ghilane 010</td>\n",
       "      <td>55605</td>\n",
       "      <td>Valid</td>\n",
       "      <td>L5</td>\n",
       "      <td>50.1</td>\n",
       "      <td>Found</td>\n",
       "      <td>2012</td>\n",
       "      <td>32.80600</td>\n",
       "      <td>9.83300</td>\n",
       "      <td>(32.806000, 9.833000)</td>\n",
       "    </tr>\n",
       "    <tr>\n",
       "      <th>31908</th>\n",
       "      <td>Stewart Valley 012</td>\n",
       "      <td>55528</td>\n",
       "      <td>Valid</td>\n",
       "      <td>H6</td>\n",
       "      <td>130.0</td>\n",
       "      <td>Found</td>\n",
       "      <td>2012</td>\n",
       "      <td>36.23500</td>\n",
       "      <td>-116.18358</td>\n",
       "      <td>(36.235000, -116.183580)</td>\n",
       "    </tr>\n",
       "    <tr>\n",
       "      <th>31909</th>\n",
       "      <td>Rosamond</td>\n",
       "      <td>57434</td>\n",
       "      <td>Valid</td>\n",
       "      <td>LL3</td>\n",
       "      <td>11.1</td>\n",
       "      <td>Found</td>\n",
       "      <td>2012</td>\n",
       "      <td>34.82793</td>\n",
       "      <td>-118.14640</td>\n",
       "      <td>(34.827930, -118.146400)</td>\n",
       "    </tr>\n",
       "    <tr>\n",
       "      <th>31910</th>\n",
       "      <td>Northwest Africa 7496</td>\n",
       "      <td>56314</td>\n",
       "      <td>Valid</td>\n",
       "      <td>Eucrite-pmict</td>\n",
       "      <td>788.4</td>\n",
       "      <td>Found</td>\n",
       "      <td>2012</td>\n",
       "      <td>22.94781</td>\n",
       "      <td>-13.38527</td>\n",
       "      <td>(22.947810, -13.385270)</td>\n",
       "    </tr>\n",
       "    <tr>\n",
       "      <th>31911</th>\n",
       "      <td>Chelyabinsk</td>\n",
       "      <td>57165</td>\n",
       "      <td>Valid</td>\n",
       "      <td>LL5</td>\n",
       "      <td>100000.0</td>\n",
       "      <td>Fell</td>\n",
       "      <td>2013</td>\n",
       "      <td>54.81667</td>\n",
       "      <td>61.11667</td>\n",
       "      <td>(54.816670, 61.116670)</td>\n",
       "    </tr>\n",
       "  </tbody>\n",
       "</table>\n",
       "<p>31912 rows × 10 columns</p>\n",
       "</div>"
      ],
      "text/plain": [
       "                        name     id  ...    reclong               GeoLocation\n",
       "0            Wietrzno-Bobrka  24259  ...   21.70000    (49.416670, 21.700000)\n",
       "1                     Nogata  16988  ...  130.75000   (33.725000, 130.750000)\n",
       "2                    Elbogen   7823  ...   12.73333    (50.183330, 12.733330)\n",
       "3           Rivolta de Bassi  22614  ...    9.51667     (45.483330, 9.516670)\n",
       "4                  Ensisheim  10039  ...    7.35000     (47.866670, 7.350000)\n",
       "...                      ...    ...  ...        ...                       ...\n",
       "31907       Ksar Ghilane 010  55605  ...    9.83300     (32.806000, 9.833000)\n",
       "31908     Stewart Valley 012  55528  ... -116.18358  (36.235000, -116.183580)\n",
       "31909               Rosamond  57434  ... -118.14640  (34.827930, -118.146400)\n",
       "31910  Northwest Africa 7496  56314  ...  -13.38527   (22.947810, -13.385270)\n",
       "31911            Chelyabinsk  57165  ...   61.11667    (54.816670, 61.116670)\n",
       "\n",
       "[31912 rows x 10 columns]"
      ]
     },
     "execution_count": 29,
     "metadata": {
      "tags": []
     },
     "output_type": "execute_result"
    }
   ],
   "source": [
    "data"
   ]
  },
  {
   "cell_type": "markdown",
   "metadata": {
    "id": "DLezBrrAUHcO"
   },
   "source": [
    "***Mean, Median, Mode, Std. Deviation of Mass***"
   ]
  },
  {
   "cell_type": "code",
   "execution_count": null,
   "metadata": {
    "colab": {
     "base_uri": "https://localhost:8080/"
    },
    "id": "5I8cAW7OUG89",
    "outputId": "7d5d3cbc-21a5-4f8c-aed7-32d552c3ae67"
   },
   "outputs": [
    {
     "data": {
      "text/plain": [
       "18552.775309444856"
      ]
     },
     "execution_count": 30,
     "metadata": {
      "tags": []
     },
     "output_type": "execute_result"
    }
   ],
   "source": [
    "#Mean\n",
    "data['mass'].mean()"
   ]
  },
  {
   "cell_type": "code",
   "execution_count": null,
   "metadata": {
    "colab": {
     "base_uri": "https://localhost:8080/"
    },
    "id": "CVu-AgxZaxHH",
    "outputId": "299f4f67-ade9-4ba1-8d50-fa9d782b5547"
   },
   "outputs": [
    {
     "data": {
      "text/plain": [
       "29.685000000000002"
      ]
     },
     "execution_count": 31,
     "metadata": {
      "tags": []
     },
     "output_type": "execute_result"
    }
   ],
   "source": [
    "#Median\n",
    "data['mass'].median()"
   ]
  },
  {
   "cell_type": "code",
   "execution_count": null,
   "metadata": {
    "colab": {
     "base_uri": "https://localhost:8080/"
    },
    "id": "RMxwN6opeePi",
    "outputId": "d105cb7f-4f20-4425-fc59-14a35e0bdc41"
   },
   "outputs": [
    {
     "data": {
      "text/plain": [
       "0    1.3\n",
       "dtype: float64"
      ]
     },
     "execution_count": 32,
     "metadata": {
      "tags": []
     },
     "output_type": "execute_result"
    }
   ],
   "source": [
    "#Mode\n",
    "data['mass'].mode()"
   ]
  },
  {
   "cell_type": "code",
   "execution_count": null,
   "metadata": {
    "colab": {
     "base_uri": "https://localhost:8080/"
    },
    "id": "flFPNNX4a5kk",
    "outputId": "6081724c-18a1-43d5-8a8a-7a4a9be24fbd"
   },
   "outputs": [
    {
     "data": {
      "text/plain": [
       "687032.3021663561"
      ]
     },
     "execution_count": 33,
     "metadata": {
      "tags": []
     },
     "output_type": "execute_result"
    }
   ],
   "source": [
    "#Standard Deviation\n",
    "data['mass'].std()"
   ]
  },
  {
   "cell_type": "markdown",
   "metadata": {
    "id": "f6iMUpOTb_y_"
   },
   "source": [
    "***Correlation, Covariance***"
   ]
  },
  {
   "cell_type": "code",
   "execution_count": null,
   "metadata": {
    "colab": {
     "base_uri": "https://localhost:8080/"
    },
    "id": "x7mmtJ4ma947",
    "outputId": "36349237-df8d-4f37-92bd-d64a4335bf42"
   },
   "outputs": [
    {
     "data": {
      "text/plain": [
       "-0.1190632136920269"
      ]
     },
     "execution_count": 34,
     "metadata": {
      "tags": []
     },
     "output_type": "execute_result"
    }
   ],
   "source": [
    "#Correaltion between mass and year\n",
    "data['mass'].corr(data['year'].astype('float'))"
   ]
  },
  {
   "cell_type": "code",
   "execution_count": null,
   "metadata": {
    "colab": {
     "base_uri": "https://localhost:8080/"
    },
    "id": "aEbzPyNGd57n",
    "outputId": "30e4bfbe-b8ad-4cb3-aaf7-7113d5a19069"
   },
   "outputs": [
    {
     "data": {
      "text/plain": [
       "-2276223.217698387"
      ]
     },
     "execution_count": 35,
     "metadata": {
      "tags": []
     },
     "output_type": "execute_result"
    }
   ],
   "source": [
    "#Covariance between mass and year\n",
    "data['mass'].cov(data['year'].astype('float'))"
   ]
  },
  {
   "cell_type": "markdown",
   "metadata": {
    "id": "_e8AaRvU3jbW"
   },
   "source": [
    " ***Type of Meteorite*** (Should not be confused with Classification)"
   ]
  },
  {
   "cell_type": "code",
   "execution_count": null,
   "metadata": {
    "colab": {
     "base_uri": "https://localhost:8080/"
    },
    "id": "mW9GmX7_mDu6",
    "outputId": "4cf4a9c7-c628-4ccf-e06e-ef3e52ca0a81"
   },
   "outputs": [
    {
     "data": {
      "text/plain": [
       "array(['Valid', 'Relict'], dtype=object)"
      ]
     },
     "execution_count": 36,
     "metadata": {
      "tags": []
     },
     "output_type": "execute_result"
    }
   ],
   "source": [
    "data['nametype'].unique()"
   ]
  },
  {
   "cell_type": "code",
   "execution_count": null,
   "metadata": {
    "colab": {
     "base_uri": "https://localhost:8080/"
    },
    "id": "YS_sfIcV8aAH",
    "outputId": "3e493ad8-a658-473e-9a06-447023f155a6"
   },
   "outputs": [
    {
     "data": {
      "text/plain": [
       "Valid     31909\n",
       "Relict        3\n",
       "Name: nametype, dtype: int64"
      ]
     },
     "execution_count": 37,
     "metadata": {
      "tags": []
     },
     "output_type": "execute_result"
    }
   ],
   "source": [
    "#Counting based on types of Meteorites\n",
    "data['nametype'].value_counts()"
   ]
  },
  {
   "cell_type": "code",
   "execution_count": null,
   "metadata": {
    "colab": {
     "base_uri": "https://localhost:8080/",
     "height": 367
    },
    "id": "QPjIVSJofmSv",
    "outputId": "d41ed212-967a-49ec-a79a-611909b9411f"
   },
   "outputs": [
    {
     "data": {
      "text/plain": [
       "Text(0.5, 1.0, 'Count of different type of Meteorites')"
      ]
     },
     "execution_count": 38,
     "metadata": {
      "tags": []
     },
     "output_type": "execute_result"
    },
    {
     "data": {
      "image/png": "[encoded data removed]",
      "text/plain": [
       "<Figure size 720x360 with 1 Axes>"
      ]
     },
     "metadata": {
      "needs_background": "light",
      "tags": []
     },
     "output_type": "display_data"
    }
   ],
   "source": [
    "#Plotting Histogram Plot for 'Nametype' Column\n",
    "fig = plt.figure(figsize=(10,5))\n",
    "sns.histplot(data=data['nametype'],color='b').set_title('Count of different type of Meteorites')"
   ]
  },
  {
   "cell_type": "code",
   "execution_count": null,
   "metadata": {
    "colab": {
     "base_uri": "https://localhost:8080/",
     "height": 493
    },
    "id": "pJGuVkVkfZyM",
    "outputId": "b30b4c94-6634-470a-fb2a-9e0e43c48ba5"
   },
   "outputs": [
    {
     "data": {
      "text/plain": [
       "([<matplotlib.patches.Wedge at 0x7fb6db8a7190>,\n",
       "  <matplotlib.patches.Wedge at 0x7fb6db409250>],\n",
       " [Text(-1.0999999520392434, 0.0003248286662686357, 'Valid'),\n",
       "  Text(1.0999999520514863, -0.00032478720397173923, 'Relict')],\n",
       " [Text(-0.5999999738395873, 0.0001771792725101649, '99.99%'),\n",
       "  Text(0.5999999738462652, -0.00017715665671185773, '0.01%')])"
      ]
     },
     "execution_count": 39,
     "metadata": {
      "tags": []
     },
     "output_type": "execute_result"
    },
    {
     "data": {
      "image/png": "[encoded data removed]",
      "text/plain": [
       "<Figure size 720x360 with 1 Axes>"
      ]
     },
     "metadata": {
      "tags": []
     },
     "output_type": "display_data"
    }
   ],
   "source": [
    "#Plotting Piechart for 'Nametype' Column\n",
    "fig=plt.figure(figsize=(10,5))\n",
    "ax=fig.add_axes([0,0,1,1])\n",
    "ax.pie(data['nametype'].value_counts(),labels=data['nametype'].unique(),autopct='%0.2f%%',shadow=True,colors=['r','b'])"
   ]
  },
  {
   "cell_type": "markdown",
   "metadata": {
    "id": "68bK8OTV8mWt"
   },
   "source": [
    "***Classification of Meteorites***"
   ]
  },
  {
   "cell_type": "code",
   "execution_count": null,
   "metadata": {
    "colab": {
     "base_uri": "https://localhost:8080/"
    },
    "id": "64dt0Poj8lze",
    "outputId": "a459561f-a1cb-4458-fbaa-a20df0fbc669"
   },
   "outputs": [
    {
     "data": {
      "text/plain": [
       "array(['Iron', 'L6', 'Iron, IID', 'Stone-uncl', 'LL6', 'Iron, IAB-MG',\n",
       "       'Iron, IIIAB', 'L', 'H6', 'H', 'Iron, IIAB', 'L5', 'Iron, IVA-an',\n",
       "       'Pallasite, PMG-an', 'H5', 'H3-5', 'L/LL4', 'H4', 'Iron, IAB-sLL',\n",
       "       'Iron, IAB?', 'Iron, IC', 'Iron, ungrouped', 'Iron, IVB', 'LL5',\n",
       "       'LL4', 'Howardite', 'Iron, IAB complex', 'H5-7', 'CI1',\n",
       "       'Eucrite-mmict', 'Pallasite, PMG', 'OC', 'Martian (chassignite)',\n",
       "       'H?', 'L4', 'Iron, IIIE', 'Eucrite-pmict', 'CR2', 'Iron, IVA',\n",
       "       'Pallasite', 'Iron, IAB-ung', 'Aubrite', 'H4/5', 'CM2', 'LL7',\n",
       "       'Mesosiderite-A1', 'Diogenite', 'Iron, IIE-an', 'Pallasite?',\n",
       "       'Iron, IIC', 'H3/4', 'L3.7', 'Iron, IAB-sLH', 'Iron, IIIAB?',\n",
       "       'H/L3.9', 'Iron, IIIF', 'Mesosiderite-A4', 'Mesosiderite-B4',\n",
       "       'CV3', 'LL3.6', 'Iron, IIG', 'Iron, IAB-sHL', 'EL6',\n",
       "       'Martian (shergottite)', 'L/LL5', 'Lodranite', 'Ureilite', 'CO3.4',\n",
       "       'Angrite', 'L/LL6', 'CO3.5', 'Eucrite-cm', 'Iron, IIE', 'CO3.7',\n",
       "       'H/L3.6', 'Mesosiderite-A3/4', 'Pallasite, PES', 'Mesosiderite-B2',\n",
       "       'Iron, IC-an', 'L5-6', 'Iron, IAB-sHH', 'Mesosiderite-A3',\n",
       "       'Iron, IAB-sLM', 'K3', 'EH4', 'H3.7', 'LL3.15', 'H3-4', 'CO3.3',\n",
       "       'EH5', 'Iron, IIIAB-an', 'EH3', 'LL4-6', 'LL3.4', 'Iron, IID-an',\n",
       "       'L3.7-6', 'Iron, IIF', 'L3.6', 'Martian (nakhlite)', 'L3.9', 'LL',\n",
       "       'H3.8', 'Achondrite-ung', 'Mesosiderite?', 'LL3.3',\n",
       "       'Mesosiderite-B1', 'Iron, IAB-an', 'H3.4', 'LL3.8', 'H3',\n",
       "       'Mesosiderite-A', 'CBa', 'L3', 'L5/6', 'Winonaite', 'CK4',\n",
       "       'H3.8-an', 'L3.5', 'L3-6', 'H3-6', 'H3.6', 'R3.8-6', 'H4-an',\n",
       "       'L6/7', 'CO3.2', 'C4-ung', 'H5-6', 'LL3.00', 'LL3-6',\n",
       "       'Mesosiderite', 'EH4/5', 'L3-4', 'Aubrite-an', 'L3.4', 'LL3.2',\n",
       "       'H3.5', 'L4-6', 'Diogenite-pm', 'EH3/4-an', 'Mesosiderite-A2',\n",
       "       'C2-ung', 'CR2-an', 'Lunar (anorth)', 'LL3.1', 'Ureilite-pmict',\n",
       "       'L-imp melt', 'L3.8-an', 'L/LL3.4', 'L/LL4/5', 'H(5?)', 'CK4/5',\n",
       "       'L5-7', 'CO3.8', 'H4-6', 'EL6/7', 'C5/6-ung', 'H4/6',\n",
       "       'Chondrite-ung', 'H5/6', 'H/L4', 'Brachinite', 'LL3.0', 'CK4-an',\n",
       "       'E5', 'LL3', 'Acapulcoite', 'CO3', 'Lodranite-an', 'H-an', 'H4-5',\n",
       "       'R3.8', 'EH', 'CO3.0', 'L4/5', 'H3.2-6', 'LL3.9', 'H7', 'H3.9',\n",
       "       'L3.2', 'L3.8', 'L/LL3', 'L3.7-3.9', 'LL3.7', 'Iron, IIIE-an',\n",
       "       'CO3.6', 'L(?)3', 'LL3.5', 'E3', 'E5-an', 'H(?)4', 'R4', 'H3.3',\n",
       "       'H3.2-an', 'Lunar (bas/anor)', 'C', 'L3.7-4', 'Eucrite',\n",
       "       'Lunar (gabbro)', 'E4', 'EH6-an', 'E', 'L3.5-3.8',\n",
       "       'Mesosiderite-an', 'L3/4', 'LL5/6', 'L3.1', 'Eucrite-unbr',\n",
       "       'H3.2-3.7', 'Eucrite-br', 'L/LL6-an', 'L3.6-4', 'L3.3', 'CV3-an',\n",
       "       'C1/2-ung', 'L3.5-3.7', 'CK5', 'Stone-ung', 'R3.9', 'L7', 'CM1/2',\n",
       "       'LL3.1-3.5', 'CK6', 'EH-imp melt', 'Iron, IIAB-an', 'L3.3-3.7',\n",
       "       'C3-ung', 'L3.4-3.7', 'CM1', 'L3.3-3.6', 'L3.2-3.6', 'LL6(?)',\n",
       "       'Pallasite, ungrouped', 'EH6', 'Acapulcoite/Lodranite', 'LL7(?)',\n",
       "       'Martian (OPX)', 'R3.6', 'EL3', 'CH3', 'H3.5-4', 'Eucrite-Mg rich',\n",
       "       'L3.0-3.9', 'L/LL', 'C4', 'L3.3-3.5', 'L3.5-3.9', 'L3.2-3.5',\n",
       "       'L3.0', 'L3.0-3.7', 'C6', 'E3-an', 'K', 'Chondrite-fusion crust',\n",
       "       'Mesosiderite-B', 'Lunar (basalt)', 'CK5/6', 'E6', 'Ureilite-an',\n",
       "       'H-metal', 'H3.1', 'H3.7-6', 'H3.0', 'EL7', 'LL5-6', 'H3.9/4',\n",
       "       'L3.5-5', 'H3.8/4', 'L/LL5/6', 'H3.10', 'L3.05', 'EH7-an', 'L4-5',\n",
       "       'L3-5', 'LL3.8-6', 'CK3', 'L/LL(?)3', 'H3.9-6', 'L/LL3.10',\n",
       "       'H3.9-5', 'LL4/5', 'H3.8-5', 'H3.6-6', 'R3.8-5', 'R3-6', 'L3.9/4',\n",
       "       'L/LL5-6', 'CK3-an', 'EL5', 'CV2', 'C2', 'LL3.9/4', 'LL5-7',\n",
       "       'H3.2', 'H3-an', 'CBb', 'L4-an', 'EH7', 'EL4', 'LL4-5', 'H4(?)',\n",
       "       'Diogenite-an', 'R3', 'CR1', 'H3.8-4', 'R3.5-6', 'C4/5', 'L/LL3.2',\n",
       "       'L3.10', 'H/L3', 'H/L3.5', 'EL4/5', 'L/LL3-5', 'L/LL3-6', 'H~5',\n",
       "       'H~6', 'L3.9-6', 'L~5', 'H~4', 'H~4/5', 'Lunar (feldsp. breccia)',\n",
       "       'H/L6', 'R3-4', 'H5-an', 'CR', 'Enst achon-ung', 'Lunar', 'L~6',\n",
       "       'LL~6', 'H3.4/3.5', 'H-imp melt', 'E-an', 'L-metal', 'H3.0-3.4',\n",
       "       'Lunar (norite)', 'CR-an', 'LL3/4', 'L(LL)3.05', 'Fusion crust',\n",
       "       'Lunar (bas. breccia)', 'L~3', 'LL(L)3', 'L/LL3.6/3.7', 'LL~5',\n",
       "       'L(LL)3', 'H/L5', 'L3.8-6', 'CM-an', 'H(L)3-an', 'R5',\n",
       "       'H-melt rock', 'Mesosiderite-C2', 'R', 'L/LL~6', 'L-melt rock',\n",
       "       'H/L4-5', 'L~4', 'CH/CBb', 'H5 ', 'L5 ', 'L6 ', 'H4 ', 'H3.8/3.9',\n",
       "       'L(LL)5', 'L(LL)6', 'L4 ', 'H(L)3', 'H/L~4', 'H5-melt breccia',\n",
       "       'H6-melt breccia', 'H3 ', 'LL3-5', 'Mesosiderite-C', 'Eucrite-an',\n",
       "       'L6-melt breccia', 'L/LL4-6', 'H6 ', 'LL6 ', 'LL3.7-6', 'H3.7-5',\n",
       "       'LL~3', 'L-melt breccia', 'H3.7/3.8', 'L3.7/3.8', 'L/LL~5',\n",
       "       'L/LL~4', 'Diogenite-olivine', 'L3.9-5', 'H3.8-6', 'H3.4-5',\n",
       "       'L(LL)3.5-3.7'], dtype=object)"
      ]
     },
     "execution_count": 40,
     "metadata": {
      "tags": []
     },
     "output_type": "execute_result"
    }
   ],
   "source": [
    "#Showing Unique Classes\n",
    "data['recclass'].unique()"
   ]
  },
  {
   "cell_type": "code",
   "execution_count": null,
   "metadata": {
    "colab": {
     "base_uri": "https://localhost:8080/"
    },
    "id": "PI7qLQnM9A2l",
    "outputId": "22180f30-d934-4984-9692-8560fc0a789c"
   },
   "outputs": [
    {
     "data": {
      "text/plain": [
       "L6           6523\n",
       "H5           5586\n",
       "H4           3324\n",
       "H6           3231\n",
       "L5           2723\n",
       "             ... \n",
       "R3.9            1\n",
       "EL7             1\n",
       "LL4/5           1\n",
       "L3.8-an         1\n",
       "Stone-ung       1\n",
       "Name: recclass, Length: 390, dtype: int64"
      ]
     },
     "execution_count": 41,
     "metadata": {
      "tags": []
     },
     "output_type": "execute_result"
    }
   ],
   "source": [
    "#No. of Meteorites for each Unique Class\n",
    "data['recclass'].value_counts()"
   ]
  },
  {
   "cell_type": "code",
   "execution_count": null,
   "metadata": {
    "colab": {
     "base_uri": "https://localhost:8080/"
    },
    "id": "KAHN7iZNKd9a",
    "outputId": "3842e225-4d3d-4ccb-f143-46353fca1dc3"
   },
   "outputs": [
    {
     "data": {
      "text/plain": [
       "L6                       19\n",
       "Stone-uncl               10\n",
       "H6                        9\n",
       "H5                        9\n",
       "Iron, IIIAB               5\n",
       "Iron, ungrouped           4\n",
       "H4                        4\n",
       "L                         3\n",
       "L5                        3\n",
       "Eucrite-mmict             3\n",
       "Iron                      2\n",
       "Iron, IID                 2\n",
       "Iron, IVA-an              2\n",
       "Iron, IC                  2\n",
       "Howardite                 2\n",
       "LL6                       2\n",
       "Iron, IAB-sLL             1\n",
       "H3-5                      1\n",
       "H5-7                      1\n",
       "Iron, IAB complex         1\n",
       "LL4                       1\n",
       "Iron, IVB                 1\n",
       "L/LL4                     1\n",
       "Iron, IAB?                1\n",
       "Iron, IAB-MG              1\n",
       "CI1                       1\n",
       "OC                        1\n",
       "Iron, IIIE                1\n",
       "L4                        1\n",
       "Pallasite, PMG-an         1\n",
       "H                         1\n",
       "Pallasite, PMG            1\n",
       "Iron, IIAB                1\n",
       "LL5                       1\n",
       "Martian (chassignite)     1\n",
       "H?                        1\n",
       "Name: recclass, dtype: int64"
      ]
     },
     "execution_count": 42,
     "metadata": {
      "tags": []
     },
     "output_type": "execute_result"
    }
   ],
   "source": [
    "#Sample Data from Original Class Data\n",
    "sample_recclass = data.loc[:100,'recclass']\n",
    "sample_recclass.value_counts()"
   ]
  },
  {
   "cell_type": "markdown",
   "metadata": {
    "id": "QdLno3FVZ8BZ"
   },
   "source": [
    "***Plotting of Sample Classification Data of Meteorites***"
   ]
  },
  {
   "cell_type": "code",
   "execution_count": null,
   "metadata": {
    "colab": {
     "base_uri": "https://localhost:8080/",
     "height": 551
    },
    "id": "NX19FOLAg6l-",
    "outputId": "3fdc1437-6327-4ca9-b63e-0e73726bbaa8"
   },
   "outputs": [
    {
     "data": {
      "text/plain": [
       "Text(0, 0.5, 'Counts')"
      ]
     },
     "execution_count": 43,
     "metadata": {
      "tags": []
     },
     "output_type": "execute_result"
    },
    {
     "data": {
      "image/png": "[encoded data removed]",
      "text/plain": [
       "<Figure size 1080x360 with 1 Axes>"
      ]
     },
     "metadata": {
      "needs_background": "light",
      "tags": []
     },
     "output_type": "display_data"
    }
   ],
   "source": [
    "%matplotlib inline\n",
    "fig = plt.figure(figsize=(15,5))\n",
    "ax = fig.add_axes([0,0,1,1])\n",
    "ax.plot(sample_recclass.value_counts(),linewidth=4)\n",
    "ax.set_title('Classification of Meteorites')\n",
    "labels = ax.set_xticklabels(sample_recclass.value_counts().index,rotation=90)\n",
    "ax.set_xlabel('Classifiers')\n",
    "ax.set_ylabel('Counts')"
   ]
  },
  {
   "cell_type": "code",
   "execution_count": null,
   "metadata": {
    "colab": {
     "base_uri": "https://localhost:8080/"
    },
    "id": "7G80iLx5JTy6",
    "outputId": "571cb750-0d64-443a-9c5a-b906e541b73d"
   },
   "outputs": [
    {
     "data": {
      "text/plain": [
       "Index(['L6', 'Stone-uncl', 'H6', 'H5', 'Iron, IIIAB', 'Iron, ungrouped', 'H4',\n",
       "       'L', 'L5', 'Eucrite-mmict', 'Iron', 'Iron, IID', 'Iron, IVA-an',\n",
       "       'Iron, IC', 'Howardite', 'LL6', 'Iron, IAB-sLL', 'H3-5', 'H5-7',\n",
       "       'Iron, IAB complex', 'LL4', 'Iron, IVB', 'L/LL4', 'Iron, IAB?',\n",
       "       'Iron, IAB-MG', 'CI1', 'OC', 'Iron, IIIE', 'L4', 'Pallasite, PMG-an',\n",
       "       'H', 'Pallasite, PMG', 'Iron, IIAB', 'LL5', 'Martian (chassignite)',\n",
       "       'H?'],\n",
       "      dtype='object')"
      ]
     },
     "execution_count": 97,
     "metadata": {
      "tags": []
     },
     "output_type": "execute_result"
    }
   ],
   "source": [
    "sample_recclass.value_counts().index"
   ]
  },
  {
   "cell_type": "code",
   "execution_count": null,
   "metadata": {
    "colab": {
     "base_uri": "https://localhost:8080/",
     "height": 555
    },
    "id": "TzccBnU5TiDz",
    "outputId": "e62a4424-0015-4143-feeb-8f1b8974ccac"
   },
   "outputs": [
    {
     "data": {
      "text/plain": [
       "[Text(0, 0, 'L6'),\n",
       " Text(0, 0, 'Stone-uncl'),\n",
       " Text(0, 0, 'H6'),\n",
       " Text(0, 0, 'H5'),\n",
       " Text(0, 0, 'Iron, IIIAB'),\n",
       " Text(0, 0, 'Iron, ungrouped'),\n",
       " Text(0, 0, 'H4'),\n",
       " Text(0, 0, 'L')]"
      ]
     },
     "execution_count": 44,
     "metadata": {
      "tags": []
     },
     "output_type": "execute_result"
    },
    {
     "data": {
      "image/png": "[encoded data removed]",
      "text/plain": [
       "<Figure size 720x360 with 1 Axes>"
      ]
     },
     "metadata": {
      "needs_background": "light",
      "tags": []
     },
     "output_type": "display_data"
    }
   ],
   "source": [
    "#Plotting Histogram from Sample Classification Data\n",
    "fig = plt.figure(figsize=(10,5))\n",
    "recclass_plot = sns.countplot(data=data,x=sample_recclass.value_counts())\n",
    "recclass_plot.set_title('Sample Classification of Meteorites')\n",
    "recclass_plot.set_xticklabels(labels=sample_recclass.value_counts().index,rotation=90)"
   ]
  },
  {
   "cell_type": "markdown",
   "metadata": {
    "id": "W2xIUO-uPJNh"
   },
   "source": [
    "***How many Meteorites Fall was observed (fell) and not observed (found)***"
   ]
  },
  {
   "cell_type": "code",
   "execution_count": null,
   "metadata": {
    "colab": {
     "base_uri": "https://localhost:8080/"
    },
    "id": "y9lDtlSnae6p",
    "outputId": "64eb713c-bb70-400a-8ec7-5b860f6bbe22"
   },
   "outputs": [
    {
     "data": {
      "text/plain": [
       "Found    30848\n",
       "Fell      1064\n",
       "Name: fall, dtype: int64"
      ]
     },
     "execution_count": 45,
     "metadata": {
      "tags": []
     },
     "output_type": "execute_result"
    }
   ],
   "source": [
    "#Count based on Fell and Found\n",
    "data['fall'].value_counts()"
   ]
  },
  {
   "cell_type": "code",
   "execution_count": null,
   "metadata": {
    "colab": {
     "base_uri": "https://localhost:8080/",
     "height": 312
    },
    "id": "qpxSp6mqdsK-",
    "outputId": "b5ec1fa7-fe89-414a-b142-ed87da7d87ae"
   },
   "outputs": [
    {
     "data": {
      "text/plain": [
       "Text(0.5, 1.0, 'Count of Meteorid Fell Vs Found')"
      ]
     },
     "execution_count": 46,
     "metadata": {
      "tags": []
     },
     "output_type": "execute_result"
    },
    {
     "data": {
      "image/png": "[encoded data removed]",
      "text/plain": [
       "<Figure size 432x288 with 1 Axes>"
      ]
     },
     "metadata": {
      "needs_background": "light",
      "tags": []
     },
     "output_type": "display_data"
    }
   ],
   "source": [
    "#Plotting Histogram on the Categorical data of Column 'fall'\n",
    "sns.histplot(data=data['fall'],color='b',alpha=0.5).set_title('Count of Meteorid Fell Vs Found')"
   ]
  },
  {
   "cell_type": "code",
   "execution_count": null,
   "metadata": {
    "colab": {
     "base_uri": "https://localhost:8080/",
     "height": 493
    },
    "id": "JJ26NElog-d2",
    "outputId": "ff10bba3-3705-447e-c99f-4914f3d9f0cf"
   },
   "outputs": [
    {
     "data": {
      "text/plain": [
       "([<matplotlib.patches.Wedge at 0x7fb6db2ebd50>,\n",
       "  <matplotlib.patches.Wedge at 0x7fb6db2131d0>],\n",
       " [Text(-1.0939710601874346, 0.11501008422038683, 'Found'),\n",
       "  Text(1.0939710548034227, -0.11501013543286864, 'Fell')],\n",
       " [Text(-0.5967114873749643, 0.06273277321112009, '96.67%'),\n",
       "  Text(0.5967114844382305, -0.06273280114520106, '3.33%')])"
      ]
     },
     "execution_count": 47,
     "metadata": {
      "tags": []
     },
     "output_type": "execute_result"
    },
    {
     "data": {
      "image/png": "[encoded data removed]",
      "text/plain": [
       "<Figure size 360x360 with 1 Axes>"
      ]
     },
     "metadata": {
      "tags": []
     },
     "output_type": "display_data"
    }
   ],
   "source": [
    "#Plotting Piechart on the data of Column 'fall'\n",
    "fig=plt.figure(figsize=(5,5))\n",
    "ax=fig.add_axes([0,0,1,1])\n",
    "ax.pie(data['fall'].value_counts(),labels=data['fall'].unique(),autopct='%0.2f%%',shadow=True)"
   ]
  },
  {
   "cell_type": "markdown",
   "metadata": {
    "id": "Dzr2pFWTMjgQ"
   },
   "source": [
    "***Oldest and Latest Meteorite (fell or found)***"
   ]
  },
  {
   "cell_type": "code",
   "execution_count": null,
   "metadata": {
    "colab": {
     "base_uri": "https://localhost:8080/",
     "height": 80
    },
    "id": "4w8iykL5M5IZ",
    "outputId": "22132d2e-f4e8-4447-f5d2-9a7b62611d43"
   },
   "outputs": [
    {
     "data": {
      "text/html": [
       "<div>\n",
       "<style scoped>\n",
       "    .dataframe tbody tr th:only-of-type {\n",
       "        vertical-align: middle;\n",
       "    }\n",
       "\n",
       "    .dataframe tbody tr th {\n",
       "        vertical-align: top;\n",
       "    }\n",
       "\n",
       "    .dataframe thead th {\n",
       "        text-align: right;\n",
       "    }\n",
       "</style>\n",
       "<table border=\"1\" class=\"dataframe\">\n",
       "  <thead>\n",
       "    <tr style=\"text-align: right;\">\n",
       "      <th></th>\n",
       "      <th>name</th>\n",
       "      <th>id</th>\n",
       "      <th>nametype</th>\n",
       "      <th>recclass</th>\n",
       "      <th>mass</th>\n",
       "      <th>fall</th>\n",
       "      <th>year</th>\n",
       "      <th>reclat</th>\n",
       "      <th>reclong</th>\n",
       "      <th>GeoLocation</th>\n",
       "    </tr>\n",
       "  </thead>\n",
       "  <tbody>\n",
       "    <tr>\n",
       "      <th>31911</th>\n",
       "      <td>Chelyabinsk</td>\n",
       "      <td>57165</td>\n",
       "      <td>Valid</td>\n",
       "      <td>LL5</td>\n",
       "      <td>100000.0</td>\n",
       "      <td>Fell</td>\n",
       "      <td>2013</td>\n",
       "      <td>54.81667</td>\n",
       "      <td>61.11667</td>\n",
       "      <td>(54.816670, 61.116670)</td>\n",
       "    </tr>\n",
       "  </tbody>\n",
       "</table>\n",
       "</div>"
      ],
      "text/plain": [
       "              name     id nametype  ...    reclat   reclong             GeoLocation\n",
       "31911  Chelyabinsk  57165    Valid  ...  54.81667  61.11667  (54.816670, 61.116670)\n",
       "\n",
       "[1 rows x 10 columns]"
      ]
     },
     "execution_count": 48,
     "metadata": {
      "tags": []
     },
     "output_type": "execute_result"
    }
   ],
   "source": [
    "#Latest Meteorite Fell or Found\n",
    "data[data['year']==data['year'].max()]"
   ]
  },
  {
   "cell_type": "code",
   "execution_count": null,
   "metadata": {
    "colab": {
     "base_uri": "https://localhost:8080/",
     "height": 80
    },
    "id": "RD9lYkd0Op_B",
    "outputId": "919f49a1-4a9c-47fe-f8dc-d13f12ab5248"
   },
   "outputs": [
    {
     "data": {
      "text/html": [
       "<div>\n",
       "<style scoped>\n",
       "    .dataframe tbody tr th:only-of-type {\n",
       "        vertical-align: middle;\n",
       "    }\n",
       "\n",
       "    .dataframe tbody tr th {\n",
       "        vertical-align: top;\n",
       "    }\n",
       "\n",
       "    .dataframe thead th {\n",
       "        text-align: right;\n",
       "    }\n",
       "</style>\n",
       "<table border=\"1\" class=\"dataframe\">\n",
       "  <thead>\n",
       "    <tr style=\"text-align: right;\">\n",
       "      <th></th>\n",
       "      <th>name</th>\n",
       "      <th>id</th>\n",
       "      <th>nametype</th>\n",
       "      <th>recclass</th>\n",
       "      <th>mass</th>\n",
       "      <th>fall</th>\n",
       "      <th>year</th>\n",
       "      <th>reclat</th>\n",
       "      <th>reclong</th>\n",
       "      <th>GeoLocation</th>\n",
       "    </tr>\n",
       "  </thead>\n",
       "  <tbody>\n",
       "    <tr>\n",
       "      <th>31911</th>\n",
       "      <td>Chelyabinsk</td>\n",
       "      <td>57165</td>\n",
       "      <td>Valid</td>\n",
       "      <td>LL5</td>\n",
       "      <td>100000.0</td>\n",
       "      <td>Fell</td>\n",
       "      <td>2013</td>\n",
       "      <td>54.81667</td>\n",
       "      <td>61.11667</td>\n",
       "      <td>(54.816670, 61.116670)</td>\n",
       "    </tr>\n",
       "  </tbody>\n",
       "</table>\n",
       "</div>"
      ],
      "text/plain": [
       "              name     id nametype  ...    reclat   reclong             GeoLocation\n",
       "31911  Chelyabinsk  57165    Valid  ...  54.81667  61.11667  (54.816670, 61.116670)\n",
       "\n",
       "[1 rows x 10 columns]"
      ]
     },
     "execution_count": 49,
     "metadata": {
      "tags": []
     },
     "output_type": "execute_result"
    }
   ],
   "source": [
    "#Latest Meteorite Fell (Fall Observed)\n",
    "data[(data['year']==data['year'].max()) & (data['fall']=='Fell')]"
   ]
  },
  {
   "cell_type": "code",
   "execution_count": null,
   "metadata": {
    "colab": {
     "base_uri": "https://localhost:8080/",
     "height": 421
    },
    "id": "kG7MuIoLMmzp",
    "outputId": "d288e66f-668f-448e-f25c-13ec0bc26be6"
   },
   "outputs": [
    {
     "data": {
      "text/html": [
       "<div>\n",
       "<style scoped>\n",
       "    .dataframe tbody tr th:only-of-type {\n",
       "        vertical-align: middle;\n",
       "    }\n",
       "\n",
       "    .dataframe tbody tr th {\n",
       "        vertical-align: top;\n",
       "    }\n",
       "\n",
       "    .dataframe thead th {\n",
       "        text-align: right;\n",
       "    }\n",
       "</style>\n",
       "<table border=\"1\" class=\"dataframe\">\n",
       "  <thead>\n",
       "    <tr style=\"text-align: right;\">\n",
       "      <th></th>\n",
       "      <th>name</th>\n",
       "      <th>id</th>\n",
       "      <th>nametype</th>\n",
       "      <th>recclass</th>\n",
       "      <th>mass</th>\n",
       "      <th>fall</th>\n",
       "      <th>year</th>\n",
       "      <th>reclat</th>\n",
       "      <th>reclong</th>\n",
       "      <th>GeoLocation</th>\n",
       "    </tr>\n",
       "  </thead>\n",
       "  <tbody>\n",
       "    <tr>\n",
       "      <th>31897</th>\n",
       "      <td>Jiddat al Harasis 799</td>\n",
       "      <td>57428</td>\n",
       "      <td>Valid</td>\n",
       "      <td>LL6</td>\n",
       "      <td>212.0</td>\n",
       "      <td>Found</td>\n",
       "      <td>2012</td>\n",
       "      <td>19.77278</td>\n",
       "      <td>56.38982</td>\n",
       "      <td>(19.772780, 56.389820)</td>\n",
       "    </tr>\n",
       "    <tr>\n",
       "      <th>31898</th>\n",
       "      <td>Johannesburg</td>\n",
       "      <td>55765</td>\n",
       "      <td>Valid</td>\n",
       "      <td>H4</td>\n",
       "      <td>63.0</td>\n",
       "      <td>Found</td>\n",
       "      <td>2012</td>\n",
       "      <td>35.37788</td>\n",
       "      <td>-117.63728</td>\n",
       "      <td>(35.377880, -117.637280)</td>\n",
       "    </tr>\n",
       "    <tr>\n",
       "      <th>31899</th>\n",
       "      <td>Los Vientos 028</td>\n",
       "      <td>57338</td>\n",
       "      <td>Valid</td>\n",
       "      <td>H~5</td>\n",
       "      <td>12110.0</td>\n",
       "      <td>Found</td>\n",
       "      <td>2012</td>\n",
       "      <td>-24.68333</td>\n",
       "      <td>-69.76667</td>\n",
       "      <td>(-24.683330, -69.766670)</td>\n",
       "    </tr>\n",
       "    <tr>\n",
       "      <th>31900</th>\n",
       "      <td>Tupelo</td>\n",
       "      <td>56551</td>\n",
       "      <td>Valid</td>\n",
       "      <td>EL6</td>\n",
       "      <td>280.0</td>\n",
       "      <td>Found</td>\n",
       "      <td>2012</td>\n",
       "      <td>34.24216</td>\n",
       "      <td>-88.77594</td>\n",
       "      <td>(34.242160, -88.775940)</td>\n",
       "    </tr>\n",
       "    <tr>\n",
       "      <th>31901</th>\n",
       "      <td>Mandalay Spring</td>\n",
       "      <td>57454</td>\n",
       "      <td>Valid</td>\n",
       "      <td>L6</td>\n",
       "      <td>2854.0</td>\n",
       "      <td>Found</td>\n",
       "      <td>2012</td>\n",
       "      <td>40.89201</td>\n",
       "      <td>-118.55319</td>\n",
       "      <td>(40.892010, -118.553190)</td>\n",
       "    </tr>\n",
       "    <tr>\n",
       "      <th>31903</th>\n",
       "      <td>Antelope</td>\n",
       "      <td>57455</td>\n",
       "      <td>Valid</td>\n",
       "      <td>H4</td>\n",
       "      <td>754.0</td>\n",
       "      <td>Found</td>\n",
       "      <td>2012</td>\n",
       "      <td>40.90183</td>\n",
       "      <td>-118.54465</td>\n",
       "      <td>(40.901830, -118.544650)</td>\n",
       "    </tr>\n",
       "    <tr>\n",
       "      <th>31904</th>\n",
       "      <td>Catalina 009</td>\n",
       "      <td>57173</td>\n",
       "      <td>Valid</td>\n",
       "      <td>CR2</td>\n",
       "      <td>5.2</td>\n",
       "      <td>Found</td>\n",
       "      <td>2012</td>\n",
       "      <td>-25.23333</td>\n",
       "      <td>-69.71667</td>\n",
       "      <td>(-25.233330, -69.716670)</td>\n",
       "    </tr>\n",
       "    <tr>\n",
       "      <th>31906</th>\n",
       "      <td>Ksar Ghilane 011</td>\n",
       "      <td>55606</td>\n",
       "      <td>Valid</td>\n",
       "      <td>L4</td>\n",
       "      <td>25.6</td>\n",
       "      <td>Found</td>\n",
       "      <td>2012</td>\n",
       "      <td>32.89100</td>\n",
       "      <td>9.91300</td>\n",
       "      <td>(32.891000, 9.913000)</td>\n",
       "    </tr>\n",
       "    <tr>\n",
       "      <th>31907</th>\n",
       "      <td>Ksar Ghilane 010</td>\n",
       "      <td>55605</td>\n",
       "      <td>Valid</td>\n",
       "      <td>L5</td>\n",
       "      <td>50.1</td>\n",
       "      <td>Found</td>\n",
       "      <td>2012</td>\n",
       "      <td>32.80600</td>\n",
       "      <td>9.83300</td>\n",
       "      <td>(32.806000, 9.833000)</td>\n",
       "    </tr>\n",
       "    <tr>\n",
       "      <th>31908</th>\n",
       "      <td>Stewart Valley 012</td>\n",
       "      <td>55528</td>\n",
       "      <td>Valid</td>\n",
       "      <td>H6</td>\n",
       "      <td>130.0</td>\n",
       "      <td>Found</td>\n",
       "      <td>2012</td>\n",
       "      <td>36.23500</td>\n",
       "      <td>-116.18358</td>\n",
       "      <td>(36.235000, -116.183580)</td>\n",
       "    </tr>\n",
       "    <tr>\n",
       "      <th>31909</th>\n",
       "      <td>Rosamond</td>\n",
       "      <td>57434</td>\n",
       "      <td>Valid</td>\n",
       "      <td>LL3</td>\n",
       "      <td>11.1</td>\n",
       "      <td>Found</td>\n",
       "      <td>2012</td>\n",
       "      <td>34.82793</td>\n",
       "      <td>-118.14640</td>\n",
       "      <td>(34.827930, -118.146400)</td>\n",
       "    </tr>\n",
       "    <tr>\n",
       "      <th>31910</th>\n",
       "      <td>Northwest Africa 7496</td>\n",
       "      <td>56314</td>\n",
       "      <td>Valid</td>\n",
       "      <td>Eucrite-pmict</td>\n",
       "      <td>788.4</td>\n",
       "      <td>Found</td>\n",
       "      <td>2012</td>\n",
       "      <td>22.94781</td>\n",
       "      <td>-13.38527</td>\n",
       "      <td>(22.947810, -13.385270)</td>\n",
       "    </tr>\n",
       "  </tbody>\n",
       "</table>\n",
       "</div>"
      ],
      "text/plain": [
       "                        name     id  ...    reclong               GeoLocation\n",
       "31897  Jiddat al Harasis 799  57428  ...   56.38982    (19.772780, 56.389820)\n",
       "31898           Johannesburg  55765  ... -117.63728  (35.377880, -117.637280)\n",
       "31899        Los Vientos 028  57338  ...  -69.76667  (-24.683330, -69.766670)\n",
       "31900                 Tupelo  56551  ...  -88.77594   (34.242160, -88.775940)\n",
       "31901        Mandalay Spring  57454  ... -118.55319  (40.892010, -118.553190)\n",
       "31903               Antelope  57455  ... -118.54465  (40.901830, -118.544650)\n",
       "31904           Catalina 009  57173  ...  -69.71667  (-25.233330, -69.716670)\n",
       "31906       Ksar Ghilane 011  55606  ...    9.91300     (32.891000, 9.913000)\n",
       "31907       Ksar Ghilane 010  55605  ...    9.83300     (32.806000, 9.833000)\n",
       "31908     Stewart Valley 012  55528  ... -116.18358  (36.235000, -116.183580)\n",
       "31909               Rosamond  57434  ... -118.14640  (34.827930, -118.146400)\n",
       "31910  Northwest Africa 7496  56314  ...  -13.38527   (22.947810, -13.385270)\n",
       "\n",
       "[12 rows x 10 columns]"
      ]
     },
     "execution_count": 50,
     "metadata": {
      "tags": []
     },
     "output_type": "execute_result"
    }
   ],
   "source": [
    "#Latest Meteorite Found (Fall not Observed)\n",
    "found = data[data['fall']=='Found']\n",
    "data[(data['year']==found['year'].max()) & (data['fall']=='Found')]"
   ]
  },
  {
   "cell_type": "code",
   "execution_count": null,
   "metadata": {
    "colab": {
     "base_uri": "https://localhost:8080/",
     "height": 80
    },
    "id": "E3GE00vNNOp5",
    "outputId": "f679afcf-1472-4a05-fef0-f4ece3b97072"
   },
   "outputs": [
    {
     "data": {
      "text/html": [
       "<div>\n",
       "<style scoped>\n",
       "    .dataframe tbody tr th:only-of-type {\n",
       "        vertical-align: middle;\n",
       "    }\n",
       "\n",
       "    .dataframe tbody tr th {\n",
       "        vertical-align: top;\n",
       "    }\n",
       "\n",
       "    .dataframe thead th {\n",
       "        text-align: right;\n",
       "    }\n",
       "</style>\n",
       "<table border=\"1\" class=\"dataframe\">\n",
       "  <thead>\n",
       "    <tr style=\"text-align: right;\">\n",
       "      <th></th>\n",
       "      <th>name</th>\n",
       "      <th>id</th>\n",
       "      <th>nametype</th>\n",
       "      <th>recclass</th>\n",
       "      <th>mass</th>\n",
       "      <th>fall</th>\n",
       "      <th>year</th>\n",
       "      <th>reclat</th>\n",
       "      <th>reclong</th>\n",
       "      <th>GeoLocation</th>\n",
       "    </tr>\n",
       "  </thead>\n",
       "  <tbody>\n",
       "    <tr>\n",
       "      <th>0</th>\n",
       "      <td>Wietrzno-Bobrka</td>\n",
       "      <td>24259</td>\n",
       "      <td>Valid</td>\n",
       "      <td>Iron</td>\n",
       "      <td>376.0</td>\n",
       "      <td>Found</td>\n",
       "      <td>601</td>\n",
       "      <td>49.41667</td>\n",
       "      <td>21.7</td>\n",
       "      <td>(49.416670, 21.700000)</td>\n",
       "    </tr>\n",
       "  </tbody>\n",
       "</table>\n",
       "</div>"
      ],
      "text/plain": [
       "              name     id nametype  ...    reclat  reclong             GeoLocation\n",
       "0  Wietrzno-Bobrka  24259    Valid  ...  49.41667     21.7  (49.416670, 21.700000)\n",
       "\n",
       "[1 rows x 10 columns]"
      ]
     },
     "execution_count": 51,
     "metadata": {
      "tags": []
     },
     "output_type": "execute_result"
    }
   ],
   "source": [
    "#Oldest Meteorite Fell or Found\n",
    "data[data['year']==data['year'].min()]"
   ]
  },
  {
   "cell_type": "code",
   "execution_count": null,
   "metadata": {
    "colab": {
     "base_uri": "https://localhost:8080/",
     "height": 80
    },
    "id": "-d805amJNN5F",
    "outputId": "06203ba8-d25d-45f4-f37f-fc0255474f7d"
   },
   "outputs": [
    {
     "data": {
      "text/html": [
       "<div>\n",
       "<style scoped>\n",
       "    .dataframe tbody tr th:only-of-type {\n",
       "        vertical-align: middle;\n",
       "    }\n",
       "\n",
       "    .dataframe tbody tr th {\n",
       "        vertical-align: top;\n",
       "    }\n",
       "\n",
       "    .dataframe thead th {\n",
       "        text-align: right;\n",
       "    }\n",
       "</style>\n",
       "<table border=\"1\" class=\"dataframe\">\n",
       "  <thead>\n",
       "    <tr style=\"text-align: right;\">\n",
       "      <th></th>\n",
       "      <th>name</th>\n",
       "      <th>id</th>\n",
       "      <th>nametype</th>\n",
       "      <th>recclass</th>\n",
       "      <th>mass</th>\n",
       "      <th>fall</th>\n",
       "      <th>year</th>\n",
       "      <th>reclat</th>\n",
       "      <th>reclong</th>\n",
       "      <th>GeoLocation</th>\n",
       "    </tr>\n",
       "  </thead>\n",
       "  <tbody>\n",
       "    <tr>\n",
       "      <th>1</th>\n",
       "      <td>Nogata</td>\n",
       "      <td>16988</td>\n",
       "      <td>Valid</td>\n",
       "      <td>L6</td>\n",
       "      <td>472.0</td>\n",
       "      <td>Fell</td>\n",
       "      <td>860</td>\n",
       "      <td>33.725</td>\n",
       "      <td>130.75</td>\n",
       "      <td>(33.725000, 130.750000)</td>\n",
       "    </tr>\n",
       "  </tbody>\n",
       "</table>\n",
       "</div>"
      ],
      "text/plain": [
       "     name     id nametype  ...  reclat  reclong              GeoLocation\n",
       "1  Nogata  16988    Valid  ...  33.725   130.75  (33.725000, 130.750000)\n",
       "\n",
       "[1 rows x 10 columns]"
      ]
     },
     "execution_count": 52,
     "metadata": {
      "tags": []
     },
     "output_type": "execute_result"
    }
   ],
   "source": [
    "#Oldest Meteorite Fell (Fall Observed)\n",
    "fell = data[data['fall']=='Fell']\n",
    "data[data['year'] == fell['year'].min()]"
   ]
  },
  {
   "cell_type": "code",
   "execution_count": null,
   "metadata": {
    "colab": {
     "base_uri": "https://localhost:8080/",
     "height": 80
    },
    "id": "J-7EEvtsNgww",
    "outputId": "123dcebf-d4ff-459b-ec24-80ef57aedaec"
   },
   "outputs": [
    {
     "data": {
      "text/html": [
       "<div>\n",
       "<style scoped>\n",
       "    .dataframe tbody tr th:only-of-type {\n",
       "        vertical-align: middle;\n",
       "    }\n",
       "\n",
       "    .dataframe tbody tr th {\n",
       "        vertical-align: top;\n",
       "    }\n",
       "\n",
       "    .dataframe thead th {\n",
       "        text-align: right;\n",
       "    }\n",
       "</style>\n",
       "<table border=\"1\" class=\"dataframe\">\n",
       "  <thead>\n",
       "    <tr style=\"text-align: right;\">\n",
       "      <th></th>\n",
       "      <th>name</th>\n",
       "      <th>id</th>\n",
       "      <th>nametype</th>\n",
       "      <th>recclass</th>\n",
       "      <th>mass</th>\n",
       "      <th>fall</th>\n",
       "      <th>year</th>\n",
       "      <th>reclat</th>\n",
       "      <th>reclong</th>\n",
       "      <th>GeoLocation</th>\n",
       "    </tr>\n",
       "  </thead>\n",
       "  <tbody>\n",
       "    <tr>\n",
       "      <th>0</th>\n",
       "      <td>Wietrzno-Bobrka</td>\n",
       "      <td>24259</td>\n",
       "      <td>Valid</td>\n",
       "      <td>Iron</td>\n",
       "      <td>376.0</td>\n",
       "      <td>Found</td>\n",
       "      <td>601</td>\n",
       "      <td>49.41667</td>\n",
       "      <td>21.7</td>\n",
       "      <td>(49.416670, 21.700000)</td>\n",
       "    </tr>\n",
       "  </tbody>\n",
       "</table>\n",
       "</div>"
      ],
      "text/plain": [
       "              name     id nametype  ...    reclat  reclong             GeoLocation\n",
       "0  Wietrzno-Bobrka  24259    Valid  ...  49.41667     21.7  (49.416670, 21.700000)\n",
       "\n",
       "[1 rows x 10 columns]"
      ]
     },
     "execution_count": 53,
     "metadata": {
      "tags": []
     },
     "output_type": "execute_result"
    }
   ],
   "source": [
    "#Oldest Meteorite Found (Fall not Observed)\n",
    "data[(data['year']==data['year'].min()) & (data['fall']=='Found')]"
   ]
  },
  {
   "cell_type": "code",
   "execution_count": null,
   "metadata": {
    "colab": {
     "base_uri": "https://localhost:8080/"
    },
    "id": "g5mseYXhfrPi",
    "outputId": "84c75397-1228-44ce-f383-f640a980f827"
   },
   "outputs": [
    {
     "data": {
      "text/plain": [
       "fall\n",
       "Fell     2013\n",
       "Found    2012\n",
       "Name: year, dtype: Int64"
      ]
     },
     "execution_count": 54,
     "metadata": {
      "tags": []
     },
     "output_type": "execute_result"
    }
   ],
   "source": [
    "#Latest Meteorite Group by fell and found\n",
    "fell_found = data.groupby('fall')\n",
    "fell_found['year'].max()"
   ]
  },
  {
   "cell_type": "code",
   "execution_count": null,
   "metadata": {
    "colab": {
     "base_uri": "https://localhost:8080/"
    },
    "id": "MF6QXwrQf6Ty",
    "outputId": "3f8a440b-5758-4fcb-a512-eb142ad20072"
   },
   "outputs": [
    {
     "data": {
      "text/plain": [
       "fall\n",
       "Fell     860\n",
       "Found    601\n",
       "Name: year, dtype: Int64"
      ]
     },
     "execution_count": 55,
     "metadata": {
      "tags": []
     },
     "output_type": "execute_result"
    }
   ],
   "source": [
    "#Oldest Meteorite Group by fell and found\n",
    "fell_found['year'].min()"
   ]
  },
  {
   "cell_type": "markdown",
   "metadata": {
    "id": "f5jRrdprOjQU"
   },
   "source": [
    "***Heaviest and Lightest Meteorite Fell or Found***"
   ]
  },
  {
   "cell_type": "code",
   "execution_count": null,
   "metadata": {
    "colab": {
     "base_uri": "https://localhost:8080/"
    },
    "id": "B8-h7CuAhLvV",
    "outputId": "59505228-62d8-455c-b484-f99fcdc2febc"
   },
   "outputs": [
    {
     "data": {
      "text/plain": [
       "fall\n",
       "Fell     23000000.0\n",
       "Found    60000000.0\n",
       "Name: mass, dtype: float64"
      ]
     },
     "execution_count": 56,
     "metadata": {
      "tags": []
     },
     "output_type": "execute_result"
    }
   ],
   "source": [
    "#Heaviest Meteorite group by Fell and Found\n",
    "fell_found['mass'].max()"
   ]
  },
  {
   "cell_type": "code",
   "execution_count": null,
   "metadata": {
    "colab": {
     "base_uri": "https://localhost:8080/"
    },
    "id": "uWKwmFMhhc6C",
    "outputId": "c673c9f1-f90f-4f27-b229-a9d64da8b9b6"
   },
   "outputs": [
    {
     "data": {
      "text/plain": [
       "fall\n",
       "Fell     0.10\n",
       "Found    0.01\n",
       "Name: mass, dtype: float64"
      ]
     },
     "execution_count": 57,
     "metadata": {
      "tags": []
     },
     "output_type": "execute_result"
    }
   ],
   "source": [
    "#Lightest Meteorite group by Fell and Found\n",
    "fell_found['mass'].min()"
   ]
  },
  {
   "cell_type": "code",
   "execution_count": null,
   "metadata": {
    "colab": {
     "base_uri": "https://localhost:8080/",
     "height": 80
    },
    "id": "8IvrHFCih6ml",
    "outputId": "7975f184-31aa-4497-e865-72aea8ffabbe"
   },
   "outputs": [
    {
     "data": {
      "text/html": [
       "<div>\n",
       "<style scoped>\n",
       "    .dataframe tbody tr th:only-of-type {\n",
       "        vertical-align: middle;\n",
       "    }\n",
       "\n",
       "    .dataframe tbody tr th {\n",
       "        vertical-align: top;\n",
       "    }\n",
       "\n",
       "    .dataframe thead th {\n",
       "        text-align: right;\n",
       "    }\n",
       "</style>\n",
       "<table border=\"1\" class=\"dataframe\">\n",
       "  <thead>\n",
       "    <tr style=\"text-align: right;\">\n",
       "      <th></th>\n",
       "      <th>name</th>\n",
       "      <th>id</th>\n",
       "      <th>nametype</th>\n",
       "      <th>recclass</th>\n",
       "      <th>mass</th>\n",
       "      <th>fall</th>\n",
       "      <th>year</th>\n",
       "      <th>reclat</th>\n",
       "      <th>reclong</th>\n",
       "      <th>GeoLocation</th>\n",
       "    </tr>\n",
       "  </thead>\n",
       "  <tbody>\n",
       "    <tr>\n",
       "      <th>995</th>\n",
       "      <td>Hoba</td>\n",
       "      <td>11890</td>\n",
       "      <td>Valid</td>\n",
       "      <td>Iron, IVB</td>\n",
       "      <td>60000000.0</td>\n",
       "      <td>Found</td>\n",
       "      <td>1920</td>\n",
       "      <td>-19.58333</td>\n",
       "      <td>17.91667</td>\n",
       "      <td>(-19.583330, 17.916670)</td>\n",
       "    </tr>\n",
       "  </tbody>\n",
       "</table>\n",
       "</div>"
      ],
      "text/plain": [
       "     name     id nametype  ...    reclat   reclong              GeoLocation\n",
       "995  Hoba  11890    Valid  ... -19.58333  17.91667  (-19.583330, 17.916670)\n",
       "\n",
       "[1 rows x 10 columns]"
      ]
     },
     "execution_count": 58,
     "metadata": {
      "tags": []
     },
     "output_type": "execute_result"
    }
   ],
   "source": [
    "#Heaviest Meteorite fell or found\n",
    "data[data['mass']==data['mass'].max()]"
   ]
  },
  {
   "cell_type": "code",
   "execution_count": null,
   "metadata": {
    "colab": {
     "base_uri": "https://localhost:8080/",
     "height": 80
    },
    "id": "shN0MjoGimuX",
    "outputId": "6c4b1c7d-8ff9-4b8d-ee49-bf0c05c9231f"
   },
   "outputs": [
    {
     "data": {
      "text/html": [
       "<div>\n",
       "<style scoped>\n",
       "    .dataframe tbody tr th:only-of-type {\n",
       "        vertical-align: middle;\n",
       "    }\n",
       "\n",
       "    .dataframe tbody tr th {\n",
       "        vertical-align: top;\n",
       "    }\n",
       "\n",
       "    .dataframe thead th {\n",
       "        text-align: right;\n",
       "    }\n",
       "</style>\n",
       "<table border=\"1\" class=\"dataframe\">\n",
       "  <thead>\n",
       "    <tr style=\"text-align: right;\">\n",
       "      <th></th>\n",
       "      <th>name</th>\n",
       "      <th>id</th>\n",
       "      <th>nametype</th>\n",
       "      <th>recclass</th>\n",
       "      <th>mass</th>\n",
       "      <th>fall</th>\n",
       "      <th>year</th>\n",
       "      <th>reclat</th>\n",
       "      <th>reclong</th>\n",
       "      <th>GeoLocation</th>\n",
       "    </tr>\n",
       "  </thead>\n",
       "  <tbody>\n",
       "    <tr>\n",
       "      <th>1581</th>\n",
       "      <td>Sikhote-Alin</td>\n",
       "      <td>23593</td>\n",
       "      <td>Valid</td>\n",
       "      <td>Iron, IIAB</td>\n",
       "      <td>23000000.0</td>\n",
       "      <td>Fell</td>\n",
       "      <td>1947</td>\n",
       "      <td>46.16</td>\n",
       "      <td>134.65333</td>\n",
       "      <td>(46.160000, 134.653330)</td>\n",
       "    </tr>\n",
       "  </tbody>\n",
       "</table>\n",
       "</div>"
      ],
      "text/plain": [
       "              name     id nametype  ... reclat    reclong              GeoLocation\n",
       "1581  Sikhote-Alin  23593    Valid  ...  46.16  134.65333  (46.160000, 134.653330)\n",
       "\n",
       "[1 rows x 10 columns]"
      ]
     },
     "execution_count": 59,
     "metadata": {
      "tags": []
     },
     "output_type": "execute_result"
    }
   ],
   "source": [
    "#Heaviest Meteorite Fell (Fall Observed)\n",
    "data[data['mass'] == fell['mass'].max()]"
   ]
  },
  {
   "cell_type": "code",
   "execution_count": null,
   "metadata": {
    "colab": {
     "base_uri": "https://localhost:8080/",
     "height": 80
    },
    "id": "xwu8EcXOisrK",
    "outputId": "e92e0518-1d8d-498d-ab39-dcb53fb31af1"
   },
   "outputs": [
    {
     "data": {
      "text/html": [
       "<div>\n",
       "<style scoped>\n",
       "    .dataframe tbody tr th:only-of-type {\n",
       "        vertical-align: middle;\n",
       "    }\n",
       "\n",
       "    .dataframe tbody tr th {\n",
       "        vertical-align: top;\n",
       "    }\n",
       "\n",
       "    .dataframe thead th {\n",
       "        text-align: right;\n",
       "    }\n",
       "</style>\n",
       "<table border=\"1\" class=\"dataframe\">\n",
       "  <thead>\n",
       "    <tr style=\"text-align: right;\">\n",
       "      <th></th>\n",
       "      <th>name</th>\n",
       "      <th>id</th>\n",
       "      <th>nametype</th>\n",
       "      <th>recclass</th>\n",
       "      <th>mass</th>\n",
       "      <th>fall</th>\n",
       "      <th>year</th>\n",
       "      <th>reclat</th>\n",
       "      <th>reclong</th>\n",
       "      <th>GeoLocation</th>\n",
       "    </tr>\n",
       "  </thead>\n",
       "  <tbody>\n",
       "    <tr>\n",
       "      <th>995</th>\n",
       "      <td>Hoba</td>\n",
       "      <td>11890</td>\n",
       "      <td>Valid</td>\n",
       "      <td>Iron, IVB</td>\n",
       "      <td>60000000.0</td>\n",
       "      <td>Found</td>\n",
       "      <td>1920</td>\n",
       "      <td>-19.58333</td>\n",
       "      <td>17.91667</td>\n",
       "      <td>(-19.583330, 17.916670)</td>\n",
       "    </tr>\n",
       "  </tbody>\n",
       "</table>\n",
       "</div>"
      ],
      "text/plain": [
       "     name     id nametype  ...    reclat   reclong              GeoLocation\n",
       "995  Hoba  11890    Valid  ... -19.58333  17.91667  (-19.583330, 17.916670)\n",
       "\n",
       "[1 rows x 10 columns]"
      ]
     },
     "execution_count": 60,
     "metadata": {
      "tags": []
     },
     "output_type": "execute_result"
    }
   ],
   "source": [
    "#Heaviest Meteorite Found (Fall not Observed)\n",
    "data[(data['mass']==data['mass'].max()) & (data['fall']=='Found')]"
   ]
  },
  {
   "cell_type": "code",
   "execution_count": null,
   "metadata": {
    "colab": {
     "base_uri": "https://localhost:8080/",
     "height": 80
    },
    "id": "JcFqQ0qZiNtZ",
    "outputId": "a3dd336a-6dbb-4ba7-84d8-3f4509d61f60"
   },
   "outputs": [
    {
     "data": {
      "text/html": [
       "<div>\n",
       "<style scoped>\n",
       "    .dataframe tbody tr th:only-of-type {\n",
       "        vertical-align: middle;\n",
       "    }\n",
       "\n",
       "    .dataframe tbody tr th {\n",
       "        vertical-align: top;\n",
       "    }\n",
       "\n",
       "    .dataframe thead th {\n",
       "        text-align: right;\n",
       "    }\n",
       "</style>\n",
       "<table border=\"1\" class=\"dataframe\">\n",
       "  <thead>\n",
       "    <tr style=\"text-align: right;\">\n",
       "      <th></th>\n",
       "      <th>name</th>\n",
       "      <th>id</th>\n",
       "      <th>nametype</th>\n",
       "      <th>recclass</th>\n",
       "      <th>mass</th>\n",
       "      <th>fall</th>\n",
       "      <th>year</th>\n",
       "      <th>reclat</th>\n",
       "      <th>reclong</th>\n",
       "      <th>GeoLocation</th>\n",
       "    </tr>\n",
       "  </thead>\n",
       "  <tbody>\n",
       "    <tr>\n",
       "      <th>8363</th>\n",
       "      <td>Yamato 8333</td>\n",
       "      <td>29438</td>\n",
       "      <td>Valid</td>\n",
       "      <td>H5</td>\n",
       "      <td>0.01</td>\n",
       "      <td>Found</td>\n",
       "      <td>1983</td>\n",
       "      <td>-71.5</td>\n",
       "      <td>35.66667</td>\n",
       "      <td>(-71.500000, 35.666670)</td>\n",
       "    </tr>\n",
       "  </tbody>\n",
       "</table>\n",
       "</div>"
      ],
      "text/plain": [
       "             name     id nametype  ... reclat   reclong              GeoLocation\n",
       "8363  Yamato 8333  29438    Valid  ...  -71.5  35.66667  (-71.500000, 35.666670)\n",
       "\n",
       "[1 rows x 10 columns]"
      ]
     },
     "execution_count": 61,
     "metadata": {
      "tags": []
     },
     "output_type": "execute_result"
    }
   ],
   "source": [
    "#Lightest Meteorite fell or found\n",
    "data[data['mass']==data['mass'].min()]"
   ]
  },
  {
   "cell_type": "code",
   "execution_count": null,
   "metadata": {
    "colab": {
     "base_uri": "https://localhost:8080/",
     "height": 390
    },
    "id": "ML2sdt6Ii-P4",
    "outputId": "dd067509-082b-44f3-dd7d-f813457f53d7"
   },
   "outputs": [
    {
     "data": {
      "text/html": [
       "<div>\n",
       "<style scoped>\n",
       "    .dataframe tbody tr th:only-of-type {\n",
       "        vertical-align: middle;\n",
       "    }\n",
       "\n",
       "    .dataframe tbody tr th {\n",
       "        vertical-align: top;\n",
       "    }\n",
       "\n",
       "    .dataframe thead th {\n",
       "        text-align: right;\n",
       "    }\n",
       "</style>\n",
       "<table border=\"1\" class=\"dataframe\">\n",
       "  <thead>\n",
       "    <tr style=\"text-align: right;\">\n",
       "      <th></th>\n",
       "      <th>name</th>\n",
       "      <th>id</th>\n",
       "      <th>nametype</th>\n",
       "      <th>recclass</th>\n",
       "      <th>mass</th>\n",
       "      <th>fall</th>\n",
       "      <th>year</th>\n",
       "      <th>reclat</th>\n",
       "      <th>reclong</th>\n",
       "      <th>GeoLocation</th>\n",
       "    </tr>\n",
       "  </thead>\n",
       "  <tbody>\n",
       "    <tr>\n",
       "      <th>1122</th>\n",
       "      <td>Yoshiki</td>\n",
       "      <td>30372</td>\n",
       "      <td>Valid</td>\n",
       "      <td>Stone-uncl</td>\n",
       "      <td>0.1</td>\n",
       "      <td>Fell</td>\n",
       "      <td>1928</td>\n",
       "      <td>34.16667</td>\n",
       "      <td>131.45000</td>\n",
       "      <td>(34.166670, 131.450000)</td>\n",
       "    </tr>\n",
       "    <tr>\n",
       "      <th>2064</th>\n",
       "      <td>Vilna</td>\n",
       "      <td>24183</td>\n",
       "      <td>Valid</td>\n",
       "      <td>L5</td>\n",
       "      <td>0.1</td>\n",
       "      <td>Fell</td>\n",
       "      <td>1967</td>\n",
       "      <td>54.22500</td>\n",
       "      <td>-111.69167</td>\n",
       "      <td>(54.225000, -111.691670)</td>\n",
       "    </tr>\n",
       "    <tr>\n",
       "      <th>8325</th>\n",
       "      <td>Allan Hills 83026</td>\n",
       "      <td>546</td>\n",
       "      <td>Valid</td>\n",
       "      <td>CO3</td>\n",
       "      <td>0.1</td>\n",
       "      <td>Found</td>\n",
       "      <td>1983</td>\n",
       "      <td>-76.82234</td>\n",
       "      <td>158.21493</td>\n",
       "      <td>(-76.822340, 158.214930)</td>\n",
       "    </tr>\n",
       "    <tr>\n",
       "      <th>10889</th>\n",
       "      <td>Lewis Cliff 87056</td>\n",
       "      <td>13530</td>\n",
       "      <td>Valid</td>\n",
       "      <td>Aubrite</td>\n",
       "      <td>0.1</td>\n",
       "      <td>Found</td>\n",
       "      <td>1987</td>\n",
       "      <td>-84.34532</td>\n",
       "      <td>161.47809</td>\n",
       "      <td>(-84.345320, 161.478090)</td>\n",
       "    </tr>\n",
       "    <tr>\n",
       "      <th>16084</th>\n",
       "      <td>Pecora Escarpment 91357</td>\n",
       "      <td>18648</td>\n",
       "      <td>Valid</td>\n",
       "      <td>L6</td>\n",
       "      <td>0.1</td>\n",
       "      <td>Found</td>\n",
       "      <td>1991</td>\n",
       "      <td>-85.67623</td>\n",
       "      <td>-69.08566</td>\n",
       "      <td>(-85.676230, -69.085660)</td>\n",
       "    </tr>\n",
       "    <tr>\n",
       "      <th>19787</th>\n",
       "      <td>Queen Alexandra Range 971018</td>\n",
       "      <td>20526</td>\n",
       "      <td>Valid</td>\n",
       "      <td>LL5</td>\n",
       "      <td>0.1</td>\n",
       "      <td>Found</td>\n",
       "      <td>1997</td>\n",
       "      <td>-84.00000</td>\n",
       "      <td>168.00000</td>\n",
       "      <td>(-84.000000, 168.000000)</td>\n",
       "    </tr>\n",
       "    <tr>\n",
       "      <th>22655</th>\n",
       "      <td>Queen Alexandra Range 99064</td>\n",
       "      <td>21516</td>\n",
       "      <td>Valid</td>\n",
       "      <td>L5</td>\n",
       "      <td>0.1</td>\n",
       "      <td>Found</td>\n",
       "      <td>1999</td>\n",
       "      <td>-84.00000</td>\n",
       "      <td>168.00000</td>\n",
       "      <td>(-84.000000, 168.000000)</td>\n",
       "    </tr>\n",
       "    <tr>\n",
       "      <th>22656</th>\n",
       "      <td>Queen Alexandra Range 99063</td>\n",
       "      <td>21515</td>\n",
       "      <td>Valid</td>\n",
       "      <td>LL5</td>\n",
       "      <td>0.1</td>\n",
       "      <td>Found</td>\n",
       "      <td>1999</td>\n",
       "      <td>-84.00000</td>\n",
       "      <td>168.00000</td>\n",
       "      <td>(-84.000000, 168.000000)</td>\n",
       "    </tr>\n",
       "    <tr>\n",
       "      <th>24889</th>\n",
       "      <td>Frontier Mountain 01156</td>\n",
       "      <td>10338</td>\n",
       "      <td>Valid</td>\n",
       "      <td>H3/4</td>\n",
       "      <td>0.1</td>\n",
       "      <td>Found</td>\n",
       "      <td>2001</td>\n",
       "      <td>-72.98944</td>\n",
       "      <td>160.40222</td>\n",
       "      <td>(-72.989440, 160.402220)</td>\n",
       "    </tr>\n",
       "    <tr>\n",
       "      <th>31084</th>\n",
       "      <td>Miller Butte 09001</td>\n",
       "      <td>55371</td>\n",
       "      <td>Valid</td>\n",
       "      <td>H5</td>\n",
       "      <td>0.1</td>\n",
       "      <td>Found</td>\n",
       "      <td>2009</td>\n",
       "      <td>-71.90355</td>\n",
       "      <td>160.48982</td>\n",
       "      <td>(-71.903550, 160.489820)</td>\n",
       "    </tr>\n",
       "    <tr>\n",
       "      <th>31515</th>\n",
       "      <td>Khatyrka</td>\n",
       "      <td>55600</td>\n",
       "      <td>Valid</td>\n",
       "      <td>CV3</td>\n",
       "      <td>0.1</td>\n",
       "      <td>Found</td>\n",
       "      <td>2011</td>\n",
       "      <td>62.65316</td>\n",
       "      <td>174.50043</td>\n",
       "      <td>(62.653160, 174.500430)</td>\n",
       "    </tr>\n",
       "  </tbody>\n",
       "</table>\n",
       "</div>"
      ],
      "text/plain": [
       "                               name     id  ...    reclong               GeoLocation\n",
       "1122                        Yoshiki  30372  ...  131.45000   (34.166670, 131.450000)\n",
       "2064                          Vilna  24183  ... -111.69167  (54.225000, -111.691670)\n",
       "8325              Allan Hills 83026    546  ...  158.21493  (-76.822340, 158.214930)\n",
       "10889             Lewis Cliff 87056  13530  ...  161.47809  (-84.345320, 161.478090)\n",
       "16084       Pecora Escarpment 91357  18648  ...  -69.08566  (-85.676230, -69.085660)\n",
       "19787  Queen Alexandra Range 971018  20526  ...  168.00000  (-84.000000, 168.000000)\n",
       "22655   Queen Alexandra Range 99064  21516  ...  168.00000  (-84.000000, 168.000000)\n",
       "22656   Queen Alexandra Range 99063  21515  ...  168.00000  (-84.000000, 168.000000)\n",
       "24889       Frontier Mountain 01156  10338  ...  160.40222  (-72.989440, 160.402220)\n",
       "31084            Miller Butte 09001  55371  ...  160.48982  (-71.903550, 160.489820)\n",
       "31515                      Khatyrka  55600  ...  174.50043   (62.653160, 174.500430)\n",
       "\n",
       "[11 rows x 10 columns]"
      ]
     },
     "execution_count": 62,
     "metadata": {
      "tags": []
     },
     "output_type": "execute_result"
    }
   ],
   "source": [
    "#Lightest Meteorite Fell (Fall Observed)\n",
    "data[data['mass'] == fell['mass'].min()]"
   ]
  },
  {
   "cell_type": "code",
   "execution_count": null,
   "metadata": {
    "colab": {
     "base_uri": "https://localhost:8080/",
     "height": 80
    },
    "id": "YifJyqj5i9_-",
    "outputId": "26ac8077-54b9-4b91-e7a6-ab7f3a82bfa3"
   },
   "outputs": [
    {
     "data": {
      "text/html": [
       "<div>\n",
       "<style scoped>\n",
       "    .dataframe tbody tr th:only-of-type {\n",
       "        vertical-align: middle;\n",
       "    }\n",
       "\n",
       "    .dataframe tbody tr th {\n",
       "        vertical-align: top;\n",
       "    }\n",
       "\n",
       "    .dataframe thead th {\n",
       "        text-align: right;\n",
       "    }\n",
       "</style>\n",
       "<table border=\"1\" class=\"dataframe\">\n",
       "  <thead>\n",
       "    <tr style=\"text-align: right;\">\n",
       "      <th></th>\n",
       "      <th>name</th>\n",
       "      <th>id</th>\n",
       "      <th>nametype</th>\n",
       "      <th>recclass</th>\n",
       "      <th>mass</th>\n",
       "      <th>fall</th>\n",
       "      <th>year</th>\n",
       "      <th>reclat</th>\n",
       "      <th>reclong</th>\n",
       "      <th>GeoLocation</th>\n",
       "    </tr>\n",
       "  </thead>\n",
       "  <tbody>\n",
       "    <tr>\n",
       "      <th>8363</th>\n",
       "      <td>Yamato 8333</td>\n",
       "      <td>29438</td>\n",
       "      <td>Valid</td>\n",
       "      <td>H5</td>\n",
       "      <td>0.01</td>\n",
       "      <td>Found</td>\n",
       "      <td>1983</td>\n",
       "      <td>-71.5</td>\n",
       "      <td>35.66667</td>\n",
       "      <td>(-71.500000, 35.666670)</td>\n",
       "    </tr>\n",
       "  </tbody>\n",
       "</table>\n",
       "</div>"
      ],
      "text/plain": [
       "             name     id nametype  ... reclat   reclong              GeoLocation\n",
       "8363  Yamato 8333  29438    Valid  ...  -71.5  35.66667  (-71.500000, 35.666670)\n",
       "\n",
       "[1 rows x 10 columns]"
      ]
     },
     "execution_count": 63,
     "metadata": {
      "tags": []
     },
     "output_type": "execute_result"
    }
   ],
   "source": [
    "#Lightest Meteorite Found (Fall not Observed)\n",
    "data[(data['mass']==data['mass'].min()) & (data['fall']=='Found')]"
   ]
  },
  {
   "cell_type": "markdown",
   "metadata": {
    "id": "PDP6wptRmf5T"
   },
   "source": [
    "***Heaviest and Lightest Meteorites Year-wise***"
   ]
  },
  {
   "cell_type": "code",
   "execution_count": null,
   "metadata": {
    "colab": {
     "base_uri": "https://localhost:8080/"
    },
    "id": "SqYWN6pqmfd8",
    "outputId": "cc852574-7468-42c5-94b2-a711bcfe207b"
   },
   "outputs": [
    {
     "data": {
      "text/plain": [
       "year\n",
       "601         376.0\n",
       "860         472.0\n",
       "1399     107000.0\n",
       "1490        103.3\n",
       "1491     127000.0\n",
       "          ...    \n",
       "2009    1600000.0\n",
       "2010     100000.0\n",
       "2011      50000.0\n",
       "2012      12110.0\n",
       "2013     100000.0\n",
       "Name: mass, Length: 253, dtype: float64"
      ]
     },
     "execution_count": 64,
     "metadata": {
      "tags": []
     },
     "output_type": "execute_result"
    }
   ],
   "source": [
    "#Heaviest Meteorites for each year\n",
    "groupby_year = data.groupby('year')\n",
    "groupby_year['mass'].max()"
   ]
  },
  {
   "cell_type": "code",
   "execution_count": null,
   "metadata": {
    "colab": {
     "base_uri": "https://localhost:8080/"
    },
    "id": "GXD_KT3omvu1",
    "outputId": "cc30ca1b-2659-4bcd-98a3-5e6e579804e2"
   },
   "outputs": [
    {
     "data": {
      "text/plain": [
       "year\n",
       "601        376.00\n",
       "860        472.00\n",
       "1399    107000.00\n",
       "1490       103.30\n",
       "1491    127000.00\n",
       "          ...    \n",
       "2009         0.10\n",
       "2010         0.18\n",
       "2011         0.10\n",
       "2012         5.20\n",
       "2013    100000.00\n",
       "Name: mass, Length: 253, dtype: float64"
      ]
     },
     "execution_count": 65,
     "metadata": {
      "tags": []
     },
     "output_type": "execute_result"
    }
   ],
   "source": [
    "#Lightest Meteorites for each year\n",
    "groupby_year['mass'].min()"
   ]
  },
  {
   "cell_type": "markdown",
   "metadata": {
    "id": "_YBlkfMrkQKS"
   },
   "source": [
    "***Count of Meteorites Year-wise***"
   ]
  },
  {
   "cell_type": "code",
   "execution_count": null,
   "metadata": {
    "colab": {
     "base_uri": "https://localhost:8080/"
    },
    "id": "1Js68tpDki_Q",
    "outputId": "61db2ea7-d322-4f76-df84-ea357423d49c"
   },
   "outputs": [
    {
     "data": {
      "text/plain": [
       "1979    3044\n",
       "1988    2295\n",
       "2003    1713\n",
       "1999    1578\n",
       "1990    1506\n",
       "        ... \n",
       "1723       1\n",
       "1787       1\n",
       "860        1\n",
       "1628       1\n",
       "1600       1\n",
       "Name: year, Length: 253, dtype: Int64"
      ]
     },
     "execution_count": 66,
     "metadata": {
      "tags": []
     },
     "output_type": "execute_result"
    }
   ],
   "source": [
    "#Count of Meteorites in each year\n",
    "data['year'].value_counts()"
   ]
  },
  {
   "cell_type": "markdown",
   "metadata": {
    "id": "b10Auq5eniAb"
   },
   "source": [
    "***Analysis based on Geo-Location***"
   ]
  },
  {
   "cell_type": "code",
   "execution_count": null,
   "metadata": {
    "colab": {
     "base_uri": "https://localhost:8080/"
    },
    "id": "HKWe-QW-nsD_",
    "outputId": "7cece90c-d57c-4908-ca18-d9f3b7bee22c"
   },
   "outputs": [
    {
     "data": {
      "text/plain": [
       "(-71.500000, 35.666670)     4760\n",
       "(-84.000000, 168.000000)    3040\n",
       "(-72.000000, 26.000000)     1505\n",
       "(-79.683330, 159.750000)     657\n",
       "(-76.716670, 159.666670)     637\n",
       "                            ... \n",
       "(-84.244900, 161.423590)       1\n",
       "(60.583330, 25.583330)         1\n",
       "(-76.279800, 156.446990)       1\n",
       "(34.121670, -102.695000)       1\n",
       "(27.571390, 16.175000)         1\n",
       "Name: GeoLocation, Length: 16905, dtype: int64"
      ]
     },
     "execution_count": 67,
     "metadata": {
      "tags": []
     },
     "output_type": "execute_result"
    }
   ],
   "source": [
    "#Meteorite Count for each GeoLocation \n",
    "data['GeoLocation'].value_counts()"
   ]
  },
  {
   "cell_type": "code",
   "execution_count": null,
   "metadata": {
    "colab": {
     "base_uri": "https://localhost:8080/"
    },
    "id": "ybOmJRz2pChw",
    "outputId": "4fc2d31e-210f-46f8-8971-ca97e2a3aa10"
   },
   "outputs": [
    {
     "data": {
      "text/plain": [
       "GeoLocation\n",
       "(-1.002780, 37.150280)     14200.0\n",
       "(-1.216670, 30.000000)      4975.0\n",
       "(-1.450000, 29.833330)       465.5\n",
       "(-1.870890, -79.957560)     6580.0\n",
       "(-10.059440, 33.395000)     3920.0\n",
       "                            ...   \n",
       "(9.500000, 35.333330)       2450.0\n",
       "(9.533330, 39.716670)       6500.0\n",
       "(9.600000, 9.916670)         480.0\n",
       "(9.666670, 105.666670)     13100.0\n",
       "(9.916670, 13.983330)        968.0\n",
       "Name: mass, Length: 16905, dtype: float64"
      ]
     },
     "execution_count": 68,
     "metadata": {
      "tags": []
     },
     "output_type": "execute_result"
    }
   ],
   "source": [
    "#Heaviest Meteorite for each GeoLocation\n",
    "groupby_loc = data.groupby('GeoLocation')\n",
    "groupby_loc['mass'].max()"
   ]
  },
  {
   "cell_type": "code",
   "execution_count": null,
   "metadata": {
    "colab": {
     "base_uri": "https://localhost:8080/"
    },
    "id": "YteGEK6fqD_z",
    "outputId": "48806d0f-72ef-4601-8da8-28b2808060a3"
   },
   "outputs": [
    {
     "data": {
      "text/plain": [
       "GeoLocation\n",
       "(-1.002780, 37.150280)     14200.0\n",
       "(-1.216670, 30.000000)      4975.0\n",
       "(-1.450000, 29.833330)       465.5\n",
       "(-1.870890, -79.957560)     6580.0\n",
       "(-10.059440, 33.395000)     3920.0\n",
       "                            ...   \n",
       "(9.500000, 35.333330)       2450.0\n",
       "(9.533330, 39.716670)       6500.0\n",
       "(9.600000, 9.916670)         480.0\n",
       "(9.666670, 105.666670)     13100.0\n",
       "(9.916670, 13.983330)        968.0\n",
       "Name: mass, Length: 16905, dtype: float64"
      ]
     },
     "execution_count": 69,
     "metadata": {
      "tags": []
     },
     "output_type": "execute_result"
    }
   ],
   "source": [
    "#Lightest Meteorite for each GeoLocation\n",
    "groupby_loc['mass'].min()"
   ]
  },
  {
   "cell_type": "code",
   "execution_count": null,
   "metadata": {
    "colab": {
     "base_uri": "https://localhost:8080/"
    },
    "id": "dLh4hvzcwtHv",
    "outputId": "5cbec965-39b4-4479-c618-b014e6a205f7"
   },
   "outputs": [
    {
     "data": {
      "text/plain": [
       "995    (-19.583330, 17.916670)\n",
       "Name: GeoLocation, dtype: object"
      ]
     },
     "execution_count": 70,
     "metadata": {
      "tags": []
     },
     "output_type": "execute_result"
    }
   ],
   "source": [
    "#Geolocation of Heaviest Meteorite\n",
    "data['GeoLocation'][data['mass']==data['mass'].max()]"
   ]
  },
  {
   "cell_type": "code",
   "execution_count": null,
   "metadata": {
    "colab": {
     "base_uri": "https://localhost:8080/"
    },
    "id": "hSsc_voN27JS",
    "outputId": "c97327b8-cc5e-4103-f534-2a84843f23b9"
   },
   "outputs": [
    {
     "data": {
      "text/plain": [
       "8363    (-71.500000, 35.666670)\n",
       "Name: GeoLocation, dtype: object"
      ]
     },
     "execution_count": 71,
     "metadata": {
      "tags": []
     },
     "output_type": "execute_result"
    }
   ],
   "source": [
    "#Geolocation of Lightest Meteorite\n",
    "data['GeoLocation'][data['mass']==data['mass'].min()]"
   ]
  },
  {
   "cell_type": "markdown",
   "metadata": {
    "id": "O7zGFbK132qH"
   },
   "source": [
    "***Pivot Tables***"
   ]
  },
  {
   "cell_type": "code",
   "execution_count": null,
   "metadata": {
    "colab": {
     "base_uri": "https://localhost:8080/",
     "height": 390
    },
    "id": "ejCy92Qc4RE2",
    "outputId": "173c32b3-c023-4cc4-b990-85470ffb2ea0"
   },
   "outputs": [
    {
     "data": {
      "text/html": [
       "<div>\n",
       "<style scoped>\n",
       "    .dataframe tbody tr th:only-of-type {\n",
       "        vertical-align: middle;\n",
       "    }\n",
       "\n",
       "    .dataframe tbody tr th {\n",
       "        vertical-align: top;\n",
       "    }\n",
       "\n",
       "    .dataframe thead th {\n",
       "        text-align: right;\n",
       "    }\n",
       "</style>\n",
       "<table border=\"1\" class=\"dataframe\">\n",
       "  <thead>\n",
       "    <tr style=\"text-align: right;\">\n",
       "      <th>fall</th>\n",
       "      <th>Fell</th>\n",
       "      <th>Found</th>\n",
       "    </tr>\n",
       "    <tr>\n",
       "      <th>year</th>\n",
       "      <th></th>\n",
       "      <th></th>\n",
       "    </tr>\n",
       "  </thead>\n",
       "  <tbody>\n",
       "    <tr>\n",
       "      <th>601</th>\n",
       "      <td>NaN</td>\n",
       "      <td>376.0</td>\n",
       "    </tr>\n",
       "    <tr>\n",
       "      <th>860</th>\n",
       "      <td>472.0</td>\n",
       "      <td>NaN</td>\n",
       "    </tr>\n",
       "    <tr>\n",
       "      <th>1399</th>\n",
       "      <td>107000.0</td>\n",
       "      <td>NaN</td>\n",
       "    </tr>\n",
       "    <tr>\n",
       "      <th>1490</th>\n",
       "      <td>103.3</td>\n",
       "      <td>NaN</td>\n",
       "    </tr>\n",
       "    <tr>\n",
       "      <th>1491</th>\n",
       "      <td>127000.0</td>\n",
       "      <td>NaN</td>\n",
       "    </tr>\n",
       "    <tr>\n",
       "      <th>1575</th>\n",
       "      <td>NaN</td>\n",
       "      <td>50000000.0</td>\n",
       "    </tr>\n",
       "    <tr>\n",
       "      <th>1583</th>\n",
       "      <td>15000.0</td>\n",
       "      <td>NaN</td>\n",
       "    </tr>\n",
       "    <tr>\n",
       "      <th>1600</th>\n",
       "      <td>NaN</td>\n",
       "      <td>10100000.0</td>\n",
       "    </tr>\n",
       "    <tr>\n",
       "      <th>1621</th>\n",
       "      <td>1967.0</td>\n",
       "      <td>NaN</td>\n",
       "    </tr>\n",
       "    <tr>\n",
       "      <th>1623</th>\n",
       "      <td>10400.0</td>\n",
       "      <td>NaN</td>\n",
       "    </tr>\n",
       "  </tbody>\n",
       "</table>\n",
       "</div>"
      ],
      "text/plain": [
       "fall      Fell       Found\n",
       "year                      \n",
       "601        NaN       376.0\n",
       "860      472.0         NaN\n",
       "1399  107000.0         NaN\n",
       "1490     103.3         NaN\n",
       "1491  127000.0         NaN\n",
       "1575       NaN  50000000.0\n",
       "1583   15000.0         NaN\n",
       "1600       NaN  10100000.0\n",
       "1621    1967.0         NaN\n",
       "1623   10400.0         NaN"
      ]
     },
     "execution_count": 72,
     "metadata": {
      "tags": []
     },
     "output_type": "execute_result"
    }
   ],
   "source": [
    "table = pd.pivot_table(data[:10], values='mass', index=['year'],columns=['fall'], aggfunc=np.sum)\n",
    "table"
   ]
  },
  {
   "cell_type": "code",
   "execution_count": null,
   "metadata": {
    "colab": {
     "base_uri": "https://localhost:8080/",
     "height": 390
    },
    "id": "W72rJJYt4_7t",
    "outputId": "791515c4-1358-4179-ff3a-cfe62553eb2f"
   },
   "outputs": [
    {
     "data": {
      "text/html": [
       "<div>\n",
       "<style scoped>\n",
       "    .dataframe tbody tr th:only-of-type {\n",
       "        vertical-align: middle;\n",
       "    }\n",
       "\n",
       "    .dataframe tbody tr th {\n",
       "        vertical-align: top;\n",
       "    }\n",
       "\n",
       "    .dataframe thead th {\n",
       "        text-align: right;\n",
       "    }\n",
       "</style>\n",
       "<table border=\"1\" class=\"dataframe\">\n",
       "  <thead>\n",
       "    <tr style=\"text-align: right;\">\n",
       "      <th>nametype</th>\n",
       "      <th>Valid</th>\n",
       "    </tr>\n",
       "    <tr>\n",
       "      <th>year</th>\n",
       "      <th></th>\n",
       "    </tr>\n",
       "  </thead>\n",
       "  <tbody>\n",
       "    <tr>\n",
       "      <th>601</th>\n",
       "      <td>376.0</td>\n",
       "    </tr>\n",
       "    <tr>\n",
       "      <th>860</th>\n",
       "      <td>472.0</td>\n",
       "    </tr>\n",
       "    <tr>\n",
       "      <th>1399</th>\n",
       "      <td>107000.0</td>\n",
       "    </tr>\n",
       "    <tr>\n",
       "      <th>1490</th>\n",
       "      <td>103.3</td>\n",
       "    </tr>\n",
       "    <tr>\n",
       "      <th>1491</th>\n",
       "      <td>127000.0</td>\n",
       "    </tr>\n",
       "    <tr>\n",
       "      <th>1575</th>\n",
       "      <td>50000000.0</td>\n",
       "    </tr>\n",
       "    <tr>\n",
       "      <th>1583</th>\n",
       "      <td>15000.0</td>\n",
       "    </tr>\n",
       "    <tr>\n",
       "      <th>1600</th>\n",
       "      <td>10100000.0</td>\n",
       "    </tr>\n",
       "    <tr>\n",
       "      <th>1621</th>\n",
       "      <td>1967.0</td>\n",
       "    </tr>\n",
       "    <tr>\n",
       "      <th>1623</th>\n",
       "      <td>10400.0</td>\n",
       "    </tr>\n",
       "  </tbody>\n",
       "</table>\n",
       "</div>"
      ],
      "text/plain": [
       "nametype       Valid\n",
       "year                \n",
       "601            376.0\n",
       "860            472.0\n",
       "1399        107000.0\n",
       "1490           103.3\n",
       "1491        127000.0\n",
       "1575      50000000.0\n",
       "1583         15000.0\n",
       "1600      10100000.0\n",
       "1621          1967.0\n",
       "1623         10400.0"
      ]
     },
     "execution_count": 73,
     "metadata": {
      "tags": []
     },
     "output_type": "execute_result"
    }
   ],
   "source": [
    "table2 = pd.pivot_table(data[:10],values='mass',index=['year'],columns=['nametype'], aggfunc=np.sum)\n",
    "table2"
   ]
  },
  {
   "cell_type": "markdown",
   "metadata": {
    "id": "kpK2UN8a7LyL"
   },
   "source": [
    "***Crosstab and Heatmap***"
   ]
  },
  {
   "cell_type": "code",
   "execution_count": null,
   "metadata": {
    "colab": {
     "base_uri": "https://localhost:8080/",
     "height": 142
    },
    "id": "ZasaOa677PNd",
    "outputId": "f47ae817-a666-4c53-a574-ec622a20f83c"
   },
   "outputs": [
    {
     "data": {
      "text/html": [
       "<div>\n",
       "<style scoped>\n",
       "    .dataframe tbody tr th:only-of-type {\n",
       "        vertical-align: middle;\n",
       "    }\n",
       "\n",
       "    .dataframe tbody tr th {\n",
       "        vertical-align: top;\n",
       "    }\n",
       "\n",
       "    .dataframe thead th {\n",
       "        text-align: right;\n",
       "    }\n",
       "</style>\n",
       "<table border=\"1\" class=\"dataframe\">\n",
       "  <thead>\n",
       "    <tr style=\"text-align: right;\">\n",
       "      <th>mass</th>\n",
       "      <th>103.3</th>\n",
       "      <th>376.0</th>\n",
       "      <th>472.0</th>\n",
       "      <th>1967.0</th>\n",
       "      <th>10400.0</th>\n",
       "      <th>15000.0</th>\n",
       "      <th>107000.0</th>\n",
       "      <th>127000.0</th>\n",
       "      <th>10100000.0</th>\n",
       "      <th>50000000.0</th>\n",
       "    </tr>\n",
       "    <tr>\n",
       "      <th>fall</th>\n",
       "      <th></th>\n",
       "      <th></th>\n",
       "      <th></th>\n",
       "      <th></th>\n",
       "      <th></th>\n",
       "      <th></th>\n",
       "      <th></th>\n",
       "      <th></th>\n",
       "      <th></th>\n",
       "      <th></th>\n",
       "    </tr>\n",
       "  </thead>\n",
       "  <tbody>\n",
       "    <tr>\n",
       "      <th>Fell</th>\n",
       "      <td>1</td>\n",
       "      <td>0</td>\n",
       "      <td>1</td>\n",
       "      <td>1</td>\n",
       "      <td>1</td>\n",
       "      <td>1</td>\n",
       "      <td>1</td>\n",
       "      <td>1</td>\n",
       "      <td>0</td>\n",
       "      <td>0</td>\n",
       "    </tr>\n",
       "    <tr>\n",
       "      <th>Found</th>\n",
       "      <td>0</td>\n",
       "      <td>1</td>\n",
       "      <td>0</td>\n",
       "      <td>0</td>\n",
       "      <td>0</td>\n",
       "      <td>0</td>\n",
       "      <td>0</td>\n",
       "      <td>0</td>\n",
       "      <td>1</td>\n",
       "      <td>1</td>\n",
       "    </tr>\n",
       "  </tbody>\n",
       "</table>\n",
       "</div>"
      ],
      "text/plain": [
       "mass   103.3       376.0       472.0       ...  127000.0    10100000.0  50000000.0\n",
       "fall                                       ...                                    \n",
       "Fell            1           0           1  ...           1           0           0\n",
       "Found           0           1           0  ...           0           1           1\n",
       "\n",
       "[2 rows x 10 columns]"
      ]
     },
     "execution_count": 74,
     "metadata": {
      "tags": []
     },
     "output_type": "execute_result"
    }
   ],
   "source": [
    "#Crosstabulation between 'mass' and 'fall'\n",
    "fall_mass = pd.crosstab(data['fall'].head(10),data['mass'].head(10))\n",
    "fall_mass"
   ]
  },
  {
   "cell_type": "code",
   "execution_count": null,
   "metadata": {
    "colab": {
     "base_uri": "https://localhost:8080/",
     "height": 350
    },
    "id": "oLDvb7QFEWf0",
    "outputId": "1143ffcc-8784-4e9d-9797-b89ac4ccc5cd"
   },
   "outputs": [
    {
     "data": {
      "text/plain": [
       "<matplotlib.axes._subplots.AxesSubplot at 0x7fb6db1ed150>"
      ]
     },
     "execution_count": 75,
     "metadata": {
      "tags": []
     },
     "output_type": "execute_result"
    },
    {
     "data": {
      "image/png": "[encoded data removed]",
      "text/plain": [
       "<Figure size 432x288 with 2 Axes>"
      ]
     },
     "metadata": {
      "needs_background": "light",
      "tags": []
     },
     "output_type": "display_data"
    }
   ],
   "source": [
    "#Heatmap of Crosstabulation between 'mass' and 'fall'\n",
    "sns.heatmap(fall_mass)"
   ]
  },
  {
   "cell_type": "code",
   "execution_count": null,
   "metadata": {
    "colab": {
     "base_uri": "https://localhost:8080/",
     "height": 111
    },
    "id": "CltVPC1m8Ufk",
    "outputId": "14735ee2-60a3-4487-f976-aa7560adba30"
   },
   "outputs": [
    {
     "data": {
      "text/html": [
       "<div>\n",
       "<style scoped>\n",
       "    .dataframe tbody tr th:only-of-type {\n",
       "        vertical-align: middle;\n",
       "    }\n",
       "\n",
       "    .dataframe tbody tr th {\n",
       "        vertical-align: top;\n",
       "    }\n",
       "\n",
       "    .dataframe thead th {\n",
       "        text-align: right;\n",
       "    }\n",
       "</style>\n",
       "<table border=\"1\" class=\"dataframe\">\n",
       "  <thead>\n",
       "    <tr style=\"text-align: right;\">\n",
       "      <th>mass</th>\n",
       "      <th>103.3</th>\n",
       "      <th>376.0</th>\n",
       "      <th>472.0</th>\n",
       "      <th>1967.0</th>\n",
       "      <th>10400.0</th>\n",
       "      <th>15000.0</th>\n",
       "      <th>107000.0</th>\n",
       "      <th>127000.0</th>\n",
       "      <th>10100000.0</th>\n",
       "      <th>50000000.0</th>\n",
       "    </tr>\n",
       "    <tr>\n",
       "      <th>nametype</th>\n",
       "      <th></th>\n",
       "      <th></th>\n",
       "      <th></th>\n",
       "      <th></th>\n",
       "      <th></th>\n",
       "      <th></th>\n",
       "      <th></th>\n",
       "      <th></th>\n",
       "      <th></th>\n",
       "      <th></th>\n",
       "    </tr>\n",
       "  </thead>\n",
       "  <tbody>\n",
       "    <tr>\n",
       "      <th>Valid</th>\n",
       "      <td>1</td>\n",
       "      <td>1</td>\n",
       "      <td>1</td>\n",
       "      <td>1</td>\n",
       "      <td>1</td>\n",
       "      <td>1</td>\n",
       "      <td>1</td>\n",
       "      <td>1</td>\n",
       "      <td>1</td>\n",
       "      <td>1</td>\n",
       "    </tr>\n",
       "  </tbody>\n",
       "</table>\n",
       "</div>"
      ],
      "text/plain": [
       "mass      103.3       376.0       ...  10100000.0  50000000.0\n",
       "nametype                          ...                        \n",
       "Valid              1           1  ...           1           1\n",
       "\n",
       "[1 rows x 10 columns]"
      ]
     },
     "execution_count": 76,
     "metadata": {
      "tags": []
     },
     "output_type": "execute_result"
    }
   ],
   "source": [
    "#Crosstabulation between 'mass' and 'nametype'\n",
    "pd.crosstab(data['nametype'].head(10),data['mass'].head(10))"
   ]
  },
  {
   "cell_type": "code",
   "execution_count": null,
   "metadata": {
    "colab": {
     "base_uri": "https://localhost:8080/",
     "height": 142
    },
    "id": "UcBpbb0T9UrT",
    "outputId": "16aae60a-cf30-4a22-9c62-6b2683a60be8"
   },
   "outputs": [
    {
     "data": {
      "text/html": [
       "<div>\n",
       "<style scoped>\n",
       "    .dataframe tbody tr th:only-of-type {\n",
       "        vertical-align: middle;\n",
       "    }\n",
       "\n",
       "    .dataframe tbody tr th {\n",
       "        vertical-align: top;\n",
       "    }\n",
       "\n",
       "    .dataframe thead th {\n",
       "        text-align: right;\n",
       "    }\n",
       "</style>\n",
       "<table border=\"1\" class=\"dataframe\">\n",
       "  <thead>\n",
       "    <tr style=\"text-align: right;\">\n",
       "      <th>year</th>\n",
       "      <th>601</th>\n",
       "      <th>860</th>\n",
       "      <th>1399</th>\n",
       "      <th>1490</th>\n",
       "      <th>1491</th>\n",
       "      <th>1575</th>\n",
       "      <th>1583</th>\n",
       "      <th>1600</th>\n",
       "      <th>1621</th>\n",
       "      <th>1623</th>\n",
       "    </tr>\n",
       "    <tr>\n",
       "      <th>fall</th>\n",
       "      <th></th>\n",
       "      <th></th>\n",
       "      <th></th>\n",
       "      <th></th>\n",
       "      <th></th>\n",
       "      <th></th>\n",
       "      <th></th>\n",
       "      <th></th>\n",
       "      <th></th>\n",
       "      <th></th>\n",
       "    </tr>\n",
       "  </thead>\n",
       "  <tbody>\n",
       "    <tr>\n",
       "      <th>Fell</th>\n",
       "      <td>0</td>\n",
       "      <td>1</td>\n",
       "      <td>1</td>\n",
       "      <td>1</td>\n",
       "      <td>1</td>\n",
       "      <td>0</td>\n",
       "      <td>1</td>\n",
       "      <td>0</td>\n",
       "      <td>1</td>\n",
       "      <td>1</td>\n",
       "    </tr>\n",
       "    <tr>\n",
       "      <th>Found</th>\n",
       "      <td>1</td>\n",
       "      <td>0</td>\n",
       "      <td>0</td>\n",
       "      <td>0</td>\n",
       "      <td>0</td>\n",
       "      <td>1</td>\n",
       "      <td>0</td>\n",
       "      <td>1</td>\n",
       "      <td>0</td>\n",
       "      <td>0</td>\n",
       "    </tr>\n",
       "  </tbody>\n",
       "</table>\n",
       "</div>"
      ],
      "text/plain": [
       "year   601   860   1399  1490  1491  1575  1583  1600  1621  1623\n",
       "fall                                                             \n",
       "Fell      0     1     1     1     1     0     1     0     1     1\n",
       "Found     1     0     0     0     0     1     0     1     0     0"
      ]
     },
     "execution_count": 77,
     "metadata": {
      "tags": []
     },
     "output_type": "execute_result"
    }
   ],
   "source": [
    "#Crosstabulation between 'fall' and 'year'\n",
    "fall_year = pd.crosstab(data['fall'].head(10),data['year'].head(10))\n",
    "fall_year"
   ]
  },
  {
   "cell_type": "code",
   "execution_count": null,
   "metadata": {
    "colab": {
     "base_uri": "https://localhost:8080/",
     "height": 300
    },
    "id": "PGlG2PxIEFj0",
    "outputId": "8ee6db84-7921-45c6-ddd7-6b17b282c1cd"
   },
   "outputs": [
    {
     "data": {
      "text/plain": [
       "<matplotlib.axes._subplots.AxesSubplot at 0x7fb6d28c3890>"
      ]
     },
     "execution_count": 78,
     "metadata": {
      "tags": []
     },
     "output_type": "execute_result"
    },
    {
     "data": {
      "image/png": "[encoded data removed]",
      "text/plain": [
       "<Figure size 432x288 with 2 Axes>"
      ]
     },
     "metadata": {
      "needs_background": "light",
      "tags": []
     },
     "output_type": "display_data"
    }
   ],
   "source": [
    "#Heatmap of Crosstabulation between 'fall' and 'year'\n",
    "sns.heatmap(fall_year)"
   ]
  },
  {
   "cell_type": "code",
   "execution_count": null,
   "metadata": {
    "colab": {
     "base_uri": "https://localhost:8080/",
     "height": 111
    },
    "id": "cMx46XW79hjq",
    "outputId": "2012b69d-0934-42cb-f3b4-07bbc03db1db"
   },
   "outputs": [
    {
     "data": {
      "text/html": [
       "<div>\n",
       "<style scoped>\n",
       "    .dataframe tbody tr th:only-of-type {\n",
       "        vertical-align: middle;\n",
       "    }\n",
       "\n",
       "    .dataframe tbody tr th {\n",
       "        vertical-align: top;\n",
       "    }\n",
       "\n",
       "    .dataframe thead th {\n",
       "        text-align: right;\n",
       "    }\n",
       "</style>\n",
       "<table border=\"1\" class=\"dataframe\">\n",
       "  <thead>\n",
       "    <tr style=\"text-align: right;\">\n",
       "      <th>year</th>\n",
       "      <th>601</th>\n",
       "      <th>860</th>\n",
       "      <th>1399</th>\n",
       "      <th>1490</th>\n",
       "      <th>1491</th>\n",
       "      <th>1575</th>\n",
       "      <th>1583</th>\n",
       "      <th>1600</th>\n",
       "      <th>1621</th>\n",
       "      <th>1623</th>\n",
       "    </tr>\n",
       "    <tr>\n",
       "      <th>nametype</th>\n",
       "      <th></th>\n",
       "      <th></th>\n",
       "      <th></th>\n",
       "      <th></th>\n",
       "      <th></th>\n",
       "      <th></th>\n",
       "      <th></th>\n",
       "      <th></th>\n",
       "      <th></th>\n",
       "      <th></th>\n",
       "    </tr>\n",
       "  </thead>\n",
       "  <tbody>\n",
       "    <tr>\n",
       "      <th>Valid</th>\n",
       "      <td>1</td>\n",
       "      <td>1</td>\n",
       "      <td>1</td>\n",
       "      <td>1</td>\n",
       "      <td>1</td>\n",
       "      <td>1</td>\n",
       "      <td>1</td>\n",
       "      <td>1</td>\n",
       "      <td>1</td>\n",
       "      <td>1</td>\n",
       "    </tr>\n",
       "  </tbody>\n",
       "</table>\n",
       "</div>"
      ],
      "text/plain": [
       "year      601   860   1399  1490  1491  1575  1583  1600  1621  1623\n",
       "nametype                                                            \n",
       "Valid        1     1     1     1     1     1     1     1     1     1"
      ]
     },
     "execution_count": 79,
     "metadata": {
      "tags": []
     },
     "output_type": "execute_result"
    }
   ],
   "source": [
    "#Crosstabulation between 'nametype' and 'year'\n",
    "pd.crosstab(data['nametype'].head(10),data['year'].head(10))"
   ]
  },
  {
   "cell_type": "markdown",
   "metadata": {
    "id": "7XbcNCicBLdj"
   },
   "source": [
    "***Plotting***"
   ]
  },
  {
   "cell_type": "code",
   "execution_count": null,
   "metadata": {
    "id": "uFLVBn_PO3Ue"
   },
   "outputs": [],
   "source": [
    "#Preprocessing of Mass\n",
    "mass = data['mass']\n",
    "mass = np.array(mass)\n",
    "minmax_scale = preprocessing.MinMaxScaler(feature_range=(0,1))\n",
    "data['scaled_mass'] = minmax_scale.fit_transform(mass.reshape(len(mass),1))"
   ]
  },
  {
   "cell_type": "code",
   "execution_count": null,
   "metadata": {
    "colab": {
     "base_uri": "https://localhost:8080/"
    },
    "id": "4h19vQdTPQVL",
    "outputId": "574f9ada-2296-4223-83e4-1fe62287b3c3"
   },
   "outputs": [
    {
     "data": {
      "text/plain": [
       "0        6.266500e-06\n",
       "1        7.866500e-06\n",
       "2        1.783333e-03\n",
       "3        1.721500e-06\n",
       "4        2.116667e-03\n",
       "             ...     \n",
       "31907    8.348333e-07\n",
       "31908    2.166500e-06\n",
       "31909    1.848333e-07\n",
       "31910    1.313983e-05\n",
       "31911    1.666667e-03\n",
       "Name: scaled_mass, Length: 31912, dtype: float64"
      ]
     },
     "execution_count": 81,
     "metadata": {
      "tags": []
     },
     "output_type": "execute_result"
    }
   ],
   "source": [
    "data['scaled_mass']"
   ]
  },
  {
   "cell_type": "code",
   "execution_count": null,
   "metadata": {
    "colab": {
     "base_uri": "https://localhost:8080/",
     "height": 331
    },
    "id": "_Gg6uurYZ3KT",
    "outputId": "3b2cd350-ca5a-48c6-c060-9ff36a127a1a"
   },
   "outputs": [
    {
     "data": {
      "image/png": "[encoded data removed]",
      "text/plain": [
       "<Figure size 720x360 with 2 Axes>"
      ]
     },
     "metadata": {
      "needs_background": "light",
      "tags": []
     },
     "output_type": "display_data"
    }
   ],
   "source": [
    "#Plotting Graph of Mass Vs Year and Scaled Mass Vs Year to make sure preproccessing is not wrong\n",
    "%matplotlib inline\n",
    "fig, ax = plt.subplots(2,1, sharex=True,figsize=(10,5))\n",
    "ax[0].plot(data.loc[:100,'mass'],'b')\n",
    "ax[1].plot(data.loc[:100,'scaled_mass'],'g')\n",
    "labels = ax[0].set_xticklabels(data.loc[:100,'year'],rotation=0)"
   ]
  },
  {
   "cell_type": "code",
   "execution_count": null,
   "metadata": {
    "colab": {
     "base_uri": "https://localhost:8080/",
     "height": 455
    },
    "id": "HfudrXNSgU0v",
    "outputId": "8457f78f-3161-4759-ba37-a65e3ed30374"
   },
   "outputs": [
    {
     "data": {
      "text/plain": [
       "Text(0.5, 1.0, 'Plot showing most of the Meteorite landings (fell or found) has been in recent centuries')"
      ]
     },
     "execution_count": 83,
     "metadata": {
      "tags": []
     },
     "output_type": "execute_result"
    },
    {
     "data": {
      "image/png": "[encoded data removed]",
      "text/plain": [
       "<Figure size 720x360 with 1 Axes>"
      ]
     },
     "metadata": {
      "needs_background": "light",
      "tags": []
     },
     "output_type": "display_data"
    }
   ],
   "source": [
    "#Plotting Histogram for frequency of Meteorite Landings (in centuries)\n",
    "%matplotlib inline\n",
    "fig = plt.figure(figsize=(10,5))\n",
    "ax = fig.add_axes([0,0,1,1])\n",
    "ax.hist(data['year'])\n",
    "ax.set_xlabel('Year')\n",
    "ax.set_ylabel('Count')\n",
    "ax.set_title('Plot showing most of the Meteorite landings (fell or found) has been in recent centuries')"
   ]
  },
  {
   "cell_type": "code",
   "execution_count": null,
   "metadata": {
    "colab": {
     "base_uri": "https://localhost:8080/",
     "height": 1000
    },
    "id": "Jn-62bs22r4f",
    "outputId": "69202fe6-d08f-4ebc-c428-8d3e165f090d"
   },
   "outputs": [
    {
     "data": {
      "text/plain": [
       "[Text(0, 0, '601'),\n",
       " Text(0, 0, '860'),\n",
       " Text(0, 0, '1399'),\n",
       " Text(0, 0, '1490'),\n",
       " Text(0, 0, '1491'),\n",
       " Text(0, 0, '1575'),\n",
       " Text(0, 0, '1583'),\n",
       " Text(0, 0, '1600'),\n",
       " Text(0, 0, '1621'),\n",
       " Text(0, 0, '1623'),\n",
       " Text(0, 0, '1628'),\n",
       " Text(0, 0, '1632'),\n",
       " Text(0, 0, '1637'),\n",
       " Text(0, 0, '1668'),\n",
       " Text(0, 0, '1671'),\n",
       " Text(0, 0, '1688'),\n",
       " Text(0, 0, '1715'),\n",
       " Text(0, 0, '1716'),\n",
       " Text(0, 0, '1723'),\n",
       " Text(0, 0, '1724'),\n",
       " Text(0, 0, '1740'),\n",
       " Text(0, 0, '1741'),\n",
       " Text(0, 0, '1749'),\n",
       " Text(0, 0, '1751'),\n",
       " Text(0, 0, '1753'),\n",
       " Text(0, 0, '1753'),\n",
       " Text(0, 0, '1766'),\n",
       " Text(0, 0, '1768'),\n",
       " Text(0, 0, '1768'),\n",
       " Text(0, 0, '1773'),\n",
       " Text(0, 0, '1775'),\n",
       " Text(0, 0, '1776'),\n",
       " Text(0, 0, '1781'),\n",
       " Text(0, 0, '1784'),\n",
       " Text(0, 0, '1784'),\n",
       " Text(0, 0, '1785'),\n",
       " Text(0, 0, '1787'),\n",
       " Text(0, 0, '1790'),\n",
       " Text(0, 0, '1792'),\n",
       " Text(0, 0, '1793'),\n",
       " Text(0, 0, '1794'),\n",
       " Text(0, 0, '1795'),\n",
       " Text(0, 0, '1795'),\n",
       " Text(0, 0, '1796'),\n",
       " Text(0, 0, '1796'),\n",
       " Text(0, 0, '1797'),\n",
       " Text(0, 0, '1798'),\n",
       " Text(0, 0, '1798'),\n",
       " Text(0, 0, '1801'),\n",
       " Text(0, 0, '1803'),\n",
       " Text(0, 0, '1803'),\n",
       " Text(0, 0, '1803'),\n",
       " Text(0, 0, '1804'),\n",
       " Text(0, 0, '1804'),\n",
       " Text(0, 0, '1804'),\n",
       " Text(0, 0, '1804'),\n",
       " Text(0, 0, '1804'),\n",
       " Text(0, 0, '1805'),\n",
       " Text(0, 0, '1805'),\n",
       " Text(0, 0, '1805')]"
      ]
     },
     "execution_count": 84,
     "metadata": {
      "tags": []
     },
     "output_type": "execute_result"
    },
    {
     "data": {
      "image/png": "[encoded data removed]",
      "text/plain": [
       "<Figure size 1080x360 with 1 Axes>"
      ]
     },
     "metadata": {
      "needs_background": "light",
      "tags": []
     },
     "output_type": "display_data"
    }
   ],
   "source": [
    "#Plotting Histogram for frequency of Meteorite Landings\n",
    "fig = plt.figure(figsize=(15,5))\n",
    "yr_plot = sns.countplot(data=data[:100],x='year')\n",
    "yr_plot.set_title('Plot showing most of the Meteorite landings (fell or found) has been in recent centuries')\n",
    "yr_plot.set_xticklabels(labels=data.loc[:100,'year'],rotation=90)"
   ]
  },
  {
   "cell_type": "code",
   "execution_count": null,
   "metadata": {
    "colab": {
     "base_uri": "https://localhost:8080/",
     "height": 475
    },
    "id": "bbSCMNe6Dw7X",
    "outputId": "4ee76759-208a-4dd4-a975-81d2d53dff14"
   },
   "outputs": [
    {
     "data": {
      "text/plain": [
       "Text(0.5, 1.0, 'Plot showing most of the Meteorite landings (found) has been in recent centuries')"
      ]
     },
     "execution_count": 85,
     "metadata": {
      "tags": []
     },
     "output_type": "execute_result"
    },
    {
     "data": {
      "image/png": "[encoded data removed]",
      "text/plain": [
       "<Figure size 720x504 with 2 Axes>"
      ]
     },
     "metadata": {
      "needs_background": "light",
      "tags": []
     },
     "output_type": "display_data"
    }
   ],
   "source": [
    "#Plotting Meteorite Landings fell and found\n",
    "%matplotlib inline\n",
    "fig, ax = plt.subplots(2,1, sharex=True,sharey=True,figsize=(10,7))\n",
    "ax[0].hist(data['year'][data['fall']=='Fell'])\n",
    "ax[1].hist(data['year'][data['fall']=='Found'])\n",
    "for i in range(2):\n",
    "  ax[i].set_xlabel('Year')\n",
    "  ax[i].set_ylabel('Count')\n",
    "ax[0].set_title('Plot showing most of the Meteorite landings (fell) has been in recent centuries')\n",
    "ax[1].set_title('Plot showing most of the Meteorite landings (found) has been in recent centuries')"
   ]
  },
  {
   "cell_type": "code",
   "execution_count": null,
   "metadata": {
    "colab": {
     "base_uri": "https://localhost:8080/",
     "height": 269
    },
    "id": "kef4tW65HYSP",
    "outputId": "3cf26020-e677-43b6-ea32-6faf8989f5af"
   },
   "outputs": [
    {
     "data": {
      "text/plain": [
       "<matplotlib.axes._subplots.AxesSubplot at 0x7fb6db1457d0>"
      ]
     },
     "execution_count": 86,
     "metadata": {
      "tags": []
     },
     "output_type": "execute_result"
    },
    {
     "data": {
      "image/png": "[encoded data removed]",
      "text/plain": [
       "<Figure size 1440x360 with 1 Axes>"
      ]
     },
     "metadata": {
      "needs_background": "light",
      "tags": []
     },
     "output_type": "display_data"
    }
   ],
   "source": [
    "#Relation between Year and Mass in 21st century\n",
    "twenty = data[data['year']>2000]\n",
    "fig = plt.figure(figsize=(20,5))\n",
    "sns.barplot(x= twenty['year'].head(20000),y=twenty['mass'].head(20000))"
   ]
  },
  {
   "cell_type": "code",
   "execution_count": null,
   "metadata": {
    "colab": {
     "base_uri": "https://localhost:8080/",
     "height": 281
    },
    "id": "Rr17GwXLJQok",
    "outputId": "c01e32d5-15bd-4b5b-de54-bab3f0a9fc41"
   },
   "outputs": [
    {
     "data": {
      "text/plain": [
       "Text(0.5, 1.0, 'Plot showing most of the Meteorite landings (fell or found) has been in 21st century')"
      ]
     },
     "execution_count": 87,
     "metadata": {
      "tags": []
     },
     "output_type": "execute_result"
    },
    {
     "data": {
      "image/png": "[encoded data removed]",
      "text/plain": [
       "<Figure size 1440x360 with 1 Axes>"
      ]
     },
     "metadata": {
      "needs_background": "light",
      "tags": []
     },
     "output_type": "display_data"
    }
   ],
   "source": [
    "#Plotting Histogram for frequency of Meteorite Landings in 21st Century\n",
    "%matplotlib inline\n",
    "fig = plt.figure(figsize=(20,5))\n",
    "ax = fig.add_axes([0,0,1,1])\n",
    "ax.hist(twenty['year'])\n",
    "ax.set_xlabel('Year')\n",
    "ax.set_ylabel('Count')\n",
    "ax.set_title('Plot showing most of the Meteorite landings (fell or found) has been in 21st century')"
   ]
  },
  {
   "cell_type": "code",
   "execution_count": null,
   "metadata": {
    "colab": {
     "base_uri": "https://localhost:8080/",
     "height": 405
    },
    "id": "1XZyWAkSK3p4",
    "outputId": "6f63517c-e010-41b1-aeb3-37c16013dde5"
   },
   "outputs": [
    {
     "name": "stderr",
     "output_type": "stream",
     "text": [
      "/usr/local/lib/python3.7/dist-packages/seaborn/distributions.py:2557: FutureWarning: `distplot` is a deprecated function and will be removed in a future version. Please adapt your code to use either `displot` (a figure-level function with similar flexibility) or `histplot` (an axes-level function for histograms).\n",
      "  warnings.warn(msg, FutureWarning)\n"
     ]
    },
    {
     "data": {
      "text/plain": [
       "<matplotlib.axes._subplots.AxesSubplot at 0x7fb6d2727150>"
      ]
     },
     "execution_count": 88,
     "metadata": {
      "tags": []
     },
     "output_type": "execute_result"
    },
    {
     "data": {
      "image/png": "[encoded data removed]",
      "text/plain": [
       "<Figure size 720x360 with 1 Axes>"
      ]
     },
     "metadata": {
      "needs_background": "light",
      "tags": []
     },
     "output_type": "display_data"
    }
   ],
   "source": [
    "fig = plt.figure(figsize=(10,5))\n",
    "sns.distplot(twenty['year'])"
   ]
  },
  {
   "cell_type": "code",
   "execution_count": null,
   "metadata": {
    "colab": {
     "base_uri": "https://localhost:8080/",
     "height": 546
    },
    "id": "zm-tdBsBJChW",
    "outputId": "af3e573d-7539-47bc-a1b4-659a226a0d21"
   },
   "outputs": [
    {
     "data": {
      "text/html": [
       "<div style=\"width:100%;\"><div style=\"position:relative;width:100%;height:0;padding-bottom:60%;\"><span style=\"color:#565656\">Make this Notebook Trusted to load map: File -> Trust Notebook</span><iframe src=\"about:blank\" style=\"position:absolute;width:100%;height:100%;left:0;top:0;border:none !important;\" data-html=%3C%21DOCTYPE%20html%3E%0A%3Chead%3E%20%20%20%20%0A%20%20%20%20%3Cmeta%20http-equiv%3D%22content-type%22%20content%3D%22text/html%3B%20charset%3DUTF-8%22%20/%3E%0A%20%20%20%20%3Cscript%3EL_PREFER_CANVAS%3Dfalse%3B%20L_NO_TOUCH%3Dfalse%3B%20L_DISABLE_3D%3Dfalse%3B%3C/script%3E%0A%20%20%20%20%3Cscript%20src%3D%22https%3A//cdn.jsdelivr.net/npm/leaflet%401.4.0/dist/leaflet.js%22%3E%3C/script%3E%0A%20%20%20%20%3Cscript%20src%3D%22https%3A//code.jquery.com/jquery-1.12.4.min.js%22%3E%3C/script%3E%0A%20%20%20%20%3Cscript%20src%3D%22https%3A//maxcdn.bootstrapcdn.com/bootstrap/3.2.0/js/bootstrap.min.js%22%3E%3C/script%3E%0A%20%20%20%20%3Cscript%20src%3D%22https%3A//cdnjs.cloudflare.com/ajax/libs/Leaflet.awesome-markers/2.0.2/leaflet.awesome-markers.js%22%3E%3C/script%3E%0A%20%20%20%20%3Clink%20rel%3D%22stylesheet%22%20href%3D%22https%3A//cdn.jsdelivr.net/npm/leaflet%401.4.0/dist/leaflet.css%22/%3E%0A%20%20%20%20%3Clink%20rel%3D%22stylesheet%22%20href%3D%22https%3A//maxcdn.bootstrapcdn.com/bootstrap/3.2.0/css/bootstrap.min.css%22/%3E%0A%20%20%20%20%3Clink%20rel%3D%22stylesheet%22%20href%3D%22https%3A//maxcdn.bootstrapcdn.com/bootstrap/3.2.0/css/bootstrap-theme.min.css%22/%3E%0A%20%20%20%20%3Clink%20rel%3D%22stylesheet%22%20href%3D%22https%3A//maxcdn.bootstrapcdn.com/font-awesome/4.6.3/css/font-awesome.min.css%22/%3E%0A%20%20%20%20%3Clink%20rel%3D%22stylesheet%22%20href%3D%22https%3A//cdnjs.cloudflare.com/ajax/libs/Leaflet.awesome-markers/2.0.2/leaflet.awesome-markers.css%22/%3E%0A%20%20%20%20%3Clink%20rel%3D%22stylesheet%22%20href%3D%22https%3A//rawcdn.githack.com/python-visualization/folium/master/folium/templates/leaflet.awesome.rotate.css%22/%3E%0A%20%20%20%20%3Cstyle%3Ehtml%2C%20body%20%7Bwidth%3A%20100%25%3Bheight%3A%20100%25%3Bmargin%3A%200%3Bpadding%3A%200%3B%7D%3C/style%3E%0A%20%20%20%20%3Cstyle%3E%23map%20%7Bposition%3Aabsolute%3Btop%3A0%3Bbottom%3A0%3Bright%3A0%3Bleft%3A0%3B%7D%3C/style%3E%0A%20%20%20%20%0A%20%20%20%20%3Cmeta%20name%3D%22viewport%22%20content%3D%22width%3Ddevice-width%2C%0A%20%20%20%20%20%20%20%20initial-scale%3D1.0%2C%20maximum-scale%3D1.0%2C%20user-scalable%3Dno%22%20/%3E%0A%20%20%20%20%3Cstyle%3E%23map_e1e13b8768a543d1be4eea7c01afb0c2%20%7B%0A%20%20%20%20%20%20%20%20position%3A%20relative%3B%0A%20%20%20%20%20%20%20%20width%3A%20100.0%25%3B%0A%20%20%20%20%20%20%20%20height%3A%20100.0%25%3B%0A%20%20%20%20%20%20%20%20left%3A%200.0%25%3B%0A%20%20%20%20%20%20%20%20top%3A%200.0%25%3B%0A%20%20%20%20%20%20%20%20%7D%0A%20%20%20%20%3C/style%3E%0A%3C/head%3E%0A%3Cbody%3E%20%20%20%20%0A%20%20%20%20%0A%20%20%20%20%3Cdiv%20class%3D%22folium-map%22%20id%3D%22map_e1e13b8768a543d1be4eea7c01afb0c2%22%20%3E%3C/div%3E%0A%3C/body%3E%0A%3Cscript%3E%20%20%20%20%0A%20%20%20%20%0A%20%20%20%20%0A%20%20%20%20%20%20%20%20var%20bounds%20%3D%20null%3B%0A%20%20%20%20%0A%0A%20%20%20%20var%20map_e1e13b8768a543d1be4eea7c01afb0c2%20%3D%20L.map%28%0A%20%20%20%20%20%20%20%20%27map_e1e13b8768a543d1be4eea7c01afb0c2%27%2C%20%7B%0A%20%20%20%20%20%20%20%20center%3A%20%5B0%2C%200%5D%2C%0A%20%20%20%20%20%20%20%20zoom%3A%201%2C%0A%20%20%20%20%20%20%20%20maxBounds%3A%20bounds%2C%0A%20%20%20%20%20%20%20%20layers%3A%20%5B%5D%2C%0A%20%20%20%20%20%20%20%20worldCopyJump%3A%20false%2C%0A%20%20%20%20%20%20%20%20crs%3A%20L.CRS.EPSG3857%2C%0A%20%20%20%20%20%20%20%20zoomControl%3A%20true%2C%0A%20%20%20%20%20%20%20%20%7D%29%3B%0A%0A%0A%20%20%20%20%0A%20%20%20%20var%20tile_layer_42c5e4129c8e45d8b800f973a70bb3f4%20%3D%20L.tileLayer%28%0A%20%20%20%20%20%20%20%20%27https%3A//%7Bs%7D.tile.openstreetmap.org/%7Bz%7D/%7Bx%7D/%7By%7D.png%27%2C%0A%20%20%20%20%20%20%20%20%7B%0A%20%20%20%20%20%20%20%20%22attribution%22%3A%20null%2C%0A%20%20%20%20%20%20%20%20%22detectRetina%22%3A%20false%2C%0A%20%20%20%20%20%20%20%20%22maxNativeZoom%22%3A%2018%2C%0A%20%20%20%20%20%20%20%20%22maxZoom%22%3A%2018%2C%0A%20%20%20%20%20%20%20%20%22minZoom%22%3A%200%2C%0A%20%20%20%20%20%20%20%20%22noWrap%22%3A%20false%2C%0A%20%20%20%20%20%20%20%20%22opacity%22%3A%201%2C%0A%20%20%20%20%20%20%20%20%22subdomains%22%3A%20%22abc%22%2C%0A%20%20%20%20%20%20%20%20%22tms%22%3A%20false%0A%7D%29.addTo%28map_e1e13b8768a543d1be4eea7c01afb0c2%29%3B%0A%3C/script%3E onload=\"this.contentDocument.open();this.contentDocument.write(    decodeURIComponent(this.getAttribute('data-html')));this.contentDocument.close();\" allowfullscreen webkitallowfullscreen mozallowfullscreen></iframe></div></div>"
      ],
      "text/plain": [
       "<folium.folium.Map at 0x7fb6d2283850>"
      ]
     },
     "execution_count": 89,
     "metadata": {
      "tags": []
     },
     "output_type": "execute_result"
    }
   ],
   "source": [
    "import folium\n",
    "folium.Map()"
   ]
  },
  {
   "cell_type": "code",
   "execution_count": null,
   "metadata": {
    "colab": {
     "base_uri": "https://localhost:8080/",
     "height": 289
    },
    "id": "RyWXtEl_JGzO",
    "outputId": "b55d557a-a5bc-4b79-8a68-2680d1112d7c"
   },
   "outputs": [
    {
     "data": {
      "text/html": [
       "<div>\n",
       "<style scoped>\n",
       "    .dataframe tbody tr th:only-of-type {\n",
       "        vertical-align: middle;\n",
       "    }\n",
       "\n",
       "    .dataframe tbody tr th {\n",
       "        vertical-align: top;\n",
       "    }\n",
       "\n",
       "    .dataframe thead th {\n",
       "        text-align: right;\n",
       "    }\n",
       "</style>\n",
       "<table border=\"1\" class=\"dataframe\">\n",
       "  <thead>\n",
       "    <tr style=\"text-align: right;\">\n",
       "      <th></th>\n",
       "      <th>name</th>\n",
       "      <th>id</th>\n",
       "      <th>nametype</th>\n",
       "      <th>recclass</th>\n",
       "      <th>mass</th>\n",
       "      <th>fall</th>\n",
       "      <th>year</th>\n",
       "      <th>reclat</th>\n",
       "      <th>reclong</th>\n",
       "      <th>GeoLocation</th>\n",
       "      <th>scaled_mass</th>\n",
       "    </tr>\n",
       "  </thead>\n",
       "  <tbody>\n",
       "    <tr>\n",
       "      <th>0</th>\n",
       "      <td>Wietrzno-Bobrka</td>\n",
       "      <td>24259</td>\n",
       "      <td>Valid</td>\n",
       "      <td>Iron</td>\n",
       "      <td>376.0</td>\n",
       "      <td>Found</td>\n",
       "      <td>601</td>\n",
       "      <td>49.41667</td>\n",
       "      <td>21.70000</td>\n",
       "      <td>(49.416670, 21.700000)</td>\n",
       "      <td>0.000006</td>\n",
       "    </tr>\n",
       "    <tr>\n",
       "      <th>1</th>\n",
       "      <td>Nogata</td>\n",
       "      <td>16988</td>\n",
       "      <td>Valid</td>\n",
       "      <td>L6</td>\n",
       "      <td>472.0</td>\n",
       "      <td>Fell</td>\n",
       "      <td>860</td>\n",
       "      <td>33.72500</td>\n",
       "      <td>130.75000</td>\n",
       "      <td>(33.725000, 130.750000)</td>\n",
       "      <td>0.000008</td>\n",
       "    </tr>\n",
       "    <tr>\n",
       "      <th>2</th>\n",
       "      <td>Elbogen</td>\n",
       "      <td>7823</td>\n",
       "      <td>Valid</td>\n",
       "      <td>Iron, IID</td>\n",
       "      <td>107000.0</td>\n",
       "      <td>Fell</td>\n",
       "      <td>1399</td>\n",
       "      <td>50.18333</td>\n",
       "      <td>12.73333</td>\n",
       "      <td>(50.183330, 12.733330)</td>\n",
       "      <td>0.001783</td>\n",
       "    </tr>\n",
       "    <tr>\n",
       "      <th>3</th>\n",
       "      <td>Rivolta de Bassi</td>\n",
       "      <td>22614</td>\n",
       "      <td>Valid</td>\n",
       "      <td>Stone-uncl</td>\n",
       "      <td>103.3</td>\n",
       "      <td>Fell</td>\n",
       "      <td>1490</td>\n",
       "      <td>45.48333</td>\n",
       "      <td>9.51667</td>\n",
       "      <td>(45.483330, 9.516670)</td>\n",
       "      <td>0.000002</td>\n",
       "    </tr>\n",
       "    <tr>\n",
       "      <th>4</th>\n",
       "      <td>Ensisheim</td>\n",
       "      <td>10039</td>\n",
       "      <td>Valid</td>\n",
       "      <td>LL6</td>\n",
       "      <td>127000.0</td>\n",
       "      <td>Fell</td>\n",
       "      <td>1491</td>\n",
       "      <td>47.86667</td>\n",
       "      <td>7.35000</td>\n",
       "      <td>(47.866670, 7.350000)</td>\n",
       "      <td>0.002117</td>\n",
       "    </tr>\n",
       "  </tbody>\n",
       "</table>\n",
       "</div>"
      ],
      "text/plain": [
       "               name     id  ...              GeoLocation scaled_mass\n",
       "0   Wietrzno-Bobrka  24259  ...   (49.416670, 21.700000)    0.000006\n",
       "1            Nogata  16988  ...  (33.725000, 130.750000)    0.000008\n",
       "2           Elbogen   7823  ...   (50.183330, 12.733330)    0.001783\n",
       "3  Rivolta de Bassi  22614  ...    (45.483330, 9.516670)    0.000002\n",
       "4         Ensisheim  10039  ...    (47.866670, 7.350000)    0.002117\n",
       "\n",
       "[5 rows x 11 columns]"
      ]
     },
     "execution_count": 90,
     "metadata": {
      "tags": []
     },
     "output_type": "execute_result"
    }
   ],
   "source": [
    "data.head()"
   ]
  },
  {
   "cell_type": "code",
   "execution_count": null,
   "metadata": {
    "id": "oHIPyLXeKBFW"
   },
   "outputs": [],
   "source": [
    "gel = data.iloc[:100,:]"
   ]
  },
  {
   "cell_type": "code",
   "execution_count": null,
   "metadata": {
    "id": "Vt6ESN4UJilj"
   },
   "outputs": [],
   "source": [
    "met = folium.Map()"
   ]
  },
  {
   "cell_type": "code",
   "execution_count": null,
   "metadata": {
    "id": "zFCj-X8DJtjW"
   },
   "outputs": [],
   "source": [
    "metf = folium.map.FeatureGroup()"
   ]
  },
  {
   "cell_type": "code",
   "execution_count": null,
   "metadata": {
    "id": "sq2-dDAdJ6Td"
   },
   "outputs": [],
   "source": [
    "for lat,lng in zip(gel.reclat,gel.reclong):\n",
    "  metf.add_child(folium.features.Marker([lat,lng]))"
   ]
  },
  {
   "cell_type": "code",
   "execution_count": null,
   "metadata": {
    "colab": {
     "base_uri": "https://localhost:8080/",
     "height": 546
    },
    "id": "PldyMm57LPzC",
    "outputId": "4dc4034e-0778-430f-8006-164f0553f9ed"
   },
   "outputs": [
    {
     "data": {
      "text/html": [
       "<div style=\"width:100%;\"><div style=\"position:relative;width:100%;height:0;padding-bottom:60%;\"><span style=\"color:#565656\">Make this Notebook Trusted to load map: File -> Trust Notebook</span><iframe src=\"about:blank\" style=\"position:absolute;width:100%;height:100%;left:0;top:0;border:none !important;\" data-html=%3C%21DOCTYPE%20html%3E%0A%3Chead%3E%20%20%20%20%0A%20%20%20%20%3Cmeta%20http-equiv%3D%22content-type%22%20content%3D%22text/html%3B%20charset%3DUTF-8%22%20/%3E%0A%20%20%20%20%3Cscript%3EL_PREFER_CANVAS%3Dfalse%3B%20L_NO_TOUCH%3Dfalse%3B%20L_DISABLE_3D%3Dfalse%3B%3C/script%3E%0A%20%20%20%20%3Cscript%20src%3D%22https%3A//cdn.jsdelivr.net/npm/leaflet%401.4.0/dist/leaflet.js%22%3E%3C/script%3E%0A%20%20%20%20%3Cscript%20src%3D%22https%3A//code.jquery.com/jquery-1.12.4.min.js%22%3E%3C/script%3E%0A%20%20%20%20%3Cscript%20src%3D%22https%3A//maxcdn.bootstrapcdn.com/bootstrap/3.2.0/js/bootstrap.min.js%22%3E%3C/script%3E%0A%20%20%20%20%3Cscript%20src%3D%22https%3A//cdnjs.cloudflare.com/ajax/libs/Leaflet.awesome-markers/2.0.2/leaflet.awesome-markers.js%22%3E%3C/script%3E%0A%20%20%20%20%3Clink%20rel%3D%22stylesheet%22%20href%3D%22https%3A//cdn.jsdelivr.net/npm/leaflet%401.4.0/dist/leaflet.css%22/%3E%0A%20%20%20%20%3Clink%20rel%3D%22stylesheet%22%20href%3D%22https%3A//maxcdn.bootstrapcdn.com/bootstrap/3.2.0/css/bootstrap.min.css%22/%3E%0A%20%20%20%20%3Clink%20rel%3D%22stylesheet%22%20href%3D%22https%3A//maxcdn.bootstrapcdn.com/bootstrap/3.2.0/css/bootstrap-theme.min.css%22/%3E%0A%20%20%20%20%3Clink%20rel%3D%22stylesheet%22%20href%3D%22https%3A//maxcdn.bootstrapcdn.com/font-awesome/4.6.3/css/font-awesome.min.css%22/%3E%0A%20%20%20%20%3Clink%20rel%3D%22stylesheet%22%20href%3D%22https%3A//cdnjs.cloudflare.com/ajax/libs/Leaflet.awesome-markers/2.0.2/leaflet.awesome-markers.css%22/%3E%0A%20%20%20%20%3Clink%20rel%3D%22stylesheet%22%20href%3D%22https%3A//rawcdn.githack.com/python-visualization/folium/master/folium/templates/leaflet.awesome.rotate.css%22/%3E%0A%20%20%20%20%3Cstyle%3Ehtml%2C%20body%20%7Bwidth%3A%20100%25%3Bheight%3A%20100%25%3Bmargin%3A%200%3Bpadding%3A%200%3B%7D%3C/style%3E%0A%20%20%20%20%3Cstyle%3E%23map%20%7Bposition%3Aabsolute%3Btop%3A0%3Bbottom%3A0%3Bright%3A0%3Bleft%3A0%3B%7D%3C/style%3E%0A%20%20%20%20%0A%20%20%20%20%3Cmeta%20name%3D%22viewport%22%20content%3D%22width%3Ddevice-width%2C%0A%20%20%20%20%20%20%20%20initial-scale%3D1.0%2C%20maximum-scale%3D1.0%2C%20user-scalable%3Dno%22%20/%3E%0A%20%20%20%20%3Cstyle%3E%23map_c7846b4c87694122b5ce54def9c11b74%20%7B%0A%20%20%20%20%20%20%20%20position%3A%20relative%3B%0A%20%20%20%20%20%20%20%20width%3A%20100.0%25%3B%0A%20%20%20%20%20%20%20%20height%3A%20100.0%25%3B%0A%20%20%20%20%20%20%20%20left%3A%200.0%25%3B%0A%20%20%20%20%20%20%20%20top%3A%200.0%25%3B%0A%20%20%20%20%20%20%20%20%7D%0A%20%20%20%20%3C/style%3E%0A%3C/head%3E%0A%3Cbody%3E%20%20%20%20%0A%20%20%20%20%0A%20%20%20%20%3Cdiv%20class%3D%22folium-map%22%20id%3D%22map_c7846b4c87694122b5ce54def9c11b74%22%20%3E%3C/div%3E%0A%3C/body%3E%0A%3Cscript%3E%20%20%20%20%0A%20%20%20%20%0A%20%20%20%20%0A%20%20%20%20%20%20%20%20var%20bounds%20%3D%20null%3B%0A%20%20%20%20%0A%0A%20%20%20%20var%20map_c7846b4c87694122b5ce54def9c11b74%20%3D%20L.map%28%0A%20%20%20%20%20%20%20%20%27map_c7846b4c87694122b5ce54def9c11b74%27%2C%20%7B%0A%20%20%20%20%20%20%20%20center%3A%20%5B0%2C%200%5D%2C%0A%20%20%20%20%20%20%20%20zoom%3A%201%2C%0A%20%20%20%20%20%20%20%20maxBounds%3A%20bounds%2C%0A%20%20%20%20%20%20%20%20layers%3A%20%5B%5D%2C%0A%20%20%20%20%20%20%20%20worldCopyJump%3A%20false%2C%0A%20%20%20%20%20%20%20%20crs%3A%20L.CRS.EPSG3857%2C%0A%20%20%20%20%20%20%20%20zoomControl%3A%20true%2C%0A%20%20%20%20%20%20%20%20%7D%29%3B%0A%0A%0A%20%20%20%20%0A%20%20%20%20var%20tile_layer_a2f0b5d78e064945b086fb1eb1fe840c%20%3D%20L.tileLayer%28%0A%20%20%20%20%20%20%20%20%27https%3A//%7Bs%7D.tile.openstreetmap.org/%7Bz%7D/%7Bx%7D/%7By%7D.png%27%2C%0A%20%20%20%20%20%20%20%20%7B%0A%20%20%20%20%20%20%20%20%22attribution%22%3A%20null%2C%0A%20%20%20%20%20%20%20%20%22detectRetina%22%3A%20false%2C%0A%20%20%20%20%20%20%20%20%22maxNativeZoom%22%3A%2018%2C%0A%20%20%20%20%20%20%20%20%22maxZoom%22%3A%2018%2C%0A%20%20%20%20%20%20%20%20%22minZoom%22%3A%200%2C%0A%20%20%20%20%20%20%20%20%22noWrap%22%3A%20false%2C%0A%20%20%20%20%20%20%20%20%22opacity%22%3A%201%2C%0A%20%20%20%20%20%20%20%20%22subdomains%22%3A%20%22abc%22%2C%0A%20%20%20%20%20%20%20%20%22tms%22%3A%20false%0A%7D%29.addTo%28map_c7846b4c87694122b5ce54def9c11b74%29%3B%0A%20%20%20%20%0A%20%20%20%20%20%20%20%20%20%20%20%20var%20feature_group_afbe6df8634c45ce8016cbfe2805361f%20%3D%20L.featureGroup%28%0A%20%20%20%20%20%20%20%20%20%20%20%20%20%20%20%20%29.addTo%28map_c7846b4c87694122b5ce54def9c11b74%29%3B%0A%20%20%20%20%20%20%20%20%0A%20%20%20%20%0A%20%20%20%20%20%20%20%20var%20marker_6c292d7779964466b19e76e9873223da%20%3D%20L.marker%28%0A%20%20%20%20%20%20%20%20%20%20%20%20%5B49.41667%2C%2021.7%5D%2C%0A%20%20%20%20%20%20%20%20%20%20%20%20%7B%0A%20%20%20%20%20%20%20%20%20%20%20%20%20%20%20%20icon%3A%20new%20L.Icon.Default%28%29%2C%0A%20%20%20%20%20%20%20%20%20%20%20%20%20%20%20%20%7D%0A%20%20%20%20%20%20%20%20%20%20%20%20%29.addTo%28feature_group_afbe6df8634c45ce8016cbfe2805361f%29%3B%0A%20%20%20%20%20%20%20%20%0A%20%20%20%20%0A%20%20%20%20%20%20%20%20var%20marker_c231da43a01b4933afde7b3e48802a78%20%3D%20L.marker%28%0A%20%20%20%20%20%20%20%20%20%20%20%20%5B33.725%2C%20130.75%5D%2C%0A%20%20%20%20%20%20%20%20%20%20%20%20%7B%0A%20%20%20%20%20%20%20%20%20%20%20%20%20%20%20%20icon%3A%20new%20L.Icon.Default%28%29%2C%0A%20%20%20%20%20%20%20%20%20%20%20%20%20%20%20%20%7D%0A%20%20%20%20%20%20%20%20%20%20%20%20%29.addTo%28feature_group_afbe6df8634c45ce8016cbfe2805361f%29%3B%0A%20%20%20%20%20%20%20%20%0A%20%20%20%20%0A%20%20%20%20%20%20%20%20var%20marker_bf1a89d1a7074ed6b8a6f729d528d76b%20%3D%20L.marker%28%0A%20%20%20%20%20%20%20%20%20%20%20%20%5B50.18333%2C%2012.73333%5D%2C%0A%20%20%20%20%20%20%20%20%20%20%20%20%7B%0A%20%20%20%20%20%20%20%20%20%20%20%20%20%20%20%20icon%3A%20new%20L.Icon.Default%28%29%2C%0A%20%20%20%20%20%20%20%20%20%20%20%20%20%20%20%20%7D%0A%20%20%20%20%20%20%20%20%20%20%20%20%29.addTo%28feature_group_afbe6df8634c45ce8016cbfe2805361f%29%3B%0A%20%20%20%20%20%20%20%20%0A%20%20%20%20%0A%20%20%20%20%20%20%20%20var%20marker_8d9335ca0ba845559b23f80c36242dfb%20%3D%20L.marker%28%0A%20%20%20%20%20%20%20%20%20%20%20%20%5B45.48333%2C%209.51667%5D%2C%0A%20%20%20%20%20%20%20%20%20%20%20%20%7B%0A%20%20%20%20%20%20%20%20%20%20%20%20%20%20%20%20icon%3A%20new%20L.Icon.Default%28%29%2C%0A%20%20%20%20%20%20%20%20%20%20%20%20%20%20%20%20%7D%0A%20%20%20%20%20%20%20%20%20%20%20%20%29.addTo%28feature_group_afbe6df8634c45ce8016cbfe2805361f%29%3B%0A%20%20%20%20%20%20%20%20%0A%20%20%20%20%0A%20%20%20%20%20%20%20%20var%20marker_c9a4245ad79844aca5950b49e4e5c386%20%3D%20L.marker%28%0A%20%20%20%20%20%20%20%20%20%20%20%20%5B47.86667%2C%207.35%5D%2C%0A%20%20%20%20%20%20%20%20%20%20%20%20%7B%0A%20%20%20%20%20%20%20%20%20%20%20%20%20%20%20%20icon%3A%20new%20L.Icon.Default%28%29%2C%0A%20%20%20%20%20%20%20%20%20%20%20%20%20%20%20%20%7D%0A%20%20%20%20%20%20%20%20%20%20%20%20%29.addTo%28feature_group_afbe6df8634c45ce8016cbfe2805361f%29%3B%0A%20%20%20%20%20%20%20%20%0A%20%20%20%20%0A%20%20%20%20%20%20%20%20var%20marker_3b3ca2ab7c5b488bb1832971fd51e173%20%3D%20L.marker%28%0A%20%20%20%20%20%20%20%20%20%20%20%20%5B-27.46667%2C%20-60.583330000000004%5D%2C%0A%20%20%20%20%20%20%20%20%20%20%20%20%7B%0A%20%20%20%20%20%20%20%20%20%20%20%20%20%20%20%20icon%3A%20new%20L.Icon.Default%28%29%2C%0A%20%20%20%20%20%20%20%20%20%20%20%20%20%20%20%20%7D%0A%20%20%20%20%20%20%20%20%20%20%20%20%29.addTo%28feature_group_afbe6df8634c45ce8016cbfe2805361f%29%3B%0A%20%20%20%20%20%20%20%20%0A%20%20%20%20%0A%20%20%20%20%20%20%20%20var%20marker_4f335c3c10044726b9dcc0c47bb8a5d6%20%3D%20L.marker%28%0A%20%20%20%20%20%20%20%20%20%20%20%20%5B39.8%2C%2016.2%5D%2C%0A%20%20%20%20%20%20%20%20%20%20%20%20%7B%0A%20%20%20%20%20%20%20%20%20%20%20%20%20%20%20%20icon%3A%20new%20L.Icon.Default%28%29%2C%0A%20%20%20%20%20%20%20%20%20%20%20%20%20%20%20%20%7D%0A%20%20%20%20%20%20%20%20%20%20%20%20%29.addTo%28feature_group_afbe6df8634c45ce8016cbfe2805361f%29%3B%0A%20%20%20%20%20%20%20%20%0A%20%20%20%20%0A%20%20%20%20%20%20%20%20var%20marker_e40f75fa444d406384b64881924e8a22%20%3D%20L.marker%28%0A%20%20%20%20%20%20%20%20%20%20%20%20%5B27.05%2C%20-105.43333%5D%2C%0A%20%20%20%20%20%20%20%20%20%20%20%20%7B%0A%20%20%20%20%20%20%20%20%20%20%20%20%20%20%20%20icon%3A%20new%20L.Icon.Default%28%29%2C%0A%20%20%20%20%20%20%20%20%20%20%20%20%20%20%20%20%7D%0A%20%20%20%20%20%20%20%20%20%20%20%20%29.addTo%28feature_group_afbe6df8634c45ce8016cbfe2805361f%29%3B%0A%20%20%20%20%20%20%20%20%0A%20%20%20%20%0A%20%20%20%20%20%20%20%20var%20marker_1d48837b3ec6446e8790c28ef3e91567%20%3D%20L.marker%28%0A%20%20%20%20%20%20%20%20%20%20%20%20%5B31.0%2C%2075.0%5D%2C%0A%20%20%20%20%20%20%20%20%20%20%20%20%7B%0A%20%20%20%20%20%20%20%20%20%20%20%20%20%20%20%20icon%3A%20new%20L.Icon.Default%28%29%2C%0A%20%20%20%20%20%20%20%20%20%20%20%20%20%20%20%20%7D%0A%20%20%20%20%20%20%20%20%20%20%20%20%29.addTo%28feature_group_afbe6df8634c45ce8016cbfe2805361f%29%3B%0A%20%20%20%20%20%20%20%20%0A%20%20%20%20%0A%20%20%20%20%20%20%20%20var%20marker_652b0e010f944e27ad6e659270a480b0%20%3D%20L.marker%28%0A%20%20%20%20%20%20%20%20%20%20%20%20%5B50.38333%2C%20-3.95%5D%2C%0A%20%20%20%20%20%20%20%20%20%20%20%20%7B%0A%20%20%20%20%20%20%20%20%20%20%20%20%20%20%20%20icon%3A%20new%20L.Icon.Default%28%29%2C%0A%20%20%20%20%20%20%20%20%20%20%20%20%20%20%20%20%7D%0A%20%20%20%20%20%20%20%20%20%20%20%20%29.addTo%28feature_group_afbe6df8634c45ce8016cbfe2805361f%29%3B%0A%20%20%20%20%20%20%20%20%0A%20%20%20%20%0A%20%20%20%20%20%20%20%20var%20marker_ef885a2f7b704118beda2f31c65427f4%20%3D%20L.marker%28%0A%20%20%20%20%20%20%20%20%20%20%20%20%5B51.65%2C%20-1.51667%5D%2C%0A%20%20%20%20%20%20%20%20%20%20%20%20%7B%0A%20%20%20%20%20%20%20%20%20%20%20%20%20%20%20%20icon%3A%20new%20L.Icon.Default%28%29%2C%0A%20%20%20%20%20%20%20%20%20%20%20%20%20%20%20%20%7D%0A%20%20%20%20%20%20%20%20%20%20%20%20%29.addTo%28feature_group_afbe6df8634c45ce8016cbfe2805361f%29%3B%0A%20%20%20%20%20%20%20%20%0A%20%20%20%20%0A%20%20%20%20%20%20%20%20var%20marker_bebb4e97ff034cfe8ba022e66b53aa58%20%3D%20L.marker%28%0A%20%20%20%20%20%20%20%20%20%20%20%20%5B35.07833%2C%20136.93333%5D%2C%0A%20%20%20%20%20%20%20%20%20%20%20%20%7B%0A%20%20%20%20%20%20%20%20%20%20%20%20%20%20%20%20icon%3A%20new%20L.Icon.Default%28%29%2C%0A%20%20%20%20%20%20%20%20%20%20%20%20%20%20%20%20%7D%0A%20%20%20%20%20%20%20%20%20%20%20%20%29.addTo%28feature_group_afbe6df8634c45ce8016cbfe2805361f%29%3B%0A%20%20%20%20%20%20%20%20%0A%20%20%20%20%0A%20%20%20%20%20%20%20%20var%20marker_30b03ef4a96b46798cc92906669e3ddd%20%3D%20L.marker%28%0A%20%20%20%20%20%20%20%20%20%20%20%20%5B44.08333%2C%206.86667%5D%2C%0A%20%20%20%20%20%20%20%20%20%20%20%20%7B%0A%20%20%20%20%20%20%20%20%20%20%20%20%20%20%20%20icon%3A%20new%20L.Icon.Default%28%29%2C%0A%20%20%20%20%20%20%20%20%20%20%20%20%20%20%20%20%7D%0A%20%20%20%20%20%20%20%20%20%20%20%20%29.addTo%28feature_group_afbe6df8634c45ce8016cbfe2805361f%29%3B%0A%20%20%20%20%20%20%20%20%0A%20%20%20%20%0A%20%20%20%20%20%20%20%20var%20marker_6742e3cac13b4a1cad4584c2a827a58a%20%3D%20L.marker%28%0A%20%20%20%20%20%20%20%20%20%20%20%20%5B45.41667%2C%2011.13333%5D%2C%0A%20%20%20%20%20%20%20%20%20%20%20%20%7B%0A%20%20%20%20%20%20%20%20%20%20%20%20%20%20%20%20icon%3A%20new%20L.Icon.Default%28%29%2C%0A%20%20%20%20%20%20%20%20%20%20%20%20%20%20%20%20%7D%0A%20%20%20%20%20%20%20%20%20%20%20%20%29.addTo%28feature_group_afbe6df8634c45ce8016cbfe2805361f%29%3B%0A%20%20%20%20%20%20%20%20%0A%20%20%20%20%0A%20%20%20%20%20%20%20%20var%20marker_aea02ace2ba14d0e8a77c63d1f24374a%20%3D%20L.marker%28%0A%20%20%20%20%20%20%20%20%20%20%20%20%5B48.5%2C%208.0%5D%2C%0A%20%20%20%20%20%20%20%20%20%20%20%20%7B%0A%20%20%20%20%20%20%20%20%20%20%20%20%20%20%20%20icon%3A%20new%20L.Icon.Default%28%29%2C%0A%20%20%20%20%20%20%20%20%20%20%20%20%20%20%20%20%7D%0A%20%20%20%20%20%20%20%20%20%20%20%20%29.addTo%28feature_group_afbe6df8634c45ce8016cbfe2805361f%29%3B%0A%20%20%20%20%20%20%20%20%0A%20%20%20%20%0A%20%20%20%20%20%20%20%20var%20marker_cf0a111ddd08489bad5979fc7dc9bf6b%20%3D%20L.marker%28%0A%20%20%20%20%20%20%20%20%20%20%20%20%5B34.71667%2C%20137.78333%5D%2C%0A%20%20%20%20%20%20%20%20%20%20%20%20%7B%0A%20%20%20%20%20%20%20%20%20%20%20%20%20%20%20%20icon%3A%20new%20L.Icon.Default%28%29%2C%0A%20%20%20%20%20%20%20%20%20%20%20%20%20%20%20%20%7D%0A%20%20%20%20%20%20%20%20%20%20%20%20%29.addTo%28feature_group_afbe6df8634c45ce8016cbfe2805361f%29%3B%0A%20%20%20%20%20%20%20%20%0A%20%20%20%20%0A%20%20%20%20%20%20%20%20var%20marker_06fbc7c82ca143b298c0094d87d7aa35%20%3D%20L.marker%28%0A%20%20%20%20%20%20%20%20%20%20%20%20%5B53.35%2C%2015.05%5D%2C%0A%20%20%20%20%20%20%20%20%20%20%20%20%7B%0A%20%20%20%20%20%20%20%20%20%20%20%20%20%20%20%20icon%3A%20new%20L.Icon.Default%28%29%2C%0A%20%20%20%20%20%20%20%20%20%20%20%20%20%20%20%20%7D%0A%20%20%20%20%20%20%20%20%20%20%20%20%29.addTo%28feature_group_afbe6df8634c45ce8016cbfe2805361f%29%3B%0A%20%20%20%20%20%20%20%20%0A%20%20%20%20%0A%20%20%20%20%20%20%20%20var%20marker_70d553c029ab40b68e89637355042a8d%20%3D%20L.marker%28%0A%20%20%20%20%20%20%20%20%20%20%20%20%5B14.0%2C%20-11.0%5D%2C%0A%20%20%20%20%20%20%20%20%20%20%20%20%7B%0A%20%20%20%20%20%20%20%20%20%20%20%20%20%20%20%20icon%3A%20new%20L.Icon.Default%28%29%2C%0A%20%20%20%20%20%20%20%20%20%20%20%20%20%20%20%20%7D%0A%20%20%20%20%20%20%20%20%20%20%20%20%29.addTo%28feature_group_afbe6df8634c45ce8016cbfe2805361f%29%3B%0A%20%20%20%20%20%20%20%20%0A%20%20%20%20%0A%20%20%20%20%20%20%20%20var%20marker_4ad8151295a64383ae6c18f4fe69aaa9%20%3D%20L.marker%28%0A%20%20%20%20%20%20%20%20%20%20%20%20%5B50.53333%2C%2014.116670000000001%5D%2C%0A%20%20%20%20%20%20%20%20%20%20%20%20%7B%0A%20%20%20%20%20%20%20%20%20%20%20%20%20%20%20%20icon%3A%20new%20L.Icon.Default%28%29%2C%0A%20%20%20%20%20%20%20%20%20%20%20%20%20%20%20%20%7D%0A%20%20%20%20%20%20%20%20%20%20%20%20%29.addTo%28feature_group_afbe6df8634c45ce8016cbfe2805361f%29%3B%0A%20%20%20%20%20%20%20%20%0A%20%20%20%20%0A%20%20%20%20%20%20%20%20var%20marker_13dca6eecf4844b19a8d19bb5103346e%20%3D%20L.marker%28%0A%20%20%20%20%20%20%20%20%20%20%20%20%5B50.5%2C%2012.5%5D%2C%0A%20%20%20%20%20%20%20%20%20%20%20%20%7B%0A%20%20%20%20%20%20%20%20%20%20%20%20%20%20%20%20icon%3A%20new%20L.Icon.Default%28%29%2C%0A%20%20%20%20%20%20%20%20%20%20%20%20%20%20%20%20%7D%0A%20%20%20%20%20%20%20%20%20%20%20%20%29.addTo%28feature_group_afbe6df8634c45ce8016cbfe2805361f%29%3B%0A%20%20%20%20%20%20%20%20%0A%20%20%20%20%0A%20%20%20%20%20%20%20%20var%20marker_e2cef5dfa34844edb99e9a5c4c29c83b%20%3D%20L.marker%28%0A%20%20%20%20%20%20%20%20%20%20%20%20%5B43.5%2C%2026.53333%5D%2C%0A%20%20%20%20%20%20%20%20%20%20%20%20%7B%0A%20%20%20%20%20%20%20%20%20%20%20%20%20%20%20%20icon%3A%20new%20L.Icon.Default%28%29%2C%0A%20%20%20%20%20%20%20%20%20%20%20%20%20%20%20%20%7D%0A%20%20%20%20%20%20%20%20%20%20%20%20%29.addTo%28feature_group_afbe6df8634c45ce8016cbfe2805361f%29%3B%0A%20%20%20%20%20%20%20%20%0A%20%20%20%20%0A%20%20%20%20%20%20%20%20var%20marker_7559ec81ac2442deae86e52bde2bae2f%20%3D%20L.marker%28%0A%20%20%20%20%20%20%20%20%20%20%20%20%5B33.28333%2C%20130.2%5D%2C%0A%20%20%20%20%20%20%20%20%20%20%20%20%7B%0A%20%20%20%20%20%20%20%20%20%20%20%20%20%20%20%20icon%3A%20new%20L.Icon.Default%28%29%2C%0A%20%20%20%20%20%20%20%20%20%20%20%20%20%20%20%20%7D%0A%20%20%20%20%20%20%20%20%20%20%20%20%29.addTo%28feature_group_afbe6df8634c45ce8016cbfe2805361f%29%3B%0A%20%20%20%20%20%20%20%20%0A%20%20%20%20%0A%20%20%20%20%20%20%20%20var%20marker_36e1177477e942828f3983610eba780e%20%3D%20L.marker%28%0A%20%20%20%20%20%20%20%20%20%20%20%20%5B54.9%2C%2091.8%5D%2C%0A%20%20%20%20%20%20%20%20%20%20%20%20%7B%0A%20%20%20%20%20%20%20%20%20%20%20%20%20%20%20%20icon%3A%20new%20L.Icon.Default%28%29%2C%0A%20%20%20%20%20%20%20%20%20%20%20%20%20%20%20%20%7D%0A%20%20%20%20%20%20%20%20%20%20%20%20%29.addTo%28feature_group_afbe6df8634c45ce8016cbfe2805361f%29%3B%0A%20%20%20%20%20%20%20%20%0A%20%20%20%20%0A%20%20%20%20%20%20%20%20var%20marker_50be29cd5fa943b0a59e0de6027a8367%20%3D%20L.marker%28%0A%20%20%20%20%20%20%20%20%20%20%20%20%5B46.1%2C%2016.33333%5D%2C%0A%20%20%20%20%20%20%20%20%20%20%20%20%7B%0A%20%20%20%20%20%20%20%20%20%20%20%20%20%20%20%20icon%3A%20new%20L.Icon.Default%28%29%2C%0A%20%20%20%20%20%20%20%20%20%20%20%20%20%20%20%20%7D%0A%20%20%20%20%20%20%20%20%20%20%20%20%29.addTo%28feature_group_afbe6df8634c45ce8016cbfe2805361f%29%3B%0A%20%20%20%20%20%20%20%20%0A%20%20%20%20%0A%20%20%20%20%20%20%20%20var%20marker_d4ffe98b16b6432b95b4f8cf4c59fbb7%20%3D%20L.marker%28%0A%20%20%20%20%20%20%20%20%20%20%20%20%5B49.4%2C%2014.65%5D%2C%0A%20%20%20%20%20%20%20%20%20%20%20%20%7B%0A%20%20%20%20%20%20%20%20%20%20%20%20%20%20%20%20icon%3A%20new%20L.Icon.Default%28%29%2C%0A%20%20%20%20%20%20%20%20%20%20%20%20%20%20%20%20%7D%0A%20%20%20%20%20%20%20%20%20%20%20%20%29.addTo%28feature_group_afbe6df8634c45ce8016cbfe2805361f%29%3B%0A%20%20%20%20%20%20%20%20%0A%20%20%20%20%0A%20%20%20%20%20%20%20%20var%20marker_e8681e3b680e404ebd3f8cacfe3ce037%20%3D%20L.marker%28%0A%20%20%20%20%20%20%20%20%20%20%20%20%5B46.21667%2C%205.0%5D%2C%0A%20%20%20%20%20%20%20%20%20%20%20%20%7B%0A%20%20%20%20%20%20%20%20%20%20%20%20%20%20%20%20icon%3A%20new%20L.Icon.Default%28%29%2C%0A%20%20%20%20%20%20%20%20%20%20%20%20%20%20%20%20%7D%0A%20%20%20%20%20%20%20%20%20%20%20%20%29.addTo%28feature_group_afbe6df8634c45ce8016cbfe2805361f%29%3B%0A%20%20%20%20%20%20%20%20%0A%20%20%20%20%0A%20%20%20%20%20%20%20%20var%20marker_84a0485705114f7ca471393dcc4d668b%20%3D%20L.marker%28%0A%20%20%20%20%20%20%20%20%20%20%20%20%5B44.65%2C%2011.01667%5D%2C%0A%20%20%20%20%20%20%20%20%20%20%20%20%7B%0A%20%20%20%20%20%20%20%20%20%20%20%20%20%20%20%20icon%3A%20new%20L.Icon.Default%28%29%2C%0A%20%20%20%20%20%20%20%20%20%20%20%20%20%20%20%20%7D%0A%20%20%20%20%20%20%20%20%20%20%20%20%29.addTo%28feature_group_afbe6df8634c45ce8016cbfe2805361f%29%3B%0A%20%20%20%20%20%20%20%20%0A%20%20%20%20%0A%20%20%20%20%20%20%20%20var%20marker_1ba9153e6cad40eda53f3c32edae1c45%20%3D%20L.marker%28%0A%20%20%20%20%20%20%20%20%20%20%20%20%5B48.18333%2C%2013.133329999999999%5D%2C%0A%20%20%20%20%20%20%20%20%20%20%20%20%7B%0A%20%20%20%20%20%20%20%20%20%20%20%20%20%20%20%20icon%3A%20new%20L.Icon.Default%28%29%2C%0A%20%20%20%20%20%20%20%20%20%20%20%20%20%20%20%20%7D%0A%20%20%20%20%20%20%20%20%20%20%20%20%29.addTo%28feature_group_afbe6df8634c45ce8016cbfe2805361f%29%3B%0A%20%20%20%20%20%20%20%20%0A%20%20%20%20%0A%20%20%20%20%20%20%20%20var%20marker_3ecc36535d0e49bc841df0d0d2d47fe4%20%3D%20L.marker%28%0A%20%20%20%20%20%20%20%20%20%20%20%20%5B47.85%2C%200.48333000000000004%5D%2C%0A%20%20%20%20%20%20%20%20%20%20%20%20%7B%0A%20%20%20%20%20%20%20%20%20%20%20%20%20%20%20%20icon%3A%20new%20L.Icon.Default%28%29%2C%0A%20%20%20%20%20%20%20%20%20%20%20%20%20%20%20%20%7D%0A%20%20%20%20%20%20%20%20%20%20%20%20%29.addTo%28feature_group_afbe6df8634c45ce8016cbfe2805361f%29%3B%0A%20%20%20%20%20%20%20%20%0A%20%20%20%20%0A%20%20%20%20%20%20%20%20var%20marker_8538b735bbae49debf2263b7dff22db5%20%3D%20L.marker%28%0A%20%20%20%20%20%20%20%20%20%20%20%20%5B41.71667%2C%20-0.05%5D%2C%0A%20%20%20%20%20%20%20%20%20%20%20%20%7B%0A%20%20%20%20%20%20%20%20%20%20%20%20%20%20%20%20icon%3A%20new%20L.Icon.Default%28%29%2C%0A%20%20%20%20%20%20%20%20%20%20%20%20%20%20%20%20%7D%0A%20%20%20%20%20%20%20%20%20%20%20%20%29.addTo%28feature_group_afbe6df8634c45ce8016cbfe2805361f%29%3B%0A%20%20%20%20%20%20%20%20%0A%20%20%20%20%0A%20%20%20%20%20%20%20%20var%20marker_5513c46c12024c5fbeb76f4e3fd502a9%20%3D%20L.marker%28%0A%20%20%20%20%20%20%20%20%20%20%20%20%5B50.35%2C%2010.8%5D%2C%0A%20%20%20%20%20%20%20%20%20%20%20%20%7B%0A%20%20%20%20%20%20%20%20%20%20%20%20%20%20%20%20icon%3A%20new%20L.Icon.Default%28%29%2C%0A%20%20%20%20%20%20%20%20%20%20%20%20%20%20%20%20%7D%0A%20%20%20%20%20%20%20%20%20%20%20%20%29.addTo%28feature_group_afbe6df8634c45ce8016cbfe2805361f%29%3B%0A%20%20%20%20%20%20%20%20%0A%20%20%20%20%0A%20%20%20%20%20%20%20%20var%20marker_9490cffcf0ab452da062fed58d0f94ef%20%3D%20L.marker%28%0A%20%20%20%20%20%20%20%20%20%20%20%20%5B19.566670000000002%2C%20-99.56667%5D%2C%0A%20%20%20%20%20%20%20%20%20%20%20%20%7B%0A%20%20%20%20%20%20%20%20%20%20%20%20%20%20%20%20icon%3A%20new%20L.Icon.Default%28%29%2C%0A%20%20%20%20%20%20%20%20%20%20%20%20%20%20%20%20%7D%0A%20%20%20%20%20%20%20%20%20%20%20%20%29.addTo%28feature_group_afbe6df8634c45ce8016cbfe2805361f%29%3B%0A%20%20%20%20%20%20%20%20%0A%20%20%20%20%0A%20%20%20%20%20%20%20%20var%20marker_0cacd74d388f4b5db21dfdf19e63d41b%20%3D%20L.marker%28%0A%20%20%20%20%20%20%20%20%20%20%20%20%5B29.3%2C%20105.3%5D%2C%0A%20%20%20%20%20%20%20%20%20%20%20%20%7B%0A%20%20%20%20%20%20%20%20%20%20%20%20%20%20%20%20icon%3A%20new%20L.Icon.Default%28%29%2C%0A%20%20%20%20%20%20%20%20%20%20%20%20%20%20%20%20%7D%0A%20%20%20%20%20%20%20%20%20%20%20%20%29.addTo%28feature_group_afbe6df8634c45ce8016cbfe2805361f%29%3B%0A%20%20%20%20%20%20%20%20%0A%20%20%20%20%0A%20%20%20%20%20%20%20%20var%20marker_37b764aaa84c41bc8da2a534ba443110%20%3D%20L.marker%28%0A%20%20%20%20%20%20%20%20%20%20%20%20%5B27.15%2C%20-104.9%5D%2C%0A%20%20%20%20%20%20%20%20%20%20%20%20%7B%0A%20%20%20%20%20%20%20%20%20%20%20%20%20%20%20%20icon%3A%20new%20L.Icon.Default%28%29%2C%0A%20%20%20%20%20%20%20%20%20%20%20%20%20%20%20%20%7D%0A%20%20%20%20%20%20%20%20%20%20%20%20%29.addTo%28feature_group_afbe6df8634c45ce8016cbfe2805361f%29%3B%0A%20%20%20%20%20%20%20%20%0A%20%20%20%20%0A%20%20%20%20%20%20%20%20var%20marker_12c0b2144f2d4e02b0f732ec93014d23%20%3D%20L.marker%28%0A%20%20%20%20%20%20%20%20%20%20%20%20%5B-10.11667%2C%20-39.2%5D%2C%0A%20%20%20%20%20%20%20%20%20%20%20%20%7B%0A%20%20%20%20%20%20%20%20%20%20%20%20%20%20%20%20icon%3A%20new%20L.Icon.Default%28%29%2C%0A%20%20%20%20%20%20%20%20%20%20%20%20%20%20%20%20%7D%0A%20%20%20%20%20%20%20%20%20%20%20%20%29.addTo%28feature_group_afbe6df8634c45ce8016cbfe2805361f%29%3B%0A%20%20%20%20%20%20%20%20%0A%20%20%20%20%0A%20%20%20%20%20%20%20%20var%20marker_5ef82918bcd84f4fb277048bcb909b9a%20%3D%20L.marker%28%0A%20%20%20%20%20%20%20%20%20%20%20%20%5B48.9%2C%2011.21667%5D%2C%0A%20%20%20%20%20%20%20%20%20%20%20%20%7B%0A%20%20%20%20%20%20%20%20%20%20%20%20%20%20%20%20icon%3A%20new%20L.Icon.Default%28%29%2C%0A%20%20%20%20%20%20%20%20%20%20%20%20%20%20%20%20%7D%0A%20%20%20%20%20%20%20%20%20%20%20%20%29.addTo%28feature_group_afbe6df8634c45ce8016cbfe2805361f%29%3B%0A%20%20%20%20%20%20%20%20%0A%20%20%20%20%0A%20%20%20%20%20%20%20%20var%20marker_39f2fd49372742c3b03b27617367f0b3%20%3D%20L.marker%28%0A%20%20%20%20%20%20%20%20%20%20%20%20%5B50.625%2C%2035.075%5D%2C%0A%20%20%20%20%20%20%20%20%20%20%20%20%7B%0A%20%20%20%20%20%20%20%20%20%20%20%20%20%20%20%20icon%3A%20new%20L.Icon.Default%28%29%2C%0A%20%20%20%20%20%20%20%20%20%20%20%20%20%20%20%20%7D%0A%20%20%20%20%20%20%20%20%20%20%20%20%29.addTo%28feature_group_afbe6df8634c45ce8016cbfe2805361f%29%3B%0A%20%20%20%20%20%20%20%20%0A%20%20%20%20%0A%20%20%20%20%20%20%20%20var%20marker_557f4c25c7f84117b64b254433d61062%20%3D%20L.marker%28%0A%20%20%20%20%20%20%20%20%20%20%20%20%5B43.95%2C%20-0.05%5D%2C%0A%20%20%20%20%20%20%20%20%20%20%20%20%7B%0A%20%20%20%20%20%20%20%20%20%20%20%20%20%20%20%20icon%3A%20new%20L.Icon.Default%28%29%2C%0A%20%20%20%20%20%20%20%20%20%20%20%20%20%20%20%20%7D%0A%20%20%20%20%20%20%20%20%20%20%20%20%29.addTo%28feature_group_afbe6df8634c45ce8016cbfe2805361f%29%3B%0A%20%20%20%20%20%20%20%20%0A%20%20%20%20%0A%20%20%20%20%20%20%20%20var%20marker_c3fb4a370fd1443393aebc7b25b436b1%20%3D%20L.marker%28%0A%20%20%20%20%20%20%20%20%20%20%20%20%5B22.816670000000002%2C%20-102.56667%5D%2C%0A%20%20%20%20%20%20%20%20%20%20%20%20%7B%0A%20%20%20%20%20%20%20%20%20%20%20%20%20%20%20%20icon%3A%20new%20L.Icon.Default%28%29%2C%0A%20%20%20%20%20%20%20%20%20%20%20%20%20%20%20%20%7D%0A%20%20%20%20%20%20%20%20%20%20%20%20%29.addTo%28feature_group_afbe6df8634c45ce8016cbfe2805361f%29%3B%0A%20%20%20%20%20%20%20%20%0A%20%20%20%20%0A%20%20%20%20%20%20%20%20var%20marker_435e434e142b4a1da30032f4a27cbbb2%20%3D%20L.marker%28%0A%20%20%20%20%20%20%20%20%20%20%20%20%5B-33.5%2C%2026.0%5D%2C%0A%20%20%20%20%20%20%20%20%20%20%20%20%7B%0A%20%20%20%20%20%20%20%20%20%20%20%20%20%20%20%20icon%3A%20new%20L.Icon.Default%28%29%2C%0A%20%20%20%20%20%20%20%20%20%20%20%20%20%20%20%20%7D%0A%20%20%20%20%20%20%20%20%20%20%20%20%29.addTo%28feature_group_afbe6df8634c45ce8016cbfe2805361f%29%3B%0A%20%20%20%20%20%20%20%20%0A%20%20%20%20%0A%20%20%20%20%20%20%20%20var%20marker_5dc86a28df7d42d3b674bd06dd1c4904%20%3D%20L.marker%28%0A%20%20%20%20%20%20%20%20%20%20%20%20%5B43.11667%2C%2011.6%5D%2C%0A%20%20%20%20%20%20%20%20%20%20%20%20%7B%0A%20%20%20%20%20%20%20%20%20%20%20%20%20%20%20%20icon%3A%20new%20L.Icon.Default%28%29%2C%0A%20%20%20%20%20%20%20%20%20%20%20%20%20%20%20%20%7D%0A%20%20%20%20%20%20%20%20%20%20%20%20%29.addTo%28feature_group_afbe6df8634c45ce8016cbfe2805361f%29%3B%0A%20%20%20%20%20%20%20%20%0A%20%20%20%20%0A%20%20%20%20%20%20%20%20var%20marker_84f52678450f4d6db90255ff4d8f73c5%20%3D%20L.marker%28%0A%20%20%20%20%20%20%20%20%20%20%20%20%5B54.136669999999995%2C%20-0.41333000000000003%5D%2C%0A%20%20%20%20%20%20%20%20%20%20%20%20%7B%0A%20%20%20%20%20%20%20%20%20%20%20%20%20%20%20%20icon%3A%20new%20L.Icon.Default%28%29%2C%0A%20%20%20%20%20%20%20%20%20%20%20%20%20%20%20%20%7D%0A%20%20%20%20%20%20%20%20%20%20%20%20%29.addTo%28feature_group_afbe6df8634c45ce8016cbfe2805361f%29%3B%0A%20%20%20%20%20%20%20%20%0A%20%20%20%20%0A%20%20%20%20%20%20%20%20var%20marker_5b29bf203de14cbbb0305c1619da7735%20%3D%20L.marker%28%0A%20%20%20%20%20%20%20%20%20%20%20%20%5B9.33333%2C%2080.83333%5D%2C%0A%20%20%20%20%20%20%20%20%20%20%20%20%7B%0A%20%20%20%20%20%20%20%20%20%20%20%20%20%20%20%20icon%3A%20new%20L.Icon.Default%28%29%2C%0A%20%20%20%20%20%20%20%20%20%20%20%20%20%20%20%20%7D%0A%20%20%20%20%20%20%20%20%20%20%20%20%29.addTo%28feature_group_afbe6df8634c45ce8016cbfe2805361f%29%3B%0A%20%20%20%20%20%20%20%20%0A%20%20%20%20%0A%20%20%20%20%20%20%20%20var%20marker_e78af731e2da492786a966ea36dda1b9%20%3D%20L.marker%28%0A%20%20%20%20%20%20%20%20%20%20%20%20%5B38.5%2C%20-8.0%5D%2C%0A%20%20%20%20%20%20%20%20%20%20%20%20%7B%0A%20%20%20%20%20%20%20%20%20%20%20%20%20%20%20%20icon%3A%20new%20L.Icon.Default%28%29%2C%0A%20%20%20%20%20%20%20%20%20%20%20%20%20%20%20%20%7D%0A%20%20%20%20%20%20%20%20%20%20%20%20%29.addTo%28feature_group_afbe6df8634c45ce8016cbfe2805361f%29%3B%0A%20%20%20%20%20%20%20%20%0A%20%20%20%20%0A%20%20%20%20%20%20%20%20var%20marker_14f624a209bc4fbd87e56d2dd395e849%20%3D%20L.marker%28%0A%20%20%20%20%20%20%20%20%20%20%20%20%5B49.78333%2C%2030.16667%5D%2C%0A%20%20%20%20%20%20%20%20%20%20%20%20%7B%0A%20%20%20%20%20%20%20%20%20%20%20%20%20%20%20%20icon%3A%20new%20L.Icon.Default%28%29%2C%0A%20%20%20%20%20%20%20%20%20%20%20%20%20%20%20%20%7D%0A%20%20%20%20%20%20%20%20%20%20%20%20%29.addTo%28feature_group_afbe6df8634c45ce8016cbfe2805361f%29%3B%0A%20%20%20%20%20%20%20%20%0A%20%20%20%20%0A%20%20%20%20%20%20%20%20var%20marker_bab99fdc174f47fb8c12947db49ed56d%20%3D%20L.marker%28%0A%20%20%20%20%20%20%20%20%20%20%20%20%5B-7.566669999999999%2C%20110.83333%5D%2C%0A%20%20%20%20%20%20%20%20%20%20%20%20%7B%0A%20%20%20%20%20%20%20%20%20%20%20%20%20%20%20%20icon%3A%20new%20L.Icon.Default%28%29%2C%0A%20%20%20%20%20%20%20%20%20%20%20%20%20%20%20%20%7D%0A%20%20%20%20%20%20%20%20%20%20%20%20%29.addTo%28feature_group_afbe6df8634c45ce8016cbfe2805361f%29%3B%0A%20%20%20%20%20%20%20%20%0A%20%20%20%20%0A%20%20%20%20%20%20%20%20var%20marker_1b59fbbd24c8491dab69ee8122ed3b37%20%3D%20L.marker%28%0A%20%20%20%20%20%20%20%20%20%20%20%20%5B46.05%2C%204.63333%5D%2C%0A%20%20%20%20%20%20%20%20%20%20%20%20%7B%0A%20%20%20%20%20%20%20%20%20%20%20%20%20%20%20%20icon%3A%20new%20L.Icon.Default%28%29%2C%0A%20%20%20%20%20%20%20%20%20%20%20%20%20%20%20%20%7D%0A%20%20%20%20%20%20%20%20%20%20%20%20%29.addTo%28feature_group_afbe6df8634c45ce8016cbfe2805361f%29%3B%0A%20%20%20%20%20%20%20%20%0A%20%20%20%20%0A%20%20%20%20%20%20%20%20var%20marker_b6fc9b7f8f964b06a4ae6b2ba0a6f7fc%20%3D%20L.marker%28%0A%20%20%20%20%20%20%20%20%20%20%20%20%5B25.366670000000003%2C%2082.91667%5D%2C%0A%20%20%20%20%20%20%20%20%20%20%20%20%7B%0A%20%20%20%20%20%20%20%20%20%20%20%20%20%20%20%20icon%3A%20new%20L.Icon.Default%28%29%2C%0A%20%20%20%20%20%20%20%20%20%20%20%20%20%20%20%20%7D%0A%20%20%20%20%20%20%20%20%20%20%20%20%29.addTo%28feature_group_afbe6df8634c45ce8016cbfe2805361f%29%3B%0A%20%20%20%20%20%20%20%20%0A%20%20%20%20%0A%20%20%20%20%20%20%20%20var%20marker_b10afbc83c2f400ba29495f79798fa66%20%3D%20L.marker%28%0A%20%20%20%20%20%20%20%20%20%20%20%20%5B-20.0%2C%2057.0%5D%2C%0A%20%20%20%20%20%20%20%20%20%20%20%20%7B%0A%20%20%20%20%20%20%20%20%20%20%20%20%20%20%20%20icon%3A%20new%20L.Icon.Default%28%29%2C%0A%20%20%20%20%20%20%20%20%20%20%20%20%20%20%20%20%7D%0A%20%20%20%20%20%20%20%20%20%20%20%20%29.addTo%28feature_group_afbe6df8634c45ce8016cbfe2805361f%29%3B%0A%20%20%20%20%20%20%20%20%0A%20%20%20%20%0A%20%20%20%20%20%20%20%20var%20marker_4e42b8107fd54c0495294b43760138a8%20%3D%20L.marker%28%0A%20%20%20%20%20%20%20%20%20%20%20%20%5B48.13333%2C%2012.61667%5D%2C%0A%20%20%20%20%20%20%20%20%20%20%20%20%7B%0A%20%20%20%20%20%20%20%20%20%20%20%20%20%20%20%20icon%3A%20new%20L.Icon.Default%28%29%2C%0A%20%20%20%20%20%20%20%20%20%20%20%20%20%20%20%20%7D%0A%20%20%20%20%20%20%20%20%20%20%20%20%29.addTo%28feature_group_afbe6df8634c45ce8016cbfe2805361f%29%3B%0A%20%20%20%20%20%20%20%20%0A%20%20%20%20%0A%20%20%20%20%20%20%20%20var%20marker_6d289c7ae69744209031291658c4a4e4%20%3D%20L.marker%28%0A%20%20%20%20%20%20%20%20%20%20%20%20%5B43.86667%2C%205.38333%5D%2C%0A%20%20%20%20%20%20%20%20%20%20%20%20%7B%0A%20%20%20%20%20%20%20%20%20%20%20%20%20%20%20%20icon%3A%20new%20L.Icon.Default%28%29%2C%0A%20%20%20%20%20%20%20%20%20%20%20%20%20%20%20%20%7D%0A%20%20%20%20%20%20%20%20%20%20%20%20%29.addTo%28feature_group_afbe6df8634c45ce8016cbfe2805361f%29%3B%0A%20%20%20%20%20%20%20%20%0A%20%20%20%20%0A%20%20%20%20%20%20%20%20var%20marker_f18e53c3934f4ac8ab5f2bf9282ae3ca%20%3D%20L.marker%28%0A%20%20%20%20%20%20%20%20%20%20%20%20%5B48.76667%2C%200.6333300000000001%5D%2C%0A%20%20%20%20%20%20%20%20%20%20%20%20%7B%0A%20%20%20%20%20%20%20%20%20%20%20%20%20%20%20%20icon%3A%20new%20L.Icon.Default%28%29%2C%0A%20%20%20%20%20%20%20%20%20%20%20%20%20%20%20%20%7D%0A%20%20%20%20%20%20%20%20%20%20%20%20%29.addTo%28feature_group_afbe6df8634c45ce8016cbfe2805361f%29%3B%0A%20%20%20%20%20%20%20%20%0A%20%20%20%20%0A%20%20%20%20%20%20%20%20var%20marker_540c25249feb4babb6b99b18b7714268%20%3D%20L.marker%28%0A%20%20%20%20%20%20%20%20%20%20%20%20%5B55.9%2C%20-4.2333300000000005%5D%2C%0A%20%20%20%20%20%20%20%20%20%20%20%20%7B%0A%20%20%20%20%20%20%20%20%20%20%20%20%20%20%20%20icon%3A%20new%20L.Icon.Default%28%29%2C%0A%20%20%20%20%20%20%20%20%20%20%20%20%20%20%20%20%7D%0A%20%20%20%20%20%20%20%20%20%20%20%20%29.addTo%28feature_group_afbe6df8634c45ce8016cbfe2805361f%29%3B%0A%20%20%20%20%20%20%20%20%0A%20%20%20%20%0A%20%20%20%20%20%20%20%20var%20marker_ad02f82e8c05457291d5bad58c3c4bc2%20%3D%20L.marker%28%0A%20%20%20%20%20%20%20%20%20%20%20%20%5B23.0%2C%20-102.0%5D%2C%0A%20%20%20%20%20%20%20%20%20%20%20%20%7B%0A%20%20%20%20%20%20%20%20%20%20%20%20%20%20%20%20icon%3A%20new%20L.Icon.Default%28%29%2C%0A%20%20%20%20%20%20%20%20%20%20%20%20%20%20%20%20%7D%0A%20%20%20%20%20%20%20%20%20%20%20%20%29.addTo%28feature_group_afbe6df8634c45ce8016cbfe2805361f%29%3B%0A%20%20%20%20%20%20%20%20%0A%20%20%20%20%0A%20%20%20%20%20%20%20%20var%20marker_ebb6cf194906469bbe017fb9aee09783%20%3D%20L.marker%28%0A%20%20%20%20%20%20%20%20%20%20%20%20%5B49.86667%2C%208.65%5D%2C%0A%20%20%20%20%20%20%20%20%20%20%20%20%7B%0A%20%20%20%20%20%20%20%20%20%20%20%20%20%20%20%20icon%3A%20new%20L.Icon.Default%28%29%2C%0A%20%20%20%20%20%20%20%20%20%20%20%20%20%20%20%20%7D%0A%20%20%20%20%20%20%20%20%20%20%20%20%29.addTo%28feature_group_afbe6df8634c45ce8016cbfe2805361f%29%3B%0A%20%20%20%20%20%20%20%20%0A%20%20%20%20%0A%20%20%20%20%20%20%20%20var%20marker_f2388bc6e8074b73a361148128d5ceaa%20%3D%20L.marker%28%0A%20%20%20%20%20%20%20%20%20%20%20%20%5B16.8%2C%20-97.1%5D%2C%0A%20%20%20%20%20%20%20%20%20%20%20%20%7B%0A%20%20%20%20%20%20%20%20%20%20%20%20%20%20%20%20icon%3A%20new%20L.Icon.Default%28%29%2C%0A%20%20%20%20%20%20%20%20%20%20%20%20%20%20%20%20%7D%0A%20%20%20%20%20%20%20%20%20%20%20%20%29.addTo%28feature_group_afbe6df8634c45ce8016cbfe2805361f%29%3B%0A%20%20%20%20%20%20%20%20%0A%20%20%20%20%0A%20%20%20%20%20%20%20%20var%20marker_eeea824b1f064cec94563a5f41cb1532%20%3D%20L.marker%28%0A%20%20%20%20%20%20%20%20%20%20%20%20%5B23.08333%2C%20-101.01666999999999%5D%2C%0A%20%20%20%20%20%20%20%20%20%20%20%20%7B%0A%20%20%20%20%20%20%20%20%20%20%20%20%20%20%20%20icon%3A%20new%20L.Icon.Default%28%29%2C%0A%20%20%20%20%20%20%20%20%20%20%20%20%20%20%20%20%7D%0A%20%20%20%20%20%20%20%20%20%20%20%20%29.addTo%28feature_group_afbe6df8634c45ce8016cbfe2805361f%29%3B%0A%20%20%20%20%20%20%20%20%0A%20%20%20%20%0A%20%20%20%20%20%20%20%20var%20marker_c245ee27e40b47e099a1179fbbb0e583%20%3D%20L.marker%28%0A%20%20%20%20%20%20%20%20%20%20%20%20%5B49.96667%2C%206.53333%5D%2C%0A%20%20%20%20%20%20%20%20%20%20%20%20%7B%0A%20%20%20%20%20%20%20%20%20%20%20%20%20%20%20%20icon%3A%20new%20L.Icon.Default%28%29%2C%0A%20%20%20%20%20%20%20%20%20%20%20%20%20%20%20%20%7D%0A%20%20%20%20%20%20%20%20%20%20%20%20%29.addTo%28feature_group_afbe6df8634c45ce8016cbfe2805361f%29%3B%0A%20%20%20%20%20%20%20%20%0A%20%20%20%20%0A%20%20%20%20%20%20%20%20var%20marker_b2770295434e4028a7432b515778bd0f%20%3D%20L.marker%28%0A%20%20%20%20%20%20%20%20%20%20%20%20%5B51.2%2C%20112.3%5D%2C%0A%20%20%20%20%20%20%20%20%20%20%20%20%7B%0A%20%20%20%20%20%20%20%20%20%20%20%20%20%20%20%20icon%3A%20new%20L.Icon.Default%28%29%2C%0A%20%20%20%20%20%20%20%20%20%20%20%20%20%20%20%20%7D%0A%20%20%20%20%20%20%20%20%20%20%20%20%29.addTo%28feature_group_afbe6df8634c45ce8016cbfe2805361f%29%3B%0A%20%20%20%20%20%20%20%20%0A%20%20%20%20%0A%20%20%20%20%20%20%20%20var%20marker_880b600a8324463ebf98a74cce8c277a%20%3D%20L.marker%28%0A%20%20%20%20%20%20%20%20%20%20%20%20%5B42.45%2C%209.03333%5D%2C%0A%20%20%20%20%20%20%20%20%20%20%20%20%7B%0A%20%20%20%20%20%20%20%20%20%20%20%20%20%20%20%20icon%3A%20new%20L.Icon.Default%28%29%2C%0A%20%20%20%20%20%20%20%20%20%20%20%20%20%20%20%20%7D%0A%20%20%20%20%20%20%20%20%20%20%20%20%29.addTo%28feature_group_afbe6df8634c45ce8016cbfe2805361f%29%3B%0A%20%20%20%20%20%20%20%20%0A%20%20%20%20%0A%20%20%20%20%20%20%20%20var%20marker_3767066047f94c2b9ceb8a8cf43deacc%20%3D%20L.marker%28%0A%20%20%20%20%20%20%20%20%20%20%20%20%5B44.11667%2C%204.08333%5D%2C%0A%20%20%20%20%20%20%20%20%20%20%20%20%7B%0A%20%20%20%20%20%20%20%20%20%20%20%20%20%20%20%20icon%3A%20new%20L.Icon.Default%28%29%2C%0A%20%20%20%20%20%20%20%20%20%20%20%20%20%20%20%20%7D%0A%20%20%20%20%20%20%20%20%20%20%20%20%29.addTo%28feature_group_afbe6df8634c45ce8016cbfe2805361f%29%3B%0A%20%20%20%20%20%20%20%20%0A%20%20%20%20%0A%20%20%20%20%20%20%20%20var%20marker_abc6e229b14646728a0d5d98215cff31%20%3D%20L.marker%28%0A%20%20%20%20%20%20%20%20%20%20%20%20%5B54.5%2C%2035.2%5D%2C%0A%20%20%20%20%20%20%20%20%20%20%20%20%7B%0A%20%20%20%20%20%20%20%20%20%20%20%20%20%20%20%20icon%3A%20new%20L.Icon.Default%28%29%2C%0A%20%20%20%20%20%20%20%20%20%20%20%20%20%20%20%20%7D%0A%20%20%20%20%20%20%20%20%20%20%20%20%29.addTo%28feature_group_afbe6df8634c45ce8016cbfe2805361f%29%3B%0A%20%20%20%20%20%20%20%20%0A%20%20%20%20%0A%20%20%20%20%20%20%20%20var%20marker_348b21986b1a41fd984993aca90dde7c%20%3D%20L.marker%28%0A%20%20%20%20%20%20%20%20%20%20%20%20%5B41.266667%2C%20-73.266667%5D%2C%0A%20%20%20%20%20%20%20%20%20%20%20%20%7B%0A%20%20%20%20%20%20%20%20%20%20%20%20%20%20%20%20icon%3A%20new%20L.Icon.Default%28%29%2C%0A%20%20%20%20%20%20%20%20%20%20%20%20%20%20%20%20%7D%0A%20%20%20%20%20%20%20%20%20%20%20%20%29.addTo%28feature_group_afbe6df8634c45ce8016cbfe2805361f%29%3B%0A%20%20%20%20%20%20%20%20%0A%20%20%20%20%0A%20%20%20%20%20%20%20%20var%20marker_0dd1132b78c443df8c8b6328a4daebcd%20%3D%20L.marker%28%0A%20%20%20%20%20%20%20%20%20%20%20%20%5B50.2%2C%2014.85%5D%2C%0A%20%20%20%20%20%20%20%20%20%20%20%20%7B%0A%20%20%20%20%20%20%20%20%20%20%20%20%20%20%20%20icon%3A%20new%20L.Icon.Default%28%29%2C%0A%20%20%20%20%20%20%20%20%20%20%20%20%20%20%20%20%7D%0A%20%20%20%20%20%20%20%20%20%20%20%20%29.addTo%28feature_group_afbe6df8634c45ce8016cbfe2805361f%29%3B%0A%20%20%20%20%20%20%20%20%0A%20%20%20%20%0A%20%20%20%20%20%20%20%20var%20marker_7f05565eed154467b45b50ad1a60e115%20%3D%20L.marker%28%0A%20%20%20%20%20%20%20%20%20%20%20%20%5B44.86667%2C%2010.05%5D%2C%0A%20%20%20%20%20%20%20%20%20%20%20%20%7B%0A%20%20%20%20%20%20%20%20%20%20%20%20%20%20%20%20icon%3A%20new%20L.Icon.Default%28%29%2C%0A%20%20%20%20%20%20%20%20%20%20%20%20%20%20%20%20%7D%0A%20%20%20%20%20%20%20%20%20%20%20%20%29.addTo%28feature_group_afbe6df8634c45ce8016cbfe2805361f%29%3B%0A%20%20%20%20%20%20%20%20%0A%20%20%20%20%0A%20%20%20%20%20%20%20%20var%20marker_8cf334feec564040b4866a14895be1c2%20%3D%20L.marker%28%0A%20%20%20%20%20%20%20%20%20%20%20%20%5B49.28333%2C%2015.566670000000002%5D%2C%0A%20%20%20%20%20%20%20%20%20%20%20%20%7B%0A%20%20%20%20%20%20%20%20%20%20%20%20%20%20%20%20icon%3A%20new%20L.Icon.Default%28%29%2C%0A%20%20%20%20%20%20%20%20%20%20%20%20%20%20%20%20%7D%0A%20%20%20%20%20%20%20%20%20%20%20%20%29.addTo%28feature_group_afbe6df8634c45ce8016cbfe2805361f%29%3B%0A%20%20%20%20%20%20%20%20%0A%20%20%20%20%0A%20%20%20%20%20%20%20%20var%20marker_2fc6d4846e2848e19abaaa144c9b6285%20%3D%20L.marker%28%0A%20%20%20%20%20%20%20%20%20%20%20%20%5B28.78333%2C%2078.83333%5D%2C%0A%20%20%20%20%20%20%20%20%20%20%20%20%7B%0A%20%20%20%20%20%20%20%20%20%20%20%20%20%20%20%20icon%3A%20new%20L.Icon.Default%28%29%2C%0A%20%20%20%20%20%20%20%20%20%20%20%20%20%20%20%20%7D%0A%20%20%20%20%20%20%20%20%20%20%20%20%29.addTo%28feature_group_afbe6df8634c45ce8016cbfe2805361f%29%3B%0A%20%20%20%20%20%20%20%20%0A%20%20%20%20%0A%20%20%20%20%20%20%20%20var%20marker_976079c8e05b436cbb521496abd235b3%20%3D%20L.marker%28%0A%20%20%20%20%20%20%20%20%20%20%20%20%5B32.0%2C%20-95.0%5D%2C%0A%20%20%20%20%20%20%20%20%20%20%20%20%7B%0A%20%20%20%20%20%20%20%20%20%20%20%20%20%20%20%20icon%3A%20new%20L.Icon.Default%28%29%2C%0A%20%20%20%20%20%20%20%20%20%20%20%20%20%20%20%20%7D%0A%20%20%20%20%20%20%20%20%20%20%20%20%29.addTo%28feature_group_afbe6df8634c45ce8016cbfe2805361f%29%3B%0A%20%20%20%20%20%20%20%20%0A%20%20%20%20%0A%20%20%20%20%20%20%20%20var%20marker_f38bb9500f6a455ea61088ec5931308d%20%3D%20L.marker%28%0A%20%20%20%20%20%20%20%20%20%20%20%20%5B55.0%2C%2034.0%5D%2C%0A%20%20%20%20%20%20%20%20%20%20%20%20%7B%0A%20%20%20%20%20%20%20%20%20%20%20%20%20%20%20%20icon%3A%20new%20L.Icon.Default%28%29%2C%0A%20%20%20%20%20%20%20%20%20%20%20%20%20%20%20%20%7D%0A%20%20%20%20%20%20%20%20%20%20%20%20%29.addTo%28feature_group_afbe6df8634c45ce8016cbfe2805361f%29%3B%0A%20%20%20%20%20%20%20%20%0A%20%20%20%20%0A%20%20%20%20%20%20%20%20var%20marker_ebe155afc3b9443bb0c4711997e1c560%20%3D%20L.marker%28%0A%20%20%20%20%20%20%20%20%20%20%20%20%5B52.45%2C%20-8.33333%5D%2C%0A%20%20%20%20%20%20%20%20%20%20%20%20%7B%0A%20%20%20%20%20%20%20%20%20%20%20%20%20%20%20%20icon%3A%20new%20L.Icon.Default%28%29%2C%0A%20%20%20%20%20%20%20%20%20%20%20%20%20%20%20%20%7D%0A%20%20%20%20%20%20%20%20%20%20%20%20%29.addTo%28feature_group_afbe6df8634c45ce8016cbfe2805361f%29%3B%0A%20%20%20%20%20%20%20%20%0A%20%20%20%20%0A%20%20%20%20%20%20%20%20var%20marker_ccf6e97dee7743ff9b59960c0f395826%20%3D%20L.marker%28%0A%20%20%20%20%20%20%20%20%20%20%20%20%5B5.91667%2C%20-73.0%5D%2C%0A%20%20%20%20%20%20%20%20%20%20%20%20%7B%0A%20%20%20%20%20%20%20%20%20%20%20%20%20%20%20%20icon%3A%20new%20L.Icon.Default%28%29%2C%0A%20%20%20%20%20%20%20%20%20%20%20%20%20%20%20%20%7D%0A%20%20%20%20%20%20%20%20%20%20%20%20%29.addTo%28feature_group_afbe6df8634c45ce8016cbfe2805361f%29%3B%0A%20%20%20%20%20%20%20%20%0A%20%20%20%20%0A%20%20%20%20%20%20%20%20var%20marker_e9dac49be1644a128a0a3f6c5c3dadef%20%3D%20L.marker%28%0A%20%20%20%20%20%20%20%20%20%20%20%20%5B52.5%2C%2030.33333%5D%2C%0A%20%20%20%20%20%20%20%20%20%20%20%20%7B%0A%20%20%20%20%20%20%20%20%20%20%20%20%20%20%20%20icon%3A%20new%20L.Icon.Default%28%29%2C%0A%20%20%20%20%20%20%20%20%20%20%20%20%20%20%20%20%7D%0A%20%20%20%20%20%20%20%20%20%20%20%20%29.addTo%28feature_group_afbe6df8634c45ce8016cbfe2805361f%29%3B%0A%20%20%20%20%20%20%20%20%0A%20%20%20%20%0A%20%20%20%20%20%20%20%20var%20marker_0b3f26a889304b3eb9b0f2ca3f03b9d5%20%3D%20L.marker%28%0A%20%20%20%20%20%20%20%20%20%20%20%20%5B47.93333%2C%201.56667%5D%2C%0A%20%20%20%20%20%20%20%20%20%20%20%20%7B%0A%20%20%20%20%20%20%20%20%20%20%20%20%20%20%20%20icon%3A%20new%20L.Icon.Default%28%29%2C%0A%20%20%20%20%20%20%20%20%20%20%20%20%20%20%20%20%7D%0A%20%20%20%20%20%20%20%20%20%20%20%20%29.addTo%28feature_group_afbe6df8634c45ce8016cbfe2805361f%29%3B%0A%20%20%20%20%20%20%20%20%0A%20%20%20%20%0A%20%20%20%20%20%20%20%20var%20marker_82673c19b9fe4645917555ce460d79bd%20%3D%20L.marker%28%0A%20%20%20%20%20%20%20%20%20%20%20%20%5B36.5%2C%20-79.25%5D%2C%0A%20%20%20%20%20%20%20%20%20%20%20%20%7B%0A%20%20%20%20%20%20%20%20%20%20%20%20%20%20%20%20icon%3A%20new%20L.Icon.Default%28%29%2C%0A%20%20%20%20%20%20%20%20%20%20%20%20%20%20%20%20%7D%0A%20%20%20%20%20%20%20%20%20%20%20%20%29.addTo%28feature_group_afbe6df8634c45ce8016cbfe2805361f%29%3B%0A%20%20%20%20%20%20%20%20%0A%20%20%20%20%0A%20%20%20%20%20%20%20%20var%20marker_b2fc2fa3ae4b407e8ffe4ee76ac27725%20%3D%20L.marker%28%0A%20%20%20%20%20%20%20%20%20%20%20%20%5B50.75%2C%2033.5%5D%2C%0A%20%20%20%20%20%20%20%20%20%20%20%20%7B%0A%20%20%20%20%20%20%20%20%20%20%20%20%20%20%20%20icon%3A%20new%20L.Icon.Default%28%29%2C%0A%20%20%20%20%20%20%20%20%20%20%20%20%20%20%20%20%7D%0A%20%20%20%20%20%20%20%20%20%20%20%20%29.addTo%28feature_group_afbe6df8634c45ce8016cbfe2805361f%29%3B%0A%20%20%20%20%20%20%20%20%0A%20%20%20%20%0A%20%20%20%20%20%20%20%20var%20marker_cbc2d1db8fe240bc815003fb1b9c0e4b%20%3D%20L.marker%28%0A%20%20%20%20%20%20%20%20%20%20%20%20%5B13.333329999999998%2C%2078.95%5D%2C%0A%20%20%20%20%20%20%20%20%20%20%20%20%7B%0A%20%20%20%20%20%20%20%20%20%20%20%20%20%20%20%20icon%3A%20new%20L.Icon.Default%28%29%2C%0A%20%20%20%20%20%20%20%20%20%20%20%20%20%20%20%20%7D%0A%20%20%20%20%20%20%20%20%20%20%20%20%29.addTo%28feature_group_afbe6df8634c45ce8016cbfe2805361f%29%3B%0A%20%20%20%20%20%20%20%20%0A%20%20%20%20%0A%20%20%20%20%20%20%20%20var%20marker_08bdec69f2c44fd6a456f376156905f3%20%3D%20L.marker%28%0A%20%20%20%20%20%20%20%20%20%20%20%20%5B41.68333%2C%20-3.8%5D%2C%0A%20%20%20%20%20%20%20%20%20%20%20%20%7B%0A%20%20%20%20%20%20%20%20%20%20%20%20%20%20%20%20icon%3A%20new%20L.Icon.Default%28%29%2C%0A%20%20%20%20%20%20%20%20%20%20%20%20%20%20%20%20%7D%0A%20%20%20%20%20%20%20%20%20%20%20%20%29.addTo%28feature_group_afbe6df8634c45ce8016cbfe2805361f%29%3B%0A%20%20%20%20%20%20%20%20%0A%20%20%20%20%0A%20%20%20%20%20%20%20%20var%20marker_138bf3eac4144da384d4b7e56bbcf2c7%20%3D%20L.marker%28%0A%20%20%20%20%20%20%20%20%20%20%20%20%5B52.21667%2C%2011.25%5D%2C%0A%20%20%20%20%20%20%20%20%20%20%20%20%7B%0A%20%20%20%20%20%20%20%20%20%20%20%20%20%20%20%20icon%3A%20new%20L.Icon.Default%28%29%2C%0A%20%20%20%20%20%20%20%20%20%20%20%20%20%20%20%20%7D%0A%20%20%20%20%20%20%20%20%20%20%20%20%29.addTo%28feature_group_afbe6df8634c45ce8016cbfe2805361f%29%3B%0A%20%20%20%20%20%20%20%20%0A%20%20%20%20%0A%20%20%20%20%20%20%20%20var%20marker_6aae5a0c337042d795211f37eda5313b%20%3D%20L.marker%28%0A%20%20%20%20%20%20%20%20%20%20%20%20%5B43.6%2C%201.4%5D%2C%0A%20%20%20%20%20%20%20%20%20%20%20%20%7B%0A%20%20%20%20%20%20%20%20%20%20%20%20%20%20%20%20icon%3A%20new%20L.Icon.Default%28%29%2C%0A%20%20%20%20%20%20%20%20%20%20%20%20%20%20%20%20%7D%0A%20%20%20%20%20%20%20%20%20%20%20%20%29.addTo%28feature_group_afbe6df8634c45ce8016cbfe2805361f%29%3B%0A%20%20%20%20%20%20%20%20%0A%20%20%20%20%0A%20%20%20%20%20%20%20%20var%20marker_6f3cff00da434decac71334d9d2eba47%20%3D%20L.marker%28%0A%20%20%20%20%20%20%20%20%20%20%20%20%5B55.46666999999999%2C%2035.86667%5D%2C%0A%20%20%20%20%20%20%20%20%20%20%20%20%7B%0A%20%20%20%20%20%20%20%20%20%20%20%20%20%20%20%20icon%3A%20new%20L.Icon.Default%28%29%2C%0A%20%20%20%20%20%20%20%20%20%20%20%20%20%20%20%20%7D%0A%20%20%20%20%20%20%20%20%20%20%20%20%29.addTo%28feature_group_afbe6df8634c45ce8016cbfe2805361f%29%3B%0A%20%20%20%20%20%20%20%20%0A%20%20%20%20%0A%20%20%20%20%20%20%20%20var%20marker_e90e775f05c84cd78db0922ded1ad44c%20%3D%20L.marker%28%0A%20%20%20%20%20%20%20%20%20%20%20%20%5B46.68333%2C%201.05%5D%2C%0A%20%20%20%20%20%20%20%20%20%20%20%20%7B%0A%20%20%20%20%20%20%20%20%20%20%20%20%20%20%20%20icon%3A%20new%20L.Icon.Default%28%29%2C%0A%20%20%20%20%20%20%20%20%20%20%20%20%20%20%20%20%7D%0A%20%20%20%20%20%20%20%20%20%20%20%20%29.addTo%28feature_group_afbe6df8634c45ce8016cbfe2805361f%29%3B%0A%20%20%20%20%20%20%20%20%0A%20%20%20%20%0A%20%20%20%20%20%20%20%20var%20marker_c8e306f209fb40ada34ad056292f2e87%20%3D%20L.marker%28%0A%20%20%20%20%20%20%20%20%20%20%20%20%5B52.566669999999995%2C%20-8.78333%5D%2C%0A%20%20%20%20%20%20%20%20%20%20%20%20%7B%0A%20%20%20%20%20%20%20%20%20%20%20%20%20%20%20%20icon%3A%20new%20L.Icon.Default%28%29%2C%0A%20%20%20%20%20%20%20%20%20%20%20%20%20%20%20%20%7D%0A%20%20%20%20%20%20%20%20%20%20%20%20%29.addTo%28feature_group_afbe6df8634c45ce8016cbfe2805361f%29%3B%0A%20%20%20%20%20%20%20%20%0A%20%20%20%20%0A%20%20%20%20%20%20%20%20var%20marker_72b57ccb34b04f87a36ced07b15dd557%20%3D%20L.marker%28%0A%20%20%20%20%20%20%20%20%20%20%20%20%5B61.2%2C%2027.7%5D%2C%0A%20%20%20%20%20%20%20%20%20%20%20%20%7B%0A%20%20%20%20%20%20%20%20%20%20%20%20%20%20%20%20icon%3A%20new%20L.Icon.Default%28%29%2C%0A%20%20%20%20%20%20%20%20%20%20%20%20%20%20%20%20%7D%0A%20%20%20%20%20%20%20%20%20%20%20%20%29.addTo%28feature_group_afbe6df8634c45ce8016cbfe2805361f%29%3B%0A%20%20%20%20%20%20%20%20%0A%20%20%20%20%0A%20%20%20%20%20%20%20%20var%20marker_e052a35170004671ba92f1050012b3da%20%3D%20L.marker%28%0A%20%20%20%20%20%20%20%20%20%20%20%20%5B48.6%2C%2038.0%5D%2C%0A%20%20%20%20%20%20%20%20%20%20%20%20%7B%0A%20%20%20%20%20%20%20%20%20%20%20%20%20%20%20%20icon%3A%20new%20L.Icon.Default%28%29%2C%0A%20%20%20%20%20%20%20%20%20%20%20%20%20%20%20%20%7D%0A%20%20%20%20%20%20%20%20%20%20%20%20%29.addTo%28feature_group_afbe6df8634c45ce8016cbfe2805361f%29%3B%0A%20%20%20%20%20%20%20%20%0A%20%20%20%20%0A%20%20%20%20%20%20%20%20var%20marker_8b0e1d7dfc4548cc8fe9a761cd65efd3%20%3D%20L.marker%28%0A%20%20%20%20%20%20%20%20%20%20%20%20%5B13.78333%2C%2078.56667%5D%2C%0A%20%20%20%20%20%20%20%20%20%20%20%20%7B%0A%20%20%20%20%20%20%20%20%20%20%20%20%20%20%20%20icon%3A%20new%20L.Icon.Default%28%29%2C%0A%20%20%20%20%20%20%20%20%20%20%20%20%20%20%20%20%7D%0A%20%20%20%20%20%20%20%20%20%20%20%20%29.addTo%28feature_group_afbe6df8634c45ce8016cbfe2805361f%29%3B%0A%20%20%20%20%20%20%20%20%0A%20%20%20%20%0A%20%20%20%20%20%20%20%20var%20marker_4093ba6ef33c4315b5d258adb86ca674%20%3D%20L.marker%28%0A%20%20%20%20%20%20%20%20%20%20%20%20%5B49.0%2C%2021.0%5D%2C%0A%20%20%20%20%20%20%20%20%20%20%20%20%7B%0A%20%20%20%20%20%20%20%20%20%20%20%20%20%20%20%20icon%3A%20new%20L.Icon.Default%28%29%2C%0A%20%20%20%20%20%20%20%20%20%20%20%20%20%20%20%20%7D%0A%20%20%20%20%20%20%20%20%20%20%20%20%29.addTo%28feature_group_afbe6df8634c45ce8016cbfe2805361f%29%3B%0A%20%20%20%20%20%20%20%20%0A%20%20%20%20%0A%20%20%20%20%20%20%20%20var%20marker_0869440e64dc4d7aab27e6d20ddb103b%20%3D%20L.marker%28%0A%20%20%20%20%20%20%20%20%20%20%20%20%5B25.366670000000003%2C%2081.66667%5D%2C%0A%20%20%20%20%20%20%20%20%20%20%20%20%7B%0A%20%20%20%20%20%20%20%20%20%20%20%20%20%20%20%20icon%3A%20new%20L.Icon.Default%28%29%2C%0A%20%20%20%20%20%20%20%20%20%20%20%20%20%20%20%20%7D%0A%20%20%20%20%20%20%20%20%20%20%20%20%29.addTo%28feature_group_afbe6df8634c45ce8016cbfe2805361f%29%3B%0A%20%20%20%20%20%20%20%20%0A%20%20%20%20%0A%20%20%20%20%20%20%20%20var%20marker_f67afa84ec5a48b09478016c854d2e07%20%3D%20L.marker%28%0A%20%20%20%20%20%20%20%20%20%20%20%20%5B44.21667%2C%200.6166699999999999%5D%2C%0A%20%20%20%20%20%20%20%20%20%20%20%20%7B%0A%20%20%20%20%20%20%20%20%20%20%20%20%20%20%20%20icon%3A%20new%20L.Icon.Default%28%29%2C%0A%20%20%20%20%20%20%20%20%20%20%20%20%20%20%20%20%7D%0A%20%20%20%20%20%20%20%20%20%20%20%20%29.addTo%28feature_group_afbe6df8634c45ce8016cbfe2805361f%29%3B%0A%20%20%20%20%20%20%20%20%0A%20%20%20%20%0A%20%20%20%20%20%20%20%20var%20marker_a9176d94badd45efa0d66065f8ac2431%20%3D%20L.marker%28%0A%20%20%20%20%20%20%20%20%20%20%20%20%5B30.3%2C%2076.63333%5D%2C%0A%20%20%20%20%20%20%20%20%20%20%20%20%7B%0A%20%20%20%20%20%20%20%20%20%20%20%20%20%20%20%20icon%3A%20new%20L.Icon.Default%28%29%2C%0A%20%20%20%20%20%20%20%20%20%20%20%20%20%20%20%20%7D%0A%20%20%20%20%20%20%20%20%20%20%20%20%29.addTo%28feature_group_afbe6df8634c45ce8016cbfe2805361f%29%3B%0A%20%20%20%20%20%20%20%20%0A%20%20%20%20%0A%20%20%20%20%20%20%20%20var%20marker_ead3a171fbd24ffca558802f3888f575%20%3D%20L.marker%28%0A%20%20%20%20%20%20%20%20%20%20%20%20%5B47.71667%2C%205.36667%5D%2C%0A%20%20%20%20%20%20%20%20%20%20%20%20%7B%0A%20%20%20%20%20%20%20%20%20%20%20%20%20%20%20%20icon%3A%20new%20L.Icon.Default%28%29%2C%0A%20%20%20%20%20%20%20%20%20%20%20%20%20%20%20%20%7D%0A%20%20%20%20%20%20%20%20%20%20%20%20%29.addTo%28feature_group_afbe6df8634c45ce8016cbfe2805361f%29%3B%0A%20%20%20%20%20%20%20%20%0A%20%20%20%20%0A%20%20%20%20%20%20%20%20var%20marker_b973ffbbe4e94a8d8002c16f15ce13be%20%3D%20L.marker%28%0A%20%20%20%20%20%20%20%20%20%20%20%20%5B35.65%2C%20139.33333000000002%5D%2C%0A%20%20%20%20%20%20%20%20%20%20%20%20%7B%0A%20%20%20%20%20%20%20%20%20%20%20%20%20%20%20%20icon%3A%20new%20L.Icon.Default%28%29%2C%0A%20%20%20%20%20%20%20%20%20%20%20%20%20%20%20%20%7D%0A%20%20%20%20%20%20%20%20%20%20%20%20%29.addTo%28feature_group_afbe6df8634c45ce8016cbfe2805361f%29%3B%0A%20%20%20%20%20%20%20%20%0A%20%20%20%20%0A%20%20%20%20%20%20%20%20var%20marker_583cbf7a9ab945b5a7f4b629d7fce0d0%20%3D%20L.marker%28%0A%20%20%20%20%20%20%20%20%20%20%20%20%5B50.28333%2C%2027.683329999999998%5D%2C%0A%20%20%20%20%20%20%20%20%20%20%20%20%7B%0A%20%20%20%20%20%20%20%20%20%20%20%20%20%20%20%20icon%3A%20new%20L.Icon.Default%28%29%2C%0A%20%20%20%20%20%20%20%20%20%20%20%20%20%20%20%20%7D%0A%20%20%20%20%20%20%20%20%20%20%20%20%29.addTo%28feature_group_afbe6df8634c45ce8016cbfe2805361f%29%3B%0A%20%20%20%20%20%20%20%20%0A%20%20%20%20%0A%20%20%20%20%20%20%20%20var%20marker_fd96c4893a8245cc997820563b1d4dc8%20%3D%20L.marker%28%0A%20%20%20%20%20%20%20%20%20%20%20%20%5B43.2%2C%20-78.8%5D%2C%0A%20%20%20%20%20%20%20%20%20%20%20%20%7B%0A%20%20%20%20%20%20%20%20%20%20%20%20%20%20%20%20icon%3A%20new%20L.Icon.Default%28%29%2C%0A%20%20%20%20%20%20%20%20%20%20%20%20%20%20%20%20%7D%0A%20%20%20%20%20%20%20%20%20%20%20%20%29.addTo%28feature_group_afbe6df8634c45ce8016cbfe2805361f%29%3B%0A%20%20%20%20%20%20%20%20%0A%20%20%20%20%0A%20%20%20%20%20%20%20%20var%20marker_9161d4eb038a43b985db00074b624ba0%20%3D%20L.marker%28%0A%20%20%20%20%20%20%20%20%20%20%20%20%5B41.05%2C%2023.566670000000002%5D%2C%0A%20%20%20%20%20%20%20%20%20%20%20%20%7B%0A%20%20%20%20%20%20%20%20%20%20%20%20%20%20%20%20icon%3A%20new%20L.Icon.Default%28%29%2C%0A%20%20%20%20%20%20%20%20%20%20%20%20%20%20%20%20%7D%0A%20%20%20%20%20%20%20%20%20%20%20%20%29.addTo%28feature_group_afbe6df8634c45ce8016cbfe2805361f%29%3B%0A%20%20%20%20%20%20%20%20%0A%20%20%20%20%0A%20%20%20%20%20%20%20%20var%20marker_66755dd9e1504088864584b6cce6d591%20%3D%20L.marker%28%0A%20%20%20%20%20%20%20%20%20%20%20%20%5B55.0%2C%2035.0%5D%2C%0A%20%20%20%20%20%20%20%20%20%20%20%20%7B%0A%20%20%20%20%20%20%20%20%20%20%20%20%20%20%20%20icon%3A%20new%20L.Icon.Default%28%29%2C%0A%20%20%20%20%20%20%20%20%20%20%20%20%20%20%20%20%7D%0A%20%20%20%20%20%20%20%20%20%20%20%20%29.addTo%28feature_group_afbe6df8634c45ce8016cbfe2805361f%29%3B%0A%20%20%20%20%20%20%20%20%0A%20%20%20%20%0A%20%20%20%20%20%20%20%20var%20marker_742419ff24644947b42e629a42b6df77%20%3D%20L.marker%28%0A%20%20%20%20%20%20%20%20%20%20%20%20%5B76.13333%2C%20-64.93333%5D%2C%0A%20%20%20%20%20%20%20%20%20%20%20%20%7B%0A%20%20%20%20%20%20%20%20%20%20%20%20%20%20%20%20icon%3A%20new%20L.Icon.Default%28%29%2C%0A%20%20%20%20%20%20%20%20%20%20%20%20%20%20%20%20%7D%0A%20%20%20%20%20%20%20%20%20%20%20%20%29.addTo%28feature_group_afbe6df8634c45ce8016cbfe2805361f%29%3B%0A%20%20%20%20%20%20%20%20%0A%20%20%20%20%0A%20%20%20%20%20%20%20%20var%20marker_5d958fb961064bf692cb675c914349e5%20%3D%20L.marker%28%0A%20%20%20%20%20%20%20%20%20%20%20%20%5B50.93333%2C%2012.13333%5D%2C%0A%20%20%20%20%20%20%20%20%20%20%20%20%7B%0A%20%20%20%20%20%20%20%20%20%20%20%20%20%20%20%20icon%3A%20new%20L.Icon.Default%28%29%2C%0A%20%20%20%20%20%20%20%20%20%20%20%20%20%20%20%20%7D%0A%20%20%20%20%20%20%20%20%20%20%20%20%29.addTo%28feature_group_afbe6df8634c45ce8016cbfe2805361f%29%3B%0A%20%20%20%20%20%20%20%20%0A%20%20%20%20%0A%20%20%20%20%20%20%20%20var%20marker_5b941f980f0c4c45bf3b3af36fa553ad%20%3D%20L.marker%28%0A%20%20%20%20%20%20%20%20%20%20%20%20%5B45.43333%2C%20-0.45%5D%2C%0A%20%20%20%20%20%20%20%20%20%20%20%20%7B%0A%20%20%20%20%20%20%20%20%20%20%20%20%20%20%20%20icon%3A%20new%20L.Icon.Default%28%29%2C%0A%20%20%20%20%20%20%20%20%20%20%20%20%20%20%20%20%7D%0A%20%20%20%20%20%20%20%20%20%20%20%20%29.addTo%28feature_group_afbe6df8634c45ce8016cbfe2805361f%29%3B%0A%20%20%20%20%20%20%20%20%0A%20%20%20%20%0A%20%20%20%20%20%20%20%20var%20marker_42d0c1ac68b1435db07a7c0b450943b5%20%3D%20L.marker%28%0A%20%20%20%20%20%20%20%20%20%20%20%20%5B42.75%2C%20-75.18333%5D%2C%0A%20%20%20%20%20%20%20%20%20%20%20%20%7B%0A%20%20%20%20%20%20%20%20%20%20%20%20%20%20%20%20icon%3A%20new%20L.Icon.Default%28%29%2C%0A%20%20%20%20%20%20%20%20%20%20%20%20%20%20%20%20%7D%0A%20%20%20%20%20%20%20%20%20%20%20%20%29.addTo%28feature_group_afbe6df8634c45ce8016cbfe2805361f%29%3B%0A%20%20%20%20%20%20%20%20%0A%20%20%20%20%0A%20%20%20%20%20%20%20%20var%20marker_3d81688ae4e14691badf79e5546d3378%20%3D%20L.marker%28%0A%20%20%20%20%20%20%20%20%20%20%20%20%5B56.0%2C%2026.433329999999998%5D%2C%0A%20%20%20%20%20%20%20%20%20%20%20%20%7B%0A%20%20%20%20%20%20%20%20%20%20%20%20%20%20%20%20icon%3A%20new%20L.Icon.Default%28%29%2C%0A%20%20%20%20%20%20%20%20%20%20%20%20%20%20%20%20%7D%0A%20%20%20%20%20%20%20%20%20%20%20%20%29.addTo%28feature_group_afbe6df8634c45ce8016cbfe2805361f%29%3B%0A%20%20%20%20%20%20%20%20%0A%3C/script%3E onload=\"this.contentDocument.open();this.contentDocument.write(    decodeURIComponent(this.getAttribute('data-html')));this.contentDocument.close();\" allowfullscreen webkitallowfullscreen mozallowfullscreen></iframe></div></div>"
      ],
      "text/plain": [
       "<folium.folium.Map at 0x7fb6d1a39250>"
      ]
     },
     "execution_count": 95,
     "metadata": {
      "tags": []
     },
     "output_type": "execute_result"
    }
   ],
   "source": [
    "met.add_child(metf)"
   ]
  },
  {
   "cell_type": "code",
   "execution_count": null,
   "metadata": {
    "id": "ippBR5goL24X"
   },
   "outputs": [],
   "source": []
  }
 ],
 "metadata": {
  "colab": {
   "collapsed_sections": [],
   "name": "Meteorite.ipynb",
   "provenance": []
  },
  "kernelspec": {
   "display_name": "Python 3",
   "language": "python",
   "name": "python3"
  },
  "language_info": {
   "codemirror_mode": {
    "name": "ipython",
    "version": 3
   },
   "file_extension": ".py",
   "mimetype": "text/x-python",
   "name": "python",
   "nbconvert_exporter": "python",
   "pygments_lexer": "ipython3",
   "version": "3.8.1"
  }
 },
 "nbformat": 4,
 "nbformat_minor": 1
}
