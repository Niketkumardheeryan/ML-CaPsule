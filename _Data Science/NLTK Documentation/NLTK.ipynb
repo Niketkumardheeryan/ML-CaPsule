{
  "cells": [
    {
      "cell_type": "markdown",
      "metadata": {},
      "source": [
        "## NLTK : A NATURAL LANGUAGE PROCESSING TOOLKIT"
      ]
    },
    {
      "cell_type": "code",
      "execution_count": 1,
      "metadata": {
        "id": "dTmY4IOrS5Tf"
      },
      "outputs": [],
      "source": [
        "import nltk"
      ]
    },
    {
      "cell_type": "markdown",
      "metadata": {},
      "source": [
        "#### TOKENIZING"
      ]
    },
    {
      "cell_type": "markdown",
      "metadata": {},
      "source": [
        "Here’s how to import the relevant parts of NLTK so you can tokenize by word and by sentence:"
      ]
    },
    {
      "cell_type": "code",
      "execution_count": 2,
      "metadata": {
        "colab": {
          "base_uri": "https://localhost:8080/"
        },
        "id": "rjMlgHAzTUku",
        "outputId": "52ff17df-56e9-42d0-8a3c-6e8a74f158db"
      },
      "outputs": [
        {
          "name": "stdout",
          "output_type": "stream",
          "text": [
            "[nltk_data] Downloading package punkt to /root/nltk_data...\n",
            "[nltk_data]   Unzipping tokenizers/punkt.zip.\n"
          ]
        },
        {
          "data": {
            "text/plain": [
              "True"
            ]
          },
          "execution_count": 2,
          "metadata": {},
          "output_type": "execute_result"
        }
      ],
      "source": [
        "nltk.download('punkt')"
      ]
    },
    {
      "cell_type": "code",
      "execution_count": 3,
      "metadata": {
        "id": "yOIrTYudS-IV"
      },
      "outputs": [],
      "source": [
        "sentence = \"ML-Capsule is a github repo that shows a good collection of Machine learning with python and data science with algorithms,projects,explanations from basic to advance level.\""
      ]
    },
    {
      "cell_type": "code",
      "execution_count": 4,
      "metadata": {
        "id": "PoLkv2d_TGF8"
      },
      "outputs": [],
      "source": [
        "# Tokenization\n",
        "tokens = nltk.word_tokenize(sentence)"
      ]
    },
    {
      "cell_type": "code",
      "execution_count": 5,
      "metadata": {
        "colab": {
          "base_uri": "https://localhost:8080/"
        },
        "id": "jU3JR-2tTYO_",
        "outputId": "95a1927e-a17c-43be-bbc6-e1911763773f"
      },
      "outputs": [
        {
          "data": {
            "text/plain": [
              "['ML-Capsule',\n",
              " 'is',\n",
              " 'a',\n",
              " 'github',\n",
              " 'repo',\n",
              " 'that',\n",
              " 'shows',\n",
              " 'a',\n",
              " 'good',\n",
              " 'collection',\n",
              " 'of',\n",
              " 'Machine',\n",
              " 'learning',\n",
              " 'with',\n",
              " 'python',\n",
              " 'and',\n",
              " 'data',\n",
              " 'science',\n",
              " 'with',\n",
              " 'algorithms',\n",
              " ',',\n",
              " 'projects',\n",
              " ',',\n",
              " 'explanations',\n",
              " 'from',\n",
              " 'basic',\n",
              " 'to',\n",
              " 'advance',\n",
              " 'level',\n",
              " '.']"
            ]
          },
          "execution_count": 5,
          "metadata": {},
          "output_type": "execute_result"
        }
      ],
      "source": [
        "tokens"
      ]
    },
    {
      "cell_type": "markdown",
      "metadata": {},
      "source": [
        "#### POS TAGGING"
      ]
    },
    {
      "cell_type": "markdown",
      "metadata": {},
      "source": [
        "Here’s how to import the relevant parts of NLTK in order to tag parts of speech:"
      ]
    },
    {
      "cell_type": "code",
      "execution_count": 6,
      "metadata": {
        "colab": {
          "base_uri": "https://localhost:8080/"
        },
        "id": "AJk8t7BOT3Ye",
        "outputId": "4ba84d58-5198-4d24-f68f-c1d4e581d8fe"
      },
      "outputs": [
        {
          "name": "stdout",
          "output_type": "stream",
          "text": [
            "[nltk_data] Downloading package averaged_perceptron_tagger to\n",
            "[nltk_data]     /root/nltk_data...\n",
            "[nltk_data]   Unzipping taggers/averaged_perceptron_tagger.zip.\n"
          ]
        },
        {
          "data": {
            "text/plain": [
              "True"
            ]
          },
          "execution_count": 6,
          "metadata": {},
          "output_type": "execute_result"
        }
      ],
      "source": [
        "nltk.download('averaged_perceptron_tagger')"
      ]
    },
    {
      "cell_type": "code",
      "execution_count": 7,
      "metadata": {
        "id": "X4vpiwHqTu0Z"
      },
      "outputs": [],
      "source": [
        "# POS Tagging\n",
        "tagged = nltk.pos_tag(tokens)"
      ]
    },
    {
      "cell_type": "code",
      "execution_count": 8,
      "metadata": {
        "colab": {
          "base_uri": "https://localhost:8080/"
        },
        "id": "GxQRqJhKT6If",
        "outputId": "9831fe9a-2bee-4f38-9de9-63281d3d2ba8"
      },
      "outputs": [
        {
          "data": {
            "text/plain": [
              "[('ML-Capsule', 'NN'),\n",
              " ('is', 'VBZ'),\n",
              " ('a', 'DT'),\n",
              " ('github', 'NN'),\n",
              " ('repo', 'NN'),\n",
              " ('that', 'WDT')]"
            ]
          },
          "execution_count": 8,
          "metadata": {},
          "output_type": "execute_result"
        }
      ],
      "source": [
        "tagged[0:6]"
      ]
    },
    {
      "cell_type": "markdown",
      "metadata": {},
      "source": [
        "#### Named Entity Recognition (NER)"
      ]
    },
    {
      "cell_type": "markdown",
      "metadata": {},
      "source": [
        "With named entity recognition, you can find the named entities in your texts and also determine what kind of named entity they are.You can use nltk.ne_chunk() to recognize named entities. "
      ]
    },
    {
      "cell_type": "code",
      "execution_count": 9,
      "metadata": {
        "colab": {
          "base_uri": "https://localhost:8080/"
        },
        "id": "p5JNZcy4UG_v",
        "outputId": "e0b8029c-2291-47d4-fb97-3bfb7a622fa0"
      },
      "outputs": [
        {
          "name": "stdout",
          "output_type": "stream",
          "text": [
            "[nltk_data] Downloading package maxent_ne_chunker to\n",
            "[nltk_data]     /root/nltk_data...\n",
            "[nltk_data]   Unzipping chunkers/maxent_ne_chunker.zip.\n"
          ]
        },
        {
          "data": {
            "text/plain": [
              "True"
            ]
          },
          "execution_count": 9,
          "metadata": {},
          "output_type": "execute_result"
        }
      ],
      "source": [
        "nltk.download('maxent_ne_chunker')"
      ]
    },
    {
      "cell_type": "code",
      "execution_count": 10,
      "metadata": {
        "colab": {
          "base_uri": "https://localhost:8080/"
        },
        "id": "SlajbwZrUK3m",
        "outputId": "461906f9-d3cb-4c54-9ea5-41e4c6598962"
      },
      "outputs": [
        {
          "name": "stdout",
          "output_type": "stream",
          "text": [
            "[nltk_data] Downloading package words to /root/nltk_data...\n",
            "[nltk_data]   Unzipping corpora/words.zip.\n"
          ]
        },
        {
          "data": {
            "text/plain": [
              "True"
            ]
          },
          "execution_count": 10,
          "metadata": {},
          "output_type": "execute_result"
        }
      ],
      "source": [
        "nltk.download('words')"
      ]
    },
    {
      "cell_type": "code",
      "execution_count": 11,
      "metadata": {
        "id": "S6rKeHYlT_e2"
      },
      "outputs": [],
      "source": [
        "# Extracting all types of entities\n",
        "entities = nltk.chunk.ne_chunk(tagged)"
      ]
    },
    {
      "cell_type": "code",
      "execution_count": 12,
      "metadata": {
        "colab": {
          "base_uri": "https://localhost:8080/"
        },
        "id": "9Qa62m02UR-5",
        "outputId": "7e1e6c47-59c5-49b8-83a7-52cd85e92d88"
      },
      "outputs": [
        {
          "name": "stdout",
          "output_type": "stream",
          "text": [
            "(S\n",
            "  ML-Capsule/NN\n",
            "  is/VBZ\n",
            "  a/DT\n",
            "  github/NN\n",
            "  repo/NN\n",
            "  that/WDT\n",
            "  shows/VBZ\n",
            "  a/DT\n",
            "  good/JJ\n",
            "  collection/NN\n",
            "  of/IN\n",
            "  (GPE Machine/NNP)\n",
            "  learning/VBG\n",
            "  with/IN\n",
            "  python/NN\n",
            "  and/CC\n",
            "  data/NNS\n",
            "  science/NN\n",
            "  with/IN\n",
            "  algorithms/NN\n",
            "  ,/,\n",
            "  projects/NNS\n",
            "  ,/,\n",
            "  explanations/NNS\n",
            "  from/IN\n",
            "  basic/JJ\n",
            "  to/TO\n",
            "  advance/VB\n",
            "  level/NN\n",
            "  ./.)\n"
          ]
        }
      ],
      "source": [
        "print(entities)"
      ]
    },
    {
      "cell_type": "markdown",
      "metadata": {},
      "source": [
        "#### LOWER CASE CONVERSION"
      ]
    },
    {
      "cell_type": "markdown",
      "metadata": {},
      "source": [
        "Here’s how to import the relevant libraries to convert each word in a sentence into lowercase:"
      ]
    },
    {
      "cell_type": "code",
      "execution_count": 18,
      "metadata": {
        "id": "aDVzq9HaRxMt"
      },
      "outputs": [],
      "source": [
        "import re"
      ]
    },
    {
      "cell_type": "code",
      "execution_count": 19,
      "metadata": {
        "colab": {
          "base_uri": "https://localhost:8080/"
        },
        "id": "JTpUatF2RtQN",
        "outputId": "d08fe1cf-df1d-4012-eaa8-7f29584ee98a"
      },
      "outputs": [
        {
          "name": "stdout",
          "output_type": "stream",
          "text": [
            "['ml', 'capsule', 'is', 'a', 'github', 'repo', 'that', 'shows', 'a', 'good', 'collection', 'of', 'machine', 'learning', 'with', 'python', 'and', 'data', 'science', 'with', 'algorithms', 'projects', 'explanations', 'from', 'basic', 'to', 'advance', 'level']\n"
          ]
        }
      ],
      "source": [
        "# Lower case conversion --- helps to avoid redundancy in token list\n",
        "text = re.sub(r\"[^a-zA-Z0-9]\", \" \", sentence.lower())\n",
        "words = text.split()\n",
        "print(words)"
      ]
    },
    {
      "cell_type": "markdown",
      "metadata": {},
      "source": [
        "#### REMOVAL OF STOPWORDS"
      ]
    },
    {
      "cell_type": "markdown",
      "metadata": {},
      "source": [
        "Here’s how to import the relevant parts of NLTK in order to filter out stop words:"
      ]
    },
    {
      "cell_type": "code",
      "execution_count": 23,
      "metadata": {
        "colab": {
          "base_uri": "https://localhost:8080/"
        },
        "id": "ynSQ9Jc9R8i1",
        "outputId": "8591e402-7b00-455b-f517-f67ffb1da909"
      },
      "outputs": [
        {
          "name": "stdout",
          "output_type": "stream",
          "text": [
            "[nltk_data] Downloading package stopwords to /root/nltk_data...\n",
            "[nltk_data]   Unzipping corpora/stopwords.zip.\n"
          ]
        },
        {
          "data": {
            "text/plain": [
              "True"
            ]
          },
          "execution_count": 23,
          "metadata": {},
          "output_type": "execute_result"
        }
      ],
      "source": [
        "nltk.download('stopwords')"
      ]
    },
    {
      "cell_type": "code",
      "execution_count": 24,
      "metadata": {
        "colab": {
          "base_uri": "https://localhost:8080/"
        },
        "id": "qP-tVjxjR0Ql",
        "outputId": "84af8f10-1d25-4ef9-a531-8600e5690d1e"
      },
      "outputs": [
        {
          "name": "stdout",
          "output_type": "stream",
          "text": [
            "['i', 'me', 'my', 'myself', 'we', 'our', 'ours', 'ourselves', 'you', \"you're\", \"you've\", \"you'll\", \"you'd\", 'your', 'yours', 'yourself', 'yourselves', 'he', 'him', 'his', 'himself', 'she', \"she's\", 'her', 'hers', 'herself', 'it', \"it's\", 'its', 'itself', 'they', 'them', 'their', 'theirs', 'themselves', 'what', 'which', 'who', 'whom', 'this', 'that', \"that'll\", 'these', 'those', 'am', 'is', 'are', 'was', 'were', 'be', 'been', 'being', 'have', 'has', 'had', 'having', 'do', 'does', 'did', 'doing', 'a', 'an', 'the', 'and', 'but', 'if', 'or', 'because', 'as', 'until', 'while', 'of', 'at', 'by', 'for', 'with', 'about', 'against', 'between', 'into', 'through', 'during', 'before', 'after', 'above', 'below', 'to', 'from', 'up', 'down', 'in', 'out', 'on', 'off', 'over', 'under', 'again', 'further', 'then', 'once', 'here', 'there', 'when', 'where', 'why', 'how', 'all', 'any', 'both', 'each', 'few', 'more', 'most', 'other', 'some', 'such', 'no', 'nor', 'not', 'only', 'own', 'same', 'so', 'than', 'too', 'very', 's', 't', 'can', 'will', 'just', 'don', \"don't\", 'should', \"should've\", 'now', 'd', 'll', 'm', 'o', 're', 've', 'y', 'ain', 'aren', \"aren't\", 'couldn', \"couldn't\", 'didn', \"didn't\", 'doesn', \"doesn't\", 'hadn', \"hadn't\", 'hasn', \"hasn't\", 'haven', \"haven't\", 'isn', \"isn't\", 'ma', 'mightn', \"mightn't\", 'mustn', \"mustn't\", 'needn', \"needn't\", 'shan', \"shan't\", 'shouldn', \"shouldn't\", 'wasn', \"wasn't\", 'weren', \"weren't\", 'won', \"won't\", 'wouldn', \"wouldn't\"]\n"
          ]
        }
      ],
      "source": [
        "# All stopwords in English\n",
        "print(stopwords.words(\"english\"))"
      ]
    },
    {
      "cell_type": "code",
      "execution_count": 26,
      "metadata": {
        "colab": {
          "base_uri": "https://localhost:8080/"
        },
        "id": "WxTiu2QmSOcU",
        "outputId": "060a5434-5be1-466b-a908-ebfd63652d6f"
      },
      "outputs": [
        {
          "name": "stdout",
          "output_type": "stream",
          "text": [
            "['ml', 'capsule', 'github', 'repo', 'shows', 'good', 'collection', 'machine', 'learning', 'python', 'data', 'science', 'algorithms', 'projects', 'explanations', 'basic', 'advance', 'level']\n"
          ]
        }
      ],
      "source": [
        "# Stopwords Removal\n",
        "words = [w for w in words if w not in stopwords.words(\"english\")]\n",
        "print(words)"
      ]
    },
    {
      "cell_type": "markdown",
      "metadata": {},
      "source": [
        "#### STEMMING"
      ]
    },
    {
      "cell_type": "markdown",
      "metadata": {},
      "source": [
        "Here’s how to import the relevant parts of NLTK in order to start stemming.After importing, you can create a stemmer with PorterStemmer()."
      ]
    },
    {
      "cell_type": "code",
      "execution_count": 27,
      "metadata": {
        "colab": {
          "base_uri": "https://localhost:8080/"
        },
        "id": "4PrjxQ3USXQV",
        "outputId": "3589e7ea-92f7-4bcf-ae34-d3f19dfd91c5"
      },
      "outputs": [
        {
          "name": "stdout",
          "output_type": "stream",
          "text": [
            "['ml', 'capsul', 'github', 'repo', 'show', 'good', 'collect', 'machin', 'learn', 'python', 'data', 'scienc', 'algorithm', 'project', 'explan', 'basic', 'advanc', 'level']\n"
          ]
        }
      ],
      "source": [
        "# Stemming\n",
        "from nltk.stem.porter import PorterStemmer\n",
        "# Reduce words to their stems\n",
        "stemmed = [PorterStemmer().stem(w) for w in words]\n",
        "print(stemmed)"
      ]
    },
    {
      "cell_type": "markdown",
      "metadata": {},
      "source": [
        "#### LEMMATIZATION"
      ]
    },
    {
      "cell_type": "markdown",
      "metadata": {},
      "source": [
        "Here’s how to import the relevant parts of NLTK in order to start lemmatizing.After importing, you can create a lemmatizer with WordNetLemmatizer()."
      ]
    },
    {
      "cell_type": "code",
      "execution_count": 29,
      "metadata": {
        "colab": {
          "base_uri": "https://localhost:8080/"
        },
        "id": "Kmt3FFEXSlT0",
        "outputId": "7c06dd3f-d234-44c0-be52-46b1e40f6dba"
      },
      "outputs": [
        {
          "name": "stdout",
          "output_type": "stream",
          "text": [
            "[nltk_data] Downloading package wordnet to /root/nltk_data...\n",
            "[nltk_data]   Unzipping corpora/wordnet.zip.\n"
          ]
        },
        {
          "data": {
            "text/plain": [
              "True"
            ]
          },
          "execution_count": 29,
          "metadata": {},
          "output_type": "execute_result"
        }
      ],
      "source": [
        "nltk.download('wordnet')"
      ]
    },
    {
      "cell_type": "code",
      "execution_count": 30,
      "metadata": {
        "colab": {
          "base_uri": "https://localhost:8080/"
        },
        "id": "ug_I8wBMSd7F",
        "outputId": "607a658b-ef7a-4c58-9de3-878f08538268"
      },
      "outputs": [
        {
          "name": "stdout",
          "output_type": "stream",
          "text": [
            "['ml', 'capsule', 'github', 'repo', 'show', 'good', 'collection', 'machine', 'learning', 'python', 'data', 'science', 'algorithm', 'project', 'explanation', 'basic', 'advance', 'level']\n"
          ]
        }
      ],
      "source": [
        "# Lemmatization\n",
        "from nltk.stem.wordnet import WordNetLemmatizer\n",
        "# Reduce words to their root form\n",
        "lemmed = [WordNetLemmatizer().lemmatize(w) for w in words]\n",
        "print(lemmed)"
      ]
    }
  ],
  "metadata": {
    "colab": {
      "name": "NLTK.ipynb",
      "provenance": []
    },
    "kernelspec": {
      "display_name": "Python 3",
      "name": "python3"
    },
    "language_info": {
      "name": "python"
    }
  },
  "nbformat": 4,
  "nbformat_minor": 0
}
