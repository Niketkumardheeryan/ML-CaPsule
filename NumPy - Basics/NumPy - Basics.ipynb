{
 "cells": [
  {
   "cell_type": "markdown",
   "id": "f9f767e7",
   "metadata": {},
   "source": [
    "# NumPy\n",
    "NumPy is a Python package. It stands for Numerical Python. It provides a high-performance multidimensional array object, and tools for working with these arrays.\n",
    "\n",
    "## What are arrays?\n",
    "A numpy array is a grid of values, all of the same type, and is indexed by a tuple of nonnegative integers. The number of dimensions is the rank of the array; the shape of an array is a tuple of integers giving the size of the array along each dimension."
   ]
  },
  {
   "cell_type": "markdown",
   "id": "84afe665",
   "metadata": {},
   "source": [
    "## Importing NumPy"
   ]
  },
  {
   "cell_type": "code",
   "execution_count": 1,
   "id": "4d38b852",
   "metadata": {},
   "outputs": [],
   "source": [
    "import numpy as np"
   ]
  },
  {
   "cell_type": "markdown",
   "id": "757f5f0c",
   "metadata": {},
   "source": [
    "## The basics"
   ]
  },
  {
   "cell_type": "code",
   "execution_count": 2,
   "id": "684810d6",
   "metadata": {},
   "outputs": [
    {
     "name": "stdout",
     "output_type": "stream",
     "text": [
      "[4 5 7 2 8]\n"
     ]
    }
   ],
   "source": [
    "#creating an array\n",
    "a = np.array([4,5,7,2,8])\n",
    "print(a)"
   ]
  },
  {
   "cell_type": "code",
   "execution_count": 3,
   "id": "95c01a0f",
   "metadata": {},
   "outputs": [
    {
     "data": {
      "text/plain": [
       "1"
      ]
     },
     "execution_count": 3,
     "metadata": {},
     "output_type": "execute_result"
    }
   ],
   "source": [
    "#get dimension\n",
    "a.ndim"
   ]
  },
  {
   "cell_type": "code",
   "execution_count": 4,
   "id": "ff246807",
   "metadata": {},
   "outputs": [
    {
     "data": {
      "text/plain": [
       "(5,)"
      ]
     },
     "execution_count": 4,
     "metadata": {},
     "output_type": "execute_result"
    }
   ],
   "source": [
    "#get shape\n",
    "a.shape"
   ]
  },
  {
   "cell_type": "code",
   "execution_count": 5,
   "id": "4cf047d3",
   "metadata": {},
   "outputs": [
    {
     "data": {
      "text/plain": [
       "dtype('int32')"
      ]
     },
     "execution_count": 5,
     "metadata": {},
     "output_type": "execute_result"
    }
   ],
   "source": [
    "#get data type of elements\n",
    "a.dtype"
   ]
  },
  {
   "cell_type": "code",
   "execution_count": 6,
   "id": "bb10741e",
   "metadata": {},
   "outputs": [
    {
     "data": {
      "text/plain": [
       "5"
      ]
     },
     "execution_count": 6,
     "metadata": {},
     "output_type": "execute_result"
    }
   ],
   "source": [
    "#get number of elements\n",
    "a.size"
   ]
  },
  {
   "cell_type": "markdown",
   "id": "c0af908b",
   "metadata": {},
   "source": [
    "## Converting list to numpy array"
   ]
  },
  {
   "cell_type": "code",
   "execution_count": 7,
   "id": "eb40e2f9",
   "metadata": {},
   "outputs": [],
   "source": [
    "my_list = [4,6,3,8]\n",
    "arr = np.array(my_list)"
   ]
  },
  {
   "cell_type": "code",
   "execution_count": 8,
   "id": "51fa97c1",
   "metadata": {},
   "outputs": [
    {
     "name": "stdout",
     "output_type": "stream",
     "text": [
      "[4 6 3 8]\n"
     ]
    }
   ],
   "source": [
    "print(arr)"
   ]
  },
  {
   "cell_type": "code",
   "execution_count": 9,
   "id": "cf1807c1",
   "metadata": {},
   "outputs": [
    {
     "data": {
      "text/plain": [
       "numpy.ndarray"
      ]
     },
     "execution_count": 9,
     "metadata": {},
     "output_type": "execute_result"
    }
   ],
   "source": [
    "type(arr)"
   ]
  },
  {
   "cell_type": "markdown",
   "id": "133fcb72",
   "metadata": {},
   "source": [
    "## Multi-dimensional array"
   ]
  },
  {
   "cell_type": "code",
   "execution_count": 10,
   "id": "a2f3276d",
   "metadata": {},
   "outputs": [
    {
     "name": "stdout",
     "output_type": "stream",
     "text": [
      "[[1 2 3]\n",
      " [4 5 6]\n",
      " [7 8 9]]\n"
     ]
    }
   ],
   "source": [
    "#creating a multi-dimensional array\n",
    "md_arr = np.array([[1,2,3], [4,5,6], [7,8,9]])\n",
    "print(md_arr)"
   ]
  },
  {
   "cell_type": "markdown",
   "id": "47afafc7",
   "metadata": {},
   "source": [
    "## Accessing/Changing specific elements, rows, columns, etc."
   ]
  },
  {
   "cell_type": "markdown",
   "id": "d9151044",
   "metadata": {},
   "source": [
    "### One dimensional array"
   ]
  },
  {
   "cell_type": "code",
   "execution_count": 11,
   "id": "41356018",
   "metadata": {},
   "outputs": [
    {
     "data": {
      "text/plain": [
       "array([4, 6, 3, 8])"
      ]
     },
     "execution_count": 11,
     "metadata": {},
     "output_type": "execute_result"
    }
   ],
   "source": [
    "arr"
   ]
  },
  {
   "cell_type": "code",
   "execution_count": 12,
   "id": "f9032bfc",
   "metadata": {},
   "outputs": [
    {
     "data": {
      "text/plain": [
       "3"
      ]
     },
     "execution_count": 12,
     "metadata": {},
     "output_type": "execute_result"
    }
   ],
   "source": [
    "#get a specific element\n",
    "arr[2]"
   ]
  },
  {
   "cell_type": "code",
   "execution_count": 13,
   "id": "a5d10c99",
   "metadata": {},
   "outputs": [
    {
     "data": {
      "text/plain": [
       "array([4, 6])"
      ]
     },
     "execution_count": 13,
     "metadata": {},
     "output_type": "execute_result"
    }
   ],
   "source": [
    "#get elements in a range of indices [i1:i2] - i1:inclusive and i2:exclusive\n",
    "arr[0:2]"
   ]
  },
  {
   "cell_type": "markdown",
   "id": "f12f5eda",
   "metadata": {},
   "source": [
    "### Multi-dimensional array"
   ]
  },
  {
   "cell_type": "code",
   "execution_count": 14,
   "id": "1b862570",
   "metadata": {},
   "outputs": [
    {
     "data": {
      "text/plain": [
       "array([[1, 2, 3],\n",
       "       [4, 5, 6],\n",
       "       [7, 8, 9]])"
      ]
     },
     "execution_count": 14,
     "metadata": {},
     "output_type": "execute_result"
    }
   ],
   "source": [
    "md_arr"
   ]
  },
  {
   "cell_type": "markdown",
   "id": "1a203231-f28c-4d9e-a2b2-4f34246fb95d",
   "metadata": {},
   "source": [
    "### Slicing arrays:"
   ]
  },
  {
   "cell_type": "code",
   "execution_count": 15,
   "id": "ccf30da0",
   "metadata": {},
   "outputs": [
    {
     "data": {
      "text/plain": [
       "6"
      ]
     },
     "execution_count": 15,
     "metadata": {},
     "output_type": "execute_result"
    }
   ],
   "source": [
    "#get a specific element [r, c]\n",
    "md_arr[1, 2]"
   ]
  },
  {
   "cell_type": "code",
   "execution_count": 16,
   "id": "549c5bca",
   "metadata": {},
   "outputs": [
    {
     "data": {
      "text/plain": [
       "array([7, 8, 9])"
      ]
     },
     "execution_count": 16,
     "metadata": {},
     "output_type": "execute_result"
    }
   ],
   "source": [
    "#get a specific row\n",
    "md_arr[2,:]"
   ]
  },
  {
   "cell_type": "code",
   "execution_count": 17,
   "id": "3218c148",
   "metadata": {},
   "outputs": [
    {
     "data": {
      "text/plain": [
       "array([2, 5, 8])"
      ]
     },
     "execution_count": 17,
     "metadata": {},
     "output_type": "execute_result"
    }
   ],
   "source": [
    "#get a specific column\n",
    "md_arr[:,1]"
   ]
  },
  {
   "cell_type": "code",
   "execution_count": 18,
   "id": "4c7c5f68",
   "metadata": {},
   "outputs": [
    {
     "name": "stdout",
     "output_type": "stream",
     "text": [
      "[[ 1 10  3]\n",
      " [ 4 10  6]\n",
      " [ 7 10  9]]\n"
     ]
    }
   ],
   "source": [
    "md_arr[0,1] = 15\n",
    "\n",
    "md_arr[:, 1] = [10]\n",
    "print(md_arr)"
   ]
  },
  {
   "cell_type": "markdown",
   "id": "9003f64c-3d8c-429a-9872-16de658ab309",
   "metadata": {},
   "source": [
    "#### Concatenation of arrays"
   ]
  },
  {
   "cell_type": "code",
   "execution_count": 19,
   "id": "08ed59b0-ca59-460f-a6a3-3ffc3be302dc",
   "metadata": {},
   "outputs": [
    {
     "data": {
      "text/plain": [
       "array([1, 2, 3, 3, 2, 1])"
      ]
     },
     "execution_count": 19,
     "metadata": {},
     "output_type": "execute_result"
    }
   ],
   "source": [
    "x = np.array([1,2,3])\n",
    "y = np.array([3,2,1])\n",
    "np.concatenate([x,y])"
   ]
  },
  {
   "cell_type": "markdown",
   "id": "fbca3a78-a928-4abd-83da-785e30d66b98",
   "metadata": {},
   "source": [
    "### Arithmetic Operations"
   ]
  },
  {
   "cell_type": "code",
   "execution_count": 20,
   "id": "33e2aabe-9deb-4c1c-abe7-d2a3a54fcf3f",
   "metadata": {
    "scrolled": true
   },
   "outputs": [
    {
     "data": {
      "text/plain": [
       "array([4, 4, 4])"
      ]
     },
     "execution_count": 20,
     "metadata": {},
     "output_type": "execute_result"
    }
   ],
   "source": [
    "#add two arrays\n",
    "add = np.add(x,y)\n",
    "add"
   ]
  },
  {
   "cell_type": "code",
   "execution_count": 21,
   "id": "0886816d-a4eb-4192-a80b-6fae2bbe8539",
   "metadata": {},
   "outputs": [
    {
     "data": {
      "text/plain": [
       "array([-2,  0,  2])"
      ]
     },
     "execution_count": 21,
     "metadata": {},
     "output_type": "execute_result"
    }
   ],
   "source": [
    "#subtract two arrays\n",
    "sub =np.subtract(x,y)\n",
    "sub"
   ]
  },
  {
   "cell_type": "code",
   "execution_count": 22,
   "id": "98ade084-cd4c-468a-8576-03410f62d3ad",
   "metadata": {},
   "outputs": [
    {
     "data": {
      "text/plain": [
       "array([-1, -2, -3])"
      ]
     },
     "execution_count": 22,
     "metadata": {},
     "output_type": "execute_result"
    }
   ],
   "source": [
    "#unary negation\n",
    "neg=np.negative(x)\n",
    "neg"
   ]
  },
  {
   "cell_type": "code",
   "execution_count": 23,
   "id": "a65693fb-4200-4ce2-a6aa-250813e7a395",
   "metadata": {},
   "outputs": [
    {
     "data": {
      "text/plain": [
       "array([3, 4, 3])"
      ]
     },
     "execution_count": 23,
     "metadata": {},
     "output_type": "execute_result"
    }
   ],
   "source": [
    "#multiply two arrays\n",
    "prod = np.multiply(x,y)\n",
    "prod"
   ]
  },
  {
   "cell_type": "code",
   "execution_count": 24,
   "id": "0bf23e73-2a68-42a3-b7d2-2b2408b35d73",
   "metadata": {},
   "outputs": [
    {
     "data": {
      "text/plain": [
       "array([0.33333333, 1.        , 3.        ])"
      ]
     },
     "execution_count": 24,
     "metadata": {},
     "output_type": "execute_result"
    }
   ],
   "source": [
    "#divide two arrays\n",
    "div = np.divide(x,y)\n",
    "div"
   ]
  },
  {
   "cell_type": "code",
   "execution_count": 25,
   "id": "1df89079-fede-4f88-9173-43318018aba9",
   "metadata": {},
   "outputs": [
    {
     "data": {
      "text/plain": [
       "array([0, 1, 3])"
      ]
     },
     "execution_count": 25,
     "metadata": {},
     "output_type": "execute_result"
    }
   ],
   "source": [
    "#floor division of two arrays\n",
    "floordiv = np.floor_divide(x,y)\n",
    "floordiv"
   ]
  },
  {
   "cell_type": "code",
   "execution_count": 26,
   "id": "2f8923cd-e8c7-4f62-ad01-05f595b8c6a3",
   "metadata": {},
   "outputs": [
    {
     "data": {
      "text/plain": [
       "8"
      ]
     },
     "execution_count": 26,
     "metadata": {},
     "output_type": "execute_result"
    }
   ],
   "source": [
    "#exponentiation\n",
    "power = np.power(2,3)\n",
    "power"
   ]
  },
  {
   "cell_type": "code",
   "execution_count": 27,
   "id": "40c63d50-5474-4e68-b265-8ac98e03ad0c",
   "metadata": {},
   "outputs": [
    {
     "data": {
      "text/plain": [
       "1"
      ]
     },
     "execution_count": 27,
     "metadata": {},
     "output_type": "execute_result"
    }
   ],
   "source": [
    "#modulus\n",
    "mod = np.mod(9,4)\n",
    "mod"
   ]
  },
  {
   "cell_type": "markdown",
   "id": "6a3d5861",
   "metadata": {},
   "source": [
    "## Inbuilt Functions"
   ]
  },
  {
   "cell_type": "markdown",
   "id": "6fcc9760",
   "metadata": {},
   "source": [
    "### arange : Returns an array with evenly spaced elements as per the interval. The interval mentioned is half opened i.e. [Start, Stop)"
   ]
  },
  {
   "cell_type": "code",
   "execution_count": 28,
   "id": "86a41bc2",
   "metadata": {},
   "outputs": [
    {
     "data": {
      "text/plain": [
       "array([ 0,  1,  2,  3,  4,  5,  6,  7,  8,  9, 10, 11, 12, 13, 14])"
      ]
     },
     "execution_count": 28,
     "metadata": {},
     "output_type": "execute_result"
    }
   ],
   "source": [
    "#elements will range from 0 to 14\n",
    "np.arange(15)"
   ]
  },
  {
   "cell_type": "code",
   "execution_count": 29,
   "id": "b337bbb9",
   "metadata": {},
   "outputs": [
    {
     "data": {
      "text/plain": [
       "array([ 2.,  3.,  4.,  5.,  6.,  7.,  8.,  9., 10., 11., 12., 13., 14.])"
      ]
     },
     "execution_count": 29,
     "metadata": {},
     "output_type": "execute_result"
    }
   ],
   "source": [
    "#elements will range from 2 to 15(exclusive) with data type as float\n",
    "np.arange(2, 15, dtype=float)"
   ]
  },
  {
   "cell_type": "code",
   "execution_count": 30,
   "id": "34aa02f9",
   "metadata": {},
   "outputs": [
    {
     "data": {
      "text/plain": [
       "array([ 1,  4,  7, 10, 13])"
      ]
     },
     "execution_count": 30,
     "metadata": {},
     "output_type": "execute_result"
    }
   ],
   "source": [
    "#elements will range from 1 to 15(exclusive) with an increment of 3 after each element\n",
    "np.arange(1, 15, 3)"
   ]
  },
  {
   "cell_type": "markdown",
   "id": "fd0a971a",
   "metadata": {},
   "source": [
    "### linspace : will create arrays with a specified number of elements, and spaced equally between the specified beginning and end values\n",
    "linspace(start, stop, step) - stop is included"
   ]
  },
  {
   "cell_type": "code",
   "execution_count": 31,
   "id": "8c8c7eda",
   "metadata": {},
   "outputs": [
    {
     "data": {
      "text/plain": [
       "array([0.  , 0.25, 0.5 , 0.75, 1.  ])"
      ]
     },
     "execution_count": 31,
     "metadata": {},
     "output_type": "execute_result"
    }
   ],
   "source": [
    "np.linspace(0, 1, 5)"
   ]
  },
  {
   "cell_type": "code",
   "execution_count": 32,
   "id": "64501cb7",
   "metadata": {},
   "outputs": [
    {
     "data": {
      "text/plain": [
       "array([1. , 1.5, 2. , 2.5, 3. , 3.5])"
      ]
     },
     "execution_count": 32,
     "metadata": {},
     "output_type": "execute_result"
    }
   ],
   "source": [
    "np.linspace(1., 4., 6, False)"
   ]
  },
  {
   "cell_type": "markdown",
   "id": "f0590cdf",
   "metadata": {},
   "source": [
    "### shape : returns shape (row, column) of an array \n",
    "### reshape : shapes an array without changing data of array"
   ]
  },
  {
   "cell_type": "code",
   "execution_count": 33,
   "id": "8042c4fe",
   "metadata": {},
   "outputs": [],
   "source": [
    "A = np.array([[1,2,3],\n",
    "             [4,5,6]\n",
    "             ])"
   ]
  },
  {
   "cell_type": "code",
   "execution_count": 34,
   "id": "6e0a31b1",
   "metadata": {},
   "outputs": [
    {
     "data": {
      "text/plain": [
       "(2, 3)"
      ]
     },
     "execution_count": 34,
     "metadata": {},
     "output_type": "execute_result"
    }
   ],
   "source": [
    "A.shape"
   ]
  },
  {
   "cell_type": "code",
   "execution_count": 35,
   "id": "d88865c8",
   "metadata": {},
   "outputs": [],
   "source": [
    "B = np.array([\n",
    "        [12, 11, 10],\n",
    "        [9, 8, 7],\n",
    "        [6, 5, 4],\n",
    "        [3, 2, 1]\n",
    "    \n",
    "])"
   ]
  },
  {
   "cell_type": "code",
   "execution_count": 36,
   "id": "347e5af2",
   "metadata": {},
   "outputs": [
    {
     "data": {
      "text/plain": [
       "(4, 3)"
      ]
     },
     "execution_count": 36,
     "metadata": {},
     "output_type": "execute_result"
    }
   ],
   "source": [
    "B.shape"
   ]
  },
  {
   "cell_type": "code",
   "execution_count": 37,
   "id": "b283cbf6",
   "metadata": {},
   "outputs": [
    {
     "data": {
      "text/plain": [
       "array([[12, 11, 10,  9],\n",
       "       [ 8,  7,  6,  5],\n",
       "       [ 4,  3,  2,  1]])"
      ]
     },
     "execution_count": 37,
     "metadata": {},
     "output_type": "execute_result"
    }
   ],
   "source": [
    "B.reshape(3, 4)"
   ]
  },
  {
   "cell_type": "markdown",
   "id": "916f6e18",
   "metadata": {},
   "source": [
    "### zeros : returns a new array of given shape and type, with zeros"
   ]
  },
  {
   "cell_type": "code",
   "execution_count": 38,
   "id": "44151a83",
   "metadata": {},
   "outputs": [
    {
     "data": {
      "text/plain": [
       "array([0., 0., 0., 0., 0., 0., 0., 0., 0., 0.])"
      ]
     },
     "execution_count": 38,
     "metadata": {},
     "output_type": "execute_result"
    }
   ],
   "source": [
    "np.zeros(10)"
   ]
  },
  {
   "cell_type": "code",
   "execution_count": 39,
   "id": "29a9291f",
   "metadata": {},
   "outputs": [
    {
     "data": {
      "text/plain": [
       "array([[0., 0., 0.],\n",
       "       [0., 0., 0.],\n",
       "       [0., 0., 0.],\n",
       "       [0., 0., 0.]])"
      ]
     },
     "execution_count": 39,
     "metadata": {},
     "output_type": "execute_result"
    }
   ],
   "source": [
    "np.zeros((4,3))"
   ]
  },
  {
   "cell_type": "code",
   "execution_count": 40,
   "id": "b82b842e",
   "metadata": {},
   "outputs": [
    {
     "data": {
      "text/plain": [
       "array([[0, 0, 0],\n",
       "       [0, 0, 0],\n",
       "       [0, 0, 0],\n",
       "       [0, 0, 0]])"
      ]
     },
     "execution_count": 40,
     "metadata": {},
     "output_type": "execute_result"
    }
   ],
   "source": [
    "np.zeros((4,3), dtype=int)"
   ]
  },
  {
   "cell_type": "markdown",
   "id": "ad780d6b",
   "metadata": {},
   "source": [
    "### ones :  returns a new array of given shape and type, with ones."
   ]
  },
  {
   "cell_type": "code",
   "execution_count": 41,
   "id": "56a695dc",
   "metadata": {},
   "outputs": [
    {
     "data": {
      "text/plain": [
       "array([1., 1., 1., 1., 1.])"
      ]
     },
     "execution_count": 41,
     "metadata": {},
     "output_type": "execute_result"
    }
   ],
   "source": [
    "np.ones(5)"
   ]
  },
  {
   "cell_type": "code",
   "execution_count": 42,
   "id": "b5aa24ee",
   "metadata": {},
   "outputs": [
    {
     "data": {
      "text/plain": [
       "array([[1., 1., 1., 1., 1.],\n",
       "       [1., 1., 1., 1., 1.]])"
      ]
     },
     "execution_count": 42,
     "metadata": {},
     "output_type": "execute_result"
    }
   ],
   "source": [
    "np.ones((2, 5))"
   ]
  },
  {
   "cell_type": "code",
   "execution_count": 43,
   "id": "4c0b6e5d",
   "metadata": {},
   "outputs": [
    {
     "data": {
      "text/plain": [
       "array([[1, 1],\n",
       "       [1, 1],\n",
       "       [1, 1],\n",
       "       [1, 1],\n",
       "       [1, 1]])"
      ]
     },
     "execution_count": 43,
     "metadata": {},
     "output_type": "execute_result"
    }
   ],
   "source": [
    "np.ones((5, 2), dtype=int)"
   ]
  },
  {
   "cell_type": "markdown",
   "id": "5efa3b58",
   "metadata": {},
   "source": [
    "### empty : returns a new array of given shape and type, with random values."
   ]
  },
  {
   "cell_type": "code",
   "execution_count": 44,
   "id": "26fd2068",
   "metadata": {},
   "outputs": [
    {
     "data": {
      "text/plain": [
       "array([0.25, 0.5 , 0.75, 1.  ])"
      ]
     },
     "execution_count": 44,
     "metadata": {},
     "output_type": "execute_result"
    }
   ],
   "source": [
    "np.empty(4)"
   ]
  },
  {
   "cell_type": "code",
   "execution_count": 45,
   "id": "4650214e",
   "metadata": {},
   "outputs": [
    {
     "data": {
      "text/plain": [
       "array([[        0,         0, 279203168],\n",
       "       [      267, 279204048,       267],\n",
       "       [279202128,       267,   7929957]])"
      ]
     },
     "execution_count": 45,
     "metadata": {},
     "output_type": "execute_result"
    }
   ],
   "source": [
    "np.empty((3,3), dtype=int)"
   ]
  },
  {
   "cell_type": "markdown",
   "id": "a7873cf1",
   "metadata": {},
   "source": [
    "### identity : returns an identity matrix i.e. a square matrix with ones on the main diagonal"
   ]
  },
  {
   "cell_type": "code",
   "execution_count": 46,
   "id": "89f8704e",
   "metadata": {},
   "outputs": [
    {
     "data": {
      "text/plain": [
       "array([[1., 0., 0., 0.],\n",
       "       [0., 1., 0., 0.],\n",
       "       [0., 0., 1., 0.],\n",
       "       [0., 0., 0., 1.]])"
      ]
     },
     "execution_count": 46,
     "metadata": {},
     "output_type": "execute_result"
    }
   ],
   "source": [
    "np.identity(4)"
   ]
  },
  {
   "cell_type": "code",
   "execution_count": 47,
   "id": "b2321259",
   "metadata": {},
   "outputs": [
    {
     "data": {
      "text/plain": [
       "array([[1, 0, 0, 0],\n",
       "       [0, 1, 0, 0],\n",
       "       [0, 0, 1, 0],\n",
       "       [0, 0, 0, 1]])"
      ]
     },
     "execution_count": 47,
     "metadata": {},
     "output_type": "execute_result"
    }
   ],
   "source": [
    "np.identity(4, dtype=int)"
   ]
  },
  {
   "cell_type": "markdown",
   "id": "a64b06d4",
   "metadata": {},
   "source": [
    "### eye : returns a 2-D array with 1's as the diagonal and 0's elsewhere"
   ]
  },
  {
   "cell_type": "code",
   "execution_count": 48,
   "id": "e08b35a1",
   "metadata": {},
   "outputs": [
    {
     "data": {
      "text/plain": [
       "array([[1., 0.],\n",
       "       [0., 1.]])"
      ]
     },
     "execution_count": 48,
     "metadata": {},
     "output_type": "execute_result"
    }
   ],
   "source": [
    "np.eye(2,2)"
   ]
  },
  {
   "cell_type": "code",
   "execution_count": 49,
   "id": "1e669687",
   "metadata": {},
   "outputs": [
    {
     "data": {
      "text/plain": [
       "array([[0., 1., 0., 0.],\n",
       "       [0., 0., 1., 0.],\n",
       "       [0., 0., 0., 1.],\n",
       "       [0., 0., 0., 0.],\n",
       "       [0., 0., 0., 0.],\n",
       "       [0., 0., 0., 0.],\n",
       "       [0., 0., 0., 0.],\n",
       "       [0., 0., 0., 0.]])"
      ]
     },
     "execution_count": 49,
     "metadata": {},
     "output_type": "execute_result"
    }
   ],
   "source": [
    "np.eye(8,4,k=1)"
   ]
  },
  {
   "cell_type": "code",
   "execution_count": 50,
   "id": "39298f43",
   "metadata": {},
   "outputs": [
    {
     "data": {
      "text/plain": [
       "array([[0, 0, 0, 0],\n",
       "       [0, 0, 0, 0],\n",
       "       [0, 0, 0, 0],\n",
       "       [1, 0, 0, 0],\n",
       "       [0, 1, 0, 0],\n",
       "       [0, 0, 1, 0],\n",
       "       [0, 0, 0, 1],\n",
       "       [0, 0, 0, 0]])"
      ]
     },
     "execution_count": 50,
     "metadata": {},
     "output_type": "execute_result"
    }
   ],
   "source": [
    "np.eye(8,4,k=-3, dtype=int)"
   ]
  },
  {
   "cell_type": "markdown",
   "id": "c8902345",
   "metadata": {},
   "source": [
    "### random"
   ]
  },
  {
   "cell_type": "code",
   "execution_count": 51,
   "id": "5c5ed1ed",
   "metadata": {},
   "outputs": [
    {
     "data": {
      "text/plain": [
       "array([0.3812388 , 0.03651375, 0.34331775])"
      ]
     },
     "execution_count": 51,
     "metadata": {},
     "output_type": "execute_result"
    }
   ],
   "source": [
    "np.random.random(size=3)"
   ]
  },
  {
   "cell_type": "code",
   "execution_count": 52,
   "id": "2e024ab5",
   "metadata": {},
   "outputs": [
    {
     "data": {
      "text/plain": [
       "array([ 0.61284422, -0.07029641])"
      ]
     },
     "execution_count": 52,
     "metadata": {},
     "output_type": "execute_result"
    }
   ],
   "source": [
    "np.random.normal(size=2)"
   ]
  },
  {
   "cell_type": "code",
   "execution_count": 53,
   "id": "9f93753b",
   "metadata": {},
   "outputs": [
    {
     "data": {
      "text/plain": [
       "array([[0.10587568, 0.14647444, 0.01860027, 0.78634316, 0.74404556],\n",
       "       [0.19103123, 0.03814603, 0.08133144, 0.59476043, 0.82063691]])"
      ]
     },
     "execution_count": 53,
     "metadata": {},
     "output_type": "execute_result"
    }
   ],
   "source": [
    "np.random.rand(2,5)"
   ]
  },
  {
   "cell_type": "markdown",
   "id": "3c793253",
   "metadata": {},
   "source": [
    "### copy : returns a copy of the array"
   ]
  },
  {
   "cell_type": "code",
   "execution_count": 54,
   "id": "cad51f50",
   "metadata": {},
   "outputs": [
    {
     "name": "stdout",
     "output_type": "stream",
     "text": [
      "[2 8 6]\n"
     ]
    }
   ],
   "source": [
    "a = np.array([2,5,6])\n",
    "b = a.copy()\n",
    "b[1]=8\n",
    "print(b)"
   ]
  },
  {
   "cell_type": "markdown",
   "id": "0d699eba",
   "metadata": {},
   "source": [
    "## Linear Algebra"
   ]
  },
  {
   "cell_type": "code",
   "execution_count": 55,
   "id": "8facee2d",
   "metadata": {},
   "outputs": [],
   "source": [
    "A=np.array([[1,2,3], \n",
    "           [4, 5, 6],\n",
    "           [7, 8, 9]\n",
    "           ])"
   ]
  },
  {
   "cell_type": "code",
   "execution_count": 56,
   "id": "07445b34",
   "metadata": {},
   "outputs": [],
   "source": [
    "B=np.array([[2,2], \n",
    "           [8,6],\n",
    "           [3,4]\n",
    "           ])"
   ]
  },
  {
   "cell_type": "code",
   "execution_count": 57,
   "id": "f659834b",
   "metadata": {},
   "outputs": [
    {
     "data": {
      "text/plain": [
       "array([[ 27,  26],\n",
       "       [ 66,  62],\n",
       "       [105,  98]])"
      ]
     },
     "execution_count": 57,
     "metadata": {},
     "output_type": "execute_result"
    }
   ],
   "source": [
    "A.dot(B)"
   ]
  },
  {
   "cell_type": "code",
   "execution_count": 58,
   "id": "8eea6d9e",
   "metadata": {},
   "outputs": [
    {
     "data": {
      "text/plain": [
       "array([[ 27,  26],\n",
       "       [ 66,  62],\n",
       "       [105,  98]])"
      ]
     },
     "execution_count": 58,
     "metadata": {},
     "output_type": "execute_result"
    }
   ],
   "source": [
    "#same as A.dot(B)\n",
    "A@B"
   ]
  },
  {
   "cell_type": "code",
   "execution_count": 59,
   "id": "5d0a0817",
   "metadata": {},
   "outputs": [
    {
     "data": {
      "text/plain": [
       "array([[2, 8, 3],\n",
       "       [2, 6, 4]])"
      ]
     },
     "execution_count": 59,
     "metadata": {},
     "output_type": "execute_result"
    }
   ],
   "source": [
    "#transpose\n",
    "B.T"
   ]
  },
  {
   "cell_type": "markdown",
   "id": "ae6ba6ba",
   "metadata": {},
   "source": [
    "## Summary Statistics"
   ]
  },
  {
   "cell_type": "code",
   "execution_count": 60,
   "id": "e159041d",
   "metadata": {},
   "outputs": [],
   "source": [
    "#one dimensional array\n",
    "a = np.array([4,6,3,2,7])"
   ]
  },
  {
   "cell_type": "code",
   "execution_count": 61,
   "id": "437a7435",
   "metadata": {},
   "outputs": [
    {
     "data": {
      "text/plain": [
       "22"
      ]
     },
     "execution_count": 61,
     "metadata": {},
     "output_type": "execute_result"
    }
   ],
   "source": [
    "#sum of elements\n",
    "a.sum()"
   ]
  },
  {
   "cell_type": "code",
   "execution_count": 62,
   "id": "363f3cb1",
   "metadata": {},
   "outputs": [
    {
     "data": {
      "text/plain": [
       "1.8547236990991407"
      ]
     },
     "execution_count": 62,
     "metadata": {},
     "output_type": "execute_result"
    }
   ],
   "source": [
    "#standard deviation\n",
    "a.std()"
   ]
  },
  {
   "cell_type": "code",
   "execution_count": 63,
   "id": "2a7071ae",
   "metadata": {},
   "outputs": [
    {
     "data": {
      "text/plain": [
       "3.44"
      ]
     },
     "execution_count": 63,
     "metadata": {},
     "output_type": "execute_result"
    }
   ],
   "source": [
    "#variance\n",
    "a.var()"
   ]
  },
  {
   "cell_type": "code",
   "execution_count": 64,
   "id": "60868fc9",
   "metadata": {},
   "outputs": [],
   "source": [
    "#multi dimensional array\n",
    "A = np.array([\n",
    "    [1,5,6],\n",
    "    [4,2,6]\n",
    "])"
   ]
  },
  {
   "cell_type": "code",
   "execution_count": 65,
   "id": "d4f89544",
   "metadata": {},
   "outputs": [
    {
     "data": {
      "text/plain": [
       "24"
      ]
     },
     "execution_count": 65,
     "metadata": {},
     "output_type": "execute_result"
    }
   ],
   "source": [
    "A.sum()"
   ]
  },
  {
   "cell_type": "code",
   "execution_count": 66,
   "id": "2c2b2d2c",
   "metadata": {},
   "outputs": [
    {
     "data": {
      "text/plain": [
       "4.0"
      ]
     },
     "execution_count": 66,
     "metadata": {},
     "output_type": "execute_result"
    }
   ],
   "source": [
    "A.mean()"
   ]
  },
  {
   "cell_type": "code",
   "execution_count": 67,
   "id": "5093c278",
   "metadata": {},
   "outputs": [
    {
     "data": {
      "text/plain": [
       "1.9148542155126762"
      ]
     },
     "execution_count": 67,
     "metadata": {},
     "output_type": "execute_result"
    }
   ],
   "source": [
    "A.std()"
   ]
  },
  {
   "cell_type": "code",
   "execution_count": 68,
   "id": "7ef88949",
   "metadata": {},
   "outputs": [
    {
     "data": {
      "text/plain": [
       "array([ 5,  7, 12])"
      ]
     },
     "execution_count": 68,
     "metadata": {},
     "output_type": "execute_result"
    }
   ],
   "source": [
    "#sum of elements of columns\n",
    "A.sum(axis=0)"
   ]
  }
 ],
 "metadata": {
  "kernelspec": {
   "display_name": "Python 3 (ipykernel)",
   "language": "python",
   "name": "python3"
  },
  "language_info": {
   "codemirror_mode": {
    "name": "ipython",
    "version": 3
   },
   "file_extension": ".py",
   "mimetype": "text/x-python",
   "name": "python",
   "nbconvert_exporter": "python",
   "pygments_lexer": "ipython3",
   "version": "3.12.3"
  }
 },
 "nbformat": 4,
 "nbformat_minor": 5
}
