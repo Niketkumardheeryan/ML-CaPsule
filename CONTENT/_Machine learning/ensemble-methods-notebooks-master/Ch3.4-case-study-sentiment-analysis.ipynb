{
 "cells": [
  {
   "cell_type": "markdown",
   "metadata": {},
   "source": [
    "_This notebook contains code and comments from Section 3.4 of the book [Ensemble Methods for Machine Learning](https://www.manning.com/books/ensemble-methods-for-machine-learning). Please see the book for additional details on this topic. This notebook and code are released under the [MIT license](https://github.com/gkunapuli/ensemble-methods-notebooks/blob/master/LICENSE)._\n",
    "\n",
    "---\n",
    "\n",
    "## 3.4 Case Study: Sentiment Analysis\n",
    "\n",
    "Sentiment analysis is a natural language processing (NLP) task for identifying the the polarity of opinion as positive, neutral or negative. This case study explores a supervised sentiment analysis task for movie reviews. The data set we will use is the [Large Movie Review Dataset](https://ai.stanford.edu/~amaas/data/sentiment/), which was originally collected and curated for a 2011 paper on sentiment analysis: \n",
    "\n",
    "Andrew L. Maas, Raymond E. Daly, Peter T. Pham, Dan Huang, Andrew Y. Ng, and Christopher Potts. (2011). _Learning Word Vectors for Sentiment Analysis_. The 49th Annual Meeting of the Association for Computational Linguistics (ACL 2011)."
   ]
  },
  {
   "cell_type": "code",
   "execution_count": 1,
   "metadata": {},
   "outputs": [],
   "source": [
    "# Data directory relative to this notebook\n",
    "sentiment_data_directory = './data/ch03/'"
   ]
  },
  {
   "cell_type": "markdown",
   "metadata": {},
   "source": [
    "### 3.4.1 Pre-processing\n",
    "This data set has already been pre-processed by [count vectorization](https://scikit-learn.org/stable/modules/generated/sklearn.feature_extraction.text.CountVectorizer.html) to generate [bag-of-word features](https://en.wikipedia.org/wiki/Bag-of-words_model). These pre-processed term-document count features, our data set, can be found in ``./data/ch03/train/labeledBow.feat`` and ``./data/ch03/test/labeledBow.feat``.\n",
    "\n",
    "#### Stop-word Removal\n",
    "This step aims to remove common words such as “the”, “is”, “a”, “an”. Stop word removal can reduce the dimensionality of the data, (to make processing faster), and can improve classification performance. This is because words like “the” are often not really informative for information retrieval and text-mining tasks.\n",
    "\n",
    "**Listing 3.11**: Drop stop words from the vocabulary"
   ]
  },
  {
   "cell_type": "code",
   "execution_count": 2,
   "metadata": {},
   "outputs": [],
   "source": [
    "import nltk\n",
    "import time\n",
    "import numpy as np\n",
    "\n",
    "def prune_vocabulary(data_path, max_features=5000):\n",
    "    start_time = time.time()\n",
    "    with open('{0}/imdb.vocab'.format(data_path), 'r', encoding='utf8') as vocab_file:\n",
    "        vocabulary = vocab_file.read().splitlines()\n",
    "    print('Vocabulary load time = {0} seconds.'.format(time.time() - start_time))\n",
    "\n",
    "    # Convert the list of stopwords to a set for faster processing\n",
    "    # nltk.download('stopwords')\n",
    "    stopwords = set(nltk.corpus.stopwords.words(\"english\"))\n",
    "\n",
    "    # Keep only those vocabulary words that are NOT stopwords\n",
    "    to_keep = [True if word not in stopwords else False for word in vocabulary]\n",
    "    feature_ind = np.where(to_keep)[0]\n",
    "\n",
    "    return feature_ind[:max_features]"
   ]
  },
  {
   "cell_type": "code",
   "execution_count": 3,
   "metadata": {},
   "outputs": [
    {
     "name": "stdout",
     "output_type": "stream",
     "text": [
      "Vocabulary load time = 0.016955852508544922 seconds.\n"
     ]
    }
   ],
   "source": [
    "features = prune_vocabulary(sentiment_data_directory, max_features=5000)"
   ]
  },
  {
   "cell_type": "markdown",
   "metadata": {},
   "source": [
    "#### TF-IDF Transformation\n",
    "Our second pre-processing step converts the count features to [tf-idf features](https://en.wikipedia.org/wiki/Tf%E2%80%93idf). These features represent the term frequency-inverse document frequency, a statistic that weights each feature in a document (in our case, a single review) relative to how often it appears in that document as well as how often it appears in the entire corpus (in our case, all the reviews). \n",
    "\n",
    "We can use scikit-learn’s pre-processing toolbox to convert our count features to tf-idf features using the [TfidfTransformer](https://scikit-learn.org/stable/modules/generated/sklearn.feature_extraction.text.TfidfTransformer.html).\n",
    "\n",
    "**Listing 3.12**: Extract tf-idf features and save the data set (**NOTE: _generates a 41 MB file_**)"
   ]
  },
  {
   "cell_type": "code",
   "execution_count": 4,
   "metadata": {},
   "outputs": [],
   "source": [
    "import h5py\n",
    "from sklearn.datasets import load_svmlight_files\n",
    "from scipy.sparse import csr_matrix as sp\n",
    "from sklearn.feature_extraction.text import TfidfTransformer\n",
    "\n",
    "def preprocess_and_save(data_path, feature_ind):\n",
    "    data_files = ['{0}/{1}/labeledBow.feat'.format(data_path, data_set) \n",
    "                  for data_set in ['train', 'test']]\n",
    "    [Xtrn, ytrn, Xtst, ytst] = load_svmlight_files(data_files)\n",
    "    n_features = len(feature_ind)\n",
    "\n",
    "    ytrn[ytrn <= 5], ytst[ytst <= 5] = 0, 0\n",
    "    ytrn[ytrn > 5], ytst[ytst > 5] = 1, 1\n",
    "\n",
    "    # Transform the bag-of-words\n",
    "    tfidf = TfidfTransformer()\n",
    "    Xtrn = tfidf.fit_transform(Xtrn[:, feature_ind])\n",
    "    Xtst = tfidf.transform(Xtst[:, feature_ind])\n",
    "      \n",
    "    # Save the data in HDF5 format with sparse matrix representation\n",
    "    with h5py.File('{0}/imdb-{1}k.h5'.format(data_path, \n",
    "                            round(n_features/1000)), 'w') as db:\n",
    "        db.create_dataset('Xtrn', \n",
    "                          data=sp.todense(Xtrn), compression='gzip')\n",
    "        db.create_dataset('ytrn', data=ytrn, compression='gzip')\n",
    "        db.create_dataset('Xtst', \n",
    "                          data=sp.todense(Xtst), compression='gzip')\n",
    "        db.create_dataset('ytst', data=ytst, compression='gzip')"
   ]
  },
  {
   "cell_type": "code",
   "execution_count": 5,
   "metadata": {},
   "outputs": [],
   "source": [
    "preprocess_and_save(sentiment_data_directory, features)"
   ]
  },
  {
   "cell_type": "markdown",
   "metadata": {},
   "source": [
    "---\n",
    "### 3.4.2\tDimensionality Reduction\n",
    "\n",
    "We adopt the popular dimensionality reduction approach of [principal components analysis](https://en.wikipedia.org/wiki/Principal_component_analysis) (PCA), which aims to compress and embed the data into a lower-dimensional representation while while preserving as much of the information as possible. \n",
    "\n",
    "To avoid loading the entire data set into memory and to process the data more efficiently, we perform [Incremental PCA](https://scikit-learn.org/stable/auto_examples/decomposition/plot_incremental_pca.html) instead.\n",
    "\n",
    "**Listing 3.13**: Perform dimensionality reduction using Incremental PCA (**NOTE: _generates a 187 MB file_**)"
   ]
  },
  {
   "cell_type": "code",
   "execution_count": 6,
   "metadata": {},
   "outputs": [],
   "source": [
    "from sklearn.decomposition import IncrementalPCA\n",
    "\n",
    "def transform_sentiment_data(data_path, n_features=5000, n_components=500):\n",
    "    db = h5py.File('{0}/imdb-{1}k.h5'.format(data_path, round(n_features/1000)), 'r')\n",
    "\n",
    "    pca = IncrementalPCA(n_components=n_components)\n",
    "    chunk_size = 1000\n",
    "    n_samples = db['Xtrn'].shape[0] \n",
    "    for i in range(0, n_samples // chunk_size):\n",
    "        pca.partial_fit(db['Xtrn'][i*chunk_size:(i+1) * chunk_size])\n",
    "\n",
    "    Xtrn = pca.transform(db['Xtrn'])\n",
    "    Xtst = pca.transform(db['Xtst'])\n",
    "\n",
    "    with h5py.File('{0}/imdb-{1}k-pca{2}.h5'.format(data_path,\n",
    "                                                    round(n_features/1000), n_components), 'w') as db2:\n",
    "        db2.create_dataset('Xtrn', data=Xtrn, compression='gzip')\n",
    "        db2.create_dataset('ytrn', data=db['ytrn'], compression='gzip')\n",
    "        db2.create_dataset('Xtst', data=Xtst, compression='gzip')\n",
    "        db2.create_dataset('ytst', data=db['ytst'], compression='gzip')"
   ]
  },
  {
   "cell_type": "code",
   "execution_count": 7,
   "metadata": {},
   "outputs": [],
   "source": [
    "transform_sentiment_data(sentiment_data_directory, n_features=5000, n_components=500)"
   ]
  },
  {
   "cell_type": "markdown",
   "metadata": {},
   "source": [
    "---\n",
    "###  3.4.3\tStacking classifiers\n",
    "\n",
    "Our goal now is to train a heterogeneous ensemble with meta-learning. Specifically, we will use ensemble several base estimators by blending them. Blending is a variant of stacking, where, instead of using cross validation, we use a single validation set."
   ]
  },
  {
   "cell_type": "code",
   "execution_count": 8,
   "metadata": {},
   "outputs": [],
   "source": [
    "def load_sentiment_data(data_path,n_features=5000, n_components=500):\n",
    "\n",
    "    with h5py.File('{0}/imdb-{1}k-pca{2}.h5'.format(data_path, \n",
    "                                                    round(n_features/1000), n_components), 'r') as db:\n",
    "        Xtrn = np.array(db.get('Xtrn'))\n",
    "        ytrn = np.array(db.get('ytrn'))\n",
    "        Xtst = np.array(db.get('Xtst'))\n",
    "        ytst = np.array(db.get('ytst'))\n",
    "\n",
    "    return Xtrn, ytrn, Xtst, ytst"
   ]
  },
  {
   "cell_type": "code",
   "execution_count": 9,
   "metadata": {},
   "outputs": [],
   "source": [
    "Xtrn, ytrn, Xtst, ytst = load_sentiment_data('./data/Ch03/', n_features=5000, n_components=500)"
   ]
  },
  {
   "cell_type": "markdown",
   "metadata": {},
   "source": [
    "Next, we use five base estimators: [``RandomForestClassifier``](https://scikit-learn.org/stable/modules/generated/sklearn.ensemble.RandomForestClassifier.html) with 100 randomized decision trees, [``ExtraTreesClassifier``] (https://scikit-learn.org/stable/modules/generated/sklearn.ensemble.ExtraTreesClassifier.html#sklearn.ensemble.ExtraTreesClassifier) with 100 extremely randomized trees, [``Logistic Regression``](https://scikit-learn.org/stable/modules/generated/sklearn.linear_model.LogisticRegression.html), Bernoulli [naïve Bayes](https://scikit-learn.org/stable/modules/classes.html#module-sklearn.naive_bayes) (``BernoulliNB``) and a linear SVM trained with stochastic gradient descent ([``SGDClassifier``](https://scikit-learn.org/stable/modules/generated/sklearn.linear_model.SGDClassifier.html))."
   ]
  },
  {
   "cell_type": "code",
   "execution_count": 10,
   "metadata": {},
   "outputs": [],
   "source": [
    "from sklearn.ensemble import RandomForestClassifier, ExtraTreesClassifier\n",
    "from sklearn.linear_model import LogisticRegression, SGDClassifier\n",
    "from sklearn.naive_bayes import BernoulliNB\n",
    "\n",
    "estimators = [('rf', RandomForestClassifier(n_estimators=100, n_jobs=-1)),\n",
    "              ('xt', ExtraTreesClassifier(n_estimators=100, n_jobs=-1)),\n",
    "              ('lr', LogisticRegression(C=0.01, solver='lbfgs')),\n",
    "              ('bnb', BernoulliNB()),\n",
    "              ('svm', SGDClassifier(loss='hinge', penalty='l2', alpha=0.01,\n",
    "                                    n_jobs=-1, max_iter=10, tol=None))]"
   ]
  },
  {
   "cell_type": "markdown",
   "metadata": {},
   "source": [
    "To blend these base-estimators into a heterogeneous ensemble with meta-learning, we use the following procedure:\n",
    "1.\tSplit the training data into a training set ``(Xtrn, ytrn)`` with 80% of the data and a validation set ``(Xval, yval)``, with the remaining 20% of the data\n",
    "2.\tTrain the each of the level-1 estimators on the training set, ``(Xtrn, ytrn)``\n",
    "3.\tGenerate meta-features ``Xmeta`` with the trained estimators using ``Xval``; \n",
    "4.\tAugment the validation data with the meta-features: ``[Xval, Xmeta]``; this augmented validation set will have 500 original features + 5 meta-features\n",
    "5.\tTrain the level-2 estimator with the augmented validation set ``([Xval, Xmeta], yval)``\n",
    "\n",
    "This leaves one final decision: the choice of the level-2 estimator. Previously, we used simple linear classifiers. For this classification task, we utilize a neural network. "
   ]
  },
  {
   "cell_type": "code",
   "execution_count": 11,
   "metadata": {},
   "outputs": [],
   "source": [
    "from sklearn.neural_network import MLPClassifier\n",
    "meta_estimator = MLPClassifier(hidden_layer_sizes=(128, 64, 32),\n",
    "                               alpha=0.001)"
   ]
  },
  {
   "cell_type": "markdown",
   "metadata": {},
   "source": [
    "**Listing 3.14**: Blending models with a validation set"
   ]
  },
  {
   "cell_type": "code",
   "execution_count": 12,
   "metadata": {},
   "outputs": [],
   "source": [
    "from sklearn.model_selection import train_test_split\n",
    "\n",
    "def blend_models(level1_estimators, level2_estimator, \n",
    "                 X, y , use_probabilities=False):    \n",
    "    Xtrn, Xval, ytrn, yval = train_test_split(X, y, test_size=0.2)\n",
    "\n",
    "    n_estimators = len(level1_estimators)\n",
    "    n_samples = len(yval)\n",
    "    Xmeta = np.zeros((n_samples, n_estimators))\n",
    "    for i, (model, estimator) in enumerate(level1_estimators):\n",
    "        estimator.fit(Xtrn, ytrn)\n",
    "        Xmeta[:, i] = estimator.predict(Xval)\n",
    "\n",
    "    Xmeta = np.hstack([Xval, Xmeta])\n",
    "    \n",
    "    level2_estimator.fit(Xmeta, yval)\n",
    "\n",
    "    final_model = {'level-1': level1_estimators, \n",
    "                   'level-2': level2_estimator, \n",
    "                   'use-proba': use_probabilities}\n",
    "\n",
    "    return final_model"
   ]
  },
  {
   "cell_type": "markdown",
   "metadata": {},
   "source": [
    "**Listing 3.2** for individual base estimator predictions and **Listing 3.9** for meta-estimator predictions are combined here."
   ]
  },
  {
   "cell_type": "code",
   "execution_count": 13,
   "metadata": {},
   "outputs": [],
   "source": [
    "def predict_stacking(X, stacked_model):\n",
    "    # Get level-1 predictions\n",
    "    level1_estimators = stacked_model['level-1']\n",
    "    n_samples, n_estimators = X.shape[0], len(level1_estimators)\n",
    "    use_probabilities = stacked_model['use-proba']\n",
    "\n",
    "    Xmeta = np.zeros((n_samples, n_estimators))  # Initialize meta-features\n",
    "    for i, (model, estimator) in enumerate(level1_estimators):\n",
    "        if use_probabilities:\n",
    "            Xmeta[:, i] = estimator.predict_proba(X)[:, 1]\n",
    "        else:\n",
    "            Xmeta[:, i] = estimator.predict(X)\n",
    "\n",
    "    level2_estimator = stacked_model['level-2']\n",
    "    Xmeta = np.hstack([X, Xmeta])\n",
    "\n",
    "    y = level2_estimator.predict(Xmeta)\n",
    "\n",
    "    return y"
   ]
  },
  {
   "cell_type": "markdown",
   "metadata": {},
   "source": [
    "Train a simple blending model with this code:"
   ]
  },
  {
   "cell_type": "code",
   "execution_count": 14,
   "metadata": {},
   "outputs": [],
   "source": [
    "stacked_model = blend_models(estimators, meta_estimator, Xtrn, ytrn)"
   ]
  },
  {
   "cell_type": "code",
   "execution_count": 15,
   "metadata": {},
   "outputs": [
    {
     "name": "stdout",
     "output_type": "stream",
     "text": [
      "7.8359999999999985\n",
      "17.196\n"
     ]
    }
   ],
   "source": [
    "from sklearn.metrics import accuracy_score\n",
    "\n",
    "ypred = predict_stacking(Xtrn, stacked_model)\n",
    "trn_err = (1 - accuracy_score(ytrn, ypred)) * 100\n",
    "print(trn_err)\n",
    "\n",
    "ypred = predict_stacking(Xtst, stacked_model)\n",
    "tst_err = (1 - accuracy_score(ytst, ypred)) * 100\n",
    "print(tst_err)"
   ]
  },
  {
   "cell_type": "markdown",
   "metadata": {},
   "source": [
    "---\n",
    "\n",
    "### Overall Performance of the blended model\n",
    "We finally visualize and comparing the performance of each individual base classifier with the meta-classifier ensemble. Stacking/blending improves classification performance by ensembling diverse base classifiers."
   ]
  },
  {
   "cell_type": "code",
   "execution_count": 16,
   "metadata": {},
   "outputs": [
    {
     "name": "stdout",
     "output_type": "stream",
     "text": [
      "rf: training error = 0.00%, test error = 22.61%, running time = 10.22 seconds.\n",
      "xt: training error = 0.00%, test error = 30.00%, running time = 4.44 seconds.\n",
      "lr: training error = 17.65%, test error = 18.03%, running time = 0.13 seconds.\n",
      "bnb: training error = 21.66%, test error = 22.84%, running time = 0.35 seconds.\n",
      "svm: training error = 22.84%, test error = 23.05%, running time = 0.41 seconds.\n"
     ]
    }
   ],
   "source": [
    "trn_errors, tst_errors = np.zeros((len(estimators) + 1, )), np.zeros((len(estimators) + 1, ))\n",
    "for i, (method, estimator) in enumerate(estimators):\n",
    "    start_time = time.clock()\n",
    "    estimator.fit(Xtrn, ytrn)\n",
    "    run_time = time.clock() - start_time\n",
    "\n",
    "    ypred = estimator.predict(Xtrn)\n",
    "    trn_errors[i] = (1 - accuracy_score(ytrn, ypred)) * 100\n",
    "    ypred = estimator.predict(Xtst)\n",
    "    tst_errors[i] = (1 - accuracy_score(ytst, ypred)) * 100\n",
    "\n",
    "    print('{0}: training error = {1:4.2f}%, test error = {2:4.2f}%, running time = {3:4.2f} seconds.'\n",
    "          .format(method, trn_errors[i], tst_errors[i], run_time))\n",
    "    \n",
    "trn_errors[-1] = trn_err\n",
    "tst_errors[-1] = tst_err"
   ]
  },
  {
   "cell_type": "code",
   "execution_count": 17,
   "metadata": {},
   "outputs": [],
   "source": [
    "import matplotlib.pyplot as plt\n",
    "def autolabel(ax, rects):\n",
    "    for rect in rects:\n",
    "        height = np.round(rect.get_height(), 1)\n",
    "        ax.annotate('{}'.format(height),\n",
    "                    xy=(rect.get_x() + rect.get_width() / 2, height),\n",
    "                    xytext=(0, 3),  # 3 points vertical offset\n",
    "                    textcoords=\"offset points\",\n",
    "                    ha='center', va='bottom')"
   ]
  },
  {
   "cell_type": "code",
   "execution_count": 18,
   "metadata": {},
   "outputs": [
    {
     "data": {
      "image/png": "[encoded data removed]",
      "text/plain": [
       "<Figure size 432x288 with 1 Axes>"
      ]
     },
     "metadata": {
      "needs_background": "light"
     },
     "output_type": "display_data"
    }
   ],
   "source": [
    "%matplotlib inline\n",
    "\n",
    "labels = ['Random\\nForest', 'Extra\\nTrees', 'Logistic\\nRegression', \n",
    "      'Bernoulli\\n Naive Bayes', 'SVM', 'Blending with\\nNeural Nets']\n",
    "\n",
    "x = np.arange(len(labels))  # the label locations\n",
    "width = 0.35  # the width of the bars\n",
    "\n",
    "fig, ax = plt.subplots()\n",
    "rects1 = ax.bar(x - width / 2, trn_errors, width, label='Training Error')\n",
    "rects2 = ax.bar(x + width / 2, tst_errors, width, label='Test Error')\n",
    "\n",
    "# Add some text for labels, title and custom x-axis tick labels, etc.\n",
    "ax.set_ylabel('Model performance (error %)')\n",
    "# ax.set_title('Scores by group and gender')\n",
    "ax.set_xticks(x)\n",
    "ax.set_xticklabels(labels)\n",
    "ax.legend()\n",
    "\n",
    "ax.set_axisbelow(True)\n",
    "ax.grid(linestyle='-', linewidth='0.5', color='gray')\n",
    "\n",
    "autolabel(ax, rects1)\n",
    "autolabel(ax, rects2)\n",
    "\n",
    "fig.tight_layout()\n",
    "plt.savefig('./figures/CH03_F19_Kunapuli.png', dpi=300, bbox_inches='tight', pad_inches=0)"
   ]
  }
 ],
 "metadata": {
  "kernelspec": {
   "display_name": "Python 3",
   "language": "python",
   "name": "python3"
  },
  "language_info": {
   "codemirror_mode": {
    "name": "ipython",
    "version": 3
   },
   "file_extension": ".py",
   "mimetype": "text/x-python",
   "name": "python",
   "nbconvert_exporter": "python",
   "pygments_lexer": "ipython3",
   "version": "3.6.4"
  }
 },
 "nbformat": 4,
 "nbformat_minor": 2
}
