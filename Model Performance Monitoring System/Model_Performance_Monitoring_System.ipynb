{
  "nbformat": 4,
  "nbformat_minor": 0,
  "metadata": {
    "colab": {
      "provenance": []
    },
    "kernelspec": {
      "name": "python3",
      "display_name": "Python 3"
    },
    "language_info": {
      "name": "python"
    }
  },
  "cells": [
    {
      "cell_type": "markdown",
      "source": [
        "### Installing Necessary Libraries"
      ],
      "metadata": {
        "id": "PZTfQJa_-k9Q"
      }
    },
    {
      "cell_type": "code",
      "execution_count": 10,
      "metadata": {
        "id": "7ZO1TbA-9g3e"
      },
      "outputs": [],
      "source": [
        "import pandas as pd\n",
        "from sklearn.datasets import load_iris\n",
        "from sklearn.model_selection import train_test_split\n",
        "from sklearn.linear_model import LogisticRegression\n",
        "from sklearn.metrics import accuracy_score\n",
        "import smtplib\n",
        "from email.mime.text import MIMEText\n",
        "from email.mime.multipart import MIMEMultipart\n",
        "import matplotlib.pyplot as plt"
      ]
    },
    {
      "cell_type": "markdown",
      "source": [
        "### Loading the Dataset"
      ],
      "metadata": {
        "id": "BECLF8e_-uoq"
      }
    },
    {
      "cell_type": "code",
      "source": [
        "# Load the Iris dataset\n",
        "iris = load_iris()\n",
        "iris_df = pd.DataFrame(data=iris.data, columns=iris.feature_names)\n",
        "iris_df['target'] = iris.target\n",
        "\n",
        "# Split the dataset into features and target\n",
        "X = iris_df.drop('target', axis=1)\n",
        "y = iris_df['target']\n",
        "\n",
        "# Split data into training and testing sets\n",
        "X_train, X_test, y_train, y_test = train_test_split(X, y, test_size=0.2, random_state=42)"
      ],
      "metadata": {
        "id": "s_Jytk379kUi"
      },
      "execution_count": 11,
      "outputs": []
    },
    {
      "cell_type": "markdown",
      "source": [
        "### Training the Dataset"
      ],
      "metadata": {
        "id": "tEPuPWqv-1It"
      }
    },
    {
      "cell_type": "code",
      "source": [
        "# Train a logistic regression model\n",
        "model = LogisticRegression()\n",
        "model.fit(X_train, y_train)\n",
        "\n",
        "# Make predictions on the test set\n",
        "y_pred = model.predict(X_test)"
      ],
      "metadata": {
        "colab": {
          "base_uri": "https://localhost:8080/"
        },
        "collapsed": true,
        "id": "HrsRNshX9wso",
        "outputId": "be549de0-dcca-4316-b28f-2a08933991e2"
      },
      "execution_count": 12,
      "outputs": [
        {
          "output_type": "stream",
          "name": "stderr",
          "text": [
            "/usr/local/lib/python3.10/dist-packages/sklearn/linear_model/_logistic.py:458: ConvergenceWarning: lbfgs failed to converge (status=1):\n",
            "STOP: TOTAL NO. of ITERATIONS REACHED LIMIT.\n",
            "\n",
            "Increase the number of iterations (max_iter) or scale the data as shown in:\n",
            "    https://scikit-learn.org/stable/modules/preprocessing.html\n",
            "Please also refer to the documentation for alternative solver options:\n",
            "    https://scikit-learn.org/stable/modules/linear_model.html#logistic-regression\n",
            "  n_iter_i = _check_optimize_result(\n"
          ]
        }
      ]
    },
    {
      "cell_type": "markdown",
      "source": [
        "### Calculating Accuracy"
      ],
      "metadata": {
        "id": "sGhW_Rjd-6Di"
      }
    },
    {
      "cell_type": "code",
      "source": [
        "# Calculate accuracy\n",
        "accuracy = accuracy_score(y_test, y_pred)\n",
        "print(f\"Accuracy: {accuracy}\")"
      ],
      "metadata": {
        "colab": {
          "base_uri": "https://localhost:8080/"
        },
        "id": "614pOywp93nR",
        "outputId": "c49ba69f-26ae-4319-b4c9-78ce5fe80f46"
      },
      "execution_count": 13,
      "outputs": [
        {
          "output_type": "stream",
          "name": "stdout",
          "text": [
            "Accuracy: 1.0\n"
          ]
        }
      ]
    },
    {
      "cell_type": "markdown",
      "source": [
        "### Function to send email alert if accuracy falls below threshold"
      ],
      "metadata": {
        "id": "ZOvpPn3w-9c7"
      }
    },
    {
      "cell_type": "code",
      "source": [
        "# Function to send email alert if accuracy falls below threshold\n",
        "def send_alert(accuracy, threshold=0.8):\n",
        "    if accuracy < threshold:\n",
        "        sender_email = \"your_email@gmail.com\"\n",
        "        receiver_email = \"admin_email@gmail.com\"\n",
        "        password = \"your_email_password\"\n",
        "\n",
        "        message = MIMEMultipart()\n",
        "        message['From'] = sender_email\n",
        "        message['To'] = receiver_email\n",
        "        message['Subject'] = \"Model Performance Alert\"\n",
        "\n",
        "        body = f\"\"\"\n",
        "        Model accuracy has degraded: {accuracy}\n",
        "        \"\"\"\n",
        "\n",
        "        message.attach(MIMEText(body, 'plain'))\n",
        "\n",
        "        with smtplib.SMTP_SSL('smtp.gmail.com', 465) as server:\n",
        "            server.login(sender_email, password)\n",
        "            server.sendmail(sender_email, receiver_email, message.as_string())\n",
        "\n",
        "# Send alert if accuracy falls below threshold\n",
        "threshold = 0.8\n",
        "send_alert(accuracy, threshold)"
      ],
      "metadata": {
        "id": "cqk2MSFH9_Mu"
      },
      "execution_count": 14,
      "outputs": []
    },
    {
      "cell_type": "code",
      "source": [
        "from sklearn.metrics import classification_report,confusion_matrix\n",
        "print(\"Performance Metrics: \")\n",
        "y_pred = (y_pred > 0.5)\n",
        "metrics=classification_report (y_test,y_pred)\n",
        "print (metrics)\n",
        "cm=confusion_matrix(y_pred,y_pred)\n",
        "print(cm)\n",
        "plt.imshow(cm, cmap='binary')"
      ],
      "metadata": {
        "colab": {
          "base_uri": "https://localhost:8080/",
          "height": 802
        },
        "id": "yfkZi8HT_-nQ",
        "outputId": "64b64605-815e-4d60-d45c-d5f05a1aa2ab"
      },
      "execution_count": 29,
      "outputs": [
        {
          "output_type": "stream",
          "name": "stdout",
          "text": [
            "Performance Metrics: \n",
            "              precision    recall  f1-score   support\n",
            "\n",
            "           0       1.00      1.00      1.00        10\n",
            "           1       0.45      1.00      0.62         9\n",
            "           2       0.00      0.00      0.00        11\n",
            "\n",
            "    accuracy                           0.63        30\n",
            "   macro avg       0.48      0.67      0.54        30\n",
            "weighted avg       0.47      0.63      0.52        30\n",
            "\n",
            "[[10  0]\n",
            " [ 0 20]]\n"
          ]
        },
        {
          "output_type": "stream",
          "name": "stderr",
          "text": [
            "/usr/local/lib/python3.10/dist-packages/sklearn/metrics/_classification.py:1344: UndefinedMetricWarning: Precision and F-score are ill-defined and being set to 0.0 in labels with no predicted samples. Use `zero_division` parameter to control this behavior.\n",
            "  Support beyond term:`binary` targets is achieved by treating :term:`multiclass`\n",
            "/usr/local/lib/python3.10/dist-packages/sklearn/metrics/_classification.py:1344: UndefinedMetricWarning: Precision and F-score are ill-defined and being set to 0.0 in labels with no predicted samples. Use `zero_division` parameter to control this behavior.\n",
            "  Support beyond term:`binary` targets is achieved by treating :term:`multiclass`\n",
            "/usr/local/lib/python3.10/dist-packages/sklearn/metrics/_classification.py:1344: UndefinedMetricWarning: Precision and F-score are ill-defined and being set to 0.0 in labels with no predicted samples. Use `zero_division` parameter to control this behavior.\n",
            "  Support beyond term:`binary` targets is achieved by treating :term:`multiclass`\n"
          ]
        },
        {
          "output_type": "execute_result",
          "data": {
            "text/plain": [
              "<matplotlib.image.AxesImage at 0x7e1fc0441720>"
            ]
          },
          "metadata": {},
          "execution_count": 29
        },
        {
          "output_type": "display_data",
          "data": {
            "text/plain": [
              "<Figure size 640x480 with 1 Axes>"
            ],
            "image/png": "[encoded data removed]"
          },
          "metadata": {}
        }
      ]
    }
  ]
}