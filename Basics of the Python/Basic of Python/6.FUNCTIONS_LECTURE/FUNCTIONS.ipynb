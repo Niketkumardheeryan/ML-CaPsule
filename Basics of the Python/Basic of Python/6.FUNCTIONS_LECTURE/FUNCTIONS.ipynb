{
 "cells": [
  {
   "cell_type": "markdown",
   "metadata": {},
   "source": [
    "<h1 style=\"color:blue;text-align:center;\">FUNCTIONS</h1>\n",
    "<ul>\n",
    "    <li>Reduces the amount of code</li>\n",
    "    <li>Can be called anywhere in the notebook or cell</li>\n",
    "    <li>Functions must be given a name</li>\n",
    "    <li>Can contain multiple parameters or none at all</li>\n",
    "    <li>A parameter can have default values</li>\n",
    "</ul>"
   ]
  },
  {
   "cell_type": "code",
   "execution_count": 1,
   "metadata": {},
   "outputs": [
    {
     "data": {
      "text/plain": [
       "function"
      ]
     },
     "execution_count": 1,
     "metadata": {},
     "output_type": "execute_result"
    }
   ],
   "source": [
    "def square(arg1=20, arg2=50):\n",
    "    \"\"\"This adds two numbers together\"\"\"\n",
    "    return( arg1 + arg2)\n",
    "val = square(90, 110)\n",
    "type(square)\n"
   ]
  },
  {
   "cell_type": "code",
   "execution_count": 2,
   "metadata": {},
   "outputs": [
    {
     "name": "stdout",
     "output_type": "stream",
     "text": [
      "16\n",
      "64\n",
      "256\n"
     ]
    },
    {
     "data": {
      "text/plain": [
       "336"
      ]
     },
     "execution_count": 2,
     "metadata": {},
     "output_type": "execute_result"
    }
   ],
   "source": [
    "def squared(num):\n",
    "    return num**2\n",
    "def cubed(num):\n",
    "    return num**3\n",
    "def quad(num):\n",
    "    return num**4\n",
    "v = 4\n",
    "print(squared(v))\n",
    "print(cubed(v))\n",
    "print(quad(v))\n",
    "total = squared(v) + cubed(v) + quad(v)\n",
    "total"
   ]
  },
  {
   "cell_type": "code",
   "execution_count": 4,
   "metadata": {},
   "outputs": [],
   "source": [
    "def greet():\n",
    "    \"\"\"Enter the time and print appropriate greeting!\"\"\"\n",
    "    time = eval(input(\"Enter the time: \"))\n",
    "    if time >= 6 and time < 12:\n",
    "        print(\"Good morning!\")\n",
    "        return squared(time)\n",
    "    elif time >= 12 and time < 18:\n",
    "        print(\"Afternoon!\")\n",
    "        return cubed(time)\n",
    "    elif time >= 18 and time < 21:\n",
    "        print(\"Good evening!\")\n",
    "        return quad(time)\n",
    "    else:\n",
    "        print(\"Good night!\")\n",
    "        return time\n"
   ]
  },
  {
   "cell_type": "code",
   "execution_count": 5,
   "metadata": {},
   "outputs": [
    {
     "name": "stdout",
     "output_type": "stream",
     "text": [
      "Good morning!\n"
     ]
    }
   ],
   "source": [
    "number = greet()"
   ]
  },
  {
   "cell_type": "code",
   "execution_count": 6,
   "metadata": {},
   "outputs": [
    {
     "data": {
      "text/plain": [
       "49"
      ]
     },
     "execution_count": 6,
     "metadata": {},
     "output_type": "execute_result"
    }
   ],
   "source": [
    "number"
   ]
  },
  {
   "cell_type": "code",
   "execution_count": null,
   "metadata": {},
   "outputs": [],
   "source": []
  },
  {
   "cell_type": "code",
   "execution_count": null,
   "metadata": {},
   "outputs": [],
   "source": []
  },
  {
   "cell_type": "markdown",
   "metadata": {},
   "source": []
  }
 ],
 "metadata": {
  "kernelspec": {
   "display_name": "vars",
   "language": "python",
   "name": "vars"
  },
  "language_info": {
   "codemirror_mode": {
    "name": "ipython",
    "version": 3
   },
   "file_extension": ".py",
   "mimetype": "text/x-python",
   "name": "python",
   "nbconvert_exporter": "python",
   "pygments_lexer": "ipython3",
   "version": "3.8.5"
  }
 },
 "nbformat": 4,
 "nbformat_minor": 2
}
