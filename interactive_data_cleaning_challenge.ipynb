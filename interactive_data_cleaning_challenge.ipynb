{
  "nbformat": 4,
  "nbformat_minor": 0,
  "metadata": {
    "colab": {
      "provenance": []
    },
    "kernelspec": {
      "name": "python3",
      "display_name": "Python 3"
    },
    "language_info": {
      "name": "python"
    }
  },
  "cells": [
    {
      "cell_type": "code",
      "execution_count": null,
      "metadata": {
        "colab": {
          "base_uri": "https://localhost:8080/"
        },
        "id": "AdTYcdyTyqDp",
        "outputId": "2dd20aa0-0cf8-4060-86a4-b44304cb0a97"
      },
      "outputs": [
        {
          "output_type": "stream",
          "name": "stdout",
          "text": [
            "Welcome to the Data Cleaning Challenge!\n",
            "\n",
            "Task: Your goal is to fill the missing values in the 'Age' and 'Salary' columns.\n",
            "You can fill missing values using one of the following methods: 'mean', 'median', or 'mode'.\n",
            "Original DataFrame with Missing Values:\n",
            "    Age   Salary          City\n",
            "0  25.0  50000.0      New York\n",
            "1   NaN  55000.0   Los Angeles\n",
            "2  30.0      NaN       Chicago\n",
            "3  35.0  60000.0       Houston\n",
            "4   NaN  65000.0       Phoenix\n",
            "5  40.0      NaN  Philadelphia\n",
            "6  45.0  70000.0   San Antonio\n",
            "\n",
            "Missing values (True = Missing, False = Not Missing):\n",
            "     Age  Salary   City\n",
            "0  False   False  False\n",
            "1   True   False  False\n",
            "2  False    True  False\n",
            "3  False   False  False\n",
            "4   True   False  False\n",
            "5  False    True  False\n",
            "6  False   False  False\n"
          ]
        }
      ],
      "source": [
        "# Importing necessary libraries\n",
        "import pandas as pd\n",
        "import numpy as np\n",
        "\n",
        "# Create a small dataset with missing values\n",
        "data = {\n",
        "    'Age': [25, np.nan, 30, 35, np.nan, 40, 45],\n",
        "    'Salary': [50000, 55000, np.nan, 60000, 65000, np.nan, 70000],\n",
        "    'City': ['New York', 'Los Angeles', 'Chicago', 'Houston', 'Phoenix', 'Philadelphia', 'San Antonio']\n",
        "}\n",
        "\n",
        "# Convert the dataset into a DataFrame\n",
        "df = pd.DataFrame(data)\n",
        "\n",
        "# Show the original DataFrame with missing values\n",
        "def display_original_data():\n",
        "    print(\"Original DataFrame with Missing Values:\")\n",
        "    print(df)\n",
        "    print(\"\\nMissing values (True = Missing, False = Not Missing):\")\n",
        "    print(df.isnull())\n",
        "\n",
        "# Function to fill missing values in 'Age' and 'Salary' columns\n",
        "def fill_missing_values(method='mean'):\n",
        "    if method == 'mean':\n",
        "        df['Age'] = df['Age'].fillna(df['Age'].mean())\n",
        "        df['Salary'] = df['Salary'].fillna(df['Salary'].mean())\n",
        "    elif method == 'median':\n",
        "        df['Age'] = df['Age'].fillna(df['Age'].median())\n",
        "        df['Salary'] = df['Salary'].fillna(df['Salary'].median())\n",
        "    elif method == 'mode':\n",
        "        df['Age'] = df['Age'].fillna(df['Age'].mode()[0])\n",
        "        df['Salary'] = df['Salary'].fillna(df['Salary'].mode()[0])\n",
        "    else:\n",
        "        print(\"Invalid method! Please choose from 'mean', 'median', or 'mode'.\")\n",
        "\n",
        "# Provide feedback based on missing values\n",
        "def provide_feedback():\n",
        "    if df.isnull().sum().sum() == 0:\n",
        "        print(\"\\n✅ Well done! All missing values have been filled.\")\n",
        "    else:\n",
        "        print(\"\\n❌ Some missing values are still present. Make sure you have filled all missing values correctly.\")\n",
        "\n",
        "# Interactive challenge instructions\n",
        "def interactive_challenge():\n",
        "    print(\"Welcome to the Data Cleaning Challenge!\")\n",
        "    print(\"\\nTask: Your goal is to fill the missing values in the 'Age' and 'Salary' columns.\")\n",
        "    print(\"You can fill missing values using one of the following methods: 'mean', 'median', or 'mode'.\")\n",
        "\n",
        "    # Show the original data\n",
        "    display_original_data()\n",
        "\n",
        "    # Ask user to choose a method for filling missing values\n",
        "    method = input(\"\\nEnter the method to fill missing values ('mean', 'median', 'mode'): \").lower()\n",
        "\n",
        "    # Fill missing values based on user's choice\n",
        "    fill_missing_values(method)\n",
        "\n",
        "    # Display the cleaned data and provide feedback\n",
        "    print(\"\\nDataFrame after cleaning:\")\n",
        "    print(df)\n",
        "    provide_feedback()\n",
        "\n",
        "# Start the interactive challenge\n",
        "interactive_challenge()\n"
      ]
    }
  ]
}