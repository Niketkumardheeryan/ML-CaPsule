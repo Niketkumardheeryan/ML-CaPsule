{
  "nbformat": 4,
  "nbformat_minor": 0,
  "metadata": {
    "colab": {
      "provenance": []
    },
    "kernelspec": {
      "name": "python3",
      "display_name": "Python 3"
    },
    "language_info": {
      "name": "python"
    }
  },
  "cells": [
    {
      "cell_type": "code",
      "execution_count": null,
      "metadata": {
        "id": "k42Oc--lPMPf"
      },
      "outputs": [],
      "source": []
    },
    {
      "cell_type": "markdown",
      "source": [
        "# Algorithmic Trading Strategy Optimization"
      ],
      "metadata": {
        "id": "Yba4MmixPUfB"
      }
    },
    {
      "cell_type": "code",
      "source": [
        "import numpy as np\n",
        "import pandas as pd\n",
        "\n",
        "# Load the dataset\n",
        "data = pd.read_csv('algorithmic_trading_data.csv')\n",
        "data['Date'] = pd.to_datetime(data['Date'])\n",
        "prices = data['Price'].values\n",
        "sma_20 = data['SMA_20'].values\n",
        "sma_50 = data['SMA_50'].values\n",
        "rsi = data['RSI'].values\n",
        "macd = data['MACD'].values\n",
        "macd_signal = data['MACD_Signal'].values"
      ],
      "metadata": {
        "id": "_Nt2e5tbPg_Z"
      },
      "execution_count": 2,
      "outputs": []
    },
    {
      "cell_type": "code",
      "source": [
        "# Define a function to simulate the trading strategy\n",
        "def simulate_trading_strategy(strategy, prices, sma_20, sma_50, rsi, macd, macd_signal):\n",
        "    signals = np.zeros_like(prices)\n",
        "    for i in range(len(prices)):\n",
        "        if strategy['buy_condition'](i, prices, sma_20, sma_50, rsi, macd, macd_signal):\n",
        "            signals[i] = 1  # Buy signal\n",
        "        elif strategy['sell_condition'](i, prices, sma_20, sma_50, rsi, macd, macd_signal):\n",
        "            signals[i] = -1  # Sell signal\n",
        "    returns = np.diff(prices) / prices[:-1]\n",
        "    strategy_returns = signals[:-1] * returns\n",
        "    total_return = np.sum(strategy_returns)\n",
        "    return total_return\n"
      ],
      "metadata": {
        "id": "_SIi7eGLPg72"
      },
      "execution_count": 3,
      "outputs": []
    },
    {
      "cell_type": "code",
      "source": [
        "# Example buy and sell conditions\n",
        "def buy_condition(index, prices, sma_20, sma_50, rsi, macd, macd_signal):\n",
        "    return sma_20[index] > sma_50[index] and rsi[index] < 30 and macd[index] > macd_signal[index]\n",
        "\n",
        "def sell_condition(index, prices, sma_20, sma_50, rsi, macd, macd_signal):\n",
        "    return sma_20[index] < sma_50[index] and rsi[index] > 70 and macd[index] < macd_signal[index]\n"
      ],
      "metadata": {
        "id": "RecEjwg9Pg46"
      },
      "execution_count": 4,
      "outputs": []
    },
    {
      "cell_type": "code",
      "source": [
        "# Example fitness function to maximize the total return of the trading strategy\n",
        "def fitness_function(individual, prices, sma_20, sma_50, rsi, macd, macd_signal):\n",
        "    strategy = {\n",
        "        'buy_condition': individual['buy_condition'],\n",
        "        'sell_condition': individual['sell_condition']\n",
        "    }\n",
        "    return simulate_trading_strategy(strategy, prices, sma_20, sma_50, rsi, macd, macd_signal)"
      ],
      "metadata": {
        "id": "AXxjDEuoPgs-"
      },
      "execution_count": 5,
      "outputs": []
    },
    {
      "cell_type": "code",
      "source": [
        "# Genetic Algorithm components\n",
        "def initialize_population(pop_size):\n",
        "    population = []\n",
        "    for _ in range(pop_size):\n",
        "        individual = {\n",
        "            'buy_condition': buy_condition,\n",
        "            'sell_condition': sell_condition\n",
        "        }\n",
        "        population.append(individual)\n",
        "    return population\n",
        "\n",
        "def selection(population, fitness_scores, num_parents):\n",
        "    parents = [population[idx] for idx in np.argsort(fitness_scores)[-num_parents:]]\n",
        "    return parents\n",
        "\n",
        "def crossover(parents, offspring_size):\n",
        "    offspring = []\n",
        "    for _ in range(offspring_size):\n",
        "        parent1 = np.random.choice(parents)\n",
        "        parent2 = np.random.choice(parents)\n",
        "        child = {\n",
        "            'buy_condition': parent1['buy_condition'],\n",
        "            'sell_condition': parent2['sell_condition']\n",
        "        }\n",
        "        offspring.append(child)\n",
        "    return offspring\n",
        "\n",
        "def mutation(offspring, mutation_rate=0.01):\n",
        "    for individual in offspring:\n",
        "        if np.random.rand() < mutation_rate:\n",
        "            # Randomly change buy or sell condition\n",
        "            if np.random.rand() < 0.5:\n",
        "                individual['buy_condition'] = buy_condition\n",
        "            else:\n",
        "                individual['sell_condition'] = sell_condition\n",
        "    return offspring\n",
        "\n",
        "def genetic_algorithm(prices, sma_20, sma_50, rsi, macd, macd_signal, num_generations, pop_size, num_parents, mutation_rate):\n",
        "    population = initialize_population(pop_size)\n",
        "    for generation in range(num_generations):\n",
        "        fitness_scores = np.array([fitness_function(individual, prices, sma_20, sma_50, rsi, macd, macd_signal) for individual in population])\n",
        "        parents = selection(population, fitness_scores, num_parents)\n",
        "        offspring_size = pop_size - len(parents)\n",
        "        offspring = crossover(parents, offspring_size)\n",
        "        offspring = mutation(offspring, mutation_rate)\n",
        "        population = parents + offspring\n",
        "        best_fitness = np.max(fitness_scores)\n",
        "        print(f\"Generation {generation}: Best Fitness = {best_fitness}\")\n",
        "    best_strategy = population[np.argmax(fitness_scores)]\n",
        "    return best_strategy\n",
        "\n",
        "# Run the genetic algorithm\n",
        "num_generations = 50\n",
        "pop_size = 100\n",
        "num_parents = 20\n",
        "mutation_rate = 0.01\n",
        "\n",
        "best_strategy = genetic_algorithm(prices, sma_20, sma_50, rsi, macd, macd_signal, num_generations, pop_size, num_parents, mutation_rate)\n",
        "print(f\"Best Trading Strategy: Buy Condition: {best_strategy['buy_condition']}, Sell Condition: {best_strategy['sell_condition']}\")"
      ],
      "metadata": {
        "colab": {
          "base_uri": "https://localhost:8080/"
        },
        "id": "hMPMIB7gP3c0",
        "outputId": "76d6a914-cfd8-4278-b029-30b217b02d2b"
      },
      "execution_count": 6,
      "outputs": [
        {
          "output_type": "stream",
          "name": "stdout",
          "text": [
            "Generation 0: Best Fitness = 0.0\n",
            "Generation 1: Best Fitness = 0.0\n",
            "Generation 2: Best Fitness = 0.0\n",
            "Generation 3: Best Fitness = 0.0\n",
            "Generation 4: Best Fitness = 0.0\n",
            "Generation 5: Best Fitness = 0.0\n",
            "Generation 6: Best Fitness = 0.0\n",
            "Generation 7: Best Fitness = 0.0\n",
            "Generation 8: Best Fitness = 0.0\n",
            "Generation 9: Best Fitness = 0.0\n",
            "Generation 10: Best Fitness = 0.0\n",
            "Generation 11: Best Fitness = 0.0\n",
            "Generation 12: Best Fitness = 0.0\n",
            "Generation 13: Best Fitness = 0.0\n",
            "Generation 14: Best Fitness = 0.0\n",
            "Generation 15: Best Fitness = 0.0\n",
            "Generation 16: Best Fitness = 0.0\n",
            "Generation 17: Best Fitness = 0.0\n",
            "Generation 18: Best Fitness = 0.0\n",
            "Generation 19: Best Fitness = 0.0\n",
            "Generation 20: Best Fitness = 0.0\n",
            "Generation 21: Best Fitness = 0.0\n",
            "Generation 22: Best Fitness = 0.0\n",
            "Generation 23: Best Fitness = 0.0\n",
            "Generation 24: Best Fitness = 0.0\n",
            "Generation 25: Best Fitness = 0.0\n",
            "Generation 26: Best Fitness = 0.0\n",
            "Generation 27: Best Fitness = 0.0\n",
            "Generation 28: Best Fitness = 0.0\n",
            "Generation 29: Best Fitness = 0.0\n",
            "Generation 30: Best Fitness = 0.0\n",
            "Generation 31: Best Fitness = 0.0\n",
            "Generation 32: Best Fitness = 0.0\n",
            "Generation 33: Best Fitness = 0.0\n",
            "Generation 34: Best Fitness = 0.0\n",
            "Generation 35: Best Fitness = 0.0\n",
            "Generation 36: Best Fitness = 0.0\n",
            "Generation 37: Best Fitness = 0.0\n",
            "Generation 38: Best Fitness = 0.0\n",
            "Generation 39: Best Fitness = 0.0\n",
            "Generation 40: Best Fitness = 0.0\n",
            "Generation 41: Best Fitness = 0.0\n",
            "Generation 42: Best Fitness = 0.0\n",
            "Generation 43: Best Fitness = 0.0\n",
            "Generation 44: Best Fitness = 0.0\n",
            "Generation 45: Best Fitness = 0.0\n",
            "Generation 46: Best Fitness = 0.0\n",
            "Generation 47: Best Fitness = 0.0\n",
            "Generation 48: Best Fitness = 0.0\n",
            "Generation 49: Best Fitness = 0.0\n",
            "Best Trading Strategy: Buy Condition: <function buy_condition at 0x7fb2a5317640>, Sell Condition: <function sell_condition at 0x7fb2a53176d0>\n"
          ]
        }
      ]
    }
  ]
}