{
 "cells": [
  {
   "cell_type": "markdown",
   "id": "aa9ef2be-433f-49e5-b285-0142ee905e38",
   "metadata": {},
   "source": [
    "# Handling Missing Values in Pandas"
   ]
  },
  {
   "cell_type": "markdown",
   "id": "e1a1b6bd-7821-4897-bc53-5afc059c65cb",
   "metadata": {},
   "source": [
    "**Before doing some analysis of datset using Pandas , first deal with dataset having missing values because in real life it is the one of the main problem.**\n",
    "\n",
    "*Many datasets arrive with missing data either because it exists and was not collected or it never existed.*"
   ]
  },
  {
   "cell_type": "markdown",
   "id": "ecf46c33-6d3f-4c04-b589-da3f376d742e",
   "metadata": {},
   "source": [
    "In Pandas missing data is represented by two values:\n",
    "\n",
    "* `None` : None is simply is `keyword` refer as empty or none.\n",
    "* `NaN` : Acronym for `Not a Number`."
   ]
  },
  {
   "cell_type": "markdown",
   "id": "e74b9517-b7c3-4379-89fd-515cdfe6f261",
   "metadata": {},
   "source": [
    "**There are several useful functions for detecting, removing, and replacing null values in Pandas DataFrame :**\n",
    "\n",
    "1. isnull()\n",
    "2. notnull()\n",
    "3. dropna()\n",
    "4. fillna()\n",
    "5. replace()"
   ]
  },
  {
   "cell_type": "markdown",
   "id": "0c76c2fc-efe8-4faf-903a-f8eddd2ec40a",
   "metadata": {},
   "source": [
    "## 2. Checking for missing values using `isnull()` and `notnull()`"
   ]
  },
  {
   "cell_type": "markdown",
   "id": "1f84a8b5-6220-43ca-9ff7-b806b0e79afd",
   "metadata": {},
   "source": [
    "Let's import pandas and our fancy car-sales dataset having some missing values."
   ]
  },
  {
   "cell_type": "code",
   "execution_count": 16,
   "id": "e252ef15-86d4-4660-bd85-a1b6f2953013",
   "metadata": {},
   "outputs": [],
   "source": [
    "import pandas as pd"
   ]
  },
  {
   "cell_type": "code",
   "execution_count": 17,
   "id": "d7c1cc61-fe0c-4af2-9e62-d11ca71be9fd",
   "metadata": {},
   "outputs": [
    {
     "data": {
      "text/html": [
       "<div>\n",
       "<style scoped>\n",
       "    .dataframe tbody tr th:only-of-type {\n",
       "        vertical-align: middle;\n",
       "    }\n",
       "\n",
       "    .dataframe tbody tr th {\n",
       "        vertical-align: top;\n",
       "    }\n",
       "\n",
       "    .dataframe thead th {\n",
       "        text-align: right;\n",
       "    }\n",
       "</style>\n",
       "<table border=\"1\" class=\"dataframe\">\n",
       "  <thead>\n",
       "    <tr style=\"text-align: right;\">\n",
       "      <th></th>\n",
       "      <th>Make</th>\n",
       "      <th>Colour</th>\n",
       "      <th>Odometer</th>\n",
       "      <th>Doors</th>\n",
       "      <th>Price</th>\n",
       "    </tr>\n",
       "  </thead>\n",
       "  <tbody>\n",
       "    <tr>\n",
       "      <th>0</th>\n",
       "      <td>Toyota</td>\n",
       "      <td>White</td>\n",
       "      <td>150043.0</td>\n",
       "      <td>4.0</td>\n",
       "      <td>$4,000</td>\n",
       "    </tr>\n",
       "    <tr>\n",
       "      <th>1</th>\n",
       "      <td>Honda</td>\n",
       "      <td>Red</td>\n",
       "      <td>87899.0</td>\n",
       "      <td>4.0</td>\n",
       "      <td>$5,000</td>\n",
       "    </tr>\n",
       "    <tr>\n",
       "      <th>2</th>\n",
       "      <td>Toyota</td>\n",
       "      <td>Blue</td>\n",
       "      <td>NaN</td>\n",
       "      <td>3.0</td>\n",
       "      <td>$7,000</td>\n",
       "    </tr>\n",
       "    <tr>\n",
       "      <th>3</th>\n",
       "      <td>BMW</td>\n",
       "      <td>Black</td>\n",
       "      <td>11179.0</td>\n",
       "      <td>5.0</td>\n",
       "      <td>$22,000</td>\n",
       "    </tr>\n",
       "    <tr>\n",
       "      <th>4</th>\n",
       "      <td>Nissan</td>\n",
       "      <td>White</td>\n",
       "      <td>213095.0</td>\n",
       "      <td>4.0</td>\n",
       "      <td>$3,500</td>\n",
       "    </tr>\n",
       "    <tr>\n",
       "      <th>5</th>\n",
       "      <td>Toyota</td>\n",
       "      <td>Green</td>\n",
       "      <td>NaN</td>\n",
       "      <td>4.0</td>\n",
       "      <td>$4,500</td>\n",
       "    </tr>\n",
       "    <tr>\n",
       "      <th>6</th>\n",
       "      <td>Honda</td>\n",
       "      <td>NaN</td>\n",
       "      <td>NaN</td>\n",
       "      <td>4.0</td>\n",
       "      <td>$7,500</td>\n",
       "    </tr>\n",
       "    <tr>\n",
       "      <th>7</th>\n",
       "      <td>Honda</td>\n",
       "      <td>Blue</td>\n",
       "      <td>NaN</td>\n",
       "      <td>4.0</td>\n",
       "      <td>NaN</td>\n",
       "    </tr>\n",
       "    <tr>\n",
       "      <th>8</th>\n",
       "      <td>Toyota</td>\n",
       "      <td>White</td>\n",
       "      <td>60000.0</td>\n",
       "      <td>NaN</td>\n",
       "      <td>NaN</td>\n",
       "    </tr>\n",
       "    <tr>\n",
       "      <th>9</th>\n",
       "      <td>NaN</td>\n",
       "      <td>White</td>\n",
       "      <td>31600.0</td>\n",
       "      <td>4.0</td>\n",
       "      <td>$9,700</td>\n",
       "    </tr>\n",
       "  </tbody>\n",
       "</table>\n",
       "</div>"
      ],
      "text/plain": [
       "     Make Colour  Odometer  Doors    Price\n",
       "0  Toyota  White  150043.0    4.0   $4,000\n",
       "1   Honda    Red   87899.0    4.0   $5,000\n",
       "2  Toyota   Blue       NaN    3.0   $7,000\n",
       "3     BMW  Black   11179.0    5.0  $22,000\n",
       "4  Nissan  White  213095.0    4.0   $3,500\n",
       "5  Toyota  Green       NaN    4.0   $4,500\n",
       "6   Honda    NaN       NaN    4.0   $7,500\n",
       "7   Honda   Blue       NaN    4.0      NaN\n",
       "8  Toyota  White   60000.0    NaN      NaN\n",
       "9     NaN  White   31600.0    4.0   $9,700"
      ]
     },
     "execution_count": 17,
     "metadata": {},
     "output_type": "execute_result"
    }
   ],
   "source": [
    "car_sales_missing_df = pd.read_csv(\"https://raw.githubusercontent.com/kRiShNa-429407/ML-CaPsule/master/Pandas-Basics/Datasets/car-sales-missing-data.csv\")\n",
    "car_sales_missing_df"
   ]
  },
  {
   "cell_type": "code",
   "execution_count": 18,
   "id": "7614af3f-a527-469f-8c15-9e2b3442781f",
   "metadata": {},
   "outputs": [
    {
     "name": "stdout",
     "output_type": "stream",
     "text": [
      "    Make  Colour  Odometer  Doors  Price\n",
      "0  False   False     False  False  False\n",
      "1  False   False     False  False  False\n",
      "2  False   False      True  False  False\n",
      "3  False   False     False  False  False\n",
      "4  False   False     False  False  False\n",
      "5  False   False      True  False  False\n",
      "6  False    True      True  False  False\n",
      "7  False   False      True  False   True\n",
      "8  False   False     False   True   True\n",
      "9   True   False     False  False  False\n"
     ]
    }
   ],
   "source": [
    "## Using isnull()\n",
    "\n",
    "print(car_sales_missing_df.isnull())"
   ]
  },
  {
   "cell_type": "markdown",
   "id": "833103f9-b117-48e9-bfb2-ef7bca8e64b2",
   "metadata": {},
   "source": [
    "Note here:\n",
    "* `True` means for `NaN` values\n",
    "* `False` means for no `Nan` values"
   ]
  },
  {
   "cell_type": "markdown",
   "id": "6c31a821-5d9e-4e1b-a8af-d230cfecf2cb",
   "metadata": {},
   "source": [
    "If we want to find the number of missing values in each column use `isnull().sum()`."
   ]
  },
  {
   "cell_type": "code",
   "execution_count": 19,
   "id": "a656ecc2-2e6f-46be-9d5d-1f34fbe74c80",
   "metadata": {},
   "outputs": [
    {
     "name": "stdout",
     "output_type": "stream",
     "text": [
      "Make        1\n",
      "Colour      1\n",
      "Odometer    4\n",
      "Doors       1\n",
      "Price       2\n",
      "dtype: int64\n"
     ]
    }
   ],
   "source": [
    "print(car_sales_missing_df.isnull().sum())"
   ]
  },
  {
   "cell_type": "markdown",
   "id": "c8f1a282-dc56-431b-9964-c3fb3fb47c3c",
   "metadata": {},
   "source": [
    "You can also check presense of null values in a single column."
   ]
  },
  {
   "cell_type": "code",
   "execution_count": 20,
   "id": "be5f37c2-ae59-4f72-8645-eedd20869a04",
   "metadata": {},
   "outputs": [
    {
     "name": "stdout",
     "output_type": "stream",
     "text": [
      "0    False\n",
      "1    False\n",
      "2     True\n",
      "3    False\n",
      "4    False\n",
      "5     True\n",
      "6     True\n",
      "7     True\n",
      "8    False\n",
      "9    False\n",
      "Name: Odometer, dtype: bool\n"
     ]
    }
   ],
   "source": [
    "print(car_sales_missing_df[\"Odometer\"].isnull())"
   ]
  },
  {
   "cell_type": "code",
   "execution_count": 21,
   "id": "fa1e3888-ec38-4500-9c34-a459f50b9e4a",
   "metadata": {},
   "outputs": [
    {
     "name": "stdout",
     "output_type": "stream",
     "text": [
      "    Make  Colour  Odometer  Doors  Price\n",
      "0   True    True      True   True   True\n",
      "1   True    True      True   True   True\n",
      "2   True    True     False   True   True\n",
      "3   True    True      True   True   True\n",
      "4   True    True      True   True   True\n",
      "5   True    True     False   True   True\n",
      "6   True   False     False   True   True\n",
      "7   True    True     False   True  False\n",
      "8   True    True      True  False  False\n",
      "9  False    True      True   True   True\n"
     ]
    }
   ],
   "source": [
    "## using notnull()\n",
    "\n",
    "print(car_sales_missing_df.notnull())"
   ]
  },
  {
   "cell_type": "markdown",
   "id": "a9daf107-e156-49ac-bce8-c4b7e8110130",
   "metadata": {},
   "source": [
    "Note here:\n",
    "* `True` means no `NaN` values\n",
    "* `False` means for `NaN` values"
   ]
  },
  {
   "cell_type": "markdown",
   "id": "f583f167-4340-4e22-9d96-dd7fd173383b",
   "metadata": {},
   "source": [
    "#### A little note here : `isnull()` means having null values so it gives boolean `True` for NaN values. And `notnull()` means having no null values so it gives `True` for no NaN value."
   ]
  },
  {
   "cell_type": "markdown",
   "id": "cf04bc76-e31f-4799-baca-59afcd73f5d7",
   "metadata": {},
   "source": [
    "## 2. Filling missing values using `fillna()`, `replace()`."
   ]
  },
  {
   "cell_type": "code",
   "execution_count": 22,
   "id": "c6de1a9d-a429-4df9-a2c2-7d4e63069c5a",
   "metadata": {},
   "outputs": [
    {
     "name": "stdout",
     "output_type": "stream",
     "text": [
      "     Make Colour  Odometer  Doors    Price\n",
      "0  Toyota  White  150043.0    4.0   $4,000\n",
      "1   Honda    Red   87899.0    4.0   $5,000\n",
      "2  Toyota   Blue       0.0    3.0   $7,000\n",
      "3     BMW  Black   11179.0    5.0  $22,000\n",
      "4  Nissan  White  213095.0    4.0   $3,500\n",
      "5  Toyota  Green       0.0    4.0   $4,500\n",
      "6   Honda      0       0.0    4.0   $7,500\n",
      "7   Honda   Blue       0.0    4.0        0\n",
      "8  Toyota  White   60000.0    0.0        0\n",
      "9       0  White   31600.0    4.0   $9,700\n"
     ]
    }
   ],
   "source": [
    "## Filling missing values  with a single value using `fillna`\n",
    "print(car_sales_missing_df.fillna(0))"
   ]
  },
  {
   "cell_type": "code",
   "execution_count": 23,
   "id": "9cb0fc54-e22b-4cdc-a5b5-59cc5db89251",
   "metadata": {},
   "outputs": [
    {
     "name": "stdout",
     "output_type": "stream",
     "text": [
      "     Make Colour  Odometer  Doors    Price\n",
      "0  Toyota  White  150043.0    4.0   $4,000\n",
      "1   Honda    Red   87899.0    4.0   $5,000\n",
      "2  Toyota   Blue   87899.0    3.0   $7,000\n",
      "3     BMW  Black   11179.0    5.0  $22,000\n",
      "4  Nissan  White  213095.0    4.0   $3,500\n",
      "5  Toyota  Green  213095.0    4.0   $4,500\n",
      "6   Honda  Green  213095.0    4.0   $7,500\n",
      "7   Honda   Blue  213095.0    4.0   $7,500\n",
      "8  Toyota  White   60000.0    4.0   $7,500\n",
      "9  Toyota  White   31600.0    4.0   $9,700\n"
     ]
    }
   ],
   "source": [
    "## Filling missing values with the previous value using `ffill()`\n",
    "print(car_sales_missing_df.ffill())"
   ]
  },
  {
   "cell_type": "code",
   "execution_count": 24,
   "id": "b2c8786b-62e5-48d7-827e-44134c589f55",
   "metadata": {},
   "outputs": [
    {
     "name": "stdout",
     "output_type": "stream",
     "text": [
      "     Make Colour  Odometer  Doors    Price\n",
      "0  Toyota  White  150043.0    4.0   $4,000\n",
      "1   Honda    Red   87899.0    4.0   $5,000\n",
      "2  Toyota   Blue   11179.0    3.0   $7,000\n",
      "3     BMW  Black   11179.0    5.0  $22,000\n",
      "4  Nissan  White  213095.0    4.0   $3,500\n",
      "5  Toyota  Green   60000.0    4.0   $4,500\n",
      "6   Honda   Blue   60000.0    4.0   $7,500\n",
      "7   Honda   Blue   60000.0    4.0   $9,700\n",
      "8  Toyota  White   60000.0    4.0   $9,700\n",
      "9     NaN  White   31600.0    4.0   $9,700\n"
     ]
    }
   ],
   "source": [
    "## illing null value with the next ones  using 'bfill()'\n",
    "print(car_sales_missing_df.bfill())"
   ]
  },
  {
   "cell_type": "markdown",
   "id": "8e2babac-9447-4dbc-8c30-fb9d07e65bbc",
   "metadata": {},
   "source": [
    "#### Filling a null values using `replace()` method"
   ]
  },
  {
   "cell_type": "markdown",
   "id": "a0ca9f77-b0ea-4566-bcd1-94dfa043b583",
   "metadata": {},
   "source": [
    "**Now we are going to replace the all Nan value in the data frame with -125 value**"
   ]
  },
  {
   "cell_type": "markdown",
   "id": "19b4240c-8651-4ce1-b33e-602ec4b82c63",
   "metadata": {},
   "source": [
    "*For this we will need numpy also*"
   ]
  },
  {
   "cell_type": "code",
   "execution_count": 25,
   "id": "57e48e7b-8b4a-490e-aefe-e94d7d75eb63",
   "metadata": {},
   "outputs": [],
   "source": [
    "import numpy as np"
   ]
  },
  {
   "cell_type": "code",
   "execution_count": 26,
   "id": "aa60c1ae-61d0-4dc6-aee9-fc456aa063e0",
   "metadata": {},
   "outputs": [
    {
     "name": "stdout",
     "output_type": "stream",
     "text": [
      "     Make Colour  Odometer  Doors    Price\n",
      "0  Toyota  White  150043.0    4.0   $4,000\n",
      "1   Honda    Red   87899.0    4.0   $5,000\n",
      "2  Toyota   Blue    -125.0    3.0   $7,000\n",
      "3     BMW  Black   11179.0    5.0  $22,000\n",
      "4  Nissan  White  213095.0    4.0   $3,500\n",
      "5  Toyota  Green    -125.0    4.0   $4,500\n",
      "6   Honda   -125    -125.0    4.0   $7,500\n",
      "7   Honda   Blue    -125.0    4.0     -125\n",
      "8  Toyota  White   60000.0 -125.0     -125\n",
      "9    -125  White   31600.0    4.0   $9,700\n"
     ]
    }
   ],
   "source": [
    "print(car_sales_missing_df.replace(to_replace = np.nan, value = -125) )"
   ]
  },
  {
   "cell_type": "markdown",
   "id": "6f203252-c4dd-4ad7-b3fc-b02319d06b1a",
   "metadata": {},
   "source": [
    "## 3. Dropping missing values using `dropna()`"
   ]
  },
  {
   "cell_type": "markdown",
   "id": "21a674db-8446-440a-bdce-5944894cf6ab",
   "metadata": {},
   "source": [
    "**In order to drop a null values from a dataframe, we used `dropna()` function this function drop Rows/Columns of datasets with Null values in different ways.**"
   ]
  },
  {
   "cell_type": "markdown",
   "id": "425c1d00-e8ec-48f6-bf82-c05c15287da3",
   "metadata": {},
   "source": [
    "#### Dropping rows with at least 1 null value. "
   ]
  },
  {
   "cell_type": "code",
   "execution_count": 27,
   "id": "00c15f15-0314-4150-a848-98d6131abda9",
   "metadata": {},
   "outputs": [
    {
     "name": "stdout",
     "output_type": "stream",
     "text": [
      "     Make Colour  Odometer  Doors    Price\n",
      "0  Toyota  White  150043.0    4.0   $4,000\n",
      "1   Honda    Red   87899.0    4.0   $5,000\n",
      "3     BMW  Black   11179.0    5.0  $22,000\n",
      "4  Nissan  White  213095.0    4.0   $3,500\n"
     ]
    }
   ],
   "source": [
    "print(car_sales_missing_df.dropna(axis = 0))  ##Now we drop rows with at least one Nan value (Null value) "
   ]
  },
  {
   "cell_type": "markdown",
   "id": "facd1c39-eb76-4361-95a6-1d52b21b439c",
   "metadata": {},
   "source": [
    "#### Dropping rows if all values in that row are missing."
   ]
  },
  {
   "cell_type": "code",
   "execution_count": 28,
   "id": "690f3a38-60a7-4864-8a5b-4f14552cad57",
   "metadata": {},
   "outputs": [
    {
     "name": "stdout",
     "output_type": "stream",
     "text": [
      "     Make Colour  Odometer  Doors    Price\n",
      "0  Toyota  White  150043.0    4.0   $4,000\n",
      "1   Honda    Red   87899.0    4.0   $5,000\n",
      "2  Toyota   Blue       NaN    3.0   $7,000\n",
      "3     BMW  Black   11179.0    5.0  $22,000\n",
      "4  Nissan  White  213095.0    4.0   $3,500\n",
      "5  Toyota  Green       NaN    4.0   $4,500\n",
      "6   Honda    NaN       NaN    4.0   $7,500\n",
      "7   Honda   Blue       NaN    4.0      NaN\n",
      "8  Toyota  White   60000.0    NaN      NaN\n",
      "9     NaN  White   31600.0    4.0   $9,700\n"
     ]
    }
   ],
   "source": [
    "print(car_sales_missing_df.dropna(how = 'all',axis = 0))  ## If not have leave the row as it is"
   ]
  },
  {
   "cell_type": "markdown",
   "id": "2163c118-61fd-4abb-846d-acc4a466b681",
   "metadata": {},
   "source": [
    "#### Dropping columns with at least 1 null value"
   ]
  },
  {
   "cell_type": "code",
   "execution_count": 29,
   "id": "f0f11b85-581f-4df9-a1e1-2ba47b87951c",
   "metadata": {},
   "outputs": [
    {
     "name": "stdout",
     "output_type": "stream",
     "text": [
      "Empty DataFrame\n",
      "Columns: []\n",
      "Index: [0, 1, 2, 3, 4, 5, 6, 7, 8, 9]\n"
     ]
    }
   ],
   "source": [
    "print(car_sales_missing_df.dropna(axis = 1))"
   ]
  },
  {
   "cell_type": "markdown",
   "id": "b096d95e-079a-4b4a-9163-a67cd9527f91",
   "metadata": {},
   "source": [
    "Now we drop a columns which have at least 1 missing values.\n",
    "\n",
    "**Here the dataset becomes empty after dropna() because each column as atleast 1 null value so it remove that columns resulting in an empty dataframe.**"
   ]
  }
 ],
 "metadata": {
  "kernelspec": {
   "display_name": "Python 3 (ipykernel)",
   "language": "python",
   "name": "python3"
  },
  "language_info": {
   "codemirror_mode": {
    "name": "ipython",
    "version": 3
   },
   "file_extension": ".py",
   "mimetype": "text/x-python",
   "name": "python",
   "nbconvert_exporter": "python",
   "pygments_lexer": "ipython3",
   "version": "3.12.0"
  }
 },
 "nbformat": 4,
 "nbformat_minor": 5
}
