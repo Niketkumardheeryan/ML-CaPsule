{
 "cells": [
  {
   "cell_type": "code",
   "execution_count": 5,
   "metadata": {},
   "outputs": [
    {
     "name": "stdout",
     "output_type": "stream",
     "text": [
      "10\n",
      "12\n"
     ]
    }
   ],
   "source": [
    "a=10\n",
    "b=11\n",
    "print(a) # automatically print the next no. at the end\n",
    "print(12)"
   ]
  },
  {
   "cell_type": "code",
   "execution_count": 7,
   "metadata": {},
   "outputs": [
    {
     "name": "stdout",
     "output_type": "stream",
     "text": [
      "10 11\n",
      "12\n"
     ]
    }
   ],
   "source": [
    "print(a, end = \" \") # end=\"delimiter\" this will print the next no. with delimiter in between, delimiter can be anything\n",
    "print(b)\n",
    "print(12)"
   ]
  },
  {
   "cell_type": "code",
   "execution_count": 8,
   "metadata": {},
   "outputs": [
    {
     "data": {
      "text/plain": [
       "float"
      ]
     },
     "execution_count": 8,
     "metadata": {},
     "output_type": "execute_result"
    }
   ],
   "source": [
    "a=10\n",
    "type(a) #isko print nhi karega, but if we want to print this as well then use this inside print()\n",
    "\n",
    "a=12.3\n",
    "type(a) # only print the last line"
   ]
  },
  {
   "cell_type": "code",
   "execution_count": 9,
   "metadata": {},
   "outputs": [
    {
     "name": "stdout",
     "output_type": "stream",
     "text": [
      "<class 'int'>\n",
      "<class 'float'>\n",
      "<class 'complex'>\n"
     ]
    }
   ],
   "source": [
    "a=10\n",
    "print(type(a))\n",
    "\n",
    "a=12.3\n",
    "print(type(a))\n",
    "\n",
    "a=2+3j\n",
    "print(type(a))"
   ]
  },
  {
   "cell_type": "code",
   "execution_count": 17,
   "metadata": {},
   "outputs": [
    {
     "name": "stdout",
     "output_type": "stream",
     "text": [
      "5\n",
      "3\n",
      "1.6666666666666667\n",
      "1\n",
      "2\n",
      "15\n",
      "125\n"
     ]
    }
   ],
   "source": [
    "#operators\n",
    "\n",
    "a,b = 5,3\n",
    "\n",
    "print(a)\n",
    "print(b)\n",
    "print(a/b) # actual division\n",
    "print(a//b) # int value\n",
    "print(a%b) # gives remainder\n",
    "print(a*b) # multiply\n",
    "print(a**b) # a to the power b"
   ]
  },
  {
   "cell_type": "code",
   "execution_count": 2,
   "metadata": {},
   "outputs": [
    {
     "name": "stdout",
     "output_type": "stream",
     "text": [
      "2 1\n"
     ]
    }
   ],
   "source": [
    "# swapping\n",
    "\n",
    "a=1\n",
    "b=2\n",
    "a,b = b,a\n",
    "print(a,b)"
   ]
  },
  {
   "cell_type": "code",
   "execution_count": 60,
   "metadata": {},
   "outputs": [],
   "source": [
    "# boolean datatypes\n",
    "\n",
    "a = True\n",
    "b = False"
   ]
  },
  {
   "cell_type": "code",
   "execution_count": 61,
   "metadata": {},
   "outputs": [
    {
     "name": "stdout",
     "output_type": "stream",
     "text": [
      "False\n",
      "False\n"
     ]
    }
   ],
   "source": [
    "# loical operators\n",
    "\n",
    "a = 10\n",
    "b = 20\n",
    "c = 30\n",
    "\n",
    "print(a>b and a>c)\n",
    "print(b>c or a>b)"
   ]
  },
  {
   "cell_type": "code",
   "execution_count": 2,
   "metadata": {},
   "outputs": [
    {
     "name": "stdout",
     "output_type": "stream",
     "text": [
      "False\n",
      "True\n",
      "False\n",
      "False\n",
      "True\n",
      "True\n"
     ]
    }
   ],
   "source": [
    "# relational operators\n",
    "\n",
    "x = 10\n",
    "y = 20\n",
    "\n",
    "print(x==y)\n",
    "print(x<y)\n",
    "print(x>y)\n",
    "print(x>=y)\n",
    "print(x<=y)\n",
    "print(x!=y)"
   ]
  },
  {
   "cell_type": "code",
   "execution_count": 3,
   "metadata": {},
   "outputs": [
    {
     "name": "stdout",
     "output_type": "stream",
     "text": [
      "bye\n"
     ]
    }
   ],
   "source": [
    "# conditionals\n",
    "if x>y:\n",
    "    print(\"hi\")\n",
    "elif x==y:\n",
    "    print(\"hello\")\n",
    "else:\n",
    "    print(\"bye\")"
   ]
  },
  {
   "cell_type": "code",
   "execution_count": 5,
   "metadata": {},
   "outputs": [
    {
     "name": "stdout",
     "output_type": "stream",
     "text": [
      "5\n",
      "1 2 3 4 5 \n",
      "done\n"
     ]
    }
   ],
   "source": [
    "# while loop\n",
    "i=1\n",
    "n = int(input())\n",
    "while(i<=n):\n",
    "    print(i, end=\" \")\n",
    "    i=i+1\n",
    "print()\n",
    "print(\"done\")"
   ]
  },
  {
   "cell_type": "code",
   "execution_count": 17,
   "metadata": {},
   "outputs": [
    {
     "data": {
      "text/plain": [
       "3.0"
      ]
     },
     "execution_count": 17,
     "metadata": {},
     "output_type": "execute_result"
    }
   ],
   "source": [
    "import math\n",
    "math.sqrt(9)"
   ]
  },
  {
   "cell_type": "code",
   "execution_count": 6,
   "metadata": {},
   "outputs": [
    {
     "name": "stdout",
     "output_type": "stream",
     "text": [
      "1\n",
      "3\n",
      "5\n",
      "7\n",
      "9\n"
     ]
    }
   ],
   "source": [
    "# for loop\n",
    "for i in range(1,10,2):\n",
    "    print(i)"
   ]
  },
  {
   "cell_type": "code",
   "execution_count": 12,
   "metadata": {},
   "outputs": [
    {
     "name": "stdout",
     "output_type": "stream",
     "text": [
      "5\n",
      "prime\n"
     ]
    }
   ],
   "source": [
    "# prime no.\n",
    "n = int(input())\n",
    "flag = True\n",
    "for i in range(2,n):\n",
    "    if(n%i==0):\n",
    "        flag=false\n",
    "        break\n",
    "if flag:\n",
    "    print(\"prime\")\n",
    "else:\n",
    "    print(\"not prime\")"
   ]
  },
  {
   "cell_type": "code",
   "execution_count": 1,
   "metadata": {},
   "outputs": [
    {
     "name": "stdout",
     "output_type": "stream",
     "text": [
      "12\n",
      "2\n",
      "3\n",
      "5\n",
      "7\n",
      "11\n"
     ]
    }
   ],
   "source": [
    "# all prime no.\n",
    "n = int(input())\n",
    "for i in range(2,n+1):\n",
    "    flag = True\n",
    "    for j in range(2,i):\n",
    "        if i%j==0:\n",
    "            flag = False\n",
    "            break\n",
    "    if(flag):\n",
    "        print(i)\n",
    "        "
   ]
  },
  {
   "cell_type": "code",
   "execution_count": 2,
   "metadata": {},
   "outputs": [
    {
     "name": "stdout",
     "output_type": "stream",
     "text": [
      "5\n",
      "1        1\n",
      "12      21\n",
      "123    321\n",
      "1234  4321\n",
      "1234554321\n"
     ]
    }
   ],
   "source": [
    "# pattern\n",
    "n = int(input())\n",
    "for i in range(1,n+1):\n",
    "    for j in range(1,(2*n)+1):\n",
    "        if(j<=i):\n",
    "            print(j,end=\"\")\n",
    "        elif(j>(n*2-i)):\n",
    "            print(2*n+1-j,end=\"\")\n",
    "        else:\n",
    "            print(\" \",end=\"\")\n",
    "    print()       "
   ]
  },
  {
   "cell_type": "code",
   "execution_count": 7,
   "metadata": {},
   "outputs": [
    {
     "name": "stdout",
     "output_type": "stream",
     "text": [
      "7\n",
      "1 \n",
      "3 2 \n",
      "4 5 6 \n",
      "10 9 8 7 \n",
      "11 12 13 14 15 \n",
      "21 20 19 18 17 16 \n",
      "22 23 24 25 26 27 28 \n"
     ]
    }
   ],
   "source": [
    "# pattern\n",
    "n = int(input())\n",
    "s = 0\n",
    "k = 0\n",
    "for i in range(1,n+1):\n",
    "    for j in range(1,i+1):\n",
    "        if (i % 2)!=0:\n",
    "            s = s + 1\n",
    "            print(s,end=\" \")\n",
    "            \n",
    "            k = s\n",
    "        else:\n",
    "            if j==1:\n",
    "                k = k + i\n",
    "            print(k, end=\" \")\n",
    "            s = s + 1\n",
    "            k = k - 1\n",
    "        \n",
    "    print()\n",
    "            "
   ]
  },
  {
   "cell_type": "code",
   "execution_count": 3,
   "metadata": {},
   "outputs": [
    {
     "name": "stdout",
     "output_type": "stream",
     "text": [
      "50\n",
      "12\n"
     ]
    }
   ],
   "source": [
    "# trailing zeros in the end of n factorial without calculating the factorial\n",
    "n = int(input())\n",
    "t = 0\n",
    "if n==0:\n",
    "    print(0)\n",
    "while(n>0):\n",
    "    n=n//5\n",
    "    t=t+n\n",
    "print(t)"
   ]
  },
  {
   "cell_type": "code",
   "execution_count": 4,
   "metadata": {},
   "outputs": [
    {
     "name": "stdout",
     "output_type": "stream",
     "text": [
      "12\n",
      "1100\n"
     ]
    }
   ],
   "source": [
    "# decimal to binary\n",
    "n = int(input())\n",
    "if n==0:\n",
    "    print(0)\n",
    "else:\n",
    "    st = \"\"\n",
    "    while(n>0):\n",
    "        r = n % 2\n",
    "        n = n // 2\n",
    "        r = \"{}\".format(r) # to typecast int to string v.v.v.imp\n",
    "        st = r + st\n",
    "    print(st)\n"
   ]
  },
  {
   "cell_type": "code",
   "execution_count": 6,
   "metadata": {},
   "outputs": [
    {
     "name": "stdout",
     "output_type": "stream",
     "text": [
      "400\n",
      "188\n"
     ]
    }
   ],
   "source": [
    "# even fibonacci sum\n",
    "n = int(input())\n",
    "a = 1\n",
    "b = 1\n",
    "c = 0\n",
    "i = 3\n",
    "total = 0\n",
    "if n<=2:\n",
    "    print(0)\n",
    "else:\n",
    "    while(i<=n):\n",
    "        c = a + b\n",
    "        if c>n:\n",
    "            break\n",
    "        if c%2==0:\n",
    "            total = total + c\n",
    "        i = i + 1\n",
    "        a = b\n",
    "        b = c\n",
    "    print(total)"
   ]
  },
  {
   "cell_type": "code",
   "execution_count": 7,
   "metadata": {},
   "outputs": [
    {
     "name": "stdout",
     "output_type": "stream",
     "text": [
      "enter two numbers1,2\n",
      "1\n",
      "2\n"
     ]
    }
   ],
   "source": [
    "# to take two input at a time\n",
    "a,b = eval(input(\"enter two numbers\"))  # we have to give , seperated input\n",
    "print(a)\n",
    "print(b)"
   ]
  },
  {
   "cell_type": "code",
   "execution_count": 8,
   "metadata": {},
   "outputs": [
    {
     "name": "stdout",
     "output_type": "stream",
     "text": [
      "97\n",
      "65\n"
     ]
    }
   ],
   "source": [
    "print(ord('a'))\n",
    "print(ord('A'))"
   ]
  },
  {
   "cell_type": "code",
   "execution_count": 9,
   "metadata": {},
   "outputs": [
    {
     "name": "stdout",
     "output_type": "stream",
     "text": [
      "B\n"
     ]
    }
   ],
   "source": [
    "if True or True:\n",
    "    if False and True or False:\n",
    "        print('A')\n",
    "    elif False and False or True and True:\n",
    "        print('B')\n",
    "    else:\n",
    "        print('C')\n",
    "else:\n",
    "     print('D')\n"
   ]
  },
  {
   "cell_type": "code",
   "execution_count": 10,
   "metadata": {},
   "outputs": [
    {
     "name": "stdout",
     "output_type": "stream",
     "text": [
      "50\n"
     ]
    }
   ],
   "source": [
    "x = 50\n",
    "def change(x):\n",
    "     x = 2\n",
    "change(x)\n",
    "print(x)"
   ]
  },
  {
   "cell_type": "code",
   "execution_count": 5,
   "metadata": {},
   "outputs": [
    {
     "name": "stdout",
     "output_type": "stream",
     "text": [
      "6\n",
      "1 5 10 15 20 25\n",
      "5\n",
      "2 4 5 9 15\n",
      "81\n"
     ]
    }
   ],
   "source": [
    "def maxPathSum(ar1, ar2, M, N):\n",
    "\n",
    "    # initialize indexes for ar1[] and ar2[]\n",
    "    i, j = 0, 0\n",
    "\n",
    "    # Initialize result and current sum through ar1[] and ar2[]\n",
    "    result, sum1, sum2 = 0, 0, 0\n",
    "    \n",
    "    # Below 3 loops are similar to merge in merge sort\n",
    "    while((i<M) and (j<N)):\n",
    "\n",
    "        # Add elements of ar1[] to sum1\n",
    "        if ar1[i] < ar2[j]:\n",
    "            sum1 += ar1[i]\n",
    "            i += 1\n",
    "\n",
    "        # Add elements of ar2[] to sum1\n",
    "        elif ar1[i] > ar2[j]:\n",
    "            sum2 += ar2[j]\n",
    "            j += 1\n",
    "\n",
    "        else: # we reached a common point\n",
    "\n",
    "            # Take the maximum of two sums and add to result\n",
    "            result += max(sum1, sum2)\n",
    "\n",
    "            # Update sum1 and sum2 for elements after this intersection point\n",
    "            sum1, sum2 = 0, 0\n",
    "\n",
    "            # Keep updating result while there are more common elements\n",
    "            temp = i\n",
    "            while i < M and ar1[i] == ar2[j]:\n",
    "                sum1 += ar1[i];\n",
    "                i += 1\n",
    "            while j<N and ar1[temp] == ar2[j]:\n",
    "                sum2 += ar2[j]\n",
    "                j += 1\n",
    "            result += max(sum1,sum2)\n",
    "            sum1 = sum2 = 0; \n",
    "\n",
    "    # Add remaining elements of ar1[]\n",
    "    while i < M:\n",
    "        sum1 += ar1[i]\n",
    "        i += 1\n",
    "    # Add remaining elements of b[]\n",
    "    while j < N:\n",
    "        sum2 += ar2[j]\n",
    "        j += 1\n",
    "\n",
    "    # Add maximum of two sums of remaining elements\n",
    "    result += max(sum1, sum2)\n",
    "\n",
    "    print(result)\n",
    "\n",
    "\n",
    "# Driver code\n",
    "M = int(input())\n",
    "s1 = input()\n",
    "ar1 = [int(i) for i in s1.strip().split(\" \")]\n",
    "N = int(input())\n",
    "s2 = input()\n",
    "ar2 = [int(i) for i in s2.strip().split(\" \")] \n",
    "maxPathSum(ar1,ar2,M,N)\n"
   ]
  }
 ],
 "metadata": {
  "kernelspec": {
   "display_name": "Python 3",
   "language": "python",
   "name": "python3"
  },
  "language_info": {
   "codemirror_mode": {
    "name": "ipython",
    "version": 3
   },
   "file_extension": ".py",
   "mimetype": "text/x-python",
   "name": "python",
   "nbconvert_exporter": "python",
   "pygments_lexer": "ipython3",
   "version": "3.8.5"
  }
 },
 "nbformat": 4,
 "nbformat_minor": 4
}
