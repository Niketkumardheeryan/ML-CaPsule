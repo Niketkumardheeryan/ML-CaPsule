{
 "cells": [
  {
   "cell_type": "markdown",
   "metadata": {},
   "source": [
    "# Artificial Neural Networks (ANN) Documentation"
   ]
  },
  {
   "cell_type": "markdown",
   "metadata": {},
   "source": [
    "##### An Artificial Neural Network (ANN) is a computational model inspired by the way biological neural networks in the human brain process information. This notebook will guide you through the creation, functioning, and hyperparameters of an ANN using Python and popular libraries such as TensorFlow and Keras. We will also provide examples to demonstrate how to build, train, and evaluate an ANN."
   ]
  },
  {
   "cell_type": "markdown",
   "metadata": {},
   "source": [
    "# Setup"
   ]
  },
  {
   "cell_type": "code",
   "execution_count": 1,
   "metadata": {},
   "outputs": [],
   "source": [
    "# Required Libraries\n",
    "import numpy as np\n",
    "import tensorflow as tf\n",
    "from tensorflow.keras.models import Sequential\n",
    "from tensorflow.keras.layers import Dense\n",
    "from sklearn.model_selection import train_test_split\n",
    "from sklearn.preprocessing import StandardScaler\n",
    "from sklearn.datasets import load_iris\n",
    "\n",
    "# Installation (if not already installed)\n",
    "# !pip install numpy tensorflow scikit-learn\n"
   ]
  },
  {
   "cell_type": "markdown",
   "metadata": {},
   "source": [
    "# Data Loading and Preprocessing"
   ]
  },
  {
   "cell_type": "code",
   "execution_count": 2,
   "metadata": {},
   "outputs": [
    {
     "name": "stdout",
     "output_type": "stream",
     "text": [
      "Training data shape: (120, 4)\n",
      "Test data shape: (30, 4)\n"
     ]
    }
   ],
   "source": [
    "# Load dataset\n",
    "data = load_iris()\n",
    "X, y = data.data, data.target\n",
    "\n",
    "# Split the dataset\n",
    "X_train, X_test, y_train, y_test = train_test_split(X, y, test_size=0.2, random_state=42)\n",
    "\n",
    "# Standardize the data\n",
    "scaler = StandardScaler()\n",
    "X_train = scaler.fit_transform(X_train)\n",
    "X_test = scaler.transform(X_test)\n",
    "\n",
    "# Display dataset information\n",
    "print(\"Training data shape:\", X_train.shape)\n",
    "print(\"Test data shape:\", X_test.shape)\n"
   ]
  },
  {
   "cell_type": "markdown",
   "metadata": {},
   "source": [
    "# Building the ANN Model\n",
    "We start with a Sequential model, a linear stack of layers suitable for problems where each layer has one input tensor and one output tensor. The input layer, with 10 neurons and a ReLU activation function, is designed to match the number of features in the dataset. We then add a hidden layer with 8 neurons, also using ReLU to help the model learn complex patterns and mitigate the vanishing gradient problem. The output layer consists of 3 neurons, corresponding to the 3 classes in the Iris dataset, and employs the softmax activation function to output a probability distribution for multi-class classification. The model is compiled with the Adam optimizer for adaptive learning rate optimization and the sparse categorical crossentropy loss function, suitable for integer-labeled multi-class classification tasks."
   ]
  },
  {
   "cell_type": "code",
   "execution_count": 3,
   "metadata": {},
   "outputs": [
    {
     "name": "stdout",
     "output_type": "stream",
     "text": [
      "Model: \"sequential\"\n",
      "_________________________________________________________________\n",
      " Layer (type)                Output Shape              Param #   \n",
      "=================================================================\n",
      " dense (Dense)               (None, 10)                50        \n",
      "                                                                 \n",
      " dense_1 (Dense)             (None, 8)                 88        \n",
      "                                                                 \n",
      " dense_2 (Dense)             (None, 3)                 27        \n",
      "                                                                 \n",
      "=================================================================\n",
      "Total params: 165\n",
      "Trainable params: 165\n",
      "Non-trainable params: 0\n",
      "_________________________________________________________________\n"
     ]
    }
   ],
   "source": [
    "# Build the model\n",
    "model = Sequential()\n",
    "model.add(Dense(10, input_shape=(X_train.shape[1],), activation='relu'))\n",
    "model.add(Dense(8, activation='relu'))\n",
    "model.add(Dense(3, activation='softmax'))\n",
    "\n",
    "# Compile the model\n",
    "model.compile(optimizer='adam', loss='sparse_categorical_crossentropy', metrics=['accuracy'])\n",
    "\n",
    "# Display the model summary\n",
    "model.summary()\n"
   ]
  },
  {
   "cell_type": "markdown",
   "metadata": {},
   "source": [
    "# Hyperparameters\n",
    "Hyperparameters are the parameters that are not learned during training but are set before the training process. Some important hyperparameters in ANNs include:\n",
    "\n",
    "- **Learning Rate**: Controls how much to change the model in response to the estimated error each time the model weights are updated.\n",
    "- **Batch Size**: The number of samples processed before the model is updated.\n",
    "- **Epochs**: The number of times the entire dataset is passed forward and backward through the neural network.\n",
    "\n",
    "In this example, we use:\n",
    "- Optimizer: Adam\n",
    "- Loss function: Sparse Categorical Crossentropy\n",
    "- Metrics: Accuracy\n",
    "- Batch size: 32\n",
    "- Epochs: 50\n"
   ]
  },
  {
   "cell_type": "markdown",
   "metadata": {},
   "source": [
    "# Model Training"
   ]
  },
  {
   "cell_type": "code",
   "execution_count": 4,
   "metadata": {},
   "outputs": [
    {
     "name": "stdout",
     "output_type": "stream",
     "text": [
      "Epoch 1/50\n",
      "3/3 [==============================] - 1s 191ms/step - loss: 0.9100 - accuracy: 0.5729 - val_loss: 1.0165 - val_accuracy: 0.3750\n",
      "Epoch 2/50\n",
      "3/3 [==============================] - 0s 24ms/step - loss: 0.8953 - accuracy: 0.5729 - val_loss: 1.0030 - val_accuracy: 0.3750\n",
      "Epoch 3/50\n",
      "3/3 [==============================] - 0s 23ms/step - loss: 0.8802 - accuracy: 0.5938 - val_loss: 0.9898 - val_accuracy: 0.4167\n",
      "Epoch 4/50\n",
      "3/3 [==============================] - 0s 25ms/step - loss: 0.8656 - accuracy: 0.6042 - val_loss: 0.9777 - val_accuracy: 0.4167\n",
      "Epoch 5/50\n",
      "3/3 [==============================] - 0s 26ms/step - loss: 0.8517 - accuracy: 0.6146 - val_loss: 0.9657 - val_accuracy: 0.4167\n",
      "Epoch 6/50\n",
      "3/3 [==============================] - 0s 23ms/step - loss: 0.8383 - accuracy: 0.6146 - val_loss: 0.9543 - val_accuracy: 0.4167\n",
      "Epoch 7/50\n",
      "3/3 [==============================] - 0s 22ms/step - loss: 0.8252 - accuracy: 0.6146 - val_loss: 0.9437 - val_accuracy: 0.4167\n",
      "Epoch 8/50\n",
      "3/3 [==============================] - 0s 21ms/step - loss: 0.8120 - accuracy: 0.6354 - val_loss: 0.9337 - val_accuracy: 0.4167\n",
      "Epoch 9/50\n",
      "3/3 [==============================] - 0s 21ms/step - loss: 0.7998 - accuracy: 0.6458 - val_loss: 0.9235 - val_accuracy: 0.4583\n",
      "Epoch 10/50\n",
      "3/3 [==============================] - 0s 21ms/step - loss: 0.7886 - accuracy: 0.6562 - val_loss: 0.9139 - val_accuracy: 0.4583\n",
      "Epoch 11/50\n",
      "3/3 [==============================] - 0s 20ms/step - loss: 0.7769 - accuracy: 0.6667 - val_loss: 0.9047 - val_accuracy: 0.4583\n",
      "Epoch 12/50\n",
      "3/3 [==============================] - 0s 20ms/step - loss: 0.7664 - accuracy: 0.6979 - val_loss: 0.8959 - val_accuracy: 0.5417\n",
      "Epoch 13/50\n",
      "3/3 [==============================] - 0s 20ms/step - loss: 0.7563 - accuracy: 0.6979 - val_loss: 0.8871 - val_accuracy: 0.5417\n",
      "Epoch 14/50\n",
      "3/3 [==============================] - 0s 21ms/step - loss: 0.7463 - accuracy: 0.7188 - val_loss: 0.8786 - val_accuracy: 0.5833\n",
      "Epoch 15/50\n",
      "3/3 [==============================] - 0s 20ms/step - loss: 0.7372 - accuracy: 0.7292 - val_loss: 0.8707 - val_accuracy: 0.5833\n",
      "Epoch 16/50\n",
      "3/3 [==============================] - 0s 21ms/step - loss: 0.7279 - accuracy: 0.7292 - val_loss: 0.8632 - val_accuracy: 0.5833\n",
      "Epoch 17/50\n",
      "3/3 [==============================] - 0s 20ms/step - loss: 0.7193 - accuracy: 0.7396 - val_loss: 0.8556 - val_accuracy: 0.6250\n",
      "Epoch 18/50\n",
      "3/3 [==============================] - 0s 21ms/step - loss: 0.7110 - accuracy: 0.7604 - val_loss: 0.8484 - val_accuracy: 0.6250\n",
      "Epoch 19/50\n",
      "3/3 [==============================] - 0s 41ms/step - loss: 0.7031 - accuracy: 0.7812 - val_loss: 0.8416 - val_accuracy: 0.6250\n",
      "Epoch 20/50\n",
      "3/3 [==============================] - 0s 18ms/step - loss: 0.6958 - accuracy: 0.7812 - val_loss: 0.8350 - val_accuracy: 0.6250\n",
      "Epoch 21/50\n",
      "3/3 [==============================] - 0s 20ms/step - loss: 0.6885 - accuracy: 0.7812 - val_loss: 0.8285 - val_accuracy: 0.6250\n",
      "Epoch 22/50\n",
      "3/3 [==============================] - 0s 19ms/step - loss: 0.6819 - accuracy: 0.7917 - val_loss: 0.8225 - val_accuracy: 0.6250\n",
      "Epoch 23/50\n",
      "3/3 [==============================] - 0s 18ms/step - loss: 0.6753 - accuracy: 0.8021 - val_loss: 0.8169 - val_accuracy: 0.6250\n",
      "Epoch 24/50\n",
      "3/3 [==============================] - 0s 20ms/step - loss: 0.6690 - accuracy: 0.8021 - val_loss: 0.8114 - val_accuracy: 0.6250\n",
      "Epoch 25/50\n",
      "3/3 [==============================] - 0s 21ms/step - loss: 0.6631 - accuracy: 0.8021 - val_loss: 0.8060 - val_accuracy: 0.6250\n",
      "Epoch 26/50\n",
      "3/3 [==============================] - 0s 19ms/step - loss: 0.6573 - accuracy: 0.8125 - val_loss: 0.8010 - val_accuracy: 0.6250\n",
      "Epoch 27/50\n",
      "3/3 [==============================] - 0s 20ms/step - loss: 0.6518 - accuracy: 0.8125 - val_loss: 0.7962 - val_accuracy: 0.6250\n",
      "Epoch 28/50\n",
      "3/3 [==============================] - 0s 20ms/step - loss: 0.6465 - accuracy: 0.8125 - val_loss: 0.7915 - val_accuracy: 0.6250\n",
      "Epoch 29/50\n",
      "3/3 [==============================] - 0s 19ms/step - loss: 0.6412 - accuracy: 0.8125 - val_loss: 0.7869 - val_accuracy: 0.6250\n",
      "Epoch 30/50\n",
      "3/3 [==============================] - 0s 19ms/step - loss: 0.6362 - accuracy: 0.8125 - val_loss: 0.7823 - val_accuracy: 0.6250\n",
      "Epoch 31/50\n",
      "3/3 [==============================] - 0s 19ms/step - loss: 0.6313 - accuracy: 0.8125 - val_loss: 0.7780 - val_accuracy: 0.7083\n",
      "Epoch 32/50\n",
      "3/3 [==============================] - 0s 19ms/step - loss: 0.6266 - accuracy: 0.8125 - val_loss: 0.7735 - val_accuracy: 0.7083\n",
      "Epoch 33/50\n",
      "3/3 [==============================] - 0s 19ms/step - loss: 0.6218 - accuracy: 0.8125 - val_loss: 0.7694 - val_accuracy: 0.7083\n",
      "Epoch 34/50\n",
      "3/3 [==============================] - 0s 22ms/step - loss: 0.6170 - accuracy: 0.8125 - val_loss: 0.7652 - val_accuracy: 0.7083\n",
      "Epoch 35/50\n",
      "3/3 [==============================] - 0s 21ms/step - loss: 0.6125 - accuracy: 0.8125 - val_loss: 0.7612 - val_accuracy: 0.7083\n",
      "Epoch 36/50\n",
      "3/3 [==============================] - 0s 22ms/step - loss: 0.6079 - accuracy: 0.8021 - val_loss: 0.7575 - val_accuracy: 0.7083\n",
      "Epoch 37/50\n",
      "3/3 [==============================] - 0s 19ms/step - loss: 0.6035 - accuracy: 0.8125 - val_loss: 0.7538 - val_accuracy: 0.7083\n",
      "Epoch 38/50\n",
      "3/3 [==============================] - 0s 20ms/step - loss: 0.5994 - accuracy: 0.8125 - val_loss: 0.7498 - val_accuracy: 0.7083\n",
      "Epoch 39/50\n",
      "3/3 [==============================] - 0s 19ms/step - loss: 0.5951 - accuracy: 0.8125 - val_loss: 0.7455 - val_accuracy: 0.7083\n",
      "Epoch 40/50\n",
      "3/3 [==============================] - 0s 20ms/step - loss: 0.5909 - accuracy: 0.8125 - val_loss: 0.7410 - val_accuracy: 0.7083\n",
      "Epoch 41/50\n",
      "3/3 [==============================] - 0s 22ms/step - loss: 0.5868 - accuracy: 0.8125 - val_loss: 0.7361 - val_accuracy: 0.7083\n",
      "Epoch 42/50\n",
      "3/3 [==============================] - 0s 21ms/step - loss: 0.5826 - accuracy: 0.8125 - val_loss: 0.7317 - val_accuracy: 0.7083\n",
      "Epoch 43/50\n",
      "3/3 [==============================] - 0s 28ms/step - loss: 0.5784 - accuracy: 0.8229 - val_loss: 0.7272 - val_accuracy: 0.7083\n",
      "Epoch 44/50\n",
      "3/3 [==============================] - 0s 20ms/step - loss: 0.5743 - accuracy: 0.8229 - val_loss: 0.7226 - val_accuracy: 0.7083\n",
      "Epoch 45/50\n",
      "3/3 [==============================] - 0s 19ms/step - loss: 0.5700 - accuracy: 0.8229 - val_loss: 0.7183 - val_accuracy: 0.7083\n",
      "Epoch 46/50\n",
      "3/3 [==============================] - 0s 19ms/step - loss: 0.5659 - accuracy: 0.8229 - val_loss: 0.7143 - val_accuracy: 0.7083\n",
      "Epoch 47/50\n",
      "3/3 [==============================] - 0s 20ms/step - loss: 0.5617 - accuracy: 0.8229 - val_loss: 0.7104 - val_accuracy: 0.7083\n",
      "Epoch 48/50\n",
      "3/3 [==============================] - 0s 19ms/step - loss: 0.5575 - accuracy: 0.8229 - val_loss: 0.7062 - val_accuracy: 0.7500\n",
      "Epoch 49/50\n",
      "3/3 [==============================] - 0s 20ms/step - loss: 0.5533 - accuracy: 0.8229 - val_loss: 0.7023 - val_accuracy: 0.7500\n",
      "Epoch 50/50\n",
      "3/3 [==============================] - 0s 19ms/step - loss: 0.5489 - accuracy: 0.8229 - val_loss: 0.6977 - val_accuracy: 0.7500\n"
     ]
    },
    {
     "data": {
      "image/png": "[encoded data removed]",
      "text/plain": [
       "<Figure size 640x480 with 1 Axes>"
      ]
     },
     "metadata": {},
     "output_type": "display_data"
    }
   ],
   "source": [
    "# Train the model\n",
    "history = model.fit(X_train, y_train, epochs=50, batch_size=32, validation_split=0.2)\n",
    "\n",
    "# Visualize training process\n",
    "import matplotlib.pyplot as plt\n",
    "\n",
    "plt.plot(history.history['accuracy'], label='accuracy')\n",
    "plt.plot(history.history['val_accuracy'], label = 'val_accuracy')\n",
    "plt.xlabel('Epoch')\n",
    "plt.ylabel('Accuracy')\n",
    "plt.ylim([0, 1])\n",
    "plt.legend(loc='lower right')\n",
    "plt.show()\n"
   ]
  },
  {
   "cell_type": "markdown",
   "metadata": {},
   "source": [
    "# Model Evaluation"
   ]
  },
  {
   "cell_type": "code",
   "execution_count": 5,
   "metadata": {},
   "outputs": [
    {
     "name": "stdout",
     "output_type": "stream",
     "text": [
      "1/1 - 0s - loss: 0.5685 - accuracy: 0.7333 - 32ms/epoch - 32ms/step\n",
      "\n",
      "Test accuracy: 0.7333333492279053\n"
     ]
    }
   ],
   "source": [
    "# Evaluate the model\n",
    "test_loss, test_acc = model.evaluate(X_test, y_test, verbose=2)\n",
    "print('\\nTest accuracy:', test_acc)"
   ]
  },
  {
   "cell_type": "code",
   "execution_count": 6,
   "metadata": {},
   "outputs": [
    {
     "name": "stdout",
     "output_type": "stream",
     "text": [
      "1/1 [==============================] - 0s 133ms/step\n",
      "Predicted probabilities:\n",
      " [[0.22770461 0.5052114  0.26708394]\n",
      " [0.9563039  0.02685304 0.01684307]\n",
      " [0.16171093 0.43458238 0.40370664]\n",
      " [0.20779368 0.4743533  0.31785312]\n",
      " [0.18138781 0.48181167 0.33680055]]\n",
      "Predicted classes:\n",
      " [1 0 1 1 1]\n",
      "Actual classes:\n",
      " [1 0 2 1 1]\n"
     ]
    }
   ],
   "source": [
    "# Example predictions\n",
    "predictions = model.predict(X_test[:5])\n",
    "print(\"Predicted probabilities:\\n\", predictions)\n",
    "print(\"Predicted classes:\\n\", np.argmax(predictions, axis=1))\n",
    "print(\"Actual classes:\\n\", y_test[:5])\n"
   ]
  },
  {
   "cell_type": "markdown",
   "metadata": {},
   "source": [
    "## Conclusion\n",
    "In this notebook, we have built and trained an Artificial Neural Network using TensorFlow and Keras. We covered the preprocessing of data, building the model, setting hyperparameters, training, and evaluating the model. \n",
    "\n",
    "### Further Reading\n",
    "- [Deep Learning with Python by François Chollet](https://www.manning.com/books/deep-learning-with-python)\n",
    "- [TensorFlow Documentation](https://www.tensorflow.org/learn)\n",
    "\n",
    "### Improvements\n",
    "- Experiment with different architectures and hyperparameters.\n",
    "- Use cross-validation for more robust model evaluation.\n",
    "- Apply this approach to other datasets and problem domains.\n"
   ]
  },
  {
   "cell_type": "code",
   "execution_count": null,
   "metadata": {},
   "outputs": [],
   "source": []
  }
 ],
 "metadata": {
  "kernelspec": {
   "display_name": "Python 3",
   "language": "python",
   "name": "python3"
  },
  "language_info": {
   "codemirror_mode": {
    "name": "ipython",
    "version": 3
   },
   "file_extension": ".py",
   "mimetype": "text/x-python",
   "name": "python",
   "nbconvert_exporter": "python",
   "pygments_lexer": "ipython3",
   "version": "3.10.9"
  }
 },
 "nbformat": 4,
 "nbformat_minor": 2
}
