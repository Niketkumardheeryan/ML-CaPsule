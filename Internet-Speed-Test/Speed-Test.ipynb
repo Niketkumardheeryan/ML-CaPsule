{
 "cells": [
  {
   "cell_type": "code",
   "execution_count": 1,
   "id": "8afb2916",
   "metadata": {},
   "outputs": [],
   "source": [
    "# To run this program you must install 'speedtest' module by using the following command in your cmd \n",
    "# pip install speedtest-cli\n",
    "\n",
    "import speedtest"
   ]
  },
  {
   "cell_type": "code",
   "execution_count": 2,
   "id": "7b802c34",
   "metadata": {},
   "outputs": [],
   "source": [
    "test = speedtest.Speedtest()"
   ]
  },
  {
   "cell_type": "code",
   "execution_count": 3,
   "id": "6c0614e3",
   "metadata": {},
   "outputs": [
    {
     "name": "stdout",
     "output_type": "stream",
     "text": [
      "loading servers\n"
     ]
    }
   ],
   "source": [
    "print(\"loading servers\")\n",
    "test.get_servers() "
   ]
  },
  {
   "cell_type": "code",
   "execution_count": 4,
   "id": "3c1a6ef8",
   "metadata": {},
   "outputs": [
    {
     "name": "stdout",
     "output_type": "stream",
     "text": [
      "Get best server\n"
     ]
    }
   ],
   "source": [
    "print(\"Get best server\")\n",
    "best = test.get_best_server() \n",
    "print(f\"Best server at {best['host']} located at {best['name']},{best['country']} sponsored by {best['sponsor']}\")"
   ]
  },
  {
   "cell_type": "code",
   "execution_count": 5,
   "id": "6f9145ea",
   "metadata": {},
   "outputs": [],
   "source": [
    "DownloadSpeed = test.download() # The unit will be in bps\n",
    "print(f\"Download speed : {DownloadSpeed /1024/1024:.2f} mbps\")\n",
    "\n",
    "# The above line divided by (1024**2) to convert upload speed in mbps unit"
   ]
  },
  {
   "cell_type": "code",
   "execution_count": 6,
   "id": "6da983c7",
   "metadata": {},
   "outputs": [],
   "source": [
    "UploadSpeed = test.upload() # The unit will be in bps\n",
    "print(f\"Download speed : {UploadSpeed /(1024**2):.2f} mbps\")\n",
    "\n",
    "# Here divided by (1024**2) to convert upload speed in mbps unit"
   ]
  },
  {
   "cell_type": "code",
   "execution_count": 7,
   "id": "5c427fef",
   "metadata": {},
   "outputs": [],
   "source": [
    "PingSpeed = test.results.ping\n",
    "print(f\"Ping : {PingSpeed:.2f} ms\")"
   ]
  }
 ],
 "metadata": {
  "kernelspec": {
   "display_name": "Python 3 (ipykernel)",
   "language": "python",
   "name": "python3"
  },
  "language_info": {
   "codemirror_mode": {
    "name": "ipython",
    "version": 3
   },
   "file_extension": ".py",
   "mimetype": "text/x-python",
   "name": "python",
   "nbconvert_exporter": "python",
   "pygments_lexer": "ipython3",
   "version": "3.9.7"
  },
  "varInspector": {
   "cols": {
    "lenName": 16,
    "lenType": 16,
    "lenVar": 40
   },
   "kernels_config": {
    "python": {
     "delete_cmd_postfix": "",
     "delete_cmd_prefix": "del ",
     "library": "var_list.py",
     "varRefreshCmd": "print(var_dic_list())"
    },
    "r": {
     "delete_cmd_postfix": ") ",
     "delete_cmd_prefix": "rm(",
     "library": "var_list.r",
     "varRefreshCmd": "cat(var_dic_list()) "
    }
   },
   "types_to_exclude": [
    "module",
    "function",
    "builtin_function_or_method",
    "instance",
    "_Feature"
   ],
   "window_display": false
  }
 },
 "nbformat": 4,
 "nbformat_minor": 5
}
