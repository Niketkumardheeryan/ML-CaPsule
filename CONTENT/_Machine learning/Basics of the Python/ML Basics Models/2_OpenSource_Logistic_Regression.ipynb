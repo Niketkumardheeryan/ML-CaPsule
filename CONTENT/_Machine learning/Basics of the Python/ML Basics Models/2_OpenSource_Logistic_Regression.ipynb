{
  "nbformat": 4,
  "nbformat_minor": 0,
  "metadata": {
    "colab": {
      "name": "2.OpenSource_Logistic_Regression.ipynb",
      "provenance": [],
      "collapsed_sections": []
    },
    "kernelspec": {
      "name": "python3",
      "display_name": "Python 3"
    },
    "language_info": {
      "name": "python"
    }
  },
  "cells": [
    {
      "cell_type": "code",
      "metadata": {
        "id": "gehEICorYuo-"
      },
      "source": [
        "import pandas as pd\n",
        "from sklearn.model_selection import train_test_split\n",
        "from sklearn.linear_model import LogisticRegression\n",
        "from sklearn import metrics\n",
        "import seaborn as sn\n",
        "import matplotlib.pyplot as plt"
      ],
      "execution_count": 1,
      "outputs": []
    },
    {
      "cell_type": "code",
      "metadata": {
        "id": "jD2rWNH6a6Dp"
      },
      "source": [
        "\n",
        "candidates = {'gmat': [780,750,690,710,680,730,690,720,740,690,610,690,710,680,770,610,580,650,540,590,620,600,550,550,570,670,660,580,650,660,640,620,660,660,680,650,670,580,590,690],\n",
        "              'gpa': [4,3.9,3.3,3.7,3.9,3.7,2.3,3.3,3.3,1.7,2.7,3.7,3.7,3.3,3.3,3,2.7,3.7,2.7,2.3,3.3,2,2.3,2.7,3,3.3,3.7,2.3,3.7,3.3,3,2.7,4,3.3,3.3,2.3,2.7,3.3,1.7,3.7],\n",
        "              'work_experience': [3,4,3,5,4,6,1,4,5,1,3,5,6,4,3,1,4,6,2,3,2,1,4,1,2,6,4,2,6,5,1,2,4,6,5,1,2,1,4,5],\n",
        "              'admitted': [1,1,0,1,0,1,0,1,1,0,0,1,1,0,1,0,0,1,0,0,1,0,0,0,0,1,1,0,1,1,0,0,1,1,1,0,0,0,0,1]\n",
        "              }"
      ],
      "execution_count": 2,
      "outputs": []
    },
    {
      "cell_type": "code",
      "metadata": {
        "colab": {
          "base_uri": "https://localhost:8080/"
        },
        "id": "ZXP-jF1zbT0g",
        "outputId": "aa757130-06a9-4b03-b903-db1f8df3b7bb"
      },
      "source": [
        "\n",
        "df = pd.DataFrame(candidates,columns= ['gmat', 'gpa','work_experience','admitted'])\n",
        "print (df)"
      ],
      "execution_count": 3,
      "outputs": [
        {
          "output_type": "stream",
          "text": [
            "    gmat  gpa  work_experience  admitted\n",
            "0    780  4.0                3         1\n",
            "1    750  3.9                4         1\n",
            "2    690  3.3                3         0\n",
            "3    710  3.7                5         1\n",
            "4    680  3.9                4         0\n",
            "5    730  3.7                6         1\n",
            "6    690  2.3                1         0\n",
            "7    720  3.3                4         1\n",
            "8    740  3.3                5         1\n",
            "9    690  1.7                1         0\n",
            "10   610  2.7                3         0\n",
            "11   690  3.7                5         1\n",
            "12   710  3.7                6         1\n",
            "13   680  3.3                4         0\n",
            "14   770  3.3                3         1\n",
            "15   610  3.0                1         0\n",
            "16   580  2.7                4         0\n",
            "17   650  3.7                6         1\n",
            "18   540  2.7                2         0\n",
            "19   590  2.3                3         0\n",
            "20   620  3.3                2         1\n",
            "21   600  2.0                1         0\n",
            "22   550  2.3                4         0\n",
            "23   550  2.7                1         0\n",
            "24   570  3.0                2         0\n",
            "25   670  3.3                6         1\n",
            "26   660  3.7                4         1\n",
            "27   580  2.3                2         0\n",
            "28   650  3.7                6         1\n",
            "29   660  3.3                5         1\n",
            "30   640  3.0                1         0\n",
            "31   620  2.7                2         0\n",
            "32   660  4.0                4         1\n",
            "33   660  3.3                6         1\n",
            "34   680  3.3                5         1\n",
            "35   650  2.3                1         0\n",
            "36   670  2.7                2         0\n",
            "37   580  3.3                1         0\n",
            "38   590  1.7                4         0\n",
            "39   690  3.7                5         1\n"
          ],
          "name": "stdout"
        }
      ]
    },
    {
      "cell_type": "code",
      "metadata": {
        "id": "PLNpwREja9JD"
      },
      "source": [
        "X = df[['gmat', 'gpa','work_experience']]\n",
        "y = df['admitted']"
      ],
      "execution_count": 4,
      "outputs": []
    },
    {
      "cell_type": "code",
      "metadata": {
        "id": "izXRMCrQa_5r"
      },
      "source": [
        "X_train,X_test,y_train,y_test = train_test_split(X,y,test_size=0.25,random_state=0)"
      ],
      "execution_count": 5,
      "outputs": []
    },
    {
      "cell_type": "code",
      "metadata": {
        "id": "2keInS2tbB-o"
      },
      "source": [
        "logistic_regression= LogisticRegression()\n",
        "logistic_regression.fit(X_train,y_train)\n",
        "y_pred=logistic_regression.predict(X_test)"
      ],
      "execution_count": 6,
      "outputs": []
    },
    {
      "cell_type": "code",
      "metadata": {
        "colab": {
          "base_uri": "https://localhost:8080/"
        },
        "id": "NpxTzA3dbnNS",
        "outputId": "5dd385e4-4acb-4e84-ef9f-5456eecd4ccf"
      },
      "source": [
        "print (X_test) #test dataset\n",
        "print (y_pred) #predicted values"
      ],
      "execution_count": 9,
      "outputs": [
        {
          "output_type": "stream",
          "text": [
            "    gmat  gpa  work_experience\n",
            "22   550  2.3                4\n",
            "20   620  3.3                2\n",
            "25   670  3.3                6\n",
            "4    680  3.9                4\n",
            "10   610  2.7                3\n",
            "15   610  3.0                1\n",
            "28   650  3.7                6\n",
            "11   690  3.7                5\n",
            "18   540  2.7                2\n",
            "29   660  3.3                5\n",
            "[0 0 1 1 0 0 1 1 0 1]\n"
          ],
          "name": "stdout"
        }
      ]
    },
    {
      "cell_type": "code",
      "metadata": {
        "colab": {
          "base_uri": "https://localhost:8080/",
          "height": 300
        },
        "id": "AxrNZ8R9bFft",
        "outputId": "293c9a98-8982-4a5f-c5ee-938a7a07050e"
      },
      "source": [
        "confusion_matrix = pd.crosstab(y_test, y_pred, rownames=['Actual'], colnames=['Predicted'])\n",
        "sn.heatmap(confusion_matrix, annot=True)"
      ],
      "execution_count": 7,
      "outputs": [
        {
          "output_type": "execute_result",
          "data": {
            "text/plain": [
              "<matplotlib.axes._subplots.AxesSubplot at 0x7f3f03409cd0>"
            ]
          },
          "metadata": {
            "tags": []
          },
          "execution_count": 7
        },
        {
          "output_type": "display_data",
          "data": {
            "image/png": "[encoded data removed]",
            "text/plain": [
              "<Figure size 432x288 with 2 Axes>"
            ]
          },
          "metadata": {
            "tags": [],
            "needs_background": "light"
          }
        }
      ]
    },
    {
      "cell_type": "code",
      "metadata": {
        "colab": {
          "base_uri": "https://localhost:8080/"
        },
        "id": "WnwxLBPnbHYd",
        "outputId": "1cf5b1d4-5ca2-4f26-f9cf-75f0b0f3e0a4"
      },
      "source": [
        "print('Accuracy: ',metrics.accuracy_score(y_test, y_pred))\n",
        "plt.show()"
      ],
      "execution_count": 8,
      "outputs": [
        {
          "output_type": "stream",
          "text": [
            "Accuracy:  0.8\n"
          ],
          "name": "stdout"
        }
      ]
    },
    {
      "cell_type": "code",
      "metadata": {
        "id": "esxH66MDbwuo"
      },
      "source": [
        "new_candidates = {'gmat': [590,740,680,610,710],\n",
        "                  'gpa': [2,3.7,3.3,2.3,3],\n",
        "                  'work_experience': [3,4,6,1,5]\n",
        "                  }\n",
        "\n",
        "df2 = pd.DataFrame(new_candidates,columns= ['gmat', 'gpa','work_experience'])"
      ],
      "execution_count": 10,
      "outputs": []
    },
    {
      "cell_type": "code",
      "metadata": {
        "colab": {
          "base_uri": "https://localhost:8080/",
          "height": 204
        },
        "id": "mtNGzBkZbyZA",
        "outputId": "71dfe261-1248-4a09-9f4d-e22a8cb33105"
      },
      "source": [
        "df2\n"
      ],
      "execution_count": 11,
      "outputs": [
        {
          "output_type": "execute_result",
          "data": {
            "text/html": [
              "<div>\n",
              "<style scoped>\n",
              "    .dataframe tbody tr th:only-of-type {\n",
              "        vertical-align: middle;\n",
              "    }\n",
              "\n",
              "    .dataframe tbody tr th {\n",
              "        vertical-align: top;\n",
              "    }\n",
              "\n",
              "    .dataframe thead th {\n",
              "        text-align: right;\n",
              "    }\n",
              "</style>\n",
              "<table border=\"1\" class=\"dataframe\">\n",
              "  <thead>\n",
              "    <tr style=\"text-align: right;\">\n",
              "      <th></th>\n",
              "      <th>gmat</th>\n",
              "      <th>gpa</th>\n",
              "      <th>work_experience</th>\n",
              "    </tr>\n",
              "  </thead>\n",
              "  <tbody>\n",
              "    <tr>\n",
              "      <th>0</th>\n",
              "      <td>590</td>\n",
              "      <td>2.0</td>\n",
              "      <td>3</td>\n",
              "    </tr>\n",
              "    <tr>\n",
              "      <th>1</th>\n",
              "      <td>740</td>\n",
              "      <td>3.7</td>\n",
              "      <td>4</td>\n",
              "    </tr>\n",
              "    <tr>\n",
              "      <th>2</th>\n",
              "      <td>680</td>\n",
              "      <td>3.3</td>\n",
              "      <td>6</td>\n",
              "    </tr>\n",
              "    <tr>\n",
              "      <th>3</th>\n",
              "      <td>610</td>\n",
              "      <td>2.3</td>\n",
              "      <td>1</td>\n",
              "    </tr>\n",
              "    <tr>\n",
              "      <th>4</th>\n",
              "      <td>710</td>\n",
              "      <td>3.0</td>\n",
              "      <td>5</td>\n",
              "    </tr>\n",
              "  </tbody>\n",
              "</table>\n",
              "</div>"
            ],
            "text/plain": [
              "   gmat  gpa  work_experience\n",
              "0   590  2.0                3\n",
              "1   740  3.7                4\n",
              "2   680  3.3                6\n",
              "3   610  2.3                1\n",
              "4   710  3.0                5"
            ]
          },
          "metadata": {
            "tags": []
          },
          "execution_count": 11
        }
      ]
    },
    {
      "cell_type": "markdown",
      "metadata": {
        "id": "nfyHHm74b9W_"
      },
      "source": [
        "And here is the complete code to get the prediction for the 5 new candidates."
      ]
    },
    {
      "cell_type": "code",
      "metadata": {
        "colab": {
          "base_uri": "https://localhost:8080/"
        },
        "id": "qYBQdNrhcDYn",
        "outputId": "120aa5c3-6cd7-4aff-d59c-f8b8bb843576"
      },
      "source": [
        "y_pred=logistic_regression.predict(df2)\n",
        "print (df2)\n",
        "print (y_pred)"
      ],
      "execution_count": 12,
      "outputs": [
        {
          "output_type": "stream",
          "text": [
            "   gmat  gpa  work_experience\n",
            "0   590  2.0                3\n",
            "1   740  3.7                4\n",
            "2   680  3.3                6\n",
            "3   610  2.3                1\n",
            "4   710  3.0                5\n",
            "[0 1 1 0 1]\n"
          ],
          "name": "stdout"
        }
      ]
    }
  ]
}