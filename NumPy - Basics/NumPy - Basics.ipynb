{
 "cells": [
  {
   "cell_type": "markdown",
   "id": "f9f767e7",
   "metadata": {},
   "source": [
    "# NumPy\n",
    "NumPy is a Python package. It stands for Numerical Python. It provides a high-performance multidimensional array object, and tools for working with these arrays.\n",
    "\n",
    "## What are arrays?\n",
    "A numpy array is a grid of values, all of the same type, and is indexed by a tuple of nonnegative integers. The number of dimensions is the rank of the array; the shape of an array is a tuple of integers giving the size of the array along each dimension."
   ]
  },
  {
   "cell_type": "markdown",
   "id": "84afe665",
   "metadata": {},
   "source": [
    "## Importing NumPy"
   ]
  },
  {
   "cell_type": "code",
   "execution_count": 1,
   "id": "4d38b852",
   "metadata": {},
   "outputs": [],
   "source": [
    "import numpy as np"
   ]
  },
  {
   "cell_type": "markdown",
   "id": "757f5f0c",
   "metadata": {},
   "source": [
    "## The basics"
   ]
  },
  {
   "cell_type": "code",
   "execution_count": 7,
   "id": "684810d6",
   "metadata": {},
   "outputs": [
    {
     "name": "stdout",
     "output_type": "stream",
     "text": [
      "[4 5 7 2 8]\n"
     ]
    }
   ],
   "source": [
    "#creating an array\n",
    "a = np.array([4,5,7,2,8])\n",
    "print(a)"
   ]
  },
  {
   "cell_type": "code",
   "execution_count": 8,
   "id": "95c01a0f",
   "metadata": {},
   "outputs": [
    {
     "data": {
      "text/plain": [
       "1"
      ]
     },
     "execution_count": 8,
     "metadata": {},
     "output_type": "execute_result"
    }
   ],
   "source": [
    "#get dimension\n",
    "a.ndim"
   ]
  },
  {
   "cell_type": "code",
   "execution_count": 9,
   "id": "ff246807",
   "metadata": {},
   "outputs": [
    {
     "data": {
      "text/plain": [
       "(5,)"
      ]
     },
     "execution_count": 9,
     "metadata": {},
     "output_type": "execute_result"
    }
   ],
   "source": [
    "#get shape\n",
    "a.shape"
   ]
  },
  {
   "cell_type": "code",
   "execution_count": 10,
   "id": "4cf047d3",
   "metadata": {},
   "outputs": [
    {
     "data": {
      "text/plain": [
       "dtype('int32')"
      ]
     },
     "execution_count": 10,
     "metadata": {},
     "output_type": "execute_result"
    }
   ],
   "source": [
    "#get data type of elements\n",
    "a.dtype"
   ]
  },
  {
   "cell_type": "code",
   "execution_count": 11,
   "id": "bb10741e",
   "metadata": {},
   "outputs": [
    {
     "data": {
      "text/plain": [
       "5"
      ]
     },
     "execution_count": 11,
     "metadata": {},
     "output_type": "execute_result"
    }
   ],
   "source": [
    "#get number of elements\n",
    "a.size"
   ]
  },
  {
   "cell_type": "markdown",
   "id": "c0af908b",
   "metadata": {},
   "source": [
    "## Converting list to numpy array"
   ]
  },
  {
   "cell_type": "code",
   "execution_count": 2,
   "id": "eb40e2f9",
   "metadata": {},
   "outputs": [],
   "source": [
    "my_list = [4,6,3,8]\n",
    "arr = np.array(my_list)"
   ]
  },
  {
   "cell_type": "code",
   "execution_count": 3,
   "id": "51fa97c1",
   "metadata": {},
   "outputs": [
    {
     "name": "stdout",
     "output_type": "stream",
     "text": [
      "[4 6 3 8]\n"
     ]
    }
   ],
   "source": [
    "print(arr)"
   ]
  },
  {
   "cell_type": "code",
   "execution_count": 4,
   "id": "cf1807c1",
   "metadata": {},
   "outputs": [
    {
     "data": {
      "text/plain": [
       "numpy.ndarray"
      ]
     },
     "execution_count": 4,
     "metadata": {},
     "output_type": "execute_result"
    }
   ],
   "source": [
    "type(arr)"
   ]
  },
  {
   "cell_type": "markdown",
   "id": "133fcb72",
   "metadata": {},
   "source": [
    "## Multi-dimensional array"
   ]
  },
  {
   "cell_type": "code",
   "execution_count": 12,
   "id": "a2f3276d",
   "metadata": {},
   "outputs": [
    {
     "name": "stdout",
     "output_type": "stream",
     "text": [
      "[[1 2 3]\n",
      " [4 5 6]\n",
      " [7 8 9]]\n"
     ]
    }
   ],
   "source": [
    "#creating a multi-dimensional array\n",
    "md_arr = np.array([[1,2,3], [4,5,6], [7,8,9]])\n",
    "print(md_arr)"
   ]
  },
  {
   "cell_type": "markdown",
   "id": "47afafc7",
   "metadata": {},
   "source": [
    "## Accessing/Changing specific elements, rows, columns, etc."
   ]
  },
  {
   "cell_type": "markdown",
   "id": "d9151044",
   "metadata": {},
   "source": [
    "### One dimensional array"
   ]
  },
  {
   "cell_type": "code",
   "execution_count": 14,
   "id": "41356018",
   "metadata": {},
   "outputs": [
    {
     "data": {
      "text/plain": [
       "array([4, 6, 3, 8])"
      ]
     },
     "execution_count": 14,
     "metadata": {},
     "output_type": "execute_result"
    }
   ],
   "source": [
    "arr"
   ]
  },
  {
   "cell_type": "code",
   "execution_count": 13,
   "id": "f9032bfc",
   "metadata": {},
   "outputs": [
    {
     "data": {
      "text/plain": [
       "3"
      ]
     },
     "execution_count": 13,
     "metadata": {},
     "output_type": "execute_result"
    }
   ],
   "source": [
    "#get a specific element\n",
    "arr[2]"
   ]
  },
  {
   "cell_type": "code",
   "execution_count": 16,
   "id": "a5d10c99",
   "metadata": {},
   "outputs": [
    {
     "data": {
      "text/plain": [
       "array([4, 6])"
      ]
     },
     "execution_count": 16,
     "metadata": {},
     "output_type": "execute_result"
    }
   ],
   "source": [
    "#get elements in a range of indices [i1:i2] - i1:inclusive and i2:exclusive\n",
    "arr[0:2]"
   ]
  },
  {
   "cell_type": "markdown",
   "id": "f12f5eda",
   "metadata": {},
   "source": [
    "### Multi-dimensional array"
   ]
  },
  {
   "cell_type": "code",
   "execution_count": 17,
   "id": "1b862570",
   "metadata": {},
   "outputs": [
    {
     "data": {
      "text/plain": [
       "array([[1, 2, 3],\n",
       "       [4, 5, 6],\n",
       "       [7, 8, 9]])"
      ]
     },
     "execution_count": 17,
     "metadata": {},
     "output_type": "execute_result"
    }
   ],
   "source": [
    "md_arr"
   ]
  },
  {
   "cell_type": "code",
   "execution_count": 18,
   "id": "ccf30da0",
   "metadata": {},
   "outputs": [
    {
     "data": {
      "text/plain": [
       "6"
      ]
     },
     "execution_count": 18,
     "metadata": {},
     "output_type": "execute_result"
    }
   ],
   "source": [
    "#get a specific element [r, c]\n",
    "md_arr[1, 2]"
   ]
  },
  {
   "cell_type": "code",
   "execution_count": 22,
   "id": "549c5bca",
   "metadata": {},
   "outputs": [
    {
     "data": {
      "text/plain": [
       "array([7, 8, 9])"
      ]
     },
     "execution_count": 22,
     "metadata": {},
     "output_type": "execute_result"
    }
   ],
   "source": [
    "#get a specific row\n",
    "md_arr[2,:]"
   ]
  },
  {
   "cell_type": "code",
   "execution_count": 21,
   "id": "3218c148",
   "metadata": {},
   "outputs": [
    {
     "data": {
      "text/plain": [
       "array([2, 5, 8])"
      ]
     },
     "execution_count": 21,
     "metadata": {},
     "output_type": "execute_result"
    }
   ],
   "source": [
    "#get a specific column\n",
    "md_arr[:,1]"
   ]
  },
  {
   "cell_type": "code",
   "execution_count": 24,
   "id": "4c7c5f68",
   "metadata": {},
   "outputs": [
    {
     "name": "stdout",
     "output_type": "stream",
     "text": [
      "[[ 1 10  3]\n",
      " [ 4 10  6]\n",
      " [ 7 10  9]]\n"
     ]
    }
   ],
   "source": [
    "md_arr[0,1] = 15\n",
    "\n",
    "md_arr[:, 1] = [10]\n",
    "print(md_arr)"
   ]
  },
  {
   "cell_type": "markdown",
   "id": "6a3d5861",
   "metadata": {},
   "source": [
    "## Inbuilt Functions"
   ]
  },
  {
   "cell_type": "markdown",
   "id": "6fcc9760",
   "metadata": {},
   "source": [
    "### arange : Returns an array with evenly spaced elements as per the interval. The interval mentioned is half opened i.e. [Start, Stop)"
   ]
  },
  {
   "cell_type": "code",
   "execution_count": 25,
   "id": "86a41bc2",
   "metadata": {},
   "outputs": [
    {
     "data": {
      "text/plain": [
       "array([ 0,  1,  2,  3,  4,  5,  6,  7,  8,  9, 10, 11, 12, 13, 14])"
      ]
     },
     "execution_count": 25,
     "metadata": {},
     "output_type": "execute_result"
    }
   ],
   "source": [
    "#elements will range from 0 to 14\n",
    "np.arange(15)"
   ]
  },
  {
   "cell_type": "code",
   "execution_count": 26,
   "id": "b337bbb9",
   "metadata": {},
   "outputs": [
    {
     "data": {
      "text/plain": [
       "array([ 2.,  3.,  4.,  5.,  6.,  7.,  8.,  9., 10., 11., 12., 13., 14.])"
      ]
     },
     "execution_count": 26,
     "metadata": {},
     "output_type": "execute_result"
    }
   ],
   "source": [
    "#elements will range from 2 to 15(exclusive) with data type as float\n",
    "np.arange(2, 15, dtype=float)"
   ]
  },
  {
   "cell_type": "code",
   "execution_count": 28,
   "id": "34aa02f9",
   "metadata": {},
   "outputs": [
    {
     "data": {
      "text/plain": [
       "array([ 1,  4,  7, 10, 13])"
      ]
     },
     "execution_count": 28,
     "metadata": {},
     "output_type": "execute_result"
    }
   ],
   "source": [
    "#elements will range from 1 to 15(exclusive) with an increment of 3 after each element\n",
    "np.arange(1, 15, 3)"
   ]
  },
  {
   "cell_type": "markdown",
   "id": "fd0a971a",
   "metadata": {},
   "source": [
    "### linspace : will create arrays with a specified number of elements, and spaced equally between the specified beginning and end values\n",
    "linspace(start, stop, step) - stop is included"
   ]
  },
  {
   "cell_type": "code",
   "execution_count": 38,
   "id": "8c8c7eda",
   "metadata": {},
   "outputs": [
    {
     "data": {
      "text/plain": [
       "array([0.  , 0.25, 0.5 , 0.75, 1.  ])"
      ]
     },
     "execution_count": 38,
     "metadata": {},
     "output_type": "execute_result"
    }
   ],
   "source": [
    "np.linspace(0, 1, 5)"
   ]
  },
  {
   "cell_type": "code",
   "execution_count": 39,
   "id": "64501cb7",
   "metadata": {},
   "outputs": [
    {
     "data": {
      "text/plain": [
       "array([1. , 1.5, 2. , 2.5, 3. , 3.5])"
      ]
     },
     "execution_count": 39,
     "metadata": {},
     "output_type": "execute_result"
    }
   ],
   "source": [
    "np.linspace(1., 4., 6, False)"
   ]
  },
  {
   "cell_type": "markdown",
   "id": "f0590cdf",
   "metadata": {},
   "source": [
    "### shape : returns shape (row, column) of an array \n",
    "### reshape : shapes an array without changing data of array"
   ]
  },
  {
   "cell_type": "code",
   "execution_count": 30,
   "id": "8042c4fe",
   "metadata": {},
   "outputs": [],
   "source": [
    "A = np.array([[1,2,3],\n",
    "             [4,5,6]\n",
    "             ])"
   ]
  },
  {
   "cell_type": "code",
   "execution_count": 31,
   "id": "6e0a31b1",
   "metadata": {},
   "outputs": [
    {
     "data": {
      "text/plain": [
       "(2, 3)"
      ]
     },
     "execution_count": 31,
     "metadata": {},
     "output_type": "execute_result"
    }
   ],
   "source": [
    "A.shape"
   ]
  },
  {
   "cell_type": "code",
   "execution_count": 35,
   "id": "d88865c8",
   "metadata": {},
   "outputs": [],
   "source": [
    "B = np.array([\n",
    "        [12, 11, 10],\n",
    "        [9, 8, 7],\n",
    "        [6, 5, 4],\n",
    "        [3, 2, 1]\n",
    "    \n",
    "])"
   ]
  },
  {
   "cell_type": "code",
   "execution_count": 36,
   "id": "347e5af2",
   "metadata": {},
   "outputs": [
    {
     "data": {
      "text/plain": [
       "(4, 3)"
      ]
     },
     "execution_count": 36,
     "metadata": {},
     "output_type": "execute_result"
    }
   ],
   "source": [
    "B.shape"
   ]
  },
  {
   "cell_type": "code",
   "execution_count": 37,
   "id": "b283cbf6",
   "metadata": {},
   "outputs": [
    {
     "data": {
      "text/plain": [
       "array([[12, 11, 10,  9],\n",
       "       [ 8,  7,  6,  5],\n",
       "       [ 4,  3,  2,  1]])"
      ]
     },
     "execution_count": 37,
     "metadata": {},
     "output_type": "execute_result"
    }
   ],
   "source": [
    "B.reshape(3, 4)"
   ]
  },
  {
   "cell_type": "markdown",
   "id": "916f6e18",
   "metadata": {},
   "source": [
    "### zeros : returns a new array of given shape and type, with zeros"
   ]
  },
  {
   "cell_type": "code",
   "execution_count": 40,
   "id": "44151a83",
   "metadata": {},
   "outputs": [
    {
     "data": {
      "text/plain": [
       "array([0., 0., 0., 0., 0., 0., 0., 0., 0., 0.])"
      ]
     },
     "execution_count": 40,
     "metadata": {},
     "output_type": "execute_result"
    }
   ],
   "source": [
    "np.zeros(10)"
   ]
  },
  {
   "cell_type": "code",
   "execution_count": 42,
   "id": "29a9291f",
   "metadata": {},
   "outputs": [
    {
     "data": {
      "text/plain": [
       "array([[0., 0., 0.],\n",
       "       [0., 0., 0.],\n",
       "       [0., 0., 0.],\n",
       "       [0., 0., 0.]])"
      ]
     },
     "execution_count": 42,
     "metadata": {},
     "output_type": "execute_result"
    }
   ],
   "source": [
    "np.zeros((4,3))"
   ]
  },
  {
   "cell_type": "code",
   "execution_count": 43,
   "id": "b82b842e",
   "metadata": {},
   "outputs": [
    {
     "data": {
      "text/plain": [
       "array([[0, 0, 0],\n",
       "       [0, 0, 0],\n",
       "       [0, 0, 0],\n",
       "       [0, 0, 0]])"
      ]
     },
     "execution_count": 43,
     "metadata": {},
     "output_type": "execute_result"
    }
   ],
   "source": [
    "np.zeros((4,3), dtype=int)"
   ]
  },
  {
   "cell_type": "markdown",
   "id": "ad780d6b",
   "metadata": {},
   "source": [
    "### ones :  returns a new array of given shape and type, with ones."
   ]
  },
  {
   "cell_type": "code",
   "execution_count": 44,
   "id": "56a695dc",
   "metadata": {},
   "outputs": [
    {
     "data": {
      "text/plain": [
       "array([1., 1., 1., 1., 1.])"
      ]
     },
     "execution_count": 44,
     "metadata": {},
     "output_type": "execute_result"
    }
   ],
   "source": [
    "np.ones(5)"
   ]
  },
  {
   "cell_type": "code",
   "execution_count": 45,
   "id": "b5aa24ee",
   "metadata": {},
   "outputs": [
    {
     "data": {
      "text/plain": [
       "array([[1., 1., 1., 1., 1.],\n",
       "       [1., 1., 1., 1., 1.]])"
      ]
     },
     "execution_count": 45,
     "metadata": {},
     "output_type": "execute_result"
    }
   ],
   "source": [
    "np.ones((2, 5))"
   ]
  },
  {
   "cell_type": "code",
   "execution_count": 46,
   "id": "4c0b6e5d",
   "metadata": {},
   "outputs": [
    {
     "data": {
      "text/plain": [
       "array([[1, 1],\n",
       "       [1, 1],\n",
       "       [1, 1],\n",
       "       [1, 1],\n",
       "       [1, 1]])"
      ]
     },
     "execution_count": 46,
     "metadata": {},
     "output_type": "execute_result"
    }
   ],
   "source": [
    "np.ones((5, 2), dtype=int)"
   ]
  },
  {
   "cell_type": "markdown",
   "id": "5efa3b58",
   "metadata": {},
   "source": [
    "### empty : returns a new array of given shape and type, with random values."
   ]
  },
  {
   "cell_type": "code",
   "execution_count": 47,
   "id": "26fd2068",
   "metadata": {},
   "outputs": [
    {
     "data": {
      "text/plain": [
       "array([0.25, 0.5 , 0.75, 1.  ])"
      ]
     },
     "execution_count": 47,
     "metadata": {},
     "output_type": "execute_result"
    }
   ],
   "source": [
    "np.empty(4)"
   ]
  },
  {
   "cell_type": "code",
   "execution_count": 49,
   "id": "4650214e",
   "metadata": {},
   "outputs": [
    {
     "data": {
      "text/plain": [
       "array([[         1,          1,          0],\n",
       "       [1936682280,        344,          0],\n",
       "       [  16777984,        459,  573142131]])"
      ]
     },
     "execution_count": 49,
     "metadata": {},
     "output_type": "execute_result"
    }
   ],
   "source": [
    "np.empty((3,3), dtype=int)"
   ]
  },
  {
   "cell_type": "markdown",
   "id": "a7873cf1",
   "metadata": {},
   "source": [
    "### identity : returns an identity matrix i.e. a square matrix with ones on the main diagonal"
   ]
  },
  {
   "cell_type": "code",
   "execution_count": 50,
   "id": "89f8704e",
   "metadata": {},
   "outputs": [
    {
     "data": {
      "text/plain": [
       "array([[1., 0., 0., 0.],\n",
       "       [0., 1., 0., 0.],\n",
       "       [0., 0., 1., 0.],\n",
       "       [0., 0., 0., 1.]])"
      ]
     },
     "execution_count": 50,
     "metadata": {},
     "output_type": "execute_result"
    }
   ],
   "source": [
    "np.identity(4)"
   ]
  },
  {
   "cell_type": "code",
   "execution_count": 53,
   "id": "b2321259",
   "metadata": {},
   "outputs": [
    {
     "data": {
      "text/plain": [
       "array([[1, 0, 0, 0],\n",
       "       [0, 1, 0, 0],\n",
       "       [0, 0, 1, 0],\n",
       "       [0, 0, 0, 1]])"
      ]
     },
     "execution_count": 53,
     "metadata": {},
     "output_type": "execute_result"
    }
   ],
   "source": [
    "np.identity(4, dtype=int)"
   ]
  },
  {
   "cell_type": "markdown",
   "id": "a64b06d4",
   "metadata": {},
   "source": [
    "### eye : returns a 2-D array with 1's as the diagonal and 0's elsewhere"
   ]
  },
  {
   "cell_type": "code",
   "execution_count": 54,
   "id": "e08b35a1",
   "metadata": {},
   "outputs": [
    {
     "data": {
      "text/plain": [
       "array([[1., 0.],\n",
       "       [0., 1.]])"
      ]
     },
     "execution_count": 54,
     "metadata": {},
     "output_type": "execute_result"
    }
   ],
   "source": [
    "np.eye(2,2)"
   ]
  },
  {
   "cell_type": "code",
   "execution_count": 55,
   "id": "1e669687",
   "metadata": {},
   "outputs": [
    {
     "data": {
      "text/plain": [
       "array([[0., 1., 0., 0.],\n",
       "       [0., 0., 1., 0.],\n",
       "       [0., 0., 0., 1.],\n",
       "       [0., 0., 0., 0.],\n",
       "       [0., 0., 0., 0.],\n",
       "       [0., 0., 0., 0.],\n",
       "       [0., 0., 0., 0.],\n",
       "       [0., 0., 0., 0.]])"
      ]
     },
     "execution_count": 55,
     "metadata": {},
     "output_type": "execute_result"
    }
   ],
   "source": [
    "np.eye(8,4,k=1)"
   ]
  },
  {
   "cell_type": "code",
   "execution_count": 57,
   "id": "39298f43",
   "metadata": {},
   "outputs": [
    {
     "data": {
      "text/plain": [
       "array([[0, 0, 0, 0],\n",
       "       [0, 0, 0, 0],\n",
       "       [0, 0, 0, 0],\n",
       "       [1, 0, 0, 0],\n",
       "       [0, 1, 0, 0],\n",
       "       [0, 0, 1, 0],\n",
       "       [0, 0, 0, 1],\n",
       "       [0, 0, 0, 0]])"
      ]
     },
     "execution_count": 57,
     "metadata": {},
     "output_type": "execute_result"
    }
   ],
   "source": [
    "np.eye(8,4,k=-3, dtype=int)"
   ]
  },
  {
   "cell_type": "markdown",
   "id": "c8902345",
   "metadata": {},
   "source": [
    "### random"
   ]
  },
  {
   "cell_type": "code",
   "execution_count": 58,
   "id": "5c5ed1ed",
   "metadata": {},
   "outputs": [
    {
     "data": {
      "text/plain": [
       "array([0.96844061, 0.04042306, 0.287759  ])"
      ]
     },
     "execution_count": 58,
     "metadata": {},
     "output_type": "execute_result"
    }
   ],
   "source": [
    "np.random.random(size=3)"
   ]
  },
  {
   "cell_type": "code",
   "execution_count": 59,
   "id": "2e024ab5",
   "metadata": {},
   "outputs": [
    {
     "data": {
      "text/plain": [
       "array([-1.68800733,  0.69039249])"
      ]
     },
     "execution_count": 59,
     "metadata": {},
     "output_type": "execute_result"
    }
   ],
   "source": [
    "np.random.normal(size=2)"
   ]
  },
  {
   "cell_type": "code",
   "execution_count": 60,
   "id": "9f93753b",
   "metadata": {},
   "outputs": [
    {
     "data": {
      "text/plain": [
       "array([[0.88905109, 0.23563943, 0.57782012, 0.74340422, 0.88435015],\n",
       "       [0.79799881, 0.71703718, 0.7145446 , 0.54194783, 0.76422077]])"
      ]
     },
     "execution_count": 60,
     "metadata": {},
     "output_type": "execute_result"
    }
   ],
   "source": [
    "np.random.rand(2,5)"
   ]
  },
  {
   "cell_type": "markdown",
   "id": "3c793253",
   "metadata": {},
   "source": [
    "### copy : returns a copy of the array"
   ]
  },
  {
   "cell_type": "code",
   "execution_count": 62,
   "id": "cad51f50",
   "metadata": {},
   "outputs": [
    {
     "name": "stdout",
     "output_type": "stream",
     "text": [
      "[2 8 6]\n"
     ]
    }
   ],
   "source": [
    "a = np.array([2,5,6])\n",
    "b = a.copy()\n",
    "b[1]=8\n",
    "print(b)"
   ]
  },
  {
   "cell_type": "markdown",
   "id": "0d699eba",
   "metadata": {},
   "source": [
    "## Linear Algebra"
   ]
  },
  {
   "cell_type": "code",
   "execution_count": 63,
   "id": "8facee2d",
   "metadata": {},
   "outputs": [],
   "source": [
    "A=np.array([[1,2,3], \n",
    "           [4, 5, 6],\n",
    "           [7, 8, 9]\n",
    "           ])"
   ]
  },
  {
   "cell_type": "code",
   "execution_count": 64,
   "id": "07445b34",
   "metadata": {},
   "outputs": [],
   "source": [
    "B=np.array([[2,2], \n",
    "           [8,6],\n",
    "           [3,4]\n",
    "           ])"
   ]
  },
  {
   "cell_type": "code",
   "execution_count": 65,
   "id": "f659834b",
   "metadata": {},
   "outputs": [
    {
     "data": {
      "text/plain": [
       "array([[ 27,  26],\n",
       "       [ 66,  62],\n",
       "       [105,  98]])"
      ]
     },
     "execution_count": 65,
     "metadata": {},
     "output_type": "execute_result"
    }
   ],
   "source": [
    "A.dot(B)"
   ]
  },
  {
   "cell_type": "code",
   "execution_count": 66,
   "id": "8eea6d9e",
   "metadata": {},
   "outputs": [
    {
     "data": {
      "text/plain": [
       "array([[ 27,  26],\n",
       "       [ 66,  62],\n",
       "       [105,  98]])"
      ]
     },
     "execution_count": 66,
     "metadata": {},
     "output_type": "execute_result"
    }
   ],
   "source": [
    "#same as A.dot(B)\n",
    "A@B"
   ]
  },
  {
   "cell_type": "code",
   "execution_count": 67,
   "id": "5d0a0817",
   "metadata": {},
   "outputs": [
    {
     "data": {
      "text/plain": [
       "array([[2, 8, 3],\n",
       "       [2, 6, 4]])"
      ]
     },
     "execution_count": 67,
     "metadata": {},
     "output_type": "execute_result"
    }
   ],
   "source": [
    "#transpose\n",
    "B.T"
   ]
  },
  {
   "cell_type": "markdown",
   "id": "ae6ba6ba",
   "metadata": {},
   "source": [
    "## Summary Statistics"
   ]
  },
  {
   "cell_type": "code",
   "execution_count": 68,
   "id": "e159041d",
   "metadata": {},
   "outputs": [],
   "source": [
    "#one dimensional array\n",
    "a = np.array([4,6,3,2,7])"
   ]
  },
  {
   "cell_type": "code",
   "execution_count": 69,
   "id": "437a7435",
   "metadata": {},
   "outputs": [
    {
     "data": {
      "text/plain": [
       "22"
      ]
     },
     "execution_count": 69,
     "metadata": {},
     "output_type": "execute_result"
    }
   ],
   "source": [
    "#sum of elements\n",
    "a.sum()"
   ]
  },
  {
   "cell_type": "code",
   "execution_count": 70,
   "id": "363f3cb1",
   "metadata": {},
   "outputs": [
    {
     "data": {
      "text/plain": [
       "1.8547236990991407"
      ]
     },
     "execution_count": 70,
     "metadata": {},
     "output_type": "execute_result"
    }
   ],
   "source": [
    "#standard deviation\n",
    "a.std()"
   ]
  },
  {
   "cell_type": "code",
   "execution_count": 71,
   "id": "2a7071ae",
   "metadata": {},
   "outputs": [
    {
     "data": {
      "text/plain": [
       "3.44"
      ]
     },
     "execution_count": 71,
     "metadata": {},
     "output_type": "execute_result"
    }
   ],
   "source": [
    "#variance\n",
    "a.var()"
   ]
  },
  {
   "cell_type": "code",
   "execution_count": 76,
   "id": "60868fc9",
   "metadata": {},
   "outputs": [],
   "source": [
    "#multi dimensional array\n",
    "A = np.array([\n",
    "    [1,5,6],\n",
    "    [4,2,6]\n",
    "])"
   ]
  },
  {
   "cell_type": "code",
   "execution_count": 77,
   "id": "d4f89544",
   "metadata": {},
   "outputs": [
    {
     "data": {
      "text/plain": [
       "24"
      ]
     },
     "execution_count": 77,
     "metadata": {},
     "output_type": "execute_result"
    }
   ],
   "source": [
    "A.sum()"
   ]
  },
  {
   "cell_type": "code",
   "execution_count": 78,
   "id": "2c2b2d2c",
   "metadata": {},
   "outputs": [
    {
     "data": {
      "text/plain": [
       "4.0"
      ]
     },
     "execution_count": 78,
     "metadata": {},
     "output_type": "execute_result"
    }
   ],
   "source": [
    "A.mean()"
   ]
  },
  {
   "cell_type": "code",
   "execution_count": 79,
   "id": "5093c278",
   "metadata": {},
   "outputs": [
    {
     "data": {
      "text/plain": [
       "1.9148542155126762"
      ]
     },
     "execution_count": 79,
     "metadata": {},
     "output_type": "execute_result"
    }
   ],
   "source": [
    "A.std()"
   ]
  },
  {
   "cell_type": "code",
   "execution_count": 80,
   "id": "7ef88949",
   "metadata": {},
   "outputs": [
    {
     "data": {
      "text/plain": [
       "array([ 5,  7, 12])"
      ]
     },
     "execution_count": 80,
     "metadata": {},
     "output_type": "execute_result"
    }
   ],
   "source": [
    "#sum of elements of columns\n",
    "A.sum(axis=0)"
   ]
  },
  {
   "cell_type": "code",
   "execution_count": null,
   "id": "599611eb",
   "metadata": {},
   "outputs": [],
   "source": []
  }
 ],
 "metadata": {
  "kernelspec": {
   "display_name": "Python 3",
   "language": "python",
   "name": "python3"
  },
  "language_info": {
   "codemirror_mode": {
    "name": "ipython",
    "version": 3
   },
   "file_extension": ".py",
   "mimetype": "text/x-python",
   "name": "python",
   "nbconvert_exporter": "python",
   "pygments_lexer": "ipython3",
   "version": "3.8.10"
  }
 },
 "nbformat": 4,
 "nbformat_minor": 5
}
