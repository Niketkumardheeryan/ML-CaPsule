{
 "cells": [
  {
   "cell_type": "markdown",
   "metadata": {},
   "source": [
    "<h3>Implementation of different activation fucntion in learning rules</h3>"
   ]
  },
  {
   "cell_type": "code",
   "execution_count": 49,
   "metadata": {},
   "outputs": [
    {
     "name": "stdout",
     "output_type": "stream",
     "text": [
      "Trained Weights for hebb network are :  [1.5488135  1.71518937]\n",
      "Trained bias for hebb network are :  [1.60276338]\n",
      "Trained Weights for hebb network are :  [0.53143536 0.57216559]\n",
      "Trained bias for hebb network are :  [0.51141955]\n"
     ]
    }
   ],
   "source": [
    "import numpy as np\n",
    "import pandas as pd\n",
    "\n",
    "# Problem --> OR- Gate\n",
    "input = np.array([[1, 1] ,[1,-1] , [-1,1] ,[-1,-1] ])\n",
    "output = np.array([1 ,1 , 1 ,-1 ])\n",
    "np.random.seed(0)\n",
    "weight = np.random.rand(2)\n",
    "bias = np.random.rand(1)\n",
    "learning_rate = 0.1\n",
    "\n",
    "# Hebbian Learning rule\n",
    "def hebbNetwork(input , output , b , w ,epoches, learning_rate = .1):\n",
    "    for epoch in range(epoches):\n",
    "        for i in range(len(input)):\n",
    "            cal_output = (np.dot(input[i] , w) + b)\n",
    "            # print(w)\n",
    "            if cal_output != output[i]:\n",
    "                w = w + (learning_rate*output[i]*input[i])\n",
    "                b = b + (learning_rate* output[i])\n",
    "    return w , b\n",
    "\n",
    "# Aderline Learning rule\n",
    "def AderlineNetwork(input , output , b , w ,epoches, learning_rate = .1):\n",
    "        for epoch in range(epoches):\n",
    "            for i in range(len(input)):\n",
    "                cal_output = (np.dot(input[i] , w) + b)\n",
    "                error = (output[i] - cal_output)**2\n",
    "                # print(error)\n",
    "                if cal_output != output[i]:\n",
    "                    w = w + (learning_rate*(output[i]- cal_output)*input[i])\n",
    "                    b = b + (learning_rate*(output[i]- cal_output))\n",
    "        return w , b\n",
    "\n",
    "\n",
    "wh , bh = hebbNetwork(input , output , bias , weight , 5)\n",
    "\n",
    "print(\"Trained Weights for hebb network are : \" , wh)\n",
    "print(\"Trained bias for hebb network are : \" , bh)\n",
    "\n",
    "wa , ba = AderlineNetwork(input , output , bias , weight , 5)\n",
    "\n",
    "print(\"Trained Weights for hebb network are : \" , wa)\n",
    "print(\"Trained bias for hebb network are : \" , ba)"
   ]
  },
  {
   "cell_type": "code",
   "execution_count": 50,
   "metadata": {},
   "outputs": [
    {
     "name": "stdout",
     "output_type": "stream",
     "text": [
      "[4.86676625]\n",
      "[1.43638751]\n",
      "[1.76913924]\n",
      "[-1.66123949]\n"
     ]
    }
   ],
   "source": [
    "for i in range(len(input)):\n",
    "    cal_output = (np.dot(input[i] , wh) + bh)\n",
    "    print(cal_output)"
   ]
  }
 ],
 "metadata": {
  "kernelspec": {
   "display_name": "Python 3",
   "language": "python",
   "name": "python3"
  },
  "language_info": {
   "codemirror_mode": {
    "name": "ipython",
    "version": 3
   },
   "file_extension": ".py",
   "mimetype": "text/x-python",
   "name": "python",
   "nbconvert_exporter": "python",
   "pygments_lexer": "ipython3",
   "version": "3.8.10"
  }
 },
 "nbformat": 4,
 "nbformat_minor": 2
}
