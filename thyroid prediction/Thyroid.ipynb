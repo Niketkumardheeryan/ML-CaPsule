{
 "cells": [
  {
   "cell_type": "markdown",
   "metadata": {
    "id": "KulHMEvHI-rH"
   },
   "source": [
    "### Importing Libraries"
   ]
  },
  {
   "cell_type": "code",
   "execution_count": 2,
   "metadata": {
    "colab": {
     "base_uri": "https://localhost:8080/"
    },
    "executionInfo": {
     "elapsed": 4071,
     "status": "ok",
     "timestamp": 1737313036719,
     "user": {
      "displayName": "Samridhi Ahuja",
      "userId": "10583994853886546720"
     },
     "user_tz": -330
    },
    "id": "3dxPwj-BhnqM",
    "outputId": "cb069dd9-a928-49d4-c1c8-a1fe25244d52"
   },
   "outputs": [],
   "source": [
    "import numpy as np\n",
    "import pandas as pd\n",
    "import seaborn as sns\n",
    "import matplotlib.pyplot as plt\n",
    "from sklearn.model_selection import train_test_split, cross_val_score, StratifiedKFold, GridSearchCV\n",
    "from sklearn.preprocessing import StandardScaler, LabelEncoder, OneHotEncoder\n",
    "from sklearn.feature_selection import SelectKBest, chi2\n",
    "from sklearn.metrics import accuracy_score, classification_report\n",
    "from sklearn.linear_model import LogisticRegression\n",
    "from sklearn.tree import DecisionTreeClassifier\n",
    "from sklearn. ensemble import RandomForestClassifier\n",
    "from sklearn.svm import SVC\n",
    "from imblearn.over_sampling import SMOTE\n",
    "from sklearn.ensemble import RandomForestClassifier\n",
    "from sklearn.feature_selection import RFECV\n",
    "from sklearn.decomposition import PCA\n",
    "from sklearn.metrics import roc_auc_score\n"
   ]
  },
  {
   "cell_type": "markdown",
   "metadata": {
    "id": "Io5ULlX87bB4"
   },
   "source": []
  },
  {
   "cell_type": "markdown",
   "metadata": {
    "id": "bgEmkQ6MJKH0"
   },
   "source": [
    "### Uploading The Dataset\n",
    "\n",
    "\n"
   ]
  },
  {
   "cell_type": "code",
   "execution_count": 5,
   "metadata": {
    "executionInfo": {
     "elapsed": 47,
     "status": "ok",
     "timestamp": 1737313036720,
     "user": {
      "displayName": "Samridhi Ahuja",
      "userId": "10583994853886546720"
     },
     "user_tz": -330
    },
    "id": "tTNMXb_2jcro"
   },
   "outputs": [],
   "source": [
    "df = pd.read_csv(\"D:/swoc/thyroid prediction/Thyroid_Diff.csv\")"
   ]
  },
  {
   "cell_type": "markdown",
   "metadata": {
    "id": "wik25oaHJTt6"
   },
   "source": [
    "### Analysing The Data & Preprocessing"
   ]
  },
  {
   "cell_type": "code",
   "execution_count": 7,
   "metadata": {
    "colab": {
     "base_uri": "https://localhost:8080/",
     "height": 0
    },
    "executionInfo": {
     "elapsed": 45,
     "status": "ok",
     "timestamp": 1737313036721,
     "user": {
      "displayName": "Samridhi Ahuja",
      "userId": "10583994853886546720"
     },
     "user_tz": -330
    },
    "id": "0bSDfDXmjyhR",
    "outputId": "8f7db34b-87e4-48b7-e5c5-83f3256926a8"
   },
   "outputs": [
    {
     "data": {
      "text/html": [
       "<div>\n",
       "<style scoped>\n",
       "    .dataframe tbody tr th:only-of-type {\n",
       "        vertical-align: middle;\n",
       "    }\n",
       "\n",
       "    .dataframe tbody tr th {\n",
       "        vertical-align: top;\n",
       "    }\n",
       "\n",
       "    .dataframe thead th {\n",
       "        text-align: right;\n",
       "    }\n",
       "</style>\n",
       "<table border=\"1\" class=\"dataframe\">\n",
       "  <thead>\n",
       "    <tr style=\"text-align: right;\">\n",
       "      <th></th>\n",
       "      <th>Age</th>\n",
       "      <th>Gender</th>\n",
       "      <th>Smoking</th>\n",
       "      <th>Hx Smoking</th>\n",
       "      <th>Hx Radiothreapy</th>\n",
       "      <th>Thyroid Function</th>\n",
       "      <th>Physical Examination</th>\n",
       "      <th>Adenopathy</th>\n",
       "      <th>Pathology</th>\n",
       "      <th>Focality</th>\n",
       "      <th>Risk</th>\n",
       "      <th>T</th>\n",
       "      <th>N</th>\n",
       "      <th>M</th>\n",
       "      <th>Stage</th>\n",
       "      <th>Response</th>\n",
       "      <th>Recurred</th>\n",
       "    </tr>\n",
       "  </thead>\n",
       "  <tbody>\n",
       "    <tr>\n",
       "      <th>0</th>\n",
       "      <td>27</td>\n",
       "      <td>F</td>\n",
       "      <td>No</td>\n",
       "      <td>No</td>\n",
       "      <td>No</td>\n",
       "      <td>Euthyroid</td>\n",
       "      <td>Single nodular goiter-left</td>\n",
       "      <td>No</td>\n",
       "      <td>Micropapillary</td>\n",
       "      <td>Uni-Focal</td>\n",
       "      <td>Low</td>\n",
       "      <td>T1a</td>\n",
       "      <td>N0</td>\n",
       "      <td>M0</td>\n",
       "      <td>I</td>\n",
       "      <td>Indeterminate</td>\n",
       "      <td>No</td>\n",
       "    </tr>\n",
       "    <tr>\n",
       "      <th>1</th>\n",
       "      <td>34</td>\n",
       "      <td>F</td>\n",
       "      <td>No</td>\n",
       "      <td>Yes</td>\n",
       "      <td>No</td>\n",
       "      <td>Euthyroid</td>\n",
       "      <td>Multinodular goiter</td>\n",
       "      <td>No</td>\n",
       "      <td>Micropapillary</td>\n",
       "      <td>Uni-Focal</td>\n",
       "      <td>Low</td>\n",
       "      <td>T1a</td>\n",
       "      <td>N0</td>\n",
       "      <td>M0</td>\n",
       "      <td>I</td>\n",
       "      <td>Excellent</td>\n",
       "      <td>No</td>\n",
       "    </tr>\n",
       "    <tr>\n",
       "      <th>2</th>\n",
       "      <td>30</td>\n",
       "      <td>F</td>\n",
       "      <td>No</td>\n",
       "      <td>No</td>\n",
       "      <td>No</td>\n",
       "      <td>Euthyroid</td>\n",
       "      <td>Single nodular goiter-right</td>\n",
       "      <td>No</td>\n",
       "      <td>Micropapillary</td>\n",
       "      <td>Uni-Focal</td>\n",
       "      <td>Low</td>\n",
       "      <td>T1a</td>\n",
       "      <td>N0</td>\n",
       "      <td>M0</td>\n",
       "      <td>I</td>\n",
       "      <td>Excellent</td>\n",
       "      <td>No</td>\n",
       "    </tr>\n",
       "    <tr>\n",
       "      <th>3</th>\n",
       "      <td>62</td>\n",
       "      <td>F</td>\n",
       "      <td>No</td>\n",
       "      <td>No</td>\n",
       "      <td>No</td>\n",
       "      <td>Euthyroid</td>\n",
       "      <td>Single nodular goiter-right</td>\n",
       "      <td>No</td>\n",
       "      <td>Micropapillary</td>\n",
       "      <td>Uni-Focal</td>\n",
       "      <td>Low</td>\n",
       "      <td>T1a</td>\n",
       "      <td>N0</td>\n",
       "      <td>M0</td>\n",
       "      <td>I</td>\n",
       "      <td>Excellent</td>\n",
       "      <td>No</td>\n",
       "    </tr>\n",
       "    <tr>\n",
       "      <th>4</th>\n",
       "      <td>62</td>\n",
       "      <td>F</td>\n",
       "      <td>No</td>\n",
       "      <td>No</td>\n",
       "      <td>No</td>\n",
       "      <td>Euthyroid</td>\n",
       "      <td>Multinodular goiter</td>\n",
       "      <td>No</td>\n",
       "      <td>Micropapillary</td>\n",
       "      <td>Multi-Focal</td>\n",
       "      <td>Low</td>\n",
       "      <td>T1a</td>\n",
       "      <td>N0</td>\n",
       "      <td>M0</td>\n",
       "      <td>I</td>\n",
       "      <td>Excellent</td>\n",
       "      <td>No</td>\n",
       "    </tr>\n",
       "  </tbody>\n",
       "</table>\n",
       "</div>"
      ],
      "text/plain": [
       "   Age Gender Smoking Hx Smoking Hx Radiothreapy Thyroid Function  \\\n",
       "0   27      F      No         No              No        Euthyroid   \n",
       "1   34      F      No        Yes              No        Euthyroid   \n",
       "2   30      F      No         No              No        Euthyroid   \n",
       "3   62      F      No         No              No        Euthyroid   \n",
       "4   62      F      No         No              No        Euthyroid   \n",
       "\n",
       "          Physical Examination Adenopathy       Pathology     Focality Risk  \\\n",
       "0   Single nodular goiter-left         No  Micropapillary    Uni-Focal  Low   \n",
       "1          Multinodular goiter         No  Micropapillary    Uni-Focal  Low   \n",
       "2  Single nodular goiter-right         No  Micropapillary    Uni-Focal  Low   \n",
       "3  Single nodular goiter-right         No  Micropapillary    Uni-Focal  Low   \n",
       "4          Multinodular goiter         No  Micropapillary  Multi-Focal  Low   \n",
       "\n",
       "     T   N   M Stage       Response Recurred  \n",
       "0  T1a  N0  M0     I  Indeterminate       No  \n",
       "1  T1a  N0  M0     I      Excellent       No  \n",
       "2  T1a  N0  M0     I      Excellent       No  \n",
       "3  T1a  N0  M0     I      Excellent       No  \n",
       "4  T1a  N0  M0     I      Excellent       No  "
      ]
     },
     "execution_count": 7,
     "metadata": {},
     "output_type": "execute_result"
    }
   ],
   "source": [
    "df.head()"
   ]
  },
  {
   "cell_type": "code",
   "execution_count": 8,
   "metadata": {
    "colab": {
     "base_uri": "https://localhost:8080/"
    },
    "executionInfo": {
     "elapsed": 38,
     "status": "ok",
     "timestamp": 1737313036721,
     "user": {
      "displayName": "Samridhi Ahuja",
      "userId": "10583994853886546720"
     },
     "user_tz": -330
    },
    "id": "Y6prtslAjzgZ",
    "outputId": "e179b246-dbf1-4e6d-b6fe-d6a9c2ccd9a5"
   },
   "outputs": [
    {
     "name": "stdout",
     "output_type": "stream",
     "text": [
      "<class 'pandas.core.frame.DataFrame'>\n",
      "RangeIndex: 383 entries, 0 to 382\n",
      "Data columns (total 17 columns):\n",
      " #   Column                Non-Null Count  Dtype \n",
      "---  ------                --------------  ----- \n",
      " 0   Age                   383 non-null    int64 \n",
      " 1   Gender                383 non-null    object\n",
      " 2   Smoking               383 non-null    object\n",
      " 3   Hx Smoking            383 non-null    object\n",
      " 4   Hx Radiothreapy       383 non-null    object\n",
      " 5   Thyroid Function      383 non-null    object\n",
      " 6   Physical Examination  383 non-null    object\n",
      " 7   Adenopathy            383 non-null    object\n",
      " 8   Pathology             383 non-null    object\n",
      " 9   Focality              383 non-null    object\n",
      " 10  Risk                  383 non-null    object\n",
      " 11  T                     383 non-null    object\n",
      " 12  N                     383 non-null    object\n",
      " 13  M                     383 non-null    object\n",
      " 14  Stage                 383 non-null    object\n",
      " 15  Response              383 non-null    object\n",
      " 16  Recurred              383 non-null    object\n",
      "dtypes: int64(1), object(16)\n",
      "memory usage: 51.0+ KB\n"
     ]
    }
   ],
   "source": [
    "df.info()"
   ]
  },
  {
   "cell_type": "code",
   "execution_count": 9,
   "metadata": {
    "colab": {
     "base_uri": "https://localhost:8080/",
     "height": 0
    },
    "executionInfo": {
     "elapsed": 35,
     "status": "ok",
     "timestamp": 1737313036721,
     "user": {
      "displayName": "Samridhi Ahuja",
      "userId": "10583994853886546720"
     },
     "user_tz": -330
    },
    "id": "A8y99fSRj24b",
    "outputId": "341b5a93-0a3d-4ba3-c965-781d45f32c3b"
   },
   "outputs": [
    {
     "data": {
      "text/html": [
       "<div>\n",
       "<style scoped>\n",
       "    .dataframe tbody tr th:only-of-type {\n",
       "        vertical-align: middle;\n",
       "    }\n",
       "\n",
       "    .dataframe tbody tr th {\n",
       "        vertical-align: top;\n",
       "    }\n",
       "\n",
       "    .dataframe thead th {\n",
       "        text-align: right;\n",
       "    }\n",
       "</style>\n",
       "<table border=\"1\" class=\"dataframe\">\n",
       "  <thead>\n",
       "    <tr style=\"text-align: right;\">\n",
       "      <th></th>\n",
       "      <th>Age</th>\n",
       "    </tr>\n",
       "  </thead>\n",
       "  <tbody>\n",
       "    <tr>\n",
       "      <th>count</th>\n",
       "      <td>383.000000</td>\n",
       "    </tr>\n",
       "    <tr>\n",
       "      <th>mean</th>\n",
       "      <td>40.866841</td>\n",
       "    </tr>\n",
       "    <tr>\n",
       "      <th>std</th>\n",
       "      <td>15.134494</td>\n",
       "    </tr>\n",
       "    <tr>\n",
       "      <th>min</th>\n",
       "      <td>15.000000</td>\n",
       "    </tr>\n",
       "    <tr>\n",
       "      <th>25%</th>\n",
       "      <td>29.000000</td>\n",
       "    </tr>\n",
       "    <tr>\n",
       "      <th>50%</th>\n",
       "      <td>37.000000</td>\n",
       "    </tr>\n",
       "    <tr>\n",
       "      <th>75%</th>\n",
       "      <td>51.000000</td>\n",
       "    </tr>\n",
       "    <tr>\n",
       "      <th>max</th>\n",
       "      <td>82.000000</td>\n",
       "    </tr>\n",
       "  </tbody>\n",
       "</table>\n",
       "</div>"
      ],
      "text/plain": [
       "              Age\n",
       "count  383.000000\n",
       "mean    40.866841\n",
       "std     15.134494\n",
       "min     15.000000\n",
       "25%     29.000000\n",
       "50%     37.000000\n",
       "75%     51.000000\n",
       "max     82.000000"
      ]
     },
     "execution_count": 9,
     "metadata": {},
     "output_type": "execute_result"
    }
   ],
   "source": [
    "df.describe()"
   ]
  },
  {
   "cell_type": "code",
   "execution_count": 10,
   "metadata": {
    "colab": {
     "base_uri": "https://localhost:8080/",
     "height": 0
    },
    "executionInfo": {
     "elapsed": 32,
     "status": "ok",
     "timestamp": 1737313036722,
     "user": {
      "displayName": "Samridhi Ahuja",
      "userId": "10583994853886546720"
     },
     "user_tz": -330
    },
    "id": "q8zQtrcAkEKW",
    "outputId": "6f658468-a7c7-47dd-f351-253e27ad4d9a"
   },
   "outputs": [
    {
     "data": {
      "text/plain": [
       "Age                     0\n",
       "Gender                  0\n",
       "Smoking                 0\n",
       "Hx Smoking              0\n",
       "Hx Radiothreapy         0\n",
       "Thyroid Function        0\n",
       "Physical Examination    0\n",
       "Adenopathy              0\n",
       "Pathology               0\n",
       "Focality                0\n",
       "Risk                    0\n",
       "T                       0\n",
       "N                       0\n",
       "M                       0\n",
       "Stage                   0\n",
       "Response                0\n",
       "Recurred                0\n",
       "dtype: int64"
      ]
     },
     "execution_count": 10,
     "metadata": {},
     "output_type": "execute_result"
    }
   ],
   "source": [
    "df.isnull().sum()"
   ]
  },
  {
   "cell_type": "markdown",
   "metadata": {
    "id": "Hl4NK-JAJj47"
   },
   "source": [
    "### Exploratory Analysis"
   ]
  },
  {
   "cell_type": "code",
   "execution_count": 12,
   "metadata": {
    "colab": {
     "base_uri": "https://localhost:8080/",
     "height": 0
    },
    "executionInfo": {
     "elapsed": 29,
     "status": "ok",
     "timestamp": 1737313036722,
     "user": {
      "displayName": "Samridhi Ahuja",
      "userId": "10583994853886546720"
     },
     "user_tz": -330
    },
    "id": "3tsoIx3gkJLr",
    "outputId": "be8aba82-6ca8-4f84-a65a-f24358798a68"
   },
   "outputs": [
    {
     "data": {
      "image/png": "[encoded data removed]",
      "text/plain": [
       "<Figure size 1000x600 with 1 Axes>"
      ]
     },
     "metadata": {},
     "output_type": "display_data"
    }
   ],
   "source": [
    "sns.set_style('whitegrid')\n",
    "#Plotting histogram for age\n",
    "plt.figure(figsize=(10, 6))\n",
    "sns.histplot(df['Age'], kde=True, color = 'blue', bins = 10)\n",
    "plt.title('Age Distribution of Patients')\n",
    "plt.xlabel('Age')\n",
    "plt.ylabel('Frequency')\n",
    "plt.show()"
   ]
  },
  {
   "cell_type": "code",
   "execution_count": 13,
   "metadata": {
    "colab": {
     "base_uri": "https://localhost:8080/",
     "height": 0
    },
    "executionInfo": {
     "elapsed": 745,
     "status": "ok",
     "timestamp": 1737313037441,
     "user": {
      "displayName": "Samridhi Ahuja",
      "userId": "10583994853886546720"
     },
     "user_tz": -330
    },
    "id": "T5RLgR4QA7oH",
    "outputId": "e2208fa1-52a6-42c8-99f7-9bd167358ddc"
   },
   "outputs": [
    {
     "data": {
      "image/png": "[encoded data removed]",
      "text/plain": [
       "<Figure size 1000x500 with 1 Axes>"
      ]
     },
     "metadata": {},
     "output_type": "display_data"
    }
   ],
   "source": [
    "#Gender Distribution\n",
    "plt.figure(figsize=(10, 5))\n",
    "sns.countplot(x='Gender', data=df, order=df['Gender'].value_counts().index,hue=\"Gender\",palette=\"viridis\",legend=False)\n",
    "plt.title('Gender Distribution')\n",
    "plt.show()"
   ]
  },
  {
   "cell_type": "code",
   "execution_count": 14,
   "metadata": {
    "colab": {
     "base_uri": "https://localhost:8080/",
     "height": 0
    },
    "executionInfo": {
     "elapsed": 20,
     "status": "ok",
     "timestamp": 1737313037441,
     "user": {
      "displayName": "Samridhi Ahuja",
      "userId": "10583994853886546720"
     },
     "user_tz": -330
    },
    "id": "-r2Kd6lzrWBk",
    "outputId": "ae34c679-aa73-4377-b10d-9e9a14bfb857"
   },
   "outputs": [
    {
     "data": {
      "image/png": "[encoded data removed]",
      "text/plain": [
       "<Figure size 288.111x250 with 2 Axes>"
      ]
     },
     "metadata": {},
     "output_type": "display_data"
    }
   ],
   "source": [
    "selected_cols = ['Age', 'Risk', 'Stage']  # Example columns\n",
    "if all(col in df.columns for col in selected_cols):\n",
    "    sns.pairplot(df[selected_cols], hue='Risk', palette='husl')\n",
    "    plt.show()"
   ]
  },
  {
   "cell_type": "code",
   "execution_count": 15,
   "metadata": {
    "colab": {
     "base_uri": "https://localhost:8080/"
    },
    "executionInfo": {
     "elapsed": 18,
     "status": "ok",
     "timestamp": 1737313037441,
     "user": {
      "displayName": "Samridhi Ahuja",
      "userId": "10583994853886546720"
     },
     "user_tz": -330
    },
    "id": "iZQPiKdpsahL",
    "outputId": "515e9d52-4183-414b-9670-21297cdcf4e5"
   },
   "outputs": [
    {
     "name": "stdout",
     "output_type": "stream",
     "text": [
      "Dataset Head:\n",
      "   Age Gender Smoking Hx Smoking Hx Radiothreapy Thyroid Function  \\\n",
      "0   27      F      No         No              No        Euthyroid   \n",
      "1   34      F      No        Yes              No        Euthyroid   \n",
      "2   30      F      No         No              No        Euthyroid   \n",
      "3   62      F      No         No              No        Euthyroid   \n",
      "4   62      F      No         No              No        Euthyroid   \n",
      "\n",
      "          Physical Examination Adenopathy       Pathology     Focality Risk  \\\n",
      "0   Single nodular goiter-left         No  Micropapillary    Uni-Focal  Low   \n",
      "1          Multinodular goiter         No  Micropapillary    Uni-Focal  Low   \n",
      "2  Single nodular goiter-right         No  Micropapillary    Uni-Focal  Low   \n",
      "3  Single nodular goiter-right         No  Micropapillary    Uni-Focal  Low   \n",
      "4          Multinodular goiter         No  Micropapillary  Multi-Focal  Low   \n",
      "\n",
      "     T   N   M Stage       Response Recurred  \n",
      "0  T1a  N0  M0     I  Indeterminate       No  \n",
      "1  T1a  N0  M0     I      Excellent       No  \n",
      "2  T1a  N0  M0     I      Excellent       No  \n",
      "3  T1a  N0  M0     I      Excellent       No  \n",
      "4  T1a  N0  M0     I      Excellent       No  \n",
      "Column 'Gender' encoded successfully.\n",
      "Column 'Smoking' encoded successfully.\n",
      "Column 'Hx Smoking' encoded successfully.\n",
      "Column 'Hx Radiothreapy' encoded successfully.\n",
      "Column 'Thyroid Function' encoded successfully.\n",
      "Column 'Physical Examination' encoded successfully.\n",
      "Column 'Adenopathy' encoded successfully.\n",
      "Column 'Pathology' encoded successfully.\n",
      "Column 'Focality' encoded successfully.\n",
      "Column 'Risk' encoded successfully.\n",
      "Column 'T' encoded successfully.\n",
      "Column 'N' encoded successfully.\n",
      "Column 'M' encoded successfully.\n",
      "Column 'Stage' encoded successfully.\n",
      "Column 'Response' encoded successfully.\n",
      "Column 'Recurred' encoded successfully.\n",
      "\n",
      "Encoded Dataset Head:\n",
      "   Age  Gender  Smoking  Hx Smoking  Hx Radiothreapy  Thyroid Function  \\\n",
      "0   27       0        0           0                0                 2   \n",
      "1   34       0        0           1                0                 2   \n",
      "2   30       0        0           0                0                 2   \n",
      "3   62       0        0           0                0                 2   \n",
      "4   62       0        0           0                0                 2   \n",
      "\n",
      "   Physical Examination  Adenopathy  Pathology  Focality  Risk  T  N  M  \\\n",
      "0                     3           3          2         1     2  0  0  0   \n",
      "1                     1           3          2         1     2  0  0  0   \n",
      "2                     4           3          2         1     2  0  0  0   \n",
      "3                     4           3          2         1     2  0  0  0   \n",
      "4                     1           3          2         0     2  0  0  0   \n",
      "\n",
      "   Stage  Response  Recurred  \n",
      "0      0         2         0  \n",
      "1      0         1         0  \n",
      "2      0         1         0  \n",
      "3      0         1         0  \n",
      "4      0         1         0  \n"
     ]
    }
   ],
   "source": [
    "print(\"Dataset Head:\")\n",
    "print(df.head())\n",
    "\n",
    "# Initialize LabelEncoder\n",
    "label_encoder = LabelEncoder()\n",
    "\n",
    "# Specify the columns to encode (update this based on your dataset)\n",
    "categorical_columns = df.select_dtypes(include=['object']).columns\n",
    "\n",
    "# Apply label encoding to each categorical column\n",
    "for column in categorical_columns:\n",
    "    df[column] = label_encoder.fit_transform(df[column])\n",
    "    print(f\"Column '{column}' encoded successfully.\")\n",
    "\n",
    "# Display the encoded dataset\n",
    "print(\"\\nEncoded Dataset Head:\")\n",
    "print(df.head())"
   ]
  },
  {
   "cell_type": "code",
   "execution_count": 16,
   "metadata": {
    "colab": {
     "base_uri": "https://localhost:8080/"
    },
    "executionInfo": {
     "elapsed": 17,
     "status": "ok",
     "timestamp": 1737313037442,
     "user": {
      "displayName": "Samridhi Ahuja",
      "userId": "10583994853886546720"
     },
     "user_tz": -330
    },
    "id": "RtZxyRE02jBh",
    "outputId": "ab5d2ea2-731e-4717-ca01-68bcd0cd46fd"
   },
   "outputs": [
    {
     "name": "stdout",
     "output_type": "stream",
     "text": [
      "Recurred                1.000000\n",
      "Response                0.708957\n",
      "N                       0.632323\n",
      "T                       0.556201\n",
      "Stage                   0.449137\n",
      "M                       0.354360\n",
      "Smoking                 0.333243\n",
      "Gender                  0.328189\n",
      "Age                     0.258897\n",
      "Hx Radiothreapy         0.174407\n",
      "Hx Smoking              0.136073\n",
      "Thyroid Function        0.067758\n",
      "Pathology               0.003272\n",
      "Physical Examination   -0.131801\n",
      "Adenopathy             -0.182530\n",
      "Focality               -0.383776\n",
      "Risk                   -0.733376\n",
      "Name: Recurred, dtype: float64\n"
     ]
    }
   ],
   "source": [
    "# Calculate the correlation matrix\n",
    "correlation_matrix = df.corr()\n",
    "\n",
    "# Now you can use correlation_matrix\n",
    "correlation_with_target = correlation_matrix['Recurred'].sort_values(ascending=False)\n",
    "print(correlation_with_target)"
   ]
  },
  {
   "cell_type": "markdown",
   "metadata": {
    "id": "OPukBSNqLAcx"
   },
   "source": [
    "### Selecting Target Varible and Feature Selection using SelectKBest"
   ]
  },
  {
   "cell_type": "code",
   "execution_count": 18,
   "metadata": {
    "colab": {
     "base_uri": "https://localhost:8080/"
    },
    "executionInfo": {
     "elapsed": 16,
     "status": "ok",
     "timestamp": 1737313037442,
     "user": {
      "displayName": "Samridhi Ahuja",
      "userId": "10583994853886546720"
     },
     "user_tz": -330
    },
    "id": "pl8xbU_R3ZY8",
    "outputId": "e885bc09-ae9a-4907-e5ae-46db962d832d"
   },
   "outputs": [
    {
     "name": "stdout",
     "output_type": "stream",
     "text": [
      "[[27  0  0 ...  0  0  2]\n",
      " [34  0  0 ...  0  0  1]\n",
      " [30  0  0 ...  0  0  1]\n",
      " ...\n",
      " [72  1  1 ...  1  4  3]\n",
      " [61  1  1 ...  0  3  3]\n",
      " [67  1  1 ...  0  3  3]]\n",
      "[0 0 0 0 0 0 0 0 0 0 0 0 0 0 0 0 0 0 0 0 0 0 0 0 0 0 0 0 0 0 0 0 0 0 0 0 0\n",
      " 0 0 0 0 0 0 0 0 0 0 0 1 0 0 0 0 0 0 0 0 0 0 0 0 0 0 0 0 0 0 0 0 0 0 0 0 0\n",
      " 0 0 0 0 0 0 0 0 0 0 0 0 0 1 1 1 1 1 0 0 0 0 0 0 0 0 0 0 0 0 0 0 0 0 0 0 0\n",
      " 0 0 0 0 0 0 0 0 0 0 0 0 0 0 0 0 0 0 0 0 0 0 0 0 0 0 0 0 0 0 0 0 0 0 0 0 0\n",
      " 0 0 0 0 0 0 0 0 0 0 0 0 0 0 0 0 0 0 0 0 0 0 0 0 0 0 0 0 0 0 0 0 0 0 0 0 0\n",
      " 0 0 0 0 0 0 0 0 0 0 0 0 0 0 0 0 0 0 0 0 0 0 0 0 0 0 0 0 0 0 0 0 0 0 0 0 0\n",
      " 0 1 1 1 1 1 1 1 1 1 1 1 1 1 1 1 1 1 1 1 1 0 0 0 0 0 0 0 0 0 0 0 0 0 0 0 0\n",
      " 0 0 0 0 0 0 0 0 0 0 0 0 0 0 0 0 0 0 0 0 0 0 0 0 0 0 0 0 0 0 0 0 0 0 0 0 0\n",
      " 0 0 1 1 1 1 1 1 1 1 1 1 1 1 1 1 1 1 1 1 1 1 1 1 1 1 1 1 1 1 1 1 1 1 1 1 1\n",
      " 1 1 1 1 1 1 0 0 1 1 1 1 1 1 1 1 1 1 1 1 1 1 0 1 1 1 1 1 1 1 1 1 1 1 1 1 1\n",
      " 1 1 1 1 1 1 1 1 1 1 1 1 1]\n"
     ]
    }
   ],
   "source": [
    "columns_to_include = df.columns[:-1]\n",
    "# Get the numerical indices of the columns\n",
    "column_indices = [df.columns.get_loc(col) for col in columns_to_include]\n",
    "x = df.iloc[:, column_indices].values\n",
    "y = df.iloc[:, -1].values\n",
    "print(x)\n",
    "print(y)"
   ]
  },
  {
   "cell_type": "markdown",
   "metadata": {
    "id": "v0agtLE7MTfI"
   },
   "source": [
    "### Spliting The Data"
   ]
  },
  {
   "cell_type": "code",
   "execution_count": 20,
   "metadata": {
    "executionInfo": {
     "elapsed": 14,
     "status": "ok",
     "timestamp": 1737313037442,
     "user": {
      "displayName": "Samridhi Ahuja",
      "userId": "10583994853886546720"
     },
     "user_tz": -330
    },
    "id": "IlmNrn6gK7Xh"
   },
   "outputs": [],
   "source": [
    "# Split data into train and test sets\n",
    "X_train, X_test, y_train, y_test = train_test_split(x, y, test_size=0.3, random_state=42)"
   ]
  },
  {
   "cell_type": "markdown",
   "metadata": {
    "id": "QBV_Rjaj66Ez"
   },
   "source": [
    "# Handling Class Imbalance and Scaling the Data"
   ]
  },
  {
   "cell_type": "code",
   "execution_count": 22,
   "metadata": {
    "executionInfo": {
     "elapsed": 14,
     "status": "ok",
     "timestamp": 1737313037442,
     "user": {
      "displayName": "Samridhi Ahuja",
      "userId": "10583994853886546720"
     },
     "user_tz": -330
    },
    "id": "VHWSuZ056oof"
   },
   "outputs": [],
   "source": [
    "# Apply SMOTE to the training data\n",
    "smote = SMOTE(random_state=42)\n",
    "X_train_resampled, y_train_resampled = smote.fit_resample(X_train, y_train)\n",
    "#Scaling the Data\n",
    "scaler = StandardScaler()\n",
    "X_train = scaler.fit_transform(X_train)\n",
    "X_test = scaler.transform(X_test)"
   ]
  },
  {
   "cell_type": "markdown",
   "metadata": {
    "id": "QhR3DVPfMmZc"
   },
   "source": [
    "### SelectkBest - Chi2 , Anova , MutualInfo"
   ]
  },
  {
   "cell_type": "code",
   "execution_count": 24,
   "metadata": {
    "colab": {
     "base_uri": "https://localhost:8080/"
    },
    "executionInfo": {
     "elapsed": 798,
     "status": "ok",
     "timestamp": 1737313038227,
     "user": {
      "displayName": "Samridhi Ahuja",
      "userId": "10583994853886546720"
     },
     "user_tz": -330
    },
    "id": "4hR2Bgw1kdJQ",
    "outputId": "4f48114f-20d7-4e2b-81c2-2657dd985753"
   },
   "outputs": [
    {
     "name": "stdout",
     "output_type": "stream",
     "text": [
      "[[27  0  0  0  2]\n",
      " [34  0  0  0  1]\n",
      " [30  0  0  0  1]\n",
      " ...\n",
      " [72  6  2  4  3]\n",
      " [61  6  2  3  3]\n",
      " [67  6  2  3  3]]\n",
      "Confusion Matrix for Logistic Regression:\n",
      " [[79  4]\n",
      " [ 5 27]]\n",
      "Logistic Regression Accuracy : 92.17%\n",
      "              precision    recall  f1-score   support\n",
      "\n",
      "           0       0.94      0.95      0.95        83\n",
      "           1       0.87      0.84      0.86        32\n",
      "\n",
      "    accuracy                           0.92       115\n",
      "   macro avg       0.91      0.90      0.90       115\n",
      "weighted avg       0.92      0.92      0.92       115\n",
      "\n",
      "Confusion Matrix for Decision Tree:\n",
      " [[78  5]\n",
      " [ 2 30]]\n",
      "Decision Tree Accuracy : 93.91%\n",
      "              precision    recall  f1-score   support\n",
      "\n",
      "           0       0.97      0.94      0.96        83\n",
      "           1       0.86      0.94      0.90        32\n",
      "\n",
      "    accuracy                           0.94       115\n",
      "   macro avg       0.92      0.94      0.93       115\n",
      "weighted avg       0.94      0.94      0.94       115\n",
      "\n",
      "Confusion Matrix for Random Forest:\n",
      " [[82  1]\n",
      " [ 1 31]]\n",
      "Random Forest Accuracy : 98.26%\n",
      "              precision    recall  f1-score   support\n",
      "\n",
      "           0       0.99      0.99      0.99        83\n",
      "           1       0.97      0.97      0.97        32\n",
      "\n",
      "    accuracy                           0.98       115\n",
      "   macro avg       0.98      0.98      0.98       115\n",
      "weighted avg       0.98      0.98      0.98       115\n",
      "\n",
      "Confusion Matrix for Support Vector Machine:\n",
      " [[81  2]\n",
      " [ 5 27]]\n",
      "Support Vector Machine Accuracy : 93.91%\n",
      "              precision    recall  f1-score   support\n",
      "\n",
      "           0       0.94      0.98      0.96        83\n",
      "           1       0.93      0.84      0.89        32\n",
      "\n",
      "    accuracy                           0.94       115\n",
      "   macro avg       0.94      0.91      0.92       115\n",
      "weighted avg       0.94      0.94      0.94       115\n",
      "\n",
      "Logistic Regression 92.17391304347827\n",
      "Decision Tree 93.91304347826087\n",
      "Random Forest 98.26086956521739\n",
      "Support Vector Machine 93.91304347826087\n"
     ]
    }
   ],
   "source": [
    "\n",
    "from sklearn.feature_selection import SelectKBest , chi2 , mutual_info_classif , f_classif\n",
    "#here we changed the value of k and parameter(to chi2 ,anova,mutualifo) to record our values\n",
    "selector = SelectKBest(chi2, k=5)\n",
    "X_new =selector.fit_transform(x,y)\n",
    "print(X_new)\n",
    "classifiers={\n",
    "'Logistic Regression' : LogisticRegression(max_iter=500,solver='newton-cg'),\n",
    "'Decision Tree' : DecisionTreeClassifier(),\n",
    "'Random Forest' : RandomForestClassifier(),\n",
    "'Support Vector Machine' : SVC(),\n",
    "}\n",
    "from sklearn.metrics import classification_report, confusion_matrix, accuracy_score\n",
    "result = {}\n",
    "for name, clf in classifiers.items():\n",
    "    clf.fit(X_train, y_train)\n",
    "    y_pred = clf.predict(X_test)\n",
    "    cm = confusion_matrix(y_test, y_pred)\n",
    "    print(f\"Confusion Matrix for {name}:\\n\", cm)\n",
    "    accuracy = accuracy_score(y_test, y_pred)\n",
    "    result[name] = accuracy\n",
    "    print(f'{name} Accuracy : {accuracy * 100:.2f}%')\n",
    "    print(classification_report(y_test, y_pred,zero_division=0))\n",
    "for i in result:\n",
    "  print(i,result[i]*100)"
   ]
  },
  {
   "cell_type": "code",
   "execution_count": 25,
   "metadata": {
    "colab": {
     "base_uri": "https://localhost:8080/",
     "height": 489
    },
    "executionInfo": {
     "elapsed": 13,
     "status": "ok",
     "timestamp": 1737313038227,
     "user": {
      "displayName": "Samridhi Ahuja",
      "userId": "10583994853886546720"
     },
     "user_tz": -330
    },
    "id": "whfgrPYIKtcE",
    "outputId": "7bbba394-04ef-4bfd-aedd-f0648930c741"
   },
   "outputs": [
    {
     "data": {
      "text/plain": [
       "<matplotlib.legend.Legend at 0x177a0aaf500>"
      ]
     },
     "execution_count": 25,
     "metadata": {},
     "output_type": "execute_result"
    },
    {
     "data": {
      "image/png": "[encoded data removed]",
      "text/plain": [
       "<Figure size 640x480 with 1 Axes>"
      ]
     },
     "metadata": {},
     "output_type": "display_data"
    }
   ],
   "source": [
    "from sklearn.metrics import roc_curve, auc\n",
    "# Actual outcomes and predicted probabilities # Calculate ROC curve\n",
    "fpr, tpr, thresholds = roc_curve (y_test, y_pred)\n",
    "# Calculate AUC\n",
    "roc_auc=auc (fpr, tpr)\n",
    "\n",
    "# Plot ROC curve\n",
    "plt.figure()\n",
    "plt.plot(fpr, tpr, color= 'darkorange', lw=2, label=f'ROC curve (AUC area = {roc_auc}')\n",
    "plt.plot([0, 1], [0, 1], color='navy', lw=2, linestyle= '--')\n",
    "plt.xlim([0.0, 1.0])\n",
    "plt.ylim([0.0, 1.0])\n",
    "plt.xlabel('False Positive Rate')\n",
    "plt.ylabel('True Positive Rate')\n",
    "plt.title('Receiver Operating Characteristic Curve')\n",
    "plt.legend (loc= \"lower right\")"
   ]
  },
  {
   "cell_type": "markdown",
   "metadata": {
    "id": "lBXliS15M1aP"
   },
   "source": [
    "###"
   ]
  },
  {
   "cell_type": "code",
   "execution_count": 27,
   "metadata": {
    "colab": {
     "base_uri": "https://localhost:8080/"
    },
    "executionInfo": {
     "elapsed": 26394,
     "status": "ok",
     "timestamp": 1737313225915,
     "user": {
      "displayName": "Samridhi Ahuja",
      "userId": "10583994853886546720"
     },
     "user_tz": -330
    },
    "id": "ItSougEmktUP",
    "outputId": "f51657d2-fd0a-4481-d574-76b746d76a2f"
   },
   "outputs": [
    {
     "name": "stdout",
     "output_type": "stream",
     "text": [
      "Confusion Matrix for Logistic Regression:\n",
      " [[77  6]\n",
      " [ 2 30]]\n",
      "Logistic Regression Accuracy: 93.04%\n",
      "              precision    recall  f1-score   support\n",
      "\n",
      "           0       0.97      0.93      0.95        83\n",
      "           1       0.83      0.94      0.88        32\n",
      "\n",
      "    accuracy                           0.93       115\n",
      "   macro avg       0.90      0.93      0.92       115\n",
      "weighted avg       0.94      0.93      0.93       115\n",
      "\n",
      "Confusion Matrix for Decision Tree:\n",
      " [[76  7]\n",
      " [ 1 31]]\n",
      "Decision Tree Accuracy: 93.04%\n",
      "              precision    recall  f1-score   support\n",
      "\n",
      "           0       0.99      0.92      0.95        83\n",
      "           1       0.82      0.97      0.89        32\n",
      "\n",
      "    accuracy                           0.93       115\n",
      "   macro avg       0.90      0.94      0.92       115\n",
      "weighted avg       0.94      0.93      0.93       115\n",
      "\n",
      "Confusion Matrix for Random Forest:\n",
      " [[81  2]\n",
      " [ 1 31]]\n",
      "Random Forest Accuracy: 97.39%\n",
      "              precision    recall  f1-score   support\n",
      "\n",
      "           0       0.99      0.98      0.98        83\n",
      "           1       0.94      0.97      0.95        32\n",
      "\n",
      "    accuracy                           0.97       115\n",
      "   macro avg       0.96      0.97      0.97       115\n",
      "weighted avg       0.97      0.97      0.97       115\n",
      "\n",
      "Confusion Matrix for Support Vector Machine:\n",
      " [[78  5]\n",
      " [ 4 28]]\n",
      "Support Vector Machine Accuracy: 92.17%\n",
      "              precision    recall  f1-score   support\n",
      "\n",
      "           0       0.95      0.94      0.95        83\n",
      "           1       0.85      0.88      0.86        32\n",
      "\n",
      "    accuracy                           0.92       115\n",
      "   macro avg       0.90      0.91      0.90       115\n",
      "weighted avg       0.92      0.92      0.92       115\n",
      "\n",
      "Logistic Regression 93.04347826086956\n",
      "Decision Tree 93.04347826086956\n",
      "Random Forest 97.3913043478261\n",
      "Support Vector Machine 92.17391304347827\n"
     ]
    }
   ],
   "source": [
    "# Apply SMOTE to the training data\n",
    "smote = SMOTE(random_state=42)\n",
    "X_train_resampled, y_train_resampled = smote.fit_resample(X_train, y_train)\n",
    "#Scaling the Data\n",
    "scaler = StandardScaler()\n",
    "X_train = scaler.fit_transform(X_train)\n",
    "X_test = scaler.transform(X_test)\n",
    "classifiers={\n",
    "'Logistic Regression' : LogisticRegression(max_iter=500,solver='newton-cg',random_state=42),\n",
    "'Decision Tree' : DecisionTreeClassifier(),\n",
    "'Random Forest' : RandomForestClassifier(),\n",
    "'Support Vector Machine' : SVC(kernel='linear',),\n",
    "}\n",
    "from sklearn.metrics import classification_report, confusion_matrix, accuracy_score\n",
    "result = {}\n",
    "for name, clf in classifiers.items():\n",
    "  rfecv = RFECV(estimator=clf, step=1, cv=5, scoring='accuracy')\n",
    "  rfecv.fit(X_train_resampled, y_train_resampled)\n",
    "  X_train_rfecv = rfecv.transform(X_train_resampled)\n",
    "  X_test_rfecv = rfecv.transform(X_test)\n",
    "  clf.fit(X_train_rfecv, y_train_resampled)\n",
    "  y_pred = clf.predict(X_test_rfecv)\n",
    "  cm = confusion_matrix(y_test, y_pred)\n",
    "  print(f\"Confusion Matrix for {name}:\\n\", cm)\n",
    "  accuracy = accuracy_score(y_test, y_pred)\n",
    "  result[name] = accuracy\n",
    "  print(f'{name} Accuracy: {accuracy * 100:.2f}%')\n",
    "  print(classification_report(y_test, y_pred, zero_division=0))\n",
    "for i in result:\n",
    "  print(i,result[i]*100)"
   ]
  },
  {
   "cell_type": "code",
   "execution_count": 28,
   "metadata": {
    "colab": {
     "base_uri": "https://localhost:8080/",
     "height": 489
    },
    "executionInfo": {
     "elapsed": 21,
     "status": "ok",
     "timestamp": 1737313227837,
     "user": {
      "displayName": "Samridhi Ahuja",
      "userId": "10583994853886546720"
     },
     "user_tz": -330
    },
    "id": "J6UryFCOXZ6m",
    "outputId": "b8733652-70fd-49bf-8010-8d932a3d4b8f"
   },
   "outputs": [
    {
     "data": {
      "text/plain": [
       "<matplotlib.legend.Legend at 0x177a2394830>"
      ]
     },
     "execution_count": 28,
     "metadata": {},
     "output_type": "execute_result"
    },
    {
     "data": {
      "image/png": "[encoded data removed]",
      "text/plain": [
       "<Figure size 640x480 with 1 Axes>"
      ]
     },
     "metadata": {},
     "output_type": "display_data"
    }
   ],
   "source": [
    "from sklearn.metrics import roc_curve, auc\n",
    "# Actual outcomes and predicted probabilities # Calculate ROC curve\n",
    "fpr, tpr, thresholds = roc_curve (y_test, y_pred)\n",
    "# Calculate AUC\n",
    "roc_auc=auc (fpr, tpr)\n",
    "\n",
    "# Plot ROC curve\n",
    "plt.figure()\n",
    "plt.plot(fpr, tpr, color= 'darkorange', lw=2, label=f'ROC curve (AUC area = {roc_auc}')\n",
    "plt.plot([0, 1], [0, 1], color='navy', lw=2, linestyle= '--')\n",
    "plt.xlim([0.0, 1.0])\n",
    "plt.ylim([0.0, 1.0])\n",
    "plt.xlabel('False Positive Rate')\n",
    "plt.ylabel('True Positive Rate')\n",
    "plt.title('Receiver Operating Characteristic Curve')\n",
    "plt.legend (loc= \"lower right\")"
   ]
  },
  {
   "cell_type": "markdown",
   "metadata": {
    "id": "kj8Y8G293Rme"
   },
   "source": [
    "# PCA"
   ]
  },
  {
   "cell_type": "code",
   "execution_count": 30,
   "metadata": {
    "colab": {
     "base_uri": "https://localhost:8080/"
    },
    "executionInfo": {
     "elapsed": 19,
     "status": "ok",
     "timestamp": 1737313060536,
     "user": {
      "displayName": "Samridhi Ahuja",
      "userId": "10583994853886546720"
     },
     "user_tz": -330
    },
    "id": "EvoJH0m83IKc",
    "outputId": "3dc56cca-5353-47cb-ad51-18530a40fa51"
   },
   "outputs": [
    {
     "name": "stdout",
     "output_type": "stream",
     "text": [
      "Original number of features: 16\n",
      "Reduced number of features: 13\n",
      "\n",
      "Logistic Regression\n",
      "              precision    recall  f1-score   support\n",
      "\n",
      "           0       0.94      0.95      0.95        83\n",
      "           1       0.87      0.84      0.86        32\n",
      "\n",
      "    accuracy                           0.92       115\n",
      "   macro avg       0.91      0.90      0.90       115\n",
      "weighted avg       0.92      0.92      0.92       115\n",
      "\n",
      "AUC-ROC: 0.9541\n",
      "\n",
      "Decision Tree\n",
      "              precision    recall  f1-score   support\n",
      "\n",
      "           0       0.91      0.98      0.94        83\n",
      "           1       0.92      0.75      0.83        32\n",
      "\n",
      "    accuracy                           0.91       115\n",
      "   macro avg       0.92      0.86      0.88       115\n",
      "weighted avg       0.91      0.91      0.91       115\n",
      "\n",
      "AUC-ROC: 0.8630\n",
      "\n",
      "Random Forest\n",
      "              precision    recall  f1-score   support\n",
      "\n",
      "           0       0.94      0.99      0.96        83\n",
      "           1       0.96      0.84      0.90        32\n",
      "\n",
      "    accuracy                           0.95       115\n",
      "   macro avg       0.95      0.92      0.93       115\n",
      "weighted avg       0.95      0.95      0.95       115\n",
      "\n",
      "AUC-ROC: 0.9776\n",
      "\n",
      "Support Vector Machine\n",
      "              precision    recall  f1-score   support\n",
      "\n",
      "           0       0.93      0.96      0.95        83\n",
      "           1       0.90      0.81      0.85        32\n",
      "\n",
      "    accuracy                           0.92       115\n",
      "   macro avg       0.91      0.89      0.90       115\n",
      "weighted avg       0.92      0.92      0.92       115\n",
      "\n",
      "AUC-ROC: 0.9511\n"
     ]
    }
   ],
   "source": [
    "\n",
    "\n",
    "pca = PCA(n_components=0.95)  # Retain 95% of variance\n",
    "X_train_pca = pca.fit_transform(X_train)\n",
    "X_test_pca= pca.transform(X_test)\n",
    "\n",
    "print(f\"Original number of features: {X_train.shape[1]}\")\n",
    "print(f\"Reduced number of features: {X_train_pca.shape[1]}\")\n",
    "\n",
    "# Step 3: Train and evaluate classifiers on PCA-transformed data\n",
    "classifiers = {\n",
    "    'Logistic Regression': LogisticRegression(max_iter=500, solver='newton-cg', random_state=42),\n",
    "    'Decision Tree': DecisionTreeClassifier(random_state=42),\n",
    "    'Random Forest': RandomForestClassifier(random_state=42),\n",
    "    'Support Vector Machine': SVC(kernel='linear', probability=True, random_state=42),\n",
    "}\n",
    "\n",
    "results = {}\n",
    "for name, clf in classifiers.items():\n",
    "    print(f\"\\n{name}\")\n",
    "    # Train the classifier\n",
    "    clf.fit(X_train_pca, y_train)\n",
    "\n",
    "    # Make predictions\n",
    "    y_pred = clf.predict(X_test_pca)\n",
    "    y_prob = clf.predict_proba(X_test_pca)[:, 1] if hasattr(clf, \"predict_proba\") else None\n",
    "\n",
    "    # Evaluation metrics\n",
    "    print(classification_report(y_test, y_pred))\n",
    "    if y_prob is not None:\n",
    "        print(f\"AUC-ROC: {roc_auc_score(y_test, y_prob):.4f}\")\n",
    "\n",
    "    # Store results\n",
    "    results[name] = {\n",
    "        'classification_report': classification_report(y_test, y_pred, output_dict=True),\n",
    "        'roc_auc': roc_auc_score(y_test, y_prob) if y_prob is not None else None\n",
    "    }"
   ]
  },
  {
   "cell_type": "code",
   "execution_count": 31,
   "metadata": {
    "colab": {
     "base_uri": "https://localhost:8080/",
     "height": 489
    },
    "executionInfo": {
     "elapsed": 15,
     "status": "ok",
     "timestamp": 1737313060536,
     "user": {
      "displayName": "Samridhi Ahuja",
      "userId": "10583994853886546720"
     },
     "user_tz": -330
    },
    "id": "eA2OcO463gyA",
    "outputId": "d075221e-04cf-4ed4-a99a-55c797186b23"
   },
   "outputs": [
    {
     "data": {
      "text/plain": [
       "<matplotlib.legend.Legend at 0x177a241dd00>"
      ]
     },
     "execution_count": 31,
     "metadata": {},
     "output_type": "execute_result"
    },
    {
     "data": {
      "image/png": "[encoded data removed]",
      "text/plain": [
       "<Figure size 640x480 with 1 Axes>"
      ]
     },
     "metadata": {},
     "output_type": "display_data"
    }
   ],
   "source": [
    "from sklearn.metrics import roc_curve, auc\n",
    "# Actual outcomes and predicted probabilities # Calculate ROC curve\n",
    "fpr, tpr, thresholds = roc_curve (y_test, y_pred)\n",
    "# Calculate AUC\n",
    "roc_auc=auc (fpr, tpr)\n",
    "\n",
    "# Plot ROC curve\n",
    "plt.figure()\n",
    "plt.plot(fpr, tpr, color= 'darkorange', lw=2, label=f'ROC curve (AUC area = {roc_auc}')\n",
    "plt.plot([0, 1], [0, 1], color='navy', lw=2, linestyle= '--')\n",
    "plt.xlim([0.0, 1.0])\n",
    "plt.ylim([0.0, 1.0])\n",
    "plt.xlabel('False Positive Rate')\n",
    "plt.ylabel('True Positive Rate')\n",
    "plt.title('Receiver Operating Characteristic Curve')\n",
    "plt.legend (loc= \"lower right\")"
   ]
  }
 ],
 "metadata": {
  "colab": {
   "authorship_tag": "ABX9TyOoVzkD6F3+Q0m0nJa2VEOZ",
   "collapsed_sections": [
    "KulHMEvHI-rH",
    "bgEmkQ6MJKH0",
    "wik25oaHJTt6",
    "Hl4NK-JAJj47",
    "OPukBSNqLAcx",
    "v0agtLE7MTfI",
    "QhR3DVPfMmZc",
    "lBXliS15M1aP",
    "tvQr8GDYNB7I"
   ],
   "mount_file_id": "1IYHP1Xy5L9QgS4gWLDX7nSKLu_Sb8Ypf",
   "provenance": [
    {
     "file_id": "1UPvwD_CBsUoh1bMroPu1cz-6jZj0Gpfs",
     "timestamp": 1737312244484
    },
    {
     "file_id": "1IYHP1Xy5L9QgS4gWLDX7nSKLu_Sb8Ypf",
     "timestamp": 1737310591157
    }
   ]
  },
  "kernelspec": {
   "display_name": "Python 3 (ipykernel)",
   "language": "python",
   "name": "python3"
  },
  "language_info": {
   "codemirror_mode": {
    "name": "ipython",
    "version": 3
   },
   "file_extension": ".py",
   "mimetype": "text/x-python",
   "name": "python",
   "nbconvert_exporter": "python",
   "pygments_lexer": "ipython3",
   "version": "3.12.7"
  }
 },
 "nbformat": 4,
 "nbformat_minor": 4
}
