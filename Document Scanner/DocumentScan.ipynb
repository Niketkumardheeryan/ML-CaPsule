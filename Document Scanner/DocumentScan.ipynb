{
 "cells": [
  {
   "cell_type": "markdown",
   "id": "85739915",
   "metadata": {},
   "source": [
    " ### Loading and importing all the libraries"
   ]
  },
  {
   "cell_type": "code",
   "execution_count": 1,
   "id": "2f971500-2d6a-4b9b-8594-48e009cb0510",
   "metadata": {},
   "outputs": [],
   "source": [
    "import cv2\n",
    "import numpy as np\n",
    "import matplotlib.pyplot as plt"
   ]
  },
  {
   "cell_type": "code",
   "execution_count": 2,
   "id": "469a6385-7a0b-410c-9787-3fe59d32d768",
   "metadata": {},
   "outputs": [],
   "source": [
    "# Function to draw a rectangle using four corners provided in `biggestNew` on `mainFrame`\n",
    "def drawRec(biggestNew, mainFrame):\n",
    "    \"\"\"\n",
    "    Draws a rectangle using four corners provided in `biggestNew` on `mainFrame`.\n",
    "\n",
    "    Parameters:\n",
    "    - biggestNew: numpy array of shape (4,1,2) containing the coordinates of the corners.\n",
    "    - mainFrame: the image on which to draw the rectangle.\n",
    "    \"\"\"\n",
    "    # Draw lines between each pair of corners to form a rectangle\n",
    "    cv2.line(mainFrame, tuple(biggestNew[0][0]), tuple(biggestNew[1][0]), (0, 255, 0), 20)\n",
    "    cv2.line(mainFrame, tuple(biggestNew[0][0]), tuple(biggestNew[2][0]), (0, 255, 0), 20)\n",
    "    cv2.line(mainFrame, tuple(biggestNew[3][0]), tuple(biggestNew[2][0]), (0, 255, 0), 20)\n",
    "    cv2.line(mainFrame, tuple(biggestNew[3][0]), tuple(biggestNew[1][0]), (0, 255, 0), 20)"
   ]
  },
  {
   "cell_type": "markdown",
   "id": "ce8529ba-5724-4e85-8215-f42aee7fc677",
   "metadata": {},
   "source": [
    "### Load and resize the image"
   ]
  },
  {
   "cell_type": "code",
   "execution_count": null,
   "id": "26427c88-5ff4-4a54-a41f-3acd8a82b6e7",
   "metadata": {},
   "outputs": [],
   "source": [
    "img = cv2.imread(\"insert your image here\") # Replace \"your_image_path\" with the path to your image\n",
    "img = cv2.resize(img, (int(480*2), int(640*2)))  # Resize for processing\n",
    "w, h = 480, 640  # Target width and height for perspective transformation\n",
    "imgWarp = img.copy()  # Create a copy of the original image for warping"
   ]
  },
  {
   "cell_type": "markdown",
   "id": "86abad24",
   "metadata": {},
   "source": [
    "### Preprocessing: Convert to grayscale, apply Gaussian blur, and detect edges using Canny"
   ]
  },
  {
   "cell_type": "code",
   "execution_count": null,
   "id": "d6e2513a-b970-4472-84db-6d12e45f2737",
   "metadata": {},
   "outputs": [],
   "source": [
    "GrayImg = cv2.cvtColor(img, cv2.COLOR_BGR2GRAY)\n",
    "BlurredFrame = cv2.GaussianBlur(GrayImg, (5, 5), 1)\n",
    "CannyFrame = cv2.Canny(BlurredFrame, 190, 190)"
   ]
  },
  {
   "cell_type": "markdown",
   "id": "a6d0d316",
   "metadata": {},
   "source": [
    "\n",
    "### Find contours in the edge-detected image"
   ]
  },
  {
   "cell_type": "code",
   "execution_count": null,
   "id": "3be46572",
   "metadata": {},
   "outputs": [],
   "source": [
    "contours, _ = cv2.findContours(CannyFrame, cv2.RETR_EXTERNAL, cv2.CHAIN_APPROX_SIMPLE)"
   ]
  },
  {
   "cell_type": "markdown",
   "id": "072c642b",
   "metadata": {},
   "source": [
    "### Draw contours on a copy of the original image"
   ]
  },
  {
   "cell_type": "code",
   "execution_count": null,
   "id": "19de95ba",
   "metadata": {},
   "outputs": [],
   "source": [
    "ContourFrame = img.copy()\n",
    "ContourFrame = cv2.drawContours(ContourFrame, contours, -1, (255, 0, 255), 4)"
   ]
  },
  {
   "cell_type": "markdown",
   "id": "cc07e4b8",
   "metadata": {},
   "source": [
    "\n",
    "### Initialize variables for finding the largest quadrilateral (document corners)"
   ]
  },
  {
   "cell_type": "code",
   "execution_count": null,
   "id": "f139b087",
   "metadata": {},
   "outputs": [],
   "source": [
    "maxArea = 0\n",
    "biggest = []"
   ]
  },
  {
   "cell_type": "markdown",
   "id": "1f5c876d",
   "metadata": {},
   "source": [
    "### Iterate through each contour to find the largest quadrilateral"
   ]
  },
  {
   "cell_type": "code",
   "execution_count": null,
   "id": "11b1bfc2",
   "metadata": {},
   "outputs": [],
   "source": [
    "for i in contours:\n",
    "    area = cv2.contourArea(i)\n",
    "    if area > 500:  # Only consider contours with area greater than 500\n",
    "        peri = cv2.arcLength(i, True)  # Calculate the perimeter of the contour\n",
    "        edges = cv2.approxPolyDP(i, 0.02*peri, True)  # Approximate the contour with fewer vertices\n",
    "        if area > maxArea and len(edges) == 4:  # Select the largest quadrilateral\n",
    "            biggest = edges\n",
    "            maxArea = area\n",
    "\n",
    "# If a quadrilateral is found, proceed with perspective transformation\n",
    "if len(biggest) != 0:\n",
    "    biggest = biggest.reshape((4, 2))  # Reshape to a 4x2 array of corner coordinates\n",
    "    biggestNew = np.zeros((4, 1, 2), dtype=np.int32)\n",
    "\n",
    "    # Order the corners clockwise starting from the top-left corner\n",
    "    add = biggest.sum(1)\n",
    "    biggestNew[0] = biggest[np.argmin(add)]\n",
    "    biggestNew[3] = biggest[np.argmax(add)]\n",
    "    dif = np.diff(biggest, axis=1)\n",
    "    biggestNew[1] = biggest[np.argmin(dif)]\n",
    "    biggestNew[2] = biggest[np.argmax(dif)]\n",
    "\n",
    "    # Draw the quadrilateral and apply perspective transformation\n",
    "    drawRec(biggestNew, img)  # Draw the rectangle on the original image\n",
    "    CornerFrame = cv2.drawContours(img.copy(), [biggestNew], -1, (255, 0, 255), 25)  # Draw corners on a separate frame\n",
    "\n",
    "    # Perspective transformation to warp the document to a rectangular shape\n",
    "    pts1 = np.float32(biggestNew)\n",
    "    pts2 = np.float32([[0, 0], [w, 0], [0, h], [w, h]])\n",
    "    matrix = cv2.getPerspectiveTransform(pts1, pts2)\n",
    "    imgWarp = cv2.warpPerspective(img, matrix, (w, h))\n",
    "\n",
    "# Resize images for display using matplotlib\n",
    "img = cv2.resize(img, (480, 640))\n",
    "GrayImg = cv2.resize(GrayImg, (480, 640))\n",
    "BlurredFrame = cv2.resize(BlurredFrame, (480, 640))\n",
    "CannyFrame = cv2.resize(CannyFrame, (480, 640))\n",
    "ContourFrame = cv2.resize(ContourFrame, (480, 640))\n",
    "CornerFrame = cv2.resize(CornerFrame, (480, 640))"
   ]
  },
  {
   "cell_type": "markdown",
   "id": "dd9e56b3-e283-4dac-b7db-3a9b90bd91a4",
   "metadata": {},
   "source": [
    "### Display images using matplotlib for persistent viewing"
   ]
  },
  {
   "cell_type": "code",
   "execution_count": null,
   "id": "2e4e78ab-2ea9-479e-b021-7db0febdb818",
   "metadata": {},
   "outputs": [],
   "source": [
    "def display_image(title, image):\n",
    "    \"\"\"Display an image using matplotlib.\"\"\"\n",
    "    image_rgb = cv2.cvtColor(image, cv2.COLOR_BGR2RGB)\n",
    "    plt.figure()\n",
    "    plt.title(title)\n",
    "    plt.imshow(image_rgb)\n",
    "    plt.axis('off')"
   ]
  },
  {
   "cell_type": "markdown",
   "id": "2f255141",
   "metadata": {},
   "source": [
    "### Display each image with appropriate titles\n"
   ]
  },
  {
   "cell_type": "code",
   "execution_count": null,
   "id": "6efe5def",
   "metadata": {},
   "outputs": [],
   "source": [
    "display_image(\"Original Image\", img)\n",
    "display_image(\"Grayscale Image\", GrayImg)\n",
    "display_image(\"Blurred Image\", BlurredFrame)\n",
    "display_image(\"Canny Edge Detection\", CannyFrame)\n",
    "display_image(\"Contours Detected\", ContourFrame)\n",
    "display_image(\"Document Corners Detected\", CornerFrame)\n",
    "display_image(\"Warped Perspective\", imgWarp)\n",
    "\n",
    "plt.show()  # Show all plotted images"
   ]
  }
 ],
 "metadata": {
  "kernelspec": {
   "display_name": "Python 3 (ipykernel)",
   "language": "python",
   "name": "python3"
  },
  "language_info": {
   "codemirror_mode": {
    "name": "ipython",
    "version": 3
   },
   "file_extension": ".py",
   "mimetype": "text/x-python",
   "name": "python",
   "nbconvert_exporter": "python",
   "pygments_lexer": "ipython3",
   "version": "3.11.4"
  }
 },
 "nbformat": 4,
 "nbformat_minor": 5
}
