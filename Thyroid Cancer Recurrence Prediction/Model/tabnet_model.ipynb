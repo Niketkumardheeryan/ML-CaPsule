{
 "cells": [
  {
   "cell_type": "code",
   "execution_count": 21,
   "metadata": {},
   "outputs": [
    {
     "name": "stdout",
     "output_type": "stream",
     "text": [
      "Looking in indexes: https://pypi.org/simple, https://pypi.ngc.nvidia.com\n",
      "Requirement already satisfied: pytorch-tabnet in c:\\users\\arpit\\desktop\\dl\\env\\lib\\site-packages (4.1.0)\n",
      "Requirement already satisfied: scikit-learn in c:\\users\\arpit\\desktop\\dl\\env\\lib\\site-packages (1.4.0)\n",
      "Requirement already satisfied: pandas in c:\\users\\arpit\\desktop\\dl\\env\\lib\\site-packages (2.2.2)\n",
      "Requirement already satisfied: numpy>=1.17 in c:\\users\\arpit\\desktop\\dl\\env\\lib\\site-packages (from pytorch-tabnet) (1.26.4)\n",
      "Requirement already satisfied: scipy>1.4 in c:\\users\\arpit\\desktop\\dl\\env\\lib\\site-packages (from pytorch-tabnet) (1.12.0)\n",
      "Requirement already satisfied: torch>=1.3 in c:\\users\\arpit\\desktop\\dl\\env\\lib\\site-packages (from pytorch-tabnet) (2.1.2)\n",
      "Requirement already satisfied: tqdm>=4.36 in c:\\users\\arpit\\desktop\\dl\\env\\lib\\site-packages (from pytorch-tabnet) (4.65.2)\n",
      "Requirement already satisfied: joblib>=1.2.0 in c:\\users\\arpit\\desktop\\dl\\env\\lib\\site-packages (from scikit-learn) (1.4.2)\n",
      "Requirement already satisfied: threadpoolctl>=2.0.0 in c:\\users\\arpit\\desktop\\dl\\env\\lib\\site-packages (from scikit-learn) (3.5.0)\n",
      "Requirement already satisfied: python-dateutil>=2.8.2 in c:\\users\\arpit\\desktop\\dl\\env\\lib\\site-packages (from pandas) (2.9.0.post0)\n",
      "Requirement already satisfied: pytz>=2020.1 in c:\\users\\arpit\\desktop\\dl\\env\\lib\\site-packages (from pandas) (2023.4)\n",
      "Requirement already satisfied: tzdata>=2022.7 in c:\\users\\arpit\\desktop\\dl\\env\\lib\\site-packages (from pandas) (2024.1)\n",
      "Requirement already satisfied: six>=1.5 in c:\\users\\arpit\\desktop\\dl\\env\\lib\\site-packages (from python-dateutil>=2.8.2->pandas) (1.16.0)\n",
      "Requirement already satisfied: filelock in c:\\users\\arpit\\desktop\\dl\\env\\lib\\site-packages (from torch>=1.3->pytorch-tabnet) (3.14.0)\n",
      "Requirement already satisfied: typing-extensions in c:\\users\\arpit\\desktop\\dl\\env\\lib\\site-packages (from torch>=1.3->pytorch-tabnet) (4.12.0)\n",
      "Requirement already satisfied: sympy in c:\\users\\arpit\\desktop\\dl\\env\\lib\\site-packages (from torch>=1.3->pytorch-tabnet) (1.12.1)\n",
      "Requirement already satisfied: networkx in c:\\users\\arpit\\desktop\\dl\\env\\lib\\site-packages (from torch>=1.3->pytorch-tabnet) (3.3)\n",
      "Requirement already satisfied: jinja2 in c:\\users\\arpit\\desktop\\dl\\env\\lib\\site-packages (from torch>=1.3->pytorch-tabnet) (3.1.4)\n",
      "Requirement already satisfied: fsspec in c:\\users\\arpit\\desktop\\dl\\env\\lib\\site-packages (from torch>=1.3->pytorch-tabnet) (2024.3.1)\n",
      "Requirement already satisfied: colorama in c:\\users\\arpit\\desktop\\dl\\env\\lib\\site-packages (from tqdm>=4.36->pytorch-tabnet) (0.4.6)\n",
      "Requirement already satisfied: MarkupSafe>=2.0 in c:\\users\\arpit\\desktop\\dl\\env\\lib\\site-packages (from jinja2->torch>=1.3->pytorch-tabnet) (2.1.5)\n",
      "Requirement already satisfied: mpmath<1.4.0,>=1.1.0 in c:\\users\\arpit\\desktop\\dl\\env\\lib\\site-packages (from sympy->torch>=1.3->pytorch-tabnet) (1.3.0)\n",
      "Note: you may need to restart the kernel to use updated packages.\n"
     ]
    }
   ],
   "source": [
    "%pip install pytorch-tabnet scikit-learn pandas"
   ]
  },
  {
   "cell_type": "code",
   "execution_count": 22,
   "metadata": {},
   "outputs": [],
   "source": [
    "import numpy as np\n",
    "import pandas as pd\n",
    "from sklearn.model_selection import train_test_split\n",
    "from sklearn.preprocessing import StandardScaler, LabelEncoder, OneHotEncoder\n",
    "from sklearn.compose import ColumnTransformer"
   ]
  },
  {
   "cell_type": "code",
   "execution_count": 23,
   "metadata": {},
   "outputs": [],
   "source": [
    "data = pd.read_csv('../Dataset/Thyroid_Diff.csv')\n",
    "\n",
    "X = data.drop('Recurred', axis=1)\n",
    "y = data['Recurred']\n",
    "\n",
    "if y.dtype == 'object':\n",
    "    le = LabelEncoder()\n",
    "    y = le.fit_transform(y)\n",
    "\n",
    "categorical_cols = X.select_dtypes(include=['object']).columns\n",
    "numerical_cols = X.select_dtypes(include=[np.number]).columns\n",
    "\n",
    "numerical_transformer = StandardScaler()\n",
    "categorical_transformer = OneHotEncoder(handle_unknown='ignore')\n",
    "\n",
    "preprocessor = ColumnTransformer(\n",
    "    transformers=[\n",
    "        ('num', numerical_transformer, numerical_cols),\n",
    "        ('cat', categorical_transformer, categorical_cols)\n",
    "    ])\n",
    "\n",
    "X = preprocessor.fit_transform(X)\n",
    "\n",
    "X_train, X_test, y_train, y_test = train_test_split(X, y, test_size=0.2, random_state=42)"
   ]
  },
  {
   "cell_type": "code",
   "execution_count": 24,
   "metadata": {},
   "outputs": [
    {
     "name": "stdout",
     "output_type": "stream",
     "text": [
      "epoch 0  | loss: 0.86117 | train_accuracy: 0.64052 | valid_accuracy: 0.66234 |  0:00:00s\n"
     ]
    },
    {
     "name": "stderr",
     "output_type": "stream",
     "text": [
      "c:\\Users\\arpit\\Desktop\\dl\\env\\Lib\\site-packages\\pytorch_tabnet\\abstract_model.py:82: UserWarning: Device used : cpu\n",
      "  warnings.warn(f\"Device used : {self.device}\")\n"
     ]
    },
    {
     "name": "stdout",
     "output_type": "stream",
     "text": [
      "epoch 1  | loss: 0.80141 | train_accuracy: 0.70588 | valid_accuracy: 0.75325 |  0:00:00s\n",
      "epoch 2  | loss: 0.66793 | train_accuracy: 0.71569 | valid_accuracy: 0.75325 |  0:00:00s\n",
      "epoch 3  | loss: 0.63027 | train_accuracy: 0.71242 | valid_accuracy: 0.75325 |  0:00:00s\n",
      "epoch 4  | loss: 0.62346 | train_accuracy: 0.70915 | valid_accuracy: 0.75325 |  0:00:00s\n",
      "epoch 5  | loss: 0.5593  | train_accuracy: 0.70915 | valid_accuracy: 0.75325 |  0:00:00s\n",
      "epoch 6  | loss: 0.51439 | train_accuracy: 0.70915 | valid_accuracy: 0.75325 |  0:00:00s\n",
      "epoch 7  | loss: 0.47156 | train_accuracy: 0.70915 | valid_accuracy: 0.75325 |  0:00:00s\n",
      "epoch 8  | loss: 0.43915 | train_accuracy: 0.70915 | valid_accuracy: 0.75325 |  0:00:00s\n",
      "epoch 9  | loss: 0.44085 | train_accuracy: 0.70915 | valid_accuracy: 0.75325 |  0:00:00s\n",
      "epoch 10 | loss: 0.40845 | train_accuracy: 0.70915 | valid_accuracy: 0.75325 |  0:00:00s\n",
      "epoch 11 | loss: 0.3848  | train_accuracy: 0.70915 | valid_accuracy: 0.75325 |  0:00:00s\n",
      "epoch 12 | loss: 0.35027 | train_accuracy: 0.70915 | valid_accuracy: 0.75325 |  0:00:01s\n",
      "epoch 13 | loss: 0.36591 | train_accuracy: 0.70915 | valid_accuracy: 0.75325 |  0:00:01s\n",
      "epoch 14 | loss: 0.34834 | train_accuracy: 0.73529 | valid_accuracy: 0.77922 |  0:00:01s\n",
      "epoch 15 | loss: 0.30932 | train_accuracy: 0.82026 | valid_accuracy: 0.79221 |  0:00:01s\n",
      "epoch 16 | loss: 0.24431 | train_accuracy: 0.85294 | valid_accuracy: 0.81818 |  0:00:01s\n",
      "epoch 17 | loss: 0.26792 | train_accuracy: 0.88889 | valid_accuracy: 0.8961  |  0:00:01s\n",
      "epoch 18 | loss: 0.21454 | train_accuracy: 0.9085  | valid_accuracy: 0.92208 |  0:00:01s\n",
      "epoch 19 | loss: 0.1926  | train_accuracy: 0.93464 | valid_accuracy: 0.94805 |  0:00:01s\n",
      "epoch 20 | loss: 0.20314 | train_accuracy: 0.93791 | valid_accuracy: 0.96104 |  0:00:01s\n",
      "epoch 21 | loss: 0.20019 | train_accuracy: 0.93791 | valid_accuracy: 0.96104 |  0:00:01s\n",
      "epoch 22 | loss: 0.1726  | train_accuracy: 0.94118 | valid_accuracy: 0.96104 |  0:00:01s\n",
      "epoch 23 | loss: 0.15827 | train_accuracy: 0.93791 | valid_accuracy: 0.96104 |  0:00:01s\n",
      "epoch 24 | loss: 0.14607 | train_accuracy: 0.93791 | valid_accuracy: 0.96104 |  0:00:02s\n",
      "epoch 25 | loss: 0.14856 | train_accuracy: 0.94118 | valid_accuracy: 0.96104 |  0:00:02s\n",
      "epoch 26 | loss: 0.15714 | train_accuracy: 0.94118 | valid_accuracy: 0.96104 |  0:00:02s\n",
      "epoch 27 | loss: 0.13137 | train_accuracy: 0.94118 | valid_accuracy: 0.96104 |  0:00:02s\n",
      "epoch 28 | loss: 0.12659 | train_accuracy: 0.94118 | valid_accuracy: 0.96104 |  0:00:02s\n",
      "epoch 29 | loss: 0.1171  | train_accuracy: 0.94118 | valid_accuracy: 0.96104 |  0:00:02s\n",
      "epoch 30 | loss: 0.11278 | train_accuracy: 0.94118 | valid_accuracy: 0.96104 |  0:00:02s\n",
      "epoch 31 | loss: 0.1081  | train_accuracy: 0.94118 | valid_accuracy: 0.96104 |  0:00:02s\n",
      "epoch 32 | loss: 0.119   | train_accuracy: 0.94118 | valid_accuracy: 0.96104 |  0:00:02s\n",
      "epoch 33 | loss: 0.13135 | train_accuracy: 0.94118 | valid_accuracy: 0.96104 |  0:00:02s\n",
      "epoch 34 | loss: 0.12747 | train_accuracy: 0.94118 | valid_accuracy: 0.96104 |  0:00:02s\n",
      "epoch 35 | loss: 0.10087 | train_accuracy: 0.94118 | valid_accuracy: 0.96104 |  0:00:02s\n",
      "epoch 36 | loss: 0.11973 | train_accuracy: 0.94118 | valid_accuracy: 0.96104 |  0:00:03s\n",
      "epoch 37 | loss: 0.14375 | train_accuracy: 0.94118 | valid_accuracy: 0.96104 |  0:00:03s\n",
      "epoch 38 | loss: 0.13086 | train_accuracy: 0.94118 | valid_accuracy: 0.96104 |  0:00:03s\n",
      "epoch 39 | loss: 0.12776 | train_accuracy: 0.94118 | valid_accuracy: 0.96104 |  0:00:03s\n",
      "epoch 40 | loss: 0.13075 | train_accuracy: 0.94118 | valid_accuracy: 0.96104 |  0:00:03s\n",
      "\n",
      "Early stopping occurred at epoch 40 with best_epoch = 20 and best_valid_accuracy = 0.96104\n",
      "Successfully saved model at ./TabNetModel/tabnet_model.pth.zip\n"
     ]
    },
    {
     "name": "stderr",
     "output_type": "stream",
     "text": [
      "c:\\Users\\arpit\\Desktop\\dl\\env\\Lib\\site-packages\\pytorch_tabnet\\callbacks.py:172: UserWarning: Best weights from best epoch are automatically used!\n",
      "  warnings.warn(wrn_msg)\n"
     ]
    },
    {
     "data": {
      "text/plain": [
       "'./TabNetModel/tabnet_model.pth.zip'"
      ]
     },
     "execution_count": 24,
     "metadata": {},
     "output_type": "execute_result"
    }
   ],
   "source": [
    "from pytorch_tabnet.tab_model import TabNetClassifier\n",
    "import torch\n",
    "\n",
    "tabnet_clf = TabNetClassifier(optimizer_fn=torch.optim.Adam,\n",
    "                              optimizer_params=dict(lr=2e-2),\n",
    "                              scheduler_params={\"step_size\":10, \"gamma\":0.9},\n",
    "                              scheduler_fn=torch.optim.lr_scheduler.StepLR, \n",
    "                              mask_type='sparsemax')  # \"sparsemax\" or \"entmax\" are the options\n",
    "\n",
    "tabnet_clf.fit(\n",
    "    X_train=X_train, y_train=y_train,\n",
    "    eval_set=[(X_train, y_train), (X_test, y_test)],\n",
    "    eval_name=['train', 'valid'],\n",
    "    eval_metric=['accuracy'],\n",
    "    max_epochs=100, patience=20,\n",
    "    batch_size=1024, virtual_batch_size=128,\n",
    "    num_workers=0,\n",
    "    drop_last=False\n",
    ")\n",
    "\n",
    "saving_path_name = \"./TabNetModel/tabnet_model.pth\"\n",
    "tabnet_clf.save_model(saving_path_name)"
   ]
  },
  {
   "cell_type": "code",
   "execution_count": 25,
   "metadata": {},
   "outputs": [
    {
     "name": "stdout",
     "output_type": "stream",
     "text": [
      "Accuracy: 96.10%\n"
     ]
    }
   ],
   "source": [
    "preds = tabnet_clf.predict(X_test)\n",
    "\n",
    "accuracy = (preds == y_test).mean()\n",
    "print(f'Accuracy: {accuracy*100:.2f}%')"
   ]
  },
  {
   "cell_type": "markdown",
   "metadata": {},
   "source": [
    "TabNet Accuracy: 0.9610"
   ]
  }
 ],
 "metadata": {
  "kernelspec": {
   "display_name": "env",
   "language": "python",
   "name": "python3"
  },
  "language_info": {
   "codemirror_mode": {
    "name": "ipython",
    "version": 3
   },
   "file_extension": ".py",
   "mimetype": "text/x-python",
   "name": "python",
   "nbconvert_exporter": "python",
   "pygments_lexer": "ipython3",
   "version": "3.11.9"
  }
 },
 "nbformat": 4,
 "nbformat_minor": 2
}
