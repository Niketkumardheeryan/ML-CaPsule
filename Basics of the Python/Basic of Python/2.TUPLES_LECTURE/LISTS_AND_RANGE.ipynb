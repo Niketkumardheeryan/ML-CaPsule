{
 "cells": [
  {
   "cell_type": "markdown",
   "metadata": {},
   "source": [
    "<h1 style=\"text-align:center;color:blue;\">LIST and RANGE</h1>"
   ]
  },
  {
   "cell_type": "markdown",
   "metadata": {},
   "source": [
    "<h2>LIST</h2>\n",
    "<ul>\n",
    "<li>A List contains a collection of values in square brackets '[]'</li>\n",
    "<li>Each value can be a float, int, string or variable</li>\n",
    "<li>Each value in a list is called an element</li>\n",
    "<li>List can contain,\n",
    "<ul>\n",
    "<li>Nested Lists</li>\n",
    "<li>Tuples</li>\n",
    "<li>Sets</li>\n",
    "<li>Dictionaries</li>\n",
    "<li>Series</li>\n",
    "<li>Dataframes</li>\n",
    "</ul>\n",
    "</li>\n",
    "<li>Elements in a list are <em>mutable</em> ,meaning, where the elements can be changed.</li>\n",
    "</ul>"
   ]
  },
  {
   "cell_type": "code",
   "execution_count": 1,
   "metadata": {},
   "outputs": [
    {
     "name": "stdout",
     "output_type": "stream",
     "text": [
      "['hello', 20, 30]\n"
     ]
    }
   ],
   "source": [
    "num= [10,20,30]\n",
    "num[0]=\"hello\"\n",
    "print(num)"
   ]
  },
  {
   "cell_type": "markdown",
   "metadata": {},
   "source": [
    "<h2>RANGE</h2>\n",
    "<ul>\n",
    "<li>range generates a specified list of numbers</li>\n",
    "<li>It is used with loops</li>\n",
    "</ul>"
   ]
  },
  {
   "cell_type": "code",
   "execution_count": 5,
   "metadata": {},
   "outputs": [
    {
     "data": {
      "text/plain": [
       "[1, 3, 5, 7, 9]"
      ]
     },
     "execution_count": 5,
     "metadata": {},
     "output_type": "execute_result"
    }
   ],
   "source": [
    "list(range(1,10,2))"
   ]
  },
  {
   "cell_type": "code",
   "execution_count": 7,
   "metadata": {},
   "outputs": [
    {
     "name": "stdout",
     "output_type": "stream",
     "text": [
      "[10, 20, 30, 40, 50, 60, 70, 80, 90, 100, 110, 120, 130, 140]\n",
      "<class 'list'>\n",
      "<class 'list'>\n"
     ]
    }
   ],
   "source": [
    "numbers = list(range(10, 150, 10))\n",
    "print(numbers)\n",
    "print(type(numbers))\n",
    "print(type([]))\n"
   ]
  },
  {
   "cell_type": "code",
   "execution_count": 10,
   "metadata": {},
   "outputs": [
    {
     "name": "stdout",
     "output_type": "stream",
     "text": [
      "[[1, 2, 3], [4, 5, 6], [7, 8, 9]]\n",
      "[[0, 1, 2, 3, 4, 5, 6, 7, 8, 9, 10], [10, 11, 12, 13, 14, 15, 16, 17, 18, 19, 20], [20, 21, 22, 23, 24, 25, 26, 27, 28, 29, 30]]\n"
     ]
    }
   ],
   "source": [
    "nested_list = [ \n",
    "                [1,2,3], \n",
    "                [4,5,6], \n",
    "                [7,8,9]\n",
    "            ]\n",
    "nested_range = [\n",
    "                list(range(11)), \n",
    "                list(range(10, 21)),\n",
    "                list(range(20, 31))\n",
    "            ]\n",
    "\n",
    "print(nested_list)\n",
    "print(nested_range)"
   ]
  },
  {
   "cell_type": "code",
   "execution_count": 11,
   "metadata": {},
   "outputs": [
    {
     "name": "stdout",
     "output_type": "stream",
     "text": [
      "[1, 2, 3, 4, 55]\n"
     ]
    }
   ],
   "source": [
    "basket1 = [1,2,3,4]\n",
    "basket1.append(55)\n",
    "print(basket1)"
   ]
  },
  {
   "cell_type": "code",
   "execution_count": 12,
   "metadata": {},
   "outputs": [
    {
     "name": "stdout",
     "output_type": "stream",
     "text": [
      "[1, 2, 3, 4]\n"
     ]
    }
   ],
   "source": [
    "basket1.pop()\n",
    "print(basket1)"
   ]
  },
  {
   "cell_type": "code",
   "execution_count": 13,
   "metadata": {},
   "outputs": [
    {
     "name": "stdout",
     "output_type": "stream",
     "text": [
      "[1, 2, 100, 3, 4]\n"
     ]
    }
   ],
   "source": [
    "basket1.insert(2, 100)\n",
    "print(basket1)\n"
   ]
  },
  {
   "cell_type": "code",
   "execution_count": 14,
   "metadata": {},
   "outputs": [
    {
     "name": "stdout",
     "output_type": "stream",
     "text": [
      "[1, 2, 3, 4, 100]\n"
     ]
    }
   ],
   "source": [
    "basket1.sort()\n",
    "print(basket1)"
   ]
  },
  {
   "cell_type": "code",
   "execution_count": 16,
   "metadata": {},
   "outputs": [
    {
     "name": "stdout",
     "output_type": "stream",
     "text": [
      "100\n"
     ]
    }
   ],
   "source": [
    "basket2 =[10, 20, 30, basket1]\n",
    "print(basket2[3][4])\n"
   ]
  },
  {
   "cell_type": "code",
   "execution_count": 18,
   "metadata": {},
   "outputs": [
    {
     "name": "stdout",
     "output_type": "stream",
     "text": [
      "34\n"
     ]
    }
   ],
   "source": [
    "basket3 = [\"apples\", \"pears\", \"berries\", \"bananas\"]\n",
    "basket4 = [basket2, basket3]\n",
    "print(basket4[0][2] + basket4[0][3][-2])"
   ]
  },
  {
   "cell_type": "code",
   "execution_count": 19,
   "metadata": {},
   "outputs": [
    {
     "data": {
      "text/plain": [
       "2"
      ]
     },
     "execution_count": 19,
     "metadata": {},
     "output_type": "execute_result"
    }
   ],
   "source": [
    "basket5 = [\"a\", \"a\", \"a\", 1, 1,1,1, 3, 3, 3,3, 3, 50, 50]\n",
    "basket5.count(50)"
   ]
  },
  {
   "cell_type": "code",
   "execution_count": 21,
   "metadata": {},
   "outputs": [
    {
     "name": "stdout",
     "output_type": "stream",
     "text": [
      "16\n",
      "[10, 20, 30, 40]\n",
      "['car', 'bar', 'star']\n",
      "['star', 'bar', 'car', False, 40, 20, 'd', 'b']\n",
      "['star', 'bar', 'car', False]\n",
      "[-1, -2, -3]\n"
     ]
    }
   ],
   "source": [
    "basket6 = [\"a\", \"b\", \"c\", \"d\", 10, 20, 30,40, True, False,\n",
    "                -1, \"car\", -2, \"bar\", -3, \"star\"]\n",
    "\n",
    "print(len(basket6))\n",
    "print(basket6[4:8])\n",
    "print(basket6[11::2])\n",
    "print(basket6[15::-2])\n",
    "print(basket6[15:8:-2])\n",
    "print(basket6[10:15:2])"
   ]
  },
  {
   "cell_type": "code",
   "execution_count": 22,
   "metadata": {},
   "outputs": [
    {
     "data": {
      "text/plain": [
       "[1, 2, 3, 4, 'Chips']"
      ]
     },
     "execution_count": 22,
     "metadata": {},
     "output_type": "execute_result"
    }
   ],
   "source": [
    "basket1[-1] = \"Chips\"\n",
    "basket1"
   ]
  },
  {
   "cell_type": "code",
   "execution_count": null,
   "metadata": {},
   "outputs": [],
   "source": []
  }
 ],
 "metadata": {
  "kernelspec": {
   "display_name": "vars",
   "language": "python",
   "name": "vars"
  },
  "language_info": {
   "codemirror_mode": {
    "name": "ipython",
    "version": 3
   },
   "file_extension": ".py",
   "mimetype": "text/x-python",
   "name": "python",
   "nbconvert_exporter": "python",
   "pygments_lexer": "ipython3",
   "version": "3.8.5"
  }
 },
 "nbformat": 4,
 "nbformat_minor": 2
}
