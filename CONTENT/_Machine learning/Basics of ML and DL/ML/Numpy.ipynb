{
 "cells": [
  {
   "cell_type": "code",
   "execution_count": 1,
   "metadata": {},
   "outputs": [],
   "source": [
    "# lists are slow in python as compared to numpy arays\n",
    "# lists stores data in a compact way\n",
    "# lists stores data of differnt type while numpy arrays stores data of same type\n",
    "# numpy is a library that adds support to the large multi dimensional arrays and matrices along with a large collection of high\n",
    "# -level mathematical functions to operate on these arrays"
   ]
  },
  {
   "cell_type": "code",
   "execution_count": 2,
   "metadata": {},
   "outputs": [],
   "source": [
    "import numpy as np"
   ]
  },
  {
   "cell_type": "code",
   "execution_count": 4,
   "metadata": {},
   "outputs": [
    {
     "name": "stdout",
     "output_type": "stream",
     "text": [
      "[1 2 3] <class 'numpy.ndarray'> int32\n",
      "[5 6 7 8] <class 'numpy.ndarray'>\n",
      "['1' '2' 'a'] <class 'numpy.ndarray'> <U11\n",
      "[0. 0. 0. 0. 0. 0. 0. 0. 0. 0.]\n",
      "[0 0 0 0 0 0 0 0 0 0]\n",
      "[1. 1. 1. 1. 1.]\n",
      "['1' '1' '1' '1' '1']\n"
     ]
    }
   ],
   "source": [
    "# create a numpy array\n",
    "\n",
    "l1 = [1,2,3]\n",
    "a = np.array(l1)           # we can pass a list\n",
    "print(a, type(a), a.dtype)\n",
    "\n",
    "t = (5,6,7,8)\n",
    "c = np.array(t)            # we can pass a tuple as well\n",
    "print(c, type(c))\n",
    "\n",
    "l2 = [1,2,'a']             # if anyone element of list is string then np array will convert all the elements\n",
    "b = np.array(l2)\n",
    "print(b, type(b), b.dtype)\n",
    "\n",
    "print(np.zeros(10))        # by default it will create the aaray with 0 as an element in float format\n",
    "print(np.zeros(10, int))   # we can also pass the data type of zeros\n",
    "\n",
    "print(np.ones(5))\n",
    "print(np.ones(5, str))"
   ]
  },
  {
   "cell_type": "code",
   "execution_count": 5,
   "metadata": {},
   "outputs": [
    {
     "name": "stdout",
     "output_type": "stream",
     "text": [
      "[[1 1 1]\n",
      " [0 0 0]]\n",
      "\n",
      "\n",
      "[[[1 1 1 1]\n",
      "  [1 1 1 1]\n",
      "  [1 1 1 1]]\n",
      "\n",
      " [[1 1 1 1]\n",
      "  [1 1 1 1]\n",
      "  [1 1 1 1]]]\n"
     ]
    }
   ],
   "source": [
    "# to create a 2D array or 3D array\n",
    "\n",
    "a = np.zeros((2,3), int)\n",
    "a[0] = \"1\"               # it will automatically typecast string into int since we have provided the datatype in the beginning \n",
    "print(a, end=\"\\n\\n\\n\")\n",
    "\n",
    "b = np.ones((2,3,4), int)\n",
    "print(b)"
   ]
  },
  {
   "cell_type": "code",
   "execution_count": 23,
   "metadata": {},
   "outputs": [],
   "source": [
    "# to access the data from an array we can do slicing like in lists "
   ]
  },
  {
   "cell_type": "code",
   "execution_count": 25,
   "metadata": {},
   "outputs": [
    {
     "data": {
      "text/plain": [
       "(2, 3, 4)"
      ]
     },
     "execution_count": 25,
     "metadata": {},
     "output_type": "execute_result"
    }
   ],
   "source": [
    "b.shape   # v.important as it tells the dimension of an array"
   ]
  },
  {
   "cell_type": "code",
   "execution_count": 29,
   "metadata": {},
   "outputs": [
    {
     "name": "stdout",
     "output_type": "stream",
     "text": [
      "[[ 1  2  3  4  5]\n",
      " [ 6  7  8  9 10]]\n",
      "[1 6]\n",
      "[[2 3]]\n"
     ]
    }
   ],
   "source": [
    "# very interesting function to access the subarray/submatrix from an array\n",
    "\n",
    "l = [[1,2,3,4,5],[6,7,8,9,10]]\n",
    "a = np.array(l)\n",
    "\n",
    "print(a[:])          # sb kuch dedo\n",
    "print(a[: , 0])      # gives the elements of all rows and 0th column \n",
    "print(a[0:1 , 1:3])  # gives the elements of 0th row and column from 1 to 2"
   ]
  },
  {
   "cell_type": "code",
   "execution_count": 32,
   "metadata": {},
   "outputs": [
    {
     "data": {
      "text/plain": [
       "array([0, 1, 2, 3, 4, 5, 6, 7, 8, 9])"
      ]
     },
     "execution_count": 32,
     "metadata": {},
     "output_type": "execute_result"
    }
   ],
   "source": [
    "np.arange(10)"
   ]
  },
  {
   "cell_type": "code",
   "execution_count": 34,
   "metadata": {},
   "outputs": [
    {
     "data": {
      "text/plain": [
       "(3,)"
      ]
     },
     "execution_count": 34,
     "metadata": {},
     "output_type": "execute_result"
    }
   ],
   "source": [
    "a = np.array([1,2,3])\n",
    "a.shape"
   ]
  },
  {
   "cell_type": "code",
   "execution_count": 4,
   "metadata": {},
   "outputs": [
    {
     "name": "stdout",
     "output_type": "stream",
     "text": [
      "[3 4 5]\n",
      "[5 7 9]\n",
      "[2 4 6]\n",
      "[ 4 10 18]\n",
      "[1 4 9]\n",
      "[  1  32 729]\n"
     ]
    }
   ],
   "source": [
    "# numpy operations\n",
    "\n",
    "# numpy arrays perform element wise opeartion\n",
    "\n",
    "a = np.array([1,2,3])\n",
    "b = np.array([4,5,6])\n",
    "\n",
    "print(a+2)\n",
    "print(a+b)\n",
    "print(a*2)\n",
    "print(a*b)\n",
    "print(a**2)\n",
    "print(a**b)"
   ]
  },
  {
   "cell_type": "code",
   "execution_count": 6,
   "metadata": {},
   "outputs": [
    {
     "name": "stdout",
     "output_type": "stream",
     "text": [
      "2.8333333333333335\n",
      "17\n"
     ]
    }
   ],
   "source": [
    "a = np.array([[1,2,3],[1,7,3]])\n",
    "print(a.mean())\n",
    "print(a.sum())"
   ]
  },
  {
   "cell_type": "code",
   "execution_count": 46,
   "metadata": {},
   "outputs": [
    {
     "name": "stdout",
     "output_type": "stream",
     "text": [
      "5.196152422706632\n"
     ]
    }
   ],
   "source": [
    "# calculating distance between the points\n",
    "import math\n",
    "a = np.array([1,2,3])\n",
    "b = np.array([4,5,6])\n",
    "\n",
    "d = ((a-b)**2).sum()\n",
    "d = math.sqrt(d)\n",
    "print(d)"
   ]
  },
  {
   "cell_type": "code",
   "execution_count": 48,
   "metadata": {},
   "outputs": [
    {
     "data": {
      "text/plain": [
       "2.0"
      ]
     },
     "execution_count": 48,
     "metadata": {},
     "output_type": "execute_result"
    }
   ],
   "source": [
    "# calculating deviation from mean value\n",
    "\n",
    "x = np.array([1,2,3])\n",
    "((x-x.mean())**2).sum()"
   ]
  },
  {
   "cell_type": "code",
   "execution_count": 50,
   "metadata": {},
   "outputs": [
    {
     "data": {
      "text/plain": [
       "array([[ 70, 100],\n",
       "       [150, 220]])"
      ]
     },
     "execution_count": 50,
     "metadata": {},
     "output_type": "execute_result"
    }
   ],
   "source": [
    "a1 = np.array([[1,2],[3,4]])\n",
    "a2 = np.array([[10,20],[30,40]])\n",
    "\n",
    "a1.dot(a2)                # to calculate the dot product"
   ]
  },
  {
   "cell_type": "code",
   "execution_count": 52,
   "metadata": {},
   "outputs": [
    {
     "data": {
      "text/plain": [
       "26"
      ]
     },
     "execution_count": 52,
     "metadata": {},
     "output_type": "execute_result"
    }
   ],
   "source": [
    "a1 = np.array([0,1,2,3])\n",
    "a2 = np.array([2,3,4,5])\n",
    "\n",
    "a1.dot(a2)      "
   ]
  },
  {
   "cell_type": "code",
   "execution_count": 64,
   "metadata": {},
   "outputs": [
    {
     "name": "stdout",
     "output_type": "stream",
     "text": [
      "[[1 2]\n",
      " [3 4]\n",
      " [5 6]\n",
      " [7 8]]\n",
      "[[1]\n",
      " [2]\n",
      " [3]\n",
      " [4]\n",
      " [5]\n",
      " [6]\n",
      " [7]\n",
      " [8]]\n",
      "[[1 2 3 4 5 6 7 8]]\n"
     ]
    }
   ],
   "source": [
    "# reshape() function returns an array containing the same data with a new shape.\n",
    "\n",
    "l = [[1,2,3,4],[5,6,7,8]]\n",
    "a= np.array(l)\n",
    "\n",
    "n = a.reshape(4,2)\n",
    "print(n)\n",
    "\n",
    "n =a.reshape(-1,1)\n",
    "print(n)\n",
    "\n",
    "n =a.reshape(1,-1)\n",
    "print(n)"
   ]
  },
  {
   "cell_type": "code",
   "execution_count": 73,
   "metadata": {},
   "outputs": [
    {
     "name": "stdout",
     "output_type": "stream",
     "text": [
      "6\n",
      "9\n",
      "9\n",
      "[5 7 9]\n",
      "[ 6 15]\n"
     ]
    }
   ],
   "source": [
    "a = np.array([[1,2,3],[4,5,6]])\n",
    "\n",
    "print(np.sum(a[0]))\n",
    "print(np.sum(a[:,2]))\n",
    "print(np.sum(a[1,0:2]))\n",
    "print(np.sum(a,axis=0))  #column wise sum\n",
    "print(np.sum(a,axis=1))  #row wise sum"
   ]
  },
  {
   "cell_type": "code",
   "execution_count": 74,
   "metadata": {},
   "outputs": [
    {
     "data": {
      "text/plain": [
       "array([0.06302121, 0.35187764])"
      ]
     },
     "execution_count": 74,
     "metadata": {},
     "output_type": "execute_result"
    }
   ],
   "source": [
    "# Numpy also has lots of ways to create random number arrays:\n",
    "# Create an array of the given shape and populate it with random samples from a uniform distribution over [0, 1).\n",
    "\n",
    "np.random.rand(2)"
   ]
  },
  {
   "cell_type": "code",
   "execution_count": 75,
   "metadata": {},
   "outputs": [
    {
     "data": {
      "text/plain": [
       "array([[0.12863172, 0.34210798, 0.67839496, 0.28661509, 0.64419187],\n",
       "       [0.4746834 , 0.77357169, 0.05467986, 0.00507823, 0.95733932],\n",
       "       [0.46914244, 0.55453032, 0.51705681, 0.64481522, 0.65148976],\n",
       "       [0.68214225, 0.36055301, 0.36024092, 0.02743101, 0.65780598],\n",
       "       [0.6505887 , 0.56068257, 0.06164566, 0.19842926, 0.36163937]])"
      ]
     },
     "execution_count": 75,
     "metadata": {},
     "output_type": "execute_result"
    }
   ],
   "source": [
    " np.random.rand(5,5)"
   ]
  },
  {
   "cell_type": "code",
   "execution_count": 76,
   "metadata": {},
   "outputs": [
    {
     "data": {
      "text/plain": [
       "array([-0.95542663, -1.93365416])"
      ]
     },
     "execution_count": 76,
     "metadata": {},
     "output_type": "execute_result"
    }
   ],
   "source": [
    "# Return a sample (or samples) from the \"standard normal\" distribution. Unlike rand which is uniform:\n",
    "\n",
    "np.random.randn(2)"
   ]
  },
  {
   "cell_type": "code",
   "execution_count": 77,
   "metadata": {},
   "outputs": [
    {
     "data": {
      "text/plain": [
       "array([[ 0.17413398, -0.09312541,  0.13277374, -1.03304525, -1.11769778],\n",
       "       [-0.20733095,  0.50380104, -0.00394683, -1.38442798,  0.76495558],\n",
       "       [-1.95678578,  2.03613253,  2.68019942, -0.29749535,  0.88645082],\n",
       "       [ 1.49505225, -0.74739336,  1.51749711,  2.12004131, -1.64266193],\n",
       "       [ 1.77466367, -0.27267443, -1.09979213, -0.16492723,  0.60984943]])"
      ]
     },
     "execution_count": 77,
     "metadata": {},
     "output_type": "execute_result"
    }
   ],
   "source": [
    " np.random.randn(5,5)"
   ]
  },
  {
   "cell_type": "code",
   "execution_count": 78,
   "metadata": {},
   "outputs": [
    {
     "data": {
      "text/plain": [
       "89"
      ]
     },
     "execution_count": 78,
     "metadata": {},
     "output_type": "execute_result"
    }
   ],
   "source": [
    "# Return random integers from low (inclusive) to high (exclusive).\n",
    "\n",
    "np.random.randint(1,100)"
   ]
  },
  {
   "cell_type": "code",
   "execution_count": 9,
   "metadata": {},
   "outputs": [
    {
     "name": "stdout",
     "output_type": "stream",
     "text": [
      "[18 68 57 90 14 59 73 21 97 52]\n",
      "[[19 71]\n",
      " [64 91]\n",
      " [52 43]\n",
      " [31 11]\n",
      " [25 59]\n",
      " [44 81]\n",
      " [69 76]\n",
      " [16 73]\n",
      " [38 12]\n",
      " [26 56]]\n"
     ]
    }
   ],
   "source": [
    "# Following will randomly sample 10 values in the interval [1, 100)\n",
    "\n",
    "print(np.random.randint(1,100,10))\n",
    "print(np.random.randint(1,100,(10,2)))"
   ]
  },
  {
   "cell_type": "code",
   "execution_count": 80,
   "metadata": {},
   "outputs": [],
   "source": [
    "# Let's discuss some useful attributes and methods or an array:\n",
    "arr = np.arange(25)\n",
    "ranarr = np.random.randint(0,50,10)"
   ]
  },
  {
   "cell_type": "code",
   "execution_count": 81,
   "metadata": {},
   "outputs": [
    {
     "data": {
      "text/plain": [
       "array([ 0,  1,  2,  3,  4,  5,  6,  7,  8,  9, 10, 11, 12, 13, 14, 15, 16,\n",
       "       17, 18, 19, 20, 21, 22, 23, 24])"
      ]
     },
     "execution_count": 81,
     "metadata": {},
     "output_type": "execute_result"
    }
   ],
   "source": [
    "arr"
   ]
  },
  {
   "cell_type": "code",
   "execution_count": 82,
   "metadata": {},
   "outputs": [
    {
     "data": {
      "text/plain": [
       "array([17, 21, 33, 27, 30, 48, 13, 46,  8, 23])"
      ]
     },
     "execution_count": 82,
     "metadata": {},
     "output_type": "execute_result"
    }
   ],
   "source": [
    "ranarr"
   ]
  },
  {
   "cell_type": "code",
   "execution_count": 13,
   "metadata": {},
   "outputs": [
    {
     "name": "stderr",
     "output_type": "stream",
     "text": [
      "UsageError: Line magic function `%%time` not found.\n"
     ]
    }
   ],
   "source": [
    "# to measure the cell execution time use %%time\n",
    "\n",
    "%%time\n",
    "for i in range(0,1000):\n",
    "    i = i + 1\n",
    "print(i)"
   ]
  },
  {
   "cell_type": "code",
   "execution_count": 14,
   "metadata": {},
   "outputs": [],
   "source": [
    "# shortcuts of jupyter notebook\n",
    "\n",
    "#  tab  :  it will show all the methods or library available\n",
    "#  shift + tab  :  show documentation of a function"
   ]
  }
 ],
 "metadata": {
  "kernelspec": {
   "display_name": "Python 3",
   "language": "python",
   "name": "python3"
  },
  "language_info": {
   "codemirror_mode": {
    "name": "ipython",
    "version": 3
   },
   "file_extension": ".py",
   "mimetype": "text/x-python",
   "name": "python",
   "nbconvert_exporter": "python",
   "pygments_lexer": "ipython3",
   "version": "3.8.5"
  }
 },
 "nbformat": 4,
 "nbformat_minor": 4
}
