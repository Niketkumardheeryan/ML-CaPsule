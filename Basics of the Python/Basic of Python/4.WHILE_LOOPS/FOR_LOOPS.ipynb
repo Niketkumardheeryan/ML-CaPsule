{
 "cells": [
  {
   "cell_type": "markdown",
   "metadata": {},
   "source": [
    "<h1 style=\"color:blue;text-align:center;\">FOR LOOPS (List, Tuples and Dictionaries)</h1>\n",
    "<ul>\n",
    "    <li><b>for</b> loops iterate over elements from a sequence (list, tuple and dictionary)</li>\n",
    "    <li>Outputs all the elements from the sequence</li>\n",
    "</ul>"
   ]
  },
  {
   "cell_type": "code",
   "execution_count": null,
   "metadata": {},
   "outputs": [],
   "source": [
    "for greeting in range(2):\n",
    "    print(\"Hello world!\")"
   ]
  },
  {
   "cell_type": "code",
   "execution_count": 1,
   "metadata": {},
   "outputs": [
    {
     "name": "stdout",
     "output_type": "stream",
     "text": [
      "tiger\n",
      "lion\n",
      "jaguar\n",
      "leopard\n"
     ]
    }
   ],
   "source": [
    "cats = [\"tiger\", \"lion\", \"jaguar\", \"leopard\"]\n",
    "for cat in cats:\n",
    "    print(cat)\n"
   ]
  },
  {
   "cell_type": "code",
   "execution_count": 2,
   "metadata": {},
   "outputs": [
    {
     "name": "stdout",
     "output_type": "stream",
     "text": [
      "0 30 0\n",
      "1 31 1\n",
      "2 32 4\n",
      "3 33 9\n"
     ]
    }
   ],
   "source": [
    "for num in range(4):\n",
    "    print(num, num + 30, num*num)\n"
   ]
  },
  {
   "cell_type": "code",
   "execution_count": 3,
   "metadata": {},
   "outputs": [
    {
     "name": "stdout",
     "output_type": "stream",
     "text": [
      "[10, 20, 30]\n",
      "[3.5, 4.5, 5.5]\n",
      "['sword', 'hammer', 'shield']\n"
     ]
    }
   ],
   "source": [
    "nest1 = [[10, 20, 30], [3.5, 4.5, 5.5],\n",
    "[\"sword\", \"hammer\", \"shield\"]]\n",
    "for i in range(3):\n",
    "    print(nest1[i])\n"
   ]
  },
  {
   "cell_type": "code",
   "execution_count": 4,
   "metadata": {},
   "outputs": [
    {
     "data": {
      "text/plain": [
       "'Shield:Power level = 35.5'"
      ]
     },
     "execution_count": 4,
     "metadata": {},
     "output_type": "execute_result"
    }
   ],
   "source": [
    "weapons = []\n",
    "for i in range(3):\n",
    "    s=nest1[2][i].capitalize() + \":Power level = \"+ str(nest1[0][i] + nest1[1][i])\n",
    "    weapons.append(s)\n",
    "weapons[2]"
   ]
  },
  {
   "cell_type": "code",
   "execution_count": 5,
   "metadata": {},
   "outputs": [
    {
     "name": "stdout",
     "output_type": "stream",
     "text": [
      "1 * 1 = 1\n",
      "2 * 2 = 4\n",
      "3 * 3 = 9\n",
      "4 * 4 = 16\n",
      "5 * 5 = 25\n",
      "6 * 6 = 36\n",
      "7 * 7 = 49\n"
     ]
    }
   ],
   "source": [
    "for i in range(1, 8):\n",
    "    print(\"{} * {} = {}\".format(i, i, (i*i)))\n"
   ]
  },
  {
   "cell_type": "code",
   "execution_count": 6,
   "metadata": {},
   "outputs": [
    {
     "name": "stdout",
     "output_type": "stream",
     "text": [
      "1.000000 * 1.000000 = 1.000000\n",
      "2.000000 * 2.000000 = 4.000000\n",
      "3.000000 * 3.000000 = 9.000000\n",
      "4.000000 * 4.000000 = 16.000000\n",
      "5.000000 * 5.000000 = 25.000000\n",
      "6.000000 * 6.000000 = 36.000000\n",
      "7.000000 * 7.000000 = 49.000000\n"
     ]
    }
   ],
   "source": [
    "for k in range(1, 8):\n",
    "    print(\"%f * %f = %f\" % (k, k, (k*k)))\n"
   ]
  },
  {
   "cell_type": "code",
   "execution_count": 7,
   "metadata": {},
   "outputs": [
    {
     "name": "stdout",
     "output_type": "stream",
     "text": [
      "10 20 30\n",
      "a b c\n",
      "200 400 800\n",
      "10 20 30\n",
      "a b c\n",
      "200 400 800\n",
      "10 20 30\n",
      "a b c\n",
      "200 400 800\n"
     ]
    }
   ],
   "source": [
    "tup1 = ((10, 20, 30), (\"a\", \"b\", \"c\"), (200, 400, 800))\n",
    "# TUPLE UNPACKING!\n",
    "for i in range(3):\n",
    "    for x, y, z in tup1:\n",
    "        print(x, y, z)"
   ]
  },
  {
   "cell_type": "code",
   "execution_count": 8,
   "metadata": {},
   "outputs": [
    {
     "data": {
      "text/plain": [
       "[10, 20, 30, 40]"
      ]
     },
     "execution_count": 8,
     "metadata": {},
     "output_type": "execute_result"
    }
   ],
   "source": [
    "cakes = [\"chocolate\", \"lemon\", \"carrot\", \"vanilla\"]\n",
    "d1 = {\"k1\": tuple(cakes), \"k2\": [10, 20, 30, 40]}\n",
    "d1[\"k2\"]\n"
   ]
  },
  {
   "cell_type": "code",
   "execution_count": 9,
   "metadata": {},
   "outputs": [
    {
     "name": "stdout",
     "output_type": "stream",
     "text": [
      "10\n",
      "20\n",
      "30\n",
      "40\n"
     ]
    }
   ],
   "source": [
    "for d in d1[\"k2\"]:\n",
    "    print(d)\n"
   ]
  },
  {
   "cell_type": "code",
   "execution_count": 10,
   "metadata": {},
   "outputs": [
    {
     "name": "stdout",
     "output_type": "stream",
     "text": [
      "k1 : chocolate\n",
      "k1 : lemon\n",
      "k1 : carrot\n",
      "k1 : vanilla\n",
      "k2 : 10\n",
      "k2 : 20\n",
      "k2 : 30\n",
      "k2 : 40\n"
     ]
    }
   ],
   "source": [
    "for x in d1:\n",
    "    for i in range(4):\n",
    "        print(x, \":\", d1[x][i])\n"
   ]
  },
  {
   "cell_type": "code",
   "execution_count": 11,
   "metadata": {},
   "outputs": [
    {
     "name": "stdout",
     "output_type": "stream",
     "text": [
      "Tiger \n",
      " Level: \n",
      " SERIES\n",
      "Lion \n",
      " Level: \n",
      " CRITICAL\n",
      "Jaguar \n",
      " Level: \n",
      " VERY CRITICAL\n",
      "Leopard \n",
      " Level: \n",
      " STABLE\n"
     ]
    }
   ],
   "source": [
    "cats\n",
    "endangered = [\"series\", \"critical\",\n",
    "\"very critical\", \"stable\"]\n",
    "for c in range(4):\n",
    "    print(cats[c].capitalize(), \"\\n Level: \\n\", endangered[c].upper())\n"
   ]
  },
  {
   "cell_type": "code",
   "execution_count": null,
   "metadata": {},
   "outputs": [],
   "source": []
  }
 ],
 "metadata": {
  "kernelspec": {
   "display_name": "vars",
   "language": "python",
   "name": "vars"
  },
  "language_info": {
   "codemirror_mode": {
    "name": "ipython",
    "version": 3
   },
   "file_extension": ".py",
   "mimetype": "text/x-python",
   "name": "python",
   "nbconvert_exporter": "python",
   "pygments_lexer": "ipython3",
   "version": "3.8.5"
  }
 },
 "nbformat": 4,
 "nbformat_minor": 2
}
