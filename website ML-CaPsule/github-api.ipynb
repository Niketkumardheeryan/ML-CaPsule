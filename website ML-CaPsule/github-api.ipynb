{
 "cells": [
  {
   "cell_type": "code",
   "execution_count": 1,
   "metadata": {},
   "outputs": [
    {
     "name": "stdout",
     "output_type": "stream",
     "text": [
      "REPOSITORY_INDEX.md file has been created.\n"
     ]
    }
   ],
   "source": [
    "import os\n",
    "from github import Github\n",
    "from markdown2 import markdown\n",
    "\n",
    "# Replace with your GitHub access token\n",
    "GITHUB_ACCESS_TOKEN = 'your token'\n",
    "# Replace with your GitHub username and repository name\n",
    "REPO_NAME = 'username/reponame'\n",
    "\n",
    "# Authenticate to GitHub\n",
    "g = Github(GITHUB_ACCESS_TOKEN)\n",
    "repo = g.get_repo(REPO_NAME)\n",
    "\n",
    "def get_folders(repo):\n",
    "    contents = repo.get_contents(\"\")\n",
    "    folders = [content for content in contents if content.type == 'dir']\n",
    "    return folders\n",
    "\n",
    "def get_readme(repo, folder):\n",
    "    try:\n",
    "        readme_file = repo.get_contents(os.path.join(folder.path, \"README.md\"))\n",
    "        return readme_file.decoded_content.decode()\n",
    "    except:\n",
    "        return None\n",
    "\n",
    "def generate_markdown(folders, repo_name):\n",
    "    markdown_content = \"# Repository Index\\n\\n\"\n",
    "    for folder in folders:\n",
    "        readme_content = get_readme(repo, folder)\n",
    "        if readme_content:\n",
    "            description = markdown(readme_content).strip().split('\\n')[0]\n",
    "        else:\n",
    "            description = \"No description available.\"\n",
    "\n",
    "        folder_link = f\"https://github.com/ML-CaPsule/tree/main/{folder.path}\"\n",
    "        markdown_content += f\"## [{folder.name}]({folder_link})\\n\\n{description}\\n\\n\"\n",
    "    return markdown_content\n",
    "\n",
    "def save_to_file(content, filename=\"REPOSITORY_INDEX_new.md\"):\n",
    "    with open(filename, \"w\") as file:\n",
    "        file.write(content)\n",
    "\n",
    "def main():\n",
    "    folders = get_folders(repo)\n",
    "    markdown_content = generate_markdown(folders, REPO_NAME)\n",
    "    save_to_file(markdown_content)\n",
    "    print(\"REPOSITORY_INDEX.md file has been created.\")\n",
    "\n",
    "if __name__ == \"__main__\":\n",
    "    main()\n"
   ]
  },
  {
   "cell_type": "code",
   "execution_count": 9,
   "metadata": {},
   "outputs": [
    {
     "name": "stdout",
     "output_type": "stream",
     "text": [
      "projects.html file has been created with correct links.\n"
     ]
    }
   ],
   "source": [
    "import re\n",
    "\n",
    "def extract_projects_from_markdown(markdown_file, old_base_url, new_base_url):\n",
    "    with open(markdown_file, 'r') as file:\n",
    "        content = file.read()\n",
    "\n",
    "    # Replace old base URL with new base URL\n",
    "    content = content.replace(old_base_url, new_base_url)\n",
    "\n",
    "    # Use regex to find all project names and links\n",
    "    projects = re.findall(r'## \\[(.+?)\\]\\((https://github\\.com/.+?)\\)', content)\n",
    "    return projects\n",
    "\n",
    "def generate_html(projects):\n",
    "    html_content = \"\"\n",
    "    template = '''\n",
    "    <div class=\"flex justify-center items-center h-screen\">\n",
    "    <div class=\"p-2 sm:w-1/2 w-full\">\n",
    "        <div class=\"bg-gray-100 rounded flex p-4 h-full items-center justify-center\">\n",
    "            <svg fill=\"none\" stroke=\"currentColor\" stroke-linecap=\"round\" stroke-linejoin=\"round\" stroke-width=\"3\" class=\"text-blue-500 w-6 h-6 flex-shrink-0 mr-4\" viewBox=\"0 0 24 24\">\n",
    "                <path d=\"M22 11.08V12a10 10 0 11-5.93-9.14\"></path>\n",
    "                <path d=\"M22 4L12 14.01l-3-3\"></path>\n",
    "            </svg>\n",
    "            <span class=\"title-font font-medium\">{project_name}<a href=\"{project_link}\"</span>\n",
    "        </div>\n",
    "    </div>\n",
    "</div>\n",
    "\n",
    "    '''\n",
    "\n",
    "    for project_name, project_link in projects:\n",
    "        html_content += template.format(project_name=project_name, project_link=project_link)\n",
    "\n",
    "    return html_content\n",
    "\n",
    "def save_to_file(content, filename=\"projects.html\"):\n",
    "    with open(filename, \"w\") as file:\n",
    "        file.write(content)\n",
    "\n",
    "def main():\n",
    "    markdown_file = \"REPOSITORY_INDEX.md\"\n",
    "    old_base_url = \"https://github.com/ML-CaPsule/tree/main/\"\n",
    "    new_base_url = \"https://github.com/Niketkumardheeryan/ML-CaPsule/tree/master/\"\n",
    "    \n",
    "    projects = extract_projects_from_markdown(markdown_file, old_base_url, new_base_url)\n",
    "    html_content = generate_html(projects)\n",
    "    save_to_file(html_content)\n",
    "    print(\"projects.html file has been created with correct links.\")\n",
    "\n",
    "if __name__ == \"__main__\":\n",
    "    main()\n"
   ]
  }
 ],
 "metadata": {
  "kernelspec": {
   "display_name": "base",
   "language": "python",
   "name": "python3"
  },
  "language_info": {
   "codemirror_mode": {
    "name": "ipython",
    "version": 3
   },
   "file_extension": ".py",
   "mimetype": "text/x-python",
   "name": "python",
   "nbconvert_exporter": "python",
   "pygments_lexer": "ipython3",
   "version": "3.11.4"
  }
 },
 "nbformat": 4,
 "nbformat_minor": 2
}
