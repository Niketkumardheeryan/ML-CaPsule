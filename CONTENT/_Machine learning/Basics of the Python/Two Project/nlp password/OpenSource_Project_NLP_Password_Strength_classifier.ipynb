{
  "nbformat": 4,
  "nbformat_minor": 0,
  "metadata": {
    "kernelspec": {
      "display_name": "Python 3",
      "language": "python",
      "name": "python3"
    },
    "language_info": {
      "codemirror_mode": {
        "name": "ipython",
        "version": 3
      },
      "file_extension": ".py",
      "mimetype": "text/x-python",
      "name": "python",
      "nbconvert_exporter": "python",
      "pygments_lexer": "ipython3",
      "version": "3.7.4"
    },
    "colab": {
      "name": "OpenSource_Project_NLP_Password_Strength_classifier.ipynb",
      "provenance": [],
      "collapsed_sections": []
    }
  },
  "cells": [
    {
      "cell_type": "code",
      "metadata": {
        "id": "hxvNwr0-9oIW"
      },
      "source": [
        "import pandas as pd\n",
        "import numpy as np\n",
        "import seaborn as sns\n",
        "import warnings\n",
        "warnings.filterwarnings('ignore')"
      ],
      "execution_count": 1,
      "outputs": []
    },
    {
      "cell_type": "code",
      "metadata": {
        "colab": {
          "base_uri": "https://localhost:8080/"
        },
        "id": "eceydxay_BSv",
        "outputId": "94e124e6-4ca9-4516-b613-a192de630e1c"
      },
      "source": [
        "from google.colab import drive\n",
        "drive.mount('/content/drive')"
      ],
      "execution_count": 2,
      "outputs": [
        {
          "output_type": "stream",
          "text": [
            "Mounted at /content/drive\n"
          ],
          "name": "stdout"
        }
      ]
    },
    {
      "cell_type": "code",
      "metadata": {
        "id": "Wu8XuOlT_Dbg"
      },
      "source": [
        "path='drive/My Drive/'"
      ],
      "execution_count": 3,
      "outputs": []
    },
    {
      "cell_type": "markdown",
      "metadata": {
        "id": "_n-cqKDx9oIb"
      },
      "source": [
        "#### REading dataset"
      ]
    },
    {
      "cell_type": "code",
      "metadata": {
        "colab": {
          "base_uri": "https://localhost:8080/",
          "height": 275
        },
        "id": "DCM1HvJd9oIc",
        "outputId": "42b5893a-1b0f-4196-aaec-0d769603c303"
      },
      "source": [
        "# Importing the dataset\n",
        "data=pd.read_csv(path+\"/nlp_password.csv\",error_bad_lines=False)\n",
        "data.head()"
      ],
      "execution_count": 4,
      "outputs": [
        {
          "output_type": "stream",
          "text": [
            "b'Skipping line 2810: expected 2 fields, saw 5\\nSkipping line 4641: expected 2 fields, saw 5\\nSkipping line 7171: expected 2 fields, saw 5\\nSkipping line 11220: expected 2 fields, saw 5\\nSkipping line 13809: expected 2 fields, saw 5\\nSkipping line 14132: expected 2 fields, saw 5\\nSkipping line 14293: expected 2 fields, saw 5\\nSkipping line 14865: expected 2 fields, saw 5\\nSkipping line 17419: expected 2 fields, saw 5\\nSkipping line 22801: expected 2 fields, saw 5\\nSkipping line 25001: expected 2 fields, saw 5\\nSkipping line 26603: expected 2 fields, saw 5\\nSkipping line 26742: expected 2 fields, saw 5\\nSkipping line 29702: expected 2 fields, saw 5\\nSkipping line 32767: expected 2 fields, saw 5\\nSkipping line 32878: expected 2 fields, saw 5\\nSkipping line 35643: expected 2 fields, saw 5\\nSkipping line 36550: expected 2 fields, saw 5\\nSkipping line 38732: expected 2 fields, saw 5\\nSkipping line 40567: expected 2 fields, saw 5\\nSkipping line 40576: expected 2 fields, saw 5\\nSkipping line 41864: expected 2 fields, saw 5\\nSkipping line 46861: expected 2 fields, saw 5\\nSkipping line 47939: expected 2 fields, saw 5\\nSkipping line 48628: expected 2 fields, saw 5\\nSkipping line 48908: expected 2 fields, saw 5\\nSkipping line 57582: expected 2 fields, saw 5\\nSkipping line 58782: expected 2 fields, saw 5\\nSkipping line 58984: expected 2 fields, saw 5\\nSkipping line 61518: expected 2 fields, saw 5\\nSkipping line 63451: expected 2 fields, saw 5\\nSkipping line 68141: expected 2 fields, saw 5\\nSkipping line 72083: expected 2 fields, saw 5\\nSkipping line 74027: expected 2 fields, saw 5\\nSkipping line 77811: expected 2 fields, saw 5\\nSkipping line 83958: expected 2 fields, saw 5\\nSkipping line 85295: expected 2 fields, saw 5\\nSkipping line 88665: expected 2 fields, saw 5\\nSkipping line 89198: expected 2 fields, saw 5\\nSkipping line 92499: expected 2 fields, saw 5\\nSkipping line 92751: expected 2 fields, saw 5\\nSkipping line 93689: expected 2 fields, saw 5\\nSkipping line 94776: expected 2 fields, saw 5\\nSkipping line 97334: expected 2 fields, saw 5\\nSkipping line 102316: expected 2 fields, saw 5\\nSkipping line 103421: expected 2 fields, saw 5\\nSkipping line 106872: expected 2 fields, saw 5\\nSkipping line 109363: expected 2 fields, saw 5\\nSkipping line 110117: expected 2 fields, saw 5\\nSkipping line 110465: expected 2 fields, saw 5\\nSkipping line 113843: expected 2 fields, saw 5\\nSkipping line 115634: expected 2 fields, saw 5\\nSkipping line 121518: expected 2 fields, saw 5\\nSkipping line 123692: expected 2 fields, saw 5\\nSkipping line 124708: expected 2 fields, saw 5\\nSkipping line 129608: expected 2 fields, saw 5\\nSkipping line 133176: expected 2 fields, saw 5\\nSkipping line 135532: expected 2 fields, saw 5\\nSkipping line 138042: expected 2 fields, saw 5\\nSkipping line 139485: expected 2 fields, saw 5\\nSkipping line 140401: expected 2 fields, saw 5\\nSkipping line 144093: expected 2 fields, saw 5\\nSkipping line 149850: expected 2 fields, saw 5\\nSkipping line 151831: expected 2 fields, saw 5\\nSkipping line 158014: expected 2 fields, saw 5\\nSkipping line 162047: expected 2 fields, saw 5\\nSkipping line 164515: expected 2 fields, saw 5\\nSkipping line 170313: expected 2 fields, saw 5\\nSkipping line 171325: expected 2 fields, saw 5\\nSkipping line 171424: expected 2 fields, saw 5\\nSkipping line 175920: expected 2 fields, saw 5\\nSkipping line 176210: expected 2 fields, saw 5\\nSkipping line 183603: expected 2 fields, saw 5\\nSkipping line 190264: expected 2 fields, saw 5\\nSkipping line 191683: expected 2 fields, saw 5\\nSkipping line 191988: expected 2 fields, saw 5\\nSkipping line 195450: expected 2 fields, saw 5\\nSkipping line 195754: expected 2 fields, saw 5\\nSkipping line 197124: expected 2 fields, saw 5\\nSkipping line 199263: expected 2 fields, saw 5\\nSkipping line 202603: expected 2 fields, saw 5\\nSkipping line 209960: expected 2 fields, saw 5\\nSkipping line 213218: expected 2 fields, saw 5\\nSkipping line 217060: expected 2 fields, saw 5\\nSkipping line 220121: expected 2 fields, saw 5\\nSkipping line 223518: expected 2 fields, saw 5\\nSkipping line 226293: expected 2 fields, saw 5\\nSkipping line 227035: expected 2 fields, saw 7\\nSkipping line 227341: expected 2 fields, saw 5\\nSkipping line 227808: expected 2 fields, saw 5\\nSkipping line 228516: expected 2 fields, saw 5\\nSkipping line 228733: expected 2 fields, saw 5\\nSkipping line 232043: expected 2 fields, saw 5\\nSkipping line 232426: expected 2 fields, saw 5\\nSkipping line 234490: expected 2 fields, saw 5\\nSkipping line 239626: expected 2 fields, saw 5\\nSkipping line 240461: expected 2 fields, saw 5\\nSkipping line 244518: expected 2 fields, saw 5\\nSkipping line 245395: expected 2 fields, saw 5\\nSkipping line 246168: expected 2 fields, saw 5\\nSkipping line 246655: expected 2 fields, saw 5\\nSkipping line 246752: expected 2 fields, saw 5\\nSkipping line 247189: expected 2 fields, saw 5\\nSkipping line 250276: expected 2 fields, saw 5\\nSkipping line 255327: expected 2 fields, saw 5\\nSkipping line 257094: expected 2 fields, saw 5\\n'\n",
            "b'Skipping line 264626: expected 2 fields, saw 5\\nSkipping line 265028: expected 2 fields, saw 5\\nSkipping line 269150: expected 2 fields, saw 5\\nSkipping line 271360: expected 2 fields, saw 5\\nSkipping line 273975: expected 2 fields, saw 5\\nSkipping line 274742: expected 2 fields, saw 5\\nSkipping line 276227: expected 2 fields, saw 5\\nSkipping line 279807: expected 2 fields, saw 5\\nSkipping line 283425: expected 2 fields, saw 5\\nSkipping line 287468: expected 2 fields, saw 5\\nSkipping line 292995: expected 2 fields, saw 5\\nSkipping line 293496: expected 2 fields, saw 5\\nSkipping line 293735: expected 2 fields, saw 5\\nSkipping line 295060: expected 2 fields, saw 5\\nSkipping line 296643: expected 2 fields, saw 5\\nSkipping line 296848: expected 2 fields, saw 5\\nSkipping line 308926: expected 2 fields, saw 5\\nSkipping line 310360: expected 2 fields, saw 5\\nSkipping line 317004: expected 2 fields, saw 5\\nSkipping line 318207: expected 2 fields, saw 5\\nSkipping line 331783: expected 2 fields, saw 5\\nSkipping line 333864: expected 2 fields, saw 5\\nSkipping line 335958: expected 2 fields, saw 5\\nSkipping line 336290: expected 2 fields, saw 5\\nSkipping line 343526: expected 2 fields, saw 5\\nSkipping line 343857: expected 2 fields, saw 5\\nSkipping line 344059: expected 2 fields, saw 5\\nSkipping line 348691: expected 2 fields, saw 5\\nSkipping line 353446: expected 2 fields, saw 5\\nSkipping line 357073: expected 2 fields, saw 5\\nSkipping line 359753: expected 2 fields, saw 5\\nSkipping line 359974: expected 2 fields, saw 5\\nSkipping line 366534: expected 2 fields, saw 5\\nSkipping line 369514: expected 2 fields, saw 5\\nSkipping line 377759: expected 2 fields, saw 5\\nSkipping line 379327: expected 2 fields, saw 5\\nSkipping line 380769: expected 2 fields, saw 5\\nSkipping line 381073: expected 2 fields, saw 5\\nSkipping line 381489: expected 2 fields, saw 5\\nSkipping line 386304: expected 2 fields, saw 5\\nSkipping line 387635: expected 2 fields, saw 5\\nSkipping line 389613: expected 2 fields, saw 5\\nSkipping line 392604: expected 2 fields, saw 5\\nSkipping line 393184: expected 2 fields, saw 5\\nSkipping line 395530: expected 2 fields, saw 5\\nSkipping line 396939: expected 2 fields, saw 5\\nSkipping line 397385: expected 2 fields, saw 5\\nSkipping line 397509: expected 2 fields, saw 5\\nSkipping line 402902: expected 2 fields, saw 5\\nSkipping line 405187: expected 2 fields, saw 5\\nSkipping line 408412: expected 2 fields, saw 5\\nSkipping line 419423: expected 2 fields, saw 5\\nSkipping line 420962: expected 2 fields, saw 5\\nSkipping line 425965: expected 2 fields, saw 5\\nSkipping line 427496: expected 2 fields, saw 5\\nSkipping line 438881: expected 2 fields, saw 5\\nSkipping line 439776: expected 2 fields, saw 5\\nSkipping line 440345: expected 2 fields, saw 5\\nSkipping line 445507: expected 2 fields, saw 5\\nSkipping line 445548: expected 2 fields, saw 5\\nSkipping line 447184: expected 2 fields, saw 5\\nSkipping line 448603: expected 2 fields, saw 5\\nSkipping line 451732: expected 2 fields, saw 5\\nSkipping line 458249: expected 2 fields, saw 5\\nSkipping line 460274: expected 2 fields, saw 5\\nSkipping line 467630: expected 2 fields, saw 5\\nSkipping line 473961: expected 2 fields, saw 5\\nSkipping line 476281: expected 2 fields, saw 5\\nSkipping line 478010: expected 2 fields, saw 5\\nSkipping line 478322: expected 2 fields, saw 5\\nSkipping line 479999: expected 2 fields, saw 5\\nSkipping line 480898: expected 2 fields, saw 5\\nSkipping line 481688: expected 2 fields, saw 5\\nSkipping line 485193: expected 2 fields, saw 5\\nSkipping line 485519: expected 2 fields, saw 5\\nSkipping line 486000: expected 2 fields, saw 5\\nSkipping line 489063: expected 2 fields, saw 5\\nSkipping line 494525: expected 2 fields, saw 5\\nSkipping line 495009: expected 2 fields, saw 5\\nSkipping line 501954: expected 2 fields, saw 5\\nSkipping line 508035: expected 2 fields, saw 5\\nSkipping line 508828: expected 2 fields, saw 5\\nSkipping line 509833: expected 2 fields, saw 5\\nSkipping line 510410: expected 2 fields, saw 5\\nSkipping line 518229: expected 2 fields, saw 5\\nSkipping line 520302: expected 2 fields, saw 5\\nSkipping line 520340: expected 2 fields, saw 5\\n'\n",
            "b'Skipping line 525174: expected 2 fields, saw 5\\nSkipping line 526251: expected 2 fields, saw 5\\nSkipping line 529611: expected 2 fields, saw 5\\nSkipping line 531398: expected 2 fields, saw 5\\nSkipping line 534146: expected 2 fields, saw 5\\nSkipping line 544954: expected 2 fields, saw 5\\nSkipping line 553002: expected 2 fields, saw 5\\nSkipping line 553883: expected 2 fields, saw 5\\nSkipping line 553887: expected 2 fields, saw 5\\nSkipping line 553915: expected 2 fields, saw 5\\nSkipping line 554172: expected 2 fields, saw 5\\nSkipping line 563534: expected 2 fields, saw 5\\nSkipping line 565191: expected 2 fields, saw 5\\nSkipping line 574108: expected 2 fields, saw 5\\nSkipping line 574412: expected 2 fields, saw 5\\nSkipping line 575985: expected 2 fields, saw 5\\nSkipping line 580091: expected 2 fields, saw 5\\nSkipping line 582682: expected 2 fields, saw 5\\nSkipping line 585885: expected 2 fields, saw 5\\nSkipping line 590171: expected 2 fields, saw 5\\nSkipping line 591924: expected 2 fields, saw 5\\nSkipping line 592515: expected 2 fields, saw 5\\nSkipping line 593888: expected 2 fields, saw 5\\nSkipping line 596245: expected 2 fields, saw 5\\nSkipping line 607344: expected 2 fields, saw 5\\nSkipping line 607633: expected 2 fields, saw 5\\nSkipping line 610939: expected 2 fields, saw 5\\nSkipping line 613638: expected 2 fields, saw 5\\nSkipping line 615643: expected 2 fields, saw 5\\nSkipping line 615901: expected 2 fields, saw 5\\nSkipping line 617389: expected 2 fields, saw 5\\nSkipping line 634641: expected 2 fields, saw 5\\nSkipping line 635755: expected 2 fields, saw 5\\nSkipping line 646243: expected 2 fields, saw 5\\nSkipping line 647165: expected 2 fields, saw 5\\nSkipping line 648610: expected 2 fields, saw 5\\nSkipping line 648772: expected 2 fields, saw 5\\nSkipping line 651833: expected 2 fields, saw 5\\nSkipping line 653663: expected 2 fields, saw 5\\nSkipping line 656233: expected 2 fields, saw 5\\nSkipping line 656694: expected 2 fields, saw 5\\nSkipping line 659783: expected 2 fields, saw 5\\nSkipping line 660478: expected 2 fields, saw 5\\nSkipping line 661133: expected 2 fields, saw 5\\nSkipping line 661736: expected 2 fields, saw 5\\nSkipping line 669827: expected 2 fields, saw 5\\n'\n"
          ],
          "name": "stderr"
        },
        {
          "output_type": "execute_result",
          "data": {
            "text/html": [
              "<div>\n",
              "<style scoped>\n",
              "    .dataframe tbody tr th:only-of-type {\n",
              "        vertical-align: middle;\n",
              "    }\n",
              "\n",
              "    .dataframe tbody tr th {\n",
              "        vertical-align: top;\n",
              "    }\n",
              "\n",
              "    .dataframe thead th {\n",
              "        text-align: right;\n",
              "    }\n",
              "</style>\n",
              "<table border=\"1\" class=\"dataframe\">\n",
              "  <thead>\n",
              "    <tr style=\"text-align: right;\">\n",
              "      <th></th>\n",
              "      <th>password</th>\n",
              "      <th>strength</th>\n",
              "    </tr>\n",
              "  </thead>\n",
              "  <tbody>\n",
              "    <tr>\n",
              "      <th>0</th>\n",
              "      <td>kzde5577</td>\n",
              "      <td>1</td>\n",
              "    </tr>\n",
              "    <tr>\n",
              "      <th>1</th>\n",
              "      <td>kino3434</td>\n",
              "      <td>1</td>\n",
              "    </tr>\n",
              "    <tr>\n",
              "      <th>2</th>\n",
              "      <td>visi7k1yr</td>\n",
              "      <td>1</td>\n",
              "    </tr>\n",
              "    <tr>\n",
              "      <th>3</th>\n",
              "      <td>megzy123</td>\n",
              "      <td>1</td>\n",
              "    </tr>\n",
              "    <tr>\n",
              "      <th>4</th>\n",
              "      <td>lamborghin1</td>\n",
              "      <td>1</td>\n",
              "    </tr>\n",
              "  </tbody>\n",
              "</table>\n",
              "</div>"
            ],
            "text/plain": [
              "      password  strength\n",
              "0     kzde5577         1\n",
              "1     kino3434         1\n",
              "2    visi7k1yr         1\n",
              "3     megzy123         1\n",
              "4  lamborghin1         1"
            ]
          },
          "metadata": {
            "tags": []
          },
          "execution_count": 4
        }
      ]
    },
    {
      "cell_type": "code",
      "metadata": {
        "colab": {
          "base_uri": "https://localhost:8080/"
        },
        "id": "MU6_2WgO9oIe",
        "outputId": "1869229d-f247-4502-999b-c184408a4cf9"
      },
      "source": [
        "data['strength'].unique()"
      ],
      "execution_count": 5,
      "outputs": [
        {
          "output_type": "execute_result",
          "data": {
            "text/plain": [
              "array([1, 2, 0])"
            ]
          },
          "metadata": {
            "tags": []
          },
          "execution_count": 5
        }
      ]
    },
    {
      "cell_type": "markdown",
      "metadata": {
        "id": "LTgLPXUl9oIf"
      },
      "source": [
        "#### code to check all the missing values in my dataset"
      ]
    },
    {
      "cell_type": "code",
      "metadata": {
        "colab": {
          "base_uri": "https://localhost:8080/"
        },
        "id": "J2uktpX-9oIg",
        "outputId": "78e0f937-63be-448c-a38d-1118987ebc0a"
      },
      "source": [
        "data.isna().sum()"
      ],
      "execution_count": 6,
      "outputs": [
        {
          "output_type": "execute_result",
          "data": {
            "text/plain": [
              "password    1\n",
              "strength    0\n",
              "dtype: int64"
            ]
          },
          "metadata": {
            "tags": []
          },
          "execution_count": 6
        }
      ]
    },
    {
      "cell_type": "code",
      "metadata": {
        "colab": {
          "base_uri": "https://localhost:8080/",
          "height": 80
        },
        "id": "fLXqDTpT9oIg",
        "outputId": "b665ebe4-2222-48de-94b6-b79f09a0cba6"
      },
      "source": [
        "data[data['password'].isnull()]"
      ],
      "execution_count": 7,
      "outputs": [
        {
          "output_type": "execute_result",
          "data": {
            "text/html": [
              "<div>\n",
              "<style scoped>\n",
              "    .dataframe tbody tr th:only-of-type {\n",
              "        vertical-align: middle;\n",
              "    }\n",
              "\n",
              "    .dataframe tbody tr th {\n",
              "        vertical-align: top;\n",
              "    }\n",
              "\n",
              "    .dataframe thead th {\n",
              "        text-align: right;\n",
              "    }\n",
              "</style>\n",
              "<table border=\"1\" class=\"dataframe\">\n",
              "  <thead>\n",
              "    <tr style=\"text-align: right;\">\n",
              "      <th></th>\n",
              "      <th>password</th>\n",
              "      <th>strength</th>\n",
              "    </tr>\n",
              "  </thead>\n",
              "  <tbody>\n",
              "    <tr>\n",
              "      <th>367579</th>\n",
              "      <td>NaN</td>\n",
              "      <td>0</td>\n",
              "    </tr>\n",
              "  </tbody>\n",
              "</table>\n",
              "</div>"
            ],
            "text/plain": [
              "       password  strength\n",
              "367579      NaN         0"
            ]
          },
          "metadata": {
            "tags": []
          },
          "execution_count": 7
        }
      ]
    },
    {
      "cell_type": "code",
      "metadata": {
        "id": "P0lLvUPW9oIh"
      },
      "source": [
        "data.dropna(inplace=True)"
      ],
      "execution_count": 8,
      "outputs": []
    },
    {
      "cell_type": "code",
      "metadata": {
        "colab": {
          "base_uri": "https://localhost:8080/"
        },
        "id": "KEktNEn39oIi",
        "outputId": "b3a59e2e-1137-486f-e156-e6e6fab3b5ab"
      },
      "source": [
        "data.isnull().sum()"
      ],
      "execution_count": 9,
      "outputs": [
        {
          "output_type": "execute_result",
          "data": {
            "text/plain": [
              "password    0\n",
              "strength    0\n",
              "dtype: int64"
            ]
          },
          "metadata": {
            "tags": []
          },
          "execution_count": 9
        }
      ]
    },
    {
      "cell_type": "code",
      "metadata": {
        "colab": {
          "base_uri": "https://localhost:8080/",
          "height": 296
        },
        "id": "kCadNzGd9oIi",
        "outputId": "4734a5a2-3d6b-468b-d1df-e2d31dc0916e"
      },
      "source": [
        "sns.countplot(data['strength'])"
      ],
      "execution_count": 10,
      "outputs": [
        {
          "output_type": "execute_result",
          "data": {
            "text/plain": [
              "<matplotlib.axes._subplots.AxesSubplot at 0x7f11b8a50110>"
            ]
          },
          "metadata": {
            "tags": []
          },
          "execution_count": 10
        },
        {
          "output_type": "display_data",
          "data": {
            "image/png": "[encoded data removed]",
            "text/plain": [
              "<Figure size 432x288 with 1 Axes>"
            ]
          },
          "metadata": {
            "tags": [],
            "needs_background": "light"
          }
        }
      ]
    },
    {
      "cell_type": "code",
      "metadata": {
        "id": "P_RaqfEV9oIj"
      },
      "source": [
        "password_tuple=np.array(data)"
      ],
      "execution_count": 11,
      "outputs": []
    },
    {
      "cell_type": "code",
      "metadata": {
        "colab": {
          "base_uri": "https://localhost:8080/"
        },
        "id": "_tvD2cvd9oIk",
        "outputId": "66178b25-b5e7-471a-e18a-b7572a61b7f7"
      },
      "source": [
        "password_tuple"
      ],
      "execution_count": 12,
      "outputs": [
        {
          "output_type": "execute_result",
          "data": {
            "text/plain": [
              "array([['kzde5577', 1],\n",
              "       ['kino3434', 1],\n",
              "       ['visi7k1yr', 1],\n",
              "       ...,\n",
              "       ['184520socram', 1],\n",
              "       ['marken22a', 1],\n",
              "       ['fxx4pw4g', 1]], dtype=object)"
            ]
          },
          "metadata": {
            "tags": []
          },
          "execution_count": 12
        }
      ]
    },
    {
      "cell_type": "markdown",
      "metadata": {
        "id": "QVJcpk0w9oIl"
      },
      "source": [
        "#### shuffling randomly for robustness"
      ]
    },
    {
      "cell_type": "code",
      "metadata": {
        "id": "NCbzHkeC9oIl"
      },
      "source": [
        "import random\n",
        "random.shuffle(password_tuple)"
      ],
      "execution_count": 13,
      "outputs": []
    },
    {
      "cell_type": "code",
      "metadata": {
        "id": "0JJHVDwG9oIm"
      },
      "source": [
        "x=[labels[0] for labels in password_tuple]\n",
        "y=[labels[1] for labels in password_tuple]\n"
      ],
      "execution_count": 14,
      "outputs": []
    },
    {
      "cell_type": "code",
      "metadata": {
        "colab": {
          "base_uri": "https://localhost:8080/"
        },
        "id": "KCEzEX6c9oIm",
        "outputId": "7703b872-abab-4fc5-e62a-3300ae473e4d"
      },
      "source": [
        "x"
      ],
      "execution_count": 15,
      "outputs": [
        {
          "output_type": "execute_result",
          "data": {
            "text/plain": [
              "['kzde5577',\n",
              " 'kzde5577',\n",
              " 'kino3434',\n",
              " 'megzy123',\n",
              " 'kino3434',\n",
              " 'lamborghin1',\n",
              " 'lamborghin1',\n",
              " 'v1118714',\n",
              " 'universe2908',\n",
              " 'kzde5577',\n",
              " 'kzde5577',\n",
              " 'kino3434',\n",
              " 'visi7k1yr',\n",
              " 'universe2908',\n",
              " '612035180tok',\n",
              " 'asv5o9yu',\n",
              " 'visi7k1yr',\n",
              " 'jytifok873',\n",
              " 'jerusalem393',\n",
              " 'WUt9IZzE0OQ7PkNE',\n",
              " 'jytifok873',\n",
              " 'v1118714',\n",
              " 'u6c8vhow',\n",
              " 'intel1',\n",
              " 'sbl571017',\n",
              " 'kino3434',\n",
              " 'AVYq1lDE4MgAZfNt',\n",
              " 'kzde5577',\n",
              " 'megzy123',\n",
              " '6975038lp',\n",
              " 'u6c8vhow',\n",
              " 'sbl571017',\n",
              " 'v1118714',\n",
              " 'g067057895',\n",
              " '0169395484a',\n",
              " 'fk9qi21m',\n",
              " 'sbl571017',\n",
              " 'lamborghin1',\n",
              " '52558000aaa',\n",
              " '6975038lp',\n",
              " 'v1118714',\n",
              " 'asgaliu11',\n",
              " 'asv5o9yu',\n",
              " 'gaymaids1',\n",
              " 'intel1',\n",
              " 'faranumar91',\n",
              " 'schalke04',\n",
              " 'fahad123',\n",
              " 'as326159',\n",
              " 'yitbos77',\n",
              " 'as326159',\n",
              " 'fahad123',\n",
              " 'universe2908',\n",
              " 'elyass15@ajilent-ci',\n",
              " 'pHyqueDIyNQ8vmhb',\n",
              " 'yitbos77',\n",
              " 'universe2908',\n",
              " 'sbl571017',\n",
              " 'schalke04',\n",
              " 'lamborghin1',\n",
              " 'openup12',\n",
              " 'openup12',\n",
              " 'visi7k1yr',\n",
              " 'matiofox08',\n",
              " 'alimagik1',\n",
              " 'g067057895',\n",
              " 'lamborghin1',\n",
              " 'openup12',\n",
              " 'gaymaids1',\n",
              " 'klara-tershina3H',\n",
              " 'jytifok873',\n",
              " 'yitbos77',\n",
              " 'exitos2009',\n",
              " 'lsdlsd1',\n",
              " 'hodygid757',\n",
              " '612035180tok',\n",
              " 'jytifok873',\n",
              " 'bgrvl80',\n",
              " 'cesarmaio1',\n",
              " 'gdfn76',\n",
              " 'kino3434',\n",
              " 'c3h8bkzr',\n",
              " 'ejeko677',\n",
              " 'obstacle25',\n",
              " 'intel1',\n",
              " 'prisonbreak1',\n",
              " 'fk9qi21m',\n",
              " 'snolyuj04',\n",
              " '12345yolanda',\n",
              " 'idofo673',\n",
              " 'visi7k1yr',\n",
              " 'a2531106',\n",
              " 'cesarmaio1',\n",
              " 'elyass15@ajilent-ci',\n",
              " 'universe2908',\n",
              " 'WUt9IZzE0OQ7PkNE',\n",
              " 'cigicigi123',\n",
              " 'megzy123',\n",
              " 'c3h8bkzr',\n",
              " 'yitbos77',\n",
              " 'juliana19',\n",
              " '52558000aaa',\n",
              " '6975038lp',\n",
              " 'yk530mg8',\n",
              " 'xyws951753',\n",
              " 'pHyqueDIyNQ8vmhb',\n",
              " 'xyws951753',\n",
              " 'juliana19',\n",
              " 'rntprns7',\n",
              " 'hodygid757',\n",
              " 'memjan123',\n",
              " 'hodygid757',\n",
              " 'gill02',\n",
              " 'fahad123',\n",
              " 'mickael12',\n",
              " 'k9b8cz6aj2',\n",
              " 'jytifok873',\n",
              " 'exitos2009',\n",
              " 'yu4cmn',\n",
              " 'jalingo1',\n",
              " 'cesarmaio1',\n",
              " 'kjkjkj1',\n",
              " '929865yt',\n",
              " '283671gus',\n",
              " '6975038lp',\n",
              " 'farrukhcse12',\n",
              " '123477889a',\n",
              " 'zoobike04',\n",
              " 'j09000',\n",
              " 'bozoxik602',\n",
              " 'pHyqueDIyNQ8vmhb',\n",
              " 'jytifok873',\n",
              " 'yk530mg8',\n",
              " 'k1k2k3k4k5k6',\n",
              " '10Erjrlmebup0n',\n",
              " 'g067057895',\n",
              " 'matiofox08',\n",
              " 'snolyuj04',\n",
              " 'teemteem97',\n",
              " 'woon12',\n",
              " 'RqsuUsDYxNgr8T40',\n",
              " 'zoobike04',\n",
              " 'Iamthelegend1!',\n",
              " 'as326159',\n",
              " 'hpqkoxsn5',\n",
              " 'yqugu927',\n",
              " 'go7kew7a2po',\n",
              " 'yuri110995',\n",
              " 'yu4cmn',\n",
              " 'AVYq1lDE4MgAZfNt',\n",
              " 'olmaz.',\n",
              " 'as326159',\n",
              " 'pato221182',\n",
              " '612035180tok',\n",
              " 'pHyqueDIyNQ8vmhb',\n",
              " 'RPFUOUDQwMwVW0AS',\n",
              " 'icap12',\n",
              " 'yllime123',\n",
              " 'yk530mg8',\n",
              " 'trabajonet9',\n",
              " 'bgrvl80',\n",
              " '12345yolanda',\n",
              " 'matiofox08',\n",
              " '612035180tok',\n",
              " '147963asd',\n",
              " 'asv5o9yu',\n",
              " 'meopvywk628',\n",
              " 'kino3434',\n",
              " 'potatobus150',\n",
              " 'nicolas05',\n",
              " 'kino3434',\n",
              " 'RPFUOUDQwMwVW0AS',\n",
              " 'moken7',\n",
              " 'kunyukbabi69',\n",
              " 'mmm23mm',\n",
              " 'klara-tershina3H',\n",
              " 'denise18',\n",
              " '2akira2',\n",
              " 'alimagik1',\n",
              " 'universe2908',\n",
              " 'jUV4dSDQwNwPpA36',\n",
              " '123maxbala',\n",
              " 'rntprns7',\n",
              " 'g067057895',\n",
              " 'c3h8bkzr',\n",
              " 'exitos2009',\n",
              " 'kVczcljg4OA25Aeb',\n",
              " 'asgaliu11',\n",
              " 'bozoxik602',\n",
              " 'd04m11',\n",
              " '3y6iwef2g6',\n",
              " 'zoobike04',\n",
              " 'w9209640',\n",
              " 'elyass15@ajilent-ci',\n",
              " 'lamborghin1',\n",
              " '26522876p',\n",
              " '52558000aaa',\n",
              " 'p@sslng2diword',\n",
              " 'jytifok873',\n",
              " 'as326159',\n",
              " 'icap12',\n",
              " '26522876p',\n",
              " 'kswa2mrv',\n",
              " 'hayhayq2',\n",
              " 'ass359',\n",
              " 'taurofive16',\n",
              " 'qn5xpg3k00',\n",
              " 'vehat387',\n",
              " 'bgrvl80',\n",
              " 'as326159',\n",
              " 'go7kew7a2po',\n",
              " 'znbl5tj1',\n",
              " 'g067057895',\n",
              " '52558000aaa',\n",
              " 'mazdarx7',\n",
              " 'kayal123',\n",
              " 'cigicigi123',\n",
              " 'owote852',\n",
              " 'pHyqueDIyNQ8vmhb',\n",
              " 'bozoxik602',\n",
              " 'yu4cmn',\n",
              " 'fnmsdha476',\n",
              " '26522876p',\n",
              " 'fk9qi21m',\n",
              " 'ebacuro434',\n",
              " 'barboza221294',\n",
              " 'teemteem97',\n",
              " '123477889a',\n",
              " '0870330135a',\n",
              " 'k9b8cz6aj2',\n",
              " 'sanki1',\n",
              " 'a0972986650',\n",
              " 'ass359',\n",
              " 'pikey231',\n",
              " '1972vishara',\n",
              " 'g3rappa',\n",
              " 'AVYq1lDE4MgAZfNt',\n",
              " 'jytifok873',\n",
              " 'v10rica',\n",
              " 'fnmsdha476',\n",
              " 'metopelo1623',\n",
              " '3y6iwef2g6',\n",
              " '7mV0pKTA3MgHy8Jv',\n",
              " 'asv5o9yu',\n",
              " '2fakjv',\n",
              " 'snolyuj04',\n",
              " 'juliel009',\n",
              " '147963asd',\n",
              " 'j09000',\n",
              " '123maxbala',\n",
              " 'sbaUsoTA1OAzuevI',\n",
              " 'wibi182d',\n",
              " 'sbl571017',\n",
              " 'hpqkoxsn5',\n",
              " 'AVYq1lDE4MgAZfNt',\n",
              " 'ldteugao6',\n",
              " 'lrhxmevb620',\n",
              " 'farrukhcse12',\n",
              " 'klara-tershina3H',\n",
              " 'sbl571017',\n",
              " 'IjUcOtYqAwel725',\n",
              " 'pato221182',\n",
              " 'fahad123',\n",
              " 'IjUcOtYqAwel725',\n",
              " 'w9209640',\n",
              " 'sarahi1628',\n",
              " 'holamundo1',\n",
              " 'mohantra1',\n",
              " '7942vikas',\n",
              " 'kinga22',\n",
              " 'megzy123',\n",
              " 'barboza221294',\n",
              " 'jytifok873',\n",
              " 'pikey231',\n",
              " 'khmer100.03278&?><Mnb',\n",
              " 'kuntz80',\n",
              " 'gill02',\n",
              " 'yu4cmn',\n",
              " 'z7zbgIDkzMQeHUd9',\n",
              " 'intel1',\n",
              " 'bgrvl80',\n",
              " 'il0vey0u',\n",
              " 'sbaUsoTA1OAzuevI',\n",
              " 'tucagu356',\n",
              " 'oekojWyH120063',\n",
              " 'wycinu436',\n",
              " 'sknq7m0',\n",
              " 'teemteem97',\n",
              " '838188linh',\n",
              " 'sanki1',\n",
              " '123477889a',\n",
              " 'marita1',\n",
              " 'vuqADUSatAJO800',\n",
              " 'krumbul123',\n",
              " 'virush1n1',\n",
              " '6tequila6',\n",
              " 'demon10',\n",
              " 'koabcswzt3',\n",
              " 'lzhzad1989',\n",
              " 'bugatti01',\n",
              " '3y6iwef2g6',\n",
              " 'sydney213',\n",
              " 'yu4cmn',\n",
              " 'il0vey0u',\n",
              " 'klara-tershina3H',\n",
              " 'mickael12',\n",
              " 'mathilde54550',\n",
              " 'barra23',\n",
              " 'il0vey0u',\n",
              " 'ldteugao6',\n",
              " 'mmm23mm',\n",
              " 'llahetihw1',\n",
              " 'tahseen75',\n",
              " 'koabcswzt3',\n",
              " 'balamuc123',\n",
              " '2021848709.',\n",
              " 's4m2dx9e6',\n",
              " 'ejeko677',\n",
              " 'gill02',\n",
              " '123477889a',\n",
              " 'tia150979',\n",
              " 'ejeko677',\n",
              " 'hisnipes1',\n",
              " '1katertje',\n",
              " 'u6c8vhow',\n",
              " 'kayal123',\n",
              " 'ubojig109',\n",
              " 'khaled12',\n",
              " 'clyioqzgw42',\n",
              " 'mario489800',\n",
              " 'josue12',\n",
              " 'jytifok873',\n",
              " 'afavin964',\n",
              " 'ppnyadam09',\n",
              " 'go7kew7a2po',\n",
              " '1597535youssi',\n",
              " 'gaymaids1',\n",
              " 'www32223222',\n",
              " 'xW8-3w7-MFB-CKH',\n",
              " 'ram@!sita15392',\n",
              " 'djngeyut2707',\n",
              " 'afavin964',\n",
              " 'pikey231',\n",
              " 'ok>bdk',\n",
              " 'mayur@8netinfotech',\n",
              " 'jytifok873',\n",
              " 'zoobike04',\n",
              " '7942vikas',\n",
              " 'ubojig109',\n",
              " 'cockw0mble',\n",
              " 'jUV4dSDQwNwPpA36',\n",
              " 'alchimie79',\n",
              " 'yuri110995',\n",
              " '0169395484a',\n",
              " 'teemteem97',\n",
              " '2021848709.',\n",
              " 'xp;ysmybst',\n",
              " '52558000aaa',\n",
              " 'xyws951753',\n",
              " 'kino3434',\n",
              " 'mickael12',\n",
              " 'hosna1368',\n",
              " 'gdfn76',\n",
              " 'faranumar91',\n",
              " 'AS0130066',\n",
              " 'oioo9og',\n",
              " '1qa2ws3ed4rf',\n",
              " 'kswa2mrv',\n",
              " 'e667794c1d',\n",
              " 'atigi839',\n",
              " 'a110804032',\n",
              " 'bozoxik602',\n",
              " 'barboza221294',\n",
              " 'ns2b0727',\n",
              " 'vietnga92',\n",
              " 'mickael12',\n",
              " 'lzhzad1989',\n",
              " '283671gus',\n",
              " 'XqMB7vDMzOQocAFV',\n",
              " 'frhnsvelhfr1',\n",
              " 'kitty555',\n",
              " 'mike09',\n",
              " 'obstacle25',\n",
              " 'hodygid757',\n",
              " 'intel1',\n",
              " 'memjan123',\n",
              " 'z7zbgIDkzMQeHUd9',\n",
              " 'poseidon2011',\n",
              " 'metopelo1623',\n",
              " '746xitEGiqObog',\n",
              " 'AS0130066',\n",
              " 'khaled12',\n",
              " 'kinga22',\n",
              " 'zgmfnwuq25',\n",
              " '64959rodro',\n",
              " 'ts34a3fodh3i',\n",
              " 'oatcake87',\n",
              " 'sydney213',\n",
              " '123nicole',\n",
              " 'virush1n1',\n",
              " 'zidadoh258',\n",
              " 'uxyloga692',\n",
              " 'afs34214',\n",
              " 'a2531106',\n",
              " 'mayur@8netinfotech',\n",
              " 't8IkFRDIxMAFV2JW',\n",
              " 'gtlek',\n",
              " 'alchimie79',\n",
              " 'k1k2k3k4k5k6',\n",
              " 'isqizkg1',\n",
              " 'autan88',\n",
              " 'TyWM72UNEex8Q8Y',\n",
              " 'peluchin4',\n",
              " 'calcifer32',\n",
              " 'snolyuj04',\n",
              " 'kinga22',\n",
              " 'sydney213',\n",
              " 'gill02',\n",
              " 'jr88072635',\n",
              " 'hqh2eYjQxOQPYIsA',\n",
              " 'pato221182',\n",
              " 'teste10',\n",
              " 'gtlek',\n",
              " '1katertje',\n",
              " '1katertje',\n",
              " 'khaled12',\n",
              " 'finisterra1',\n",
              " 'krishna2',\n",
              " 'sarahi1628',\n",
              " 'lymuvop730',\n",
              " 'XqMB7vDMzOQocAFV',\n",
              " 'jUV4dSDQwNwPpA36',\n",
              " 'icap12',\n",
              " 'desmondkok21',\n",
              " 'sanki1',\n",
              " 'nokia6020',\n",
              " '159951josh',\n",
              " 'saule123',\n",
              " '2GnTStTE4Mw4MTwv',\n",
              " 'igejasy712',\n",
              " 'virush1n1',\n",
              " 'tahseen75',\n",
              " 'RqsuUsDYxNgr8T40',\n",
              " '0VKWoODkwOAc0pZK',\n",
              " 'ts34a3fodh3i',\n",
              " 'seller1',\n",
              " 'faranumar91',\n",
              " 'peluchin4',\n",
              " 'xanyrum650',\n",
              " 'may112001',\n",
              " 'oekojWyH120063',\n",
              " 'khmer100.03278&?><Mnb',\n",
              " 'www32223222',\n",
              " 'k1k2k3k4k5k6',\n",
              " 'ejeko677',\n",
              " 'graciela2',\n",
              " 'studenko123',\n",
              " 'IjUcOtYqAwel725',\n",
              " 'z7zbgIDkzMQeHUd9',\n",
              " 'tomas7896',\n",
              " 'isqizkg1',\n",
              " 'gutergut599',\n",
              " 'tamanagung6',\n",
              " 'tamanagung6',\n",
              " 'v1118714',\n",
              " 'vuqADUSatAJO800',\n",
              " 'mathilde54550',\n",
              " 'X9WVojjE4MgVAIiR',\n",
              " 'hpqkoxsn5',\n",
              " 'lofebop480',\n",
              " 'p2share',\n",
              " 'sbaUsoTA1OAzuevI',\n",
              " 'ebogel225',\n",
              " 'alchimie79',\n",
              " 'mathilde54550',\n",
              " 'pekai2004',\n",
              " 's4m2dx9e6',\n",
              " '3CgRg8DA1NQY1iEj',\n",
              " '1katertje',\n",
              " '4fqa52vecr',\n",
              " 'denise18',\n",
              " 'peluchin4',\n",
              " 'asakapa22',\n",
              " 'cUFUSYKIPuGo024',\n",
              " 'teemteem97',\n",
              " '1972vishara',\n",
              " 'tukaxo486',\n",
              " 'bencike7',\n",
              " '1234159hero',\n",
              " 'barboza221294',\n",
              " 'gutergut599',\n",
              " 'satelite31',\n",
              " 'terrassa6',\n",
              " 'prisonbreak1',\n",
              " 'pugceya468',\n",
              " 'kunyukbabi69',\n",
              " 'finisterra1',\n",
              " 'tia150979',\n",
              " '2021848709.',\n",
              " 'sono11',\n",
              " '33kanun03',\n",
              " 'qn5xpg3k00',\n",
              " 'ram@!sita15392',\n",
              " '64959rodro',\n",
              " 'koabcswzt3',\n",
              " 'cdann123',\n",
              " 'patri1973',\n",
              " 'cUFUSYKIPuGo024',\n",
              " 'c3h8bkzr',\n",
              " 'lzhzad1989',\n",
              " 'tahseen75',\n",
              " 'deryxi704',\n",
              " 'lrhxmevb620',\n",
              " 'killer5',\n",
              " 'd4xQ3LjUwMQFVCYQ',\n",
              " 'clave08',\n",
              " 'fr8OClDY1MAdEhHa',\n",
              " '3f5xd41l0ik7',\n",
              " 'arigato3',\n",
              " 'kry1z9',\n",
              " 'sasuke4',\n",
              " 'pato221182',\n",
              " 'VMjz4eTkxNAbOyUU',\n",
              " 'wisal1234',\n",
              " 'we34dar88',\n",
              " 'princ3sa',\n",
              " 'as326159',\n",
              " 'clyioqzgw42',\n",
              " 'hqh2eYjQxOQPYIsA',\n",
              " '0870330135a',\n",
              " 'meriton23',\n",
              " 'folashade1',\n",
              " 'upomel180',\n",
              " '52558000aaa',\n",
              " 'aslpls2009',\n",
              " 'jUV4dSDQwNwPpA36',\n",
              " 'ns2b0727',\n",
              " 'servbot88',\n",
              " 'josue12',\n",
              " 'xyws951753',\n",
              " 'asdasdf1',\n",
              " '12345yolanda',\n",
              " 'tim80327',\n",
              " 'nK0yKXTU0NQHZE2e',\n",
              " 'khaled12',\n",
              " 'acetita478',\n",
              " 'lollies1989',\n",
              " 'wycinu436',\n",
              " 'xanyrum650',\n",
              " 'uziwocy148',\n",
              " '3f5xd41l0ik7',\n",
              " '64whbrb351',\n",
              " 'kikeq102',\n",
              " 'tamanagung6',\n",
              " 'deryxi704',\n",
              " 'z888888',\n",
              " 'Oshity07142014',\n",
              " '7942vikas',\n",
              " 'coy29061994',\n",
              " 'v1118714',\n",
              " 'kyxvufl37',\n",
              " 'tspirits08',\n",
              " 'jsm159167',\n",
              " 'wuzyci421',\n",
              " 'caramelo9',\n",
              " 'limichan99',\n",
              " 'njmania114',\n",
              " 'BsKbJHTY4NgesCOs',\n",
              " 'olmaz.',\n",
              " 'amandine666',\n",
              " '600eretz',\n",
              " 'witek1709',\n",
              " 'hqh2eYjQxOQPYIsA',\n",
              " 'yami12',\n",
              " 'muoaqxwc21',\n",
              " 'ekufite742',\n",
              " 'lsdlsd1',\n",
              " '16731673ir',\n",
              " 'yqugu927',\n",
              " 'ldteugao6',\n",
              " 'viri13',\n",
              " 'gtlek',\n",
              " 'k9b8cz6aj2',\n",
              " 'cristiano7',\n",
              " 'woogee04',\n",
              " 'woogee04',\n",
              " 'wxS2ztDk4OATjBfI',\n",
              " '101010hadis',\n",
              " 'www32223222',\n",
              " 'ok>bdk',\n",
              " 'kah4544875',\n",
              " 'rntprns7',\n",
              " 'bjolgvhs69',\n",
              " 'RPFUOUDQwMwVW0AS',\n",
              " 'seng987321',\n",
              " 'yhwbzci130',\n",
              " 'mega0109',\n",
              " 'yy4129',\n",
              " 'sebax2013',\n",
              " 'vietnga92',\n",
              " 'bjolgvhs69',\n",
              " '1972vishara',\n",
              " 'z7zbgIDkzMQeHUd9',\n",
              " 'kevin24',\n",
              " 'satelite31',\n",
              " '64whbrb351',\n",
              " 'princ3sa',\n",
              " 'yqugu927',\n",
              " 'gozv3e5',\n",
              " 'znbl5tj1',\n",
              " 'kyxvufl37',\n",
              " 'eth36498',\n",
              " '07dpv1127b',\n",
              " 'gill02',\n",
              " '2fakjv',\n",
              " 'xve33ea',\n",
              " 'ok>bdk',\n",
              " 'ebogel225',\n",
              " 'kahcyxvj24',\n",
              " 'qwekl12',\n",
              " 'examy624',\n",
              " 'z3ro1sm',\n",
              " 'asakapa22',\n",
              " 'wisal1234',\n",
              " 'Jovan13lovekenthjusvan4ever',\n",
              " 'faqih82',\n",
              " 'potatobus150',\n",
              " '1qa2ws3ed4r',\n",
              " 'kinga22',\n",
              " 'zgmfnwuq25',\n",
              " 'gopal8420',\n",
              " 'zcsntdmhe098',\n",
              " 's4m2dx9e6',\n",
              " 'yllime123',\n",
              " 'ginger972',\n",
              " 'rntprns7',\n",
              " 'avanakit72',\n",
              " 'sanjaime1',\n",
              " 'mathilde54550',\n",
              " 'WUt9IZzE0OQ7PkNE',\n",
              " 'bugatti01',\n",
              " '1qa2ws3ed4r',\n",
              " 'juany57',\n",
              " 'oscar69',\n",
              " 'hpqkoxsn5',\n",
              " 'Staterkom20081993',\n",
              " 'L2i2ZwTg1MQajeBm',\n",
              " 'pacific52',\n",
              " 'alchimie79',\n",
              " 'edcmki90',\n",
              " 'aio42fv',\n",
              " 'cyborged69',\n",
              " 'bc5e4vca',\n",
              " 'parvizrus13',\n",
              " 'khurram_',\n",
              " 'shotiko18',\n",
              " 'demon10',\n",
              " 'AS0130066',\n",
              " '0112358mayin0',\n",
              " 'virush1n1',\n",
              " 'v1s2c3456',\n",
              " 'viri13',\n",
              " 'ginger972',\n",
              " '248sUqiFEJuRag',\n",
              " 'DTUQG5jU5MwmR1L9',\n",
              " 'wuzyci421',\n",
              " 'wasanun13',\n",
              " 'kdl9cl53',\n",
              " 'anon13',\n",
              " 'junaid5',\n",
              " 'faranumar91',\n",
              " 'jeeves123',\n",
              " 'qopybuxi2',\n",
              " 'urban1',\n",
              " 'rqmswof2llb0',\n",
              " 'hasan18',\n",
              " '123456ts',\n",
              " '2GnTStTE4Mw4MTwv',\n",
              " 'natalia12',\n",
              " 'adminmao888',\n",
              " 'kenyu001',\n",
              " 'tukaxo486',\n",
              " 'Iamthelegend1!',\n",
              " 'iubat09',\n",
              " 'polo2014',\n",
              " 'zendegi2me',\n",
              " 'pedronha96',\n",
              " 'g3rappa',\n",
              " 'jytifok873',\n",
              " 'sd6x9s3s',\n",
              " 'qn5xpg3k00',\n",
              " 'cristiano7',\n",
              " '4TXr5KDYxNQVTo4g',\n",
              " 'parent777',\n",
              " 'iacool99',\n",
              " '01161590m',\n",
              " 'YADHJIGSAWS11',\n",
              " 'elabadmin1386',\n",
              " 'aqyba894',\n",
              " 'sw10d014',\n",
              " 'diarie1',\n",
              " 'nebunule2',\n",
              " 'padhila30',\n",
              " 'jerusalem393',\n",
              " 'BZVQZBTM1MApRV7s',\n",
              " 'utuham322',\n",
              " 'ppnyadam09',\n",
              " 'megzy123',\n",
              " 'uou2dae',\n",
              " 'pukiw102',\n",
              " 'azizi120583',\n",
              " 'djngeyut2707',\n",
              " '600eretz',\n",
              " 'go7kew7a2po',\n",
              " 'rqmswof2llb0',\n",
              " 'zb08110229',\n",
              " 'v8porwar3',\n",
              " '20010509wang',\n",
              " 'nello11',\n",
              " 'pardalgg5',\n",
              " 'zoobike04',\n",
              " 'fnmsdha476',\n",
              " 'teste10',\n",
              " 'mickael12',\n",
              " 'gandhi8513',\n",
              " 'kuntz80',\n",
              " 'sebax2013',\n",
              " 'VMjz4eTkxNAbOyUU',\n",
              " 'igejasy712',\n",
              " '4TXr5KDYxNQVTo4g',\n",
              " 'xyws951753',\n",
              " 'Scipio21152030067254',\n",
              " '1qa2ws3ed4r',\n",
              " 'kenyu001',\n",
              " 'fudijep286',\n",
              " 'exitos2009',\n",
              " 'fudijep286',\n",
              " 'lofebop480',\n",
              " 'cifinew817',\n",
              " 'sebax2013',\n",
              " 'utuham322',\n",
              " 'tia150979',\n",
              " 'cockw0mble',\n",
              " 'koulapic33',\n",
              " 'bang6k',\n",
              " '215466kenyi',\n",
              " 'yv3hpf',\n",
              " 'byeypb2',\n",
              " 'puegwajy416',\n",
              " 'ufoduvo540',\n",
              " 'n501iomf',\n",
              " 'ycqtgdso3',\n",
              " 'UF1Z2WjE5Mg26R1K',\n",
              " 'stalucia66',\n",
              " 'control9',\n",
              " 'yut0838828185',\n",
              " 'speedracer10',\n",
              " 'megdam55',\n",
              " 'holamundo1',\n",
              " 'ubojig109',\n",
              " 'colorado27',\n",
              " 'koulapic33',\n",
              " 'yeko69',\n",
              " 'taulant123',\n",
              " 'ypodahe201',\n",
              " 'studenko123',\n",
              " 'Staterkom20081993',\n",
              " 'kP82iqDMxNgBMxBP',\n",
              " '101010hadis',\n",
              " 'bozoxik602',\n",
              " 'owary200',\n",
              " 'X9WVojjE4MgVAIiR',\n",
              " '01161590m',\n",
              " 'sbnivetha123',\n",
              " '20Dgw7TQ0OQVdly7',\n",
              " 'khurram_',\n",
              " 'clave2013',\n",
              " 'spl51190595',\n",
              " 'pizxmwaos537',\n",
              " 'visi7k1yr',\n",
              " 'topgan22',\n",
              " 'ypodahe201',\n",
              " 'Staterkom20081993',\n",
              " 'qefoquf1uf',\n",
              " 'lamborghin1',\n",
              " 'x8512514',\n",
              " 'satrjcrj6',\n",
              " 'korea2010',\n",
              " 'puegwajy416',\n",
              " 'herherher1',\n",
              " 'servbot88',\n",
              " 'jannia5',\n",
              " 'pikey231',\n",
              " 'wibi182d',\n",
              " 'ci0n3exor',\n",
              " 'padhila30',\n",
              " '847XagYxUHUXOW',\n",
              " 'ab11223344',\n",
              " 'mehmet4524572',\n",
              " 'oioo9og',\n",
              " 'satrjcrj6',\n",
              " 'virush1n1',\n",
              " '1w2e3s4l5e6y',\n",
              " 'oscar2002',\n",
              " 'xf6385494',\n",
              " 'komorek11',\n",
              " 'pardalgg5',\n",
              " 'sasuke4',\n",
              " 'pukiw102',\n",
              " 'juany57',\n",
              " 'carla99',\n",
              " 'webhostv1t1n',\n",
              " 'JEQuloqOFUd102',\n",
              " 'vietnga92',\n",
              " 'ts34a3fodh3i',\n",
              " 'matiofox08',\n",
              " 'paola1995',\n",
              " 'webhost08',\n",
              " 'hello2104',\n",
              " 'fahad123',\n",
              " 'sanjaime1',\n",
              " 'satrjcrj6',\n",
              " 'holamundo1',\n",
              " 'YADHJIGSAWS11',\n",
              " '64959rodro',\n",
              " 'speedracer10',\n",
              " 'p2share',\n",
              " 'kVczcljg4OA25Aeb',\n",
              " 'samael666',\n",
              " 'm4r4hne',\n",
              " 'asdasdf1',\n",
              " 'shH3t7TcyOQwKRLt',\n",
              " 'goony01',\n",
              " 'nLIGyhTU1NQTAp6u',\n",
              " 'hpqkoxsn5',\n",
              " 'mathilde54550',\n",
              " '07dpv1127b',\n",
              " 'bjolgvhs69',\n",
              " 'uziwocy148',\n",
              " 'islamasma12',\n",
              " 'a2531106',\n",
              " 'pxjwmeqyn5',\n",
              " 'designer1206',\n",
              " 'nello11',\n",
              " 'gandhi8513',\n",
              " '1ug2UKzQyMQBsleD',\n",
              " '94311163nobp',\n",
              " 'pap0spep0s',\n",
              " '20Dgw7TQ0OQVdly7',\n",
              " 'hola45',\n",
              " '000webhostcom',\n",
              " '9950twofour0',\n",
              " 'ym2130104',\n",
              " 'luthien123',\n",
              " '1qa2ws3ed4r',\n",
              " 'ixohupo747',\n",
              " 'qn5xpg3k00',\n",
              " 'k9b8cz6aj2',\n",
              " '1597535youssi',\n",
              " 'examy624',\n",
              " 'v1118714',\n",
              " 'designer1206',\n",
              " 'j2yj2yj2y',\n",
              " 'tim80327',\n",
              " 'BB11227122',\n",
              " 'deivid1991',\n",
              " 'demon10',\n",
              " 'password0880',\n",
              " 'a03242241431a',\n",
              " 'Jovan13lovekenthjusvan4ever',\n",
              " 'Zanekurosak10%',\n",
              " 'krishna2',\n",
              " 'fbjurcd961',\n",
              " 'eth36498',\n",
              " 'a0972986650',\n",
              " '3vszncp4',\n",
              " 'exusop649',\n",
              " 'witek1709',\n",
              " '12345687vini',\n",
              " 'goony01',\n",
              " '26522876p',\n",
              " '2652033abc',\n",
              " 'vuqADUSatAJO800',\n",
              " 'alodise603',\n",
              " 'yzxwvgbdu503',\n",
              " 'g3rappa',\n",
              " 'cifinew817',\n",
              " 'faqih82',\n",
              " 'markama10',\n",
              " 'cyborged69',\n",
              " 'hello2104',\n",
              " '16731673ir',\n",
              " '12345yolanda',\n",
              " 'designer1206',\n",
              " 'itengf12',\n",
              " 'juliel009',\n",
              " 'u03kz6ez',\n",
              " 'rakag279',\n",
              " 'hello2104',\n",
              " 'ebacuro434',\n",
              " 'Zanekurosak10%',\n",
              " '27121995qw',\n",
              " 'Jovan13lovekenthjusvan4ever',\n",
              " 'igoj0w740luj',\n",
              " 'arigato3',\n",
              " '69556236gu',\n",
              " 'oscar69',\n",
              " 'lollies1989',\n",
              " 'clyioqzgw42',\n",
              " 'satelite31',\n",
              " '52756652a',\n",
              " 'rrilni1747',\n",
              " 'jsm159167',\n",
              " 'lugerp08',\n",
              " 'aquhih220',\n",
              " 'jkprm45',\n",
              " 'yuri110995',\n",
              " 'poseidon2011',\n",
              " 'hamqrc6',\n",
              " 'mayur@8netinfotech',\n",
              " 'willboss13',\n",
              " 'mzhrmir786',\n",
              " '3clrcaevu7',\n",
              " 'hot622204',\n",
              " 'koabcswzt3',\n",
              " 'woaini0',\n",
              " 'xp;ysmybst',\n",
              " 'jorge1489',\n",
              " 'tin030201',\n",
              " 'akfrdma813',\n",
              " 'owataantena1',\n",
              " 'ok>bdk',\n",
              " '1972vishara',\n",
              " 'rntprns7',\n",
              " 'zmstkfka12',\n",
              " '123477889a',\n",
              " 'orysex325',\n",
              " 'lollies1989',\n",
              " 'skoda06',\n",
              " 'xzeyfbi495',\n",
              " 'potatobus150',\n",
              " 'olyucskw52',\n",
              " 'yami12',\n",
              " 'zeeshanbhai1',\n",
              " 'lsdlsd1',\n",
              " 'tukaxo486',\n",
              " 'kashyn777',\n",
              " 'RJXDk1zEyMwpyq0U',\n",
              " 'wasanun13',\n",
              " 'YanH2kzgxMw1AsXA',\n",
              " 'xzeyfbi495',\n",
              " 'nikolas369',\n",
              " 'a1233210',\n",
              " 'mdaffandi74',\n",
              " 'jbiz04h4',\n",
              " 'sanjaime1',\n",
              " 'jbiz04h4',\n",
              " 'gopal8420',\n",
              " 'jl440033',\n",
              " 'ewvjbilan4',\n",
              " 'juliel009',\n",
              " 'chuno8704',\n",
              " 'colorado27',\n",
              " 'cyborged69',\n",
              " 'tiga33',\n",
              " 'kyxvufl37',\n",
              " 'vijay1995',\n",
              " 'ebogel225',\n",
              " 'frhnsvelhfr1',\n",
              " 'sha122511',\n",
              " 'uuuu123',\n",
              " 'olumide1',\n",
              " 'a110804032',\n",
              " 'pato221182',\n",
              " 'e667794c1d',\n",
              " 'ns2b0727',\n",
              " 'snolyuj04',\n",
              " 'la3na4you',\n",
              " 'khmer100.03278&?><Mnb',\n",
              " 'faisal213',\n",
              " 'creeped12',\n",
              " 'kXzWOozU2MQ1Jv1h',\n",
              " 'tot2531s',\n",
              " 'IjUcOtYqAwel725',\n",
              " 'markama10',\n",
              " 'faqih82',\n",
              " 'berserk18',\n",
              " 'a03242241431a',\n",
              " 'kdl9cl53',\n",
              " 'pmcm110118008',\n",
              " 'owary200',\n",
              " 'meriton23',\n",
              " 'jEzZXUTE3MgJ4fVk',\n",
              " 'rsuvxz08b',\n",
              " '123963rio',\n",
              " 'xtswdypgh936',\n",
              " '2akira2',\n",
              " 'wuzyci421',\n",
              " 'kdl9cl53',\n",
              " 'cdann123',\n",
              " ...]"
            ]
          },
          "metadata": {
            "tags": []
          },
          "execution_count": 15
        }
      ]
    },
    {
      "cell_type": "markdown",
      "metadata": {
        "id": "VvkgqkIm9oIn"
      },
      "source": [
        "#### create a custom function to split input into characters of list"
      ]
    },
    {
      "cell_type": "code",
      "metadata": {
        "id": "0C_Tyqa79oIn"
      },
      "source": [
        "def word_divide_char(inputs):\n",
        "    character=[]\n",
        "    for i in inputs:\n",
        "        character.append(i)\n",
        "    return character"
      ],
      "execution_count": 16,
      "outputs": []
    },
    {
      "cell_type": "code",
      "metadata": {
        "colab": {
          "base_uri": "https://localhost:8080/"
        },
        "id": "gG5zjSmT9oIo",
        "outputId": "a4f5fbc5-a01e-47f3-ade9-8a28a7994e79"
      },
      "source": [
        "word_divide_char('kzde5577')"
      ],
      "execution_count": 17,
      "outputs": [
        {
          "output_type": "execute_result",
          "data": {
            "text/plain": [
              "['k', 'z', 'd', 'e', '5', '5', '7', '7']"
            ]
          },
          "metadata": {
            "tags": []
          },
          "execution_count": 17
        }
      ]
    },
    {
      "cell_type": "markdown",
      "metadata": {
        "id": "BiA2ZJz59oIo"
      },
      "source": [
        "#### import TF-IDF vectorizer to convert String data into numerical data"
      ]
    },
    {
      "cell_type": "code",
      "metadata": {
        "id": "0VTsIpQK9oIp"
      },
      "source": [
        "from sklearn.feature_extraction.text import TfidfVectorizer"
      ],
      "execution_count": 18,
      "outputs": []
    },
    {
      "cell_type": "code",
      "metadata": {
        "id": "gwOvUmjn9oIp"
      },
      "source": [
        "vectorizer=TfidfVectorizer(tokenizer=word_divide_char)"
      ],
      "execution_count": 19,
      "outputs": []
    },
    {
      "cell_type": "markdown",
      "metadata": {
        "id": "2W2BI81i9oIp"
      },
      "source": [
        "#### apply TF-IDF vectorizer on data"
      ]
    },
    {
      "cell_type": "code",
      "metadata": {
        "id": "mtwzGYtT9oIq"
      },
      "source": [
        "X=vectorizer.fit_transform(x)"
      ],
      "execution_count": 20,
      "outputs": []
    },
    {
      "cell_type": "code",
      "metadata": {
        "colab": {
          "base_uri": "https://localhost:8080/"
        },
        "id": "d9rg1s_o9oIq",
        "outputId": "a8d2cc08-2b9e-4c29-ad7b-3b620586a026"
      },
      "source": [
        "X.shape"
      ],
      "execution_count": 21,
      "outputs": [
        {
          "output_type": "execute_result",
          "data": {
            "text/plain": [
              "(669639, 131)"
            ]
          },
          "metadata": {
            "tags": []
          },
          "execution_count": 21
        }
      ]
    },
    {
      "cell_type": "code",
      "metadata": {
        "colab": {
          "base_uri": "https://localhost:8080/"
        },
        "id": "3RCJR2tf9oIr",
        "outputId": "29697f45-c53e-4355-b6c6-a03699860751"
      },
      "source": [
        "vectorizer.get_feature_names()"
      ],
      "execution_count": 22,
      "outputs": [
        {
          "output_type": "execute_result",
          "data": {
            "text/plain": [
              "['\\x05',\n",
              " '\\x06',\n",
              " '\\x08',\n",
              " '\\x10',\n",
              " '\\x11',\n",
              " '\\x12',\n",
              " '\\x13',\n",
              " '\\x16',\n",
              " '\\x17',\n",
              " '\\x19',\n",
              " '\\x1b',\n",
              " '\\x1c',\n",
              " '\\x1d',\n",
              " '\\x1e',\n",
              " ' ',\n",
              " '!',\n",
              " '\"',\n",
              " '#',\n",
              " '$',\n",
              " '%',\n",
              " '&',\n",
              " '(',\n",
              " ')',\n",
              " '*',\n",
              " '+',\n",
              " '-',\n",
              " '.',\n",
              " '/',\n",
              " '0',\n",
              " '1',\n",
              " '2',\n",
              " '3',\n",
              " '4',\n",
              " '5',\n",
              " '6',\n",
              " '7',\n",
              " '8',\n",
              " '9',\n",
              " ';',\n",
              " '<',\n",
              " '=',\n",
              " '>',\n",
              " '?',\n",
              " '@',\n",
              " '[',\n",
              " '\\\\',\n",
              " ']',\n",
              " '^',\n",
              " '_',\n",
              " '`',\n",
              " 'a',\n",
              " 'b',\n",
              " 'c',\n",
              " 'd',\n",
              " 'e',\n",
              " 'f',\n",
              " 'g',\n",
              " 'h',\n",
              " 'i',\n",
              " 'j',\n",
              " 'k',\n",
              " 'l',\n",
              " 'm',\n",
              " 'n',\n",
              " 'o',\n",
              " 'p',\n",
              " 'q',\n",
              " 'r',\n",
              " 's',\n",
              " 't',\n",
              " 'u',\n",
              " 'v',\n",
              " 'w',\n",
              " 'x',\n",
              " 'y',\n",
              " 'z',\n",
              " '{',\n",
              " '|',\n",
              " '}',\n",
              " '~',\n",
              " '\\x7f',\n",
              " '\\x81',\n",
              " '\\x8d',\n",
              " '¡',\n",
              " '¨',\n",
              " '°',\n",
              " '±',\n",
              " '²',\n",
              " '³',\n",
              " '´',\n",
              " 'µ',\n",
              " '¶',\n",
              " '·',\n",
              " '¹',\n",
              " 'º',\n",
              " '¼',\n",
              " '¾',\n",
              " '¿',\n",
              " '×',\n",
              " 'ß',\n",
              " 'à',\n",
              " 'á',\n",
              " 'â',\n",
              " 'ä',\n",
              " 'å',\n",
              " 'æ',\n",
              " 'ç',\n",
              " 'é',\n",
              " 'ê',\n",
              " 'í',\n",
              " 'î',\n",
              " 'ï',\n",
              " 'ð',\n",
              " 'ñ',\n",
              " 'ò',\n",
              " 'ó',\n",
              " 'ô',\n",
              " 'õ',\n",
              " 'ö',\n",
              " '÷',\n",
              " 'ú',\n",
              " 'û',\n",
              " 'ü',\n",
              " 'ý',\n",
              " 'þ',\n",
              " 'ÿ',\n",
              " 'œ',\n",
              " '—',\n",
              " '‚',\n",
              " '‹',\n",
              " '›']"
            ]
          },
          "metadata": {
            "tags": []
          },
          "execution_count": 22
        }
      ]
    },
    {
      "cell_type": "code",
      "metadata": {
        "colab": {
          "base_uri": "https://localhost:8080/"
        },
        "id": "fatDd_Sh9oIr",
        "outputId": "9fa14b41-4ff7-4f25-bab3-42211fb6acc1"
      },
      "source": [
        "first_document_vector=X[0]\n",
        "first_document_vector"
      ],
      "execution_count": 23,
      "outputs": [
        {
          "output_type": "execute_result",
          "data": {
            "text/plain": [
              "<1x131 sparse matrix of type '<class 'numpy.float64'>'\n",
              "\twith 6 stored elements in Compressed Sparse Row format>"
            ]
          },
          "metadata": {
            "tags": []
          },
          "execution_count": 23
        }
      ]
    },
    {
      "cell_type": "code",
      "metadata": {
        "colab": {
          "base_uri": "https://localhost:8080/"
        },
        "id": "jP_I7pht9oIs",
        "outputId": "dbe3679c-baf7-4754-ed9b-2de2f2c391bc"
      },
      "source": [
        "first_document_vector.T.todense()"
      ],
      "execution_count": 24,
      "outputs": [
        {
          "output_type": "execute_result",
          "data": {
            "text/plain": [
              "matrix([[0.        ],\n",
              "        [0.        ],\n",
              "        [0.        ],\n",
              "        [0.        ],\n",
              "        [0.        ],\n",
              "        [0.        ],\n",
              "        [0.        ],\n",
              "        [0.        ],\n",
              "        [0.        ],\n",
              "        [0.        ],\n",
              "        [0.        ],\n",
              "        [0.        ],\n",
              "        [0.        ],\n",
              "        [0.        ],\n",
              "        [0.        ],\n",
              "        [0.        ],\n",
              "        [0.        ],\n",
              "        [0.        ],\n",
              "        [0.        ],\n",
              "        [0.        ],\n",
              "        [0.        ],\n",
              "        [0.        ],\n",
              "        [0.        ],\n",
              "        [0.        ],\n",
              "        [0.        ],\n",
              "        [0.        ],\n",
              "        [0.        ],\n",
              "        [0.        ],\n",
              "        [0.        ],\n",
              "        [0.        ],\n",
              "        [0.        ],\n",
              "        [0.        ],\n",
              "        [0.        ],\n",
              "        [0.56710952],\n",
              "        [0.        ],\n",
              "        [0.59121191],\n",
              "        [0.        ],\n",
              "        [0.        ],\n",
              "        [0.        ],\n",
              "        [0.        ],\n",
              "        [0.        ],\n",
              "        [0.        ],\n",
              "        [0.        ],\n",
              "        [0.        ],\n",
              "        [0.        ],\n",
              "        [0.        ],\n",
              "        [0.        ],\n",
              "        [0.        ],\n",
              "        [0.        ],\n",
              "        [0.        ],\n",
              "        [0.        ],\n",
              "        [0.        ],\n",
              "        [0.        ],\n",
              "        [0.2853863 ],\n",
              "        [0.22147543],\n",
              "        [0.        ],\n",
              "        [0.        ],\n",
              "        [0.        ],\n",
              "        [0.        ],\n",
              "        [0.        ],\n",
              "        [0.29198668],\n",
              "        [0.        ],\n",
              "        [0.        ],\n",
              "        [0.        ],\n",
              "        [0.        ],\n",
              "        [0.        ],\n",
              "        [0.        ],\n",
              "        [0.        ],\n",
              "        [0.        ],\n",
              "        [0.        ],\n",
              "        [0.        ],\n",
              "        [0.        ],\n",
              "        [0.        ],\n",
              "        [0.        ],\n",
              "        [0.        ],\n",
              "        [0.33630692],\n",
              "        [0.        ],\n",
              "        [0.        ],\n",
              "        [0.        ],\n",
              "        [0.        ],\n",
              "        [0.        ],\n",
              "        [0.        ],\n",
              "        [0.        ],\n",
              "        [0.        ],\n",
              "        [0.        ],\n",
              "        [0.        ],\n",
              "        [0.        ],\n",
              "        [0.        ],\n",
              "        [0.        ],\n",
              "        [0.        ],\n",
              "        [0.        ],\n",
              "        [0.        ],\n",
              "        [0.        ],\n",
              "        [0.        ],\n",
              "        [0.        ],\n",
              "        [0.        ],\n",
              "        [0.        ],\n",
              "        [0.        ],\n",
              "        [0.        ],\n",
              "        [0.        ],\n",
              "        [0.        ],\n",
              "        [0.        ],\n",
              "        [0.        ],\n",
              "        [0.        ],\n",
              "        [0.        ],\n",
              "        [0.        ],\n",
              "        [0.        ],\n",
              "        [0.        ],\n",
              "        [0.        ],\n",
              "        [0.        ],\n",
              "        [0.        ],\n",
              "        [0.        ],\n",
              "        [0.        ],\n",
              "        [0.        ],\n",
              "        [0.        ],\n",
              "        [0.        ],\n",
              "        [0.        ],\n",
              "        [0.        ],\n",
              "        [0.        ],\n",
              "        [0.        ],\n",
              "        [0.        ],\n",
              "        [0.        ],\n",
              "        [0.        ],\n",
              "        [0.        ],\n",
              "        [0.        ],\n",
              "        [0.        ],\n",
              "        [0.        ],\n",
              "        [0.        ],\n",
              "        [0.        ],\n",
              "        [0.        ],\n",
              "        [0.        ]])"
            ]
          },
          "metadata": {
            "tags": []
          },
          "execution_count": 24
        }
      ]
    },
    {
      "cell_type": "code",
      "metadata": {
        "colab": {
          "base_uri": "https://localhost:8080/",
          "height": 419
        },
        "id": "zrhKRVcA9oIs",
        "outputId": "c0269221-e683-4e8d-879c-e488b4151e98"
      },
      "source": [
        "df=pd.DataFrame(first_document_vector.T.todense(),index=vectorizer.get_feature_names(),columns=['TF-IDF'])\n",
        "df.sort_values(by=['TF-IDF'],ascending=False)"
      ],
      "execution_count": 25,
      "outputs": [
        {
          "output_type": "execute_result",
          "data": {
            "text/html": [
              "<div>\n",
              "<style scoped>\n",
              "    .dataframe tbody tr th:only-of-type {\n",
              "        vertical-align: middle;\n",
              "    }\n",
              "\n",
              "    .dataframe tbody tr th {\n",
              "        vertical-align: top;\n",
              "    }\n",
              "\n",
              "    .dataframe thead th {\n",
              "        text-align: right;\n",
              "    }\n",
              "</style>\n",
              "<table border=\"1\" class=\"dataframe\">\n",
              "  <thead>\n",
              "    <tr style=\"text-align: right;\">\n",
              "      <th></th>\n",
              "      <th>TF-IDF</th>\n",
              "    </tr>\n",
              "  </thead>\n",
              "  <tbody>\n",
              "    <tr>\n",
              "      <th>7</th>\n",
              "      <td>0.591212</td>\n",
              "    </tr>\n",
              "    <tr>\n",
              "      <th>5</th>\n",
              "      <td>0.567110</td>\n",
              "    </tr>\n",
              "    <tr>\n",
              "      <th>z</th>\n",
              "      <td>0.336307</td>\n",
              "    </tr>\n",
              "    <tr>\n",
              "      <th>k</th>\n",
              "      <td>0.291987</td>\n",
              "    </tr>\n",
              "    <tr>\n",
              "      <th>d</th>\n",
              "      <td>0.285386</td>\n",
              "    </tr>\n",
              "    <tr>\n",
              "      <th>...</th>\n",
              "      <td>...</td>\n",
              "    </tr>\n",
              "    <tr>\n",
              "      <th>&lt;</th>\n",
              "      <td>0.000000</td>\n",
              "    </tr>\n",
              "    <tr>\n",
              "      <th>;</th>\n",
              "      <td>0.000000</td>\n",
              "    </tr>\n",
              "    <tr>\n",
              "      <th>9</th>\n",
              "      <td>0.000000</td>\n",
              "    </tr>\n",
              "    <tr>\n",
              "      <th>8</th>\n",
              "      <td>0.000000</td>\n",
              "    </tr>\n",
              "    <tr>\n",
              "      <th>›</th>\n",
              "      <td>0.000000</td>\n",
              "    </tr>\n",
              "  </tbody>\n",
              "</table>\n",
              "<p>131 rows × 1 columns</p>\n",
              "</div>"
            ],
            "text/plain": [
              "      TF-IDF\n",
              "7   0.591212\n",
              "5   0.567110\n",
              "z   0.336307\n",
              "k   0.291987\n",
              "d   0.285386\n",
              "..       ...\n",
              "<   0.000000\n",
              ";   0.000000\n",
              "9   0.000000\n",
              "8   0.000000\n",
              "›   0.000000\n",
              "\n",
              "[131 rows x 1 columns]"
            ]
          },
          "metadata": {
            "tags": []
          },
          "execution_count": 25
        }
      ]
    },
    {
      "cell_type": "markdown",
      "metadata": {
        "id": "Qh9buIXm9oIt"
      },
      "source": [
        "#### split data into train & test\n",
        "    train---> To learn the relationship within data, \n",
        "    test-->  To do predictions, and this testing data will be unseen to my model"
      ]
    },
    {
      "cell_type": "code",
      "metadata": {
        "id": "yWWadEEy9oIt"
      },
      "source": [
        "from sklearn.model_selection import train_test_split"
      ],
      "execution_count": 26,
      "outputs": []
    },
    {
      "cell_type": "code",
      "metadata": {
        "id": "Nfv1ytz39oIt"
      },
      "source": [
        "X_train, X_test, y_train, y_test=train_test_split(X,y,test_size=0.2)"
      ],
      "execution_count": 27,
      "outputs": []
    },
    {
      "cell_type": "code",
      "metadata": {
        "colab": {
          "base_uri": "https://localhost:8080/"
        },
        "id": "Q3VxXCNC9oIu",
        "outputId": "8c84ed15-a430-498f-d2fd-d4590e096f47"
      },
      "source": [
        "X_train.shape"
      ],
      "execution_count": 28,
      "outputs": [
        {
          "output_type": "execute_result",
          "data": {
            "text/plain": [
              "(535711, 131)"
            ]
          },
          "metadata": {
            "tags": []
          },
          "execution_count": 28
        }
      ]
    },
    {
      "cell_type": "code",
      "metadata": {
        "id": "OghEphIB9oIu"
      },
      "source": [
        "from sklearn.linear_model import LogisticRegression"
      ],
      "execution_count": 29,
      "outputs": []
    },
    {
      "cell_type": "markdown",
      "metadata": {
        "id": "9LbvTwv69oIv"
      },
      "source": [
        "#### Apply Logistic on data as use-cas is Classification"
      ]
    },
    {
      "cell_type": "code",
      "metadata": {
        "id": "Ev32ISmF9oIv"
      },
      "source": [
        "clf=LogisticRegression(random_state=0,multi_class='multinomial')"
      ],
      "execution_count": 30,
      "outputs": []
    },
    {
      "cell_type": "code",
      "metadata": {
        "colab": {
          "base_uri": "https://localhost:8080/"
        },
        "id": "er2o5Nn59oIv",
        "outputId": "1c43233a-3855-4ec1-e518-a82997de4505"
      },
      "source": [
        "clf.fit(X_train,y_train)"
      ],
      "execution_count": 31,
      "outputs": [
        {
          "output_type": "execute_result",
          "data": {
            "text/plain": [
              "LogisticRegression(C=1.0, class_weight=None, dual=False, fit_intercept=True,\n",
              "                   intercept_scaling=1, l1_ratio=None, max_iter=100,\n",
              "                   multi_class='multinomial', n_jobs=None, penalty='l2',\n",
              "                   random_state=0, solver='lbfgs', tol=0.0001, verbose=0,\n",
              "                   warm_start=False)"
            ]
          },
          "metadata": {
            "tags": []
          },
          "execution_count": 31
        }
      ]
    },
    {
      "cell_type": "markdown",
      "metadata": {
        "id": "M3dkFXTU9oIw"
      },
      "source": [
        "#### doing prediction for specific custom data"
      ]
    },
    {
      "cell_type": "code",
      "metadata": {
        "colab": {
          "base_uri": "https://localhost:8080/"
        },
        "id": "uxn9jcDw9oIw",
        "outputId": "2bd66055-eafb-46a6-c8cb-6affce841d2a"
      },
      "source": [
        "dt=np.array(['%@123abcd'])\n",
        "pred=vectorizer.transform(dt)\n",
        "clf.predict(pred)"
      ],
      "execution_count": 32,
      "outputs": [
        {
          "output_type": "execute_result",
          "data": {
            "text/plain": [
              "array([1])"
            ]
          },
          "metadata": {
            "tags": []
          },
          "execution_count": 32
        }
      ]
    },
    {
      "cell_type": "markdown",
      "metadata": {
        "id": "K6cK___l9oIx"
      },
      "source": [
        "#### doing prediction on X-Test data"
      ]
    },
    {
      "cell_type": "code",
      "metadata": {
        "colab": {
          "base_uri": "https://localhost:8080/"
        },
        "id": "E4SXlAsL9oIx",
        "outputId": "ea8ffe9c-3cc4-4792-9c20-12400dfc9091"
      },
      "source": [
        "y_pred=clf.predict(X_test)\n",
        "y_pred"
      ],
      "execution_count": 33,
      "outputs": [
        {
          "output_type": "execute_result",
          "data": {
            "text/plain": [
              "array([1, 1, 1, ..., 1, 1, 0])"
            ]
          },
          "metadata": {
            "tags": []
          },
          "execution_count": 33
        }
      ]
    },
    {
      "cell_type": "markdown",
      "metadata": {
        "id": "YLTlhlqI9oIy"
      },
      "source": [
        "#### check Accuracy of your model using confusion_matrix,accuracy_score"
      ]
    },
    {
      "cell_type": "code",
      "metadata": {
        "id": "LUGBrZ8Q9oIz"
      },
      "source": [
        "from sklearn.metrics import confusion_matrix,accuracy_score"
      ],
      "execution_count": 35,
      "outputs": []
    },
    {
      "cell_type": "code",
      "metadata": {
        "colab": {
          "base_uri": "https://localhost:8080/"
        },
        "id": "YyAF-OTZ9oIz",
        "outputId": "cd0e19d7-3d24-47e7-8a69-2b283cbf785f"
      },
      "source": [
        "cm=confusion_matrix(y_test,y_pred)\n",
        "print(cm)\n",
        "print(accuracy_score(y_test,y_pred))"
      ],
      "execution_count": 36,
      "outputs": [
        {
          "output_type": "stream",
          "text": [
            "[[ 5330 12754    24]\n",
            " [ 3607 92949  2636]\n",
            " [   34  5182 11412]]\n",
            "0.8190296278597455\n"
          ],
          "name": "stdout"
        }
      ]
    },
    {
      "cell_type": "markdown",
      "metadata": {
        "id": "wKiQE07k9oI0"
      },
      "source": [
        "##### create report of your model"
      ]
    },
    {
      "cell_type": "code",
      "metadata": {
        "colab": {
          "base_uri": "https://localhost:8080/"
        },
        "id": "clc8IRWc9oI0",
        "outputId": "bb17b2fe-dd4d-4650-f8b6-646493a096f7"
      },
      "source": [
        "from sklearn.metrics import classification_report\n",
        "print(classification_report(y_test,y_pred))"
      ],
      "execution_count": 37,
      "outputs": [
        {
          "output_type": "stream",
          "text": [
            "              precision    recall  f1-score   support\n",
            "\n",
            "           0       0.59      0.29      0.39     18108\n",
            "           1       0.84      0.94      0.88     99192\n",
            "           2       0.81      0.69      0.74     16628\n",
            "\n",
            "    accuracy                           0.82    133928\n",
            "   macro avg       0.75      0.64      0.67    133928\n",
            "weighted avg       0.80      0.82      0.80    133928\n",
            "\n"
          ],
          "name": "stdout"
        }
      ]
    }
  ]
}