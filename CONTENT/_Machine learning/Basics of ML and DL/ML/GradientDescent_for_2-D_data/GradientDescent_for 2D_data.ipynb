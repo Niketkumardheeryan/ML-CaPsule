{
 "cells": [
  {
   "cell_type": "code",
   "execution_count": 1,
   "metadata": {},
   "outputs": [],
   "source": [
    "import numpy as np"
   ]
  },
  {
   "cell_type": "code",
   "execution_count": 2,
   "metadata": {},
   "outputs": [
    {
     "data": {
      "text/plain": [
       "(100, 2)"
      ]
     },
     "execution_count": 2,
     "metadata": {},
     "output_type": "execute_result"
    }
   ],
   "source": [
    "data = np.loadtxt(\"data.csv\", delimiter=\",\")\n",
    "data.shape"
   ]
  },
  {
   "cell_type": "code",
   "execution_count": 3,
   "metadata": {},
   "outputs": [
    {
     "data": {
      "text/plain": [
       "numpy.ndarray"
      ]
     },
     "execution_count": 3,
     "metadata": {},
     "output_type": "execute_result"
    }
   ],
   "source": [
    "type(data)"
   ]
  },
  {
   "cell_type": "code",
   "execution_count": 16,
   "metadata": {
    "collapsed": true
   },
   "outputs": [],
   "source": [
    "def step_gradient(points, learning_rate, m , c):\n",
    "    m_slope = 0\n",
    "    c_slope = 0\n",
    "    M = len(points)\n",
    "    for i in range(M):\n",
    "        x = points[i, 0]\n",
    "        y = points[i, 1]\n",
    "        m_slope += (-2/M)* (y - m * x - c)*x\n",
    "        c_slope += (-2/M)* (y - m * x - c)\n",
    "    new_m = m - learning_rate*m_slope\n",
    "    new_c = c - learning_rate*c_slope\n",
    "    return new_m, new_c"
   ]
  },
  {
   "cell_type": "code",
   "execution_count": 31,
   "metadata": {
    "collapsed": true
   },
   "outputs": [],
   "source": [
    "def gd(points, learning_rate, num_iterations):\n",
    "    m = 0\n",
    "    c = 0\n",
    "    for i in range(num_iterations):\n",
    "        m, c = step_gradient(points, learning_rate, m , c)\n",
    "        print(i, \" Cost: \", cost(points, m, c))\n",
    "    return m, c"
   ]
  },
  {
   "cell_type": "code",
   "execution_count": 32,
   "metadata": {
    "collapsed": true
   },
   "outputs": [],
   "source": [
    "def cost(points, m, c):\n",
    "    total_cost = 0\n",
    "    M = len(points)\n",
    "    for i in range(M):\n",
    "        x = points[i, 0]\n",
    "        y = points[i, 1]\n",
    "        total_cost += (1/M)*((y - m*x - c)**2)\n",
    "    return total_cost"
   ]
  },
  {
   "cell_type": "code",
   "execution_count": 42,
   "metadata": {},
   "outputs": [],
   "source": [
    "def run():\n",
    "    data = np.loadtxt(\"data.csv\", delimiter=\",\")\n",
    "    learning_rate = 0.0001\n",
    "    num_iterations = 100\n",
    "    m, c = gd(data, learning_rate, num_iterations)\n",
    "    print(m, c)"
   ]
  },
  {
   "cell_type": "code",
   "execution_count": 43,
   "metadata": {},
   "outputs": [
    {
     "name": "stdout",
     "output_type": "stream",
     "text": [
      "0  Cost:  1484.58655741\n",
      "1  Cost:  457.854257574\n",
      "2  Cost:  199.509985726\n",
      "3  Cost:  134.505910582\n",
      "4  Cost:  118.149693422\n",
      "5  Cost:  114.03414906\n",
      "6  Cost:  112.998577317\n",
      "7  Cost:  112.737981876\n",
      "8  Cost:  112.672384359\n",
      "9  Cost:  112.655851815\n",
      "10  Cost:  112.651664898\n",
      "11  Cost:  112.650584362\n",
      "12  Cost:  112.650285447\n",
      "13  Cost:  112.650183203\n",
      "14  Cost:  112.650130445\n",
      "15  Cost:  112.650090139\n",
      "16  Cost:  112.650052967\n",
      "17  Cost:  112.650016584\n",
      "18  Cost:  112.649980399\n",
      "19  Cost:  112.649944265\n",
      "20  Cost:  112.649908144\n",
      "21  Cost:  112.649872027\n",
      "22  Cost:  112.649835911\n",
      "23  Cost:  112.649799796\n",
      "24  Cost:  112.649763681\n",
      "25  Cost:  112.649727567\n",
      "26  Cost:  112.649691454\n",
      "27  Cost:  112.649655341\n",
      "28  Cost:  112.649619228\n",
      "29  Cost:  112.649583117\n",
      "30  Cost:  112.649547005\n",
      "31  Cost:  112.649510895\n",
      "32  Cost:  112.649474784\n",
      "33  Cost:  112.649438675\n",
      "34  Cost:  112.649402566\n",
      "35  Cost:  112.649366457\n",
      "36  Cost:  112.649330349\n",
      "37  Cost:  112.649294242\n",
      "38  Cost:  112.649258135\n",
      "39  Cost:  112.649222028\n",
      "40  Cost:  112.649185922\n",
      "41  Cost:  112.649149817\n",
      "42  Cost:  112.649113712\n",
      "43  Cost:  112.649077608\n",
      "44  Cost:  112.649041505\n",
      "45  Cost:  112.649005401\n",
      "46  Cost:  112.648969299\n",
      "47  Cost:  112.648933197\n",
      "48  Cost:  112.648897095\n",
      "49  Cost:  112.648860994\n",
      "50  Cost:  112.648824894\n",
      "51  Cost:  112.648788794\n",
      "52  Cost:  112.648752695\n",
      "53  Cost:  112.648716596\n",
      "54  Cost:  112.648680498\n",
      "55  Cost:  112.6486444\n",
      "56  Cost:  112.648608303\n",
      "57  Cost:  112.648572207\n",
      "58  Cost:  112.648536111\n",
      "59  Cost:  112.648500015\n",
      "60  Cost:  112.64846392\n",
      "61  Cost:  112.648427826\n",
      "62  Cost:  112.648391732\n",
      "63  Cost:  112.648355639\n",
      "64  Cost:  112.648319546\n",
      "65  Cost:  112.648283454\n",
      "66  Cost:  112.648247362\n",
      "67  Cost:  112.648211271\n",
      "68  Cost:  112.64817518\n",
      "69  Cost:  112.64813909\n",
      "70  Cost:  112.648103001\n",
      "71  Cost:  112.648066912\n",
      "72  Cost:  112.648030824\n",
      "73  Cost:  112.647994736\n",
      "74  Cost:  112.647958648\n",
      "75  Cost:  112.647922562\n",
      "76  Cost:  112.647886475\n",
      "77  Cost:  112.64785039\n",
      "78  Cost:  112.647814305\n",
      "79  Cost:  112.64777822\n",
      "80  Cost:  112.647742136\n",
      "81  Cost:  112.647706053\n",
      "82  Cost:  112.64766997\n",
      "83  Cost:  112.647633887\n",
      "84  Cost:  112.647597805\n",
      "85  Cost:  112.647561724\n",
      "86  Cost:  112.647525643\n",
      "87  Cost:  112.647489563\n",
      "88  Cost:  112.647453483\n",
      "89  Cost:  112.647417404\n",
      "90  Cost:  112.647381326\n",
      "91  Cost:  112.647345248\n",
      "92  Cost:  112.64730917\n",
      "93  Cost:  112.647273093\n",
      "94  Cost:  112.647237017\n",
      "95  Cost:  112.647200941\n",
      "96  Cost:  112.647164866\n",
      "97  Cost:  112.647128791\n",
      "98  Cost:  112.647092717\n",
      "99  Cost:  112.647056643\n",
      "1.47880271753 0.0350749705923\n"
     ]
    }
   ],
   "source": [
    "run()\n"
   ]
  }
 ],
 "metadata": {
  "kernelspec": {
   "display_name": "Python 3",
   "language": "python",
   "name": "python3"
  },
  "language_info": {
   "codemirror_mode": {
    "name": "ipython",
    "version": 3
   },
   "file_extension": ".py",
   "mimetype": "text/x-python",
   "name": "python",
   "nbconvert_exporter": "python",
   "pygments_lexer": "ipython3",
   "version": "3.8.5"
  }
 },
 "nbformat": 4,
 "nbformat_minor": 2
}
