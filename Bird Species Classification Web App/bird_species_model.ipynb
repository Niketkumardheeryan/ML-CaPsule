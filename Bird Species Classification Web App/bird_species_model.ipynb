{
 "cells": [
  {
   "cell_type": "code",
   "execution_count": 1,
   "id": "b5a5cc7d",
   "metadata": {
    "execution": {
     "iopub.execute_input": "2022-03-26T12:36:12.979681Z",
     "iopub.status.busy": "2022-03-26T12:36:12.978938Z",
     "iopub.status.idle": "2022-03-26T12:36:17.628047Z",
     "shell.execute_reply": "2022-03-26T12:36:17.627275Z",
     "shell.execute_reply.started": "2022-03-26T10:30:04.299840Z"
    },
    "papermill": {
     "duration": 4.675529,
     "end_time": "2022-03-26T12:36:17.628205",
     "exception": false,
     "start_time": "2022-03-26T12:36:12.952676",
     "status": "completed"
    },
    "tags": []
   },
   "outputs": [],
   "source": [
    "#Importing Libraries\n",
    "from keras.layers import Input,Dense,Flatten\n",
    "from keras.models import Model\n",
    "from tensorflow.keras import layers\n",
    "from keras.applications.xception import Xception\n",
    "from keras.applications.xception import preprocess_input\n",
    "from keras.preprocessing import image\n",
    "from keras.preprocessing.image import ImageDataGenerator\n",
    "from keras.models import Sequential\n",
    "import numpy as np\n",
    "from glob import glob"
   ]
  },
  {
   "cell_type": "code",
   "execution_count": 2,
   "id": "a646cdb6",
   "metadata": {
    "execution": {
     "iopub.execute_input": "2022-03-26T12:36:17.663981Z",
     "iopub.status.busy": "2022-03-26T12:36:17.662923Z",
     "iopub.status.idle": "2022-03-26T12:36:17.665600Z",
     "shell.execute_reply": "2022-03-26T12:36:17.664983Z",
     "shell.execute_reply.started": "2022-03-26T10:30:09.566737Z"
    },
    "papermill": {
     "duration": 0.020891,
     "end_time": "2022-03-26T12:36:17.665736",
     "exception": false,
     "start_time": "2022-03-26T12:36:17.644845",
     "status": "completed"
    },
    "tags": []
   },
   "outputs": [],
   "source": [
    "# re-size all the images to this\n",
    "IMAGE_SIZE = [224, 224]"
   ]
  },
  {
   "cell_type": "code",
   "execution_count": 3,
   "id": "90d0916e",
   "metadata": {
    "execution": {
     "iopub.execute_input": "2022-03-26T12:36:17.699208Z",
     "iopub.status.busy": "2022-03-26T12:36:17.698323Z",
     "iopub.status.idle": "2022-03-26T12:36:17.702775Z",
     "shell.execute_reply": "2022-03-26T12:36:17.702291Z",
     "shell.execute_reply.started": "2022-03-26T10:30:09.571784Z"
    },
    "papermill": {
     "duration": 0.021801,
     "end_time": "2022-03-26T12:36:17.702888",
     "exception": false,
     "start_time": "2022-03-26T12:36:17.681087",
     "status": "completed"
    },
    "tags": []
   },
   "outputs": [],
   "source": [
    "train_path = '../input/100-bird-species/train'\n",
    "valid_path = '../input/100-bird-species/valid'\n",
    "test_path = '../input/100-bird-species/test'"
   ]
  },
  {
   "cell_type": "code",
   "execution_count": 4,
   "id": "35c5a9aa",
   "metadata": {
    "execution": {
     "iopub.execute_input": "2022-03-26T12:36:17.739401Z",
     "iopub.status.busy": "2022-03-26T12:36:17.738904Z",
     "iopub.status.idle": "2022-03-26T12:36:22.082461Z",
     "shell.execute_reply": "2022-03-26T12:36:22.081972Z",
     "shell.execute_reply.started": "2022-03-26T10:30:09.589730Z"
    },
    "papermill": {
     "duration": 4.364275,
     "end_time": "2022-03-26T12:36:22.082624",
     "exception": false,
     "start_time": "2022-03-26T12:36:17.718349",
     "status": "completed"
    },
    "tags": []
   },
   "outputs": [
    {
     "name": "stderr",
     "output_type": "stream",
     "text": [
      "2022-03-26 12:36:17.817318: I tensorflow/stream_executor/cuda/cuda_gpu_executor.cc:937] successful NUMA node read from SysFS had negative value (-1), but there must be at least one NUMA node, so returning NUMA node zero\n",
      "2022-03-26 12:36:17.893007: I tensorflow/stream_executor/cuda/cuda_gpu_executor.cc:937] successful NUMA node read from SysFS had negative value (-1), but there must be at least one NUMA node, so returning NUMA node zero\n",
      "2022-03-26 12:36:17.893715: I tensorflow/stream_executor/cuda/cuda_gpu_executor.cc:937] successful NUMA node read from SysFS had negative value (-1), but there must be at least one NUMA node, so returning NUMA node zero\n",
      "2022-03-26 12:36:17.894895: I tensorflow/core/platform/cpu_feature_guard.cc:142] This TensorFlow binary is optimized with oneAPI Deep Neural Network Library (oneDNN) to use the following CPU instructions in performance-critical operations:  AVX2 AVX512F FMA\n",
      "To enable them in other operations, rebuild TensorFlow with the appropriate compiler flags.\n",
      "2022-03-26 12:36:17.895602: I tensorflow/stream_executor/cuda/cuda_gpu_executor.cc:937] successful NUMA node read from SysFS had negative value (-1), but there must be at least one NUMA node, so returning NUMA node zero\n",
      "2022-03-26 12:36:17.896254: I tensorflow/stream_executor/cuda/cuda_gpu_executor.cc:937] successful NUMA node read from SysFS had negative value (-1), but there must be at least one NUMA node, so returning NUMA node zero\n",
      "2022-03-26 12:36:17.896906: I tensorflow/stream_executor/cuda/cuda_gpu_executor.cc:937] successful NUMA node read from SysFS had negative value (-1), but there must be at least one NUMA node, so returning NUMA node zero\n",
      "2022-03-26 12:36:19.629257: I tensorflow/stream_executor/cuda/cuda_gpu_executor.cc:937] successful NUMA node read from SysFS had negative value (-1), but there must be at least one NUMA node, so returning NUMA node zero\n",
      "2022-03-26 12:36:19.630063: I tensorflow/stream_executor/cuda/cuda_gpu_executor.cc:937] successful NUMA node read from SysFS had negative value (-1), but there must be at least one NUMA node, so returning NUMA node zero\n",
      "2022-03-26 12:36:19.630688: I tensorflow/stream_executor/cuda/cuda_gpu_executor.cc:937] successful NUMA node read from SysFS had negative value (-1), but there must be at least one NUMA node, so returning NUMA node zero\n",
      "2022-03-26 12:36:19.631253: I tensorflow/core/common_runtime/gpu/gpu_device.cc:1510] Created device /job:localhost/replica:0/task:0/device:GPU:0 with 15403 MB memory:  -> device: 0, name: Tesla P100-PCIE-16GB, pci bus id: 0000:00:04.0, compute capability: 6.0\n"
     ]
    },
    {
     "name": "stdout",
     "output_type": "stream",
     "text": [
      "Downloading data from https://storage.googleapis.com/tensorflow/keras-applications/xception/xception_weights_tf_dim_ordering_tf_kernels_notop.h5\n",
      "83689472/83683744 [==============================] - 0s 0us/step\n",
      "83697664/83683744 [==============================] - 0s 0us/step\n"
     ]
    }
   ],
   "source": [
    "# add preprocessing layer to the front of EfficientNet\n",
    "xcept = Xception(input_shape=IMAGE_SIZE + [3], weights='imagenet', include_top=False)"
   ]
  },
  {
   "cell_type": "code",
   "execution_count": 5,
   "id": "84d3ea39",
   "metadata": {
    "execution": {
     "iopub.execute_input": "2022-03-26T12:36:22.128972Z",
     "iopub.status.busy": "2022-03-26T12:36:22.128360Z",
     "iopub.status.idle": "2022-03-26T12:36:22.132003Z",
     "shell.execute_reply": "2022-03-26T12:36:22.131588Z",
     "shell.execute_reply.started": "2022-03-26T10:30:13.318380Z"
    },
    "papermill": {
     "duration": 0.030109,
     "end_time": "2022-03-26T12:36:22.132111",
     "exception": false,
     "start_time": "2022-03-26T12:36:22.102002",
     "status": "completed"
    },
    "tags": []
   },
   "outputs": [],
   "source": [
    "# don't train existing weights\n",
    "for layer in xcept.layers:\n",
    "  layer.trainable = False"
   ]
  },
  {
   "cell_type": "code",
   "execution_count": 6,
   "id": "b32fc799",
   "metadata": {
    "execution": {
     "iopub.execute_input": "2022-03-26T12:36:22.172824Z",
     "iopub.status.busy": "2022-03-26T12:36:22.172258Z",
     "iopub.status.idle": "2022-03-26T12:36:22.235434Z",
     "shell.execute_reply": "2022-03-26T12:36:22.235018Z",
     "shell.execute_reply.started": "2022-03-26T10:30:13.329307Z"
    },
    "papermill": {
     "duration": 0.08488,
     "end_time": "2022-03-26T12:36:22.235581",
     "exception": false,
     "start_time": "2022-03-26T12:36:22.150701",
     "status": "completed"
    },
    "tags": []
   },
   "outputs": [],
   "source": [
    "#Getting Number of Categories\n",
    "folders = glob('../input/100-bird-species/train/*')"
   ]
  },
  {
   "cell_type": "code",
   "execution_count": 7,
   "id": "474d4198",
   "metadata": {
    "execution": {
     "iopub.execute_input": "2022-03-26T12:36:22.278764Z",
     "iopub.status.busy": "2022-03-26T12:36:22.277768Z",
     "iopub.status.idle": "2022-03-26T12:36:22.282966Z",
     "shell.execute_reply": "2022-03-26T12:36:22.282545Z",
     "shell.execute_reply.started": "2022-03-26T10:30:13.375429Z"
    },
    "papermill": {
     "duration": 0.02833,
     "end_time": "2022-03-26T12:36:22.283072",
     "exception": false,
     "start_time": "2022-03-26T12:36:22.254742",
     "status": "completed"
    },
    "tags": []
   },
   "outputs": [],
   "source": [
    "x = Flatten()(xcept.output)"
   ]
  },
  {
   "cell_type": "code",
   "execution_count": 8,
   "id": "633cface",
   "metadata": {
    "execution": {
     "iopub.execute_input": "2022-03-26T12:36:22.327764Z",
     "iopub.status.busy": "2022-03-26T12:36:22.327256Z",
     "iopub.status.idle": "2022-03-26T12:36:22.348036Z",
     "shell.execute_reply": "2022-03-26T12:36:22.347571Z",
     "shell.execute_reply.started": "2022-03-26T10:30:13.386442Z"
    },
    "papermill": {
     "duration": 0.046378,
     "end_time": "2022-03-26T12:36:22.348159",
     "exception": false,
     "start_time": "2022-03-26T12:36:22.301781",
     "status": "completed"
    },
    "tags": []
   },
   "outputs": [],
   "source": [
    "x = layers.Dense(256, 'relu', kernel_initializer='he_normal')(x)\n",
    "x = layers.BatchNormalization()(x)\n",
    "x = layers.Dropout(0.3)(x)"
   ]
  },
  {
   "cell_type": "code",
   "execution_count": 9,
   "id": "c5e4736b",
   "metadata": {
    "execution": {
     "iopub.execute_input": "2022-03-26T12:36:22.393044Z",
     "iopub.status.busy": "2022-03-26T12:36:22.392243Z",
     "iopub.status.idle": "2022-03-26T12:36:22.399269Z",
     "shell.execute_reply": "2022-03-26T12:36:22.399715Z",
     "shell.execute_reply.started": "2022-03-26T10:30:13.419933Z"
    },
    "papermill": {
     "duration": 0.032878,
     "end_time": "2022-03-26T12:36:22.399853",
     "exception": false,
     "start_time": "2022-03-26T12:36:22.366975",
     "status": "completed"
    },
    "tags": []
   },
   "outputs": [],
   "source": [
    "prediction = Dense(len(folders), activation='softmax')(x)"
   ]
  },
  {
   "cell_type": "code",
   "execution_count": 10,
   "id": "1b69a578",
   "metadata": {
    "execution": {
     "iopub.execute_input": "2022-03-26T12:36:22.442128Z",
     "iopub.status.busy": "2022-03-26T12:36:22.441363Z",
     "iopub.status.idle": "2022-03-26T12:36:22.451824Z",
     "shell.execute_reply": "2022-03-26T12:36:22.451332Z",
     "shell.execute_reply.started": "2022-03-26T10:30:13.437972Z"
    },
    "papermill": {
     "duration": 0.033107,
     "end_time": "2022-03-26T12:36:22.451934",
     "exception": false,
     "start_time": "2022-03-26T12:36:22.418827",
     "status": "completed"
    },
    "tags": []
   },
   "outputs": [],
   "source": [
    "# create a model object\n",
    "model = Model(inputs=xcept.input, outputs=prediction)"
   ]
  },
  {
   "cell_type": "code",
   "execution_count": 11,
   "id": "980f50ec",
   "metadata": {
    "execution": {
     "iopub.execute_input": "2022-03-26T12:36:22.498974Z",
     "iopub.status.busy": "2022-03-26T12:36:22.495301Z",
     "iopub.status.idle": "2022-03-26T12:36:22.559016Z",
     "shell.execute_reply": "2022-03-26T12:36:22.559621Z",
     "shell.execute_reply.started": "2022-03-26T10:30:13.454220Z"
    },
    "papermill": {
     "duration": 0.089142,
     "end_time": "2022-03-26T12:36:22.559793",
     "exception": false,
     "start_time": "2022-03-26T12:36:22.470651",
     "status": "completed"
    },
    "tags": []
   },
   "outputs": [
    {
     "name": "stdout",
     "output_type": "stream",
     "text": [
      "Model: \"model\"\n",
      "__________________________________________________________________________________________________\n",
      "Layer (type)                    Output Shape         Param #     Connected to                     \n",
      "==================================================================================================\n",
      "input_1 (InputLayer)            [(None, 224, 224, 3) 0                                            \n",
      "__________________________________________________________________________________________________\n",
      "block1_conv1 (Conv2D)           (None, 111, 111, 32) 864         input_1[0][0]                    \n",
      "__________________________________________________________________________________________________\n",
      "block1_conv1_bn (BatchNormaliza (None, 111, 111, 32) 128         block1_conv1[0][0]               \n",
      "__________________________________________________________________________________________________\n",
      "block1_conv1_act (Activation)   (None, 111, 111, 32) 0           block1_conv1_bn[0][0]            \n",
      "__________________________________________________________________________________________________\n",
      "block1_conv2 (Conv2D)           (None, 109, 109, 64) 18432       block1_conv1_act[0][0]           \n",
      "__________________________________________________________________________________________________\n",
      "block1_conv2_bn (BatchNormaliza (None, 109, 109, 64) 256         block1_conv2[0][0]               \n",
      "__________________________________________________________________________________________________\n",
      "block1_conv2_act (Activation)   (None, 109, 109, 64) 0           block1_conv2_bn[0][0]            \n",
      "__________________________________________________________________________________________________\n",
      "block2_sepconv1 (SeparableConv2 (None, 109, 109, 128 8768        block1_conv2_act[0][0]           \n",
      "__________________________________________________________________________________________________\n",
      "block2_sepconv1_bn (BatchNormal (None, 109, 109, 128 512         block2_sepconv1[0][0]            \n",
      "__________________________________________________________________________________________________\n",
      "block2_sepconv2_act (Activation (None, 109, 109, 128 0           block2_sepconv1_bn[0][0]         \n",
      "__________________________________________________________________________________________________\n",
      "block2_sepconv2 (SeparableConv2 (None, 109, 109, 128 17536       block2_sepconv2_act[0][0]        \n",
      "__________________________________________________________________________________________________\n",
      "block2_sepconv2_bn (BatchNormal (None, 109, 109, 128 512         block2_sepconv2[0][0]            \n",
      "__________________________________________________________________________________________________\n",
      "conv2d (Conv2D)                 (None, 55, 55, 128)  8192        block1_conv2_act[0][0]           \n",
      "__________________________________________________________________________________________________\n",
      "block2_pool (MaxPooling2D)      (None, 55, 55, 128)  0           block2_sepconv2_bn[0][0]         \n",
      "__________________________________________________________________________________________________\n",
      "batch_normalization (BatchNorma (None, 55, 55, 128)  512         conv2d[0][0]                     \n",
      "__________________________________________________________________________________________________\n",
      "add (Add)                       (None, 55, 55, 128)  0           block2_pool[0][0]                \n",
      "                                                                 batch_normalization[0][0]        \n",
      "__________________________________________________________________________________________________\n",
      "block3_sepconv1_act (Activation (None, 55, 55, 128)  0           add[0][0]                        \n",
      "__________________________________________________________________________________________________\n",
      "block3_sepconv1 (SeparableConv2 (None, 55, 55, 256)  33920       block3_sepconv1_act[0][0]        \n",
      "__________________________________________________________________________________________________\n",
      "block3_sepconv1_bn (BatchNormal (None, 55, 55, 256)  1024        block3_sepconv1[0][0]            \n",
      "__________________________________________________________________________________________________\n",
      "block3_sepconv2_act (Activation (None, 55, 55, 256)  0           block3_sepconv1_bn[0][0]         \n",
      "__________________________________________________________________________________________________\n",
      "block3_sepconv2 (SeparableConv2 (None, 55, 55, 256)  67840       block3_sepconv2_act[0][0]        \n",
      "__________________________________________________________________________________________________\n",
      "block3_sepconv2_bn (BatchNormal (None, 55, 55, 256)  1024        block3_sepconv2[0][0]            \n",
      "__________________________________________________________________________________________________\n",
      "conv2d_1 (Conv2D)               (None, 28, 28, 256)  32768       add[0][0]                        \n",
      "__________________________________________________________________________________________________\n",
      "block3_pool (MaxPooling2D)      (None, 28, 28, 256)  0           block3_sepconv2_bn[0][0]         \n",
      "__________________________________________________________________________________________________\n",
      "batch_normalization_1 (BatchNor (None, 28, 28, 256)  1024        conv2d_1[0][0]                   \n",
      "__________________________________________________________________________________________________\n",
      "add_1 (Add)                     (None, 28, 28, 256)  0           block3_pool[0][0]                \n",
      "                                                                 batch_normalization_1[0][0]      \n",
      "__________________________________________________________________________________________________\n",
      "block4_sepconv1_act (Activation (None, 28, 28, 256)  0           add_1[0][0]                      \n",
      "__________________________________________________________________________________________________\n",
      "block4_sepconv1 (SeparableConv2 (None, 28, 28, 728)  188672      block4_sepconv1_act[0][0]        \n",
      "__________________________________________________________________________________________________\n",
      "block4_sepconv1_bn (BatchNormal (None, 28, 28, 728)  2912        block4_sepconv1[0][0]            \n",
      "__________________________________________________________________________________________________\n",
      "block4_sepconv2_act (Activation (None, 28, 28, 728)  0           block4_sepconv1_bn[0][0]         \n",
      "__________________________________________________________________________________________________\n",
      "block4_sepconv2 (SeparableConv2 (None, 28, 28, 728)  536536      block4_sepconv2_act[0][0]        \n",
      "__________________________________________________________________________________________________\n",
      "block4_sepconv2_bn (BatchNormal (None, 28, 28, 728)  2912        block4_sepconv2[0][0]            \n",
      "__________________________________________________________________________________________________\n",
      "conv2d_2 (Conv2D)               (None, 14, 14, 728)  186368      add_1[0][0]                      \n",
      "__________________________________________________________________________________________________\n",
      "block4_pool (MaxPooling2D)      (None, 14, 14, 728)  0           block4_sepconv2_bn[0][0]         \n",
      "__________________________________________________________________________________________________\n",
      "batch_normalization_2 (BatchNor (None, 14, 14, 728)  2912        conv2d_2[0][0]                   \n",
      "__________________________________________________________________________________________________\n",
      "add_2 (Add)                     (None, 14, 14, 728)  0           block4_pool[0][0]                \n",
      "                                                                 batch_normalization_2[0][0]      \n",
      "__________________________________________________________________________________________________\n",
      "block5_sepconv1_act (Activation (None, 14, 14, 728)  0           add_2[0][0]                      \n",
      "__________________________________________________________________________________________________\n",
      "block5_sepconv1 (SeparableConv2 (None, 14, 14, 728)  536536      block5_sepconv1_act[0][0]        \n",
      "__________________________________________________________________________________________________\n",
      "block5_sepconv1_bn (BatchNormal (None, 14, 14, 728)  2912        block5_sepconv1[0][0]            \n",
      "__________________________________________________________________________________________________\n",
      "block5_sepconv2_act (Activation (None, 14, 14, 728)  0           block5_sepconv1_bn[0][0]         \n",
      "__________________________________________________________________________________________________\n",
      "block5_sepconv2 (SeparableConv2 (None, 14, 14, 728)  536536      block5_sepconv2_act[0][0]        \n",
      "__________________________________________________________________________________________________\n",
      "block5_sepconv2_bn (BatchNormal (None, 14, 14, 728)  2912        block5_sepconv2[0][0]            \n",
      "__________________________________________________________________________________________________\n",
      "block5_sepconv3_act (Activation (None, 14, 14, 728)  0           block5_sepconv2_bn[0][0]         \n",
      "__________________________________________________________________________________________________\n",
      "block5_sepconv3 (SeparableConv2 (None, 14, 14, 728)  536536      block5_sepconv3_act[0][0]        \n",
      "__________________________________________________________________________________________________\n",
      "block5_sepconv3_bn (BatchNormal (None, 14, 14, 728)  2912        block5_sepconv3[0][0]            \n",
      "__________________________________________________________________________________________________\n",
      "add_3 (Add)                     (None, 14, 14, 728)  0           block5_sepconv3_bn[0][0]         \n",
      "                                                                 add_2[0][0]                      \n",
      "__________________________________________________________________________________________________\n",
      "block6_sepconv1_act (Activation (None, 14, 14, 728)  0           add_3[0][0]                      \n",
      "__________________________________________________________________________________________________\n",
      "block6_sepconv1 (SeparableConv2 (None, 14, 14, 728)  536536      block6_sepconv1_act[0][0]        \n",
      "__________________________________________________________________________________________________\n",
      "block6_sepconv1_bn (BatchNormal (None, 14, 14, 728)  2912        block6_sepconv1[0][0]            \n",
      "__________________________________________________________________________________________________\n",
      "block6_sepconv2_act (Activation (None, 14, 14, 728)  0           block6_sepconv1_bn[0][0]         \n",
      "__________________________________________________________________________________________________\n",
      "block6_sepconv2 (SeparableConv2 (None, 14, 14, 728)  536536      block6_sepconv2_act[0][0]        \n",
      "__________________________________________________________________________________________________\n",
      "block6_sepconv2_bn (BatchNormal (None, 14, 14, 728)  2912        block6_sepconv2[0][0]            \n",
      "__________________________________________________________________________________________________\n",
      "block6_sepconv3_act (Activation (None, 14, 14, 728)  0           block6_sepconv2_bn[0][0]         \n",
      "__________________________________________________________________________________________________\n",
      "block6_sepconv3 (SeparableConv2 (None, 14, 14, 728)  536536      block6_sepconv3_act[0][0]        \n",
      "__________________________________________________________________________________________________\n",
      "block6_sepconv3_bn (BatchNormal (None, 14, 14, 728)  2912        block6_sepconv3[0][0]            \n",
      "__________________________________________________________________________________________________\n",
      "add_4 (Add)                     (None, 14, 14, 728)  0           block6_sepconv3_bn[0][0]         \n",
      "                                                                 add_3[0][0]                      \n",
      "__________________________________________________________________________________________________\n",
      "block7_sepconv1_act (Activation (None, 14, 14, 728)  0           add_4[0][0]                      \n",
      "__________________________________________________________________________________________________\n",
      "block7_sepconv1 (SeparableConv2 (None, 14, 14, 728)  536536      block7_sepconv1_act[0][0]        \n",
      "__________________________________________________________________________________________________\n",
      "block7_sepconv1_bn (BatchNormal (None, 14, 14, 728)  2912        block7_sepconv1[0][0]            \n",
      "__________________________________________________________________________________________________\n",
      "block7_sepconv2_act (Activation (None, 14, 14, 728)  0           block7_sepconv1_bn[0][0]         \n",
      "__________________________________________________________________________________________________\n",
      "block7_sepconv2 (SeparableConv2 (None, 14, 14, 728)  536536      block7_sepconv2_act[0][0]        \n",
      "__________________________________________________________________________________________________\n",
      "block7_sepconv2_bn (BatchNormal (None, 14, 14, 728)  2912        block7_sepconv2[0][0]            \n",
      "__________________________________________________________________________________________________\n",
      "block7_sepconv3_act (Activation (None, 14, 14, 728)  0           block7_sepconv2_bn[0][0]         \n",
      "__________________________________________________________________________________________________\n",
      "block7_sepconv3 (SeparableConv2 (None, 14, 14, 728)  536536      block7_sepconv3_act[0][0]        \n",
      "__________________________________________________________________________________________________\n",
      "block7_sepconv3_bn (BatchNormal (None, 14, 14, 728)  2912        block7_sepconv3[0][0]            \n",
      "__________________________________________________________________________________________________\n",
      "add_5 (Add)                     (None, 14, 14, 728)  0           block7_sepconv3_bn[0][0]         \n",
      "                                                                 add_4[0][0]                      \n",
      "__________________________________________________________________________________________________\n",
      "block8_sepconv1_act (Activation (None, 14, 14, 728)  0           add_5[0][0]                      \n",
      "__________________________________________________________________________________________________\n",
      "block8_sepconv1 (SeparableConv2 (None, 14, 14, 728)  536536      block8_sepconv1_act[0][0]        \n",
      "__________________________________________________________________________________________________\n",
      "block8_sepconv1_bn (BatchNormal (None, 14, 14, 728)  2912        block8_sepconv1[0][0]            \n",
      "__________________________________________________________________________________________________\n",
      "block8_sepconv2_act (Activation (None, 14, 14, 728)  0           block8_sepconv1_bn[0][0]         \n",
      "__________________________________________________________________________________________________\n",
      "block8_sepconv2 (SeparableConv2 (None, 14, 14, 728)  536536      block8_sepconv2_act[0][0]        \n",
      "__________________________________________________________________________________________________\n",
      "block8_sepconv2_bn (BatchNormal (None, 14, 14, 728)  2912        block8_sepconv2[0][0]            \n",
      "__________________________________________________________________________________________________\n",
      "block8_sepconv3_act (Activation (None, 14, 14, 728)  0           block8_sepconv2_bn[0][0]         \n",
      "__________________________________________________________________________________________________\n",
      "block8_sepconv3 (SeparableConv2 (None, 14, 14, 728)  536536      block8_sepconv3_act[0][0]        \n",
      "__________________________________________________________________________________________________\n",
      "block8_sepconv3_bn (BatchNormal (None, 14, 14, 728)  2912        block8_sepconv3[0][0]            \n",
      "__________________________________________________________________________________________________\n",
      "add_6 (Add)                     (None, 14, 14, 728)  0           block8_sepconv3_bn[0][0]         \n",
      "                                                                 add_5[0][0]                      \n",
      "__________________________________________________________________________________________________\n",
      "block9_sepconv1_act (Activation (None, 14, 14, 728)  0           add_6[0][0]                      \n",
      "__________________________________________________________________________________________________\n",
      "block9_sepconv1 (SeparableConv2 (None, 14, 14, 728)  536536      block9_sepconv1_act[0][0]        \n",
      "__________________________________________________________________________________________________\n",
      "block9_sepconv1_bn (BatchNormal (None, 14, 14, 728)  2912        block9_sepconv1[0][0]            \n",
      "__________________________________________________________________________________________________\n",
      "block9_sepconv2_act (Activation (None, 14, 14, 728)  0           block9_sepconv1_bn[0][0]         \n",
      "__________________________________________________________________________________________________\n",
      "block9_sepconv2 (SeparableConv2 (None, 14, 14, 728)  536536      block9_sepconv2_act[0][0]        \n",
      "__________________________________________________________________________________________________\n",
      "block9_sepconv2_bn (BatchNormal (None, 14, 14, 728)  2912        block9_sepconv2[0][0]            \n",
      "__________________________________________________________________________________________________\n",
      "block9_sepconv3_act (Activation (None, 14, 14, 728)  0           block9_sepconv2_bn[0][0]         \n",
      "__________________________________________________________________________________________________\n",
      "block9_sepconv3 (SeparableConv2 (None, 14, 14, 728)  536536      block9_sepconv3_act[0][0]        \n",
      "__________________________________________________________________________________________________\n",
      "block9_sepconv3_bn (BatchNormal (None, 14, 14, 728)  2912        block9_sepconv3[0][0]            \n",
      "__________________________________________________________________________________________________\n",
      "add_7 (Add)                     (None, 14, 14, 728)  0           block9_sepconv3_bn[0][0]         \n",
      "                                                                 add_6[0][0]                      \n",
      "__________________________________________________________________________________________________\n",
      "block10_sepconv1_act (Activatio (None, 14, 14, 728)  0           add_7[0][0]                      \n",
      "__________________________________________________________________________________________________\n",
      "block10_sepconv1 (SeparableConv (None, 14, 14, 728)  536536      block10_sepconv1_act[0][0]       \n",
      "__________________________________________________________________________________________________\n",
      "block10_sepconv1_bn (BatchNorma (None, 14, 14, 728)  2912        block10_sepconv1[0][0]           \n",
      "__________________________________________________________________________________________________\n",
      "block10_sepconv2_act (Activatio (None, 14, 14, 728)  0           block10_sepconv1_bn[0][0]        \n",
      "__________________________________________________________________________________________________\n",
      "block10_sepconv2 (SeparableConv (None, 14, 14, 728)  536536      block10_sepconv2_act[0][0]       \n",
      "__________________________________________________________________________________________________\n",
      "block10_sepconv2_bn (BatchNorma (None, 14, 14, 728)  2912        block10_sepconv2[0][0]           \n",
      "__________________________________________________________________________________________________\n",
      "block10_sepconv3_act (Activatio (None, 14, 14, 728)  0           block10_sepconv2_bn[0][0]        \n",
      "__________________________________________________________________________________________________\n",
      "block10_sepconv3 (SeparableConv (None, 14, 14, 728)  536536      block10_sepconv3_act[0][0]       \n",
      "__________________________________________________________________________________________________\n",
      "block10_sepconv3_bn (BatchNorma (None, 14, 14, 728)  2912        block10_sepconv3[0][0]           \n",
      "__________________________________________________________________________________________________\n",
      "add_8 (Add)                     (None, 14, 14, 728)  0           block10_sepconv3_bn[0][0]        \n",
      "                                                                 add_7[0][0]                      \n",
      "__________________________________________________________________________________________________\n",
      "block11_sepconv1_act (Activatio (None, 14, 14, 728)  0           add_8[0][0]                      \n",
      "__________________________________________________________________________________________________\n",
      "block11_sepconv1 (SeparableConv (None, 14, 14, 728)  536536      block11_sepconv1_act[0][0]       \n",
      "__________________________________________________________________________________________________\n",
      "block11_sepconv1_bn (BatchNorma (None, 14, 14, 728)  2912        block11_sepconv1[0][0]           \n",
      "__________________________________________________________________________________________________\n",
      "block11_sepconv2_act (Activatio (None, 14, 14, 728)  0           block11_sepconv1_bn[0][0]        \n",
      "__________________________________________________________________________________________________\n",
      "block11_sepconv2 (SeparableConv (None, 14, 14, 728)  536536      block11_sepconv2_act[0][0]       \n",
      "__________________________________________________________________________________________________\n",
      "block11_sepconv2_bn (BatchNorma (None, 14, 14, 728)  2912        block11_sepconv2[0][0]           \n",
      "__________________________________________________________________________________________________\n",
      "block11_sepconv3_act (Activatio (None, 14, 14, 728)  0           block11_sepconv2_bn[0][0]        \n",
      "__________________________________________________________________________________________________\n",
      "block11_sepconv3 (SeparableConv (None, 14, 14, 728)  536536      block11_sepconv3_act[0][0]       \n",
      "__________________________________________________________________________________________________\n",
      "block11_sepconv3_bn (BatchNorma (None, 14, 14, 728)  2912        block11_sepconv3[0][0]           \n",
      "__________________________________________________________________________________________________\n",
      "add_9 (Add)                     (None, 14, 14, 728)  0           block11_sepconv3_bn[0][0]        \n",
      "                                                                 add_8[0][0]                      \n",
      "__________________________________________________________________________________________________\n",
      "block12_sepconv1_act (Activatio (None, 14, 14, 728)  0           add_9[0][0]                      \n",
      "__________________________________________________________________________________________________\n",
      "block12_sepconv1 (SeparableConv (None, 14, 14, 728)  536536      block12_sepconv1_act[0][0]       \n",
      "__________________________________________________________________________________________________\n",
      "block12_sepconv1_bn (BatchNorma (None, 14, 14, 728)  2912        block12_sepconv1[0][0]           \n",
      "__________________________________________________________________________________________________\n",
      "block12_sepconv2_act (Activatio (None, 14, 14, 728)  0           block12_sepconv1_bn[0][0]        \n",
      "__________________________________________________________________________________________________\n",
      "block12_sepconv2 (SeparableConv (None, 14, 14, 728)  536536      block12_sepconv2_act[0][0]       \n",
      "__________________________________________________________________________________________________\n",
      "block12_sepconv2_bn (BatchNorma (None, 14, 14, 728)  2912        block12_sepconv2[0][0]           \n",
      "__________________________________________________________________________________________________\n",
      "block12_sepconv3_act (Activatio (None, 14, 14, 728)  0           block12_sepconv2_bn[0][0]        \n",
      "__________________________________________________________________________________________________\n",
      "block12_sepconv3 (SeparableConv (None, 14, 14, 728)  536536      block12_sepconv3_act[0][0]       \n",
      "__________________________________________________________________________________________________\n",
      "block12_sepconv3_bn (BatchNorma (None, 14, 14, 728)  2912        block12_sepconv3[0][0]           \n",
      "__________________________________________________________________________________________________\n",
      "add_10 (Add)                    (None, 14, 14, 728)  0           block12_sepconv3_bn[0][0]        \n",
      "                                                                 add_9[0][0]                      \n",
      "__________________________________________________________________________________________________\n",
      "block13_sepconv1_act (Activatio (None, 14, 14, 728)  0           add_10[0][0]                     \n",
      "__________________________________________________________________________________________________\n",
      "block13_sepconv1 (SeparableConv (None, 14, 14, 728)  536536      block13_sepconv1_act[0][0]       \n",
      "__________________________________________________________________________________________________\n",
      "block13_sepconv1_bn (BatchNorma (None, 14, 14, 728)  2912        block13_sepconv1[0][0]           \n",
      "__________________________________________________________________________________________________\n",
      "block13_sepconv2_act (Activatio (None, 14, 14, 728)  0           block13_sepconv1_bn[0][0]        \n",
      "__________________________________________________________________________________________________\n",
      "block13_sepconv2 (SeparableConv (None, 14, 14, 1024) 752024      block13_sepconv2_act[0][0]       \n",
      "__________________________________________________________________________________________________\n",
      "block13_sepconv2_bn (BatchNorma (None, 14, 14, 1024) 4096        block13_sepconv2[0][0]           \n",
      "__________________________________________________________________________________________________\n",
      "conv2d_3 (Conv2D)               (None, 7, 7, 1024)   745472      add_10[0][0]                     \n",
      "__________________________________________________________________________________________________\n",
      "block13_pool (MaxPooling2D)     (None, 7, 7, 1024)   0           block13_sepconv2_bn[0][0]        \n",
      "__________________________________________________________________________________________________\n",
      "batch_normalization_3 (BatchNor (None, 7, 7, 1024)   4096        conv2d_3[0][0]                   \n",
      "__________________________________________________________________________________________________\n",
      "add_11 (Add)                    (None, 7, 7, 1024)   0           block13_pool[0][0]               \n",
      "                                                                 batch_normalization_3[0][0]      \n",
      "__________________________________________________________________________________________________\n",
      "block14_sepconv1 (SeparableConv (None, 7, 7, 1536)   1582080     add_11[0][0]                     \n",
      "__________________________________________________________________________________________________\n",
      "block14_sepconv1_bn (BatchNorma (None, 7, 7, 1536)   6144        block14_sepconv1[0][0]           \n",
      "__________________________________________________________________________________________________\n",
      "block14_sepconv1_act (Activatio (None, 7, 7, 1536)   0           block14_sepconv1_bn[0][0]        \n",
      "__________________________________________________________________________________________________\n",
      "block14_sepconv2 (SeparableConv (None, 7, 7, 2048)   3159552     block14_sepconv1_act[0][0]       \n",
      "__________________________________________________________________________________________________\n",
      "block14_sepconv2_bn (BatchNorma (None, 7, 7, 2048)   8192        block14_sepconv2[0][0]           \n",
      "__________________________________________________________________________________________________\n",
      "block14_sepconv2_act (Activatio (None, 7, 7, 2048)   0           block14_sepconv2_bn[0][0]        \n",
      "__________________________________________________________________________________________________\n",
      "flatten (Flatten)               (None, 100352)       0           block14_sepconv2_act[0][0]       \n",
      "__________________________________________________________________________________________________\n",
      "dense (Dense)                   (None, 256)          25690368    flatten[0][0]                    \n",
      "__________________________________________________________________________________________________\n",
      "batch_normalization_4 (BatchNor (None, 256)          1024        dense[0][0]                      \n",
      "__________________________________________________________________________________________________\n",
      "dropout (Dropout)               (None, 256)          0           batch_normalization_4[0][0]      \n",
      "__________________________________________________________________________________________________\n",
      "dense_1 (Dense)                 (None, 400)          102800      dropout[0][0]                    \n",
      "==================================================================================================\n",
      "Total params: 46,655,672\n",
      "Trainable params: 25,793,680\n",
      "Non-trainable params: 20,861,992\n",
      "__________________________________________________________________________________________________\n"
     ]
    }
   ],
   "source": [
    "# view the structure of the model\n",
    "model.summary()"
   ]
  },
  {
   "cell_type": "code",
   "execution_count": 12,
   "id": "850f9994",
   "metadata": {
    "execution": {
     "iopub.execute_input": "2022-03-26T12:36:22.609337Z",
     "iopub.status.busy": "2022-03-26T12:36:22.608583Z",
     "iopub.status.idle": "2022-03-26T12:36:22.616543Z",
     "shell.execute_reply": "2022-03-26T12:36:22.616106Z",
     "shell.execute_reply.started": "2022-03-26T10:30:13.521761Z"
    },
    "papermill": {
     "duration": 0.036528,
     "end_time": "2022-03-26T12:36:22.616660",
     "exception": false,
     "start_time": "2022-03-26T12:36:22.580132",
     "status": "completed"
    },
    "tags": []
   },
   "outputs": [],
   "source": [
    "# tell the model what cost and optimization method to use\n",
    "model.compile(\n",
    "  loss='categorical_crossentropy',\n",
    "  optimizer='adam',\n",
    "  metrics=['accuracy']\n",
    ")"
   ]
  },
  {
   "cell_type": "code",
   "execution_count": 13,
   "id": "18a1b9d3",
   "metadata": {
    "execution": {
     "iopub.execute_input": "2022-03-26T12:36:22.663194Z",
     "iopub.status.busy": "2022-03-26T12:36:22.662405Z",
     "iopub.status.idle": "2022-03-26T12:36:28.494773Z",
     "shell.execute_reply": "2022-03-26T12:36:28.495651Z",
     "shell.execute_reply.started": "2022-03-26T10:30:13.539672Z"
    },
    "papermill": {
     "duration": 5.859727,
     "end_time": "2022-03-26T12:36:28.495849",
     "exception": false,
     "start_time": "2022-03-26T12:36:22.636122",
     "status": "completed"
    },
    "tags": []
   },
   "outputs": [
    {
     "name": "stdout",
     "output_type": "stream",
     "text": [
      "Found 58388 images belonging to 400 classes.\n",
      "Found 2000 images belonging to 400 classes.\n",
      "Found 2000 images belonging to 400 classes.\n"
     ]
    }
   ],
   "source": [
    "#Data Augmentation\n",
    "from keras.preprocessing.image import ImageDataGenerator\n",
    "\n",
    "train_datagen = ImageDataGenerator(rescale = 1./255,\n",
    "                                   shear_range = 0.2,\n",
    "                                   zoom_range = 0.2,\n",
    "                                   horizontal_flip = True)\n",
    "\n",
    "test_datagen = ImageDataGenerator(rescale = 1./255)\n",
    "\n",
    "valid_datagen = ImageDataGenerator(rescale = 1./255)\n",
    "\n",
    "training_set = train_datagen.flow_from_directory('../input/100-bird-species/train',\n",
    "                                                 target_size = (224, 224),\n",
    "                                                 batch_size = 32,\n",
    "                                                 class_mode = 'categorical')\n",
    "valid_set = valid_datagen.flow_from_directory('../input/100-bird-species/valid',\n",
    "                                            target_size = (224, 224),\n",
    "                                            batch_size = 32,\n",
    "                                            class_mode = 'categorical')\n",
    "\n",
    "test_set = test_datagen.flow_from_directory('../input/100-bird-species/test',\n",
    "                                            target_size = (224, 224),\n",
    "                                            batch_size = 32,\n",
    "                                            class_mode = 'categorical')"
   ]
  },
  {
   "cell_type": "code",
   "execution_count": 2,
   "id": "a73b9197",
   "metadata": {
    "execution": {
     "iopub.execute_input": "2022-03-26T12:36:28.544951Z",
     "iopub.status.busy": "2022-03-26T12:36:28.544224Z",
     "iopub.status.idle": "2022-03-26T14:39:23.829216Z",
     "shell.execute_reply": "2022-03-26T14:39:23.829663Z",
     "shell.execute_reply.started": "2022-03-26T10:30:18.848570Z"
    },
    "papermill": {
     "duration": 7375.310617,
     "end_time": "2022-03-26T14:39:23.829833",
     "exception": false,
     "start_time": "2022-03-26T12:36:28.519216",
     "status": "completed"
    },
    "tags": []
   },
   "outputs": [
    {
     "name": "stdout",
     "output_type": "stream",
     "text": [
      "2022-03-26 12:36:29.082684: I tensorflow/compiler/mlir/mlir_graph_optimization_pass.cc:185] None of the MLIR Optimization Passes\n",
      "are enabled (registered 2)\n",
      "\n",
      "Epoch 1/10\n",
      "\n",
      "2022-03-26 12:36:32.884303: I tensorflow/stream_executor/cuda/cuda_dnn.cc:369] Loaded cuDNN version 8005\n",
      "\n",
      "1825/1825 [==============================] - 802s 435ms/step - loss: 1.7999 - accuracy: 0.5967 - val_loss: 0.5375 - val_accuracy:\n",
      "0.8500\n",
      "Epoch 2/10\n",
      "1825/1825 [==============================] - 700s 383ms/step - loss: 0.8449 - accuracy: 0.7702 - val_loss: 0.4163 - val_accuracy:\n",
      "0.8780\n",
      "Epoch 3/10\n",
      "1825/1825 [==============================] - 711s 389ms/step - loss: 0.7021 - accuracy: 0.8051 - val_loss: 0.3796 - val_accuracy:\n",
      "0.8840\n",
      "Epoch 4/10\n",
      "1825/1825 [==============================] - 715s 392ms/step - loss: 0.6223 - accuracy: 0.8249 - val_loss: 0.3033 - val_accuracy:\n",
      "0.9115\n",
      "Epoch 5/10\n",
      "1825/1825 [==============================] - 730s 400ms/step - loss: 0.5600 - accuracy: 0.8399 - val_loss: 0.2960 - val_accuracy:\n",
      "0.9135\n",
      "Epoch 6/10\n",
      "1825/1825 [==============================] - 741s 406ms/step - loss: 0.5049 - accuracy: 0.8541 - val_loss: 0.2766 - val_accuracy:\n",
      "0.9195\n",
      "Epoch 7/10\n",
      "1825/1825 [==============================] - 712s 390ms/step - loss: 0.4131 - accuracy: 0.8791 - val_loss: 0.2437 - val_accuracy:\n",
      "0.9265\n",
      "Epoch 8/10\n",
      "1825/1825 [==============================] - 721s 395ms/step - loss: 0.3847 - accuracy: 0.8861 - val_loss: 0.2412 - val_accuracy:\n",
      "0.9300\n",
      "Epoch 9/10\n",
      "1825/1825 [==============================] - 711s 389ms/step - loss: 0.3074 - accuracy: 0.8927 - val_loss: 0.2083 - val_accuracy:\n",
      "0.9352\n",
      "Epoch 10/10\n",
      "1825/1825 [==============================] - 731s 401ms/step - loss: 0.2598 - accuracy: 0.9049 - val_loss: 0.1571 - val_accuracy:\n",
      "0.9402\n"
     ]
    }
   ],
   "source": [
    "#Fitting the model\n",
    "r = model.fit(\n",
    "  training_set,\n",
    "  validation_data=valid_set,\n",
    "  epochs=10,\n",
    "  steps_per_epoch=len(training_set),\n",
    "  validation_steps=len(valid_set)\n",
    ")\n"
   ]
  },
  {
   "cell_type": "code",
   "execution_count": 15,
   "id": "f6452767",
   "metadata": {
    "execution": {
     "iopub.execute_input": "2022-03-26T14:39:35.501155Z",
     "iopub.status.busy": "2022-03-26T14:39:35.500141Z",
     "iopub.status.idle": "2022-03-26T14:39:36.416614Z",
     "shell.execute_reply": "2022-03-26T14:39:36.416120Z",
     "shell.execute_reply.started": "2022-03-26T12:33:22.171030Z"
    },
    "papermill": {
     "duration": 6.933488,
     "end_time": "2022-03-26T14:39:36.416752",
     "exception": false,
     "start_time": "2022-03-26T14:39:29.483264",
     "status": "completed"
    },
    "tags": []
   },
   "outputs": [
    {
     "name": "stderr",
     "output_type": "stream",
     "text": [
      "/opt/conda/lib/python3.7/site-packages/keras/utils/generic_utils.py:497: CustomMaskWarning: Custom mask layers require a config and must override get_config. When loading, the custom mask layer must be passed to the custom_objects argument.\n",
      "  category=CustomMaskWarning)\n"
     ]
    }
   ],
   "source": [
    "#Saving the Model.\n",
    "import tensorflow as tf\n",
    "\n",
    "from keras.models import load_model\n",
    "\n",
    "model.save('./bird_classification_new_model.h5')"
   ]
  },
  {
   "cell_type": "code",
   "execution_count": 1,
   "id": "c81b0a35",
   "metadata": {
    "execution": {
     "iopub.execute_input": "2022-03-26T14:39:48.879569Z",
     "iopub.status.busy": "2022-03-26T14:39:48.878087Z",
     "iopub.status.idle": "2022-03-26T14:40:09.636214Z",
     "shell.execute_reply": "2022-03-26T14:40:09.636652Z",
     "shell.execute_reply.started": "2022-03-26T12:33:23.116456Z"
    },
    "papermill": {
     "duration": 26.469804,
     "end_time": "2022-03-26T14:40:09.636808",
     "exception": false,
     "start_time": "2022-03-26T14:39:43.167004",
     "status": "completed"
    },
    "tags": []
   },
   "outputs": [
    {
     "name": "stdout",
     "output_type": "stream",
     "text": [
      "63/63 [==============================] - 13s 201ms/step - loss: 0.1070 - accuracy: 0.9490\n",
      "[0.10677755026817322, 0.9489999895095825]\n"
     ]
    }
   ],
   "source": [
    "model.evaluate(test_set)"
   ]
  },
  {
   "cell_type": "code",
   "execution_count": null,
   "id": "4cb19379",
   "metadata": {
    "papermill": {
     "duration": 5.690066,
     "end_time": "2022-03-26T14:40:21.788158",
     "exception": false,
     "start_time": "2022-03-26T14:40:16.098092",
     "status": "completed"
    },
    "tags": []
   },
   "outputs": [],
   "source": []
  }
 ],
 "metadata": {
  "kernelspec": {
   "display_name": "Python 3",
   "language": "python",
   "name": "python3"
  },
  "language_info": {
   "codemirror_mode": {
    "name": "ipython",
    "version": 3
   },
   "file_extension": ".py",
   "mimetype": "text/x-python",
   "name": "python",
   "nbconvert_exporter": "python",
   "pygments_lexer": "ipython3",
   "version": "3.6.13"
  },
  "papermill": {
   "default_parameters": {},
   "duration": 7465.529915,
   "end_time": "2022-03-26T14:40:30.773361",
   "environment_variables": {},
   "exception": null,
   "input_path": "__notebook__.ipynb",
   "output_path": "__notebook__.ipynb",
   "parameters": {},
   "start_time": "2022-03-26T12:36:05.243446",
   "version": "2.3.3"
  }
 },
 "nbformat": 4,
 "nbformat_minor": 5
}
