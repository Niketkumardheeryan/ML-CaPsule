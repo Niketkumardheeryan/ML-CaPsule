{
 "cells": [
  {
   "cell_type": "markdown",
   "id": "842d5ff2",
   "metadata": {},
   "source": [
    "### Imports"
   ]
  },
  {
   "cell_type": "code",
   "execution_count": 1,
   "id": "ab539293",
   "metadata": {},
   "outputs": [],
   "source": [
    "import pandas as pd\n",
    "import numpy as np\n",
    "import matplotlib.pyplot as plt\n",
    "import seaborn as sns\n",
    "from sklearn.compose import ColumnTransformer\n",
    "from sklearn.impute import SimpleImputer\n",
    "from sklearn.linear_model import LinearRegression\n",
    "from sklearn.model_selection import train_test_split\n",
    "from sklearn.metrics import accuracy_score,mean_absolute_error,classification_report\n",
    "from sklearn.ensemble import RandomForestClassifier,RandomForestRegressor,GradientBoostingRegressor"
   ]
  },
  {
   "cell_type": "markdown",
   "id": "2e69dacb",
   "metadata": {},
   "source": [
    "### Reading the DataSet"
   ]
  },
  {
   "cell_type": "code",
   "execution_count": 2,
   "id": "4d4a4e52",
   "metadata": {},
   "outputs": [],
   "source": [
    "movie_data=pd.read_csv(\"IMDb Movies India.csv\",encoding='ISO-8859-1')"
   ]
  },
  {
   "cell_type": "code",
   "execution_count": 3,
   "id": "3dff0fe4",
   "metadata": {
    "scrolled": false
   },
   "outputs": [
    {
     "data": {
      "text/html": [
       "<div>\n",
       "<style scoped>\n",
       "    .dataframe tbody tr th:only-of-type {\n",
       "        vertical-align: middle;\n",
       "    }\n",
       "\n",
       "    .dataframe tbody tr th {\n",
       "        vertical-align: top;\n",
       "    }\n",
       "\n",
       "    .dataframe thead th {\n",
       "        text-align: right;\n",
       "    }\n",
       "</style>\n",
       "<table border=\"1\" class=\"dataframe\">\n",
       "  <thead>\n",
       "    <tr style=\"text-align: right;\">\n",
       "      <th></th>\n",
       "      <th>Name</th>\n",
       "      <th>Year</th>\n",
       "      <th>Duration</th>\n",
       "      <th>Genre</th>\n",
       "      <th>Rating</th>\n",
       "      <th>Votes</th>\n",
       "      <th>Director</th>\n",
       "      <th>Actor 1</th>\n",
       "      <th>Actor 2</th>\n",
       "      <th>Actor 3</th>\n",
       "    </tr>\n",
       "  </thead>\n",
       "  <tbody>\n",
       "    <tr>\n",
       "      <th>0</th>\n",
       "      <td></td>\n",
       "      <td>NaN</td>\n",
       "      <td>NaN</td>\n",
       "      <td>Drama</td>\n",
       "      <td>NaN</td>\n",
       "      <td>NaN</td>\n",
       "      <td>J.S. Randhawa</td>\n",
       "      <td>Manmauji</td>\n",
       "      <td>Birbal</td>\n",
       "      <td>Rajendra Bhatia</td>\n",
       "    </tr>\n",
       "    <tr>\n",
       "      <th>1</th>\n",
       "      <td>#Gadhvi (He thought he was Gandhi)</td>\n",
       "      <td>(2019)</td>\n",
       "      <td>109 min</td>\n",
       "      <td>Drama</td>\n",
       "      <td>7.0</td>\n",
       "      <td>8</td>\n",
       "      <td>Gaurav Bakshi</td>\n",
       "      <td>Rasika Dugal</td>\n",
       "      <td>Vivek Ghamande</td>\n",
       "      <td>Arvind Jangid</td>\n",
       "    </tr>\n",
       "    <tr>\n",
       "      <th>2</th>\n",
       "      <td>#Homecoming</td>\n",
       "      <td>(2021)</td>\n",
       "      <td>90 min</td>\n",
       "      <td>Drama, Musical</td>\n",
       "      <td>NaN</td>\n",
       "      <td>NaN</td>\n",
       "      <td>Soumyajit Majumdar</td>\n",
       "      <td>Sayani Gupta</td>\n",
       "      <td>Plabita Borthakur</td>\n",
       "      <td>Roy Angana</td>\n",
       "    </tr>\n",
       "    <tr>\n",
       "      <th>3</th>\n",
       "      <td>#Yaaram</td>\n",
       "      <td>(2019)</td>\n",
       "      <td>110 min</td>\n",
       "      <td>Comedy, Romance</td>\n",
       "      <td>4.4</td>\n",
       "      <td>35</td>\n",
       "      <td>Ovais Khan</td>\n",
       "      <td>Prateik</td>\n",
       "      <td>Ishita Raj</td>\n",
       "      <td>Siddhant Kapoor</td>\n",
       "    </tr>\n",
       "    <tr>\n",
       "      <th>4</th>\n",
       "      <td>...And Once Again</td>\n",
       "      <td>(2010)</td>\n",
       "      <td>105 min</td>\n",
       "      <td>Drama</td>\n",
       "      <td>NaN</td>\n",
       "      <td>NaN</td>\n",
       "      <td>Amol Palekar</td>\n",
       "      <td>Rajat Kapoor</td>\n",
       "      <td>Rituparna Sengupta</td>\n",
       "      <td>Antara Mali</td>\n",
       "    </tr>\n",
       "    <tr>\n",
       "      <th>...</th>\n",
       "      <td>...</td>\n",
       "      <td>...</td>\n",
       "      <td>...</td>\n",
       "      <td>...</td>\n",
       "      <td>...</td>\n",
       "      <td>...</td>\n",
       "      <td>...</td>\n",
       "      <td>...</td>\n",
       "      <td>...</td>\n",
       "      <td>...</td>\n",
       "    </tr>\n",
       "    <tr>\n",
       "      <th>15504</th>\n",
       "      <td>Zulm Ko Jala Doonga</td>\n",
       "      <td>(1988)</td>\n",
       "      <td>NaN</td>\n",
       "      <td>Action</td>\n",
       "      <td>4.6</td>\n",
       "      <td>11</td>\n",
       "      <td>Mahendra Shah</td>\n",
       "      <td>Naseeruddin Shah</td>\n",
       "      <td>Sumeet Saigal</td>\n",
       "      <td>Suparna Anand</td>\n",
       "    </tr>\n",
       "    <tr>\n",
       "      <th>15505</th>\n",
       "      <td>Zulmi</td>\n",
       "      <td>(1999)</td>\n",
       "      <td>129 min</td>\n",
       "      <td>Action, Drama</td>\n",
       "      <td>4.5</td>\n",
       "      <td>655</td>\n",
       "      <td>Kuku Kohli</td>\n",
       "      <td>Akshay Kumar</td>\n",
       "      <td>Twinkle Khanna</td>\n",
       "      <td>Aruna Irani</td>\n",
       "    </tr>\n",
       "    <tr>\n",
       "      <th>15506</th>\n",
       "      <td>Zulmi Raj</td>\n",
       "      <td>(2005)</td>\n",
       "      <td>NaN</td>\n",
       "      <td>Action</td>\n",
       "      <td>NaN</td>\n",
       "      <td>NaN</td>\n",
       "      <td>Kiran Thej</td>\n",
       "      <td>Sangeeta Tiwari</td>\n",
       "      <td>NaN</td>\n",
       "      <td>NaN</td>\n",
       "    </tr>\n",
       "    <tr>\n",
       "      <th>15507</th>\n",
       "      <td>Zulmi Shikari</td>\n",
       "      <td>(1988)</td>\n",
       "      <td>NaN</td>\n",
       "      <td>Action</td>\n",
       "      <td>NaN</td>\n",
       "      <td>NaN</td>\n",
       "      <td>NaN</td>\n",
       "      <td>NaN</td>\n",
       "      <td>NaN</td>\n",
       "      <td>NaN</td>\n",
       "    </tr>\n",
       "    <tr>\n",
       "      <th>15508</th>\n",
       "      <td>Zulm-O-Sitam</td>\n",
       "      <td>(1998)</td>\n",
       "      <td>130 min</td>\n",
       "      <td>Action, Drama</td>\n",
       "      <td>6.2</td>\n",
       "      <td>20</td>\n",
       "      <td>K.C. Bokadia</td>\n",
       "      <td>Dharmendra</td>\n",
       "      <td>Jaya Prada</td>\n",
       "      <td>Arjun Sarja</td>\n",
       "    </tr>\n",
       "  </tbody>\n",
       "</table>\n",
       "<p>15509 rows × 10 columns</p>\n",
       "</div>"
      ],
      "text/plain": [
       "                                     Name    Year Duration            Genre  \\\n",
       "0                                             NaN      NaN            Drama   \n",
       "1      #Gadhvi (He thought he was Gandhi)  (2019)  109 min            Drama   \n",
       "2                             #Homecoming  (2021)   90 min   Drama, Musical   \n",
       "3                                 #Yaaram  (2019)  110 min  Comedy, Romance   \n",
       "4                       ...And Once Again  (2010)  105 min            Drama   \n",
       "...                                   ...     ...      ...              ...   \n",
       "15504                 Zulm Ko Jala Doonga  (1988)      NaN           Action   \n",
       "15505                               Zulmi  (1999)  129 min    Action, Drama   \n",
       "15506                           Zulmi Raj  (2005)      NaN           Action   \n",
       "15507                       Zulmi Shikari  (1988)      NaN           Action   \n",
       "15508                        Zulm-O-Sitam  (1998)  130 min    Action, Drama   \n",
       "\n",
       "       Rating Votes            Director           Actor 1             Actor 2  \\\n",
       "0         NaN   NaN       J.S. Randhawa          Manmauji              Birbal   \n",
       "1         7.0     8       Gaurav Bakshi      Rasika Dugal      Vivek Ghamande   \n",
       "2         NaN   NaN  Soumyajit Majumdar      Sayani Gupta   Plabita Borthakur   \n",
       "3         4.4    35          Ovais Khan           Prateik          Ishita Raj   \n",
       "4         NaN   NaN        Amol Palekar      Rajat Kapoor  Rituparna Sengupta   \n",
       "...       ...   ...                 ...               ...                 ...   \n",
       "15504     4.6    11       Mahendra Shah  Naseeruddin Shah       Sumeet Saigal   \n",
       "15505     4.5   655          Kuku Kohli      Akshay Kumar      Twinkle Khanna   \n",
       "15506     NaN   NaN          Kiran Thej   Sangeeta Tiwari                 NaN   \n",
       "15507     NaN   NaN                 NaN               NaN                 NaN   \n",
       "15508     6.2    20        K.C. Bokadia        Dharmendra          Jaya Prada   \n",
       "\n",
       "               Actor 3  \n",
       "0      Rajendra Bhatia  \n",
       "1        Arvind Jangid  \n",
       "2           Roy Angana  \n",
       "3      Siddhant Kapoor  \n",
       "4          Antara Mali  \n",
       "...                ...  \n",
       "15504    Suparna Anand  \n",
       "15505      Aruna Irani  \n",
       "15506              NaN  \n",
       "15507              NaN  \n",
       "15508      Arjun Sarja  \n",
       "\n",
       "[15509 rows x 10 columns]"
      ]
     },
     "execution_count": 3,
     "metadata": {},
     "output_type": "execute_result"
    }
   ],
   "source": [
    "movie_data"
   ]
  },
  {
   "cell_type": "code",
   "execution_count": 4,
   "id": "d06417b2",
   "metadata": {
    "scrolled": true
   },
   "outputs": [
    {
     "name": "stdout",
     "output_type": "stream",
     "text": [
      "<class 'pandas.core.frame.DataFrame'>\n",
      "RangeIndex: 15509 entries, 0 to 15508\n",
      "Data columns (total 10 columns):\n",
      " #   Column    Non-Null Count  Dtype  \n",
      "---  ------    --------------  -----  \n",
      " 0   Name      15509 non-null  object \n",
      " 1   Year      14981 non-null  object \n",
      " 2   Duration  7240 non-null   object \n",
      " 3   Genre     13632 non-null  object \n",
      " 4   Rating    7919 non-null   float64\n",
      " 5   Votes     7920 non-null   object \n",
      " 6   Director  14984 non-null  object \n",
      " 7   Actor 1   13892 non-null  object \n",
      " 8   Actor 2   13125 non-null  object \n",
      " 9   Actor 3   12365 non-null  object \n",
      "dtypes: float64(1), object(9)\n",
      "memory usage: 1.2+ MB\n"
     ]
    }
   ],
   "source": [
    "movie_data.info()"
   ]
  },
  {
   "cell_type": "code",
   "execution_count": 5,
   "id": "5a33fc67",
   "metadata": {
    "scrolled": false
   },
   "outputs": [
    {
     "data": {
      "text/plain": [
       "Name           0\n",
       "Year         528\n",
       "Duration    8269\n",
       "Genre       1877\n",
       "Rating      7590\n",
       "Votes       7589\n",
       "Director     525\n",
       "Actor 1     1617\n",
       "Actor 2     2384\n",
       "Actor 3     3144\n",
       "dtype: int64"
      ]
     },
     "execution_count": 5,
     "metadata": {},
     "output_type": "execute_result"
    }
   ],
   "source": [
    "movie_data.isnull().sum()"
   ]
  },
  {
   "cell_type": "markdown",
   "id": "12b5140a",
   "metadata": {},
   "source": [
    "### Data Preprocessing"
   ]
  },
  {
   "cell_type": "code",
   "execution_count": 6,
   "id": "8b21121b",
   "metadata": {},
   "outputs": [],
   "source": [
    "movie_data_new=movie_data[['Name','Genre','Rating','Votes','Director','Actor 1','Actor 2','Actor 3']]"
   ]
  },
  {
   "cell_type": "code",
   "execution_count": 7,
   "id": "ea46c232",
   "metadata": {
    "scrolled": true
   },
   "outputs": [
    {
     "name": "stdout",
     "output_type": "stream",
     "text": [
      "Drama          4519\n",
      "Action         3495\n",
      "Comedy         1561\n",
      "Thriller        934\n",
      "Romance         762\n",
      "Crime           459\n",
      "Horror          403\n",
      "Documentary     383\n",
      "Adventure       252\n",
      "Fantasy         192\n",
      "Musical         181\n",
      "Family          161\n",
      "Biography       155\n",
      "Animation       125\n",
      "History          29\n",
      "Sport            11\n",
      "Sci-Fi           10\n",
      "Name: Genre, dtype: int64\n"
     ]
    }
   ],
   "source": [
    "movie_data_new_copy = movie_data_new.copy()\n",
    "\n",
    "# Split genres and extract the first one\n",
    "genres = movie_data_new_copy['Genre'].str.split(',').str[0]\n",
    "\n",
    "# Assign the new genre to the DataFrame\n",
    "movie_data_new_copy.loc[:, 'Genre'] = genres\n",
    "\n",
    "# Replace 'Music' with 'Musical' in the 'Genre' column\n",
    "movie_data_new_copy.loc[movie_data_new_copy['Genre'] == 'Music', 'Genre'] = 'Musical'\n",
    "movie_data_new_copy.loc[movie_data_new_copy['Genre'] == 'Mystery','Genre']='Thriller'\n",
    "movie_data_new_copy.loc[movie_data_new_copy['Genre'] == 'Reality-TV','Genre']='Drama'\n",
    "movie_data_new_copy.loc[movie_data_new_copy['Genre'] == 'War','Genre']='Action'\n",
    "# Check the value counts of the 'Genre' column\n",
    "print(movie_data_new_copy['Genre'].value_counts())\n"
   ]
  },
  {
   "cell_type": "code",
   "execution_count": 8,
   "id": "a50e02f6",
   "metadata": {
    "scrolled": true
   },
   "outputs": [
    {
     "name": "stdout",
     "output_type": "stream",
     "text": [
      "<class 'pandas.core.frame.DataFrame'>\n",
      "RangeIndex: 15509 entries, 0 to 15508\n",
      "Data columns (total 8 columns):\n",
      " #   Column    Non-Null Count  Dtype  \n",
      "---  ------    --------------  -----  \n",
      " 0   Name      15509 non-null  object \n",
      " 1   Genre     13632 non-null  object \n",
      " 2   Rating    7919 non-null   float64\n",
      " 3   Votes     7920 non-null   object \n",
      " 4   Director  14984 non-null  object \n",
      " 5   Actor 1   13892 non-null  object \n",
      " 6   Actor 2   13125 non-null  object \n",
      " 7   Actor 3   12365 non-null  object \n",
      "dtypes: float64(1), object(7)\n",
      "memory usage: 969.4+ KB\n"
     ]
    }
   ],
   "source": [
    "movie_data_new_copy.info()\n"
   ]
  },
  {
   "cell_type": "code",
   "execution_count": 9,
   "id": "74b02ff7",
   "metadata": {},
   "outputs": [],
   "source": [
    "movie_data_new_copy.dropna(subset=[\"Director\"], inplace=True)"
   ]
  },
  {
   "cell_type": "code",
   "execution_count": 10,
   "id": "bc601f62",
   "metadata": {},
   "outputs": [],
   "source": [
    "indices_to_delete = movie_data_new_copy[movie_data_new_copy['Votes'] == \"$5.16M\"].index\n",
    "movie_data_new_copy.drop(indices_to_delete, inplace=True)"
   ]
  },
  {
   "cell_type": "code",
   "execution_count": 11,
   "id": "7add8fc9",
   "metadata": {},
   "outputs": [],
   "source": [
    "movie_data_new_copy['Votes'] = movie_data_new_copy['Votes'].str.replace(',', '')\n",
    "\n",
    "# Convert the 'Votes' column to float datatype\n",
    "movie_data_new_copy['Votes'] = movie_data_new_copy['Votes'].astype(float)"
   ]
  },
  {
   "cell_type": "code",
   "execution_count": 12,
   "id": "8459bf2b",
   "metadata": {},
   "outputs": [],
   "source": [
    "tnf1=ColumnTransformer(transformers=[('Average',SimpleImputer(),[2,3])\n",
    "                                   ,(\"Missing\",SimpleImputer(),[3])],remainder='passthrough')"
   ]
  },
  {
   "cell_type": "code",
   "execution_count": 13,
   "id": "2850321a",
   "metadata": {},
   "outputs": [],
   "source": [
    "movie_data_final=pd.DataFrame(tnf1.fit_transform(movie_data_new_copy))\n",
    "movie_data_final.drop(columns=[1],inplace=True)\n",
    "\n"
   ]
  },
  {
   "cell_type": "code",
   "execution_count": 14,
   "id": "82570e13",
   "metadata": {
    "scrolled": true
   },
   "outputs": [
    {
     "data": {
      "text/html": [
       "<div>\n",
       "<style scoped>\n",
       "    .dataframe tbody tr th:only-of-type {\n",
       "        vertical-align: middle;\n",
       "    }\n",
       "\n",
       "    .dataframe tbody tr th {\n",
       "        vertical-align: top;\n",
       "    }\n",
       "\n",
       "    .dataframe thead th {\n",
       "        text-align: right;\n",
       "    }\n",
       "</style>\n",
       "<table border=\"1\" class=\"dataframe\">\n",
       "  <thead>\n",
       "    <tr style=\"text-align: right;\">\n",
       "      <th></th>\n",
       "      <th>0</th>\n",
       "      <th>2</th>\n",
       "      <th>3</th>\n",
       "      <th>4</th>\n",
       "      <th>5</th>\n",
       "      <th>6</th>\n",
       "      <th>7</th>\n",
       "      <th>8</th>\n",
       "    </tr>\n",
       "  </thead>\n",
       "  <tbody>\n",
       "    <tr>\n",
       "      <th>0</th>\n",
       "      <td>5.841256</td>\n",
       "      <td>1939.739196</td>\n",
       "      <td></td>\n",
       "      <td>Drama</td>\n",
       "      <td>J.S. Randhawa</td>\n",
       "      <td>Manmauji</td>\n",
       "      <td>Birbal</td>\n",
       "      <td>Rajendra Bhatia</td>\n",
       "    </tr>\n",
       "    <tr>\n",
       "      <th>1</th>\n",
       "      <td>7.0</td>\n",
       "      <td>8.0</td>\n",
       "      <td>#Gadhvi (He thought he was Gandhi)</td>\n",
       "      <td>Drama</td>\n",
       "      <td>Gaurav Bakshi</td>\n",
       "      <td>Rasika Dugal</td>\n",
       "      <td>Vivek Ghamande</td>\n",
       "      <td>Arvind Jangid</td>\n",
       "    </tr>\n",
       "    <tr>\n",
       "      <th>2</th>\n",
       "      <td>5.841256</td>\n",
       "      <td>1939.739196</td>\n",
       "      <td>#Homecoming</td>\n",
       "      <td>Drama</td>\n",
       "      <td>Soumyajit Majumdar</td>\n",
       "      <td>Sayani Gupta</td>\n",
       "      <td>Plabita Borthakur</td>\n",
       "      <td>Roy Angana</td>\n",
       "    </tr>\n",
       "    <tr>\n",
       "      <th>3</th>\n",
       "      <td>4.4</td>\n",
       "      <td>35.0</td>\n",
       "      <td>#Yaaram</td>\n",
       "      <td>Comedy</td>\n",
       "      <td>Ovais Khan</td>\n",
       "      <td>Prateik</td>\n",
       "      <td>Ishita Raj</td>\n",
       "      <td>Siddhant Kapoor</td>\n",
       "    </tr>\n",
       "    <tr>\n",
       "      <th>4</th>\n",
       "      <td>5.841256</td>\n",
       "      <td>1939.739196</td>\n",
       "      <td>...And Once Again</td>\n",
       "      <td>Drama</td>\n",
       "      <td>Amol Palekar</td>\n",
       "      <td>Rajat Kapoor</td>\n",
       "      <td>Rituparna Sengupta</td>\n",
       "      <td>Antara Mali</td>\n",
       "    </tr>\n",
       "    <tr>\n",
       "      <th>...</th>\n",
       "      <td>...</td>\n",
       "      <td>...</td>\n",
       "      <td>...</td>\n",
       "      <td>...</td>\n",
       "      <td>...</td>\n",
       "      <td>...</td>\n",
       "      <td>...</td>\n",
       "      <td>...</td>\n",
       "    </tr>\n",
       "    <tr>\n",
       "      <th>14978</th>\n",
       "      <td>5.8</td>\n",
       "      <td>44.0</td>\n",
       "      <td>Zulm Ki Zanjeer</td>\n",
       "      <td>Action</td>\n",
       "      <td>S.P. Muthuraman</td>\n",
       "      <td>Chiranjeevi</td>\n",
       "      <td>Jayamalini</td>\n",
       "      <td>Rajinikanth</td>\n",
       "    </tr>\n",
       "    <tr>\n",
       "      <th>14979</th>\n",
       "      <td>4.6</td>\n",
       "      <td>11.0</td>\n",
       "      <td>Zulm Ko Jala Doonga</td>\n",
       "      <td>Action</td>\n",
       "      <td>Mahendra Shah</td>\n",
       "      <td>Naseeruddin Shah</td>\n",
       "      <td>Sumeet Saigal</td>\n",
       "      <td>Suparna Anand</td>\n",
       "    </tr>\n",
       "    <tr>\n",
       "      <th>14980</th>\n",
       "      <td>4.5</td>\n",
       "      <td>655.0</td>\n",
       "      <td>Zulmi</td>\n",
       "      <td>Action</td>\n",
       "      <td>Kuku Kohli</td>\n",
       "      <td>Akshay Kumar</td>\n",
       "      <td>Twinkle Khanna</td>\n",
       "      <td>Aruna Irani</td>\n",
       "    </tr>\n",
       "    <tr>\n",
       "      <th>14981</th>\n",
       "      <td>5.841256</td>\n",
       "      <td>1939.739196</td>\n",
       "      <td>Zulmi Raj</td>\n",
       "      <td>Action</td>\n",
       "      <td>Kiran Thej</td>\n",
       "      <td>Sangeeta Tiwari</td>\n",
       "      <td>NaN</td>\n",
       "      <td>NaN</td>\n",
       "    </tr>\n",
       "    <tr>\n",
       "      <th>14982</th>\n",
       "      <td>6.2</td>\n",
       "      <td>20.0</td>\n",
       "      <td>Zulm-O-Sitam</td>\n",
       "      <td>Action</td>\n",
       "      <td>K.C. Bokadia</td>\n",
       "      <td>Dharmendra</td>\n",
       "      <td>Jaya Prada</td>\n",
       "      <td>Arjun Sarja</td>\n",
       "    </tr>\n",
       "  </tbody>\n",
       "</table>\n",
       "<p>14983 rows × 8 columns</p>\n",
       "</div>"
      ],
      "text/plain": [
       "              0            2                                   3       4  \\\n",
       "0      5.841256  1939.739196                                       Drama   \n",
       "1           7.0          8.0  #Gadhvi (He thought he was Gandhi)   Drama   \n",
       "2      5.841256  1939.739196                         #Homecoming   Drama   \n",
       "3           4.4         35.0                             #Yaaram  Comedy   \n",
       "4      5.841256  1939.739196                   ...And Once Again   Drama   \n",
       "...         ...          ...                                 ...     ...   \n",
       "14978       5.8         44.0                     Zulm Ki Zanjeer  Action   \n",
       "14979       4.6         11.0                 Zulm Ko Jala Doonga  Action   \n",
       "14980       4.5        655.0                               Zulmi  Action   \n",
       "14981  5.841256  1939.739196                           Zulmi Raj  Action   \n",
       "14982       6.2         20.0                        Zulm-O-Sitam  Action   \n",
       "\n",
       "                        5                 6                   7  \\\n",
       "0           J.S. Randhawa          Manmauji              Birbal   \n",
       "1           Gaurav Bakshi      Rasika Dugal      Vivek Ghamande   \n",
       "2      Soumyajit Majumdar      Sayani Gupta   Plabita Borthakur   \n",
       "3              Ovais Khan           Prateik          Ishita Raj   \n",
       "4            Amol Palekar      Rajat Kapoor  Rituparna Sengupta   \n",
       "...                   ...               ...                 ...   \n",
       "14978     S.P. Muthuraman       Chiranjeevi          Jayamalini   \n",
       "14979       Mahendra Shah  Naseeruddin Shah       Sumeet Saigal   \n",
       "14980          Kuku Kohli      Akshay Kumar      Twinkle Khanna   \n",
       "14981          Kiran Thej   Sangeeta Tiwari                 NaN   \n",
       "14982        K.C. Bokadia        Dharmendra          Jaya Prada   \n",
       "\n",
       "                     8  \n",
       "0      Rajendra Bhatia  \n",
       "1        Arvind Jangid  \n",
       "2           Roy Angana  \n",
       "3      Siddhant Kapoor  \n",
       "4          Antara Mali  \n",
       "...                ...  \n",
       "14978      Rajinikanth  \n",
       "14979    Suparna Anand  \n",
       "14980      Aruna Irani  \n",
       "14981              NaN  \n",
       "14982      Arjun Sarja  \n",
       "\n",
       "[14983 rows x 8 columns]"
      ]
     },
     "execution_count": 14,
     "metadata": {},
     "output_type": "execute_result"
    }
   ],
   "source": [
    "movie_data_final"
   ]
  },
  {
   "cell_type": "code",
   "execution_count": 15,
   "id": "90f9acfa",
   "metadata": {},
   "outputs": [],
   "source": [
    "# Define a dictionary mapping old column names to new column names\n",
    "new_column_names = {\n",
    "    0: 'Rating',\n",
    "    2: 'Voters',\n",
    "    3:'Name',\n",
    "    4:'Genre',\n",
    "    5:'Director',\n",
    "    6:'Actor 1',\n",
    "    7:'Actor 2',\n",
    "    8:'Actor 3'\n",
    "    # Add more mappings as needed\n",
    "}\n",
    "\n",
    "# Rename the columns using the dictionary\n",
    "movie_data_final.rename(columns=new_column_names, inplace=True)\n"
   ]
  },
  {
   "cell_type": "code",
   "execution_count": 16,
   "id": "ab98e2dc",
   "metadata": {},
   "outputs": [],
   "source": [
    "movie_data_final['Genre']=movie_data_final['Genre'].dropna()"
   ]
  },
  {
   "cell_type": "code",
   "execution_count": 17,
   "id": "6296e51a",
   "metadata": {},
   "outputs": [],
   "source": [
    "movie_data_final=movie_data_final.dropna(subset=['Genre','Actor 1','Actor 2'])"
   ]
  },
  {
   "cell_type": "code",
   "execution_count": 18,
   "id": "9e14b520",
   "metadata": {
    "scrolled": true
   },
   "outputs": [
    {
     "data": {
      "text/plain": [
       "Rating        0\n",
       "Voters        0\n",
       "Name          0\n",
       "Genre         0\n",
       "Director      0\n",
       "Actor 1       0\n",
       "Actor 2       0\n",
       "Actor 3     560\n",
       "dtype: int64"
      ]
     },
     "execution_count": 18,
     "metadata": {},
     "output_type": "execute_result"
    }
   ],
   "source": [
    "movie_data_final.isnull().sum()"
   ]
  },
  {
   "cell_type": "code",
   "execution_count": 19,
   "id": "ee5bd66f",
   "metadata": {},
   "outputs": [],
   "source": [
    "\n",
    "actor_counts = movie_data_final[['Actor 1', 'Actor 2']].apply(pd.Series.value_counts)\n",
    "\n",
    "#the actors that appear only once\n",
    "actors_to_remove = actor_counts[actor_counts <= 1].dropna().index\n",
    "\n",
    "# Filtering the rows where any of the actors appear only once\n",
    "movie_data_final= movie_data_final[~movie_data_final[['Actor 1', 'Actor 2']].isin(actors_to_remove).any(axis=1)]\n",
    "\n"
   ]
  },
  {
   "cell_type": "code",
   "execution_count": 20,
   "id": "bd83c07b",
   "metadata": {},
   "outputs": [
    {
     "data": {
      "text/plain": [
       "Rating        0\n",
       "Voters        0\n",
       "Name          0\n",
       "Genre         0\n",
       "Director      0\n",
       "Actor 1       0\n",
       "Actor 2       0\n",
       "Actor 3     514\n",
       "dtype: int64"
      ]
     },
     "execution_count": 20,
     "metadata": {},
     "output_type": "execute_result"
    }
   ],
   "source": [
    "movie_data_final.isnull().sum()"
   ]
  },
  {
   "cell_type": "code",
   "execution_count": 21,
   "id": "683276fd",
   "metadata": {},
   "outputs": [],
   "source": [
    "movie_data_final=movie_data_final.drop(columns=['Actor 2','Actor 3'])"
   ]
  },
  {
   "cell_type": "code",
   "execution_count": 22,
   "id": "9d82b3ed",
   "metadata": {},
   "outputs": [
    {
     "data": {
      "text/html": [
       "<div>\n",
       "<style scoped>\n",
       "    .dataframe tbody tr th:only-of-type {\n",
       "        vertical-align: middle;\n",
       "    }\n",
       "\n",
       "    .dataframe tbody tr th {\n",
       "        vertical-align: top;\n",
       "    }\n",
       "\n",
       "    .dataframe thead th {\n",
       "        text-align: right;\n",
       "    }\n",
       "</style>\n",
       "<table border=\"1\" class=\"dataframe\">\n",
       "  <thead>\n",
       "    <tr style=\"text-align: right;\">\n",
       "      <th></th>\n",
       "      <th>Rating</th>\n",
       "      <th>Voters</th>\n",
       "      <th>Name</th>\n",
       "      <th>Genre</th>\n",
       "      <th>Director</th>\n",
       "      <th>Actor 1</th>\n",
       "    </tr>\n",
       "  </thead>\n",
       "  <tbody>\n",
       "    <tr>\n",
       "      <th>0</th>\n",
       "      <td>5.841256</td>\n",
       "      <td>1939.739196</td>\n",
       "      <td></td>\n",
       "      <td>Drama</td>\n",
       "      <td>J.S. Randhawa</td>\n",
       "      <td>Manmauji</td>\n",
       "    </tr>\n",
       "    <tr>\n",
       "      <th>1</th>\n",
       "      <td>7.0</td>\n",
       "      <td>8.0</td>\n",
       "      <td>#Gadhvi (He thought he was Gandhi)</td>\n",
       "      <td>Drama</td>\n",
       "      <td>Gaurav Bakshi</td>\n",
       "      <td>Rasika Dugal</td>\n",
       "    </tr>\n",
       "    <tr>\n",
       "      <th>2</th>\n",
       "      <td>5.841256</td>\n",
       "      <td>1939.739196</td>\n",
       "      <td>#Homecoming</td>\n",
       "      <td>Drama</td>\n",
       "      <td>Soumyajit Majumdar</td>\n",
       "      <td>Sayani Gupta</td>\n",
       "    </tr>\n",
       "    <tr>\n",
       "      <th>3</th>\n",
       "      <td>4.4</td>\n",
       "      <td>35.0</td>\n",
       "      <td>#Yaaram</td>\n",
       "      <td>Comedy</td>\n",
       "      <td>Ovais Khan</td>\n",
       "      <td>Prateik</td>\n",
       "    </tr>\n",
       "    <tr>\n",
       "      <th>4</th>\n",
       "      <td>5.841256</td>\n",
       "      <td>1939.739196</td>\n",
       "      <td>...And Once Again</td>\n",
       "      <td>Drama</td>\n",
       "      <td>Amol Palekar</td>\n",
       "      <td>Rajat Kapoor</td>\n",
       "    </tr>\n",
       "    <tr>\n",
       "      <th>...</th>\n",
       "      <td>...</td>\n",
       "      <td>...</td>\n",
       "      <td>...</td>\n",
       "      <td>...</td>\n",
       "      <td>...</td>\n",
       "      <td>...</td>\n",
       "    </tr>\n",
       "    <tr>\n",
       "      <th>14977</th>\n",
       "      <td>5.841256</td>\n",
       "      <td>1939.739196</td>\n",
       "      <td>Zulm Ki Pukar</td>\n",
       "      <td>Action</td>\n",
       "      <td>Dinesh-Ramanesh</td>\n",
       "      <td>Ramesh Puri</td>\n",
       "    </tr>\n",
       "    <tr>\n",
       "      <th>14978</th>\n",
       "      <td>5.8</td>\n",
       "      <td>44.0</td>\n",
       "      <td>Zulm Ki Zanjeer</td>\n",
       "      <td>Action</td>\n",
       "      <td>S.P. Muthuraman</td>\n",
       "      <td>Chiranjeevi</td>\n",
       "    </tr>\n",
       "    <tr>\n",
       "      <th>14979</th>\n",
       "      <td>4.6</td>\n",
       "      <td>11.0</td>\n",
       "      <td>Zulm Ko Jala Doonga</td>\n",
       "      <td>Action</td>\n",
       "      <td>Mahendra Shah</td>\n",
       "      <td>Naseeruddin Shah</td>\n",
       "    </tr>\n",
       "    <tr>\n",
       "      <th>14980</th>\n",
       "      <td>4.5</td>\n",
       "      <td>655.0</td>\n",
       "      <td>Zulmi</td>\n",
       "      <td>Action</td>\n",
       "      <td>Kuku Kohli</td>\n",
       "      <td>Akshay Kumar</td>\n",
       "    </tr>\n",
       "    <tr>\n",
       "      <th>14982</th>\n",
       "      <td>6.2</td>\n",
       "      <td>20.0</td>\n",
       "      <td>Zulm-O-Sitam</td>\n",
       "      <td>Action</td>\n",
       "      <td>K.C. Bokadia</td>\n",
       "      <td>Dharmendra</td>\n",
       "    </tr>\n",
       "  </tbody>\n",
       "</table>\n",
       "<p>11200 rows × 6 columns</p>\n",
       "</div>"
      ],
      "text/plain": [
       "         Rating       Voters                                Name   Genre  \\\n",
       "0      5.841256  1939.739196                                       Drama   \n",
       "1           7.0          8.0  #Gadhvi (He thought he was Gandhi)   Drama   \n",
       "2      5.841256  1939.739196                         #Homecoming   Drama   \n",
       "3           4.4         35.0                             #Yaaram  Comedy   \n",
       "4      5.841256  1939.739196                   ...And Once Again   Drama   \n",
       "...         ...          ...                                 ...     ...   \n",
       "14977  5.841256  1939.739196                       Zulm Ki Pukar  Action   \n",
       "14978       5.8         44.0                     Zulm Ki Zanjeer  Action   \n",
       "14979       4.6         11.0                 Zulm Ko Jala Doonga  Action   \n",
       "14980       4.5        655.0                               Zulmi  Action   \n",
       "14982       6.2         20.0                        Zulm-O-Sitam  Action   \n",
       "\n",
       "                 Director           Actor 1  \n",
       "0           J.S. Randhawa          Manmauji  \n",
       "1           Gaurav Bakshi      Rasika Dugal  \n",
       "2      Soumyajit Majumdar      Sayani Gupta  \n",
       "3              Ovais Khan           Prateik  \n",
       "4            Amol Palekar      Rajat Kapoor  \n",
       "...                   ...               ...  \n",
       "14977     Dinesh-Ramanesh       Ramesh Puri  \n",
       "14978     S.P. Muthuraman       Chiranjeevi  \n",
       "14979       Mahendra Shah  Naseeruddin Shah  \n",
       "14980          Kuku Kohli      Akshay Kumar  \n",
       "14982        K.C. Bokadia        Dharmendra  \n",
       "\n",
       "[11200 rows x 6 columns]"
      ]
     },
     "execution_count": 22,
     "metadata": {},
     "output_type": "execute_result"
    }
   ],
   "source": [
    "movie_data_final"
   ]
  },
  {
   "cell_type": "markdown",
   "id": "a03f8032",
   "metadata": {},
   "source": [
    "### Data Visualisation"
   ]
  },
  {
   "cell_type": "code",
   "execution_count": 23,
   "id": "843cf463",
   "metadata": {},
   "outputs": [
    {
     "data": {
      "image/png": "[encoded data removed]",
      "text/plain": [
       "<Figure size 576x432 with 1 Axes>"
      ]
     },
     "metadata": {
      "needs_background": "light"
     },
     "output_type": "display_data"
    }
   ],
   "source": [
    "#scatter plot of Ratings Vs Voters\n",
    "ratings = movie_data_final['Rating']\n",
    "voters = movie_data_final['Voters']\n",
    "\n",
    "# Plotting the scatter plot\n",
    "plt.figure(figsize=(8, 6))\n",
    "plt.scatter(voters, ratings, color='blue', alpha=0.5)\n",
    "plt.title('Scatter Plot of Ratings vs. Voters')\n",
    "plt.xlabel('Voters')\n",
    "plt.ylabel('Ratings')\n",
    "plt.grid(True)\n",
    "plt.show()"
   ]
  },
  {
   "cell_type": "code",
   "execution_count": 24,
   "id": "9322c8bd",
   "metadata": {
    "scrolled": true
   },
   "outputs": [
    {
     "data": {
      "image/png": "[encoded data removed]",
      "text/plain": [
       "<Figure size 720x432 with 1 Axes>"
      ]
     },
     "metadata": {
      "needs_background": "light"
     },
     "output_type": "display_data"
    }
   ],
   "source": [
    "#Histograph for various Genre Available\n",
    "genre_counts = movie_data_final['Genre'].value_counts()\n",
    "plt.figure(figsize=(10, 6))\n",
    "genre_counts.plot(kind='bar', color='orange')\n",
    "plt.title('Bar Plot of Genre')\n",
    "plt.xlabel('Genre')\n",
    "plt.ylabel('Frequency')\n",
    "plt.xticks(rotation=45, ha='right')\n",
    "plt.tight_layout()\n",
    "plt.show()"
   ]
  },
  {
   "cell_type": "code",
   "execution_count": 38,
   "id": "ed371904",
   "metadata": {},
   "outputs": [
    {
     "data": {
      "image/png": "[encoded data removed]",
      "text/plain": [
       "<Figure size 720x432 with 1 Axes>"
      ]
     },
     "metadata": {
      "needs_background": "light"
     },
     "output_type": "display_data"
    }
   ],
   "source": [
    "#scatter plot of Rating vs Genre\n",
    "plt.figure(figsize=(10, 6))\n",
    "plt.scatter(movie_data_final['Genre'], movie_data_final['Rating'], alpha=0.5)\n",
    "plt.xlabel('Genre')\n",
    "plt.ylabel('Rating')\n",
    "plt.title('Scatter Plot of Genre vs Rating')\n",
    "plt.xticks(rotation=45)  # Rotate x-axis labels for better readability if needed\n",
    "plt.grid(True)\n",
    "plt.show()"
   ]
  },
  {
   "cell_type": "code",
   "execution_count": 25,
   "id": "a9908d46",
   "metadata": {},
   "outputs": [
    {
     "data": {
      "text/plain": [
       "Text(0, 0.5, 'Voters')"
      ]
     },
     "execution_count": 25,
     "metadata": {},
     "output_type": "execute_result"
    },
    {
     "data": {
      "image/png": "[encoded data removed]",
      "text/plain": [
       "<Figure size 720x432 with 1 Axes>"
      ]
     },
     "metadata": {
      "needs_background": "light"
     },
     "output_type": "display_data"
    }
   ],
   "source": [
    "#Probabilty Density Curve\n",
    "plt.figure(figsize=(10, 6))\n",
    "\n",
    "# Plot KDE plot for 'Rating' vs 'Voters'\n",
    "sns.kdeplot(data=movie_data_final, x='Rating', y='Voters', fill=True, cmap='Blues', levels=30)\n",
    "\n",
    "# Add title and labels\n",
    "plt.title('Probability Density Curve of Rating vs Voters')\n",
    "plt.xlabel('Rating')\n",
    "plt.ylabel('Voters')"
   ]
  },
  {
   "cell_type": "code",
   "execution_count": 36,
   "id": "5f4b43de",
   "metadata": {},
   "outputs": [
    {
     "data": {
      "image/png": "[encoded data removed]",
      "text/plain": [
       "<Figure size 864x576 with 1 Axes>"
      ]
     },
     "metadata": {
      "needs_background": "light"
     },
     "output_type": "display_data"
    }
   ],
   "source": [
    "actor_counts = movie_data_final['Actor 1'].value_counts()\n",
    "\n",
    "# Plot heatmap\n",
    "plt.figure(figsize=(12, 8))\n",
    "sns.heatmap(actor_counts.to_frame(), cmap='Blues', annot=True, fmt='d', cbar=False)\n",
    "plt.title('Heatmap of Actor 1')\n",
    "plt.xlabel('Frequency')\n",
    "plt.ylabel('Actor 1')\n",
    "plt.xticks(rotation=45)\n",
    "plt.yticks(rotation=0)\n",
    "plt.tight_layout()\n",
    "plt.show()"
   ]
  },
  {
   "cell_type": "code",
   "execution_count": 37,
   "id": "cee50d57",
   "metadata": {},
   "outputs": [
    {
     "data": {
      "image/png": "[encoded data removed]",
      "text/plain": [
       "<Figure size 864x576 with 1 Axes>"
      ]
     },
     "metadata": {
      "needs_background": "light"
     },
     "output_type": "display_data"
    }
   ],
   "source": [
    "director_counts = movie_data_final['Director'].value_counts()\n",
    "\n",
    "# Plot heatmap\n",
    "plt.figure(figsize=(12, 8))\n",
    "sns.heatmap(actor_counts.to_frame(), cmap='Blues', annot=True, fmt='d', cbar=False)\n",
    "plt.title('Heatmap of Director')\n",
    "plt.xlabel('Frequency')\n",
    "plt.ylabel('Director')\n",
    "plt.xticks(rotation=45)\n",
    "plt.yticks(rotation=0)\n",
    "plt.tight_layout()\n",
    "plt.show()"
   ]
  },
  {
   "cell_type": "markdown",
   "id": "336fe2b4",
   "metadata": {},
   "source": [
    "### Data Split"
   ]
  },
  {
   "cell_type": "code",
   "execution_count": 27,
   "id": "7a4759cc",
   "metadata": {},
   "outputs": [],
   "source": [
    "x=movie_data_final['Voters'].values\n",
    "y=movie_data_final['Rating'].values\n",
    "x=x.reshape(-1,1)\n",
    "y=y.reshape(-1,1)\n",
    "x=x.astype(float)\n",
    "y=y.astype(float)"
   ]
  },
  {
   "cell_type": "code",
   "execution_count": 28,
   "id": "27e2c328",
   "metadata": {},
   "outputs": [],
   "source": [
    "x_train,x_test,y_train,y_test=train_test_split(x,y,random_state=0,test_size=0.2)"
   ]
  },
  {
   "cell_type": "markdown",
   "id": "c9e77c2b",
   "metadata": {},
   "source": [
    "### Model Fitting"
   ]
  },
  {
   "cell_type": "markdown",
   "id": "163bcf10",
   "metadata": {},
   "source": [
    "Linear Regression"
   ]
  },
  {
   "cell_type": "code",
   "execution_count": 29,
   "id": "0f501b38",
   "metadata": {},
   "outputs": [],
   "source": [
    "lr=LinearRegression()\n",
    "lr.fit(x_train,y_train)\n",
    "y_pred=lr.predict(x_test)"
   ]
  },
  {
   "cell_type": "code",
   "execution_count": 30,
   "id": "31f6d190",
   "metadata": {
    "scrolled": true
   },
   "outputs": [
    {
     "data": {
      "text/plain": [
       "0.7145980005575672"
      ]
     },
     "execution_count": 30,
     "metadata": {},
     "output_type": "execute_result"
    }
   ],
   "source": [
    "mean_absolute_error(y_test, y_pred)"
   ]
  },
  {
   "cell_type": "markdown",
   "id": "3a9668b2",
   "metadata": {},
   "source": [
    "Random Forest Regressor"
   ]
  },
  {
   "cell_type": "code",
   "execution_count": 31,
   "id": "75fcec24",
   "metadata": {},
   "outputs": [
    {
     "name": "stderr",
     "output_type": "stream",
     "text": [
      "C:\\Users\\aasth\\AppData\\Local\\Temp\\ipykernel_1840\\2083383098.py:2: DataConversionWarning: A column-vector y was passed when a 1d array was expected. Please change the shape of y to (n_samples,), for example using ravel().\n",
      "  rf.fit(x_train,y_train)\n"
     ]
    }
   ],
   "source": [
    "rf=RandomForestRegressor()\n",
    "rf.fit(x_train,y_train)\n",
    "y_pred=rf.predict(x_test)"
   ]
  },
  {
   "cell_type": "code",
   "execution_count": 32,
   "id": "c3ff793f",
   "metadata": {},
   "outputs": [
    {
     "data": {
      "text/plain": [
       "0.7236023644241044"
      ]
     },
     "execution_count": 32,
     "metadata": {},
     "output_type": "execute_result"
    }
   ],
   "source": [
    "mean_absolute_error(y_test,y_pred)"
   ]
  },
  {
   "cell_type": "markdown",
   "id": "e6f6112a",
   "metadata": {},
   "source": [
    "Gradient Boosting Regressor"
   ]
  },
  {
   "cell_type": "code",
   "execution_count": 33,
   "id": "09cde417",
   "metadata": {},
   "outputs": [
    {
     "name": "stderr",
     "output_type": "stream",
     "text": [
      "C:\\Users\\aasth\\AppData\\Local\\Temp\\ipykernel_1840\\3029815917.py:2: DataConversionWarning: A column-vector y was passed when a 1d array was expected. Please change the shape of y to (n_samples,), for example using ravel().\n",
      "  gb.fit(x_train,y_train)\n"
     ]
    }
   ],
   "source": [
    "gb=RandomForestRegressor()\n",
    "gb.fit(x_train,y_train)\n",
    "y_pred=gb.predict(x_test)"
   ]
  },
  {
   "cell_type": "code",
   "execution_count": 34,
   "id": "2f8728fa",
   "metadata": {},
   "outputs": [
    {
     "data": {
      "text/plain": [
       "0.7218717953362249"
      ]
     },
     "execution_count": 34,
     "metadata": {},
     "output_type": "execute_result"
    }
   ],
   "source": [
    "mean_absolute_error(y_test,y_pred)"
   ]
  },
  {
   "cell_type": "code",
   "execution_count": null,
   "id": "f57ba582",
   "metadata": {},
   "outputs": [],
   "source": []
  }
 ],
 "metadata": {
  "kernelspec": {
   "display_name": "Python 3 (ipykernel)",
   "language": "python",
   "name": "python3"
  },
  "language_info": {
   "codemirror_mode": {
    "name": "ipython",
    "version": 3
   },
   "file_extension": ".py",
   "mimetype": "text/x-python",
   "name": "python",
   "nbconvert_exporter": "python",
   "pygments_lexer": "ipython3",
   "version": "3.9.12"
  }
 },
 "nbformat": 4,
 "nbformat_minor": 5
}
