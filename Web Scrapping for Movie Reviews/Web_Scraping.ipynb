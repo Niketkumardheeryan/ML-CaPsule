{
  "nbformat": 4,
  "nbformat_minor": 0,
  "metadata": {
    "colab": {
      "name": "Web Scraping.ipynb",
      "provenance": []
    },
    "kernelspec": {
      "name": "python3",
      "display_name": "Python 3"
    },
    "language_info": {
      "name": "python"
    }
  },
  "cells": [
    {
      "cell_type": "markdown",
      "metadata": {
        "id": "TGaZ_jHFhFUZ"
      },
      "source": [
        "## **Web Scraping For Movie**\n",
        "\n",
        "\n",
        "\n",
        "\n",
        "\n",
        "\n",
        "\n",
        "\n",
        "\n"
      ]
    },
    {
      "cell_type": "markdown",
      "metadata": {
        "id": "ScrBznYZgZ3n"
      },
      "source": [
        "**Web Scrapping for All Critics**"
      ]
    },
    {
      "cell_type": "code",
      "metadata": {
        "id": "CzKB08nMO7L8"
      },
      "source": [
        "import requests\n",
        "from bs4 import BeautifulSoup"
      ],
      "execution_count": 9,
      "outputs": []
    },
    {
      "cell_type": "code",
      "metadata": {
        "id": "lnza3heoPJkf"
      },
      "source": [
        "page_urls = ['https://www.rottentomatoes.com/m/titanic/reviews','https://www.rottentomatoes.com/m/titanic/reviews?type=&sort=&page=2','https://www.rottentomatoes.com/m/titanic/reviews?type=&sort=&page=3','https://www.rottentomatoes.com/m/titanic/reviews?type=&sort=&page=4','https://www.rottentomatoes.com/m/titanic/reviews?type=&sort=&page=5','https://www.rottentomatoes.com/m/titanic/reviews?type=&sort=&page=6','https://www.rottentomatoes.com/m/titanic/reviews?type=&sort=&page=7','https://www.rottentomatoes.com/m/titanic/reviews?type=&sort=&page=8','https://www.rottentomatoes.com/m/titanic/reviews?type=&sort=&page=9','https://www.rottentomatoes.com/m/titanic/reviews?type=&sort=&page=10']"
      ],
      "execution_count": 28,
      "outputs": []
    },
    {
      "cell_type": "code",
      "metadata": {
        "id": "04yoH8qwPR4j"
      },
      "source": [
        "reviews = []\n",
        "tomato = []\n",
        "name = []\n",
        "date = []\n",
        "\n",
        "\n",
        "for url in page_urls:\n",
        "    response = requests.get(url)\n",
        "    if response.status_code != 200:\n",
        "        continue\n",
        "    else:\n",
        "        html_code = response.content\n",
        "        soup = BeautifulSoup(html_code, 'lxml')\n",
        "        review_table = soup.find('div',{'class':'review_table'})\n",
        "        for i in review_table.find_all('div',{'class':'the_review'}):\n",
        "            reviews.append(i.get_text(strip=True))\n",
        "        for j in review_table.find_all('div',{'class':'col-xs-16 review_container'}):\n",
        "            a=j.find('div',{'class':'review_icon icon small fresh'}) or j.find('div',{'class':'review_icon icon small rotten'})\n",
        "            tomato.append(a.attrs['class'][-1])\n",
        "        for i in review_table.find_all('a',{'class':'unstyled bold articleLink'}):\n",
        "            name.append(i.get_text(strip=True))\n",
        "        for i in review_table.find_all('div',{'class':'review-date subtle small'}):\n",
        "            date.append(i.get_text(strip=True))"
      ],
      "execution_count": 29,
      "outputs": []
    },
    {
      "cell_type": "code",
      "metadata": {
        "id": "zDWUQzugPapv"
      },
      "source": [
        "import pandas as pd\n",
        "titanic_reviews = pd.DataFrame(zip(name,reviews,tomato,date), columns=['Name','All Critics Reviews','Rotten/Fresh','Date'])"
      ],
      "execution_count": 30,
      "outputs": []
    },
    {
      "cell_type": "code",
      "metadata": {
        "colab": {
          "base_uri": "https://localhost:8080/",
          "height": 419
        },
        "id": "L0ov040DPjoM",
        "outputId": "a3a8f234-c65c-4595-be00-fd4345341769"
      },
      "source": [
        "titanic_reviews"
      ],
      "execution_count": 31,
      "outputs": [
        {
          "output_type": "execute_result",
          "data": {
            "text/html": [
              "<div>\n",
              "<style scoped>\n",
              "    .dataframe tbody tr th:only-of-type {\n",
              "        vertical-align: middle;\n",
              "    }\n",
              "\n",
              "    .dataframe tbody tr th {\n",
              "        vertical-align: top;\n",
              "    }\n",
              "\n",
              "    .dataframe thead th {\n",
              "        text-align: right;\n",
              "    }\n",
              "</style>\n",
              "<table border=\"1\" class=\"dataframe\">\n",
              "  <thead>\n",
              "    <tr style=\"text-align: right;\">\n",
              "      <th></th>\n",
              "      <th>Name</th>\n",
              "      <th>All Critics Reviews</th>\n",
              "      <th>Rotten/Fresh</th>\n",
              "      <th>Date</th>\n",
              "    </tr>\n",
              "  </thead>\n",
              "  <tbody>\n",
              "    <tr>\n",
              "      <th>0</th>\n",
              "      <td>David Walsh</td>\n",
              "      <td>It might be best perhaps to describe Titanic a...</td>\n",
              "      <td>rotten</td>\n",
              "      <td>February 12, 2021</td>\n",
              "    </tr>\n",
              "    <tr>\n",
              "      <th>1</th>\n",
              "      <td>Mike Massie</td>\n",
              "      <td>Stirring music and seamless special effects ad...</td>\n",
              "      <td>fresh</td>\n",
              "      <td>September 25, 2020</td>\n",
              "    </tr>\n",
              "    <tr>\n",
              "      <th>2</th>\n",
              "      <td>Geoff Brown</td>\n",
              "      <td>For all the sluggish script and the enormous w...</td>\n",
              "      <td>fresh</td>\n",
              "      <td>February 6, 2020</td>\n",
              "    </tr>\n",
              "    <tr>\n",
              "      <th>3</th>\n",
              "      <td>Nigel Andrews</td>\n",
              "      <td>[The ending] is a masterpiece of popcorn trage...</td>\n",
              "      <td>fresh</td>\n",
              "      <td>February 6, 2020</td>\n",
              "    </tr>\n",
              "    <tr>\n",
              "      <th>4</th>\n",
              "      <td>Rachel Wagner</td>\n",
              "      <td>It's the kind of movie that just doesn't come ...</td>\n",
              "      <td>fresh</td>\n",
              "      <td>June 28, 2019</td>\n",
              "    </tr>\n",
              "    <tr>\n",
              "      <th>...</th>\n",
              "      <td>...</td>\n",
              "      <td>...</td>\n",
              "      <td>...</td>\n",
              "      <td>...</td>\n",
              "    </tr>\n",
              "    <tr>\n",
              "      <th>186</th>\n",
              "      <td>Robert Horton</td>\n",
              "      <td>Like a David Lean film, it is an intimate epic...</td>\n",
              "      <td>fresh</td>\n",
              "      <td>January 1, 2000</td>\n",
              "    </tr>\n",
              "    <tr>\n",
              "      <th>187</th>\n",
              "      <td>Susan Stark</td>\n",
              "      <td>Bursting through gaps in the hull, rushing dow...</td>\n",
              "      <td>fresh</td>\n",
              "      <td>January 1, 2000</td>\n",
              "    </tr>\n",
              "    <tr>\n",
              "      <th>188</th>\n",
              "      <td>Mick LaSalle</td>\n",
              "      <td>Like it or hate it, Titanic lives and breathes...</td>\n",
              "      <td>fresh</td>\n",
              "      <td>January 1, 2000</td>\n",
              "    </tr>\n",
              "    <tr>\n",
              "      <th>189</th>\n",
              "      <td>Richard Corliss</td>\n",
              "      <td>As spectacle, Titanic sets a new standard; as ...</td>\n",
              "      <td>rotten</td>\n",
              "      <td>January 1, 2000</td>\n",
              "    </tr>\n",
              "    <tr>\n",
              "      <th>190</th>\n",
              "      <td>Scott Nash</td>\n",
              "      <td>The last hour of Titanic is huge and staggerin...</td>\n",
              "      <td>rotten</td>\n",
              "      <td>January 1, 2000</td>\n",
              "    </tr>\n",
              "  </tbody>\n",
              "</table>\n",
              "<p>191 rows × 4 columns</p>\n",
              "</div>"
            ],
            "text/plain": [
              "                Name  ...                Date\n",
              "0        David Walsh  ...   February 12, 2021\n",
              "1        Mike Massie  ...  September 25, 2020\n",
              "2        Geoff Brown  ...    February 6, 2020\n",
              "3      Nigel Andrews  ...    February 6, 2020\n",
              "4      Rachel Wagner  ...       June 28, 2019\n",
              "..               ...  ...                 ...\n",
              "186    Robert Horton  ...     January 1, 2000\n",
              "187      Susan Stark  ...     January 1, 2000\n",
              "188     Mick LaSalle  ...     January 1, 2000\n",
              "189  Richard Corliss  ...     January 1, 2000\n",
              "190       Scott Nash  ...     January 1, 2000\n",
              "\n",
              "[191 rows x 4 columns]"
            ]
          },
          "metadata": {
            "tags": []
          },
          "execution_count": 31
        }
      ]
    },
    {
      "cell_type": "code",
      "metadata": {
        "id": "5RAmaqUNPt6Z"
      },
      "source": [
        "titanic_reviews.to_csv(\"titanic_reviews_all_critics.csv\",index=True)"
      ],
      "execution_count": 32,
      "outputs": []
    },
    {
      "cell_type": "markdown",
      "metadata": {
        "id": "JtZR4EcactG9"
      },
      "source": [
        "**Web Scrapping for Top Critics**"
      ]
    },
    {
      "cell_type": "code",
      "metadata": {
        "id": "sPfpo8ctdDvc"
      },
      "source": [
        "page_urls1 = ['https://www.rottentomatoes.com/m/titanic/reviews?type=top_critics','https://www.rottentomatoes.com/m/titanic/reviews?type=top_critics&sort=&page=2','https://www.rottentomatoes.com/m/titanic/reviews?type=top_critics&sort=&page=3','https://www.rottentomatoes.com/m/titanic/reviews?type=top_critics&sort=&page=4']"
      ],
      "execution_count": 33,
      "outputs": []
    },
    {
      "cell_type": "code",
      "metadata": {
        "id": "UcNS7piDeZA8"
      },
      "source": [
        "reviews1 = []\n",
        "tomato1 = []\n",
        "name1 = []\n",
        "date1 = []\n",
        "\n",
        "\n",
        "for url in page_urls1:\n",
        "    response = requests.get(url)\n",
        "    if response.status_code != 200:\n",
        "        continue\n",
        "    else:\n",
        "        html_code = response.content\n",
        "        soup = BeautifulSoup(html_code, 'lxml')\n",
        "        review_table = soup.find('div',{'class':'review_table'})\n",
        "        for i in review_table.find_all('div',{'class':'the_review'}):\n",
        "            reviews1.append(i.get_text(strip=True))\n",
        "        for j in review_table.find_all('div',{'class':'col-xs-16 review_container'}):\n",
        "            a=j.find('div',{'class':'review_icon icon small fresh'}) or j.find('div',{'class':'review_icon icon small rotten'})\n",
        "            tomato1.append(a.attrs['class'][-1])\n",
        "        for i in review_table.find_all('a',{'class':'unstyled bold articleLink'}):\n",
        "            name1.append(i.get_text(strip=True))\n",
        "        for i in review_table.find_all('div',{'class':'review-date subtle small'}):\n",
        "            date1.append(i.get_text(strip=True))"
      ],
      "execution_count": 34,
      "outputs": []
    },
    {
      "cell_type": "code",
      "metadata": {
        "id": "0Ib8IUH0fX3X"
      },
      "source": [
        "import pandas as pd\n",
        "titanic_reviews = pd.DataFrame(zip(name1,reviews1,tomato1,date1), columns=['Name','Top Critics Reviews','Rotten/Fresh','Date'])"
      ],
      "execution_count": 35,
      "outputs": []
    },
    {
      "cell_type": "code",
      "metadata": {
        "colab": {
          "base_uri": "https://localhost:8080/",
          "height": 419
        },
        "id": "Wi7bYfowgJWr",
        "outputId": "84c74aa3-4ad0-4b2e-eedf-7fa465e936ff"
      },
      "source": [
        "titanic_reviews"
      ],
      "execution_count": 36,
      "outputs": [
        {
          "output_type": "execute_result",
          "data": {
            "text/html": [
              "<div>\n",
              "<style scoped>\n",
              "    .dataframe tbody tr th:only-of-type {\n",
              "        vertical-align: middle;\n",
              "    }\n",
              "\n",
              "    .dataframe tbody tr th {\n",
              "        vertical-align: top;\n",
              "    }\n",
              "\n",
              "    .dataframe thead th {\n",
              "        text-align: right;\n",
              "    }\n",
              "</style>\n",
              "<table border=\"1\" class=\"dataframe\">\n",
              "  <thead>\n",
              "    <tr style=\"text-align: right;\">\n",
              "      <th></th>\n",
              "      <th>Name</th>\n",
              "      <th>Top Critics Reviews</th>\n",
              "      <th>Rotten/Fresh</th>\n",
              "      <th>Date</th>\n",
              "    </tr>\n",
              "  </thead>\n",
              "  <tbody>\n",
              "    <tr>\n",
              "      <th>0</th>\n",
              "      <td>Geoff Brown</td>\n",
              "      <td>For all the sluggish script and the enormous w...</td>\n",
              "      <td>fresh</td>\n",
              "      <td>February 6, 2020</td>\n",
              "    </tr>\n",
              "    <tr>\n",
              "      <th>1</th>\n",
              "      <td>Nigel Andrews</td>\n",
              "      <td>[The ending] is a masterpiece of popcorn trage...</td>\n",
              "      <td>fresh</td>\n",
              "      <td>February 6, 2020</td>\n",
              "    </tr>\n",
              "    <tr>\n",
              "      <th>2</th>\n",
              "      <td>Quentin Curtis</td>\n",
              "      <td>The movie is a ride, and not without the odd m...</td>\n",
              "      <td>fresh</td>\n",
              "      <td>February 6, 2019</td>\n",
              "    </tr>\n",
              "    <tr>\n",
              "      <th>3</th>\n",
              "      <td>Duane Byrge</td>\n",
              "      <td>No meager disaster movie, greased by generic f...</td>\n",
              "      <td>fresh</td>\n",
              "      <td>December 26, 2018</td>\n",
              "    </tr>\n",
              "    <tr>\n",
              "      <th>4</th>\n",
              "      <td>Jack Mathews</td>\n",
              "      <td>Cameron's aim was to set the most intimate lov...</td>\n",
              "      <td>fresh</td>\n",
              "      <td>January 3, 2018</td>\n",
              "    </tr>\n",
              "    <tr>\n",
              "      <th>...</th>\n",
              "      <td>...</td>\n",
              "      <td>...</td>\n",
              "      <td>...</td>\n",
              "      <td>...</td>\n",
              "    </tr>\n",
              "    <tr>\n",
              "      <th>67</th>\n",
              "      <td>Stanley Kauffmann</td>\n",
              "      <td>Bursting through gaps in the hull, rushing dow...</td>\n",
              "      <td>fresh</td>\n",
              "      <td>January 1, 2000</td>\n",
              "    </tr>\n",
              "    <tr>\n",
              "      <th>68</th>\n",
              "      <td>Robert Horton</td>\n",
              "      <td>Like it or hate it, Titanic lives and breathes...</td>\n",
              "      <td>fresh</td>\n",
              "      <td>January 1, 2000</td>\n",
              "    </tr>\n",
              "    <tr>\n",
              "      <th>69</th>\n",
              "      <td>Susan Stark</td>\n",
              "      <td>As spectacle, Titanic sets a new standard; as ...</td>\n",
              "      <td>rotten</td>\n",
              "      <td>January 1, 2000</td>\n",
              "    </tr>\n",
              "    <tr>\n",
              "      <th>70</th>\n",
              "      <td>Mick LaSalle</td>\n",
              "      <td>The last hour of Titanic is huge and staggerin...</td>\n",
              "      <td>rotten</td>\n",
              "      <td>January 1, 2000</td>\n",
              "    </tr>\n",
              "    <tr>\n",
              "      <th>71</th>\n",
              "      <td>Richard Corliss</td>\n",
              "      <td>The regretful verdict here: dead in the water.</td>\n",
              "      <td>rotten</td>\n",
              "      <td>January 1, 2000</td>\n",
              "    </tr>\n",
              "  </tbody>\n",
              "</table>\n",
              "<p>72 rows × 4 columns</p>\n",
              "</div>"
            ],
            "text/plain": [
              "                 Name  ...               Date\n",
              "0         Geoff Brown  ...   February 6, 2020\n",
              "1       Nigel Andrews  ...   February 6, 2020\n",
              "2      Quentin Curtis  ...   February 6, 2019\n",
              "3         Duane Byrge  ...  December 26, 2018\n",
              "4        Jack Mathews  ...    January 3, 2018\n",
              "..                ...  ...                ...\n",
              "67  Stanley Kauffmann  ...    January 1, 2000\n",
              "68      Robert Horton  ...    January 1, 2000\n",
              "69        Susan Stark  ...    January 1, 2000\n",
              "70       Mick LaSalle  ...    January 1, 2000\n",
              "71    Richard Corliss  ...    January 1, 2000\n",
              "\n",
              "[72 rows x 4 columns]"
            ]
          },
          "metadata": {
            "tags": []
          },
          "execution_count": 36
        }
      ]
    },
    {
      "cell_type": "code",
      "metadata": {
        "id": "KqnCNWExo3Xl"
      },
      "source": [
        "titanic_reviews.to_csv(\"titanic_reviews_top_critics.csv\",index=True)"
      ],
      "execution_count": 37,
      "outputs": []
    }
  ]
}