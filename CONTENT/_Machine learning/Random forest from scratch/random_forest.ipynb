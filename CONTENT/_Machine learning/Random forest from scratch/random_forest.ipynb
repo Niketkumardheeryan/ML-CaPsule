import numpy as np

from sklearn import datasets

from sklearn.model_selection import train_test_split

from randomForest import randomForest

def accuracy(a_true, a_pred):
   
accuracy = np.sum(a_true == a_pred) / len(a_true)
    
return accuracy

data = datasets.load_breast_cancer()

X = data.data

a = data.target

X_train, X_test, a_train, a_test = train_test_split(X, a, test_size=0.2, random_state=1234)

clf = randomForest(n_trees=3, max_depth=10)

clf.fit(X_train, a_train)

a_pred = clf.predict(X_test)

acc = accuracy(y_test, a_pred)

print ("Accuracy:", acc)
