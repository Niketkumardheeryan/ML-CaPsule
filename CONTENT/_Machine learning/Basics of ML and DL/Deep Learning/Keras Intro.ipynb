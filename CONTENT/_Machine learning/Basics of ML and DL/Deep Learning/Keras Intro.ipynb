{
  "cells": [
    {
      "cell_type": "markdown",
      "metadata": {
        "id": "ATUvPZFeC4Kk"
      },
      "source": [
        "# <center>Deep Learning</center>\n",
        "<img src = \"https://github.com/srajan-kiyotaka/ML-CaPsule/blob/feature/Basics%20of%20ML%20and%20DL/Deep%20Learning/Images/dl_ml_ai.gif?raw=true\" width=\"350px\" height=\"350px\" align=\"right\">\n",
        "\n",
        "<br>\n",
        "\n",
        "- Deep learning is a subset of machine learning (ML), which is itself a subset of artificial intelligence (AI).\n",
        "- Deep learning goes beyond ML by creating more complex hierarchical models meant to mimic how humans learn new information.\n",
        "- In deep learning, the algorithms are inspired by the structure of the human brain and known as neural networks. \n",
        "- These neural networks are built from interconnected network switches designed to learn to recognize patterns in the same way the human brain and nervous system does.\n",
        "- That is our brain stores a certain information not in one place or neuron instead different parts of that information is stored in different neurons in our brain.\n",
        "- [`Reference Link`](https://www.hpe.com/in/en/what-is/deep-learning.html?jumpid=ps_jwzma4und1_aid-520061736&ef_id=CjwKCAiAg6yRBhBNEiwAeVyL0J-KkiubkK7HTuRcG7rA2ekN5nevwoiTnCX6czQ7Afkak4SWGekpvBoChRwQAvD_BwE:G:s&s_kwcid=AL!13472!3!558204152878!e!!g!!deep%20learning%20definition!14386686693!128518518185&)\n",
        "\n",
        "<br>\n",
        "\n",
        "# <center>About Keras</center>\n",
        "<img src = \"https://github.com/srajan-kiyotaka/ML-CaPsule/blob/feature/Basics%20of%20ML%20and%20DL/Deep%20Learning/Images/keras.png?raw=true\" width=\"350px\" height=\"350px\" align=\"right\">\n",
        "\n",
        "- Keras is a deep learning API written in Python, running on top of the machine learning platform TensorFlow.\n",
        "- Keras was developed with a focus on enabling fast experimentation.\n",
        "- Keras is:\n",
        "  * **Simple:** *Keras reduces developer cognitive load to free you to focus on the parts of the problem that really matter.*\n",
        "  * **Flexible:** *Keras adopts the principle of progressive disclosure of complexity: simple workflows should be quick and easy.*\n",
        "  * **Powerful:** *Keras provides industry-strength performance and scalability.*\n",
        "- [`Reference Link`](https://keras.io/)\n",
        "\n",
        "# <center>About Neural Networks</center>\n",
        "<img src = \"https://github.com/srajan-kiyotaka/ML-CaPsule/blob/feature/Basics%20of%20ML%20and%20DL/Deep%20Learning/Images/DeepNeuralNetwork.png?raw=true\" width=\"500px\" height=\"500px\" align=\"right\">\n",
        "\n",
        "<br><br>\n",
        "\n",
        "- A neural network (NN) is a computing system loosely inspired by the structure of the human brain.\n",
        "- A neural network can “learn” to perform tasks by analyzing examples, usually without task-specific instructions.\n",
        "- Each circle in the image is know as a \"Neuron\".\n",
        "- First layer is a \"Input Layer\".\n",
        "- Last Layer is the \"Output Layer\".\n",
        "- All the layers in between are known as \"Hidden Layers\".\n",
        "- If your network have hidden layers, then it is known as \"Deep Neural Network\". \n",
        "- Different Types of Deep Neural Networks\n",
        "  * **CNN:** *Convolutional Neural Network*\n",
        "  * **RNN:** *Recurrent Neural Network*\n",
        "  \n",
        "<br>\n",
        "  \n",
        "# <center>There are two ways to build Keras models: Sequential and Functional!</center>\n",
        "### ~> The Sequential API allows you to create models layer-by-layer for most problems.\n",
        "### ~> The Functional API allows you to create models that have a lot more flexibility as you can easily define models where layers connect to more than just the previous and next layers.\n",
        "\n",
        "<br>\n",
        "\n",
        "# <center>Sequential Model</center>"
      ]
    },
    {
      "cell_type": "code",
      "execution_count": 19,
      "metadata": {
        "id": "9ErDuOlhC4Kp"
      },
      "outputs": [],
      "source": [
        "# First, import keras\n",
        "import keras\n",
        "\n",
        "# Now, Import the sequential model from keras.models\n",
        "from keras.models import Sequential\n",
        "\n",
        "# Import the type of layer to be used\n",
        "from keras.layers import Dense"
      ]
    },
    {
      "cell_type": "markdown",
      "metadata": {
        "id": "t1jkhEAnC4Kq"
      },
      "source": [
        "## Now, Create The Model! "
      ]
    },
    {
      "cell_type": "code",
      "execution_count": 20,
      "metadata": {
        "collapsed": true,
        "id": "Qqi9k27ZC4Kr"
      },
      "outputs": [],
      "source": [
        "# Creating a Model\n",
        "model = Sequential()"
      ]
    },
    {
      "cell_type": "markdown",
      "metadata": {
        "id": "HvpW6-FbC4Kr"
      },
      "source": [
        "## Define The Model Architecture "
      ]
    },
    {
      "cell_type": "code",
      "execution_count": 21,
      "metadata": {
        "collapsed": true,
        "id": "qYE0iLPPC4Kr"
      },
      "outputs": [],
      "source": [
        "# Input Layer\n",
        "layer1 = Dense(units=32, activation = 'relu', input_dim = 30)\n",
        "\n",
        "# Add the input layer\n",
        "model.add(layer1)\n",
        "\n",
        "# Add the first hidden layer\n",
        "model.add(Dense(units=16, activation = 'relu'))\n",
        "\n",
        "# Add the output layer\n",
        "model.add(Dense(units=1, activation = 'sigmoid'))"
      ]
    },
    {
      "cell_type": "markdown",
      "metadata": {
        "id": "ArqUS45DC4Ks"
      },
      "source": [
        "## Now, Compile the Model"
      ]
    },
    {
      "cell_type": "code",
      "execution_count": 22,
      "metadata": {
        "collapsed": true,
        "id": "i-5ZltEEC4Ks"
      },
      "outputs": [],
      "source": [
        "# specify the loss function and the optimization algorithm\n",
        "model.compile(optimizer='adam', loss='binary_crossentropy', metrics=['accuracy'])"
      ]
    },
    {
      "cell_type": "markdown",
      "metadata": {
        "id": "CeVSt7eyC4Kt"
      },
      "source": [
        "## Import and Load a Dataset from sklearn"
      ]
    },
    {
      "cell_type": "code",
      "execution_count": 23,
      "metadata": {
        "collapsed": true,
        "id": "AcTbYYV0C4Kt"
      },
      "outputs": [],
      "source": [
        "# import the dataset from sklearn\n",
        "from sklearn import datasets\n",
        "\n",
        "# load the cancer dataset\n",
        "cancer = datasets.load_breast_cancer()\n",
        "\n",
        "# used to split the dataset into test and train\n",
        "from sklearn.model_selection import train_test_split\n",
        "\n",
        "# split the dataset into test and train\n",
        "x_train, x_test, y_train, y_test = train_test_split(cancer.data, cancer.target, test_size = 0.2, random_state = 0)\n",
        "\n",
        "from sklearn.preprocessing import StandardScaler\n",
        "\n",
        "sc = StandardScaler()\n",
        "x_train = sc.fit_transform(x_train)\n",
        "x_test = sc.transform(x_test)"
      ]
    },
    {
      "cell_type": "markdown",
      "metadata": {
        "id": "bfkliKVfC4Kt"
      },
      "source": [
        "## Fit the Model"
      ]
    },
    {
      "cell_type": "code",
      "execution_count": 24,
      "metadata": {
        "colab": {
          "base_uri": "https://localhost:8080/"
        },
        "id": "xog9CGFZC4Ku",
        "outputId": "000cb0b5-2eca-42cc-b094-fb4cc0b79aee"
      },
      "outputs": [
        {
          "output_type": "stream",
          "name": "stdout",
          "text": [
            "Epoch 1/20\n",
            "10/10 [==============================] - 1s 24ms/step - loss: 0.6262 - accuracy: 0.6637 - val_loss: 0.5468 - val_accuracy: 0.7895\n",
            "Epoch 2/20\n",
            "10/10 [==============================] - 0s 7ms/step - loss: 0.5033 - accuracy: 0.8242 - val_loss: 0.4573 - val_accuracy: 0.8509\n",
            "Epoch 3/20\n",
            "10/10 [==============================] - 0s 9ms/step - loss: 0.4151 - accuracy: 0.8967 - val_loss: 0.3856 - val_accuracy: 0.8947\n",
            "Epoch 4/20\n",
            "10/10 [==============================] - 0s 8ms/step - loss: 0.3402 - accuracy: 0.9253 - val_loss: 0.3314 - val_accuracy: 0.9211\n",
            "Epoch 5/20\n",
            "10/10 [==============================] - 0s 8ms/step - loss: 0.2799 - accuracy: 0.9341 - val_loss: 0.2895 - val_accuracy: 0.9123\n",
            "Epoch 6/20\n",
            "10/10 [==============================] - 0s 7ms/step - loss: 0.2343 - accuracy: 0.9385 - val_loss: 0.2578 - val_accuracy: 0.9123\n",
            "Epoch 7/20\n",
            "10/10 [==============================] - 0s 7ms/step - loss: 0.1982 - accuracy: 0.9451 - val_loss: 0.2337 - val_accuracy: 0.9211\n",
            "Epoch 8/20\n",
            "10/10 [==============================] - 0s 8ms/step - loss: 0.1713 - accuracy: 0.9516 - val_loss: 0.2140 - val_accuracy: 0.9211\n",
            "Epoch 9/20\n",
            "10/10 [==============================] - 0s 8ms/step - loss: 0.1507 - accuracy: 0.9538 - val_loss: 0.1977 - val_accuracy: 0.9123\n",
            "Epoch 10/20\n",
            "10/10 [==============================] - 0s 8ms/step - loss: 0.1337 - accuracy: 0.9560 - val_loss: 0.1840 - val_accuracy: 0.9123\n",
            "Epoch 11/20\n",
            "10/10 [==============================] - 0s 9ms/step - loss: 0.1198 - accuracy: 0.9670 - val_loss: 0.1719 - val_accuracy: 0.9123\n",
            "Epoch 12/20\n",
            "10/10 [==============================] - 0s 9ms/step - loss: 0.1085 - accuracy: 0.9692 - val_loss: 0.1628 - val_accuracy: 0.9298\n",
            "Epoch 13/20\n",
            "10/10 [==============================] - 0s 9ms/step - loss: 0.0993 - accuracy: 0.9780 - val_loss: 0.1550 - val_accuracy: 0.9474\n",
            "Epoch 14/20\n",
            "10/10 [==============================] - 0s 9ms/step - loss: 0.0930 - accuracy: 0.9780 - val_loss: 0.1495 - val_accuracy: 0.9474\n",
            "Epoch 15/20\n",
            "10/10 [==============================] - 0s 9ms/step - loss: 0.0871 - accuracy: 0.9824 - val_loss: 0.1448 - val_accuracy: 0.9561\n",
            "Epoch 16/20\n",
            "10/10 [==============================] - 0s 7ms/step - loss: 0.0822 - accuracy: 0.9802 - val_loss: 0.1402 - val_accuracy: 0.9561\n",
            "Epoch 17/20\n",
            "10/10 [==============================] - 0s 7ms/step - loss: 0.0780 - accuracy: 0.9802 - val_loss: 0.1355 - val_accuracy: 0.9561\n",
            "Epoch 18/20\n",
            "10/10 [==============================] - 0s 7ms/step - loss: 0.0740 - accuracy: 0.9824 - val_loss: 0.1326 - val_accuracy: 0.9561\n",
            "Epoch 19/20\n",
            "10/10 [==============================] - 0s 7ms/step - loss: 0.0707 - accuracy: 0.9824 - val_loss: 0.1298 - val_accuracy: 0.9649\n",
            "Epoch 20/20\n",
            "10/10 [==============================] - 0s 8ms/step - loss: 0.0680 - accuracy: 0.9846 - val_loss: 0.1268 - val_accuracy: 0.9649\n"
          ]
        },
        {
          "output_type": "execute_result",
          "data": {
            "text/plain": [
              "<keras.callbacks.History at 0x7f38f133d910>"
            ]
          },
          "metadata": {},
          "execution_count": 24
        }
      ],
      "source": [
        "# specify the number of epochs, batch number while fitting the model  \n",
        "\n",
        "model.fit(x_train, y_train, epochs=20, batch_size = 50, validation_data=(x_test, y_test))"
      ]
    },
    {
      "cell_type": "markdown",
      "metadata": {
        "id": "uDLxtVwpC4Ku"
      },
      "source": [
        "## Accuracy of Model on the test dataset"
      ]
    },
    {
      "cell_type": "code",
      "execution_count": 25,
      "metadata": {
        "colab": {
          "base_uri": "https://localhost:8080/"
        },
        "id": "GD99G7MxC4Ku",
        "outputId": "68efd790-860d-4920-eea1-f0d9a739e180"
      },
      "outputs": [
        {
          "output_type": "stream",
          "name": "stdout",
          "text": [
            "4/4 [==============================] - 0s 5ms/step - loss: 0.1268 - accuracy: 0.9649\n"
          ]
        },
        {
          "output_type": "execute_result",
          "data": {
            "text/plain": [
              "[0.12683257460594177, 0.9649122953414917]"
            ]
          },
          "metadata": {},
          "execution_count": 25
        }
      ],
      "source": [
        "predictions = model.predict(x_test)\n",
        "score = model.evaluate(x_test, y_test)\n",
        "score"
      ]
    },
    {
      "cell_type": "markdown",
      "metadata": {
        "id": "SDhQgu_WC4Kv"
      },
      "source": [
        "# <center>Convolutional Neural Network</center>\n",
        "<img src = \"https://github.com/srajan-kiyotaka/ML-CaPsule/blob/feature/Basics%20of%20ML%20and%20DL/Deep%20Learning/Images/cat.gif?raw=true\" width=\"360px\" height=\"360px\" align=\"right\">\n",
        "\n",
        "- One of the most popular deep neural networks is Convolutional Neural Networks.\n",
        "- It is most commonly applied to analyze visual imagery.\n",
        "- The role of the CNN is to reduce the images into a form that is easier to process, without losing features that are critical for getting a good prediction.\n",
        "- The first layer usually extracts basic features such as horizontal or diagonal edges. This output is passed on to the next layer which detects more complex features such as corners or combinational edges.\n",
        "- As we move deeper into the network it can identify even more complex features such as objects, faces, etc\n",
        "- [`Reference Link`](https://www.analyticsvidhya.com/blog/2021/05/convolutional-neural-networks-cnn/)\n",
        "\n",
        "# <center>Let's Make A Simple CNN Model To Detect a Single Digit!</center>\n",
        "<img src = \"https://github.com/srajan-kiyotaka/ML-CaPsule/blob/feature/Basics%20of%20ML%20and%20DL/Deep%20Learning/Images/cnn.gif?raw=true\" width=\"400px\" height=\"400px\" align=\"right\">\n",
        "\n",
        "- We will use the MNIST dataset available in keras library \n",
        "- We can access the dataset with tensorflow.keras \n",
        "- This is a dataset of 60,000 28x28 grayscale images of the 10 digits.\n",
        "- Along with a test set of 10,000 images.\n",
        "- We will create a Model with:\n",
        "  * 3 Convolutional Layers\n",
        "  * 1 Dense Layer\n",
        "  * 1 Input and 1 Output Layer\n",
        "- [Keras Reference](https://keras.io/api/)\n",
        "- [MNIST Reference](http://yann.lecun.com/exdb/mnist/)"
      ]
    },
    {
      "cell_type": "code",
      "execution_count": 26,
      "metadata": {
        "id": "MViAwoMGC4Kv"
      },
      "outputs": [],
      "source": [
        "# Import The Dataset from tensorflow.keras\n",
        "import tensorflow as tf\n",
        "\n",
        "# Load the dataset\n",
        "(x_train, y_train), (x_test, y_test) = tf.keras.datasets.mnist.load_data(path=\"mnist.npz\")"
      ]
    },
    {
      "cell_type": "markdown",
      "source": [
        "## Let's See The Shape of The Dataset"
      ],
      "metadata": {
        "id": "bVzpgIQ4ENzp"
      }
    },
    {
      "cell_type": "code",
      "execution_count": 27,
      "metadata": {
        "colab": {
          "base_uri": "https://localhost:8080/"
        },
        "id": "G8Po5FxuC4Kv",
        "outputId": "53d5d43a-394d-4db8-8222-8d604b2ceccc"
      },
      "outputs": [
        {
          "output_type": "stream",
          "name": "stdout",
          "text": [
            "Shape of x_train = (60000, 28, 28)\n",
            "Shape of x_test = (10000, 28, 28)\n",
            "Shape of y_train = (60000,)\n",
            "Shape of y_test = (10000,)\n"
          ]
        }
      ],
      "source": [
        "# shape of x train and x test\n",
        "print(f\"Shape of x_train = {x_train.shape}\")\n",
        "print(f\"Shape of x_test = {x_test.shape}\")\n",
        "\n",
        "# shape of y train and y test\n",
        "print(f\"Shape of y_train = {y_train.shape}\")\n",
        "print(f\"Shape of y_test = {y_test.shape}\")"
      ]
    },
    {
      "cell_type": "markdown",
      "source": [
        "## Lets See How Images Look"
      ],
      "metadata": {
        "id": "iEwEXtsBEiy6"
      }
    },
    {
      "cell_type": "code",
      "execution_count": 28,
      "metadata": {
        "colab": {
          "base_uri": "https://localhost:8080/",
          "height": 728
        },
        "id": "sI2PsxlLC4Kv",
        "outputId": "8fbd068d-7ee7-4f4a-a3e3-16027cecae79"
      },
      "outputs": [
        {
          "output_type": "display_data",
          "data": {
            "text/plain": [
              "<Figure size 936x936 with 20 Axes>"
            ],
            "image/png": "[encoded data removed]"
          },
          "metadata": {
            "needs_background": "light"
          }
        }
      ],
      "source": [
        "# import matplotlib library\n",
        "import matplotlib.pyplot as plt\n",
        "\n",
        "plt.figure(figsize = (13,13))\n",
        "\n",
        "# make a subplot of size 4 x 5\n",
        "for i in range(1,21):\n",
        "    plt.subplot(4,5,i)\n",
        "    img = x_train[500 + i**2]\n",
        "    plt.imshow(img)\n",
        "plt.show()"
      ]
    },
    {
      "cell_type": "markdown",
      "source": [
        "## Import Important Libraries"
      ],
      "metadata": {
        "id": "uTuRtdEiFHbp"
      }
    },
    {
      "cell_type": "code",
      "execution_count": 29,
      "metadata": {
        "id": "nK1TPhFSC4Kw"
      },
      "outputs": [],
      "source": [
        "# import keras\n",
        "import keras\n",
        "\n",
        "# import the model\n",
        "from keras.models import Sequential\n",
        "\n",
        "# import all the layers required\n",
        "from keras.layers import Dense, Dropout, Conv2D, MaxPooling2D, Flatten\n",
        "\n",
        "# this is used for one hot encoding\n",
        "from keras.utils.np_utils import to_categorical"
      ]
    },
    {
      "cell_type": "markdown",
      "source": [
        "## One Hot Encoding"
      ],
      "metadata": {
        "id": "Ib5kh1m2FcCR"
      }
    },
    {
      "cell_type": "code",
      "execution_count": 30,
      "metadata": {
        "colab": {
          "base_uri": "https://localhost:8080/"
        },
        "id": "svOdiK6KC4Kw",
        "outputId": "13f7d152-3eb3-4e5d-ce14-73f565d026ab"
      },
      "outputs": [
        {
          "output_type": "stream",
          "name": "stdout",
          "text": [
            "Shape of Training set y before one hot encoding : (60000,)\n",
            "Shape of Training set y before one hot encoding : (60000, 10)\n"
          ]
        }
      ],
      "source": [
        "print(f\"Shape of Training set y before one hot encoding : {y_train.shape}\")\n",
        "y_train = to_categorical(y_train, 10)\n",
        "y_test = to_categorical(y_test, 10)\n",
        "print(f\"Shape of Training set y before one hot encoding : {y_train.shape}\")"
      ]
    },
    {
      "cell_type": "markdown",
      "source": [
        "## Model Architecture"
      ],
      "metadata": {
        "id": "qqx8KbsdFghK"
      }
    },
    {
      "cell_type": "code",
      "execution_count": 31,
      "metadata": {
        "id": "Ehq_OFGNC4Kw"
      },
      "outputs": [],
      "source": [
        "model = Sequential()\n",
        "\n",
        "# Convolutional Layers\n",
        "model.add(Conv2D(50, kernel_size = (3,3), strides = (1,1), padding = 'same', activation = 'relu', input_shape = (28,28,1)))\n",
        "\n",
        "model.add(Conv2D(75, kernel_size = (3,3), strides = (1,1), padding = 'same', activation = 'relu'))\n",
        "model.add(MaxPooling2D(pool_size = (2,2)))\n",
        "model.add(Dropout(0.25))\n",
        "\n",
        "model.add(Conv2D(100, kernel_size = (3,3), strides = (1,1), padding = 'same', activation = 'relu'))\n",
        "model.add(MaxPooling2D(pool_size = (2,2)))\n",
        "model.add(Dropout(0.25))\n",
        "\n",
        "model.add(Flatten())\n",
        "\n",
        "# Hidden Layers\n",
        "model.add(Dense(256, activation = 'relu'))\n",
        "model.add(Dropout(0.25))\n",
        "\n",
        "# Output Layer\n",
        "model.add(Dense(10, activation = 'softmax'))"
      ]
    },
    {
      "cell_type": "markdown",
      "source": [
        "## Model Summary"
      ],
      "metadata": {
        "id": "AJQdPWftdXTS"
      }
    },
    {
      "cell_type": "code",
      "source": [
        "model.summary()"
      ],
      "metadata": {
        "colab": {
          "base_uri": "https://localhost:8080/"
        },
        "id": "3uDqHPRudQFd",
        "outputId": "0a766ab9-97bd-4838-9ffd-5032b498a096"
      },
      "execution_count": 38,
      "outputs": [
        {
          "output_type": "stream",
          "name": "stdout",
          "text": [
            "Model: \"sequential_3\"\n",
            "_________________________________________________________________\n",
            " Layer (type)                Output Shape              Param #   \n",
            "=================================================================\n",
            " conv2d_3 (Conv2D)           (None, 28, 28, 50)        500       \n",
            "                                                                 \n",
            " conv2d_4 (Conv2D)           (None, 28, 28, 75)        33825     \n",
            "                                                                 \n",
            " max_pooling2d_2 (MaxPooling  (None, 14, 14, 75)       0         \n",
            " 2D)                                                             \n",
            "                                                                 \n",
            " dropout_3 (Dropout)         (None, 14, 14, 75)        0         \n",
            "                                                                 \n",
            " conv2d_5 (Conv2D)           (None, 14, 14, 100)       67600     \n",
            "                                                                 \n",
            " max_pooling2d_3 (MaxPooling  (None, 7, 7, 100)        0         \n",
            " 2D)                                                             \n",
            "                                                                 \n",
            " dropout_4 (Dropout)         (None, 7, 7, 100)         0         \n",
            "                                                                 \n",
            " flatten_1 (Flatten)         (None, 4900)              0         \n",
            "                                                                 \n",
            " dense_8 (Dense)             (None, 256)               1254656   \n",
            "                                                                 \n",
            " dropout_5 (Dropout)         (None, 256)               0         \n",
            "                                                                 \n",
            " dense_9 (Dense)             (None, 10)                2570      \n",
            "                                                                 \n",
            "=================================================================\n",
            "Total params: 1,359,151\n",
            "Trainable params: 1,359,151\n",
            "Non-trainable params: 0\n",
            "_________________________________________________________________\n"
          ]
        }
      ]
    },
    {
      "cell_type": "markdown",
      "source": [
        "## Compile The Model"
      ],
      "metadata": {
        "id": "XwVRCmtoSLa8"
      }
    },
    {
      "cell_type": "code",
      "execution_count": 32,
      "metadata": {
        "id": "ezXjD3rtC4Kw"
      },
      "outputs": [],
      "source": [
        "model.compile(loss = 'categorical_crossentropy', metrics = ['accuracy'], optimizer = 'adam')"
      ]
    },
    {
      "cell_type": "markdown",
      "source": [
        "## Fit The Model"
      ],
      "metadata": {
        "id": "amGQe4lPSQW2"
      }
    },
    {
      "cell_type": "code",
      "execution_count": 33,
      "metadata": {
        "colab": {
          "base_uri": "https://localhost:8080/"
        },
        "id": "TigKCOxHC4Kw",
        "outputId": "ea24ba28-0773-4dfa-b826-a7c96dfaa7ba"
      },
      "outputs": [
        {
          "output_type": "stream",
          "name": "stdout",
          "text": [
            "Epoch 1/15\n",
            "500/500 [==============================] - 16s 30ms/step - loss: 0.5156 - accuracy: 0.9164 - val_loss: 0.0440 - val_accuracy: 0.9861\n",
            "Epoch 2/15\n",
            "500/500 [==============================] - 15s 31ms/step - loss: 0.0800 - accuracy: 0.9755 - val_loss: 0.0274 - val_accuracy: 0.9903\n",
            "Epoch 3/15\n",
            "500/500 [==============================] - 15s 31ms/step - loss: 0.0608 - accuracy: 0.9813 - val_loss: 0.0257 - val_accuracy: 0.9913\n",
            "Epoch 4/15\n",
            "500/500 [==============================] - 15s 31ms/step - loss: 0.0498 - accuracy: 0.9845 - val_loss: 0.0249 - val_accuracy: 0.9914\n",
            "Epoch 5/15\n",
            "500/500 [==============================] - 15s 30ms/step - loss: 0.0439 - accuracy: 0.9859 - val_loss: 0.0219 - val_accuracy: 0.9926\n",
            "Epoch 6/15\n",
            "500/500 [==============================] - 15s 30ms/step - loss: 0.0388 - accuracy: 0.9876 - val_loss: 0.0232 - val_accuracy: 0.9920\n",
            "Epoch 7/15\n",
            "500/500 [==============================] - 15s 30ms/step - loss: 0.0382 - accuracy: 0.9880 - val_loss: 0.0206 - val_accuracy: 0.9931\n",
            "Epoch 8/15\n",
            "500/500 [==============================] - 15s 29ms/step - loss: 0.0340 - accuracy: 0.9891 - val_loss: 0.0227 - val_accuracy: 0.9924\n",
            "Epoch 9/15\n",
            "500/500 [==============================] - 15s 29ms/step - loss: 0.0340 - accuracy: 0.9890 - val_loss: 0.0231 - val_accuracy: 0.9926\n",
            "Epoch 10/15\n",
            "500/500 [==============================] - 15s 30ms/step - loss: 0.0311 - accuracy: 0.9904 - val_loss: 0.0248 - val_accuracy: 0.9918\n",
            "Epoch 11/15\n",
            "500/500 [==============================] - 15s 30ms/step - loss: 0.0265 - accuracy: 0.9917 - val_loss: 0.0269 - val_accuracy: 0.9926\n",
            "Epoch 12/15\n",
            "500/500 [==============================] - 15s 30ms/step - loss: 0.0290 - accuracy: 0.9907 - val_loss: 0.0202 - val_accuracy: 0.9943\n",
            "Epoch 13/15\n",
            "500/500 [==============================] - 15s 30ms/step - loss: 0.0288 - accuracy: 0.9912 - val_loss: 0.0214 - val_accuracy: 0.9931\n",
            "Epoch 14/15\n",
            "500/500 [==============================] - 15s 30ms/step - loss: 0.0261 - accuracy: 0.9922 - val_loss: 0.0262 - val_accuracy: 0.9935\n",
            "Epoch 15/15\n",
            "500/500 [==============================] - 15s 31ms/step - loss: 0.0261 - accuracy: 0.9920 - val_loss: 0.0230 - val_accuracy: 0.9928\n"
          ]
        },
        {
          "output_type": "execute_result",
          "data": {
            "text/plain": [
              "<keras.callbacks.History at 0x7f3877ca9f10>"
            ]
          },
          "metadata": {},
          "execution_count": 33
        }
      ],
      "source": [
        "model.fit(x_train, y_train, batch_size = 120, epochs = 15, validation_data = (x_test,y_test))"
      ]
    },
    {
      "cell_type": "markdown",
      "source": [
        "## Predict our Model on the x_test dataset"
      ],
      "metadata": {
        "id": "ffbCcqzjbVRE"
      }
    },
    {
      "cell_type": "code",
      "execution_count": 34,
      "metadata": {
        "id": "3jBl-ApZC4Kx"
      },
      "outputs": [],
      "source": [
        "prediction = model.predict(x_test)"
      ]
    },
    {
      "cell_type": "markdown",
      "source": [
        "## Lets see the shape of prediction"
      ],
      "metadata": {
        "id": "lDTIHFMLbbup"
      }
    },
    {
      "cell_type": "code",
      "source": [
        "prediction.shape"
      ],
      "metadata": {
        "colab": {
          "base_uri": "https://localhost:8080/"
        },
        "id": "SPc6W0ZMZ4aR",
        "outputId": "587dc784-69cb-40b6-dfc7-1bc7391cc0be"
      },
      "execution_count": 35,
      "outputs": [
        {
          "output_type": "execute_result",
          "data": {
            "text/plain": [
              "(10000, 10)"
            ]
          },
          "metadata": {},
          "execution_count": 35
        }
      ]
    },
    {
      "cell_type": "markdown",
      "source": [
        "## Calculate the Accuracy of the Model"
      ],
      "metadata": {
        "id": "CdeVb_cPbh0j"
      }
    },
    {
      "cell_type": "code",
      "source": [
        "# import numpy library\n",
        "import numpy as np\n",
        "\n",
        "error = 0\n",
        "\n",
        "for i in range(prediction.shape[0]):\n",
        "    test_predic = np.argmax(prediction[i])\n",
        "    acc_predic = np.argmax(y_test[i])\n",
        "    if (test_predic == acc_predic): \n",
        "        pass\n",
        "    else:\n",
        "        error += 1\n",
        "\n",
        "print(f\"Model Accuracy is = {(prediction.shape[0] - error)/prediction.shape[0]}\")"
      ],
      "metadata": {
        "colab": {
          "base_uri": "https://localhost:8080/"
        },
        "id": "Lpxpd5ogZ75I",
        "outputId": "bb864167-3b82-4ec7-db2a-53e8bf4e2b30"
      },
      "execution_count": 37,
      "outputs": [
        {
          "output_type": "stream",
          "name": "stdout",
          "text": [
            "Model Accuracy is = 0.9928\n"
          ]
        }
      ]
    }
  ],
  "metadata": {
    "kernelspec": {
      "display_name": "Python 3",
      "language": "python",
      "name": "python3"
    },
    "language_info": {
      "codemirror_mode": {
        "name": "ipython",
        "version": 3
      },
      "file_extension": ".py",
      "mimetype": "text/x-python",
      "name": "python",
      "nbconvert_exporter": "python",
      "pygments_lexer": "ipython3",
      "version": "3.8.12"
    },
    "varInspector": {
      "cols": {
        "lenName": 16,
        "lenType": 16,
        "lenVar": 40
      },
      "kernels_config": {
        "python": {
          "delete_cmd_postfix": "",
          "delete_cmd_prefix": "del ",
          "library": "var_list.py",
          "varRefreshCmd": "print(var_dic_list())"
        },
        "r": {
          "delete_cmd_postfix": ") ",
          "delete_cmd_prefix": "rm(",
          "library": "var_list.r",
          "varRefreshCmd": "cat(var_dic_list()) "
        }
      },
      "types_to_exclude": [
        "module",
        "function",
        "builtin_function_or_method",
        "instance",
        "_Feature"
      ],
      "window_display": false
    },
    "colab": {
      "name": "Keras Intro.ipynb",
      "provenance": [],
      "collapsed_sections": []
    },
    "accelerator": "GPU"
  },
  "nbformat": 4,
  "nbformat_minor": 0
}