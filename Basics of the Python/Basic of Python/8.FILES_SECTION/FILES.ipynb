{
 "cells": [
  {
   "cell_type": "markdown",
   "metadata": {},
   "source": [
    "<h1 style=\"color:blue;text-align:center;\">WORKING WITH TXT FILES</h1>\n",
    "<ul>\n",
    "    <li>Text files are built-in Python feature. No import modules required</li>\n",
    "    <li>Text files have the .txt format</li>\n",
    "    <li>Use either <b>open</b> or <b>with open</b> to either read or write a text file</li>\n",
    "    <li>Use one of four modes for txt files:\n",
    "    <ul>\n",
    "<li>\"w\" for writing</li>\n",
    "<li>\"r\" for reading</li>\n",
    "<li>\"r+\" for both reading and writing</li>\n",
    "<li>\"a\" for appending new written lines</li>\n",
    "</ul>\n",
    "</li>\n",
    "</ul>"
   ]
  },
  {
   "cell_type": "code",
   "execution_count": 2,
   "metadata": {},
   "outputs": [],
   "source": [
    "desk = \"C:/Users/Varshni/Desktop/\"\n",
    "f = open(desk + \"first.txt\", \"w\")\n",
    "f.write(\"This is my first file!\")\n",
    "f.write(\"\\nHello world!\")\n",
    "f.close()"
   ]
  },
  {
   "cell_type": "code",
   "execution_count": 3,
   "metadata": {},
   "outputs": [],
   "source": [
    "f1 = open(desk + \"first.txt\", \"a\")\n",
    "f1.write(\"\\nGood Night!\")\n",
    "f1.close()\n"
   ]
  },
  {
   "cell_type": "code",
   "execution_count": 5,
   "metadata": {},
   "outputs": [],
   "source": [
    "with open(desk + \"first.txt\", \"a\") as g:\n",
    "    g.write(\"\\nCool!\")\n"
   ]
  },
  {
   "cell_type": "code",
   "execution_count": 6,
   "metadata": {},
   "outputs": [
    {
     "name": "stdout",
     "output_type": "stream",
     "text": [
      "This is my first file!\n",
      "Hello world!\n",
      "Good Night!\n",
      "Cool!\n"
     ]
    }
   ],
   "source": [
    "f2 = open(desk + \"first.txt\", \"r\")\n",
    "print(f2.read())\n",
    "f2.close()"
   ]
  },
  {
   "cell_type": "code",
   "execution_count": 8,
   "metadata": {},
   "outputs": [
    {
     "ename": "FileNotFoundError",
     "evalue": "[Errno 2] No such file or directory: 'C:/Users/Varshni/Desktop/FILE_0/second.txt'",
     "output_type": "error",
     "traceback": [
      "\u001b[1;31m---------------------------------------------------------------------------\u001b[0m",
      "\u001b[1;31mFileNotFoundError\u001b[0m                         Traceback (most recent call last)",
      "\u001b[1;32m<ipython-input-8-12428becc552>\u001b[0m in \u001b[0;36m<module>\u001b[1;34m\u001b[0m\n\u001b[0;32m      2\u001b[0m \u001b[0mpath\u001b[0m \u001b[1;33m=\u001b[0m \u001b[1;34m\"C:/Users/Varshni/Desktop/FILE_{}/second.txt\"\u001b[0m\u001b[1;33m\u001b[0m\u001b[1;33m\u001b[0m\u001b[0m\n\u001b[0;32m      3\u001b[0m \u001b[1;32mfor\u001b[0m \u001b[0mi\u001b[0m \u001b[1;32min\u001b[0m \u001b[0mrange\u001b[0m\u001b[1;33m(\u001b[0m\u001b[0mlen\u001b[0m\u001b[1;33m(\u001b[0m\u001b[0mgear\u001b[0m\u001b[1;33m)\u001b[0m\u001b[1;33m)\u001b[0m\u001b[1;33m:\u001b[0m\u001b[1;33m\u001b[0m\u001b[1;33m\u001b[0m\u001b[0m\n\u001b[1;32m----> 4\u001b[1;33m     \u001b[1;32mwith\u001b[0m \u001b[0mopen\u001b[0m\u001b[1;33m(\u001b[0m\u001b[0mpath\u001b[0m\u001b[1;33m.\u001b[0m\u001b[0mformat\u001b[0m\u001b[1;33m(\u001b[0m\u001b[0mi\u001b[0m\u001b[1;33m)\u001b[0m\u001b[1;33m,\u001b[0m \u001b[1;34m\"w\"\u001b[0m\u001b[1;33m)\u001b[0m \u001b[1;32mas\u001b[0m \u001b[0mf3\u001b[0m\u001b[1;33m:\u001b[0m\u001b[1;33m\u001b[0m\u001b[1;33m\u001b[0m\u001b[0m\n\u001b[0m\u001b[0;32m      5\u001b[0m         \u001b[0mf3\u001b[0m\u001b[1;33m.\u001b[0m\u001b[0mwrite\u001b[0m\u001b[1;33m(\u001b[0m\u001b[0mgear\u001b[0m\u001b[1;33m[\u001b[0m\u001b[0mi\u001b[0m\u001b[1;33m]\u001b[0m\u001b[1;33m)\u001b[0m\u001b[1;33m\u001b[0m\u001b[1;33m\u001b[0m\u001b[0m\n\u001b[0;32m      6\u001b[0m         \u001b[1;31m# f3.write(\"\\n\"+gear[1])\u001b[0m\u001b[1;33m\u001b[0m\u001b[1;33m\u001b[0m\u001b[1;33m\u001b[0m\u001b[0m\n",
      "\u001b[1;31mFileNotFoundError\u001b[0m: [Errno 2] No such file or directory: 'C:/Users/Varshni/Desktop/FILE_0/second.txt'"
     ]
    }
   ],
   "source": [
    "gear = [\"Blade Wolf\", \"Raiden\", \"Sam\"]\n",
    "path = \"C:/Users/Varshni/Desktop/FILE_{}/second.txt\"\n",
    "for i in range(len(gear)):\n",
    "    with open(path.format(i), \"w\") as f3:\n",
    "        f3.write(gear[i])\n",
    "        # f3.write(\"\\n\"+gear[1])\n",
    "        f3.write(\"\\n{} is cooler than {}\".format(gear[0], gear[1]))"
   ]
  },
  {
   "cell_type": "code",
   "execution_count": 11,
   "metadata": {},
   "outputs": [],
   "source": [
    "simpsons = [[\"Bart in detention\", \"Lisa at MIT\"],\n",
    "[\"Dougnuts...Mmm\", \"Homer: 'Nom, nom, nom!'\"]]\n",
    "transformers = [[\"HotRod opens matrix\", \"Optimus returns!\"],\n",
    "[\"Unicron explodes\", \"Megatron jumps\"]]\n",
    "def File(text):\n",
    "    path = \"C:/Users/Varshni/Desktop/\"\n",
    "    for i in range(len(text)):\n",
    "        with open(path + \"cartoon_{}.txt\".format(i),\"w\") as f:\n",
    "            f.write(text[i][0])\n",
    "            f.write(\"\\n\"+text[i][1])\n",
    "File(transformers)\n"
   ]
  },
  {
   "cell_type": "code",
   "execution_count": 12,
   "metadata": {},
   "outputs": [],
   "source": [
    "dc = open(\"skynet.txt\", \"w\")\n",
    "dc.write(\"\"\"Terminator is \\n\n",
    "hunting John connor \\n\n",
    "and Sarah is protecting him\"\"\")\n",
    "dc.close()\n"
   ]
  },
  {
   "cell_type": "code",
   "execution_count": 14,
   "metadata": {},
   "outputs": [],
   "source": [
    "d = open(\"skynet.txt\", \"r+\")\n",
    "d.write(\"\\n hasta la vista baby!\")\n",
    "end = d.readlines()\n",
    "d.close()\n"
   ]
  },
  {
   "cell_type": "code",
   "execution_count": 15,
   "metadata": {},
   "outputs": [],
   "source": [
    "film = \"\".join(end)"
   ]
  },
  {
   "cell_type": "code",
   "execution_count": 16,
   "metadata": {},
   "outputs": [
    {
     "data": {
      "text/plain": [
       "False"
      ]
     },
     "execution_count": 16,
     "metadata": {},
     "output_type": "execute_result"
    }
   ],
   "source": [
    "\"Carl\" in film.replace(\"\\n\", \" \").split()"
   ]
  },
  {
   "cell_type": "code",
   "execution_count": null,
   "metadata": {},
   "outputs": [],
   "source": []
  },
  {
   "cell_type": "code",
   "execution_count": null,
   "metadata": {},
   "outputs": [],
   "source": []
  },
  {
   "cell_type": "code",
   "execution_count": null,
   "metadata": {},
   "outputs": [],
   "source": []
  },
  {
   "cell_type": "markdown",
   "metadata": {},
   "source": []
  }
 ],
 "metadata": {
  "kernelspec": {
   "display_name": "vars",
   "language": "python",
   "name": "vars"
  },
  "language_info": {
   "codemirror_mode": {
    "name": "ipython",
    "version": 3
   },
   "file_extension": ".py",
   "mimetype": "text/x-python",
   "name": "python",
   "nbconvert_exporter": "python",
   "pygments_lexer": "ipython3",
   "version": "3.8.5"
  }
 },
 "nbformat": 4,
 "nbformat_minor": 2
}
