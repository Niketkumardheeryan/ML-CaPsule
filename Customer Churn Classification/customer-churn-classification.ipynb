{
 "cells": [
  {
   "cell_type": "code",
   "execution_count": 1,
   "id": "d4aaf563",
   "metadata": {
    "execution": {
     "iopub.execute_input": "2022-08-11T02:51:49.245761Z",
     "iopub.status.busy": "2022-08-11T02:51:49.245386Z",
     "iopub.status.idle": "2022-08-11T02:51:49.257049Z",
     "shell.execute_reply": "2022-08-11T02:51:49.255138Z"
    },
    "id": "ZoiMlEdrLvPp",
    "papermill": {
     "duration": 0.033063,
     "end_time": "2022-08-11T02:51:49.259530",
     "exception": false,
     "start_time": "2022-08-11T02:51:49.226467",
     "status": "completed"
    },
    "tags": []
   },
   "outputs": [],
   "source": [
    "import pandas as pd\n",
    "import numpy as np"
   ]
  },
  {
   "cell_type": "code",
   "execution_count": 2,
   "id": "8f942cab",
   "metadata": {
    "execution": {
     "iopub.execute_input": "2022-08-11T02:51:49.298039Z",
     "iopub.status.busy": "2022-08-11T02:51:49.297639Z",
     "iopub.status.idle": "2022-08-11T02:51:49.360879Z",
     "shell.execute_reply": "2022-08-11T02:51:49.360138Z"
    },
    "id": "owxQk1VGL21q",
    "papermill": {
     "duration": 0.085528,
     "end_time": "2022-08-11T02:51:49.362878",
     "exception": false,
     "start_time": "2022-08-11T02:51:49.277350",
     "status": "completed"
    },
    "tags": []
   },
   "outputs": [],
   "source": [
    "df = pd.read_csv(\"../input/telecom-customer-churn-by-maven-analytics/telecom_customer_churn.csv\")"
   ]
  },
  {
   "cell_type": "code",
   "execution_count": 3,
   "id": "83756da1",
   "metadata": {
    "execution": {
     "iopub.execute_input": "2022-08-11T02:51:49.403093Z",
     "iopub.status.busy": "2022-08-11T02:51:49.402761Z",
     "iopub.status.idle": "2022-08-11T02:51:49.440790Z",
     "shell.execute_reply": "2022-08-11T02:51:49.439447Z"
    },
    "id": "cut4j-XHL9ZB",
    "outputId": "392d583a-3967-43e0-8562-861dacac31d7",
    "papermill": {
     "duration": 0.061138,
     "end_time": "2022-08-11T02:51:49.443101",
     "exception": false,
     "start_time": "2022-08-11T02:51:49.381963",
     "status": "completed"
    },
    "tags": []
   },
   "outputs": [
    {
     "data": {
      "text/html": [
       "<div>\n",
       "<style scoped>\n",
       "    .dataframe tbody tr th:only-of-type {\n",
       "        vertical-align: middle;\n",
       "    }\n",
       "\n",
       "    .dataframe tbody tr th {\n",
       "        vertical-align: top;\n",
       "    }\n",
       "\n",
       "    .dataframe thead th {\n",
       "        text-align: right;\n",
       "    }\n",
       "</style>\n",
       "<table border=\"1\" class=\"dataframe\">\n",
       "  <thead>\n",
       "    <tr style=\"text-align: right;\">\n",
       "      <th></th>\n",
       "      <th>Customer ID</th>\n",
       "      <th>Gender</th>\n",
       "      <th>Age</th>\n",
       "      <th>Married</th>\n",
       "      <th>Number of Dependents</th>\n",
       "      <th>City</th>\n",
       "      <th>Zip Code</th>\n",
       "      <th>Latitude</th>\n",
       "      <th>Longitude</th>\n",
       "      <th>Number of Referrals</th>\n",
       "      <th>...</th>\n",
       "      <th>Payment Method</th>\n",
       "      <th>Monthly Charge</th>\n",
       "      <th>Total Charges</th>\n",
       "      <th>Total Refunds</th>\n",
       "      <th>Total Extra Data Charges</th>\n",
       "      <th>Total Long Distance Charges</th>\n",
       "      <th>Total Revenue</th>\n",
       "      <th>Customer Status</th>\n",
       "      <th>Churn Category</th>\n",
       "      <th>Churn Reason</th>\n",
       "    </tr>\n",
       "  </thead>\n",
       "  <tbody>\n",
       "    <tr>\n",
       "      <th>0</th>\n",
       "      <td>0002-ORFBO</td>\n",
       "      <td>Female</td>\n",
       "      <td>37</td>\n",
       "      <td>Yes</td>\n",
       "      <td>0</td>\n",
       "      <td>Frazier Park</td>\n",
       "      <td>93225</td>\n",
       "      <td>34.827662</td>\n",
       "      <td>-118.999073</td>\n",
       "      <td>2</td>\n",
       "      <td>...</td>\n",
       "      <td>Credit Card</td>\n",
       "      <td>65.6</td>\n",
       "      <td>593.30</td>\n",
       "      <td>0.00</td>\n",
       "      <td>0</td>\n",
       "      <td>381.51</td>\n",
       "      <td>974.81</td>\n",
       "      <td>Stayed</td>\n",
       "      <td>NaN</td>\n",
       "      <td>NaN</td>\n",
       "    </tr>\n",
       "    <tr>\n",
       "      <th>1</th>\n",
       "      <td>0003-MKNFE</td>\n",
       "      <td>Male</td>\n",
       "      <td>46</td>\n",
       "      <td>No</td>\n",
       "      <td>0</td>\n",
       "      <td>Glendale</td>\n",
       "      <td>91206</td>\n",
       "      <td>34.162515</td>\n",
       "      <td>-118.203869</td>\n",
       "      <td>0</td>\n",
       "      <td>...</td>\n",
       "      <td>Credit Card</td>\n",
       "      <td>-4.0</td>\n",
       "      <td>542.40</td>\n",
       "      <td>38.33</td>\n",
       "      <td>10</td>\n",
       "      <td>96.21</td>\n",
       "      <td>610.28</td>\n",
       "      <td>Stayed</td>\n",
       "      <td>NaN</td>\n",
       "      <td>NaN</td>\n",
       "    </tr>\n",
       "    <tr>\n",
       "      <th>2</th>\n",
       "      <td>0004-TLHLJ</td>\n",
       "      <td>Male</td>\n",
       "      <td>50</td>\n",
       "      <td>No</td>\n",
       "      <td>0</td>\n",
       "      <td>Costa Mesa</td>\n",
       "      <td>92627</td>\n",
       "      <td>33.645672</td>\n",
       "      <td>-117.922613</td>\n",
       "      <td>0</td>\n",
       "      <td>...</td>\n",
       "      <td>Bank Withdrawal</td>\n",
       "      <td>73.9</td>\n",
       "      <td>280.85</td>\n",
       "      <td>0.00</td>\n",
       "      <td>0</td>\n",
       "      <td>134.60</td>\n",
       "      <td>415.45</td>\n",
       "      <td>Churned</td>\n",
       "      <td>Competitor</td>\n",
       "      <td>Competitor had better devices</td>\n",
       "    </tr>\n",
       "    <tr>\n",
       "      <th>3</th>\n",
       "      <td>0011-IGKFF</td>\n",
       "      <td>Male</td>\n",
       "      <td>78</td>\n",
       "      <td>Yes</td>\n",
       "      <td>0</td>\n",
       "      <td>Martinez</td>\n",
       "      <td>94553</td>\n",
       "      <td>38.014457</td>\n",
       "      <td>-122.115432</td>\n",
       "      <td>1</td>\n",
       "      <td>...</td>\n",
       "      <td>Bank Withdrawal</td>\n",
       "      <td>98.0</td>\n",
       "      <td>1237.85</td>\n",
       "      <td>0.00</td>\n",
       "      <td>0</td>\n",
       "      <td>361.66</td>\n",
       "      <td>1599.51</td>\n",
       "      <td>Churned</td>\n",
       "      <td>Dissatisfaction</td>\n",
       "      <td>Product dissatisfaction</td>\n",
       "    </tr>\n",
       "    <tr>\n",
       "      <th>4</th>\n",
       "      <td>0013-EXCHZ</td>\n",
       "      <td>Female</td>\n",
       "      <td>75</td>\n",
       "      <td>Yes</td>\n",
       "      <td>0</td>\n",
       "      <td>Camarillo</td>\n",
       "      <td>93010</td>\n",
       "      <td>34.227846</td>\n",
       "      <td>-119.079903</td>\n",
       "      <td>3</td>\n",
       "      <td>...</td>\n",
       "      <td>Credit Card</td>\n",
       "      <td>83.9</td>\n",
       "      <td>267.40</td>\n",
       "      <td>0.00</td>\n",
       "      <td>0</td>\n",
       "      <td>22.14</td>\n",
       "      <td>289.54</td>\n",
       "      <td>Churned</td>\n",
       "      <td>Dissatisfaction</td>\n",
       "      <td>Network reliability</td>\n",
       "    </tr>\n",
       "  </tbody>\n",
       "</table>\n",
       "<p>5 rows × 38 columns</p>\n",
       "</div>"
      ],
      "text/plain": [
       "  Customer ID  Gender  Age Married  Number of Dependents          City  \\\n",
       "0  0002-ORFBO  Female   37     Yes                     0  Frazier Park   \n",
       "1  0003-MKNFE    Male   46      No                     0      Glendale   \n",
       "2  0004-TLHLJ    Male   50      No                     0    Costa Mesa   \n",
       "3  0011-IGKFF    Male   78     Yes                     0      Martinez   \n",
       "4  0013-EXCHZ  Female   75     Yes                     0     Camarillo   \n",
       "\n",
       "   Zip Code   Latitude   Longitude  Number of Referrals  ...   Payment Method  \\\n",
       "0     93225  34.827662 -118.999073                    2  ...      Credit Card   \n",
       "1     91206  34.162515 -118.203869                    0  ...      Credit Card   \n",
       "2     92627  33.645672 -117.922613                    0  ...  Bank Withdrawal   \n",
       "3     94553  38.014457 -122.115432                    1  ...  Bank Withdrawal   \n",
       "4     93010  34.227846 -119.079903                    3  ...      Credit Card   \n",
       "\n",
       "  Monthly Charge Total Charges  Total Refunds Total Extra Data Charges  \\\n",
       "0           65.6        593.30           0.00                        0   \n",
       "1           -4.0        542.40          38.33                       10   \n",
       "2           73.9        280.85           0.00                        0   \n",
       "3           98.0       1237.85           0.00                        0   \n",
       "4           83.9        267.40           0.00                        0   \n",
       "\n",
       "  Total Long Distance Charges Total Revenue  Customer Status   Churn Category  \\\n",
       "0                      381.51        974.81           Stayed              NaN   \n",
       "1                       96.21        610.28           Stayed              NaN   \n",
       "2                      134.60        415.45          Churned       Competitor   \n",
       "3                      361.66       1599.51          Churned  Dissatisfaction   \n",
       "4                       22.14        289.54          Churned  Dissatisfaction   \n",
       "\n",
       "                    Churn Reason  \n",
       "0                            NaN  \n",
       "1                            NaN  \n",
       "2  Competitor had better devices  \n",
       "3        Product dissatisfaction  \n",
       "4            Network reliability  \n",
       "\n",
       "[5 rows x 38 columns]"
      ]
     },
     "execution_count": 3,
     "metadata": {},
     "output_type": "execute_result"
    }
   ],
   "source": [
    "df.head()"
   ]
  },
  {
   "cell_type": "code",
   "execution_count": 4,
   "id": "473f7b22",
   "metadata": {
    "execution": {
     "iopub.execute_input": "2022-08-11T02:51:49.477909Z",
     "iopub.status.busy": "2022-08-11T02:51:49.477540Z",
     "iopub.status.idle": "2022-08-11T02:51:49.483491Z",
     "shell.execute_reply": "2022-08-11T02:51:49.482586Z"
    },
    "id": "iLCe5YVXMWEb",
    "outputId": "c1d0f16b-ff8d-4e05-ea75-7ad4351aeea6",
    "papermill": {
     "duration": 0.026283,
     "end_time": "2022-08-11T02:51:49.486193",
     "exception": false,
     "start_time": "2022-08-11T02:51:49.459910",
     "status": "completed"
    },
    "tags": []
   },
   "outputs": [
    {
     "data": {
      "text/plain": [
       "(7043, 38)"
      ]
     },
     "execution_count": 4,
     "metadata": {},
     "output_type": "execute_result"
    }
   ],
   "source": [
    "df.shape"
   ]
  },
  {
   "cell_type": "markdown",
   "id": "e00a41c9",
   "metadata": {
    "id": "s8aYfUoeMfxM",
    "papermill": {
     "duration": 0.020344,
     "end_time": "2022-08-11T02:51:49.524222",
     "exception": false,
     "start_time": "2022-08-11T02:51:49.503878",
     "status": "completed"
    },
    "tags": []
   },
   "source": [
    "Checking the missing data in file"
   ]
  },
  {
   "cell_type": "code",
   "execution_count": 5,
   "id": "e47c45e9",
   "metadata": {
    "execution": {
     "iopub.execute_input": "2022-08-11T02:51:49.562096Z",
     "iopub.status.busy": "2022-08-11T02:51:49.561577Z",
     "iopub.status.idle": "2022-08-11T02:51:49.576871Z",
     "shell.execute_reply": "2022-08-11T02:51:49.575774Z"
    },
    "id": "SqehXuw4MbVm",
    "outputId": "c1a01a44-b97e-4cf3-a66c-938e91b7126e",
    "papermill": {
     "duration": 0.035798,
     "end_time": "2022-08-11T02:51:49.578882",
     "exception": false,
     "start_time": "2022-08-11T02:51:49.543084",
     "status": "completed"
    },
    "tags": []
   },
   "outputs": [
    {
     "data": {
      "text/plain": [
       "Customer ID                             0\n",
       "Gender                                  0\n",
       "Age                                     0\n",
       "Married                                 0\n",
       "Number of Dependents                    0\n",
       "City                                    0\n",
       "Zip Code                                0\n",
       "Latitude                                0\n",
       "Longitude                               0\n",
       "Number of Referrals                     0\n",
       "Tenure in Months                        0\n",
       "Offer                                   0\n",
       "Phone Service                           0\n",
       "Avg Monthly Long Distance Charges     682\n",
       "Multiple Lines                        682\n",
       "Internet Service                        0\n",
       "Internet Type                        1526\n",
       "Avg Monthly GB Download              1526\n",
       "Online Security                      1526\n",
       "Online Backup                        1526\n",
       "Device Protection Plan               1526\n",
       "Premium Tech Support                 1526\n",
       "Streaming TV                         1526\n",
       "Streaming Movies                     1526\n",
       "Streaming Music                      1526\n",
       "Unlimited Data                       1526\n",
       "Contract                                0\n",
       "Paperless Billing                       0\n",
       "Payment Method                          0\n",
       "Monthly Charge                          0\n",
       "Total Charges                           0\n",
       "Total Refunds                           0\n",
       "Total Extra Data Charges                0\n",
       "Total Long Distance Charges             0\n",
       "Total Revenue                           0\n",
       "Customer Status                         0\n",
       "Churn Category                       5174\n",
       "Churn Reason                         5174\n",
       "dtype: int64"
      ]
     },
     "execution_count": 5,
     "metadata": {},
     "output_type": "execute_result"
    }
   ],
   "source": [
    "df.isnull().sum()"
   ]
  },
  {
   "cell_type": "code",
   "execution_count": 6,
   "id": "ac01074d",
   "metadata": {
    "execution": {
     "iopub.execute_input": "2022-08-11T02:51:49.614407Z",
     "iopub.status.busy": "2022-08-11T02:51:49.613754Z",
     "iopub.status.idle": "2022-08-11T02:51:49.622386Z",
     "shell.execute_reply": "2022-08-11T02:51:49.620779Z"
    },
    "id": "Jj74AMHDOqPm",
    "outputId": "9fc3ee45-96e8-4fc1-9307-945b889cf8fe",
    "papermill": {
     "duration": 0.029149,
     "end_time": "2022-08-11T02:51:49.624264",
     "exception": false,
     "start_time": "2022-08-11T02:51:49.595115",
     "status": "completed"
    },
    "tags": []
   },
   "outputs": [
    {
     "data": {
      "text/plain": [
       "Customer ID                           object\n",
       "Gender                                object\n",
       "Age                                    int64\n",
       "Married                               object\n",
       "Number of Dependents                   int64\n",
       "City                                  object\n",
       "Zip Code                               int64\n",
       "Latitude                             float64\n",
       "Longitude                            float64\n",
       "Number of Referrals                    int64\n",
       "Tenure in Months                       int64\n",
       "Offer                                 object\n",
       "Phone Service                         object\n",
       "Avg Monthly Long Distance Charges    float64\n",
       "Multiple Lines                        object\n",
       "Internet Service                      object\n",
       "Internet Type                         object\n",
       "Avg Monthly GB Download              float64\n",
       "Online Security                       object\n",
       "Online Backup                         object\n",
       "Device Protection Plan                object\n",
       "Premium Tech Support                  object\n",
       "Streaming TV                          object\n",
       "Streaming Movies                      object\n",
       "Streaming Music                       object\n",
       "Unlimited Data                        object\n",
       "Contract                              object\n",
       "Paperless Billing                     object\n",
       "Payment Method                        object\n",
       "Monthly Charge                       float64\n",
       "Total Charges                        float64\n",
       "Total Refunds                        float64\n",
       "Total Extra Data Charges               int64\n",
       "Total Long Distance Charges          float64\n",
       "Total Revenue                        float64\n",
       "Customer Status                       object\n",
       "Churn Category                        object\n",
       "Churn Reason                          object\n",
       "dtype: object"
      ]
     },
     "execution_count": 6,
     "metadata": {},
     "output_type": "execute_result"
    }
   ],
   "source": [
    "df.dtypes"
   ]
  },
  {
   "cell_type": "markdown",
   "id": "b4d133b7",
   "metadata": {
    "id": "YwJzVLg0Nk8g",
    "papermill": {
     "duration": 0.01709,
     "end_time": "2022-08-11T02:51:49.659073",
     "exception": false,
     "start_time": "2022-08-11T02:51:49.641983",
     "status": "completed"
    },
    "tags": []
   },
   "source": [
    "Exploratory data analysis to get relevant information from data"
   ]
  },
  {
   "cell_type": "code",
   "execution_count": 7,
   "id": "a2e7326a",
   "metadata": {
    "execution": {
     "iopub.execute_input": "2022-08-11T02:51:49.698676Z",
     "iopub.status.busy": "2022-08-11T02:51:49.697173Z",
     "iopub.status.idle": "2022-08-11T02:51:50.875358Z",
     "shell.execute_reply": "2022-08-11T02:51:50.874431Z"
    },
    "id": "y69ze_okMjry",
    "papermill": {
     "duration": 1.199789,
     "end_time": "2022-08-11T02:51:50.877632",
     "exception": false,
     "start_time": "2022-08-11T02:51:49.677843",
     "status": "completed"
    },
    "tags": []
   },
   "outputs": [],
   "source": [
    "import seaborn as sns\n",
    "import matplotlib.pyplot as plt"
   ]
  },
  {
   "cell_type": "code",
   "execution_count": 8,
   "id": "e241cb9e",
   "metadata": {
    "execution": {
     "iopub.execute_input": "2022-08-11T02:51:50.913068Z",
     "iopub.status.busy": "2022-08-11T02:51:50.912650Z",
     "iopub.status.idle": "2022-08-11T02:51:50.918901Z",
     "shell.execute_reply": "2022-08-11T02:51:50.917120Z"
    },
    "id": "IjJ3DDLvNkOg",
    "papermill": {
     "duration": 0.027165,
     "end_time": "2022-08-11T02:51:50.921605",
     "exception": false,
     "start_time": "2022-08-11T02:51:50.894440",
     "status": "completed"
    },
    "tags": []
   },
   "outputs": [],
   "source": [
    "#histogram is used to plot the numerical columns in the data set\n",
    "#plotting multiple numerical columns at once\n",
    "numerical = ['Age', 'Number of Dependents','Number of Referrals','Tenure in Months','Avg Monthly Long Distance Charges','Avg Monthly GB Download','Monthly Charge','Total Charges','Total Refunds','Total Extra Data Charges','Total Long Distance Charges','Total Revenue']"
   ]
  },
  {
   "cell_type": "code",
   "execution_count": 9,
   "id": "a91c5153",
   "metadata": {
    "execution": {
     "iopub.execute_input": "2022-08-11T02:51:50.958250Z",
     "iopub.status.busy": "2022-08-11T02:51:50.957929Z",
     "iopub.status.idle": "2022-08-11T02:51:52.264715Z",
     "shell.execute_reply": "2022-08-11T02:51:52.263779Z"
    },
    "id": "h-ElPt1_N3RW",
    "outputId": "f1541183-c930-410a-cca7-5ffb74451e01",
    "papermill": {
     "duration": 1.327572,
     "end_time": "2022-08-11T02:51:52.266690",
     "exception": false,
     "start_time": "2022-08-11T02:51:50.939118",
     "status": "completed"
    },
    "tags": []
   },
   "outputs": [
    {
     "data": {
      "text/plain": [
       "array([[<AxesSubplot:title={'center':'Age'}>,\n",
       "        <AxesSubplot:title={'center':'Number of Dependents'}>,\n",
       "        <AxesSubplot:title={'center':'Number of Referrals'}>],\n",
       "       [<AxesSubplot:title={'center':'Tenure in Months'}>,\n",
       "        <AxesSubplot:title={'center':'Avg Monthly Long Distance Charges'}>,\n",
       "        <AxesSubplot:title={'center':'Avg Monthly GB Download'}>],\n",
       "       [<AxesSubplot:title={'center':'Monthly Charge'}>,\n",
       "        <AxesSubplot:title={'center':'Total Charges'}>,\n",
       "        <AxesSubplot:title={'center':'Total Refunds'}>],\n",
       "       [<AxesSubplot:title={'center':'Total Extra Data Charges'}>,\n",
       "        <AxesSubplot:title={'center':'Total Long Distance Charges'}>,\n",
       "        <AxesSubplot:title={'center':'Total Revenue'}>]], dtype=object)"
      ]
     },
     "execution_count": 9,
     "metadata": {},
     "output_type": "execute_result"
    },
    {
     "data": {
      "image/png": "[encoded data removed]",
      "text/plain": [
       "<Figure size 720x720 with 12 Axes>"
      ]
     },
     "metadata": {
      "needs_background": "light"
     },
     "output_type": "display_data"
    }
   ],
   "source": [
    "df[numerical].hist(bins = 15, figsize = (10,10))"
   ]
  },
  {
   "cell_type": "code",
   "execution_count": 10,
   "id": "67b45000",
   "metadata": {
    "execution": {
     "iopub.execute_input": "2022-08-11T02:51:52.303793Z",
     "iopub.status.busy": "2022-08-11T02:51:52.303261Z",
     "iopub.status.idle": "2022-08-11T02:51:52.309762Z",
     "shell.execute_reply": "2022-08-11T02:51:52.307879Z"
    },
    "id": "xhywM1aePlUX",
    "papermill": {
     "duration": 0.027624,
     "end_time": "2022-08-11T02:51:52.312084",
     "exception": false,
     "start_time": "2022-08-11T02:51:52.284460",
     "status": "completed"
    },
    "tags": []
   },
   "outputs": [],
   "source": [
    "#Plotting categorical columns\n",
    "category = ['Gender','Married','Offer','Phone Service','Multiple Lines','Internet Service','Internet Type','Online Security'\n",
    ",'Online Backup'                         \n",
    ",'Device Protection Plan'                \n",
    ",'Premium Tech Support'                  \n",
    ",'Streaming TV'\n",
    ",'Streaming Movies'\n",
    ",'Streaming Music'                      \n",
    ",'Unlimited Data'\n",
    ",'Contract'\n",
    ",'Paperless Billing'\n",
    ",'Payment Method'\n",
    ",'Customer Status'\n",
    ",'Churn Category'\n",
    ",'Churn Reason']"
   ]
  },
  {
   "cell_type": "code",
   "execution_count": 11,
   "id": "27063392",
   "metadata": {
    "execution": {
     "iopub.execute_input": "2022-08-11T02:51:52.357968Z",
     "iopub.status.busy": "2022-08-11T02:51:52.357143Z",
     "iopub.status.idle": "2022-08-11T02:51:52.484481Z",
     "shell.execute_reply": "2022-08-11T02:51:52.483548Z"
    },
    "id": "bbI1fv76TNYU",
    "outputId": "b3adba0d-0446-4d2f-cb72-90bbe494357c",
    "papermill": {
     "duration": 0.154755,
     "end_time": "2022-08-11T02:51:52.487042",
     "exception": false,
     "start_time": "2022-08-11T02:51:52.332287",
     "status": "completed"
    },
    "tags": []
   },
   "outputs": [
    {
     "data": {
      "text/plain": [
       "<AxesSubplot:xlabel='Gender', ylabel='count'>"
      ]
     },
     "execution_count": 11,
     "metadata": {},
     "output_type": "execute_result"
    },
    {
     "data": {
      "image/png": "[encoded data removed]",
      "text/plain": [
       "<Figure size 432x288 with 1 Axes>"
      ]
     },
     "metadata": {
      "needs_background": "light"
     },
     "output_type": "display_data"
    }
   ],
   "source": [
    "#for categorical columns we use count plots\n",
    "#to plot single column through sns\n",
    "sns.countplot(x = 'Gender', data = df)"
   ]
  },
  {
   "cell_type": "code",
   "execution_count": 12,
   "id": "004bae1d",
   "metadata": {
    "execution": {
     "iopub.execute_input": "2022-08-11T02:51:52.540590Z",
     "iopub.status.busy": "2022-08-11T02:51:52.540215Z",
     "iopub.status.idle": "2022-08-11T02:51:53.380897Z",
     "shell.execute_reply": "2022-08-11T02:51:53.380134Z"
    },
    "id": "KXBZCtVBVAcT",
    "outputId": "7f20c313-9fa6-4868-a611-013f50e31e6a",
    "papermill": {
     "duration": 0.865013,
     "end_time": "2022-08-11T02:51:53.382871",
     "exception": false,
     "start_time": "2022-08-11T02:51:52.517858",
     "status": "completed"
    },
    "tags": []
   },
   "outputs": [
    {
     "name": "stderr",
     "output_type": "stream",
     "text": [
      "/opt/conda/lib/python3.7/site-packages/seaborn/_decorators.py:43: FutureWarning: Pass the following variable as a keyword arg: x. From version 0.12, the only valid positional argument will be `data`, and passing other arguments without an explicit keyword will result in an error or misinterpretation.\n",
      "  FutureWarning\n",
      "/opt/conda/lib/python3.7/site-packages/seaborn/_decorators.py:43: FutureWarning: Pass the following variable as a keyword arg: x. From version 0.12, the only valid positional argument will be `data`, and passing other arguments without an explicit keyword will result in an error or misinterpretation.\n",
      "  FutureWarning\n",
      "/opt/conda/lib/python3.7/site-packages/seaborn/_decorators.py:43: FutureWarning: Pass the following variable as a keyword arg: x. From version 0.12, the only valid positional argument will be `data`, and passing other arguments without an explicit keyword will result in an error or misinterpretation.\n",
      "  FutureWarning\n",
      "/opt/conda/lib/python3.7/site-packages/seaborn/_decorators.py:43: FutureWarning: Pass the following variable as a keyword arg: x. From version 0.12, the only valid positional argument will be `data`, and passing other arguments without an explicit keyword will result in an error or misinterpretation.\n",
      "  FutureWarning\n",
      "/opt/conda/lib/python3.7/site-packages/seaborn/_decorators.py:43: FutureWarning: Pass the following variable as a keyword arg: x. From version 0.12, the only valid positional argument will be `data`, and passing other arguments without an explicit keyword will result in an error or misinterpretation.\n",
      "  FutureWarning\n",
      "/opt/conda/lib/python3.7/site-packages/seaborn/_decorators.py:43: FutureWarning: Pass the following variable as a keyword arg: x. From version 0.12, the only valid positional argument will be `data`, and passing other arguments without an explicit keyword will result in an error or misinterpretation.\n",
      "  FutureWarning\n",
      "/opt/conda/lib/python3.7/site-packages/seaborn/_decorators.py:43: FutureWarning: Pass the following variable as a keyword arg: x. From version 0.12, the only valid positional argument will be `data`, and passing other arguments without an explicit keyword will result in an error or misinterpretation.\n",
      "  FutureWarning\n",
      "/opt/conda/lib/python3.7/site-packages/seaborn/_decorators.py:43: FutureWarning: Pass the following variable as a keyword arg: x. From version 0.12, the only valid positional argument will be `data`, and passing other arguments without an explicit keyword will result in an error or misinterpretation.\n",
      "  FutureWarning\n"
     ]
    },
    {
     "data": {
      "image/png": "[encoded data removed]",
      "text/plain": [
       "<Figure size 1080x1080 with 8 Axes>"
      ]
     },
     "metadata": {
      "needs_background": "light"
     },
     "output_type": "display_data"
    }
   ],
   "source": [
    "#For plotting multiple category columns at once\n",
    "fig, ax = plt.subplots(2,4,figsize = (15,15))\n",
    "for variable, subplot in zip(category, ax.flatten()):\n",
    "  sns.countplot(df[variable], ax = subplot)\n",
    "  for label in subplot.get_xticklabels():\n",
    "    label.set_rotation(90)"
   ]
  },
  {
   "cell_type": "markdown",
   "id": "4085e03c",
   "metadata": {
    "id": "g3oJT35NrFhs",
    "papermill": {
     "duration": 0.020103,
     "end_time": "2022-08-11T02:51:53.423270",
     "exception": false,
     "start_time": "2022-08-11T02:51:53.403167",
     "status": "completed"
    },
    "tags": []
   },
   "source": [
    "1.plotting boxplots with numerical columns & 'Customer Status' col in dataset\n",
    "\n",
    "2.box plots are used to plot relationship between numerical and categorical columns"
   ]
  },
  {
   "cell_type": "code",
   "execution_count": 13,
   "id": "6eb9f1a6",
   "metadata": {
    "execution": {
     "iopub.execute_input": "2022-08-11T02:51:53.468443Z",
     "iopub.status.busy": "2022-08-11T02:51:53.467425Z",
     "iopub.status.idle": "2022-08-11T02:51:54.437951Z",
     "shell.execute_reply": "2022-08-11T02:51:54.436610Z"
    },
    "id": "MDkhZ0YrrFht",
    "outputId": "2b4d8221-88ca-4ca2-f0d8-8422979a4403",
    "papermill": {
     "duration": 0.997356,
     "end_time": "2022-08-11T02:51:54.439944",
     "exception": false,
     "start_time": "2022-08-11T02:51:53.442588",
     "status": "completed"
    },
    "tags": []
   },
   "outputs": [
    {
     "data": {
      "image/png": "[encoded data removed]",
      "text/plain": [
       "<Figure size 1080x1080 with 9 Axes>"
      ]
     },
     "metadata": {
      "needs_background": "light"
     },
     "output_type": "display_data"
    }
   ],
   "source": [
    "fig, ax = plt.subplots(3,3, figsize = (15,15))\n",
    "for var, subplot in zip(numerical, ax.flatten()):\n",
    "    sns.boxplot(x = var, y = 'Customer Status', data = df, ax = subplot)"
   ]
  },
  {
   "cell_type": "markdown",
   "id": "fba1fc2d",
   "metadata": {
    "id": "2EO8BOXkrFhu",
    "papermill": {
     "duration": 0.019554,
     "end_time": "2022-08-11T02:51:54.479774",
     "exception": false,
     "start_time": "2022-08-11T02:51:54.460220",
     "status": "completed"
    },
    "tags": []
   },
   "source": [
    "Plotting correlation plot to see correlation between indeoendent variables"
   ]
  },
  {
   "cell_type": "code",
   "execution_count": 14,
   "id": "465c1652",
   "metadata": {
    "execution": {
     "iopub.execute_input": "2022-08-11T02:51:54.521580Z",
     "iopub.status.busy": "2022-08-11T02:51:54.521258Z",
     "iopub.status.idle": "2022-08-11T02:51:55.519809Z",
     "shell.execute_reply": "2022-08-11T02:51:55.518286Z"
    },
    "id": "Tcme6806rFhu",
    "outputId": "3c1de9c2-ccc7-46d8-e0d1-f9697302293f",
    "papermill": {
     "duration": 1.022191,
     "end_time": "2022-08-11T02:51:55.522228",
     "exception": false,
     "start_time": "2022-08-11T02:51:54.500037",
     "status": "completed"
    },
    "tags": []
   },
   "outputs": [
    {
     "data": {
      "text/plain": [
       "<AxesSubplot:>"
      ]
     },
     "execution_count": 14,
     "metadata": {},
     "output_type": "execute_result"
    },
    {
     "data": {
      "image/png": "[encoded data removed]",
      "text/plain": [
       "<Figure size 1440x720 with 2 Axes>"
      ]
     },
     "metadata": {
      "needs_background": "light"
     },
     "output_type": "display_data"
    }
   ],
   "source": [
    "data  = df.corr()\n",
    "plt.figure(figsize = (20,10))\n",
    "sns.heatmap(data, annot = True)"
   ]
  },
  {
   "cell_type": "markdown",
   "id": "345aaef5",
   "metadata": {
    "execution": {
     "iopub.execute_input": "2022-08-10T05:41:10.116874Z",
     "iopub.status.busy": "2022-08-10T05:41:10.116451Z",
     "iopub.status.idle": "2022-08-10T05:41:10.123950Z",
     "shell.execute_reply": "2022-08-10T05:41:10.122558Z",
     "shell.execute_reply.started": "2022-08-10T05:41:10.116839Z"
    },
    "id": "K9yhoATOrFhv",
    "papermill": {
     "duration": 0.02228,
     "end_time": "2022-08-11T02:51:55.566895",
     "exception": false,
     "start_time": "2022-08-11T02:51:55.544615",
     "status": "completed"
    },
    "tags": []
   },
   "source": [
    "Data Preprocessing"
   ]
  },
  {
   "cell_type": "code",
   "execution_count": 15,
   "id": "51adbb89",
   "metadata": {
    "execution": {
     "iopub.execute_input": "2022-08-11T02:51:55.612541Z",
     "iopub.status.busy": "2022-08-11T02:51:55.612198Z",
     "iopub.status.idle": "2022-08-11T02:51:55.618992Z",
     "shell.execute_reply": "2022-08-11T02:51:55.617936Z"
    },
    "id": "-OtQ2btfrFhv",
    "papermill": {
     "duration": 0.031729,
     "end_time": "2022-08-11T02:51:55.620970",
     "exception": false,
     "start_time": "2022-08-11T02:51:55.589241",
     "status": "completed"
    },
    "tags": []
   },
   "outputs": [],
   "source": [
    "#The ID column is not much insightful \n",
    "df.drop('Customer ID',axis = 1, inplace = True)"
   ]
  },
  {
   "cell_type": "code",
   "execution_count": 16,
   "id": "afa8ecf6",
   "metadata": {
    "execution": {
     "iopub.execute_input": "2022-08-11T02:51:55.666427Z",
     "iopub.status.busy": "2022-08-11T02:51:55.666073Z",
     "iopub.status.idle": "2022-08-11T02:51:55.674997Z",
     "shell.execute_reply": "2022-08-11T02:51:55.673952Z"
    },
    "id": "r9qJl-8VrFhv",
    "outputId": "1e1414f1-a32b-44f8-dc9f-081caa98fd2b",
    "papermill": {
     "duration": 0.034491,
     "end_time": "2022-08-11T02:51:55.677322",
     "exception": false,
     "start_time": "2022-08-11T02:51:55.642831",
     "status": "completed"
    },
    "tags": []
   },
   "outputs": [
    {
     "data": {
      "text/plain": [
       "Male      3555\n",
       "Female    3488\n",
       "Name: Gender, dtype: int64"
      ]
     },
     "execution_count": 16,
     "metadata": {},
     "output_type": "execute_result"
    }
   ],
   "source": [
    "df['Gender'].value_counts()"
   ]
  },
  {
   "cell_type": "code",
   "execution_count": 17,
   "id": "ba88a207",
   "metadata": {
    "execution": {
     "iopub.execute_input": "2022-08-11T02:51:55.724662Z",
     "iopub.status.busy": "2022-08-11T02:51:55.723802Z",
     "iopub.status.idle": "2022-08-11T02:51:55.732600Z",
     "shell.execute_reply": "2022-08-11T02:51:55.731011Z"
    },
    "id": "1jxV-MZXrFhw",
    "outputId": "6de3ac7a-e2fc-4539-858d-988d67900d30",
    "papermill": {
     "duration": 0.035002,
     "end_time": "2022-08-11T02:51:55.735009",
     "exception": false,
     "start_time": "2022-08-11T02:51:55.700007",
     "status": "completed"
    },
    "tags": []
   },
   "outputs": [
    {
     "data": {
      "text/plain": [
       "No     3641\n",
       "Yes    3402\n",
       "Name: Married, dtype: int64"
      ]
     },
     "execution_count": 17,
     "metadata": {},
     "output_type": "execute_result"
    }
   ],
   "source": [
    "df['Married'].value_counts()"
   ]
  },
  {
   "cell_type": "code",
   "execution_count": 18,
   "id": "35b05e56",
   "metadata": {
    "execution": {
     "iopub.execute_input": "2022-08-11T02:51:55.782590Z",
     "iopub.status.busy": "2022-08-11T02:51:55.781969Z",
     "iopub.status.idle": "2022-08-11T02:51:55.790389Z",
     "shell.execute_reply": "2022-08-11T02:51:55.789552Z"
    },
    "id": "660XjUcOrFhw",
    "outputId": "2dee8c64-1f83-4eef-ad0f-c960bbfd056e",
    "papermill": {
     "duration": 0.034131,
     "end_time": "2022-08-11T02:51:55.792277",
     "exception": false,
     "start_time": "2022-08-11T02:51:55.758146",
     "status": "completed"
    },
    "tags": []
   },
   "outputs": [
    {
     "data": {
      "text/plain": [
       "Competitor had better devices                313\n",
       "Competitor made better offer                 311\n",
       "Attitude of support person                   220\n",
       "Don't know                                   130\n",
       "Competitor offered more data                 117\n",
       "Competitor offered higher download speeds    100\n",
       "Attitude of service provider                  94\n",
       "Price too high                                78\n",
       "Product dissatisfaction                       77\n",
       "Network reliability                           72\n",
       "Long distance charges                         64\n",
       "Service dissatisfaction                       63\n",
       "Moved                                         46\n",
       "Extra data charges                            39\n",
       "Limited range of services                     37\n",
       "Poor expertise of online support              31\n",
       "Lack of affordable download/upload speed      30\n",
       "Lack of self-service on Website               29\n",
       "Poor expertise of phone support               12\n",
       "Deceased                                       6\n",
       "Name: Churn Reason, dtype: int64"
      ]
     },
     "execution_count": 18,
     "metadata": {},
     "output_type": "execute_result"
    }
   ],
   "source": [
    "df['Churn Reason'].value_counts()"
   ]
  },
  {
   "cell_type": "code",
   "execution_count": 19,
   "id": "0d0f12f6",
   "metadata": {
    "execution": {
     "iopub.execute_input": "2022-08-11T02:51:55.838756Z",
     "iopub.status.busy": "2022-08-11T02:51:55.838158Z",
     "iopub.status.idle": "2022-08-11T02:51:55.845326Z",
     "shell.execute_reply": "2022-08-11T02:51:55.844649Z"
    },
    "id": "yeZ5FpkQrFhx",
    "outputId": "1eb3f3ce-d20f-4689-e89f-3f9a4f9ab3cd",
    "papermill": {
     "duration": 0.03232,
     "end_time": "2022-08-11T02:51:55.847093",
     "exception": false,
     "start_time": "2022-08-11T02:51:55.814773",
     "status": "completed"
    },
    "tags": []
   },
   "outputs": [
    {
     "data": {
      "text/plain": [
       "Competitor         841\n",
       "Dissatisfaction    321\n",
       "Attitude           314\n",
       "Price              211\n",
       "Other              182\n",
       "Name: Churn Category, dtype: int64"
      ]
     },
     "execution_count": 19,
     "metadata": {},
     "output_type": "execute_result"
    }
   ],
   "source": [
    "df['Churn Category'].value_counts()"
   ]
  },
  {
   "cell_type": "code",
   "execution_count": 20,
   "id": "b45c23ca",
   "metadata": {
    "execution": {
     "iopub.execute_input": "2022-08-11T02:51:55.895643Z",
     "iopub.status.busy": "2022-08-11T02:51:55.895274Z",
     "iopub.status.idle": "2022-08-11T02:51:55.903143Z",
     "shell.execute_reply": "2022-08-11T02:51:55.902241Z"
    },
    "id": "vuv94hnVrFhx",
    "outputId": "0aa3beea-3908-4a3a-f7bc-6adbad3067c4",
    "papermill": {
     "duration": 0.035852,
     "end_time": "2022-08-11T02:51:55.906095",
     "exception": false,
     "start_time": "2022-08-11T02:51:55.870243",
     "status": "completed"
    },
    "tags": []
   },
   "outputs": [
    {
     "data": {
      "text/plain": [
       "Bank Withdrawal    3909\n",
       "Credit Card        2749\n",
       "Mailed Check        385\n",
       "Name: Payment Method, dtype: int64"
      ]
     },
     "execution_count": 20,
     "metadata": {},
     "output_type": "execute_result"
    }
   ],
   "source": [
    "df['Payment Method'].value_counts()"
   ]
  },
  {
   "cell_type": "code",
   "execution_count": 21,
   "id": "aa520575",
   "metadata": {
    "execution": {
     "iopub.execute_input": "2022-08-11T02:51:55.953155Z",
     "iopub.status.busy": "2022-08-11T02:51:55.952338Z",
     "iopub.status.idle": "2022-08-11T02:51:55.967416Z",
     "shell.execute_reply": "2022-08-11T02:51:55.966645Z"
    },
    "id": "eqlDlsKqrFhx",
    "papermill": {
     "duration": 0.040725,
     "end_time": "2022-08-11T02:51:55.969611",
     "exception": false,
     "start_time": "2022-08-11T02:51:55.928886",
     "status": "completed"
    },
    "tags": []
   },
   "outputs": [],
   "source": [
    "#Since gender and maried column has only two subtypes we will replace string values to integer\n",
    "df['Gender'] = [1 if each == 'Female' else 0 for each in df['Gender']]\n",
    "df['Married'] = [1 if each == 'Yes' else 0 for each in df['Married']]"
   ]
  },
  {
   "cell_type": "markdown",
   "id": "88fedef6",
   "metadata": {
    "id": "iAp-F6qmrFhx",
    "papermill": {
     "duration": 0.022372,
     "end_time": "2022-08-11T02:51:56.015668",
     "exception": false,
     "start_time": "2022-08-11T02:51:55.993296",
     "status": "completed"
    },
    "tags": []
   },
   "source": [
    "For columns having more than two categories we will use map function to change values"
   ]
  },
  {
   "cell_type": "code",
   "execution_count": 22,
   "id": "164d32f7",
   "metadata": {
    "execution": {
     "iopub.execute_input": "2022-08-11T02:51:56.065028Z",
     "iopub.status.busy": "2022-08-11T02:51:56.064413Z",
     "iopub.status.idle": "2022-08-11T02:51:56.073633Z",
     "shell.execute_reply": "2022-08-11T02:51:56.072630Z"
    },
    "id": "L-bNzvFsrFhy",
    "papermill": {
     "duration": 0.036977,
     "end_time": "2022-08-11T02:51:56.075962",
     "exception": false,
     "start_time": "2022-08-11T02:51:56.038985",
     "status": "completed"
    },
    "tags": []
   },
   "outputs": [],
   "source": [
    "df['Churn Category'] = df['Churn Category'].map({'Competitor':1\n",
    ",'Dissatisfaction':2\n",
    ",'Attitude':3\n",
    ",'Price':4\n",
    ",'Other':5})"
   ]
  },
  {
   "cell_type": "code",
   "execution_count": 23,
   "id": "dbf41105",
   "metadata": {
    "execution": {
     "iopub.execute_input": "2022-08-11T02:51:56.125793Z",
     "iopub.status.busy": "2022-08-11T02:51:56.124417Z",
     "iopub.status.idle": "2022-08-11T02:51:56.134216Z",
     "shell.execute_reply": "2022-08-11T02:51:56.133280Z"
    },
    "id": "ni1oj8Q8rFhy",
    "papermill": {
     "duration": 0.037359,
     "end_time": "2022-08-11T02:51:56.136586",
     "exception": false,
     "start_time": "2022-08-11T02:51:56.099227",
     "status": "completed"
    },
    "tags": []
   },
   "outputs": [],
   "source": [
    "df['Payment Method'] = df['Payment Method'].map({'Bank Withdrawal':1\n",
    ",'Credit Card':2\n",
    ",'Mailed Check':3})"
   ]
  },
  {
   "cell_type": "code",
   "execution_count": 24,
   "id": "cdace628",
   "metadata": {
    "execution": {
     "iopub.execute_input": "2022-08-11T02:51:56.188400Z",
     "iopub.status.busy": "2022-08-11T02:51:56.186772Z",
     "iopub.status.idle": "2022-08-11T02:51:56.194606Z",
     "shell.execute_reply": "2022-08-11T02:51:56.193953Z"
    },
    "id": "Uv9CrDwgrFhy",
    "outputId": "ebc5d8f7-a489-41a7-e2f9-17bb1e626a67",
    "papermill": {
     "duration": 0.035402,
     "end_time": "2022-08-11T02:51:56.196328",
     "exception": false,
     "start_time": "2022-08-11T02:51:56.160926",
     "status": "completed"
    },
    "tags": []
   },
   "outputs": [
    {
     "data": {
      "text/plain": [
       "array([nan, 'Competitor had better devices', 'Product dissatisfaction',\n",
       "       'Network reliability', 'Limited range of services',\n",
       "       'Competitor made better offer', \"Don't know\",\n",
       "       'Long distance charges', 'Attitude of service provider',\n",
       "       'Attitude of support person',\n",
       "       'Competitor offered higher download speeds',\n",
       "       'Competitor offered more data',\n",
       "       'Lack of affordable download/upload speed', 'Deceased', 'Moved',\n",
       "       'Service dissatisfaction', 'Price too high',\n",
       "       'Lack of self-service on Website',\n",
       "       'Poor expertise of online support', 'Extra data charges',\n",
       "       'Poor expertise of phone support'], dtype=object)"
      ]
     },
     "execution_count": 24,
     "metadata": {},
     "output_type": "execute_result"
    }
   ],
   "source": [
    "df['Churn Reason'].unique()\n",
    "#Copy all the unique categories from here and paste it in the map function + asign each category an int value "
   ]
  },
  {
   "cell_type": "code",
   "execution_count": 25,
   "id": "b63ee7c7",
   "metadata": {
    "execution": {
     "iopub.execute_input": "2022-08-11T02:51:56.244613Z",
     "iopub.status.busy": "2022-08-11T02:51:56.243404Z",
     "iopub.status.idle": "2022-08-11T02:51:56.253399Z",
     "shell.execute_reply": "2022-08-11T02:51:56.252284Z"
    },
    "id": "b3Wjdx_BrFhz",
    "papermill": {
     "duration": 0.035943,
     "end_time": "2022-08-11T02:51:56.255584",
     "exception": false,
     "start_time": "2022-08-11T02:51:56.219641",
     "status": "completed"
    },
    "tags": []
   },
   "outputs": [],
   "source": [
    "df['Churn Reason'] = df['Churn Reason'].map({'Competitor had better devices':1, 'Product dissatisfaction':2,\n",
    "       'Network reliability':3, 'Limited range of services':4,\n",
    "       'Competitor made better offer':5, \"Don't know\":6,\n",
    "       'Long distance charges':7, 'Attitude of service provider':8,\n",
    "       'Attitude of support person':9,\n",
    "       'Competitor offered higher download speeds':10,\n",
    "       'Competitor offered more data':11,\n",
    "       'Lack of affordable download/upload speed':12, 'Deceased':13, 'Moved':14,\n",
    "       'Service dissatisfaction':15, 'Price too high':16,\n",
    "       'Lack of self-service on Website':17,\n",
    "       'Poor expertise of online support':18, 'Extra data charges':19,\n",
    "       'Poor expertise of phone support':20})"
   ]
  },
  {
   "cell_type": "code",
   "execution_count": 26,
   "id": "c4a57283",
   "metadata": {
    "execution": {
     "iopub.execute_input": "2022-08-11T02:51:56.305991Z",
     "iopub.status.busy": "2022-08-11T02:51:56.304888Z",
     "iopub.status.idle": "2022-08-11T02:51:56.313507Z",
     "shell.execute_reply": "2022-08-11T02:51:56.312594Z"
    },
    "id": "FSLxM5UxrFhz",
    "outputId": "18e26f46-63d8-49c7-c5ce-143bfb4685b9",
    "papermill": {
     "duration": 0.036236,
     "end_time": "2022-08-11T02:51:56.315415",
     "exception": false,
     "start_time": "2022-08-11T02:51:56.279179",
     "status": "completed"
    },
    "tags": []
   },
   "outputs": [
    {
     "data": {
      "text/plain": [
       "Stayed     4720\n",
       "Churned    1869\n",
       "Joined      454\n",
       "Name: Customer Status, dtype: int64"
      ]
     },
     "execution_count": 26,
     "metadata": {},
     "output_type": "execute_result"
    }
   ],
   "source": [
    "df['Customer Status'].value_counts()"
   ]
  },
  {
   "cell_type": "code",
   "execution_count": 27,
   "id": "b8955170",
   "metadata": {
    "execution": {
     "iopub.execute_input": "2022-08-11T02:51:56.363963Z",
     "iopub.status.busy": "2022-08-11T02:51:56.363092Z",
     "iopub.status.idle": "2022-08-11T02:51:56.370527Z",
     "shell.execute_reply": "2022-08-11T02:51:56.369797Z"
    },
    "id": "rBvMCSYbrFh0",
    "papermill": {
     "duration": 0.033777,
     "end_time": "2022-08-11T02:51:56.372642",
     "exception": false,
     "start_time": "2022-08-11T02:51:56.338865",
     "status": "completed"
    },
    "tags": []
   },
   "outputs": [],
   "source": [
    "df['Customer Status'] = df['Customer Status'].map({'Stayed':1\n",
    ",'Churned':2\n",
    ",'Joined':3})"
   ]
  },
  {
   "cell_type": "code",
   "execution_count": 28,
   "id": "67558f44",
   "metadata": {
    "execution": {
     "iopub.execute_input": "2022-08-11T02:51:56.419671Z",
     "iopub.status.busy": "2022-08-11T02:51:56.419344Z",
     "iopub.status.idle": "2022-08-11T02:51:56.444054Z",
     "shell.execute_reply": "2022-08-11T02:51:56.443133Z"
    },
    "id": "Sj8vZrgJrFh0",
    "outputId": "614dcb98-51e5-4b03-8494-eb331487ead5",
    "papermill": {
     "duration": 0.050367,
     "end_time": "2022-08-11T02:51:56.445890",
     "exception": false,
     "start_time": "2022-08-11T02:51:56.395523",
     "status": "completed"
    },
    "tags": []
   },
   "outputs": [
    {
     "data": {
      "text/html": [
       "<div>\n",
       "<style scoped>\n",
       "    .dataframe tbody tr th:only-of-type {\n",
       "        vertical-align: middle;\n",
       "    }\n",
       "\n",
       "    .dataframe tbody tr th {\n",
       "        vertical-align: top;\n",
       "    }\n",
       "\n",
       "    .dataframe thead th {\n",
       "        text-align: right;\n",
       "    }\n",
       "</style>\n",
       "<table border=\"1\" class=\"dataframe\">\n",
       "  <thead>\n",
       "    <tr style=\"text-align: right;\">\n",
       "      <th></th>\n",
       "      <th>Gender</th>\n",
       "      <th>Age</th>\n",
       "      <th>Married</th>\n",
       "      <th>Number of Dependents</th>\n",
       "      <th>City</th>\n",
       "      <th>Zip Code</th>\n",
       "      <th>Latitude</th>\n",
       "      <th>Longitude</th>\n",
       "      <th>Number of Referrals</th>\n",
       "      <th>Tenure in Months</th>\n",
       "      <th>...</th>\n",
       "      <th>Payment Method</th>\n",
       "      <th>Monthly Charge</th>\n",
       "      <th>Total Charges</th>\n",
       "      <th>Total Refunds</th>\n",
       "      <th>Total Extra Data Charges</th>\n",
       "      <th>Total Long Distance Charges</th>\n",
       "      <th>Total Revenue</th>\n",
       "      <th>Customer Status</th>\n",
       "      <th>Churn Category</th>\n",
       "      <th>Churn Reason</th>\n",
       "    </tr>\n",
       "  </thead>\n",
       "  <tbody>\n",
       "    <tr>\n",
       "      <th>0</th>\n",
       "      <td>1</td>\n",
       "      <td>37</td>\n",
       "      <td>1</td>\n",
       "      <td>0</td>\n",
       "      <td>Frazier Park</td>\n",
       "      <td>93225</td>\n",
       "      <td>34.827662</td>\n",
       "      <td>-118.999073</td>\n",
       "      <td>2</td>\n",
       "      <td>9</td>\n",
       "      <td>...</td>\n",
       "      <td>2</td>\n",
       "      <td>65.6</td>\n",
       "      <td>593.30</td>\n",
       "      <td>0.00</td>\n",
       "      <td>0</td>\n",
       "      <td>381.51</td>\n",
       "      <td>974.81</td>\n",
       "      <td>1</td>\n",
       "      <td>NaN</td>\n",
       "      <td>NaN</td>\n",
       "    </tr>\n",
       "    <tr>\n",
       "      <th>1</th>\n",
       "      <td>0</td>\n",
       "      <td>46</td>\n",
       "      <td>0</td>\n",
       "      <td>0</td>\n",
       "      <td>Glendale</td>\n",
       "      <td>91206</td>\n",
       "      <td>34.162515</td>\n",
       "      <td>-118.203869</td>\n",
       "      <td>0</td>\n",
       "      <td>9</td>\n",
       "      <td>...</td>\n",
       "      <td>2</td>\n",
       "      <td>-4.0</td>\n",
       "      <td>542.40</td>\n",
       "      <td>38.33</td>\n",
       "      <td>10</td>\n",
       "      <td>96.21</td>\n",
       "      <td>610.28</td>\n",
       "      <td>1</td>\n",
       "      <td>NaN</td>\n",
       "      <td>NaN</td>\n",
       "    </tr>\n",
       "    <tr>\n",
       "      <th>2</th>\n",
       "      <td>0</td>\n",
       "      <td>50</td>\n",
       "      <td>0</td>\n",
       "      <td>0</td>\n",
       "      <td>Costa Mesa</td>\n",
       "      <td>92627</td>\n",
       "      <td>33.645672</td>\n",
       "      <td>-117.922613</td>\n",
       "      <td>0</td>\n",
       "      <td>4</td>\n",
       "      <td>...</td>\n",
       "      <td>1</td>\n",
       "      <td>73.9</td>\n",
       "      <td>280.85</td>\n",
       "      <td>0.00</td>\n",
       "      <td>0</td>\n",
       "      <td>134.60</td>\n",
       "      <td>415.45</td>\n",
       "      <td>2</td>\n",
       "      <td>1.0</td>\n",
       "      <td>1.0</td>\n",
       "    </tr>\n",
       "    <tr>\n",
       "      <th>3</th>\n",
       "      <td>0</td>\n",
       "      <td>78</td>\n",
       "      <td>1</td>\n",
       "      <td>0</td>\n",
       "      <td>Martinez</td>\n",
       "      <td>94553</td>\n",
       "      <td>38.014457</td>\n",
       "      <td>-122.115432</td>\n",
       "      <td>1</td>\n",
       "      <td>13</td>\n",
       "      <td>...</td>\n",
       "      <td>1</td>\n",
       "      <td>98.0</td>\n",
       "      <td>1237.85</td>\n",
       "      <td>0.00</td>\n",
       "      <td>0</td>\n",
       "      <td>361.66</td>\n",
       "      <td>1599.51</td>\n",
       "      <td>2</td>\n",
       "      <td>2.0</td>\n",
       "      <td>2.0</td>\n",
       "    </tr>\n",
       "    <tr>\n",
       "      <th>4</th>\n",
       "      <td>1</td>\n",
       "      <td>75</td>\n",
       "      <td>1</td>\n",
       "      <td>0</td>\n",
       "      <td>Camarillo</td>\n",
       "      <td>93010</td>\n",
       "      <td>34.227846</td>\n",
       "      <td>-119.079903</td>\n",
       "      <td>3</td>\n",
       "      <td>3</td>\n",
       "      <td>...</td>\n",
       "      <td>2</td>\n",
       "      <td>83.9</td>\n",
       "      <td>267.40</td>\n",
       "      <td>0.00</td>\n",
       "      <td>0</td>\n",
       "      <td>22.14</td>\n",
       "      <td>289.54</td>\n",
       "      <td>2</td>\n",
       "      <td>2.0</td>\n",
       "      <td>3.0</td>\n",
       "    </tr>\n",
       "  </tbody>\n",
       "</table>\n",
       "<p>5 rows × 37 columns</p>\n",
       "</div>"
      ],
      "text/plain": [
       "   Gender  Age  Married  Number of Dependents          City  Zip Code  \\\n",
       "0       1   37        1                     0  Frazier Park     93225   \n",
       "1       0   46        0                     0      Glendale     91206   \n",
       "2       0   50        0                     0    Costa Mesa     92627   \n",
       "3       0   78        1                     0      Martinez     94553   \n",
       "4       1   75        1                     0     Camarillo     93010   \n",
       "\n",
       "    Latitude   Longitude  Number of Referrals  Tenure in Months  ...  \\\n",
       "0  34.827662 -118.999073                    2                 9  ...   \n",
       "1  34.162515 -118.203869                    0                 9  ...   \n",
       "2  33.645672 -117.922613                    0                 4  ...   \n",
       "3  38.014457 -122.115432                    1                13  ...   \n",
       "4  34.227846 -119.079903                    3                 3  ...   \n",
       "\n",
       "  Payment Method Monthly Charge  Total Charges Total Refunds  \\\n",
       "0              2           65.6         593.30          0.00   \n",
       "1              2           -4.0         542.40         38.33   \n",
       "2              1           73.9         280.85          0.00   \n",
       "3              1           98.0        1237.85          0.00   \n",
       "4              2           83.9         267.40          0.00   \n",
       "\n",
       "  Total Extra Data Charges Total Long Distance Charges  Total Revenue  \\\n",
       "0                        0                      381.51         974.81   \n",
       "1                       10                       96.21         610.28   \n",
       "2                        0                      134.60         415.45   \n",
       "3                        0                      361.66        1599.51   \n",
       "4                        0                       22.14         289.54   \n",
       "\n",
       "  Customer Status Churn Category Churn Reason  \n",
       "0               1            NaN          NaN  \n",
       "1               1            NaN          NaN  \n",
       "2               2            1.0          1.0  \n",
       "3               2            2.0          2.0  \n",
       "4               2            2.0          3.0  \n",
       "\n",
       "[5 rows x 37 columns]"
      ]
     },
     "execution_count": 28,
     "metadata": {},
     "output_type": "execute_result"
    }
   ],
   "source": [
    "df.head()"
   ]
  },
  {
   "cell_type": "code",
   "execution_count": 29,
   "id": "71e56ead",
   "metadata": {
    "execution": {
     "iopub.execute_input": "2022-08-11T02:51:56.494265Z",
     "iopub.status.busy": "2022-08-11T02:51:56.493658Z",
     "iopub.status.idle": "2022-08-11T02:51:56.501248Z",
     "shell.execute_reply": "2022-08-11T02:51:56.500118Z"
    },
    "id": "OJtgdx1ZrFh0",
    "outputId": "0f82e889-6838-49e6-c435-db8f1797ca50",
    "papermill": {
     "duration": 0.033666,
     "end_time": "2022-08-11T02:51:56.503316",
     "exception": false,
     "start_time": "2022-08-11T02:51:56.469650",
     "status": "completed"
    },
    "tags": []
   },
   "outputs": [
    {
     "data": {
      "text/plain": [
       "Gender                                 int64\n",
       "Age                                    int64\n",
       "Married                                int64\n",
       "Number of Dependents                   int64\n",
       "City                                  object\n",
       "Zip Code                               int64\n",
       "Latitude                             float64\n",
       "Longitude                            float64\n",
       "Number of Referrals                    int64\n",
       "Tenure in Months                       int64\n",
       "Offer                                 object\n",
       "Phone Service                         object\n",
       "Avg Monthly Long Distance Charges    float64\n",
       "Multiple Lines                        object\n",
       "Internet Service                      object\n",
       "Internet Type                         object\n",
       "Avg Monthly GB Download              float64\n",
       "Online Security                       object\n",
       "Online Backup                         object\n",
       "Device Protection Plan                object\n",
       "Premium Tech Support                  object\n",
       "Streaming TV                          object\n",
       "Streaming Movies                      object\n",
       "Streaming Music                       object\n",
       "Unlimited Data                        object\n",
       "Contract                              object\n",
       "Paperless Billing                     object\n",
       "Payment Method                         int64\n",
       "Monthly Charge                       float64\n",
       "Total Charges                        float64\n",
       "Total Refunds                        float64\n",
       "Total Extra Data Charges               int64\n",
       "Total Long Distance Charges          float64\n",
       "Total Revenue                        float64\n",
       "Customer Status                        int64\n",
       "Churn Category                       float64\n",
       "Churn Reason                         float64\n",
       "dtype: object"
      ]
     },
     "execution_count": 29,
     "metadata": {},
     "output_type": "execute_result"
    }
   ],
   "source": [
    "df.dtypes"
   ]
  },
  {
   "cell_type": "markdown",
   "id": "5903a43e",
   "metadata": {
    "id": "GhpItoxLrFh0",
    "papermill": {
     "duration": 0.0218,
     "end_time": "2022-08-11T02:51:56.547221",
     "exception": false,
     "start_time": "2022-08-11T02:51:56.525421",
     "status": "completed"
    },
    "tags": []
   },
   "source": [
    "There are a still lot of columns which has data type object -> which means that all these columns need to be transformed\n",
    "\n",
    "note -  Some classification model handels data efficiently even without label encoding like Decison Trees or Rnadom Forest, but models like SVM and KNN are sensitive to null values, outliers and even string data type. \n",
    "So data transformation is rather an important step that can't be overlooked."
   ]
  },
  {
   "cell_type": "code",
   "execution_count": 30,
   "id": "08b9eedd",
   "metadata": {
    "execution": {
     "iopub.execute_input": "2022-08-11T02:51:56.595103Z",
     "iopub.status.busy": "2022-08-11T02:51:56.594283Z",
     "iopub.status.idle": "2022-08-11T02:51:56.646361Z",
     "shell.execute_reply": "2022-08-11T02:51:56.645419Z"
    },
    "id": "1dQOY_iUrFh1",
    "papermill": {
     "duration": 0.080155,
     "end_time": "2022-08-11T02:51:56.648682",
     "exception": false,
     "start_time": "2022-08-11T02:51:56.568527",
     "status": "completed"
    },
    "tags": []
   },
   "outputs": [],
   "source": [
    "df['Phone Service'] = [1 if each == 'Yes' else 0 for each in df['Phone Service']]\n",
    "df['Multiple Lines'] = [1 if each == 'Yes' else 0 for each in df['Multiple Lines']]\n",
    "df['Internet Service'] = [1 if each == 'Yes' else 0 for each in df['Internet Service']]\n",
    "df['Internet Type'] = [1 if each == 'Yes' else 0 for each in df['Internet Type']]\n",
    "df['Online Security'] = [1 if each == 'Yes' else 0 for each in df['Online Security']]\n",
    "df['Online Backup'] = [1 if each == 'Yes' else 0 for each in df['Online Backup']]\n",
    "df['Device Protection Plan'] = [1 if each == 'Yes' else 0 for each in df['Device Protection Plan']]\n",
    "df['Premium Tech Support'] = [1 if each == 'Yes' else 0 for each in df['Premium Tech Support']]\n",
    "df['Streaming TV'] = [1 if each == 'Yes' else 0 for each in df['Streaming TV']]\n",
    "df['Streaming Movies'] = [1 if each == 'Yes' else 0 for each in df['Streaming Movies']]\n",
    "df['Streaming Music'] = [1 if each == 'Yes' else 0 for each in df['Streaming Music']]\n",
    "df['Unlimited Data'] = [1 if each == 'Yes' else 0 for each in df['Unlimited Data']]\n",
    "df['Paperless Billing'] = [1 if each == 'Yes' else 0 for each in df['Paperless Billing']]"
   ]
  },
  {
   "cell_type": "code",
   "execution_count": 31,
   "id": "b87df3b7",
   "metadata": {
    "execution": {
     "iopub.execute_input": "2022-08-11T02:51:56.696419Z",
     "iopub.status.busy": "2022-08-11T02:51:56.695869Z",
     "iopub.status.idle": "2022-08-11T02:51:56.702998Z",
     "shell.execute_reply": "2022-08-11T02:51:56.702192Z"
    },
    "id": "NWATiHRHrFh1",
    "outputId": "8c1edc00-a6f0-49ed-c2b1-bd6e37ff0f9a",
    "papermill": {
     "duration": 0.033383,
     "end_time": "2022-08-11T02:51:56.705099",
     "exception": false,
     "start_time": "2022-08-11T02:51:56.671716",
     "status": "completed"
    },
    "tags": []
   },
   "outputs": [
    {
     "data": {
      "text/plain": [
       "array(['One Year', 'Month-to-Month', 'Two Year'], dtype=object)"
      ]
     },
     "execution_count": 31,
     "metadata": {},
     "output_type": "execute_result"
    }
   ],
   "source": [
    "#Contract column has more than two sub-categories\n",
    "df['Contract'].unique()"
   ]
  },
  {
   "cell_type": "code",
   "execution_count": 32,
   "id": "86a17a86",
   "metadata": {
    "execution": {
     "iopub.execute_input": "2022-08-11T02:51:56.754646Z",
     "iopub.status.busy": "2022-08-11T02:51:56.753951Z",
     "iopub.status.idle": "2022-08-11T02:51:56.760457Z",
     "shell.execute_reply": "2022-08-11T02:51:56.759697Z"
    },
    "id": "XuV2omUirFh1",
    "papermill": {
     "duration": 0.034051,
     "end_time": "2022-08-11T02:51:56.762605",
     "exception": false,
     "start_time": "2022-08-11T02:51:56.728554",
     "status": "completed"
    },
    "tags": []
   },
   "outputs": [],
   "source": [
    "df['Contract'] = df['Contract'].map({'One Year':1, 'Month-to-Month':2, 'Two Year':3})"
   ]
  },
  {
   "cell_type": "code",
   "execution_count": 33,
   "id": "5c6d0335",
   "metadata": {
    "execution": {
     "iopub.execute_input": "2022-08-11T02:51:56.812419Z",
     "iopub.status.busy": "2022-08-11T02:51:56.811818Z",
     "iopub.status.idle": "2022-08-11T02:51:56.821453Z",
     "shell.execute_reply": "2022-08-11T02:51:56.820108Z"
    },
    "id": "vByY0-otrFh1",
    "outputId": "248719fb-5c7e-4983-9d56-d5405d2d0f87",
    "papermill": {
     "duration": 0.037873,
     "end_time": "2022-08-11T02:51:56.824313",
     "exception": false,
     "start_time": "2022-08-11T02:51:56.786440",
     "status": "completed"
    },
    "tags": []
   },
   "outputs": [
    {
     "data": {
      "text/plain": [
       "array(['None', 'Offer E', 'Offer D', 'Offer A', 'Offer B', 'Offer C'],\n",
       "      dtype=object)"
      ]
     },
     "execution_count": 33,
     "metadata": {},
     "output_type": "execute_result"
    }
   ],
   "source": [
    "df['Offer'].unique()"
   ]
  },
  {
   "cell_type": "code",
   "execution_count": 34,
   "id": "ad683de1",
   "metadata": {
    "execution": {
     "iopub.execute_input": "2022-08-11T02:51:56.874308Z",
     "iopub.status.busy": "2022-08-11T02:51:56.873664Z",
     "iopub.status.idle": "2022-08-11T02:51:56.880645Z",
     "shell.execute_reply": "2022-08-11T02:51:56.879410Z"
    },
    "id": "pRntkmJFrFh1",
    "papermill": {
     "duration": 0.034822,
     "end_time": "2022-08-11T02:51:56.882868",
     "exception": false,
     "start_time": "2022-08-11T02:51:56.848046",
     "status": "completed"
    },
    "tags": []
   },
   "outputs": [],
   "source": [
    "df['Offer'] = df['Offer'].map({'None':0, 'Offer E':1, 'Offer D':2, 'Offer A':3, 'Offer B':4, 'Offer C':5})"
   ]
  },
  {
   "cell_type": "code",
   "execution_count": 35,
   "id": "2ed7181d",
   "metadata": {
    "execution": {
     "iopub.execute_input": "2022-08-11T02:51:56.932666Z",
     "iopub.status.busy": "2022-08-11T02:51:56.932065Z",
     "iopub.status.idle": "2022-08-11T02:51:56.953037Z",
     "shell.execute_reply": "2022-08-11T02:51:56.952118Z"
    },
    "id": "U1pnU3oUrFh2",
    "outputId": "e29d48c1-d294-424a-b373-ad7458d45f8e",
    "papermill": {
     "duration": 0.048335,
     "end_time": "2022-08-11T02:51:56.954887",
     "exception": false,
     "start_time": "2022-08-11T02:51:56.906552",
     "status": "completed"
    },
    "tags": []
   },
   "outputs": [
    {
     "data": {
      "text/html": [
       "<div>\n",
       "<style scoped>\n",
       "    .dataframe tbody tr th:only-of-type {\n",
       "        vertical-align: middle;\n",
       "    }\n",
       "\n",
       "    .dataframe tbody tr th {\n",
       "        vertical-align: top;\n",
       "    }\n",
       "\n",
       "    .dataframe thead th {\n",
       "        text-align: right;\n",
       "    }\n",
       "</style>\n",
       "<table border=\"1\" class=\"dataframe\">\n",
       "  <thead>\n",
       "    <tr style=\"text-align: right;\">\n",
       "      <th></th>\n",
       "      <th>Gender</th>\n",
       "      <th>Age</th>\n",
       "      <th>Married</th>\n",
       "      <th>Number of Dependents</th>\n",
       "      <th>City</th>\n",
       "      <th>Zip Code</th>\n",
       "      <th>Latitude</th>\n",
       "      <th>Longitude</th>\n",
       "      <th>Number of Referrals</th>\n",
       "      <th>Tenure in Months</th>\n",
       "      <th>...</th>\n",
       "      <th>Payment Method</th>\n",
       "      <th>Monthly Charge</th>\n",
       "      <th>Total Charges</th>\n",
       "      <th>Total Refunds</th>\n",
       "      <th>Total Extra Data Charges</th>\n",
       "      <th>Total Long Distance Charges</th>\n",
       "      <th>Total Revenue</th>\n",
       "      <th>Customer Status</th>\n",
       "      <th>Churn Category</th>\n",
       "      <th>Churn Reason</th>\n",
       "    </tr>\n",
       "  </thead>\n",
       "  <tbody>\n",
       "    <tr>\n",
       "      <th>0</th>\n",
       "      <td>1</td>\n",
       "      <td>37</td>\n",
       "      <td>1</td>\n",
       "      <td>0</td>\n",
       "      <td>Frazier Park</td>\n",
       "      <td>93225</td>\n",
       "      <td>34.827662</td>\n",
       "      <td>-118.999073</td>\n",
       "      <td>2</td>\n",
       "      <td>9</td>\n",
       "      <td>...</td>\n",
       "      <td>2</td>\n",
       "      <td>65.6</td>\n",
       "      <td>593.30</td>\n",
       "      <td>0.00</td>\n",
       "      <td>0</td>\n",
       "      <td>381.51</td>\n",
       "      <td>974.81</td>\n",
       "      <td>1</td>\n",
       "      <td>NaN</td>\n",
       "      <td>NaN</td>\n",
       "    </tr>\n",
       "    <tr>\n",
       "      <th>1</th>\n",
       "      <td>0</td>\n",
       "      <td>46</td>\n",
       "      <td>0</td>\n",
       "      <td>0</td>\n",
       "      <td>Glendale</td>\n",
       "      <td>91206</td>\n",
       "      <td>34.162515</td>\n",
       "      <td>-118.203869</td>\n",
       "      <td>0</td>\n",
       "      <td>9</td>\n",
       "      <td>...</td>\n",
       "      <td>2</td>\n",
       "      <td>-4.0</td>\n",
       "      <td>542.40</td>\n",
       "      <td>38.33</td>\n",
       "      <td>10</td>\n",
       "      <td>96.21</td>\n",
       "      <td>610.28</td>\n",
       "      <td>1</td>\n",
       "      <td>NaN</td>\n",
       "      <td>NaN</td>\n",
       "    </tr>\n",
       "    <tr>\n",
       "      <th>2</th>\n",
       "      <td>0</td>\n",
       "      <td>50</td>\n",
       "      <td>0</td>\n",
       "      <td>0</td>\n",
       "      <td>Costa Mesa</td>\n",
       "      <td>92627</td>\n",
       "      <td>33.645672</td>\n",
       "      <td>-117.922613</td>\n",
       "      <td>0</td>\n",
       "      <td>4</td>\n",
       "      <td>...</td>\n",
       "      <td>1</td>\n",
       "      <td>73.9</td>\n",
       "      <td>280.85</td>\n",
       "      <td>0.00</td>\n",
       "      <td>0</td>\n",
       "      <td>134.60</td>\n",
       "      <td>415.45</td>\n",
       "      <td>2</td>\n",
       "      <td>1.0</td>\n",
       "      <td>1.0</td>\n",
       "    </tr>\n",
       "    <tr>\n",
       "      <th>3</th>\n",
       "      <td>0</td>\n",
       "      <td>78</td>\n",
       "      <td>1</td>\n",
       "      <td>0</td>\n",
       "      <td>Martinez</td>\n",
       "      <td>94553</td>\n",
       "      <td>38.014457</td>\n",
       "      <td>-122.115432</td>\n",
       "      <td>1</td>\n",
       "      <td>13</td>\n",
       "      <td>...</td>\n",
       "      <td>1</td>\n",
       "      <td>98.0</td>\n",
       "      <td>1237.85</td>\n",
       "      <td>0.00</td>\n",
       "      <td>0</td>\n",
       "      <td>361.66</td>\n",
       "      <td>1599.51</td>\n",
       "      <td>2</td>\n",
       "      <td>2.0</td>\n",
       "      <td>2.0</td>\n",
       "    </tr>\n",
       "    <tr>\n",
       "      <th>4</th>\n",
       "      <td>1</td>\n",
       "      <td>75</td>\n",
       "      <td>1</td>\n",
       "      <td>0</td>\n",
       "      <td>Camarillo</td>\n",
       "      <td>93010</td>\n",
       "      <td>34.227846</td>\n",
       "      <td>-119.079903</td>\n",
       "      <td>3</td>\n",
       "      <td>3</td>\n",
       "      <td>...</td>\n",
       "      <td>2</td>\n",
       "      <td>83.9</td>\n",
       "      <td>267.40</td>\n",
       "      <td>0.00</td>\n",
       "      <td>0</td>\n",
       "      <td>22.14</td>\n",
       "      <td>289.54</td>\n",
       "      <td>2</td>\n",
       "      <td>2.0</td>\n",
       "      <td>3.0</td>\n",
       "    </tr>\n",
       "  </tbody>\n",
       "</table>\n",
       "<p>5 rows × 37 columns</p>\n",
       "</div>"
      ],
      "text/plain": [
       "   Gender  Age  Married  Number of Dependents          City  Zip Code  \\\n",
       "0       1   37        1                     0  Frazier Park     93225   \n",
       "1       0   46        0                     0      Glendale     91206   \n",
       "2       0   50        0                     0    Costa Mesa     92627   \n",
       "3       0   78        1                     0      Martinez     94553   \n",
       "4       1   75        1                     0     Camarillo     93010   \n",
       "\n",
       "    Latitude   Longitude  Number of Referrals  Tenure in Months  ...  \\\n",
       "0  34.827662 -118.999073                    2                 9  ...   \n",
       "1  34.162515 -118.203869                    0                 9  ...   \n",
       "2  33.645672 -117.922613                    0                 4  ...   \n",
       "3  38.014457 -122.115432                    1                13  ...   \n",
       "4  34.227846 -119.079903                    3                 3  ...   \n",
       "\n",
       "   Payment Method  Monthly Charge  Total Charges  Total Refunds  \\\n",
       "0               2            65.6         593.30           0.00   \n",
       "1               2            -4.0         542.40          38.33   \n",
       "2               1            73.9         280.85           0.00   \n",
       "3               1            98.0        1237.85           0.00   \n",
       "4               2            83.9         267.40           0.00   \n",
       "\n",
       "   Total Extra Data Charges  Total Long Distance Charges  Total Revenue  \\\n",
       "0                         0                       381.51         974.81   \n",
       "1                        10                        96.21         610.28   \n",
       "2                         0                       134.60         415.45   \n",
       "3                         0                       361.66        1599.51   \n",
       "4                         0                        22.14         289.54   \n",
       "\n",
       "   Customer Status  Churn Category  Churn Reason  \n",
       "0                1             NaN           NaN  \n",
       "1                1             NaN           NaN  \n",
       "2                2             1.0           1.0  \n",
       "3                2             2.0           2.0  \n",
       "4                2             2.0           3.0  \n",
       "\n",
       "[5 rows x 37 columns]"
      ]
     },
     "execution_count": 35,
     "metadata": {},
     "output_type": "execute_result"
    }
   ],
   "source": [
    "#Let's Check if the data has been preprocessed completely\n",
    "df.head()"
   ]
  },
  {
   "cell_type": "code",
   "execution_count": 36,
   "id": "8394cf83",
   "metadata": {
    "execution": {
     "iopub.execute_input": "2022-08-11T02:51:57.006374Z",
     "iopub.status.busy": "2022-08-11T02:51:57.005702Z",
     "iopub.status.idle": "2022-08-11T02:51:57.013620Z",
     "shell.execute_reply": "2022-08-11T02:51:57.012746Z"
    },
    "id": "ba2D-vqtrFh2",
    "outputId": "533f9bf4-1fd3-4842-e2c1-bd3b857ddd91",
    "papermill": {
     "duration": 0.036704,
     "end_time": "2022-08-11T02:51:57.016220",
     "exception": false,
     "start_time": "2022-08-11T02:51:56.979516",
     "status": "completed"
    },
    "tags": []
   },
   "outputs": [
    {
     "data": {
      "text/plain": [
       "Gender                                 int64\n",
       "Age                                    int64\n",
       "Married                                int64\n",
       "Number of Dependents                   int64\n",
       "City                                  object\n",
       "Zip Code                               int64\n",
       "Latitude                             float64\n",
       "Longitude                            float64\n",
       "Number of Referrals                    int64\n",
       "Tenure in Months                       int64\n",
       "Offer                                  int64\n",
       "Phone Service                          int64\n",
       "Avg Monthly Long Distance Charges    float64\n",
       "Multiple Lines                         int64\n",
       "Internet Service                       int64\n",
       "Internet Type                          int64\n",
       "Avg Monthly GB Download              float64\n",
       "Online Security                        int64\n",
       "Online Backup                          int64\n",
       "Device Protection Plan                 int64\n",
       "Premium Tech Support                   int64\n",
       "Streaming TV                           int64\n",
       "Streaming Movies                       int64\n",
       "Streaming Music                        int64\n",
       "Unlimited Data                         int64\n",
       "Contract                               int64\n",
       "Paperless Billing                      int64\n",
       "Payment Method                         int64\n",
       "Monthly Charge                       float64\n",
       "Total Charges                        float64\n",
       "Total Refunds                        float64\n",
       "Total Extra Data Charges               int64\n",
       "Total Long Distance Charges          float64\n",
       "Total Revenue                        float64\n",
       "Customer Status                        int64\n",
       "Churn Category                       float64\n",
       "Churn Reason                         float64\n",
       "dtype: object"
      ]
     },
     "execution_count": 36,
     "metadata": {},
     "output_type": "execute_result"
    }
   ],
   "source": [
    "df.dtypes"
   ]
  },
  {
   "cell_type": "markdown",
   "id": "d4c2b46f",
   "metadata": {
    "id": "YYse42WtsCRT",
    "papermill": {
     "duration": 0.023038,
     "end_time": "2022-08-11T02:51:57.063072",
     "exception": false,
     "start_time": "2022-08-11T02:51:57.040034",
     "status": "completed"
    },
    "tags": []
   },
   "source": [
    "There are 682 missing values in avg monthly long distance charges and 1562 in avg monthly GB downloads."
   ]
  },
  {
   "cell_type": "code",
   "execution_count": 37,
   "id": "809b6e7c",
   "metadata": {
    "execution": {
     "iopub.execute_input": "2022-08-11T02:51:57.115130Z",
     "iopub.status.busy": "2022-08-11T02:51:57.114474Z",
     "iopub.status.idle": "2022-08-11T02:51:57.121102Z",
     "shell.execute_reply": "2022-08-11T02:51:57.119901Z"
    },
    "id": "b0K1l7dJrlAJ",
    "papermill": {
     "duration": 0.035859,
     "end_time": "2022-08-11T02:51:57.123343",
     "exception": false,
     "start_time": "2022-08-11T02:51:57.087484",
     "status": "completed"
    },
    "tags": []
   },
   "outputs": [],
   "source": [
    "# filling the null values with the mean\n",
    "value = df['Avg Monthly Long Distance Charges'].mean()\n",
    "values = df['Avg Monthly GB Download'].mean()\n",
    "val1 = df['Churn Category'].mean()\n",
    "val2 = df['Churn Reason'].mean()"
   ]
  },
  {
   "cell_type": "code",
   "execution_count": 38,
   "id": "68fcdd46",
   "metadata": {
    "execution": {
     "iopub.execute_input": "2022-08-11T02:51:57.174996Z",
     "iopub.status.busy": "2022-08-11T02:51:57.174626Z",
     "iopub.status.idle": "2022-08-11T02:51:57.180488Z",
     "shell.execute_reply": "2022-08-11T02:51:57.178894Z"
    },
    "id": "1qPyVEi5ssM3",
    "papermill": {
     "duration": 0.035168,
     "end_time": "2022-08-11T02:51:57.182740",
     "exception": false,
     "start_time": "2022-08-11T02:51:57.147572",
     "status": "completed"
    },
    "tags": []
   },
   "outputs": [],
   "source": [
    "df['Avg Monthly Long Distance Charges'].fillna(value = value, inplace = True)"
   ]
  },
  {
   "cell_type": "code",
   "execution_count": 39,
   "id": "955bb097",
   "metadata": {
    "execution": {
     "iopub.execute_input": "2022-08-11T02:51:57.235276Z",
     "iopub.status.busy": "2022-08-11T02:51:57.233951Z",
     "iopub.status.idle": "2022-08-11T02:51:57.240336Z",
     "shell.execute_reply": "2022-08-11T02:51:57.238679Z"
    },
    "id": "ZDXd9nhKs0vi",
    "papermill": {
     "duration": 0.034735,
     "end_time": "2022-08-11T02:51:57.242838",
     "exception": false,
     "start_time": "2022-08-11T02:51:57.208103",
     "status": "completed"
    },
    "tags": []
   },
   "outputs": [],
   "source": [
    "df['Avg Monthly GB Download'].fillna(value = values, inplace = True)"
   ]
  },
  {
   "cell_type": "code",
   "execution_count": 40,
   "id": "780d8012",
   "metadata": {
    "execution": {
     "iopub.execute_input": "2022-08-11T02:51:57.296255Z",
     "iopub.status.busy": "2022-08-11T02:51:57.294492Z",
     "iopub.status.idle": "2022-08-11T02:51:57.299848Z",
     "shell.execute_reply": "2022-08-11T02:51:57.299198Z"
    },
    "id": "XR9jX9LftWEa",
    "papermill": {
     "duration": 0.032716,
     "end_time": "2022-08-11T02:51:57.301570",
     "exception": false,
     "start_time": "2022-08-11T02:51:57.268854",
     "status": "completed"
    },
    "tags": []
   },
   "outputs": [],
   "source": [
    "df['Churn Category'].fillna(value = val1, inplace = True)"
   ]
  },
  {
   "cell_type": "code",
   "execution_count": 41,
   "id": "f006e2fc",
   "metadata": {
    "execution": {
     "iopub.execute_input": "2022-08-11T02:51:57.351988Z",
     "iopub.status.busy": "2022-08-11T02:51:57.350252Z",
     "iopub.status.idle": "2022-08-11T02:51:57.356169Z",
     "shell.execute_reply": "2022-08-11T02:51:57.355300Z"
    },
    "id": "3KG6Gl5etXbk",
    "papermill": {
     "duration": 0.033601,
     "end_time": "2022-08-11T02:51:57.358113",
     "exception": false,
     "start_time": "2022-08-11T02:51:57.324512",
     "status": "completed"
    },
    "tags": []
   },
   "outputs": [],
   "source": [
    "df['Churn Reason'].fillna(value = val2, inplace = True)"
   ]
  },
  {
   "cell_type": "code",
   "execution_count": 42,
   "id": "ac66f740",
   "metadata": {
    "execution": {
     "iopub.execute_input": "2022-08-11T02:51:57.409199Z",
     "iopub.status.busy": "2022-08-11T02:51:57.408230Z",
     "iopub.status.idle": "2022-08-11T02:51:57.421021Z",
     "shell.execute_reply": "2022-08-11T02:51:57.420163Z"
    },
    "id": "35voL0hZs8cD",
    "outputId": "062ae69b-4b73-457e-f509-ac1c3a674f78",
    "papermill": {
     "duration": 0.039884,
     "end_time": "2022-08-11T02:51:57.422791",
     "exception": false,
     "start_time": "2022-08-11T02:51:57.382907",
     "status": "completed"
    },
    "tags": []
   },
   "outputs": [
    {
     "data": {
      "text/plain": [
       "Gender                               0\n",
       "Age                                  0\n",
       "Married                              0\n",
       "Number of Dependents                 0\n",
       "City                                 0\n",
       "Zip Code                             0\n",
       "Latitude                             0\n",
       "Longitude                            0\n",
       "Number of Referrals                  0\n",
       "Tenure in Months                     0\n",
       "Offer                                0\n",
       "Phone Service                        0\n",
       "Avg Monthly Long Distance Charges    0\n",
       "Multiple Lines                       0\n",
       "Internet Service                     0\n",
       "Internet Type                        0\n",
       "Avg Monthly GB Download              0\n",
       "Online Security                      0\n",
       "Online Backup                        0\n",
       "Device Protection Plan               0\n",
       "Premium Tech Support                 0\n",
       "Streaming TV                         0\n",
       "Streaming Movies                     0\n",
       "Streaming Music                      0\n",
       "Unlimited Data                       0\n",
       "Contract                             0\n",
       "Paperless Billing                    0\n",
       "Payment Method                       0\n",
       "Monthly Charge                       0\n",
       "Total Charges                        0\n",
       "Total Refunds                        0\n",
       "Total Extra Data Charges             0\n",
       "Total Long Distance Charges          0\n",
       "Total Revenue                        0\n",
       "Customer Status                      0\n",
       "Churn Category                       0\n",
       "Churn Reason                         0\n",
       "dtype: int64"
      ]
     },
     "execution_count": 42,
     "metadata": {},
     "output_type": "execute_result"
    }
   ],
   "source": [
    "#lets check if the null values were filled\n",
    "df.isnull().sum()"
   ]
  },
  {
   "cell_type": "code",
   "execution_count": 43,
   "id": "ffd37da8",
   "metadata": {
    "execution": {
     "iopub.execute_input": "2022-08-11T02:51:57.472407Z",
     "iopub.status.busy": "2022-08-11T02:51:57.471574Z",
     "iopub.status.idle": "2022-08-11T02:51:57.494272Z",
     "shell.execute_reply": "2022-08-11T02:51:57.492931Z"
    },
    "id": "y7rGr7WKtDjv",
    "outputId": "2afe3229-5fd7-477c-c3e2-1cb3d4e74c2f",
    "papermill": {
     "duration": 0.049859,
     "end_time": "2022-08-11T02:51:57.496089",
     "exception": false,
     "start_time": "2022-08-11T02:51:57.446230",
     "status": "completed"
    },
    "tags": []
   },
   "outputs": [
    {
     "data": {
      "text/html": [
       "<div>\n",
       "<style scoped>\n",
       "    .dataframe tbody tr th:only-of-type {\n",
       "        vertical-align: middle;\n",
       "    }\n",
       "\n",
       "    .dataframe tbody tr th {\n",
       "        vertical-align: top;\n",
       "    }\n",
       "\n",
       "    .dataframe thead th {\n",
       "        text-align: right;\n",
       "    }\n",
       "</style>\n",
       "<table border=\"1\" class=\"dataframe\">\n",
       "  <thead>\n",
       "    <tr style=\"text-align: right;\">\n",
       "      <th></th>\n",
       "      <th>Gender</th>\n",
       "      <th>Age</th>\n",
       "      <th>Married</th>\n",
       "      <th>Number of Dependents</th>\n",
       "      <th>City</th>\n",
       "      <th>Zip Code</th>\n",
       "      <th>Latitude</th>\n",
       "      <th>Longitude</th>\n",
       "      <th>Number of Referrals</th>\n",
       "      <th>Tenure in Months</th>\n",
       "      <th>...</th>\n",
       "      <th>Payment Method</th>\n",
       "      <th>Monthly Charge</th>\n",
       "      <th>Total Charges</th>\n",
       "      <th>Total Refunds</th>\n",
       "      <th>Total Extra Data Charges</th>\n",
       "      <th>Total Long Distance Charges</th>\n",
       "      <th>Total Revenue</th>\n",
       "      <th>Customer Status</th>\n",
       "      <th>Churn Category</th>\n",
       "      <th>Churn Reason</th>\n",
       "    </tr>\n",
       "  </thead>\n",
       "  <tbody>\n",
       "    <tr>\n",
       "      <th>0</th>\n",
       "      <td>1</td>\n",
       "      <td>37</td>\n",
       "      <td>1</td>\n",
       "      <td>0</td>\n",
       "      <td>Frazier Park</td>\n",
       "      <td>93225</td>\n",
       "      <td>34.827662</td>\n",
       "      <td>-118.999073</td>\n",
       "      <td>2</td>\n",
       "      <td>9</td>\n",
       "      <td>...</td>\n",
       "      <td>2</td>\n",
       "      <td>65.6</td>\n",
       "      <td>593.30</td>\n",
       "      <td>0.00</td>\n",
       "      <td>0</td>\n",
       "      <td>381.51</td>\n",
       "      <td>974.81</td>\n",
       "      <td>1</td>\n",
       "      <td>2.235955</td>\n",
       "      <td>7.458534</td>\n",
       "    </tr>\n",
       "    <tr>\n",
       "      <th>1</th>\n",
       "      <td>0</td>\n",
       "      <td>46</td>\n",
       "      <td>0</td>\n",
       "      <td>0</td>\n",
       "      <td>Glendale</td>\n",
       "      <td>91206</td>\n",
       "      <td>34.162515</td>\n",
       "      <td>-118.203869</td>\n",
       "      <td>0</td>\n",
       "      <td>9</td>\n",
       "      <td>...</td>\n",
       "      <td>2</td>\n",
       "      <td>-4.0</td>\n",
       "      <td>542.40</td>\n",
       "      <td>38.33</td>\n",
       "      <td>10</td>\n",
       "      <td>96.21</td>\n",
       "      <td>610.28</td>\n",
       "      <td>1</td>\n",
       "      <td>2.235955</td>\n",
       "      <td>7.458534</td>\n",
       "    </tr>\n",
       "    <tr>\n",
       "      <th>2</th>\n",
       "      <td>0</td>\n",
       "      <td>50</td>\n",
       "      <td>0</td>\n",
       "      <td>0</td>\n",
       "      <td>Costa Mesa</td>\n",
       "      <td>92627</td>\n",
       "      <td>33.645672</td>\n",
       "      <td>-117.922613</td>\n",
       "      <td>0</td>\n",
       "      <td>4</td>\n",
       "      <td>...</td>\n",
       "      <td>1</td>\n",
       "      <td>73.9</td>\n",
       "      <td>280.85</td>\n",
       "      <td>0.00</td>\n",
       "      <td>0</td>\n",
       "      <td>134.60</td>\n",
       "      <td>415.45</td>\n",
       "      <td>2</td>\n",
       "      <td>1.000000</td>\n",
       "      <td>1.000000</td>\n",
       "    </tr>\n",
       "    <tr>\n",
       "      <th>3</th>\n",
       "      <td>0</td>\n",
       "      <td>78</td>\n",
       "      <td>1</td>\n",
       "      <td>0</td>\n",
       "      <td>Martinez</td>\n",
       "      <td>94553</td>\n",
       "      <td>38.014457</td>\n",
       "      <td>-122.115432</td>\n",
       "      <td>1</td>\n",
       "      <td>13</td>\n",
       "      <td>...</td>\n",
       "      <td>1</td>\n",
       "      <td>98.0</td>\n",
       "      <td>1237.85</td>\n",
       "      <td>0.00</td>\n",
       "      <td>0</td>\n",
       "      <td>361.66</td>\n",
       "      <td>1599.51</td>\n",
       "      <td>2</td>\n",
       "      <td>2.000000</td>\n",
       "      <td>2.000000</td>\n",
       "    </tr>\n",
       "    <tr>\n",
       "      <th>4</th>\n",
       "      <td>1</td>\n",
       "      <td>75</td>\n",
       "      <td>1</td>\n",
       "      <td>0</td>\n",
       "      <td>Camarillo</td>\n",
       "      <td>93010</td>\n",
       "      <td>34.227846</td>\n",
       "      <td>-119.079903</td>\n",
       "      <td>3</td>\n",
       "      <td>3</td>\n",
       "      <td>...</td>\n",
       "      <td>2</td>\n",
       "      <td>83.9</td>\n",
       "      <td>267.40</td>\n",
       "      <td>0.00</td>\n",
       "      <td>0</td>\n",
       "      <td>22.14</td>\n",
       "      <td>289.54</td>\n",
       "      <td>2</td>\n",
       "      <td>2.000000</td>\n",
       "      <td>3.000000</td>\n",
       "    </tr>\n",
       "  </tbody>\n",
       "</table>\n",
       "<p>5 rows × 37 columns</p>\n",
       "</div>"
      ],
      "text/plain": [
       "   Gender  Age  Married  Number of Dependents          City  Zip Code  \\\n",
       "0       1   37        1                     0  Frazier Park     93225   \n",
       "1       0   46        0                     0      Glendale     91206   \n",
       "2       0   50        0                     0    Costa Mesa     92627   \n",
       "3       0   78        1                     0      Martinez     94553   \n",
       "4       1   75        1                     0     Camarillo     93010   \n",
       "\n",
       "    Latitude   Longitude  Number of Referrals  Tenure in Months  ...  \\\n",
       "0  34.827662 -118.999073                    2                 9  ...   \n",
       "1  34.162515 -118.203869                    0                 9  ...   \n",
       "2  33.645672 -117.922613                    0                 4  ...   \n",
       "3  38.014457 -122.115432                    1                13  ...   \n",
       "4  34.227846 -119.079903                    3                 3  ...   \n",
       "\n",
       "   Payment Method  Monthly Charge  Total Charges  Total Refunds  \\\n",
       "0               2            65.6         593.30           0.00   \n",
       "1               2            -4.0         542.40          38.33   \n",
       "2               1            73.9         280.85           0.00   \n",
       "3               1            98.0        1237.85           0.00   \n",
       "4               2            83.9         267.40           0.00   \n",
       "\n",
       "   Total Extra Data Charges  Total Long Distance Charges  Total Revenue  \\\n",
       "0                         0                       381.51         974.81   \n",
       "1                        10                        96.21         610.28   \n",
       "2                         0                       134.60         415.45   \n",
       "3                         0                       361.66        1599.51   \n",
       "4                         0                        22.14         289.54   \n",
       "\n",
       "   Customer Status  Churn Category  Churn Reason  \n",
       "0                1        2.235955      7.458534  \n",
       "1                1        2.235955      7.458534  \n",
       "2                2        1.000000      1.000000  \n",
       "3                2        2.000000      2.000000  \n",
       "4                2        2.000000      3.000000  \n",
       "\n",
       "[5 rows x 37 columns]"
      ]
     },
     "execution_count": 43,
     "metadata": {},
     "output_type": "execute_result"
    }
   ],
   "source": [
    "df.head(5)"
   ]
  },
  {
   "cell_type": "code",
   "execution_count": 44,
   "id": "5da7ce39",
   "metadata": {
    "execution": {
     "iopub.execute_input": "2022-08-11T02:51:57.544803Z",
     "iopub.status.busy": "2022-08-11T02:51:57.544459Z",
     "iopub.status.idle": "2022-08-11T02:51:57.550864Z",
     "shell.execute_reply": "2022-08-11T02:51:57.550101Z"
    },
    "id": "JDmCEr2Att75",
    "papermill": {
     "duration": 0.033735,
     "end_time": "2022-08-11T02:51:57.552746",
     "exception": false,
     "start_time": "2022-08-11T02:51:57.519011",
     "status": "completed"
    },
    "tags": []
   },
   "outputs": [],
   "source": [
    "df.drop('City', axis = 1, inplace = True)"
   ]
  },
  {
   "cell_type": "code",
   "execution_count": 45,
   "id": "586c87fd",
   "metadata": {
    "execution": {
     "iopub.execute_input": "2022-08-11T02:51:57.603926Z",
     "iopub.status.busy": "2022-08-11T02:51:57.603134Z",
     "iopub.status.idle": "2022-08-11T02:51:57.609142Z",
     "shell.execute_reply": "2022-08-11T02:51:57.608383Z"
    },
    "id": "60VbL5W-ubLm",
    "papermill": {
     "duration": 0.034422,
     "end_time": "2022-08-11T02:51:57.611272",
     "exception": false,
     "start_time": "2022-08-11T02:51:57.576850",
     "status": "completed"
    },
    "tags": []
   },
   "outputs": [],
   "source": [
    "x = df.drop('Customer Status', axis = 1)"
   ]
  },
  {
   "cell_type": "code",
   "execution_count": 46,
   "id": "fa8e2054",
   "metadata": {
    "execution": {
     "iopub.execute_input": "2022-08-11T02:51:57.661976Z",
     "iopub.status.busy": "2022-08-11T02:51:57.661430Z",
     "iopub.status.idle": "2022-08-11T02:51:57.680837Z",
     "shell.execute_reply": "2022-08-11T02:51:57.679922Z"
    },
    "id": "2QtSQK0oupp4",
    "outputId": "a5e68aa2-ccbc-4ed1-d6fc-a9f99549ad65",
    "papermill": {
     "duration": 0.047147,
     "end_time": "2022-08-11T02:51:57.682677",
     "exception": false,
     "start_time": "2022-08-11T02:51:57.635530",
     "status": "completed"
    },
    "tags": []
   },
   "outputs": [
    {
     "data": {
      "text/html": [
       "<div>\n",
       "<style scoped>\n",
       "    .dataframe tbody tr th:only-of-type {\n",
       "        vertical-align: middle;\n",
       "    }\n",
       "\n",
       "    .dataframe tbody tr th {\n",
       "        vertical-align: top;\n",
       "    }\n",
       "\n",
       "    .dataframe thead th {\n",
       "        text-align: right;\n",
       "    }\n",
       "</style>\n",
       "<table border=\"1\" class=\"dataframe\">\n",
       "  <thead>\n",
       "    <tr style=\"text-align: right;\">\n",
       "      <th></th>\n",
       "      <th>Gender</th>\n",
       "      <th>Age</th>\n",
       "      <th>Married</th>\n",
       "      <th>Number of Dependents</th>\n",
       "      <th>Zip Code</th>\n",
       "      <th>Latitude</th>\n",
       "      <th>Longitude</th>\n",
       "      <th>Number of Referrals</th>\n",
       "      <th>Tenure in Months</th>\n",
       "      <th>Offer</th>\n",
       "      <th>...</th>\n",
       "      <th>Paperless Billing</th>\n",
       "      <th>Payment Method</th>\n",
       "      <th>Monthly Charge</th>\n",
       "      <th>Total Charges</th>\n",
       "      <th>Total Refunds</th>\n",
       "      <th>Total Extra Data Charges</th>\n",
       "      <th>Total Long Distance Charges</th>\n",
       "      <th>Total Revenue</th>\n",
       "      <th>Churn Category</th>\n",
       "      <th>Churn Reason</th>\n",
       "    </tr>\n",
       "  </thead>\n",
       "  <tbody>\n",
       "    <tr>\n",
       "      <th>0</th>\n",
       "      <td>1</td>\n",
       "      <td>37</td>\n",
       "      <td>1</td>\n",
       "      <td>0</td>\n",
       "      <td>93225</td>\n",
       "      <td>34.827662</td>\n",
       "      <td>-118.999073</td>\n",
       "      <td>2</td>\n",
       "      <td>9</td>\n",
       "      <td>0</td>\n",
       "      <td>...</td>\n",
       "      <td>1</td>\n",
       "      <td>2</td>\n",
       "      <td>65.6</td>\n",
       "      <td>593.30</td>\n",
       "      <td>0.00</td>\n",
       "      <td>0</td>\n",
       "      <td>381.51</td>\n",
       "      <td>974.81</td>\n",
       "      <td>2.235955</td>\n",
       "      <td>7.458534</td>\n",
       "    </tr>\n",
       "    <tr>\n",
       "      <th>1</th>\n",
       "      <td>0</td>\n",
       "      <td>46</td>\n",
       "      <td>0</td>\n",
       "      <td>0</td>\n",
       "      <td>91206</td>\n",
       "      <td>34.162515</td>\n",
       "      <td>-118.203869</td>\n",
       "      <td>0</td>\n",
       "      <td>9</td>\n",
       "      <td>0</td>\n",
       "      <td>...</td>\n",
       "      <td>0</td>\n",
       "      <td>2</td>\n",
       "      <td>-4.0</td>\n",
       "      <td>542.40</td>\n",
       "      <td>38.33</td>\n",
       "      <td>10</td>\n",
       "      <td>96.21</td>\n",
       "      <td>610.28</td>\n",
       "      <td>2.235955</td>\n",
       "      <td>7.458534</td>\n",
       "    </tr>\n",
       "    <tr>\n",
       "      <th>2</th>\n",
       "      <td>0</td>\n",
       "      <td>50</td>\n",
       "      <td>0</td>\n",
       "      <td>0</td>\n",
       "      <td>92627</td>\n",
       "      <td>33.645672</td>\n",
       "      <td>-117.922613</td>\n",
       "      <td>0</td>\n",
       "      <td>4</td>\n",
       "      <td>1</td>\n",
       "      <td>...</td>\n",
       "      <td>1</td>\n",
       "      <td>1</td>\n",
       "      <td>73.9</td>\n",
       "      <td>280.85</td>\n",
       "      <td>0.00</td>\n",
       "      <td>0</td>\n",
       "      <td>134.60</td>\n",
       "      <td>415.45</td>\n",
       "      <td>1.000000</td>\n",
       "      <td>1.000000</td>\n",
       "    </tr>\n",
       "    <tr>\n",
       "      <th>3</th>\n",
       "      <td>0</td>\n",
       "      <td>78</td>\n",
       "      <td>1</td>\n",
       "      <td>0</td>\n",
       "      <td>94553</td>\n",
       "      <td>38.014457</td>\n",
       "      <td>-122.115432</td>\n",
       "      <td>1</td>\n",
       "      <td>13</td>\n",
       "      <td>2</td>\n",
       "      <td>...</td>\n",
       "      <td>1</td>\n",
       "      <td>1</td>\n",
       "      <td>98.0</td>\n",
       "      <td>1237.85</td>\n",
       "      <td>0.00</td>\n",
       "      <td>0</td>\n",
       "      <td>361.66</td>\n",
       "      <td>1599.51</td>\n",
       "      <td>2.000000</td>\n",
       "      <td>2.000000</td>\n",
       "    </tr>\n",
       "    <tr>\n",
       "      <th>4</th>\n",
       "      <td>1</td>\n",
       "      <td>75</td>\n",
       "      <td>1</td>\n",
       "      <td>0</td>\n",
       "      <td>93010</td>\n",
       "      <td>34.227846</td>\n",
       "      <td>-119.079903</td>\n",
       "      <td>3</td>\n",
       "      <td>3</td>\n",
       "      <td>0</td>\n",
       "      <td>...</td>\n",
       "      <td>1</td>\n",
       "      <td>2</td>\n",
       "      <td>83.9</td>\n",
       "      <td>267.40</td>\n",
       "      <td>0.00</td>\n",
       "      <td>0</td>\n",
       "      <td>22.14</td>\n",
       "      <td>289.54</td>\n",
       "      <td>2.000000</td>\n",
       "      <td>3.000000</td>\n",
       "    </tr>\n",
       "  </tbody>\n",
       "</table>\n",
       "<p>5 rows × 35 columns</p>\n",
       "</div>"
      ],
      "text/plain": [
       "   Gender  Age  Married  Number of Dependents  Zip Code   Latitude  \\\n",
       "0       1   37        1                     0     93225  34.827662   \n",
       "1       0   46        0                     0     91206  34.162515   \n",
       "2       0   50        0                     0     92627  33.645672   \n",
       "3       0   78        1                     0     94553  38.014457   \n",
       "4       1   75        1                     0     93010  34.227846   \n",
       "\n",
       "    Longitude  Number of Referrals  Tenure in Months  Offer  ...  \\\n",
       "0 -118.999073                    2                 9      0  ...   \n",
       "1 -118.203869                    0                 9      0  ...   \n",
       "2 -117.922613                    0                 4      1  ...   \n",
       "3 -122.115432                    1                13      2  ...   \n",
       "4 -119.079903                    3                 3      0  ...   \n",
       "\n",
       "   Paperless Billing  Payment Method  Monthly Charge  Total Charges  \\\n",
       "0                  1               2            65.6         593.30   \n",
       "1                  0               2            -4.0         542.40   \n",
       "2                  1               1            73.9         280.85   \n",
       "3                  1               1            98.0        1237.85   \n",
       "4                  1               2            83.9         267.40   \n",
       "\n",
       "   Total Refunds  Total Extra Data Charges  Total Long Distance Charges  \\\n",
       "0           0.00                         0                       381.51   \n",
       "1          38.33                        10                        96.21   \n",
       "2           0.00                         0                       134.60   \n",
       "3           0.00                         0                       361.66   \n",
       "4           0.00                         0                        22.14   \n",
       "\n",
       "   Total Revenue  Churn Category  Churn Reason  \n",
       "0         974.81        2.235955      7.458534  \n",
       "1         610.28        2.235955      7.458534  \n",
       "2         415.45        1.000000      1.000000  \n",
       "3        1599.51        2.000000      2.000000  \n",
       "4         289.54        2.000000      3.000000  \n",
       "\n",
       "[5 rows x 35 columns]"
      ]
     },
     "execution_count": 46,
     "metadata": {},
     "output_type": "execute_result"
    }
   ],
   "source": [
    "x.head()"
   ]
  },
  {
   "cell_type": "code",
   "execution_count": 47,
   "id": "27909fc5",
   "metadata": {
    "execution": {
     "iopub.execute_input": "2022-08-11T02:51:57.734412Z",
     "iopub.status.busy": "2022-08-11T02:51:57.734035Z",
     "iopub.status.idle": "2022-08-11T02:51:57.741825Z",
     "shell.execute_reply": "2022-08-11T02:51:57.739042Z"
    },
    "id": "O9R12c_gurdB",
    "papermill": {
     "duration": 0.037371,
     "end_time": "2022-08-11T02:51:57.744604",
     "exception": false,
     "start_time": "2022-08-11T02:51:57.707233",
     "status": "completed"
    },
    "tags": []
   },
   "outputs": [],
   "source": [
    "y = df['Customer Status'].values"
   ]
  },
  {
   "cell_type": "code",
   "execution_count": 48,
   "id": "ab597697",
   "metadata": {
    "execution": {
     "iopub.execute_input": "2022-08-11T02:51:57.798035Z",
     "iopub.status.busy": "2022-08-11T02:51:57.797410Z",
     "iopub.status.idle": "2022-08-11T02:51:57.802519Z",
     "shell.execute_reply": "2022-08-11T02:51:57.801901Z"
    },
    "id": "24hmwAZHu2zo",
    "outputId": "8e24bfc8-f96e-47a1-8744-e58eb747bc71",
    "papermill": {
     "duration": 0.033617,
     "end_time": "2022-08-11T02:51:57.804198",
     "exception": false,
     "start_time": "2022-08-11T02:51:57.770581",
     "status": "completed"
    },
    "tags": []
   },
   "outputs": [
    {
     "data": {
      "text/plain": [
       "array([1, 1, 2, ..., 3, 1, 1])"
      ]
     },
     "execution_count": 48,
     "metadata": {},
     "output_type": "execute_result"
    }
   ],
   "source": [
    "y"
   ]
  },
  {
   "cell_type": "markdown",
   "id": "b7ea73a9",
   "metadata": {
    "id": "I8mUCMztu9ab",
    "papermill": {
     "duration": 0.02586,
     "end_time": "2022-08-11T02:51:57.856115",
     "exception": false,
     "start_time": "2022-08-11T02:51:57.830255",
     "status": "completed"
    },
    "tags": []
   },
   "source": [
    "Data Transformation"
   ]
  },
  {
   "cell_type": "code",
   "execution_count": 49,
   "id": "3ef889d6",
   "metadata": {
    "execution": {
     "iopub.execute_input": "2022-08-11T02:51:57.909823Z",
     "iopub.status.busy": "2022-08-11T02:51:57.909198Z",
     "iopub.status.idle": "2022-08-11T02:51:58.096522Z",
     "shell.execute_reply": "2022-08-11T02:51:58.095419Z"
    },
    "id": "kMCgADP1u3e4",
    "papermill": {
     "duration": 0.216684,
     "end_time": "2022-08-11T02:51:58.098764",
     "exception": false,
     "start_time": "2022-08-11T02:51:57.882080",
     "status": "completed"
    },
    "tags": []
   },
   "outputs": [],
   "source": [
    "from sklearn.preprocessing import MinMaxScaler"
   ]
  },
  {
   "cell_type": "code",
   "execution_count": 50,
   "id": "d3446db4",
   "metadata": {
    "execution": {
     "iopub.execute_input": "2022-08-11T02:51:58.151928Z",
     "iopub.status.busy": "2022-08-11T02:51:58.151584Z",
     "iopub.status.idle": "2022-08-11T02:51:58.155260Z",
     "shell.execute_reply": "2022-08-11T02:51:58.154588Z"
    },
    "id": "xp11z13ovJLC",
    "papermill": {
     "duration": 0.033102,
     "end_time": "2022-08-11T02:51:58.157499",
     "exception": false,
     "start_time": "2022-08-11T02:51:58.124397",
     "status": "completed"
    },
    "tags": []
   },
   "outputs": [],
   "source": [
    "scaler = MinMaxScaler()"
   ]
  },
  {
   "cell_type": "code",
   "execution_count": 51,
   "id": "a0c032b5",
   "metadata": {
    "execution": {
     "iopub.execute_input": "2022-08-11T02:51:58.209290Z",
     "iopub.status.busy": "2022-08-11T02:51:58.208735Z",
     "iopub.status.idle": "2022-08-11T02:51:58.219751Z",
     "shell.execute_reply": "2022-08-11T02:51:58.219120Z"
    },
    "id": "f8JVdoOQvNsj",
    "outputId": "ba78ae10-eb94-45ec-aa67-06dc028d7350",
    "papermill": {
     "duration": 0.039278,
     "end_time": "2022-08-11T02:51:58.221793",
     "exception": false,
     "start_time": "2022-08-11T02:51:58.182515",
     "status": "completed"
    },
    "tags": []
   },
   "outputs": [
    {
     "data": {
      "text/plain": [
       "array([[1.        , 0.29508197, 1.        , ..., 0.07973337, 0.30898876,\n",
       "        0.33992284],\n",
       "       [0.        , 0.44262295, 0.        , ..., 0.04924912, 0.30898876,\n",
       "        0.33992284],\n",
       "       [0.        , 0.50819672, 0.        , ..., 0.03295624, 0.        ,\n",
       "        0.        ],\n",
       "       ...,\n",
       "       [0.        , 0.04918033, 0.        , ..., 0.00908431, 0.30898876,\n",
       "        0.33992284],\n",
       "       [0.        , 0.03278689, 1.        , ..., 0.39708462, 0.30898876,\n",
       "        0.33992284],\n",
       "       [0.        , 0.27868852, 1.        , ..., 0.30826611, 0.30898876,\n",
       "        0.33992284]])"
      ]
     },
     "execution_count": 51,
     "metadata": {},
     "output_type": "execute_result"
    }
   ],
   "source": [
    "scaler.fit_transform(x)"
   ]
  },
  {
   "cell_type": "code",
   "execution_count": 52,
   "id": "aff5d400",
   "metadata": {
    "execution": {
     "iopub.execute_input": "2022-08-11T02:51:58.274284Z",
     "iopub.status.busy": "2022-08-11T02:51:58.273707Z",
     "iopub.status.idle": "2022-08-11T02:51:58.282734Z",
     "shell.execute_reply": "2022-08-11T02:51:58.282031Z"
    },
    "id": "viPPQaCWvS4e",
    "papermill": {
     "duration": 0.037499,
     "end_time": "2022-08-11T02:51:58.284838",
     "exception": false,
     "start_time": "2022-08-11T02:51:58.247339",
     "status": "completed"
    },
    "tags": []
   },
   "outputs": [],
   "source": [
    "X = scaler.fit_transform(x)"
   ]
  },
  {
   "cell_type": "markdown",
   "id": "3aa0b453",
   "metadata": {
    "id": "X4IYBw5xv4-T",
    "papermill": {
     "duration": 0.024905,
     "end_time": "2022-08-11T02:51:58.334566",
     "exception": false,
     "start_time": "2022-08-11T02:51:58.309661",
     "status": "completed"
    },
    "tags": []
   },
   "source": [
    "Splitting the data"
   ]
  },
  {
   "cell_type": "code",
   "execution_count": 53,
   "id": "afc8bb62",
   "metadata": {
    "execution": {
     "iopub.execute_input": "2022-08-11T02:51:58.386787Z",
     "iopub.status.busy": "2022-08-11T02:51:58.386246Z",
     "iopub.status.idle": "2022-08-11T02:51:58.465146Z",
     "shell.execute_reply": "2022-08-11T02:51:58.464364Z"
    },
    "id": "Wig5HJUrv-Qu",
    "papermill": {
     "duration": 0.107813,
     "end_time": "2022-08-11T02:51:58.467463",
     "exception": false,
     "start_time": "2022-08-11T02:51:58.359650",
     "status": "completed"
    },
    "tags": []
   },
   "outputs": [],
   "source": [
    "from sklearn.model_selection import train_test_split"
   ]
  },
  {
   "cell_type": "code",
   "execution_count": 54,
   "id": "c66288d9",
   "metadata": {
    "execution": {
     "iopub.execute_input": "2022-08-11T02:51:58.581436Z",
     "iopub.status.busy": "2022-08-11T02:51:58.580848Z",
     "iopub.status.idle": "2022-08-11T02:51:58.587185Z",
     "shell.execute_reply": "2022-08-11T02:51:58.586392Z"
    },
    "id": "hByV_dgJwDBZ",
    "papermill": {
     "duration": 0.096619,
     "end_time": "2022-08-11T02:51:58.589267",
     "exception": false,
     "start_time": "2022-08-11T02:51:58.492648",
     "status": "completed"
    },
    "tags": []
   },
   "outputs": [],
   "source": [
    "x_train, x_test, y_train, y_test = train_test_split(X,y, test_size = 0.3, random_state = 42)"
   ]
  },
  {
   "cell_type": "markdown",
   "id": "048fb7f0",
   "metadata": {
    "id": "XsuSXFpqvf-M",
    "papermill": {
     "duration": 0.024076,
     "end_time": "2022-08-11T02:51:58.638954",
     "exception": false,
     "start_time": "2022-08-11T02:51:58.614878",
     "status": "completed"
    },
    "tags": []
   },
   "source": [
    "Model Building"
   ]
  },
  {
   "cell_type": "code",
   "execution_count": 55,
   "id": "bfb96ec7",
   "metadata": {
    "execution": {
     "iopub.execute_input": "2022-08-11T02:51:58.692246Z",
     "iopub.status.busy": "2022-08-11T02:51:58.691625Z",
     "iopub.status.idle": "2022-08-11T02:51:58.790320Z",
     "shell.execute_reply": "2022-08-11T02:51:58.788968Z"
    },
    "id": "AhTHVZdhvWD-",
    "papermill": {
     "duration": 0.127717,
     "end_time": "2022-08-11T02:51:58.792790",
     "exception": false,
     "start_time": "2022-08-11T02:51:58.665073",
     "status": "completed"
    },
    "tags": []
   },
   "outputs": [],
   "source": [
    "from sklearn.svm import SVC\n",
    "svc = SVC()"
   ]
  },
  {
   "cell_type": "code",
   "execution_count": 56,
   "id": "9a2ef6dd",
   "metadata": {
    "execution": {
     "iopub.execute_input": "2022-08-11T02:51:58.845470Z",
     "iopub.status.busy": "2022-08-11T02:51:58.844863Z",
     "iopub.status.idle": "2022-08-11T02:51:59.621899Z",
     "shell.execute_reply": "2022-08-11T02:51:59.620709Z"
    },
    "id": "40-iXqE7v3t5",
    "outputId": "179b9ede-a75f-47f9-b56e-7ead9c07c99b",
    "papermill": {
     "duration": 0.805892,
     "end_time": "2022-08-11T02:51:59.623894",
     "exception": false,
     "start_time": "2022-08-11T02:51:58.818002",
     "status": "completed"
    },
    "tags": []
   },
   "outputs": [
    {
     "data": {
      "text/plain": [
       "SVC()"
      ]
     },
     "execution_count": 56,
     "metadata": {},
     "output_type": "execute_result"
    }
   ],
   "source": [
    "svc.fit(x_train,y_train)"
   ]
  },
  {
   "cell_type": "code",
   "execution_count": 57,
   "id": "58a60662",
   "metadata": {
    "execution": {
     "iopub.execute_input": "2022-08-11T02:51:59.674929Z",
     "iopub.status.busy": "2022-08-11T02:51:59.674329Z",
     "iopub.status.idle": "2022-08-11T02:52:00.037580Z",
     "shell.execute_reply": "2022-08-11T02:52:00.036427Z"
    },
    "id": "1nET7WBMwVKi",
    "papermill": {
     "duration": 0.392072,
     "end_time": "2022-08-11T02:52:00.040155",
     "exception": false,
     "start_time": "2022-08-11T02:51:59.648083",
     "status": "completed"
    },
    "tags": []
   },
   "outputs": [],
   "source": [
    "y_pred = svc.predict(x_test)"
   ]
  },
  {
   "cell_type": "code",
   "execution_count": 58,
   "id": "79b8e9d9",
   "metadata": {
    "execution": {
     "iopub.execute_input": "2022-08-11T02:52:00.092234Z",
     "iopub.status.busy": "2022-08-11T02:52:00.091875Z",
     "iopub.status.idle": "2022-08-11T02:52:00.096526Z",
     "shell.execute_reply": "2022-08-11T02:52:00.095799Z"
    },
    "id": "9QJWs1BHwbQ6",
    "papermill": {
     "duration": 0.033125,
     "end_time": "2022-08-11T02:52:00.098652",
     "exception": false,
     "start_time": "2022-08-11T02:52:00.065527",
     "status": "completed"
    },
    "tags": []
   },
   "outputs": [],
   "source": [
    "from sklearn.metrics import accuracy_score"
   ]
  },
  {
   "cell_type": "code",
   "execution_count": 59,
   "id": "33d8e246",
   "metadata": {
    "execution": {
     "iopub.execute_input": "2022-08-11T02:52:00.153176Z",
     "iopub.status.busy": "2022-08-11T02:52:00.151693Z",
     "iopub.status.idle": "2022-08-11T02:52:00.159457Z",
     "shell.execute_reply": "2022-08-11T02:52:00.158162Z"
    },
    "id": "I-moQtbwwlpk",
    "outputId": "f92000f7-6137-4627-b18c-5a0f34cc4cb6",
    "papermill": {
     "duration": 0.03795,
     "end_time": "2022-08-11T02:52:00.161788",
     "exception": false,
     "start_time": "2022-08-11T02:52:00.123838",
     "status": "completed"
    },
    "tags": []
   },
   "outputs": [
    {
     "name": "stdout",
     "output_type": "stream",
     "text": [
      "83.00993847610033\n"
     ]
    }
   ],
   "source": [
    "print(accuracy_score(y_test, y_pred)*100)"
   ]
  },
  {
   "cell_type": "markdown",
   "id": "bb7e0b69",
   "metadata": {
    "id": "bc5AHTQ0wx1c",
    "papermill": {
     "duration": 0.024585,
     "end_time": "2022-08-11T02:52:00.212218",
     "exception": false,
     "start_time": "2022-08-11T02:52:00.187633",
     "status": "completed"
    },
    "tags": []
   },
   "source": [
    "Applying Decision Tree, Random Forest"
   ]
  },
  {
   "cell_type": "code",
   "execution_count": 60,
   "id": "c26608c4",
   "metadata": {
    "execution": {
     "iopub.execute_input": "2022-08-11T02:52:00.265151Z",
     "iopub.status.busy": "2022-08-11T02:52:00.264494Z",
     "iopub.status.idle": "2022-08-11T02:52:00.429981Z",
     "shell.execute_reply": "2022-08-11T02:52:00.429295Z"
    },
    "id": "7QgBfimbxZ19",
    "papermill": {
     "duration": 0.194637,
     "end_time": "2022-08-11T02:52:00.432029",
     "exception": false,
     "start_time": "2022-08-11T02:52:00.237392",
     "status": "completed"
    },
    "tags": []
   },
   "outputs": [],
   "source": [
    "from sklearn.ensemble import RandomForestClassifier"
   ]
  },
  {
   "cell_type": "code",
   "execution_count": 61,
   "id": "e1fc439a",
   "metadata": {
    "execution": {
     "iopub.execute_input": "2022-08-11T02:52:00.487362Z",
     "iopub.status.busy": "2022-08-11T02:52:00.485665Z",
     "iopub.status.idle": "2022-08-11T02:52:00.491035Z",
     "shell.execute_reply": "2022-08-11T02:52:00.490029Z"
    },
    "id": "SSzHCXcIxudx",
    "papermill": {
     "duration": 0.035555,
     "end_time": "2022-08-11T02:52:00.492924",
     "exception": false,
     "start_time": "2022-08-11T02:52:00.457369",
     "status": "completed"
    },
    "tags": []
   },
   "outputs": [],
   "source": [
    "rmf = RandomForestClassifier()"
   ]
  },
  {
   "cell_type": "code",
   "execution_count": 62,
   "id": "a745c07f",
   "metadata": {
    "execution": {
     "iopub.execute_input": "2022-08-11T02:52:00.544705Z",
     "iopub.status.busy": "2022-08-11T02:52:00.544169Z",
     "iopub.status.idle": "2022-08-11T02:52:01.226903Z",
     "shell.execute_reply": "2022-08-11T02:52:01.225762Z"
    },
    "id": "wFwFovBZxxP6",
    "outputId": "12f4fb8b-f5cb-486a-976f-a4df5d6acb59",
    "papermill": {
     "duration": 0.71165,
     "end_time": "2022-08-11T02:52:01.228966",
     "exception": false,
     "start_time": "2022-08-11T02:52:00.517316",
     "status": "completed"
    },
    "tags": []
   },
   "outputs": [
    {
     "data": {
      "text/plain": [
       "RandomForestClassifier()"
      ]
     },
     "execution_count": 62,
     "metadata": {},
     "output_type": "execute_result"
    }
   ],
   "source": [
    "rmf.fit(x_train, y_train)"
   ]
  },
  {
   "cell_type": "code",
   "execution_count": 63,
   "id": "cb3f4520",
   "metadata": {
    "execution": {
     "iopub.execute_input": "2022-08-11T02:52:01.278008Z",
     "iopub.status.busy": "2022-08-11T02:52:01.277596Z",
     "iopub.status.idle": "2022-08-11T02:52:01.312812Z",
     "shell.execute_reply": "2022-08-11T02:52:01.311140Z"
    },
    "id": "hRed8MoNx1af",
    "papermill": {
     "duration": 0.063142,
     "end_time": "2022-08-11T02:52:01.315361",
     "exception": false,
     "start_time": "2022-08-11T02:52:01.252219",
     "status": "completed"
    },
    "tags": []
   },
   "outputs": [],
   "source": [
    "y_prediction = rmf.predict(x_test)"
   ]
  },
  {
   "cell_type": "code",
   "execution_count": 64,
   "id": "f0f8d79d",
   "metadata": {
    "execution": {
     "iopub.execute_input": "2022-08-11T02:52:01.368078Z",
     "iopub.status.busy": "2022-08-11T02:52:01.367739Z",
     "iopub.status.idle": "2022-08-11T02:52:01.373313Z",
     "shell.execute_reply": "2022-08-11T02:52:01.372140Z"
    },
    "id": "vNAcLYOHx_5a",
    "outputId": "73249e00-dce4-4db7-81c8-3b87800c8e16",
    "papermill": {
     "duration": 0.035114,
     "end_time": "2022-08-11T02:52:01.375478",
     "exception": false,
     "start_time": "2022-08-11T02:52:01.340364",
     "status": "completed"
    },
    "tags": []
   },
   "outputs": [
    {
     "name": "stdout",
     "output_type": "stream",
     "text": [
      "99.90534784666352\n"
     ]
    }
   ],
   "source": [
    "print(accuracy_score(y_test, y_prediction)*100)"
   ]
  },
  {
   "cell_type": "markdown",
   "id": "a433f6b6",
   "metadata": {
    "id": "8WK9GufnyJLh",
    "papermill": {
     "duration": 0.023839,
     "end_time": "2022-08-11T02:52:01.424990",
     "exception": false,
     "start_time": "2022-08-11T02:52:01.401151",
     "status": "completed"
    },
    "tags": []
   },
   "source": [
    "Decision Tree Algorithm"
   ]
  },
  {
   "cell_type": "code",
   "execution_count": 65,
   "id": "6c84f24a",
   "metadata": {
    "execution": {
     "iopub.execute_input": "2022-08-11T02:52:01.477435Z",
     "iopub.status.busy": "2022-08-11T02:52:01.476754Z",
     "iopub.status.idle": "2022-08-11T02:52:01.481444Z",
     "shell.execute_reply": "2022-08-11T02:52:01.480399Z"
    },
    "id": "kAe4gIcbyGRB",
    "papermill": {
     "duration": 0.034745,
     "end_time": "2022-08-11T02:52:01.483805",
     "exception": false,
     "start_time": "2022-08-11T02:52:01.449060",
     "status": "completed"
    },
    "tags": []
   },
   "outputs": [],
   "source": [
    "from sklearn.tree import DecisionTreeClassifier"
   ]
  },
  {
   "cell_type": "code",
   "execution_count": 66,
   "id": "b9830625",
   "metadata": {
    "execution": {
     "iopub.execute_input": "2022-08-11T02:52:01.535475Z",
     "iopub.status.busy": "2022-08-11T02:52:01.534903Z",
     "iopub.status.idle": "2022-08-11T02:52:01.538752Z",
     "shell.execute_reply": "2022-08-11T02:52:01.538108Z"
    },
    "id": "lS-E-c4FyXSl",
    "papermill": {
     "duration": 0.031804,
     "end_time": "2022-08-11T02:52:01.540684",
     "exception": false,
     "start_time": "2022-08-11T02:52:01.508880",
     "status": "completed"
    },
    "tags": []
   },
   "outputs": [],
   "source": [
    "DT = DecisionTreeClassifier()"
   ]
  },
  {
   "cell_type": "code",
   "execution_count": 67,
   "id": "2682096a",
   "metadata": {
    "execution": {
     "iopub.execute_input": "2022-08-11T02:52:01.589190Z",
     "iopub.status.busy": "2022-08-11T02:52:01.588778Z",
     "iopub.status.idle": "2022-08-11T02:52:01.615567Z",
     "shell.execute_reply": "2022-08-11T02:52:01.614647Z"
    },
    "id": "9skNfhrhyZ_M",
    "outputId": "11878547-20cb-4465-dde1-a48c38ee8479",
    "papermill": {
     "duration": 0.053341,
     "end_time": "2022-08-11T02:52:01.617469",
     "exception": false,
     "start_time": "2022-08-11T02:52:01.564128",
     "status": "completed"
    },
    "tags": []
   },
   "outputs": [
    {
     "data": {
      "text/plain": [
       "DecisionTreeClassifier()"
      ]
     },
     "execution_count": 67,
     "metadata": {},
     "output_type": "execute_result"
    }
   ],
   "source": [
    "DT.fit(x_train, y_train)"
   ]
  },
  {
   "cell_type": "code",
   "execution_count": 68,
   "id": "326afa0a",
   "metadata": {
    "execution": {
     "iopub.execute_input": "2022-08-11T02:52:01.668792Z",
     "iopub.status.busy": "2022-08-11T02:52:01.668449Z",
     "iopub.status.idle": "2022-08-11T02:52:01.673793Z",
     "shell.execute_reply": "2022-08-11T02:52:01.672390Z"
    },
    "id": "vU4JsP72yeAD",
    "papermill": {
     "duration": 0.033156,
     "end_time": "2022-08-11T02:52:01.675802",
     "exception": false,
     "start_time": "2022-08-11T02:52:01.642646",
     "status": "completed"
    },
    "tags": []
   },
   "outputs": [],
   "source": [
    "y_predd = DT.predict(x_test)"
   ]
  },
  {
   "cell_type": "code",
   "execution_count": 69,
   "id": "1872c0a6",
   "metadata": {
    "execution": {
     "iopub.execute_input": "2022-08-11T02:52:01.728004Z",
     "iopub.status.busy": "2022-08-11T02:52:01.726948Z",
     "iopub.status.idle": "2022-08-11T02:52:01.734309Z",
     "shell.execute_reply": "2022-08-11T02:52:01.732821Z"
    },
    "id": "NRZdu-bGytS7",
    "outputId": "1723bd13-0789-4662-ba32-7e10c0c4a578",
    "papermill": {
     "duration": 0.036963,
     "end_time": "2022-08-11T02:52:01.736786",
     "exception": false,
     "start_time": "2022-08-11T02:52:01.699823",
     "status": "completed"
    },
    "tags": []
   },
   "outputs": [
    {
     "name": "stdout",
     "output_type": "stream",
     "text": [
      "100.0\n"
     ]
    }
   ],
   "source": [
    "print(accuracy_score(y_test, y_predd)*100)"
   ]
  },
  {
   "cell_type": "markdown",
   "id": "32417217",
   "metadata": {
    "id": "g9lB31RCy2x5",
    "papermill": {
     "duration": 0.025807,
     "end_time": "2022-08-11T02:52:01.788568",
     "exception": false,
     "start_time": "2022-08-11T02:52:01.762761",
     "status": "completed"
    },
    "tags": []
   },
   "source": [
    "KNeighborsClassifier"
   ]
  },
  {
   "cell_type": "code",
   "execution_count": 70,
   "id": "1504922a",
   "metadata": {
    "execution": {
     "iopub.execute_input": "2022-08-11T02:52:01.842893Z",
     "iopub.status.busy": "2022-08-11T02:52:01.842520Z",
     "iopub.status.idle": "2022-08-11T02:52:01.847647Z",
     "shell.execute_reply": "2022-08-11T02:52:01.846264Z"
    },
    "id": "2e0g6zBOy0Wi",
    "papermill": {
     "duration": 0.035149,
     "end_time": "2022-08-11T02:52:01.850100",
     "exception": false,
     "start_time": "2022-08-11T02:52:01.814951",
     "status": "completed"
    },
    "tags": []
   },
   "outputs": [],
   "source": [
    "from sklearn.neighbors import KNeighborsClassifier"
   ]
  },
  {
   "cell_type": "code",
   "execution_count": 71,
   "id": "22973f38",
   "metadata": {
    "execution": {
     "iopub.execute_input": "2022-08-11T02:52:01.903288Z",
     "iopub.status.busy": "2022-08-11T02:52:01.902910Z",
     "iopub.status.idle": "2022-08-11T02:52:01.907182Z",
     "shell.execute_reply": "2022-08-11T02:52:01.905873Z"
    },
    "id": "F5KFSv0Hy_uH",
    "papermill": {
     "duration": 0.033133,
     "end_time": "2022-08-11T02:52:01.909060",
     "exception": false,
     "start_time": "2022-08-11T02:52:01.875927",
     "status": "completed"
    },
    "tags": []
   },
   "outputs": [],
   "source": [
    "KNC = KNeighborsClassifier()"
   ]
  },
  {
   "cell_type": "code",
   "execution_count": 72,
   "id": "cbeef392",
   "metadata": {
    "execution": {
     "iopub.execute_input": "2022-08-11T02:52:01.958496Z",
     "iopub.status.busy": "2022-08-11T02:52:01.958161Z",
     "iopub.status.idle": "2022-08-11T02:52:01.964428Z",
     "shell.execute_reply": "2022-08-11T02:52:01.963788Z"
    },
    "id": "sWpOTBH6zDGe",
    "outputId": "1a9e29cb-029d-4feb-effc-7948ed447088",
    "papermill": {
     "duration": 0.033721,
     "end_time": "2022-08-11T02:52:01.966597",
     "exception": false,
     "start_time": "2022-08-11T02:52:01.932876",
     "status": "completed"
    },
    "tags": []
   },
   "outputs": [
    {
     "data": {
      "text/plain": [
       "KNeighborsClassifier()"
      ]
     },
     "execution_count": 72,
     "metadata": {},
     "output_type": "execute_result"
    }
   ],
   "source": [
    "KNC.fit(x_train, y_train)"
   ]
  },
  {
   "cell_type": "code",
   "execution_count": 73,
   "id": "1eb7a1ef",
   "metadata": {
    "execution": {
     "iopub.execute_input": "2022-08-11T02:52:02.020124Z",
     "iopub.status.busy": "2022-08-11T02:52:02.019709Z",
     "iopub.status.idle": "2022-08-11T02:52:02.298833Z",
     "shell.execute_reply": "2022-08-11T02:52:02.297633Z"
    },
    "id": "U046ic4gzGHh",
    "papermill": {
     "duration": 0.310001,
     "end_time": "2022-08-11T02:52:02.301706",
     "exception": false,
     "start_time": "2022-08-11T02:52:01.991705",
     "status": "completed"
    },
    "tags": []
   },
   "outputs": [],
   "source": [
    "y_pre = KNC.predict(x_test)"
   ]
  },
  {
   "cell_type": "code",
   "execution_count": 74,
   "id": "bdb8953a",
   "metadata": {
    "execution": {
     "iopub.execute_input": "2022-08-11T02:52:02.367598Z",
     "iopub.status.busy": "2022-08-11T02:52:02.366921Z",
     "iopub.status.idle": "2022-08-11T02:52:02.372760Z",
     "shell.execute_reply": "2022-08-11T02:52:02.372122Z"
    },
    "id": "RP7aG2FuzPIR",
    "outputId": "b259ac5a-08a7-43d8-cb41-1b60bb764f61",
    "papermill": {
     "duration": 0.040833,
     "end_time": "2022-08-11T02:52:02.374942",
     "exception": false,
     "start_time": "2022-08-11T02:52:02.334109",
     "status": "completed"
    },
    "tags": []
   },
   "outputs": [
    {
     "name": "stdout",
     "output_type": "stream",
     "text": [
      "73.68670137245623\n"
     ]
    }
   ],
   "source": [
    "print(accuracy_score(y_test,y_pre)*100)"
   ]
  }
 ],
 "metadata": {
  "kernelspec": {
   "display_name": "Python 3",
   "language": "python",
   "name": "python3"
  },
  "language_info": {
   "codemirror_mode": {
    "name": "ipython",
    "version": 3
   },
   "file_extension": ".py",
   "mimetype": "text/x-python",
   "name": "python",
   "nbconvert_exporter": "python",
   "pygments_lexer": "ipython3",
   "version": "3.7.12"
  },
  "papermill": {
   "default_parameters": {},
   "duration": 22.620298,
   "end_time": "2022-08-11T02:52:03.219674",
   "environment_variables": {},
   "exception": null,
   "input_path": "__notebook__.ipynb",
   "output_path": "__notebook__.ipynb",
   "parameters": {},
   "start_time": "2022-08-11T02:51:40.599376",
   "version": "2.3.4"
  }
 },
 "nbformat": 4,
 "nbformat_minor": 5
}
