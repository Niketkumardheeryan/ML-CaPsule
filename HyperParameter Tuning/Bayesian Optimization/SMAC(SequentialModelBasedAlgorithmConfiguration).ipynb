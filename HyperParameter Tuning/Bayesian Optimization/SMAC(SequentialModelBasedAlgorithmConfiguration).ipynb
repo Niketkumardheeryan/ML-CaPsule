{
 "cells": [
  {
   "cell_type": "markdown",
   "metadata": {
    "_cell_guid": "d4c08f48-fe23-4ddb-ac46-d97f05397514",
    "_uuid": "f2156d1dd26a1243e18512002e10872c5bd7271e"
   },
   "source": [
    "# Bayesian Optimization with Random Forests (SMAC)\n",
    "\n",
    "## Optimizing a CNN with Scikit-Optimize\n",
    "\n",
    "In this notebook, we will use **Bayesian Optimization** to select the best **hyperparameters** for a CNN that recognizes digits in images, using the MNIST dataset and the open source Python package Scikit-Optimize\n",
    "\n",
    "We will use Random Forests as the surrogate function to approximate f(x)\n",
    "\n",
    "The MNIST dataset is used here.\n"
   ]
  },
  {
   "cell_type": "code",
   "execution_count": 1,
   "metadata": {},
   "outputs": [],
   "source": [
    "import os\n",
    "os.environ['PYTHONHASHSEED'] = '0'\n",
    "\n",
    "import numpy as np\n",
    "import tensorflow as tf\n",
    "import random as python_random\n",
    "np.random.seed(123)\n",
    "python_random.seed(123)\n",
    "tf.random.set_seed(1234)"
   ]
  },
  {
   "cell_type": "code",
   "execution_count": 2,
   "metadata": {
    "_cell_guid": "f67b9393-8ea1-4e23-b856-2ce149cfe421",
    "_execution_state": "idle",
    "_uuid": "72334cb006d02a4bcfc2a2fe622524eba824c6f8"
   },
   "outputs": [],
   "source": [
    "import itertools\n",
    "\n",
    "import pandas as pd\n",
    "import matplotlib.pyplot as plt\n",
    "import seaborn as sns\n",
    "\n",
    "from sklearn.model_selection import train_test_split\n",
    "from sklearn.metrics import confusion_matrix"
   ]
  },
  {
   "cell_type": "code",
   "execution_count": 3,
   "metadata": {},
   "outputs": [],
   "source": [
    "from keras.utils.np_utils import to_categorical\n",
    "from keras.models import Sequential, load_model\n",
    "from keras.layers import Dense, Flatten, Conv2D, MaxPool2D\n",
    "from keras.optimizers import Adam\n",
    "from keras.callbacks import ReduceLROnPlateau"
   ]
  },
  {
   "cell_type": "code",
   "execution_count": 4,
   "metadata": {},
   "outputs": [],
   "source": [
    "from skopt import forest_minimize, gbrt_minimize\n",
    "from skopt.space import Real, Categorical, Integer\n",
    "from skopt.plots import plot_convergence\n",
    "from skopt.plots import plot_objective, plot_evaluations\n",
    "from skopt.utils import use_named_args"
   ]
  },
  {
   "cell_type": "markdown",
   "metadata": {
    "_cell_guid": "6d2fb3e6-ab71-4974-b5a2-4af1ebdb99f4",
    "_execution_state": "idle",
    "_uuid": "86061d98eccaa02efe0dab0fa3884e71fcf4c310"
   },
   "source": [
    "#  Data Preparation\n",
    "\n",
    "The dataset contains information about images, each image is a hand-written digit. The aim is to have the computer predict which digit was written by the person, automatically, by \"looking\" at the image. \n",
    "\n",
    "Each image is 28 pixels in height and 28 pixels in width (28 x 28), making a total of 784 pixels. Each pixel value is an integer between 0 and 255, indicating the darkness in a gray-scale of that pixel.\n",
    "\n",
    "The data is stored in a dataframe where each each pixel is a column (so it is flattened and not in the 28 x 28 format). \n",
    "\n",
    "The data set the has 785 columns. The first column, called \"label\", is the digit that was drawn by the user. The rest of the columns contain the pixel-values of the associated image."
   ]
  },
  {
   "cell_type": "code",
   "execution_count": 5,
   "metadata": {
    "_cell_guid": "5e51d00e-62fd-4141-bf73-50ac4f2da7d0",
    "_execution_state": "idle",
    "_uuid": "84bbd5ab8d7895bd430d5ecfe2f7ddf77baa7b74"
   },
   "outputs": [
    {
     "data": {
      "text/html": [
       "<div>\n",
       "<style scoped>\n",
       "    .dataframe tbody tr th:only-of-type {\n",
       "        vertical-align: middle;\n",
       "    }\n",
       "\n",
       "    .dataframe tbody tr th {\n",
       "        vertical-align: top;\n",
       "    }\n",
       "\n",
       "    .dataframe thead th {\n",
       "        text-align: right;\n",
       "    }\n",
       "</style>\n",
       "<table border=\"1\" class=\"dataframe\">\n",
       "  <thead>\n",
       "    <tr style=\"text-align: right;\">\n",
       "      <th></th>\n",
       "      <th>label</th>\n",
       "      <th>pixel0</th>\n",
       "      <th>pixel1</th>\n",
       "      <th>pixel2</th>\n",
       "      <th>pixel3</th>\n",
       "      <th>pixel4</th>\n",
       "      <th>pixel5</th>\n",
       "      <th>pixel6</th>\n",
       "      <th>pixel7</th>\n",
       "      <th>pixel8</th>\n",
       "      <th>...</th>\n",
       "      <th>pixel774</th>\n",
       "      <th>pixel775</th>\n",
       "      <th>pixel776</th>\n",
       "      <th>pixel777</th>\n",
       "      <th>pixel778</th>\n",
       "      <th>pixel779</th>\n",
       "      <th>pixel780</th>\n",
       "      <th>pixel781</th>\n",
       "      <th>pixel782</th>\n",
       "      <th>pixel783</th>\n",
       "    </tr>\n",
       "  </thead>\n",
       "  <tbody>\n",
       "    <tr>\n",
       "      <th>0</th>\n",
       "      <td>1</td>\n",
       "      <td>0</td>\n",
       "      <td>0</td>\n",
       "      <td>0</td>\n",
       "      <td>0</td>\n",
       "      <td>0</td>\n",
       "      <td>0</td>\n",
       "      <td>0</td>\n",
       "      <td>0</td>\n",
       "      <td>0</td>\n",
       "      <td>...</td>\n",
       "      <td>0</td>\n",
       "      <td>0</td>\n",
       "      <td>0</td>\n",
       "      <td>0</td>\n",
       "      <td>0</td>\n",
       "      <td>0</td>\n",
       "      <td>0</td>\n",
       "      <td>0</td>\n",
       "      <td>0</td>\n",
       "      <td>0</td>\n",
       "    </tr>\n",
       "    <tr>\n",
       "      <th>1</th>\n",
       "      <td>0</td>\n",
       "      <td>0</td>\n",
       "      <td>0</td>\n",
       "      <td>0</td>\n",
       "      <td>0</td>\n",
       "      <td>0</td>\n",
       "      <td>0</td>\n",
       "      <td>0</td>\n",
       "      <td>0</td>\n",
       "      <td>0</td>\n",
       "      <td>...</td>\n",
       "      <td>0</td>\n",
       "      <td>0</td>\n",
       "      <td>0</td>\n",
       "      <td>0</td>\n",
       "      <td>0</td>\n",
       "      <td>0</td>\n",
       "      <td>0</td>\n",
       "      <td>0</td>\n",
       "      <td>0</td>\n",
       "      <td>0</td>\n",
       "    </tr>\n",
       "    <tr>\n",
       "      <th>2</th>\n",
       "      <td>1</td>\n",
       "      <td>0</td>\n",
       "      <td>0</td>\n",
       "      <td>0</td>\n",
       "      <td>0</td>\n",
       "      <td>0</td>\n",
       "      <td>0</td>\n",
       "      <td>0</td>\n",
       "      <td>0</td>\n",
       "      <td>0</td>\n",
       "      <td>...</td>\n",
       "      <td>0</td>\n",
       "      <td>0</td>\n",
       "      <td>0</td>\n",
       "      <td>0</td>\n",
       "      <td>0</td>\n",
       "      <td>0</td>\n",
       "      <td>0</td>\n",
       "      <td>0</td>\n",
       "      <td>0</td>\n",
       "      <td>0</td>\n",
       "    </tr>\n",
       "    <tr>\n",
       "      <th>3</th>\n",
       "      <td>4</td>\n",
       "      <td>0</td>\n",
       "      <td>0</td>\n",
       "      <td>0</td>\n",
       "      <td>0</td>\n",
       "      <td>0</td>\n",
       "      <td>0</td>\n",
       "      <td>0</td>\n",
       "      <td>0</td>\n",
       "      <td>0</td>\n",
       "      <td>...</td>\n",
       "      <td>0</td>\n",
       "      <td>0</td>\n",
       "      <td>0</td>\n",
       "      <td>0</td>\n",
       "      <td>0</td>\n",
       "      <td>0</td>\n",
       "      <td>0</td>\n",
       "      <td>0</td>\n",
       "      <td>0</td>\n",
       "      <td>0</td>\n",
       "    </tr>\n",
       "    <tr>\n",
       "      <th>4</th>\n",
       "      <td>0</td>\n",
       "      <td>0</td>\n",
       "      <td>0</td>\n",
       "      <td>0</td>\n",
       "      <td>0</td>\n",
       "      <td>0</td>\n",
       "      <td>0</td>\n",
       "      <td>0</td>\n",
       "      <td>0</td>\n",
       "      <td>0</td>\n",
       "      <td>...</td>\n",
       "      <td>0</td>\n",
       "      <td>0</td>\n",
       "      <td>0</td>\n",
       "      <td>0</td>\n",
       "      <td>0</td>\n",
       "      <td>0</td>\n",
       "      <td>0</td>\n",
       "      <td>0</td>\n",
       "      <td>0</td>\n",
       "      <td>0</td>\n",
       "    </tr>\n",
       "  </tbody>\n",
       "</table>\n",
       "<p>5 rows × 785 columns</p>\n",
       "</div>"
      ],
      "text/plain": [
       "   label  pixel0  pixel1  pixel2  pixel3  pixel4  pixel5  pixel6  pixel7  \\\n",
       "0      1       0       0       0       0       0       0       0       0   \n",
       "1      0       0       0       0       0       0       0       0       0   \n",
       "2      1       0       0       0       0       0       0       0       0   \n",
       "3      4       0       0       0       0       0       0       0       0   \n",
       "4      0       0       0       0       0       0       0       0       0   \n",
       "\n",
       "   pixel8  ...  pixel774  pixel775  pixel776  pixel777  pixel778  pixel779  \\\n",
       "0       0  ...         0         0         0         0         0         0   \n",
       "1       0  ...         0         0         0         0         0         0   \n",
       "2       0  ...         0         0         0         0         0         0   \n",
       "3       0  ...         0         0         0         0         0         0   \n",
       "4       0  ...         0         0         0         0         0         0   \n",
       "\n",
       "   pixel780  pixel781  pixel782  pixel783  \n",
       "0         0         0         0         0  \n",
       "1         0         0         0         0  \n",
       "2         0         0         0         0  \n",
       "3         0         0         0         0  \n",
       "4         0         0         0         0  \n",
       "\n",
       "[5 rows x 785 columns]"
      ]
     },
     "execution_count": 5,
     "metadata": {},
     "output_type": "execute_result"
    }
   ],
   "source": [
    "data = pd.read_csv(\"../mnist.csv\")\n",
    "\n",
    "# first column is the target label\n",
    "# each row is 1 image\n",
    "data.head()"
   ]
  },
  {
   "cell_type": "code",
   "execution_count": 6,
   "metadata": {},
   "outputs": [
    {
     "data": {
      "text/plain": [
       "((37800, 784), (4200, 784))"
      ]
     },
     "execution_count": 6,
     "metadata": {},
     "output_type": "execute_result"
    }
   ],
   "source": [
    "# split dataset into a train and test set\n",
    "\n",
    "X_train, X_test, y_train, y_test = train_test_split(\n",
    "    data.drop(['label'], axis=1), # the images\n",
    "    data['label'], # the target\n",
    "    test_size = 0.1,\n",
    "    random_state=0)\n",
    "\n",
    "X_train.shape, X_test.shape"
   ]
  },
  {
   "cell_type": "code",
   "execution_count": 7,
   "metadata": {
    "_cell_guid": "86570a36-5c20-460a-9dfd-2070548532a7",
    "_execution_state": "idle",
    "_uuid": "1213b979d5ed3e0d13824d17d694c79d2ece92fa"
   },
   "outputs": [
    {
     "data": {
      "text/plain": [
       "Text(0, 0.5, 'Number of images')"
      ]
     },
     "execution_count": 7,
     "metadata": {},
     "output_type": "execute_result"
    },
    {
     "data": {
      "image/png": "[encoded data removed]",
      "text/plain": [
       "<Figure size 432x288 with 1 Axes>"
      ]
     },
     "metadata": {
      "needs_background": "light"
     },
     "output_type": "display_data"
    }
   ],
   "source": [
    "# number of images for each digit\n",
    "\n",
    "g = sns.countplot(x=y_train)\n",
    "plt.xlabel('Digits')\n",
    "plt.ylabel('Number of images')"
   ]
  },
  {
   "cell_type": "markdown",
   "metadata": {
    "_cell_guid": "6812040d-80ad-43d2-a571-275f4f20067b",
    "_uuid": "2954681f25f0dcbe986e6914396cdbce61db591f"
   },
   "source": [
    "## Image re-scaling\n",
    "\n",
    "We re-scale data for the CNN, between 0 and 1."
   ]
  },
  {
   "cell_type": "code",
   "execution_count": 8,
   "metadata": {
    "_cell_guid": "cdc4340b-6e24-4e12-be99-ac806098ff17",
    "_execution_state": "idle",
    "_uuid": "b5d4f8fcf2a967e2c7d57daedf95aa8c5ab7f8cb"
   },
   "outputs": [],
   "source": [
    "# Re-scale the data\n",
    "\n",
    "X_train = X_train / 255\n",
    "X_test = X_test / 255"
   ]
  },
  {
   "cell_type": "markdown",
   "metadata": {
    "_cell_guid": "7413df94-bcb9-4f75-b174-c127d4445766",
    "_uuid": "a66741bf1ac597094f3a3166877008feef27c519"
   },
   "source": [
    "## Reshape\n",
    "\n",
    "The images were stored in a pandas dataframe as 1-D vectors of 784 values. For a CNN with Keras, we need tensors with the following dimensions: width x height x channel. \n",
    "\n",
    "Thus, we reshape all data to 28 x 2 8 x 1, 3-D matrices. \n",
    "\n",
    "The 3rd dimension corresponds to the channel. RGB images have 3 channels. MNIST images are in gray-scale, thus they have only one channel in the 3rd dimension."
   ]
  },
  {
   "cell_type": "code",
   "execution_count": 9,
   "metadata": {
    "_cell_guid": "34b6a5f7-8fd2-4387-8ef4-c9dc19584fed",
    "_execution_state": "idle",
    "_uuid": "f0a6ad80dab8e0f2c2e46165ccd9cd82dd162bc3"
   },
   "outputs": [],
   "source": [
    "# Reshape image in 3 dimensions:\n",
    "# height: 28px X width: 28px X channel: 1 \n",
    "\n",
    "X_train = X_train.values.reshape(-1,28,28,1)\n",
    "X_test = X_test.values.reshape(-1,28,28,1)"
   ]
  },
  {
   "cell_type": "markdown",
   "metadata": {
    "_cell_guid": "bdb422e2-bdec-444f-97a5-283a1e54bf2c",
    "_uuid": "39b7a31e843bac6b705461bcce89da216b91799e"
   },
   "source": [
    "## Target encoding"
   ]
  },
  {
   "cell_type": "code",
   "execution_count": 10,
   "metadata": {},
   "outputs": [
    {
     "data": {
      "text/plain": [
       "array([2, 0, 7, 4, 3, 5, 9, 6, 8, 1], dtype=int64)"
      ]
     },
     "execution_count": 10,
     "metadata": {},
     "output_type": "execute_result"
    }
   ],
   "source": [
    "y_train.unique()"
   ]
  },
  {
   "cell_type": "code",
   "execution_count": 11,
   "metadata": {
    "_cell_guid": "4b7f3e78-44dc-4561-b1f0-9429ee024cf4",
    "_execution_state": "idle",
    "_uuid": "cabefd1478d5c1bdfe57fd6a34395340916a854c"
   },
   "outputs": [
    {
     "data": {
      "text/plain": [
       "array([[0., 0., 1., ..., 0., 0., 0.],\n",
       "       [0., 0., 1., ..., 0., 0., 0.],\n",
       "       [1., 0., 0., ..., 0., 0., 0.],\n",
       "       ...,\n",
       "       [0., 0., 0., ..., 0., 0., 1.],\n",
       "       [1., 0., 0., ..., 0., 0., 0.],\n",
       "       [0., 0., 0., ..., 0., 0., 1.]], dtype=float32)"
      ]
     },
     "execution_count": 11,
     "metadata": {},
     "output_type": "execute_result"
    }
   ],
   "source": [
    "# Encode labels to one hot vectors (ex : digit 2 -> [0,0,1,0,0,0,0,0,0,0])\n",
    "\n",
    "y_train = to_categorical(y_train, num_classes = 10)\n",
    "y_test = to_categorical(y_test, num_classes = 10)\n",
    "\n",
    "y_train"
   ]
  },
  {
   "cell_type": "code",
   "execution_count": 12,
   "metadata": {
    "_cell_guid": "5f76131b-4ba0-45f1-a98c-bd4e7d561793",
    "_execution_state": "idle",
    "_uuid": "e0dae8943d3d35f075dba3d7ba31bde1d4bf2ff4"
   },
   "outputs": [
    {
     "data": {
      "image/png": "[encoded data removed]",
      "text/plain": [
       "<Figure size 432x288 with 1 Axes>"
      ]
     },
     "metadata": {
      "needs_background": "light"
     },
     "output_type": "display_data"
    }
   ],
   "source": [
    "# Some image examples \n",
    "\n",
    "g = plt.imshow(X_train[0][:,:,0])"
   ]
  },
  {
   "cell_type": "code",
   "execution_count": 13,
   "metadata": {},
   "outputs": [
    {
     "data": {
      "image/png": "[encoded data removed]",
      "text/plain": [
       "<Figure size 432x288 with 1 Axes>"
      ]
     },
     "metadata": {
      "needs_background": "light"
     },
     "output_type": "display_data"
    }
   ],
   "source": [
    "g = plt.imshow(X_train[10][:,:,0])"
   ]
  },
  {
   "cell_type": "markdown",
   "metadata": {
    "_cell_guid": "d5265777-aeb3-449d-b171-d88cad74c0a4",
    "_uuid": "5fa18b37a9acd9e098bac1d12264b0dd4310fdd3"
   },
   "source": [
    "# Define the CNN\n",
    "\n",
    "We will create a CNN, with 2 Convolutional layers followed by Pooling, and varying number of fully-connected Dense We will create a CNN, with 2 Convolutional layers followed by Pooling, and varying number of fully-connected Dense layers. Each Convlutional layer, can itself have more than 1 conv layer."
   ]
  },
  {
   "cell_type": "code",
   "execution_count": 14,
   "metadata": {},
   "outputs": [],
   "source": [
    "def create_cnn(\n",
    "    learning_rate,\n",
    "    num_conv_layers,\n",
    "    num_dense_layers,\n",
    "    num_dense_nodes,\n",
    "    activation,\n",
    "):\n",
    "    \"\"\"\n",
    "    Hyper-parameters:\n",
    "    learning_rate:        Learning-rate for the optimizer.\n",
    "    convolutional layers: Number of conv layers.\n",
    "    num_dense_layers:     Number of dense layers.\n",
    "    num_dense_nodes:      Number of nodes in each dense layer.\n",
    "    activation:           Activation function for all layers.\n",
    "    \"\"\"\n",
    "\n",
    "    # Start construction of a Keras Sequential model.\n",
    "    model = Sequential()\n",
    "\n",
    "    # We add the different number of conv layers in the following loop:\n",
    "    for i in range(num_conv_layers):\n",
    "        model.add(Conv2D(kernel_size=5, strides=1, filters=16, padding='same',\n",
    "                         activation=activation))\n",
    "    model.add(MaxPool2D(pool_size=2, strides=2))\n",
    "\n",
    "    # Second convolutional layer.\n",
    "    # Same hyperparameters to optimize as previous layer.\n",
    "    for i in range(num_conv_layers):\n",
    "        model.add(Conv2D(kernel_size=5, strides=1, filters=36, padding='same',\n",
    "                         activation=activation))\n",
    "    model.add(MaxPool2D(pool_size=2, strides=2))\n",
    "\n",
    "    # Flatten the 4-rank output of the convolutional layers to 2-rank that can be input to a fully-connected Dense layer.\n",
    "    model.add(Flatten())\n",
    "\n",
    "    # Add fully-connected Dense layers.\n",
    "    for i in range(num_dense_layers):\n",
    "        model.add(Dense(num_dense_nodes,\n",
    "                        activation=activation,\n",
    "                        ))\n",
    "\n",
    "    # Last fully-connected dense layer with softmax-activation for use in classification.\n",
    "    model.add(Dense(10, activation='softmax'))\n",
    "\n",
    "    # Use the Adam method for training the network.\n",
    "    optimizer = Adam(lr=learning_rate)\n",
    "    model.compile(optimizer=optimizer,\n",
    "                  loss='categorical_crossentropy',\n",
    "                  metrics=['accuracy'])\n",
    "\n",
    "    return model"
   ]
  },
  {
   "cell_type": "markdown",
   "metadata": {},
   "source": [
    "# Define the Hyperparameter Space\n",
    "\n",
    "We want to find the following hyper-parameters:\n",
    "\n",
    "- The learning rate of the optimizer.\n",
    "- The number of convolutional layers.\n",
    "- The number of fully-connected Dense layers.\n",
    "- The number of nodes (neurons) for each of the dense layers.\n",
    "- Whether to use 'sigmoid' or 'relu' activation in all the layers."
   ]
  },
  {
   "cell_type": "code",
   "execution_count": 15,
   "metadata": {},
   "outputs": [],
   "source": [
    "dim_learning_rate = Real(\n",
    "    low=1e-6, high=1e-2, prior='log-uniform', name='learning_rate',\n",
    ")\n",
    "\n",
    "dim_num_conv_layers = Integer(low=1, high=3, name='num_conv_layers')\n",
    "\n",
    "dim_num_dense_layers = Integer(low=1, high=5, name='num_dense_layers')\n",
    "\n",
    "dim_num_dense_nodes = Integer(low=5, high=512, name='num_dense_nodes')\n",
    "\n",
    "\n",
    "dim_activation = Categorical(\n",
    "    categories=['relu', 'sigmoid'], name='activation',\n",
    ")"
   ]
  },
  {
   "cell_type": "code",
   "execution_count": 16,
   "metadata": {},
   "outputs": [],
   "source": [
    "# the hyperparameter space grid\n",
    "\n",
    "param_grid = [dim_learning_rate,\n",
    "              dim_num_conv_layers,\n",
    "              dim_num_dense_layers,\n",
    "              dim_num_dense_nodes,\n",
    "              dim_activation]"
   ]
  },
  {
   "cell_type": "markdown",
   "metadata": {},
   "source": [
    "# Define the Objective Function"
   ]
  },
  {
   "cell_type": "code",
   "execution_count": 17,
   "metadata": {},
   "outputs": [],
   "source": [
    "# we will save the model with this name\n",
    "path_best_model = 'cnn_model.h5'\n",
    "\n",
    "# starting point for the optimization\n",
    "best_accuracy = 0"
   ]
  },
  {
   "cell_type": "code",
   "execution_count": 18,
   "metadata": {},
   "outputs": [],
   "source": [
    "@use_named_args(param_grid)\n",
    "def objective(\n",
    "    learning_rate,\n",
    "    num_conv_layers,\n",
    "    num_dense_layers,\n",
    "    num_dense_nodes,\n",
    "    activation,\n",
    "):\n",
    "    \n",
    "    \"\"\"\n",
    "    Hyper-parameters:\n",
    "    learning_rate:        Learning-rate for the optimizer.\n",
    "    convolutional layers: Number of conv layers.\n",
    "    num_dense_layers:     Number of dense layers.\n",
    "    num_dense_nodes:      Number of nodes in each dense layer.\n",
    "    activation:           Activation function for all layers.\n",
    "    \"\"\"\n",
    "\n",
    "    # Print the hyper-parameters.\n",
    "    print('learning rate: {0:.1e}'.format(learning_rate))\n",
    "    print('num_conv_layers:', num_conv_layers)\n",
    "    print('num_dense_layers:', num_dense_layers)\n",
    "    print('num_dense_nodes:', num_dense_nodes)\n",
    "    print('activation:', activation)\n",
    "    print()\n",
    "    \n",
    "    model = create_cnn(learning_rate=learning_rate,\n",
    "                       num_conv_layers=num_conv_layers,\n",
    "                       num_dense_layers=num_dense_layers,\n",
    "                       num_dense_nodes=num_dense_nodes,\n",
    "                       activation=activation)\n",
    "\n",
    "   \n",
    "    # Set a learning rate annealer this reduces the learning rate if learning does not improve for a certain number of epochs\n",
    "    learning_rate_reduction = ReduceLROnPlateau(monitor='val_accuracy', \n",
    "                                                patience=2, \n",
    "                                                verbose=1, \n",
    "                                                factor=0.5, \n",
    "                                                min_lr=0.00001)\n",
    "   \n",
    "    history = model.fit(x=X_train,\n",
    "                        y=y_train,\n",
    "                        epochs=3,\n",
    "                        batch_size=128,\n",
    "                        validation_split=0.1,\n",
    "                        callbacks=learning_rate_reduction)\n",
    "\n",
    "    accuracy = history.history['val_accuracy'][-1]\n",
    "\n",
    "    print()\n",
    "    print(\"Accuracy: {0:.2%}\".format(accuracy))\n",
    "    print()\n",
    "\n",
    "    # Save the model if it improves on the best-found performance.\n",
    "    global best_accuracy\n",
    "\n",
    "    # If the classification accuracy of the saved model is improved ...\n",
    "    if accuracy > best_accuracy:\n",
    "        model.save(path_best_model)\n",
    "        best_accuracy = accuracy\n",
    "\n",
    "    del model\n",
    "\n",
    "    \n",
    "    # Remember that Scikit-optimize always minimizes the objective , so we need to negate the accuracy (because we want the maximum accuracy)\n",
    "    return -accuracy"
   ]
  },
  {
   "cell_type": "markdown",
   "metadata": {},
   "source": [
    "## Test run"
   ]
  },
  {
   "cell_type": "code",
   "execution_count": 19,
   "metadata": {},
   "outputs": [
    {
     "name": "stdout",
     "output_type": "stream",
     "text": [
      "learning rate: 1.0e-05\n",
      "num_conv_layers: 1\n",
      "num_dense_layers: 1\n",
      "num_dense_nodes: 16\n",
      "activation: relu\n",
      "\n",
      "Epoch 1/3\n",
      "266/266 [==============================] - 32s 118ms/step - loss: 2.2763 - accuracy: 0.1598 - val_loss: 2.1896 - val_accuracy: 0.4005\n",
      "Epoch 2/3\n",
      "266/266 [==============================] - 30s 113ms/step - loss: 2.1463 - accuracy: 0.4596 - val_loss: 1.9901 - val_accuracy: 0.5704\n",
      "Epoch 3/3\n",
      "266/266 [==============================] - 29s 108ms/step - loss: 1.9163 - accuracy: 0.6062 - val_loss: 1.6954 - val_accuracy: 0.6399\n",
      "\n",
      "Accuracy: 63.99%\n",
      "\n"
     ]
    },
    {
     "data": {
      "text/plain": [
       "-0.6399471163749695"
      ]
     },
     "execution_count": 19,
     "metadata": {},
     "output_type": "execute_result"
    }
   ],
   "source": [
    "# Ppassing some default hyper-parameters.\n",
    "\n",
    "default_parameters = [1e-5, 1, 1, 16, 'relu']\n",
    "\n",
    "objective(x=default_parameters)"
   ]
  },
  {
   "cell_type": "markdown",
   "metadata": {},
   "source": [
    "We obtained a mediocre accuracy, but all our code is working. So let's get started with the Optimization now!!"
   ]
  },
  {
   "cell_type": "markdown",
   "metadata": {},
   "source": [
    "## Bayesian Optimization with Random Forests\n",
    "\n",
    "- [forest_minimize](https://scikit-optimize.github.io/stable/modules/generated/skopt.forest_minimize.html#skopt.forest_minimize)\n",
    "- [gbrt_minimize](https://scikit-optimize.github.io/stable/modules/generated/skopt.gbrt_minimize.html#skopt.gbrt_minimize)"
   ]
  },
  {
   "cell_type": "code",
   "execution_count": 20,
   "metadata": {
    "_cell_guid": "b453af8d-9736-43e3-b486-7a1cd7dd8909",
    "_execution_state": "idle",
    "_uuid": "cf36b3d029f95b553be02d612e097a9769ee8252",
    "scrolled": true
   },
   "outputs": [
    {
     "name": "stdout",
     "output_type": "stream",
     "text": [
      "learning rate: 1.0e-05\n",
      "num_conv_layers: 1\n",
      "num_dense_layers: 1\n",
      "num_dense_nodes: 16\n",
      "activation: relu\n",
      "\n",
      "Epoch 1/3\n",
      "266/266 [==============================] - 33s 120ms/step - loss: 2.2871 - accuracy: 0.1525 - val_loss: 2.2050 - val_accuracy: 0.3317\n",
      "Epoch 2/3\n",
      "266/266 [==============================] - 33s 124ms/step - loss: 2.1590 - accuracy: 0.4053 - val_loss: 2.0152 - val_accuracy: 0.5040\n",
      "Epoch 3/3\n",
      "266/266 [==============================] - 30s 111ms/step - loss: 1.9453 - accuracy: 0.5436 - val_loss: 1.7307 - val_accuracy: 0.5955\n",
      "\n",
      "Accuracy: 59.55%\n",
      "\n",
      "learning rate: 2.4e-04\n",
      "num_conv_layers: 1\n",
      "num_dense_layers: 4\n",
      "num_dense_nodes: 256\n",
      "activation: sigmoid\n",
      "\n",
      "Epoch 1/3\n",
      "266/266 [==============================] - 34s 126ms/step - loss: 2.3137 - accuracy: 0.1062 - val_loss: 2.3029 - val_accuracy: 0.1146\n",
      "Epoch 2/3\n",
      "266/266 [==============================] - 34s 127ms/step - loss: 2.2443 - accuracy: 0.1579 - val_loss: 1.1837 - val_accuracy: 0.6690\n",
      "Epoch 3/3\n",
      "266/266 [==============================] - 33s 122ms/step - loss: 0.9551 - accuracy: 0.7200 - val_loss: 0.6083 - val_accuracy: 0.8249\n",
      "\n",
      "Accuracy: 82.49%\n",
      "\n",
      "learning rate: 5.0e-05\n",
      "num_conv_layers: 2\n",
      "num_dense_layers: 3\n",
      "num_dense_nodes: 297\n",
      "activation: relu\n",
      "\n",
      "Epoch 1/3\n",
      "266/266 [==============================] - 107s 400ms/step - loss: 1.6179 - accuracy: 0.5647 - val_loss: 0.3513 - val_accuracy: 0.8926\n",
      "Epoch 2/3\n",
      "266/266 [==============================] - 102s 382ms/step - loss: 0.3099 - accuracy: 0.9031 - val_loss: 0.2373 - val_accuracy: 0.9294\n",
      "Epoch 3/3\n",
      "266/266 [==============================] - 101s 381ms/step - loss: 0.2089 - accuracy: 0.9344 - val_loss: 0.1930 - val_accuracy: 0.9378\n",
      "\n",
      "Accuracy: 93.78%\n",
      "\n",
      "learning rate: 1.7e-06\n",
      "num_conv_layers: 1\n",
      "num_dense_layers: 3\n",
      "num_dense_nodes: 198\n",
      "activation: sigmoid\n",
      "\n",
      "Epoch 1/3\n",
      "266/266 [==============================] - 34s 125ms/step - loss: 2.5283 - accuracy: 0.0961 - val_loss: 2.4615 - val_accuracy: 0.1045\n",
      "Epoch 2/3\n",
      "266/266 [==============================] - 32s 122ms/step - loss: 2.4592 - accuracy: 0.0987 - val_loss: 2.4097 - val_accuracy: 0.1045\n",
      "Epoch 3/3\n",
      "266/266 [==============================] - 34s 129ms/step - loss: 2.4062 - accuracy: 0.0987 - val_loss: 2.3740 - val_accuracy: 0.1045\n",
      "\n",
      "Accuracy: 10.45%\n",
      "\n",
      "learning rate: 1.3e-04\n",
      "num_conv_layers: 1\n",
      "num_dense_layers: 2\n",
      "num_dense_nodes: 170\n",
      "activation: sigmoid\n",
      "\n",
      "Epoch 1/3\n",
      "266/266 [==============================] - 33s 122ms/step - loss: 2.3180 - accuracy: 0.1063 - val_loss: 2.3025 - val_accuracy: 0.1146\n",
      "Epoch 2/3\n",
      "266/266 [==============================] - 31s 116ms/step - loss: 2.3013 - accuracy: 0.1099 - val_loss: 2.2768 - val_accuracy: 0.1370\n",
      "Epoch 3/3\n",
      "266/266 [==============================] - 32s 119ms/step - loss: 2.1210 - accuracy: 0.3253 - val_loss: 1.2977 - val_accuracy: 0.6902\n",
      "\n",
      "Accuracy: 69.02%\n",
      "\n",
      "learning rate: 2.2e-05\n",
      "num_conv_layers: 1\n",
      "num_dense_layers: 4\n",
      "num_dense_nodes: 469\n",
      "activation: sigmoid\n",
      "\n",
      "Epoch 1/3\n",
      "266/266 [==============================] - 38s 142ms/step - loss: 2.3380 - accuracy: 0.1022 - val_loss: 2.3030 - val_accuracy: 0.0997\n",
      "Epoch 2/3\n",
      "266/266 [==============================] - 37s 139ms/step - loss: 2.3025 - accuracy: 0.1055 - val_loss: 2.3024 - val_accuracy: 0.1146\n",
      "Epoch 3/3\n",
      "266/266 [==============================] - 36s 135ms/step - loss: 2.3019 - accuracy: 0.1123 - val_loss: 2.3027 - val_accuracy: 0.0868\n",
      "\n",
      "Accuracy: 8.68%\n",
      "\n",
      "learning rate: 1.3e-03\n",
      "num_conv_layers: 1\n",
      "num_dense_layers: 3\n",
      "num_dense_nodes: 104\n",
      "activation: sigmoid\n",
      "\n",
      "Epoch 1/3\n",
      "266/266 [==============================] - 31s 116ms/step - loss: 2.3396 - accuracy: 0.1052 - val_loss: 2.3034 - val_accuracy: 0.1146\n",
      "Epoch 2/3\n",
      "266/266 [==============================] - 34s 128ms/step - loss: 2.3072 - accuracy: 0.1023 - val_loss: 2.3063 - val_accuracy: 0.0937\n",
      "Epoch 3/3\n",
      "266/266 [==============================] - 33s 123ms/step - loss: 2.3056 - accuracy: 0.1051 - val_loss: 2.3098 - val_accuracy: 0.0960\n",
      "\n",
      "Epoch 00003: ReduceLROnPlateau reducing learning rate to 0.0006480328156612813.\n",
      "\n",
      "Accuracy: 9.60%\n",
      "\n",
      "learning rate: 7.0e-05\n",
      "num_conv_layers: 3\n",
      "num_dense_layers: 1\n",
      "num_dense_nodes: 454\n",
      "activation: relu\n",
      "\n",
      "Epoch 1/3\n",
      "266/266 [==============================] - 176s 658ms/step - loss: 1.2887 - accuracy: 0.6166 - val_loss: 0.2498 - val_accuracy: 0.9241\n",
      "Epoch 2/3\n",
      "266/266 [==============================] - 172s 648ms/step - loss: 0.2106 - accuracy: 0.9347 - val_loss: 0.1780 - val_accuracy: 0.9489\n",
      "Epoch 3/3\n",
      "266/266 [==============================] - 185s 695ms/step - loss: 0.1257 - accuracy: 0.9609 - val_loss: 0.1282 - val_accuracy: 0.9627\n",
      "\n",
      "Accuracy: 96.27%\n",
      "\n",
      "learning rate: 6.0e-03\n",
      "num_conv_layers: 3\n",
      "num_dense_layers: 5\n",
      "num_dense_nodes: 156\n",
      "activation: relu\n",
      "\n",
      "Epoch 1/3\n",
      "266/266 [==============================] - 176s 651ms/step - loss: 2.3032 - accuracy: 0.1142 - val_loss: 2.3021 - val_accuracy: 0.1146\n",
      "Epoch 2/3\n",
      "266/266 [==============================] - 170s 640ms/step - loss: 2.3016 - accuracy: 0.1083 - val_loss: 2.3006 - val_accuracy: 0.1146\n",
      "Epoch 3/3\n",
      "266/266 [==============================] - 169s 634ms/step - loss: 2.3011 - accuracy: 0.1133 - val_loss: 2.3015 - val_accuracy: 0.1146\n",
      "\n",
      "Epoch 00003: ReduceLROnPlateau reducing learning rate to 0.0030036247335374355.\n",
      "\n",
      "Accuracy: 11.46%\n",
      "\n",
      "learning rate: 1.3e-03\n",
      "num_conv_layers: 1\n",
      "num_dense_layers: 3\n",
      "num_dense_nodes: 133\n",
      "activation: relu\n",
      "\n",
      "Epoch 1/3\n",
      "266/266 [==============================] - 33s 121ms/step - loss: 0.7113 - accuracy: 0.7610 - val_loss: 0.0972 - val_accuracy: 0.9738\n",
      "Epoch 2/3\n",
      "266/266 [==============================] - 31s 115ms/step - loss: 0.0837 - accuracy: 0.9732 - val_loss: 0.0885 - val_accuracy: 0.9717\n",
      "Epoch 3/3\n",
      "266/266 [==============================] - 31s 116ms/step - loss: 0.0462 - accuracy: 0.9853 - val_loss: 0.0543 - val_accuracy: 0.9823\n",
      "\n",
      "Accuracy: 98.23%\n",
      "\n",
      "learning rate: 3.0e-04\n",
      "num_conv_layers: 3\n",
      "num_dense_layers: 1\n",
      "num_dense_nodes: 249\n",
      "activation: relu\n",
      "\n",
      "Epoch 1/3\n",
      "266/266 [==============================] - 163s 611ms/step - loss: 0.8707 - accuracy: 0.7081 - val_loss: 0.1288 - val_accuracy: 0.9627\n",
      "Epoch 2/3\n",
      "266/266 [==============================] - 161s 604ms/step - loss: 0.0959 - accuracy: 0.9698 - val_loss: 0.0916 - val_accuracy: 0.9730\n",
      "Epoch 3/3\n",
      "266/266 [==============================] - 158s 593ms/step - loss: 0.0544 - accuracy: 0.9844 - val_loss: 0.0723 - val_accuracy: 0.9778\n",
      "\n",
      "Accuracy: 97.78%\n",
      "\n",
      "learning rate: 7.6e-03\n",
      "num_conv_layers: 3\n",
      "num_dense_layers: 4\n",
      "num_dense_nodes: 334\n",
      "activation: relu\n",
      "\n",
      "Epoch 1/3\n",
      "266/266 [==============================] - 158s 589ms/step - loss: 2.3355 - accuracy: 0.1072 - val_loss: 2.3023 - val_accuracy: 0.0997\n",
      "Epoch 2/3\n",
      "266/266 [==============================] - 158s 595ms/step - loss: 2.3017 - accuracy: 0.1075 - val_loss: 2.3007 - val_accuracy: 0.1146\n",
      "Epoch 3/3\n",
      "266/266 [==============================] - 157s 592ms/step - loss: 2.3012 - accuracy: 0.1133 - val_loss: 2.3017 - val_accuracy: 0.1146\n",
      "\n",
      "Accuracy: 11.46%\n",
      "\n",
      "learning rate: 2.8e-04\n",
      "num_conv_layers: 1\n",
      "num_dense_layers: 3\n",
      "num_dense_nodes: 454\n",
      "activation: relu\n",
      "\n",
      "Epoch 1/3\n",
      "266/266 [==============================] - 34s 127ms/step - loss: 0.8445 - accuracy: 0.7411 - val_loss: 0.1375 - val_accuracy: 0.9582\n",
      "Epoch 2/3\n",
      "266/266 [==============================] - 33s 125ms/step - loss: 0.1099 - accuracy: 0.9665 - val_loss: 0.0998 - val_accuracy: 0.9704\n",
      "Epoch 3/3\n",
      "266/266 [==============================] - 33s 124ms/step - loss: 0.0672 - accuracy: 0.9801 - val_loss: 0.0729 - val_accuracy: 0.9775\n",
      "\n",
      "Accuracy: 97.75%\n",
      "\n",
      "learning rate: 2.9e-04\n",
      "num_conv_layers: 3\n",
      "num_dense_layers: 3\n",
      "num_dense_nodes: 359\n",
      "activation: relu\n",
      "\n",
      "Epoch 1/3\n",
      "266/266 [==============================] - 166s 622ms/step - loss: 0.8678 - accuracy: 0.7078 - val_loss: 0.1408 - val_accuracy: 0.9579\n",
      "Epoch 2/3\n",
      "266/266 [==============================] - 180s 675ms/step - loss: 0.1037 - accuracy: 0.9671 - val_loss: 0.0887 - val_accuracy: 0.9749\n",
      "Epoch 3/3\n",
      "266/266 [==============================] - 168s 631ms/step - loss: 0.0572 - accuracy: 0.9822 - val_loss: 0.0642 - val_accuracy: 0.9799\n",
      "\n",
      "Accuracy: 97.99%\n",
      "\n",
      "learning rate: 3.6e-04\n",
      "num_conv_layers: 3\n",
      "num_dense_layers: 3\n",
      "num_dense_nodes: 468\n",
      "activation: relu\n",
      "\n",
      "Epoch 1/3\n",
      "266/266 [==============================] - 173s 648ms/step - loss: 0.7169 - accuracy: 0.7664 - val_loss: 0.1066 - val_accuracy: 0.9690\n",
      "Epoch 2/3\n"
     ]
    },
    {
     "name": "stdout",
     "output_type": "stream",
     "text": [
      "266/266 [==============================] - 168s 632ms/step - loss: 0.0812 - accuracy: 0.9737 - val_loss: 0.0761 - val_accuracy: 0.9765\n",
      "Epoch 3/3\n",
      "266/266 [==============================] - 168s 630ms/step - loss: 0.0452 - accuracy: 0.9849 - val_loss: 0.0592 - val_accuracy: 0.9823\n",
      "\n",
      "Accuracy: 98.23%\n",
      "\n",
      "learning rate: 1.0e-03\n",
      "num_conv_layers: 3\n",
      "num_dense_layers: 3\n",
      "num_dense_nodes: 511\n",
      "activation: relu\n",
      "\n",
      "Epoch 1/3\n",
      "266/266 [==============================] - 181s 677ms/step - loss: 0.6268 - accuracy: 0.7904 - val_loss: 0.0814 - val_accuracy: 0.9754\n",
      "Epoch 2/3\n",
      "266/266 [==============================] - 178s 669ms/step - loss: 0.0735 - accuracy: 0.9768 - val_loss: 0.0677 - val_accuracy: 0.9796\n",
      "Epoch 3/3\n",
      "266/266 [==============================] - 164s 615ms/step - loss: 0.0398 - accuracy: 0.9880 - val_loss: 0.0653 - val_accuracy: 0.9836\n",
      "\n",
      "Accuracy: 98.36%\n",
      "\n",
      "learning rate: 1.1e-03\n",
      "num_conv_layers: 3\n",
      "num_dense_layers: 3\n",
      "num_dense_nodes: 497\n",
      "activation: relu\n",
      "\n",
      "Epoch 1/3\n",
      "266/266 [==============================] - 164s 612ms/step - loss: 0.6569 - accuracy: 0.7765 - val_loss: 0.0851 - val_accuracy: 0.9751\n",
      "Epoch 2/3\n",
      "266/266 [==============================] - 175s 659ms/step - loss: 0.0702 - accuracy: 0.9783 - val_loss: 0.0531 - val_accuracy: 0.9833\n",
      "Epoch 3/3\n",
      "266/266 [==============================] - 168s 631ms/step - loss: 0.0376 - accuracy: 0.9885 - val_loss: 0.0484 - val_accuracy: 0.9862\n",
      "\n",
      "Accuracy: 98.62%\n",
      "\n",
      "learning rate: 9.1e-03\n",
      "num_conv_layers: 3\n",
      "num_dense_layers: 3\n",
      "num_dense_nodes: 506\n",
      "activation: relu\n",
      "\n",
      "Epoch 1/3\n",
      "266/266 [==============================] - 192s 717ms/step - loss: 2.5478 - accuracy: 0.1089 - val_loss: 2.3022 - val_accuracy: 0.0997\n",
      "Epoch 2/3\n",
      "266/266 [==============================] - 156s 585ms/step - loss: 2.3018 - accuracy: 0.1078 - val_loss: 2.3008 - val_accuracy: 0.1146\n",
      "Epoch 3/3\n",
      "266/266 [==============================] - 156s 587ms/step - loss: 2.3013 - accuracy: 0.1131 - val_loss: 2.3019 - val_accuracy: 0.1146\n",
      "\n",
      "Accuracy: 11.46%\n",
      "\n",
      "learning rate: 1.2e-03\n",
      "num_conv_layers: 3\n",
      "num_dense_layers: 3\n",
      "num_dense_nodes: 454\n",
      "activation: relu\n",
      "\n",
      "Epoch 1/3\n",
      "266/266 [==============================] - 162s 606ms/step - loss: 0.5985 - accuracy: 0.7988 - val_loss: 0.0863 - val_accuracy: 0.9754\n",
      "Epoch 2/3\n",
      "266/266 [==============================] - 164s 618ms/step - loss: 0.0666 - accuracy: 0.9801 - val_loss: 0.0937 - val_accuracy: 0.9788\n",
      "Epoch 3/3\n",
      "266/266 [==============================] - 168s 630ms/step - loss: 0.0411 - accuracy: 0.9878 - val_loss: 0.0440 - val_accuracy: 0.9878\n",
      "\n",
      "Accuracy: 98.78%\n",
      "\n",
      "learning rate: 1.4e-03\n",
      "num_conv_layers: 3\n",
      "num_dense_layers: 3\n",
      "num_dense_nodes: 506\n",
      "activation: relu\n",
      "\n",
      "Epoch 1/3\n",
      "266/266 [==============================] - 163s 609ms/step - loss: 0.6399 - accuracy: 0.7734 - val_loss: 0.0830 - val_accuracy: 0.9770\n",
      "Epoch 2/3\n",
      "266/266 [==============================] - 161s 606ms/step - loss: 0.0670 - accuracy: 0.9793 - val_loss: 0.0678 - val_accuracy: 0.9817\n",
      "Epoch 3/3\n",
      "266/266 [==============================] - 161s 605ms/step - loss: 0.0412 - accuracy: 0.9879 - val_loss: 0.0504 - val_accuracy: 0.9865\n",
      "\n",
      "Accuracy: 98.65%\n",
      "\n",
      "learning rate: 1.7e-03\n",
      "num_conv_layers: 3\n",
      "num_dense_layers: 3\n",
      "num_dense_nodes: 481\n",
      "activation: relu\n",
      "\n",
      "Epoch 1/3\n",
      "266/266 [==============================] - 164s 612ms/step - loss: 0.5983 - accuracy: 0.7915 - val_loss: 0.0963 - val_accuracy: 0.9746\n",
      "Epoch 2/3\n",
      "266/266 [==============================] - 169s 636ms/step - loss: 0.0672 - accuracy: 0.9802 - val_loss: 0.0809 - val_accuracy: 0.9759\n",
      "Epoch 3/3\n",
      "266/266 [==============================] - 160s 601ms/step - loss: 0.0444 - accuracy: 0.9859 - val_loss: 0.0614 - val_accuracy: 0.9857\n",
      "\n",
      "Accuracy: 98.57%\n",
      "\n",
      "learning rate: 1.5e-03\n",
      "num_conv_layers: 3\n",
      "num_dense_layers: 3\n",
      "num_dense_nodes: 506\n",
      "activation: relu\n",
      "\n",
      "Epoch 1/3\n",
      "266/266 [==============================] - 164s 614ms/step - loss: 0.5973 - accuracy: 0.7995 - val_loss: 0.0852 - val_accuracy: 0.9770\n",
      "Epoch 2/3\n",
      "266/266 [==============================] - 164s 617ms/step - loss: 0.0708 - accuracy: 0.9783 - val_loss: 0.0908 - val_accuracy: 0.9772\n",
      "Epoch 3/3\n",
      "266/266 [==============================] - 162s 607ms/step - loss: 0.0506 - accuracy: 0.9844 - val_loss: 0.0548 - val_accuracy: 0.9862\n",
      "\n",
      "Accuracy: 98.62%\n",
      "\n",
      "learning rate: 1.9e-03\n",
      "num_conv_layers: 3\n",
      "num_dense_layers: 3\n",
      "num_dense_nodes: 494\n",
      "activation: relu\n",
      "\n",
      "Epoch 1/3\n",
      "266/266 [==============================] - 162s 606ms/step - loss: 0.6692 - accuracy: 0.7670 - val_loss: 0.0825 - val_accuracy: 0.9775\n",
      "Epoch 2/3\n",
      "266/266 [==============================] - 160s 601ms/step - loss: 0.0745 - accuracy: 0.9788 - val_loss: 0.0847 - val_accuracy: 0.9778\n",
      "Epoch 3/3\n",
      "266/266 [==============================] - 164s 617ms/step - loss: 0.0477 - accuracy: 0.9853 - val_loss: 0.0605 - val_accuracy: 0.9852\n",
      "\n",
      "Accuracy: 98.52%\n",
      "\n",
      "learning rate: 1.9e-03\n",
      "num_conv_layers: 3\n",
      "num_dense_layers: 3\n",
      "num_dense_nodes: 482\n",
      "activation: relu\n",
      "\n",
      "Epoch 1/3\n",
      "266/266 [==============================] - 165s 617ms/step - loss: 0.6136 - accuracy: 0.7841 - val_loss: 0.0889 - val_accuracy: 0.9746\n",
      "Epoch 2/3\n",
      "266/266 [==============================] - 160s 602ms/step - loss: 0.0758 - accuracy: 0.9776 - val_loss: 0.0672 - val_accuracy: 0.9802\n",
      "Epoch 3/3\n",
      "266/266 [==============================] - 161s 604ms/step - loss: 0.0524 - accuracy: 0.9843 - val_loss: 0.0644 - val_accuracy: 0.9831\n",
      "\n",
      "Accuracy: 98.31%\n",
      "\n",
      "learning rate: 2.8e-03\n",
      "num_conv_layers: 3\n",
      "num_dense_layers: 3\n",
      "num_dense_nodes: 498\n",
      "activation: relu\n",
      "\n",
      "Epoch 1/3\n",
      "266/266 [==============================] - 161s 603ms/step - loss: 0.9669 - accuracy: 0.6534 - val_loss: 0.0881 - val_accuracy: 0.9717\n",
      "Epoch 2/3\n",
      "266/266 [==============================] - 159s 599ms/step - loss: 0.0845 - accuracy: 0.9744 - val_loss: 0.0683 - val_accuracy: 0.9807\n",
      "Epoch 3/3\n",
      "266/266 [==============================] - 160s 601ms/step - loss: 0.0589 - accuracy: 0.9826 - val_loss: 0.0728 - val_accuracy: 0.9804\n",
      "\n",
      "Accuracy: 98.04%\n",
      "\n",
      "learning rate: 2.9e-03\n",
      "num_conv_layers: 3\n",
      "num_dense_layers: 3\n",
      "num_dense_nodes: 506\n",
      "activation: relu\n",
      "\n",
      "Epoch 1/3\n",
      "266/266 [==============================] - 171s 641ms/step - loss: 0.6915 - accuracy: 0.7573 - val_loss: 0.0893 - val_accuracy: 0.9767\n",
      "Epoch 2/3\n",
      "266/266 [==============================] - 170s 638ms/step - loss: 0.0714 - accuracy: 0.9786 - val_loss: 0.0682 - val_accuracy: 0.9810\n",
      "Epoch 3/3\n",
      "266/266 [==============================] - 166s 622ms/step - loss: 0.0535 - accuracy: 0.9849 - val_loss: 0.0675 - val_accuracy: 0.9836\n",
      "\n",
      "Accuracy: 98.36%\n",
      "\n",
      "learning rate: 3.3e-03\n",
      "num_conv_layers: 3\n",
      "num_dense_layers: 3\n",
      "num_dense_nodes: 423\n",
      "activation: relu\n",
      "\n",
      "Epoch 1/3\n",
      "266/266 [==============================] - 167s 626ms/step - loss: 1.6076 - accuracy: 0.3926 - val_loss: 0.1623 - val_accuracy: 0.9529\n",
      "Epoch 2/3\n",
      "266/266 [==============================] - 168s 633ms/step - loss: 0.1254 - accuracy: 0.9621 - val_loss: 0.1166 - val_accuracy: 0.9669\n",
      "Epoch 3/3\n",
      "266/266 [==============================] - 166s 626ms/step - loss: 0.0842 - accuracy: 0.9750 - val_loss: 0.0774 - val_accuracy: 0.9754\n",
      "\n",
      "Accuracy: 97.54%\n",
      "\n",
      "learning rate: 3.5e-03\n",
      "num_conv_layers: 3\n",
      "num_dense_layers: 3\n",
      "num_dense_nodes: 428\n",
      "activation: relu\n",
      "\n",
      "Epoch 1/3\n",
      "266/266 [==============================] - 158s 591ms/step - loss: 2.3043 - accuracy: 0.1124 - val_loss: 2.3017 - val_accuracy: 0.1146\n",
      "Epoch 2/3\n",
      "266/266 [==============================] - 158s 595ms/step - loss: 2.3015 - accuracy: 0.1084 - val_loss: 2.3006 - val_accuracy: 0.1146\n",
      "Epoch 3/3\n",
      "266/266 [==============================] - 171s 644ms/step - loss: 2.3010 - accuracy: 0.1133 - val_loss: 2.3012 - val_accuracy: 0.1146\n",
      "\n",
      "Epoch 00003: ReduceLROnPlateau reducing learning rate to 0.0017370163695886731.\n",
      "\n",
      "Accuracy: 11.46%\n",
      "\n",
      "learning rate: 2.8e-03\n",
      "num_conv_layers: 3\n",
      "num_dense_layers: 3\n",
      "num_dense_nodes: 470\n",
      "activation: relu\n",
      "\n",
      "Epoch 1/3\n",
      "266/266 [==============================] - 165s 616ms/step - loss: 1.0938 - accuracy: 0.6041 - val_loss: 0.1264 - val_accuracy: 0.9616\n",
      "Epoch 2/3\n",
      "266/266 [==============================] - 160s 602ms/step - loss: 0.0925 - accuracy: 0.9727 - val_loss: 0.0822 - val_accuracy: 0.9772\n",
      "Epoch 3/3\n",
      "266/266 [==============================] - 167s 627ms/step - loss: 0.0595 - accuracy: 0.9808 - val_loss: 0.0727 - val_accuracy: 0.9794\n",
      "\n",
      "Accuracy: 97.94%\n",
      "\n",
      "learning rate: 3.0e-03\n",
      "num_conv_layers: 3\n",
      "num_dense_layers: 3\n",
      "num_dense_nodes: 506\n",
      "activation: relu\n",
      "\n",
      "Epoch 1/3\n"
     ]
    },
    {
     "name": "stdout",
     "output_type": "stream",
     "text": [
      "266/266 [==============================] - 174s 651ms/step - loss: 1.4209 - accuracy: 0.4637 - val_loss: 0.1008 - val_accuracy: 0.9725\n",
      "Epoch 2/3\n",
      "266/266 [==============================] - 188s 706ms/step - loss: 0.0891 - accuracy: 0.9735 - val_loss: 0.0940 - val_accuracy: 0.9720\n",
      "Epoch 3/3\n",
      "266/266 [==============================] - 185s 695ms/step - loss: 0.0653 - accuracy: 0.9798 - val_loss: 0.0644 - val_accuracy: 0.9817\n",
      "\n",
      "Accuracy: 98.17%\n",
      "\n"
     ]
    }
   ],
   "source": [
    "# we approximate f(x) using Random Forests, we could also approximate it with gradient boosting machines using gbrt_minimize instead.\n",
    "\n",
    "fm_ = forest_minimize(\n",
    "    objective,  # the objective function to minimize\n",
    "    param_grid,  # the hyperparameter space\n",
    "    x0=default_parameters,  # the initial parameters to test\n",
    "    acq_func='EI',  # the acquisition function\n",
    "    n_calls=30,  # the number of subsequent evaluations of f(x)\n",
    "    random_state=0,\n",
    ")"
   ]
  },
  {
   "cell_type": "markdown",
   "metadata": {},
   "source": [
    "# Analyze results"
   ]
  },
  {
   "cell_type": "code",
   "execution_count": 21,
   "metadata": {},
   "outputs": [
    {
     "data": {
      "text/plain": [
       "'Best score=-0.9878'"
      ]
     },
     "execution_count": 21,
     "metadata": {},
     "output_type": "execute_result"
    }
   ],
   "source": [
    "# function value at the minimum. Note that it is the negative of the accuracy\n",
    "\n",
    "\"Best score=%.4f\" % fm_.fun"
   ]
  },
  {
   "cell_type": "code",
   "execution_count": 22,
   "metadata": {},
   "outputs": [
    {
     "data": {
      "text/plain": [
       "[0.00120893243560701, 3, 3, 454, 'relu']"
      ]
     },
     "execution_count": 22,
     "metadata": {},
     "output_type": "execute_result"
    }
   ],
   "source": [
    "fm_.x"
   ]
  },
  {
   "cell_type": "code",
   "execution_count": 23,
   "metadata": {},
   "outputs": [
    {
     "data": {
      "text/plain": [
       "Space([Real(low=1e-06, high=0.01, prior='log-uniform', transform='identity'),\n",
       "       Integer(low=1, high=3, prior='uniform', transform='identity'),\n",
       "       Integer(low=1, high=5, prior='uniform', transform='identity'),\n",
       "       Integer(low=5, high=512, prior='uniform', transform='identity'),\n",
       "       Categorical(categories=('relu', 'sigmoid'), prior=None)])"
      ]
     },
     "execution_count": 23,
     "metadata": {},
     "output_type": "execute_result"
    }
   ],
   "source": [
    "fm_.space"
   ]
  },
  {
   "cell_type": "code",
   "execution_count": 24,
   "metadata": {},
   "outputs": [
    {
     "name": "stdout",
     "output_type": "stream",
     "text": [
      "Best parameters:\n",
      "=========================\n",
      "- learning rate=0.001209\n",
      "- num_conv_laayers=3\n",
      "- num_dense_layers=3\n",
      "- num_nodes=454\n",
      "- activation = relu\n"
     ]
    }
   ],
   "source": [
    "print(\"\"\"Best parameters:\n",
    "=========================\n",
    "- learning rate=%.6f\n",
    "- num_conv_laayers=%d\n",
    "- num_dense_layers=%d\n",
    "- num_nodes=%d\n",
    "- activation = %s\"\"\" %(\n",
    "    fm_.x[0], \n",
    "    fm_.x[1],\n",
    "    fm_.x[2],\n",
    "    fm_.x[3],\n",
    "    fm_.x[4],\n",
    "))"
   ]
  },
  {
   "cell_type": "markdown",
   "metadata": {},
   "source": [
    "## Convergence"
   ]
  },
  {
   "cell_type": "code",
   "execution_count": 25,
   "metadata": {},
   "outputs": [
    {
     "data": {
      "text/plain": [
       "<AxesSubplot:title={'center':'Convergence plot'}, xlabel='Number of calls $n$', ylabel='$\\\\min f(x)$ after $n$ calls'>"
      ]
     },
     "execution_count": 25,
     "metadata": {},
     "output_type": "execute_result"
    },
    {
     "data": {
      "image/png": "[encoded data removed]",
      "text/plain": [
       "<Figure size 432x288 with 1 Axes>"
      ]
     },
     "metadata": {
      "needs_background": "light"
     },
     "output_type": "display_data"
    }
   ],
   "source": [
    "plot_convergence(fm_)"
   ]
  },
  {
   "cell_type": "markdown",
   "metadata": {},
   "source": [
    "## Partially dependency plots"
   ]
  },
  {
   "cell_type": "code",
   "execution_count": 47,
   "metadata": {},
   "outputs": [],
   "source": [
    "dim_names = ['learning_rate', 'num_conv_layers', 'num_dense_layers', 'num_dense_nodes', 'activation']"
   ]
  },
  {
   "cell_type": "code",
   "execution_count": 48,
   "metadata": {},
   "outputs": [
    {
     "data": {
      "image/png": "[encoded data removed]",
      "text/plain": [
       "<Figure size 720x720 with 25 Axes>"
      ]
     },
     "metadata": {
      "needs_background": "light"
     },
     "output_type": "display_data"
    }
   ],
   "source": [
    "plot_objective(result=fm_, plot_dims=dim_names)\n",
    "plt.show()"
   ]
  },
  {
   "cell_type": "markdown",
   "metadata": {},
   "source": [
    "## Evaluation order"
   ]
  },
  {
   "cell_type": "code",
   "execution_count": 49,
   "metadata": {},
   "outputs": [
    {
     "data": {
      "image/png": "[encoded data removed]",
      "text/plain": [
       "<Figure size 720x720 with 25 Axes>"
      ]
     },
     "metadata": {
      "needs_background": "light"
     },
     "output_type": "display_data"
    }
   ],
   "source": [
    "plot_evaluations(result=fm_, plot_dims=dim_names)\n",
    "plt.show()"
   ]
  },
  {
   "cell_type": "markdown",
   "metadata": {
    "_cell_guid": "e758621d-b27b-40ff-a93f-bebd2e0e5243",
    "_uuid": "0a1834f2a9f2db15dcaba4a84004b9627d714469"
   },
   "source": [
    "# Evaluate the model"
   ]
  },
  {
   "cell_type": "code",
   "execution_count": 29,
   "metadata": {},
   "outputs": [],
   "source": [
    "# load best model\n",
    "model = load_model(path_best_model)"
   ]
  },
  {
   "cell_type": "code",
   "execution_count": 30,
   "metadata": {},
   "outputs": [
    {
     "name": "stdout",
     "output_type": "stream",
     "text": [
      "132/132 [==============================] - 5s 34ms/step - loss: 0.0429 - accuracy: 0.9852\n"
     ]
    }
   ],
   "source": [
    "# make predictions in test set\n",
    "result = model.evaluate(x=X_test,\n",
    "                        y=y_test)"
   ]
  },
  {
   "cell_type": "code",
   "execution_count": 31,
   "metadata": {},
   "outputs": [
    {
     "name": "stdout",
     "output_type": "stream",
     "text": [
      "loss 0.042860597372055054\n",
      "accuracy 0.9852380752563477\n"
     ]
    }
   ],
   "source": [
    "# print evaluation metrics\n",
    "for name, value in zip(model.metrics_names, result):\n",
    "    print(name, value)"
   ]
  },
  {
   "cell_type": "markdown",
   "metadata": {
    "_cell_guid": "5688faa0-b33b-4e92-b125-7fa0b37e7df3",
    "_uuid": "3306d29b732341663e50866140dc569360701a81"
   },
   "source": [
    "## Confusion matrix"
   ]
  },
  {
   "cell_type": "code",
   "execution_count": 32,
   "metadata": {},
   "outputs": [
    {
     "data": {
      "text/plain": [
       "array([[414,   0,   0,   0,   0,   0,   3,   0,   5,   0],\n",
       "       [  0, 468,   2,   0,   0,   0,   1,   1,   1,   0],\n",
       "       [  1,   0, 406,   1,   0,   0,   0,   0,   1,   0],\n",
       "       [  0,   0,   2, 417,   0,   1,   0,   4,   2,   0],\n",
       "       [  0,   2,   0,   0, 420,   0,   4,   1,   0,   2],\n",
       "       [  0,   0,   0,   2,   0, 376,   4,   0,   0,   0],\n",
       "       [  0,   0,   0,   0,   0,   0, 411,   0,   1,   0],\n",
       "       [  0,   0,   2,   0,   0,   1,   0, 463,   0,   3],\n",
       "       [  0,   2,   2,   0,   0,   0,   5,   1, 373,   1],\n",
       "       [  1,   0,   0,   0,   1,   0,   1,   1,   0, 390]], dtype=int64)"
      ]
     },
     "execution_count": 32,
     "metadata": {},
     "output_type": "execute_result"
    }
   ],
   "source": [
    "# Predict the values from the validation dataset\n",
    "y_pred = model.predict(X_test)\n",
    "\n",
    "# Convert predictions classes to one hot vectors \n",
    "y_pred_classes = np.argmax(y_pred, axis = 1)\n",
    "\n",
    "# Convert validation observations to one hot vectors\n",
    "y_true = np.argmax(y_test, axis = 1)\n",
    "\n",
    "# compute the confusion matrix\n",
    "cm = confusion_matrix(y_true, y_pred_classes) \n",
    "\n",
    "cm"
   ]
  },
  {
   "cell_type": "code",
   "execution_count": 33,
   "metadata": {
    "_cell_guid": "11361e73-8250-4bf5-a353-b0f8ea83e659",
    "_execution_state": "idle",
    "_uuid": "16e161179bf1b51ba66c39b2cead883f1db3a9c7"
   },
   "outputs": [
    {
     "data": {
      "text/plain": [
       "Text(0.5, 13.421126458070283, 'Predicted label')"
      ]
     },
     "execution_count": 33,
     "metadata": {},
     "output_type": "execute_result"
    },
    {
     "data": {
      "image/png": "[encoded data removed]",
      "text/plain": [
       "<Figure size 432x288 with 2 Axes>"
      ]
     },
     "metadata": {
      "needs_background": "light"
     },
     "output_type": "display_data"
    }
   ],
   "source": [
    "# let's make it more colourful\n",
    "classes = 10\n",
    "\n",
    "plt.imshow(cm, interpolation='nearest', cmap=plt.cm.Blues)\n",
    "plt.title('Confusion matrix')\n",
    "plt.colorbar()\n",
    "tick_marks = np.arange(classes)\n",
    "plt.xticks(tick_marks, range(classes), rotation=45)\n",
    "plt.yticks(tick_marks, range(classes))\n",
    "\n",
    "for i, j in itertools.product(range(cm.shape[0]), range(cm.shape[1])):\n",
    "    plt.text(j, i, cm[i, j],\n",
    "             horizontalalignment=\"center\",\n",
    "             color=\"white\" if cm[i, j] > 100 else \"black\",\n",
    "            )\n",
    "\n",
    "plt.tight_layout()\n",
    "plt.ylabel('True label')\n",
    "plt.xlabel('Predicted label')"
   ]
  },
  {
   "cell_type": "markdown",
   "metadata": {
    "_cell_guid": "1b8a5cdc-9122-4e31-b9fa-0f6b57d33fc8",
    "_uuid": "ecb928433299b163ecc1f6c4e66d4ddcf38fe898"
   },
   "source": [
    "Here we can see that our CNN performs very well on all digits.\n",
    "\n",
    "# Exploring the Scikit-Optimize minimizer"
   ]
  },
  {
   "cell_type": "code",
   "execution_count": 37,
   "metadata": {},
   "outputs": [
    {
     "data": {
      "text/plain": [
       "          fun: -0.9878306984901428\n",
       "    func_vals: array([-0.59550267, -0.82486773, -0.93783069, -0.10449736, -0.69021165,\n",
       "       -0.08677249, -0.09603175, -0.9626984 , -0.11455026, -0.98227513,\n",
       "       -0.97777778, -0.11455026, -0.97751325, -0.97989416, -0.98227513,\n",
       "       -0.98359787, -0.98624337, -0.11455026, -0.9878307 , -0.98650795,\n",
       "       -0.98571426, -0.98624337, -0.98518521, -0.98306876, -0.98042327,\n",
       "       -0.98359787, -0.97539681, -0.11455026, -0.97936505, -0.98174602])\n",
       "       models: [ExtraTreesRegressor(min_samples_leaf=3, n_estimators=100,\n",
       "                    random_state=209652396), ExtraTreesRegressor(min_samples_leaf=3, n_estimators=100,\n",
       "                    random_state=209652396), ExtraTreesRegressor(min_samples_leaf=3, n_estimators=100,\n",
       "                    random_state=209652396), ExtraTreesRegressor(min_samples_leaf=3, n_estimators=100,\n",
       "                    random_state=209652396), ExtraTreesRegressor(min_samples_leaf=3, n_estimators=100,\n",
       "                    random_state=209652396), ExtraTreesRegressor(min_samples_leaf=3, n_estimators=100,\n",
       "                    random_state=209652396), ExtraTreesRegressor(min_samples_leaf=3, n_estimators=100,\n",
       "                    random_state=209652396), ExtraTreesRegressor(min_samples_leaf=3, n_estimators=100,\n",
       "                    random_state=209652396), ExtraTreesRegressor(min_samples_leaf=3, n_estimators=100,\n",
       "                    random_state=209652396), ExtraTreesRegressor(min_samples_leaf=3, n_estimators=100,\n",
       "                    random_state=209652396), ExtraTreesRegressor(min_samples_leaf=3, n_estimators=100,\n",
       "                    random_state=209652396), ExtraTreesRegressor(min_samples_leaf=3, n_estimators=100,\n",
       "                    random_state=209652396), ExtraTreesRegressor(min_samples_leaf=3, n_estimators=100,\n",
       "                    random_state=209652396), ExtraTreesRegressor(min_samples_leaf=3, n_estimators=100,\n",
       "                    random_state=209652396), ExtraTreesRegressor(min_samples_leaf=3, n_estimators=100,\n",
       "                    random_state=209652396), ExtraTreesRegressor(min_samples_leaf=3, n_estimators=100,\n",
       "                    random_state=209652396), ExtraTreesRegressor(min_samples_leaf=3, n_estimators=100,\n",
       "                    random_state=209652396), ExtraTreesRegressor(min_samples_leaf=3, n_estimators=100,\n",
       "                    random_state=209652396), ExtraTreesRegressor(min_samples_leaf=3, n_estimators=100,\n",
       "                    random_state=209652396), ExtraTreesRegressor(min_samples_leaf=3, n_estimators=100,\n",
       "                    random_state=209652396)]\n",
       " random_state: RandomState(MT19937) at 0x568BBE3840\n",
       "        space: Space([Real(low=1e-06, high=0.01, prior='log-uniform', transform='identity'),\n",
       "       Integer(low=1, high=3, prior='uniform', transform='identity'),\n",
       "       Integer(low=1, high=5, prior='uniform', transform='identity'),\n",
       "       Integer(low=5, high=512, prior='uniform', transform='identity'),\n",
       "       Categorical(categories=('relu', 'sigmoid'), prior=None)])\n",
       "        specs: {'args': {'func': <function objective at 0x00000056898D6AF0>, 'dimensions': [Real(low=1e-06, high=0.01, prior='log-uniform', transform='identity'), Integer(low=1, high=3, prior='uniform', transform='identity'), Integer(low=1, high=5, prior='uniform', transform='identity'), Integer(low=5, high=512, prior='uniform', transform='identity'), Categorical(categories=('relu', 'sigmoid'), prior=None)], 'base_estimator': 'ET', 'n_calls': 30, 'n_random_starts': None, 'n_initial_points': 10, 'initial_point_generator': 'random', 'acq_func': 'EI', 'acq_optimizer': 'sampling', 'x0': [1e-05, 1, 1, 16, 'relu'], 'y0': None, 'random_state': 0, 'verbose': False, 'callback': None, 'n_points': 10000, 'n_restarts_optimizer': 5, 'xi': 0.01, 'kappa': 1.96, 'n_jobs': 1, 'model_queue_size': None}, 'function': 'base_minimize'}\n",
       "            x: [0.00120893243560701, 3, 3, 454, 'relu']\n",
       "      x_iters: [[1e-05, 1, 1, 16, 'relu'], [0.00023516813385771865, 1, 4, 256, 'sigmoid'], [4.950159553733197e-05, 2, 3, 297, 'relu'], [1.6859780231705853e-06, 1, 3, 198, 'sigmoid'], [0.00013049073550362405, 1, 2, 170, 'sigmoid'], [2.2365810539197545e-05, 1, 4, 469, 'sigmoid'], [0.0012960656597279748, 1, 3, 104, 'sigmoid'], [7.01321977994579e-05, 3, 1, 454, 'relu'], [0.006007249475906207, 3, 5, 156, 'relu'], [0.0012500712230836273, 1, 3, 133, 'relu'], [0.0002954894558726686, 3, 1, 249, 'relu'], [0.007572447499093503, 3, 4, 334, 'relu'], [0.00027984760674257914, 1, 3, 454, 'relu'], [0.00028674737440100343, 3, 3, 359, 'relu'], [0.0003563897482846822, 3, 3, 468, 'relu'], [0.0010009522445704965, 3, 3, 511, 'relu'], [0.0011099395238989916, 3, 3, 497, 'relu'], [0.009075525199870838, 3, 3, 506, 'relu'], [0.00120893243560701, 3, 3, 454, 'relu'], [0.0013677319498488388, 3, 3, 506, 'relu'], [0.0016929517509193962, 3, 3, 481, 'relu'], [0.001478140251990033, 3, 3, 506, 'relu'], [0.0019498332741838893, 3, 3, 494, 'relu'], [0.0019429708710502823, 3, 3, 482, 'relu'], [0.0028422668047977328, 3, 3, 498, 'relu'], [0.0028522030544157477, 3, 3, 506, 'relu'], [0.003337624153366439, 3, 3, 423, 'relu'], [0.0034740326616192014, 3, 3, 428, 'relu'], [0.002815120095753446, 3, 3, 470, 'relu'], [0.002957220740079485, 3, 3, 506, 'relu']]"
      ]
     },
     "execution_count": 37,
     "metadata": {},
     "output_type": "execute_result"
    }
   ],
   "source": [
    "fm_"
   ]
  },
  {
   "cell_type": "code",
   "execution_count": 40,
   "metadata": {},
   "outputs": [
    {
     "data": {
      "text/plain": [
       "array([-0.59550267, -0.82486773, -0.93783069, -0.10449736, -0.69021165,\n",
       "       -0.08677249, -0.09603175, -0.9626984 , -0.11455026, -0.98227513,\n",
       "       -0.97777778, -0.11455026, -0.97751325, -0.97989416, -0.98227513,\n",
       "       -0.98359787, -0.98624337, -0.11455026, -0.9878307 , -0.98650795,\n",
       "       -0.98571426, -0.98624337, -0.98518521, -0.98306876, -0.98042327,\n",
       "       -0.98359787, -0.97539681, -0.11455026, -0.97936505, -0.98174602])"
      ]
     },
     "execution_count": 40,
     "metadata": {},
     "output_type": "execute_result"
    }
   ],
   "source": [
    "# the accuracy\n",
    "\n",
    "fm_.func_vals"
   ]
  },
  {
   "cell_type": "code",
   "execution_count": 52,
   "metadata": {},
   "outputs": [
    {
     "data": {
      "text/plain": [
       "[[1e-05, 1, 1, 16, 'relu'],\n",
       " [0.00023516813385771865, 1, 4, 256, 'sigmoid'],\n",
       " [4.950159553733197e-05, 2, 3, 297, 'relu'],\n",
       " [1.6859780231705853e-06, 1, 3, 198, 'sigmoid'],\n",
       " [0.00013049073550362405, 1, 2, 170, 'sigmoid'],\n",
       " [2.2365810539197545e-05, 1, 4, 469, 'sigmoid'],\n",
       " [0.0012960656597279748, 1, 3, 104, 'sigmoid'],\n",
       " [7.01321977994579e-05, 3, 1, 454, 'relu'],\n",
       " [0.006007249475906207, 3, 5, 156, 'relu'],\n",
       " [0.0012500712230836273, 1, 3, 133, 'relu'],\n",
       " [0.0002954894558726686, 3, 1, 249, 'relu'],\n",
       " [0.007572447499093503, 3, 4, 334, 'relu'],\n",
       " [0.00027984760674257914, 1, 3, 454, 'relu'],\n",
       " [0.00028674737440100343, 3, 3, 359, 'relu'],\n",
       " [0.0003563897482846822, 3, 3, 468, 'relu'],\n",
       " [0.0010009522445704965, 3, 3, 511, 'relu'],\n",
       " [0.0011099395238989916, 3, 3, 497, 'relu'],\n",
       " [0.009075525199870838, 3, 3, 506, 'relu'],\n",
       " [0.00120893243560701, 3, 3, 454, 'relu'],\n",
       " [0.0013677319498488388, 3, 3, 506, 'relu'],\n",
       " [0.0016929517509193962, 3, 3, 481, 'relu'],\n",
       " [0.001478140251990033, 3, 3, 506, 'relu'],\n",
       " [0.0019498332741838893, 3, 3, 494, 'relu'],\n",
       " [0.0019429708710502823, 3, 3, 482, 'relu'],\n",
       " [0.0028422668047977328, 3, 3, 498, 'relu'],\n",
       " [0.0028522030544157477, 3, 3, 506, 'relu'],\n",
       " [0.003337624153366439, 3, 3, 423, 'relu'],\n",
       " [0.0034740326616192014, 3, 3, 428, 'relu'],\n",
       " [0.002815120095753446, 3, 3, 470, 'relu'],\n",
       " [0.002957220740079485, 3, 3, 506, 'relu']]"
      ]
     },
     "execution_count": 52,
     "metadata": {},
     "output_type": "execute_result"
    }
   ],
   "source": [
    "# the hyperparameter combinations\n",
    "\n",
    "fm_.x_iters"
   ]
  },
  {
   "cell_type": "code",
   "execution_count": 50,
   "metadata": {},
   "outputs": [
    {
     "data": {
      "text/html": [
       "<div>\n",
       "<style scoped>\n",
       "    .dataframe tbody tr th:only-of-type {\n",
       "        vertical-align: middle;\n",
       "    }\n",
       "\n",
       "    .dataframe tbody tr th {\n",
       "        vertical-align: top;\n",
       "    }\n",
       "\n",
       "    .dataframe thead th {\n",
       "        text-align: right;\n",
       "    }\n",
       "</style>\n",
       "<table border=\"1\" class=\"dataframe\">\n",
       "  <thead>\n",
       "    <tr style=\"text-align: right;\">\n",
       "      <th></th>\n",
       "      <th>learning_rate</th>\n",
       "      <th>num_conv_layers</th>\n",
       "      <th>num_dense_layers</th>\n",
       "      <th>num_dense_nodes</th>\n",
       "      <th>activation</th>\n",
       "      <th>accuracy</th>\n",
       "    </tr>\n",
       "  </thead>\n",
       "  <tbody>\n",
       "    <tr>\n",
       "      <th>0</th>\n",
       "      <td>0.000010</td>\n",
       "      <td>1</td>\n",
       "      <td>1</td>\n",
       "      <td>16</td>\n",
       "      <td>relu</td>\n",
       "      <td>-0.595503</td>\n",
       "    </tr>\n",
       "    <tr>\n",
       "      <th>1</th>\n",
       "      <td>0.000235</td>\n",
       "      <td>1</td>\n",
       "      <td>4</td>\n",
       "      <td>256</td>\n",
       "      <td>sigmoid</td>\n",
       "      <td>-0.824868</td>\n",
       "    </tr>\n",
       "    <tr>\n",
       "      <th>2</th>\n",
       "      <td>0.000050</td>\n",
       "      <td>2</td>\n",
       "      <td>3</td>\n",
       "      <td>297</td>\n",
       "      <td>relu</td>\n",
       "      <td>-0.937831</td>\n",
       "    </tr>\n",
       "    <tr>\n",
       "      <th>3</th>\n",
       "      <td>0.000002</td>\n",
       "      <td>1</td>\n",
       "      <td>3</td>\n",
       "      <td>198</td>\n",
       "      <td>sigmoid</td>\n",
       "      <td>-0.104497</td>\n",
       "    </tr>\n",
       "    <tr>\n",
       "      <th>4</th>\n",
       "      <td>0.000130</td>\n",
       "      <td>1</td>\n",
       "      <td>2</td>\n",
       "      <td>170</td>\n",
       "      <td>sigmoid</td>\n",
       "      <td>-0.690212</td>\n",
       "    </tr>\n",
       "  </tbody>\n",
       "</table>\n",
       "</div>"
      ],
      "text/plain": [
       "   learning_rate  num_conv_layers  num_dense_layers  num_dense_nodes  \\\n",
       "0       0.000010                1                 1               16   \n",
       "1       0.000235                1                 4              256   \n",
       "2       0.000050                2                 3              297   \n",
       "3       0.000002                1                 3              198   \n",
       "4       0.000130                1                 2              170   \n",
       "\n",
       "  activation  accuracy  \n",
       "0       relu -0.595503  \n",
       "1    sigmoid -0.824868  \n",
       "2       relu -0.937831  \n",
       "3    sigmoid -0.104497  \n",
       "4    sigmoid -0.690212  "
      ]
     },
     "execution_count": 50,
     "metadata": {},
     "output_type": "execute_result"
    }
   ],
   "source": [
    "# all together in one dataframe, so we can investigate further\n",
    "\n",
    "tmp = pd.concat([\n",
    "    pd.DataFrame(fm_.x_iters),\n",
    "    pd.Series(fm_.func_vals),\n",
    "], axis=1)\n",
    "\n",
    "tmp.columns = dim_names + ['accuracy']\n",
    "tmp.head()"
   ]
  },
  {
   "cell_type": "code",
   "execution_count": 51,
   "metadata": {},
   "outputs": [
    {
     "data": {
      "text/html": [
       "<div>\n",
       "<style scoped>\n",
       "    .dataframe tbody tr th:only-of-type {\n",
       "        vertical-align: middle;\n",
       "    }\n",
       "\n",
       "    .dataframe tbody tr th {\n",
       "        vertical-align: top;\n",
       "    }\n",
       "\n",
       "    .dataframe thead th {\n",
       "        text-align: right;\n",
       "    }\n",
       "</style>\n",
       "<table border=\"1\" class=\"dataframe\">\n",
       "  <thead>\n",
       "    <tr style=\"text-align: right;\">\n",
       "      <th></th>\n",
       "      <th>learning_rate</th>\n",
       "      <th>num_conv_layers</th>\n",
       "      <th>num_dense_layers</th>\n",
       "      <th>num_dense_nodes</th>\n",
       "      <th>activation</th>\n",
       "      <th>accuracy</th>\n",
       "    </tr>\n",
       "  </thead>\n",
       "  <tbody>\n",
       "    <tr>\n",
       "      <th>18</th>\n",
       "      <td>0.001209</td>\n",
       "      <td>3</td>\n",
       "      <td>3</td>\n",
       "      <td>454</td>\n",
       "      <td>relu</td>\n",
       "      <td>-0.987831</td>\n",
       "    </tr>\n",
       "    <tr>\n",
       "      <th>19</th>\n",
       "      <td>0.001368</td>\n",
       "      <td>3</td>\n",
       "      <td>3</td>\n",
       "      <td>506</td>\n",
       "      <td>relu</td>\n",
       "      <td>-0.986508</td>\n",
       "    </tr>\n",
       "    <tr>\n",
       "      <th>21</th>\n",
       "      <td>0.001478</td>\n",
       "      <td>3</td>\n",
       "      <td>3</td>\n",
       "      <td>506</td>\n",
       "      <td>relu</td>\n",
       "      <td>-0.986243</td>\n",
       "    </tr>\n",
       "    <tr>\n",
       "      <th>16</th>\n",
       "      <td>0.001110</td>\n",
       "      <td>3</td>\n",
       "      <td>3</td>\n",
       "      <td>497</td>\n",
       "      <td>relu</td>\n",
       "      <td>-0.986243</td>\n",
       "    </tr>\n",
       "    <tr>\n",
       "      <th>20</th>\n",
       "      <td>0.001693</td>\n",
       "      <td>3</td>\n",
       "      <td>3</td>\n",
       "      <td>481</td>\n",
       "      <td>relu</td>\n",
       "      <td>-0.985714</td>\n",
       "    </tr>\n",
       "    <tr>\n",
       "      <th>22</th>\n",
       "      <td>0.001950</td>\n",
       "      <td>3</td>\n",
       "      <td>3</td>\n",
       "      <td>494</td>\n",
       "      <td>relu</td>\n",
       "      <td>-0.985185</td>\n",
       "    </tr>\n",
       "    <tr>\n",
       "      <th>25</th>\n",
       "      <td>0.002852</td>\n",
       "      <td>3</td>\n",
       "      <td>3</td>\n",
       "      <td>506</td>\n",
       "      <td>relu</td>\n",
       "      <td>-0.983598</td>\n",
       "    </tr>\n",
       "    <tr>\n",
       "      <th>15</th>\n",
       "      <td>0.001001</td>\n",
       "      <td>3</td>\n",
       "      <td>3</td>\n",
       "      <td>511</td>\n",
       "      <td>relu</td>\n",
       "      <td>-0.983598</td>\n",
       "    </tr>\n",
       "    <tr>\n",
       "      <th>23</th>\n",
       "      <td>0.001943</td>\n",
       "      <td>3</td>\n",
       "      <td>3</td>\n",
       "      <td>482</td>\n",
       "      <td>relu</td>\n",
       "      <td>-0.983069</td>\n",
       "    </tr>\n",
       "    <tr>\n",
       "      <th>14</th>\n",
       "      <td>0.000356</td>\n",
       "      <td>3</td>\n",
       "      <td>3</td>\n",
       "      <td>468</td>\n",
       "      <td>relu</td>\n",
       "      <td>-0.982275</td>\n",
       "    </tr>\n",
       "  </tbody>\n",
       "</table>\n",
       "</div>"
      ],
      "text/plain": [
       "    learning_rate  num_conv_layers  num_dense_layers  num_dense_nodes  \\\n",
       "18       0.001209                3                 3              454   \n",
       "19       0.001368                3                 3              506   \n",
       "21       0.001478                3                 3              506   \n",
       "16       0.001110                3                 3              497   \n",
       "20       0.001693                3                 3              481   \n",
       "22       0.001950                3                 3              494   \n",
       "25       0.002852                3                 3              506   \n",
       "15       0.001001                3                 3              511   \n",
       "23       0.001943                3                 3              482   \n",
       "14       0.000356                3                 3              468   \n",
       "\n",
       "   activation  accuracy  \n",
       "18       relu -0.987831  \n",
       "19       relu -0.986508  \n",
       "21       relu -0.986243  \n",
       "16       relu -0.986243  \n",
       "20       relu -0.985714  \n",
       "22       relu -0.985185  \n",
       "25       relu -0.983598  \n",
       "15       relu -0.983598  \n",
       "23       relu -0.983069  \n",
       "14       relu -0.982275  "
      ]
     },
     "execution_count": 51,
     "metadata": {},
     "output_type": "execute_result"
    }
   ],
   "source": [
    "tmp.sort_values(by='accuracy', ascending=True, inplace=True)\n",
    "tmp.head(10)"
   ]
  },
  {
   "cell_type": "code",
   "execution_count": null,
   "metadata": {},
   "outputs": [],
   "source": []
  }
 ],
 "metadata": {
  "kernelspec": {
   "display_name": "html",
   "language": "python",
   "name": "html"
  },
  "language_info": {
   "codemirror_mode": {
    "name": "ipython",
    "version": 3
   },
   "file_extension": ".py",
   "mimetype": "text/x-python",
   "name": "python",
   "nbconvert_exporter": "python",
   "pygments_lexer": "ipython3",
   "version": "3.8.2"
  },
  "toc": {
   "base_numbering": 1,
   "nav_menu": {},
   "number_sections": true,
   "sideBar": true,
   "skip_h1_title": false,
   "title_cell": "Table of Contents",
   "title_sidebar": "Contents",
   "toc_cell": false,
   "toc_position": {
    "height": "calc(100% - 180px)",
    "left": "10px",
    "top": "150px",
    "width": "288.467px"
   },
   "toc_section_display": true,
   "toc_window_display": true
  }
 },
 "nbformat": 4,
 "nbformat_minor": 2
}
