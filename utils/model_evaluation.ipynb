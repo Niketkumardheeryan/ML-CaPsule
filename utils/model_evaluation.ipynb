{
 "cells": [
  {
   "cell_type": "markdown",
   "metadata": {},
   "source": [
    "# Model Evaluation and Cross-Validation\n",
    "\n",
    "This notebook contains functions for evaluating classification models and performing cross-validation. It includes error handling to ensure robustness. # type: ignore\n",
    "\n",
    "## 1. Importing Libraries\n",
    "\n",
    "We will start by importing the necessary libraries."
   ]
  },
  {
   "cell_type": "code",
   "execution_count": null,
   "metadata": {},
   "outputs": [],
   "source": [
    "# Import necessary libraries\n",
    "from utils.error_handler import error_handler, ModelError\n",
    "from sklearn.metrics import accuracy_score, precision_score, recall_score, f1_score\n",
    "from sklearn.model_selection import cross_val_score\n",
    "import numpy as np"
   ]
  },
  {
   "cell_type": "markdown",
   "metadata": {},
   "source": [
    "## 2. Evaluating Classification Models\n",
    "\n",
    "The `evaluate_classification_model` function computes various evaluation metrics for classification models, including accuracy, precision, recall, and F1 score. It also includes error handling to manage mismatched dimensions between predictions and true labels."
   ]
  },
  {
   "cell_type": "code",
   "execution_count": null,
   "metadata": {},
   "outputs": [],
   "source": [
    "@error_handler\n",
    "def evaluate_classification_model(y_true, y_pred):\n",
    "    \"\"\"\n",
    "    Evaluate the classification model using various metrics.\n",
    "\n",
    "    Parameters:\n",
    "    - y_true: array-like, true labels\n",
    "    - y_pred: array-like, predicted labels\n",
    "\n",
    "    Returns:\n",
    "    - metrics: dict, containing accuracy, precision, recall, and F1 score\n",
    "    \"\"\"\n",
    "    if len(y_true) != len(y_pred):\n",
    "        raise ModelError(\"Prediction and ground truth dimensions do not match\")\n",
    "    \n",
    "    metrics = {\n",
    "        'accuracy': accuracy_score(y_true, y_pred),\n",
    "        'precision': precision_score(y_true, y_pred, average='weighted'),\n",
    "        'recall': recall_score(y_true, y_pred, average='weighted'),\n",
    "        'f1': f1_score(y_true, y_pred, average='weighted')\n",
    "    }\n",
    "    \n",
    "    return metrics"
   ]
  },
  {
   "cell_type": "markdown",
   "metadata": {},
   "source": [
    "## 3. Cross-Validation\n",
    "\n",
    "The `cross_validate_model` function performs cross-validation on a given model and dataset. It returns the mean and standard deviation of the scores obtained during cross-validation."
   ]
  },
  {
   "cell_type": "code",
   "execution_count": null,
   "metadata": {},
   "outputs": [],
   "source": [
    "@error_handler\n",
    "def cross_validate_model(model, X, y, cv=5):\n",
    "    \"\"\"\n",
    "    Perform cross-validation on the given model.\n",
    "\n",
    "    Parameters:\n",
    "    - model: the model to evaluate\n",
    "    - X: array-like, feature data\n",
    "    - y: array-like, target labels\n",
    "    - cv: int, number of cross-validation folds\n",
    "\n",
    "    Returns:\n",
    "    - dict: containing mean score, standard deviation, and individual scores\n",
    "    \"\"\"\n",
    "    scores = cross_val_score(model, X, y, cv=cv)\n",
    "    return {\n",
    "        'mean_score': np.mean(scores),\n",
    "        'std_score': np.std(scores),\n",
    "        'scores': scores\n",
    "    }"
   ]
  },
  {
   "cell_type": "markdown",
   "metadata": {},
   "source": [
    "## 4. Example Usage\n",
    "\n",
    "Here, we can provide an example of how to use the above functions with a sample dataset and model."
   ]
  },
  {
   "cell_type": "code",
   "execution_count": null,
   "metadata": {},
   "outputs": [],
   "source": [
    "# Example usage\n",
    "if __name__ == \"__main__\":\n",
    "    from sklearn.datasets import load_iris\n",
    "    from sklearn.ensemble import RandomForestClassifier\n",
    "\n",
    "    # Load sample data\n",
    "    data = load_iris()\n",
    "    X, y = data.data, data.target\n",
    "\n",
    "    # Train a model\n",
    "    model = RandomForestClassifier(random_state=42)\n",
    "    model.fit(X, y)\n",
    "\n",
    "    # Make predictions\n",
    "    y_pred = model.predict(X)\n",
    "\n",
    "    # Evaluate the model\n",
    "    metrics = evaluate_classification_model(y, y_pred)\n",
    "    print(\"Evaluation Metrics:\", metrics)\n",
    "\n",
    "    # Perform cross-validation\n",
    "    cv_results = cross_validate_model(model, X, y, cv=5)\n",
    "    print(\"Cross-Validation Results:\", cv_results)"
   ]
  },
  {
   "cell_type": "markdown",
   "metadata": {},
   "source": []
  }
 ],
 "metadata": {
  "language_info": {
   "name": "python"
  }
 },
 "nbformat": 4,
 "nbformat_minor": 2
}
