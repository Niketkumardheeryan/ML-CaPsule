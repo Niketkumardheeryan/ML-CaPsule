{
 "cells": [
  {
   "cell_type": "markdown",
   "metadata": {},
   "source": [
    "<h1 style=\"color:blue;text-align:center;\">CONTROL FLOW (IF, ELIF, ELSE)/h1>"
   ]
  },
  {
   "cell_type": "markdown",
   "metadata": {},
   "source": [
    "<h3 style=\"color:orange;\">IF,ELIF,ELSE</h3>\n",
    "<ul>\n",
    "<li>Adds logic to our code</li>\n",
    "<li>The if statement performs a task if the condition is true.</li>\n",
    "<li>The else statement performs a default when the if statement's condition is false.</li>\n",
    "<li>Else statements cannot exist on their own.</li>\n",
    "<li>The elif statement (short for else if) works in between if and else statements.</li>\n",
    "<li>Elif only performs a task when true, and the if statement is false.\n",
    "</li>\n",
    "</ul>"
   ]
  },
  {
   "cell_type": "markdown",
   "metadata": {},
   "source": [
    "<h3 style=\"color:orange;\">DEPENDS ON INDENTATION!</h3>"
   ]
  },
  {
   "cell_type": "code",
   "execution_count": 3,
   "metadata": {},
   "outputs": [],
   "source": [
    "a = 10; b = 25 ; c = 100; d = (\"cat\", \"dog\", \"bird\")"
   ]
  },
  {
   "cell_type": "code",
   "execution_count": 4,
   "metadata": {},
   "outputs": [
    {
     "name": "stdout",
     "output_type": "stream",
     "text": [
      "a is true!\n",
      "b is true!\n",
      "c is true!\n",
      "d is false!\n"
     ]
    }
   ],
   "source": [
    "if a == 10:\n",
    "    print(\"a is true!\")\n",
    "    if b < 40:\n",
    "        print(\"b is true!\")\n",
    "        if c > 9:\n",
    "            print(\"c is true!\")\n",
    "            if \"zebra\" in d:\n",
    "                print(\"d is true!\")\n",
    "            else:\n",
    "                print(\"d is false!\")\n",
    "        else:\n",
    "            print(\"c is false!\")\n",
    "    else:\n",
    "        print(\"b is false!\")\n",
    "else:\n",
    "    print(\"a is false!\")\n"
   ]
  },
  {
   "cell_type": "code",
   "execution_count": 5,
   "metadata": {},
   "outputs": [
    {
     "name": "stdout",
     "output_type": "stream",
     "text": [
      "Keep looking!\n"
     ]
    }
   ],
   "source": [
    "num = eval(input(\"Enter a number: \"))\n",
    "if num >= 3:\n",
    "    print(\"Keep looking!\")\n",
    "elif d[num] == \"cat\":\n",
    "    print(\"Found a {}\".format(d[num]))\n",
    "elif d[num] == \"dog\":\n",
    "    print(\"Found a {}\".format(d[num]))\n",
    "else:\n",
    "    print(\"Found a bird!\")"
   ]
  },
  {
   "cell_type": "code",
   "execution_count": 6,
   "metadata": {},
   "outputs": [
    {
     "data": {
      "text/plain": [
       "('cat', 'dog', 'bird')"
      ]
     },
     "execution_count": 6,
     "metadata": {},
     "output_type": "execute_result"
    }
   ],
   "source": [
    "d"
   ]
  },
  {
   "cell_type": "code",
   "execution_count": 7,
   "metadata": {},
   "outputs": [
    {
     "data": {
      "text/plain": [
       "[[0, 1, 2, 3, 4, 5, 6, 7, 8, 9, 10],\n",
       " [11, 12, 13, 14, 15, 16, 17, 18, 19, 20],\n",
       " [21, 22, 23, 24, 25, 26, 27, 28, 29, 30]]"
      ]
     },
     "execution_count": 7,
     "metadata": {},
     "output_type": "execute_result"
    }
   ],
   "source": [
    "total = [list(range(11)), list(range(11, 21)), list(range(21, 31))]\n",
    "total"
   ]
  },
  {
   "cell_type": "code",
   "execution_count": 9,
   "metadata": {},
   "outputs": [
    {
     "name": "stdout",
     "output_type": "stream",
     "text": [
      "2 in list one\n"
     ]
    }
   ],
   "source": [
    "v = eval(input(\"Enter a number: \"))\n",
    "if v in total[0]:\n",
    "    print(v, \"in list one\")\n",
    "elif v in total[1]:\n",
    "    print(v, \"in list two\")\n",
    "elif v in total[2]:\n",
    "    print(v, \"in list three\")\n",
    "else:\n",
    "    print(\"not in any list\")"
   ]
  },
  {
   "cell_type": "code",
   "execution_count": null,
   "metadata": {},
   "outputs": [],
   "source": []
  }
 ],
 "metadata": {
  "kernelspec": {
   "display_name": "vars",
   "language": "python",
   "name": "vars"
  },
  "language_info": {
   "codemirror_mode": {
    "name": "ipython",
    "version": 3
   },
   "file_extension": ".py",
   "mimetype": "text/x-python",
   "name": "python",
   "nbconvert_exporter": "python",
   "pygments_lexer": "ipython3",
   "version": "3.8.5"
  }
 },
 "nbformat": 4,
 "nbformat_minor": 2
}
