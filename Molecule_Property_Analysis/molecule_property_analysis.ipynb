{
 "cells": [
  {
   "cell_type": "markdown",
   "metadata": {},
   "source": [
    "# Packages install & import\n",
    "Installing rdkit and pyg"
   ]
  },
  {
   "cell_type": "code",
   "execution_count": 1,
   "metadata": {},
   "outputs": [
    {
     "name": "stdout",
     "output_type": "stream",
     "text": [
      "Requirement already satisfied: rdkit-pypi in c:\\users\\aishi\\appdata\\local\\programs\\python\\python311\\lib\\site-packages (2022.9.5)\n",
      "Requirement already satisfied: numpy in c:\\users\\aishi\\appdata\\local\\programs\\python\\python311\\lib\\site-packages (from rdkit-pypi) (1.24.1)\n",
      "Requirement already satisfied: Pillow in c:\\users\\aishi\\appdata\\local\\programs\\python\\python311\\lib\\site-packages (from rdkit-pypi) (10.0.0)\n",
      "Note: you may need to restart the kernel to use updated packages.\n"
     ]
    }
   ],
   "source": [
    "%pip install rdkit-pypi"
   ]
  },
  {
   "cell_type": "code",
   "execution_count": 2,
   "metadata": {},
   "outputs": [
    {
     "name": "stdout",
     "output_type": "stream",
     "text": [
      "Looking in links: https://data.pyg.org/whl/torch-2.2.2+cpu.htmlNote: you may need to restart the kernel to use updated packages.\n",
      "\n",
      "Requirement already satisfied: torch-scatter in c:\\users\\aishi\\appdata\\local\\programs\\python\\python311\\lib\\site-packages (2.1.2+pt22cpu)\n",
      "Requirement already satisfied: torch-sparse in c:\\users\\aishi\\appdata\\local\\programs\\python\\python311\\lib\\site-packages (0.6.18+pt22cpu)\n",
      "Requirement already satisfied: torch-cluster in c:\\users\\aishi\\appdata\\local\\programs\\python\\python311\\lib\\site-packages (1.6.3+pt22cpu)\n",
      "Requirement already satisfied: torch-spline-conv in c:\\users\\aishi\\appdata\\local\\programs\\python\\python311\\lib\\site-packages (1.2.2+pt22cpu)\n",
      "Requirement already satisfied: torch-geometric in c:\\users\\aishi\\appdata\\local\\programs\\python\\python311\\lib\\site-packages (2.5.3)\n",
      "Requirement already satisfied: scipy in c:\\users\\aishi\\appdata\\local\\programs\\python\\python311\\lib\\site-packages (from torch-sparse) (1.10.0)\n",
      "Requirement already satisfied: tqdm in c:\\users\\aishi\\appdata\\local\\programs\\python\\python311\\lib\\site-packages (from torch-geometric) (4.64.1)\n",
      "Requirement already satisfied: numpy in c:\\users\\aishi\\appdata\\local\\programs\\python\\python311\\lib\\site-packages (from torch-geometric) (1.24.1)\n",
      "Requirement already satisfied: fsspec in c:\\users\\aishi\\appdata\\local\\programs\\python\\python311\\lib\\site-packages (from torch-geometric) (2024.3.1)\n",
      "Requirement already satisfied: jinja2 in c:\\users\\aishi\\appdata\\local\\programs\\python\\python311\\lib\\site-packages (from torch-geometric) (3.1.2)\n",
      "Requirement already satisfied: aiohttp in c:\\users\\aishi\\appdata\\local\\programs\\python\\python311\\lib\\site-packages (from torch-geometric) (3.9.3)\n",
      "Requirement already satisfied: requests in c:\\users\\aishi\\appdata\\local\\programs\\python\\python311\\lib\\site-packages (from torch-geometric) (2.31.0)\n",
      "Requirement already satisfied: pyparsing in c:\\users\\aishi\\appdata\\local\\programs\\python\\python311\\lib\\site-packages (from torch-geometric) (3.0.9)\n",
      "Requirement already satisfied: scikit-learn in c:\\users\\aishi\\appdata\\local\\programs\\python\\python311\\lib\\site-packages (from torch-geometric) (1.2.1)\n",
      "Requirement already satisfied: psutil>=5.8.0 in c:\\users\\aishi\\appdata\\local\\programs\\python\\python311\\lib\\site-packages (from torch-geometric) (5.9.6)\n",
      "Requirement already satisfied: aiosignal>=1.1.2 in c:\\users\\aishi\\appdata\\local\\programs\\python\\python311\\lib\\site-packages (from aiohttp->torch-geometric) (1.3.1)\n",
      "Requirement already satisfied: attrs>=17.3.0 in c:\\users\\aishi\\appdata\\local\\programs\\python\\python311\\lib\\site-packages (from aiohttp->torch-geometric) (23.1.0)\n",
      "Requirement already satisfied: frozenlist>=1.1.1 in c:\\users\\aishi\\appdata\\local\\programs\\python\\python311\\lib\\site-packages (from aiohttp->torch-geometric) (1.4.1)\n",
      "Requirement already satisfied: multidict<7.0,>=4.5 in c:\\users\\aishi\\appdata\\local\\programs\\python\\python311\\lib\\site-packages (from aiohttp->torch-geometric) (6.0.5)\n",
      "Requirement already satisfied: yarl<2.0,>=1.0 in c:\\users\\aishi\\appdata\\local\\programs\\python\\python311\\lib\\site-packages (from aiohttp->torch-geometric) (1.9.4)\n",
      "Requirement already satisfied: MarkupSafe>=2.0 in c:\\users\\aishi\\appdata\\local\\programs\\python\\python311\\lib\\site-packages (from jinja2->torch-geometric) (2.1.3)\n",
      "Requirement already satisfied: charset-normalizer<4,>=2 in c:\\users\\aishi\\appdata\\local\\programs\\python\\python311\\lib\\site-packages (from requests->torch-geometric) (3.0.1)\n",
      "Requirement already satisfied: idna<4,>=2.5 in c:\\users\\aishi\\appdata\\local\\programs\\python\\python311\\lib\\site-packages (from requests->torch-geometric) (3.4)\n",
      "Requirement already satisfied: urllib3<3,>=1.21.1 in c:\\users\\aishi\\appdata\\local\\programs\\python\\python311\\lib\\site-packages (from requests->torch-geometric) (1.26.14)\n",
      "Requirement already satisfied: certifi>=2017.4.17 in c:\\users\\aishi\\appdata\\local\\programs\\python\\python311\\lib\\site-packages (from requests->torch-geometric) (2022.12.7)\n",
      "Requirement already satisfied: joblib>=1.1.1 in c:\\users\\aishi\\appdata\\local\\programs\\python\\python311\\lib\\site-packages (from scikit-learn->torch-geometric) (1.2.0)\n",
      "Requirement already satisfied: threadpoolctl>=2.0.0 in c:\\users\\aishi\\appdata\\local\\programs\\python\\python311\\lib\\site-packages (from scikit-learn->torch-geometric) (3.1.0)\n",
      "Requirement already satisfied: colorama in c:\\users\\aishi\\appdata\\local\\programs\\python\\python311\\lib\\site-packages (from tqdm->torch-geometric) (0.4.6)\n"
     ]
    }
   ],
   "source": [
    "# Install PyTorch Geometric and its dependencies\n",
    "\n",
    "import torch\n",
    "pyg_url = f\"https://data.pyg.org/whl/torch-{torch.__version__}.html\"\n",
    "%pip install torch-scatter torch-sparse torch-cluster torch-spline-conv torch-geometric -f $pyg_url"
   ]
  },
  {
   "cell_type": "markdown",
   "metadata": {},
   "source": [
    "# Import"
   ]
  },
  {
   "cell_type": "code",
   "execution_count": 3,
   "metadata": {},
   "outputs": [],
   "source": [
    "# Import necessary libraries\n",
    "\n",
    "import sys\n",
    "import urllib.request\n",
    "from collections import defaultdict\n",
    "\n",
    "import numpy as np\n",
    "import pandas as pd\n",
    "import matplotlib.pyplot as plt\n",
    "import networkx as nx\n",
    "from tqdm.notebook import tqdm\n",
    "\n",
    "from rdkit import Chem\n",
    "from rdkit.Chem import AllChem, Draw\n",
    "from rdkit.Chem.Draw import IPythonConsole\n",
    "\n",
    "import torch.nn as nn\n",
    "import torch.nn.functional as F\n",
    "from torch.utils.data import Dataset, Subset\n",
    "\n",
    "from torch_geometric.data import Data\n",
    "from torch_geometric.loader import DataLoader\n",
    "from torch_geometric.utils import to_networkx\n"
   ]
  },
  {
   "cell_type": "code",
   "execution_count": 4,
   "metadata": {},
   "outputs": [
    {
     "name": "stderr",
     "output_type": "stream",
     "text": [
      "  % Total    % Received % Xferd  Average Speed   Time    Time     Time  Current\n",
      "                                 Dload  Upload   Total   Spent    Left  Speed\n",
      "\n",
      "  0     0    0     0    0     0      0      0 --:--:-- --:--:-- --:--:--     0\n",
      "  0     0    0     0    0     0      0      0 --:--:-- --:--:-- --:--:--     0\n",
      "100  7540  100  7540    0     0  14705      0 --:--:-- --:--:-- --:--:-- 14755\n"
     ]
    }
   ],
   "source": [
    "!curl -O https://raw.githubusercontent.com/itakigawa/mpl_rdkit_utils/main/mpl_rdkit_utils.py\n",
    "\n",
    "from mpl_rdkit_utils import DrawMolToMPL\n",
    "\n",
    "# Function to plot molecular graphs using NetworkX and RDKit\n",
    "\n",
    "def plot_mol_graph(graph, figsize=(8, 4), edge_label=True):\n",
    "  g = to_networkx(graph, to_undirected=True)  #Convert PyG graph to NetworkX graph\n",
    "  edge_dict = defaultdict(list)\n",
    "  for i, e in enumerate(zip(*graph.edge_index.tolist())):\n",
    "    u, v = e\n",
    "    edge_dict[(u, v)].append(i)\n",
    "    edge_dict[(v, u)].append(i)\n",
    "  labels = {e: \"{},{}\".format(*edge_dict[e]) for e in g.edges}\n",
    "\n",
    "  mol = graph.mol\n",
    "  AllChem.Compute2DCoords(mol) # Compute 2D coordinates for the molecule\n",
    "  pos = mol.GetConformers()[0].GetPositions()[:,:2]\n",
    "\n",
    "  fig, ax = plt.subplots(1, 2, figsize=figsize)\n",
    "  node_size=300\n",
    "  nx.draw_networkx(g, pos, ax=ax[0], node_color='#eee', \\\n",
    "                   node_size=node_size, edgecolors='k')\n",
    "  if edge_label:\n",
    "    nx.draw_networkx_edge_labels(g, pos, ax=ax[0], edge_labels=labels,\\\n",
    "                                font_color='blue', rotate=False)\n",
    "  dpi = plt.rcParams[\"figure.dpi\"]\n",
    "  node_radius = (node_size / 3.14159265359)**0.5 / dpi\n",
    "  ax[0].set_axis_off()\n",
    "  ax[0].set_aspect('equal')\n",
    "  xmin, xmax = ax[0].get_xlim()\n",
    "  ymin, ymax = ax[0].get_ylim()\n",
    "  fs = min(*figsize)\n",
    "  xr = node_radius * fs\n",
    "  yr = node_radius * fs\n",
    "  ax[0].set_xlim(xmin-xr, xmax+xr)\n",
    "  ax[0].set_ylim(ymin-yr, ymax+yr)\n",
    "\n",
    "  (xmin, xmax), (ymin, ymax) = DrawMolToMPL(mol, fig, ax[1])\n",
    "  ax[1].set_xlim(xmin, xmax)\n",
    "  ax[1].set_ylim(ymin, ymax)\n",
    "  ax[1].get_xaxis().set_visible(False)\n",
    "  ax[1].get_yaxis().set_visible(False)\n",
    "  plt.tight_layout()\n",
    "  plt.show()"
   ]
  },
  {
   "cell_type": "markdown",
   "metadata": {},
   "source": [
    "# Data Loading"
   ]
  },
  {
   "cell_type": "code",
   "execution_count": 5,
   "metadata": {},
   "outputs": [],
   "source": [
    "# Downloading data\n",
    "infile_name = './input.smi'\n",
    "key = \"nr-arsmiles\"\n",
    "url = \"https://tripod.nih.gov/tox21/challenge/download?id={}\".format(key)\n",
    "urllib.request.urlretrieve(url, infile_name)\n",
    "\n",
    "# Load the data into a pandas DataFrame and then save it as CSV\n",
    "df = pd.read_csv(infile_name, delim_whitespace=True, header=None)\n",
    "df.columns = ['smiles', 'id', 'response']\n",
    "df.to_csv('input.csv')"
   ]
  },
  {
   "cell_type": "code",
   "execution_count": 6,
   "metadata": {},
   "outputs": [
    {
     "data": {
      "text/html": [
       "<div>\n",
       "<style scoped>\n",
       "    .dataframe tbody tr th:only-of-type {\n",
       "        vertical-align: middle;\n",
       "    }\n",
       "\n",
       "    .dataframe tbody tr th {\n",
       "        vertical-align: top;\n",
       "    }\n",
       "\n",
       "    .dataframe thead th {\n",
       "        text-align: right;\n",
       "    }\n",
       "</style>\n",
       "<table border=\"1\" class=\"dataframe\">\n",
       "  <thead>\n",
       "    <tr style=\"text-align: right;\">\n",
       "      <th></th>\n",
       "      <th>smiles</th>\n",
       "      <th>id</th>\n",
       "      <th>response</th>\n",
       "    </tr>\n",
       "  </thead>\n",
       "  <tbody>\n",
       "    <tr>\n",
       "      <th>0</th>\n",
       "      <td>CC(O)=O.CCNC(=O)[C@@H]1CCCN1C(=O)[C@H](CCCNC(N...</td>\n",
       "      <td>NCGC00167516-01</td>\n",
       "      <td>0</td>\n",
       "    </tr>\n",
       "    <tr>\n",
       "      <th>1</th>\n",
       "      <td>Cl.CCCCCCOC1=CC=C(C(=N)N(CCCC)CCCC)C2=C1C=CC=C2</td>\n",
       "      <td>NCGC00181091-01</td>\n",
       "      <td>0</td>\n",
       "    </tr>\n",
       "    <tr>\n",
       "      <th>2</th>\n",
       "      <td>Cl.Cl.COCC(=O)O[C@]3(CCN(C)CCCC1=NC2=C(N1)C=CC...</td>\n",
       "      <td>NCGC00094089-01</td>\n",
       "      <td>0</td>\n",
       "    </tr>\n",
       "    <tr>\n",
       "      <th>3</th>\n",
       "      <td>Cl.Cl.CCCCC(CC)CNC(=N)NC(=N)NCCCCCCNC(=N)NC(=N...</td>\n",
       "      <td>NCGC00094996-01</td>\n",
       "      <td>0</td>\n",
       "    </tr>\n",
       "    <tr>\n",
       "      <th>4</th>\n",
       "      <td>[Br-].CCCCCCCCCCCC[N+](C)(C)CCOC1=CC=CC=C1</td>\n",
       "      <td>NCGC00257773-01</td>\n",
       "      <td>0</td>\n",
       "    </tr>\n",
       "  </tbody>\n",
       "</table>\n",
       "</div>"
      ],
      "text/plain": [
       "                                              smiles               id  \\\n",
       "0  CC(O)=O.CCNC(=O)[C@@H]1CCCN1C(=O)[C@H](CCCNC(N...  NCGC00167516-01   \n",
       "1    Cl.CCCCCCOC1=CC=C(C(=N)N(CCCC)CCCC)C2=C1C=CC=C2  NCGC00181091-01   \n",
       "2  Cl.Cl.COCC(=O)O[C@]3(CCN(C)CCCC1=NC2=C(N1)C=CC...  NCGC00094089-01   \n",
       "3  Cl.Cl.CCCCC(CC)CNC(=N)NC(=N)NCCCCCCNC(=N)NC(=N...  NCGC00094996-01   \n",
       "4         [Br-].CCCCCCCCCCCC[N+](C)(C)CCOC1=CC=CC=C1  NCGC00257773-01   \n",
       "\n",
       "   response  \n",
       "0         0  \n",
       "1         0  \n",
       "2         0  \n",
       "3         0  \n",
       "4         0  "
      ]
     },
     "execution_count": 6,
     "metadata": {},
     "output_type": "execute_result"
    }
   ],
   "source": [
    "df.head()"
   ]
  },
  {
   "cell_type": "code",
   "execution_count": 7,
   "metadata": {},
   "outputs": [],
   "source": [
    "df = pd.read_csv('input.csv', index_col=0)\n",
    "# Convert a SMILES string to a molecule object and then we visualize it\n",
    "smi = df['smiles'][9315]\n",
    "mol = Chem.MolFromSmiles(smi)"
   ]
  },
  {
   "cell_type": "code",
   "execution_count": 8,
   "metadata": {},
   "outputs": [
    {
     "data": {
      "text/plain": [
       "'OCCCO'"
      ]
     },
     "execution_count": 8,
     "metadata": {},
     "output_type": "execute_result"
    }
   ],
   "source": [
    "smi"
   ]
  },
  {
   "cell_type": "code",
   "execution_count": 9,
   "metadata": {},
   "outputs": [
    {
     "data": {
      "image/png": "[encoded data removed]",
      "text/plain": [
       "<rdkit.Chem.rdchem.Mol at 0x2440ce2e490>"
      ]
     },
     "execution_count": 9,
     "metadata": {},
     "output_type": "execute_result"
    }
   ],
   "source": [
    "mol"
   ]
  },
  {
   "cell_type": "code",
   "execution_count": 10,
   "metadata": {},
   "outputs": [
    {
     "data": {
      "text/plain": [
       "(9362, 3)"
      ]
     },
     "execution_count": 10,
     "metadata": {},
     "output_type": "execute_result"
    }
   ],
   "source": [
    "df.shape"
   ]
  },
  {
   "cell_type": "markdown",
   "metadata": {},
   "source": [
    "# Molecular Graphs for pyg"
   ]
  },
  {
   "cell_type": "code",
   "execution_count": 11,
   "metadata": {},
   "outputs": [],
   "source": [
    "# Create edge indices for the molecular graph\n",
    "edges = []\n",
    "for bond in mol.GetBonds():\n",
    "  i = bond.GetBeginAtomIdx()\n",
    "  j = bond.GetEndAtomIdx()\n",
    "  edges.extend([(i,j), (j,i)])"
   ]
  },
  {
   "cell_type": "code",
   "execution_count": 12,
   "metadata": {},
   "outputs": [],
   "source": [
    "edge_index = list(zip(*edges))"
   ]
  },
  {
   "cell_type": "code",
   "execution_count": 13,
   "metadata": {},
   "outputs": [
    {
     "data": {
      "text/plain": [
       "[(0, 1, 1, 2, 2, 3, 3, 4), (1, 0, 2, 1, 3, 2, 4, 3)]"
      ]
     },
     "execution_count": 13,
     "metadata": {},
     "output_type": "execute_result"
    }
   ],
   "source": [
    "edge_index\n"
   ]
  },
  {
   "cell_type": "code",
   "execution_count": 14,
   "metadata": {},
   "outputs": [],
   "source": [
    "# Functions to extract the features from atoms and bonds\n",
    "\n",
    "def atom_feature(atom):\n",
    "  return [atom.GetAtomicNum(),\n",
    "          atom.GetDegree(),\n",
    "          atom.GetNumImplicitHs(),\n",
    "          atom.GetIsAromatic()]\n",
    "\n",
    "def bond_feature(bond):\n",
    "  return [bond.GetBondType(),\n",
    "          bond.GetStereo()]"
   ]
  },
  {
   "cell_type": "code",
   "execution_count": 15,
   "metadata": {},
   "outputs": [],
   "source": [
    "# Extract node and edge features for the molecule\n",
    "node_features = [atom_feature(a) for a in mol.GetAtoms()]\n",
    "edge_features = [bond_feature(b) for b in mol.GetBonds()]"
   ]
  },
  {
   "cell_type": "code",
   "execution_count": 16,
   "metadata": {},
   "outputs": [],
   "source": [
    "# Create a PyG Data object for the molecule\n",
    "\n",
    "g = Data(edge_index=torch.LongTensor(edge_index),\n",
    "         x=torch.FloatTensor(node_features),\n",
    "         edge_attr=torch.FloatTensor(edge_features),\n",
    "         smiles=smi,\n",
    "         mol=mol)"
   ]
  },
  {
   "cell_type": "code",
   "execution_count": 17,
   "metadata": {},
   "outputs": [
    {
     "data": {
      "text/plain": [
       "Data(x=[5, 4], edge_index=[2, 8], edge_attr=[4, 2], smiles='OCCCO', mol=<rdkit.Chem.rdchem.Mol object at 0x000002440CE2E490>)"
      ]
     },
     "execution_count": 17,
     "metadata": {},
     "output_type": "execute_result"
    }
   ],
   "source": [
    "g"
   ]
  },
  {
   "cell_type": "code",
   "execution_count": 18,
   "metadata": {},
   "outputs": [
    {
     "data": {
      "image/png": "[encoded data removed]",
      "text/plain": [
       "<Figure size 800x400 with 2 Axes>"
      ]
     },
     "metadata": {},
     "output_type": "display_data"
    }
   ],
   "source": [
    "# Plot the molecular graph\n",
    "\n",
    "plot_mol_graph(g)"
   ]
  },
  {
   "cell_type": "code",
   "execution_count": 19,
   "metadata": {},
   "outputs": [],
   "source": [
    "# Function to convert a SMILES string to a PyG Data object\n",
    "\n",
    "def smi_to_pyg(smi, y):\n",
    "    mol = Chem.MolFromSmiles(smi)\n",
    "    if mol is None:\n",
    "      return None\n",
    "\n",
    "    id_pairs = ((b.GetBeginAtomIdx(), b.GetEndAtomIdx()) for b in mol.GetBonds())\n",
    "    atom_pairs = [z for (i, j) in id_pairs for z in ((i, j), (j, i))]\n",
    "\n",
    "    bonds = (mol.GetBondBetweenAtoms(i, j) for (i, j) in atom_pairs)\n",
    "    atom_features = [atom_feature(a) for a in mol.GetAtoms()]\n",
    "    bond_features = [bond_feature(b) for b in bonds]\n",
    "\n",
    "    return Data(edge_index=torch.LongTensor(list(zip(*atom_pairs))),\n",
    "                x=torch.FloatTensor(atom_features),\n",
    "                edge_attr=torch.FloatTensor(bond_features),\n",
    "                y=torch.LongTensor([y]),\n",
    "                mol=mol,\n",
    "                smiles=smi)"
   ]
  },
  {
   "cell_type": "code",
   "execution_count": 20,
   "metadata": {},
   "outputs": [],
   "source": [
    "# Custom dataset class for PyG\n",
    "\n",
    "class MyDataset(Dataset):\n",
    "  def __init__(self, smiles, response):\n",
    "    mols = [smi_to_pyg(smi, y) for smi, y in \\\n",
    "            tqdm(zip(smiles, response), total=len(smiles))]\n",
    "    self.X = [m for m in mols if m]\n",
    "\n",
    "  def __getitem__(self, idx):\n",
    "    return self.X[idx]\n",
    "\n",
    "  def __len__(self):\n",
    "    return len(self.X)"
   ]
  },
  {
   "cell_type": "code",
   "execution_count": 21,
   "metadata": {},
   "outputs": [
    {
     "data": {
      "application/vnd.jupyter.widget-view+json": {
       "model_id": "b7893c5669b4410b94f7bf9ad51ff81b",
       "version_major": 2,
       "version_minor": 0
      },
      "text/plain": [
       "  0%|          | 0/9362 [00:00<?, ?it/s]"
      ]
     },
     "metadata": {},
     "output_type": "display_data"
    },
    {
     "name": "stderr",
     "output_type": "stream",
     "text": [
      "[23:15:08] Explicit valence for atom # 3 Si, 8, is greater than permitted\n",
      "[23:15:09] Explicit valence for atom # 0 Cl, 2, is greater than permitted\n",
      "[23:15:10] Explicit valence for atom # 2 Cl, 2, is greater than permitted\n",
      "[23:15:11] WARNING: not removing hydrogen atom without neighbors\n",
      "[23:15:11] Explicit valence for atom # 3 Si, 8, is greater than permitted\n"
     ]
    }
   ],
   "source": [
    "base_dataset = MyDataset(df['smiles'], df['response'])"
   ]
  },
  {
   "cell_type": "code",
   "execution_count": 22,
   "metadata": {},
   "outputs": [
    {
     "data": {
      "image/png": "[encoded data removed]",
      "text/plain": [
       "<Figure size 600x300 with 2 Axes>"
      ]
     },
     "metadata": {},
     "output_type": "display_data"
    }
   ],
   "source": [
    "# Load a molecule graph from the dataset and plot it\n",
    "\n",
    "g = base_dataset[8824]\n",
    "plot_mol_graph(g, figsize=(6, 3), edge_label=True)"
   ]
  },
  {
   "cell_type": "code",
   "execution_count": 23,
   "metadata": {},
   "outputs": [
    {
     "data": {
      "text/plain": [
       "Data(x=[7, 4], edge_index=[2, 12], edge_attr=[12, 2], y=[1], mol=<rdkit.Chem.rdchem.Mol object at 0x000002441781C6D0>, smiles='COP(N)(=O)SC')"
      ]
     },
     "execution_count": 23,
     "metadata": {},
     "output_type": "execute_result"
    }
   ],
   "source": [
    "g"
   ]
  },
  {
   "cell_type": "code",
   "execution_count": 24,
   "metadata": {},
   "outputs": [
    {
     "data": {
      "text/plain": [
       "tensor([[ 6.,  1.,  3.,  0.],\n",
       "        [ 8.,  2.,  0.,  0.],\n",
       "        [15.,  4.,  0.,  0.],\n",
       "        [ 7.,  1.,  2.,  0.],\n",
       "        [ 8.,  1.,  0.,  0.],\n",
       "        [16.,  2.,  0.,  0.],\n",
       "        [ 6.,  1.,  3.,  0.]])"
      ]
     },
     "execution_count": 24,
     "metadata": {},
     "output_type": "execute_result"
    }
   ],
   "source": [
    "g.x"
   ]
  },
  {
   "cell_type": "code",
   "execution_count": 25,
   "metadata": {},
   "outputs": [
    {
     "data": {
      "text/plain": [
       "tensor([[1., 0.],\n",
       "        [1., 0.],\n",
       "        [1., 0.],\n",
       "        [1., 0.],\n",
       "        [1., 0.],\n",
       "        [1., 0.],\n",
       "        [2., 0.],\n",
       "        [2., 0.],\n",
       "        [1., 0.],\n",
       "        [1., 0.],\n",
       "        [1., 0.],\n",
       "        [1., 0.]])"
      ]
     },
     "execution_count": 25,
     "metadata": {},
     "output_type": "execute_result"
    }
   ],
   "source": [
    "g.edge_attr"
   ]
  },
  {
   "cell_type": "code",
   "execution_count": 26,
   "metadata": {},
   "outputs": [
    {
     "data": {
      "text/plain": [
       "tensor([[0, 1, 1, 2, 2, 3, 2, 4, 2, 5, 5, 6],\n",
       "        [1, 0, 2, 1, 3, 2, 4, 2, 5, 2, 6, 5]])"
      ]
     },
     "execution_count": 26,
     "metadata": {},
     "output_type": "execute_result"
    }
   ],
   "source": [
    "g.edge_index"
   ]
  },
  {
   "cell_type": "markdown",
   "metadata": {},
   "source": [
    "# Train, Val & Test Split"
   ]
  },
  {
   "cell_type": "code",
   "execution_count": 27,
   "metadata": {},
   "outputs": [],
   "source": [
    "N = len(base_dataset)\n",
    "M = N // 10\n",
    "\n",
    "indices = np.random.permutation(range(N))\n",
    "\n",
    "idx = {'train': indices[:8*M],\n",
    "      'valid': indices[8*M:9*M],\n",
    "      'test': indices[9*M:]}\n",
    "\n",
    "modes = ['train', 'valid', 'test']"
   ]
  },
  {
   "cell_type": "code",
   "execution_count": 28,
   "metadata": {},
   "outputs": [],
   "source": [
    "dataset = {m: Subset(base_dataset, idx[m]) for m in modes}\n",
    "loader = {m: DataLoader(dataset[m], batch_size=200, shuffle=True) if m == 'train' \\\n",
    "          else DataLoader(dataset[m], batch_size=200) for m in modes}"
   ]
  },
  {
   "cell_type": "markdown",
   "metadata": {},
   "source": [
    "# ECFP4 + Random forest"
   ]
  },
  {
   "cell_type": "code",
   "execution_count": 29,
   "metadata": {},
   "outputs": [],
   "source": [
    "# Random Forest with ECFP4 fingerprints\n",
    "\n",
    "from sklearn.ensemble import RandomForestClassifier\n",
    "from sklearn.metrics import accuracy_score, balanced_accuracy_score, roc_auc_score"
   ]
  },
  {
   "cell_type": "code",
   "execution_count": 30,
   "metadata": {},
   "outputs": [],
   "source": [
    "# Function to compute ECFP4 fingerprints\n",
    "\n",
    "def ECFP4(mol):\n",
    "  return np.asarray(AllChem.GetMorganFingerprintAsBitVect(mol, 2, nBits=2048))"
   ]
  },
  {
   "cell_type": "code",
   "execution_count": 31,
   "metadata": {},
   "outputs": [],
   "source": [
    "# Prepare features and labels for Random Forest\n",
    "\n",
    "X = {m: np.vstack([ECFP4(data.mol) for data in dataset[m]]) for m in modes}\n",
    "y = {m: np.asarray([data.y.numpy() for data in dataset[m]]).flatten() for m in modes}"
   ]
  },
  {
   "cell_type": "code",
   "execution_count": 32,
   "metadata": {},
   "outputs": [
    {
     "data": {
      "text/html": [
       "<style>#sk-container-id-1 {color: black;background-color: white;}#sk-container-id-1 pre{padding: 0;}#sk-container-id-1 div.sk-toggleable {background-color: white;}#sk-container-id-1 label.sk-toggleable__label {cursor: pointer;display: block;width: 100%;margin-bottom: 0;padding: 0.3em;box-sizing: border-box;text-align: center;}#sk-container-id-1 label.sk-toggleable__label-arrow:before {content: \"▸\";float: left;margin-right: 0.25em;color: #696969;}#sk-container-id-1 label.sk-toggleable__label-arrow:hover:before {color: black;}#sk-container-id-1 div.sk-estimator:hover label.sk-toggleable__label-arrow:before {color: black;}#sk-container-id-1 div.sk-toggleable__content {max-height: 0;max-width: 0;overflow: hidden;text-align: left;background-color: #f0f8ff;}#sk-container-id-1 div.sk-toggleable__content pre {margin: 0.2em;color: black;border-radius: 0.25em;background-color: #f0f8ff;}#sk-container-id-1 input.sk-toggleable__control:checked~div.sk-toggleable__content {max-height: 200px;max-width: 100%;overflow: auto;}#sk-container-id-1 input.sk-toggleable__control:checked~label.sk-toggleable__label-arrow:before {content: \"▾\";}#sk-container-id-1 div.sk-estimator input.sk-toggleable__control:checked~label.sk-toggleable__label {background-color: #d4ebff;}#sk-container-id-1 div.sk-label input.sk-toggleable__control:checked~label.sk-toggleable__label {background-color: #d4ebff;}#sk-container-id-1 input.sk-hidden--visually {border: 0;clip: rect(1px 1px 1px 1px);clip: rect(1px, 1px, 1px, 1px);height: 1px;margin: -1px;overflow: hidden;padding: 0;position: absolute;width: 1px;}#sk-container-id-1 div.sk-estimator {font-family: monospace;background-color: #f0f8ff;border: 1px dotted black;border-radius: 0.25em;box-sizing: border-box;margin-bottom: 0.5em;}#sk-container-id-1 div.sk-estimator:hover {background-color: #d4ebff;}#sk-container-id-1 div.sk-parallel-item::after {content: \"\";width: 100%;border-bottom: 1px solid gray;flex-grow: 1;}#sk-container-id-1 div.sk-label:hover label.sk-toggleable__label {background-color: #d4ebff;}#sk-container-id-1 div.sk-serial::before {content: \"\";position: absolute;border-left: 1px solid gray;box-sizing: border-box;top: 0;bottom: 0;left: 50%;z-index: 0;}#sk-container-id-1 div.sk-serial {display: flex;flex-direction: column;align-items: center;background-color: white;padding-right: 0.2em;padding-left: 0.2em;position: relative;}#sk-container-id-1 div.sk-item {position: relative;z-index: 1;}#sk-container-id-1 div.sk-parallel {display: flex;align-items: stretch;justify-content: center;background-color: white;position: relative;}#sk-container-id-1 div.sk-item::before, #sk-container-id-1 div.sk-parallel-item::before {content: \"\";position: absolute;border-left: 1px solid gray;box-sizing: border-box;top: 0;bottom: 0;left: 50%;z-index: -1;}#sk-container-id-1 div.sk-parallel-item {display: flex;flex-direction: column;z-index: 1;position: relative;background-color: white;}#sk-container-id-1 div.sk-parallel-item:first-child::after {align-self: flex-end;width: 50%;}#sk-container-id-1 div.sk-parallel-item:last-child::after {align-self: flex-start;width: 50%;}#sk-container-id-1 div.sk-parallel-item:only-child::after {width: 0;}#sk-container-id-1 div.sk-dashed-wrapped {border: 1px dashed gray;margin: 0 0.4em 0.5em 0.4em;box-sizing: border-box;padding-bottom: 0.4em;background-color: white;}#sk-container-id-1 div.sk-label label {font-family: monospace;font-weight: bold;display: inline-block;line-height: 1.2em;}#sk-container-id-1 div.sk-label-container {text-align: center;}#sk-container-id-1 div.sk-container {/* jupyter's `normalize.less` sets `[hidden] { display: none; }` but bootstrap.min.css set `[hidden] { display: none !important; }` so we also need the `!important` here to be able to override the default hidden behavior on the sphinx rendered scikit-learn.org. See: https://github.com/scikit-learn/scikit-learn/issues/21755 */display: inline-block !important;position: relative;}#sk-container-id-1 div.sk-text-repr-fallback {display: none;}</style><div id=\"sk-container-id-1\" class=\"sk-top-container\"><div class=\"sk-text-repr-fallback\"><pre>RandomForestClassifier()</pre><b>In a Jupyter environment, please rerun this cell to show the HTML representation or trust the notebook. <br />On GitHub, the HTML representation is unable to render, please try loading this page with nbviewer.org.</b></div><div class=\"sk-container\" hidden><div class=\"sk-item\"><div class=\"sk-estimator sk-toggleable\"><input class=\"sk-toggleable__control sk-hidden--visually\" id=\"sk-estimator-id-1\" type=\"checkbox\" checked><label for=\"sk-estimator-id-1\" class=\"sk-toggleable__label sk-toggleable__label-arrow\">RandomForestClassifier</label><div class=\"sk-toggleable__content\"><pre>RandomForestClassifier()</pre></div></div></div></div></div>"
      ],
      "text/plain": [
       "RandomForestClassifier()"
      ]
     },
     "execution_count": 32,
     "metadata": {},
     "output_type": "execute_result"
    }
   ],
   "source": [
    "# Train and evaluate Random Forest model\n",
    "\n",
    "model = RandomForestClassifier()\n",
    "model.fit(X['train'], y['train'])"
   ]
  },
  {
   "cell_type": "code",
   "execution_count": 33,
   "metadata": {},
   "outputs": [
    {
     "name": "stdout",
     "output_type": "stream",
     "text": [
      "valid accuracy_score 0.984\n",
      "valid balanced_accuracy_score 0.802\n",
      "valid roc_auc_score 0.802\n",
      "test accuracy_score 0.971\n",
      "test balanced_accuracy_score 0.768\n",
      "test roc_auc_score 0.768\n"
     ]
    }
   ],
   "source": [
    "for m in ['valid', 'test']:\n",
    "  y_pred = model.predict(X[m])\n",
    "  for metric in [accuracy_score, balanced_accuracy_score, roc_auc_score]:\n",
    "    print(\"{} {} {:.3f}\".format(m, metric.__name__, metric(y[m], y_pred)))"
   ]
  },
  {
   "cell_type": "markdown",
   "metadata": {},
   "source": [
    "# AttentiveFP Model"
   ]
  },
  {
   "cell_type": "code",
   "execution_count": 34,
   "metadata": {},
   "outputs": [],
   "source": [
    "from torch_geometric.nn.models import AttentiveFP"
   ]
  },
  {
   "cell_type": "code",
   "execution_count": 35,
   "metadata": {},
   "outputs": [
    {
     "data": {
      "text/plain": [
       "(4, 2)"
      ]
     },
     "execution_count": 35,
     "metadata": {},
     "output_type": "execute_result"
    }
   ],
   "source": [
    "# Get node and edge feature dimensions\n",
    "\n",
    "node_dim = base_dataset[0].num_node_features\n",
    "edge_dim = base_dataset[0].num_edge_features\n",
    "node_dim, edge_dim"
   ]
  },
  {
   "cell_type": "code",
   "execution_count": 36,
   "metadata": {},
   "outputs": [
    {
     "data": {
      "text/plain": [
       "device(type='cpu')"
      ]
     },
     "execution_count": 36,
     "metadata": {},
     "output_type": "execute_result"
    }
   ],
   "source": [
    "# Use GPU if available else use CPU\n",
    "\n",
    "device = torch.device('cuda' if torch.cuda.is_available() else 'cpu')\n",
    "device"
   ]
  },
  {
   "cell_type": "code",
   "execution_count": 37,
   "metadata": {},
   "outputs": [],
   "source": [
    "# Initialize AttentiveFP model\n",
    "\n",
    "model = AttentiveFP(out_channels=2, # active or inactive\n",
    "                    in_channels=node_dim, edge_dim=edge_dim,\n",
    "                    hidden_channels=200, num_layers=3, num_timesteps=2,\n",
    "                    dropout=0.2)\n",
    "model = model.to(device)"
   ]
  },
  {
   "cell_type": "code",
   "execution_count": 38,
   "metadata": {},
   "outputs": [],
   "source": [
    "train_epochs = 100\n",
    "# Optimizer and loss function\n",
    "\n",
    "optimizer = torch.optim.AdamW(model.parameters(), lr=1e-5)\n",
    "scheduler = torch.optim.lr_scheduler.OneCycleLR(optimizer, max_lr=1e-3, \\\n",
    "                                                steps_per_epoch=len(loader['train']),\n",
    "                                                epochs=train_epochs)\n",
    "criterion = nn.CrossEntropyLoss()"
   ]
  },
  {
   "cell_type": "code",
   "execution_count": 39,
   "metadata": {},
   "outputs": [],
   "source": [
    "# Functions to compute loss for training and validation\n",
    "\n",
    "def train(loader):\n",
    "    total_loss = total_examples = 0\n",
    "    for data in loader:\n",
    "        data = data.to(device)\n",
    "        optimizer.zero_grad()\n",
    "        out = model(data.x, data.edge_index, data.edge_attr, data.batch)\n",
    "        loss = criterion(out, data.y)\n",
    "        loss.backward()\n",
    "        optimizer.step()\n",
    "        scheduler.step()\n",
    "        total_loss += loss.item()\n",
    "        total_examples += data.num_graphs\n",
    "    return total_loss / total_examples\n",
    "\n",
    "@torch.no_grad()\n",
    "def test(loader):\n",
    "    total_loss = total_examples = 0\n",
    "    for data in loader:\n",
    "        data = data.to(device)\n",
    "        out = model(data.x, data.edge_index, data.edge_attr, data.batch)\n",
    "        loss = criterion(out, data.y)\n",
    "        total_loss += loss.item()\n",
    "        total_examples += data.num_graphs\n",
    "    return total_loss / total_examples\n",
    "\n",
    "@torch.no_grad()\n",
    "def predict(loader):\n",
    "    y_pred = []\n",
    "    y_true = []\n",
    "    for data in loader:\n",
    "        data = data.to(device)\n",
    "        out = model(data.x, data.edge_index, data.edge_attr, data.batch)\n",
    "        _, predicted = torch.max(out.data, 1)\n",
    "        y_true.extend(data.y.cpu().numpy())\n",
    "        y_pred.extend(predicted.cpu().numpy())\n",
    "    return y_true, y_pred\n"
   ]
  },
  {
   "cell_type": "code",
   "execution_count": 40,
   "metadata": {},
   "outputs": [
    {
     "data": {
      "application/vnd.jupyter.widget-view+json": {
       "model_id": "9f09aadfa8024e26a610e3c3cd525efa",
       "version_major": 2,
       "version_minor": 0
      },
      "text/plain": [
       "  0%|          | 0/100 [00:00<?, ?it/s]"
      ]
     },
     "metadata": {},
     "output_type": "display_data"
    },
    {
     "name": "stdout",
     "output_type": "stream",
     "text": [
      "Epoch: 020 Loss: train 0.000554 valid 0.000617 test 0.000786\n",
      "Epoch: 040 Loss: train 0.000494 valid 0.000501 test 0.000691\n",
      "Epoch: 060 Loss: train 0.000435 valid 0.000500 test 0.000658\n",
      "Epoch: 080 Loss: train 0.000369 valid 0.000484 test 0.000693\n",
      "Epoch: 100 Loss: train 0.000344 valid 0.000509 test 0.000708\n"
     ]
    }
   ],
   "source": [
    "best_val = float(\"inf\")\n",
    "\n",
    "#Training loop\n",
    "\n",
    "learn_curve = defaultdict(list)\n",
    "func = {'train': train, 'valid': test, 'test': test}\n",
    "\n",
    "for epoch in tqdm(range(1, train_epochs+1)):\n",
    "    loss = {}\n",
    "    for mode in ['train', 'valid', 'test']:\n",
    "      loss[mode] = func[mode](loader[mode])\n",
    "      learn_curve[mode].append(loss[mode])\n",
    "    if loss['valid'] < best_val:\n",
    "      torch.save(model.state_dict(), 'best_val.model')\n",
    "    if epoch % 20 == 0:\n",
    "      print(f'Epoch: {epoch:03d} Loss: ' + ' '.join(\n",
    "          ['{} {:.6f}'.format(m, loss[m]) for m in modes]\n",
    "      ))"
   ]
  },
  {
   "cell_type": "code",
   "execution_count": 41,
   "metadata": {},
   "outputs": [
    {
     "data": {
      "image/png": "[encoded data removed]",
      "text/plain": [
       "<Figure size 640x480 with 1 Axes>"
      ]
     },
     "metadata": {},
     "output_type": "display_data"
    }
   ],
   "source": [
    "# Plot learning curves\n",
    "\n",
    "fig, ax = plt.subplots()\n",
    "for m in modes:\n",
    "  ax.plot(learn_curve[m], label=m)\n",
    "ax.legend()\n",
    "ax.set_xlabel('epochs')\n",
    "ax.set_ylabel('loss')\n",
    "ax.set_yscale('log')\n",
    "plt.show()"
   ]
  },
  {
   "cell_type": "code",
   "execution_count": 42,
   "metadata": {},
   "outputs": [
    {
     "name": "stdout",
     "output_type": "stream",
     "text": [
      "valid accuracy_score 0.981\n",
      "valid balanced_accuracy_score 0.771\n",
      "valid roc_auc_score 0.771\n",
      "test accuracy_score 0.966\n",
      "test balanced_accuracy_score 0.738\n",
      "test roc_auc_score 0.738\n"
     ]
    }
   ],
   "source": [
    "# Evaluate the model\n",
    "\n",
    "model.load_state_dict(torch.load('best_val.model'))\n",
    "\n",
    "for m in ['valid', 'test']:\n",
    "  y_true, y_pred = predict(loader[m])\n",
    "  for metric in [accuracy_score, balanced_accuracy_score, roc_auc_score]:\n",
    "    print(\"{} {} {:.3f}\".format(m, metric.__name__, metric(y_true, y_pred)))"
   ]
  },
  {
   "cell_type": "markdown",
   "metadata": {},
   "source": [
    "# GIN & GATV2 with Edge Attributes"
   ]
  },
  {
   "cell_type": "code",
   "execution_count": 43,
   "metadata": {},
   "outputs": [],
   "source": [
    "from torch_geometric.nn import GINEConv, GATv2Conv, global_add_pool"
   ]
  },
  {
   "cell_type": "code",
   "execution_count": 44,
   "metadata": {},
   "outputs": [],
   "source": [
    "# Function to create GIN or GAT convolution layers with edge attributes\n",
    "\n",
    "def MyConv(node_dim, edge_dim, arch='GIN'):\n",
    "  conv = None\n",
    "  if arch == 'GIN':\n",
    "    # GIN convolution with edge features\n",
    "    h = nn.Sequential(nn.Linear(node_dim, node_dim, bias=True))\n",
    "    conv = GINEConv(h, edge_dim=edge_dim)\n",
    "  elif arch == 'GAT':\n",
    "      # GAT convolution with edge features\n",
    "    conv = GATv2Conv(node_dim, node_dim, edge_dim=edge_dim)\n",
    "  return conv"
   ]
  },
  {
   "cell_type": "code",
   "execution_count": 45,
   "metadata": {},
   "outputs": [],
   "source": [
    "# Custom GNN class using GIN or GAT convolution layers\n",
    "\n",
    "class MyGNN(nn.Module):\n",
    "  def __init__(self, node_dim, edge_dim, arch, num_layers=3):\n",
    "    super().__init__()\n",
    "\n",
    "    # Create a list of convolution layers\n",
    "    layers = [MyConv(node_dim, edge_dim, arch) for _ in range(num_layers)]\n",
    "    self.convs = nn.ModuleList(layers)\n",
    "\n",
    "  def forward(self, x, edge_index, edge_attr):\n",
    "    # Apply each convolution layer followed by LeakyReLU activation\n",
    "    for conv in self.convs:\n",
    "      x = conv(x, edge_index, edge_attr)\n",
    "      x = F.leaky_relu(x)\n",
    "    return x"
   ]
  },
  {
   "cell_type": "code",
   "execution_count": 46,
   "metadata": {},
   "outputs": [
    {
     "data": {
      "text/plain": [
       "[0, 1, 2, 3, 4, 5, 6, 7, 8, 9, 10, 11, 12, 13, 14, 15, 16, 17, 18, 19, 20, 21]"
      ]
     },
     "execution_count": 46,
     "metadata": {},
     "output_type": "execute_result"
    }
   ],
   "source": [
    "# List of integer values for bond types\n",
    "[int(x) for x in Chem.rdchem.BondType.names.values()]"
   ]
  },
  {
   "cell_type": "code",
   "execution_count": 47,
   "metadata": {},
   "outputs": [
    {
     "name": "stdout",
     "output_type": "stream",
     "text": [
      "max id 118 for Og\n"
     ]
    },
    {
     "name": "stderr",
     "output_type": "stream",
     "text": [
      "[23:32:30] \n",
      "\n",
      "****\n",
      "Pre-condition Violation\n",
      "Atomic number not found\n",
      "Violation occurred on line 99 in file C:\\rdkit\\build\\temp.win-amd64-cpython-311\\Release\\rdkit\\Code\\GraphMol\\PeriodicTable.h\n",
      "Failed Expression: atomicNumber < byanum.size()\n",
      "****\n",
      "\n"
     ]
    },
    {
     "data": {
      "text/plain": [
       "'Og'"
      ]
     },
     "execution_count": 47,
     "metadata": {},
     "output_type": "execute_result"
    }
   ],
   "source": [
    "# Periodic table information\n",
    "\n",
    "ptable = Chem.GetPeriodicTable()\n",
    "for i in range(200):\n",
    "  try:\n",
    "    s = ptable.GetElementSymbol(i)\n",
    "  except:\n",
    "    print(f'max id {i-1} for {s}')\n",
    "    break\n",
    "ptable.GetElementSymbol(i-1)"
   ]
  },
  {
   "cell_type": "code",
   "execution_count": 48,
   "metadata": {},
   "outputs": [],
   "source": [
    "# Custom network class with optional one-hot encoding or embedding\n",
    "\n",
    "class MyFinalNetwork(nn.Module):\n",
    "  def __init__(self, node_dim, edge_dim, arch, num_layers=3,\n",
    "               encoding='onehot'):\n",
    "    super().__init__()\n",
    "\n",
    "    self.encoding = encoding\n",
    "    if encoding != 'onehot':\n",
    "      # Use embeddings for atoms and bonds\n",
    "      self.atom_encoder = nn.Embedding(num_embeddings=118+1, embedding_dim=64)\n",
    "      self.bond_encoder = nn.Embedding(num_embeddings=21+1, embedding_dim=8)\n",
    "      node_dim = (node_dim-1) + 64\n",
    "      edge_dim = (edge_dim-1) + 8\n",
    "    else:\n",
    "      # Use one-hot encoding for atoms and bonds\n",
    "      node_dim = (node_dim-1) + 118+1\n",
    "      edge_dim = (edge_dim-1) + 21+1\n",
    "\n",
    "    # Initialize GNN and fully connected layers\n",
    "    self.gnn = MyGNN(node_dim, edge_dim, arch, num_layers=num_layers)\n",
    "    embed_dim = int(node_dim / 2)\n",
    "    self.head = nn.Sequential(\n",
    "        nn.BatchNorm1d(node_dim),\n",
    "        nn.Dropout(p=0.5),\n",
    "        nn.Linear(node_dim, embed_dim, bias=True),\n",
    "        nn.ReLU(),\n",
    "        nn.BatchNorm1d(embed_dim),\n",
    "        nn.Dropout(p=0.5),\n",
    "        nn.Linear(embed_dim, 2)\n",
    "    )\n",
    "  def forward(self, x, edge_index, edge_attr, batch):\n",
    "    if self.encoding == 'onehot':\n",
    "      # One-hot encode atoms and bonds\n",
    "      x0 = F.one_hot(x[:, 0].to(torch.int64), num_classes=118+1)\n",
    "      edge_attr0 = F.one_hot(edge_attr[:, 0].to(torch.int64), num_classes=21+1)\n",
    "    else:\n",
    "      # Embed atoms and bonds\n",
    "      x0 = self.atom_encoder(x[:, 0].int())\n",
    "      edge_attr0 = self.bond_encoder(edge_attr[:, 0].int())\n",
    "\n",
    "    # Concatenate features\n",
    "    x = torch.cat([x0, x[:, 1:]], dim=1)\n",
    "    edge_attr = torch.cat([edge_attr0, edge_attr[:, 1:]], dim=1)\n",
    "\n",
    "    # Pass through GNN and global pooling\n",
    "    node_out = self.gnn(x, edge_index, edge_attr)\n",
    "    graph_out = global_add_pool(node_out, batch)\n",
    "    return self.head(graph_out)"
   ]
  },
  {
   "cell_type": "code",
   "execution_count": 49,
   "metadata": {},
   "outputs": [],
   "source": [
    "# Initialize the model\n",
    "model = MyFinalNetwork(node_dim, edge_dim, arch='GAT', num_layers=3, encoding='embedding')\n",
    "model = model.to(device)"
   ]
  },
  {
   "cell_type": "code",
   "execution_count": 50,
   "metadata": {},
   "outputs": [],
   "source": [
    "# Training parameters\n",
    "\n",
    "train_epochs = 200\n",
    "optimizer = torch.optim.AdamW(model.parameters(), lr=1e-5)\n",
    "scheduler = torch.optim.lr_scheduler.OneCycleLR(optimizer, max_lr=1e-3, \\\n",
    "                                                steps_per_epoch=len(loader['train']),\n",
    "                                                epochs=train_epochs)\n",
    "criterion = nn.CrossEntropyLoss()"
   ]
  },
  {
   "cell_type": "code",
   "execution_count": 51,
   "metadata": {},
   "outputs": [
    {
     "data": {
      "application/vnd.jupyter.widget-view+json": {
       "model_id": "08bd71d573494a729d805fefa60680e1",
       "version_major": 2,
       "version_minor": 0
      },
      "text/plain": [
       "  0%|          | 0/200 [00:00<?, ?it/s]"
      ]
     },
     "metadata": {},
     "output_type": "display_data"
    },
    {
     "name": "stdout",
     "output_type": "stream",
     "text": [
      "Epoch: 020 Loss: train 0.002658 valid 0.002726 test 0.002761\n",
      "Epoch: 040 Loss: train 0.000749 valid 0.000688 test 0.000965\n",
      "Epoch: 060 Loss: train 0.000579 valid 0.000559 test 0.000781\n",
      "Epoch: 080 Loss: train 0.000526 valid 0.000597 test 0.000794\n",
      "Epoch: 100 Loss: train 0.000516 valid 0.000566 test 0.000847\n",
      "Epoch: 120 Loss: train 0.000492 valid 0.000531 test 0.000823\n",
      "Epoch: 140 Loss: train 0.000508 valid 0.000522 test 0.000750\n",
      "Epoch: 160 Loss: train 0.000454 valid 0.000540 test 0.000740\n",
      "Epoch: 180 Loss: train 0.000428 valid 0.000548 test 0.000722\n",
      "Epoch: 200 Loss: train 0.000449 valid 0.000515 test 0.000827\n"
     ]
    }
   ],
   "source": [
    "# Initialize variables for tracking best validation loss and learning curve\n",
    "\n",
    "best_val = float(\"inf\")\n",
    "\n",
    "learn_curve = defaultdict(list)\n",
    "func = {'train': train, 'valid': test, 'test': test}\n",
    "\n",
    "# Training loop\n",
    "for epoch in tqdm(range(1, train_epochs+1)):\n",
    "    loss = {}\n",
    "    for mode in ['train', 'valid', 'test']:\n",
    "      loss[mode] = func[mode](loader[mode])\n",
    "      learn_curve[mode].append(loss[mode])\n",
    "    # Save model if validation loss improves\n",
    "    if loss['valid'] < best_val:\n",
    "      torch.save(model.state_dict(), 'best_val.model')\n",
    "    if epoch % 20 == 0:\n",
    "      print(f'Epoch: {epoch:03d} Loss: ' + ' '.join(\n",
    "          ['{} {:.6f}'.format(m, loss[m]) for m in modes]\n",
    "      ))"
   ]
  },
  {
   "cell_type": "code",
   "execution_count": 52,
   "metadata": {},
   "outputs": [
    {
     "data": {
      "image/png": "[encoded data removed]",
      "text/plain": [
       "<Figure size 640x480 with 1 Axes>"
      ]
     },
     "metadata": {},
     "output_type": "display_data"
    }
   ],
   "source": [
    "# Plot learning curves\n",
    "fig, ax = plt.subplots()\n",
    "for m in modes:\n",
    "  ax.plot(learn_curve[m], label=m)\n",
    "ax.legend()\n",
    "ax.set_xlabel('epochs')\n",
    "ax.set_ylabel('loss')\n",
    "ax.set_yscale('log')\n",
    "plt.show()"
   ]
  },
  {
   "cell_type": "code",
   "execution_count": 53,
   "metadata": {},
   "outputs": [
    {
     "name": "stdout",
     "output_type": "stream",
     "text": [
      "valid accuracy_score 0.979\n",
      "valid balanced_accuracy_score 0.770\n",
      "valid roc_auc_score 0.770\n",
      "test accuracy_score 0.965\n",
      "test balanced_accuracy_score 0.728\n",
      "test roc_auc_score 0.728\n"
     ]
    }
   ],
   "source": [
    "# Load the best model\n",
    "model.load_state_dict(torch.load('best_val.model'))\n",
    "\n",
    "# Evaluate the model on validation and test sets\n",
    "for m in ['valid', 'test']:\n",
    "  y_true, y_pred = predict(loader[m])\n",
    "  for metric in [accuracy_score, balanced_accuracy_score, roc_auc_score]:\n",
    "    print(\"{} {} {:.3f}\".format(m, metric.__name__, metric(y_true, y_pred)))"
   ]
  },
  {
   "cell_type": "code",
   "execution_count": null,
   "metadata": {},
   "outputs": [],
   "source": []
  }
 ],
 "metadata": {
  "kernelspec": {
   "display_name": "Python 3",
   "language": "python",
   "name": "python3"
  },
  "language_info": {
   "codemirror_mode": {
    "name": "ipython",
    "version": 3
   },
   "file_extension": ".py",
   "mimetype": "text/x-python",
   "name": "python",
   "nbconvert_exporter": "python",
   "pygments_lexer": "ipython3",
   "version": "3.11.0"
  }
 },
 "nbformat": 4,
 "nbformat_minor": 2
}
