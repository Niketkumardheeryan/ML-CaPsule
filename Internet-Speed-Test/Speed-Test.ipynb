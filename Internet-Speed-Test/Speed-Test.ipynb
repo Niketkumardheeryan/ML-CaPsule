{
 "cells": [
  {
   "cell_type": "code",
   "execution_count": 6,
   "id": "8afb2916",
   "metadata": {},
   "outputs": [],
   "source": [
    "# To run this program you must install 'speedtest' module by using the following command in your cmd \n",
    "# pip install speedtest-cli\n",
    "\n",
    "import speedtest"
   ]
  },
  {
   "cell_type": "code",
   "execution_count": 7,
   "id": "7b802c34",
   "metadata": {},
   "outputs": [],
   "source": [
    "test = speedtest.Speedtest()"
   ]
  },
  {
   "cell_type": "code",
   "execution_count": 11,
   "id": "6c0614e3",
   "metadata": {},
   "outputs": [
    {
     "name": "stdout",
     "output_type": "stream",
     "text": [
      "loading servers\n"
     ]
    },
    {
     "data": {
      "text/plain": [
       "{6.147633280479978: [{'url': 'http://speedtest6.vodafone.com.eg:8080/speedtest/upload.php',\n",
       "   'lat': '30.0566',\n",
       "   'lon': '31.2262',\n",
       "   'name': 'Cairo',\n",
       "   'country': 'Egypt',\n",
       "   'cc': 'EG',\n",
       "   'sponsor': 'Vodafone Egypt',\n",
       "   'id': '34283',\n",
       "   'host': 'speedtest6.vodafone.com.eg:8080',\n",
       "   'd': 6.147633280479978},\n",
       "  {'url': 'http://speedtest2.tedata.net:8080/speedtest/upload.php',\n",
       "   'lat': '30.0566',\n",
       "   'lon': '31.2262',\n",
       "   'name': 'Cairo',\n",
       "   'country': 'Egypt',\n",
       "   'cc': 'EG',\n",
       "   'sponsor': 'we',\n",
       "   'id': '16139',\n",
       "   'host': 'speedtest2.tedata.net:8080',\n",
       "   'd': 6.147633280479978},\n",
       "  {'url': 'http://speedtestob.orange.eg:8080/speedtest/upload.php',\n",
       "   'lat': '30.0566',\n",
       "   'lon': '31.2262',\n",
       "   'name': 'Cairo',\n",
       "   'country': 'Egypt',\n",
       "   'cc': 'EG',\n",
       "   'sponsor': 'Orange Egypt',\n",
       "   'id': '24409',\n",
       "   'host': 'speedtestob.orange.eg:8080',\n",
       "   'd': 6.147633280479978}],\n",
       " 8.376637962059874: [{'url': 'http://speedtest6.tedata.net:8080/speedtest/upload.php',\n",
       "   'lat': '30.0225',\n",
       "   'lon': '31.2261',\n",
       "   'name': 'El Rawda',\n",
       "   'country': 'Egypt',\n",
       "   'cc': 'EG',\n",
       "   'sponsor': 'Telecom Egypt',\n",
       "   'id': '29440',\n",
       "   'host': 'speedtest6.tedata.net:8080',\n",
       "   'd': 8.376637962059874},\n",
       "  {'url': 'http://sp90.etisalatdata.net:8080/speedtest/upload.php',\n",
       "   'lat': '30.0225',\n",
       "   'lon': '31.2261',\n",
       "   'name': 'El Rawda',\n",
       "   'country': 'Egypt',\n",
       "   'cc': 'EG',\n",
       "   'sponsor': 'Etisalat Misr',\n",
       "   'id': '40845',\n",
       "   'host': 'sp90.etisalatdata.net:8080',\n",
       "   'd': 8.376637962059874}],\n",
       " 10.280784430341338: [{'url': 'http://sp60.etisalatdata.net:8080/speedtest/upload.php',\n",
       "   'lat': '30.0131',\n",
       "   'lon': '31.2089',\n",
       "   'name': 'Giza',\n",
       "   'country': 'Egypt',\n",
       "   'cc': 'EG',\n",
       "   'sponsor': 'Etisalat Misr',\n",
       "   'id': '40394',\n",
       "   'host': 'sp60.etisalatdata.net:8080',\n",
       "   'd': 10.280784430341338},\n",
       "  {'url': 'http://speedtestgz.dsl.orange.eg:8080/speedtest/upload.php',\n",
       "   'lat': '30.0131',\n",
       "   'lon': '31.2089',\n",
       "   'name': 'Giza',\n",
       "   'country': 'Egypt',\n",
       "   'cc': 'EG',\n",
       "   'sponsor': 'Orange DSL',\n",
       "   'id': '44030',\n",
       "   'host': 'speedtestgz.dsl.orange.eg:8080',\n",
       "   'd': 10.280784430341338}],\n",
       " 180.53695066613383: [{'url': 'http://speedtestawd.orange.eg:8080/speedtest/upload.php',\n",
       "   'lat': '31.1980',\n",
       "   'lon': '29.9192',\n",
       "   'name': 'Alexandria',\n",
       "   'country': 'Egypt',\n",
       "   'cc': 'EG',\n",
       "   'sponsor': 'Orange Egypt',\n",
       "   'id': '26790',\n",
       "   'host': 'speedtestawd.orange.eg:8080',\n",
       "   'd': 180.53695066613383},\n",
       "  {'url': 'http://sp30.etisalatdata.net:8080/speedtest/upload.php',\n",
       "   'lat': '31.1980',\n",
       "   'lon': '29.9192',\n",
       "   'name': 'Alexandria',\n",
       "   'country': 'Egypt',\n",
       "   'cc': 'EG',\n",
       "   'sponsor': 'Etisalat Misr',\n",
       "   'id': '15495',\n",
       "   'host': 'sp30.etisalatdata.net:8080',\n",
       "   'd': 180.53695066613383},\n",
       "  {'url': 'http://speedtestalex.dsl.orange.eg:8080/speedtest/upload.php',\n",
       "   'lat': '31.1980',\n",
       "   'lon': '29.9192',\n",
       "   'name': 'Alexandria',\n",
       "   'country': 'Egypt',\n",
       "   'cc': 'EG',\n",
       "   'sponsor': 'Orange DSL',\n",
       "   'id': '46775',\n",
       "   'host': 'speedtestalex.dsl.orange.eg:8080',\n",
       "   'd': 180.53695066613383}]}"
      ]
     },
     "execution_count": 11,
     "metadata": {},
     "output_type": "execute_result"
    }
   ],
   "source": [
    "print(\"loading servers\")\n",
    "test.get_servers() "
   ]
  },
  {
   "cell_type": "code",
   "execution_count": 35,
   "id": "3c1a6ef8",
   "metadata": {},
   "outputs": [
    {
     "name": "stdout",
     "output_type": "stream",
     "text": [
      "Get best server\n",
      "Best server at speedtest6.tedata.net:8080 located at El Rawda,Egypt sponsored by Telecom Egypt\n"
     ]
    }
   ],
   "source": [
    "print(\"Get best server\")\n",
    "best = test.get_best_server() \n",
    "print(f\"Best server at {best['host']} located at {best['name']},{best['country']} sponsored by {best['sponsor']}\")"
   ]
  },
  {
   "cell_type": "code",
   "execution_count": 57,
   "id": "6f9145ea",
   "metadata": {},
   "outputs": [
    {
     "name": "stdout",
     "output_type": "stream",
     "text": [
      "Download speed : 1.40 mbps\n"
     ]
    }
   ],
   "source": [
    "DownloadSpeed = test.download() # The unit will be in bps\n",
    "print(f\"Download speed : {DownloadSpeed /1024/1024:.2f} mbps\")\n",
    "# The above line divided by (1024**2) to convert upload speed in mbps unit"
   ]
  },
  {
   "cell_type": "code",
   "execution_count": 55,
   "id": "6da983c7",
   "metadata": {},
   "outputs": [
    {
     "name": "stdout",
     "output_type": "stream",
     "text": [
      "Download speed : 1.76 mbps\n"
     ]
    }
   ],
   "source": [
    "UploadSpeed = test.upload() # The unit will be in bps\n",
    "print(f\"Download speed : {UploadSpeed /(1024**2):.2f} mbps\")\n",
    "# Here divided by (1024**2) to convert upload speed in mbps unit"
   ]
  },
  {
   "cell_type": "code",
   "execution_count": 56,
   "id": "5c427fef",
   "metadata": {},
   "outputs": [
    {
     "name": "stdout",
     "output_type": "stream",
     "text": [
      "Ping : 45.68 ms\n"
     ]
    }
   ],
   "source": [
    "PingSpeed = test.results.ping\n",
    "print(f\"Ping : {PingSpeed:.2f} ms\")"
   ]
  }
 ],
 "metadata": {
  "kernelspec": {
   "display_name": "Python 3 (ipykernel)",
   "language": "python",
   "name": "python3"
  },
  "language_info": {
   "codemirror_mode": {
    "name": "ipython",
    "version": 3
   },
   "file_extension": ".py",
   "mimetype": "text/x-python",
   "name": "python",
   "nbconvert_exporter": "python",
   "pygments_lexer": "ipython3",
   "version": "3.9.7"
  },
  "varInspector": {
   "cols": {
    "lenName": 16,
    "lenType": 16,
    "lenVar": 40
   },
   "kernels_config": {
    "python": {
     "delete_cmd_postfix": "",
     "delete_cmd_prefix": "del ",
     "library": "var_list.py",
     "varRefreshCmd": "print(var_dic_list())"
    },
    "r": {
     "delete_cmd_postfix": ") ",
     "delete_cmd_prefix": "rm(",
     "library": "var_list.r",
     "varRefreshCmd": "cat(var_dic_list()) "
    }
   },
   "types_to_exclude": [
    "module",
    "function",
    "builtin_function_or_method",
    "instance",
    "_Feature"
   ],
   "window_display": false
  }
 },
 "nbformat": 4,
 "nbformat_minor": 5
}
