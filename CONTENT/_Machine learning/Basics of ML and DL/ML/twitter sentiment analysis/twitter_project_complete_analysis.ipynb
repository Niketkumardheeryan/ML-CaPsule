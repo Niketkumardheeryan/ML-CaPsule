{
 "cells": [
  {
   "cell_type": "markdown",
   "metadata": {},
   "source": [
    "# Loading dataset and performing basic stuff"
   ]
  },
  {
   "cell_type": "code",
   "execution_count": 1,
   "metadata": {},
   "outputs": [],
   "source": [
    "import numpy as np\n",
    "import pandas as pd\n",
    "import matplotlib.pyplot as plt\n",
    "\n",
    "import time\n",
    "\n",
    "from nltk.corpus import wordnet\n",
    "from nltk.tokenize import word_tokenize\n",
    "import random\n",
    "from nltk.corpus import stopwords\n",
    "import string\n",
    "from nltk.stem import WordNetLemmatizer\n",
    "from nltk import pos_tag\n",
    "from sklearn.feature_extraction.text import TfidfVectorizer\n",
    "from sklearn.feature_extraction.text import CountVectorizer\n",
    "\n",
    "from sklearn.model_selection import train_test_split\n",
    "\n",
    "from sklearn.linear_model import LogisticRegression\n",
    "from sklearn.ensemble import RandomForestClassifier\n",
    "from sklearn.tree import DecisionTreeClassifier\n",
    "from sklearn.naive_bayes import BernoulliNB , GaussianNB ,MultinomialNB\n",
    "from sklearn.neighbors import KNeighborsClassifier\n",
    "from sklearn.model_selection import cross_val_score\n",
    "from sklearn.model_selection import KFold\n",
    "from sklearn.svm import SVC\n",
    "from sklearn.svm import LinearSVC\n",
    "from sklearn.model_selection import GridSearchCV\n",
    "from sklearn.linear_model import RidgeClassifier\n",
    "from sklearn.linear_model import LassoCV\n",
    "\n",
    "import warnings\n",
    "warnings.filterwarnings('ignore')"
   ]
  },
  {
   "cell_type": "code",
   "execution_count": 2,
   "metadata": {},
   "outputs": [],
   "source": [
    "df = pd.read_csv('0000000000002747_training_twitter_x_y_train.csv')\n",
    "df = df[['text' , 'airline_sentiment' ]]"
   ]
  },
  {
   "cell_type": "code",
   "execution_count": 3,
   "metadata": {},
   "outputs": [
    {
     "data": {
      "text/plain": [
       "Index(['text', 'airline_sentiment'], dtype='object')"
      ]
     },
     "execution_count": 3,
     "metadata": {},
     "output_type": "execute_result"
    }
   ],
   "source": [
    "df.columns"
   ]
  },
  {
   "cell_type": "code",
   "execution_count": 4,
   "metadata": {},
   "outputs": [
    {
     "data": {
      "text/plain": [
       "(10980, 2)"
      ]
     },
     "execution_count": 4,
     "metadata": {},
     "output_type": "execute_result"
    }
   ],
   "source": [
    "df.shape"
   ]
  },
  {
   "cell_type": "code",
   "execution_count": 5,
   "metadata": {},
   "outputs": [
    {
     "data": {
      "text/plain": [
       "text                 0\n",
       "airline_sentiment    0\n",
       "dtype: int64"
      ]
     },
     "execution_count": 5,
     "metadata": {},
     "output_type": "execute_result"
    }
   ],
   "source": [
    "df.isnull().sum()"
   ]
  },
  {
   "cell_type": "code",
   "execution_count": 6,
   "metadata": {},
   "outputs": [
    {
     "data": {
      "text/plain": [
       "text                 object\n",
       "airline_sentiment    object\n",
       "dtype: object"
      ]
     },
     "execution_count": 6,
     "metadata": {},
     "output_type": "execute_result"
    }
   ],
   "source": [
    "df.dtypes"
   ]
  },
  {
   "cell_type": "markdown",
   "metadata": {},
   "source": [
    "# Tokenizing"
   ]
  },
  {
   "cell_type": "raw",
   "metadata": {},
   "source": [
    "# tokenize : to create separate words from the text"
   ]
  },
  {
   "cell_type": "code",
   "execution_count": 7,
   "metadata": {},
   "outputs": [
    {
     "data": {
      "text/plain": [
       "'@SouthwestAir seeing your workers time in and time out going above and beyond is why I love flying with you guys. Thank you!'"
      ]
     },
     "execution_count": 7,
     "metadata": {},
     "output_type": "execute_result"
    }
   ],
   "source": [
    "df.loc[1][0]"
   ]
  },
  {
   "cell_type": "code",
   "execution_count": 8,
   "metadata": {},
   "outputs": [
    {
     "data": {
      "text/plain": [
       "[(['@',\n",
       "   'SouthwestAir',\n",
       "   'I',\n",
       "   'am',\n",
       "   'scheduled',\n",
       "   'for',\n",
       "   'the',\n",
       "   'morning',\n",
       "   ',',\n",
       "   '2',\n",
       "   'days',\n",
       "   'after',\n",
       "   'the',\n",
       "   'fact',\n",
       "   ',',\n",
       "   'yes',\n",
       "   '..',\n",
       "   'not',\n",
       "   'sure',\n",
       "   'why',\n",
       "   'my',\n",
       "   'evening',\n",
       "   'flight',\n",
       "   'was',\n",
       "   'the',\n",
       "   'only',\n",
       "   'one',\n",
       "   'Cancelled',\n",
       "   'Flightled'],\n",
       "  'negative'),\n",
       " (['@',\n",
       "   'SouthwestAir',\n",
       "   'seeing',\n",
       "   'your',\n",
       "   'workers',\n",
       "   'time',\n",
       "   'in',\n",
       "   'and',\n",
       "   'time',\n",
       "   'out',\n",
       "   'going',\n",
       "   'above',\n",
       "   'and',\n",
       "   'beyond',\n",
       "   'is',\n",
       "   'why',\n",
       "   'I',\n",
       "   'love',\n",
       "   'flying',\n",
       "   'with',\n",
       "   'you',\n",
       "   'guys',\n",
       "   '.',\n",
       "   'Thank',\n",
       "   'you',\n",
       "   '!'],\n",
       "  'positive')]"
      ]
     },
     "execution_count": 8,
     "metadata": {},
     "output_type": "execute_result"
    }
   ],
   "source": [
    "# Reformatting dataset to list of tuples, each tuple has 2 elements, 1st is list of words and 2nd is its category\n",
    "\n",
    "documents = []\n",
    "for i in range(len(df)):\n",
    "    category = df.loc[i][1]\n",
    "    words = word_tokenize(df.loc[i][0])\n",
    "    documents.append((words , category))\n",
    "documents[0:2]"
   ]
  },
  {
   "cell_type": "code",
   "execution_count": 9,
   "metadata": {},
   "outputs": [
    {
     "data": {
      "text/plain": [
       "10980"
      ]
     },
     "execution_count": 9,
     "metadata": {},
     "output_type": "execute_result"
    }
   ],
   "source": [
    "len(documents)"
   ]
  },
  {
   "cell_type": "code",
   "execution_count": 10,
   "metadata": {},
   "outputs": [],
   "source": [
    "# shuffling documents\n",
    "random.shuffle(documents)"
   ]
  },
  {
   "cell_type": "markdown",
   "metadata": {},
   "source": [
    "# creating list of stopwords"
   ]
  },
  {
   "cell_type": "code",
   "execution_count": 11,
   "metadata": {},
   "outputs": [],
   "source": [
    "stops = stopwords.words('english') + list(string.punctuation)"
   ]
  },
  {
   "cell_type": "markdown",
   "metadata": {},
   "source": [
    "# Lemmatizing"
   ]
  },
  {
   "cell_type": "code",
   "execution_count": 12,
   "metadata": {},
   "outputs": [],
   "source": [
    "lemmatizer = WordNetLemmatizer()"
   ]
  },
  {
   "cell_type": "code",
   "execution_count": 13,
   "metadata": {},
   "outputs": [],
   "source": [
    "# defining fuction to convert part of speech into simple part of speech so that wordLemmatizer can understand\n",
    "\n",
    "def get_simple_pos(tag):\n",
    "    if tag.startswith('J'):\n",
    "        return wordnet.ADJ\n",
    "    elif tag.startswith('V'):\n",
    "        return wordnet.VERB\n",
    "    elif tag.startswith('N'):\n",
    "        return wordnet.NOUN\n",
    "    elif tag.startswith('R'):\n",
    "        return wordnet.ADV\n",
    "    else:\n",
    "        return wordnet.NOUN"
   ]
  },
  {
   "cell_type": "code",
   "execution_count": 14,
   "metadata": {},
   "outputs": [],
   "source": [
    "# function to remove no.'s from the feature vocabulary\n",
    "\n",
    "def NotNumber(w):\n",
    "    for ch in w:\n",
    "        if(ch>='0' and ch<='9'):\n",
    "            return False\n",
    "    return True"
   ]
  },
  {
   "cell_type": "code",
   "execution_count": 15,
   "metadata": {},
   "outputs": [],
   "source": [
    "# defining function to make the list of words clear \n",
    "\n",
    "def clean_review(words):\n",
    "    output_words = []\n",
    "    for w in words:\n",
    "        if w.lower() not in stops and NotNumber(w)==True:\n",
    "            pos = pos_tag([w])                                 \n",
    "            clean_word = lemmatizer.lemmatize(w, get_simple_pos(pos[0][1]))\n",
    "            output_words.append(clean_word.lower())\n",
    "    return output_words"
   ]
  },
  {
   "cell_type": "code",
   "execution_count": 16,
   "metadata": {},
   "outputs": [
    {
     "name": "stdout",
     "output_type": "stream",
     "text": [
      "Cleaning time:  55.69916915893555\n"
     ]
    }
   ],
   "source": [
    "# Creating clear documents\n",
    "\n",
    "start = time.time()\n",
    "documents = [(clean_review(document), category) for document, category in documents]\n",
    "end = time.time()\n",
    "print(\"Cleaning time: \", end - start)"
   ]
  },
  {
   "cell_type": "code",
   "execution_count": 17,
   "metadata": {},
   "outputs": [
    {
     "data": {
      "text/plain": [
       "(['southwestair', \"n't\", 'ever', 'tweet'], 'negative')"
      ]
     },
     "execution_count": 17,
     "metadata": {},
     "output_type": "execute_result"
    }
   ],
   "source": [
    "documents[0]"
   ]
  },
  {
   "cell_type": "code",
   "execution_count": 18,
   "metadata": {},
   "outputs": [],
   "source": [
    "# again reformatting dataset in the form of of  x and y, so as to feed it to sklearn classifiers\n",
    "\n",
    "categories = [category for document, category in documents]\n",
    "text_documents = [\" \".join(document) for document, category in documents]"
   ]
  },
  {
   "cell_type": "code",
   "execution_count": 19,
   "metadata": {},
   "outputs": [],
   "source": [
    "# train - test split\n",
    "\n",
    "X_train, X_test, y_train, y_test = train_test_split(text_documents, categories , random_state=1 , test_size=0.2)"
   ]
  },
  {
   "cell_type": "markdown",
   "metadata": {},
   "source": [
    "# using TfidfVectorizer and applying different algos"
   ]
  },
  {
   "cell_type": "code",
   "execution_count": 20,
   "metadata": {},
   "outputs": [],
   "source": [
    "tfidf = TfidfVectorizer()\n",
    "X_train_t = tfidf.fit_transform(X_train)\n",
    "X_test_t = tfidf.transform(X_test)"
   ]
  },
  {
   "cell_type": "code",
   "execution_count": 21,
   "metadata": {},
   "outputs": [
    {
     "name": "stdout",
     "output_type": "stream",
     "text": [
      "accuracy :  0.7727686703096539\n",
      "time :  0.9893193244934082\n"
     ]
    }
   ],
   "source": [
    "alg1 = LogisticRegression()\n",
    "\n",
    "start = time.time()\n",
    "alg1.fit(X_train_t , y_train)\n",
    "end = time.time()\n",
    "total_time1 = end - start\n",
    "\n",
    "y_pred1 = alg1.predict(X_test_t)\n",
    "\n",
    "print('accuracy : ', alg1.score(X_test_t , y_test))\n",
    "print('time : ' , total_time1)"
   ]
  },
  {
   "cell_type": "code",
   "execution_count": 22,
   "metadata": {},
   "outputs": [
    {
     "name": "stdout",
     "output_type": "stream",
     "text": [
      "accuracy :  0.7463570127504554\n",
      "time :  7.330405235290527\n"
     ]
    }
   ],
   "source": [
    "alg2 = RandomForestClassifier()\n",
    "\n",
    "start = time.time()\n",
    "alg2.fit(X_train_t , y_train)\n",
    "end = time.time()\n",
    "total_time2 = end - start\n",
    "\n",
    "y_pred2 = alg2.predict(X_test_t)\n",
    "\n",
    "print('accuracy : ', alg2.score(X_test_t , y_test))\n",
    "print('time : ' , total_time2)"
   ]
  },
  {
   "cell_type": "code",
   "execution_count": 23,
   "metadata": {},
   "outputs": [
    {
     "name": "stdout",
     "output_type": "stream",
     "text": [
      "accuracy :  0.6798724954462659\n",
      "time :  0.05487227439880371\n"
     ]
    }
   ],
   "source": [
    "alg3 = DecisionTreeClassifier(max_depth=4 , criterion='gini')\n",
    "\n",
    "start = time.time()\n",
    "alg3.fit(X_train_t , y_train)\n",
    "end = time.time()\n",
    "total_time3 = end - start\n",
    "\n",
    "y_pred3 = alg3.predict(X_test_t)\n",
    "\n",
    "print('accuracy : ', alg3.score(X_test_t , y_test))\n",
    "print('time : ' , total_time3)"
   ]
  },
  {
   "cell_type": "code",
   "execution_count": 24,
   "metadata": {},
   "outputs": [
    {
     "name": "stdout",
     "output_type": "stream",
     "text": [
      "accuracy :  0.7358834244080146\n",
      "time :  0.015921592712402344\n"
     ]
    }
   ],
   "source": [
    "alg4 = BernoulliNB()\n",
    "\n",
    "start = time.time()\n",
    "alg4.fit(X_train_t,y_train)\n",
    "end = time.time()\n",
    "total_time4 = end - start\n",
    "\n",
    "y_pred4 = alg4.predict(X_test_t)\n",
    "\n",
    "print('accuracy : ', alg4.score(X_test_t , y_test))\n",
    "print('time : ' , total_time4)"
   ]
  },
  {
   "cell_type": "code",
   "execution_count": 28,
   "metadata": {},
   "outputs": [
    {
     "name": "stdout",
     "output_type": "stream",
     "text": [
      "accuracy :  0.4690346083788707\n",
      "time :  2.038548231124878\n"
     ]
    }
   ],
   "source": [
    "alg5 = GaussianNB()\n",
    "\n",
    "start = time.time()\n",
    "alg5.fit(X_train_t.toarray(),y_train)\n",
    "end = time.time()\n",
    "total_time5 = end - start\n",
    "\n",
    "y_pred5 = alg5.predict(X_test_t.toarray())\n",
    "\n",
    "print('accuracy : ', alg5.score(X_test_t.toarray() , y_test))\n",
    "print('time : ' , total_time5)"
   ]
  },
  {
   "cell_type": "code",
   "execution_count": 29,
   "metadata": {},
   "outputs": [
    {
     "name": "stdout",
     "output_type": "stream",
     "text": [
      "accuracy :  0.6785063752276868\n",
      "time :  0.0159604549407959\n"
     ]
    }
   ],
   "source": [
    "alg6 = MultinomialNB()\n",
    "\n",
    "start = time.time()\n",
    "alg6.fit(X_train_t,y_train)\n",
    "end = time.time()\n",
    "total_time6 = end - start\n",
    "\n",
    "y_pred6 = alg6.predict(X_test_t)\n",
    "\n",
    "print('accuracy : ', alg6.score(X_test_t , y_test))\n",
    "print('time : ' , total_time6)"
   ]
  },
  {
   "cell_type": "code",
   "execution_count": 30,
   "metadata": {},
   "outputs": [
    {
     "data": {
      "image/png": "[encoded data removed]",
      "text/plain": [
       "<Figure size 432x288 with 1 Axes>"
      ]
     },
     "metadata": {
      "needs_background": "light"
     },
     "output_type": "display_data"
    }
   ],
   "source": [
    "x_axis = []\n",
    "y_axis = []\n",
    "for k in range(1, 30, 2):\n",
    "    clf = KNeighborsClassifier(n_neighbors = k)\n",
    "    score = cross_val_score(clf, X_train_t, y_train, cv = KFold(n_splits=5, shuffle=True, random_state=0))\n",
    "    x_axis.append(k)\n",
    "    y_axis.append(score.mean())\n",
    "plt.plot(x_axis, y_axis)\n",
    "plt.xlabel(\"k\")\n",
    "plt.ylabel(\"cross_val_score\")\n",
    "plt.title(\"variation of score on different values of k\")\n",
    "plt.show()"
   ]
  },
  {
   "cell_type": "code",
   "execution_count": 31,
   "metadata": {},
   "outputs": [
    {
     "name": "stdout",
     "output_type": "stream",
     "text": [
      "accuracy :  0.7390710382513661\n",
      "time :  0.010972976684570312\n"
     ]
    }
   ],
   "source": [
    "alg7 = KNeighborsClassifier(n_neighbors=25, weights='distance', algorithm='auto', p=2, metric='minkowski')\n",
    "\n",
    "start = time.time()\n",
    "alg7.fit(X_train_t, y_train)\n",
    "end = time.time()\n",
    "total_time7 = end - start\n",
    "\n",
    "y_pred7 = alg7.predict(X_test_t)\n",
    "\n",
    "print('accuracy : ', alg7.score(X_test_t , y_test))\n",
    "print('time : ' , total_time7)"
   ]
  },
  {
   "cell_type": "code",
   "execution_count": 32,
   "metadata": {},
   "outputs": [
    {
     "name": "stdout",
     "output_type": "stream",
     "text": [
      "accuracy :  0.7691256830601093\n",
      "time :  10.108824014663696\n"
     ]
    }
   ],
   "source": [
    "alg8 = SVC()\n",
    "\n",
    "start = time.time()\n",
    "alg8.fit(X_train_t, y_train)\n",
    "end = time.time()\n",
    "total_time8 = end - start\n",
    "\n",
    "y_pred8 = alg8.predict(X_test_t)\n",
    "\n",
    "print('accuracy : ', alg8.score(X_test_t , y_test))\n",
    "print('time : ' , total_time8)"
   ]
  },
  {
   "cell_type": "code",
   "execution_count": 33,
   "metadata": {},
   "outputs": [
    {
     "name": "stdout",
     "output_type": "stream",
     "text": [
      "accuracy :  0.7659380692167578\n",
      "time :  0.9996671676635742\n"
     ]
    }
   ],
   "source": [
    "alg9 = LinearSVC(multi_class='crammer_singer')\n",
    "\n",
    "start = time.time()\n",
    "alg9.fit(X_train_t, y_train)\n",
    "end = time.time()\n",
    "total_time9 = end - start\n",
    "\n",
    "y_pred9 = alg9.predict(X_test_t)\n",
    "\n",
    "print('accuracy : ', alg9.score(X_test_t , y_test))\n",
    "print('time : ' , total_time9)"
   ]
  },
  {
   "cell_type": "code",
   "execution_count": 34,
   "metadata": {},
   "outputs": [
    {
     "name": "stdout",
     "output_type": "stream",
     "text": [
      "accuracy :  0.7718579234972678\n",
      "time :  0.09916257858276367\n"
     ]
    }
   ],
   "source": [
    "alg10 = RidgeClassifier()\n",
    "\n",
    "start = time.time()\n",
    "alg10.fit(X_train_t, y_train)\n",
    "end = time.time()\n",
    "total_time10 = end - start\n",
    "\n",
    "y_pred10 = alg10.predict(X_test_t)\n",
    "\n",
    "print('accuracy : ', alg10.score(X_test_t , y_test))\n",
    "print('time : ' , total_time10)"
   ]
  },
  {
   "cell_type": "code",
   "execution_count": 35,
   "metadata": {},
   "outputs": [],
   "source": [
    "df_model=pd.DataFrame({\n",
    "'Model_Applied':['Logistic_Regression', 'Random_Forest', 'Decision_tree', 'BernoulliNB', 'GausianNB', 'MultinomialNB', 'KNN', 'SVC', 'Linear_SVC', 'Ridge_Classifier'],\n",
    "'Accuracy':[alg1.score(X_test_t,y_test), alg2.score(X_test_t,y_test), alg3.score(X_test_t,y_test), alg4.score(X_test_t,y_test),\n",
    "            alg5.score(X_test_t.todense(),y_test), alg6.score(X_test_t,y_test), alg7.score(X_test_t,y_test), alg8.score(X_test_t,y_test),\n",
    "            alg9.score(X_test_t,y_test), alg10.score(X_test_t,y_test)],\n",
    "'Training_Time':[total_time1, total_time2, total_time3, total_time4, total_time5, total_time6, total_time7, total_time8, \n",
    "                 total_time9, total_time10]})"
   ]
  },
  {
   "cell_type": "code",
   "execution_count": 36,
   "metadata": {},
   "outputs": [
    {
     "data": {
      "text/html": [
       "<div>\n",
       "<style scoped>\n",
       "    .dataframe tbody tr th:only-of-type {\n",
       "        vertical-align: middle;\n",
       "    }\n",
       "\n",
       "    .dataframe tbody tr th {\n",
       "        vertical-align: top;\n",
       "    }\n",
       "\n",
       "    .dataframe thead th {\n",
       "        text-align: right;\n",
       "    }\n",
       "</style>\n",
       "<table border=\"1\" class=\"dataframe\">\n",
       "  <thead>\n",
       "    <tr style=\"text-align: right;\">\n",
       "      <th></th>\n",
       "      <th>Model_Applied</th>\n",
       "      <th>Accuracy</th>\n",
       "      <th>Training_Time</th>\n",
       "    </tr>\n",
       "  </thead>\n",
       "  <tbody>\n",
       "    <tr>\n",
       "      <th>0</th>\n",
       "      <td>Logistic_Regression</td>\n",
       "      <td>0.772769</td>\n",
       "      <td>0.989319</td>\n",
       "    </tr>\n",
       "    <tr>\n",
       "      <th>1</th>\n",
       "      <td>Random_Forest</td>\n",
       "      <td>0.746357</td>\n",
       "      <td>7.330405</td>\n",
       "    </tr>\n",
       "    <tr>\n",
       "      <th>2</th>\n",
       "      <td>Decision_tree</td>\n",
       "      <td>0.679872</td>\n",
       "      <td>0.054872</td>\n",
       "    </tr>\n",
       "    <tr>\n",
       "      <th>3</th>\n",
       "      <td>BernoulliNB</td>\n",
       "      <td>0.735883</td>\n",
       "      <td>0.015922</td>\n",
       "    </tr>\n",
       "    <tr>\n",
       "      <th>4</th>\n",
       "      <td>GausianNB</td>\n",
       "      <td>0.469035</td>\n",
       "      <td>2.038548</td>\n",
       "    </tr>\n",
       "    <tr>\n",
       "      <th>5</th>\n",
       "      <td>MultinomialNB</td>\n",
       "      <td>0.678506</td>\n",
       "      <td>0.015960</td>\n",
       "    </tr>\n",
       "    <tr>\n",
       "      <th>6</th>\n",
       "      <td>KNN</td>\n",
       "      <td>0.739071</td>\n",
       "      <td>0.010973</td>\n",
       "    </tr>\n",
       "    <tr>\n",
       "      <th>7</th>\n",
       "      <td>SVC</td>\n",
       "      <td>0.769126</td>\n",
       "      <td>10.108824</td>\n",
       "    </tr>\n",
       "    <tr>\n",
       "      <th>8</th>\n",
       "      <td>Linear_SVC</td>\n",
       "      <td>0.765938</td>\n",
       "      <td>0.999667</td>\n",
       "    </tr>\n",
       "    <tr>\n",
       "      <th>9</th>\n",
       "      <td>Ridge_Classifier</td>\n",
       "      <td>0.771858</td>\n",
       "      <td>0.099163</td>\n",
       "    </tr>\n",
       "  </tbody>\n",
       "</table>\n",
       "</div>"
      ],
      "text/plain": [
       "         Model_Applied  Accuracy  Training_Time\n",
       "0  Logistic_Regression  0.772769       0.989319\n",
       "1        Random_Forest  0.746357       7.330405\n",
       "2        Decision_tree  0.679872       0.054872\n",
       "3          BernoulliNB  0.735883       0.015922\n",
       "4            GausianNB  0.469035       2.038548\n",
       "5        MultinomialNB  0.678506       0.015960\n",
       "6                  KNN  0.739071       0.010973\n",
       "7                  SVC  0.769126      10.108824\n",
       "8           Linear_SVC  0.765938       0.999667\n",
       "9     Ridge_Classifier  0.771858       0.099163"
      ]
     },
     "execution_count": 36,
     "metadata": {},
     "output_type": "execute_result"
    }
   ],
   "source": [
    "df_model"
   ]
  },
  {
   "cell_type": "code",
   "execution_count": 37,
   "metadata": {},
   "outputs": [
    {
     "data": {
      "text/plain": [
       "<AxesSubplot:title={'center':'Accurcy comparison of different Models'}, xlabel='Model_Applied', ylabel='Accuracy'>"
      ]
     },
     "execution_count": 37,
     "metadata": {},
     "output_type": "execute_result"
    },
    {
     "data": {
      "image/png": "[encoded data removed]",
      "text/plain": [
       "<Figure size 720x720 with 1 Axes>"
      ]
     },
     "metadata": {
      "needs_background": "light"
     },
     "output_type": "display_data"
    }
   ],
   "source": [
    "df_model.plot(kind='bar',x='Model_Applied', ylim=[0.5,0.79] , y='Accuracy', figsize=(10,10) , ylabel='Accuracy', title='Accurcy comparison of different Models')"
   ]
  },
  {
   "cell_type": "code",
   "execution_count": 38,
   "metadata": {},
   "outputs": [
    {
     "data": {
      "text/plain": [
       "<AxesSubplot:title={'center':'Training time comparison of different Models'}, xlabel='Model_Applied', ylabel='Training Time'>"
      ]
     },
     "execution_count": 38,
     "metadata": {},
     "output_type": "execute_result"
    },
    {
     "data": {
      "image/png": "[encoded data removed]",
      "text/plain": [
       "<Figure size 720x720 with 1 Axes>"
      ]
     },
     "metadata": {
      "needs_background": "light"
     },
     "output_type": "display_data"
    }
   ],
   "source": [
    "df_model.plot(kind='bar',x='Model_Applied', ylim=[0,4.5] , y='Training_Time', figsize=(10,10), ylabel='Training Time', title='Training time comparison of different Models')"
   ]
  },
  {
   "cell_type": "markdown",
   "metadata": {},
   "source": [
    "# using CountVectorizer and applying different algos"
   ]
  },
  {
   "cell_type": "code",
   "execution_count": 39,
   "metadata": {},
   "outputs": [
    {
     "data": {
      "text/plain": [
       "matrix([[0, 0, 0, ..., 0, 0, 0],\n",
       "        [0, 0, 0, ..., 0, 0, 0],\n",
       "        [0, 0, 0, ..., 0, 0, 0],\n",
       "        ...,\n",
       "        [0, 0, 0, ..., 0, 0, 0],\n",
       "        [0, 0, 0, ..., 0, 0, 0],\n",
       "        [0, 0, 0, ..., 0, 0, 0]], dtype=int64)"
      ]
     },
     "execution_count": 39,
     "metadata": {},
     "output_type": "execute_result"
    }
   ],
   "source": [
    "count_vec = CountVectorizer(max_features = 3000 , ngram_range=(1,2) , max_df=0.3)\n",
    "X_train_c = count_vec.fit_transform(X_train)\n",
    "X_test_c = count_vec.transform(X_test)\n",
    "X_train_c.todense()"
   ]
  },
  {
   "cell_type": "code",
   "execution_count": 40,
   "metadata": {},
   "outputs": [
    {
     "data": {
      "text/plain": [
       "['aa',\n",
       " 'aadvantage',\n",
       " 'abc',\n",
       " 'able',\n",
       " 'able get',\n",
       " 'absolute',\n",
       " 'absolutely',\n",
       " 'absurd',\n",
       " 'accept',\n",
       " 'acceptable',\n",
       " 'accepted',\n",
       " 'access',\n",
       " 'accommodate',\n",
       " 'accommodation',\n",
       " 'accord',\n",
       " 'account',\n",
       " 'acct',\n",
       " 'across',\n",
       " 'act',\n",
       " 'act together',\n",
       " 'action',\n",
       " 'actual',\n",
       " 'actually',\n",
       " 'add',\n",
       " 'add flight',\n",
       " 'additional',\n",
       " 'address',\n",
       " 'admiral',\n",
       " 'admiral club',\n",
       " 'advance',\n",
       " 'advantage',\n",
       " 'advice',\n",
       " 'advise',\n",
       " 'advisory',\n",
       " 'afford',\n",
       " 'afternoon',\n",
       " 'age',\n",
       " 'agent',\n",
       " 'agent help',\n",
       " 'agent phone',\n",
       " 'agent say',\n",
       " 'agents',\n",
       " 'ago',\n",
       " 'ah',\n",
       " 'ahead',\n",
       " 'air',\n",
       " 'aircraft',\n",
       " 'airfare',\n",
       " 'airline',\n",
       " 'airline cancelled',\n",
       " 'airline ever',\n",
       " 'airline flight',\n",
       " 'airline get',\n",
       " 'airline ve',\n",
       " 'airlines',\n",
       " 'airplane',\n",
       " 'airport',\n",
       " 'airport flight',\n",
       " 'airport hour',\n",
       " 'airway',\n",
       " 'airways',\n",
       " 'alert',\n",
       " 'all',\n",
       " 'alliance',\n",
       " 'allow',\n",
       " 'almost',\n",
       " 'almost hour',\n",
       " 'alone',\n",
       " 'along',\n",
       " 'already',\n",
       " 'already cancelled',\n",
       " 'already delayed',\n",
       " 'alright',\n",
       " 'also',\n",
       " 'alternate',\n",
       " 'although',\n",
       " 'always',\n",
       " 'am',\n",
       " 'amaze',\n",
       " 'amaze customer',\n",
       " 'amazing',\n",
       " 'america',\n",
       " 'american',\n",
       " 'american airlines',\n",
       " 'americanair',\n",
       " 'americanair aa',\n",
       " 'americanair airport',\n",
       " 'americanair already',\n",
       " 'americanair also',\n",
       " 'americanair bad',\n",
       " 'americanair bag',\n",
       " 'americanair best',\n",
       " 'americanair ca',\n",
       " 'americanair call',\n",
       " 'americanair cancelled',\n",
       " 'americanair check',\n",
       " 'americanair customer',\n",
       " 'americanair delay',\n",
       " 'americanair dm',\n",
       " 'americanair flight',\n",
       " 'americanair fly',\n",
       " 'americanair get',\n",
       " 'americanair go',\n",
       " 'americanair great',\n",
       " 'americanair guy',\n",
       " 'americanair help',\n",
       " 'americanair hey',\n",
       " 'americanair hi',\n",
       " 'americanair hold',\n",
       " 'americanair hour',\n",
       " 'americanair know',\n",
       " 'americanair last',\n",
       " 'americanair late',\n",
       " 'americanair like',\n",
       " 'americanair look',\n",
       " 'americanair need',\n",
       " 'americanair oh',\n",
       " 'americanair ok',\n",
       " 'americanair one',\n",
       " 'americanair please',\n",
       " 'americanair re',\n",
       " 'americanair really',\n",
       " 'americanair still',\n",
       " 'americanair sure',\n",
       " 'americanair thank',\n",
       " 'americanair thanks',\n",
       " 'americanair try',\n",
       " 'americanair trying',\n",
       " 'americanair understand',\n",
       " 'americanair usairways',\n",
       " 'americanair ve',\n",
       " 'americanair wait',\n",
       " 'americanair want',\n",
       " 'americanair way',\n",
       " 'americanair well',\n",
       " 'americanair would',\n",
       " 'americanair yes',\n",
       " 'americanairlines',\n",
       " 'among',\n",
       " 'amount',\n",
       " 'amp',\n",
       " 'amp get',\n",
       " 'amp give',\n",
       " 'amp hold',\n",
       " 'amp one',\n",
       " 'amp still',\n",
       " 'amp told',\n",
       " 'amp want',\n",
       " 'angry',\n",
       " 'anniversary',\n",
       " 'announce',\n",
       " 'announcement',\n",
       " 'annoy',\n",
       " 'annoyed',\n",
       " 'annricord',\n",
       " 'another',\n",
       " 'another airline',\n",
       " 'another day',\n",
       " 'another flight',\n",
       " 'another hour',\n",
       " 'another plane',\n",
       " 'another reason',\n",
       " 'answer',\n",
       " 'answer call',\n",
       " 'answer phone',\n",
       " 'anymore',\n",
       " 'anyone',\n",
       " 'anything',\n",
       " 'anytime',\n",
       " 'anyway',\n",
       " 'anywhere',\n",
       " 'apart',\n",
       " 'apologize',\n",
       " 'apology',\n",
       " 'app',\n",
       " 'app say',\n",
       " 'apparently',\n",
       " 'appear',\n",
       " 'appease',\n",
       " 'apple',\n",
       " 'application',\n",
       " 'apply',\n",
       " 'appreciate',\n",
       " 'approach',\n",
       " 'april',\n",
       " 'area',\n",
       " 'around',\n",
       " 'arrange',\n",
       " 'arrangement',\n",
       " 'arrival',\n",
       " 'arrive',\n",
       " 'arrive hour',\n",
       " 'arrives',\n",
       " 'article',\n",
       " 'as',\n",
       " 'asap',\n",
       " 'ashamed',\n",
       " 'ask',\n",
       " 'asked',\n",
       " 'assault',\n",
       " 'assign',\n",
       " 'assignment',\n",
       " 'assist',\n",
       " 'assistance',\n",
       " 'assume',\n",
       " 'atl',\n",
       " 'atlanta',\n",
       " 'atrocious',\n",
       " 'attempt',\n",
       " 'attend',\n",
       " 'attendant',\n",
       " 'attention',\n",
       " 'attitude',\n",
       " 'august',\n",
       " 'aus',\n",
       " 'austin',\n",
       " 'australia',\n",
       " 'auto',\n",
       " 'automate',\n",
       " 'automate system',\n",
       " 'automatically',\n",
       " 'avail',\n",
       " 'availability',\n",
       " 'available',\n",
       " 'avgeek',\n",
       " 'aviation',\n",
       " 'avoid',\n",
       " 'award',\n",
       " 'aware',\n",
       " 'away',\n",
       " 'awesome',\n",
       " 'awesome thanks',\n",
       " 'awful',\n",
       " 'ba',\n",
       " 'baby',\n",
       " 'back',\n",
       " 'back gate',\n",
       " 'back home',\n",
       " 'back late',\n",
       " 'bad',\n",
       " 'bad airline',\n",
       " 'bad customer',\n",
       " 'bad experience',\n",
       " 'bad service',\n",
       " 'bad weather',\n",
       " 'badcustomerservice',\n",
       " 'badservice',\n",
       " 'bag',\n",
       " 'bag flight',\n",
       " 'bag lose',\n",
       " 'bag make',\n",
       " 'bag miss',\n",
       " 'baggage',\n",
       " 'baggage claim',\n",
       " 'baggage fee',\n",
       " 'baggage office',\n",
       " 'baggage service',\n",
       " 'ball',\n",
       " 'band',\n",
       " 'bank',\n",
       " 'bar',\n",
       " 'barbados',\n",
       " 'barely',\n",
       " 'base',\n",
       " 'basic',\n",
       " 'basically',\n",
       " 'bathroom',\n",
       " 'battle',\n",
       " 'bc',\n",
       " 'bday',\n",
       " 'bdl',\n",
       " 'beach',\n",
       " 'beat',\n",
       " 'beautiful',\n",
       " 'become',\n",
       " 'beer',\n",
       " 'begin',\n",
       " 'behind',\n",
       " 'believe',\n",
       " 'belt',\n",
       " 'benefit',\n",
       " 'best',\n",
       " 'best airline',\n",
       " 'best flight',\n",
       " 'best friend',\n",
       " 'bet',\n",
       " 'better',\n",
       " 'beyond',\n",
       " 'big',\n",
       " 'big thanks',\n",
       " 'bin',\n",
       " 'bird',\n",
       " 'birthday',\n",
       " 'bit',\n",
       " 'biz',\n",
       " 'black',\n",
       " 'blame',\n",
       " 'block',\n",
       " 'blog',\n",
       " 'blue',\n",
       " 'bluemanity',\n",
       " 'bna',\n",
       " 'board',\n",
       " 'board flight',\n",
       " 'board plane',\n",
       " 'boarding',\n",
       " 'boarding flight',\n",
       " 'boarding pas',\n",
       " 'boarding pass',\n",
       " 'boarding time',\n",
       " 'bonus',\n",
       " 'book',\n",
       " 'book another',\n",
       " 'book award',\n",
       " 'book flight',\n",
       " 'book online',\n",
       " 'book seat',\n",
       " 'book ticket',\n",
       " 'booked',\n",
       " 'booking',\n",
       " 'booking problems',\n",
       " 'bos',\n",
       " 'boston',\n",
       " 'bother',\n",
       " 'bottle',\n",
       " 'bought',\n",
       " 'boy',\n",
       " 'boyfriend',\n",
       " 'brand',\n",
       " 'break',\n",
       " 'breakfast',\n",
       " 'bridge',\n",
       " 'bring',\n",
       " 'bring back',\n",
       " 'broke',\n",
       " 'broken',\n",
       " 'brother',\n",
       " 'brought',\n",
       " 'browser',\n",
       " 'brutal',\n",
       " 'bs',\n",
       " 'btw',\n",
       " 'buf',\n",
       " 'buffalo',\n",
       " 'bummer',\n",
       " 'bumped',\n",
       " 'bumping',\n",
       " 'bunch',\n",
       " 'bus',\n",
       " 'business',\n",
       " 'business class',\n",
       " 'busy',\n",
       " 'button',\n",
       " 'buy',\n",
       " 'buying',\n",
       " 'bwi',\n",
       " 'ca',\n",
       " 'ca afford',\n",
       " 'ca believe',\n",
       " 'ca book',\n",
       " 'ca change',\n",
       " 'ca dm',\n",
       " 'ca even',\n",
       " 'ca find',\n",
       " 'ca get',\n",
       " 'ca help',\n",
       " 'ca seem',\n",
       " 'ca use',\n",
       " 'ca wait',\n",
       " 'cab',\n",
       " 'cabin',\n",
       " 'call',\n",
       " 'call back',\n",
       " 'call center',\n",
       " 'call customer',\n",
       " 'call day',\n",
       " 'call flight',\n",
       " 'call get',\n",
       " 'call help',\n",
       " 'call number',\n",
       " 'call say',\n",
       " 'call speak',\n",
       " 'call time',\n",
       " 'call united',\n",
       " 'call volume',\n",
       " 'callback',\n",
       " 'called',\n",
       " 'camera',\n",
       " 'can',\n",
       " 'canada',\n",
       " 'cancelled',\n",
       " 'cancelled flight',\n",
       " 'cancelled flightation',\n",
       " 'cancelled flightations',\n",
       " 'cancelled flighted',\n",
       " 'cancelled flighting',\n",
       " 'cancelled flightlation',\n",
       " 'cancelled flightlations',\n",
       " 'cancelled flightled',\n",
       " 'cancelled flightling',\n",
       " 'cancelled flights',\n",
       " 'cancun',\n",
       " 'cant',\n",
       " 'cant get',\n",
       " 'captain',\n",
       " 'car',\n",
       " 'car seat',\n",
       " 'card',\n",
       " 'care',\n",
       " 'care customer',\n",
       " 'care less',\n",
       " 'carousel',\n",
       " 'carrier',\n",
       " 'carrieunderwood',\n",
       " 'carry',\n",
       " 'carry on',\n",
       " 'carryon',\n",
       " 'cart',\n",
       " 'case',\n",
       " 'case id',\n",
       " 'catch',\n",
       " 'catering',\n",
       " 'cause',\n",
       " 'cause miss',\n",
       " 'cc',\n",
       " 'cell',\n",
       " 'center',\n",
       " 'ceo',\n",
       " 'certain',\n",
       " 'certainly',\n",
       " 'certificate',\n",
       " 'chair',\n",
       " 'chairman',\n",
       " 'chance',\n",
       " 'chance get',\n",
       " 'change',\n",
       " 'change fee',\n",
       " 'change flight',\n",
       " 'change make',\n",
       " 'change online',\n",
       " 'change reservation',\n",
       " 'change ticket',\n",
       " 'channel',\n",
       " 'chaos',\n",
       " 'character',\n",
       " 'charge',\n",
       " 'charleston',\n",
       " 'charlotte',\n",
       " 'chat',\n",
       " 'cheap',\n",
       " 'cheaper',\n",
       " 'check',\n",
       " 'check bag',\n",
       " 'check flight',\n",
       " 'check in',\n",
       " 'checked',\n",
       " 'checked bag',\n",
       " 'checked baggage',\n",
       " 'checkin',\n",
       " 'cheers',\n",
       " 'chi',\n",
       " 'chicago',\n",
       " 'child',\n",
       " 'choice',\n",
       " 'choose',\n",
       " 'city',\n",
       " 'claim',\n",
       " 'class',\n",
       " 'class seat',\n",
       " 'cle',\n",
       " 'clean',\n",
       " 'clear',\n",
       " 'clearly',\n",
       " 'cleveland',\n",
       " 'click',\n",
       " 'client',\n",
       " 'close',\n",
       " 'clothes',\n",
       " 'clt',\n",
       " 'club',\n",
       " 'clue',\n",
       " 'cmh',\n",
       " 'co',\n",
       " 'coach',\n",
       " 'coast',\n",
       " 'coat',\n",
       " 'code',\n",
       " 'coffee',\n",
       " 'cold',\n",
       " 'college',\n",
       " 'columbus',\n",
       " 'com',\n",
       " 'come',\n",
       " 'come back',\n",
       " 'comment',\n",
       " 'commercial',\n",
       " 'communicate',\n",
       " 'communication',\n",
       " 'comp',\n",
       " 'companion',\n",
       " 'companion pas',\n",
       " 'company',\n",
       " 'compensate',\n",
       " 'compensation',\n",
       " 'complain',\n",
       " 'complaint',\n",
       " 'complete',\n",
       " 'completely',\n",
       " 'computer',\n",
       " 'concern',\n",
       " 'concerned',\n",
       " 'condition',\n",
       " 'conf',\n",
       " 'confirm',\n",
       " 'confirmation',\n",
       " 'confirmation number',\n",
       " 'confuse',\n",
       " 'congrats',\n",
       " 'connect',\n",
       " 'connect flight',\n",
       " 'connection',\n",
       " 'connection due',\n",
       " 'consider',\n",
       " 'consistent',\n",
       " 'cont',\n",
       " 'contact',\n",
       " 'contest',\n",
       " 'continue',\n",
       " 'contract',\n",
       " 'control',\n",
       " 'cool',\n",
       " 'copy',\n",
       " 'corporate',\n",
       " 'corporation',\n",
       " 'correct',\n",
       " 'cost',\n",
       " 'costumer',\n",
       " 'could',\n",
       " 'could get',\n",
       " 'could help',\n",
       " 'could please',\n",
       " 'could use',\n",
       " 'couldnt',\n",
       " 'count',\n",
       " 'counter',\n",
       " 'counting',\n",
       " 'country',\n",
       " 'country flight',\n",
       " 'couple',\n",
       " 'coupon',\n",
       " 'course',\n",
       " 'courteous',\n",
       " 'courtesy',\n",
       " 'cover',\n",
       " 'cowboycerrone',\n",
       " 'crap',\n",
       " 'crappy',\n",
       " 'crash',\n",
       " 'crazy',\n",
       " 'create',\n",
       " 'credit',\n",
       " 'credit card',\n",
       " 'crew',\n",
       " 'crew flight',\n",
       " 'crew member',\n",
       " 'cross',\n",
       " 'cross country',\n",
       " 'cry',\n",
       " 'cs',\n",
       " 'csr',\n",
       " 'cuba',\n",
       " 'cun',\n",
       " 'cup',\n",
       " 'curious',\n",
       " 'current',\n",
       " 'currently',\n",
       " 'cust',\n",
       " 'cust service',\n",
       " 'customer',\n",
       " 'customer care',\n",
       " 'customer experience',\n",
       " 'customer relation',\n",
       " 'customer service',\n",
       " 'customer support',\n",
       " 'customerservice',\n",
       " 'cut',\n",
       " 'cvg',\n",
       " 'cx',\n",
       " 'dad',\n",
       " 'daily',\n",
       " 'dal',\n",
       " 'dallas',\n",
       " 'damage',\n",
       " 'damn',\n",
       " 'date',\n",
       " 'daughter',\n",
       " 'david',\n",
       " 'day',\n",
       " 'day ago',\n",
       " 'day flight',\n",
       " 'day get',\n",
       " 'day late',\n",
       " 'day vacation',\n",
       " 'day work',\n",
       " 'dc',\n",
       " 'dca',\n",
       " 'de',\n",
       " 'dead',\n",
       " 'deal',\n",
       " 'death',\n",
       " 'december',\n",
       " 'decide',\n",
       " 'decision',\n",
       " 'definitely',\n",
       " 'degree',\n",
       " 'delay',\n",
       " 'delay cancelled',\n",
       " 'delay due',\n",
       " 'delay flight',\n",
       " 'delay hour',\n",
       " 'delayed',\n",
       " 'delayed cancelled',\n",
       " 'delayed due',\n",
       " 'delayed flight',\n",
       " 'delayed hour',\n",
       " 'delayed hr',\n",
       " 'delayed miss',\n",
       " 'delayed time',\n",
       " 'delays',\n",
       " 'delete',\n",
       " 'deliver',\n",
       " 'delivery',\n",
       " 'delta',\n",
       " 'den',\n",
       " 'denver',\n",
       " 'deny',\n",
       " 'depart',\n",
       " 'department',\n",
       " 'departs',\n",
       " 'departure',\n",
       " 'departure time',\n",
       " 'deplane',\n",
       " 'dept',\n",
       " 'deserve',\n",
       " 'deserves',\n",
       " 'design',\n",
       " 'desk',\n",
       " 'despite',\n",
       " 'destination',\n",
       " 'destinationdragons',\n",
       " 'detail',\n",
       " 'device',\n",
       " 'dfw',\n",
       " 'dfw cancelled',\n",
       " 'dfwairport',\n",
       " 'dia',\n",
       " 'didnt',\n",
       " 'die',\n",
       " 'diego',\n",
       " 'diff',\n",
       " 'difference',\n",
       " 'different',\n",
       " 'different flight',\n",
       " 'difficult',\n",
       " 'dinner',\n",
       " 'direct',\n",
       " 'direct flight',\n",
       " 'directly',\n",
       " 'dirty',\n",
       " 'disappear',\n",
       " 'disappoint',\n",
       " 'disappointed',\n",
       " 'disappointed service',\n",
       " 'disappointment',\n",
       " 'disaster',\n",
       " 'disconnect',\n",
       " 'discount',\n",
       " 'discus',\n",
       " 'disgust',\n",
       " 'disney',\n",
       " 'divert',\n",
       " 'dividend',\n",
       " 'dividend mile',\n",
       " 'dividend miles',\n",
       " 'dm',\n",
       " 'dm confirmation',\n",
       " 'dm detail',\n",
       " 'dm follow',\n",
       " 'dm info',\n",
       " 'dm please',\n",
       " 'dm sent',\n",
       " 'dmed',\n",
       " 'do',\n",
       " 'dog',\n",
       " 'dollar',\n",
       " 'domestic',\n",
       " 'done',\n",
       " 'dont',\n",
       " 'door',\n",
       " 'door close',\n",
       " 'door open',\n",
       " 'double',\n",
       " 'doubt',\n",
       " 'downgrade',\n",
       " 'download',\n",
       " 'dozen',\n",
       " 'dragon',\n",
       " 'dream',\n",
       " 'drink',\n",
       " 'drive',\n",
       " 'drive home',\n",
       " 'drive hour',\n",
       " 'drop',\n",
       " 'drove',\n",
       " 'drunk',\n",
       " 'due',\n",
       " 'due delay',\n",
       " 'due mechanical',\n",
       " 'due weather',\n",
       " 'dulles',\n",
       " 'earlier',\n",
       " 'earlier flight',\n",
       " 'early',\n",
       " 'earn',\n",
       " 'easily',\n",
       " 'east',\n",
       " 'easy',\n",
       " 'eat',\n",
       " 'economy',\n",
       " 'effort',\n",
       " 'either',\n",
       " 'elevate',\n",
       " 'elite',\n",
       " 'else',\n",
       " 'elsewhere',\n",
       " 'em',\n",
       " 'email',\n",
       " 'email address',\n",
       " 'email customer',\n",
       " 'email text',\n",
       " 'embarrass',\n",
       " 'emergency',\n",
       " 'employee',\n",
       " 'empty',\n",
       " 'empty seat',\n",
       " 'end',\n",
       " 'engine',\n",
       " 'english',\n",
       " 'enjoy',\n",
       " 'enough',\n",
       " 'enter',\n",
       " 'entertainment',\n",
       " 'entire',\n",
       " 'epicfail',\n",
       " 'equipment',\n",
       " 'error',\n",
       " 'error message',\n",
       " 'especially',\n",
       " 'est',\n",
       " 'estimate',\n",
       " 'eta',\n",
       " 'etc',\n",
       " 'europe',\n",
       " 'even',\n",
       " 'even get',\n",
       " 'even though',\n",
       " 'event',\n",
       " 'eventually',\n",
       " 'ever',\n",
       " 'ever experienced',\n",
       " 'ever fly',\n",
       " 'ever see',\n",
       " 'every',\n",
       " 'every flight',\n",
       " 'every single',\n",
       " 'every time',\n",
       " 'every week',\n",
       " 'everyone',\n",
       " 'everyone else',\n",
       " 'everything',\n",
       " 'ewr',\n",
       " 'exact',\n",
       " 'exactly',\n",
       " 'example',\n",
       " 'excellent',\n",
       " 'except',\n",
       " 'excite',\n",
       " 'excuse',\n",
       " 'exec',\n",
       " 'exist',\n",
       " 'exist reservation',\n",
       " 'existent',\n",
       " 'exit',\n",
       " 'exit row',\n",
       " 'exp',\n",
       " 'expect',\n",
       " 'expensive',\n",
       " 'experience',\n",
       " 'experience ever',\n",
       " 'experienced',\n",
       " 'expire',\n",
       " 'expires',\n",
       " 'explain',\n",
       " 'explanation',\n",
       " 'extend',\n",
       " 'extension',\n",
       " 'extra',\n",
       " 'extremely',\n",
       " 'ey',\n",
       " 'eye',\n",
       " 'fa',\n",
       " 'faa',\n",
       " 'face',\n",
       " 'fact',\n",
       " 'fail',\n",
       " 'failure',\n",
       " 'fair',\n",
       " 'fall',\n",
       " 'false',\n",
       " 'family',\n",
       " 'fan',\n",
       " 'fantastic',\n",
       " 'far',\n",
       " 'fare',\n",
       " 'fast',\n",
       " 'faster',\n",
       " 'father',\n",
       " 'fault',\n",
       " 'favorite',\n",
       " 'favorite airline',\n",
       " 'fb',\n",
       " 'feature',\n",
       " 'feb',\n",
       " 'february',\n",
       " 'fee',\n",
       " 'feedback',\n",
       " 'feel',\n",
       " 'feel like',\n",
       " 'felt',\n",
       " 'fi',\n",
       " 'field',\n",
       " 'fight',\n",
       " 'figure',\n",
       " 'figure get',\n",
       " 'file',\n",
       " 'file claim',\n",
       " 'fill',\n",
       " 'fill form',\n",
       " 'final',\n",
       " 'final destination',\n",
       " 'finally',\n",
       " 'finally get',\n",
       " 'finally take',\n",
       " 'find',\n",
       " 'find bag',\n",
       " 'fine',\n",
       " 'fire',\n",
       " 'first',\n",
       " 'first class',\n",
       " 'first flight',\n",
       " 'first time',\n",
       " 'fit',\n",
       " 'five',\n",
       " 'fix',\n",
       " 'fl',\n",
       " 'flat',\n",
       " 'fleek',\n",
       " 'fleek http',\n",
       " 'fleet',\n",
       " 'fleet fleek',\n",
       " 'flew',\n",
       " 'flight',\n",
       " 'flight amp',\n",
       " 'flight arrive',\n",
       " 'flight attendant',\n",
       " 'flight back',\n",
       " 'flight bna',\n",
       " 'flight book',\n",
       " 'flight booking',\n",
       " 'flight bos',\n",
       " 'flight boston',\n",
       " 'flight ca',\n",
       " 'flight cancelled',\n",
       " 'flight change',\n",
       " 'flight chicago',\n",
       " 'flight clt',\n",
       " 'flight columbus',\n",
       " 'flight come',\n",
       " 'flight crew',\n",
       " 'flight customer',\n",
       " 'flight dallas',\n",
       " 'flight day',\n",
       " 'flight dca',\n",
       " 'flight delay',\n",
       " 'flight delayed',\n",
       " 'flight dfw',\n",
       " 'flight different',\n",
       " 'flight due',\n",
       " 'flight even',\n",
       " 'flight ewr',\n",
       " 'flight experience',\n",
       " 'flight first',\n",
       " 'flight flight',\n",
       " 'flight fll',\n",
       " 'flight full',\n",
       " 'flight gate',\n",
       " 'flight get',\n",
       " 'flight go',\n",
       " 'flight great',\n",
       " 'flight help',\n",
       " 'flight home',\n",
       " 'flight hour',\n",
       " 'flight hr',\n",
       " 'flight http',\n",
       " 'flight info',\n",
       " 'flight issue',\n",
       " 'flight jfk',\n",
       " 'flight keep',\n",
       " 'flight land',\n",
       " 'flight last',\n",
       " 'flight late',\n",
       " 'flight lax',\n",
       " 'flight leave',\n",
       " 'flight like',\n",
       " 'flight make',\n",
       " 'flight min',\n",
       " 'flight miss',\n",
       " 'flight nashville',\n",
       " 'flight need',\n",
       " 'flight next',\n",
       " 'flight number',\n",
       " 'flight nyc',\n",
       " 'flight one',\n",
       " 'flight online',\n",
       " 'flight ord',\n",
       " 'flight orlando',\n",
       " 'flight philly',\n",
       " 'flight phl',\n",
       " 'flight phone',\n",
       " 'flight phx',\n",
       " 'flight plane',\n",
       " 'flight please',\n",
       " 'flight really',\n",
       " 'flight rebooked',\n",
       " 'flight reschedule',\n",
       " 'flight reservation',\n",
       " 'flight san',\n",
       " 'flight say',\n",
       " 'flight schedule',\n",
       " 'flight sfo',\n",
       " 'flight sit',\n",
       " 'flight still',\n",
       " 'flight suppose',\n",
       " 'flight take',\n",
       " 'flight thanks',\n",
       " 'flight time',\n",
       " 'flight today',\n",
       " 'flight told',\n",
       " 'flight tomorrow',\n",
       " 'flight tonight',\n",
       " 'flight trip',\n",
       " 'flight ve',\n",
       " 'flight voucher',\n",
       " 'flight wait',\n",
       " 'flight want',\n",
       " 'flight without',\n",
       " 'flight would',\n",
       " 'flight yesterday',\n",
       " 'flightation',\n",
       " 'flightations',\n",
       " 'flightd',\n",
       " 'flighted',\n",
       " 'flighted flight',\n",
       " 'flighting',\n",
       " 'flighting flight',\n",
       " 'flightlation',\n",
       " 'flightlations',\n",
       " 'flightled',\n",
       " 'flightled flight',\n",
       " 'flightled get',\n",
       " 'flightled one',\n",
       " 'flightled today',\n",
       " 'flightled yesterday',\n",
       " 'flightling',\n",
       " 'flightling flight',\n",
       " 'flightly',\n",
       " 'flightr',\n",
       " 'flightr flight',\n",
       " 'flightr still',\n",
       " 'flights',\n",
       " 'flights flight',\n",
       " 'flightst',\n",
       " 'fll',\n",
       " 'floor',\n",
       " 'florida',\n",
       " 'flown',\n",
       " 'flt',\n",
       " 'fly',\n",
       " 'fly aa',\n",
       " 'fly airline',\n",
       " ...]"
      ]
     },
     "execution_count": 40,
     "metadata": {},
     "output_type": "execute_result"
    }
   ],
   "source": [
    "count_vec.get_feature_names()"
   ]
  },
  {
   "cell_type": "code",
   "execution_count": 41,
   "metadata": {},
   "outputs": [
    {
     "name": "stdout",
     "output_type": "stream",
     "text": [
      "accuracy :  0.7641165755919854\n",
      "time :  0.5582406520843506\n"
     ]
    }
   ],
   "source": [
    "alg1 = LogisticRegression()\n",
    "\n",
    "start = time.time()\n",
    "alg1.fit(X_train_c , y_train)\n",
    "end = time.time()\n",
    "total_time1 = end - start\n",
    "\n",
    "y_pred1 = alg1.predict(X_test_c)\n",
    "\n",
    "print('accuracy : ', alg1.score(X_test_c , y_test))\n",
    "print('time : ' , total_time1)"
   ]
  },
  {
   "cell_type": "code",
   "execution_count": 42,
   "metadata": {},
   "outputs": [
    {
     "name": "stdout",
     "output_type": "stream",
     "text": [
      "accuracy :  0.7427140255009107\n",
      "time :  3.8731987476348877\n"
     ]
    }
   ],
   "source": [
    "alg2 = RandomForestClassifier(n_estimators=60)\n",
    "\n",
    "start = time.time()\n",
    "alg2.fit(X_train_c , y_train)\n",
    "end = time.time()\n",
    "total_time2 = end - start\n",
    "\n",
    "y_pred2 = alg2.predict(X_test_c)\n",
    "\n",
    "print('accuracy : ', alg2.score(X_test_c , y_test))\n",
    "print('time : ' , total_time2)"
   ]
  },
  {
   "cell_type": "code",
   "execution_count": 43,
   "metadata": {},
   "outputs": [
    {
     "name": "stdout",
     "output_type": "stream",
     "text": [
      "accuracy :  0.645264116575592\n",
      "time :  0.008034467697143555\n"
     ]
    }
   ],
   "source": [
    "alg3 = DecisionTreeClassifier(max_depth=1 , criterion='gini')\n",
    "\n",
    "start = time.time()\n",
    "alg3.fit(X_train_c , y_train)\n",
    "end = time.time()\n",
    "total_time3 = end - start\n",
    "\n",
    "y_pred3 = alg3.predict(X_test_c)\n",
    "\n",
    "print('accuracy : ', alg3.score(X_test_c , y_test))\n",
    "print('time : ' , total_time3)"
   ]
  },
  {
   "cell_type": "code",
   "execution_count": 44,
   "metadata": {},
   "outputs": [
    {
     "name": "stdout",
     "output_type": "stream",
     "text": [
      "accuracy :  0.7550091074681239\n",
      "time :  0.014958381652832031\n"
     ]
    }
   ],
   "source": [
    "alg4 = BernoulliNB()\n",
    "\n",
    "start = time.time()\n",
    "alg4.fit(X_train_c,y_train)\n",
    "end = time.time()\n",
    "total_time4 = end - start\n",
    "\n",
    "y_pred4 = alg4.predict(X_test_c)\n",
    "\n",
    "print('accuracy : ', alg4.score(X_test_c , y_test))\n",
    "print('time : ' , total_time4)"
   ]
  },
  {
   "cell_type": "code",
   "execution_count": 45,
   "metadata": {},
   "outputs": [
    {
     "name": "stdout",
     "output_type": "stream",
     "text": [
      "accuracy :  0.5218579234972678\n",
      "time :  0.7748432159423828\n"
     ]
    }
   ],
   "source": [
    "alg5 = GaussianNB()\n",
    "\n",
    "start = time.time()\n",
    "alg5.fit(X_train_c.todense(),y_train)\n",
    "end = time.time()\n",
    "total_time5 = end - start\n",
    "\n",
    "y_pred5 = alg5.predict(X_test_c.todense())\n",
    "\n",
    "print('accuracy : ', alg5.score(X_test_c.todense() , y_test))\n",
    "print('time : ' , total_time5)"
   ]
  },
  {
   "cell_type": "code",
   "execution_count": 46,
   "metadata": {},
   "outputs": [
    {
     "name": "stdout",
     "output_type": "stream",
     "text": [
      "accuracy :  0.7531876138433515\n",
      "time :  0.011968612670898438\n"
     ]
    }
   ],
   "source": [
    "alg6 = MultinomialNB()\n",
    "\n",
    "start = time.time()\n",
    "alg6.fit(X_train_c,y_train)\n",
    "end = time.time()\n",
    "total_time6 = end - start\n",
    "\n",
    "y_pred6 = alg6.predict(X_test_c)\n",
    "\n",
    "print('accuracy : ', alg6.score(X_test_c , y_test))\n",
    "print('time : ' , total_time6)"
   ]
  },
  {
   "cell_type": "code",
   "execution_count": 47,
   "metadata": {},
   "outputs": [
    {
     "data": {
      "image/png": "[encoded data removed]",
      "text/plain": [
       "<Figure size 432x288 with 1 Axes>"
      ]
     },
     "metadata": {
      "needs_background": "light"
     },
     "output_type": "display_data"
    }
   ],
   "source": [
    "x_axis = []\n",
    "y_axis = []\n",
    "for k in range(1, 30, 2):\n",
    "    clf = KNeighborsClassifier(n_neighbors = k)\n",
    "    score = cross_val_score(clf, X_train_c, y_train, cv = KFold(n_splits=5, shuffle=True, random_state=0))\n",
    "    x_axis.append(k)\n",
    "    y_axis.append(score.mean())\n",
    "plt.plot(x_axis, y_axis)\n",
    "plt.xlabel(\"k\")\n",
    "plt.ylabel(\"cross_val_score\")\n",
    "plt.title(\"variation of score on different values of k\")\n",
    "plt.show()"
   ]
  },
  {
   "cell_type": "code",
   "execution_count": 48,
   "metadata": {},
   "outputs": [
    {
     "name": "stdout",
     "output_type": "stream",
     "text": [
      "accuracy :  0.4936247723132969\n",
      "time :  0.0049517154693603516\n"
     ]
    }
   ],
   "source": [
    "alg7 = KNeighborsClassifier(n_neighbors=4, weights='distance', algorithm='auto', p=2, metric='minkowski')\n",
    "\n",
    "start = time.time()\n",
    "alg7.fit(X_train_c, y_train)\n",
    "end = time.time()\n",
    "total_time7 = end - start\n",
    "\n",
    "y_pred7 = alg7.predict(X_test_c)\n",
    "\n",
    "print('accuracy : ', alg7.score(X_test_c , y_test))\n",
    "print('time : ' , total_time7)"
   ]
  },
  {
   "cell_type": "code",
   "execution_count": 49,
   "metadata": {},
   "outputs": [
    {
     "name": "stdout",
     "output_type": "stream",
     "text": [
      "accuracy :  0.7668488160291439\n",
      "time :  7.429110050201416\n"
     ]
    }
   ],
   "source": [
    "alg8 = SVC()\n",
    "\n",
    "start = time.time()\n",
    "alg8.fit(X_train_c, y_train)\n",
    "end = time.time()\n",
    "total_time8 = end - start\n",
    "\n",
    "y_pred8 = alg8.predict(X_test_c)\n",
    "\n",
    "print('accuracy : ', alg8.score(X_test_c , y_test))\n",
    "print('time : ' , total_time8)"
   ]
  },
  {
   "cell_type": "code",
   "execution_count": 50,
   "metadata": {},
   "outputs": [
    {
     "name": "stdout",
     "output_type": "stream",
     "text": [
      "accuracy :  0.7367941712204007\n",
      "time :  1.7438886165618896\n"
     ]
    }
   ],
   "source": [
    "alg9 = LinearSVC(multi_class='crammer_singer')\n",
    "\n",
    "start = time.time()\n",
    "alg9.fit(X_train_c, y_train)\n",
    "end = time.time()\n",
    "total_time9 = end - start\n",
    "\n",
    "y_pred9 = alg9.predict(X_test_c)\n",
    "\n",
    "print('accuracy : ', alg9.score(X_test_c , y_test))\n",
    "print('time : ' , total_time9)"
   ]
  },
  {
   "cell_type": "code",
   "execution_count": 51,
   "metadata": {},
   "outputs": [
    {
     "name": "stdout",
     "output_type": "stream",
     "text": [
      "accuracy :  0.7413479052823315\n",
      "time :  0.15257978439331055\n"
     ]
    }
   ],
   "source": [
    "alg10 = RidgeClassifier()\n",
    "\n",
    "start = time.time()\n",
    "alg10.fit(X_train_c, y_train)\n",
    "end = time.time()\n",
    "total_time10 = end - start\n",
    "\n",
    "y_pred10 = alg10.predict(X_test_c)\n",
    "\n",
    "print('accuracy : ', alg10.score(X_test_c , y_test))\n",
    "print('time : ' , total_time10)"
   ]
  },
  {
   "cell_type": "code",
   "execution_count": 52,
   "metadata": {},
   "outputs": [],
   "source": [
    "df_model=pd.DataFrame({\n",
    "'Model_Applied':['Logistic_Regression', 'Random_Forest', 'Decision_tree', 'BernoulliNB', 'GausianNB', 'MultinomialNB', 'KNN', 'SVC', 'Linear_SVC', 'Ridge_Classifier'],\n",
    "'Accuracy':[alg1.score(X_test_c,y_test), alg2.score(X_test_c,y_test), alg3.score(X_test_c,y_test), alg4.score(X_test_c,y_test),\n",
    "            alg5.score(X_test_c.todense(),y_test), alg6.score(X_test_c,y_test), alg7.score(X_test_c,y_test), alg8.score(X_test_c,y_test),\n",
    "            alg9.score(X_test_c,y_test), alg10.score(X_test_c,y_test)],\n",
    "'Training_Time':[total_time1, total_time2, total_time3, total_time4, total_time5, total_time6, total_time7, total_time8, \n",
    "                 total_time9, total_time10]})"
   ]
  },
  {
   "cell_type": "code",
   "execution_count": 53,
   "metadata": {},
   "outputs": [
    {
     "data": {
      "text/html": [
       "<div>\n",
       "<style scoped>\n",
       "    .dataframe tbody tr th:only-of-type {\n",
       "        vertical-align: middle;\n",
       "    }\n",
       "\n",
       "    .dataframe tbody tr th {\n",
       "        vertical-align: top;\n",
       "    }\n",
       "\n",
       "    .dataframe thead th {\n",
       "        text-align: right;\n",
       "    }\n",
       "</style>\n",
       "<table border=\"1\" class=\"dataframe\">\n",
       "  <thead>\n",
       "    <tr style=\"text-align: right;\">\n",
       "      <th></th>\n",
       "      <th>Model_Applied</th>\n",
       "      <th>Accuracy</th>\n",
       "      <th>Training_Time</th>\n",
       "    </tr>\n",
       "  </thead>\n",
       "  <tbody>\n",
       "    <tr>\n",
       "      <th>0</th>\n",
       "      <td>Logistic_Regression</td>\n",
       "      <td>0.764117</td>\n",
       "      <td>0.558241</td>\n",
       "    </tr>\n",
       "    <tr>\n",
       "      <th>1</th>\n",
       "      <td>Random_Forest</td>\n",
       "      <td>0.742714</td>\n",
       "      <td>3.873199</td>\n",
       "    </tr>\n",
       "    <tr>\n",
       "      <th>2</th>\n",
       "      <td>Decision_tree</td>\n",
       "      <td>0.645264</td>\n",
       "      <td>0.008034</td>\n",
       "    </tr>\n",
       "    <tr>\n",
       "      <th>3</th>\n",
       "      <td>BernoulliNB</td>\n",
       "      <td>0.755009</td>\n",
       "      <td>0.014958</td>\n",
       "    </tr>\n",
       "    <tr>\n",
       "      <th>4</th>\n",
       "      <td>GausianNB</td>\n",
       "      <td>0.521858</td>\n",
       "      <td>0.774843</td>\n",
       "    </tr>\n",
       "    <tr>\n",
       "      <th>5</th>\n",
       "      <td>MultinomialNB</td>\n",
       "      <td>0.753188</td>\n",
       "      <td>0.011969</td>\n",
       "    </tr>\n",
       "    <tr>\n",
       "      <th>6</th>\n",
       "      <td>KNN</td>\n",
       "      <td>0.493625</td>\n",
       "      <td>0.004952</td>\n",
       "    </tr>\n",
       "    <tr>\n",
       "      <th>7</th>\n",
       "      <td>SVC</td>\n",
       "      <td>0.766849</td>\n",
       "      <td>7.429110</td>\n",
       "    </tr>\n",
       "    <tr>\n",
       "      <th>8</th>\n",
       "      <td>Linear_SVC</td>\n",
       "      <td>0.736794</td>\n",
       "      <td>1.743889</td>\n",
       "    </tr>\n",
       "    <tr>\n",
       "      <th>9</th>\n",
       "      <td>Ridge_Classifier</td>\n",
       "      <td>0.741348</td>\n",
       "      <td>0.152580</td>\n",
       "    </tr>\n",
       "  </tbody>\n",
       "</table>\n",
       "</div>"
      ],
      "text/plain": [
       "         Model_Applied  Accuracy  Training_Time\n",
       "0  Logistic_Regression  0.764117       0.558241\n",
       "1        Random_Forest  0.742714       3.873199\n",
       "2        Decision_tree  0.645264       0.008034\n",
       "3          BernoulliNB  0.755009       0.014958\n",
       "4            GausianNB  0.521858       0.774843\n",
       "5        MultinomialNB  0.753188       0.011969\n",
       "6                  KNN  0.493625       0.004952\n",
       "7                  SVC  0.766849       7.429110\n",
       "8           Linear_SVC  0.736794       1.743889\n",
       "9     Ridge_Classifier  0.741348       0.152580"
      ]
     },
     "execution_count": 53,
     "metadata": {},
     "output_type": "execute_result"
    }
   ],
   "source": [
    "df_model"
   ]
  },
  {
   "cell_type": "code",
   "execution_count": 54,
   "metadata": {},
   "outputs": [
    {
     "data": {
      "text/plain": [
       "<AxesSubplot:title={'center':'Accurcy comparison of different Models'}, xlabel='Model_Applied', ylabel='Accuracy'>"
      ]
     },
     "execution_count": 54,
     "metadata": {},
     "output_type": "execute_result"
    },
    {
     "data": {
      "image/png": "[encoded data removed]",
      "text/plain": [
       "<Figure size 720x720 with 1 Axes>"
      ]
     },
     "metadata": {
      "needs_background": "light"
     },
     "output_type": "display_data"
    }
   ],
   "source": [
    "df_model.plot(kind='bar',x='Model_Applied', ylim=[0.5,0.78] , y='Accuracy', figsize=(10,10) , ylabel='Accuracy', title='Accurcy comparison of different Models')"
   ]
  },
  {
   "cell_type": "code",
   "execution_count": 55,
   "metadata": {},
   "outputs": [
    {
     "data": {
      "text/plain": [
       "<AxesSubplot:title={'center':'Training time comparison of different Models'}, xlabel='Model_Applied', ylabel='Training Time'>"
      ]
     },
     "execution_count": 55,
     "metadata": {},
     "output_type": "execute_result"
    },
    {
     "data": {
      "image/png": "[encoded data removed]",
      "text/plain": [
       "<Figure size 720x720 with 1 Axes>"
      ]
     },
     "metadata": {
      "needs_background": "light"
     },
     "output_type": "display_data"
    }
   ],
   "source": [
    "df_model.plot(kind='bar',x='Model_Applied', ylim=[0,4.5] , y='Training_Time', figsize=(10,10), ylabel='Training Time', title='Training time comparison of different Models')"
   ]
  }
 ],
 "metadata": {
  "kernelspec": {
   "display_name": "Python 3",
   "language": "python",
   "name": "python3"
  },
  "language_info": {
   "codemirror_mode": {
    "name": "ipython",
    "version": 3
   },
   "file_extension": ".py",
   "mimetype": "text/x-python",
   "name": "python",
   "nbconvert_exporter": "python",
   "pygments_lexer": "ipython3",
   "version": "3.8.5"
  }
 },
 "nbformat": 4,
 "nbformat_minor": 4
}
