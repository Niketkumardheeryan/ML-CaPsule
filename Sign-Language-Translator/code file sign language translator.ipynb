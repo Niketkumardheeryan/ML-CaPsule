{
 "cells": [
  {
   "cell_type": "code",
   "execution_count": 1,
   "metadata": {},
   "outputs": [
    {
     "name": "stdout",
     "output_type": "stream",
     "text": [
      "Defaulting to user installation because normal site-packages is not writeable\n",
      "Requirement already satisfied: mediapipe in c:\\users\\nancy\\appdata\\roaming\\python\\python311\\site-packages (0.10.14)\n",
      "Requirement already satisfied: absl-py in c:\\users\\nancy\\appdata\\roaming\\python\\python311\\site-packages (from mediapipe) (2.1.0)\n",
      "Requirement already satisfied: attrs>=19.1.0 in c:\\programdata\\anaconda3\\lib\\site-packages (from mediapipe) (22.1.0)\n",
      "Requirement already satisfied: flatbuffers>=2.0 in c:\\users\\nancy\\appdata\\roaming\\python\\python311\\site-packages (from mediapipe) (24.3.25)\n",
      "Requirement already satisfied: jax in c:\\users\\nancy\\appdata\\roaming\\python\\python311\\site-packages (from mediapipe) (0.4.29)\n",
      "Requirement already satisfied: jaxlib in c:\\users\\nancy\\appdata\\roaming\\python\\python311\\site-packages (from mediapipe) (0.4.29)\n",
      "Requirement already satisfied: matplotlib in c:\\programdata\\anaconda3\\lib\\site-packages (from mediapipe) (3.7.1)\n",
      "Requirement already satisfied: numpy in c:\\programdata\\anaconda3\\lib\\site-packages (from mediapipe) (1.24.3)\n",
      "Requirement already satisfied: opencv-contrib-python in c:\\users\\nancy\\appdata\\roaming\\python\\python311\\site-packages (from mediapipe) (4.10.0.82)\n",
      "Requirement already satisfied: protobuf<5,>=4.25.3 in c:\\users\\nancy\\appdata\\roaming\\python\\python311\\site-packages (from mediapipe) (4.25.3)\n",
      "Requirement already satisfied: sounddevice>=0.4.4 in c:\\users\\nancy\\appdata\\roaming\\python\\python311\\site-packages (from mediapipe) (0.4.7)\n",
      "Requirement already satisfied: CFFI>=1.0 in c:\\programdata\\anaconda3\\lib\\site-packages (from sounddevice>=0.4.4->mediapipe) (1.15.1)\n",
      "Requirement already satisfied: ml-dtypes>=0.4.0 in c:\\users\\nancy\\appdata\\roaming\\python\\python311\\site-packages (from jax->mediapipe) (0.4.0)\n",
      "Requirement already satisfied: opt-einsum in c:\\users\\nancy\\appdata\\roaming\\python\\python311\\site-packages (from jax->mediapipe) (3.3.0)\n",
      "Requirement already satisfied: scipy>=1.9 in c:\\programdata\\anaconda3\\lib\\site-packages (from jax->mediapipe) (1.10.1)\n",
      "Requirement already satisfied: contourpy>=1.0.1 in c:\\programdata\\anaconda3\\lib\\site-packages (from matplotlib->mediapipe) (1.0.5)\n",
      "Requirement already satisfied: cycler>=0.10 in c:\\programdata\\anaconda3\\lib\\site-packages (from matplotlib->mediapipe) (0.11.0)\n",
      "Requirement already satisfied: fonttools>=4.22.0 in c:\\programdata\\anaconda3\\lib\\site-packages (from matplotlib->mediapipe) (4.25.0)\n",
      "Requirement already satisfied: kiwisolver>=1.0.1 in c:\\programdata\\anaconda3\\lib\\site-packages (from matplotlib->mediapipe) (1.4.4)\n",
      "Requirement already satisfied: packaging>=20.0 in c:\\programdata\\anaconda3\\lib\\site-packages (from matplotlib->mediapipe) (23.0)\n",
      "Requirement already satisfied: pillow>=6.2.0 in c:\\programdata\\anaconda3\\lib\\site-packages (from matplotlib->mediapipe) (9.4.0)\n",
      "Requirement already satisfied: pyparsing>=2.3.1 in c:\\programdata\\anaconda3\\lib\\site-packages (from matplotlib->mediapipe) (3.0.9)\n",
      "Requirement already satisfied: python-dateutil>=2.7 in c:\\programdata\\anaconda3\\lib\\site-packages (from matplotlib->mediapipe) (2.8.2)\n",
      "Requirement already satisfied: pycparser in c:\\programdata\\anaconda3\\lib\\site-packages (from CFFI>=1.0->sounddevice>=0.4.4->mediapipe) (2.21)\n",
      "Requirement already satisfied: six>=1.5 in c:\\programdata\\anaconda3\\lib\\site-packages (from python-dateutil>=2.7->matplotlib->mediapipe) (1.16.0)\n",
      "Note: you may need to restart the kernel to use updated packages.\n"
     ]
    }
   ],
   "source": [
    "pip install mediapipe"
   ]
  },
  {
   "cell_type": "code",
   "execution_count": 2,
   "metadata": {},
   "outputs": [
    {
     "name": "stdout",
     "output_type": "stream",
     "text": [
      "Defaulting to user installation because normal site-packages is not writeable\n",
      "Requirement already satisfied: pyttsx3 in c:\\users\\nancy\\appdata\\roaming\\python\\python311\\site-packages (2.90)\n",
      "Requirement already satisfied: comtypes in c:\\users\\nancy\\appdata\\roaming\\python\\python311\\site-packages (from pyttsx3) (1.4.4)\n",
      "Requirement already satisfied: pypiwin32 in c:\\users\\nancy\\appdata\\roaming\\python\\python311\\site-packages (from pyttsx3) (223)\n",
      "Requirement already satisfied: pywin32 in c:\\programdata\\anaconda3\\lib\\site-packages (from pyttsx3) (305.1)\n",
      "Note: you may need to restart the kernel to use updated packages.\n"
     ]
    }
   ],
   "source": [
    "pip install pyttsx3"
   ]
  },
  {
   "cell_type": "code",
   "execution_count": 3,
   "metadata": {},
   "outputs": [],
   "source": [
    "import cv2\n",
    "import mediapipe as mp\n",
    "import pyttsx3\n",
    "import concurrent.futures"
   ]
  },
  {
   "cell_type": "code",
   "execution_count": 4,
   "metadata": {},
   "outputs": [],
   "source": [
    "def speak(text):\n",
    "    text_speech = pyttsx3.init()\n",
    "    text_speech.say(text)\n",
    "    text_speech.runAndWait()"
   ]
  },
  {
   "cell_type": "code",
   "execution_count": 5,
   "metadata": {},
   "outputs": [],
   "source": [
    "cap = cv2.VideoCapture(0)\n",
    "mphands = mp.solutions.hands\n",
    "hands = mphands.Hands(static_image_mode=False,max_num_hands=2,\n",
    "                      min_detection_confidence=0.5,\n",
    "                      min_tracking_confidence=0.5)\n",
    "mpDraw = mp.solutions.drawing_utils\n",
    "\n",
    "txt1 = \"1\"\n",
    "txt2 = \"2\"\n",
    "txt3 = \"3\"\n",
    "txt4 = \"4\"\n",
    "txt5 = \"5\"\n",
    "txt6 = \"6\"\n",
    "txt7 = \"7\"\n",
    "txt8 = \"8\"\n"
   ]
  },
  {
   "cell_type": "code",
   "execution_count": 6,
   "metadata": {},
   "outputs": [
    {
     "name": "stderr",
     "output_type": "stream",
     "text": [
      "C:\\Users\\nancy\\AppData\\Roaming\\Python\\Python311\\site-packages\\google\\protobuf\\symbol_database.py:55: UserWarning: SymbolDatabase.GetPrototype() is deprecated. Please use message_factory.GetMessageClass() instead. SymbolDatabase.GetPrototype() will be removed soon.\n",
      "  warnings.warn('SymbolDatabase.GetPrototype() is deprecated. Please '\n"
     ]
    }
   ],
   "source": [
    "while True:\n",
    "    ret, frame = cap.read()\n",
    "    frame = cv2.flip(frame, 1)\n",
    "    frameRGB = cv2.cvtColor(frame, cv2.COLOR_BGR2RGB)\n",
    "    results = hands.process(frameRGB)\n",
    "\n",
    "    if results.multi_hand_landmarks:\n",
    "        landmarks = []\n",
    "\n",
    "        for hand_landmarks in results.multi_hand_landmarks:\n",
    "            mpDraw.draw_landmarks(frame, hand_landmarks, mphands.HAND_CONNECTIONS)\n",
    "\n",
    "            for id, lm in enumerate(hand_landmarks.landmark):\n",
    "                h, w, c = frame.shape\n",
    "                cx, cy = int(lm.x * w), int(lm.y * h)\n",
    "\n",
    "                landmarks.append([id, cx, cy])\n",
    "\n",
    "        if len(landmarks) == 21:\n",
    "            distancex = [landmarks[i][1] for i in range(21)]\n",
    "            distancey = [landmarks[i][2] for i in range(21)]\n",
    "\n",
    "\n",
    "            # Condition for Victory\n",
    "            if distancex[7] < distancex[11] and \\\n",
    "                 (distancex[11] - distancex[7]) > 5 and \\\n",
    "                 (distancex[16] - distancex[20]) < 0.05 and \\\n",
    "                 distancey[15] > distancey[7] + 50 and \\\n",
    "                 (distancey[5]-distancey[9]<30) and\\\n",
    "                 (distancex[14]-distancex[4]<20)and \\\n",
    "                 (distancey[0]-distancey[5]>100)and\\\n",
    "                 distancey[20] > distancey[7] + 40:\n",
    "                cv2.putText(frame, \"VICTORY\", (10, 50), cv2.FONT_HERSHEY_COMPLEX, 1, (0, 255, 255), 2, cv2.LINE_AA)\n",
    "                \n",
    "                \n",
    "                # with concurrent.futures.ThreadPoolExecutor() as executor:\n",
    "                #     executor.submit(speak, \"Victory\")\n",
    "\n",
    "\n",
    "            # Condition for lose\n",
    "            if distancex[6] < distancex[10] < distancex[14] < distancex[18] and \\\n",
    "                    (distancex[10] - distancex[6] < 50) and (distancex[14] - distancex[10] < 50) and (distancex[18] - distancex[14] < 50) and \\\n",
    "                    (distancex[18] - distancex[6] > 50) and (distancey[0] - distancey[6] < 50):\n",
    "                cv2.putText(frame, \"lose\", (10, 50), cv2.FONT_HERSHEY_COMPLEX, 1, (0, 255, 255), 2, cv2.LINE_AA)\n",
    "                \n",
    "                # with concurrent.futures.ThreadPoolExecutor() as executor:\n",
    "                #     executor.submit(speak, \"Lose\")\n",
    "\n",
    "\n",
    "\n",
    "           \n",
    "            # Condition for thumbs up\n",
    "            if ((distancey[4] < distancey[5]) & (distancex[5] - distancex[9] > 0) & (distancex[5] - distancex[9] < 20) & (distancex[4] -distancex[8] < 20)):\n",
    "                cv2.putText(frame, \"thumbs up\", (10, 50), cv2.FONT_HERSHEY_COMPLEX, 1, (0, 255, 255), 2, cv2.LINE_AA)\n",
    "                \n",
    "                # with concurrent.futures.ThreadPoolExecutor() as executor:\n",
    "                #     executor.submit(speak, \"thumbs up\")\n",
    "\n",
    "            #condition for pain\n",
    "            \n",
    "            if ((distancey[4]-distancey[8] > 100) & (distancey[4]-distancey[8] < 130) & (distancex[0]-distancex[4] > 125) & (distancey[0]-distancey[4] < 40)):\n",
    "                   cv2.putText(frame, \"pain\", (10, 50), cv2.FONT_HERSHEY_COMPLEX, 1, (255, 255, 0), 2, cv2.LINE_AA)\n",
    "                   \n",
    "                   # with concurrent.futures.ThreadPoolExecutor() as executor:\n",
    "                   #  executor.submit(speak, \"pain\")\n",
    "\n",
    "            #condition for Thumbs Down\n",
    "            if (distancey[3] + 20 < distancey[4]):\n",
    "                cv2.putText(frame, \"Thumbs Down\", (10, 50), cv2.FONT_HERSHEY_COMPLEX, 1, (255, 255, 0), 2, cv2.LINE_AA)\n",
    "                \n",
    "                # with concurrent.futures.ThreadPoolExecutor() as executor:\n",
    "                #     executor.submit(speak, \"smile\")\n",
    "\n",
    "            #condition for thief\n",
    "            if ((distancey[4]-distancey[8] < 20) & (distancey[4]-distancey[8] > 0)):\n",
    "                cv2.putText(frame, \"thief\", (15, 250), cv2.FONT_HERSHEY_PLAIN, 3,(0,0,255),5)\n",
    "                \n",
    "            \n",
    "\n",
    "            #condition for smile\n",
    "            if ((distancex[4] -distancex[8] > 130) & (distancex[12] - distancex[8] > 100)):\n",
    "                cv2.putText(frame, \"Smile\", (15, 250), cv2.FONT_HERSHEY_PLAIN, 3, (0, 0, 255), 5)\n",
    "                \n",
    "\n",
    "            #condn for call me\n",
    "            if (distancex[4]-distancex[20] > 180):\n",
    "                    \n",
    "                    cv2.putText(frame, \"CALL ME\", (10, 50), cv2.FONT_HERSHEY_COMPLEX, 1, (0, 255, 255), 2, cv2.LINE_AA)\n",
    "                    \n",
    "                    # with concurrent.futures.ThreadPoolExecutor() as executor:\n",
    "                    #     executor.submit(speak, \"CALL ME\")8\n",
    "                    \n",
    "                    \n",
    "             # Condition for hot\n",
    "            if (distancex[6] < distancex[8] and distancey[12] - distancey[4] < 15 and \\\n",
    "                     distancey[16] - distancey[4] < 15 and distancey[20] - distancey[4] < 15):\n",
    "                 cv2.putText(frame, \"hot\", (10, 50), cv2.FONT_HERSHEY_COMPLEX, 1, (0, 0, 255), 2, cv2.LINE_AA)\n",
    "                # with concurrent.futures.ThreadPoolExecutor() as executor:\n",
    "                #     executor.submit(speak, \"hot\")\n",
    "\n",
    "\n",
    "            #Condition for hi\n",
    "            if (distancey[4] < distancey[2] and distancey[8] < distancey[6]) and \\\n",
    "                     (distancey[20] < distancey[18] and distancey[12] < distancey[10]) and \\\n",
    "                     (distancey[16] < distancey[14] and (distancex[8] - distancex[12] < 15) and \\\n",
    "                      (distancex[12] - distancex[16] < 15) and (distancex[16] - distancex[20] < 15)):\n",
    "                 cv2.putText(frame, \"hi\", (15, 250), cv2.FONT_HERSHEY_PLAIN, 3, (0, 0, 255), 5)\n",
    "            #     with concurrent.futures.ThreadPoolExecutor() as executor:\n",
    "            #         executor.submit(speak, \"hi\")\n",
    "\n",
    "            \n",
    "    cv2.imshow(\"frame\", frame)\n",
    "\n",
    "    if cv2.waitKey(1) == ord(\"q\"):\n",
    "        break\n"
   ]
  },
  {
   "cell_type": "code",
   "execution_count": 7,
   "metadata": {},
   "outputs": [],
   "source": [
    "cap.release()\n",
    "cv2.destroyAllWindows()"
   ]
  }
 ],
 "metadata": {
  "kernelspec": {
   "display_name": "base",
   "language": "python",
   "name": "python3"
  },
  "language_info": {
   "codemirror_mode": {
    "name": "ipython",
    "version": 3
   },
   "file_extension": ".py",
   "mimetype": "text/x-python",
   "name": "python",
   "nbconvert_exporter": "python",
   "pygments_lexer": "ipython3",
   "version": "3.11.4"
  }
 },
 "nbformat": 4,
 "nbformat_minor": 2
}
