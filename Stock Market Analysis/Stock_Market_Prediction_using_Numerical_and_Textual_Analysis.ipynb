{
  "nbformat": 4,
  "nbformat_minor": 0,
  "metadata": {
    "colab": {
      "name": "Stock Market Prediction using Numerical and Textual Analysis.ipynb",
      "provenance": [],
      "collapsed_sections": []
    },
    "kernelspec": {
      "name": "python3",
      "display_name": "Python 3"
    },
    "language_info": {
      "name": "python"
    }
  },
  "cells": [
    {
      "cell_type": "markdown",
      "metadata": {
        "id": "k_HDAE5hqIzl"
      },
      "source": [
        ""
      ]
    },
    {
      "cell_type": "markdown",
      "metadata": {
        "id": "AbViNI3Pq_Ro"
      },
      "source": [
        "\n",
        "Name: SOMASREE MAJUMDER\n",
        "\n",
        "\n"
      ]
    },
    {
      "cell_type": "code",
      "metadata": {
        "colab": {
          "base_uri": "https://localhost:8080/"
        },
        "id": "SWVd2AGaDe7G",
        "outputId": "147ab0ff-ad4b-40f7-cd81-202923c58478"
      },
      "source": [
        "# importing libraries\n",
        "import warnings\n",
        "warnings.filterwarnings('ignore')\n",
        "\n",
        "import math\n",
        "import pandas as pd\n",
        "import numpy as np\n",
        "\n",
        "import matplotlib.pyplot as plt\n",
        "import seaborn as sns\n",
        "\n",
        "from sklearn import preprocessing, metrics\n",
        "from sklearn.preprocessing import MinMaxScaler\n",
        "\n",
        "from keras.models import Sequential\n",
        "from keras.layers import Dense, LSTM, Dropout, Dense, Activation\n",
        "\n",
        "import nltk\n",
        "nltk.download('vader_lexicon')\n",
        "from nltk.classify import NaiveBayesClassifier\n",
        "from nltk.corpus import subjectivity\n",
        "from nltk.sentiment import SentimentAnalyzer\n",
        "from nltk.sentiment.util import *"
      ],
      "execution_count": null,
      "outputs": [
        {
          "output_type": "stream",
          "text": [
            "[nltk_data] Downloading package vader_lexicon to /root/nltk_data...\n",
            "[nltk_data]   Package vader_lexicon is already up-to-date!\n"
          ],
          "name": "stdout"
        }
      ]
    },
    {
      "cell_type": "code",
      "metadata": {
        "colab": {
          "base_uri": "https://localhost:8080/"
        },
        "id": "lfqm9ESMajK_",
        "outputId": "6be7f73a-c34b-41b9-b747-f860909b96d0"
      },
      "source": [
        "pip install vaderSentiment"
      ],
      "execution_count": null,
      "outputs": [
        {
          "output_type": "stream",
          "text": [
            "Requirement already satisfied: vaderSentiment in /usr/local/lib/python3.7/dist-packages (3.3.2)\n",
            "Requirement already satisfied: requests in /usr/local/lib/python3.7/dist-packages (from vaderSentiment) (2.23.0)\n",
            "Requirement already satisfied: chardet<4,>=3.0.2 in /usr/local/lib/python3.7/dist-packages (from requests->vaderSentiment) (3.0.4)\n",
            "Requirement already satisfied: urllib3!=1.25.0,!=1.25.1,<1.26,>=1.21.1 in /usr/local/lib/python3.7/dist-packages (from requests->vaderSentiment) (1.24.3)\n",
            "Requirement already satisfied: idna<3,>=2.5 in /usr/local/lib/python3.7/dist-packages (from requests->vaderSentiment) (2.10)\n",
            "Requirement already satisfied: certifi>=2017.4.17 in /usr/local/lib/python3.7/dist-packages (from requests->vaderSentiment) (2020.12.5)\n"
          ],
          "name": "stdout"
        }
      ]
    },
    {
      "cell_type": "code",
      "metadata": {
        "id": "-DF-YcKUEqUx"
      },
      "source": [
        "# reading the datasets into pandas\n",
        "stock_price = pd.read_csv('/content/MSFT.csv')\n",
        "stock_headlines = pd.read_csv('/content/india-news-headlines.csv')"
      ],
      "execution_count": null,
      "outputs": []
    },
    {
      "cell_type": "code",
      "metadata": {
        "colab": {
          "base_uri": "https://localhost:8080/",
          "height": 197
        },
        "id": "ZW6tEv3-E9pr",
        "outputId": "7cec276d-ad94-48bd-cc1e-64a6f48e0fd8"
      },
      "source": [
        "stock_price.head()\n"
      ],
      "execution_count": null,
      "outputs": [
        {
          "output_type": "execute_result",
          "data": {
            "text/html": [
              "<div>\n",
              "<style scoped>\n",
              "    .dataframe tbody tr th:only-of-type {\n",
              "        vertical-align: middle;\n",
              "    }\n",
              "\n",
              "    .dataframe tbody tr th {\n",
              "        vertical-align: top;\n",
              "    }\n",
              "\n",
              "    .dataframe thead th {\n",
              "        text-align: right;\n",
              "    }\n",
              "</style>\n",
              "<table border=\"1\" class=\"dataframe\">\n",
              "  <thead>\n",
              "    <tr style=\"text-align: right;\">\n",
              "      <th></th>\n",
              "      <th>Date</th>\n",
              "      <th>Open</th>\n",
              "      <th>High</th>\n",
              "      <th>Low</th>\n",
              "      <th>Close</th>\n",
              "      <th>Adj Close</th>\n",
              "      <th>Volume</th>\n",
              "    </tr>\n",
              "  </thead>\n",
              "  <tbody>\n",
              "    <tr>\n",
              "      <th>0</th>\n",
              "      <td>2020-05-15</td>\n",
              "      <td>179.059998</td>\n",
              "      <td>187.059998</td>\n",
              "      <td>177.000000</td>\n",
              "      <td>183.160004</td>\n",
              "      <td>181.317429</td>\n",
              "      <td>46610400</td>\n",
              "    </tr>\n",
              "    <tr>\n",
              "      <th>1</th>\n",
              "      <td>2020-05-18</td>\n",
              "      <td>185.750000</td>\n",
              "      <td>186.199997</td>\n",
              "      <td>183.960007</td>\n",
              "      <td>184.910004</td>\n",
              "      <td>183.049850</td>\n",
              "      <td>35264500</td>\n",
              "    </tr>\n",
              "    <tr>\n",
              "      <th>2</th>\n",
              "      <td>2020-05-19</td>\n",
              "      <td>185.029999</td>\n",
              "      <td>186.600006</td>\n",
              "      <td>183.490005</td>\n",
              "      <td>183.630005</td>\n",
              "      <td>181.782730</td>\n",
              "      <td>26799100</td>\n",
              "    </tr>\n",
              "    <tr>\n",
              "      <th>3</th>\n",
              "      <td>2020-05-20</td>\n",
              "      <td>184.809998</td>\n",
              "      <td>185.850006</td>\n",
              "      <td>183.940002</td>\n",
              "      <td>185.660004</td>\n",
              "      <td>184.304169</td>\n",
              "      <td>31261300</td>\n",
              "    </tr>\n",
              "    <tr>\n",
              "      <th>4</th>\n",
              "      <td>2020-05-21</td>\n",
              "      <td>185.399994</td>\n",
              "      <td>186.669998</td>\n",
              "      <td>183.289993</td>\n",
              "      <td>183.429993</td>\n",
              "      <td>182.090454</td>\n",
              "      <td>29119500</td>\n",
              "    </tr>\n",
              "  </tbody>\n",
              "</table>\n",
              "</div>"
            ],
            "text/plain": [
              "         Date        Open        High  ...       Close   Adj Close    Volume\n",
              "0  2020-05-15  179.059998  187.059998  ...  183.160004  181.317429  46610400\n",
              "1  2020-05-18  185.750000  186.199997  ...  184.910004  183.049850  35264500\n",
              "2  2020-05-19  185.029999  186.600006  ...  183.630005  181.782730  26799100\n",
              "3  2020-05-20  184.809998  185.850006  ...  185.660004  184.304169  31261300\n",
              "4  2020-05-21  185.399994  186.669998  ...  183.429993  182.090454  29119500\n",
              "\n",
              "[5 rows x 7 columns]"
            ]
          },
          "metadata": {
            "tags": []
          },
          "execution_count": 15
        }
      ]
    },
    {
      "cell_type": "code",
      "metadata": {
        "colab": {
          "base_uri": "https://localhost:8080/",
          "height": 197
        },
        "id": "JcnpGDozKrie",
        "outputId": "137ebf91-6f6b-4cf9-aa6d-35b4697223d1"
      },
      "source": [
        "stock_headlines.head()"
      ],
      "execution_count": null,
      "outputs": [
        {
          "output_type": "execute_result",
          "data": {
            "text/html": [
              "<div>\n",
              "<style scoped>\n",
              "    .dataframe tbody tr th:only-of-type {\n",
              "        vertical-align: middle;\n",
              "    }\n",
              "\n",
              "    .dataframe tbody tr th {\n",
              "        vertical-align: top;\n",
              "    }\n",
              "\n",
              "    .dataframe thead th {\n",
              "        text-align: right;\n",
              "    }\n",
              "</style>\n",
              "<table border=\"1\" class=\"dataframe\">\n",
              "  <thead>\n",
              "    <tr style=\"text-align: right;\">\n",
              "      <th></th>\n",
              "      <th>publish_date</th>\n",
              "      <th>headline_category</th>\n",
              "      <th>headline_text</th>\n",
              "    </tr>\n",
              "  </thead>\n",
              "  <tbody>\n",
              "    <tr>\n",
              "      <th>0</th>\n",
              "      <td>20010102</td>\n",
              "      <td>unknown</td>\n",
              "      <td>Status quo will not be disturbed at Ayodhya; s...</td>\n",
              "    </tr>\n",
              "    <tr>\n",
              "      <th>1</th>\n",
              "      <td>20010102</td>\n",
              "      <td>unknown</td>\n",
              "      <td>Fissures in Hurriyat over Pak visit</td>\n",
              "    </tr>\n",
              "    <tr>\n",
              "      <th>2</th>\n",
              "      <td>20010102</td>\n",
              "      <td>unknown</td>\n",
              "      <td>America's unwanted heading for India?</td>\n",
              "    </tr>\n",
              "    <tr>\n",
              "      <th>3</th>\n",
              "      <td>20010102</td>\n",
              "      <td>unknown</td>\n",
              "      <td>For bigwigs; it is destination Goa</td>\n",
              "    </tr>\n",
              "    <tr>\n",
              "      <th>4</th>\n",
              "      <td>20010102</td>\n",
              "      <td>unknown</td>\n",
              "      <td>Extra buses to clear tourist traffic</td>\n",
              "    </tr>\n",
              "  </tbody>\n",
              "</table>\n",
              "</div>"
            ],
            "text/plain": [
              "   publish_date  ...                                      headline_text\n",
              "0      20010102  ...  Status quo will not be disturbed at Ayodhya; s...\n",
              "1      20010102  ...                Fissures in Hurriyat over Pak visit\n",
              "2      20010102  ...              America's unwanted heading for India?\n",
              "3      20010102  ...                 For bigwigs; it is destination Goa\n",
              "4      20010102  ...               Extra buses to clear tourist traffic\n",
              "\n",
              "[5 rows x 3 columns]"
            ]
          },
          "metadata": {
            "tags": []
          },
          "execution_count": 16
        }
      ]
    },
    {
      "cell_type": "code",
      "metadata": {
        "colab": {
          "base_uri": "https://localhost:8080/"
        },
        "id": "hzV46VGUFM54",
        "outputId": "e069abcb-61d3-4e31-f8fb-f6472dffd32c"
      },
      "source": [
        "stock_headlines.isna().any()"
      ],
      "execution_count": null,
      "outputs": [
        {
          "output_type": "execute_result",
          "data": {
            "text/plain": [
              "publish_date         False\n",
              "headline_category     True\n",
              "headline_text         True\n",
              "dtype: bool"
            ]
          },
          "metadata": {
            "tags": []
          },
          "execution_count": 17
        }
      ]
    },
    {
      "cell_type": "code",
      "metadata": {
        "colab": {
          "base_uri": "https://localhost:8080/"
        },
        "id": "d-TvwzicfYL7",
        "outputId": "51aa117f-e00a-4066-8713-95ff23a6b2a0"
      },
      "source": [
        "stock_price.columns"
      ],
      "execution_count": null,
      "outputs": [
        {
          "output_type": "execute_result",
          "data": {
            "text/plain": [
              "Index(['Date', 'Open', 'High', 'Low', 'Close', 'Adj Close', 'Volume'], dtype='object')"
            ]
          },
          "metadata": {
            "tags": []
          },
          "execution_count": 18
        }
      ]
    },
    {
      "cell_type": "code",
      "metadata": {
        "colab": {
          "base_uri": "https://localhost:8080/",
          "height": 405
        },
        "id": "wHF0U1y2f1_O",
        "outputId": "137bc043-0cae-44b4-df4a-73eb52c56c6d"
      },
      "source": [
        "# concatenation of the datasets stock_price and stock_headlines\n",
        "stock_data = pd.concat([stock_price, stock_headlines], axis=1)\n",
        "\n",
        "stock_data.dropna(axis=0, inplace=True)\n",
        "\n",
        "# displaying the combined stock_data\n",
        "stock_data"
      ],
      "execution_count": null,
      "outputs": [
        {
          "output_type": "execute_result",
          "data": {
            "text/html": [
              "<div>\n",
              "<style scoped>\n",
              "    .dataframe tbody tr th:only-of-type {\n",
              "        vertical-align: middle;\n",
              "    }\n",
              "\n",
              "    .dataframe tbody tr th {\n",
              "        vertical-align: top;\n",
              "    }\n",
              "\n",
              "    .dataframe thead th {\n",
              "        text-align: right;\n",
              "    }\n",
              "</style>\n",
              "<table border=\"1\" class=\"dataframe\">\n",
              "  <thead>\n",
              "    <tr style=\"text-align: right;\">\n",
              "      <th></th>\n",
              "      <th>Date</th>\n",
              "      <th>Open</th>\n",
              "      <th>High</th>\n",
              "      <th>Low</th>\n",
              "      <th>Close</th>\n",
              "      <th>Adj Close</th>\n",
              "      <th>Volume</th>\n",
              "      <th>publish_date</th>\n",
              "      <th>headline_category</th>\n",
              "      <th>headline_text</th>\n",
              "    </tr>\n",
              "  </thead>\n",
              "  <tbody>\n",
              "    <tr>\n",
              "      <th>0</th>\n",
              "      <td>2020-05-15</td>\n",
              "      <td>179.059998</td>\n",
              "      <td>187.059998</td>\n",
              "      <td>177.000000</td>\n",
              "      <td>183.160004</td>\n",
              "      <td>181.317429</td>\n",
              "      <td>46610400.0</td>\n",
              "      <td>20010102</td>\n",
              "      <td>unknown</td>\n",
              "      <td>Status quo will not be disturbed at Ayodhya; s...</td>\n",
              "    </tr>\n",
              "    <tr>\n",
              "      <th>1</th>\n",
              "      <td>2020-05-18</td>\n",
              "      <td>185.750000</td>\n",
              "      <td>186.199997</td>\n",
              "      <td>183.960007</td>\n",
              "      <td>184.910004</td>\n",
              "      <td>183.049850</td>\n",
              "      <td>35264500.0</td>\n",
              "      <td>20010102</td>\n",
              "      <td>unknown</td>\n",
              "      <td>Fissures in Hurriyat over Pak visit</td>\n",
              "    </tr>\n",
              "    <tr>\n",
              "      <th>2</th>\n",
              "      <td>2020-05-19</td>\n",
              "      <td>185.029999</td>\n",
              "      <td>186.600006</td>\n",
              "      <td>183.490005</td>\n",
              "      <td>183.630005</td>\n",
              "      <td>181.782730</td>\n",
              "      <td>26799100.0</td>\n",
              "      <td>20010102</td>\n",
              "      <td>unknown</td>\n",
              "      <td>America's unwanted heading for India?</td>\n",
              "    </tr>\n",
              "    <tr>\n",
              "      <th>3</th>\n",
              "      <td>2020-05-20</td>\n",
              "      <td>184.809998</td>\n",
              "      <td>185.850006</td>\n",
              "      <td>183.940002</td>\n",
              "      <td>185.660004</td>\n",
              "      <td>184.304169</td>\n",
              "      <td>31261300.0</td>\n",
              "      <td>20010102</td>\n",
              "      <td>unknown</td>\n",
              "      <td>For bigwigs; it is destination Goa</td>\n",
              "    </tr>\n",
              "    <tr>\n",
              "      <th>4</th>\n",
              "      <td>2020-05-21</td>\n",
              "      <td>185.399994</td>\n",
              "      <td>186.669998</td>\n",
              "      <td>183.289993</td>\n",
              "      <td>183.429993</td>\n",
              "      <td>182.090454</td>\n",
              "      <td>29119500.0</td>\n",
              "      <td>20010102</td>\n",
              "      <td>unknown</td>\n",
              "      <td>Extra buses to clear tourist traffic</td>\n",
              "    </tr>\n",
              "    <tr>\n",
              "      <th>...</th>\n",
              "      <td>...</td>\n",
              "      <td>...</td>\n",
              "      <td>...</td>\n",
              "      <td>...</td>\n",
              "      <td>...</td>\n",
              "      <td>...</td>\n",
              "      <td>...</td>\n",
              "      <td>...</td>\n",
              "      <td>...</td>\n",
              "      <td>...</td>\n",
              "    </tr>\n",
              "    <tr>\n",
              "      <th>247</th>\n",
              "      <td>2021-05-10</td>\n",
              "      <td>250.869995</td>\n",
              "      <td>251.729996</td>\n",
              "      <td>247.119995</td>\n",
              "      <td>247.179993</td>\n",
              "      <td>247.179993</td>\n",
              "      <td>29299900.0</td>\n",
              "      <td>20010104</td>\n",
              "      <td>unknown</td>\n",
              "      <td>New office-bearers for ICSI</td>\n",
              "    </tr>\n",
              "    <tr>\n",
              "      <th>248</th>\n",
              "      <td>2021-05-11</td>\n",
              "      <td>244.550003</td>\n",
              "      <td>246.600006</td>\n",
              "      <td>242.570007</td>\n",
              "      <td>246.229996</td>\n",
              "      <td>246.229996</td>\n",
              "      <td>33641600.0</td>\n",
              "      <td>20010104</td>\n",
              "      <td>unknown</td>\n",
              "      <td>CM to review security for Premji; Murthy</td>\n",
              "    </tr>\n",
              "    <tr>\n",
              "      <th>249</th>\n",
              "      <td>2021-05-12</td>\n",
              "      <td>242.169998</td>\n",
              "      <td>244.380005</td>\n",
              "      <td>238.070007</td>\n",
              "      <td>239.000000</td>\n",
              "      <td>239.000000</td>\n",
              "      <td>36684400.0</td>\n",
              "      <td>20010104</td>\n",
              "      <td>unknown</td>\n",
              "      <td>Govt allots UKP project to KPC</td>\n",
              "    </tr>\n",
              "    <tr>\n",
              "      <th>250</th>\n",
              "      <td>2021-05-13</td>\n",
              "      <td>241.800003</td>\n",
              "      <td>245.600006</td>\n",
              "      <td>241.419998</td>\n",
              "      <td>243.029999</td>\n",
              "      <td>243.029999</td>\n",
              "      <td>29624300.0</td>\n",
              "      <td>20010104</td>\n",
              "      <td>unknown</td>\n",
              "      <td>Star hotels in city get tech-savvy</td>\n",
              "    </tr>\n",
              "    <tr>\n",
              "      <th>251</th>\n",
              "      <td>2021-05-14</td>\n",
              "      <td>245.580002</td>\n",
              "      <td>249.179993</td>\n",
              "      <td>245.490005</td>\n",
              "      <td>248.149994</td>\n",
              "      <td>248.149994</td>\n",
              "      <td>23868600.0</td>\n",
              "      <td>20010104</td>\n",
              "      <td>unknown</td>\n",
              "      <td>When principals wed</td>\n",
              "    </tr>\n",
              "  </tbody>\n",
              "</table>\n",
              "<p>252 rows × 10 columns</p>\n",
              "</div>"
            ],
            "text/plain": [
              "           Date  ...                                      headline_text\n",
              "0    2020-05-15  ...  Status quo will not be disturbed at Ayodhya; s...\n",
              "1    2020-05-18  ...                Fissures in Hurriyat over Pak visit\n",
              "2    2020-05-19  ...              America's unwanted heading for India?\n",
              "3    2020-05-20  ...                 For bigwigs; it is destination Goa\n",
              "4    2020-05-21  ...               Extra buses to clear tourist traffic\n",
              "..          ...  ...                                                ...\n",
              "247  2021-05-10  ...                        New office-bearers for ICSI\n",
              "248  2021-05-11  ...           CM to review security for Premji; Murthy\n",
              "249  2021-05-12  ...                     Govt allots UKP project to KPC\n",
              "250  2021-05-13  ...                 Star hotels in city get tech-savvy\n",
              "251  2021-05-14  ...                                When principals wed\n",
              "\n",
              "[252 rows x 10 columns]"
            ]
          },
          "metadata": {
            "tags": []
          },
          "execution_count": 19
        }
      ]
    },
    {
      "cell_type": "code",
      "metadata": {
        "colab": {
          "base_uri": "https://localhost:8080/"
        },
        "id": "dOZqffEYfdXV",
        "outputId": "3dd2cd2f-bbab-4a28-ab0c-8c4dfa0b57f0"
      },
      "source": [
        "stock_headlines.columns"
      ],
      "execution_count": null,
      "outputs": [
        {
          "output_type": "execute_result",
          "data": {
            "text/plain": [
              "Index(['publish_date', 'headline_category', 'headline_text'], dtype='object')"
            ]
          },
          "metadata": {
            "tags": []
          },
          "execution_count": 20
        }
      ]
    },
    {
      "cell_type": "code",
      "metadata": {
        "colab": {
          "base_uri": "https://localhost:8080/"
        },
        "id": "4GaVGWkYLKJa",
        "outputId": "5221cec8-22f2-4e1b-d70a-bf470fb4b205"
      },
      "source": [
        "stock_price.isna().any()"
      ],
      "execution_count": null,
      "outputs": [
        {
          "output_type": "execute_result",
          "data": {
            "text/plain": [
              "Date         False\n",
              "Open         False\n",
              "High         False\n",
              "Low          False\n",
              "Close        False\n",
              "Adj Close    False\n",
              "Volume       False\n",
              "dtype: bool"
            ]
          },
          "metadata": {
            "tags": []
          },
          "execution_count": 21
        }
      ]
    },
    {
      "cell_type": "code",
      "metadata": {
        "colab": {
          "base_uri": "https://localhost:8080/"
        },
        "id": "OREwVT3lFa0a",
        "outputId": "918865b3-5cae-468e-eda5-b3bad760c249"
      },
      "source": [
        "len(stock_price), len(stock_headlines)"
      ],
      "execution_count": null,
      "outputs": [
        {
          "output_type": "execute_result",
          "data": {
            "text/plain": [
              "(252, 439173)"
            ]
          },
          "metadata": {
            "tags": []
          },
          "execution_count": 22
        }
      ]
    },
    {
      "cell_type": "code",
      "metadata": {
        "colab": {
          "base_uri": "https://localhost:8080/"
        },
        "id": "bIWmbQltGIwT",
        "outputId": "02a69501-e907-4baa-cfa9-44fbfb0c5df7"
      },
      "source": [
        "stock_price.isna().any(), stock_headlines.isna().any()"
      ],
      "execution_count": null,
      "outputs": [
        {
          "output_type": "execute_result",
          "data": {
            "text/plain": [
              "(Date         False\n",
              " Open         False\n",
              " High         False\n",
              " Low          False\n",
              " Close        False\n",
              " Adj Close    False\n",
              " Volume       False\n",
              " dtype: bool, publish_date         False\n",
              " headline_category     True\n",
              " headline_text         True\n",
              " dtype: bool)"
            ]
          },
          "metadata": {
            "tags": []
          },
          "execution_count": 23
        }
      ]
    },
    {
      "cell_type": "code",
      "metadata": {
        "id": "CUUNNrgDLjzA",
        "colab": {
          "base_uri": "https://localhost:8080/",
          "height": 197
        },
        "outputId": "7bd171a1-2d7a-48aa-d929-059a525aabc3"
      },
      "source": [
        "\n",
        "stock_data['compound'] = ''\n",
        "stock_data['negative'] = ''\n",
        "stock_data['neutral'] = ''\n",
        "stock_data['positive'] = ''\n",
        "stock_data.head()\n"
      ],
      "execution_count": null,
      "outputs": [
        {
          "output_type": "execute_result",
          "data": {
            "text/html": [
              "<div>\n",
              "<style scoped>\n",
              "    .dataframe tbody tr th:only-of-type {\n",
              "        vertical-align: middle;\n",
              "    }\n",
              "\n",
              "    .dataframe tbody tr th {\n",
              "        vertical-align: top;\n",
              "    }\n",
              "\n",
              "    .dataframe thead th {\n",
              "        text-align: right;\n",
              "    }\n",
              "</style>\n",
              "<table border=\"1\" class=\"dataframe\">\n",
              "  <thead>\n",
              "    <tr style=\"text-align: right;\">\n",
              "      <th></th>\n",
              "      <th>Date</th>\n",
              "      <th>Open</th>\n",
              "      <th>High</th>\n",
              "      <th>Low</th>\n",
              "      <th>Close</th>\n",
              "      <th>Adj Close</th>\n",
              "      <th>Volume</th>\n",
              "      <th>publish_date</th>\n",
              "      <th>headline_category</th>\n",
              "      <th>headline_text</th>\n",
              "      <th>compound</th>\n",
              "      <th>negative</th>\n",
              "      <th>neutral</th>\n",
              "      <th>positive</th>\n",
              "    </tr>\n",
              "  </thead>\n",
              "  <tbody>\n",
              "    <tr>\n",
              "      <th>0</th>\n",
              "      <td>2020-05-15</td>\n",
              "      <td>179.059998</td>\n",
              "      <td>187.059998</td>\n",
              "      <td>177.000000</td>\n",
              "      <td>183.160004</td>\n",
              "      <td>181.317429</td>\n",
              "      <td>46610400.0</td>\n",
              "      <td>20010102</td>\n",
              "      <td>unknown</td>\n",
              "      <td>Status quo will not be disturbed at Ayodhya; s...</td>\n",
              "      <td></td>\n",
              "      <td></td>\n",
              "      <td></td>\n",
              "      <td></td>\n",
              "    </tr>\n",
              "    <tr>\n",
              "      <th>1</th>\n",
              "      <td>2020-05-18</td>\n",
              "      <td>185.750000</td>\n",
              "      <td>186.199997</td>\n",
              "      <td>183.960007</td>\n",
              "      <td>184.910004</td>\n",
              "      <td>183.049850</td>\n",
              "      <td>35264500.0</td>\n",
              "      <td>20010102</td>\n",
              "      <td>unknown</td>\n",
              "      <td>Fissures in Hurriyat over Pak visit</td>\n",
              "      <td></td>\n",
              "      <td></td>\n",
              "      <td></td>\n",
              "      <td></td>\n",
              "    </tr>\n",
              "    <tr>\n",
              "      <th>2</th>\n",
              "      <td>2020-05-19</td>\n",
              "      <td>185.029999</td>\n",
              "      <td>186.600006</td>\n",
              "      <td>183.490005</td>\n",
              "      <td>183.630005</td>\n",
              "      <td>181.782730</td>\n",
              "      <td>26799100.0</td>\n",
              "      <td>20010102</td>\n",
              "      <td>unknown</td>\n",
              "      <td>America's unwanted heading for India?</td>\n",
              "      <td></td>\n",
              "      <td></td>\n",
              "      <td></td>\n",
              "      <td></td>\n",
              "    </tr>\n",
              "    <tr>\n",
              "      <th>3</th>\n",
              "      <td>2020-05-20</td>\n",
              "      <td>184.809998</td>\n",
              "      <td>185.850006</td>\n",
              "      <td>183.940002</td>\n",
              "      <td>185.660004</td>\n",
              "      <td>184.304169</td>\n",
              "      <td>31261300.0</td>\n",
              "      <td>20010102</td>\n",
              "      <td>unknown</td>\n",
              "      <td>For bigwigs; it is destination Goa</td>\n",
              "      <td></td>\n",
              "      <td></td>\n",
              "      <td></td>\n",
              "      <td></td>\n",
              "    </tr>\n",
              "    <tr>\n",
              "      <th>4</th>\n",
              "      <td>2020-05-21</td>\n",
              "      <td>185.399994</td>\n",
              "      <td>186.669998</td>\n",
              "      <td>183.289993</td>\n",
              "      <td>183.429993</td>\n",
              "      <td>182.090454</td>\n",
              "      <td>29119500.0</td>\n",
              "      <td>20010102</td>\n",
              "      <td>unknown</td>\n",
              "      <td>Extra buses to clear tourist traffic</td>\n",
              "      <td></td>\n",
              "      <td></td>\n",
              "      <td></td>\n",
              "      <td></td>\n",
              "    </tr>\n",
              "  </tbody>\n",
              "</table>\n",
              "</div>"
            ],
            "text/plain": [
              "         Date        Open        High  ...  negative  neutral  positive\n",
              "0  2020-05-15  179.059998  187.059998  ...                             \n",
              "1  2020-05-18  185.750000  186.199997  ...                             \n",
              "2  2020-05-19  185.029999  186.600006  ...                             \n",
              "3  2020-05-20  184.809998  185.850006  ...                             \n",
              "4  2020-05-21  185.399994  186.669998  ...                             \n",
              "\n",
              "[5 rows x 14 columns]"
            ]
          },
          "metadata": {
            "tags": []
          },
          "execution_count": 24
        }
      ]
    },
    {
      "cell_type": "code",
      "metadata": {
        "colab": {
          "base_uri": "https://localhost:8080/"
        },
        "id": "cdpS12ZzhUOk",
        "outputId": "d4b72a11-b917-468b-947f-3bdaa9f7d4ac"
      },
      "source": [
        "pip install unicodedata"
      ],
      "execution_count": null,
      "outputs": [
        {
          "output_type": "stream",
          "text": [
            "\u001b[31mERROR: Could not find a version that satisfies the requirement unicodedata (from versions: none)\u001b[0m\n",
            "\u001b[31mERROR: No matching distribution found for unicodedata\u001b[0m\n"
          ],
          "name": "stdout"
        }
      ]
    },
    {
      "cell_type": "code",
      "metadata": {
        "colab": {
          "base_uri": "https://localhost:8080/",
          "height": 299
        },
        "id": "L5VmzsM_LpDt",
        "outputId": "7555bfd9-af2b-45e5-e058-2cb140334efa"
      },
      "source": [
        "from nltk.sentiment.vader import SentimentIntensityAnalyzer\n",
        "import unicodedata\n",
        "\n",
        "#Sentiment Analyzer\n",
        "sid = SentimentIntensityAnalyzer()\n",
        "print('Start calculating sentiment scores:')\n",
        "\n",
        "stock_data['compound'] = stock_data['headline_text'].apply(lambda x: sid.polarity_scores(x)['compound'])\n",
        "print('Compound Done')\n",
        "stock_data['negative'] = stock_data['headline_text'].apply(lambda x: sid.polarity_scores(x)['neg'])\n",
        "print('Negative Done')\n",
        "stock_data['neutral'] = stock_data['headline_text'].apply(lambda x: sid.polarity_scores(x)['neu'])\n",
        "print('Neutral Done')\n",
        "stock_data['positive'] = stock_data['headline_text'].apply(lambda x: sid.polarity_scores(x)['pos'])\n",
        "print('Positive Done')\n",
        "print('Stop')\n",
        "\n",
        "stock_data.head()\n"
      ],
      "execution_count": null,
      "outputs": [
        {
          "output_type": "stream",
          "text": [
            "Start calculating sentiment scores:\n",
            "Compound Done\n",
            "Negative Done\n",
            "Neutral Done\n",
            "Positive Done\n",
            "Stop\n"
          ],
          "name": "stdout"
        },
        {
          "output_type": "execute_result",
          "data": {
            "text/html": [
              "<div>\n",
              "<style scoped>\n",
              "    .dataframe tbody tr th:only-of-type {\n",
              "        vertical-align: middle;\n",
              "    }\n",
              "\n",
              "    .dataframe tbody tr th {\n",
              "        vertical-align: top;\n",
              "    }\n",
              "\n",
              "    .dataframe thead th {\n",
              "        text-align: right;\n",
              "    }\n",
              "</style>\n",
              "<table border=\"1\" class=\"dataframe\">\n",
              "  <thead>\n",
              "    <tr style=\"text-align: right;\">\n",
              "      <th></th>\n",
              "      <th>Date</th>\n",
              "      <th>Open</th>\n",
              "      <th>High</th>\n",
              "      <th>Low</th>\n",
              "      <th>Close</th>\n",
              "      <th>Adj Close</th>\n",
              "      <th>Volume</th>\n",
              "      <th>publish_date</th>\n",
              "      <th>headline_category</th>\n",
              "      <th>headline_text</th>\n",
              "      <th>compound</th>\n",
              "      <th>negative</th>\n",
              "      <th>neutral</th>\n",
              "      <th>positive</th>\n",
              "    </tr>\n",
              "  </thead>\n",
              "  <tbody>\n",
              "    <tr>\n",
              "      <th>0</th>\n",
              "      <td>2020-05-15</td>\n",
              "      <td>179.059998</td>\n",
              "      <td>187.059998</td>\n",
              "      <td>177.000000</td>\n",
              "      <td>183.160004</td>\n",
              "      <td>181.317429</td>\n",
              "      <td>46610400.0</td>\n",
              "      <td>20010102</td>\n",
              "      <td>unknown</td>\n",
              "      <td>Status quo will not be disturbed at Ayodhya; s...</td>\n",
              "      <td>0.2924</td>\n",
              "      <td>0.000</td>\n",
              "      <td>0.805</td>\n",
              "      <td>0.195</td>\n",
              "    </tr>\n",
              "    <tr>\n",
              "      <th>1</th>\n",
              "      <td>2020-05-18</td>\n",
              "      <td>185.750000</td>\n",
              "      <td>186.199997</td>\n",
              "      <td>183.960007</td>\n",
              "      <td>184.910004</td>\n",
              "      <td>183.049850</td>\n",
              "      <td>35264500.0</td>\n",
              "      <td>20010102</td>\n",
              "      <td>unknown</td>\n",
              "      <td>Fissures in Hurriyat over Pak visit</td>\n",
              "      <td>0.0000</td>\n",
              "      <td>0.000</td>\n",
              "      <td>1.000</td>\n",
              "      <td>0.000</td>\n",
              "    </tr>\n",
              "    <tr>\n",
              "      <th>2</th>\n",
              "      <td>2020-05-19</td>\n",
              "      <td>185.029999</td>\n",
              "      <td>186.600006</td>\n",
              "      <td>183.490005</td>\n",
              "      <td>183.630005</td>\n",
              "      <td>181.782730</td>\n",
              "      <td>26799100.0</td>\n",
              "      <td>20010102</td>\n",
              "      <td>unknown</td>\n",
              "      <td>America's unwanted heading for India?</td>\n",
              "      <td>-0.2263</td>\n",
              "      <td>0.322</td>\n",
              "      <td>0.678</td>\n",
              "      <td>0.000</td>\n",
              "    </tr>\n",
              "    <tr>\n",
              "      <th>3</th>\n",
              "      <td>2020-05-20</td>\n",
              "      <td>184.809998</td>\n",
              "      <td>185.850006</td>\n",
              "      <td>183.940002</td>\n",
              "      <td>185.660004</td>\n",
              "      <td>184.304169</td>\n",
              "      <td>31261300.0</td>\n",
              "      <td>20010102</td>\n",
              "      <td>unknown</td>\n",
              "      <td>For bigwigs; it is destination Goa</td>\n",
              "      <td>0.0000</td>\n",
              "      <td>0.000</td>\n",
              "      <td>1.000</td>\n",
              "      <td>0.000</td>\n",
              "    </tr>\n",
              "    <tr>\n",
              "      <th>4</th>\n",
              "      <td>2020-05-21</td>\n",
              "      <td>185.399994</td>\n",
              "      <td>186.669998</td>\n",
              "      <td>183.289993</td>\n",
              "      <td>183.429993</td>\n",
              "      <td>182.090454</td>\n",
              "      <td>29119500.0</td>\n",
              "      <td>20010102</td>\n",
              "      <td>unknown</td>\n",
              "      <td>Extra buses to clear tourist traffic</td>\n",
              "      <td>0.3818</td>\n",
              "      <td>0.000</td>\n",
              "      <td>0.658</td>\n",
              "      <td>0.342</td>\n",
              "    </tr>\n",
              "  </tbody>\n",
              "</table>\n",
              "</div>"
            ],
            "text/plain": [
              "         Date        Open        High  ...  negative  neutral  positive\n",
              "0  2020-05-15  179.059998  187.059998  ...     0.000    0.805     0.195\n",
              "1  2020-05-18  185.750000  186.199997  ...     0.000    1.000     0.000\n",
              "2  2020-05-19  185.029999  186.600006  ...     0.322    0.678     0.000\n",
              "3  2020-05-20  184.809998  185.850006  ...     0.000    1.000     0.000\n",
              "4  2020-05-21  185.399994  186.669998  ...     0.000    0.658     0.342\n",
              "\n",
              "[5 rows x 14 columns]"
            ]
          },
          "metadata": {
            "tags": []
          },
          "execution_count": 27
        }
      ]
    },
    {
      "cell_type": "code",
      "metadata": {
        "colab": {
          "base_uri": "https://localhost:8080/",
          "height": 197
        },
        "id": "w0Ovv_iPL_vB",
        "outputId": "b87a612f-3281-430a-ce1e-7d23ef834b49"
      },
      "source": [
        "# dropping unwanted 'headline_text' and rearranging columns\n",
        "stock_data.drop(['headline_text'], inplace=True, axis=1)\n",
        "stock_data = stock_data[['Close', 'compound', 'negative', 'neutral', 'positive', 'Open', 'High', 'Low', 'Volume']]\n",
        "\n",
        "# final stock_data\n",
        "stock_data.head()\n"
      ],
      "execution_count": null,
      "outputs": [
        {
          "output_type": "execute_result",
          "data": {
            "text/html": [
              "<div>\n",
              "<style scoped>\n",
              "    .dataframe tbody tr th:only-of-type {\n",
              "        vertical-align: middle;\n",
              "    }\n",
              "\n",
              "    .dataframe tbody tr th {\n",
              "        vertical-align: top;\n",
              "    }\n",
              "\n",
              "    .dataframe thead th {\n",
              "        text-align: right;\n",
              "    }\n",
              "</style>\n",
              "<table border=\"1\" class=\"dataframe\">\n",
              "  <thead>\n",
              "    <tr style=\"text-align: right;\">\n",
              "      <th></th>\n",
              "      <th>Close</th>\n",
              "      <th>compound</th>\n",
              "      <th>negative</th>\n",
              "      <th>neutral</th>\n",
              "      <th>positive</th>\n",
              "      <th>Open</th>\n",
              "      <th>High</th>\n",
              "      <th>Low</th>\n",
              "      <th>Volume</th>\n",
              "    </tr>\n",
              "  </thead>\n",
              "  <tbody>\n",
              "    <tr>\n",
              "      <th>0</th>\n",
              "      <td>183.160004</td>\n",
              "      <td>0.2924</td>\n",
              "      <td>0.000</td>\n",
              "      <td>0.805</td>\n",
              "      <td>0.195</td>\n",
              "      <td>179.059998</td>\n",
              "      <td>187.059998</td>\n",
              "      <td>177.000000</td>\n",
              "      <td>46610400.0</td>\n",
              "    </tr>\n",
              "    <tr>\n",
              "      <th>1</th>\n",
              "      <td>184.910004</td>\n",
              "      <td>0.0000</td>\n",
              "      <td>0.000</td>\n",
              "      <td>1.000</td>\n",
              "      <td>0.000</td>\n",
              "      <td>185.750000</td>\n",
              "      <td>186.199997</td>\n",
              "      <td>183.960007</td>\n",
              "      <td>35264500.0</td>\n",
              "    </tr>\n",
              "    <tr>\n",
              "      <th>2</th>\n",
              "      <td>183.630005</td>\n",
              "      <td>-0.2263</td>\n",
              "      <td>0.322</td>\n",
              "      <td>0.678</td>\n",
              "      <td>0.000</td>\n",
              "      <td>185.029999</td>\n",
              "      <td>186.600006</td>\n",
              "      <td>183.490005</td>\n",
              "      <td>26799100.0</td>\n",
              "    </tr>\n",
              "    <tr>\n",
              "      <th>3</th>\n",
              "      <td>185.660004</td>\n",
              "      <td>0.0000</td>\n",
              "      <td>0.000</td>\n",
              "      <td>1.000</td>\n",
              "      <td>0.000</td>\n",
              "      <td>184.809998</td>\n",
              "      <td>185.850006</td>\n",
              "      <td>183.940002</td>\n",
              "      <td>31261300.0</td>\n",
              "    </tr>\n",
              "    <tr>\n",
              "      <th>4</th>\n",
              "      <td>183.429993</td>\n",
              "      <td>0.3818</td>\n",
              "      <td>0.000</td>\n",
              "      <td>0.658</td>\n",
              "      <td>0.342</td>\n",
              "      <td>185.399994</td>\n",
              "      <td>186.669998</td>\n",
              "      <td>183.289993</td>\n",
              "      <td>29119500.0</td>\n",
              "    </tr>\n",
              "  </tbody>\n",
              "</table>\n",
              "</div>"
            ],
            "text/plain": [
              "        Close  compound  negative  ...        High         Low      Volume\n",
              "0  183.160004    0.2924     0.000  ...  187.059998  177.000000  46610400.0\n",
              "1  184.910004    0.0000     0.000  ...  186.199997  183.960007  35264500.0\n",
              "2  183.630005   -0.2263     0.322  ...  186.600006  183.490005  26799100.0\n",
              "3  185.660004    0.0000     0.000  ...  185.850006  183.940002  31261300.0\n",
              "4  183.429993    0.3818     0.000  ...  186.669998  183.289993  29119500.0\n",
              "\n",
              "[5 rows x 9 columns]"
            ]
          },
          "metadata": {
            "tags": []
          },
          "execution_count": 28
        }
      ]
    },
    {
      "cell_type": "code",
      "metadata": {
        "colab": {
          "base_uri": "https://localhost:8080/"
        },
        "id": "fOhUFThLMFnO",
        "outputId": "dcb3a519-70bf-490d-99fc-eb3e0ee61c19"
      },
      "source": [
        "stock_data.isna().any()"
      ],
      "execution_count": null,
      "outputs": [
        {
          "output_type": "execute_result",
          "data": {
            "text/plain": [
              "Close       False\n",
              "compound    False\n",
              "negative    False\n",
              "neutral     False\n",
              "positive    False\n",
              "Open        False\n",
              "High        False\n",
              "Low         False\n",
              "Volume      False\n",
              "dtype: bool"
            ]
          },
          "metadata": {
            "tags": []
          },
          "execution_count": 29
        }
      ]
    },
    {
      "cell_type": "code",
      "metadata": {
        "colab": {
          "base_uri": "https://localhost:8080/",
          "height": 286
        },
        "id": "Y0rDMD-_MK8E",
        "outputId": "24ee9c0c-9140-4e38-9b87-233b07e51eb0"
      },
      "source": [
        "\n",
        "stock_data.describe(include='all')"
      ],
      "execution_count": null,
      "outputs": [
        {
          "output_type": "execute_result",
          "data": {
            "text/html": [
              "<div>\n",
              "<style scoped>\n",
              "    .dataframe tbody tr th:only-of-type {\n",
              "        vertical-align: middle;\n",
              "    }\n",
              "\n",
              "    .dataframe tbody tr th {\n",
              "        vertical-align: top;\n",
              "    }\n",
              "\n",
              "    .dataframe thead th {\n",
              "        text-align: right;\n",
              "    }\n",
              "</style>\n",
              "<table border=\"1\" class=\"dataframe\">\n",
              "  <thead>\n",
              "    <tr style=\"text-align: right;\">\n",
              "      <th></th>\n",
              "      <th>Close</th>\n",
              "      <th>compound</th>\n",
              "      <th>negative</th>\n",
              "      <th>neutral</th>\n",
              "      <th>positive</th>\n",
              "      <th>Open</th>\n",
              "      <th>High</th>\n",
              "      <th>Low</th>\n",
              "      <th>Volume</th>\n",
              "    </tr>\n",
              "  </thead>\n",
              "  <tbody>\n",
              "    <tr>\n",
              "      <th>count</th>\n",
              "      <td>252.000000</td>\n",
              "      <td>252.000000</td>\n",
              "      <td>252.000000</td>\n",
              "      <td>252.000000</td>\n",
              "      <td>252.000000</td>\n",
              "      <td>252.000000</td>\n",
              "      <td>252.000000</td>\n",
              "      <td>252.000000</td>\n",
              "      <td>2.520000e+02</td>\n",
              "    </tr>\n",
              "    <tr>\n",
              "      <th>mean</th>\n",
              "      <td>219.316706</td>\n",
              "      <td>0.005263</td>\n",
              "      <td>0.085472</td>\n",
              "      <td>0.827500</td>\n",
              "      <td>0.087032</td>\n",
              "      <td>219.183452</td>\n",
              "      <td>221.573056</td>\n",
              "      <td>216.875119</td>\n",
              "      <td>3.115288e+07</td>\n",
              "    </tr>\n",
              "    <tr>\n",
              "      <th>std</th>\n",
              "      <td>19.167880</td>\n",
              "      <td>0.292760</td>\n",
              "      <td>0.163656</td>\n",
              "      <td>0.227735</td>\n",
              "      <td>0.170704</td>\n",
              "      <td>19.159874</td>\n",
              "      <td>19.058986</td>\n",
              "      <td>19.250526</td>\n",
              "      <td>9.955485e+06</td>\n",
              "    </tr>\n",
              "    <tr>\n",
              "      <th>min</th>\n",
              "      <td>181.399994</td>\n",
              "      <td>-0.822500</td>\n",
              "      <td>0.000000</td>\n",
              "      <td>0.270000</td>\n",
              "      <td>0.000000</td>\n",
              "      <td>179.059998</td>\n",
              "      <td>181.990005</td>\n",
              "      <td>176.600006</td>\n",
              "      <td>1.055060e+07</td>\n",
              "    </tr>\n",
              "    <tr>\n",
              "      <th>25%</th>\n",
              "      <td>207.379997</td>\n",
              "      <td>0.000000</td>\n",
              "      <td>0.000000</td>\n",
              "      <td>0.648000</td>\n",
              "      <td>0.000000</td>\n",
              "      <td>207.652500</td>\n",
              "      <td>210.162495</td>\n",
              "      <td>204.802505</td>\n",
              "      <td>2.430058e+07</td>\n",
              "    </tr>\n",
              "    <tr>\n",
              "      <th>50%</th>\n",
              "      <td>215.404999</td>\n",
              "      <td>0.000000</td>\n",
              "      <td>0.000000</td>\n",
              "      <td>1.000000</td>\n",
              "      <td>0.000000</td>\n",
              "      <td>214.860001</td>\n",
              "      <td>216.964997</td>\n",
              "      <td>213.095001</td>\n",
              "      <td>2.946080e+07</td>\n",
              "    </tr>\n",
              "    <tr>\n",
              "      <th>75%</th>\n",
              "      <td>232.992496</td>\n",
              "      <td>0.000000</td>\n",
              "      <td>0.000000</td>\n",
              "      <td>1.000000</td>\n",
              "      <td>0.000000</td>\n",
              "      <td>232.887505</td>\n",
              "      <td>235.490005</td>\n",
              "      <td>231.162506</td>\n",
              "      <td>3.531592e+07</td>\n",
              "    </tr>\n",
              "    <tr>\n",
              "      <th>max</th>\n",
              "      <td>261.970001</td>\n",
              "      <td>0.855500</td>\n",
              "      <td>0.683000</td>\n",
              "      <td>1.000000</td>\n",
              "      <td>0.730000</td>\n",
              "      <td>261.660004</td>\n",
              "      <td>263.190002</td>\n",
              "      <td>260.170013</td>\n",
              "      <td>7.898300e+07</td>\n",
              "    </tr>\n",
              "  </tbody>\n",
              "</table>\n",
              "</div>"
            ],
            "text/plain": [
              "            Close    compound    negative  ...        High         Low        Volume\n",
              "count  252.000000  252.000000  252.000000  ...  252.000000  252.000000  2.520000e+02\n",
              "mean   219.316706    0.005263    0.085472  ...  221.573056  216.875119  3.115288e+07\n",
              "std     19.167880    0.292760    0.163656  ...   19.058986   19.250526  9.955485e+06\n",
              "min    181.399994   -0.822500    0.000000  ...  181.990005  176.600006  1.055060e+07\n",
              "25%    207.379997    0.000000    0.000000  ...  210.162495  204.802505  2.430058e+07\n",
              "50%    215.404999    0.000000    0.000000  ...  216.964997  213.095001  2.946080e+07\n",
              "75%    232.992496    0.000000    0.000000  ...  235.490005  231.162506  3.531592e+07\n",
              "max    261.970001    0.855500    0.683000  ...  263.190002  260.170013  7.898300e+07\n",
              "\n",
              "[8 rows x 9 columns]"
            ]
          },
          "metadata": {
            "tags": []
          },
          "execution_count": 30
        }
      ]
    },
    {
      "cell_type": "code",
      "metadata": {
        "id": "Q7rK1p_YMRE2",
        "colab": {
          "base_uri": "https://localhost:8080/"
        },
        "outputId": "7be805ec-fc22-491f-95c4-8744624b747e"
      },
      "source": [
        "# displaying stock_data information\n",
        "stock_data.info()"
      ],
      "execution_count": null,
      "outputs": [
        {
          "output_type": "stream",
          "text": [
            "<class 'pandas.core.frame.DataFrame'>\n",
            "Int64Index: 252 entries, 0 to 251\n",
            "Data columns (total 9 columns):\n",
            " #   Column    Non-Null Count  Dtype  \n",
            "---  ------    --------------  -----  \n",
            " 0   Close     252 non-null    float64\n",
            " 1   compound  252 non-null    float64\n",
            " 2   negative  252 non-null    float64\n",
            " 3   neutral   252 non-null    float64\n",
            " 4   positive  252 non-null    float64\n",
            " 5   Open      252 non-null    float64\n",
            " 6   High      252 non-null    float64\n",
            " 7   Low       252 non-null    float64\n",
            " 8   Volume    252 non-null    float64\n",
            "dtypes: float64(9)\n",
            "memory usage: 19.7 KB\n"
          ],
          "name": "stdout"
        }
      ]
    },
    {
      "cell_type": "code",
      "metadata": {
        "colab": {
          "base_uri": "https://localhost:8080/",
          "height": 286
        },
        "id": "0FTX-CXjMtRc",
        "outputId": "6cdf0279-e2ea-4fd4-a6d3-d81981f02572"
      },
      "source": [
        "stock_data.describe()"
      ],
      "execution_count": null,
      "outputs": [
        {
          "output_type": "execute_result",
          "data": {
            "text/html": [
              "<div>\n",
              "<style scoped>\n",
              "    .dataframe tbody tr th:only-of-type {\n",
              "        vertical-align: middle;\n",
              "    }\n",
              "\n",
              "    .dataframe tbody tr th {\n",
              "        vertical-align: top;\n",
              "    }\n",
              "\n",
              "    .dataframe thead th {\n",
              "        text-align: right;\n",
              "    }\n",
              "</style>\n",
              "<table border=\"1\" class=\"dataframe\">\n",
              "  <thead>\n",
              "    <tr style=\"text-align: right;\">\n",
              "      <th></th>\n",
              "      <th>Close</th>\n",
              "      <th>compound</th>\n",
              "      <th>negative</th>\n",
              "      <th>neutral</th>\n",
              "      <th>positive</th>\n",
              "      <th>Open</th>\n",
              "      <th>High</th>\n",
              "      <th>Low</th>\n",
              "      <th>Volume</th>\n",
              "    </tr>\n",
              "  </thead>\n",
              "  <tbody>\n",
              "    <tr>\n",
              "      <th>count</th>\n",
              "      <td>252.000000</td>\n",
              "      <td>252.000000</td>\n",
              "      <td>252.000000</td>\n",
              "      <td>252.000000</td>\n",
              "      <td>252.000000</td>\n",
              "      <td>252.000000</td>\n",
              "      <td>252.000000</td>\n",
              "      <td>252.000000</td>\n",
              "      <td>2.520000e+02</td>\n",
              "    </tr>\n",
              "    <tr>\n",
              "      <th>mean</th>\n",
              "      <td>219.316706</td>\n",
              "      <td>0.005263</td>\n",
              "      <td>0.085472</td>\n",
              "      <td>0.827500</td>\n",
              "      <td>0.087032</td>\n",
              "      <td>219.183452</td>\n",
              "      <td>221.573056</td>\n",
              "      <td>216.875119</td>\n",
              "      <td>3.115288e+07</td>\n",
              "    </tr>\n",
              "    <tr>\n",
              "      <th>std</th>\n",
              "      <td>19.167880</td>\n",
              "      <td>0.292760</td>\n",
              "      <td>0.163656</td>\n",
              "      <td>0.227735</td>\n",
              "      <td>0.170704</td>\n",
              "      <td>19.159874</td>\n",
              "      <td>19.058986</td>\n",
              "      <td>19.250526</td>\n",
              "      <td>9.955485e+06</td>\n",
              "    </tr>\n",
              "    <tr>\n",
              "      <th>min</th>\n",
              "      <td>181.399994</td>\n",
              "      <td>-0.822500</td>\n",
              "      <td>0.000000</td>\n",
              "      <td>0.270000</td>\n",
              "      <td>0.000000</td>\n",
              "      <td>179.059998</td>\n",
              "      <td>181.990005</td>\n",
              "      <td>176.600006</td>\n",
              "      <td>1.055060e+07</td>\n",
              "    </tr>\n",
              "    <tr>\n",
              "      <th>25%</th>\n",
              "      <td>207.379997</td>\n",
              "      <td>0.000000</td>\n",
              "      <td>0.000000</td>\n",
              "      <td>0.648000</td>\n",
              "      <td>0.000000</td>\n",
              "      <td>207.652500</td>\n",
              "      <td>210.162495</td>\n",
              "      <td>204.802505</td>\n",
              "      <td>2.430058e+07</td>\n",
              "    </tr>\n",
              "    <tr>\n",
              "      <th>50%</th>\n",
              "      <td>215.404999</td>\n",
              "      <td>0.000000</td>\n",
              "      <td>0.000000</td>\n",
              "      <td>1.000000</td>\n",
              "      <td>0.000000</td>\n",
              "      <td>214.860001</td>\n",
              "      <td>216.964997</td>\n",
              "      <td>213.095001</td>\n",
              "      <td>2.946080e+07</td>\n",
              "    </tr>\n",
              "    <tr>\n",
              "      <th>75%</th>\n",
              "      <td>232.992496</td>\n",
              "      <td>0.000000</td>\n",
              "      <td>0.000000</td>\n",
              "      <td>1.000000</td>\n",
              "      <td>0.000000</td>\n",
              "      <td>232.887505</td>\n",
              "      <td>235.490005</td>\n",
              "      <td>231.162506</td>\n",
              "      <td>3.531592e+07</td>\n",
              "    </tr>\n",
              "    <tr>\n",
              "      <th>max</th>\n",
              "      <td>261.970001</td>\n",
              "      <td>0.855500</td>\n",
              "      <td>0.683000</td>\n",
              "      <td>1.000000</td>\n",
              "      <td>0.730000</td>\n",
              "      <td>261.660004</td>\n",
              "      <td>263.190002</td>\n",
              "      <td>260.170013</td>\n",
              "      <td>7.898300e+07</td>\n",
              "    </tr>\n",
              "  </tbody>\n",
              "</table>\n",
              "</div>"
            ],
            "text/plain": [
              "            Close    compound    negative  ...        High         Low        Volume\n",
              "count  252.000000  252.000000  252.000000  ...  252.000000  252.000000  2.520000e+02\n",
              "mean   219.316706    0.005263    0.085472  ...  221.573056  216.875119  3.115288e+07\n",
              "std     19.167880    0.292760    0.163656  ...   19.058986   19.250526  9.955485e+06\n",
              "min    181.399994   -0.822500    0.000000  ...  181.990005  176.600006  1.055060e+07\n",
              "25%    207.379997    0.000000    0.000000  ...  210.162495  204.802505  2.430058e+07\n",
              "50%    215.404999    0.000000    0.000000  ...  216.964997  213.095001  2.946080e+07\n",
              "75%    232.992496    0.000000    0.000000  ...  235.490005  231.162506  3.531592e+07\n",
              "max    261.970001    0.855500    0.683000  ...  263.190002  260.170013  7.898300e+07\n",
              "\n",
              "[8 rows x 9 columns]"
            ]
          },
          "metadata": {
            "tags": []
          },
          "execution_count": 80
        }
      ]
    },
    {
      "cell_type": "code",
      "metadata": {
        "colab": {
          "base_uri": "https://localhost:8080/",
          "height": 637
        },
        "id": "f4J_9DPViD-a",
        "outputId": "d1029183-ac6f-415e-b752-1cc59bd5801f"
      },
      "source": [
        "#Setting plot size and labels\n",
        "plt.figure(figsize=(15,10))\n",
        "\n",
        "stock_data['Close'].plot()\n",
        "\n",
        "\n",
        "plt.title(\"Close Price\")\n",
        "plt.xlabel('Date')\n",
        "plt.ylabel('Close Price (INR)')"
      ],
      "execution_count": null,
      "outputs": [
        {
          "output_type": "execute_result",
          "data": {
            "text/plain": [
              "Text(0, 0.5, 'Close Price (INR)')"
            ]
          },
          "metadata": {
            "tags": []
          },
          "execution_count": 32
        },
        {
          "output_type": "display_data",
          "data": {
            "image/png": "[encoded data removed]",
            "text/plain": [
              "<Figure size 1080x720 with 1 Axes>"
            ]
          },
          "metadata": {
            "tags": [],
            "needs_background": "light"
          }
        }
      ]
    },
    {
      "cell_type": "code",
      "metadata": {
        "id": "rU8hhe7SiMB8",
        "colab": {
          "base_uri": "https://localhost:8080/",
          "height": 645
        },
        "outputId": "eff72fc1-23ba-46e4-ad34-7af65db0ea2e"
      },
      "source": [
        "# calculating 7 day rolling mean\n",
        "stock_data.rolling(7).mean().head(20)"
      ],
      "execution_count": null,
      "outputs": [
        {
          "output_type": "execute_result",
          "data": {
            "text/html": [
              "<div>\n",
              "<style scoped>\n",
              "    .dataframe tbody tr th:only-of-type {\n",
              "        vertical-align: middle;\n",
              "    }\n",
              "\n",
              "    .dataframe tbody tr th {\n",
              "        vertical-align: top;\n",
              "    }\n",
              "\n",
              "    .dataframe thead th {\n",
              "        text-align: right;\n",
              "    }\n",
              "</style>\n",
              "<table border=\"1\" class=\"dataframe\">\n",
              "  <thead>\n",
              "    <tr style=\"text-align: right;\">\n",
              "      <th></th>\n",
              "      <th>Close</th>\n",
              "      <th>compound</th>\n",
              "      <th>negative</th>\n",
              "      <th>neutral</th>\n",
              "      <th>positive</th>\n",
              "      <th>Open</th>\n",
              "      <th>High</th>\n",
              "      <th>Low</th>\n",
              "      <th>Volume</th>\n",
              "    </tr>\n",
              "  </thead>\n",
              "  <tbody>\n",
              "    <tr>\n",
              "      <th>0</th>\n",
              "      <td>NaN</td>\n",
              "      <td>NaN</td>\n",
              "      <td>NaN</td>\n",
              "      <td>NaN</td>\n",
              "      <td>NaN</td>\n",
              "      <td>NaN</td>\n",
              "      <td>NaN</td>\n",
              "      <td>NaN</td>\n",
              "      <td>NaN</td>\n",
              "    </tr>\n",
              "    <tr>\n",
              "      <th>1</th>\n",
              "      <td>NaN</td>\n",
              "      <td>NaN</td>\n",
              "      <td>NaN</td>\n",
              "      <td>NaN</td>\n",
              "      <td>NaN</td>\n",
              "      <td>NaN</td>\n",
              "      <td>NaN</td>\n",
              "      <td>NaN</td>\n",
              "      <td>NaN</td>\n",
              "    </tr>\n",
              "    <tr>\n",
              "      <th>2</th>\n",
              "      <td>NaN</td>\n",
              "      <td>NaN</td>\n",
              "      <td>NaN</td>\n",
              "      <td>NaN</td>\n",
              "      <td>NaN</td>\n",
              "      <td>NaN</td>\n",
              "      <td>NaN</td>\n",
              "      <td>NaN</td>\n",
              "      <td>NaN</td>\n",
              "    </tr>\n",
              "    <tr>\n",
              "      <th>3</th>\n",
              "      <td>NaN</td>\n",
              "      <td>NaN</td>\n",
              "      <td>NaN</td>\n",
              "      <td>NaN</td>\n",
              "      <td>NaN</td>\n",
              "      <td>NaN</td>\n",
              "      <td>NaN</td>\n",
              "      <td>NaN</td>\n",
              "      <td>NaN</td>\n",
              "    </tr>\n",
              "    <tr>\n",
              "      <th>4</th>\n",
              "      <td>NaN</td>\n",
              "      <td>NaN</td>\n",
              "      <td>NaN</td>\n",
              "      <td>NaN</td>\n",
              "      <td>NaN</td>\n",
              "      <td>NaN</td>\n",
              "      <td>NaN</td>\n",
              "      <td>NaN</td>\n",
              "      <td>NaN</td>\n",
              "    </tr>\n",
              "    <tr>\n",
              "      <th>5</th>\n",
              "      <td>NaN</td>\n",
              "      <td>NaN</td>\n",
              "      <td>NaN</td>\n",
              "      <td>NaN</td>\n",
              "      <td>NaN</td>\n",
              "      <td>NaN</td>\n",
              "      <td>NaN</td>\n",
              "      <td>NaN</td>\n",
              "      <td>NaN</td>\n",
              "    </tr>\n",
              "    <tr>\n",
              "      <th>6</th>\n",
              "      <td>183.695716</td>\n",
              "      <td>0.063986</td>\n",
              "      <td>0.046000</td>\n",
              "      <td>0.877286</td>\n",
              "      <td>0.076714</td>\n",
              "      <td>184.225712</td>\n",
              "      <td>186.191430</td>\n",
              "      <td>182.188572</td>\n",
              "      <td>3.227933e+07</td>\n",
              "    </tr>\n",
              "    <tr>\n",
              "      <th>7</th>\n",
              "      <td>183.502858</td>\n",
              "      <td>0.022214</td>\n",
              "      <td>0.046000</td>\n",
              "      <td>0.905143</td>\n",
              "      <td>0.048857</td>\n",
              "      <td>184.388569</td>\n",
              "      <td>185.467146</td>\n",
              "      <td>182.131430</td>\n",
              "      <td>3.126600e+07</td>\n",
              "    </tr>\n",
              "    <tr>\n",
              "      <th>8</th>\n",
              "      <td>183.001428</td>\n",
              "      <td>0.082429</td>\n",
              "      <td>0.087857</td>\n",
              "      <td>0.811571</td>\n",
              "      <td>0.100571</td>\n",
              "      <td>183.672856</td>\n",
              "      <td>185.174288</td>\n",
              "      <td>181.620001</td>\n",
              "      <td>3.105824e+07</td>\n",
              "    </tr>\n",
              "    <tr>\n",
              "      <th>9</th>\n",
              "      <td>182.947142</td>\n",
              "      <td>0.114757</td>\n",
              "      <td>0.041857</td>\n",
              "      <td>0.857571</td>\n",
              "      <td>0.100571</td>\n",
              "      <td>183.344284</td>\n",
              "      <td>184.841431</td>\n",
              "      <td>181.180001</td>\n",
              "      <td>3.324843e+07</td>\n",
              "    </tr>\n",
              "    <tr>\n",
              "      <th>10</th>\n",
              "      <td>182.542856</td>\n",
              "      <td>0.066186</td>\n",
              "      <td>0.105286</td>\n",
              "      <td>0.794143</td>\n",
              "      <td>0.100571</td>\n",
              "      <td>183.019998</td>\n",
              "      <td>184.434287</td>\n",
              "      <td>180.825716</td>\n",
              "      <td>3.201430e+07</td>\n",
              "    </tr>\n",
              "    <tr>\n",
              "      <th>11</th>\n",
              "      <td>182.754286</td>\n",
              "      <td>0.011643</td>\n",
              "      <td>0.105286</td>\n",
              "      <td>0.843000</td>\n",
              "      <td>0.051714</td>\n",
              "      <td>182.855713</td>\n",
              "      <td>184.195716</td>\n",
              "      <td>180.548575</td>\n",
              "      <td>3.225360e+07</td>\n",
              "    </tr>\n",
              "    <tr>\n",
              "      <th>12</th>\n",
              "      <td>183.018572</td>\n",
              "      <td>0.077014</td>\n",
              "      <td>0.105286</td>\n",
              "      <td>0.795429</td>\n",
              "      <td>0.099286</td>\n",
              "      <td>183.088571</td>\n",
              "      <td>184.407144</td>\n",
              "      <td>180.697148</td>\n",
              "      <td>3.317990e+07</td>\n",
              "    </tr>\n",
              "    <tr>\n",
              "      <th>13</th>\n",
              "      <td>183.211428</td>\n",
              "      <td>0.077014</td>\n",
              "      <td>0.105286</td>\n",
              "      <td>0.795429</td>\n",
              "      <td>0.099286</td>\n",
              "      <td>182.797143</td>\n",
              "      <td>184.312857</td>\n",
              "      <td>180.868576</td>\n",
              "      <td>3.213536e+07</td>\n",
              "    </tr>\n",
              "    <tr>\n",
              "      <th>14</th>\n",
              "      <td>183.981428</td>\n",
              "      <td>0.077014</td>\n",
              "      <td>0.105286</td>\n",
              "      <td>0.795429</td>\n",
              "      <td>0.099286</td>\n",
              "      <td>183.142857</td>\n",
              "      <td>185.132856</td>\n",
              "      <td>181.641432</td>\n",
              "      <td>3.218914e+07</td>\n",
              "    </tr>\n",
              "    <tr>\n",
              "      <th>15</th>\n",
              "      <td>184.975715</td>\n",
              "      <td>-0.072471</td>\n",
              "      <td>0.121429</td>\n",
              "      <td>0.831000</td>\n",
              "      <td>0.047571</td>\n",
              "      <td>183.885714</td>\n",
              "      <td>185.761429</td>\n",
              "      <td>182.221431</td>\n",
              "      <td>3.210363e+07</td>\n",
              "    </tr>\n",
              "    <tr>\n",
              "      <th>16</th>\n",
              "      <td>185.911429</td>\n",
              "      <td>-0.072471</td>\n",
              "      <td>0.121429</td>\n",
              "      <td>0.831000</td>\n",
              "      <td>0.047571</td>\n",
              "      <td>184.638571</td>\n",
              "      <td>186.679999</td>\n",
              "      <td>183.200001</td>\n",
              "      <td>3.033984e+07</td>\n",
              "    </tr>\n",
              "    <tr>\n",
              "      <th>17</th>\n",
              "      <td>187.912857</td>\n",
              "      <td>-0.005614</td>\n",
              "      <td>0.058000</td>\n",
              "      <td>0.855429</td>\n",
              "      <td>0.086571</td>\n",
              "      <td>185.865716</td>\n",
              "      <td>188.897143</td>\n",
              "      <td>184.564285</td>\n",
              "      <td>3.337554e+07</td>\n",
              "    </tr>\n",
              "    <tr>\n",
              "      <th>18</th>\n",
              "      <td>188.107143</td>\n",
              "      <td>-0.005614</td>\n",
              "      <td>0.058000</td>\n",
              "      <td>0.855429</td>\n",
              "      <td>0.086571</td>\n",
              "      <td>187.134288</td>\n",
              "      <td>190.434285</td>\n",
              "      <td>185.238571</td>\n",
              "      <td>3.652699e+07</td>\n",
              "    </tr>\n",
              "    <tr>\n",
              "      <th>19</th>\n",
              "      <td>188.447143</td>\n",
              "      <td>-0.070986</td>\n",
              "      <td>0.058000</td>\n",
              "      <td>0.903000</td>\n",
              "      <td>0.039000</td>\n",
              "      <td>187.951429</td>\n",
              "      <td>191.259999</td>\n",
              "      <td>185.467141</td>\n",
              "      <td>3.882164e+07</td>\n",
              "    </tr>\n",
              "  </tbody>\n",
              "</table>\n",
              "</div>"
            ],
            "text/plain": [
              "         Close  compound  negative  ...        High         Low        Volume\n",
              "0          NaN       NaN       NaN  ...         NaN         NaN           NaN\n",
              "1          NaN       NaN       NaN  ...         NaN         NaN           NaN\n",
              "2          NaN       NaN       NaN  ...         NaN         NaN           NaN\n",
              "3          NaN       NaN       NaN  ...         NaN         NaN           NaN\n",
              "4          NaN       NaN       NaN  ...         NaN         NaN           NaN\n",
              "5          NaN       NaN       NaN  ...         NaN         NaN           NaN\n",
              "6   183.695716  0.063986  0.046000  ...  186.191430  182.188572  3.227933e+07\n",
              "7   183.502858  0.022214  0.046000  ...  185.467146  182.131430  3.126600e+07\n",
              "8   183.001428  0.082429  0.087857  ...  185.174288  181.620001  3.105824e+07\n",
              "9   182.947142  0.114757  0.041857  ...  184.841431  181.180001  3.324843e+07\n",
              "10  182.542856  0.066186  0.105286  ...  184.434287  180.825716  3.201430e+07\n",
              "11  182.754286  0.011643  0.105286  ...  184.195716  180.548575  3.225360e+07\n",
              "12  183.018572  0.077014  0.105286  ...  184.407144  180.697148  3.317990e+07\n",
              "13  183.211428  0.077014  0.105286  ...  184.312857  180.868576  3.213536e+07\n",
              "14  183.981428  0.077014  0.105286  ...  185.132856  181.641432  3.218914e+07\n",
              "15  184.975715 -0.072471  0.121429  ...  185.761429  182.221431  3.210363e+07\n",
              "16  185.911429 -0.072471  0.121429  ...  186.679999  183.200001  3.033984e+07\n",
              "17  187.912857 -0.005614  0.058000  ...  188.897143  184.564285  3.337554e+07\n",
              "18  188.107143 -0.005614  0.058000  ...  190.434285  185.238571  3.652699e+07\n",
              "19  188.447143 -0.070986  0.058000  ...  191.259999  185.467141  3.882164e+07\n",
              "\n",
              "[20 rows x 9 columns]"
            ]
          },
          "metadata": {
            "tags": []
          },
          "execution_count": 33
        }
      ]
    },
    {
      "cell_type": "code",
      "metadata": {
        "colab": {
          "base_uri": "https://localhost:8080/",
          "height": 609
        },
        "id": "Q5TLFjFOiVvV",
        "outputId": "0326cfc0-0929-4f46-fbad-cf114ca1fb65"
      },
      "source": [
        "\n",
        "# setting figure size\n",
        "plt.figure(figsize=(15,10))\n",
        "\n",
        "# plotting the close price and a 30-day rolling mean of close price\n",
        "stock_data['Close'].plot()\n",
        "stock_data.rolling(window=30).mean()['Close'].plot()"
      ],
      "execution_count": null,
      "outputs": [
        {
          "output_type": "execute_result",
          "data": {
            "text/plain": [
              "<matplotlib.axes._subplots.AxesSubplot at 0x7f6b7fd93e10>"
            ]
          },
          "metadata": {
            "tags": []
          },
          "execution_count": 34
        },
        {
          "output_type": "display_data",
          "data": {
            "image/png": "[encoded data removed]",
            "text/plain": [
              "<Figure size 1080x720 with 1 Axes>"
            ]
          },
          "metadata": {
            "tags": [],
            "needs_background": "light"
          }
        }
      ]
    },
    {
      "cell_type": "code",
      "metadata": {
        "colab": {
          "base_uri": "https://localhost:8080/",
          "height": 405
        },
        "id": "kvRJ6_-qibUv",
        "outputId": "6e75dfaa-d647-4e76-d810-356afe7d4da4"
      },
      "source": [
        "# displaying stock_data\n",
        "stock_data"
      ],
      "execution_count": null,
      "outputs": [
        {
          "output_type": "execute_result",
          "data": {
            "text/html": [
              "<div>\n",
              "<style scoped>\n",
              "    .dataframe tbody tr th:only-of-type {\n",
              "        vertical-align: middle;\n",
              "    }\n",
              "\n",
              "    .dataframe tbody tr th {\n",
              "        vertical-align: top;\n",
              "    }\n",
              "\n",
              "    .dataframe thead th {\n",
              "        text-align: right;\n",
              "    }\n",
              "</style>\n",
              "<table border=\"1\" class=\"dataframe\">\n",
              "  <thead>\n",
              "    <tr style=\"text-align: right;\">\n",
              "      <th></th>\n",
              "      <th>Close</th>\n",
              "      <th>compound</th>\n",
              "      <th>negative</th>\n",
              "      <th>neutral</th>\n",
              "      <th>positive</th>\n",
              "      <th>Open</th>\n",
              "      <th>High</th>\n",
              "      <th>Low</th>\n",
              "      <th>Volume</th>\n",
              "    </tr>\n",
              "  </thead>\n",
              "  <tbody>\n",
              "    <tr>\n",
              "      <th>0</th>\n",
              "      <td>183.160004</td>\n",
              "      <td>0.2924</td>\n",
              "      <td>0.000</td>\n",
              "      <td>0.805</td>\n",
              "      <td>0.195</td>\n",
              "      <td>179.059998</td>\n",
              "      <td>187.059998</td>\n",
              "      <td>177.000000</td>\n",
              "      <td>46610400.0</td>\n",
              "    </tr>\n",
              "    <tr>\n",
              "      <th>1</th>\n",
              "      <td>184.910004</td>\n",
              "      <td>0.0000</td>\n",
              "      <td>0.000</td>\n",
              "      <td>1.000</td>\n",
              "      <td>0.000</td>\n",
              "      <td>185.750000</td>\n",
              "      <td>186.199997</td>\n",
              "      <td>183.960007</td>\n",
              "      <td>35264500.0</td>\n",
              "    </tr>\n",
              "    <tr>\n",
              "      <th>2</th>\n",
              "      <td>183.630005</td>\n",
              "      <td>-0.2263</td>\n",
              "      <td>0.322</td>\n",
              "      <td>0.678</td>\n",
              "      <td>0.000</td>\n",
              "      <td>185.029999</td>\n",
              "      <td>186.600006</td>\n",
              "      <td>183.490005</td>\n",
              "      <td>26799100.0</td>\n",
              "    </tr>\n",
              "    <tr>\n",
              "      <th>3</th>\n",
              "      <td>185.660004</td>\n",
              "      <td>0.0000</td>\n",
              "      <td>0.000</td>\n",
              "      <td>1.000</td>\n",
              "      <td>0.000</td>\n",
              "      <td>184.809998</td>\n",
              "      <td>185.850006</td>\n",
              "      <td>183.940002</td>\n",
              "      <td>31261300.0</td>\n",
              "    </tr>\n",
              "    <tr>\n",
              "      <th>4</th>\n",
              "      <td>183.429993</td>\n",
              "      <td>0.3818</td>\n",
              "      <td>0.000</td>\n",
              "      <td>0.658</td>\n",
              "      <td>0.342</td>\n",
              "      <td>185.399994</td>\n",
              "      <td>186.669998</td>\n",
              "      <td>183.289993</td>\n",
              "      <td>29119500.0</td>\n",
              "    </tr>\n",
              "    <tr>\n",
              "      <th>...</th>\n",
              "      <td>...</td>\n",
              "      <td>...</td>\n",
              "      <td>...</td>\n",
              "      <td>...</td>\n",
              "      <td>...</td>\n",
              "      <td>...</td>\n",
              "      <td>...</td>\n",
              "      <td>...</td>\n",
              "      <td>...</td>\n",
              "    </tr>\n",
              "    <tr>\n",
              "      <th>247</th>\n",
              "      <td>247.179993</td>\n",
              "      <td>0.0000</td>\n",
              "      <td>0.000</td>\n",
              "      <td>1.000</td>\n",
              "      <td>0.000</td>\n",
              "      <td>250.869995</td>\n",
              "      <td>251.729996</td>\n",
              "      <td>247.119995</td>\n",
              "      <td>29299900.0</td>\n",
              "    </tr>\n",
              "    <tr>\n",
              "      <th>248</th>\n",
              "      <td>246.229996</td>\n",
              "      <td>0.3400</td>\n",
              "      <td>0.000</td>\n",
              "      <td>0.714</td>\n",
              "      <td>0.286</td>\n",
              "      <td>244.550003</td>\n",
              "      <td>246.600006</td>\n",
              "      <td>242.570007</td>\n",
              "      <td>33641600.0</td>\n",
              "    </tr>\n",
              "    <tr>\n",
              "      <th>249</th>\n",
              "      <td>239.000000</td>\n",
              "      <td>0.0000</td>\n",
              "      <td>0.000</td>\n",
              "      <td>1.000</td>\n",
              "      <td>0.000</td>\n",
              "      <td>242.169998</td>\n",
              "      <td>244.380005</td>\n",
              "      <td>238.070007</td>\n",
              "      <td>36684400.0</td>\n",
              "    </tr>\n",
              "    <tr>\n",
              "      <th>250</th>\n",
              "      <td>243.029999</td>\n",
              "      <td>0.0000</td>\n",
              "      <td>0.000</td>\n",
              "      <td>1.000</td>\n",
              "      <td>0.000</td>\n",
              "      <td>241.800003</td>\n",
              "      <td>245.600006</td>\n",
              "      <td>241.419998</td>\n",
              "      <td>29624300.0</td>\n",
              "    </tr>\n",
              "    <tr>\n",
              "      <th>251</th>\n",
              "      <td>248.149994</td>\n",
              "      <td>0.0000</td>\n",
              "      <td>0.000</td>\n",
              "      <td>1.000</td>\n",
              "      <td>0.000</td>\n",
              "      <td>245.580002</td>\n",
              "      <td>249.179993</td>\n",
              "      <td>245.490005</td>\n",
              "      <td>23868600.0</td>\n",
              "    </tr>\n",
              "  </tbody>\n",
              "</table>\n",
              "<p>252 rows × 9 columns</p>\n",
              "</div>"
            ],
            "text/plain": [
              "          Close  compound  negative  ...        High         Low      Volume\n",
              "0    183.160004    0.2924     0.000  ...  187.059998  177.000000  46610400.0\n",
              "1    184.910004    0.0000     0.000  ...  186.199997  183.960007  35264500.0\n",
              "2    183.630005   -0.2263     0.322  ...  186.600006  183.490005  26799100.0\n",
              "3    185.660004    0.0000     0.000  ...  185.850006  183.940002  31261300.0\n",
              "4    183.429993    0.3818     0.000  ...  186.669998  183.289993  29119500.0\n",
              "..          ...       ...       ...  ...         ...         ...         ...\n",
              "247  247.179993    0.0000     0.000  ...  251.729996  247.119995  29299900.0\n",
              "248  246.229996    0.3400     0.000  ...  246.600006  242.570007  33641600.0\n",
              "249  239.000000    0.0000     0.000  ...  244.380005  238.070007  36684400.0\n",
              "250  243.029999    0.0000     0.000  ...  245.600006  241.419998  29624300.0\n",
              "251  248.149994    0.0000     0.000  ...  249.179993  245.490005  23868600.0\n",
              "\n",
              "[252 rows x 9 columns]"
            ]
          },
          "metadata": {
            "tags": []
          },
          "execution_count": 35
        }
      ]
    },
    {
      "cell_type": "code",
      "metadata": {
        "colab": {
          "base_uri": "https://localhost:8080/"
        },
        "id": "ZSdNPho8i4Gk",
        "outputId": "91223403-3d19-4d51-ce32-77f7c386ee4e"
      },
      "source": [
        "# calculating data_to_use\n",
        "percentage_of_data = 1.0\n",
        "data_to_use = int(percentage_of_data*(len(stock_data)-1))\n",
        "\n",
        "# using 80% of data for training\n",
        "train_end = int(data_to_use*0.8)\n",
        "total_data = len(stock_data)\n",
        "start = total_data - data_to_use\n",
        "\n",
        "# printing number of records in the training and test datasets\n",
        "print(\"Number of records in Training Data:\", train_end)\n",
        "print(\"Number of records in Test Data:\", total_data - train_end)"
      ],
      "execution_count": null,
      "outputs": [
        {
          "output_type": "stream",
          "text": [
            "Number of records in Training Data: 200\n",
            "Number of records in Test Data: 52\n"
          ],
          "name": "stdout"
        }
      ]
    },
    {
      "cell_type": "code",
      "metadata": {
        "colab": {
          "base_uri": "https://localhost:8080/"
        },
        "id": "LzLLn5KujD4u",
        "outputId": "0322fec4-7ddd-405a-c07d-320e66b555ec"
      },
      "source": [
        "# predicting one step ahead\n",
        "steps_to_predict = 1\n",
        "\n",
        "\n",
        "close_price = stock_data.iloc[start:total_data,0] #close\n",
        "compound = stock_data.iloc[start:total_data,1] #compound\n",
        "negative = stock_data.iloc[start:total_data,2] #neg\n",
        "neutral = stock_data.iloc[start:total_data,3] #neu\n",
        "positive = stock_data.iloc[start:total_data,4] #pos\n",
        "open_price = stock_data.iloc[start:total_data,5] #open\n",
        "high = stock_data.iloc[start:total_data,6] #high\n",
        "low = stock_data.iloc[start:total_data,7] #low\n",
        "volume = stock_data.iloc[start:total_data,8] #volume\n",
        "\n",
        "# printing close price\n",
        "print(\"Close Price:\")\n",
        "close_price"
      ],
      "execution_count": null,
      "outputs": [
        {
          "output_type": "stream",
          "text": [
            "Close Price:\n"
          ],
          "name": "stdout"
        },
        {
          "output_type": "execute_result",
          "data": {
            "text/plain": [
              "1      184.910004\n",
              "2      183.630005\n",
              "3      185.660004\n",
              "4      183.429993\n",
              "5      183.509995\n",
              "          ...    \n",
              "247    247.179993\n",
              "248    246.229996\n",
              "249    239.000000\n",
              "250    243.029999\n",
              "251    248.149994\n",
              "Name: Close, Length: 251, dtype: float64"
            ]
          },
          "metadata": {
            "tags": []
          },
          "execution_count": 38
        }
      ]
    },
    {
      "cell_type": "code",
      "metadata": {
        "colab": {
          "base_uri": "https://localhost:8080/",
          "height": 346
        },
        "id": "7bZwanFCjGNQ",
        "outputId": "2d347a8c-6652-4f36-eef7-b46900db0f7f"
      },
      "source": [
        " #shifting next day close\n",
        "close_price_shifted = close_price.shift(-1) \n",
        "\n",
        "# shifting next day compound\n",
        "compound_shifted = compound.shift(-1) \n",
        "\n",
        "# concatenating the captured training data into a dataframe\n",
        "data = pd.concat([close_price, close_price_shifted, compound, compound_shifted, volume, open_price, high, low], axis=1)\n",
        "\n",
        "# setting column names of the revised stock data\n",
        "data.columns = ['close_price', 'close_price_shifted', 'compound', 'compound_shifted','volume', 'open_price', 'high', 'low']\n",
        "\n",
        "# dropping nulls\n",
        "data = data.dropna()    \n",
        "data.head(10)"
      ],
      "execution_count": null,
      "outputs": [
        {
          "output_type": "execute_result",
          "data": {
            "text/html": [
              "<div>\n",
              "<style scoped>\n",
              "    .dataframe tbody tr th:only-of-type {\n",
              "        vertical-align: middle;\n",
              "    }\n",
              "\n",
              "    .dataframe tbody tr th {\n",
              "        vertical-align: top;\n",
              "    }\n",
              "\n",
              "    .dataframe thead th {\n",
              "        text-align: right;\n",
              "    }\n",
              "</style>\n",
              "<table border=\"1\" class=\"dataframe\">\n",
              "  <thead>\n",
              "    <tr style=\"text-align: right;\">\n",
              "      <th></th>\n",
              "      <th>close_price</th>\n",
              "      <th>close_price_shifted</th>\n",
              "      <th>compound</th>\n",
              "      <th>compound_shifted</th>\n",
              "      <th>volume</th>\n",
              "      <th>open_price</th>\n",
              "      <th>high</th>\n",
              "      <th>low</th>\n",
              "    </tr>\n",
              "  </thead>\n",
              "  <tbody>\n",
              "    <tr>\n",
              "      <th>1</th>\n",
              "      <td>184.910004</td>\n",
              "      <td>183.630005</td>\n",
              "      <td>0.0000</td>\n",
              "      <td>-0.2263</td>\n",
              "      <td>35264500.0</td>\n",
              "      <td>185.750000</td>\n",
              "      <td>186.199997</td>\n",
              "      <td>183.960007</td>\n",
              "    </tr>\n",
              "    <tr>\n",
              "      <th>2</th>\n",
              "      <td>183.630005</td>\n",
              "      <td>185.660004</td>\n",
              "      <td>-0.2263</td>\n",
              "      <td>0.0000</td>\n",
              "      <td>26799100.0</td>\n",
              "      <td>185.029999</td>\n",
              "      <td>186.600006</td>\n",
              "      <td>183.490005</td>\n",
              "    </tr>\n",
              "    <tr>\n",
              "      <th>3</th>\n",
              "      <td>185.660004</td>\n",
              "      <td>183.429993</td>\n",
              "      <td>0.0000</td>\n",
              "      <td>0.3818</td>\n",
              "      <td>31261300.0</td>\n",
              "      <td>184.809998</td>\n",
              "      <td>185.850006</td>\n",
              "      <td>183.940002</td>\n",
              "    </tr>\n",
              "    <tr>\n",
              "      <th>4</th>\n",
              "      <td>183.429993</td>\n",
              "      <td>183.509995</td>\n",
              "      <td>0.3818</td>\n",
              "      <td>0.0000</td>\n",
              "      <td>29119500.0</td>\n",
              "      <td>185.399994</td>\n",
              "      <td>186.669998</td>\n",
              "      <td>183.289993</td>\n",
              "    </tr>\n",
              "    <tr>\n",
              "      <th>5</th>\n",
              "      <td>183.509995</td>\n",
              "      <td>181.570007</td>\n",
              "      <td>0.0000</td>\n",
              "      <td>0.0000</td>\n",
              "      <td>20826900.0</td>\n",
              "      <td>183.190002</td>\n",
              "      <td>184.460007</td>\n",
              "      <td>182.539993</td>\n",
              "    </tr>\n",
              "    <tr>\n",
              "      <th>6</th>\n",
              "      <td>181.570007</td>\n",
              "      <td>181.809998</td>\n",
              "      <td>0.0000</td>\n",
              "      <td>0.0000</td>\n",
              "      <td>36073600.0</td>\n",
              "      <td>186.339996</td>\n",
              "      <td>186.500000</td>\n",
              "      <td>181.100006</td>\n",
              "    </tr>\n",
              "    <tr>\n",
              "      <th>7</th>\n",
              "      <td>181.809998</td>\n",
              "      <td>181.399994</td>\n",
              "      <td>0.0000</td>\n",
              "      <td>0.4215</td>\n",
              "      <td>39517100.0</td>\n",
              "      <td>180.199997</td>\n",
              "      <td>181.990005</td>\n",
              "      <td>176.600006</td>\n",
              "    </tr>\n",
              "    <tr>\n",
              "      <th>8</th>\n",
              "      <td>181.399994</td>\n",
              "      <td>183.250000</td>\n",
              "      <td>0.4215</td>\n",
              "      <td>0.0000</td>\n",
              "      <td>33810200.0</td>\n",
              "      <td>180.740005</td>\n",
              "      <td>184.149994</td>\n",
              "      <td>180.380005</td>\n",
              "    </tr>\n",
              "    <tr>\n",
              "      <th>9</th>\n",
              "      <td>183.250000</td>\n",
              "      <td>182.830002</td>\n",
              "      <td>0.0000</td>\n",
              "      <td>-0.3400</td>\n",
              "      <td>42130400.0</td>\n",
              "      <td>182.729996</td>\n",
              "      <td>184.270004</td>\n",
              "      <td>180.410004</td>\n",
              "    </tr>\n",
              "    <tr>\n",
              "      <th>10</th>\n",
              "      <td>182.830002</td>\n",
              "      <td>184.910004</td>\n",
              "      <td>-0.3400</td>\n",
              "      <td>0.0000</td>\n",
              "      <td>22622400.0</td>\n",
              "      <td>182.539993</td>\n",
              "      <td>183.000000</td>\n",
              "      <td>181.460007</td>\n",
              "    </tr>\n",
              "  </tbody>\n",
              "</table>\n",
              "</div>"
            ],
            "text/plain": [
              "    close_price  close_price_shifted  ...        high         low\n",
              "1    184.910004           183.630005  ...  186.199997  183.960007\n",
              "2    183.630005           185.660004  ...  186.600006  183.490005\n",
              "3    185.660004           183.429993  ...  185.850006  183.940002\n",
              "4    183.429993           183.509995  ...  186.669998  183.289993\n",
              "5    183.509995           181.570007  ...  184.460007  182.539993\n",
              "6    181.570007           181.809998  ...  186.500000  181.100006\n",
              "7    181.809998           181.399994  ...  181.990005  176.600006\n",
              "8    181.399994           183.250000  ...  184.149994  180.380005\n",
              "9    183.250000           182.830002  ...  184.270004  180.410004\n",
              "10   182.830002           184.910004  ...  183.000000  181.460007\n",
              "\n",
              "[10 rows x 8 columns]"
            ]
          },
          "metadata": {
            "tags": []
          },
          "execution_count": 39
        }
      ]
    },
    {
      "cell_type": "code",
      "metadata": {
        "colab": {
          "base_uri": "https://localhost:8080/"
        },
        "id": "vJiIlELfjNv0",
        "outputId": "44b21054-a8da-4aae-ba85-d2357c032205"
      },
      "source": [
        "\n",
        "#close price shifted set as the target var\n",
        "y = data['close_price_shifted']\n",
        "y"
      ],
      "execution_count": null,
      "outputs": [
        {
          "output_type": "execute_result",
          "data": {
            "text/plain": [
              "1      183.630005\n",
              "2      185.660004\n",
              "3      183.429993\n",
              "4      183.509995\n",
              "5      181.570007\n",
              "          ...    \n",
              "246    247.179993\n",
              "247    246.229996\n",
              "248    239.000000\n",
              "249    243.029999\n",
              "250    248.149994\n",
              "Name: close_price_shifted, Length: 250, dtype: float64"
            ]
          },
          "metadata": {
            "tags": []
          },
          "execution_count": 40
        }
      ]
    },
    {
      "cell_type": "code",
      "metadata": {
        "id": "nrotcu8ArrsI",
        "colab": {
          "base_uri": "https://localhost:8080/",
          "height": 391
        },
        "outputId": "8e6a57c2-dcbd-45ec-fbb9-95b25865c730"
      },
      "source": [
        "plt.figure(figsize=(10, 6))\n",
        "stock_data['Close'].plot()\n",
        "plt.ylabel('Close')"
      ],
      "execution_count": null,
      "outputs": [
        {
          "output_type": "execute_result",
          "data": {
            "text/plain": [
              "Text(0, 0.5, 'Close')"
            ]
          },
          "metadata": {
            "tags": []
          },
          "execution_count": 78
        },
        {
          "output_type": "display_data",
          "data": {
            "image/png": "[encoded data removed]",
            "text/plain": [
              "<Figure size 720x432 with 1 Axes>"
            ]
          },
          "metadata": {
            "tags": [],
            "needs_background": "light"
          }
        }
      ]
    },
    {
      "cell_type": "code",
      "metadata": {
        "id": "BsMdjdWzMh19"
      },
      "source": [
        "\n"
      ],
      "execution_count": null,
      "outputs": []
    },
    {
      "cell_type": "code",
      "metadata": {
        "colab": {
          "base_uri": "https://localhost:8080/",
          "height": 516
        },
        "id": "daevgkz3cllF",
        "outputId": "ff708a15-918a-4ba3-df51-0e4a4b93fcb4"
      },
      "source": [
        "close = stock_data['Close']\n",
        "#Plotting returns\n",
        "returns = close / close.shift(1) - 1\n",
        "\n",
        "plt.figure(figsize = (14,8))\n",
        "returns.plot(label='Return', color = 'g')\n",
        "plt.title(\"Returns\")\n"
      ],
      "execution_count": null,
      "outputs": [
        {
          "output_type": "execute_result",
          "data": {
            "text/plain": [
              "Text(0.5, 1.0, 'Returns')"
            ]
          },
          "metadata": {
            "tags": []
          },
          "execution_count": 83
        },
        {
          "output_type": "display_data",
          "data": {
            "image/png": "[encoded data removed]",
            "text/plain": [
              "<Figure size 1008x576 with 1 Axes>"
            ]
          },
          "metadata": {
            "tags": [],
            "needs_background": "light"
          }
        }
      ]
    },
    {
      "cell_type": "code",
      "metadata": {
        "colab": {
          "base_uri": "https://localhost:8080/",
          "height": 405
        },
        "id": "yzXmQbG2jTDK",
        "outputId": "e532cc78-a284-4d57-e8bc-c19adc18db39"
      },
      "source": [
        "\n",
        "# setting the features dataset for prediction  \n",
        "cols = ['close_price', 'compound', 'compound_shifted', 'volume', 'open_price', 'high', 'low']\n",
        "x = data[cols]\n",
        "x"
      ],
      "execution_count": null,
      "outputs": [
        {
          "output_type": "execute_result",
          "data": {
            "text/html": [
              "<div>\n",
              "<style scoped>\n",
              "    .dataframe tbody tr th:only-of-type {\n",
              "        vertical-align: middle;\n",
              "    }\n",
              "\n",
              "    .dataframe tbody tr th {\n",
              "        vertical-align: top;\n",
              "    }\n",
              "\n",
              "    .dataframe thead th {\n",
              "        text-align: right;\n",
              "    }\n",
              "</style>\n",
              "<table border=\"1\" class=\"dataframe\">\n",
              "  <thead>\n",
              "    <tr style=\"text-align: right;\">\n",
              "      <th></th>\n",
              "      <th>close_price</th>\n",
              "      <th>compound</th>\n",
              "      <th>compound_shifted</th>\n",
              "      <th>volume</th>\n",
              "      <th>open_price</th>\n",
              "      <th>high</th>\n",
              "      <th>low</th>\n",
              "    </tr>\n",
              "  </thead>\n",
              "  <tbody>\n",
              "    <tr>\n",
              "      <th>1</th>\n",
              "      <td>184.910004</td>\n",
              "      <td>0.0000</td>\n",
              "      <td>-0.2263</td>\n",
              "      <td>35264500.0</td>\n",
              "      <td>185.750000</td>\n",
              "      <td>186.199997</td>\n",
              "      <td>183.960007</td>\n",
              "    </tr>\n",
              "    <tr>\n",
              "      <th>2</th>\n",
              "      <td>183.630005</td>\n",
              "      <td>-0.2263</td>\n",
              "      <td>0.0000</td>\n",
              "      <td>26799100.0</td>\n",
              "      <td>185.029999</td>\n",
              "      <td>186.600006</td>\n",
              "      <td>183.490005</td>\n",
              "    </tr>\n",
              "    <tr>\n",
              "      <th>3</th>\n",
              "      <td>185.660004</td>\n",
              "      <td>0.0000</td>\n",
              "      <td>0.3818</td>\n",
              "      <td>31261300.0</td>\n",
              "      <td>184.809998</td>\n",
              "      <td>185.850006</td>\n",
              "      <td>183.940002</td>\n",
              "    </tr>\n",
              "    <tr>\n",
              "      <th>4</th>\n",
              "      <td>183.429993</td>\n",
              "      <td>0.3818</td>\n",
              "      <td>0.0000</td>\n",
              "      <td>29119500.0</td>\n",
              "      <td>185.399994</td>\n",
              "      <td>186.669998</td>\n",
              "      <td>183.289993</td>\n",
              "    </tr>\n",
              "    <tr>\n",
              "      <th>5</th>\n",
              "      <td>183.509995</td>\n",
              "      <td>0.0000</td>\n",
              "      <td>0.0000</td>\n",
              "      <td>20826900.0</td>\n",
              "      <td>183.190002</td>\n",
              "      <td>184.460007</td>\n",
              "      <td>182.539993</td>\n",
              "    </tr>\n",
              "    <tr>\n",
              "      <th>...</th>\n",
              "      <td>...</td>\n",
              "      <td>...</td>\n",
              "      <td>...</td>\n",
              "      <td>...</td>\n",
              "      <td>...</td>\n",
              "      <td>...</td>\n",
              "      <td>...</td>\n",
              "    </tr>\n",
              "    <tr>\n",
              "      <th>246</th>\n",
              "      <td>252.460007</td>\n",
              "      <td>-0.3400</td>\n",
              "      <td>0.0000</td>\n",
              "      <td>27010100.0</td>\n",
              "      <td>252.149994</td>\n",
              "      <td>254.300003</td>\n",
              "      <td>251.169998</td>\n",
              "    </tr>\n",
              "    <tr>\n",
              "      <th>247</th>\n",
              "      <td>247.179993</td>\n",
              "      <td>0.0000</td>\n",
              "      <td>0.3400</td>\n",
              "      <td>29299900.0</td>\n",
              "      <td>250.869995</td>\n",
              "      <td>251.729996</td>\n",
              "      <td>247.119995</td>\n",
              "    </tr>\n",
              "    <tr>\n",
              "      <th>248</th>\n",
              "      <td>246.229996</td>\n",
              "      <td>0.3400</td>\n",
              "      <td>0.0000</td>\n",
              "      <td>33641600.0</td>\n",
              "      <td>244.550003</td>\n",
              "      <td>246.600006</td>\n",
              "      <td>242.570007</td>\n",
              "    </tr>\n",
              "    <tr>\n",
              "      <th>249</th>\n",
              "      <td>239.000000</td>\n",
              "      <td>0.0000</td>\n",
              "      <td>0.0000</td>\n",
              "      <td>36684400.0</td>\n",
              "      <td>242.169998</td>\n",
              "      <td>244.380005</td>\n",
              "      <td>238.070007</td>\n",
              "    </tr>\n",
              "    <tr>\n",
              "      <th>250</th>\n",
              "      <td>243.029999</td>\n",
              "      <td>0.0000</td>\n",
              "      <td>0.0000</td>\n",
              "      <td>29624300.0</td>\n",
              "      <td>241.800003</td>\n",
              "      <td>245.600006</td>\n",
              "      <td>241.419998</td>\n",
              "    </tr>\n",
              "  </tbody>\n",
              "</table>\n",
              "<p>250 rows × 7 columns</p>\n",
              "</div>"
            ],
            "text/plain": [
              "     close_price  compound  ...        high         low\n",
              "1     184.910004    0.0000  ...  186.199997  183.960007\n",
              "2     183.630005   -0.2263  ...  186.600006  183.490005\n",
              "3     185.660004    0.0000  ...  185.850006  183.940002\n",
              "4     183.429993    0.3818  ...  186.669998  183.289993\n",
              "5     183.509995    0.0000  ...  184.460007  182.539993\n",
              "..           ...       ...  ...         ...         ...\n",
              "246   252.460007   -0.3400  ...  254.300003  251.169998\n",
              "247   247.179993    0.0000  ...  251.729996  247.119995\n",
              "248   246.229996    0.3400  ...  246.600006  242.570007\n",
              "249   239.000000    0.0000  ...  244.380005  238.070007\n",
              "250   243.029999    0.0000  ...  245.600006  241.419998\n",
              "\n",
              "[250 rows x 7 columns]"
            ]
          },
          "metadata": {
            "tags": []
          },
          "execution_count": 48
        }
      ]
    },
    {
      "cell_type": "code",
      "metadata": {
        "colab": {
          "base_uri": "https://localhost:8080/"
        },
        "id": "1l_MGRW7jZvW",
        "outputId": "e07708f2-547c-4846-9fd1-93cf8bd1e1bc"
      },
      "source": [
        "\n",
        "# scaling the feature dataset\n",
        "import math\n",
        "scaler_x = preprocessing.MinMaxScaler (feature_range=(-1, 1))\n",
        "x = np.array(x).reshape((len(x) ,len(cols)))\n",
        "x = scaler_x.fit_transform(x)\n",
        "\n",
        "# scaling the target variable\n",
        "scaler_y = preprocessing.MinMaxScaler (feature_range=(-1, 1))\n",
        "y = np.array (y).reshape ((len( y), 1))\n",
        "y = scaler_y.fit_transform (y)\n",
        "\n",
        "# displaying the scaled feature dataset and the target variable\n",
        "abs(x), abs(y)"
      ],
      "execution_count": null,
      "outputs": [
        {
          "output_type": "execute_result",
          "data": {
            "text/plain": [
              "(array([[0.91287055, 0.01966627, 0.28939213, ..., 0.86373674, 0.89630561,\n",
              "         0.82386023],\n",
              "        [0.94464414, 0.28939213, 0.01966627, ..., 0.88141415, 0.88645317,\n",
              "         0.83510833],\n",
              "        [0.89425321, 0.01966627, 0.43539928, ..., 0.8868156 , 0.90492608,\n",
              "         0.82433899],\n",
              "        ...,\n",
              "        [0.60928376, 0.38557807, 0.01966627, ..., 0.57991653, 0.59137939,\n",
              "         0.57879611],\n",
              "        [0.42981261, 0.01966627, 0.01966627, ..., 0.52148283, 0.53669956,\n",
              "         0.47110197],\n",
              "        [0.52984981, 0.01966627, 0.01966627, ..., 0.51239874, 0.56674885,\n",
              "         0.55127406]]), array([[9.44644140e-01],\n",
              "        [8.94253205e-01],\n",
              "        [9.49609065e-01],\n",
              "        [9.47623165e-01],\n",
              "        [9.95779745e-01],\n",
              "        [9.89822416e-01],\n",
              "        [1.00000000e+00],\n",
              "        [9.54077055e-01],\n",
              "        [9.64502721e-01],\n",
              "        [9.12870555e-01],\n",
              "        [9.01700220e-01],\n",
              "        [9.62268739e-01],\n",
              "        [8.56025754e-01],\n",
              "        [8.27230821e-01],\n",
              "        [7.91485459e-01],\n",
              "        [6.16730777e-01],\n",
              "        [8.79111094e-01],\n",
              "        [8.42621064e-01],\n",
              "        [8.12833379e-01],\n",
              "        [6.97902149e-01],\n",
              "        [6.81270699e-01],\n",
              "        [6.29638533e-01],\n",
              "        [6.58681921e-01],\n",
              "        [5.24140218e-01],\n",
              "        [4.90877294e-01],\n",
              "        [5.91907644e-01],\n",
              "        [5.29849811e-01],\n",
              "        [6.29390426e-01],\n",
              "        [5.77013615e-01],\n",
              "        [4.51160504e-01],\n",
              "        [4.21620927e-01],\n",
              "        [3.82896889e-01],\n",
              "        [2.72682128e-01],\n",
              "        [3.33498730e-01],\n",
              "        [2.19808731e-01],\n",
              "        [1.82822139e-01],\n",
              "        [1.98957399e-01],\n",
              "        [3.62789853e-01],\n",
              "        [3.31016268e-01],\n",
              "        [3.38711762e-01],\n",
              "        [4.40982945e-01],\n",
              "        [4.66798830e-01],\n",
              "        [2.50341085e-01],\n",
              "        [3.21087163e-01],\n",
              "        [2.46617764e-01],\n",
              "        [4.75238993e-01],\n",
              "        [5.06019430e-01],\n",
              "        [4.42720366e-01],\n",
              "        [4.88146749e-01],\n",
              "        [4.37507707e-01],\n",
              "        [4.41479507e-01],\n",
              "        [4.13925805e-01],\n",
              "        [1.27715131e-01],\n",
              "        [2.08390313e-01],\n",
              "        [2.17078186e-01],\n",
              "        [1.32431204e-01],\n",
              "        [2.28496977e-01],\n",
              "        [3.33498730e-01],\n",
              "        [4.54387263e-01],\n",
              "        [3.10164935e-01],\n",
              "        [3.22328394e-01],\n",
              "        [3.17363842e-01],\n",
              "        [2.83107795e-01],\n",
              "        [2.53071655e-01],\n",
              "        [2.97505261e-01],\n",
              "        [1.76368248e-01],\n",
              "        [2.15092286e-01],\n",
              "        [1.98460837e-01],\n",
              "        [1.29452552e-01],\n",
              "        [1.32804630e-02],\n",
              "        [1.21509348e-01],\n",
              "        [1.79347297e-01],\n",
              "        [9.54449836e-02],\n",
              "        [1.38637359e-01],\n",
              "        [2.47362434e-01],\n",
              "        [1.08849302e-01],\n",
              "        [1.84559932e-01],\n",
              "        [4.72259944e-01],\n",
              "        [2.58036579e-01],\n",
              "        [4.04989477e-01],\n",
              "        [4.38252376e-01],\n",
              "        [4.03996328e-01],\n",
              "        [3.20342494e-01],\n",
              "        [4.12932681e-01],\n",
              "        [4.66054161e-01],\n",
              "        [5.28608580e-01],\n",
              "        [4.75238993e-01],\n",
              "        [3.54101980e-01],\n",
              "        [5.23644028e-01],\n",
              "        [4.59103733e-01],\n",
              "        [3.44172503e-01],\n",
              "        [3.03959152e-01],\n",
              "        [3.58073756e-01],\n",
              "        [2.81866564e-01],\n",
              "        [2.28993166e-01],\n",
              "        [3.84634334e-01],\n",
              "        [2.80625332e-01],\n",
              "        [3.91584762e-01],\n",
              "        [2.94278130e-01],\n",
              "        [2.75660780e-01],\n",
              "        [1.45835894e-01],\n",
              "        [7.07467979e-03],\n",
              "        [2.91672682e-02],\n",
              "        [2.04789978e-02],\n",
              "        [5.02666830e-02],\n",
              "        [5.02666830e-02],\n",
              "        [1.85304601e-01],\n",
              "        [1.74630828e-01],\n",
              "        [1.70907134e-01],\n",
              "        [1.68673152e-01],\n",
              "        [1.35410228e-01],\n",
              "        [2.88072347e-01],\n",
              "        [2.09383065e-01],\n",
              "        [4.71763754e-01],\n",
              "        [4.21124365e-01],\n",
              "        [4.76976414e-01],\n",
              "        [4.80451628e-01],\n",
              "        [3.78677006e-01],\n",
              "        [1.31438452e-01],\n",
              "        [3.98410168e-02],\n",
              "        [5.05151625e-02],\n",
              "        [8.17921860e-02],\n",
              "        [2.64987007e-01],\n",
              "        [1.27466651e-01],\n",
              "        [1.55020354e-01],\n",
              "        [1.28459775e-01],\n",
              "        [1.10587095e-01],\n",
              "        [1.79346900e-01],\n",
              "        [2.63249214e-01],\n",
              "        [2.29986315e-01],\n",
              "        [2.80377250e-01],\n",
              "        [2.87327678e-01],\n",
              "        [1.94240929e-01],\n",
              "        [1.93992846e-01],\n",
              "        [1.60233361e-01],\n",
              "        [1.89027922e-01],\n",
              "        [1.35906417e-01],\n",
              "        [1.56758147e-01],\n",
              "        [1.84808039e-01],\n",
              "        [1.81829362e-01],\n",
              "        [1.83567180e-01],\n",
              "        [1.40871342e-01],\n",
              "        [2.45376533e-01],\n",
              "        [2.77150119e-01],\n",
              "        [2.09134958e-01],\n",
              "        [1.85801163e-01],\n",
              "        [1.87538584e-01],\n",
              "        [5.96995976e-02],\n",
              "        [5.62243838e-02],\n",
              "        [7.68276339e-02],\n",
              "        [2.24648981e-02],\n",
              "        [5.59762766e-02],\n",
              "        [1.65072221e-02],\n",
              "        [2.64366987e-02],\n",
              "        [8.12959964e-02],\n",
              "        [6.11889360e-02],\n",
              "        [1.24227369e-04],\n",
              "        [1.82450152e-02],\n",
              "        [9.91683047e-02],\n",
              "        [9.39556453e-02],\n",
              "        [2.34206198e-01],\n",
              "        [8.42746483e-02],\n",
              "        [5.12598317e-02],\n",
              "        [1.04132857e-01],\n",
              "        [1.67680375e-01],\n",
              "        [1.32679683e-01],\n",
              "        [2.15092286e-01],\n",
              "        [2.24277094e-01],\n",
              "        [1.30197221e-01],\n",
              "        [6.59053809e-02],\n",
              "        [8.15440788e-02],\n",
              "        [1.05870650e-01],\n",
              "        [1.94737516e-01],\n",
              "        [2.64242363e-01],\n",
              "        [2.78391350e-01],\n",
              "        [4.28074817e-01],\n",
              "        [2.55057927e-01],\n",
              "        [4.45947498e-01],\n",
              "        [4.42472284e-01],\n",
              "        [5.29105142e-01],\n",
              "        [5.04530116e-01],\n",
              "        [5.09246561e-01],\n",
              "        [5.15948906e-01],\n",
              "        [5.48219054e-01],\n",
              "        [5.24637152e-01],\n",
              "        [5.66091734e-01],\n",
              "        [5.78503301e-01],\n",
              "        [5.46481261e-01],\n",
              "        [5.58892827e-01],\n",
              "        [5.48715243e-01],\n",
              "        [4.78714207e-01],\n",
              "        [3.18356619e-01],\n",
              "        [2.87576157e-01],\n",
              "        [3.19349743e-01],\n",
              "        [1.81333173e-01],\n",
              "        [2.65483594e-01],\n",
              "        [3.78677006e-01],\n",
              "        [3.02469814e-01],\n",
              "        [1.45835919e-01],\n",
              "        [1.25232669e-01],\n",
              "        [2.46121575e-01],\n",
              "        [1.41616011e-01],\n",
              "        [3.00235831e-01],\n",
              "        [2.66476345e-01],\n",
              "        [3.83393475e-01],\n",
              "        [3.49137428e-01],\n",
              "        [3.25803633e-01],\n",
              "        [3.97790942e-01],\n",
              "        [3.81159096e-01],\n",
              "        [2.24277094e-01],\n",
              "        [2.15092658e-01],\n",
              "        [3.55095104e-01],\n",
              "        [3.94563811e-01],\n",
              "        [3.41938893e-01],\n",
              "        [2.64490445e-01],\n",
              "        [3.67258216e-01],\n",
              "        [3.36477754e-01],\n",
              "        [2.52327358e-01],\n",
              "        [3.49633990e-01],\n",
              "        [5.12970255e-01],\n",
              "        [6.79781733e-01],\n",
              "        [6.49745593e-01],\n",
              "        [7.00384611e-01],\n",
              "        [7.83542255e-01],\n",
              "        [8.48082550e-01],\n",
              "        [8.49571888e-01],\n",
              "        [9.13615224e-01],\n",
              "        [8.41628287e-01],\n",
              "        [9.38686837e-01],\n",
              "        [9.69467273e-01],\n",
              "        [9.19821007e-01],\n",
              "        [9.07906400e-01],\n",
              "        [9.65495498e-01],\n",
              "        [8.80849259e-01],\n",
              "        [9.79644857e-01],\n",
              "        [9.89573961e-01],\n",
              "        [1.00000000e+00],\n",
              "        [8.16060510e-01],\n",
              "        [7.65173013e-01],\n",
              "        [7.56981329e-01],\n",
              "        [7.49038125e-01],\n",
              "        [6.48007775e-01],\n",
              "        [6.15241438e-01],\n",
              "        [6.96164728e-01],\n",
              "        [7.63932154e-01],\n",
              "        [6.32865664e-01],\n",
              "        [6.09283762e-01],\n",
              "        [4.29812610e-01],\n",
              "        [5.29849811e-01],\n",
              "        [6.56944128e-01]]))"
            ]
          },
          "metadata": {
            "tags": []
          },
          "execution_count": 49
        }
      ]
    },
    {
      "cell_type": "code",
      "metadata": {
        "colab": {
          "base_uri": "https://localhost:8080/"
        },
        "id": "afObTuYIjha8",
        "outputId": "60a42323-1004-4c70-d018-0943976f3fb0"
      },
      "source": [
        "# preparing training and test dataset\n",
        "X_train = x[0 : train_end,]\n",
        "X_test = x[train_end+1 : len(x),]    \n",
        "y_train = y[0 : train_end] \n",
        "y_test = y[train_end+1 : len(y)]  \n",
        "\n",
        "# printing the shape of the training and the test datasets\n",
        "print('Number of rows and columns in Training set X:', X_train.shape, 'and y:', y_train.shape)\n",
        "print('Number of rows and columns in Test set X:', X_test.shape, 'and y:', y_test.shape)"
      ],
      "execution_count": null,
      "outputs": [
        {
          "output_type": "stream",
          "text": [
            "Number of rows and columns in Training set X: (200, 7) and y: (200, 1)\n",
            "Number of rows and columns in Test set X: (49, 7) and y: (49, 1)\n"
          ],
          "name": "stdout"
        }
      ]
    },
    {
      "cell_type": "code",
      "metadata": {
        "colab": {
          "base_uri": "https://localhost:8080/"
        },
        "id": "x0iSFn_Tjn9l",
        "outputId": "ed6c55dc-a859-4ef7-9593-10ddee2aa033"
      },
      "source": [
        "#reshaping dataset\n",
        "\n",
        "print('Shape of Training set X:', X_train.shape)\n",
        "print('Shape of Test set X:', X_test.shape)"
      ],
      "execution_count": null,
      "outputs": [
        {
          "output_type": "stream",
          "text": [
            "Shape of Training set X: (200, 7)\n",
            "Shape of Test set X: (49, 7)\n"
          ],
          "name": "stdout"
        }
      ]
    },
    {
      "cell_type": "code",
      "metadata": {
        "colab": {
          "base_uri": "https://localhost:8080/"
        },
        "id": "EsW9sobSj4LS",
        "outputId": "b9357788-6218-4a99-b081-4003fe91996c"
      },
      "source": [
        "X_train.shape, y_train.shape, X_test.shape, y_test.shape"
      ],
      "execution_count": null,
      "outputs": [
        {
          "output_type": "execute_result",
          "data": {
            "text/plain": [
              "((200, 7), (200, 1), (49, 7), (49, 1))"
            ]
          },
          "metadata": {
            "tags": []
          },
          "execution_count": 52
        }
      ]
    },
    {
      "cell_type": "code",
      "metadata": {
        "id": "um17ohYdlnKk"
      },
      "source": [
        "# Fitting Random Forest Regression to the dataset\n",
        "# import the regressor\n",
        "from sklearn.ensemble import RandomForestRegressor\n",
        "\n",
        "# create regressor object\n",
        "\n",
        "\n",
        "\n"
      ],
      "execution_count": null,
      "outputs": []
    },
    {
      "cell_type": "code",
      "metadata": {
        "id": "7UrXSAOclm9p"
      },
      "source": [
        ""
      ],
      "execution_count": null,
      "outputs": []
    },
    {
      "cell_type": "code",
      "metadata": {
        "id": "NqtUSPSql8_E"
      },
      "source": [
        "rg = RandomForestRegressor(random_state = 42, n_estimators = 500, criterion='mse', max_depth = 30, min_samples_leaf=2, min_samples_split=5, n_jobs=1)"
      ],
      "execution_count": null,
      "outputs": []
    },
    {
      "cell_type": "code",
      "metadata": {
        "id": "3i3WrRSE1piI"
      },
      "source": [
        "from sklearn.multioutput import RegressorChain"
      ],
      "execution_count": null,
      "outputs": []
    },
    {
      "cell_type": "code",
      "metadata": {
        "colab": {
          "base_uri": "https://localhost:8080/"
        },
        "id": "TM7ZMNK1wLti",
        "outputId": "26d64804-f664-461a-a086-a8193b509867"
      },
      "source": [
        "model = RegressorChain(rg)\n",
        "model.fit(X_train, y_train)"
      ],
      "execution_count": null,
      "outputs": [
        {
          "output_type": "execute_result",
          "data": {
            "text/plain": [
              "RegressorChain(base_estimator=RandomForestRegressor(bootstrap=True,\n",
              "                                                    ccp_alpha=0.0,\n",
              "                                                    criterion='mse',\n",
              "                                                    max_depth=30,\n",
              "                                                    max_features='auto',\n",
              "                                                    max_leaf_nodes=None,\n",
              "                                                    max_samples=None,\n",
              "                                                    min_impurity_decrease=0.0,\n",
              "                                                    min_impurity_split=None,\n",
              "                                                    min_samples_leaf=2,\n",
              "                                                    min_samples_split=5,\n",
              "                                                    min_weight_fraction_leaf=0.0,\n",
              "                                                    n_estimators=500, n_jobs=1,\n",
              "                                                    oob_score=False,\n",
              "                                                    random_state=42, verbose=0,\n",
              "                                                    warm_start=False),\n",
              "               cv=None, order=None, random_state=None)"
            ]
          },
          "metadata": {
            "tags": []
          },
          "execution_count": 56
        }
      ]
    },
    {
      "cell_type": "code",
      "metadata": {
        "id": "hRXZS0qaracm"
      },
      "source": [
        ""
      ],
      "execution_count": null,
      "outputs": []
    },
    {
      "cell_type": "code",
      "metadata": {
        "colab": {
          "base_uri": "https://localhost:8080/"
        },
        "id": "VMdtdNdg1t6E",
        "outputId": "35a07f1a-bfa8-4f3f-a0ff-e45328c0a8cc"
      },
      "source": [
        "pred = model.predict(X_test)\n",
        "pred"
      ],
      "execution_count": null,
      "outputs": [
        {
          "output_type": "execute_result",
          "data": {
            "text/plain": [
              "array([[0.14383137],\n",
              "       [0.19593093],\n",
              "       [0.29189298],\n",
              "       [0.29808083],\n",
              "       [0.33726403],\n",
              "       [0.25931796],\n",
              "       [0.26395174],\n",
              "       [0.34448044],\n",
              "       [0.33851483],\n",
              "       [0.27709485],\n",
              "       [0.21478944],\n",
              "       [0.28610761],\n",
              "       [0.36880655],\n",
              "       [0.34764508],\n",
              "       [0.30205534],\n",
              "       [0.27829795],\n",
              "       [0.27212514],\n",
              "       [0.23974276],\n",
              "       [0.35554397],\n",
              "       [0.47410632],\n",
              "       [0.52761842],\n",
              "       [0.54919269],\n",
              "       [0.55157744],\n",
              "       [0.55642008],\n",
              "       [0.55507069],\n",
              "       [0.55040895],\n",
              "       [0.54984954],\n",
              "       [0.55429631],\n",
              "       [0.54876824],\n",
              "       [0.55201654],\n",
              "       [0.55112347],\n",
              "       [0.55674828],\n",
              "       [0.55514615],\n",
              "       [0.55414032],\n",
              "       [0.5573438 ],\n",
              "       [0.5546245 ],\n",
              "       [0.54427667],\n",
              "       [0.54654685],\n",
              "       [0.5454638 ],\n",
              "       [0.54922443],\n",
              "       [0.55674828],\n",
              "       [0.5492999 ],\n",
              "       [0.55672689],\n",
              "       [0.55096216],\n",
              "       [0.55245758],\n",
              "       [0.55040895],\n",
              "       [0.54427667],\n",
              "       [0.38828724],\n",
              "       [0.52777452]])"
            ]
          },
          "metadata": {
            "tags": []
          },
          "execution_count": 57
        }
      ]
    },
    {
      "cell_type": "code",
      "metadata": {
        "id": "KfnbZlQB2OOZ"
      },
      "source": [
        "\n",
        "from sklearn.metrics import mean_squared_error"
      ],
      "execution_count": null,
      "outputs": []
    },
    {
      "cell_type": "code",
      "metadata": {
        "id": "HyyAYKjHt2OP",
        "colab": {
          "base_uri": "https://localhost:8080/"
        },
        "outputId": "0d8a209d-e619-49fd-d747-241f886e53f7"
      },
      "source": [
        "rf = RandomForestRegressor()\n",
        "rf.fit(X_train, y_train)\n",
        "prediction=rf.predict(X_test)\n",
        "print(prediction[:10])\n",
        "print(y_test[:10])\n",
        "print(mean_squared_error(pred,y_test))"
      ],
      "execution_count": null,
      "outputs": [
        {
          "output_type": "stream",
          "text": [
            "[0.10030541 0.18698525 0.28515086 0.29892518 0.33859254 0.24426714\n",
            " 0.24856653 0.37115304 0.34889163 0.25677053]\n",
            "[[0.14161601]\n",
            " [0.30023583]\n",
            " [0.26647635]\n",
            " [0.38339348]\n",
            " [0.34913743]\n",
            " [0.32580363]\n",
            " [0.39779094]\n",
            " [0.3811591 ]\n",
            " [0.22427709]\n",
            " [0.21509266]]\n",
            "0.0497245950188302\n"
          ],
          "name": "stdout"
        }
      ]
    },
    {
      "cell_type": "code",
      "metadata": {
        "id": "8SZ2xYsX8T5G"
      },
      "source": [
        "from sklearn.ensemble import AdaBoostRegressor\n"
      ],
      "execution_count": null,
      "outputs": []
    },
    {
      "cell_type": "code",
      "metadata": {
        "id": "L6f6X8yDt9-D",
        "colab": {
          "base_uri": "https://localhost:8080/"
        },
        "outputId": "22ad47db-8275-462a-c783-14a6ecef8f9c"
      },
      "source": [
        "adb = AdaBoostRegressor()\n",
        "adb.fit(X_train, y_train)\n",
        "predictions = adb.predict(X_test)\n",
        "print(mean_squared_error(predictions, y_test))"
      ],
      "execution_count": null,
      "outputs": [
        {
          "output_type": "stream",
          "text": [
            "0.07420398275083101\n"
          ],
          "name": "stdout"
        }
      ]
    },
    {
      "cell_type": "code",
      "metadata": {
        "id": "9y1anRxguGHb",
        "colab": {
          "base_uri": "https://localhost:8080/"
        },
        "outputId": "1db24dd8-e385-4fa0-cdbe-48ccbee482c4"
      },
      "source": [
        "from sklearn.tree import DecisionTreeRegressor\n",
        "dec_tree = DecisionTreeRegressor()\n",
        "dec_tree.fit(X_train, y_train)\n",
        "predictions = dec_tree.predict(X_test)\n",
        "print(predictions[:10])\n",
        "print(y_test[:10])\n",
        "print(mean_squared_error(predictions,y_test))"
      ],
      "execution_count": null,
      "outputs": [
        {
          "output_type": "stream",
          "text": [
            "[0.12523267 0.26548359 0.31934974 0.31934974 0.25505793 0.18133317\n",
            " 0.18133317 0.52910514 0.52910514 0.26548359]\n",
            "[[0.14161601]\n",
            " [0.30023583]\n",
            " [0.26647635]\n",
            " [0.38339348]\n",
            " [0.34913743]\n",
            " [0.32580363]\n",
            " [0.39779094]\n",
            " [0.3811591 ]\n",
            " [0.22427709]\n",
            " [0.21509266]]\n",
            "0.05322923035879702\n"
          ],
          "name": "stdout"
        }
      ]
    },
    {
      "cell_type": "code",
      "metadata": {
        "id": "21b3Lf-zuSUx"
      },
      "source": [
        ""
      ],
      "execution_count": null,
      "outputs": []
    },
    {
      "cell_type": "code",
      "metadata": {
        "id": "N17wRoewuTpt"
      },
      "source": [
        ""
      ],
      "execution_count": null,
      "outputs": []
    },
    {
      "cell_type": "markdown",
      "metadata": {
        "id": "ZhlRctbw4mIc"
      },
      "source": [
        ""
      ]
    }
  ]
}