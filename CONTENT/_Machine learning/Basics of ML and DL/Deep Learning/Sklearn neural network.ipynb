{
 "cells": [
  {
   "cell_type": "code",
   "execution_count": 1,
   "metadata": {},
   "outputs": [],
   "source": [
    "from sklearn import datasets\n",
    "from sklearn.model_selection import train_test_split"
   ]
  },
  {
   "cell_type": "code",
   "execution_count": 2,
   "metadata": {},
   "outputs": [],
   "source": [
    "iris = datasets.load_iris()"
   ]
  },
  {
   "cell_type": "code",
   "execution_count": 3,
   "metadata": {},
   "outputs": [],
   "source": [
    "x = iris.data\n",
    "y = iris.target"
   ]
  },
  {
   "cell_type": "code",
   "execution_count": 4,
   "metadata": {},
   "outputs": [],
   "source": [
    "x_train , x_test , y_train , y_test = train_test_split(x,y , random_state=1) "
   ]
  },
  {
   "cell_type": "code",
   "execution_count": 5,
   "metadata": {},
   "outputs": [],
   "source": [
    "# multi layer perceptron classifer\n",
    "# dont use it in projects, bcos it is not that good\n",
    "\n",
    "from sklearn.neural_network import MLPClassifier\n",
    "clf = MLPClassifier(hidden_layer_sizes=(20) , activation='logistic' , solver='adam' ,max_iter=3000)"
   ]
  },
  {
   "cell_type": "code",
   "execution_count": 6,
   "metadata": {},
   "outputs": [
    {
     "data": {
      "text/plain": [
       "MLPClassifier(activation='logistic', hidden_layer_sizes=20, max_iter=3000)"
      ]
     },
     "execution_count": 6,
     "metadata": {},
     "output_type": "execute_result"
    }
   ],
   "source": [
    "clf.fit(x_train , y_train)"
   ]
  },
  {
   "cell_type": "code",
   "execution_count": 7,
   "metadata": {},
   "outputs": [
    {
     "data": {
      "text/plain": [
       "1.0"
      ]
     },
     "execution_count": 7,
     "metadata": {},
     "output_type": "execute_result"
    }
   ],
   "source": [
    "clf.score(x_test , y_test)"
   ]
  },
  {
   "cell_type": "code",
   "execution_count": 11,
   "metadata": {},
   "outputs": [
    {
     "data": {
      "text/plain": [
       "[array([[-0.15835522, -0.63883192, -0.1221901 ,  0.1031684 ,  0.03841905,\n",
       "          0.36624433, -0.30947425, -0.00267503,  0.02743468, -1.053947  ,\n",
       "         -0.2136366 ,  0.58645712, -0.33367679, -0.07918258,  0.35791817,\n",
       "          0.27866961,  0.74040071,  0.84586874,  0.75951631, -0.1301439 ],\n",
       "        [ 0.13934701, -0.7727267 ,  0.73322756,  0.4223462 ,  0.60181734,\n",
       "          0.46710216,  0.84461542, -0.74435516, -0.47843026,  0.11097092,\n",
       "          0.60136909,  0.49577464, -0.28011668, -0.77910626, -1.23944439,\n",
       "         -0.95496833,  0.67673226,  0.37910872,  0.53929142, -0.72891215],\n",
       "        [ 0.01638316,  1.0658879 , -0.73313898, -0.56715733, -0.82019631,\n",
       "         -1.07776905,  0.04462854,  0.60526425,  0.22944311,  1.10235036,\n",
       "         -0.39223262, -0.95572094,  0.09364671,  1.08590323,  0.67672377,\n",
       "          0.56887299, -1.24030133, -1.13494161, -1.17544841,  1.07742341],\n",
       "        [-0.54067085,  1.26919236, -0.3863759 , -0.60709235, -0.70874877,\n",
       "         -0.86523986,  0.16209396,  0.50641347,  0.78663299,  1.24759937,\n",
       "         -0.14564598, -1.13954345,  0.01147336,  0.85606925,  0.75360627,\n",
       "          0.83132894, -1.28902082, -1.07357984, -1.18653929,  1.03904117]]),\n",
       " array([[ 0.27731486,  0.09233383, -0.36561512],\n",
       "        [-0.21158798, -0.8068261 ,  0.82997374],\n",
       "        [ 0.4847121 , -0.87426728, -0.65896983],\n",
       "        [ 0.47973088, -0.41448333, -0.55936998],\n",
       "        [ 0.81728282, -1.04862597, -0.25824854],\n",
       "        [ 0.64213939, -0.63821099, -1.11098619],\n",
       "        [ 0.30294049, -1.12476015,  0.05238601],\n",
       "        [-0.7940025 , -0.29230555,  1.07705467],\n",
       "        [-0.70565414, -0.73310703,  0.78038588],\n",
       "        [-0.24892835, -1.17270058,  0.64378577],\n",
       "        [ 0.59388242, -0.46640835, -0.45970792],\n",
       "        [ 0.8782568 ,  1.06270474, -0.8997331 ],\n",
       "        [-0.13402337,  0.42404518, -0.13041724],\n",
       "        [-0.50729433,  0.88780591,  0.43687021],\n",
       "        [-1.19899882,  0.74996997,  0.72919014],\n",
       "        [-0.66478181,  0.89414153,  0.66963617],\n",
       "        [ 0.6635242 ,  1.20491036, -1.42192329],\n",
       "        [ 0.64028837,  0.81451987, -0.98993356],\n",
       "        [ 0.8973501 ,  1.48297242, -1.36699463],\n",
       "        [-0.72309307,  0.87387477,  0.14648919]])]"
      ]
     },
     "execution_count": 11,
     "metadata": {},
     "output_type": "execute_result"
    }
   ],
   "source": [
    "clf.coefs_"
   ]
  },
  {
   "cell_type": "code",
   "execution_count": 12,
   "metadata": {},
   "outputs": [
    {
     "data": {
      "text/plain": [
       "2"
      ]
     },
     "execution_count": 12,
     "metadata": {},
     "output_type": "execute_result"
    }
   ],
   "source": [
    "len(clf.coefs_)"
   ]
  },
  {
   "cell_type": "code",
   "execution_count": 15,
   "metadata": {},
   "outputs": [
    {
     "data": {
      "text/plain": [
       "(4, 20)"
      ]
     },
     "execution_count": 15,
     "metadata": {},
     "output_type": "execute_result"
    }
   ],
   "source": [
    "clf.coefs_[0].shape"
   ]
  },
  {
   "cell_type": "code",
   "execution_count": 16,
   "metadata": {},
   "outputs": [
    {
     "data": {
      "text/plain": [
       "(20, 3)"
      ]
     },
     "execution_count": 16,
     "metadata": {},
     "output_type": "execute_result"
    }
   ],
   "source": [
    "clf.coefs_[1].shape"
   ]
  },
  {
   "cell_type": "code",
   "execution_count": 10,
   "metadata": {},
   "outputs": [
    {
     "data": {
      "text/plain": [
       "[array([-0.10916582, -0.9365789 ,  0.53349661,  0.26227112,  0.33826146,\n",
       "         0.67737816,  0.03393133, -0.80464497, -0.49630651, -1.00918073,\n",
       "         0.30492628,  1.1601996 ,  0.05894306, -0.54124676, -0.5718433 ,\n",
       "        -0.60114871,  1.33968403,  0.56068309,  1.18439443, -0.42910954]),\n",
       " array([-0.01953501, -0.52682225,  0.34279531])]"
      ]
     },
     "execution_count": 10,
     "metadata": {},
     "output_type": "execute_result"
    }
   ],
   "source": [
    "clf.intercepts_"
   ]
  }
 ],
 "metadata": {
  "kernelspec": {
   "display_name": "Python 3",
   "language": "python",
   "name": "python3"
  },
  "language_info": {
   "codemirror_mode": {
    "name": "ipython",
    "version": 3
   },
   "file_extension": ".py",
   "mimetype": "text/x-python",
   "name": "python",
   "nbconvert_exporter": "python",
   "pygments_lexer": "ipython3",
   "version": "3.8.5"
  }
 },
 "nbformat": 4,
 "nbformat_minor": 4
}
